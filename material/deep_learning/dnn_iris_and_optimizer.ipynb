{
  "nbformat": 4,
  "nbformat_minor": 0,
  "metadata": {
    "colab": {
      "name": "dnn_iris_and_optimizer.ipynb",
      "provenance": [],
      "collapsed_sections": [],
      "toc_visible": true
    },
    "kernelspec": {
      "name": "python3",
      "display_name": "Python 3"
    },
    "accelerator": "GPU"
  },
  "cells": [
    {
      "cell_type": "code",
      "metadata": {
        "id": "K7bWxmgfrTxc",
        "colab_type": "code",
        "colab": {
          "base_uri": "https://localhost:8080/",
          "height": 35
        },
        "outputId": "459b2772-0c71-4ed8-d4a2-f9c6019a82a6"
      },
      "source": [
        "%tensorflow_version 1.x"
      ],
      "execution_count": 1,
      "outputs": [
        {
          "output_type": "stream",
          "text": [
            "TensorFlow 1.x selected.\n"
          ],
          "name": "stdout"
        }
      ]
    },
    {
      "cell_type": "markdown",
      "metadata": {
        "id": "sVhPQUK0Hzxq",
        "colab_type": "text"
      },
      "source": [
        "# 기반 코드\n",
        "Iris 분류 - Adam 옵티마이저\n"
      ]
    },
    {
      "cell_type": "code",
      "metadata": {
        "id": "nPqzpGCsB1BF",
        "colab_type": "code",
        "colab": {}
      },
      "source": [
        "import numpy as np\n",
        "import pandas as pd\n",
        "import matplotlib.pyplot as plt\n",
        "\n",
        "import tensorflow as tf\n",
        "\n",
        "from tensorflow import keras\n",
        "from tensorflow.keras import optimizers\n",
        "from tensorflow.keras.layers import Dense"
      ],
      "execution_count": null,
      "outputs": []
    },
    {
      "cell_type": "code",
      "metadata": {
        "id": "Sr9ALNDi_yMg",
        "colab_type": "code",
        "colab": {
          "base_uri": "https://localhost:8080/",
          "height": 222
        },
        "outputId": "add6cdc0-0920-4cee-e867-95b26099dd9b"
      },
      "source": [
        "!wget https://raw.githubusercontent.com/dhrim/hongik_2021/master/material/deep_learning/iris.csv"
      ],
      "execution_count": null,
      "outputs": [
        {
          "output_type": "stream",
          "text": [
            "--2020-06-26 06:48:10--  https://raw.githubusercontent.com/dhrim/hongik_2021/master/material/deep_learning/iris.csv\n",
            "Resolving raw.githubusercontent.com (raw.githubusercontent.com)... 151.101.0.133, 151.101.64.133, 151.101.128.133, ...\n",
            "Connecting to raw.githubusercontent.com (raw.githubusercontent.com)|151.101.0.133|:443... connected.\n",
            "HTTP request sent, awaiting response... 200 OK\n",
            "Length: 2720 (2.7K) [text/plain]\n",
            "Saving to: ‘iris.csv’\n",
            "\n",
            "\riris.csv              0%[                    ]       0  --.-KB/s               \riris.csv            100%[===================>]   2.66K  --.-KB/s    in 0s      \n",
            "\n",
            "2020-06-26 06:48:10 (41.1 MB/s) - ‘iris.csv’ saved [2720/2720]\n",
            "\n"
          ],
          "name": "stdout"
        }
      ]
    },
    {
      "cell_type": "code",
      "metadata": {
        "id": "5AzjW3DD4BEO",
        "colab_type": "code",
        "colab": {
          "base_uri": "https://localhost:8080/",
          "height": 215
        },
        "outputId": "ef3a4b44-6371-48cd-baf8-556c8770b825"
      },
      "source": [
        "iris = pd.read_csv(\"iris.csv\")\n",
        "iris.head()"
      ],
      "execution_count": null,
      "outputs": [
        {
          "output_type": "execute_result",
          "data": {
            "text/html": [
              "<div>\n",
              "<style scoped>\n",
              "    .dataframe tbody tr th:only-of-type {\n",
              "        vertical-align: middle;\n",
              "    }\n",
              "\n",
              "    .dataframe tbody tr th {\n",
              "        vertical-align: top;\n",
              "    }\n",
              "\n",
              "    .dataframe thead th {\n",
              "        text-align: right;\n",
              "    }\n",
              "</style>\n",
              "<table border=\"1\" class=\"dataframe\">\n",
              "  <thead>\n",
              "    <tr style=\"text-align: right;\">\n",
              "      <th></th>\n",
              "      <th>septal_length</th>\n",
              "      <th>septal_width</th>\n",
              "      <th>petal_length</th>\n",
              "      <th>petal_width</th>\n",
              "      <th>setosa</th>\n",
              "      <th>versicolor</th>\n",
              "      <th>virginica</th>\n",
              "    </tr>\n",
              "  </thead>\n",
              "  <tbody>\n",
              "    <tr>\n",
              "      <th>0</th>\n",
              "      <td>6.4</td>\n",
              "      <td>2.8</td>\n",
              "      <td>5.6</td>\n",
              "      <td>2.2</td>\n",
              "      <td>0</td>\n",
              "      <td>0</td>\n",
              "      <td>1</td>\n",
              "    </tr>\n",
              "    <tr>\n",
              "      <th>1</th>\n",
              "      <td>5.0</td>\n",
              "      <td>2.3</td>\n",
              "      <td>3.3</td>\n",
              "      <td>1.0</td>\n",
              "      <td>0</td>\n",
              "      <td>1</td>\n",
              "      <td>0</td>\n",
              "    </tr>\n",
              "    <tr>\n",
              "      <th>2</th>\n",
              "      <td>4.9</td>\n",
              "      <td>2.5</td>\n",
              "      <td>4.5</td>\n",
              "      <td>1.7</td>\n",
              "      <td>0</td>\n",
              "      <td>0</td>\n",
              "      <td>1</td>\n",
              "    </tr>\n",
              "    <tr>\n",
              "      <th>3</th>\n",
              "      <td>4.9</td>\n",
              "      <td>3.1</td>\n",
              "      <td>1.5</td>\n",
              "      <td>0.1</td>\n",
              "      <td>1</td>\n",
              "      <td>0</td>\n",
              "      <td>0</td>\n",
              "    </tr>\n",
              "    <tr>\n",
              "      <th>4</th>\n",
              "      <td>5.7</td>\n",
              "      <td>3.8</td>\n",
              "      <td>1.7</td>\n",
              "      <td>0.3</td>\n",
              "      <td>1</td>\n",
              "      <td>0</td>\n",
              "      <td>0</td>\n",
              "    </tr>\n",
              "  </tbody>\n",
              "</table>\n",
              "</div>"
            ],
            "text/plain": [
              "   septal_length  septal_width  petal_length  ...  setosa  versicolor  virginica\n",
              "0            6.4           2.8           5.6  ...       0           0          1\n",
              "1            5.0           2.3           3.3  ...       0           1          0\n",
              "2            4.9           2.5           4.5  ...       0           0          1\n",
              "3            4.9           3.1           1.5  ...       1           0          0\n",
              "4            5.7           3.8           1.7  ...       1           0          0\n",
              "\n",
              "[5 rows x 7 columns]"
            ]
          },
          "metadata": {
            "tags": []
          },
          "execution_count": 23
        }
      ]
    },
    {
      "cell_type": "code",
      "metadata": {
        "id": "84J6VStQ4BG0",
        "colab_type": "code",
        "colab": {
          "base_uri": "https://localhost:8080/",
          "height": 218
        },
        "outputId": "6737ca20-e2c9-41a4-f72b-28a75fea8c3f"
      },
      "source": [
        "iris.info()"
      ],
      "execution_count": null,
      "outputs": [
        {
          "output_type": "stream",
          "text": [
            "<class 'pandas.core.frame.DataFrame'>\n",
            "RangeIndex: 120 entries, 0 to 119\n",
            "Data columns (total 7 columns):\n",
            "septal_length    120 non-null float64\n",
            "septal_width     120 non-null float64\n",
            "petal_length     120 non-null float64\n",
            "petal_width      120 non-null float64\n",
            "setosa           120 non-null int64\n",
            "versicolor       120 non-null int64\n",
            "virginica        120 non-null int64\n",
            "dtypes: float64(4), int64(3)\n",
            "memory usage: 6.6 KB\n"
          ],
          "name": "stdout"
        }
      ]
    },
    {
      "cell_type": "code",
      "metadata": {
        "id": "jxSyc1l54BJm",
        "colab_type": "code",
        "colab": {
          "base_uri": "https://localhost:8080/",
          "height": 118
        },
        "outputId": "0cdbe3c6-50ed-414c-e406-47967c2f54e4"
      },
      "source": [
        "data = iris.to_numpy()\n",
        "print(data.shape)\n",
        "print(data[:5])"
      ],
      "execution_count": null,
      "outputs": [
        {
          "output_type": "stream",
          "text": [
            "(120, 7)\n",
            "[[6.4 2.8 5.6 2.2 0.  0.  1. ]\n",
            " [5.  2.3 3.3 1.  0.  1.  0. ]\n",
            " [4.9 2.5 4.5 1.7 0.  0.  1. ]\n",
            " [4.9 3.1 1.5 0.1 1.  0.  0. ]\n",
            " [5.7 3.8 1.7 0.3 1.  0.  0. ]]\n"
          ],
          "name": "stdout"
        }
      ]
    },
    {
      "cell_type": "code",
      "metadata": {
        "id": "Mb9j8N5YiDwQ",
        "colab_type": "code",
        "colab": {}
      },
      "source": [
        "x = data[:,:4]\n",
        "y = data[:,4:]\n",
        "\n",
        "split_index = 100\n",
        "\n",
        "train_x, test_x = x[:split_index], x[split_index:]\n",
        "train_y, test_y = y[:split_index], y[split_index:]"
      ],
      "execution_count": null,
      "outputs": []
    },
    {
      "cell_type": "code",
      "metadata": {
        "id": "SJmp-8zD5gR2",
        "colab_type": "code",
        "colab": {}
      },
      "source": [
        "model = keras.Sequential([\n",
        "    keras.layers.Dense(10, activation='relu', input_shape=(4,)),\n",
        "    keras.layers.Dense(10, activation='relu'),\n",
        "    keras.layers.Dense(3, activation='softmax')\n",
        "])"
      ],
      "execution_count": null,
      "outputs": []
    },
    {
      "cell_type": "code",
      "metadata": {
        "id": "dqazsLAq5st-",
        "colab_type": "code",
        "colab": {}
      },
      "source": [
        "model.compile(optimizer='adam',\n",
        "              loss='categorical_crossentropy',\n",
        "              metrics=['accuracy'])"
      ],
      "execution_count": null,
      "outputs": []
    },
    {
      "cell_type": "code",
      "metadata": {
        "id": "za5XB-365gU3",
        "colab_type": "code",
        "colab": {
          "base_uri": "https://localhost:8080/",
          "height": 34
        },
        "outputId": "b1c95046-dc87-4142-b15b-5fde78a27ff7"
      },
      "source": [
        "model.fit(train_x, train_y, epochs=200, verbose=0)"
      ],
      "execution_count": null,
      "outputs": [
        {
          "output_type": "execute_result",
          "data": {
            "text/plain": [
              "<tensorflow.python.keras.callbacks.History at 0x7fa57eeb56d8>"
            ]
          },
          "metadata": {
            "tags": []
          },
          "execution_count": 29
        }
      ]
    },
    {
      "cell_type": "code",
      "metadata": {
        "id": "76wFgAkT7Axp",
        "colab_type": "code",
        "colab": {
          "base_uri": "https://localhost:8080/",
          "height": 87
        },
        "outputId": "4d5e0f80-0a07-4a44-84d1-5e2e97520e13"
      },
      "source": [
        "loss, acc = model.evaluate(test_x, test_y)\n",
        "\n",
        "print(\"loss :\", loss)\n",
        "print(\"acc :\", acc)\n"
      ],
      "execution_count": null,
      "outputs": [
        {
          "output_type": "stream",
          "text": [
            "\r20/20 [==============================] - 0s 3ms/sample - loss: 0.1111 - acc: 1.0000\n",
            "loss : 0.1110994964838028\n",
            "acc : 1.0\n"
          ],
          "name": "stdout"
        }
      ]
    },
    {
      "cell_type": "code",
      "metadata": {
        "id": "vYQYwQh67OuV",
        "colab_type": "code",
        "colab": {
          "base_uri": "https://localhost:8080/",
          "height": 370
        },
        "outputId": "9661ae18-a568-43dc-c635-1eb18102f4fc"
      },
      "source": [
        "y_ = model.predict(test_x)\n",
        "print(y_)\n",
        "print(np.argmax(y_, axis=1))"
      ],
      "execution_count": null,
      "outputs": [
        {
          "output_type": "stream",
          "text": [
            "[[9.6755344e-01 3.2389157e-02 5.7401456e-05]\n",
            " [1.0331892e-01 8.1449860e-01 8.2182437e-02]\n",
            " [9.1605669e-01 8.3343677e-02 5.9960125e-04]\n",
            " [6.4794928e-02 8.6981958e-01 6.5385520e-02]\n",
            " [9.6892023e-01 3.1039335e-02 4.0431063e-05]\n",
            " [9.7689635e-01 2.3078395e-02 2.5277226e-05]\n",
            " [9.8087227e-01 1.9113664e-02 1.3994732e-05]\n",
            " [9.7766352e-01 2.2315418e-02 2.1051303e-05]\n",
            " [7.5105265e-02 8.3440167e-01 9.0493061e-02]\n",
            " [9.6492308e-01 3.5026200e-02 5.0690316e-05]\n",
            " [1.3175124e-03 3.6099306e-01 6.3768941e-01]\n",
            " [3.2659076e-02 8.1775147e-01 1.4958955e-01]\n",
            " [9.6254009e-01 3.7398666e-02 6.1226012e-05]\n",
            " [2.5528283e-05 6.9296643e-02 9.3067783e-01]\n",
            " [9.5848972e-01 4.1431420e-02 7.8827718e-05]\n",
            " [1.9376609e-02 7.8196573e-01 1.9865762e-01]\n",
            " [5.1219560e-02 8.6448693e-01 8.4293500e-02]\n",
            " [9.5842326e-01 4.1484132e-02 9.2640614e-05]\n",
            " [9.6740383e-01 3.2541201e-02 5.4991098e-05]\n",
            " [6.7807533e-02 8.4165013e-01 9.0542406e-02]]\n",
            "[0 1 0 1 0 0 0 0 1 0 2 1 0 2 0 1 1 0 0 1]\n"
          ],
          "name": "stdout"
        }
      ]
    },
    {
      "cell_type": "code",
      "metadata": {
        "id": "14su9wKZBfBf",
        "colab_type": "code",
        "colab": {}
      },
      "source": [
        ""
      ],
      "execution_count": null,
      "outputs": []
    },
    {
      "cell_type": "markdown",
      "metadata": {
        "id": "JXzTn2SiB5uH",
        "colab_type": "text"
      },
      "source": [
        "# Optimzer\n",
        "\n",
        "- 'SGD' or tf.keras.optimizers.SGD()\n",
        "- 'Adam' or tf.keras.optimizers.Adam()\n",
        "- 'Adagrad' or tf.keras.optimizers.Adagrad()\n",
        "- 'RMSprop' or tf.keras.optimizers.RMSprop()\n",
        "\n",
        "\n",
        "```\n",
        "SGD(lr=0.001)\n",
        "Adam(lr=0.001, beta_1=0.9, beta_2=0.999, epsilon=1e-07)\n",
        "Adagrad(lr=0.001, epsilon=1e-06)\n",
        "RMSprop(lr=0.001, rho=0.9, decay=0.9)\n",
        "```\n",
        "\n",
        "\n",
        "\n",
        "\n"
      ]
    },
    {
      "cell_type": "code",
      "metadata": {
        "id": "eP_bMMSQBfGW",
        "colab_type": "code",
        "colab": {}
      },
      "source": [
        "def train(optimizer, loss, epochs=10):\n",
        "  \n",
        "  model = keras.Sequential([\n",
        "      keras.layers.Dense(10, activation='relu'),\n",
        "      keras.layers.Dense(10, activation='relu'),\n",
        "      keras.layers.Dense(3, activation='softmax')\n",
        "  ])\n",
        "\n",
        "  model.compile(optimizer=optimizer,\n",
        "                loss=loss,\n",
        "                metrics=['accuracy'])\n",
        "\n",
        "  model.fit(train_x, train_y, epochs=epochs)\n",
        "\n",
        "  loss, acc = model.evaluate(test_x, test_y)\n",
        "\n",
        "  print(\"loss :\", loss)\n",
        "  print(\"acc :\", acc)\n"
      ],
      "execution_count": null,
      "outputs": []
    },
    {
      "cell_type": "markdown",
      "metadata": {
        "id": "IzGgjZ8ZIj93",
        "colab_type": "text"
      },
      "source": [
        "## optimizer - SGD"
      ]
    },
    {
      "cell_type": "code",
      "metadata": {
        "id": "q_SZjYIjIlNZ",
        "colab_type": "code",
        "colab": {
          "base_uri": "https://localhost:8080/",
          "height": 423
        },
        "outputId": "dc945886-9e59-4f92-82bd-9af26e1737ef"
      },
      "source": [
        "optimizer = \"SGD\"\n",
        "loss = \"categorical_crossentropy\"\n",
        "\n",
        "train(optimizer, loss, 10)"
      ],
      "execution_count": null,
      "outputs": [
        {
          "output_type": "stream",
          "text": [
            "Epoch 1/10\n",
            "100/100 [==============================] - 0s 849us/sample - loss: 1.4521 - acc: 0.2900\n",
            "Epoch 2/10\n",
            "100/100 [==============================] - 0s 119us/sample - loss: 1.1456 - acc: 0.2900\n",
            "Epoch 3/10\n",
            "100/100 [==============================] - 0s 163us/sample - loss: 1.0372 - acc: 0.3000\n",
            "Epoch 4/10\n",
            "100/100 [==============================] - 0s 132us/sample - loss: 0.9867 - acc: 0.3300\n",
            "Epoch 5/10\n",
            "100/100 [==============================] - 0s 118us/sample - loss: 0.9413 - acc: 0.5700\n",
            "Epoch 6/10\n",
            "100/100 [==============================] - 0s 117us/sample - loss: 0.9115 - acc: 0.5500\n",
            "Epoch 7/10\n",
            "100/100 [==============================] - 0s 114us/sample - loss: 0.8885 - acc: 0.5700\n",
            "Epoch 8/10\n",
            "100/100 [==============================] - 0s 122us/sample - loss: 0.8678 - acc: 0.4200\n",
            "Epoch 9/10\n",
            "100/100 [==============================] - 0s 116us/sample - loss: 0.8430 - acc: 0.5400\n",
            "Epoch 10/10\n",
            "100/100 [==============================] - 0s 111us/sample - loss: 0.8148 - acc: 0.7000\n",
            "20/20 [==============================] - 0s 3ms/sample - loss: 0.9046 - acc: 0.6500\n",
            "loss : 0.90459805727005\n",
            "acc : 0.65\n"
          ],
          "name": "stdout"
        }
      ]
    },
    {
      "cell_type": "code",
      "metadata": {
        "id": "_vu9a0lPBfLs",
        "colab_type": "code",
        "colab": {
          "base_uri": "https://localhost:8080/",
          "height": 423
        },
        "outputId": "4ffb05d3-1dcc-4cc2-9a62-acb4f44494ac"
      },
      "source": [
        "optimizer = tf.keras.optimizers.SGD(lr=0.01)\n",
        "loss = \"categorical_crossentropy\"\n",
        "\n",
        "train(optimizer, loss, 10)"
      ],
      "execution_count": null,
      "outputs": [
        {
          "output_type": "stream",
          "text": [
            "Epoch 1/10\n",
            "100/100 [==============================] - 0s 813us/sample - loss: 1.7274 - acc: 0.3100\n",
            "Epoch 2/10\n",
            "100/100 [==============================] - 0s 140us/sample - loss: 1.1976 - acc: 0.3100\n",
            "Epoch 3/10\n",
            "100/100 [==============================] - 0s 121us/sample - loss: 1.1031 - acc: 0.4300\n",
            "Epoch 4/10\n",
            "100/100 [==============================] - 0s 135us/sample - loss: 1.0843 - acc: 0.3900\n",
            "Epoch 5/10\n",
            "100/100 [==============================] - 0s 125us/sample - loss: 1.0678 - acc: 0.4100\n",
            "Epoch 6/10\n",
            "100/100 [==============================] - 0s 123us/sample - loss: 1.0519 - acc: 0.4500\n",
            "Epoch 7/10\n",
            "100/100 [==============================] - 0s 162us/sample - loss: 1.0341 - acc: 0.4200\n",
            "Epoch 8/10\n",
            "100/100 [==============================] - 0s 173us/sample - loss: 1.0270 - acc: 0.4900\n",
            "Epoch 9/10\n",
            "100/100 [==============================] - 0s 124us/sample - loss: 1.0090 - acc: 0.5700\n",
            "Epoch 10/10\n",
            "100/100 [==============================] - 0s 131us/sample - loss: 1.0022 - acc: 0.5200\n",
            "20/20 [==============================] - 0s 3ms/sample - loss: 0.8970 - acc: 0.5500\n",
            "loss : 0.8970287442207336\n",
            "acc : 0.55\n"
          ],
          "name": "stdout"
        }
      ]
    },
    {
      "cell_type": "markdown",
      "metadata": {
        "id": "gR9iDWJII3US",
        "colab_type": "text"
      },
      "source": [
        "## optimizer - Adam"
      ]
    },
    {
      "cell_type": "code",
      "metadata": {
        "id": "RKuvGiwKJAXl",
        "colab_type": "code",
        "colab": {
          "base_uri": "https://localhost:8080/",
          "height": 423
        },
        "outputId": "d7cd8e16-a157-4227-b29b-ab9acadeab5c"
      },
      "source": [
        "optimizer = \"Adam\"\n",
        "loss = \"categorical_crossentropy\"\n",
        "\n",
        "train(optimizer, loss, 10)"
      ],
      "execution_count": null,
      "outputs": [
        {
          "output_type": "stream",
          "text": [
            "Epoch 1/10\n",
            "100/100 [==============================] - 0s 1ms/sample - loss: 1.0331 - acc: 0.3300\n",
            "Epoch 2/10\n",
            "100/100 [==============================] - 0s 137us/sample - loss: 1.0062 - acc: 0.3700\n",
            "Epoch 3/10\n",
            "100/100 [==============================] - 0s 138us/sample - loss: 0.9823 - acc: 0.4100\n",
            "Epoch 4/10\n",
            "100/100 [==============================] - 0s 131us/sample - loss: 0.9566 - acc: 0.4300\n",
            "Epoch 5/10\n",
            "100/100 [==============================] - 0s 134us/sample - loss: 0.9340 - acc: 0.4000\n",
            "Epoch 6/10\n",
            "100/100 [==============================] - 0s 137us/sample - loss: 0.9100 - acc: 0.3400\n",
            "Epoch 7/10\n",
            "100/100 [==============================] - 0s 138us/sample - loss: 0.8879 - acc: 0.5100\n",
            "Epoch 8/10\n",
            "100/100 [==============================] - 0s 132us/sample - loss: 0.8654 - acc: 0.6800\n",
            "Epoch 9/10\n",
            "100/100 [==============================] - 0s 140us/sample - loss: 0.8460 - acc: 0.7100\n",
            "Epoch 10/10\n",
            "100/100 [==============================] - 0s 123us/sample - loss: 0.8290 - acc: 0.7100\n",
            "20/20 [==============================] - 0s 3ms/sample - loss: 0.8823 - acc: 0.6000\n",
            "loss : 0.8822725415229797\n",
            "acc : 0.6\n"
          ],
          "name": "stdout"
        }
      ]
    },
    {
      "cell_type": "code",
      "metadata": {
        "id": "AC6GLYy3BfOh",
        "colab_type": "code",
        "colab": {
          "base_uri": "https://localhost:8080/",
          "height": 423
        },
        "outputId": "875e5ae2-91cb-4ef4-dc4f-4351cef0d805"
      },
      "source": [
        "optimizer = tf.keras.optimizers.Adam(lr=0.01, beta_1=0.9, beta_2=0.999, epsilon=1e-07)\n",
        "loss = \"categorical_crossentropy\"\n",
        "\n",
        "train(optimizer, loss, 10)"
      ],
      "execution_count": null,
      "outputs": [
        {
          "output_type": "stream",
          "text": [
            "Epoch 1/10\n",
            "100/100 [==============================] - 0s 1ms/sample - loss: 1.3269 - acc: 0.3100\n",
            "Epoch 2/10\n",
            "100/100 [==============================] - 0s 142us/sample - loss: 0.9111 - acc: 0.6900\n",
            "Epoch 3/10\n",
            "100/100 [==============================] - 0s 140us/sample - loss: 0.8559 - acc: 0.7100\n",
            "Epoch 4/10\n",
            "100/100 [==============================] - 0s 127us/sample - loss: 0.7692 - acc: 0.7100\n",
            "Epoch 5/10\n",
            "100/100 [==============================] - 0s 136us/sample - loss: 0.6848 - acc: 0.7100\n",
            "Epoch 6/10\n",
            "100/100 [==============================] - 0s 152us/sample - loss: 0.6025 - acc: 0.7100\n",
            "Epoch 7/10\n",
            "100/100 [==============================] - 0s 158us/sample - loss: 0.5498 - acc: 0.7900\n",
            "Epoch 8/10\n",
            "100/100 [==============================] - 0s 147us/sample - loss: 0.4903 - acc: 0.7500\n",
            "Epoch 9/10\n",
            "100/100 [==============================] - 0s 128us/sample - loss: 0.4521 - acc: 0.7200\n",
            "Epoch 10/10\n",
            "100/100 [==============================] - 0s 144us/sample - loss: 0.4122 - acc: 0.8400\n",
            "20/20 [==============================] - 0s 4ms/sample - loss: 0.2985 - acc: 1.0000\n",
            "loss : 0.2984693944454193\n",
            "acc : 1.0\n"
          ],
          "name": "stdout"
        }
      ]
    },
    {
      "cell_type": "markdown",
      "metadata": {
        "id": "XUrw0wd1IDc2",
        "colab_type": "text"
      },
      "source": [
        "## optimizer - Adagrad"
      ]
    },
    {
      "cell_type": "code",
      "metadata": {
        "id": "RhT_fM2nIPKn",
        "colab_type": "code",
        "colab": {
          "base_uri": "https://localhost:8080/",
          "height": 423
        },
        "outputId": "1ce6cde6-d9f5-4a02-a6d3-9b4e805f15d1"
      },
      "source": [
        "optimizer = \"Adagrad\"\n",
        "loss = \"categorical_crossentropy\"\n",
        "\n",
        "train(optimizer, loss, 10)"
      ],
      "execution_count": null,
      "outputs": [
        {
          "output_type": "stream",
          "text": [
            "Epoch 1/10\n",
            "100/100 [==============================] - 0s 1ms/sample - loss: 1.0962 - acc: 0.5700\n",
            "Epoch 2/10\n",
            "100/100 [==============================] - 0s 147us/sample - loss: 1.0713 - acc: 0.4700\n",
            "Epoch 3/10\n",
            "100/100 [==============================] - 0s 150us/sample - loss: 1.0580 - acc: 0.4200\n",
            "Epoch 4/10\n",
            "100/100 [==============================] - 0s 135us/sample - loss: 1.0493 - acc: 0.4100\n",
            "Epoch 5/10\n",
            "100/100 [==============================] - 0s 128us/sample - loss: 1.0423 - acc: 0.4100\n",
            "Epoch 6/10\n",
            "100/100 [==============================] - 0s 129us/sample - loss: 1.0381 - acc: 0.4100\n",
            "Epoch 7/10\n",
            "100/100 [==============================] - 0s 128us/sample - loss: 1.0318 - acc: 0.4100\n",
            "Epoch 8/10\n",
            "100/100 [==============================] - 0s 135us/sample - loss: 1.0288 - acc: 0.4100\n",
            "Epoch 9/10\n",
            "100/100 [==============================] - 0s 137us/sample - loss: 1.0246 - acc: 0.4100\n",
            "Epoch 10/10\n",
            "100/100 [==============================] - 0s 115us/sample - loss: 1.0206 - acc: 0.4100\n",
            "20/20 [==============================] - 0s 3ms/sample - loss: 1.1742 - acc: 0.1000\n",
            "loss : 1.1742280721664429\n",
            "acc : 0.1\n"
          ],
          "name": "stdout"
        }
      ]
    },
    {
      "cell_type": "code",
      "metadata": {
        "id": "tWdYuaIBBfRa",
        "colab_type": "code",
        "colab": {
          "base_uri": "https://localhost:8080/",
          "height": 423
        },
        "outputId": "75fceafc-06cb-4e60-b50e-6c5784437aad"
      },
      "source": [
        "optimizer = tf.keras.optimizers.Adagrad(lr=0.01, epsilon=1e-06)\n",
        "loss = \"categorical_crossentropy\"\n",
        "\n",
        "train(optimizer, loss, 10)"
      ],
      "execution_count": null,
      "outputs": [
        {
          "output_type": "stream",
          "text": [
            "Epoch 1/10\n",
            "100/100 [==============================] - 0s 1ms/sample - loss: 1.1756 - acc: 0.2900\n",
            "Epoch 2/10\n",
            "100/100 [==============================] - 0s 136us/sample - loss: 0.9567 - acc: 0.7600\n",
            "Epoch 3/10\n",
            "100/100 [==============================] - 0s 135us/sample - loss: 0.8897 - acc: 0.7500\n",
            "Epoch 4/10\n",
            "100/100 [==============================] - 0s 244us/sample - loss: 0.8690 - acc: 0.7200\n",
            "Epoch 5/10\n",
            "100/100 [==============================] - 0s 193us/sample - loss: 0.8524 - acc: 0.7400\n",
            "Epoch 6/10\n",
            "100/100 [==============================] - 0s 149us/sample - loss: 0.8388 - acc: 0.7400\n",
            "Epoch 7/10\n",
            "100/100 [==============================] - 0s 145us/sample - loss: 0.8255 - acc: 0.7500\n",
            "Epoch 8/10\n",
            "100/100 [==============================] - 0s 149us/sample - loss: 0.8100 - acc: 0.7500\n",
            "Epoch 9/10\n",
            "100/100 [==============================] - 0s 190us/sample - loss: 0.7944 - acc: 0.7500\n",
            "Epoch 10/10\n",
            "100/100 [==============================] - 0s 157us/sample - loss: 0.7834 - acc: 0.7600\n",
            "20/20 [==============================] - 0s 4ms/sample - loss: 0.8200 - acc: 0.8000\n",
            "loss : 0.81999272108078\n",
            "acc : 0.8\n"
          ],
          "name": "stdout"
        }
      ]
    },
    {
      "cell_type": "markdown",
      "metadata": {
        "id": "5rnQ0Lc3IISn",
        "colab_type": "text"
      },
      "source": [
        "## optimizer - RMSprop"
      ]
    },
    {
      "cell_type": "code",
      "metadata": {
        "id": "4aS-yz9JIVh_",
        "colab_type": "code",
        "colab": {
          "base_uri": "https://localhost:8080/",
          "height": 423
        },
        "outputId": "6ed31573-9452-40cc-deea-be6fc01d28c8"
      },
      "source": [
        "optimizer = \"RMSprop\"\n",
        "loss = \"categorical_crossentropy\"\n",
        "\n",
        "train(optimizer, loss, 10)"
      ],
      "execution_count": null,
      "outputs": [
        {
          "output_type": "stream",
          "text": [
            "Epoch 1/10\n",
            "100/100 [==============================] - 0s 1ms/sample - loss: 1.2851 - acc: 0.4800\n",
            "Epoch 2/10\n",
            "100/100 [==============================] - 0s 163us/sample - loss: 1.1640 - acc: 0.6100\n",
            "Epoch 3/10\n",
            "100/100 [==============================] - 0s 173us/sample - loss: 1.1086 - acc: 0.7000\n",
            "Epoch 4/10\n",
            "100/100 [==============================] - 0s 137us/sample - loss: 1.0508 - acc: 0.7100\n",
            "Epoch 5/10\n",
            "100/100 [==============================] - 0s 174us/sample - loss: 0.9995 - acc: 0.7100\n",
            "Epoch 6/10\n",
            "100/100 [==============================] - 0s 176us/sample - loss: 0.9503 - acc: 0.7100\n",
            "Epoch 7/10\n",
            "100/100 [==============================] - 0s 146us/sample - loss: 0.9165 - acc: 0.7100\n",
            "Epoch 8/10\n",
            "100/100 [==============================] - 0s 170us/sample - loss: 0.8770 - acc: 0.7100\n",
            "Epoch 9/10\n",
            "100/100 [==============================] - 0s 142us/sample - loss: 0.8427 - acc: 0.7100\n",
            "Epoch 10/10\n",
            "100/100 [==============================] - 0s 134us/sample - loss: 0.8181 - acc: 0.7100\n",
            "20/20 [==============================] - 0s 4ms/sample - loss: 0.7756 - acc: 0.6500\n",
            "loss : 0.7755711674690247\n",
            "acc : 0.65\n"
          ],
          "name": "stdout"
        }
      ]
    },
    {
      "cell_type": "code",
      "metadata": {
        "id": "8NHjYG2eGhBb",
        "colab_type": "code",
        "colab": {
          "base_uri": "https://localhost:8080/",
          "height": 423
        },
        "outputId": "c598b6f1-d6da-4550-cf35-71cdc0b50899"
      },
      "source": [
        "optimizer = tf.keras.optimizers.RMSprop(lr=0.01, rho=0.9, decay=0.9)\n",
        "loss = \"categorical_crossentropy\"\n",
        "\n",
        "train(optimizer, loss, 10)"
      ],
      "execution_count": null,
      "outputs": [
        {
          "output_type": "stream",
          "text": [
            "Epoch 1/10\n",
            "100/100 [==============================] - 0s 2ms/sample - loss: 1.7976 - acc: 0.3100\n",
            "Epoch 2/10\n",
            "100/100 [==============================] - 0s 168us/sample - loss: 1.0976 - acc: 0.4600\n",
            "Epoch 3/10\n",
            "100/100 [==============================] - 0s 157us/sample - loss: 1.0122 - acc: 0.4200\n",
            "Epoch 4/10\n",
            "100/100 [==============================] - 0s 157us/sample - loss: 0.9744 - acc: 0.2400\n",
            "Epoch 5/10\n",
            "100/100 [==============================] - 0s 164us/sample - loss: 0.9570 - acc: 0.5700\n",
            "Epoch 6/10\n",
            "100/100 [==============================] - 0s 155us/sample - loss: 0.9387 - acc: 0.5600\n",
            "Epoch 7/10\n",
            "100/100 [==============================] - 0s 169us/sample - loss: 0.9275 - acc: 0.5300\n",
            "Epoch 8/10\n",
            "100/100 [==============================] - 0s 145us/sample - loss: 0.9204 - acc: 0.5200\n",
            "Epoch 9/10\n",
            "100/100 [==============================] - 0s 165us/sample - loss: 0.9129 - acc: 0.5300\n",
            "Epoch 10/10\n",
            "100/100 [==============================] - 0s 149us/sample - loss: 0.9078 - acc: 0.5600\n",
            "20/20 [==============================] - 0s 5ms/sample - loss: 1.0214 - acc: 0.3000\n",
            "loss : 1.0214226245880127\n",
            "acc : 0.3\n"
          ],
          "name": "stdout"
        }
      ]
    },
    {
      "cell_type": "code",
      "metadata": {
        "id": "302bUQciGhHP",
        "colab_type": "code",
        "colab": {}
      },
      "source": [
        ""
      ],
      "execution_count": null,
      "outputs": []
    },
    {
      "cell_type": "code",
      "metadata": {
        "id": "coOMzBvAGhMk",
        "colab_type": "code",
        "colab": {}
      },
      "source": [
        "\n"
      ],
      "execution_count": null,
      "outputs": []
    },
    {
      "cell_type": "code",
      "metadata": {
        "id": "886tuCxtBfE1",
        "colab_type": "code",
        "colab": {}
      },
      "source": [
        ""
      ],
      "execution_count": null,
      "outputs": []
    }
  ]
}
