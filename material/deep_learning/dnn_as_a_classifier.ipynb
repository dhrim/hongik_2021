{
  "nbformat": 4,
  "nbformat_minor": 0,
  "metadata": {
    "colab": {
      "name": "dnn_as_a_classifier.ipynb",
      "provenance": []
    },
    "kernelspec": {
      "name": "python3",
      "display_name": "Python 3"
    },
    "accelerator": "GPU"
  },
  "cells": [
    {
      "cell_type": "code",
      "metadata": {
        "id": "qr7BIQCPcggh",
        "colab_type": "code",
        "colab": {
          "base_uri": "https://localhost:8080/",
          "height": 34
        },
        "outputId": "0e1850c0-fc65-4df8-c9fb-1fa6380871d1"
      },
      "source": [
        "%tensorflow_version 1.x"
      ],
      "execution_count": 1,
      "outputs": [
        {
          "output_type": "stream",
          "text": [
            "TensorFlow 1.x selected.\n"
          ],
          "name": "stdout"
        }
      ]
    },
    {
      "cell_type": "markdown",
      "metadata": {
        "id": "bCKgjM9-xygH",
        "colab_type": "text"
      },
      "source": [
        "# 분류기로서의 DNN"
      ]
    },
    {
      "cell_type": "code",
      "metadata": {
        "id": "etOyOaq6xxHv",
        "colab_type": "code",
        "colab": {}
      },
      "source": [
        "import numpy as np\n",
        "import pandas as pd\n",
        "\n",
        "import tensorflow as tf\n",
        "from tensorflow import keras\n",
        "\n",
        "import numpy as np\n",
        "import matplotlib.pyplot as plt\n",
        "\n",
        "import time"
      ],
      "execution_count": null,
      "outputs": []
    },
    {
      "cell_type": "code",
      "metadata": {
        "id": "OmBdLDqix7Jh",
        "colab_type": "code",
        "colab": {}
      },
      "source": [
        "def build_square_data(all_low, all_high, square_low, square_high, zero_count, one_count):\n",
        "\n",
        "  x1 = np.random.rand(one_count)\n",
        "  x1 = x1*(square_high-square_low) + square_low\n",
        "\n",
        "  x0 = np.random.rand(zero_count*100)\n",
        "  x0 = x0[ (x0<square_low) | (square_high<x0) ]\n",
        "  x0 = x0[:zero_count]\n",
        "\n",
        "  x = np.append(x1, x0)\n",
        "\n",
        "  plt.hist(x)\n",
        "  plt.xlim(0, 1)\n",
        "  plt.show()\n",
        "\n",
        "  # 범위 안의 것을 1, 범위 밖의 것을 0으로 하고\n",
        "  all_data = np.ones((len(x),2))\n",
        "  all_data[:,0] = x\n",
        "\n",
        "  all_data[:len(x1),1] = 1\n",
        "  all_data[len(x1):,1] = 0\n",
        "\n",
        "  # 섞는다\n",
        "  np.random.shuffle(all_data)\n",
        "\n",
        "  # x, y로 분리하고\n",
        "  x = all_data[:,0]\n",
        "  y = all_data[:,1]\n",
        "\n",
        "  plt.xlim(0, 1)\n",
        "\n",
        "  plt.scatter(x, y)\n",
        "\n",
        "  return x, y"
      ],
      "execution_count": null,
      "outputs": []
    },
    {
      "cell_type": "markdown",
      "metadata": {
        "id": "HJ5rov-EyCN4",
        "colab_type": "text"
      },
      "source": [
        "# 네모 함수의 학습\n",
        "\n",
        "특정 영역은 1, 이외의 영역은 0을 출력\n",
        "\n",
        "1개의 출력 노드를 갖는다."
      ]
    },
    {
      "cell_type": "code",
      "metadata": {
        "id": "10wyiaaEx_Eo",
        "colab_type": "code",
        "colab": {
          "base_uri": "https://localhost:8080/",
          "height": 521
        },
        "outputId": "7fac232f-30aa-42fd-98fc-0c66a5f85200"
      },
      "source": [
        "all_low = 0\n",
        "all_high = 1\n",
        "square_low = 0.5\n",
        "square_high = 0.6\n",
        "zero_count = 10000\n",
        "one_count = 10000\n",
        "\n",
        "train_x, train_y = build_square_data(all_low, all_high, square_low, square_high, zero_count, one_count)"
      ],
      "execution_count": null,
      "outputs": [
        {
          "output_type": "display_data",
          "data": {
            "image/png": "[encoded data removed]",
            "text/plain": [
              "<Figure size 432x288 with 1 Axes>"
            ]
          },
          "metadata": {
            "tags": []
          }
        },
        {
          "output_type": "display_data",
          "data": {
            "image/png": "[encoded data removed]",
            "text/plain": [
              "<Figure size 432x288 with 1 Axes>"
            ]
          },
          "metadata": {
            "tags": []
          }
        }
      ]
    },
    {
      "cell_type": "code",
      "metadata": {
        "id": "K7fuP8OIyJBP",
        "colab_type": "code",
        "colab": {
          "base_uri": "https://localhost:8080/",
          "height": 1000
        },
        "outputId": "eb36ab46-b51a-47f6-e015-633336a42cca"
      },
      "source": [
        "from tensorflow import keras\n",
        "from tensorflow.keras import optimizers\n",
        "from tensorflow.keras.layers import Dense\n",
        "from tensorflow.keras.optimizers import SGD\n",
        "\n",
        "\n",
        "model = keras.Sequential()\n",
        "model.add(Dense(10, activation='relu', input_shape=(1,)))\n",
        "model.add(Dense(10, activation='relu'))\n",
        "model.add(Dense(10, activation='relu'))\n",
        "model.add(Dense(1, activation=\"sigmoid\"))\n",
        "\n",
        "\n",
        "model.compile(optimizer=\"SGD\", loss=\"mse\")\n",
        "model.fit(train_x, train_y, epochs=100, verbose=1, batch_size=32, validation_split=0.1)\n",
        "\n",
        "x_ = np.arange(all_low, all_high, 0.01)\n",
        "y_ = model.predict(x_)\n",
        "plt.scatter(x_, y_)"
      ],
      "execution_count": null,
      "outputs": [
        {
          "output_type": "stream",
          "text": [
            "Train on 18000 samples, validate on 2000 samples\n",
            "Epoch 1/100\n",
            "18000/18000 [==============================] - 1s 37us/sample - loss: 0.2507 - val_loss: 0.2505\n",
            "Epoch 2/100\n",
            "18000/18000 [==============================] - 1s 29us/sample - loss: 0.2499 - val_loss: 0.2494\n",
            "Epoch 3/100\n",
            "18000/18000 [==============================] - 1s 29us/sample - loss: 0.2486 - val_loss: 0.2482\n",
            "Epoch 4/100\n",
            "18000/18000 [==============================] - 1s 29us/sample - loss: 0.2444 - val_loss: 0.2405\n",
            "Epoch 5/100\n",
            "18000/18000 [==============================] - 1s 30us/sample - loss: 0.2364 - val_loss: 0.2323\n",
            "Epoch 6/100\n",
            "18000/18000 [==============================] - 1s 29us/sample - loss: 0.2291 - val_loss: 0.2254\n",
            "Epoch 7/100\n",
            "18000/18000 [==============================] - 1s 29us/sample - loss: 0.2204 - val_loss: 0.2153\n",
            "Epoch 8/100\n",
            "18000/18000 [==============================] - 1s 29us/sample - loss: 0.2100 - val_loss: 0.2043\n",
            "Epoch 9/100\n",
            "18000/18000 [==============================] - 1s 29us/sample - loss: 0.1982 - val_loss: 0.1920\n",
            "Epoch 10/100\n",
            "18000/18000 [==============================] - 1s 30us/sample - loss: 0.1851 - val_loss: 0.1782\n",
            "Epoch 11/100\n",
            "18000/18000 [==============================] - 1s 29us/sample - loss: 0.1706 - val_loss: 0.1633\n",
            "Epoch 12/100\n",
            "18000/18000 [==============================] - 1s 30us/sample - loss: 0.1544 - val_loss: 0.1459\n",
            "Epoch 13/100\n",
            "18000/18000 [==============================] - 1s 31us/sample - loss: 0.1357 - val_loss: 0.1265\n",
            "Epoch 14/100\n",
            "18000/18000 [==============================] - 1s 29us/sample - loss: 0.1159 - val_loss: 0.1073\n",
            "Epoch 15/100\n",
            "18000/18000 [==============================] - 1s 29us/sample - loss: 0.0978 - val_loss: 0.0910\n",
            "Epoch 16/100\n",
            "18000/18000 [==============================] - 1s 28us/sample - loss: 0.0831 - val_loss: 0.0783\n",
            "Epoch 17/100\n",
            "18000/18000 [==============================] - 1s 29us/sample - loss: 0.0717 - val_loss: 0.0683\n",
            "Epoch 18/100\n",
            "18000/18000 [==============================] - 0s 28us/sample - loss: 0.0629 - val_loss: 0.0604\n",
            "Epoch 19/100\n",
            "18000/18000 [==============================] - 1s 28us/sample - loss: 0.0559 - val_loss: 0.0542\n",
            "Epoch 20/100\n",
            "18000/18000 [==============================] - 1s 28us/sample - loss: 0.0504 - val_loss: 0.0492\n",
            "Epoch 21/100\n",
            "18000/18000 [==============================] - 1s 28us/sample - loss: 0.0459 - val_loss: 0.0453\n",
            "Epoch 22/100\n",
            "18000/18000 [==============================] - 1s 30us/sample - loss: 0.0421 - val_loss: 0.0416\n",
            "Epoch 23/100\n",
            "18000/18000 [==============================] - 1s 29us/sample - loss: 0.0389 - val_loss: 0.0386\n",
            "Epoch 24/100\n",
            "18000/18000 [==============================] - 0s 27us/sample - loss: 0.0362 - val_loss: 0.0361\n",
            "Epoch 25/100\n",
            "18000/18000 [==============================] - 1s 30us/sample - loss: 0.0338 - val_loss: 0.0339\n",
            "Epoch 26/100\n",
            "18000/18000 [==============================] - 1s 31us/sample - loss: 0.0318 - val_loss: 0.0319\n",
            "Epoch 27/100\n",
            "18000/18000 [==============================] - 1s 30us/sample - loss: 0.0301 - val_loss: 0.0303\n",
            "Epoch 28/100\n",
            "18000/18000 [==============================] - 1s 29us/sample - loss: 0.0285 - val_loss: 0.0287\n",
            "Epoch 29/100\n",
            "18000/18000 [==============================] - 0s 27us/sample - loss: 0.0272 - val_loss: 0.0273\n",
            "Epoch 30/100\n",
            "18000/18000 [==============================] - 1s 28us/sample - loss: 0.0259 - val_loss: 0.0262\n",
            "Epoch 31/100\n",
            "18000/18000 [==============================] - 0s 27us/sample - loss: 0.0248 - val_loss: 0.0260\n",
            "Epoch 32/100\n",
            "18000/18000 [==============================] - 0s 28us/sample - loss: 0.0239 - val_loss: 0.0240\n",
            "Epoch 33/100\n",
            "18000/18000 [==============================] - 0s 27us/sample - loss: 0.0229 - val_loss: 0.0232\n",
            "Epoch 34/100\n",
            "18000/18000 [==============================] - 1s 29us/sample - loss: 0.0221 - val_loss: 0.0223\n",
            "Epoch 35/100\n",
            "18000/18000 [==============================] - 1s 29us/sample - loss: 0.0213 - val_loss: 0.0216\n",
            "Epoch 36/100\n",
            "18000/18000 [==============================] - 1s 28us/sample - loss: 0.0206 - val_loss: 0.0211\n",
            "Epoch 37/100\n",
            "18000/18000 [==============================] - 1s 29us/sample - loss: 0.0200 - val_loss: 0.0201\n",
            "Epoch 38/100\n",
            "18000/18000 [==============================] - 1s 28us/sample - loss: 0.0194 - val_loss: 0.0200\n",
            "Epoch 39/100\n",
            "18000/18000 [==============================] - 1s 29us/sample - loss: 0.0188 - val_loss: 0.0190\n",
            "Epoch 40/100\n",
            "18000/18000 [==============================] - 1s 32us/sample - loss: 0.0183 - val_loss: 0.0184\n",
            "Epoch 41/100\n",
            "18000/18000 [==============================] - 1s 29us/sample - loss: 0.0178 - val_loss: 0.0179\n",
            "Epoch 42/100\n",
            "18000/18000 [==============================] - 0s 28us/sample - loss: 0.0174 - val_loss: 0.0174\n",
            "Epoch 43/100\n",
            "18000/18000 [==============================] - 1s 30us/sample - loss: 0.0169 - val_loss: 0.0171\n",
            "Epoch 44/100\n",
            "18000/18000 [==============================] - 1s 29us/sample - loss: 0.0165 - val_loss: 0.0165\n",
            "Epoch 45/100\n",
            "18000/18000 [==============================] - 1s 28us/sample - loss: 0.0161 - val_loss: 0.0164\n",
            "Epoch 46/100\n",
            "18000/18000 [==============================] - 1s 29us/sample - loss: 0.0158 - val_loss: 0.0158\n",
            "Epoch 47/100\n",
            "18000/18000 [==============================] - 0s 27us/sample - loss: 0.0154 - val_loss: 0.0154\n",
            "Epoch 48/100\n",
            "18000/18000 [==============================] - 1s 29us/sample - loss: 0.0151 - val_loss: 0.0151\n",
            "Epoch 49/100\n",
            "18000/18000 [==============================] - 0s 27us/sample - loss: 0.0148 - val_loss: 0.0152\n",
            "Epoch 50/100\n",
            "18000/18000 [==============================] - 1s 28us/sample - loss: 0.0145 - val_loss: 0.0147\n",
            "Epoch 51/100\n",
            "18000/18000 [==============================] - 1s 28us/sample - loss: 0.0143 - val_loss: 0.0146\n",
            "Epoch 52/100\n",
            "18000/18000 [==============================] - 1s 28us/sample - loss: 0.0139 - val_loss: 0.0140\n",
            "Epoch 53/100\n",
            "18000/18000 [==============================] - 1s 28us/sample - loss: 0.0137 - val_loss: 0.0137\n",
            "Epoch 54/100\n",
            "18000/18000 [==============================] - 1s 28us/sample - loss: 0.0135 - val_loss: 0.0135\n",
            "Epoch 55/100\n",
            "18000/18000 [==============================] - 1s 29us/sample - loss: 0.0132 - val_loss: 0.0133\n",
            "Epoch 56/100\n",
            "18000/18000 [==============================] - 1s 30us/sample - loss: 0.0130 - val_loss: 0.0130\n",
            "Epoch 57/100\n",
            "18000/18000 [==============================] - 1s 30us/sample - loss: 0.0127 - val_loss: 0.0132\n",
            "Epoch 58/100\n",
            "18000/18000 [==============================] - 1s 30us/sample - loss: 0.0126 - val_loss: 0.0129\n",
            "Epoch 59/100\n",
            "18000/18000 [==============================] - 1s 29us/sample - loss: 0.0124 - val_loss: 0.0126\n",
            "Epoch 60/100\n",
            "18000/18000 [==============================] - 1s 30us/sample - loss: 0.0122 - val_loss: 0.0130\n",
            "Epoch 61/100\n",
            "18000/18000 [==============================] - 1s 29us/sample - loss: 0.0121 - val_loss: 0.0120\n",
            "Epoch 62/100\n",
            "18000/18000 [==============================] - 1s 28us/sample - loss: 0.0119 - val_loss: 0.0123\n",
            "Epoch 63/100\n",
            "18000/18000 [==============================] - 1s 28us/sample - loss: 0.0116 - val_loss: 0.0136\n",
            "Epoch 64/100\n",
            "18000/18000 [==============================] - 1s 28us/sample - loss: 0.0116 - val_loss: 0.0118\n",
            "Epoch 65/100\n",
            "18000/18000 [==============================] - 1s 29us/sample - loss: 0.0114 - val_loss: 0.0118\n",
            "Epoch 66/100\n",
            "18000/18000 [==============================] - 0s 27us/sample - loss: 0.0112 - val_loss: 0.0127\n",
            "Epoch 67/100\n",
            "18000/18000 [==============================] - 1s 31us/sample - loss: 0.0111 - val_loss: 0.0111\n",
            "Epoch 68/100\n",
            "18000/18000 [==============================] - 1s 28us/sample - loss: 0.0109 - val_loss: 0.0110\n",
            "Epoch 69/100\n",
            "18000/18000 [==============================] - 1s 29us/sample - loss: 0.0108 - val_loss: 0.0110\n",
            "Epoch 70/100\n",
            "18000/18000 [==============================] - 1s 28us/sample - loss: 0.0107 - val_loss: 0.0112\n",
            "Epoch 71/100\n",
            "18000/18000 [==============================] - 1s 29us/sample - loss: 0.0105 - val_loss: 0.0106\n",
            "Epoch 72/100\n",
            "18000/18000 [==============================] - 1s 31us/sample - loss: 0.0104 - val_loss: 0.0106\n",
            "Epoch 73/100\n",
            "18000/18000 [==============================] - 1s 30us/sample - loss: 0.0103 - val_loss: 0.0103\n",
            "Epoch 74/100\n",
            "18000/18000 [==============================] - 1s 31us/sample - loss: 0.0101 - val_loss: 0.0104\n",
            "Epoch 75/100\n",
            "18000/18000 [==============================] - 1s 29us/sample - loss: 0.0101 - val_loss: 0.0101\n",
            "Epoch 76/100\n",
            "18000/18000 [==============================] - 1s 29us/sample - loss: 0.0100 - val_loss: 0.0102\n",
            "Epoch 77/100\n",
            "18000/18000 [==============================] - 1s 28us/sample - loss: 0.0099 - val_loss: 0.0099\n",
            "Epoch 78/100\n",
            "18000/18000 [==============================] - 1s 29us/sample - loss: 0.0098 - val_loss: 0.0104\n",
            "Epoch 79/100\n",
            "18000/18000 [==============================] - 1s 29us/sample - loss: 0.0097 - val_loss: 0.0101\n",
            "Epoch 80/100\n",
            "18000/18000 [==============================] - 1s 29us/sample - loss: 0.0096 - val_loss: 0.0097\n",
            "Epoch 81/100\n",
            "18000/18000 [==============================] - 1s 29us/sample - loss: 0.0095 - val_loss: 0.0098\n",
            "Epoch 82/100\n",
            "18000/18000 [==============================] - 1s 31us/sample - loss: 0.0093 - val_loss: 0.0094\n",
            "Epoch 83/100\n",
            "18000/18000 [==============================] - 1s 29us/sample - loss: 0.0093 - val_loss: 0.0093\n",
            "Epoch 84/100\n",
            "18000/18000 [==============================] - 1s 30us/sample - loss: 0.0092 - val_loss: 0.0095\n",
            "Epoch 85/100\n",
            "18000/18000 [==============================] - 1s 28us/sample - loss: 0.0091 - val_loss: 0.0092\n",
            "Epoch 86/100\n",
            "18000/18000 [==============================] - 1s 29us/sample - loss: 0.0090 - val_loss: 0.0092\n",
            "Epoch 87/100\n",
            "18000/18000 [==============================] - 1s 28us/sample - loss: 0.0089 - val_loss: 0.0096\n",
            "Epoch 88/100\n",
            "18000/18000 [==============================] - 1s 31us/sample - loss: 0.0089 - val_loss: 0.0089\n",
            "Epoch 89/100\n",
            "18000/18000 [==============================] - 1s 28us/sample - loss: 0.0087 - val_loss: 0.0089\n",
            "Epoch 90/100\n",
            "18000/18000 [==============================] - 1s 28us/sample - loss: 0.0087 - val_loss: 0.0087\n",
            "Epoch 91/100\n",
            "18000/18000 [==============================] - 1s 28us/sample - loss: 0.0086 - val_loss: 0.0087\n",
            "Epoch 92/100\n",
            "18000/18000 [==============================] - 0s 27us/sample - loss: 0.0086 - val_loss: 0.0096\n",
            "Epoch 93/100\n",
            "18000/18000 [==============================] - 1s 30us/sample - loss: 0.0085 - val_loss: 0.0099\n",
            "Epoch 94/100\n",
            "18000/18000 [==============================] - 1s 29us/sample - loss: 0.0084 - val_loss: 0.0090\n",
            "Epoch 95/100\n",
            "18000/18000 [==============================] - 1s 29us/sample - loss: 0.0083 - val_loss: 0.0086\n",
            "Epoch 96/100\n",
            "18000/18000 [==============================] - 1s 31us/sample - loss: 0.0083 - val_loss: 0.0084\n",
            "Epoch 97/100\n",
            "18000/18000 [==============================] - 0s 28us/sample - loss: 0.0082 - val_loss: 0.0084\n",
            "Epoch 98/100\n",
            "18000/18000 [==============================] - 1s 29us/sample - loss: 0.0082 - val_loss: 0.0084\n",
            "Epoch 99/100\n",
            "18000/18000 [==============================] - 1s 28us/sample - loss: 0.0081 - val_loss: 0.0082\n",
            "Epoch 100/100\n",
            "18000/18000 [==============================] - 1s 31us/sample - loss: 0.0080 - val_loss: 0.0082\n"
          ],
          "name": "stdout"
        },
        {
          "output_type": "execute_result",
          "data": {
            "text/plain": [
              "<matplotlib.collections.PathCollection at 0x7f279f7eca20>"
            ]
          },
          "metadata": {
            "tags": []
          },
          "execution_count": 7
        },
        {
          "output_type": "display_data",
          "data": {
            "image/png": "[encoded data removed]",
            "text/plain": [
              "<Figure size 432x288 with 1 Axes>"
            ]
          },
          "metadata": {
            "tags": []
          }
        }
      ]
    },
    {
      "cell_type": "markdown",
      "metadata": {
        "id": "rKbC_Lnyyavy",
        "colab_type": "text"
      },
      "source": [
        "특정 패턴인 경우 1, 다른 경우인 경우 0으로 분류한다.\n",
        "\n",
        "출력된 값이 0.5보다 크면 1로, 0.5보다 작으면 0으로 간주한다."
      ]
    },
    {
      "cell_type": "markdown",
      "metadata": {
        "id": "xjdw0YWYzOzf",
        "colab_type": "text"
      },
      "source": [
        "# 클래스 2개, 출력 노드 2개\n",
        "\n",
        "분류 카테고리의 개수 대로 출력노드를 갖고, one-hot-encoding된 값을 출력하면, 변별력이 커진다."
      ]
    },
    {
      "cell_type": "code",
      "metadata": {
        "id": "2LM2kPa60My1",
        "colab_type": "code",
        "colab": {
          "base_uri": "https://localhost:8080/",
          "height": 521
        },
        "outputId": "4ec48c69-9409-4a5f-c720-69d30cd39e6f"
      },
      "source": [
        "all_low = 0\n",
        "all_high = 1\n",
        "square_low = 0.5\n",
        "square_high = 0.6\n",
        "zero_count = 10000\n",
        "one_count = 10000\n",
        "\n",
        "train_x, train_y = build_square_data(all_low, all_high, square_low, square_high, zero_count, one_count)"
      ],
      "execution_count": null,
      "outputs": [
        {
          "output_type": "display_data",
          "data": {
            "image/png": "[encoded data removed]",
            "text/plain": [
              "<Figure size 432x288 with 1 Axes>"
            ]
          },
          "metadata": {
            "tags": []
          }
        },
        {
          "output_type": "display_data",
          "data": {
            "image/png": "[encoded data removed]",
            "text/plain": [
              "<Figure size 432x288 with 1 Axes>"
            ]
          },
          "metadata": {
            "tags": []
          }
        }
      ]
    },
    {
      "cell_type": "code",
      "metadata": {
        "id": "PiFWYY4Z1B2D",
        "colab_type": "code",
        "colab": {}
      },
      "source": [
        "# ADD START\n",
        "reshaped_y = train_y.reshape((train_y.shape[0],1))\n",
        "train_y = np.append(reshaped_y, reshaped_y, axis=1)\n",
        "train_y[:,1] = 1-train_y[:,0]\n",
        "# ADD END"
      ],
      "execution_count": null,
      "outputs": []
    },
    {
      "cell_type": "code",
      "metadata": {
        "id": "1yBDVshEyMxb",
        "colab_type": "code",
        "colab": {
          "base_uri": "https://localhost:8080/",
          "height": 1000
        },
        "outputId": "3240a046-5764-4f82-c9bb-c42dfb07a378"
      },
      "source": [
        "from tensorflow import keras\n",
        "from tensorflow.keras import optimizers\n",
        "from tensorflow.keras.layers import Dense\n",
        "from tensorflow.keras.optimizers import SGD\n",
        "\n",
        "\n",
        "model = keras.Sequential()\n",
        "model.add(Dense(10, activation='relu', input_shape=(1,)))\n",
        "model.add(Dense(10, activation='relu'))\n",
        "model.add(Dense(10, activation='relu'))\n",
        "# model.add(Dense(1))\n",
        "model.add(Dense(2))\n",
        "\n",
        "model.compile(optimizer=\"SGD\", loss=\"mse\")\n",
        "model.fit(train_x, train_y, epochs=100, verbose=1, batch_size=32, validation_split=0.1)\n",
        "\n",
        "x_ = np.arange(all_low, all_high, 0.01)\n",
        "y_ = model.predict(x_)\n",
        "plt.scatter(x_, y_[:,0])"
      ],
      "execution_count": null,
      "outputs": [
        {
          "output_type": "stream",
          "text": [
            "Train on 18000 samples, validate on 2000 samples\n",
            "Epoch 1/100\n",
            "18000/18000 [==============================] - 1s 50us/sample - loss: 0.2551 - val_loss: 0.2466\n",
            "Epoch 2/100\n",
            "18000/18000 [==============================] - 1s 35us/sample - loss: 0.2430 - val_loss: 0.2389\n",
            "Epoch 3/100\n",
            "18000/18000 [==============================] - 1s 34us/sample - loss: 0.2261 - val_loss: 0.2118\n",
            "Epoch 4/100\n",
            "18000/18000 [==============================] - 1s 36us/sample - loss: 0.1948 - val_loss: 0.1705\n",
            "Epoch 5/100\n",
            "18000/18000 [==============================] - 1s 35us/sample - loss: 0.1432 - val_loss: 0.1106\n",
            "Epoch 6/100\n",
            "18000/18000 [==============================] - 1s 36us/sample - loss: 0.0931 - val_loss: 0.0761\n",
            "Epoch 7/100\n",
            "18000/18000 [==============================] - 1s 36us/sample - loss: 0.0739 - val_loss: 0.0671\n",
            "Epoch 8/100\n",
            "18000/18000 [==============================] - 1s 36us/sample - loss: 0.0631 - val_loss: 0.0553\n",
            "Epoch 9/100\n",
            "18000/18000 [==============================] - 1s 35us/sample - loss: 0.0558 - val_loss: 0.0507\n",
            "Epoch 10/100\n",
            "18000/18000 [==============================] - 1s 35us/sample - loss: 0.0520 - val_loss: 0.0494\n",
            "Epoch 11/100\n",
            "18000/18000 [==============================] - 1s 36us/sample - loss: 0.0492 - val_loss: 0.0451\n",
            "Epoch 12/100\n",
            "18000/18000 [==============================] - 1s 36us/sample - loss: 0.0468 - val_loss: 0.0435\n",
            "Epoch 13/100\n",
            "18000/18000 [==============================] - 1s 36us/sample - loss: 0.0446 - val_loss: 0.0407\n",
            "Epoch 14/100\n",
            "18000/18000 [==============================] - 1s 36us/sample - loss: 0.0426 - val_loss: 0.0388\n",
            "Epoch 15/100\n",
            "18000/18000 [==============================] - 1s 36us/sample - loss: 0.0407 - val_loss: 0.0374\n",
            "Epoch 16/100\n",
            "18000/18000 [==============================] - 1s 35us/sample - loss: 0.0389 - val_loss: 0.0355\n",
            "Epoch 17/100\n",
            "18000/18000 [==============================] - 1s 35us/sample - loss: 0.0372 - val_loss: 0.0339\n",
            "Epoch 18/100\n",
            "18000/18000 [==============================] - 1s 35us/sample - loss: 0.0355 - val_loss: 0.0323\n",
            "Epoch 19/100\n",
            "18000/18000 [==============================] - 1s 35us/sample - loss: 0.0338 - val_loss: 0.0307\n",
            "Epoch 20/100\n",
            "18000/18000 [==============================] - 1s 34us/sample - loss: 0.0321 - val_loss: 0.0297\n",
            "Epoch 21/100\n",
            "18000/18000 [==============================] - 1s 36us/sample - loss: 0.0306 - val_loss: 0.0279\n",
            "Epoch 22/100\n",
            "18000/18000 [==============================] - 1s 36us/sample - loss: 0.0290 - val_loss: 0.0262\n",
            "Epoch 23/100\n",
            "18000/18000 [==============================] - 1s 37us/sample - loss: 0.0275 - val_loss: 0.0249\n",
            "Epoch 24/100\n",
            "18000/18000 [==============================] - 1s 38us/sample - loss: 0.0261 - val_loss: 0.0236\n",
            "Epoch 25/100\n",
            "18000/18000 [==============================] - 1s 35us/sample - loss: 0.0246 - val_loss: 0.0227\n",
            "Epoch 26/100\n",
            "18000/18000 [==============================] - 1s 37us/sample - loss: 0.0234 - val_loss: 0.0212\n",
            "Epoch 27/100\n",
            "18000/18000 [==============================] - 1s 34us/sample - loss: 0.0222 - val_loss: 0.0203\n",
            "Epoch 28/100\n",
            "18000/18000 [==============================] - 1s 35us/sample - loss: 0.0211 - val_loss: 0.0192\n",
            "Epoch 29/100\n",
            "18000/18000 [==============================] - 1s 35us/sample - loss: 0.0201 - val_loss: 0.0182\n",
            "Epoch 30/100\n",
            "18000/18000 [==============================] - 1s 35us/sample - loss: 0.0192 - val_loss: 0.0181\n",
            "Epoch 31/100\n",
            "18000/18000 [==============================] - 1s 35us/sample - loss: 0.0184 - val_loss: 0.0175\n",
            "Epoch 32/100\n",
            "18000/18000 [==============================] - 1s 35us/sample - loss: 0.0176 - val_loss: 0.0165\n",
            "Epoch 33/100\n",
            "18000/18000 [==============================] - 1s 36us/sample - loss: 0.0170 - val_loss: 0.0155\n",
            "Epoch 34/100\n",
            "18000/18000 [==============================] - 1s 35us/sample - loss: 0.0163 - val_loss: 0.0155\n",
            "Epoch 35/100\n",
            "18000/18000 [==============================] - 1s 35us/sample - loss: 0.0157 - val_loss: 0.0150\n",
            "Epoch 36/100\n",
            "18000/18000 [==============================] - 1s 36us/sample - loss: 0.0152 - val_loss: 0.0153\n",
            "Epoch 37/100\n",
            "18000/18000 [==============================] - 1s 35us/sample - loss: 0.0147 - val_loss: 0.0143\n",
            "Epoch 38/100\n",
            "18000/18000 [==============================] - 1s 36us/sample - loss: 0.0143 - val_loss: 0.0136\n",
            "Epoch 39/100\n",
            "18000/18000 [==============================] - 1s 37us/sample - loss: 0.0138 - val_loss: 0.0129\n",
            "Epoch 40/100\n",
            "18000/18000 [==============================] - 1s 37us/sample - loss: 0.0134 - val_loss: 0.0129\n",
            "Epoch 41/100\n",
            "18000/18000 [==============================] - 1s 36us/sample - loss: 0.0131 - val_loss: 0.0121\n",
            "Epoch 42/100\n",
            "18000/18000 [==============================] - 1s 37us/sample - loss: 0.0127 - val_loss: 0.0121\n",
            "Epoch 43/100\n",
            "18000/18000 [==============================] - 1s 35us/sample - loss: 0.0124 - val_loss: 0.0117\n",
            "Epoch 44/100\n",
            "18000/18000 [==============================] - 1s 35us/sample - loss: 0.0120 - val_loss: 0.0113\n",
            "Epoch 45/100\n",
            "18000/18000 [==============================] - 1s 35us/sample - loss: 0.0118 - val_loss: 0.0121\n",
            "Epoch 46/100\n",
            "18000/18000 [==============================] - 1s 34us/sample - loss: 0.0115 - val_loss: 0.0109\n",
            "Epoch 47/100\n",
            "18000/18000 [==============================] - 1s 35us/sample - loss: 0.0112 - val_loss: 0.0105\n",
            "Epoch 48/100\n",
            "18000/18000 [==============================] - 1s 38us/sample - loss: 0.0109 - val_loss: 0.0107\n",
            "Epoch 49/100\n",
            "18000/18000 [==============================] - 1s 37us/sample - loss: 0.0108 - val_loss: 0.0101\n",
            "Epoch 50/100\n",
            "18000/18000 [==============================] - 1s 38us/sample - loss: 0.0106 - val_loss: 0.0102\n",
            "Epoch 51/100\n",
            "18000/18000 [==============================] - 1s 35us/sample - loss: 0.0104 - val_loss: 0.0098\n",
            "Epoch 52/100\n",
            "18000/18000 [==============================] - 1s 35us/sample - loss: 0.0102 - val_loss: 0.0097\n",
            "Epoch 53/100\n",
            "18000/18000 [==============================] - 1s 35us/sample - loss: 0.0099 - val_loss: 0.0094\n",
            "Epoch 54/100\n",
            "18000/18000 [==============================] - 1s 38us/sample - loss: 0.0098 - val_loss: 0.0094\n",
            "Epoch 55/100\n",
            "18000/18000 [==============================] - 1s 36us/sample - loss: 0.0097 - val_loss: 0.0091\n",
            "Epoch 56/100\n",
            "18000/18000 [==============================] - 1s 35us/sample - loss: 0.0095 - val_loss: 0.0095\n",
            "Epoch 57/100\n",
            "18000/18000 [==============================] - 1s 36us/sample - loss: 0.0093 - val_loss: 0.0095\n",
            "Epoch 58/100\n",
            "18000/18000 [==============================] - 1s 35us/sample - loss: 0.0092 - val_loss: 0.0087\n",
            "Epoch 59/100\n",
            "18000/18000 [==============================] - 1s 34us/sample - loss: 0.0090 - val_loss: 0.0088\n",
            "Epoch 60/100\n",
            "18000/18000 [==============================] - 1s 36us/sample - loss: 0.0090 - val_loss: 0.0085\n",
            "Epoch 61/100\n",
            "18000/18000 [==============================] - 1s 35us/sample - loss: 0.0088 - val_loss: 0.0086\n",
            "Epoch 62/100\n",
            "18000/18000 [==============================] - 1s 35us/sample - loss: 0.0088 - val_loss: 0.0089\n",
            "Epoch 63/100\n",
            "18000/18000 [==============================] - 1s 35us/sample - loss: 0.0086 - val_loss: 0.0080\n",
            "Epoch 64/100\n",
            "18000/18000 [==============================] - 1s 34us/sample - loss: 0.0085 - val_loss: 0.0089\n",
            "Epoch 65/100\n",
            "18000/18000 [==============================] - 1s 35us/sample - loss: 0.0084 - val_loss: 0.0090\n",
            "Epoch 66/100\n",
            "18000/18000 [==============================] - 1s 35us/sample - loss: 0.0083 - val_loss: 0.0077\n",
            "Epoch 67/100\n",
            "18000/18000 [==============================] - 1s 35us/sample - loss: 0.0081 - val_loss: 0.0081\n",
            "Epoch 68/100\n",
            "18000/18000 [==============================] - 1s 36us/sample - loss: 0.0081 - val_loss: 0.0080\n",
            "Epoch 69/100\n",
            "18000/18000 [==============================] - 1s 34us/sample - loss: 0.0080 - val_loss: 0.0079\n",
            "Epoch 70/100\n",
            "18000/18000 [==============================] - 1s 38us/sample - loss: 0.0078 - val_loss: 0.0073\n",
            "Epoch 71/100\n",
            "18000/18000 [==============================] - 1s 36us/sample - loss: 0.0078 - val_loss: 0.0075\n",
            "Epoch 72/100\n",
            "18000/18000 [==============================] - 1s 35us/sample - loss: 0.0077 - val_loss: 0.0104\n",
            "Epoch 73/100\n",
            "18000/18000 [==============================] - 1s 36us/sample - loss: 0.0077 - val_loss: 0.0082\n",
            "Epoch 74/100\n",
            "18000/18000 [==============================] - 1s 35us/sample - loss: 0.0075 - val_loss: 0.0071\n",
            "Epoch 75/100\n",
            "18000/18000 [==============================] - 1s 35us/sample - loss: 0.0074 - val_loss: 0.0069\n",
            "Epoch 76/100\n",
            "18000/18000 [==============================] - 1s 35us/sample - loss: 0.0074 - val_loss: 0.0086\n",
            "Epoch 77/100\n",
            "18000/18000 [==============================] - 1s 36us/sample - loss: 0.0073 - val_loss: 0.0072\n",
            "Epoch 78/100\n",
            "18000/18000 [==============================] - 1s 38us/sample - loss: 0.0073 - val_loss: 0.0069\n",
            "Epoch 79/100\n",
            "18000/18000 [==============================] - 1s 36us/sample - loss: 0.0072 - val_loss: 0.0080\n",
            "Epoch 80/100\n",
            "18000/18000 [==============================] - 1s 36us/sample - loss: 0.0072 - val_loss: 0.0076\n",
            "Epoch 81/100\n",
            "18000/18000 [==============================] - 1s 35us/sample - loss: 0.0070 - val_loss: 0.0068\n",
            "Epoch 82/100\n",
            "18000/18000 [==============================] - 1s 36us/sample - loss: 0.0070 - val_loss: 0.0065\n",
            "Epoch 83/100\n",
            "18000/18000 [==============================] - 1s 37us/sample - loss: 0.0070 - val_loss: 0.0066\n",
            "Epoch 84/100\n",
            "18000/18000 [==============================] - 1s 36us/sample - loss: 0.0068 - val_loss: 0.0074\n",
            "Epoch 85/100\n",
            "18000/18000 [==============================] - 1s 35us/sample - loss: 0.0067 - val_loss: 0.0066\n",
            "Epoch 86/100\n",
            "18000/18000 [==============================] - 1s 36us/sample - loss: 0.0068 - val_loss: 0.0077\n",
            "Epoch 87/100\n",
            "18000/18000 [==============================] - 1s 36us/sample - loss: 0.0067 - val_loss: 0.0065\n",
            "Epoch 88/100\n",
            "18000/18000 [==============================] - 1s 35us/sample - loss: 0.0067 - val_loss: 0.0105\n",
            "Epoch 89/100\n",
            "18000/18000 [==============================] - 1s 35us/sample - loss: 0.0065 - val_loss: 0.0080\n",
            "Epoch 90/100\n",
            "18000/18000 [==============================] - 1s 35us/sample - loss: 0.0066 - val_loss: 0.0063\n",
            "Epoch 91/100\n",
            "18000/18000 [==============================] - 1s 35us/sample - loss: 0.0064 - val_loss: 0.0070\n",
            "Epoch 92/100\n",
            "18000/18000 [==============================] - 1s 35us/sample - loss: 0.0063 - val_loss: 0.0063\n",
            "Epoch 93/100\n",
            "18000/18000 [==============================] - 1s 35us/sample - loss: 0.0063 - val_loss: 0.0059\n",
            "Epoch 94/100\n",
            "18000/18000 [==============================] - 1s 35us/sample - loss: 0.0062 - val_loss: 0.0086\n",
            "Epoch 95/100\n",
            "18000/18000 [==============================] - 1s 35us/sample - loss: 0.0062 - val_loss: 0.0059\n",
            "Epoch 96/100\n",
            "18000/18000 [==============================] - 1s 35us/sample - loss: 0.0061 - val_loss: 0.0058\n",
            "Epoch 97/100\n",
            "18000/18000 [==============================] - 1s 34us/sample - loss: 0.0061 - val_loss: 0.0062\n",
            "Epoch 98/100\n",
            "18000/18000 [==============================] - 1s 35us/sample - loss: 0.0062 - val_loss: 0.0073\n",
            "Epoch 99/100\n",
            "18000/18000 [==============================] - 1s 36us/sample - loss: 0.0060 - val_loss: 0.0064\n",
            "Epoch 100/100\n",
            "18000/18000 [==============================] - 1s 36us/sample - loss: 0.0060 - val_loss: 0.0078\n"
          ],
          "name": "stdout"
        },
        {
          "output_type": "execute_result",
          "data": {
            "text/plain": [
              "<matplotlib.collections.PathCollection at 0x7f71a573b6a0>"
            ]
          },
          "metadata": {
            "tags": []
          },
          "execution_count": 32
        },
        {
          "output_type": "display_data",
          "data": {
            "image/png": "[encoded data removed]",
            "text/plain": [
              "<Figure size 432x288 with 1 Axes>"
            ]
          },
          "metadata": {
            "tags": []
          }
        }
      ]
    },
    {
      "cell_type": "markdown",
      "metadata": {
        "id": "KzTg8ocJ11NI",
        "colab_type": "text"
      },
      "source": [
        "출력 노드의 값은 0과 1이 서로 상반된다.\n",
        "\n",
        "하지만 이렇게 카테고리 개수 만큼 출력 노드가 있는 경우, 카테고리를 2개 이상으로 해도 처리가 가능해 진다."
      ]
    },
    {
      "cell_type": "markdown",
      "metadata": {
        "id": "MckR3PraC79y",
        "colab_type": "text"
      },
      "source": [
        "# 클래스 4개, 출력 노드 4개"
      ]
    },
    {
      "cell_type": "code",
      "metadata": {
        "id": "s5MGpN31104d",
        "colab_type": "code",
        "colab": {
          "base_uri": "https://localhost:8080/",
          "height": 442
        },
        "outputId": "ed0b94e3-bacb-4dad-fca1-b058e238424a"
      },
      "source": [
        "train_x = np.arange(0, 1, 0.001)\n",
        "\n",
        "class_index = np.zeros_like(train_x, dtype=np.int)\n",
        "class_index[:250] = 0\n",
        "class_index[250:500] = 1\n",
        "class_index[500:750] = 2\n",
        "class_index[750:] = 3\n",
        "\n",
        "\n",
        "plt.scatter(train_x, class_index)\n",
        "plt.show()\n",
        "\n",
        "train_y = np.zeros((1000, 4))\n",
        "train_y[np.arange(1000), class_index] = 1 # one-hot 인코딩\n",
        "\n",
        "print(train_y[245:255])"
      ],
      "execution_count": null,
      "outputs": [
        {
          "output_type": "display_data",
          "data": {
            "image/png": "[encoded data removed]",
            "text/plain": [
              "<Figure size 432x288 with 1 Axes>"
            ]
          },
          "metadata": {
            "tags": []
          }
        },
        {
          "output_type": "stream",
          "text": [
            "[[1. 0. 0. 0.]\n",
            " [1. 0. 0. 0.]\n",
            " [1. 0. 0. 0.]\n",
            " [1. 0. 0. 0.]\n",
            " [1. 0. 0. 0.]\n",
            " [0. 1. 0. 0.]\n",
            " [0. 1. 0. 0.]\n",
            " [0. 1. 0. 0.]\n",
            " [0. 1. 0. 0.]\n",
            " [0. 1. 0. 0.]]\n"
          ],
          "name": "stdout"
        }
      ]
    },
    {
      "cell_type": "code",
      "metadata": {
        "id": "yueRB3TCGBVx",
        "colab_type": "code",
        "colab": {
          "base_uri": "https://localhost:8080/",
          "height": 1000
        },
        "outputId": "f1436c76-46ea-4ed6-d7d7-6ea6a0f24d42"
      },
      "source": [
        "from tensorflow import keras\n",
        "from tensorflow.keras import optimizers\n",
        "from tensorflow.keras.layers import Dense\n",
        "from tensorflow.keras.optimizers import SGD\n",
        "\n",
        "\n",
        "model = keras.Sequential()\n",
        "model.add(Dense(10, activation='relu', input_shape=(1,)))\n",
        "model.add(Dense(10, activation='relu'))\n",
        "model.add(Dense(10, activation='relu'))\n",
        "model.add(Dense(4))\n",
        "\n",
        "model.compile(optimizer=\"SGD\", loss=\"mse\")\n",
        "model.fit(train_x, train_y, epochs=100, verbose=1, batch_size=1, validation_split=0.1)\n",
        "\n",
        "x_ = np.arange(0, 1, 0.01)\n",
        "y_ = model.predict(x_)\n",
        "for i in range(4):\n",
        "  plt.scatter(x_, y_[:,i])\n",
        "  plt.show()\n"
      ],
      "execution_count": null,
      "outputs": [
        {
          "output_type": "stream",
          "text": [
            "Train on 900 samples, validate on 100 samples\n",
            "Epoch 1/100\n",
            "900/900 [==============================] - 1s 992us/sample - loss: 0.1732 - val_loss: 0.2329\n",
            "Epoch 2/100\n",
            "900/900 [==============================] - 1s 891us/sample - loss: 0.1384 - val_loss: 0.1961\n",
            "Epoch 3/100\n",
            "900/900 [==============================] - 1s 884us/sample - loss: 0.1252 - val_loss: 0.1584\n",
            "Epoch 4/100\n",
            "900/900 [==============================] - 1s 907us/sample - loss: 0.1196 - val_loss: 0.1817\n",
            "Epoch 5/100\n",
            "900/900 [==============================] - 1s 907us/sample - loss: 0.1145 - val_loss: 0.1166\n",
            "Epoch 6/100\n",
            "900/900 [==============================] - 1s 990us/sample - loss: 0.1073 - val_loss: 0.1098\n",
            "Epoch 7/100\n",
            "900/900 [==============================] - 1s 916us/sample - loss: 0.0998 - val_loss: 0.0910\n",
            "Epoch 8/100\n",
            "900/900 [==============================] - 1s 931us/sample - loss: 0.0920 - val_loss: 0.0732\n",
            "Epoch 9/100\n",
            "900/900 [==============================] - 1s 870us/sample - loss: 0.0831 - val_loss: 0.0550\n",
            "Epoch 10/100\n",
            "900/900 [==============================] - 1s 902us/sample - loss: 0.0755 - val_loss: 0.0796\n",
            "Epoch 11/100\n",
            "900/900 [==============================] - 1s 926us/sample - loss: 0.0698 - val_loss: 0.0640\n",
            "Epoch 12/100\n",
            "900/900 [==============================] - 1s 926us/sample - loss: 0.0650 - val_loss: 0.0575\n",
            "Epoch 13/100\n",
            "900/900 [==============================] - 1s 977us/sample - loss: 0.0608 - val_loss: 0.0477\n",
            "Epoch 14/100\n",
            "900/900 [==============================] - 1s 970us/sample - loss: 0.0574 - val_loss: 0.0459\n",
            "Epoch 15/100\n",
            "900/900 [==============================] - 1s 989us/sample - loss: 0.0535 - val_loss: 0.0418\n",
            "Epoch 16/100\n",
            "900/900 [==============================] - 1s 979us/sample - loss: 0.0504 - val_loss: 0.0449\n",
            "Epoch 17/100\n",
            "900/900 [==============================] - 1s 932us/sample - loss: 0.0464 - val_loss: 0.0320\n",
            "Epoch 18/100\n",
            "900/900 [==============================] - 1s 942us/sample - loss: 0.0427 - val_loss: 0.0359\n",
            "Epoch 19/100\n",
            "900/900 [==============================] - 1s 927us/sample - loss: 0.0386 - val_loss: 0.0730\n",
            "Epoch 20/100\n",
            "900/900 [==============================] - 1s 934us/sample - loss: 0.0358 - val_loss: 0.0290\n",
            "Epoch 21/100\n",
            "900/900 [==============================] - 1s 903us/sample - loss: 0.0340 - val_loss: 0.0434\n",
            "Epoch 22/100\n",
            "900/900 [==============================] - 1s 932us/sample - loss: 0.0322 - val_loss: 0.0304\n",
            "Epoch 23/100\n",
            "900/900 [==============================] - 1s 907us/sample - loss: 0.0310 - val_loss: 0.0298\n",
            "Epoch 24/100\n",
            "900/900 [==============================] - 1s 997us/sample - loss: 0.0294 - val_loss: 0.0949\n",
            "Epoch 25/100\n",
            "900/900 [==============================] - 1s 974us/sample - loss: 0.0285 - val_loss: 0.0696\n",
            "Epoch 26/100\n",
            "900/900 [==============================] - 1s 942us/sample - loss: 0.0272 - val_loss: 0.0532\n",
            "Epoch 27/100\n",
            "900/900 [==============================] - 1s 980us/sample - loss: 0.0277 - val_loss: 0.0854\n",
            "Epoch 28/100\n",
            "900/900 [==============================] - 1s 985us/sample - loss: 0.0272 - val_loss: 0.0425\n",
            "Epoch 29/100\n",
            "900/900 [==============================] - 1s 977us/sample - loss: 0.0262 - val_loss: 0.2126\n",
            "Epoch 30/100\n",
            "900/900 [==============================] - 1s 963us/sample - loss: 0.0265 - val_loss: 0.0688\n",
            "Epoch 31/100\n",
            "900/900 [==============================] - 1s 1ms/sample - loss: 0.0263 - val_loss: 0.1437\n",
            "Epoch 32/100\n",
            "900/900 [==============================] - 1s 960us/sample - loss: 0.0253 - val_loss: 0.2082\n",
            "Epoch 33/100\n",
            "900/900 [==============================] - 1s 930us/sample - loss: 0.0263 - val_loss: 0.0393\n",
            "Epoch 34/100\n",
            "900/900 [==============================] - 1s 942us/sample - loss: 0.0250 - val_loss: 0.1769\n",
            "Epoch 35/100\n",
            "900/900 [==============================] - 1s 932us/sample - loss: 0.0247 - val_loss: 0.0873\n",
            "Epoch 36/100\n",
            "900/900 [==============================] - 1s 962us/sample - loss: 0.0239 - val_loss: 0.1873\n",
            "Epoch 37/100\n",
            "900/900 [==============================] - 1s 978us/sample - loss: 0.0241 - val_loss: 0.2234\n",
            "Epoch 38/100\n",
            "900/900 [==============================] - 1s 922us/sample - loss: 0.0233 - val_loss: 0.2150\n",
            "Epoch 39/100\n",
            "900/900 [==============================] - 1s 926us/sample - loss: 0.0227 - val_loss: 0.0802\n",
            "Epoch 40/100\n",
            "900/900 [==============================] - 1s 1ms/sample - loss: 0.0235 - val_loss: 0.2117\n",
            "Epoch 41/100\n",
            "900/900 [==============================] - 1s 967us/sample - loss: 0.0233 - val_loss: 0.0878\n",
            "Epoch 42/100\n",
            "900/900 [==============================] - 1s 944us/sample - loss: 0.0237 - val_loss: 0.0845\n",
            "Epoch 43/100\n",
            "900/900 [==============================] - 1s 944us/sample - loss: 0.0233 - val_loss: 0.1883\n",
            "Epoch 44/100\n",
            "900/900 [==============================] - 1s 908us/sample - loss: 0.0231 - val_loss: 0.0933\n",
            "Epoch 45/100\n",
            "900/900 [==============================] - 1s 960us/sample - loss: 0.0228 - val_loss: 0.0985\n",
            "Epoch 46/100\n",
            "900/900 [==============================] - 1s 945us/sample - loss: 0.0228 - val_loss: 0.1861\n",
            "Epoch 47/100\n",
            "900/900 [==============================] - 1s 971us/sample - loss: 0.0222 - val_loss: 0.1048\n",
            "Epoch 48/100\n",
            "900/900 [==============================] - 1s 955us/sample - loss: 0.0225 - val_loss: 0.1307\n",
            "Epoch 49/100\n",
            "900/900 [==============================] - 1s 954us/sample - loss: 0.0217 - val_loss: 0.1778\n",
            "Epoch 50/100\n",
            "900/900 [==============================] - 1s 944us/sample - loss: 0.0217 - val_loss: 0.1635\n",
            "Epoch 51/100\n",
            "900/900 [==============================] - 1s 900us/sample - loss: 0.0216 - val_loss: 0.1311\n",
            "Epoch 52/100\n",
            "900/900 [==============================] - 1s 943us/sample - loss: 0.0217 - val_loss: 0.1584\n",
            "Epoch 53/100\n",
            "900/900 [==============================] - 1s 903us/sample - loss: 0.0220 - val_loss: 0.0961\n",
            "Epoch 54/100\n",
            "900/900 [==============================] - 1s 948us/sample - loss: 0.0216 - val_loss: 0.0760\n",
            "Epoch 55/100\n",
            "900/900 [==============================] - 1s 909us/sample - loss: 0.0218 - val_loss: 0.1165\n",
            "Epoch 56/100\n",
            "900/900 [==============================] - 1s 920us/sample - loss: 0.0216 - val_loss: 0.0882\n",
            "Epoch 57/100\n",
            "900/900 [==============================] - 1s 938us/sample - loss: 0.0201 - val_loss: 0.0449\n",
            "Epoch 58/100\n",
            "900/900 [==============================] - 1s 904us/sample - loss: 0.0196 - val_loss: 0.1257\n",
            "Epoch 59/100\n",
            "900/900 [==============================] - 1s 939us/sample - loss: 0.0204 - val_loss: 0.0780\n",
            "Epoch 60/100\n",
            "900/900 [==============================] - 1s 946us/sample - loss: 0.0195 - val_loss: 0.0242\n",
            "Epoch 61/100\n",
            "900/900 [==============================] - 1s 924us/sample - loss: 0.0196 - val_loss: 0.0174\n",
            "Epoch 62/100\n",
            "900/900 [==============================] - 1s 937us/sample - loss: 0.0184 - val_loss: 0.0522\n",
            "Epoch 63/100\n",
            "900/900 [==============================] - 1s 946us/sample - loss: 0.0188 - val_loss: 0.0522\n",
            "Epoch 64/100\n",
            "900/900 [==============================] - 1s 962us/sample - loss: 0.0176 - val_loss: 0.0875\n",
            "Epoch 65/100\n",
            "900/900 [==============================] - 1s 946us/sample - loss: 0.0192 - val_loss: 0.0908\n",
            "Epoch 66/100\n",
            "900/900 [==============================] - 1s 908us/sample - loss: 0.0180 - val_loss: 0.1241\n",
            "Epoch 67/100\n",
            "900/900 [==============================] - 1s 905us/sample - loss: 0.0176 - val_loss: 0.0317\n",
            "Epoch 68/100\n",
            "900/900 [==============================] - 1s 925us/sample - loss: 0.0178 - val_loss: 0.0544\n",
            "Epoch 69/100\n",
            "900/900 [==============================] - 1s 922us/sample - loss: 0.0190 - val_loss: 0.0603\n",
            "Epoch 70/100\n",
            "900/900 [==============================] - 1s 936us/sample - loss: 0.0169 - val_loss: 0.0843\n",
            "Epoch 71/100\n",
            "900/900 [==============================] - 1s 954us/sample - loss: 0.0173 - val_loss: 0.0774\n",
            "Epoch 72/100\n",
            "900/900 [==============================] - 1s 964us/sample - loss: 0.0174 - val_loss: 0.0859\n",
            "Epoch 73/100\n",
            "900/900 [==============================] - 1s 919us/sample - loss: 0.0161 - val_loss: 0.0240\n",
            "Epoch 74/100\n",
            "900/900 [==============================] - 1s 949us/sample - loss: 0.0173 - val_loss: 0.0303\n",
            "Epoch 75/100\n",
            "900/900 [==============================] - 1s 954us/sample - loss: 0.0169 - val_loss: 0.0904\n",
            "Epoch 76/100\n",
            "900/900 [==============================] - 1s 975us/sample - loss: 0.0167 - val_loss: 0.0808\n",
            "Epoch 77/100\n",
            "900/900 [==============================] - 1s 1ms/sample - loss: 0.0178 - val_loss: 0.1506\n",
            "Epoch 78/100\n",
            "900/900 [==============================] - 1s 936us/sample - loss: 0.0168 - val_loss: 0.0117\n",
            "Epoch 79/100\n",
            "900/900 [==============================] - 1s 911us/sample - loss: 0.0168 - val_loss: 0.0369\n",
            "Epoch 80/100\n",
            "900/900 [==============================] - 1s 945us/sample - loss: 0.0164 - val_loss: 0.0630\n",
            "Epoch 81/100\n",
            "900/900 [==============================] - 1s 965us/sample - loss: 0.0160 - val_loss: 0.0895\n",
            "Epoch 82/100\n",
            "900/900 [==============================] - 1s 971us/sample - loss: 0.0166 - val_loss: 0.1010\n",
            "Epoch 83/100\n",
            "900/900 [==============================] - 1s 956us/sample - loss: 0.0168 - val_loss: 0.0612\n",
            "Epoch 84/100\n",
            "900/900 [==============================] - 1s 955us/sample - loss: 0.0170 - val_loss: 0.0700\n",
            "Epoch 85/100\n",
            "900/900 [==============================] - 1s 939us/sample - loss: 0.0166 - val_loss: 0.1315\n",
            "Epoch 86/100\n",
            "900/900 [==============================] - 1s 946us/sample - loss: 0.0161 - val_loss: 0.0827\n",
            "Epoch 87/100\n",
            "900/900 [==============================] - 1s 953us/sample - loss: 0.0158 - val_loss: 0.0492\n",
            "Epoch 88/100\n",
            "900/900 [==============================] - 1s 936us/sample - loss: 0.0170 - val_loss: 0.0673\n",
            "Epoch 89/100\n",
            "900/900 [==============================] - 1s 943us/sample - loss: 0.0158 - val_loss: 0.0805\n",
            "Epoch 90/100\n",
            "900/900 [==============================] - 1s 934us/sample - loss: 0.0165 - val_loss: 0.0309\n",
            "Epoch 91/100\n",
            "900/900 [==============================] - 1s 962us/sample - loss: 0.0148 - val_loss: 0.0352\n",
            "Epoch 92/100\n",
            "900/900 [==============================] - 1s 918us/sample - loss: 0.0161 - val_loss: 0.1317\n",
            "Epoch 93/100\n",
            "900/900 [==============================] - 1s 931us/sample - loss: 0.0154 - val_loss: 0.1267\n",
            "Epoch 94/100\n",
            "900/900 [==============================] - 1s 939us/sample - loss: 0.0158 - val_loss: 0.0363\n",
            "Epoch 95/100\n",
            "900/900 [==============================] - 1s 933us/sample - loss: 0.0160 - val_loss: 0.0569\n",
            "Epoch 96/100\n",
            "900/900 [==============================] - 1s 908us/sample - loss: 0.0151 - val_loss: 0.0624\n",
            "Epoch 97/100\n",
            "900/900 [==============================] - 1s 911us/sample - loss: 0.0160 - val_loss: 0.1878\n",
            "Epoch 98/100\n",
            "900/900 [==============================] - 1s 915us/sample - loss: 0.0146 - val_loss: 0.0484\n",
            "Epoch 99/100\n",
            "900/900 [==============================] - 1s 922us/sample - loss: 0.0156 - val_loss: 0.1114\n",
            "Epoch 100/100\n",
            "900/900 [==============================] - 1s 959us/sample - loss: 0.0158 - val_loss: 0.1289\n"
          ],
          "name": "stdout"
        },
        {
          "output_type": "display_data",
          "data": {
            "image/png": "[encoded data removed]",
            "text/plain": [
              "<Figure size 432x288 with 1 Axes>"
            ]
          },
          "metadata": {
            "tags": []
          }
        },
        {
          "output_type": "display_data",
          "data": {
            "image/png": "[encoded data removed]",
            "text/plain": [
              "<Figure size 432x288 with 1 Axes>"
            ]
          },
          "metadata": {
            "tags": []
          }
        },
        {
          "output_type": "display_data",
          "data": {
            "image/png": "[encoded data removed]",
            "text/plain": [
              "<Figure size 432x288 with 1 Axes>"
            ]
          },
          "metadata": {
            "tags": []
          }
        },
        {
          "output_type": "display_data",
          "data": {
            "image/png": "[encoded data removed]",
            "text/plain": [
              "<Figure size 432x288 with 1 Axes>"
            ]
          },
          "metadata": {
            "tags": []
          }
        }
      ]
    },
    {
      "cell_type": "code",
      "metadata": {
        "id": "82mnxtU0OqBH",
        "colab_type": "code",
        "colab": {}
      },
      "source": [
        ""
      ],
      "execution_count": null,
      "outputs": []
    }
  ]
}
