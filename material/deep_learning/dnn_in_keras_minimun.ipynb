{
  "nbformat": 4,
  "nbformat_minor": 0,
  "metadata": {
    "colab": {
      "name": " dnn_in_keras_minimun.ipynb",
      "provenance": [],
      "collapsed_sections": [],
      "toc_visible": true
    },
    "kernelspec": {
      "name": "python3",
      "display_name": "Python 3"
    },
    "accelerator": "GPU"
  },
  "cells": [
    {
      "cell_type": "code",
      "metadata": {
        "id": "p_BD2sWTprLz",
        "colab": {
          "base_uri": "https://localhost:8080/"
        },
        "outputId": "446170f2-d0a5-4e38-a334-34affc4f7c97"
      },
      "source": [
        "%tensorflow_version 1.x\n",
        "import tensorflow\n",
        "print(tensorflow.__version__)"
      ],
      "execution_count": 1,
      "outputs": [
        {
          "output_type": "stream",
          "text": [
            "TensorFlow 1.x selected.\n",
            "1.15.2\n"
          ],
          "name": "stdout"
        }
      ]
    },
    {
      "cell_type": "markdown",
      "metadata": {
        "id": "Mte4_QlwwrlF"
      },
      "source": [
        "# 모듈 임포팅"
      ]
    },
    {
      "cell_type": "code",
      "metadata": {
        "id": "2YegBF6qExut"
      },
      "source": [
        "import numpy as np\n",
        "import pandas as pd\n",
        "import matplotlib.pyplot as plt\n",
        "\n",
        "import tensorflow as tf\n",
        "from tensorflow import keras\n",
        "\n",
        "import time"
      ],
      "execution_count": 2,
      "outputs": []
    },
    {
      "cell_type": "code",
      "metadata": {
        "id": "HNGWUXDmv2nF"
      },
      "source": [
        "from tensorflow.keras import optimizers\n",
        "from tensorflow.keras.layers import Dense"
      ],
      "execution_count": 3,
      "outputs": []
    },
    {
      "cell_type": "markdown",
      "metadata": {
        "id": "jJBqaE5oyaIi"
      },
      "source": [
        "# 데이터 준비\n",
        "\n",
        "1차원 데이터 x와 x**2의 1차원 데이타 y"
      ]
    },
    {
      "cell_type": "code",
      "metadata": {
        "id": "zEj2Fb6HMrnt",
        "colab": {
          "base_uri": "https://localhost:8080/",
          "height": 282
        },
        "outputId": "0b34aaf8-3f6e-47ed-b073-398db6eb4d81"
      },
      "source": [
        "import numpy as np\n",
        "\n",
        "x = np.arange(-1,1,0.01)\n",
        "y = x**2\n",
        "\n",
        "plt.scatter(x,y)"
      ],
      "execution_count": 4,
      "outputs": [
        {
          "output_type": "execute_result",
          "data": {
            "text/plain": [
              "<matplotlib.collections.PathCollection at 0x7f4a20bc3c10>"
            ]
          },
          "metadata": {
            "tags": []
          },
          "execution_count": 4
        },
        {
          "output_type": "display_data",
          "data": {
            "image/png": "[encoded data removed]",
            "text/plain": [
              "<Figure size 432x288 with 1 Axes>"
            ]
          },
          "metadata": {
            "tags": [],
            "needs_background": "light"
          }
        }
      ]
    },
    {
      "cell_type": "code",
      "metadata": {
        "id": "PSlhN2bS2pwj",
        "colab": {
          "base_uri": "https://localhost:8080/"
        },
        "outputId": "18ceb6cb-8a6a-4afa-c5a4-343a46c92826"
      },
      "source": [
        "print(len(x))\n",
        "print(x.shape)\n"
      ],
      "execution_count": 5,
      "outputs": [
        {
          "output_type": "stream",
          "text": [
            "200\n",
            "(200,)\n"
          ],
          "name": "stdout"
        }
      ]
    },
    {
      "cell_type": "markdown",
      "metadata": {
        "id": "o5Z0WwGByiBd"
      },
      "source": [
        "# Keras DNN 최소 코드\n",
        "\n",
        "아래의 코드는 최소 코드."
      ]
    },
    {
      "cell_type": "code",
      "metadata": {
        "id": "k0ti9sKoMrrE",
        "colab": {
          "base_uri": "https://localhost:8080/",
          "height": 338
        },
        "outputId": "1cbedf50-62bd-497f-9c0c-e0937eb9f8ef"
      },
      "source": [
        "import numpy as np\n",
        "import matplotlib.pyplot as plt\n",
        "\n",
        "from tensorflow import keras\n",
        "from tensorflow.keras import optimizers\n",
        "from tensorflow.keras.layers import Dense, Input\n",
        "\n",
        "import time\n",
        "\n",
        "\n",
        "# 모델 정의\n",
        "model = keras.Sequential()\n",
        "model.add(Input(1))\n",
        "model.add(Dense(10, activation='tanh'))\n",
        "model.add(Dense(10, activation='tanh'))\n",
        "model.add(Dense(1))\n",
        "\n",
        "\n",
        "# 컴파일 : 모델 + optimizer + loss\n",
        "model.compile(optimizer=\"SGD\", loss=\"mse\")\n",
        "\n",
        "\n",
        "# 학습\n",
        "model.fit(x, y, epochs=1000, verbose=0, batch_size=20)\n",
        "\n",
        "\n",
        "# 예측\n",
        "y_ = model.predict(x)\n",
        "\n",
        "\n",
        "# 결과 그래프로 보기\n",
        "plt.scatter(x,y) # 정답\n",
        "plt.scatter(x,y_,color='r') # 결과\n",
        "plt.show()"
      ],
      "execution_count": 6,
      "outputs": [
        {
          "output_type": "stream",
          "text": [
            "WARNING:tensorflow:From /tensorflow-1.15.2/python3.7/tensorflow_core/python/ops/resource_variable_ops.py:1630: calling BaseResourceVariable.__init__ (from tensorflow.python.ops.resource_variable_ops) with constraint is deprecated and will be removed in a future version.\n",
            "Instructions for updating:\n",
            "If using Keras pass *_constraint arguments to layers.\n"
          ],
          "name": "stdout"
        },
        {
          "output_type": "display_data",
          "data": {
            "image/png": "[encoded data removed]",
            "text/plain": [
              "<Figure size 432x288 with 1 Axes>"
            ]
          },
          "metadata": {
            "tags": [],
            "needs_background": "light"
          }
        }
      ]
    },
    {
      "cell_type": "markdown",
      "metadata": {
        "id": "0e9tc-p1NjN8"
      },
      "source": [
        "## model.evaluate() - 성능 평가하기"
      ]
    },
    {
      "cell_type": "code",
      "metadata": {
        "id": "WAT9UZiXMrwY",
        "colab": {
          "base_uri": "https://localhost:8080/",
          "height": 318
        },
        "outputId": "51415cf8-c0a3-4972-af7a-b2c2da8993c0"
      },
      "source": [
        "from tensorflow.keras import optimizers\n",
        "from tensorflow.keras.layers import Dense\n",
        "\n",
        "\n",
        "model = keras.Sequential()\n",
        "#model.add(Input(1))\n",
        "model.add(Dense(10, activation='tanh', input_shape=(1,) ))\n",
        "model.add(Dense(10, activation='tanh' ))\n",
        "model.add(Dense(1))\n",
        "\n",
        "\n",
        "#model.compile(optimizer=\"SGD\", loss=\"mse\")\n",
        "model.compile(optimizer=\"SGD\", loss=\"mse\", metrics=[\"mse\"])\n",
        "\n",
        "\n",
        "model.fit(x, y, epochs=1000, verbose=0, batch_size=20)\n",
        "\n",
        "loss, mse = model.evaluate(x, y) # ADD\n",
        "print(\"loss=\",loss) # ADD\n",
        "print(\"mse=\",mse) # ADD\n",
        "\n",
        "\n",
        "y_ = model.predict(x)\n",
        "\n",
        "\n",
        "plt.scatter(x,y)\n",
        "plt.scatter(x,y_,color='r')\n",
        "plt.show()"
      ],
      "execution_count": 7,
      "outputs": [
        {
          "output_type": "stream",
          "text": [
            "200/200 [==============================] - 0s 169us/sample - loss: 0.0023 - mean_squared_error: 0.0023\n",
            "loss= 0.0022535597160458563\n",
            "mse= 0.00225356\n"
          ],
          "name": "stdout"
        },
        {
          "output_type": "display_data",
          "data": {
            "image/png": "[encoded data removed]",
            "text/plain": [
              "<Figure size 432x288 with 1 Axes>"
            ]
          },
          "metadata": {
            "tags": [],
            "needs_background": "light"
          }
        }
      ]
    },
    {
      "cell_type": "markdown",
      "metadata": {
        "id": "cEKtss5Oz4-L"
      },
      "source": [
        "출력에 loss와 mse가 추가되었다."
      ]
    },
    {
      "cell_type": "markdown",
      "metadata": {
        "id": "Jp3u-snhSL6W"
      },
      "source": [
        "## 테스트셋으로 평가하기\n",
        "\n",
        "데이터를 train과 test으로 나누어 준비한다."
      ]
    },
    {
      "cell_type": "code",
      "metadata": {
        "id": "Bd8YIGMLSvJ1",
        "colab": {
          "base_uri": "https://localhost:8080/",
          "height": 265
        },
        "outputId": "2649223d-f063-4468-b5ad-0c9bd9bf9954"
      },
      "source": [
        "x = np.arange(-1,1,0.01)\n",
        "np.random.shuffle(x)\n",
        "y = x**2\n",
        "\n",
        "split_index = int(x.shape[0]*0.6)\n",
        "\n",
        "train_x, test_x = x[:split_index], x[split_index:]\n",
        "train_y, test_y = y[:split_index], y[split_index:]\n",
        "\n",
        "plt.scatter(train_x,train_y)\n",
        "plt.scatter(test_x,test_y)\n",
        "plt.show()"
      ],
      "execution_count": 8,
      "outputs": [
        {
          "output_type": "display_data",
          "data": {
            "image/png": "[encoded data removed]",
            "text/plain": [
              "<Figure size 432x288 with 1 Axes>"
            ]
          },
          "metadata": {
            "tags": [],
            "needs_background": "light"
          }
        }
      ]
    },
    {
      "cell_type": "code",
      "metadata": {
        "id": "E8M503BOSOu-",
        "colab": {
          "base_uri": "https://localhost:8080/",
          "height": 320
        },
        "outputId": "11b7c8c2-ba68-41b9-9c5e-dc075f65cf36"
      },
      "source": [
        "model = keras.Sequential()\n",
        "model.add(Dense(10, activation='tanh', input_shape=(1,)))\n",
        "model.add(Dense(10, activation='tanh'))\n",
        "model.add(Dense(1))\n",
        "\n",
        "\n",
        "model.compile(optimizer=\"SGD\", loss=\"mse\", metrics=[\"mse\"])\n",
        "\n",
        "\n",
        "# model.fit(x, y, epochs=1000, verbose=0, batch_size=20)\n",
        "model.fit(train_x, train_y, epochs=1000, verbose=0, batch_size=20)\n",
        "\n",
        "\n",
        "# loss, mse = model.evaluate(x, y)\n",
        "loss, mse = model.evaluate(test_x, test_y)\n",
        "print(\"loss=\",loss)\n",
        "print(\"mse=\",mse)\n",
        "\n",
        "\n",
        "# y_ = model.predict(x)\n",
        "y_ = model.predict(test_x)\n",
        "\n",
        "# plt.scatter(x,y)\n",
        "plt.scatter(test_x,test_y)\n",
        "# plt.scatter(x,y_,color='r')\n",
        "plt.scatter(test_x,y_,color='r')\n",
        "plt.show()"
      ],
      "execution_count": 9,
      "outputs": [
        {
          "output_type": "stream",
          "text": [
            "80/80 [==============================] - 0s 310us/sample - loss: 0.0018 - mean_squared_error: 0.0018\n",
            "loss= 0.0018362625036388637\n",
            "mse= 0.0018362624\n"
          ],
          "name": "stdout"
        },
        {
          "output_type": "display_data",
          "data": {
            "image/png": "[encoded data removed]",
            "text/plain": [
              "<Figure size 432x288 with 1 Axes>"
            ]
          },
          "metadata": {
            "tags": [],
            "needs_background": "light"
          }
        }
      ]
    },
    {
      "cell_type": "markdown",
      "metadata": {
        "id": "LujK_3NBz9N5"
      },
      "source": [
        "train_x, train_y로 학습하였고,\n",
        "evaluate()와 predict()에는 test_x, test_y를 사용하였다.\n",
        "\n",
        "그려진 그림을 보면 test_x의 점사이에 빈 간격이 보인다. 그 간격이 train_x에 해당한다."
      ]
    },
    {
      "cell_type": "markdown",
      "metadata": {
        "id": "M0o-2M3BYsGr"
      },
      "source": [
        "## 학습 시간을 출력"
      ]
    },
    {
      "cell_type": "code",
      "metadata": {
        "id": "Z66QeNbxYukl",
        "colab": {
          "base_uri": "https://localhost:8080/",
          "height": 338
        },
        "outputId": "ba0a8be1-024c-44d4-c4e3-f8f388ecd7c2"
      },
      "source": [
        "model = keras.Sequential()\n",
        "model.add(Dense(10, activation='tanh', input_shape=(1,)))\n",
        "model.add(Dense(10, activation='tanh'))\n",
        "model.add(Dense(1))\n",
        "\n",
        "\n",
        "model.compile(optimizer=\"SGD\", loss=\"mse\", metrics=[\"mse\"])\n",
        "\n",
        "start_time = time.time() # ADD\n",
        "model.fit(train_x, train_y, epochs=1000, verbose=0, batch_size=20)\n",
        "print(\"elapsed : {}\".format(time.time() - start_time)) # ADD \n",
        "    \n",
        "\n",
        "loss, mse = model.evaluate(test_x, test_y)\n",
        "print(\"loss=\",loss)\n",
        "print(\"mse=\",mse)\n",
        "\n",
        "\n",
        "y_ = model.predict(test_x)\n",
        "\n",
        "plt.scatter(test_x,test_y)\n",
        "plt.scatter(test_x,y_,color='r')\n",
        "plt.show()"
      ],
      "execution_count": 10,
      "outputs": [
        {
          "output_type": "stream",
          "text": [
            "elapsed : 10.75321102142334\n",
            "80/80 [==============================] - 0s 333us/sample - loss: 0.0027 - mean_squared_error: 0.0027\n",
            "loss= 0.002707631094381213\n",
            "mse= 0.0027076309\n"
          ],
          "name": "stdout"
        },
        {
          "output_type": "display_data",
          "data": {
            "image/png": "[encoded data removed]",
            "text/plain": [
              "<Figure size 432x288 with 1 Axes>"
            ]
          },
          "metadata": {
            "tags": [],
            "needs_background": "light"
          }
        }
      ]
    },
    {
      "cell_type": "markdown",
      "metadata": {
        "id": "rDrqq-7b0L1E"
      },
      "source": [
        "elapsed로 경과된 시간이 초 단위로 보인다."
      ]
    },
    {
      "cell_type": "markdown",
      "metadata": {
        "id": "jQkpZHJWckjq"
      },
      "source": [
        "## model.summary() 네트웤 모양 보기"
      ]
    },
    {
      "cell_type": "code",
      "metadata": {
        "id": "yBZdqkq7cqeO",
        "colab": {
          "base_uri": "https://localhost:8080/",
          "height": 531
        },
        "outputId": "81b851ac-8131-403e-d022-d86bcd54be81"
      },
      "source": [
        "model = keras.Sequential()\n",
        "model.add(Dense(10, activation='tanh', input_shape=(1,)))\n",
        "model.add(Dense(10, activation='tanh'))\n",
        "model.add(Dense(1))\n",
        "\n",
        "\n",
        "model.compile(optimizer=\"SGD\", loss=\"mse\", metrics=[\"mse\"])\n",
        "model.summary() # ADD\n",
        "\n",
        "start_time = time.time()\n",
        "model.fit(train_x, train_y, epochs=1000, verbose=0, batch_size=20)\n",
        "print(\"elapsed : {}\".format(time.time() - start_time))\n",
        "\n",
        "\n",
        "y_ = model.predict(test_x)\n",
        "\n",
        "plt.scatter(test_x,test_y)\n",
        "plt.scatter(test_x,y_,color='r')\n",
        "plt.show()"
      ],
      "execution_count": 11,
      "outputs": [
        {
          "output_type": "stream",
          "text": [
            "Model: \"sequential_4\"\n",
            "_________________________________________________________________\n",
            "Layer (type)                 Output Shape              Param #   \n",
            "=================================================================\n",
            "dense_12 (Dense)             (None, 10)                20        \n",
            "_________________________________________________________________\n",
            "dense_13 (Dense)             (None, 10)                110       \n",
            "_________________________________________________________________\n",
            "dense_14 (Dense)             (None, 1)                 11        \n",
            "=================================================================\n",
            "Total params: 141\n",
            "Trainable params: 141\n",
            "Non-trainable params: 0\n",
            "_________________________________________________________________\n",
            "elapsed : 10.784110069274902\n"
          ],
          "name": "stdout"
        },
        {
          "output_type": "display_data",
          "data": {
            "image/png": "[encoded data removed]",
            "text/plain": [
              "<Figure size 432x288 with 1 Axes>"
            ]
          },
          "metadata": {
            "tags": [],
            "needs_background": "light"
          }
        }
      ]
    },
    {
      "cell_type": "markdown",
      "metadata": {
        "id": "BbW6vjIb0TJI"
      },
      "source": [
        "네트웤의 모양이 보인다.\n",
        "\n",
        "노드 10개, 10개를 갖는 은닉층 2개가 있다.\n",
        "\n",
        "\n",
        "모든 레이어는 activation(w\\*x+b) 의 형태로, \n",
        "\n",
        "첫 번 째 은닉층은 20개( = ((1+1)\\*10) = (입력수+1)\\*10)의 웨이트를, \n",
        "\n",
        "두 번 째 은닉층은 110개( = ( (10+1)\\*10) )의 웨이트가 있다.. \n"
      ]
    },
    {
      "cell_type": "markdown",
      "metadata": {
        "id": "31Xxr4IckI9R"
      },
      "source": [
        "# Keras DNN Template\n",
        "\n",
        "본 실습에 사용되는 코든 코드의 템플릿.\n"
      ]
    },
    {
      "cell_type": "code",
      "metadata": {
        "id": "Eq_eO6o9kMA1",
        "colab": {
          "base_uri": "https://localhost:8080/",
          "height": 584
        },
        "outputId": "8827144c-0859-4d25-9e7d-2f919eeca771"
      },
      "source": [
        "import numpy as np\n",
        "import matplotlib.pyplot as plt\n",
        "\n",
        "from tensorflow import keras\n",
        "from tensorflow.keras import optimizers\n",
        "from tensorflow.keras.layers import Dense\n",
        "\n",
        "import time\n",
        "\n",
        "\n",
        "# 모델 정의\n",
        "model = keras.Sequential()\n",
        "model.add(Dense(10, activation='tanh', input_shape=(1,)))\n",
        "model.add(Dense(10, activation='tanh'))\n",
        "model.add(Dense(1))\n",
        "\n",
        "\n",
        "# 모델 컴파일\n",
        "model.compile(optimizer=\"SGD\", loss=\"mse\", metrics=[\"mse\"])\n",
        "model.summary()\n",
        "\n",
        "\n",
        "# 학습\n",
        "start_time = time.time()\n",
        "model.fit(train_x, train_y, epochs=1000, verbose=0, batch_size=20)\n",
        "print(\"elapsed : {}\".format(time.time() - start_time))\n",
        "\n",
        "\n",
        "# 평가\n",
        "loss, mse = model.evaluate(test_x, test_y)\n",
        "print(\"loss=\",loss)\n",
        "print(\"mse=\",mse)\n",
        "\n",
        "\n",
        "# 예측\n",
        "y_ = model.predict(test_x)\n",
        "\n",
        "plt.scatter(test_x,test_y)\n",
        "plt.scatter(test_x,y_,color='r')\n",
        "plt.show()"
      ],
      "execution_count": 12,
      "outputs": [
        {
          "output_type": "stream",
          "text": [
            "Model: \"sequential_5\"\n",
            "_________________________________________________________________\n",
            "Layer (type)                 Output Shape              Param #   \n",
            "=================================================================\n",
            "dense_15 (Dense)             (None, 10)                20        \n",
            "_________________________________________________________________\n",
            "dense_16 (Dense)             (None, 10)                110       \n",
            "_________________________________________________________________\n",
            "dense_17 (Dense)             (None, 1)                 11        \n",
            "=================================================================\n",
            "Total params: 141\n",
            "Trainable params: 141\n",
            "Non-trainable params: 0\n",
            "_________________________________________________________________\n",
            "elapsed : 10.756653308868408\n",
            "80/80 [==============================] - 0s 479us/sample - loss: 0.0024 - mean_squared_error: 0.0024\n",
            "loss= 0.002391986083239317\n",
            "mse= 0.002391986\n"
          ],
          "name": "stdout"
        },
        {
          "output_type": "display_data",
          "data": {
            "image/png": "[encoded data removed]",
            "text/plain": [
              "<Figure size 432x288 with 1 Axes>"
            ]
          },
          "metadata": {
            "tags": [],
            "needs_background": "light"
          }
        }
      ]
    },
    {
      "cell_type": "code",
      "metadata": {
        "id": "Bb7Nsx7rHe6S"
      },
      "source": [
        ""
      ],
      "execution_count": null,
      "outputs": []
    }
  ]
}