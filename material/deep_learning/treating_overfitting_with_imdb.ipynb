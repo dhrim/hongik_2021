{
  "nbformat": 4,
  "nbformat_minor": 0,
  "metadata": {
    "accelerator": "GPU",
    "colab": {
      "name": "treating_overfitting_with_imdb.ipynb",
      "provenance": [],
      "collapsed_sections": [
        "fTFj8ft5dlbS"
      ]
    },
    "kernelspec": {
      "display_name": "Python 3",
      "name": "python3"
    }
  },
  "cells": [
    {
      "cell_type": "code",
      "metadata": {
        "id": "QvT6QNqoKOXG",
        "colab": {
          "base_uri": "https://localhost:8080/"
        },
        "outputId": "061647a6-057c-43f8-a665-35d4b2b42b63"
      },
      "source": [
        "%tensorflow_version 1.x"
      ],
      "execution_count": 1,
      "outputs": [
        {
          "output_type": "stream",
          "text": [
            "TensorFlow 1.x selected.\n"
          ],
          "name": "stdout"
        }
      ]
    },
    {
      "cell_type": "markdown",
      "metadata": {
        "id": "C9HmC2T4ld5B"
      },
      "source": [
        "# 오버피팅 처리. IMDB 데이터\n",
        "\n",
        "copy from https://www.tensorflow.org/tutorials/keras/overfit_and_underfit?hl=ko\n"
      ]
    },
    {
      "cell_type": "code",
      "metadata": {
        "id": "5pZ8A2liqvgk"
      },
      "source": [
        "import tensorflow as tf\n",
        "from tensorflow import keras\n",
        "\n",
        "import numpy as np\n",
        "import matplotlib.pyplot as plt"
      ],
      "execution_count": 2,
      "outputs": []
    },
    {
      "cell_type": "markdown",
      "metadata": {
        "id": "-d3335KZKWke"
      },
      "source": [
        "# 데이터 준비"
      ]
    },
    {
      "cell_type": "code",
      "metadata": {
        "id": "aRl8BwQhKVSy"
      },
      "source": [
        "NUM_WORDS = 1000"
      ],
      "execution_count": 3,
      "outputs": []
    },
    {
      "cell_type": "code",
      "metadata": {
        "id": "PkZfm42fKyx5",
        "colab": {
          "base_uri": "https://localhost:8080/"
        },
        "outputId": "aeca07d2-769d-4b1d-9238-c0836edfec32"
      },
      "source": [
        "(raw_train_x, raw_train_y), (raw_test_x, raw_test_y) = tf.keras.datasets.imdb.load_data(num_words=NUM_WORDS)\n",
        "\n",
        "print(raw_train_x.shape)\n",
        "print(raw_train_y.shape)\n",
        "print(raw_test_x.shape)\n",
        "print(raw_test_y.shape)"
      ],
      "execution_count": 6,
      "outputs": [
        {
          "output_type": "stream",
          "text": [
            "(25000,)\n",
            "(25000,)\n",
            "(25000,)\n",
            "(25000,)\n"
          ],
          "name": "stdout"
        }
      ]
    },
    {
      "cell_type": "code",
      "metadata": {
        "id": "CO1KFBtwK84Z",
        "colab": {
          "base_uri": "https://localhost:8080/"
        },
        "outputId": "d0d36970-d900-4db9-89f2-ca171b95a241"
      },
      "source": [
        "print(raw_train_x[:5])\n",
        "print(raw_train_y[:5])"
      ],
      "execution_count": 7,
      "outputs": [
        {
          "output_type": "stream",
          "text": [
            "[list([1, 14, 22, 16, 43, 530, 973, 2, 2, 65, 458, 2, 66, 2, 4, 173, 36, 256, 5, 25, 100, 43, 838, 112, 50, 670, 2, 9, 35, 480, 284, 5, 150, 4, 172, 112, 167, 2, 336, 385, 39, 4, 172, 2, 2, 17, 546, 38, 13, 447, 4, 192, 50, 16, 6, 147, 2, 19, 14, 22, 4, 2, 2, 469, 4, 22, 71, 87, 12, 16, 43, 530, 38, 76, 15, 13, 2, 4, 22, 17, 515, 17, 12, 16, 626, 18, 2, 5, 62, 386, 12, 8, 316, 8, 106, 5, 4, 2, 2, 16, 480, 66, 2, 33, 4, 130, 12, 16, 38, 619, 5, 25, 124, 51, 36, 135, 48, 25, 2, 33, 6, 22, 12, 215, 28, 77, 52, 5, 14, 407, 16, 82, 2, 8, 4, 107, 117, 2, 15, 256, 4, 2, 7, 2, 5, 723, 36, 71, 43, 530, 476, 26, 400, 317, 46, 7, 4, 2, 2, 13, 104, 88, 4, 381, 15, 297, 98, 32, 2, 56, 26, 141, 6, 194, 2, 18, 4, 226, 22, 21, 134, 476, 26, 480, 5, 144, 30, 2, 18, 51, 36, 28, 224, 92, 25, 104, 4, 226, 65, 16, 38, 2, 88, 12, 16, 283, 5, 16, 2, 113, 103, 32, 15, 16, 2, 19, 178, 32])\n",
            " list([1, 194, 2, 194, 2, 78, 228, 5, 6, 2, 2, 2, 134, 26, 4, 715, 8, 118, 2, 14, 394, 20, 13, 119, 954, 189, 102, 5, 207, 110, 2, 21, 14, 69, 188, 8, 30, 23, 7, 4, 249, 126, 93, 4, 114, 9, 2, 2, 5, 647, 4, 116, 9, 35, 2, 4, 229, 9, 340, 2, 4, 118, 9, 4, 130, 2, 19, 4, 2, 5, 89, 29, 952, 46, 37, 4, 455, 9, 45, 43, 38, 2, 2, 398, 4, 2, 26, 2, 5, 163, 11, 2, 2, 4, 2, 9, 194, 775, 7, 2, 2, 349, 2, 148, 605, 2, 2, 15, 123, 125, 68, 2, 2, 15, 349, 165, 2, 98, 5, 4, 228, 9, 43, 2, 2, 15, 299, 120, 5, 120, 174, 11, 220, 175, 136, 50, 9, 2, 228, 2, 5, 2, 656, 245, 2, 5, 4, 2, 131, 152, 491, 18, 2, 32, 2, 2, 14, 9, 6, 371, 78, 22, 625, 64, 2, 9, 8, 168, 145, 23, 4, 2, 15, 16, 4, 2, 5, 28, 6, 52, 154, 462, 33, 89, 78, 285, 16, 145, 95])\n",
            " list([1, 14, 47, 8, 30, 31, 7, 4, 249, 108, 7, 4, 2, 54, 61, 369, 13, 71, 149, 14, 22, 112, 4, 2, 311, 12, 16, 2, 33, 75, 43, 2, 296, 4, 86, 320, 35, 534, 19, 263, 2, 2, 4, 2, 33, 89, 78, 12, 66, 16, 4, 360, 7, 4, 58, 316, 334, 11, 4, 2, 43, 645, 662, 8, 257, 85, 2, 42, 2, 2, 83, 68, 2, 15, 36, 165, 2, 278, 36, 69, 2, 780, 8, 106, 14, 2, 2, 18, 6, 22, 12, 215, 28, 610, 40, 6, 87, 326, 23, 2, 21, 23, 22, 12, 272, 40, 57, 31, 11, 4, 22, 47, 6, 2, 51, 9, 170, 23, 595, 116, 595, 2, 13, 191, 79, 638, 89, 2, 14, 9, 8, 106, 607, 624, 35, 534, 6, 227, 7, 129, 113])\n",
            " list([1, 4, 2, 2, 33, 2, 4, 2, 432, 111, 153, 103, 4, 2, 13, 70, 131, 67, 11, 61, 2, 744, 35, 2, 761, 61, 2, 452, 2, 4, 985, 7, 2, 59, 166, 4, 105, 216, 2, 41, 2, 9, 15, 7, 35, 744, 2, 31, 8, 4, 687, 23, 4, 2, 2, 6, 2, 42, 38, 39, 121, 59, 456, 10, 10, 7, 265, 12, 575, 111, 153, 159, 59, 16, 2, 21, 25, 586, 482, 39, 4, 96, 59, 716, 12, 4, 172, 65, 9, 579, 11, 2, 4, 2, 5, 2, 7, 2, 17, 13, 2, 12, 19, 6, 464, 31, 314, 11, 2, 6, 719, 605, 11, 8, 202, 27, 310, 4, 2, 2, 8, 2, 58, 10, 10, 537, 2, 180, 40, 14, 413, 173, 7, 263, 112, 37, 152, 377, 4, 537, 263, 846, 579, 178, 54, 75, 71, 476, 36, 413, 263, 2, 182, 5, 17, 75, 2, 922, 36, 279, 131, 2, 17, 2, 42, 17, 35, 921, 2, 192, 5, 2, 2, 19, 2, 217, 2, 2, 537, 2, 2, 5, 736, 10, 10, 61, 403, 9, 2, 40, 61, 2, 5, 27, 2, 159, 90, 263, 2, 2, 309, 8, 178, 5, 82, 2, 4, 65, 15, 2, 145, 143, 2, 12, 2, 537, 746, 537, 537, 15, 2, 4, 2, 594, 7, 2, 94, 2, 2, 2, 11, 2, 4, 538, 7, 2, 246, 2, 9, 2, 11, 635, 14, 9, 51, 408, 12, 94, 318, 2, 12, 47, 6, 2, 936, 5, 2, 2, 19, 49, 7, 4, 2, 2, 2, 25, 80, 126, 842, 10, 10, 2, 2, 2, 27, 2, 11, 2, 2, 159, 27, 341, 29, 2, 19, 2, 173, 7, 90, 2, 8, 30, 11, 4, 2, 86, 2, 8, 2, 46, 11, 2, 21, 29, 9, 2, 23, 4, 2, 2, 793, 6, 2, 2, 2, 10, 10, 246, 50, 9, 6, 2, 2, 746, 90, 29, 2, 8, 124, 4, 882, 4, 882, 496, 27, 2, 2, 537, 121, 127, 2, 130, 5, 29, 494, 8, 124, 4, 882, 496, 4, 341, 7, 27, 846, 10, 10, 29, 9, 2, 8, 97, 6, 236, 2, 2, 8, 4, 2, 7, 31, 7, 2, 91, 2, 2, 70, 4, 882, 30, 579, 42, 9, 12, 32, 11, 537, 10, 10, 11, 14, 65, 44, 537, 75, 2, 2, 2, 2, 2, 4, 2, 7, 154, 5, 4, 518, 53, 2, 2, 7, 2, 882, 11, 399, 38, 75, 257, 2, 19, 2, 17, 29, 456, 4, 65, 7, 27, 205, 113, 10, 10, 2, 4, 2, 2, 9, 242, 4, 91, 2, 2, 5, 2, 307, 22, 7, 2, 126, 93, 40, 2, 13, 188, 2, 2, 19, 4, 2, 7, 2, 537, 23, 53, 537, 21, 82, 40, 2, 13, 2, 14, 280, 13, 219, 4, 2, 431, 758, 859, 4, 953, 2, 2, 7, 2, 5, 94, 40, 25, 238, 60, 2, 4, 2, 804, 2, 7, 4, 2, 132, 8, 67, 6, 22, 15, 9, 283, 8, 2, 14, 31, 9, 242, 955, 48, 25, 279, 2, 23, 12, 2, 195, 25, 238, 60, 796, 2, 4, 671, 7, 2, 5, 4, 559, 154, 888, 7, 726, 50, 26, 49, 2, 15, 566, 30, 579, 21, 64, 2])\n",
            " list([1, 249, 2, 7, 61, 113, 10, 10, 13, 2, 14, 20, 56, 33, 2, 18, 457, 88, 13, 2, 2, 45, 2, 13, 70, 79, 49, 706, 919, 13, 16, 355, 340, 355, 2, 96, 143, 4, 22, 32, 289, 7, 61, 369, 71, 2, 5, 13, 16, 131, 2, 249, 114, 249, 229, 249, 20, 13, 28, 126, 110, 13, 473, 8, 569, 61, 419, 56, 429, 6, 2, 18, 35, 534, 95, 474, 570, 5, 25, 124, 138, 88, 12, 421, 2, 52, 725, 2, 61, 419, 11, 13, 2, 15, 2, 20, 11, 4, 2, 5, 296, 12, 2, 5, 15, 421, 128, 74, 233, 334, 207, 126, 224, 12, 562, 298, 2, 2, 7, 2, 5, 516, 988, 43, 8, 79, 120, 15, 595, 13, 784, 25, 2, 18, 165, 170, 143, 19, 14, 5, 2, 6, 226, 251, 7, 61, 113])]\n",
            "[1 0 0 1 0]\n"
          ],
          "name": "stdout"
        }
      ]
    },
    {
      "cell_type": "markdown",
      "metadata": {
        "id": "4KQaN7dHLjbE"
      },
      "source": [
        "## 멀티-핫 인코딩\n",
        "\n",
        "[1 3 5] 와 같은 데이터의 경우 1, 3, 5 인덱스만 1이고 나머지는 0으로 인코딩합니다.\n",
        "\n",
        "```\n",
        "[1 3 5] -> [0 1 0 1 0 1 0 0 0 0]   # WORD 길이가 10\n",
        "```\n",
        "\n",
        "본 예의 경우 NUM_WORDS가 1000이다.\n",
        "\n",
        "1개의 데이터는 길이 1000의 벡터이며, 포함된 word 인덱스만 1인 값으로 인코딩 된다."
      ]
    },
    {
      "cell_type": "code",
      "metadata": {
        "id": "QpzE4iqZtJly"
      },
      "source": [
        "def multi_hot_sequences(sequences, dimension):\n",
        "    # 0으로 채워진 (25000, 1000) 크기의 행렬. 25000은 데이터 갯수, 1000은 NUM_WORDS\n",
        "    results = np.zeros((len(sequences), dimension))\n",
        "    for i, word_indices in enumerate(sequences):\n",
        "        results[i, word_indices] = 1.0  # results[i]의 특정 인덱스만 1로 설정합니다\n",
        "    return results\n",
        "\n",
        "\n",
        "train_x = multi_hot_sequences(raw_train_x, dimension=NUM_WORDS)\n",
        "test_x = multi_hot_sequences(raw_test_x, dimension=NUM_WORDS)\n",
        "train_y = raw_train_y\n",
        "test_y = raw_test_y"
      ],
      "execution_count": 8,
      "outputs": []
    },
    {
      "cell_type": "code",
      "metadata": {
        "id": "pLsndPYqM8db",
        "colab": {
          "base_uri": "https://localhost:8080/",
          "height": 146
        },
        "outputId": "4797ab79-3d06-428b-be32-8801bd8bf3b4"
      },
      "source": [
        "print(raw_train_x.shape)\n",
        "print(raw_train_x[0])\n",
        "print(train_x.shape)\n",
        "print(train_x[0][:10])\n",
        "print(train_x[0][10:20])\n",
        "print(train_x[0][20:30])\n"
      ],
      "execution_count": null,
      "outputs": [
        {
          "output_type": "stream",
          "text": [
            "(25000,)\n",
            "[1, 14, 22, 16, 43, 530, 973, 2, 2, 65, 458, 2, 66, 2, 4, 173, 36, 256, 5, 25, 100, 43, 838, 112, 50, 670, 2, 9, 35, 480, 284, 5, 150, 4, 172, 112, 167, 2, 336, 385, 39, 4, 172, 2, 2, 17, 546, 38, 13, 447, 4, 192, 50, 16, 6, 147, 2, 19, 14, 22, 4, 2, 2, 469, 4, 22, 71, 87, 12, 16, 43, 530, 38, 76, 15, 13, 2, 4, 22, 17, 515, 17, 12, 16, 626, 18, 2, 5, 62, 386, 12, 8, 316, 8, 106, 5, 4, 2, 2, 16, 480, 66, 2, 33, 4, 130, 12, 16, 38, 619, 5, 25, 124, 51, 36, 135, 48, 25, 2, 33, 6, 22, 12, 215, 28, 77, 52, 5, 14, 407, 16, 82, 2, 8, 4, 107, 117, 2, 15, 256, 4, 2, 7, 2, 5, 723, 36, 71, 43, 530, 476, 26, 400, 317, 46, 7, 4, 2, 2, 13, 104, 88, 4, 381, 15, 297, 98, 32, 2, 56, 26, 141, 6, 194, 2, 18, 4, 226, 22, 21, 134, 476, 26, 480, 5, 144, 30, 2, 18, 51, 36, 28, 224, 92, 25, 104, 4, 226, 65, 16, 38, 2, 88, 12, 16, 283, 5, 16, 2, 113, 103, 32, 15, 16, 2, 19, 178, 32]\n",
            "(25000, 1000)\n",
            "[0. 1. 1. 0. 1. 1. 1. 1. 1. 1.]\n",
            "[0. 0. 1. 1. 1. 1. 1. 1. 1. 1.]\n",
            "[0. 1. 1. 0. 0. 1. 1. 0. 1. 0.]\n"
          ],
          "name": "stdout"
        }
      ]
    },
    {
      "cell_type": "markdown",
      "metadata": {
        "id": "qmppWbxbPj2-"
      },
      "source": [
        "모델이 너무 크면 패턴의 '학습'이 아닌 개별 데이터를 '기억'한다.\n",
        "\n",
        "\n"
      ]
    },
    {
      "cell_type": "markdown",
      "metadata": {
        "id": "3b4k2sqUWvMo"
      },
      "source": [
        "# 모델 크기별 과적합"
      ]
    },
    {
      "cell_type": "markdown",
      "metadata": {
        "id": "L-DGRBbGxI6G"
      },
      "source": [
        "### 작은 모델"
      ]
    },
    {
      "cell_type": "code",
      "metadata": {
        "id": "jksi-XtaxDAh",
        "colab": {
          "base_uri": "https://localhost:8080/"
        },
        "outputId": "7b09d358-f6d6-4efb-b4bd-f536002b5319"
      },
      "source": [
        "smaller_model = keras.Sequential([\n",
        "    keras.layers.Dense(4, activation='relu', input_shape=(NUM_WORDS,)),\n",
        "    keras.layers.Dense(4, activation='relu'),\n",
        "    keras.layers.Dense(1, activation='sigmoid')\n",
        "])\n",
        "\n",
        "smaller_model.compile(optimizer='adam', loss='binary_crossentropy')\n",
        "\n",
        "smaller_model.summary()"
      ],
      "execution_count": 12,
      "outputs": [
        {
          "output_type": "stream",
          "text": [
            "Model: \"sequential_2\"\n",
            "_________________________________________________________________\n",
            "Layer (type)                 Output Shape              Param #   \n",
            "=================================================================\n",
            "dense_6 (Dense)              (None, 4)                 4004      \n",
            "_________________________________________________________________\n",
            "dense_7 (Dense)              (None, 4)                 20        \n",
            "_________________________________________________________________\n",
            "dense_8 (Dense)              (None, 1)                 5         \n",
            "=================================================================\n",
            "Total params: 4,029\n",
            "Trainable params: 4,029\n",
            "Non-trainable params: 0\n",
            "_________________________________________________________________\n"
          ],
          "name": "stdout"
        }
      ]
    },
    {
      "cell_type": "code",
      "metadata": {
        "id": "Ofn1AwDhx-Fe",
        "colab": {
          "base_uri": "https://localhost:8080/",
          "height": 763
        },
        "outputId": "cea46780-1f40-4f42-bedf-1bf556e6212f"
      },
      "source": [
        "smaller_history = smaller_model.fit(train_x,\n",
        "                                    train_y,\n",
        "                                    epochs=20,\n",
        "                                    batch_size=512,\n",
        "                                    validation_split=0.1,\n",
        "                                    verbose=2)"
      ],
      "execution_count": null,
      "outputs": [
        {
          "output_type": "stream",
          "text": [
            "Train on 22500 samples, validate on 2500 samples\n",
            "Epoch 1/20\n",
            "22500/22500 - 1s - loss: 0.6719 - val_loss: 0.6356\n",
            "Epoch 2/20\n",
            "22500/22500 - 0s - loss: 0.5874 - val_loss: 0.5398\n",
            "Epoch 3/20\n",
            "22500/22500 - 0s - loss: 0.4916 - val_loss: 0.4595\n",
            "Epoch 4/20\n",
            "22500/22500 - 0s - loss: 0.4205 - val_loss: 0.4060\n",
            "Epoch 5/20\n",
            "22500/22500 - 0s - loss: 0.3760 - val_loss: 0.3755\n",
            "Epoch 6/20\n",
            "22500/22500 - 0s - loss: 0.3494 - val_loss: 0.3617\n",
            "Epoch 7/20\n",
            "22500/22500 - 0s - loss: 0.3324 - val_loss: 0.3497\n",
            "Epoch 8/20\n",
            "22500/22500 - 0s - loss: 0.3213 - val_loss: 0.3433\n",
            "Epoch 9/20\n",
            "22500/22500 - 0s - loss: 0.3139 - val_loss: 0.3404\n",
            "Epoch 10/20\n",
            "22500/22500 - 0s - loss: 0.3080 - val_loss: 0.3408\n",
            "Epoch 11/20\n",
            "22500/22500 - 0s - loss: 0.3042 - val_loss: 0.3395\n",
            "Epoch 12/20\n",
            "22500/22500 - 0s - loss: 0.3014 - val_loss: 0.3369\n",
            "Epoch 13/20\n",
            "22500/22500 - 0s - loss: 0.2989 - val_loss: 0.3389\n",
            "Epoch 14/20\n",
            "22500/22500 - 0s - loss: 0.2958 - val_loss: 0.3369\n",
            "Epoch 15/20\n",
            "22500/22500 - 0s - loss: 0.2929 - val_loss: 0.3382\n",
            "Epoch 16/20\n",
            "22500/22500 - 0s - loss: 0.2902 - val_loss: 0.3396\n",
            "Epoch 17/20\n",
            "22500/22500 - 0s - loss: 0.2884 - val_loss: 0.3382\n",
            "Epoch 18/20\n",
            "22500/22500 - 0s - loss: 0.2862 - val_loss: 0.3387\n",
            "Epoch 19/20\n",
            "22500/22500 - 0s - loss: 0.2836 - val_loss: 0.3399\n",
            "Epoch 20/20\n",
            "22500/22500 - 0s - loss: 0.2814 - val_loss: 0.3416\n"
          ],
          "name": "stdout"
        }
      ]
    },
    {
      "cell_type": "markdown",
      "metadata": {
        "id": "_ReKHdC2EgVu"
      },
      "source": [
        "### 기준 모델"
      ]
    },
    {
      "cell_type": "code",
      "metadata": {
        "id": "QKgdXPx9usBa",
        "colab": {
          "base_uri": "https://localhost:8080/"
        },
        "outputId": "32603b74-dcc0-46a1-fca7-eeeb16ef0a02"
      },
      "source": [
        "baseline_model = keras.Sequential([\n",
        "    keras.layers.Dense(16, activation='relu', input_shape=(NUM_WORDS,)),\n",
        "    keras.layers.Dense(16, activation='relu'),\n",
        "    keras.layers.Dense(1, activation='sigmoid')\n",
        "])\n",
        "\n",
        "baseline_model.compile(optimizer='adam', loss='binary_crossentropy')\n",
        "\n",
        "baseline_model.summary()"
      ],
      "execution_count": 10,
      "outputs": [
        {
          "output_type": "stream",
          "text": [
            "Model: \"sequential_1\"\n",
            "_________________________________________________________________\n",
            "Layer (type)                 Output Shape              Param #   \n",
            "=================================================================\n",
            "dense_3 (Dense)              (None, 16)                16016     \n",
            "_________________________________________________________________\n",
            "dense_4 (Dense)              (None, 16)                272       \n",
            "_________________________________________________________________\n",
            "dense_5 (Dense)              (None, 1)                 17        \n",
            "=================================================================\n",
            "Total params: 16,305\n",
            "Trainable params: 16,305\n",
            "Non-trainable params: 0\n",
            "_________________________________________________________________\n"
          ],
          "name": "stdout"
        }
      ]
    },
    {
      "cell_type": "code",
      "metadata": {
        "id": "LqG3MXF5xSjR",
        "colab": {
          "base_uri": "https://localhost:8080/"
        },
        "outputId": "63d25f72-56ae-4f1d-e923-0d48533a59b8"
      },
      "source": [
        "baseline_history = baseline_model.fit(train_x,\n",
        "                                      train_y,\n",
        "                                      epochs=20,\n",
        "                                      batch_size=512,\n",
        "                                      validation_split=0.1,\n",
        "                                      verbose=2)"
      ],
      "execution_count": 11,
      "outputs": [
        {
          "output_type": "stream",
          "text": [
            "Train on 22500 samples, validate on 2500 samples\n",
            "Epoch 1/20\n",
            "22500/22500 - 11s - loss: 0.5833 - val_loss: 0.4421\n",
            "Epoch 2/20\n",
            "22500/22500 - 0s - loss: 0.3769 - val_loss: 0.3539\n",
            "Epoch 3/20\n",
            "22500/22500 - 0s - loss: 0.3216 - val_loss: 0.3403\n",
            "Epoch 4/20\n",
            "22500/22500 - 0s - loss: 0.3056 - val_loss: 0.3374\n",
            "Epoch 5/20\n",
            "22500/22500 - 0s - loss: 0.2994 - val_loss: 0.3413\n",
            "Epoch 6/20\n",
            "22500/22500 - 0s - loss: 0.2929 - val_loss: 0.3403\n",
            "Epoch 7/20\n",
            "22500/22500 - 0s - loss: 0.2887 - val_loss: 0.3425\n",
            "Epoch 8/20\n",
            "22500/22500 - 0s - loss: 0.2848 - val_loss: 0.3449\n",
            "Epoch 9/20\n",
            "22500/22500 - 0s - loss: 0.2808 - val_loss: 0.3465\n",
            "Epoch 10/20\n",
            "22500/22500 - 0s - loss: 0.2748 - val_loss: 0.3521\n",
            "Epoch 11/20\n",
            "22500/22500 - 0s - loss: 0.2730 - val_loss: 0.3535\n",
            "Epoch 12/20\n",
            "22500/22500 - 0s - loss: 0.2685 - val_loss: 0.3615\n",
            "Epoch 13/20\n",
            "22500/22500 - 0s - loss: 0.2601 - val_loss: 0.3553\n",
            "Epoch 14/20\n",
            "22500/22500 - 0s - loss: 0.2595 - val_loss: 0.3724\n",
            "Epoch 15/20\n",
            "22500/22500 - 0s - loss: 0.2505 - val_loss: 0.3596\n",
            "Epoch 16/20\n",
            "22500/22500 - 0s - loss: 0.2449 - val_loss: 0.3640\n",
            "Epoch 17/20\n",
            "22500/22500 - 0s - loss: 0.2400 - val_loss: 0.3692\n",
            "Epoch 18/20\n",
            "22500/22500 - 0s - loss: 0.2320 - val_loss: 0.3713\n",
            "Epoch 19/20\n",
            "22500/22500 - 0s - loss: 0.2255 - val_loss: 0.3757\n",
            "Epoch 20/20\n",
            "22500/22500 - 0s - loss: 0.2221 - val_loss: 0.3809\n"
          ],
          "name": "stdout"
        }
      ]
    },
    {
      "cell_type": "markdown",
      "metadata": {
        "id": "vIPuf23FFaVn"
      },
      "source": [
        "### 큰 모델"
      ]
    },
    {
      "cell_type": "code",
      "metadata": {
        "id": "ghQwwqwqvQM9",
        "colab": {
          "base_uri": "https://localhost:8080/"
        },
        "outputId": "01e74c9b-a8e2-4ba3-e8fc-6a5fe37c24c3"
      },
      "source": [
        "bigger_model = keras.models.Sequential([\n",
        "    keras.layers.Dense(512, activation='relu', input_shape=(NUM_WORDS,)),\n",
        "    keras.layers.Dense(512, activation='relu'),\n",
        "    keras.layers.Dense(1, activation='sigmoid')\n",
        "])\n",
        "\n",
        "bigger_model.compile(optimizer='adam', loss='binary_crossentropy')\n",
        "\n",
        "bigger_model.summary()"
      ],
      "execution_count": 14,
      "outputs": [
        {
          "output_type": "stream",
          "text": [
            "Model: \"sequential_3\"\n",
            "_________________________________________________________________\n",
            "Layer (type)                 Output Shape              Param #   \n",
            "=================================================================\n",
            "dense_9 (Dense)              (None, 512)               512512    \n",
            "_________________________________________________________________\n",
            "dense_10 (Dense)             (None, 512)               262656    \n",
            "_________________________________________________________________\n",
            "dense_11 (Dense)             (None, 1)                 513       \n",
            "=================================================================\n",
            "Total params: 775,681\n",
            "Trainable params: 775,681\n",
            "Non-trainable params: 0\n",
            "_________________________________________________________________\n"
          ],
          "name": "stdout"
        }
      ]
    },
    {
      "cell_type": "markdown",
      "metadata": {
        "id": "D-d-i5DaYmr7"
      },
      "source": [
        "역시 같은 데이터를 사용해 모델을 훈련합니다:"
      ]
    },
    {
      "cell_type": "code",
      "metadata": {
        "id": "U1A99dhqvepf",
        "colab": {
          "base_uri": "https://localhost:8080/"
        },
        "outputId": "97c5be63-eb5a-4678-aa25-94ca7eff0cb0"
      },
      "source": [
        "bigger_history = bigger_model.fit(train_x,\n",
        "                                  train_y,\n",
        "                                  epochs=20,\n",
        "                                  batch_size=512,\n",
        "                                  validation_split=0.1,\n",
        "                                  verbose=2)"
      ],
      "execution_count": 15,
      "outputs": [
        {
          "output_type": "stream",
          "text": [
            "Train on 22500 samples, validate on 2500 samples\n",
            "Epoch 1/20\n",
            "22500/22500 - 0s - loss: 0.4163 - val_loss: 0.3423\n",
            "Epoch 2/20\n",
            "22500/22500 - 0s - loss: 0.2954 - val_loss: 0.3426\n",
            "Epoch 3/20\n",
            "22500/22500 - 0s - loss: 0.2309 - val_loss: 0.3651\n",
            "Epoch 4/20\n",
            "22500/22500 - 0s - loss: 0.1305 - val_loss: 0.4110\n",
            "Epoch 5/20\n",
            "22500/22500 - 0s - loss: 0.0376 - val_loss: 0.5333\n",
            "Epoch 6/20\n",
            "22500/22500 - 0s - loss: 0.0078 - val_loss: 0.6288\n",
            "Epoch 7/20\n",
            "22500/22500 - 0s - loss: 0.0022 - val_loss: 0.6746\n",
            "Epoch 8/20\n",
            "22500/22500 - 0s - loss: 0.0010 - val_loss: 0.7205\n",
            "Epoch 9/20\n",
            "22500/22500 - 0s - loss: 6.5011e-04 - val_loss: 0.7513\n",
            "Epoch 10/20\n",
            "22500/22500 - 0s - loss: 4.6599e-04 - val_loss: 0.7748\n",
            "Epoch 11/20\n",
            "22500/22500 - 0s - loss: 3.5225e-04 - val_loss: 0.7970\n",
            "Epoch 12/20\n",
            "22500/22500 - 0s - loss: 2.7519e-04 - val_loss: 0.8153\n",
            "Epoch 13/20\n",
            "22500/22500 - 0s - loss: 2.2052e-04 - val_loss: 0.8334\n",
            "Epoch 14/20\n",
            "22500/22500 - 0s - loss: 1.8037e-04 - val_loss: 0.8491\n",
            "Epoch 15/20\n",
            "22500/22500 - 0s - loss: 1.4993e-04 - val_loss: 0.8631\n",
            "Epoch 16/20\n",
            "22500/22500 - 0s - loss: 1.2646e-04 - val_loss: 0.8765\n",
            "Epoch 17/20\n",
            "22500/22500 - 0s - loss: 1.0741e-04 - val_loss: 0.8892\n",
            "Epoch 18/20\n",
            "22500/22500 - 0s - loss: 9.2410e-05 - val_loss: 0.9008\n",
            "Epoch 19/20\n",
            "22500/22500 - 0s - loss: 8.0180e-05 - val_loss: 0.9119\n",
            "Epoch 20/20\n",
            "22500/22500 - 0s - loss: 7.0121e-05 - val_loss: 0.9234\n"
          ],
          "name": "stdout"
        }
      ]
    },
    {
      "cell_type": "markdown",
      "metadata": {
        "id": "Fy3CMUZpzH3d"
      },
      "source": [
        "## 로스 그래프"
      ]
    },
    {
      "cell_type": "code",
      "metadata": {
        "id": "X7uu67SxRp4V",
        "colab": {
          "base_uri": "https://localhost:8080/",
          "height": 825
        },
        "outputId": "4d8a86a7-9d47-46b2-a5f7-57e9fb218dfd"
      },
      "source": [
        "print(\"smaller\")\n",
        "plt.plot(smaller_history.history['loss'])\n",
        "plt.plot(smaller_history.history['val_loss'])\n",
        "plt.ylim((-0.1, 1.))\n",
        "plt.show()\n",
        "\n",
        "print(\"base\")\n",
        "plt.plot(baseline_history.history['loss'])\n",
        "plt.plot(baseline_history.history['val_loss'])\n",
        "plt.ylim((0., 1.))\n",
        "plt.show()\n",
        "\n",
        "print(\"bigger\")\n",
        "plt.plot(bigger_history.history['loss'])\n",
        "plt.plot(bigger_history.history['val_loss'])\n",
        "plt.ylim((0., 1.))\n",
        "plt.show()\n"
      ],
      "execution_count": 16,
      "outputs": [
        {
          "output_type": "stream",
          "text": [
            "smaller\n"
          ],
          "name": "stdout"
        },
        {
          "output_type": "display_data",
          "data": {
            "image/png": "[encoded data removed]",
            "text/plain": [
              "<Figure size 432x288 with 1 Axes>"
            ]
          },
          "metadata": {
            "tags": [],
            "needs_background": "light"
          }
        },
        {
          "output_type": "stream",
          "text": [
            "base\n"
          ],
          "name": "stdout"
        },
        {
          "output_type": "display_data",
          "data": {
            "image/png": "[encoded data removed]",
            "text/plain": [
              "<Figure size 432x288 with 1 Axes>"
            ]
          },
          "metadata": {
            "tags": [],
            "needs_background": "light"
          }
        },
        {
          "output_type": "stream",
          "text": [
            "bigger\n"
          ],
          "name": "stdout"
        },
        {
          "output_type": "display_data",
          "data": {
            "image/png": "[encoded data removed]",
            "text/plain": [
              "<Figure size 432x288 with 1 Axes>"
            ]
          },
          "metadata": {
            "tags": [],
            "needs_background": "light"
          }
        }
      ]
    },
    {
      "cell_type": "markdown",
      "metadata": {
        "id": "QBnYskh3XZ86"
      },
      "source": [
        "모델이 클수록 오버피팅 발생이 일찍 온다"
      ]
    },
    {
      "cell_type": "markdown",
      "metadata": {
        "id": "ASdv7nsgEFhx"
      },
      "source": [
        "# 과적합 처리"
      ]
    },
    {
      "cell_type": "markdown",
      "metadata": {
        "id": "4rHoVWcswFLa"
      },
      "source": [
        "## weight Regularization"
      ]
    },
    {
      "cell_type": "code",
      "metadata": {
        "id": "HFGmcwduwVyQ",
        "colab": {
          "base_uri": "https://localhost:8080/"
        },
        "outputId": "1a22513d-4f3a-41e3-c052-cb14cd964288"
      },
      "source": [
        "ㅣ2_baseline_model = keras.Sequential([\n",
        "    # keras.layers.Dense(16, activation='relu', input_shape=(NUM_WORDS,)),\n",
        "    keras.layers.Dense(16, activation='relu', input_shape=(NUM_WORDS,), kernel_regularizer=keras.regularizers.l2(0.001)),\n",
        "    # keras.layers.Dense(16, activation='relu'),\n",
        "    keras.layers.Dense(16, activation='relu', kernel_regularizer=keras.regularizers.l2(0.001)),\n",
        "    keras.layers.Dense(1, activation='sigmoid')\n",
        "])\n",
        "\n",
        "ㅣ2_baseline_model.compile(optimizer='adam', loss='binary_crossentropy')\n",
        "\n",
        "ㅣ2_baseline_model.summary()\n",
        "\n",
        "l2_baseline_history = ㅣ2_baseline_model.fit(train_x,\n",
        "                                    train_y,\n",
        "                                    epochs=20,\n",
        "                                    batch_size=512,\n",
        "                                    validation_split=0.1,\n",
        "                                    verbose=2)"
      ],
      "execution_count": 17,
      "outputs": [
        {
          "output_type": "stream",
          "text": [
            "Model: \"sequential_4\"\n",
            "_________________________________________________________________\n",
            "Layer (type)                 Output Shape              Param #   \n",
            "=================================================================\n",
            "dense_12 (Dense)             (None, 16)                16016     \n",
            "_________________________________________________________________\n",
            "dense_13 (Dense)             (None, 16)                272       \n",
            "_________________________________________________________________\n",
            "dense_14 (Dense)             (None, 1)                 17        \n",
            "=================================================================\n",
            "Total params: 16,305\n",
            "Trainable params: 16,305\n",
            "Non-trainable params: 0\n",
            "_________________________________________________________________\n",
            "Train on 22500 samples, validate on 2500 samples\n",
            "Epoch 1/20\n",
            "22500/22500 - 0s - loss: 0.6443 - val_loss: 0.4937\n",
            "Epoch 2/20\n",
            "22500/22500 - 0s - loss: 0.4235 - val_loss: 0.4042\n",
            "Epoch 3/20\n",
            "22500/22500 - 0s - loss: 0.3653 - val_loss: 0.3825\n",
            "Epoch 4/20\n",
            "22500/22500 - 0s - loss: 0.3501 - val_loss: 0.3827\n",
            "Epoch 5/20\n",
            "22500/22500 - 0s - loss: 0.3434 - val_loss: 0.3781\n",
            "Epoch 6/20\n",
            "22500/22500 - 0s - loss: 0.3368 - val_loss: 0.3780\n",
            "Epoch 7/20\n",
            "22500/22500 - 0s - loss: 0.3339 - val_loss: 0.3764\n",
            "Epoch 8/20\n",
            "22500/22500 - 0s - loss: 0.3300 - val_loss: 0.3775\n",
            "Epoch 9/20\n",
            "22500/22500 - 0s - loss: 0.3293 - val_loss: 0.3770\n",
            "Epoch 10/20\n",
            "22500/22500 - 0s - loss: 0.3261 - val_loss: 0.3812\n",
            "Epoch 11/20\n",
            "22500/22500 - 0s - loss: 0.3206 - val_loss: 0.3754\n",
            "Epoch 12/20\n",
            "22500/22500 - 0s - loss: 0.3179 - val_loss: 0.3740\n",
            "Epoch 13/20\n",
            "22500/22500 - 0s - loss: 0.3138 - val_loss: 0.3768\n",
            "Epoch 14/20\n",
            "22500/22500 - 0s - loss: 0.3122 - val_loss: 0.3744\n",
            "Epoch 15/20\n",
            "22500/22500 - 0s - loss: 0.3081 - val_loss: 0.3728\n",
            "Epoch 16/20\n",
            "22500/22500 - 0s - loss: 0.3075 - val_loss: 0.3871\n",
            "Epoch 17/20\n",
            "22500/22500 - 0s - loss: 0.3022 - val_loss: 0.3746\n",
            "Epoch 18/20\n",
            "22500/22500 - 0s - loss: 0.2990 - val_loss: 0.3747\n",
            "Epoch 19/20\n",
            "22500/22500 - 0s - loss: 0.2953 - val_loss: 0.3744\n",
            "Epoch 20/20\n",
            "22500/22500 - 0s - loss: 0.2953 - val_loss: 0.3780\n"
          ],
          "name": "stdout"
        }
      ]
    },
    {
      "cell_type": "code",
      "metadata": {
        "id": "utsh4INTDGR4",
        "outputId": "66d8da66-8f1e-4e11-853b-a9b16afb76b8",
        "colab": {
          "base_uri": "https://localhost:8080/"
        }
      },
      "source": [
        "ㅣ2_bigger_model = keras.Sequential([\n",
        "    # keras.layers.Dense(512, activation='relu', input_shape=(NUM_WORDS,)),\n",
        "    keras.layers.Dense(512, activation='relu', input_shape=(NUM_WORDS,), kernel_regularizer=keras.regularizers.l2(0.001)),\n",
        "    # keras.layers.Dense(512, activation='relu'),\n",
        "    keras.layers.Dense(512, activation='relu', kernel_regularizer=keras.regularizers.l2(0.001)),\n",
        "    keras.layers.Dense(1, activation='sigmoid')\n",
        "])\n",
        "\n",
        "ㅣ2_bigger_model.compile(optimizer='adam', loss='binary_crossentropy')\n",
        "\n",
        "ㅣ2_bigger_model.summary()\n",
        "\n",
        "l2_bigger_history = ㅣ2_bigger_model.fit(train_x,\n",
        "                                    train_y,\n",
        "                                    epochs=20,\n",
        "                                    batch_size=512,\n",
        "                                    validation_split=0.1,\n",
        "                                    verbose=2)"
      ],
      "execution_count": 21,
      "outputs": [
        {
          "output_type": "stream",
          "text": [
            "Model: \"sequential_6\"\n",
            "_________________________________________________________________\n",
            "Layer (type)                 Output Shape              Param #   \n",
            "=================================================================\n",
            "dense_18 (Dense)             (None, 512)               512512    \n",
            "_________________________________________________________________\n",
            "dense_19 (Dense)             (None, 512)               262656    \n",
            "_________________________________________________________________\n",
            "dense_20 (Dense)             (None, 1)                 513       \n",
            "=================================================================\n",
            "Total params: 775,681\n",
            "Trainable params: 775,681\n",
            "Non-trainable params: 0\n",
            "_________________________________________________________________\n",
            "Train on 22500 samples, validate on 2500 samples\n",
            "Epoch 1/20\n",
            "22500/22500 - 1s - loss: 1.2853 - val_loss: 0.8832\n",
            "Epoch 2/20\n",
            "22500/22500 - 0s - loss: 0.7122 - val_loss: 0.6462\n",
            "Epoch 3/20\n",
            "22500/22500 - 0s - loss: 0.5386 - val_loss: 0.5471\n",
            "Epoch 4/20\n",
            "22500/22500 - 0s - loss: 0.4566 - val_loss: 0.5185\n",
            "Epoch 5/20\n",
            "22500/22500 - 0s - loss: 0.3810 - val_loss: 0.5146\n",
            "Epoch 6/20\n",
            "22500/22500 - 0s - loss: 0.3109 - val_loss: 0.5306\n",
            "Epoch 7/20\n",
            "22500/22500 - 0s - loss: 0.2536 - val_loss: 0.5485\n",
            "Epoch 8/20\n",
            "22500/22500 - 0s - loss: 0.2097 - val_loss: 0.5790\n",
            "Epoch 9/20\n",
            "22500/22500 - 0s - loss: 0.1785 - val_loss: 0.5568\n",
            "Epoch 10/20\n",
            "22500/22500 - 0s - loss: 0.1571 - val_loss: 0.5535\n",
            "Epoch 11/20\n",
            "22500/22500 - 0s - loss: 0.1402 - val_loss: 0.5531\n",
            "Epoch 12/20\n",
            "22500/22500 - 0s - loss: 0.1309 - val_loss: 0.5464\n",
            "Epoch 13/20\n",
            "22500/22500 - 0s - loss: 0.1213 - val_loss: 0.5402\n",
            "Epoch 14/20\n",
            "22500/22500 - 0s - loss: 0.1171 - val_loss: 0.5568\n",
            "Epoch 15/20\n",
            "22500/22500 - 0s - loss: 0.1148 - val_loss: 0.5464\n",
            "Epoch 16/20\n",
            "22500/22500 - 0s - loss: 0.1094 - val_loss: 0.5763\n",
            "Epoch 17/20\n",
            "22500/22500 - 0s - loss: 0.1108 - val_loss: 0.5869\n",
            "Epoch 18/20\n",
            "22500/22500 - 0s - loss: 0.1149 - val_loss: 0.5865\n",
            "Epoch 19/20\n",
            "22500/22500 - 0s - loss: 0.1110 - val_loss: 0.5708\n",
            "Epoch 20/20\n",
            "22500/22500 - 0s - loss: 0.1104 - val_loss: 0.5815\n"
          ],
          "name": "stdout"
        }
      ]
    },
    {
      "cell_type": "code",
      "metadata": {
        "id": "cQAECSenUBC4",
        "colab": {
          "base_uri": "https://localhost:8080/",
          "height": 1000
        },
        "outputId": "ed07c202-4fb8-4b13-8a76-45012405f717"
      },
      "source": [
        "print(\"baseline\")\n",
        "plt.plot(baseline_history.history['loss'])\n",
        "plt.plot(baseline_history.history['val_loss'])\n",
        "plt.ylim((0., 1.))\n",
        "plt.show()\n",
        "\n",
        "print(\"l2_baseline\")\n",
        "plt.plot(l2_baseline_history.history['loss'])\n",
        "plt.plot(l2_baseline_history.history['val_loss'])\n",
        "plt.ylim((0., 1.))\n",
        "plt.show()\n",
        "\n",
        "print(\"bigger\")\n",
        "plt.plot(bigger_history.history['loss'])\n",
        "plt.plot(bigger_history.history['val_loss'])\n",
        "plt.ylim((0., 1.))\n",
        "plt.show()\n",
        "\n",
        "print(\"l2_bigger\")\n",
        "plt.plot(l2_bigger_history.history['loss'])\n",
        "plt.plot(l2_bigger_history.history['val_loss'])\n",
        "plt.ylim((0., 1.))\n",
        "plt.show()"
      ],
      "execution_count": 22,
      "outputs": [
        {
          "output_type": "stream",
          "text": [
            "baseline\n"
          ],
          "name": "stdout"
        },
        {
          "output_type": "display_data",
          "data": {
            "image/png": "[encoded data removed]",
            "text/plain": [
              "<Figure size 432x288 with 1 Axes>"
            ]
          },
          "metadata": {
            "tags": [],
            "needs_background": "light"
          }
        },
        {
          "output_type": "stream",
          "text": [
            "l2_baseline\n"
          ],
          "name": "stdout"
        },
        {
          "output_type": "display_data",
          "data": {
            "image/png": "[encoded data removed]",
            "text/plain": [
              "<Figure size 432x288 with 1 Axes>"
            ]
          },
          "metadata": {
            "tags": [],
            "needs_background": "light"
          }
        },
        {
          "output_type": "stream",
          "text": [
            "bigger\n"
          ],
          "name": "stdout"
        },
        {
          "output_type": "display_data",
          "data": {
            "image/png": "[encoded data removed]",
            "text/plain": [
              "<Figure size 432x288 with 1 Axes>"
            ]
          },
          "metadata": {
            "tags": [],
            "needs_background": "light"
          }
        },
        {
          "output_type": "stream",
          "text": [
            "l2_bigger\n"
          ],
          "name": "stdout"
        },
        {
          "output_type": "display_data",
          "data": {
            "image/png": "[encoded data removed]",
            "text/plain": [
              "<Figure size 432x288 with 1 Axes>"
            ]
          },
          "metadata": {
            "tags": [],
            "needs_background": "light"
          }
        }
      ]
    },
    {
      "cell_type": "markdown",
      "metadata": {
        "id": "BV-hZXvBX-VL"
      },
      "source": [
        "발생하던 오버피팅이 완화되었다."
      ]
    },
    {
      "cell_type": "markdown",
      "metadata": {
        "id": "k3V7W79YV4KH"
      },
      "source": [
        "## Drop Out"
      ]
    },
    {
      "cell_type": "code",
      "metadata": {
        "id": "II8XxgNhV9N8",
        "colab": {
          "base_uri": "https://localhost:8080/"
        },
        "outputId": "f6ac22d7-0f93-4e80-a938-cccbd2747ddb"
      },
      "source": [
        "dropout_baseline_model = keras.Sequential([\n",
        "    keras.layers.Dense(16, activation='relu', input_shape=(NUM_WORDS,)),\n",
        "    keras.layers.Dropout(0.5),    # ADD\n",
        "    keras.layers.Dense(16, activation='relu'),\n",
        "    keras.layers.Dropout(0.5),    # ADDD\n",
        "    keras.layers.Dense(1, activation='sigmoid')\n",
        "])\n",
        "\n",
        "\n",
        "dropout_baseline_model.compile(optimizer='adam',\n",
        "                 loss='binary_crossentropy',\n",
        "                 metrics=['accuracy', 'binary_crossentropy'])\n",
        "\n",
        "dropout_baseline_history = dropout_baseline_model.fit(train_x,\n",
        "                                    train_y,\n",
        "                                    epochs=20,\n",
        "                                    batch_size=512,\n",
        "                                    validation_split=0.1,\n",
        "                                    verbose=2)"
      ],
      "execution_count": 19,
      "outputs": [
        {
          "output_type": "stream",
          "text": [
            "Train on 22500 samples, validate on 2500 samples\n",
            "Epoch 1/20\n",
            "22500/22500 - 0s - loss: 0.6735 - acc: 0.5667 - binary_crossentropy: 0.6735 - val_loss: 0.6082 - val_acc: 0.7624 - val_binary_crossentropy: 0.6082\n",
            "Epoch 2/20\n",
            "22500/22500 - 0s - loss: 0.5888 - acc: 0.6894 - binary_crossentropy: 0.5888 - val_loss: 0.4824 - val_acc: 0.8220 - val_binary_crossentropy: 0.4824\n",
            "Epoch 3/20\n",
            "22500/22500 - 0s - loss: 0.5014 - acc: 0.7616 - binary_crossentropy: 0.5014 - val_loss: 0.3986 - val_acc: 0.8436 - val_binary_crossentropy: 0.3986\n",
            "Epoch 4/20\n",
            "22500/22500 - 0s - loss: 0.4487 - acc: 0.7973 - binary_crossentropy: 0.4487 - val_loss: 0.3630 - val_acc: 0.8548 - val_binary_crossentropy: 0.3630\n",
            "Epoch 5/20\n",
            "22500/22500 - 0s - loss: 0.4164 - acc: 0.8144 - binary_crossentropy: 0.4164 - val_loss: 0.3512 - val_acc: 0.8560 - val_binary_crossentropy: 0.3512\n",
            "Epoch 6/20\n",
            "22500/22500 - 0s - loss: 0.3975 - acc: 0.8241 - binary_crossentropy: 0.3975 - val_loss: 0.3376 - val_acc: 0.8608 - val_binary_crossentropy: 0.3376\n",
            "Epoch 7/20\n",
            "22500/22500 - 0s - loss: 0.3833 - acc: 0.8356 - binary_crossentropy: 0.3833 - val_loss: 0.3313 - val_acc: 0.8612 - val_binary_crossentropy: 0.3313\n",
            "Epoch 8/20\n",
            "22500/22500 - 0s - loss: 0.3697 - acc: 0.8400 - binary_crossentropy: 0.3697 - val_loss: 0.3299 - val_acc: 0.8636 - val_binary_crossentropy: 0.3299\n",
            "Epoch 9/20\n",
            "22500/22500 - 0s - loss: 0.3593 - acc: 0.8497 - binary_crossentropy: 0.3593 - val_loss: 0.3295 - val_acc: 0.8612 - val_binary_crossentropy: 0.3295\n",
            "Epoch 10/20\n",
            "22500/22500 - 0s - loss: 0.3575 - acc: 0.8485 - binary_crossentropy: 0.3575 - val_loss: 0.3292 - val_acc: 0.8652 - val_binary_crossentropy: 0.3292\n",
            "Epoch 11/20\n",
            "22500/22500 - 0s - loss: 0.3455 - acc: 0.8540 - binary_crossentropy: 0.3455 - val_loss: 0.3290 - val_acc: 0.8604 - val_binary_crossentropy: 0.3290\n",
            "Epoch 12/20\n",
            "22500/22500 - 0s - loss: 0.3407 - acc: 0.8623 - binary_crossentropy: 0.3407 - val_loss: 0.3309 - val_acc: 0.8584 - val_binary_crossentropy: 0.3309\n",
            "Epoch 13/20\n",
            "22500/22500 - 0s - loss: 0.3372 - acc: 0.8601 - binary_crossentropy: 0.3372 - val_loss: 0.3333 - val_acc: 0.8592 - val_binary_crossentropy: 0.3333\n",
            "Epoch 14/20\n",
            "22500/22500 - 0s - loss: 0.3250 - acc: 0.8668 - binary_crossentropy: 0.3250 - val_loss: 0.3424 - val_acc: 0.8576 - val_binary_crossentropy: 0.3424\n",
            "Epoch 15/20\n",
            "22500/22500 - 0s - loss: 0.3275 - acc: 0.8684 - binary_crossentropy: 0.3275 - val_loss: 0.3405 - val_acc: 0.8576 - val_binary_crossentropy: 0.3405\n",
            "Epoch 16/20\n",
            "22500/22500 - 0s - loss: 0.3181 - acc: 0.8672 - binary_crossentropy: 0.3181 - val_loss: 0.3414 - val_acc: 0.8576 - val_binary_crossentropy: 0.3414\n",
            "Epoch 17/20\n",
            "22500/22500 - 0s - loss: 0.3110 - acc: 0.8728 - binary_crossentropy: 0.3110 - val_loss: 0.3438 - val_acc: 0.8552 - val_binary_crossentropy: 0.3438\n",
            "Epoch 18/20\n",
            "22500/22500 - 0s - loss: 0.3117 - acc: 0.8741 - binary_crossentropy: 0.3117 - val_loss: 0.3489 - val_acc: 0.8552 - val_binary_crossentropy: 0.3489\n",
            "Epoch 19/20\n",
            "22500/22500 - 0s - loss: 0.3049 - acc: 0.8741 - binary_crossentropy: 0.3049 - val_loss: 0.3458 - val_acc: 0.8572 - val_binary_crossentropy: 0.3458\n",
            "Epoch 20/20\n",
            "22500/22500 - 0s - loss: 0.3039 - acc: 0.8759 - binary_crossentropy: 0.3039 - val_loss: 0.3496 - val_acc: 0.8568 - val_binary_crossentropy: 0.3496\n"
          ],
          "name": "stdout"
        }
      ]
    },
    {
      "cell_type": "code",
      "metadata": {
        "id": "0dYQBs5yDpXF",
        "outputId": "88dd4292-b335-4334-adfb-7f902c6ba2ba",
        "colab": {
          "base_uri": "https://localhost:8080/"
        }
      },
      "source": [
        "dropout_bigger_model = keras.Sequential([\n",
        "    keras.layers.Dense(512, activation='relu', input_shape=(NUM_WORDS,)),\n",
        "    keras.layers.Dropout(0.5),    # ADD\n",
        "    keras.layers.Dense(512, activation='relu'),\n",
        "    keras.layers.Dropout(0.5),    # ADDD\n",
        "    keras.layers.Dense(1, activation='sigmoid')\n",
        "])\n",
        "\n",
        "\n",
        "dropout_bigger_model.compile(optimizer='adam',\n",
        "                 loss='binary_crossentropy',\n",
        "                 metrics=['accuracy', 'binary_crossentropy'])\n",
        "\n",
        "dropout_bigger_history = dropout_bigger_model.fit(train_x,\n",
        "                                    train_y,\n",
        "                                    epochs=20,\n",
        "                                    batch_size=512,\n",
        "                                    validation_split=0.1,\n",
        "                                    verbose=2)"
      ],
      "execution_count": 23,
      "outputs": [
        {
          "output_type": "stream",
          "text": [
            "Train on 22500 samples, validate on 2500 samples\n",
            "Epoch 1/20\n",
            "22500/22500 - 0s - loss: 0.5003 - acc: 0.7477 - binary_crossentropy: 0.5003 - val_loss: 0.3474 - val_acc: 0.8576 - val_binary_crossentropy: 0.3474\n",
            "Epoch 2/20\n",
            "22500/22500 - 0s - loss: 0.3345 - acc: 0.8595 - binary_crossentropy: 0.3345 - val_loss: 0.3315 - val_acc: 0.8596 - val_binary_crossentropy: 0.3315\n",
            "Epoch 3/20\n",
            "22500/22500 - 0s - loss: 0.2920 - acc: 0.8769 - binary_crossentropy: 0.2920 - val_loss: 0.3348 - val_acc: 0.8600 - val_binary_crossentropy: 0.3348\n",
            "Epoch 4/20\n",
            "22500/22500 - 0s - loss: 0.2544 - acc: 0.8954 - binary_crossentropy: 0.2544 - val_loss: 0.3419 - val_acc: 0.8580 - val_binary_crossentropy: 0.3419\n",
            "Epoch 5/20\n",
            "22500/22500 - 0s - loss: 0.2120 - acc: 0.9150 - binary_crossentropy: 0.2120 - val_loss: 0.3594 - val_acc: 0.8572 - val_binary_crossentropy: 0.3594\n",
            "Epoch 6/20\n",
            "22500/22500 - 0s - loss: 0.1562 - acc: 0.9414 - binary_crossentropy: 0.1562 - val_loss: 0.3988 - val_acc: 0.8540 - val_binary_crossentropy: 0.3988\n",
            "Epoch 7/20\n",
            "22500/22500 - 0s - loss: 0.1153 - acc: 0.9574 - binary_crossentropy: 0.1153 - val_loss: 0.4311 - val_acc: 0.8552 - val_binary_crossentropy: 0.4311\n",
            "Epoch 8/20\n",
            "22500/22500 - 0s - loss: 0.0764 - acc: 0.9738 - binary_crossentropy: 0.0764 - val_loss: 0.4854 - val_acc: 0.8584 - val_binary_crossentropy: 0.4854\n",
            "Epoch 9/20\n",
            "22500/22500 - 0s - loss: 0.0595 - acc: 0.9788 - binary_crossentropy: 0.0595 - val_loss: 0.5243 - val_acc: 0.8556 - val_binary_crossentropy: 0.5243\n",
            "Epoch 10/20\n",
            "22500/22500 - 0s - loss: 0.0450 - acc: 0.9841 - binary_crossentropy: 0.0450 - val_loss: 0.5817 - val_acc: 0.8580 - val_binary_crossentropy: 0.5817\n",
            "Epoch 11/20\n",
            "22500/22500 - 0s - loss: 0.0383 - acc: 0.9864 - binary_crossentropy: 0.0383 - val_loss: 0.6156 - val_acc: 0.8532 - val_binary_crossentropy: 0.6156\n",
            "Epoch 12/20\n",
            "22500/22500 - 0s - loss: 0.0383 - acc: 0.9867 - binary_crossentropy: 0.0383 - val_loss: 0.6307 - val_acc: 0.8472 - val_binary_crossentropy: 0.6307\n",
            "Epoch 13/20\n",
            "22500/22500 - 0s - loss: 0.0293 - acc: 0.9904 - binary_crossentropy: 0.0293 - val_loss: 0.6725 - val_acc: 0.8528 - val_binary_crossentropy: 0.6725\n",
            "Epoch 14/20\n",
            "22500/22500 - 0s - loss: 0.0286 - acc: 0.9896 - binary_crossentropy: 0.0286 - val_loss: 0.6803 - val_acc: 0.8512 - val_binary_crossentropy: 0.6803\n",
            "Epoch 15/20\n",
            "22500/22500 - 0s - loss: 0.0280 - acc: 0.9908 - binary_crossentropy: 0.0280 - val_loss: 0.6858 - val_acc: 0.8508 - val_binary_crossentropy: 0.6858\n",
            "Epoch 16/20\n",
            "22500/22500 - 0s - loss: 0.0217 - acc: 0.9930 - binary_crossentropy: 0.0217 - val_loss: 0.7183 - val_acc: 0.8552 - val_binary_crossentropy: 0.7183\n",
            "Epoch 17/20\n",
            "22500/22500 - 0s - loss: 0.0231 - acc: 0.9917 - binary_crossentropy: 0.0231 - val_loss: 0.7282 - val_acc: 0.8532 - val_binary_crossentropy: 0.7282\n",
            "Epoch 18/20\n",
            "22500/22500 - 0s - loss: 0.0251 - acc: 0.9909 - binary_crossentropy: 0.0251 - val_loss: 0.7213 - val_acc: 0.8492 - val_binary_crossentropy: 0.7213\n",
            "Epoch 19/20\n",
            "22500/22500 - 0s - loss: 0.0210 - acc: 0.9926 - binary_crossentropy: 0.0210 - val_loss: 0.7452 - val_acc: 0.8504 - val_binary_crossentropy: 0.7452\n",
            "Epoch 20/20\n",
            "22500/22500 - 0s - loss: 0.0178 - acc: 0.9936 - binary_crossentropy: 0.0178 - val_loss: 0.7906 - val_acc: 0.8468 - val_binary_crossentropy: 0.7906\n"
          ],
          "name": "stdout"
        }
      ]
    },
    {
      "cell_type": "code",
      "metadata": {
        "id": "9aJPcL5bWOoM",
        "colab": {
          "base_uri": "https://localhost:8080/",
          "height": 1000
        },
        "outputId": "0df36e07-8347-4904-91eb-3be909cdd926"
      },
      "source": [
        "print(\"baseline\")\n",
        "plt.plot(baseline_history.history['loss'])\n",
        "plt.plot(baseline_history.history['val_loss'])\n",
        "plt.ylim((0., 1.))\n",
        "plt.show()\n",
        "\n",
        "print(\"dropout_baseline\")\n",
        "plt.plot(dropout_baseline_history.history['loss'])\n",
        "plt.plot(dropout_baseline_history.history['val_loss'])\n",
        "plt.ylim((0., 1.))\n",
        "plt.show()\n",
        "\n",
        "print(\"bigger\")\n",
        "plt.plot(bigger_history.history['loss'])\n",
        "plt.plot(bigger_history.history['val_loss'])\n",
        "plt.ylim((0., 1.))\n",
        "plt.show()\n",
        "\n",
        "print(\"dropout_bigger\")\n",
        "plt.plot(dropout_bigger_history.history['loss'])\n",
        "plt.plot(dropout_bigger_history.history['val_loss'])\n",
        "plt.ylim((0., 1.))\n",
        "plt.show()"
      ],
      "execution_count": 24,
      "outputs": [
        {
          "output_type": "stream",
          "text": [
            "baseline\n"
          ],
          "name": "stdout"
        },
        {
          "output_type": "display_data",
          "data": {
            "image/png": "[encoded data removed]",
            "text/plain": [
              "<Figure size 432x288 with 1 Axes>"
            ]
          },
          "metadata": {
            "tags": [],
            "needs_background": "light"
          }
        },
        {
          "output_type": "stream",
          "text": [
            "dropout_baseline\n"
          ],
          "name": "stdout"
        },
        {
          "output_type": "display_data",
          "data": {
            "image/png": "[encoded data removed]",
            "text/plain": [
              "<Figure size 432x288 with 1 Axes>"
            ]
          },
          "metadata": {
            "tags": [],
            "needs_background": "light"
          }
        },
        {
          "output_type": "stream",
          "text": [
            "bigger\n"
          ],
          "name": "stdout"
        },
        {
          "output_type": "display_data",
          "data": {
            "image/png": "[encoded data removed]",
            "text/plain": [
              "<Figure size 432x288 with 1 Axes>"
            ]
          },
          "metadata": {
            "tags": [],
            "needs_background": "light"
          }
        },
        {
          "output_type": "stream",
          "text": [
            "dropout_bigger\n"
          ],
          "name": "stdout"
        },
        {
          "output_type": "display_data",
          "data": {
            "image/png": "[encoded data removed]",
            "text/plain": [
              "<Figure size 432x288 with 1 Axes>"
            ]
          },
          "metadata": {
            "tags": [],
            "needs_background": "light"
          }
        }
      ]
    },
    {
      "cell_type": "code",
      "metadata": {
        "id": "3Mm_9vsIYW9R"
      },
      "source": [
        ""
      ],
      "execution_count": null,
      "outputs": []
    }
  ]
}