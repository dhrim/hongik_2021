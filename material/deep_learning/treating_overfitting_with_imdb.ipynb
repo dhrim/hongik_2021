{
  "nbformat": 4,
  "nbformat_minor": 0,
  "metadata": {
    "accelerator": "GPU",
    "colab": {
      "name": "treating_overfitting_with_imdb.ipynb",
      "provenance": [],
      "collapsed_sections": [
        "fTFj8ft5dlbS"
      ]
    },
    "kernelspec": {
      "display_name": "Python 3",
      "language": "python",
      "name": "python3"
    },
    "language_info": {
      "codemirror_mode": {
        "name": "ipython",
        "version": 3
      },
      "file_extension": ".py",
      "mimetype": "text/x-python",
      "name": "python",
      "nbconvert_exporter": "python",
      "pygments_lexer": "ipython3",
      "version": "3.8.8"
    }
  },
  "cells": [
    {
      "cell_type": "markdown",
      "metadata": {
        "id": "C9HmC2T4ld5B"
      },
      "source": [
        "# 오버피팅 처리. IMDB 데이터\n",
        "\n",
        "copy from https://www.tensorflow.org/tutorials/keras/overfit_and_underfit?hl=ko\n"
      ]
    },
    {
      "cell_type": "code",
      "metadata": {
        "id": "5pZ8A2liqvgk"
      },
      "source": [
        "import tensorflow as tf\n",
        "from tensorflow import keras\n",
        "\n",
        "import numpy as np\n",
        "import matplotlib.pyplot as plt"
      ],
      "execution_count": null,
      "outputs": []
    },
    {
      "cell_type": "markdown",
      "metadata": {
        "id": "-d3335KZKWke"
      },
      "source": [
        "# 데이터 준비"
      ]
    },
    {
      "cell_type": "code",
      "metadata": {
        "id": "aRl8BwQhKVSy"
      },
      "source": [
        "NUM_WORDS = 1000"
      ],
      "execution_count": null,
      "outputs": []
    },
    {
      "cell_type": "code",
      "metadata": {
        "colab": {
          "base_uri": "https://localhost:8080/"
        },
        "id": "PkZfm42fKyx5",
        "outputId": "aeca07d2-769d-4b1d-9238-c0836edfec32"
      },
      "source": [
        "(raw_train_x, raw_train_y), (raw_test_x, raw_test_y) = tf.keras.datasets.imdb.load_data(num_words=NUM_WORDS)\n",
        "\n",
        "print(raw_train_x.shape)\n",
        "print(raw_train_y.shape)\n",
        "print(raw_test_x.shape)\n",
        "print(raw_test_y.shape)"
      ],
      "execution_count": null,
      "outputs": [
        {
          "output_type": "stream",
          "text": [
            "(25000,)\n",
            "(25000,)\n",
            "(25000,)\n",
            "(25000,)\n"
          ],
          "name": "stdout"
        }
      ]
    },
    {
      "cell_type": "code",
      "metadata": {
        "colab": {
          "base_uri": "https://localhost:8080/"
        },
        "id": "CO1KFBtwK84Z",
        "outputId": "d0d36970-d900-4db9-89f2-ca171b95a241"
      },
      "source": [
        "print(raw_train_x[:5])\n",
        "print(raw_train_y[:5])"
      ],
      "execution_count": null,
      "outputs": [
        {
          "output_type": "stream",
          "text": [
            "[list([1, 14, 22, 16, 43, 530, 973, 2, 2, 65, 458, 2, 66, 2, 4, 173, 36, 256, 5, 25, 100, 43, 838, 112, 50, 670, 2, 9, 35, 480, 284, 5, 150, 4, 172, 112, 167, 2, 336, 385, 39, 4, 172, 2, 2, 17, 546, 38, 13, 447, 4, 192, 50, 16, 6, 147, 2, 19, 14, 22, 4, 2, 2, 469, 4, 22, 71, 87, 12, 16, 43, 530, 38, 76, 15, 13, 2, 4, 22, 17, 515, 17, 12, 16, 626, 18, 2, 5, 62, 386, 12, 8, 316, 8, 106, 5, 4, 2, 2, 16, 480, 66, 2, 33, 4, 130, 12, 16, 38, 619, 5, 25, 124, 51, 36, 135, 48, 25, 2, 33, 6, 22, 12, 215, 28, 77, 52, 5, 14, 407, 16, 82, 2, 8, 4, 107, 117, 2, 15, 256, 4, 2, 7, 2, 5, 723, 36, 71, 43, 530, 476, 26, 400, 317, 46, 7, 4, 2, 2, 13, 104, 88, 4, 381, 15, 297, 98, 32, 2, 56, 26, 141, 6, 194, 2, 18, 4, 226, 22, 21, 134, 476, 26, 480, 5, 144, 30, 2, 18, 51, 36, 28, 224, 92, 25, 104, 4, 226, 65, 16, 38, 2, 88, 12, 16, 283, 5, 16, 2, 113, 103, 32, 15, 16, 2, 19, 178, 32])\n",
            " list([1, 194, 2, 194, 2, 78, 228, 5, 6, 2, 2, 2, 134, 26, 4, 715, 8, 118, 2, 14, 394, 20, 13, 119, 954, 189, 102, 5, 207, 110, 2, 21, 14, 69, 188, 8, 30, 23, 7, 4, 249, 126, 93, 4, 114, 9, 2, 2, 5, 647, 4, 116, 9, 35, 2, 4, 229, 9, 340, 2, 4, 118, 9, 4, 130, 2, 19, 4, 2, 5, 89, 29, 952, 46, 37, 4, 455, 9, 45, 43, 38, 2, 2, 398, 4, 2, 26, 2, 5, 163, 11, 2, 2, 4, 2, 9, 194, 775, 7, 2, 2, 349, 2, 148, 605, 2, 2, 15, 123, 125, 68, 2, 2, 15, 349, 165, 2, 98, 5, 4, 228, 9, 43, 2, 2, 15, 299, 120, 5, 120, 174, 11, 220, 175, 136, 50, 9, 2, 228, 2, 5, 2, 656, 245, 2, 5, 4, 2, 131, 152, 491, 18, 2, 32, 2, 2, 14, 9, 6, 371, 78, 22, 625, 64, 2, 9, 8, 168, 145, 23, 4, 2, 15, 16, 4, 2, 5, 28, 6, 52, 154, 462, 33, 89, 78, 285, 16, 145, 95])\n",
            " list([1, 14, 47, 8, 30, 31, 7, 4, 249, 108, 7, 4, 2, 54, 61, 369, 13, 71, 149, 14, 22, 112, 4, 2, 311, 12, 16, 2, 33, 75, 43, 2, 296, 4, 86, 320, 35, 534, 19, 263, 2, 2, 4, 2, 33, 89, 78, 12, 66, 16, 4, 360, 7, 4, 58, 316, 334, 11, 4, 2, 43, 645, 662, 8, 257, 85, 2, 42, 2, 2, 83, 68, 2, 15, 36, 165, 2, 278, 36, 69, 2, 780, 8, 106, 14, 2, 2, 18, 6, 22, 12, 215, 28, 610, 40, 6, 87, 326, 23, 2, 21, 23, 22, 12, 272, 40, 57, 31, 11, 4, 22, 47, 6, 2, 51, 9, 170, 23, 595, 116, 595, 2, 13, 191, 79, 638, 89, 2, 14, 9, 8, 106, 607, 624, 35, 534, 6, 227, 7, 129, 113])\n",
            " list([1, 4, 2, 2, 33, 2, 4, 2, 432, 111, 153, 103, 4, 2, 13, 70, 131, 67, 11, 61, 2, 744, 35, 2, 761, 61, 2, 452, 2, 4, 985, 7, 2, 59, 166, 4, 105, 216, 2, 41, 2, 9, 15, 7, 35, 744, 2, 31, 8, 4, 687, 23, 4, 2, 2, 6, 2, 42, 38, 39, 121, 59, 456, 10, 10, 7, 265, 12, 575, 111, 153, 159, 59, 16, 2, 21, 25, 586, 482, 39, 4, 96, 59, 716, 12, 4, 172, 65, 9, 579, 11, 2, 4, 2, 5, 2, 7, 2, 17, 13, 2, 12, 19, 6, 464, 31, 314, 11, 2, 6, 719, 605, 11, 8, 202, 27, 310, 4, 2, 2, 8, 2, 58, 10, 10, 537, 2, 180, 40, 14, 413, 173, 7, 263, 112, 37, 152, 377, 4, 537, 263, 846, 579, 178, 54, 75, 71, 476, 36, 413, 263, 2, 182, 5, 17, 75, 2, 922, 36, 279, 131, 2, 17, 2, 42, 17, 35, 921, 2, 192, 5, 2, 2, 19, 2, 217, 2, 2, 537, 2, 2, 5, 736, 10, 10, 61, 403, 9, 2, 40, 61, 2, 5, 27, 2, 159, 90, 263, 2, 2, 309, 8, 178, 5, 82, 2, 4, 65, 15, 2, 145, 143, 2, 12, 2, 537, 746, 537, 537, 15, 2, 4, 2, 594, 7, 2, 94, 2, 2, 2, 11, 2, 4, 538, 7, 2, 246, 2, 9, 2, 11, 635, 14, 9, 51, 408, 12, 94, 318, 2, 12, 47, 6, 2, 936, 5, 2, 2, 19, 49, 7, 4, 2, 2, 2, 25, 80, 126, 842, 10, 10, 2, 2, 2, 27, 2, 11, 2, 2, 159, 27, 341, 29, 2, 19, 2, 173, 7, 90, 2, 8, 30, 11, 4, 2, 86, 2, 8, 2, 46, 11, 2, 21, 29, 9, 2, 23, 4, 2, 2, 793, 6, 2, 2, 2, 10, 10, 246, 50, 9, 6, 2, 2, 746, 90, 29, 2, 8, 124, 4, 882, 4, 882, 496, 27, 2, 2, 537, 121, 127, 2, 130, 5, 29, 494, 8, 124, 4, 882, 496, 4, 341, 7, 27, 846, 10, 10, 29, 9, 2, 8, 97, 6, 236, 2, 2, 8, 4, 2, 7, 31, 7, 2, 91, 2, 2, 70, 4, 882, 30, 579, 42, 9, 12, 32, 11, 537, 10, 10, 11, 14, 65, 44, 537, 75, 2, 2, 2, 2, 2, 4, 2, 7, 154, 5, 4, 518, 53, 2, 2, 7, 2, 882, 11, 399, 38, 75, 257, 2, 19, 2, 17, 29, 456, 4, 65, 7, 27, 205, 113, 10, 10, 2, 4, 2, 2, 9, 242, 4, 91, 2, 2, 5, 2, 307, 22, 7, 2, 126, 93, 40, 2, 13, 188, 2, 2, 19, 4, 2, 7, 2, 537, 23, 53, 537, 21, 82, 40, 2, 13, 2, 14, 280, 13, 219, 4, 2, 431, 758, 859, 4, 953, 2, 2, 7, 2, 5, 94, 40, 25, 238, 60, 2, 4, 2, 804, 2, 7, 4, 2, 132, 8, 67, 6, 22, 15, 9, 283, 8, 2, 14, 31, 9, 242, 955, 48, 25, 279, 2, 23, 12, 2, 195, 25, 238, 60, 796, 2, 4, 671, 7, 2, 5, 4, 559, 154, 888, 7, 726, 50, 26, 49, 2, 15, 566, 30, 579, 21, 64, 2])\n",
            " list([1, 249, 2, 7, 61, 113, 10, 10, 13, 2, 14, 20, 56, 33, 2, 18, 457, 88, 13, 2, 2, 45, 2, 13, 70, 79, 49, 706, 919, 13, 16, 355, 340, 355, 2, 96, 143, 4, 22, 32, 289, 7, 61, 369, 71, 2, 5, 13, 16, 131, 2, 249, 114, 249, 229, 249, 20, 13, 28, 126, 110, 13, 473, 8, 569, 61, 419, 56, 429, 6, 2, 18, 35, 534, 95, 474, 570, 5, 25, 124, 138, 88, 12, 421, 2, 52, 725, 2, 61, 419, 11, 13, 2, 15, 2, 20, 11, 4, 2, 5, 296, 12, 2, 5, 15, 421, 128, 74, 233, 334, 207, 126, 224, 12, 562, 298, 2, 2, 7, 2, 5, 516, 988, 43, 8, 79, 120, 15, 595, 13, 784, 25, 2, 18, 165, 170, 143, 19, 14, 5, 2, 6, 226, 251, 7, 61, 113])]\n",
            "[1 0 0 1 0]\n"
          ],
          "name": "stdout"
        }
      ]
    },
    {
      "cell_type": "markdown",
      "metadata": {
        "id": "4KQaN7dHLjbE"
      },
      "source": [
        "## 멀티-핫 인코딩\n",
        "\n",
        "[1 3 5] 와 같은 데이터의 경우 1, 3, 5 인덱스만 1이고 나머지는 0으로 인코딩합니다.\n",
        "\n",
        "```\n",
        "[1 3 5] -> [0 1 0 1 0 1 0 0 0 0]   # WORD 길이가 10\n",
        "```\n",
        "\n",
        "본 예의 경우 NUM_WORDS가 1000이다.\n",
        "\n",
        "1개의 데이터는 길이 1000의 벡터이며, 포함된 word 인덱스만 1인 값으로 인코딩 된다."
      ]
    },
    {
      "cell_type": "code",
      "metadata": {
        "id": "QpzE4iqZtJly"
      },
      "source": [
        "def multi_hot_sequences(sequences, dimension):\n",
        "    # 0으로 채워진 (25000, 1000) 크기의 행렬. 25000은 데이터 갯수, 1000은 NUM_WORDS\n",
        "    results = np.zeros((len(sequences), dimension))\n",
        "    for i, word_indices in enumerate(sequences):\n",
        "        results[i, word_indices] = 1.0  # results[i]의 특정 인덱스만 1로 설정합니다\n",
        "    return results\n",
        "\n",
        "\n",
        "train_x = multi_hot_sequences(raw_train_x, dimension=NUM_WORDS)\n",
        "test_x = multi_hot_sequences(raw_test_x, dimension=NUM_WORDS)\n",
        "train_y = raw_train_y\n",
        "test_y = raw_test_y"
      ],
      "execution_count": null,
      "outputs": []
    },
    {
      "cell_type": "code",
      "metadata": {
        "colab": {
          "base_uri": "https://localhost:8080/",
          "height": 146
        },
        "id": "pLsndPYqM8db",
        "outputId": "4797ab79-3d06-428b-be32-8801bd8bf3b4"
      },
      "source": [
        "print(raw_train_x.shape)\n",
        "print(raw_train_x[0])\n",
        "print(train_x.shape)\n",
        "print(train_x[0][:10])\n",
        "print(train_x[0][10:20])\n",
        "print(train_x[0][20:30])\n"
      ],
      "execution_count": null,
      "outputs": [
        {
          "output_type": "stream",
          "text": [
            "(25000,)\n",
            "[1, 14, 22, 16, 43, 530, 973, 2, 2, 65, 458, 2, 66, 2, 4, 173, 36, 256, 5, 25, 100, 43, 838, 112, 50, 670, 2, 9, 35, 480, 284, 5, 150, 4, 172, 112, 167, 2, 336, 385, 39, 4, 172, 2, 2, 17, 546, 38, 13, 447, 4, 192, 50, 16, 6, 147, 2, 19, 14, 22, 4, 2, 2, 469, 4, 22, 71, 87, 12, 16, 43, 530, 38, 76, 15, 13, 2, 4, 22, 17, 515, 17, 12, 16, 626, 18, 2, 5, 62, 386, 12, 8, 316, 8, 106, 5, 4, 2, 2, 16, 480, 66, 2, 33, 4, 130, 12, 16, 38, 619, 5, 25, 124, 51, 36, 135, 48, 25, 2, 33, 6, 22, 12, 215, 28, 77, 52, 5, 14, 407, 16, 82, 2, 8, 4, 107, 117, 2, 15, 256, 4, 2, 7, 2, 5, 723, 36, 71, 43, 530, 476, 26, 400, 317, 46, 7, 4, 2, 2, 13, 104, 88, 4, 381, 15, 297, 98, 32, 2, 56, 26, 141, 6, 194, 2, 18, 4, 226, 22, 21, 134, 476, 26, 480, 5, 144, 30, 2, 18, 51, 36, 28, 224, 92, 25, 104, 4, 226, 65, 16, 38, 2, 88, 12, 16, 283, 5, 16, 2, 113, 103, 32, 15, 16, 2, 19, 178, 32]\n",
            "(25000, 1000)\n",
            "[0. 1. 1. 0. 1. 1. 1. 1. 1. 1.]\n",
            "[0. 0. 1. 1. 1. 1. 1. 1. 1. 1.]\n",
            "[0. 1. 1. 0. 0. 1. 1. 0. 1. 0.]\n"
          ],
          "name": "stdout"
        }
      ]
    },
    {
      "cell_type": "markdown",
      "metadata": {
        "id": "qmppWbxbPj2-"
      },
      "source": [
        "모델이 너무 크면 패턴의 '학습'이 아닌 개별 데이터를 '기억'한다.\n",
        "\n",
        "\n"
      ]
    },
    {
      "cell_type": "markdown",
      "metadata": {
        "id": "3b4k2sqUWvMo"
      },
      "source": [
        "# 모델 크기별 과적합"
      ]
    },
    {
      "cell_type": "markdown",
      "metadata": {
        "id": "L-DGRBbGxI6G"
      },
      "source": [
        "### 작은 모델"
      ]
    },
    {
      "cell_type": "code",
      "metadata": {
        "colab": {
          "base_uri": "https://localhost:8080/"
        },
        "id": "jksi-XtaxDAh",
        "outputId": "7b09d358-f6d6-4efb-b4bd-f536002b5319"
      },
      "source": [
        "small_model = keras.Sequential([\n",
        "    keras.layers.Dense(4, activation='relu', input_shape=(NUM_WORDS,)),\n",
        "    keras.layers.Dense(4, activation='relu'),\n",
        "    keras.layers.Dense(1, activation='sigmoid')\n",
        "])\n",
        "\n",
        "small_model.compile(optimizer='adam', loss='binary_crossentropy')\n",
        "\n",
        "small_model.summary()"
      ],
      "execution_count": null,
      "outputs": [
        {
          "output_type": "stream",
          "text": [
            "Model: \"sequential_14\"\n",
            "_________________________________________________________________\n",
            "Layer (type)                 Output Shape              Param #   \n",
            "=================================================================\n",
            "dense_42 (Dense)             (None, 4)                 4004      \n",
            "_________________________________________________________________\n",
            "dense_43 (Dense)             (None, 4)                 20        \n",
            "_________________________________________________________________\n",
            "dense_44 (Dense)             (None, 1)                 5         \n",
            "=================================================================\n",
            "Total params: 4,029\n",
            "Trainable params: 4,029\n",
            "Non-trainable params: 0\n",
            "_________________________________________________________________\n"
          ],
          "name": "stdout"
        }
      ]
    },
    {
      "cell_type": "code",
      "metadata": {
        "colab": {
          "base_uri": "https://localhost:8080/",
          "height": 763
        },
        "id": "Ofn1AwDhx-Fe",
        "outputId": "cea46780-1f40-4f42-bedf-1bf556e6212f"
      },
      "source": [
        "small_history = small_model.fit(train_x,\n",
        "                                    train_y,\n",
        "                                    epochs=20,\n",
        "                                    batch_size=512,\n",
        "                                    validation_split=0.1,\n",
        "                                    verbose=2)"
      ],
      "execution_count": null,
      "outputs": [
        {
          "output_type": "stream",
          "text": [
            "Epoch 1/20\n",
            "44/44 - 1s - loss: 0.6414 - val_loss: 0.5517\n",
            "Epoch 2/20\n",
            "44/44 - 0s - loss: 0.4776 - val_loss: 0.4257\n",
            "Epoch 3/20\n",
            "44/44 - 0s - loss: 0.3889 - val_loss: 0.3760\n",
            "Epoch 4/20\n",
            "44/44 - 0s - loss: 0.3477 - val_loss: 0.3536\n",
            "Epoch 5/20\n",
            "44/44 - 0s - loss: 0.3270 - val_loss: 0.3441\n",
            "Epoch 6/20\n",
            "44/44 - 0s - loss: 0.3149 - val_loss: 0.3386\n",
            "Epoch 7/20\n",
            "44/44 - 0s - loss: 0.3061 - val_loss: 0.3362\n",
            "Epoch 8/20\n",
            "44/44 - 0s - loss: 0.3002 - val_loss: 0.3372\n",
            "Epoch 9/20\n",
            "44/44 - 0s - loss: 0.2969 - val_loss: 0.3385\n",
            "Epoch 10/20\n",
            "44/44 - 0s - loss: 0.2916 - val_loss: 0.3387\n",
            "Epoch 11/20\n",
            "44/44 - 0s - loss: 0.2884 - val_loss: 0.3409\n",
            "Epoch 12/20\n",
            "44/44 - 0s - loss: 0.2861 - val_loss: 0.3417\n",
            "Epoch 13/20\n",
            "44/44 - 0s - loss: 0.2824 - val_loss: 0.3427\n",
            "Epoch 14/20\n",
            "44/44 - 0s - loss: 0.2814 - val_loss: 0.3465\n",
            "Epoch 15/20\n",
            "44/44 - 0s - loss: 0.2786 - val_loss: 0.3563\n",
            "Epoch 16/20\n",
            "44/44 - 0s - loss: 0.2764 - val_loss: 0.3512\n",
            "Epoch 17/20\n",
            "44/44 - 0s - loss: 0.2739 - val_loss: 0.3522\n",
            "Epoch 18/20\n",
            "44/44 - 0s - loss: 0.2737 - val_loss: 0.3539\n",
            "Epoch 19/20\n",
            "44/44 - 0s - loss: 0.2711 - val_loss: 0.3558\n",
            "Epoch 20/20\n",
            "44/44 - 0s - loss: 0.2699 - val_loss: 0.3587\n"
          ],
          "name": "stdout"
        }
      ]
    },
    {
      "cell_type": "markdown",
      "metadata": {
        "id": "_ReKHdC2EgVu"
      },
      "source": [
        "### 기준 모델"
      ]
    },
    {
      "cell_type": "code",
      "metadata": {
        "colab": {
          "base_uri": "https://localhost:8080/"
        },
        "id": "QKgdXPx9usBa",
        "outputId": "32603b74-dcc0-46a1-fca7-eeeb16ef0a02"
      },
      "source": [
        "baseline_model = keras.Sequential([\n",
        "    keras.layers.Dense(16, activation='relu', input_shape=(NUM_WORDS,)),\n",
        "    keras.layers.Dense(16, activation='relu'),\n",
        "    keras.layers.Dense(1, activation='sigmoid')\n",
        "])\n",
        "\n",
        "baseline_model.compile(optimizer='adam', loss='binary_crossentropy')\n",
        "\n",
        "baseline_model.summary()"
      ],
      "execution_count": null,
      "outputs": [
        {
          "output_type": "stream",
          "text": [
            "Model: \"sequential_15\"\n",
            "_________________________________________________________________\n",
            "Layer (type)                 Output Shape              Param #   \n",
            "=================================================================\n",
            "dense_45 (Dense)             (None, 16)                16016     \n",
            "_________________________________________________________________\n",
            "dense_46 (Dense)             (None, 16)                272       \n",
            "_________________________________________________________________\n",
            "dense_47 (Dense)             (None, 1)                 17        \n",
            "=================================================================\n",
            "Total params: 16,305\n",
            "Trainable params: 16,305\n",
            "Non-trainable params: 0\n",
            "_________________________________________________________________\n"
          ],
          "name": "stdout"
        }
      ]
    },
    {
      "cell_type": "code",
      "metadata": {
        "colab": {
          "base_uri": "https://localhost:8080/"
        },
        "id": "LqG3MXF5xSjR",
        "outputId": "63d25f72-56ae-4f1d-e923-0d48533a59b8"
      },
      "source": [
        "baseline_history = baseline_model.fit(train_x,\n",
        "                                      train_y,\n",
        "                                      epochs=20,\n",
        "                                      batch_size=512,\n",
        "                                      validation_split=0.1,\n",
        "                                      verbose=2)"
      ],
      "execution_count": null,
      "outputs": [
        {
          "output_type": "stream",
          "text": [
            "Epoch 1/20\n",
            "44/44 - 1s - loss: 0.5740 - val_loss: 0.4303\n",
            "Epoch 2/20\n",
            "44/44 - 0s - loss: 0.3679 - val_loss: 0.3529\n",
            "Epoch 3/20\n",
            "44/44 - 0s - loss: 0.3205 - val_loss: 0.3392\n",
            "Epoch 4/20\n",
            "44/44 - 0s - loss: 0.3069 - val_loss: 0.3387\n",
            "Epoch 5/20\n",
            "44/44 - 0s - loss: 0.2984 - val_loss: 0.3405\n",
            "Epoch 6/20\n",
            "44/44 - 0s - loss: 0.2939 - val_loss: 0.3436\n",
            "Epoch 7/20\n",
            "44/44 - 0s - loss: 0.2890 - val_loss: 0.3434\n",
            "Epoch 8/20\n",
            "44/44 - 0s - loss: 0.2831 - val_loss: 0.3436\n",
            "Epoch 9/20\n",
            "44/44 - 0s - loss: 0.2776 - val_loss: 0.3463\n",
            "Epoch 10/20\n",
            "44/44 - 0s - loss: 0.2728 - val_loss: 0.3475\n",
            "Epoch 11/20\n",
            "44/44 - 0s - loss: 0.2702 - val_loss: 0.3500\n",
            "Epoch 12/20\n",
            "44/44 - 0s - loss: 0.2615 - val_loss: 0.3528\n",
            "Epoch 13/20\n",
            "44/44 - 0s - loss: 0.2559 - val_loss: 0.3565\n",
            "Epoch 14/20\n",
            "44/44 - 0s - loss: 0.2501 - val_loss: 0.3615\n",
            "Epoch 15/20\n",
            "44/44 - 0s - loss: 0.2437 - val_loss: 0.3615\n",
            "Epoch 16/20\n",
            "44/44 - 0s - loss: 0.2381 - val_loss: 0.3668\n",
            "Epoch 17/20\n",
            "44/44 - 0s - loss: 0.2310 - val_loss: 0.3645\n",
            "Epoch 18/20\n",
            "44/44 - 0s - loss: 0.2258 - val_loss: 0.3721\n",
            "Epoch 19/20\n",
            "44/44 - 0s - loss: 0.2214 - val_loss: 0.3793\n",
            "Epoch 20/20\n",
            "44/44 - 0s - loss: 0.2129 - val_loss: 0.3806\n"
          ],
          "name": "stdout"
        }
      ]
    },
    {
      "cell_type": "markdown",
      "metadata": {
        "id": "vIPuf23FFaVn"
      },
      "source": [
        "### 큰 모델"
      ]
    },
    {
      "cell_type": "code",
      "metadata": {
        "colab": {
          "base_uri": "https://localhost:8080/"
        },
        "id": "ghQwwqwqvQM9",
        "outputId": "01e74c9b-a8e2-4ba3-e8fc-6a5fe37c24c3"
      },
      "source": [
        "big_model = keras.models.Sequential([\n",
        "    keras.layers.Dense(512, activation='relu', input_shape=(NUM_WORDS,)),\n",
        "    keras.layers.Dense(512, activation='relu'),\n",
        "    keras.layers.Dense(1, activation='sigmoid')\n",
        "])\n",
        "\n",
        "big_model.compile(optimizer='adam', loss='binary_crossentropy')\n",
        "\n",
        "big_model.summary()"
      ],
      "execution_count": null,
      "outputs": [
        {
          "output_type": "stream",
          "text": [
            "Model: \"sequential_16\"\n",
            "_________________________________________________________________\n",
            "Layer (type)                 Output Shape              Param #   \n",
            "=================================================================\n",
            "dense_48 (Dense)             (None, 512)               512512    \n",
            "_________________________________________________________________\n",
            "dense_49 (Dense)             (None, 512)               262656    \n",
            "_________________________________________________________________\n",
            "dense_50 (Dense)             (None, 1)                 513       \n",
            "=================================================================\n",
            "Total params: 775,681\n",
            "Trainable params: 775,681\n",
            "Non-trainable params: 0\n",
            "_________________________________________________________________\n"
          ],
          "name": "stdout"
        }
      ]
    },
    {
      "cell_type": "markdown",
      "metadata": {
        "id": "D-d-i5DaYmr7"
      },
      "source": [
        "역시 같은 데이터를 사용해 모델을 훈련합니다:"
      ]
    },
    {
      "cell_type": "code",
      "metadata": {
        "colab": {
          "base_uri": "https://localhost:8080/"
        },
        "id": "U1A99dhqvepf",
        "outputId": "97c5be63-eb5a-4678-aa25-94ca7eff0cb0"
      },
      "source": [
        "big_history = big_model.fit(train_x,\n",
        "                                  train_y,\n",
        "                                  epochs=20,\n",
        "                                  batch_size=512,\n",
        "                                  validation_split=0.1,\n",
        "                                  verbose=2)"
      ],
      "execution_count": null,
      "outputs": [
        {
          "output_type": "stream",
          "text": [
            "Epoch 1/20\n",
            "44/44 - 1s - loss: 0.4308 - val_loss: 0.3383\n",
            "Epoch 2/20\n",
            "44/44 - 0s - loss: 0.2933 - val_loss: 0.3558\n",
            "Epoch 3/20\n",
            "44/44 - 0s - loss: 0.2331 - val_loss: 0.3522\n",
            "Epoch 4/20\n",
            "44/44 - 0s - loss: 0.1264 - val_loss: 0.4118\n",
            "Epoch 5/20\n",
            "44/44 - 0s - loss: 0.0329 - val_loss: 0.5255\n",
            "Epoch 6/20\n",
            "44/44 - 0s - loss: 0.0068 - val_loss: 0.6298\n",
            "Epoch 7/20\n",
            "44/44 - 0s - loss: 0.0017 - val_loss: 0.6833\n",
            "Epoch 8/20\n",
            "44/44 - 0s - loss: 8.1064e-04 - val_loss: 0.7204\n",
            "Epoch 9/20\n",
            "44/44 - 0s - loss: 5.3614e-04 - val_loss: 0.7491\n",
            "Epoch 10/20\n",
            "44/44 - 0s - loss: 3.8376e-04 - val_loss: 0.7762\n",
            "Epoch 11/20\n",
            "44/44 - 0s - loss: 2.8577e-04 - val_loss: 0.7976\n",
            "Epoch 12/20\n",
            "44/44 - 0s - loss: 2.1922e-04 - val_loss: 0.8176\n",
            "Epoch 13/20\n",
            "44/44 - 0s - loss: 1.7192e-04 - val_loss: 0.8366\n",
            "Epoch 14/20\n",
            "44/44 - 0s - loss: 1.3779e-04 - val_loss: 0.8545\n",
            "Epoch 15/20\n",
            "44/44 - 0s - loss: 1.1212e-04 - val_loss: 0.8713\n",
            "Epoch 16/20\n",
            "44/44 - 0s - loss: 9.2847e-05 - val_loss: 0.8871\n",
            "Epoch 17/20\n",
            "44/44 - 0s - loss: 7.7922e-05 - val_loss: 0.9003\n",
            "Epoch 18/20\n",
            "44/44 - 0s - loss: 6.6015e-05 - val_loss: 0.9154\n",
            "Epoch 19/20\n",
            "44/44 - 0s - loss: 5.6546e-05 - val_loss: 0.9273\n",
            "Epoch 20/20\n",
            "44/44 - 0s - loss: 4.8907e-05 - val_loss: 0.9393\n"
          ],
          "name": "stdout"
        }
      ]
    },
    {
      "cell_type": "markdown",
      "metadata": {
        "id": "Fy3CMUZpzH3d"
      },
      "source": [
        "## 로스 그래프"
      ]
    },
    {
      "cell_type": "code",
      "metadata": {
        "colab": {
          "base_uri": "https://localhost:8080/",
          "height": 825
        },
        "id": "X7uu67SxRp4V",
        "outputId": "4d8a86a7-9d47-46b2-a5f7-57e9fb218dfd"
      },
      "source": [
        "print(\"small\")\n",
        "plt.plot(small_history.history['loss'])\n",
        "plt.plot(small_history.history['val_loss'])\n",
        "plt.ylim((-0.1, 1.))\n",
        "plt.show()\n",
        "\n",
        "print(\"base\")\n",
        "plt.plot(baseline_history.history['loss'])\n",
        "plt.plot(baseline_history.history['val_loss'])\n",
        "plt.ylim((0., 1.))\n",
        "plt.show()\n",
        "\n",
        "print(\"big\")\n",
        "plt.plot(big_history.history['loss'])\n",
        "plt.plot(big_history.history['val_loss'])\n",
        "plt.ylim((0., 1.))\n",
        "plt.show()\n"
      ],
      "execution_count": null,
      "outputs": [
        {
          "output_type": "stream",
          "text": [
            "small\n"
          ],
          "name": "stdout"
        },
        {
          "output_type": "display_data",
          "data": {
            "image/png": "[encoded data removed]",
            "text/plain": [
              "<Figure size 432x288 with 1 Axes>"
            ]
          },
          "metadata": {
            "tags": [],
            "needs_background": "light"
          }
        },
        {
          "output_type": "stream",
          "text": [
            "base\n"
          ],
          "name": "stdout"
        },
        {
          "output_type": "display_data",
          "data": {
            "image/png": "[encoded data removed]",
            "text/plain": [
              "<Figure size 432x288 with 1 Axes>"
            ]
          },
          "metadata": {
            "tags": [],
            "needs_background": "light"
          }
        },
        {
          "output_type": "stream",
          "text": [
            "big\n"
          ],
          "name": "stdout"
        },
        {
          "output_type": "display_data",
          "data": {
            "image/png": "[encoded data removed]",
            "text/plain": [
              "<Figure size 432x288 with 1 Axes>"
            ]
          },
          "metadata": {
            "tags": [],
            "needs_background": "light"
          }
        }
      ]
    },
    {
      "cell_type": "markdown",
      "metadata": {
        "id": "QBnYskh3XZ86"
      },
      "source": [
        "모델이 클수록 오버피팅 발생이 일찍 온다"
      ]
    },
    {
      "cell_type": "markdown",
      "metadata": {
        "id": "ASdv7nsgEFhx"
      },
      "source": [
        "# 과적합 처리"
      ]
    },
    {
      "cell_type": "markdown",
      "metadata": {
        "id": "4rHoVWcswFLa"
      },
      "source": [
        "## weight Regularization"
      ]
    },
    {
      "cell_type": "code",
      "metadata": {
        "colab": {
          "base_uri": "https://localhost:8080/"
        },
        "id": "HFGmcwduwVyQ",
        "outputId": "1a22513d-4f3a-41e3-c052-cb14cd964288"
      },
      "source": [
        "ㅣ2_baseline_model = keras.Sequential([\n",
        "    # keras.layers.Dense(16, activation='relu', input_shape=(NUM_WORDS,)),\n",
        "    keras.layers.Dense(16, activation='relu', input_shape=(NUM_WORDS,), kernel_regularizer=keras.regularizers.l2(0.001)),\n",
        "    # keras.layers.Dense(16, activation='relu'),\n",
        "    keras.layers.Dense(16, activation='relu', kernel_regularizer=keras.regularizers.l2(0.001)),\n",
        "    keras.layers.Dense(1, activation='sigmoid')\n",
        "])\n",
        "\n",
        "ㅣ2_baseline_model.compile(optimizer='adam', loss='binary_crossentropy')\n",
        "\n",
        "ㅣ2_baseline_model.summary()\n",
        "\n",
        "l2_baseline_history = ㅣ2_baseline_model.fit(train_x,\n",
        "                                    train_y,\n",
        "                                    epochs=20,\n",
        "                                    batch_size=512,\n",
        "                                    validation_split=0.1,\n",
        "                                    verbose=2)"
      ],
      "execution_count": null,
      "outputs": [
        {
          "output_type": "stream",
          "text": [
            "Model: \"sequential_17\"\n",
            "_________________________________________________________________\n",
            "Layer (type)                 Output Shape              Param #   \n",
            "=================================================================\n",
            "dense_51 (Dense)             (None, 16)                16016     \n",
            "_________________________________________________________________\n",
            "dense_52 (Dense)             (None, 16)                272       \n",
            "_________________________________________________________________\n",
            "dense_53 (Dense)             (None, 1)                 17        \n",
            "=================================================================\n",
            "Total params: 16,305\n",
            "Trainable params: 16,305\n",
            "Non-trainable params: 0\n",
            "_________________________________________________________________\n",
            "Epoch 1/20\n",
            "44/44 - 1s - loss: 0.6060 - val_loss: 0.4783\n",
            "Epoch 2/20\n",
            "44/44 - 0s - loss: 0.4143 - val_loss: 0.4005\n",
            "Epoch 3/20\n",
            "44/44 - 0s - loss: 0.3655 - val_loss: 0.3838\n",
            "Epoch 4/20\n",
            "44/44 - 0s - loss: 0.3495 - val_loss: 0.3757\n",
            "Epoch 5/20\n",
            "44/44 - 0s - loss: 0.3418 - val_loss: 0.3739\n",
            "Epoch 6/20\n",
            "44/44 - 0s - loss: 0.3361 - val_loss: 0.3725\n",
            "Epoch 7/20\n",
            "44/44 - 0s - loss: 0.3327 - val_loss: 0.3718\n",
            "Epoch 8/20\n",
            "44/44 - 0s - loss: 0.3286 - val_loss: 0.3772\n",
            "Epoch 9/20\n",
            "44/44 - 0s - loss: 0.3289 - val_loss: 0.3756\n",
            "Epoch 10/20\n",
            "44/44 - 0s - loss: 0.3256 - val_loss: 0.3682\n",
            "Epoch 11/20\n",
            "44/44 - 0s - loss: 0.3212 - val_loss: 0.3705\n",
            "Epoch 12/20\n",
            "44/44 - 0s - loss: 0.3191 - val_loss: 0.3704\n",
            "Epoch 13/20\n",
            "44/44 - 0s - loss: 0.3173 - val_loss: 0.3692\n",
            "Epoch 14/20\n",
            "44/44 - 0s - loss: 0.3120 - val_loss: 0.3706\n",
            "Epoch 15/20\n",
            "44/44 - 0s - loss: 0.3092 - val_loss: 0.3709\n",
            "Epoch 16/20\n",
            "44/44 - 0s - loss: 0.3084 - val_loss: 0.3730\n",
            "Epoch 17/20\n",
            "44/44 - 0s - loss: 0.3024 - val_loss: 0.3699\n",
            "Epoch 18/20\n",
            "44/44 - 0s - loss: 0.2995 - val_loss: 0.3702\n",
            "Epoch 19/20\n",
            "44/44 - 0s - loss: 0.2957 - val_loss: 0.3735\n",
            "Epoch 20/20\n",
            "44/44 - 0s - loss: 0.2939 - val_loss: 0.3766\n"
          ],
          "name": "stdout"
        }
      ]
    },
    {
      "cell_type": "code",
      "metadata": {
        "colab": {
          "base_uri": "https://localhost:8080/"
        },
        "id": "utsh4INTDGR4",
        "scrolled": true,
        "outputId": "66d8da66-8f1e-4e11-853b-a9b16afb76b8"
      },
      "source": [
        "ㅣ2_big_model = keras.Sequential([\n",
        "    # keras.layers.Dense(512, activation='relu', input_shape=(NUM_WORDS,)),\n",
        "    keras.layers.Dense(512, activation='relu', input_shape=(NUM_WORDS,), kernel_regularizer=keras.regularizers.l2(0.001)),\n",
        "    # keras.layers.Dense(512, activation='relu'),\n",
        "    keras.layers.Dense(512, activation='relu', kernel_regularizer=keras.regularizers.l2(0.001)),\n",
        "    keras.layers.Dense(1, activation='sigmoid')\n",
        "])\n",
        "\n",
        "ㅣ2_big_model.compile(optimizer='adam', loss='binary_crossentropy')\n",
        "\n",
        "ㅣ2_big_model.summary()\n",
        "\n",
        "l2_big_history = ㅣ2_big_model.fit(train_x,\n",
        "                                    train_y,\n",
        "                                    epochs=20,\n",
        "                                    batch_size=512,\n",
        "                                    validation_split=0.1,\n",
        "                                    verbose=2)"
      ],
      "execution_count": null,
      "outputs": [
        {
          "output_type": "stream",
          "text": [
            "Model: \"sequential_18\"\n",
            "_________________________________________________________________\n",
            "Layer (type)                 Output Shape              Param #   \n",
            "=================================================================\n",
            "dense_54 (Dense)             (None, 512)               512512    \n",
            "_________________________________________________________________\n",
            "dense_55 (Dense)             (None, 512)               262656    \n",
            "_________________________________________________________________\n",
            "dense_56 (Dense)             (None, 1)                 513       \n",
            "=================================================================\n",
            "Total params: 775,681\n",
            "Trainable params: 775,681\n",
            "Non-trainable params: 0\n",
            "_________________________________________________________________\n",
            "Epoch 1/20\n",
            "44/44 - 1s - loss: 1.2307 - val_loss: 0.8746\n",
            "Epoch 2/20\n",
            "44/44 - 0s - loss: 0.7101 - val_loss: 0.6455\n",
            "Epoch 3/20\n",
            "44/44 - 0s - loss: 0.5375 - val_loss: 0.5722\n",
            "Epoch 4/20\n",
            "44/44 - 0s - loss: 0.4531 - val_loss: 0.5397\n",
            "Epoch 5/20\n",
            "44/44 - 0s - loss: 0.3736 - val_loss: 0.5144\n",
            "Epoch 6/20\n",
            "44/44 - 0s - loss: 0.3066 - val_loss: 0.5358\n",
            "Epoch 7/20\n",
            "44/44 - 0s - loss: 0.2398 - val_loss: 0.5473\n",
            "Epoch 8/20\n",
            "44/44 - 0s - loss: 0.2028 - val_loss: 0.5794\n",
            "Epoch 9/20\n",
            "44/44 - 0s - loss: 0.1751 - val_loss: 0.5636\n",
            "Epoch 10/20\n",
            "44/44 - 0s - loss: 0.1567 - val_loss: 0.5532\n",
            "Epoch 11/20\n",
            "44/44 - 0s - loss: 0.1413 - val_loss: 0.5614\n",
            "Epoch 12/20\n",
            "44/44 - 0s - loss: 0.1304 - val_loss: 0.5431\n",
            "Epoch 13/20\n",
            "44/44 - 0s - loss: 0.1210 - val_loss: 0.5526\n",
            "Epoch 14/20\n",
            "44/44 - 0s - loss: 0.1164 - val_loss: 0.5556\n",
            "Epoch 15/20\n",
            "44/44 - 0s - loss: 0.1134 - val_loss: 0.5559\n",
            "Epoch 16/20\n",
            "44/44 - 0s - loss: 0.1100 - val_loss: 0.5351\n",
            "Epoch 17/20\n",
            "44/44 - 0s - loss: 0.1172 - val_loss: 0.6147\n",
            "Epoch 18/20\n",
            "44/44 - 0s - loss: 0.1162 - val_loss: 0.5796\n",
            "Epoch 19/20\n",
            "44/44 - 0s - loss: 0.1119 - val_loss: 0.6027\n",
            "Epoch 20/20\n",
            "44/44 - 0s - loss: 0.1377 - val_loss: 0.5791\n"
          ],
          "name": "stdout"
        }
      ]
    },
    {
      "cell_type": "code",
      "metadata": {
        "colab": {
          "base_uri": "https://localhost:8080/",
          "height": 1000
        },
        "id": "cQAECSenUBC4",
        "outputId": "ed07c202-4fb8-4b13-8a76-45012405f717"
      },
      "source": [
        "print(\"baseline\")\n",
        "plt.plot(baseline_history.history['loss'])\n",
        "plt.plot(baseline_history.history['val_loss'])\n",
        "plt.ylim((0., 1.))\n",
        "plt.show()\n",
        "\n",
        "print(\"l2_baseline\")\n",
        "plt.plot(l2_baseline_history.history['loss'])\n",
        "plt.plot(l2_baseline_history.history['val_loss'])\n",
        "plt.ylim((0., 1.))\n",
        "plt.show()\n",
        "\n",
        "print(\"big\")\n",
        "plt.plot(big_history.history['loss'])\n",
        "plt.plot(big_history.history['val_loss'])\n",
        "plt.ylim((0., 1.))\n",
        "plt.show()\n",
        "\n",
        "print(\"l2_big\")\n",
        "plt.plot(l2_big_history.history['loss'])\n",
        "plt.plot(l2_big_history.history['val_loss'])\n",
        "plt.ylim((0., 1.))\n",
        "plt.show()"
      ],
      "execution_count": null,
      "outputs": [
        {
          "output_type": "stream",
          "text": [
            "baseline\n"
          ],
          "name": "stdout"
        },
        {
          "output_type": "display_data",
          "data": {
            "image/png": "[encoded data removed]",
            "text/plain": [
              "<Figure size 432x288 with 1 Axes>"
            ]
          },
          "metadata": {
            "tags": [],
            "needs_background": "light"
          }
        },
        {
          "output_type": "stream",
          "text": [
            "l2_baseline\n"
          ],
          "name": "stdout"
        },
        {
          "output_type": "display_data",
          "data": {
            "image/png": "[encoded data removed]",
            "text/plain": [
              "<Figure size 432x288 with 1 Axes>"
            ]
          },
          "metadata": {
            "tags": [],
            "needs_background": "light"
          }
        },
        {
          "output_type": "stream",
          "text": [
            "big\n"
          ],
          "name": "stdout"
        },
        {
          "output_type": "display_data",
          "data": {
            "image/png": "[encoded data removed]",
            "text/plain": [
              "<Figure size 432x288 with 1 Axes>"
            ]
          },
          "metadata": {
            "tags": [],
            "needs_background": "light"
          }
        },
        {
          "output_type": "stream",
          "text": [
            "l2_big\n"
          ],
          "name": "stdout"
        },
        {
          "output_type": "display_data",
          "data": {
            "image/png": "[encoded data removed]",
            "text/plain": [
              "<Figure size 432x288 with 1 Axes>"
            ]
          },
          "metadata": {
            "tags": [],
            "needs_background": "light"
          }
        }
      ]
    },
    {
      "cell_type": "markdown",
      "metadata": {
        "id": "BV-hZXvBX-VL"
      },
      "source": [
        "발생하던 오버피팅이 완화되었다."
      ]
    },
    {
      "cell_type": "markdown",
      "metadata": {
        "id": "k3V7W79YV4KH"
      },
      "source": [
        "## Drop Out"
      ]
    },
    {
      "cell_type": "code",
      "metadata": {
        "colab": {
          "base_uri": "https://localhost:8080/"
        },
        "id": "II8XxgNhV9N8",
        "outputId": "f6ac22d7-0f93-4e80-a938-cccbd2747ddb"
      },
      "source": [
        "dropout_baseline_model = keras.Sequential([\n",
        "    keras.layers.Dense(16, activation='relu', input_shape=(NUM_WORDS,)),\n",
        "    keras.layers.Dropout(0.5),    # ADD\n",
        "    keras.layers.Dense(16, activation='relu'),\n",
        "    keras.layers.Dropout(0.5),    # ADDD\n",
        "    keras.layers.Dense(1, activation='sigmoid')\n",
        "])\n",
        "\n",
        "\n",
        "dropout_baseline_model.compile(optimizer='adam',\n",
        "                 loss='binary_crossentropy',\n",
        "                 metrics=['accuracy', 'binary_crossentropy'])\n",
        "\n",
        "dropout_baseline_history = dropout_baseline_model.fit(train_x,\n",
        "                                    train_y,\n",
        "                                    epochs=20,\n",
        "                                    batch_size=512,\n",
        "                                    validation_split=0.1,\n",
        "                                    verbose=2)"
      ],
      "execution_count": null,
      "outputs": [
        {
          "output_type": "stream",
          "text": [
            "Epoch 1/20\n",
            "44/44 - 1s - loss: 0.6768 - accuracy: 0.5622 - binary_crossentropy: 0.6768 - val_loss: 0.6291 - val_accuracy: 0.7448 - val_binary_crossentropy: 0.6291\n",
            "Epoch 2/20\n",
            "44/44 - 0s - loss: 0.6007 - accuracy: 0.6713 - binary_crossentropy: 0.6007 - val_loss: 0.5090 - val_accuracy: 0.8196 - val_binary_crossentropy: 0.5090\n",
            "Epoch 3/20\n",
            "44/44 - 0s - loss: 0.5209 - accuracy: 0.7427 - binary_crossentropy: 0.5209 - val_loss: 0.4296 - val_accuracy: 0.8408 - val_binary_crossentropy: 0.4296\n",
            "Epoch 4/20\n",
            "44/44 - 0s - loss: 0.4612 - accuracy: 0.7902 - binary_crossentropy: 0.4612 - val_loss: 0.3776 - val_accuracy: 0.8548 - val_binary_crossentropy: 0.3776\n",
            "Epoch 5/20\n",
            "44/44 - 0s - loss: 0.4300 - accuracy: 0.8100 - binary_crossentropy: 0.4300 - val_loss: 0.3537 - val_accuracy: 0.8568 - val_binary_crossentropy: 0.3537\n",
            "Epoch 6/20\n",
            "44/44 - 0s - loss: 0.4053 - accuracy: 0.8298 - binary_crossentropy: 0.4053 - val_loss: 0.3466 - val_accuracy: 0.8604 - val_binary_crossentropy: 0.3466\n",
            "Epoch 7/20\n",
            "44/44 - 0s - loss: 0.3843 - accuracy: 0.8395 - binary_crossentropy: 0.3843 - val_loss: 0.3362 - val_accuracy: 0.8604 - val_binary_crossentropy: 0.3362\n",
            "Epoch 8/20\n",
            "44/44 - 0s - loss: 0.3707 - accuracy: 0.8469 - binary_crossentropy: 0.3707 - val_loss: 0.3329 - val_accuracy: 0.8604 - val_binary_crossentropy: 0.3329\n",
            "Epoch 9/20\n",
            "44/44 - 0s - loss: 0.3581 - accuracy: 0.8528 - binary_crossentropy: 0.3581 - val_loss: 0.3343 - val_accuracy: 0.8612 - val_binary_crossentropy: 0.3343\n",
            "Epoch 10/20\n",
            "44/44 - 0s - loss: 0.3473 - accuracy: 0.8645 - binary_crossentropy: 0.3473 - val_loss: 0.3330 - val_accuracy: 0.8616 - val_binary_crossentropy: 0.3330\n",
            "Epoch 11/20\n",
            "44/44 - 0s - loss: 0.3409 - accuracy: 0.8624 - binary_crossentropy: 0.3409 - val_loss: 0.3338 - val_accuracy: 0.8600 - val_binary_crossentropy: 0.3338\n",
            "Epoch 12/20\n",
            "44/44 - 0s - loss: 0.3278 - accuracy: 0.8699 - binary_crossentropy: 0.3278 - val_loss: 0.3358 - val_accuracy: 0.8600 - val_binary_crossentropy: 0.3358\n",
            "Epoch 13/20\n",
            "44/44 - 0s - loss: 0.3180 - accuracy: 0.8727 - binary_crossentropy: 0.3180 - val_loss: 0.3437 - val_accuracy: 0.8548 - val_binary_crossentropy: 0.3437\n",
            "Epoch 14/20\n",
            "44/44 - 0s - loss: 0.3195 - accuracy: 0.8720 - binary_crossentropy: 0.3195 - val_loss: 0.3412 - val_accuracy: 0.8580 - val_binary_crossentropy: 0.3412\n",
            "Epoch 15/20\n",
            "44/44 - 0s - loss: 0.3149 - accuracy: 0.8761 - binary_crossentropy: 0.3149 - val_loss: 0.3462 - val_accuracy: 0.8612 - val_binary_crossentropy: 0.3462\n",
            "Epoch 16/20\n",
            "44/44 - 0s - loss: 0.3054 - accuracy: 0.8760 - binary_crossentropy: 0.3054 - val_loss: 0.3492 - val_accuracy: 0.8580 - val_binary_crossentropy: 0.3492\n",
            "Epoch 17/20\n",
            "44/44 - 0s - loss: 0.3010 - accuracy: 0.8758 - binary_crossentropy: 0.3010 - val_loss: 0.3511 - val_accuracy: 0.8568 - val_binary_crossentropy: 0.3511\n",
            "Epoch 18/20\n",
            "44/44 - 0s - loss: 0.2961 - accuracy: 0.8815 - binary_crossentropy: 0.2961 - val_loss: 0.3551 - val_accuracy: 0.8556 - val_binary_crossentropy: 0.3551\n",
            "Epoch 19/20\n",
            "44/44 - 0s - loss: 0.2887 - accuracy: 0.8840 - binary_crossentropy: 0.2887 - val_loss: 0.3555 - val_accuracy: 0.8588 - val_binary_crossentropy: 0.3555\n",
            "Epoch 20/20\n",
            "44/44 - 0s - loss: 0.2893 - accuracy: 0.8832 - binary_crossentropy: 0.2893 - val_loss: 0.3595 - val_accuracy: 0.8572 - val_binary_crossentropy: 0.3595\n"
          ],
          "name": "stdout"
        }
      ]
    },
    {
      "cell_type": "code",
      "metadata": {
        "colab": {
          "base_uri": "https://localhost:8080/"
        },
        "id": "0dYQBs5yDpXF",
        "outputId": "88dd4292-b335-4334-adfb-7f902c6ba2ba"
      },
      "source": [
        "dropout_big_model = keras.Sequential([\n",
        "    keras.layers.Dense(512, activation='relu', input_shape=(NUM_WORDS,)),\n",
        "    keras.layers.Dropout(0.5),    # ADD\n",
        "    keras.layers.Dense(512, activation='relu'),\n",
        "    keras.layers.Dropout(0.5),    # ADDD\n",
        "    keras.layers.Dense(1, activation='sigmoid')\n",
        "])\n",
        "\n",
        "\n",
        "dropout_big_model.compile(optimizer='adam',\n",
        "                 loss='binary_crossentropy',\n",
        "                 metrics=['accuracy', 'binary_crossentropy'])\n",
        "\n",
        "dropout_big_history = dropout_big_model.fit(train_x,\n",
        "                                    train_y,\n",
        "                                    epochs=20,\n",
        "                                    batch_size=512,\n",
        "                                    validation_split=0.1,\n",
        "                                    verbose=2)"
      ],
      "execution_count": null,
      "outputs": [
        {
          "output_type": "stream",
          "text": [
            "Epoch 1/20\n",
            "44/44 - 1s - loss: 0.4899 - accuracy: 0.7568 - binary_crossentropy: 0.4899 - val_loss: 0.3564 - val_accuracy: 0.8480 - val_binary_crossentropy: 0.3564\n",
            "Epoch 2/20\n",
            "44/44 - 0s - loss: 0.3349 - accuracy: 0.8552 - binary_crossentropy: 0.3349 - val_loss: 0.3341 - val_accuracy: 0.8564 - val_binary_crossentropy: 0.3341\n",
            "Epoch 3/20\n",
            "44/44 - 0s - loss: 0.2956 - accuracy: 0.8749 - binary_crossentropy: 0.2956 - val_loss: 0.3318 - val_accuracy: 0.8664 - val_binary_crossentropy: 0.3318\n",
            "Epoch 4/20\n",
            "44/44 - 0s - loss: 0.2582 - accuracy: 0.8937 - binary_crossentropy: 0.2582 - val_loss: 0.3442 - val_accuracy: 0.8568 - val_binary_crossentropy: 0.3442\n",
            "Epoch 5/20\n",
            "44/44 - 0s - loss: 0.2121 - accuracy: 0.9177 - binary_crossentropy: 0.2121 - val_loss: 0.3588 - val_accuracy: 0.8576 - val_binary_crossentropy: 0.3588\n",
            "Epoch 6/20\n",
            "44/44 - 0s - loss: 0.1655 - accuracy: 0.9376 - binary_crossentropy: 0.1655 - val_loss: 0.4021 - val_accuracy: 0.8548 - val_binary_crossentropy: 0.4021\n",
            "Epoch 7/20\n",
            "44/44 - 0s - loss: 0.1165 - accuracy: 0.9586 - binary_crossentropy: 0.1165 - val_loss: 0.4638 - val_accuracy: 0.8520 - val_binary_crossentropy: 0.4638\n",
            "Epoch 8/20\n",
            "44/44 - 0s - loss: 0.0874 - accuracy: 0.9683 - binary_crossentropy: 0.0874 - val_loss: 0.4975 - val_accuracy: 0.8532 - val_binary_crossentropy: 0.4975\n",
            "Epoch 9/20\n",
            "44/44 - 0s - loss: 0.0613 - accuracy: 0.9793 - binary_crossentropy: 0.0613 - val_loss: 0.5578 - val_accuracy: 0.8424 - val_binary_crossentropy: 0.5578\n",
            "Epoch 10/20\n",
            "44/44 - 0s - loss: 0.0465 - accuracy: 0.9843 - binary_crossentropy: 0.0465 - val_loss: 0.6283 - val_accuracy: 0.8480 - val_binary_crossentropy: 0.6283\n",
            "Epoch 11/20\n",
            "44/44 - 0s - loss: 0.0370 - accuracy: 0.9869 - binary_crossentropy: 0.0370 - val_loss: 0.6580 - val_accuracy: 0.8512 - val_binary_crossentropy: 0.6580\n",
            "Epoch 12/20\n",
            "44/44 - 0s - loss: 0.0361 - accuracy: 0.9875 - binary_crossentropy: 0.0361 - val_loss: 0.6490 - val_accuracy: 0.8524 - val_binary_crossentropy: 0.6490\n",
            "Epoch 13/20\n",
            "44/44 - 0s - loss: 0.0320 - accuracy: 0.9890 - binary_crossentropy: 0.0320 - val_loss: 0.6925 - val_accuracy: 0.8552 - val_binary_crossentropy: 0.6925\n",
            "Epoch 14/20\n",
            "44/44 - 0s - loss: 0.0275 - accuracy: 0.9908 - binary_crossentropy: 0.0275 - val_loss: 0.7112 - val_accuracy: 0.8520 - val_binary_crossentropy: 0.7112\n",
            "Epoch 15/20\n",
            "44/44 - 0s - loss: 0.0252 - accuracy: 0.9913 - binary_crossentropy: 0.0252 - val_loss: 0.7329 - val_accuracy: 0.8500 - val_binary_crossentropy: 0.7329\n",
            "Epoch 16/20\n",
            "44/44 - 0s - loss: 0.0217 - accuracy: 0.9928 - binary_crossentropy: 0.0217 - val_loss: 0.7677 - val_accuracy: 0.8544 - val_binary_crossentropy: 0.7677\n",
            "Epoch 17/20\n",
            "44/44 - 0s - loss: 0.0247 - accuracy: 0.9916 - binary_crossentropy: 0.0247 - val_loss: 0.7451 - val_accuracy: 0.8500 - val_binary_crossentropy: 0.7451\n",
            "Epoch 18/20\n",
            "44/44 - 0s - loss: 0.0236 - accuracy: 0.9917 - binary_crossentropy: 0.0236 - val_loss: 0.7902 - val_accuracy: 0.8496 - val_binary_crossentropy: 0.7902\n",
            "Epoch 19/20\n",
            "44/44 - 0s - loss: 0.0202 - accuracy: 0.9933 - binary_crossentropy: 0.0202 - val_loss: 0.7943 - val_accuracy: 0.8516 - val_binary_crossentropy: 0.7943\n",
            "Epoch 20/20\n",
            "44/44 - 0s - loss: 0.0193 - accuracy: 0.9930 - binary_crossentropy: 0.0193 - val_loss: 0.7972 - val_accuracy: 0.8528 - val_binary_crossentropy: 0.7972\n"
          ],
          "name": "stdout"
        }
      ]
    },
    {
      "cell_type": "code",
      "metadata": {
        "colab": {
          "base_uri": "https://localhost:8080/",
          "height": 1000
        },
        "id": "9aJPcL5bWOoM",
        "outputId": "0df36e07-8347-4904-91eb-3be909cdd926"
      },
      "source": [
        "print(\"baseline\")\n",
        "plt.plot(baseline_history.history['loss'])\n",
        "plt.plot(baseline_history.history['val_loss'])\n",
        "plt.ylim((0., 1.))\n",
        "plt.show()\n",
        "\n",
        "print(\"dropout_baseline\")\n",
        "plt.plot(dropout_baseline_history.history['loss'])\n",
        "plt.plot(dropout_baseline_history.history['val_loss'])\n",
        "plt.ylim((0., 1.))\n",
        "plt.show()\n",
        "\n",
        "print(\"big\")\n",
        "plt.plot(big_history.history['loss'])\n",
        "plt.plot(big_history.history['val_loss'])\n",
        "plt.ylim((0., 1.))\n",
        "plt.show()\n",
        "\n",
        "print(\"dropout_big\")\n",
        "plt.plot(dropout_big_history.history['loss'])\n",
        "plt.plot(dropout_big_history.history['val_loss'])\n",
        "plt.ylim((0., 1.))\n",
        "plt.show()"
      ],
      "execution_count": null,
      "outputs": [
        {
          "output_type": "stream",
          "text": [
            "baseline\n"
          ],
          "name": "stdout"
        },
        {
          "output_type": "display_data",
          "data": {
            "image/png": "[encoded data removed]",
            "text/plain": [
              "<Figure size 432x288 with 1 Axes>"
            ]
          },
          "metadata": {
            "tags": [],
            "needs_background": "light"
          }
        },
        {
          "output_type": "stream",
          "text": [
            "dropout_baseline\n"
          ],
          "name": "stdout"
        },
        {
          "output_type": "display_data",
          "data": {
            "image/png": "[encoded data removed]",
            "text/plain": [
              "<Figure size 432x288 with 1 Axes>"
            ]
          },
          "metadata": {
            "tags": [],
            "needs_background": "light"
          }
        },
        {
          "output_type": "stream",
          "text": [
            "big\n"
          ],
          "name": "stdout"
        },
        {
          "output_type": "display_data",
          "data": {
            "image/png": "[encoded data removed]",
            "text/plain": [
              "<Figure size 432x288 with 1 Axes>"
            ]
          },
          "metadata": {
            "tags": [],
            "needs_background": "light"
          }
        },
        {
          "output_type": "stream",
          "text": [
            "dropout_big\n"
          ],
          "name": "stdout"
        },
        {
          "output_type": "display_data",
          "data": {
            "image/png": "[encoded data removed]",
            "text/plain": [
              "<Figure size 432x288 with 1 Axes>"
            ]
          },
          "metadata": {
            "tags": [],
            "needs_background": "light"
          }
        }
      ]
    },
    {
      "cell_type": "code",
      "metadata": {
        "id": "qhsGpCKMp4Y-"
      },
      "source": [
        ""
      ],
      "execution_count": null,
      "outputs": []
    }
  ]
}