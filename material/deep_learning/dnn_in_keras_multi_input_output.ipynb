{
  "nbformat": 4,
  "nbformat_minor": 0,
  "metadata": {
    "colab": {
      "name": "dnn_in_keras_multi_input_output.ipynb",
      "provenance": [],
      "collapsed_sections": [],
      "toc_visible": true
    },
    "kernelspec": {
      "name": "python3",
      "display_name": "Python 3"
    },
    "accelerator": "GPU"
  },
  "cells": [
    {
      "cell_type": "code",
      "metadata": {
        "id": "p_BD2sWTprLz",
        "colab": {
          "base_uri": "https://localhost:8080/"
        },
        "outputId": "e7a08302-0b48-44a3-b274-8d53d0030aed"
      },
      "source": [
        "%tensorflow_version 1.x\n",
        "import tensorflow\n",
        "print(tensorflow.__version__)"
      ],
      "execution_count": 1,
      "outputs": [
        {
          "output_type": "stream",
          "text": [
            "TensorFlow 1.x selected.\n",
            "1.15.2\n"
          ],
          "name": "stdout"
        }
      ]
    },
    {
      "cell_type": "markdown",
      "metadata": {
        "id": "Mte4_QlwwrlF"
      },
      "source": [
        "# 모듈 임포팅"
      ]
    },
    {
      "cell_type": "code",
      "metadata": {
        "id": "2YegBF6qExut"
      },
      "source": [
        "import numpy as np\n",
        "import pandas as pd\n",
        "import matplotlib.pyplot as plt\n",
        "\n",
        "import tensorflow as tf\n",
        "from tensorflow import keras\n",
        "\n",
        "import time"
      ],
      "execution_count": 2,
      "outputs": []
    },
    {
      "cell_type": "code",
      "metadata": {
        "id": "HNGWUXDmv2nF"
      },
      "source": [
        "from tensorflow.keras import optimizers\n",
        "from tensorflow.keras.layers import Dense"
      ],
      "execution_count": 3,
      "outputs": []
    },
    {
      "cell_type": "markdown",
      "metadata": {
        "id": "jJBqaE5oyaIi"
      },
      "source": [
        "# 데이터 준비\n"
      ]
    },
    {
      "cell_type": "code",
      "metadata": {
        "id": "VT4QUNhPmIej"
      },
      "source": [
        "def get_sin_data(start=0, end=10, step=0.1):\n",
        "  x = np.arange(start,end,step)\n",
        "  np.random.shuffle(x)\n",
        "  y = np.sin(x)\n",
        "\n",
        "  split_index = int(x.shape[0]*0.6)\n",
        "\n",
        "  train_x, test_x = x[:split_index], x[split_index:]\n",
        "  train_y, test_y = y[:split_index], y[split_index:]\n",
        "\n",
        "  return (train_x, train_y), (test_x, test_y)"
      ],
      "execution_count": 4,
      "outputs": []
    },
    {
      "cell_type": "code",
      "metadata": {
        "id": "SBsPIRBRV9hO"
      },
      "source": [
        ""
      ],
      "execution_count": 4,
      "outputs": []
    },
    {
      "cell_type": "markdown",
      "metadata": {
        "id": "vDlw_B29412O"
      },
      "source": [
        "# 2개의 입력, 1개의 출력\n",
        "\n",
        "x1 + x2 -> y의 함수를 학습\n",
        "\n",
        "x1과 x2는 0~10의 범위를 갖는다.\n"
      ]
    },
    {
      "cell_type": "code",
      "metadata": {
        "id": "dxI99iGz4-CT",
        "colab": {
          "base_uri": "https://localhost:8080/",
          "height": 654
        },
        "outputId": "230da7ab-1503-4232-ffe3-46c11221b82f"
      },
      "source": [
        "\n",
        "x1 = np.arange(0, 10, 0.1)\n",
        "np.random.shuffle(x1)\n",
        "x2 = np.arange(0, 10, 0.1)\n",
        "np.random.shuffle(x2)\n",
        "\n",
        "x = np.ones((x1.shape[0],2))\n",
        "x[:,0] = x1\n",
        "x[:,1] = x2\n",
        "np.random.shuffle(x)\n",
        "\n",
        "y = np.sum(x, axis=1)\n",
        "\n",
        "\n",
        "s = int(x.shape[0]*0.6)\n",
        "train_x, test_x = x[:s], x[s:]\n",
        "train_y, test_y = y[:s], y[s:]\n",
        "\n",
        "\n",
        "\n",
        "from tensorflow.keras import optimizers\n",
        "from tensorflow.keras.layers import Dense\n",
        "\n",
        "model = keras.Sequential()\n",
        "# model.add(Dense(10, activation='tanh', input_shape=(1,)))\n",
        "model.add(Dense(10, activation='tanh', input_shape=(2,)))\n",
        "model.add(Dense(10, activation='tanh'))\n",
        "model.add(Dense(1))\n",
        "\n",
        "model.compile(optimizer=\"SGD\", loss=\"mse\", metrics=[\"mse\"])\n",
        "model.summary()\n",
        "\n",
        "start = time.time()\n",
        "model.fit(train_x, train_y, epochs=1000*5, verbose=0, batch_size=20)\n",
        "print(\"elapsed :\", (time.time() - start))\n",
        "\n",
        "loss, mse = model.evaluate(test_x, test_y)\n",
        "print(\"loss=\", loss)\n",
        "print(\"mse=\", mse)\n",
        "              \n",
        "y_ = model.predict(test_x)\n",
        "\n",
        "# plt.scatter(test_x,test_y)\n",
        "# plt.scatter(test_x,y_, color=\"r\")\n",
        "plt.scatter(test_x.T[0],test_y)\n",
        "plt.scatter(test_x.T[0],y_, color=\"r\")\n",
        "plt.show()"
      ],
      "execution_count": 5,
      "outputs": [
        {
          "output_type": "stream",
          "text": [
            "WARNING:tensorflow:From /tensorflow-1.15.2/python3.7/tensorflow_core/python/ops/resource_variable_ops.py:1630: calling BaseResourceVariable.__init__ (from tensorflow.python.ops.resource_variable_ops) with constraint is deprecated and will be removed in a future version.\n",
            "Instructions for updating:\n",
            "If using Keras pass *_constraint arguments to layers.\n",
            "Model: \"sequential\"\n",
            "_________________________________________________________________\n",
            "Layer (type)                 Output Shape              Param #   \n",
            "=================================================================\n",
            "dense (Dense)                (None, 10)                30        \n",
            "_________________________________________________________________\n",
            "dense_1 (Dense)              (None, 10)                110       \n",
            "_________________________________________________________________\n",
            "dense_2 (Dense)              (None, 1)                 11        \n",
            "=================================================================\n",
            "Total params: 151\n",
            "Trainable params: 151\n",
            "Non-trainable params: 0\n",
            "_________________________________________________________________\n",
            "elapsed : 48.483351945877075\n",
            "40/40 [==============================] - 0s 628us/sample - loss: 0.0282 - mean_squared_error: 0.0282\n",
            "loss= 0.028226072899997234\n",
            "mse= 0.028226072\n"
          ],
          "name": "stdout"
        },
        {
          "output_type": "display_data",
          "data": {
            "image/png": "[encoded data removed]",
            "text/plain": [
              "<Figure size 432x288 with 1 Axes>"
            ]
          },
          "metadata": {
            "tags": [],
            "needs_background": "light"
          }
        }
      ]
    },
    {
      "cell_type": "code",
      "metadata": {
        "id": "6rJYzUkaMWzN",
        "colab": {
          "base_uri": "https://localhost:8080/"
        },
        "outputId": "77852761-eb98-4c97-bc8a-03095ab1a31c"
      },
      "source": [
        "print(x.shape)\n",
        "print(x[:5])\n",
        "print(y[:5])"
      ],
      "execution_count": 6,
      "outputs": [
        {
          "output_type": "stream",
          "text": [
            "(100, 2)\n",
            "[[3.5 6.9]\n",
            " [6.4 2.4]\n",
            " [4.1 0.5]\n",
            " [7.2 0.6]\n",
            " [0.3 5. ]]\n",
            "[10.4  8.8  4.6  7.8  5.3]\n"
          ],
          "name": "stdout"
        }
      ]
    },
    {
      "cell_type": "markdown",
      "metadata": {
        "id": "IIxLKZWs4NDz"
      },
      "source": [
        "# 1개의 입력, 2개의 출력\n",
        "\n",
        "다음과 같이 y는 2개의 값을 갖고, y1 = x%2, y2=x%3인 함수를 학습\n",
        "\n",
        "```\n",
        "x = np.arange(0,10,0.1)\n",
        "y1 = x%2\n",
        "y2 = x%3\n",
        "```\n"
      ]
    },
    {
      "cell_type": "code",
      "metadata": {
        "id": "Bovsxj6f5-Bz",
        "colab": {
          "base_uri": "https://localhost:8080/",
          "height": 831
        },
        "outputId": "12392c10-dda5-4b76-fe71-b0182ac26dc7"
      },
      "source": [
        "x = np.arange(0, 10, 0.1)\n",
        "np.random.shuffle(x)\n",
        "y1 = x%2\n",
        "y2 = x%3\n",
        "\n",
        "y = np.zeros((y.shape[0],2))\n",
        "y[:,0] = y1\n",
        "y[:,1] = y2\n",
        "\n",
        "\n",
        "s = int(x.shape[0]*0.6)\n",
        "train_x, test_x = x[:s], x[s:]\n",
        "train_y, test_y = y[:s], y[s:]\n",
        "\n",
        "\n",
        "from tensorflow.keras import optimizers\n",
        "from tensorflow.keras.layers import Dense\n",
        "\n",
        "model = keras.Sequential()\n",
        "model.add(Dense(10, activation='tanh', input_shape=(1,)))\n",
        "model.add(Dense(10, activation='tanh'))\n",
        "# model.add(Dense(1))\n",
        "model.add(Dense(2))\n",
        "\n",
        "model.compile(optimizer=\"SGD\", loss=\"mse\", metrics=[\"mse\"])\n",
        "model.summary()\n",
        "\n",
        "start = time.time()\n",
        "model.fit(train_x, train_y, epochs=1000*10, verbose=0, batch_size=20)\n",
        "print(\"elapsed :\", (time.time() - start))\n",
        "\n",
        "loss, mse = model.evaluate(test_x, test_y)\n",
        "print(\"loss=\", loss)\n",
        "print(\"mse=\", mse)\n",
        "              \n",
        "y_ = model.predict(test_x)\n",
        "\n",
        "# plt.scatter(test_x,test_y)\n",
        "# plt.scatter(test_x,y_, color=\"r\")\n",
        "plt.scatter(test_x,test_y[:,0])\n",
        "plt.scatter(test_x,y_[:,0], color=\"r\")\n",
        "plt.show()\n",
        "\n",
        "plt.scatter(test_x,test_y[:,1])\n",
        "plt.scatter(test_x,y_[:,1], color=\"r\")\n",
        "plt.show()\n"
      ],
      "execution_count": 7,
      "outputs": [
        {
          "output_type": "stream",
          "text": [
            "Model: \"sequential_1\"\n",
            "_________________________________________________________________\n",
            "Layer (type)                 Output Shape              Param #   \n",
            "=================================================================\n",
            "dense_3 (Dense)              (None, 10)                20        \n",
            "_________________________________________________________________\n",
            "dense_4 (Dense)              (None, 10)                110       \n",
            "_________________________________________________________________\n",
            "dense_5 (Dense)              (None, 2)                 22        \n",
            "=================================================================\n",
            "Total params: 152\n",
            "Trainable params: 152\n",
            "Non-trainable params: 0\n",
            "_________________________________________________________________\n",
            "elapsed : 78.3291666507721\n",
            "40/40 [==============================] - 0s 685us/sample - loss: 0.5838 - mean_squared_error: 0.5838\n",
            "loss= 0.5838241577148438\n",
            "mse= 0.58382416\n"
          ],
          "name": "stdout"
        },
        {
          "output_type": "display_data",
          "data": {
            "image/png": "[encoded data removed]",
            "text/plain": [
              "<Figure size 432x288 with 1 Axes>"
            ]
          },
          "metadata": {
            "tags": [],
            "needs_background": "light"
          }
        },
        {
          "output_type": "display_data",
          "data": {
            "image/png": "[encoded data removed]",
            "text/plain": [
              "<Figure size 432x288 with 1 Axes>"
            ]
          },
          "metadata": {
            "tags": [],
            "needs_background": "light"
          }
        }
      ]
    },
    {
      "cell_type": "markdown",
      "metadata": {
        "id": "sHtOQg8wPI-1"
      },
      "source": [
        "# 2개의 입력, 2개의 출력\n",
        "\n",
        "x1 + x2 -> z, \n",
        "\n",
        "y1 = z%2, y2=z%3인 함수를 학습\n",
        "\n",
        "x1과 x2는 0~10의 범위를 갖는다."
      ]
    },
    {
      "cell_type": "code",
      "metadata": {
        "id": "zlXRZPTzPHZq",
        "colab": {
          "base_uri": "https://localhost:8080/",
          "height": 830
        },
        "outputId": "4bc2a359-7bec-44c0-857c-412812f28fcf"
      },
      "source": [
        "x1 = np.arange(0, 10, 0.1)\n",
        "np.random.shuffle(x1)\n",
        "x2 = np.arange(0, 10, 0.1)\n",
        "np.random.shuffle(x2)\n",
        "\n",
        "x = np.ones((x1.shape[0],2))\n",
        "x[:,0] = x1\n",
        "x[:,1] = x2\n",
        "\n",
        "z = x1 + x2\n",
        "y1 = z%2\n",
        "y2 = z%3\n",
        "\n",
        "y = np.zeros((y.shape[0],2))\n",
        "y[:,0] = y1\n",
        "y[:,1] = y2\n",
        "\n",
        "\n",
        "s = int(x.shape[0]*0.6)\n",
        "train_x, test_x = x[:s], x[s:]\n",
        "train_y, test_y = y[:s], y[s:]\n",
        "\n",
        "\n",
        "from tensorflow.keras import optimizers\n",
        "from tensorflow.keras.layers import Dense\n",
        "\n",
        "model = keras.Sequential()\n",
        "# model.add(Dense(10, activation='tanh', input_shape=(1,)))\n",
        "model.add(Dense(10, activation='tanh', input_shape=(2,)))\n",
        "model.add(Dense(10, activation='tanh'))\n",
        "# model.add(Dense(1))\n",
        "model.add(Dense(2))\n",
        "\n",
        "model.compile(optimizer=\"SGD\", loss=\"mse\", metrics=[\"mse\"])\n",
        "model.summary()\n",
        "\n",
        "start = time.time()\n",
        "model.fit(train_x, train_y, epochs=1000*10, verbose=0, batch_size=20)\n",
        "print(\"elapsed :\", (time.time() - start))\n",
        "\n",
        "loss, mse = model.evaluate(test_x, test_y)\n",
        "print(\"loss=\", loss)\n",
        "print(\"mse=\", mse)\n",
        "              \n",
        "y_ = model.predict(test_x)\n",
        "\n",
        "# plt.scatter(test_x,test_y)\n",
        "# plt.scatter(test_x,y_, color=\"r\")\n",
        "plt.scatter(test_x.T[0],test_y[:,0])\n",
        "plt.scatter(test_x.T[0],y_[:,0], color=\"r\")\n",
        "plt.show()\n",
        "\n",
        "plt.scatter(test_x.T[1],test_y[:,1])\n",
        "plt.scatter(test_x.T[1],y_[:,1], color=\"r\")\n",
        "plt.show()\n"
      ],
      "execution_count": 8,
      "outputs": [
        {
          "output_type": "stream",
          "text": [
            "Model: \"sequential_2\"\n",
            "_________________________________________________________________\n",
            "Layer (type)                 Output Shape              Param #   \n",
            "=================================================================\n",
            "dense_6 (Dense)              (None, 10)                30        \n",
            "_________________________________________________________________\n",
            "dense_7 (Dense)              (None, 10)                110       \n",
            "_________________________________________________________________\n",
            "dense_8 (Dense)              (None, 2)                 22        \n",
            "=================================================================\n",
            "Total params: 162\n",
            "Trainable params: 162\n",
            "Non-trainable params: 0\n",
            "_________________________________________________________________\n",
            "elapsed : 78.54573035240173\n",
            "40/40 [==============================] - 0s 758us/sample - loss: 1.0514 - mean_squared_error: 1.0514\n",
            "loss= 1.0513949155807496\n",
            "mse= 1.0513949\n"
          ],
          "name": "stdout"
        },
        {
          "output_type": "display_data",
          "data": {
            "image/png": "[encoded data removed]",
            "text/plain": [
              "<Figure size 432x288 with 1 Axes>"
            ]
          },
          "metadata": {
            "tags": [],
            "needs_background": "light"
          }
        },
        {
          "output_type": "display_data",
          "data": {
            "image/png": "[encoded data removed]",
            "text/plain": [
              "<Figure size 432x288 with 1 Axes>"
            ]
          },
          "metadata": {
            "tags": [],
            "needs_background": "light"
          }
        }
      ]
    }
  ]
}