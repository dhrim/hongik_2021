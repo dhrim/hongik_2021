{
  "nbformat": 4,
  "nbformat_minor": 0,
  "metadata": {
    "colab": {
      "name": " dnn_in_keras_data_size.ipynb",
      "provenance": [],
      "collapsed_sections": [],
      "toc_visible": true
    },
    "kernelspec": {
      "name": "python3",
      "display_name": "Python 3"
    },
    "accelerator": "GPU"
  },
  "cells": [
    {
      "cell_type": "code",
      "metadata": {
        "id": "p_BD2sWTprLz",
        "colab": {
          "base_uri": "https://localhost:8080/"
        },
        "outputId": "75c95783-2558-4e8d-df96-69c99dc998a1"
      },
      "source": [
        "%tensorflow_version 1.x\n",
        "import tensorflow\n",
        "print(tensorflow.__version__)"
      ],
      "execution_count": 1,
      "outputs": [
        {
          "output_type": "stream",
          "text": [
            "TensorFlow 1.x selected.\n",
            "1.15.2\n"
          ],
          "name": "stdout"
        }
      ]
    },
    {
      "cell_type": "markdown",
      "metadata": {
        "id": "Mte4_QlwwrlF"
      },
      "source": [
        "# 모듈 임포팅"
      ]
    },
    {
      "cell_type": "code",
      "metadata": {
        "id": "2YegBF6qExut"
      },
      "source": [
        "import numpy as np\n",
        "import pandas as pd\n",
        "import matplotlib.pyplot as plt\n",
        "\n",
        "import tensorflow as tf\n",
        "from tensorflow import keras\n",
        "\n",
        "import time"
      ],
      "execution_count": 2,
      "outputs": []
    },
    {
      "cell_type": "code",
      "metadata": {
        "id": "HNGWUXDmv2nF"
      },
      "source": [
        "from tensorflow.keras import optimizers\n",
        "from tensorflow.keras.layers import Dense"
      ],
      "execution_count": 3,
      "outputs": []
    },
    {
      "cell_type": "markdown",
      "metadata": {
        "id": "jJBqaE5oyaIi"
      },
      "source": [
        "# 데이터 준비\n"
      ]
    },
    {
      "cell_type": "code",
      "metadata": {
        "id": "VT4QUNhPmIej"
      },
      "source": [
        "def get_sin_data(start=0, end=10, step=0.1):\n",
        "  x = np.arange(start,end,step)\n",
        "  np.random.shuffle(x)\n",
        "  y = np.sin(x)\n",
        "\n",
        "  split_index = int(x.shape[0]*0.6)\n",
        "\n",
        "  train_x, test_x = x[:split_index], x[split_index:]\n",
        "  train_y, test_y = y[:split_index], y[split_index:]\n",
        "\n",
        "  return (train_x, train_y), (test_x, test_y)"
      ],
      "execution_count": 4,
      "outputs": []
    },
    {
      "cell_type": "markdown",
      "metadata": {
        "id": "iSVvHT5HOF4G"
      },
      "source": [
        "# 데이터 크기와 epoch 수"
      ]
    },
    {
      "cell_type": "code",
      "metadata": {
        "id": "YIxp_X-do74Y",
        "colab": {
          "base_uri": "https://localhost:8080/"
        },
        "outputId": "b6039f51-2aa1-4e45-d938-0480ac100b8f"
      },
      "source": [
        "# (train_x, train_y), (test_x, test_y) = get_sin_data(start=0, end=10, step=0.01)\n",
        "(train_x, train_y), (test_x, test_y) = get_sin_data(start=0, end=10, step=0.0001)\n",
        "\n",
        "model = keras.Sequential()\n",
        "model.add(Dense(10, activation='tanh', input_shape=(1,)))\n",
        "model.add(Dense(10, activation='tanh'))\n",
        "model.add(Dense(1))\n",
        "\n",
        "\n",
        "model.compile(optimizer=\"SGD\", loss=\"mse\", metrics=[\"mse\"])\n",
        "model.summary()\n",
        "\n",
        "start_time = time.time()\n",
        "# history = model.fit(train_x, train_y, epochs=1000, verbose=0, batch_size=20)\n",
        "history = model.fit(train_x, train_y, epochs=5, verbose=2, batch_size=20)\n",
        "print(\"elapsed : {}\".format(time.time() - start_time))    "
      ],
      "execution_count": 6,
      "outputs": [
        {
          "output_type": "stream",
          "text": [
            "WARNING:tensorflow:From /tensorflow-1.15.2/python3.7/tensorflow_core/python/ops/resource_variable_ops.py:1630: calling BaseResourceVariable.__init__ (from tensorflow.python.ops.resource_variable_ops) with constraint is deprecated and will be removed in a future version.\n",
            "Instructions for updating:\n",
            "If using Keras pass *_constraint arguments to layers.\n",
            "Model: \"sequential\"\n",
            "_________________________________________________________________\n",
            "Layer (type)                 Output Shape              Param #   \n",
            "=================================================================\n",
            "dense (Dense)                (None, 10)                20        \n",
            "_________________________________________________________________\n",
            "dense_1 (Dense)              (None, 10)                110       \n",
            "_________________________________________________________________\n",
            "dense_2 (Dense)              (None, 1)                 11        \n",
            "=================================================================\n",
            "Total params: 141\n",
            "Trainable params: 141\n",
            "Non-trainable params: 0\n",
            "_________________________________________________________________\n",
            "Train on 60000 samples\n",
            "Epoch 1/5\n",
            "60000/60000 - 5s - loss: 0.2526 - mean_squared_error: 0.2526\n",
            "Epoch 2/5\n",
            "60000/60000 - 5s - loss: 0.1222 - mean_squared_error: 0.1222\n",
            "Epoch 3/5\n",
            "60000/60000 - 5s - loss: 0.0893 - mean_squared_error: 0.0893\n",
            "Epoch 4/5\n",
            "60000/60000 - 5s - loss: 0.0522 - mean_squared_error: 0.0522\n",
            "Epoch 5/5\n",
            "60000/60000 - 5s - loss: 0.0169 - mean_squared_error: 0.0169\n",
            "elapsed : 25.53271794319153\n"
          ],
          "name": "stdout"
        }
      ]
    },
    {
      "cell_type": "code",
      "metadata": {
        "id": "2N4u5xbQ7Ioo",
        "colab": {
          "base_uri": "https://localhost:8080/",
          "height": 265
        },
        "outputId": "61c44e5f-97db-464d-8531-6f1a9d3166c0"
      },
      "source": [
        "y_ = model.predict(test_x)\n",
        "\n",
        "plt.scatter(test_x,test_y)\n",
        "plt.scatter(test_x,y_,color='r')\n",
        "plt.show()\n"
      ],
      "execution_count": 7,
      "outputs": [
        {
          "output_type": "display_data",
          "data": {
            "image/png": "[encoded data removed]",
            "text/plain": [
              "<Figure size 432x288 with 1 Axes>"
            ]
          },
          "metadata": {
            "tags": [],
            "needs_background": "light"
          }
        }
      ]
    },
    {
      "cell_type": "markdown",
      "metadata": {
        "id": "y_Xe1K917whA"
      },
      "source": [
        "train_x의 데이터 수가 6000개. epoch는 5. 총 30,000번 업데이트 되었다.\n",
        "\n",
        "\n",
        "epoch가 적어도 데이터 수가 많으면 학습 잘된다."
      ]
    }
  ]
}