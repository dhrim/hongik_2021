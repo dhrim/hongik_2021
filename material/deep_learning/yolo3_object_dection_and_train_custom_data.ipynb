{
  "nbformat": 4,
  "nbformat_minor": 0,
  "metadata": {
    "colab": {
      "name": "yolo3_object_dection_and_train_custom_data.ipynb",
      "provenance": [],
      "toc_visible": true,
      "machine_shape": "hm"
    },
    "kernelspec": {
      "name": "python3",
      "display_name": "Python 3"
    },
    "accelerator": "GPU"
  },
  "cells": [
    {
      "cell_type": "markdown",
      "metadata": {
        "id": "yX78UCk3y6kn",
        "colab_type": "text"
      },
      "source": [
        "based on https://github.com/experiencor/keras-yolo3"
      ]
    },
    {
      "cell_type": "markdown",
      "metadata": {
        "id": "VjIVtPqO0bfj",
        "colab_type": "text"
      },
      "source": [
        "# 설치"
      ]
    },
    {
      "cell_type": "markdown",
      "metadata": {
        "id": "RjicytgqzS44",
        "colab_type": "text"
      },
      "source": [
        "## tensorlfow 1.x 사용 설정"
      ]
    },
    {
      "cell_type": "code",
      "metadata": {
        "id": "RbbFAxbFzR-2",
        "colab_type": "code",
        "colab": {
          "base_uri": "https://localhost:8080/",
          "height": 35
        },
        "outputId": "a308f047-648a-44aa-fc14-8a4bd18226bd"
      },
      "source": [
        "%tensorflow_version 1.x"
      ],
      "execution_count": null,
      "outputs": [
        {
          "output_type": "stream",
          "text": [
            "TensorFlow 1.x selected.\n"
          ],
          "name": "stdout"
        }
      ]
    },
    {
      "cell_type": "markdown",
      "metadata": {
        "id": "2p3P2_UJzV4S",
        "colab_type": "text"
      },
      "source": [
        "## 프로젝트 다운로드"
      ]
    },
    {
      "cell_type": "code",
      "metadata": {
        "id": "kkv9loXTy0qw",
        "colab_type": "code",
        "colab": {
          "base_uri": "https://localhost:8080/",
          "height": 107
        },
        "outputId": "d78398dc-34bd-4b23-932f-cab5a4b18fb5"
      },
      "source": [
        "!rm -rf keras-yolo3\n",
        "!git clone https://github.com/experiencor/keras-yolo3"
      ],
      "execution_count": null,
      "outputs": [
        {
          "output_type": "stream",
          "text": [
            "Cloning into 'keras-yolo3'...\n",
            "remote: Enumerating objects: 220, done.\u001b[K\n",
            "Receiving objects:   0% (1/220)   \rReceiving objects:   1% (3/220)   \rReceiving objects:   2% (5/220)   \rReceiving objects:   3% (7/220)   \rReceiving objects:   4% (9/220)   \rReceiving objects:   5% (11/220)   \rReceiving objects:   6% (14/220)   \rReceiving objects:   7% (16/220)   \rReceiving objects:   8% (18/220)   \rReceiving objects:   9% (20/220)   \rReceiving objects:  10% (22/220)   \rReceiving objects:  11% (25/220)   \rReceiving objects:  12% (27/220)   \rReceiving objects:  13% (29/220)   \rReceiving objects:  14% (31/220)   \rReceiving objects:  15% (33/220)   \rReceiving objects:  16% (36/220)   \rReceiving objects:  17% (38/220)   \rReceiving objects:  18% (40/220)   \rReceiving objects:  19% (42/220)   \rReceiving objects:  20% (44/220)   \rReceiving objects:  21% (47/220)   \rReceiving objects:  22% (49/220)   \rReceiving objects:  23% (51/220)   \rReceiving objects:  24% (53/220)   \rReceiving objects:  25% (55/220)   \rReceiving objects:  26% (58/220)   \rReceiving objects:  27% (60/220)   \rReceiving objects:  28% (62/220)   \rReceiving objects:  29% (64/220)   \rReceiving objects:  30% (66/220)   \rReceiving objects:  31% (69/220)   \rReceiving objects:  32% (71/220)   \rReceiving objects:  33% (73/220)   \rReceiving objects:  34% (75/220)   \rReceiving objects:  35% (77/220)   \rReceiving objects:  36% (80/220)   \rReceiving objects:  37% (82/220)   \rReceiving objects:  38% (84/220)   \rReceiving objects:  39% (86/220)   \rReceiving objects:  40% (88/220)   \rReceiving objects:  41% (91/220)   \rReceiving objects:  42% (93/220)   \rReceiving objects:  43% (95/220)   \rReceiving objects:  44% (97/220)   \rReceiving objects:  45% (99/220)   \rReceiving objects:  46% (102/220)   \rReceiving objects:  47% (104/220)   \rReceiving objects:  48% (106/220)   \rReceiving objects:  49% (108/220)   \rReceiving objects:  50% (110/220)   \rReceiving objects:  51% (113/220)   \rReceiving objects:  52% (115/220)   \rReceiving objects:  53% (117/220)   \rReceiving objects:  54% (119/220)   \rReceiving objects:  55% (121/220)   \rReceiving objects:  56% (124/220)   \rReceiving objects:  57% (126/220)   \rReceiving objects:  58% (128/220)   \rReceiving objects:  59% (130/220)   \rReceiving objects:  60% (132/220)   \rReceiving objects:  61% (135/220)   \rReceiving objects:  62% (137/220)   \rReceiving objects:  63% (139/220)   \rReceiving objects:  64% (141/220)   \rReceiving objects:  65% (143/220)   \rReceiving objects:  66% (146/220)   \rReceiving objects:  67% (148/220)   \rReceiving objects:  68% (150/220)   \rReceiving objects:  69% (152/220)   \rReceiving objects:  70% (154/220)   \rReceiving objects:  71% (157/220)   \rReceiving objects:  72% (159/220)   \rReceiving objects:  73% (161/220)   \rReceiving objects:  74% (163/220)   \rReceiving objects:  75% (165/220)   \rReceiving objects:  76% (168/220)   \rremote: Total 220 (delta 0), reused 0 (delta 0), pack-reused 220\u001b[K\n",
            "Receiving objects:  77% (170/220)   \rReceiving objects:  78% (172/220)   \rReceiving objects:  79% (174/220)   \rReceiving objects:  80% (176/220)   \rReceiving objects:  81% (179/220)   \rReceiving objects:  82% (181/220)   \rReceiving objects:  83% (183/220)   \rReceiving objects:  84% (185/220)   \rReceiving objects:  85% (187/220)   \rReceiving objects:  86% (190/220)   \rReceiving objects:  87% (192/220)   \rReceiving objects:  88% (194/220)   \rReceiving objects:  89% (196/220)   \rReceiving objects:  90% (198/220)   \rReceiving objects:  91% (201/220)   \rReceiving objects:  92% (203/220)   \rReceiving objects:  93% (205/220)   \rReceiving objects:  94% (207/220)   \rReceiving objects:  95% (209/220)   \rReceiving objects:  96% (212/220)   \rReceiving objects:  97% (214/220)   \rReceiving objects:  98% (216/220)   \rReceiving objects:  99% (218/220)   \rReceiving objects: 100% (220/220)   \rReceiving objects: 100% (220/220), 91.26 KiB | 707.00 KiB/s, done.\n",
            "Resolving deltas:   0% (0/118)   \rResolving deltas:   1% (2/118)   \rResolving deltas:   2% (3/118)   \rResolving deltas:   4% (5/118)   \rResolving deltas:   5% (6/118)   \rResolving deltas:   9% (11/118)   \rResolving deltas:  11% (13/118)   \rResolving deltas:  13% (16/118)   \rResolving deltas:  17% (21/118)   \rResolving deltas:  18% (22/118)   \rResolving deltas:  28% (34/118)   \rResolving deltas:  32% (38/118)   \rResolving deltas:  33% (39/118)   \rResolving deltas:  36% (43/118)   \rResolving deltas:  40% (48/118)   \rResolving deltas:  42% (50/118)   \rResolving deltas:  51% (61/118)   \rResolving deltas:  52% (62/118)   \rResolving deltas:  53% (63/118)   \rResolving deltas:  55% (66/118)   \rResolving deltas:  57% (68/118)   \rResolving deltas:  58% (69/118)   \rResolving deltas:  60% (71/118)   \rResolving deltas:  66% (78/118)   \rResolving deltas:  67% (80/118)   \rResolving deltas:  68% (81/118)   \rResolving deltas:  85% (101/118)   \rResolving deltas:  86% (102/118)   \rResolving deltas:  88% (105/118)   \rResolving deltas:  89% (106/118)   \rResolving deltas:  92% (109/118)   \rResolving deltas:  95% (113/118)   \rResolving deltas:  97% (115/118)   \rResolving deltas: 100% (118/118)   \rResolving deltas: 100% (118/118), done.\n"
          ],
          "name": "stdout"
        }
      ]
    },
    {
      "cell_type": "code",
      "metadata": {
        "id": "3-bdG9gVy3Eb",
        "colab_type": "code",
        "colab": {
          "base_uri": "https://localhost:8080/",
          "height": 35
        },
        "outputId": "ebf2b85b-14dc-405d-a4cc-8e51c813af2a"
      },
      "source": [
        "%cd keras-yolo3"
      ],
      "execution_count": null,
      "outputs": [
        {
          "output_type": "stream",
          "text": [
            "/content/keras-yolo3\n"
          ],
          "name": "stdout"
        }
      ]
    },
    {
      "cell_type": "markdown",
      "metadata": {
        "id": "85MevrMAzYlG",
        "colab_type": "text"
      },
      "source": [
        "## 필요 라이브러리 설치"
      ]
    },
    {
      "cell_type": "code",
      "metadata": {
        "id": "p3P7HxKty-TT",
        "colab_type": "code",
        "colab": {
          "base_uri": "https://localhost:8080/",
          "height": 505
        },
        "outputId": "cb3a03f4-ec9a-4369-9cae-2c0798e88311"
      },
      "source": [
        "!pip install -r requirements.txt"
      ],
      "execution_count": null,
      "outputs": [
        {
          "output_type": "stream",
          "text": [
            "Requirement already satisfied: absl-py==0.9.0 in /usr/local/lib/python3.6/dist-packages (from -r requirements.txt (line 1)) (0.9.0)\n",
            "Requirement already satisfied: astor==0.8.1 in /usr/local/lib/python3.6/dist-packages (from -r requirements.txt (line 2)) (0.8.1)\n",
            "Requirement already satisfied: gast==0.2.2 in /usr/local/lib/python3.6/dist-packages (from -r requirements.txt (line 3)) (0.2.2)\n",
            "Requirement already satisfied: google-pasta==0.1.8 in /usr/local/lib/python3.6/dist-packages (from -r requirements.txt (line 4)) (0.1.8)\n",
            "Requirement already satisfied: grpcio==1.26.0 in /usr/local/lib/python3.6/dist-packages (from -r requirements.txt (line 5)) (1.26.0)\n",
            "Requirement already satisfied: h5py==2.10.0 in /usr/local/lib/python3.6/dist-packages (from -r requirements.txt (line 6)) (2.10.0)\n",
            "Requirement already satisfied: Keras==2.3.1 in /usr/local/lib/python3.6/dist-packages (from -r requirements.txt (line 7)) (2.3.1)\n",
            "Requirement already satisfied: Keras-Applications==1.0.8 in /usr/local/lib/python3.6/dist-packages (from -r requirements.txt (line 8)) (1.0.8)\n",
            "Requirement already satisfied: Keras-Preprocessing==1.1.0 in /usr/local/lib/python3.6/dist-packages (from -r requirements.txt (line 9)) (1.1.0)\n",
            "Requirement already satisfied: Markdown==3.1.1 in /usr/local/lib/python3.6/dist-packages (from -r requirements.txt (line 10)) (3.1.1)\n",
            "Requirement already satisfied: numpy==1.18.1 in /usr/local/lib/python3.6/dist-packages (from -r requirements.txt (line 11)) (1.18.1)\n",
            "Requirement already satisfied: opencv-contrib-python==4.1.2.30 in /usr/local/lib/python3.6/dist-packages (from -r requirements.txt (line 12)) (4.1.2.30)\n",
            "Requirement already satisfied: opt-einsum==3.1.0 in /usr/local/lib/python3.6/dist-packages (from -r requirements.txt (line 13)) (3.1.0)\n",
            "Requirement already satisfied: protobuf==3.11.2 in /usr/local/lib/python3.6/dist-packages (from -r requirements.txt (line 14)) (3.11.2)\n",
            "Requirement already satisfied: PyYAML==5.3 in /usr/local/lib/python3.6/dist-packages (from -r requirements.txt (line 15)) (5.3)\n",
            "Requirement already satisfied: scipy==1.4.1 in /usr/local/lib/python3.6/dist-packages (from -r requirements.txt (line 16)) (1.4.1)\n",
            "Requirement already satisfied: six==1.14.0 in /usr/local/lib/python3.6/dist-packages (from -r requirements.txt (line 17)) (1.14.0)\n",
            "Requirement already satisfied: tensorboard==1.15.0 in /tensorflow-1.15.2/python3.6 (from -r requirements.txt (line 18)) (1.15.0)\n",
            "Requirement already satisfied: tensorflow==1.15.0 in /usr/local/lib/python3.6/dist-packages (from -r requirements.txt (line 19)) (1.15.0)\n",
            "Requirement already satisfied: tensorflow-estimator==1.15.1 in /tensorflow-1.15.2/python3.6 (from -r requirements.txt (line 20)) (1.15.1)\n",
            "Requirement already satisfied: termcolor==1.1.0 in /usr/local/lib/python3.6/dist-packages (from -r requirements.txt (line 21)) (1.1.0)\n",
            "Requirement already satisfied: tqdm==4.41.1 in /usr/local/lib/python3.6/dist-packages (from -r requirements.txt (line 22)) (4.41.1)\n",
            "Requirement already satisfied: Werkzeug==0.16.0 in /usr/local/lib/python3.6/dist-packages (from -r requirements.txt (line 23)) (0.16.0)\n",
            "Requirement already satisfied: wrapt==1.11.2 in /usr/local/lib/python3.6/dist-packages (from -r requirements.txt (line 24)) (1.11.2)\n",
            "Requirement already satisfied: setuptools>=36 in /usr/local/lib/python3.6/dist-packages (from Markdown==3.1.1->-r requirements.txt (line 10)) (46.0.0)\n",
            "Requirement already satisfied: wheel>=0.26; python_version >= \"3\" in /usr/local/lib/python3.6/dist-packages (from tensorboard==1.15.0->-r requirements.txt (line 18)) (0.34.2)\n"
          ],
          "name": "stdout"
        }
      ]
    },
    {
      "cell_type": "markdown",
      "metadata": {
        "id": "dZSmKvPJzoBQ",
        "colab_type": "text"
      },
      "source": [
        "## 모델 파일 다운로드"
      ]
    },
    {
      "cell_type": "code",
      "metadata": {
        "id": "hVV9tfV3zAkE",
        "colab_type": "code",
        "colab": {
          "base_uri": "https://localhost:8080/",
          "height": 215
        },
        "outputId": "d8d73d70-109c-4ab1-d7d7-e9d5a54b7631"
      },
      "source": [
        "!wget https://pjreddie.com/media/files/yolov3.weights"
      ],
      "execution_count": null,
      "outputs": [
        {
          "output_type": "stream",
          "text": [
            "--2020-04-05 09:35:42--  https://pjreddie.com/media/files/yolov3.weights\n",
            "Resolving pjreddie.com (pjreddie.com)... 128.208.4.108\n",
            "Connecting to pjreddie.com (pjreddie.com)|128.208.4.108|:443... connected.\n",
            "HTTP request sent, awaiting response... 200 OK\n",
            "Length: 248007048 (237M) [application/octet-stream]\n",
            "Saving to: ‘yolov3.weights’\n",
            "\n",
            "yolov3.weights      100%[===================>] 236.52M   582KB/s    in 6m 11s  \n",
            "\n",
            "2020-04-05 09:41:54 (653 KB/s) - ‘yolov3.weights’ saved [248007048/248007048]\n",
            "\n"
          ],
          "name": "stdout"
        }
      ]
    },
    {
      "cell_type": "markdown",
      "metadata": {
        "id": "cgOD_AVl0hwP",
        "colab_type": "text"
      },
      "source": [
        "# 탐지"
      ]
    },
    {
      "cell_type": "markdown",
      "metadata": {
        "id": "VPLmm-qk0XFV",
        "colab_type": "text"
      },
      "source": [
        "## 대상 이미지 다운로드"
      ]
    },
    {
      "cell_type": "code",
      "metadata": {
        "id": "VAf8u0tP0HTV",
        "colab_type": "code",
        "colab": {
          "base_uri": "https://localhost:8080/",
          "height": 235
        },
        "outputId": "274fdaf5-cdd9-4810-e974-fc38c1c99ee8"
      },
      "source": [
        "!wget -O dog.jpg https://images.squarespace-cdn.com/content/v1/5894986a3e00bef5fa22310e/1570645718385-TMKO7NQKTKMHSGOZ1NKL/ke17ZwdGBToddI8pDm48kP9Invdr3s9hbtnv5vHbyzt7gQa3H78H3Y0txjaiv_0fDoOvxcdMmMKkDsyUqMSsMWxHk725yiiHCCLfrh8O1z5QPOohDIaIeljMHgDF5CVlOqpeNLcJ80NK65_fV7S1UTG8VVHpRe-xI0OO_s6cEC9VLEx2PmUh6Z7HRdaNSVcy1BwhnUnKb_77tZJ4rR3HLQ/golden+huggs.jpg?format=400w"
      ],
      "execution_count": null,
      "outputs": [
        {
          "output_type": "stream",
          "text": [
            "--2020-04-05 09:41:56--  https://images.squarespace-cdn.com/content/v1/5894986a3e00bef5fa22310e/1570645718385-TMKO7NQKTKMHSGOZ1NKL/ke17ZwdGBToddI8pDm48kP9Invdr3s9hbtnv5vHbyzt7gQa3H78H3Y0txjaiv_0fDoOvxcdMmMKkDsyUqMSsMWxHk725yiiHCCLfrh8O1z5QPOohDIaIeljMHgDF5CVlOqpeNLcJ80NK65_fV7S1UTG8VVHpRe-xI0OO_s6cEC9VLEx2PmUh6Z7HRdaNSVcy1BwhnUnKb_77tZJ4rR3HLQ/golden+huggs.jpg?format=400w\n",
            "Resolving images.squarespace-cdn.com (images.squarespace-cdn.com)... 151.101.0.238, 151.101.64.238, 151.101.128.238, ...\n",
            "Connecting to images.squarespace-cdn.com (images.squarespace-cdn.com)|151.101.0.238|:443... connected.\n",
            "HTTP request sent, awaiting response... 200 OK\n",
            "Length: 57764 (56K) [image/jpeg]\n",
            "Saving to: ‘dog.jpg’\n",
            "\n",
            "\rdog.jpg               0%[                    ]       0  --.-KB/s               \rdog.jpg             100%[===================>]  56.41K  --.-KB/s    in 0.01s   \n",
            "\n",
            "2020-04-05 09:41:56 (3.84 MB/s) - ‘dog.jpg’ saved [57764/57764]\n",
            "\n"
          ],
          "name": "stdout"
        }
      ]
    },
    {
      "cell_type": "code",
      "metadata": {
        "id": "CIGMFg3UAqUR",
        "colab_type": "code",
        "colab": {
          "base_uri": "https://localhost:8080/",
          "height": 300
        },
        "outputId": "d0367d18-d8aa-412b-c3c0-a8cdcd7502b6"
      },
      "source": [
        "from IPython.display import Image, display\n",
        "display(Image('dog.jpg'))"
      ],
      "execution_count": null,
      "outputs": [
        {
          "output_type": "display_data",
          "data": {
            "image/jpeg": "[encoded data removed]",
            "text/plain": [
              "<IPython.core.display.Image object>"
            ]
          },
          "metadata": {
            "tags": []
          }
        }
      ]
    },
    {
      "cell_type": "markdown",
      "metadata": {
        "id": "1kotcyId1t8E",
        "colab_type": "text"
      },
      "source": [
        "## 버그 픽스\n",
        "\n",
        "from https://github.com/experiencor/keras-yolo3/issues/203\n",
        "\n",
        "다음 라인을 커멘트 처리.\n",
        "```\n",
        "np.set_printoptions(threshold=np.nan)\n",
        "```"
      ]
    },
    {
      "cell_type": "code",
      "metadata": {
        "id": "Whf1gwgg20YW",
        "colab_type": "code",
        "colab": {}
      },
      "source": [
        "!sed -i 's/np\\.set_printoptions/\\#np\\.set_printoptions/g' yolo3_one_file_to_detect_them_all.py"
      ],
      "execution_count": null,
      "outputs": []
    },
    {
      "cell_type": "code",
      "metadata": {
        "id": "ZRmwcE6M4v7t",
        "colab_type": "code",
        "colab": {
          "base_uri": "https://localhost:8080/",
          "height": 377
        },
        "outputId": "fe2908d7-307d-4ed8-c786-03df03ab5240"
      },
      "source": [
        "!head -20 yolo3_one_file_to_detect_them_all.py"
      ],
      "execution_count": null,
      "outputs": [
        {
          "output_type": "stream",
          "text": [
            "import argparse\n",
            "import os\n",
            "import numpy as np\n",
            "from keras.layers import Conv2D, Input, BatchNormalization, LeakyReLU, ZeroPadding2D, UpSampling2D\n",
            "from keras.layers.merge import add, concatenate\n",
            "from keras.models import Model\n",
            "import struct\n",
            "import cv2\n",
            "\n",
            "#np.set_printoptions(threshold=np.nan)\n",
            "os.environ[\"CUDA_DEVICE_ORDER\"]=\"PCI_BUS_ID\"\n",
            "os.environ[\"CUDA_VISIBLE_DEVICES\"]=\"0\"\n",
            "\n",
            "argparser = argparse.ArgumentParser(\n",
            "    description='test yolov3 network with coco weights')\n",
            "\n",
            "argparser.add_argument(\n",
            "    '-w',\n",
            "    '--weights',\n",
            "    help='path to weights file')\n"
          ],
          "name": "stdout"
        }
      ]
    },
    {
      "cell_type": "markdown",
      "metadata": {
        "id": "qesJLquHzuva",
        "colab_type": "text"
      },
      "source": [
        "## 탐지 실행"
      ]
    },
    {
      "cell_type": "code",
      "metadata": {
        "id": "JYDctF3mzth4",
        "colab_type": "code",
        "colab": {
          "base_uri": "https://localhost:8080/",
          "height": 1000
        },
        "outputId": "de6029ad-11b4-4a74-e4b8-016e56c2853f"
      },
      "source": [
        "!python yolo3_one_file_to_detect_them_all.py -w yolov3.weights -i dog.jpg"
      ],
      "execution_count": null,
      "outputs": [
        {
          "output_type": "stream",
          "text": [
            "Using TensorFlow backend.\n",
            "WARNING:tensorflow:From /usr/local/lib/python3.6/dist-packages/tensorflow_core/python/ops/resource_variable_ops.py:1630: calling BaseResourceVariable.__init__ (from tensorflow.python.ops.resource_variable_ops) with constraint is deprecated and will be removed in a future version.\n",
            "Instructions for updating:\n",
            "If using Keras pass *_constraint arguments to layers.\n",
            "2020-04-05 09:42:04.016242: I tensorflow/stream_executor/platform/default/dso_loader.cc:44] Successfully opened dynamic library libcuda.so.1\n",
            "2020-04-05 09:42:04.031182: I tensorflow/stream_executor/cuda/cuda_gpu_executor.cc:983] successful NUMA node read from SysFS had negative value (-1), but there must be at least one NUMA node, so returning NUMA node zero\n",
            "2020-04-05 09:42:04.032029: I tensorflow/core/common_runtime/gpu/gpu_device.cc:1618] Found device 0 with properties: \n",
            "name: Tesla P100-PCIE-16GB major: 6 minor: 0 memoryClockRate(GHz): 1.3285\n",
            "pciBusID: 0000:00:04.0\n",
            "2020-04-05 09:42:04.032325: I tensorflow/stream_executor/platform/default/dso_loader.cc:44] Successfully opened dynamic library libcudart.so.10.0\n",
            "2020-04-05 09:42:04.033836: I tensorflow/stream_executor/platform/default/dso_loader.cc:44] Successfully opened dynamic library libcublas.so.10.0\n",
            "2020-04-05 09:42:04.035079: I tensorflow/stream_executor/platform/default/dso_loader.cc:44] Successfully opened dynamic library libcufft.so.10.0\n",
            "2020-04-05 09:42:04.035446: I tensorflow/stream_executor/platform/default/dso_loader.cc:44] Successfully opened dynamic library libcurand.so.10.0\n",
            "2020-04-05 09:42:04.037054: I tensorflow/stream_executor/platform/default/dso_loader.cc:44] Successfully opened dynamic library libcusolver.so.10.0\n",
            "2020-04-05 09:42:04.038964: I tensorflow/stream_executor/platform/default/dso_loader.cc:44] Successfully opened dynamic library libcusparse.so.10.0\n",
            "2020-04-05 09:42:04.043877: I tensorflow/stream_executor/platform/default/dso_loader.cc:44] Successfully opened dynamic library libcudnn.so.7\n",
            "2020-04-05 09:42:04.043966: I tensorflow/stream_executor/cuda/cuda_gpu_executor.cc:983] successful NUMA node read from SysFS had negative value (-1), but there must be at least one NUMA node, so returning NUMA node zero\n",
            "2020-04-05 09:42:04.044789: I tensorflow/stream_executor/cuda/cuda_gpu_executor.cc:983] successful NUMA node read from SysFS had negative value (-1), but there must be at least one NUMA node, so returning NUMA node zero\n",
            "2020-04-05 09:42:04.045627: I tensorflow/core/common_runtime/gpu/gpu_device.cc:1746] Adding visible gpu devices: 0\n",
            "2020-04-05 09:42:04.045980: I tensorflow/core/platform/cpu_feature_guard.cc:142] Your CPU supports instructions that this TensorFlow binary was not compiled to use: AVX2 FMA\n",
            "2020-04-05 09:42:04.050994: I tensorflow/core/platform/profile_utils/cpu_utils.cc:94] CPU Frequency: 2200000000 Hz\n",
            "2020-04-05 09:42:04.051348: I tensorflow/compiler/xla/service/service.cc:168] XLA service 0x1fa2a00 initialized for platform Host (this does not guarantee that XLA will be used). Devices:\n",
            "2020-04-05 09:42:04.051380: I tensorflow/compiler/xla/service/service.cc:176]   StreamExecutor device (0): Host, Default Version\n",
            "2020-04-05 09:42:04.141025: I tensorflow/stream_executor/cuda/cuda_gpu_executor.cc:983] successful NUMA node read from SysFS had negative value (-1), but there must be at least one NUMA node, so returning NUMA node zero\n",
            "2020-04-05 09:42:04.142045: I tensorflow/compiler/xla/service/service.cc:168] XLA service 0x1fa2bc0 initialized for platform CUDA (this does not guarantee that XLA will be used). Devices:\n",
            "2020-04-05 09:42:04.142078: I tensorflow/compiler/xla/service/service.cc:176]   StreamExecutor device (0): Tesla P100-PCIE-16GB, Compute Capability 6.0\n",
            "2020-04-05 09:42:04.142318: I tensorflow/stream_executor/cuda/cuda_gpu_executor.cc:983] successful NUMA node read from SysFS had negative value (-1), but there must be at least one NUMA node, so returning NUMA node zero\n",
            "2020-04-05 09:42:04.143262: I tensorflow/core/common_runtime/gpu/gpu_device.cc:1618] Found device 0 with properties: \n",
            "name: Tesla P100-PCIE-16GB major: 6 minor: 0 memoryClockRate(GHz): 1.3285\n",
            "pciBusID: 0000:00:04.0\n",
            "2020-04-05 09:42:04.143321: I tensorflow/stream_executor/platform/default/dso_loader.cc:44] Successfully opened dynamic library libcudart.so.10.0\n",
            "2020-04-05 09:42:04.143348: I tensorflow/stream_executor/platform/default/dso_loader.cc:44] Successfully opened dynamic library libcublas.so.10.0\n",
            "2020-04-05 09:42:04.143370: I tensorflow/stream_executor/platform/default/dso_loader.cc:44] Successfully opened dynamic library libcufft.so.10.0\n",
            "2020-04-05 09:42:04.143391: I tensorflow/stream_executor/platform/default/dso_loader.cc:44] Successfully opened dynamic library libcurand.so.10.0\n",
            "2020-04-05 09:42:04.143412: I tensorflow/stream_executor/platform/default/dso_loader.cc:44] Successfully opened dynamic library libcusolver.so.10.0\n",
            "2020-04-05 09:42:04.143439: I tensorflow/stream_executor/platform/default/dso_loader.cc:44] Successfully opened dynamic library libcusparse.so.10.0\n",
            "2020-04-05 09:42:04.143462: I tensorflow/stream_executor/platform/default/dso_loader.cc:44] Successfully opened dynamic library libcudnn.so.7\n",
            "2020-04-05 09:42:04.143536: I tensorflow/stream_executor/cuda/cuda_gpu_executor.cc:983] successful NUMA node read from SysFS had negative value (-1), but there must be at least one NUMA node, so returning NUMA node zero\n",
            "2020-04-05 09:42:04.144393: I tensorflow/stream_executor/cuda/cuda_gpu_executor.cc:983] successful NUMA node read from SysFS had negative value (-1), but there must be at least one NUMA node, so returning NUMA node zero\n",
            "2020-04-05 09:42:04.145245: I tensorflow/core/common_runtime/gpu/gpu_device.cc:1746] Adding visible gpu devices: 0\n",
            "2020-04-05 09:42:04.145302: I tensorflow/stream_executor/platform/default/dso_loader.cc:44] Successfully opened dynamic library libcudart.so.10.0\n",
            "2020-04-05 09:42:04.146673: I tensorflow/core/common_runtime/gpu/gpu_device.cc:1159] Device interconnect StreamExecutor with strength 1 edge matrix:\n",
            "2020-04-05 09:42:04.146702: I tensorflow/core/common_runtime/gpu/gpu_device.cc:1165]      0 \n",
            "2020-04-05 09:42:04.146726: I tensorflow/core/common_runtime/gpu/gpu_device.cc:1178] 0:   N \n",
            "2020-04-05 09:42:04.146870: I tensorflow/stream_executor/cuda/cuda_gpu_executor.cc:983] successful NUMA node read from SysFS had negative value (-1), but there must be at least one NUMA node, so returning NUMA node zero\n",
            "2020-04-05 09:42:04.147829: I tensorflow/stream_executor/cuda/cuda_gpu_executor.cc:983] successful NUMA node read from SysFS had negative value (-1), but there must be at least one NUMA node, so returning NUMA node zero\n",
            "2020-04-05 09:42:04.148626: W tensorflow/core/common_runtime/gpu/gpu_bfc_allocator.cc:39] Overriding allow_growth setting because the TF_FORCE_GPU_ALLOW_GROWTH environment variable is set. Original config value was 0.\n",
            "2020-04-05 09:42:04.148680: I tensorflow/core/common_runtime/gpu/gpu_device.cc:1304] Created TensorFlow device (/job:localhost/replica:0/task:0/device:GPU:0 with 15216 MB memory) -> physical GPU (device: 0, name: Tesla P100-PCIE-16GB, pci bus id: 0000:00:04.0, compute capability: 6.0)\n",
            "loading weights of convolution #0\n",
            "loading weights of convolution #1\n",
            "loading weights of convolution #2\n",
            "loading weights of convolution #3\n",
            "no convolution #4\n",
            "loading weights of convolution #5\n",
            "loading weights of convolution #6\n",
            "loading weights of convolution #7\n",
            "no convolution #8\n",
            "loading weights of convolution #9\n",
            "loading weights of convolution #10\n",
            "no convolution #11\n",
            "loading weights of convolution #12\n",
            "loading weights of convolution #13\n",
            "loading weights of convolution #14\n",
            "no convolution #15\n",
            "loading weights of convolution #16\n",
            "loading weights of convolution #17\n",
            "no convolution #18\n",
            "loading weights of convolution #19\n",
            "loading weights of convolution #20\n",
            "no convolution #21\n",
            "loading weights of convolution #22\n",
            "loading weights of convolution #23\n",
            "no convolution #24\n",
            "loading weights of convolution #25\n",
            "loading weights of convolution #26\n",
            "no convolution #27\n",
            "loading weights of convolution #28\n",
            "loading weights of convolution #29\n",
            "no convolution #30\n",
            "loading weights of convolution #31\n",
            "loading weights of convolution #32\n",
            "no convolution #33\n",
            "loading weights of convolution #34\n",
            "loading weights of convolution #35\n",
            "no convolution #36\n",
            "loading weights of convolution #37\n",
            "loading weights of convolution #38\n",
            "loading weights of convolution #39\n",
            "no convolution #40\n",
            "loading weights of convolution #41\n",
            "loading weights of convolution #42\n",
            "no convolution #43\n",
            "loading weights of convolution #44\n",
            "loading weights of convolution #45\n",
            "no convolution #46\n",
            "loading weights of convolution #47\n",
            "loading weights of convolution #48\n",
            "no convolution #49\n",
            "loading weights of convolution #50\n",
            "loading weights of convolution #51\n",
            "no convolution #52\n",
            "loading weights of convolution #53\n",
            "loading weights of convolution #54\n",
            "no convolution #55\n",
            "loading weights of convolution #56\n",
            "loading weights of convolution #57\n",
            "no convolution #58\n",
            "loading weights of convolution #59\n",
            "loading weights of convolution #60\n",
            "no convolution #61\n",
            "loading weights of convolution #62\n",
            "loading weights of convolution #63\n",
            "loading weights of convolution #64\n",
            "no convolution #65\n",
            "loading weights of convolution #66\n",
            "loading weights of convolution #67\n",
            "no convolution #68\n",
            "loading weights of convolution #69\n",
            "loading weights of convolution #70\n",
            "no convolution #71\n",
            "loading weights of convolution #72\n",
            "loading weights of convolution #73\n",
            "no convolution #74\n",
            "loading weights of convolution #75\n",
            "loading weights of convolution #76\n",
            "loading weights of convolution #77\n",
            "loading weights of convolution #78\n",
            "loading weights of convolution #79\n",
            "loading weights of convolution #80\n",
            "loading weights of convolution #81\n",
            "no convolution #82\n",
            "no convolution #83\n",
            "loading weights of convolution #84\n",
            "no convolution #85\n",
            "no convolution #86\n",
            "loading weights of convolution #87\n",
            "loading weights of convolution #88\n",
            "loading weights of convolution #89\n",
            "loading weights of convolution #90\n",
            "loading weights of convolution #91\n",
            "loading weights of convolution #92\n",
            "loading weights of convolution #93\n",
            "no convolution #94\n",
            "no convolution #95\n",
            "loading weights of convolution #96\n",
            "no convolution #97\n",
            "no convolution #98\n",
            "loading weights of convolution #99\n",
            "loading weights of convolution #100\n",
            "loading weights of convolution #101\n",
            "loading weights of convolution #102\n",
            "loading weights of convolution #103\n",
            "loading weights of convolution #104\n",
            "loading weights of convolution #105\n",
            "WARNING:tensorflow:From /usr/local/lib/python3.6/dist-packages/keras/backend/tensorflow_backend.py:422: The name tf.global_variables is deprecated. Please use tf.compat.v1.global_variables instead.\n",
            "\n",
            "2020-04-05 09:42:59.587328: I tensorflow/stream_executor/platform/default/dso_loader.cc:44] Successfully opened dynamic library libcudnn.so.7\n",
            "2020-04-05 09:43:00.728550: I tensorflow/stream_executor/platform/default/dso_loader.cc:44] Successfully opened dynamic library libcublas.so.10.0\n",
            "dog: 99.76491332054138%\n",
            "dog: 99.8070478439331%\n",
            "dog: 98.69624376296997%\n"
          ],
          "name": "stdout"
        }
      ]
    },
    {
      "cell_type": "markdown",
      "metadata": {
        "id": "w4CfG5t4B9cK",
        "colab_type": "text"
      },
      "source": [
        "# 학습 데이터 준비"
      ]
    },
    {
      "cell_type": "markdown",
      "metadata": {
        "id": "YDX2kPuqCBv9",
        "colab_type": "text"
      },
      "source": [
        "## 학습 데이터셋 다운로드"
      ]
    },
    {
      "cell_type": "code",
      "metadata": {
        "id": "dDjsMtVi3HEV",
        "colab_type": "code",
        "colab": {
          "base_uri": "https://localhost:8080/",
          "height": 107
        },
        "outputId": "29cbaf38-212c-427f-aab7-be860f21b928"
      },
      "source": [
        "!git clone https://github.com/experiencor/raccoon_dataset\n"
      ],
      "execution_count": null,
      "outputs": [
        {
          "output_type": "stream",
          "text": [
            "Cloning into 'raccoon_dataset'...\n",
            "remote: Enumerating objects: 646, done.\u001b[K\n",
            "remote: Total 646 (delta 0), reused 0 (delta 0), pack-reused 646\u001b[K\n",
            "Receiving objects: 100% (646/646), 48.00 MiB | 27.08 MiB/s, done.\n",
            "Resolving deltas: 100% (412/412), done.\n"
          ],
          "name": "stdout"
        }
      ]
    },
    {
      "cell_type": "code",
      "metadata": {
        "id": "ElfnY1H5NiUo",
        "colab_type": "code",
        "colab": {
          "base_uri": "https://localhost:8080/",
          "height": 377
        },
        "outputId": "30cac3c9-ccb7-4eac-b7a8-0bcb801ab09f"
      },
      "source": [
        "!ls -al raccoon_dataset/images | head\n",
        "!ls -al raccoon_dataset/annotations | head"
      ],
      "execution_count": null,
      "outputs": [
        {
          "output_type": "stream",
          "text": [
            "total 13448\n",
            "drwxr-xr-x 2 root root  12288 Apr  5 09:43 .\n",
            "drwxr-xr-x 7 root root   4096 Apr  5 09:43 ..\n",
            "-rw-r--r-- 1 root root 118176 Apr  5 09:43 raccoon-100.jpg\n",
            "-rw-r--r-- 1 root root 124554 Apr  5 09:43 raccoon-101.jpg\n",
            "-rw-r--r-- 1 root root  17123 Apr  5 09:43 raccoon-102.jpg\n",
            "-rw-r--r-- 1 root root 173619 Apr  5 09:43 raccoon-103.jpg\n",
            "-rw-r--r-- 1 root root  41618 Apr  5 09:43 raccoon-104.jpg\n",
            "-rw-r--r-- 1 root root  99844 Apr  5 09:43 raccoon-105.jpg\n",
            "-rw-r--r-- 1 root root  13337 Apr  5 09:43 raccoon-106.jpg\n",
            "total 816\n",
            "drwxr-xr-x 2 root root 12288 Apr  5 09:43 .\n",
            "drwxr-xr-x 7 root root  4096 Apr  5 09:43 ..\n",
            "-rw-r--r-- 1 root root   559 Apr  5 09:43 raccoon-100.xml\n",
            "-rw-r--r-- 1 root root   558 Apr  5 09:43 raccoon-101.xml\n",
            "-rw-r--r-- 1 root root   556 Apr  5 09:43 raccoon-102.xml\n",
            "-rw-r--r-- 1 root root   558 Apr  5 09:43 raccoon-103.xml\n",
            "-rw-r--r-- 1 root root   559 Apr  5 09:43 raccoon-104.xml\n",
            "-rw-r--r-- 1 root root   559 Apr  5 09:43 raccoon-105.xml\n",
            "-rw-r--r-- 1 root root   558 Apr  5 09:43 raccoon-106.xml\n"
          ],
          "name": "stdout"
        }
      ]
    },
    {
      "cell_type": "code",
      "metadata": {
        "id": "emc4o6k1PCoV",
        "colab_type": "code",
        "colab": {
          "base_uri": "https://localhost:8080/",
          "height": 434
        },
        "outputId": "b18ee077-a65b-4b3f-da19-ebaf94605fb7"
      },
      "source": [
        "from IPython.display import Image, display\n",
        "display(Image('raccoon_dataset/images/raccoon-1.jpg'))"
      ],
      "execution_count": null,
      "outputs": [
        {
          "output_type": "display_data",
          "data": {
            "image/jpeg": "[encoded data removed]",
            "text/plain": [
              "<IPython.core.display.Image object>"
            ]
          },
          "metadata": {
            "tags": []
          }
        }
      ]
    },
    {
      "cell_type": "code",
      "metadata": {
        "id": "LgqG7MeDQHCG",
        "colab_type": "code",
        "colab": {
          "base_uri": "https://localhost:8080/",
          "height": 485
        },
        "outputId": "2af6e863-ce5b-4137-b593-59e654ca3927"
      },
      "source": [
        "!cat raccoon_dataset/annotations/raccoon-100.xml"
      ],
      "execution_count": null,
      "outputs": [
        {
          "output_type": "stream",
          "text": [
            "<annotation verified=\"yes\">\n",
            "\t<folder>images</folder>\n",
            "\t<filename>raccoon-100.jpg</filename>\n",
            "\t<path>/Users/datitran/Desktop/raccoon/images/raccoon-100.jpg</path>\n",
            "\t<source>\n",
            "\t\t<database>Unknown</database>\n",
            "\t</source>\n",
            "\t<size>\n",
            "\t\t<width>960</width>\n",
            "\t\t<height>576</height>\n",
            "\t\t<depth>3</depth>\n",
            "\t</size>\n",
            "\t<segmented>0</segmented>\n",
            "\t<object>\n",
            "\t\t<name>raccoon</name>\n",
            "\t\t<pose>Unspecified</pose>\n",
            "\t\t<truncated>0</truncated>\n",
            "\t\t<difficult>0</difficult>\n",
            "\t\t<bndbox>\n",
            "\t\t\t<xmin>548</xmin>\n",
            "\t\t\t<ymin>10</ymin>\n",
            "\t\t\t<xmax>954</xmax>\n",
            "\t\t\t<ymax>520</ymax>\n",
            "\t\t</bndbox>\n",
            "\t</object>\n",
            "</annotation>\n"
          ],
          "name": "stdout"
        }
      ]
    },
    {
      "cell_type": "markdown",
      "metadata": {
        "id": "h3V9sVU3ND6m",
        "colab_type": "text"
      },
      "source": [
        "## 디렉토리 생성\n",
        "\n",
        "```\n",
        "data/\n",
        "  train/\n",
        "    images/\n",
        "    annotations/\n",
        "  test/\n",
        "    images/\n",
        "    annotations/\n",
        "\n",
        "```"
      ]
    },
    {
      "cell_type": "code",
      "metadata": {
        "id": "TtRE-H1HC9iA",
        "colab_type": "code",
        "colab": {}
      },
      "source": [
        "!mkdir -p data/train/images\n",
        "!mkdir -p data/train/annotations\n",
        "!mkdir -p data/test/images\n",
        "!mkdir -p data/test/annotations"
      ],
      "execution_count": null,
      "outputs": []
    },
    {
      "cell_type": "markdown",
      "metadata": {
        "id": "6cfymyUXsKP3",
        "colab_type": "text"
      },
      "source": [
        "전체 데이터를 전부 train/ 밑으로 복사하고"
      ]
    },
    {
      "cell_type": "code",
      "metadata": {
        "id": "p7CbsIWsEIec",
        "colab_type": "code",
        "colab": {}
      },
      "source": [
        "!cp raccoon_dataset/images/* data/train/images\n",
        "!cp raccoon_dataset/annotations/* data/train/annotations"
      ],
      "execution_count": null,
      "outputs": []
    },
    {
      "cell_type": "code",
      "metadata": {
        "id": "qXumVyDJEoWc",
        "colab_type": "code",
        "colab": {
          "base_uri": "https://localhost:8080/",
          "height": 395
        },
        "outputId": "55a95fda-43e3-430e-bed6-f1fbd1e0e866"
      },
      "source": [
        "!ls -al data/train/images | head\n",
        "!ls -al data/train/annotations | head\n",
        "!ls data/train/images/*.jpg | wc"
      ],
      "execution_count": null,
      "outputs": [
        {
          "output_type": "stream",
          "text": [
            "total 13448\n",
            "drwxr-xr-x 2 root root  12288 Apr  5 09:43 .\n",
            "drwxr-xr-x 4 root root   4096 Apr  5 09:43 ..\n",
            "-rw-r--r-- 1 root root 118176 Apr  5 09:43 raccoon-100.jpg\n",
            "-rw-r--r-- 1 root root 124554 Apr  5 09:43 raccoon-101.jpg\n",
            "-rw-r--r-- 1 root root  17123 Apr  5 09:43 raccoon-102.jpg\n",
            "-rw-r--r-- 1 root root 173619 Apr  5 09:43 raccoon-103.jpg\n",
            "-rw-r--r-- 1 root root  41618 Apr  5 09:43 raccoon-104.jpg\n",
            "-rw-r--r-- 1 root root  99844 Apr  5 09:43 raccoon-105.jpg\n",
            "-rw-r--r-- 1 root root  13337 Apr  5 09:43 raccoon-106.jpg\n",
            "total 816\n",
            "drwxr-xr-x 2 root root 12288 Apr  5 09:43 .\n",
            "drwxr-xr-x 4 root root  4096 Apr  5 09:43 ..\n",
            "-rw-r--r-- 1 root root   559 Apr  5 09:43 raccoon-100.xml\n",
            "-rw-r--r-- 1 root root   558 Apr  5 09:43 raccoon-101.xml\n",
            "-rw-r--r-- 1 root root   556 Apr  5 09:43 raccoon-102.xml\n",
            "-rw-r--r-- 1 root root   558 Apr  5 09:43 raccoon-103.xml\n",
            "-rw-r--r-- 1 root root   559 Apr  5 09:43 raccoon-104.xml\n",
            "-rw-r--r-- 1 root root   559 Apr  5 09:43 raccoon-105.xml\n",
            "-rw-r--r-- 1 root root   558 Apr  5 09:43 raccoon-106.xml\n",
            "    200     200    6692\n"
          ],
          "name": "stdout"
        }
      ]
    },
    {
      "cell_type": "markdown",
      "metadata": {
        "id": "F1NEiSEQsPFW",
        "colab_type": "text"
      },
      "source": [
        "0으로 끝나는, 1로 끝나는 일부 파일을 test 밑으로 이동"
      ]
    },
    {
      "cell_type": "code",
      "metadata": {
        "id": "E9-ADLlGEeYQ",
        "colab_type": "code",
        "colab": {}
      },
      "source": [
        "!mv data/train/images/*0.jpg data/test/images/\n",
        "!mv data/train/annotations/*0.xml data/test/annotations/\n",
        "!mv data/train/images/*1.jpg data/test/images/\n",
        "!mv data/train/annotations/*1.xml data/test/annotations/\n"
      ],
      "execution_count": null,
      "outputs": []
    },
    {
      "cell_type": "markdown",
      "metadata": {
        "id": "1kWt4cd1sTG0",
        "colab_type": "text"
      },
      "source": [
        "데이터의 갯수 확인"
      ]
    },
    {
      "cell_type": "code",
      "metadata": {
        "id": "Qz4Fq2dAEYHq",
        "colab_type": "code",
        "colab": {
          "base_uri": "https://localhost:8080/",
          "height": 89
        },
        "outputId": "5b220d1b-cf49-4ae7-991c-f73a9d4cefa2"
      },
      "source": [
        "!ls data/train/images/*.jpg | wc\n",
        "!ls data/train/annotations/*.xml | wc\n",
        "!ls data/test/images/*.jpg | wc\n",
        "!ls data/test/annotations/*.xml | wc"
      ],
      "execution_count": null,
      "outputs": [
        {
          "output_type": "stream",
          "text": [
            "    160     160    5352\n",
            "    160     160    6152\n",
            "     40      40    1300\n",
            "     40      40    1500\n"
          ],
          "name": "stdout"
        }
      ]
    },
    {
      "cell_type": "markdown",
      "metadata": {
        "id": "VFh-nrqQQmVz",
        "colab_type": "text"
      },
      "source": [
        "```\n",
        "data/\n",
        "  train/\n",
        "    images/       # 160개\n",
        "    annotations/  # 160개\n",
        "  test/\n",
        "    images/       # 40개\n",
        "    annotations/  # 40개\n",
        " \n",
        "```"
      ]
    },
    {
      "cell_type": "markdown",
      "metadata": {
        "id": "Y-yyPTttcYBC",
        "colab_type": "text"
      },
      "source": [
        "# 학습"
      ]
    },
    {
      "cell_type": "markdown",
      "metadata": {
        "id": "dSBIdFvxZXBs",
        "colab_type": "text"
      },
      "source": [
        "## 학습된 모델파일 다운로드"
      ]
    },
    {
      "cell_type": "code",
      "metadata": {
        "id": "KD7kac59Q9f3",
        "colab_type": "code",
        "colab": {
          "base_uri": "https://localhost:8080/",
          "height": 89
        },
        "outputId": "9a391fe7-277f-47ea-c0cc-c6867a91bad2"
      },
      "source": [
        "!gdown https://drive.google.com/uc?id=1kaB6H0CqrzwDPtWedOqYVrVQ5hW36Bno"
      ],
      "execution_count": null,
      "outputs": [
        {
          "output_type": "stream",
          "text": [
            "Downloading...\n",
            "From: https://drive.google.com/uc?id=1kaB6H0CqrzwDPtWedOqYVrVQ5hW36Bno\n",
            "To: /content/keras-yolo3/raccoon.h5\n",
            "247MB [00:01, 140MB/s]\n"
          ],
          "name": "stdout"
        }
      ]
    },
    {
      "cell_type": "markdown",
      "metadata": {
        "id": "fb8_QKrBdAsw",
        "colab_type": "text"
      },
      "source": [
        "## 설정 파일"
      ]
    },
    {
      "cell_type": "code",
      "metadata": {
        "id": "kP_9N3VNc9AX",
        "colab_type": "code",
        "colab": {
          "base_uri": "https://localhost:8080/",
          "height": 737
        },
        "outputId": "3ac71b42-8cfb-4902-98bd-a52c77bb989c"
      },
      "source": [
        "!cat zoo/config_raccoon.json"
      ],
      "execution_count": null,
      "outputs": [
        {
          "output_type": "stream",
          "text": [
            "{\n",
            "    \"model\" : {\n",
            "        \"min_input_size\":       288,\n",
            "        \"max_input_size\":       448,\n",
            "        \"anchors\":              [17,18, 28,24, 36,34, 42,44, 56,51, 72,66, 90,95, 92,154, 139,281],\n",
            "        \"labels\":               [\"raccoon\"]\n",
            "    },\n",
            "\n",
            "    \"train\": {\n",
            "        \"train_image_folder\":   \"/home/andy/Desktop/github/raccoon_dataset/images/\",\n",
            "        \"train_annot_folder\":   \"/home/andy/Desktop/github/raccoon_dataset/annotations/\",\n",
            "        \"cache_name\":           \"raccoon_train.pkl\",\n",
            "\n",
            "        \"train_times\":          3,\n",
            "        \"batch_size\":           16,\n",
            "        \"learning_rate\":        1e-4,\n",
            "        \"nb_epochs\":            100,\n",
            "        \"warmup_epochs\":        3,\n",
            "        \"ignore_thresh\":        0.5,\n",
            "        \"gpus\":                 \"0,1\",\n",
            "\n",
            "        \"grid_scales\":          [1,1,1],\n",
            "        \"obj_scale\":            5,\n",
            "        \"noobj_scale\":          1,\n",
            "        \"xywh_scale\":           1,\n",
            "        \"class_scale\":          1,\n",
            "\n",
            "        \"tensorboard_dir\":      \"log_raccoon\",\n",
            "        \"saved_weights_name\":   \"raccoon.h5\",\n",
            "        \"debug\":                true\n",
            "    },\n",
            "\n",
            "    \"valid\": {\n",
            "        \"valid_image_folder\":   \"\",\n",
            "        \"valid_annot_folder\":   \"\",\n",
            "        \"cache_name\":           \"\",\n",
            "\n",
            "        \"valid_times\":          1\n",
            "    }\n",
            "}\n"
          ],
          "name": "stdout"
        }
      ]
    },
    {
      "cell_type": "code",
      "metadata": {
        "id": "M3D81fuGdj74",
        "colab_type": "code",
        "colab": {}
      },
      "source": [
        "# 설정파일 설정\n",
        "!sed -i 's/\\/home\\/andy\\/Desktop\\/github\\/raccoon_dataset/data\\/train/g' zoo/config_raccoon.json\n",
        "\n",
        "# gpu 갯수 설정\n",
        "!sed -i 's/\\\"0\\,1\\\"\\,/\\\"0\\\"\\,/g' zoo/config_raccoon.json\n",
        "\n",
        "# batch 사이즈 설정\n",
        "!sed -i 's/16,/2,/g' zoo/config_raccoon.json"
      ],
      "execution_count": null,
      "outputs": []
    },
    {
      "cell_type": "code",
      "metadata": {
        "id": "R4VRf0qteBtp",
        "colab_type": "code",
        "colab": {
          "base_uri": "https://localhost:8080/",
          "height": 737
        },
        "outputId": "299ea4b6-c1f3-461f-86d9-90601f825c24"
      },
      "source": [
        "!cat zoo/config_raccoon.json"
      ],
      "execution_count": null,
      "outputs": [
        {
          "output_type": "stream",
          "text": [
            "{\n",
            "    \"model\" : {\n",
            "        \"min_input_size\":       288,\n",
            "        \"max_input_size\":       448,\n",
            "        \"anchors\":              [17,18, 28,24, 36,34, 42,44, 56,51, 72,66, 90,95, 92,154, 139,281],\n",
            "        \"labels\":               [\"raccoon\"]\n",
            "    },\n",
            "\n",
            "    \"train\": {\n",
            "        \"train_image_folder\":   \"data/train/images/\",\n",
            "        \"train_annot_folder\":   \"data/train/annotations/\",\n",
            "        \"cache_name\":           \"raccoon_train.pkl\",\n",
            "\n",
            "        \"train_times\":          3,\n",
            "        \"batch_size\":           2,\n",
            "        \"learning_rate\":        1e-4,\n",
            "        \"nb_epochs\":            100,\n",
            "        \"warmup_epochs\":        3,\n",
            "        \"ignore_thresh\":        0.5,\n",
            "        \"gpus\":                 \"0\",\n",
            "\n",
            "        \"grid_scales\":          [1,1,1],\n",
            "        \"obj_scale\":            5,\n",
            "        \"noobj_scale\":          1,\n",
            "        \"xywh_scale\":           1,\n",
            "        \"class_scale\":          1,\n",
            "\n",
            "        \"tensorboard_dir\":      \"log_raccoon\",\n",
            "        \"saved_weights_name\":   \"raccoon.h5\",\n",
            "        \"debug\":                true\n",
            "    },\n",
            "\n",
            "    \"valid\": {\n",
            "        \"valid_image_folder\":   \"\",\n",
            "        \"valid_annot_folder\":   \"\",\n",
            "        \"cache_name\":           \"\",\n",
            "\n",
            "        \"valid_times\":          1\n",
            "    }\n",
            "}\n"
          ],
          "name": "stdout"
        }
      ]
    },
    {
      "cell_type": "markdown",
      "metadata": {
        "id": "BbNpGWiydDNB",
        "colab_type": "text"
      },
      "source": [
        "## 학습 실행"
      ]
    },
    {
      "cell_type": "code",
      "metadata": {
        "id": "NSak1j1DR_kJ",
        "colab_type": "code",
        "colab": {
          "base_uri": "https://localhost:8080/",
          "height": 1000
        },
        "outputId": "d2db3ea5-89d2-4d2e-80e7-b94cff5b822a"
      },
      "source": [
        "!python train.py -c zoo/config_raccoon.json"
      ],
      "execution_count": null,
      "outputs": [
        {
          "output_type": "stream",
          "text": [
            "Using TensorFlow backend.\n",
            "2020-04-05 09:43:57.515178: I tensorflow/core/platform/cpu_feature_guard.cc:142] Your CPU supports instructions that this TensorFlow binary was not compiled to use: AVX2 FMA\n",
            "2020-04-05 09:43:57.520277: I tensorflow/core/platform/profile_utils/cpu_utils.cc:94] CPU Frequency: 2200000000 Hz\n",
            "2020-04-05 09:43:57.520644: I tensorflow/compiler/xla/service/service.cc:168] XLA service 0x1a12a00 initialized for platform Host (this does not guarantee that XLA will be used). Devices:\n",
            "2020-04-05 09:43:57.520677: I tensorflow/compiler/xla/service/service.cc:176]   StreamExecutor device (0): Host, Default Version\n",
            "2020-04-05 09:43:57.522634: I tensorflow/stream_executor/platform/default/dso_loader.cc:44] Successfully opened dynamic library libcuda.so.1\n",
            "2020-04-05 09:43:57.631556: I tensorflow/stream_executor/cuda/cuda_gpu_executor.cc:983] successful NUMA node read from SysFS had negative value (-1), but there must be at least one NUMA node, so returning NUMA node zero\n",
            "2020-04-05 09:43:57.632674: I tensorflow/compiler/xla/service/service.cc:168] XLA service 0x1a12bc0 initialized for platform CUDA (this does not guarantee that XLA will be used). Devices:\n",
            "2020-04-05 09:43:57.632711: I tensorflow/compiler/xla/service/service.cc:176]   StreamExecutor device (0): Tesla P100-PCIE-16GB, Compute Capability 6.0\n",
            "2020-04-05 09:43:57.632870: I tensorflow/stream_executor/cuda/cuda_gpu_executor.cc:983] successful NUMA node read from SysFS had negative value (-1), but there must be at least one NUMA node, so returning NUMA node zero\n",
            "2020-04-05 09:43:57.633684: I tensorflow/core/common_runtime/gpu/gpu_device.cc:1618] Found device 0 with properties: \n",
            "name: Tesla P100-PCIE-16GB major: 6 minor: 0 memoryClockRate(GHz): 1.3285\n",
            "pciBusID: 0000:00:04.0\n",
            "2020-04-05 09:43:57.634273: I tensorflow/stream_executor/platform/default/dso_loader.cc:44] Successfully opened dynamic library libcudart.so.10.0\n",
            "2020-04-05 09:43:57.635542: I tensorflow/stream_executor/platform/default/dso_loader.cc:44] Successfully opened dynamic library libcublas.so.10.0\n",
            "2020-04-05 09:43:57.636768: I tensorflow/stream_executor/platform/default/dso_loader.cc:44] Successfully opened dynamic library libcufft.so.10.0\n",
            "2020-04-05 09:43:57.637186: I tensorflow/stream_executor/platform/default/dso_loader.cc:44] Successfully opened dynamic library libcurand.so.10.0\n",
            "2020-04-05 09:43:57.638675: I tensorflow/stream_executor/platform/default/dso_loader.cc:44] Successfully opened dynamic library libcusolver.so.10.0\n",
            "2020-04-05 09:43:57.639747: I tensorflow/stream_executor/platform/default/dso_loader.cc:44] Successfully opened dynamic library libcusparse.so.10.0\n",
            "2020-04-05 09:43:57.642994: I tensorflow/stream_executor/platform/default/dso_loader.cc:44] Successfully opened dynamic library libcudnn.so.7\n",
            "2020-04-05 09:43:57.643138: I tensorflow/stream_executor/cuda/cuda_gpu_executor.cc:983] successful NUMA node read from SysFS had negative value (-1), but there must be at least one NUMA node, so returning NUMA node zero\n",
            "2020-04-05 09:43:57.644006: I tensorflow/stream_executor/cuda/cuda_gpu_executor.cc:983] successful NUMA node read from SysFS had negative value (-1), but there must be at least one NUMA node, so returning NUMA node zero\n",
            "2020-04-05 09:43:57.644785: I tensorflow/core/common_runtime/gpu/gpu_device.cc:1746] Adding visible gpu devices: 0\n",
            "2020-04-05 09:43:57.644889: I tensorflow/stream_executor/platform/default/dso_loader.cc:44] Successfully opened dynamic library libcudart.so.10.0\n",
            "2020-04-05 09:43:57.646547: I tensorflow/core/common_runtime/gpu/gpu_device.cc:1159] Device interconnect StreamExecutor with strength 1 edge matrix:\n",
            "2020-04-05 09:43:57.646587: I tensorflow/core/common_runtime/gpu/gpu_device.cc:1165]      0 \n",
            "2020-04-05 09:43:57.646613: I tensorflow/core/common_runtime/gpu/gpu_device.cc:1178] 0:   N \n",
            "2020-04-05 09:43:57.646736: I tensorflow/stream_executor/cuda/cuda_gpu_executor.cc:983] successful NUMA node read from SysFS had negative value (-1), but there must be at least one NUMA node, so returning NUMA node zero\n",
            "2020-04-05 09:43:57.647598: I tensorflow/stream_executor/cuda/cuda_gpu_executor.cc:983] successful NUMA node read from SysFS had negative value (-1), but there must be at least one NUMA node, so returning NUMA node zero\n",
            "2020-04-05 09:43:57.648461: I tensorflow/core/common_runtime/gpu/gpu_device.cc:1304] Created TensorFlow device (/job:localhost/replica:0/task:0/device:GPU:0 with 14652 MB memory) -> physical GPU (device: 0, name: Tesla P100-PCIE-16GB, pci bus id: 0000:00:04.0, compute capability: 6.0)\n",
            "WARNING:tensorflow:From train.py:26: The name tf.keras.backend.set_session is deprecated. Please use tf.compat.v1.keras.backend.set_session instead.\n",
            "\n",
            "valid_annot_folder not exists. Spliting the trainining set.\n",
            "Seen labels: \t{'raccoon': 174}\n",
            "\n",
            "Given labels: \t['raccoon']\n",
            "\n",
            "Training on: \t['raccoon']\n",
            "\n",
            "WARNING:tensorflow:From /usr/local/lib/python3.6/dist-packages/tensorflow_core/python/ops/resource_variable_ops.py:1630: calling BaseResourceVariable.__init__ (from tensorflow.python.ops.resource_variable_ops) with constraint is deprecated and will be removed in a future version.\n",
            "Instructions for updating:\n",
            "If using Keras pass *_constraint arguments to layers.\n",
            "WARNING:tensorflow:From /content/keras-yolo3/yolo.py:26: to_float (from tensorflow.python.ops.math_ops) is deprecated and will be removed in a future version.\n",
            "Instructions for updating:\n",
            "Use `tf.cast` instead.\n",
            "WARNING:tensorflow:From /content/keras-yolo3/yolo.py:151: The name tf.assign_add is deprecated. Please use tf.compat.v1.assign_add instead.\n",
            "\n",
            "\n",
            "Loading pretrained weights.\n",
            "\n",
            "/usr/local/lib/python3.6/dist-packages/keras/callbacks/callbacks.py:998: UserWarning: `epsilon` argument is deprecated and will be removed, use `min_delta` instead.\n",
            "  warnings.warn('`epsilon` argument is deprecated and '\n",
            "WARNING:tensorflow:From /usr/local/lib/python3.6/dist-packages/keras/backend/tensorflow_backend.py:422: The name tf.global_variables is deprecated. Please use tf.compat.v1.global_variables instead.\n",
            "\n",
            "WARNING:tensorflow:From /usr/local/lib/python3.6/dist-packages/keras/backend/tensorflow_backend.py:431: The name tf.is_variable_initialized is deprecated. Please use tf.compat.v1.is_variable_initialized instead.\n",
            "\n",
            "WARNING:tensorflow:From /usr/local/lib/python3.6/dist-packages/keras/backend/tensorflow_backend.py:438: The name tf.variables_initializer is deprecated. Please use tf.compat.v1.variables_initializer instead.\n",
            "\n",
            "WARNING:tensorflow:From /usr/local/lib/python3.6/dist-packages/keras/callbacks/tensorboard_v1.py:200: The name tf.summary.merge_all is deprecated. Please use tf.compat.v1.summary.merge_all instead.\n",
            "\n",
            "WARNING:tensorflow:From /usr/local/lib/python3.6/dist-packages/keras/callbacks/tensorboard_v1.py:203: The name tf.summary.FileWriter is deprecated. Please use tf.compat.v1.summary.FileWriter instead.\n",
            "\n",
            "Epoch 1/100\n",
            "resizing:  352 352\n",
            "2020-04-05 09:44:59.643671: I tensorflow/stream_executor/platform/default/dso_loader.cc:44] Successfully opened dynamic library libcudnn.so.7\n",
            "2020-04-05 09:45:00.764699: I tensorflow/stream_executor/platform/default/dso_loader.cc:44] Successfully opened dynamic library libcublas.so.10.0\n",
            "WARNING:tensorflow:From /content/keras-yolo3/callbacks.py:19: The name tf.Summary is deprecated. Please use tf.compat.v1.Summary instead.\n",
            "\n",
            "resizing:  352 352\n",
            "resizing:  416 416\n",
            "resizing:  384 384\n",
            "resizing:  352 352\n",
            "resizing:  448 448\n",
            "resizing:  384 384\n",
            "resizing:  416 416\n",
            "resizing:  448 448\n",
            "resizing:  384 384\n",
            "resizing:  320 320\n",
            "resizing:  416 416\n",
            "resizing:  448 448\n",
            "resizing:  320 320\n",
            "resizing:  384 384\n",
            "resizing:  288 288\n",
            "resizing:  384 384\n",
            "resizing:  352 352\n",
            "resizing:  320 320\n",
            "resizing:  448 448\n",
            "resizing:  352 352\n",
            "resizing:  448 448\n",
            " - 64s - loss: 1.4094 - yolo_layer_1_loss: 1.1212 - yolo_layer_2_loss: 0.2233 - yolo_layer_3_loss: 0.0648\n",
            "\n",
            "Epoch 00001: loss improved from inf to 1.40938, saving model to raccoon.h5\n",
            "Epoch 2/100\n",
            "resizing:  448 448\n",
            "resizing:  352 352\n",
            "resizing:  384 384\n",
            "resizing:  384 384\n",
            "resizing:  320 320\n",
            "resizing:  352 352\n",
            "resizing:  448 448\n",
            "resizing:  384 384\n",
            "resizing:  352 352\n",
            "resizing:  320 320\n",
            "resizing:  448 448\n",
            "resizing:  416 416\n",
            "resizing:  448 448\n",
            "resizing:  384 384\n",
            "resizing:  320 320\n",
            "resizing:  448 448\n",
            "resizing:  352 352\n",
            "resizing:  352 352\n",
            "resizing:  352 352\n",
            "resizing:  352 352\n",
            "resizing:  384 384\n",
            "resizing:  320 320\n",
            " - 35s - loss: 1.4165 - yolo_layer_1_loss: 1.1666 - yolo_layer_2_loss: 0.2221 - yolo_layer_3_loss: 0.0278\n",
            "\n",
            "Epoch 00002: loss did not improve from 1.40938\n",
            "Epoch 3/100\n",
            "resizing:  448 448\n",
            "resizing:  320 320\n",
            "resizing:  448 448\n",
            "resizing:  416 416\n",
            "resizing:  448 448\n",
            "resizing:  416 416\n",
            "resizing:  320 320\n",
            "resizing:  320 320\n",
            "resizing:  352 352\n",
            "resizing:  448 448\n",
            "resizing:  416 416\n",
            "resizing:  288 288\n",
            "resizing:  320 320\n",
            "resizing:  288 288\n",
            "resizing:  288 288\n",
            "resizing:  384 384\n",
            "resizing:  448 448\n",
            "resizing:  384 384\n",
            "resizing:  320 320\n",
            "resizing:  288 288\n",
            "resizing:  448 448\n",
            " - 34s - loss: 1.6286 - yolo_layer_1_loss: 1.1784 - yolo_layer_2_loss: 0.4113 - yolo_layer_3_loss: 0.0388\n",
            "\n",
            "Epoch 00003: loss did not improve from 1.40938\n",
            "\n",
            "Epoch 00003: ReduceLROnPlateau reducing learning rate to 9.999999747378752e-06.\n",
            "Epoch 4/100\n",
            "resizing:  352 352\n",
            "resizing:  352 352\n",
            "resizing:  384 384\n",
            "resizing:  448 448\n",
            "resizing:  448 448\n",
            "resizing:  416 416\n",
            "resizing:  352 352\n",
            "resizing:  448 448\n",
            "resizing:  320 320\n",
            "resizing:  416 416\n",
            "resizing:  288 288\n",
            "resizing:  384 384\n",
            "resizing:  320 320\n",
            "resizing:  384 384\n",
            "resizing:  416 416\n",
            "resizing:  320 320\n",
            "resizing:  352 352\n",
            "resizing:  352 352\n",
            "resizing:  384 384\n",
            "resizing:  352 352\n",
            " - 35s - loss: 1.5254 - yolo_layer_1_loss: 1.0892 - yolo_layer_2_loss: 0.3794 - yolo_layer_3_loss: 0.0568\n",
            "\n",
            "Epoch 00004: loss did not improve from 1.40938\n",
            "Epoch 5/100\n",
            "resizing:  448 448\n",
            "resizing:  416 416\n",
            "resizing:  448 448\n",
            "resizing:  448 448\n",
            "resizing:  288 288\n",
            "resizing:  384 384\n",
            "resizing:  448 448\n",
            "resizing:  320 320\n",
            "resizing:  288 288\n",
            "resizing:  416 416\n",
            "resizing:  352 352\n",
            "resizing:  352 352\n",
            "resizing:  416 416\n",
            "resizing:  448 448\n",
            "resizing:  384 384\n",
            "resizing:  288 288\n",
            "resizing:  320 320\n",
            "resizing:  352 352\n",
            "resizing:  416 416\n",
            "resizing:  416 416\n",
            "resizing:  384 384\n",
            " - 35s - loss: 1.2579 - yolo_layer_1_loss: 0.8984 - yolo_layer_2_loss: 0.2774 - yolo_layer_3_loss: 0.0822\n",
            "\n",
            "Epoch 00005: loss improved from 1.40938 to 1.25792, saving model to raccoon.h5\n",
            "Epoch 6/100\n",
            "resizing:  448 448\n",
            "resizing:  320 320\n",
            "resizing:  448 448\n",
            "resizing:  384 384\n",
            "resizing:  288 288\n",
            "resizing:  320 320\n",
            "resizing:  384 384\n",
            "resizing:  352 352\n",
            "resizing:  320 320\n",
            "resizing:  448 448\n",
            "resizing:  320 320\n",
            "resizing:  288 288\n",
            "resizing:  448 448\n",
            "resizing:  416 416\n",
            "resizing:  416 416\n",
            "resizing:  448 448\n",
            "resizing:  448 448\n",
            "resizing:  448 448\n",
            "resizing:  352 352\n",
            "resizing:  384 384\n",
            "resizing:  320 320\n",
            " - 36s - loss: 1.1521 - yolo_layer_1_loss: 0.8257 - yolo_layer_2_loss: 0.3256 - yolo_layer_3_loss: 7.4359e-04\n",
            "\n",
            "Epoch 00006: loss improved from 1.25792 to 1.15208, saving model to raccoon.h5\n",
            "Epoch 7/100\n",
            "resizing:  448 448\n",
            "resizing:  288 288\n",
            "resizing:  352 352\n",
            "resizing:  288 288\n",
            "resizing:  352 352\n",
            "resizing:  288 288\n",
            "resizing:  320 320\n",
            "resizing:  352 352\n",
            "resizing:  384 384\n",
            "resizing:  288 288\n",
            "resizing:  352 352\n",
            "resizing:  288 288\n",
            "resizing:  416 416\n",
            "resizing:  416 416\n",
            "resizing:  384 384\n",
            "resizing:  352 352\n",
            "resizing:  288 288\n",
            "resizing:  320 320\n",
            "resizing:  288 288\n",
            "resizing:  320 320\n",
            " - 34s - loss: 1.0228 - yolo_layer_1_loss: 0.6824 - yolo_layer_2_loss: 0.2722 - yolo_layer_3_loss: 0.0682\n",
            "\n",
            "Epoch 00007: loss improved from 1.15208 to 1.02283, saving model to raccoon.h5\n",
            "Epoch 8/100\n",
            "resizing:  384 384\n",
            "resizing:  416 416\n",
            "resizing:  288 288\n",
            "resizing:  288 288\n",
            "resizing:  352 352\n",
            "resizing:  416 416\n",
            "resizing:  384 384\n",
            "resizing:  288 288\n",
            "resizing:  352 352\n",
            "resizing:  448 448\n",
            "resizing:  352 352\n",
            "resizing:  352 352\n",
            "resizing:  416 416\n",
            "resizing:  288 288\n",
            "resizing:  416 416\n",
            "resizing:  384 384\n",
            "resizing:  352 352\n",
            "resizing:  320 320\n",
            "resizing:  416 416\n",
            "resizing:  288 288\n",
            "resizing:  288 288\n",
            "resizing:  416 416\n",
            " - 34s - loss: 1.2883 - yolo_layer_1_loss: 0.7325 - yolo_layer_2_loss: 0.4527 - yolo_layer_3_loss: 0.1030\n",
            "\n",
            "Epoch 00008: loss did not improve from 1.02283\n",
            "Epoch 9/100\n",
            "resizing:  320 320\n",
            "resizing:  448 448\n",
            "resizing:  416 416\n",
            "resizing:  384 384\n",
            "resizing:  352 352\n",
            "resizing:  288 288\n",
            "resizing:  384 384\n",
            "resizing:  384 384\n",
            "resizing:  448 448\n",
            "resizing:  320 320\n",
            "resizing:  352 352\n",
            "resizing:  288 288\n",
            "resizing:  320 320\n",
            "resizing:  352 352\n",
            "resizing:  416 416\n",
            "resizing:  288 288\n",
            "resizing:  384 384\n",
            "resizing:  352 352\n",
            "resizing:  384 384\n",
            "resizing:  448 448\n",
            " - 34s - loss: 1.1694 - yolo_layer_1_loss: 0.7948 - yolo_layer_2_loss: 0.2234 - yolo_layer_3_loss: 0.1512\n",
            "\n",
            "Epoch 00009: loss did not improve from 1.02283\n",
            "\n",
            "Epoch 00009: ReduceLROnPlateau reducing learning rate to 9.999999747378752e-07.\n",
            "Epoch 10/100\n",
            "resizing:  352 352\n",
            "resizing:  320 320\n",
            "resizing:  448 448\n",
            "resizing:  288 288\n",
            "resizing:  416 416\n",
            "resizing:  352 352\n",
            "resizing:  352 352\n",
            "resizing:  448 448\n",
            "resizing:  288 288\n",
            "resizing:  320 320\n",
            "resizing:  352 352\n",
            "resizing:  384 384\n",
            "resizing:  416 416\n",
            "resizing:  416 416\n",
            "resizing:  320 320\n",
            "resizing:  352 352\n",
            "resizing:  416 416\n",
            "resizing:  288 288\n",
            "resizing:  384 384\n",
            "resizing:  352 352\n",
            "resizing:  448 448\n",
            " - 34s - loss: 1.1839 - yolo_layer_1_loss: 0.7845 - yolo_layer_2_loss: 0.3719 - yolo_layer_3_loss: 0.0275\n",
            "\n",
            "Epoch 00010: loss did not improve from 1.02283\n",
            "Epoch 11/100\n",
            "resizing:  352 352\n",
            "resizing:  416 416\n",
            "resizing:  352 352\n",
            "resizing:  416 416\n",
            "resizing:  352 352\n",
            "resizing:  352 352\n",
            "resizing:  384 384\n",
            "resizing:  288 288\n",
            "resizing:  416 416\n",
            "resizing:  448 448\n",
            "resizing:  288 288\n",
            "resizing:  352 352\n",
            "resizing:  448 448\n",
            "resizing:  320 320\n",
            "resizing:  416 416\n",
            "resizing:  288 288\n",
            "resizing:  320 320\n",
            "resizing:  384 384\n",
            "resizing:  384 384\n",
            "resizing:  320 320\n",
            "resizing:  288 288\n",
            "resizing:  384 384\n",
            " - 34s - loss: 1.3695 - yolo_layer_1_loss: 0.8838 - yolo_layer_2_loss: 0.4038 - yolo_layer_3_loss: 0.0820\n",
            "\n",
            "Epoch 00011: loss did not improve from 1.02283\n",
            "\n",
            "Epoch 00011: ReduceLROnPlateau reducing learning rate to 9.999999974752428e-08.\n",
            "Epoch 12/100\n",
            "resizing:  416 416\n",
            "resizing:  448 448\n",
            "resizing:  384 384\n",
            "resizing:  384 384\n",
            "resizing:  448 448\n",
            "resizing:  352 352\n",
            "resizing:  384 384\n",
            "resizing:  352 352\n",
            "resizing:  416 416\n",
            "resizing:  448 448\n",
            "resizing:  352 352\n",
            "resizing:  288 288\n",
            "resizing:  320 320\n",
            "resizing:  448 448\n",
            "resizing:  352 352\n",
            "resizing:  288 288\n",
            "resizing:  352 352\n",
            "resizing:  416 416\n",
            "resizing:  320 320\n",
            "resizing:  448 448\n",
            "resizing:  384 384\n",
            " - 34s - loss: 1.1445 - yolo_layer_1_loss: 0.6730 - yolo_layer_2_loss: 0.4176 - yolo_layer_3_loss: 0.0539\n",
            "\n",
            "Epoch 00012: loss did not improve from 1.02283\n",
            "Epoch 13/100\n",
            "resizing:  448 448\n",
            "resizing:  352 352\n",
            "resizing:  416 416\n",
            "resizing:  416 416\n",
            "resizing:  448 448\n",
            "resizing:  416 416\n",
            "resizing:  384 384\n",
            "resizing:  288 288\n",
            "resizing:  384 384\n",
            "resizing:  384 384\n",
            "resizing:  448 448\n",
            "resizing:  416 416\n",
            "resizing:  288 288\n",
            "resizing:  448 448\n",
            "resizing:  320 320\n",
            "resizing:  352 352\n",
            "resizing:  416 416\n",
            "resizing:  352 352\n",
            "resizing:  384 384\n",
            "resizing:  416 416\n",
            "resizing:  416 416\n",
            " - 35s - loss: 1.1872 - yolo_layer_1_loss: 0.8038 - yolo_layer_2_loss: 0.3278 - yolo_layer_3_loss: 0.0555\n",
            "\n",
            "Epoch 00013: loss did not improve from 1.02283\n",
            "\n",
            "Epoch 00013: ReduceLROnPlateau reducing learning rate to 1.0000000116860975e-08.\n",
            "Epoch 14/100\n",
            "resizing:  320 320\n",
            "resizing:  320 320\n",
            "resizing:  416 416\n",
            "resizing:  384 384\n",
            "resizing:  448 448\n",
            "resizing:  416 416\n",
            "resizing:  352 352\n",
            "resizing:  416 416\n",
            "resizing:  288 288\n",
            "resizing:  416 416\n",
            "resizing:  288 288\n",
            "resizing:  416 416\n",
            "resizing:  416 416\n",
            "resizing:  288 288\n",
            "resizing:  448 448\n",
            "resizing:  384 384\n",
            "resizing:  352 352\n",
            "resizing:  416 416\n",
            "resizing:  288 288\n",
            "resizing:  384 384\n",
            "resizing:  384 384\n",
            " - 35s - loss: 1.0449 - yolo_layer_1_loss: 0.6923 - yolo_layer_2_loss: 0.2404 - yolo_layer_3_loss: 0.1123\n",
            "\n",
            "Epoch 00014: loss did not improve from 1.02283\n",
            "Epoch 00014: early stopping\n",
            "raccoon: 1.0000\n",
            "mAP: 1.0000\n"
          ],
          "name": "stdout"
        }
      ]
    },
    {
      "cell_type": "code",
      "metadata": {
        "id": "3WvcmOsvlcKR",
        "colab_type": "code",
        "colab": {
          "base_uri": "https://localhost:8080/",
          "height": 323
        },
        "outputId": "4061d59a-8299-4c80-de7b-fed8c662eec8"
      },
      "source": [
        "!nvidia-smi\n"
      ],
      "execution_count": null,
      "outputs": [
        {
          "output_type": "stream",
          "text": [
            "Sun Apr  5 09:54:16 2020       \n",
            "+-----------------------------------------------------------------------------+\n",
            "| NVIDIA-SMI 440.64.00    Driver Version: 418.67       CUDA Version: 10.1     |\n",
            "|-------------------------------+----------------------+----------------------+\n",
            "| GPU  Name        Persistence-M| Bus-Id        Disp.A | Volatile Uncorr. ECC |\n",
            "| Fan  Temp  Perf  Pwr:Usage/Cap|         Memory-Usage | GPU-Util  Compute M. |\n",
            "|===============================+======================+======================|\n",
            "|   0  Tesla P100-PCIE...  Off  | 00000000:00:04.0 Off |                    0 |\n",
            "| N/A   70C    P0    47W / 250W |      0MiB / 16280MiB |      0%      Default |\n",
            "+-------------------------------+----------------------+----------------------+\n",
            "                                                                               \n",
            "+-----------------------------------------------------------------------------+\n",
            "| Processes:                                                       GPU Memory |\n",
            "|  GPU       PID   Type   Process name                             Usage      |\n",
            "|=============================================================================|\n",
            "|  No running processes found                                                 |\n",
            "+-----------------------------------------------------------------------------+\n"
          ],
          "name": "stdout"
        }
      ]
    },
    {
      "cell_type": "code",
      "metadata": {
        "id": "kqiFh9W8ocst",
        "colab_type": "code",
        "colab": {}
      },
      "source": [
        ""
      ],
      "execution_count": null,
      "outputs": []
    }
  ]
}
