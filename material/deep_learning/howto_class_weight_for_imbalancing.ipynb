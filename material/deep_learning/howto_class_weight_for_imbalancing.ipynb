{
  "nbformat": 4,
  "nbformat_minor": 0,
  "metadata": {
    "colab": {
      "name": "howto_class_weight_for_imbalancing.ipynb",
      "provenance": [],
      "toc_visible": true
    },
    "kernelspec": {
      "name": "python3",
      "display_name": "Python 3"
    },
    "language_info": {
      "name": "python"
    }
  },
  "cells": [
    {
      "cell_type": "markdown",
      "metadata": {
        "id": "EodMwo92Esim"
      },
      "source": [
        "# 초기 준비"
      ]
    },
    {
      "cell_type": "code",
      "metadata": {
        "id": "X0vOql-vEiVz"
      },
      "source": [
        "import tensorflow as tf\n",
        "from tensorflow import keras\n",
        "from tensorflow.keras import Sequential\n",
        "from tensorflow.keras.layers import Dense, Dropout\n",
        "\n",
        "import os\n",
        "import tempfile\n",
        "\n",
        "import matplotlib as mpl\n",
        "import matplotlib.pyplot as plt\n",
        "import numpy as np\n",
        "import pandas as pd\n",
        "import seaborn as sns\n",
        "\n",
        "import sklearn\n",
        "from sklearn.metrics import confusion_matrix\n",
        "from sklearn.model_selection import train_test_split\n",
        "from sklearn.preprocessing import StandardScaler"
      ],
      "execution_count": 1,
      "outputs": []
    },
    {
      "cell_type": "markdown",
      "metadata": {
        "id": "eP575mKjMlIH"
      },
      "source": [
        "최대 성능의 모델을 구하기 위해 early stopping 컬백을 만들어 둔다"
      ]
    },
    {
      "cell_type": "code",
      "metadata": {
        "id": "-AmPIZycE8eV"
      },
      "source": [
        "early_stopping = tf.keras.callbacks.EarlyStopping(\n",
        "    monitor='val_auc', \n",
        "    verbose=1,\n",
        "    patience=10,\n",
        "    mode='max',\n",
        "    restore_best_weights=True)"
      ],
      "execution_count": 2,
      "outputs": []
    },
    {
      "cell_type": "markdown",
      "metadata": {
        "id": "NxtUdbk-MjVe"
      },
      "source": [
        "matplot 관련\n",
        "\n",
        "그림 크기를 설정하고, 이후 사용할 color값을 구해 놓는다"
      ]
    },
    {
      "cell_type": "code",
      "metadata": {
        "id": "8NBaW9w5MhqH"
      },
      "source": [
        "mpl.rcParams['figure.figsize'] = (12, 10)\n",
        "colors = plt.rcParams['axes.prop_cycle'].by_key()['color']"
      ],
      "execution_count": 3,
      "outputs": []
    },
    {
      "cell_type": "markdown",
      "metadata": {
        "id": "jqMHPpy9FFNI"
      },
      "source": [
        "# 데이터 준비"
      ]
    },
    {
      "cell_type": "code",
      "metadata": {
        "colab": {
          "base_uri": "https://localhost:8080/",
          "height": 224
        },
        "id": "tYXSHLdSC5wO",
        "outputId": "856f0cc6-8b54-4039-bdfe-3a6f8bc93d23"
      },
      "source": [
        "raw_df = pd.read_csv('https://storage.googleapis.com/download.tensorflow.org/data/creditcard.csv')\n",
        "raw_df.head()"
      ],
      "execution_count": 4,
      "outputs": [
        {
          "output_type": "execute_result",
          "data": {
            "text/html": [
              "<div>\n",
              "<style scoped>\n",
              "    .dataframe tbody tr th:only-of-type {\n",
              "        vertical-align: middle;\n",
              "    }\n",
              "\n",
              "    .dataframe tbody tr th {\n",
              "        vertical-align: top;\n",
              "    }\n",
              "\n",
              "    .dataframe thead th {\n",
              "        text-align: right;\n",
              "    }\n",
              "</style>\n",
              "<table border=\"1\" class=\"dataframe\">\n",
              "  <thead>\n",
              "    <tr style=\"text-align: right;\">\n",
              "      <th></th>\n",
              "      <th>Time</th>\n",
              "      <th>V1</th>\n",
              "      <th>V2</th>\n",
              "      <th>V3</th>\n",
              "      <th>V4</th>\n",
              "      <th>V5</th>\n",
              "      <th>V6</th>\n",
              "      <th>V7</th>\n",
              "      <th>V8</th>\n",
              "      <th>V9</th>\n",
              "      <th>V10</th>\n",
              "      <th>V11</th>\n",
              "      <th>V12</th>\n",
              "      <th>V13</th>\n",
              "      <th>V14</th>\n",
              "      <th>V15</th>\n",
              "      <th>V16</th>\n",
              "      <th>V17</th>\n",
              "      <th>V18</th>\n",
              "      <th>V19</th>\n",
              "      <th>V20</th>\n",
              "      <th>V21</th>\n",
              "      <th>V22</th>\n",
              "      <th>V23</th>\n",
              "      <th>V24</th>\n",
              "      <th>V25</th>\n",
              "      <th>V26</th>\n",
              "      <th>V27</th>\n",
              "      <th>V28</th>\n",
              "      <th>Amount</th>\n",
              "      <th>Class</th>\n",
              "    </tr>\n",
              "  </thead>\n",
              "  <tbody>\n",
              "    <tr>\n",
              "      <th>0</th>\n",
              "      <td>0.0</td>\n",
              "      <td>-1.359807</td>\n",
              "      <td>-0.072781</td>\n",
              "      <td>2.536347</td>\n",
              "      <td>1.378155</td>\n",
              "      <td>-0.338321</td>\n",
              "      <td>0.462388</td>\n",
              "      <td>0.239599</td>\n",
              "      <td>0.098698</td>\n",
              "      <td>0.363787</td>\n",
              "      <td>0.090794</td>\n",
              "      <td>-0.551600</td>\n",
              "      <td>-0.617801</td>\n",
              "      <td>-0.991390</td>\n",
              "      <td>-0.311169</td>\n",
              "      <td>1.468177</td>\n",
              "      <td>-0.470401</td>\n",
              "      <td>0.207971</td>\n",
              "      <td>0.025791</td>\n",
              "      <td>0.403993</td>\n",
              "      <td>0.251412</td>\n",
              "      <td>-0.018307</td>\n",
              "      <td>0.277838</td>\n",
              "      <td>-0.110474</td>\n",
              "      <td>0.066928</td>\n",
              "      <td>0.128539</td>\n",
              "      <td>-0.189115</td>\n",
              "      <td>0.133558</td>\n",
              "      <td>-0.021053</td>\n",
              "      <td>149.62</td>\n",
              "      <td>0</td>\n",
              "    </tr>\n",
              "    <tr>\n",
              "      <th>1</th>\n",
              "      <td>0.0</td>\n",
              "      <td>1.191857</td>\n",
              "      <td>0.266151</td>\n",
              "      <td>0.166480</td>\n",
              "      <td>0.448154</td>\n",
              "      <td>0.060018</td>\n",
              "      <td>-0.082361</td>\n",
              "      <td>-0.078803</td>\n",
              "      <td>0.085102</td>\n",
              "      <td>-0.255425</td>\n",
              "      <td>-0.166974</td>\n",
              "      <td>1.612727</td>\n",
              "      <td>1.065235</td>\n",
              "      <td>0.489095</td>\n",
              "      <td>-0.143772</td>\n",
              "      <td>0.635558</td>\n",
              "      <td>0.463917</td>\n",
              "      <td>-0.114805</td>\n",
              "      <td>-0.183361</td>\n",
              "      <td>-0.145783</td>\n",
              "      <td>-0.069083</td>\n",
              "      <td>-0.225775</td>\n",
              "      <td>-0.638672</td>\n",
              "      <td>0.101288</td>\n",
              "      <td>-0.339846</td>\n",
              "      <td>0.167170</td>\n",
              "      <td>0.125895</td>\n",
              "      <td>-0.008983</td>\n",
              "      <td>0.014724</td>\n",
              "      <td>2.69</td>\n",
              "      <td>0</td>\n",
              "    </tr>\n",
              "    <tr>\n",
              "      <th>2</th>\n",
              "      <td>1.0</td>\n",
              "      <td>-1.358354</td>\n",
              "      <td>-1.340163</td>\n",
              "      <td>1.773209</td>\n",
              "      <td>0.379780</td>\n",
              "      <td>-0.503198</td>\n",
              "      <td>1.800499</td>\n",
              "      <td>0.791461</td>\n",
              "      <td>0.247676</td>\n",
              "      <td>-1.514654</td>\n",
              "      <td>0.207643</td>\n",
              "      <td>0.624501</td>\n",
              "      <td>0.066084</td>\n",
              "      <td>0.717293</td>\n",
              "      <td>-0.165946</td>\n",
              "      <td>2.345865</td>\n",
              "      <td>-2.890083</td>\n",
              "      <td>1.109969</td>\n",
              "      <td>-0.121359</td>\n",
              "      <td>-2.261857</td>\n",
              "      <td>0.524980</td>\n",
              "      <td>0.247998</td>\n",
              "      <td>0.771679</td>\n",
              "      <td>0.909412</td>\n",
              "      <td>-0.689281</td>\n",
              "      <td>-0.327642</td>\n",
              "      <td>-0.139097</td>\n",
              "      <td>-0.055353</td>\n",
              "      <td>-0.059752</td>\n",
              "      <td>378.66</td>\n",
              "      <td>0</td>\n",
              "    </tr>\n",
              "    <tr>\n",
              "      <th>3</th>\n",
              "      <td>1.0</td>\n",
              "      <td>-0.966272</td>\n",
              "      <td>-0.185226</td>\n",
              "      <td>1.792993</td>\n",
              "      <td>-0.863291</td>\n",
              "      <td>-0.010309</td>\n",
              "      <td>1.247203</td>\n",
              "      <td>0.237609</td>\n",
              "      <td>0.377436</td>\n",
              "      <td>-1.387024</td>\n",
              "      <td>-0.054952</td>\n",
              "      <td>-0.226487</td>\n",
              "      <td>0.178228</td>\n",
              "      <td>0.507757</td>\n",
              "      <td>-0.287924</td>\n",
              "      <td>-0.631418</td>\n",
              "      <td>-1.059647</td>\n",
              "      <td>-0.684093</td>\n",
              "      <td>1.965775</td>\n",
              "      <td>-1.232622</td>\n",
              "      <td>-0.208038</td>\n",
              "      <td>-0.108300</td>\n",
              "      <td>0.005274</td>\n",
              "      <td>-0.190321</td>\n",
              "      <td>-1.175575</td>\n",
              "      <td>0.647376</td>\n",
              "      <td>-0.221929</td>\n",
              "      <td>0.062723</td>\n",
              "      <td>0.061458</td>\n",
              "      <td>123.50</td>\n",
              "      <td>0</td>\n",
              "    </tr>\n",
              "    <tr>\n",
              "      <th>4</th>\n",
              "      <td>2.0</td>\n",
              "      <td>-1.158233</td>\n",
              "      <td>0.877737</td>\n",
              "      <td>1.548718</td>\n",
              "      <td>0.403034</td>\n",
              "      <td>-0.407193</td>\n",
              "      <td>0.095921</td>\n",
              "      <td>0.592941</td>\n",
              "      <td>-0.270533</td>\n",
              "      <td>0.817739</td>\n",
              "      <td>0.753074</td>\n",
              "      <td>-0.822843</td>\n",
              "      <td>0.538196</td>\n",
              "      <td>1.345852</td>\n",
              "      <td>-1.119670</td>\n",
              "      <td>0.175121</td>\n",
              "      <td>-0.451449</td>\n",
              "      <td>-0.237033</td>\n",
              "      <td>-0.038195</td>\n",
              "      <td>0.803487</td>\n",
              "      <td>0.408542</td>\n",
              "      <td>-0.009431</td>\n",
              "      <td>0.798278</td>\n",
              "      <td>-0.137458</td>\n",
              "      <td>0.141267</td>\n",
              "      <td>-0.206010</td>\n",
              "      <td>0.502292</td>\n",
              "      <td>0.219422</td>\n",
              "      <td>0.215153</td>\n",
              "      <td>69.99</td>\n",
              "      <td>0</td>\n",
              "    </tr>\n",
              "  </tbody>\n",
              "</table>\n",
              "</div>"
            ],
            "text/plain": [
              "   Time        V1        V2        V3  ...       V27       V28  Amount  Class\n",
              "0   0.0 -1.359807 -0.072781  2.536347  ...  0.133558 -0.021053  149.62      0\n",
              "1   0.0  1.191857  0.266151  0.166480  ... -0.008983  0.014724    2.69      0\n",
              "2   1.0 -1.358354 -1.340163  1.773209  ... -0.055353 -0.059752  378.66      0\n",
              "3   1.0 -0.966272 -0.185226  1.792993  ...  0.062723  0.061458  123.50      0\n",
              "4   2.0 -1.158233  0.877737  1.548718  ...  0.219422  0.215153   69.99      0\n",
              "\n",
              "[5 rows x 31 columns]"
            ]
          },
          "metadata": {
            "tags": []
          },
          "execution_count": 4
        }
      ]
    },
    {
      "cell_type": "markdown",
      "metadata": {
        "id": "0FOpx83nE8tP"
      },
      "source": [
        "## 불균형 비"
      ]
    },
    {
      "cell_type": "code",
      "metadata": {
        "colab": {
          "base_uri": "https://localhost:8080/"
        },
        "id": "0hMBWKwvE8tQ",
        "outputId": "d22c2bf1-2cc9-4792-f9b1-db43183c36af"
      },
      "source": [
        "neg, pos = np.bincount(raw_df['Class'])\n",
        "total = neg + pos\n",
        "print(\"pos =\", pos)\n",
        "print(\"neg =\", neg)\n",
        "print(\"pos ratio =\", pos / (pos+neg) * 100)"
      ],
      "execution_count": 5,
      "outputs": [
        {
          "output_type": "stream",
          "text": [
            "pos = 492\n",
            "neg = 284315\n",
            "pos ratio = 0.1727485630620034\n"
          ],
          "name": "stdout"
        }
      ]
    },
    {
      "cell_type": "markdown",
      "metadata": {
        "id": "zUSfbH6CE8tV"
      },
      "source": [
        "## 데이터 분리"
      ]
    },
    {
      "cell_type": "code",
      "metadata": {
        "colab": {
          "base_uri": "https://localhost:8080/"
        },
        "id": "bmG96V0-E8tV",
        "outputId": "4673cd98-57d2-4c23-97f6-98cfb94fbc7b"
      },
      "source": [
        "all_x = np.array(raw_df.loc[:, raw_df.columns!='Class'])\n",
        "all_y = np.array(raw_df.loc[:, raw_df.columns=='Class']).squeeze()\n",
        "\n",
        "indices = np.arange(all_x.shape[0])\n",
        "np.random.shuffle(indices)\n",
        "all_x = all_x[indices]\n",
        "all_y = all_y[indices]\n",
        "\n",
        "train_x, test_x, train_y, test_y = train_test_split(all_x, all_y, test_size=0.2)\n",
        "\n",
        "print(train_x.shape)\n",
        "print(train_y.shape)\n",
        "print(test_x.shape)\n",
        "print(test_y.shape)\n"
      ],
      "execution_count": 6,
      "outputs": [
        {
          "output_type": "stream",
          "text": [
            "(227845, 30)\n",
            "(227845,)\n",
            "(56962, 30)\n",
            "(56962,)\n"
          ],
          "name": "stdout"
        }
      ]
    },
    {
      "cell_type": "markdown",
      "metadata": {
        "id": "geycwNEME8tW"
      },
      "source": [
        "## Standardization\n",
        "\n",
        "평균 0, 표준편차 1로 stradardization 실행"
      ]
    },
    {
      "cell_type": "code",
      "metadata": {
        "id": "Ud4WEUERE8tW"
      },
      "source": [
        "scaler = StandardScaler()\n",
        "scaler.fit(all_x)\n",
        "\n",
        "train_x = scaler.transform(train_x)\n",
        "test_x = scaler.transform(test_x)"
      ],
      "execution_count": 7,
      "outputs": []
    },
    {
      "cell_type": "markdown",
      "metadata": {
        "id": "GxEuIkCJOOr-"
      },
      "source": [
        "# 기본 모델"
      ]
    },
    {
      "cell_type": "markdown",
      "metadata": {
        "id": "wF4XLI-PNPzi"
      },
      "source": [
        "## 모델 생성"
      ]
    },
    {
      "cell_type": "code",
      "metadata": {
        "id": "IfUhSWZDFlre"
      },
      "source": [
        "base_model = Sequential()\n",
        "base_model.add(Dense(16, activation='relu', input_shape=(train_x.shape[-1],)))\n",
        "base_model.add(Dropout(0.5))\n",
        "base_model.add(Dense(1, activation=\"sigmoid\"))\n",
        "\n",
        "base_model.compile(optimizer=\"Adam\", loss=\"binary_crossentropy\", metrics=['acc', 'AUC'])"
      ],
      "execution_count": 8,
      "outputs": []
    },
    {
      "cell_type": "markdown",
      "metadata": {
        "id": "kXoWXGmtNUyC"
      },
      "source": [
        "## 학습"
      ]
    },
    {
      "cell_type": "code",
      "metadata": {
        "colab": {
          "base_uri": "https://localhost:8080/"
        },
        "id": "oCvdsOyVJ7-U",
        "outputId": "153d2d15-0258-4930-97c1-6483738ce88f"
      },
      "source": [
        "base_line_history = base_model.fit(train_x, train_y, epochs=30, \n",
        "                              batch_size=1024, \n",
        "                              validation_split=0.2,\n",
        "                              callbacks=[early_stopping])"
      ],
      "execution_count": 9,
      "outputs": [
        {
          "output_type": "stream",
          "text": [
            "Epoch 1/30\n",
            "179/179 [==============================] - 2s 7ms/step - loss: 0.3038 - acc: 0.9069 - auc: 0.3826 - val_loss: 0.0770 - val_acc: 0.9986 - val_auc: 0.6088\n",
            "Epoch 2/30\n",
            "179/179 [==============================] - 1s 6ms/step - loss: 0.0990 - acc: 0.9916 - auc: 0.7140 - val_loss: 0.0207 - val_acc: 0.9989 - val_auc: 0.8136\n",
            "Epoch 3/30\n",
            "179/179 [==============================] - 1s 5ms/step - loss: 0.0538 - acc: 0.9970 - auc: 0.8276 - val_loss: 0.0092 - val_acc: 0.9992 - val_auc: 0.8813\n",
            "Epoch 4/30\n",
            "179/179 [==============================] - 1s 6ms/step - loss: 0.0377 - acc: 0.9983 - auc: 0.8670 - val_loss: 0.0058 - val_acc: 0.9992 - val_auc: 0.9041\n",
            "Epoch 5/30\n",
            "179/179 [==============================] - 1s 6ms/step - loss: 0.0293 - acc: 0.9987 - auc: 0.8787 - val_loss: 0.0044 - val_acc: 0.9993 - val_auc: 0.9183\n",
            "Epoch 6/30\n",
            "179/179 [==============================] - 1s 7ms/step - loss: 0.0242 - acc: 0.9989 - auc: 0.8783 - val_loss: 0.0036 - val_acc: 0.9993 - val_auc: 0.9268\n",
            "Epoch 7/30\n",
            "179/179 [==============================] - 1s 7ms/step - loss: 0.0207 - acc: 0.9990 - auc: 0.8910 - val_loss: 0.0032 - val_acc: 0.9994 - val_auc: 0.9402\n",
            "Epoch 8/30\n",
            "179/179 [==============================] - 1s 7ms/step - loss: 0.0180 - acc: 0.9990 - auc: 0.9025 - val_loss: 0.0030 - val_acc: 0.9994 - val_auc: 0.9404\n",
            "Epoch 9/30\n",
            "179/179 [==============================] - 1s 7ms/step - loss: 0.0158 - acc: 0.9991 - auc: 0.9046 - val_loss: 0.0028 - val_acc: 0.9995 - val_auc: 0.9405\n",
            "Epoch 10/30\n",
            "179/179 [==============================] - 1s 7ms/step - loss: 0.0148 - acc: 0.9992 - auc: 0.9069 - val_loss: 0.0027 - val_acc: 0.9994 - val_auc: 0.9471\n",
            "Epoch 11/30\n",
            "179/179 [==============================] - 1s 7ms/step - loss: 0.0138 - acc: 0.9992 - auc: 0.9117 - val_loss: 0.0027 - val_acc: 0.9995 - val_auc: 0.9471\n",
            "Epoch 12/30\n",
            "179/179 [==============================] - 1s 7ms/step - loss: 0.0125 - acc: 0.9992 - auc: 0.9149 - val_loss: 0.0026 - val_acc: 0.9995 - val_auc: 0.9472\n",
            "Epoch 13/30\n",
            "179/179 [==============================] - 1s 7ms/step - loss: 0.0116 - acc: 0.9992 - auc: 0.9174 - val_loss: 0.0025 - val_acc: 0.9995 - val_auc: 0.9537\n",
            "Epoch 14/30\n",
            "179/179 [==============================] - 1s 8ms/step - loss: 0.0107 - acc: 0.9992 - auc: 0.9162 - val_loss: 0.0025 - val_acc: 0.9995 - val_auc: 0.9537\n",
            "Epoch 15/30\n",
            "179/179 [==============================] - 1s 7ms/step - loss: 0.0105 - acc: 0.9992 - auc: 0.9105 - val_loss: 0.0025 - val_acc: 0.9995 - val_auc: 0.9537\n",
            "Epoch 16/30\n",
            "179/179 [==============================] - 1s 7ms/step - loss: 0.0098 - acc: 0.9992 - auc: 0.9208 - val_loss: 0.0025 - val_acc: 0.9995 - val_auc: 0.9537\n",
            "Epoch 17/30\n",
            "179/179 [==============================] - 1s 8ms/step - loss: 0.0091 - acc: 0.9992 - auc: 0.9177 - val_loss: 0.0025 - val_acc: 0.9995 - val_auc: 0.9538\n",
            "Epoch 18/30\n",
            "179/179 [==============================] - 1s 7ms/step - loss: 0.0086 - acc: 0.9992 - auc: 0.9190 - val_loss: 0.0025 - val_acc: 0.9995 - val_auc: 0.9603\n",
            "Epoch 19/30\n",
            "179/179 [==============================] - 1s 7ms/step - loss: 0.0084 - acc: 0.9992 - auc: 0.9235 - val_loss: 0.0025 - val_acc: 0.9995 - val_auc: 0.9603\n",
            "Epoch 20/30\n",
            "179/179 [==============================] - 1s 7ms/step - loss: 0.0080 - acc: 0.9992 - auc: 0.9236 - val_loss: 0.0024 - val_acc: 0.9995 - val_auc: 0.9603\n",
            "Epoch 21/30\n",
            "179/179 [==============================] - 1s 6ms/step - loss: 0.0076 - acc: 0.9992 - auc: 0.9333 - val_loss: 0.0024 - val_acc: 0.9996 - val_auc: 0.9603\n",
            "Epoch 22/30\n",
            "179/179 [==============================] - 1s 6ms/step - loss: 0.0073 - acc: 0.9993 - auc: 0.9338 - val_loss: 0.0024 - val_acc: 0.9995 - val_auc: 0.9538\n",
            "Epoch 23/30\n",
            "179/179 [==============================] - 1s 6ms/step - loss: 0.0073 - acc: 0.9993 - auc: 0.9214 - val_loss: 0.0023 - val_acc: 0.9995 - val_auc: 0.9603\n",
            "Epoch 24/30\n",
            "179/179 [==============================] - 1s 7ms/step - loss: 0.0070 - acc: 0.9992 - auc: 0.9314 - val_loss: 0.0023 - val_acc: 0.9995 - val_auc: 0.9603\n",
            "Epoch 25/30\n",
            "179/179 [==============================] - 1s 7ms/step - loss: 0.0068 - acc: 0.9992 - auc: 0.9221 - val_loss: 0.0023 - val_acc: 0.9995 - val_auc: 0.9603\n",
            "Epoch 26/30\n",
            "179/179 [==============================] - 1s 7ms/step - loss: 0.0065 - acc: 0.9992 - auc: 0.9256 - val_loss: 0.0023 - val_acc: 0.9995 - val_auc: 0.9603\n",
            "Epoch 27/30\n",
            "179/179 [==============================] - 1s 7ms/step - loss: 0.0063 - acc: 0.9992 - auc: 0.9258 - val_loss: 0.0023 - val_acc: 0.9996 - val_auc: 0.9537\n",
            "Epoch 28/30\n",
            "179/179 [==============================] - 1s 6ms/step - loss: 0.0062 - acc: 0.9992 - auc: 0.9259 - val_loss: 0.0023 - val_acc: 0.9995 - val_auc: 0.9603\n",
            "Epoch 29/30\n",
            "179/179 [==============================] - 1s 6ms/step - loss: 0.0063 - acc: 0.9992 - auc: 0.9385 - val_loss: 0.0023 - val_acc: 0.9995 - val_auc: 0.9537\n",
            "Restoring model weights from the end of the best epoch.\n",
            "Epoch 00029: early stopping\n"
          ],
          "name": "stdout"
        }
      ]
    },
    {
      "cell_type": "code",
      "metadata": {
        "colab": {
          "base_uri": "https://localhost:8080/",
          "height": 592
        },
        "id": "qc9zGr78NgIm",
        "outputId": "d472f0f6-f236-415d-dd35-4d27ea2ddd59"
      },
      "source": [
        "plt.plot(base_line_history.history['loss'])\n",
        "plt.plot(base_line_history.history['val_loss'])\n",
        "plt.show()"
      ],
      "execution_count": 10,
      "outputs": [
        {
          "output_type": "display_data",
          "data": {
            "image/png": "[encoded data removed]",
            "text/plain": [
              "<Figure size 864x720 with 1 Axes>"
            ]
          },
          "metadata": {
            "tags": [],
            "needs_background": "light"
          }
        }
      ]
    },
    {
      "cell_type": "markdown",
      "metadata": {
        "id": "d2bNASoKNp_H"
      },
      "source": [
        "# 클래스 가중치 적용"
      ]
    },
    {
      "cell_type": "markdown",
      "metadata": {
        "id": "UC2MFr33OYEG"
      },
      "source": [
        "## 가중치 계산\n"
      ]
    },
    {
      "cell_type": "markdown",
      "metadata": {
        "id": "XrUF4OnuTXAy"
      },
      "source": [
        "계산된 class_weight는 아래와 같이 계산된 값과 같다.\n",
        "```\n",
        "total = (pos + neg)\n",
        "weight_for_0 = (1 / neg) * total/2\n",
        "weight_for_1 = (1 / pos) * total/2\n",
        "```"
      ]
    },
    {
      "cell_type": "code",
      "metadata": {
        "colab": {
          "base_uri": "https://localhost:8080/"
        },
        "id": "3MM1TLRSR4rW",
        "outputId": "f4e1adf1-e67a-4d23-acd0-693f0762fa25"
      },
      "source": [
        "from sklearn.utils.class_weight import compute_class_weight\n",
        "class_weight = compute_class_weight(class_weight=\"balanced\" , \n",
        "                     classes=np.unique(all_y), \n",
        "                     y=all_y.squeeze())\n",
        "print(class_weight)"
      ],
      "execution_count": 11,
      "outputs": [
        {
          "output_type": "stream",
          "text": [
            "[  0.50086524 289.43800813]\n"
          ],
          "name": "stdout"
        }
      ]
    },
    {
      "cell_type": "code",
      "metadata": {
        "colab": {
          "base_uri": "https://localhost:8080/"
        },
        "id": "ySlJBmKhUQqZ",
        "outputId": "fe93c644-6069-409c-9526-743a7d68b3b2"
      },
      "source": [
        "# Scaling by total/2 helps keep the loss to a similar magnitude.\n",
        "# The sum of the weights of all examples stays the same.\n",
        "weight_for_0 = (1 / neg)*(total)/2.0 \n",
        "weight_for_1 = (1 / pos)*(total)/2.0\n",
        "\n",
        "class_weight = {0: weight_for_0, 1: weight_for_1}\n",
        "\n",
        "print('Weight for class 0: {:.2f}'.format(weight_for_0))\n",
        "print('Weight for class 1: {:.2f}'.format(weight_for_1))"
      ],
      "execution_count": 12,
      "outputs": [
        {
          "output_type": "stream",
          "text": [
            "Weight for class 0: 0.50\n",
            "Weight for class 1: 289.44\n"
          ],
          "name": "stdout"
        }
      ]
    },
    {
      "cell_type": "markdown",
      "metadata": {
        "id": "Uoce01eNN-qk"
      },
      "source": [
        "## 모델 생성"
      ]
    },
    {
      "cell_type": "code",
      "metadata": {
        "id": "aB_3AdbqN9rE"
      },
      "source": [
        "weighted_model = Sequential()\n",
        "weighted_model.add(Dense(16, activation='relu', input_shape=(train_x.shape[-1],)))\n",
        "weighted_model.add(Dropout(0.5))\n",
        "weighted_model.add(Dense(1, activation=\"sigmoid\"))\n",
        "\n",
        "weighted_model.compile(optimizer=\"Adam\", loss=\"binary_crossentropy\", metrics=['acc', 'AUC'])"
      ],
      "execution_count": 13,
      "outputs": []
    },
    {
      "cell_type": "markdown",
      "metadata": {
        "id": "7RdzigmiN9rE"
      },
      "source": [
        "## 학습"
      ]
    },
    {
      "cell_type": "code",
      "metadata": {
        "colab": {
          "base_uri": "https://localhost:8080/"
        },
        "id": "prktgKB2N9rE",
        "outputId": "a1836371-ba8a-425e-ec61-f23c060646fe"
      },
      "source": [
        "class_weighted_history = weighted_model.fit(train_x, train_y, epochs=30, \n",
        "                              batch_size=1024, \n",
        "                              validation_split=0.2,\n",
        "                              callbacks=[early_stopping])"
      ],
      "execution_count": 14,
      "outputs": [
        {
          "output_type": "stream",
          "text": [
            "Epoch 1/30\n",
            "179/179 [==============================] - 2s 7ms/step - loss: 0.3807 - acc: 0.8532 - auc: 0.2795 - val_loss: 0.1245 - val_acc: 0.9980 - val_auc: 0.1271\n",
            "Epoch 2/30\n",
            "179/179 [==============================] - 1s 6ms/step - loss: 0.1464 - acc: 0.9854 - auc: 0.5123 - val_loss: 0.0375 - val_acc: 0.9986 - val_auc: 0.7605\n",
            "Epoch 3/30\n",
            "179/179 [==============================] - 1s 6ms/step - loss: 0.0840 - acc: 0.9971 - auc: 0.7520 - val_loss: 0.0165 - val_acc: 0.9989 - val_auc: 0.8869\n",
            "Epoch 4/30\n",
            "179/179 [==============================] - 1s 6ms/step - loss: 0.0597 - acc: 0.9984 - auc: 0.8387 - val_loss: 0.0094 - val_acc: 0.9990 - val_auc: 0.9272\n",
            "Epoch 5/30\n",
            "179/179 [==============================] - 1s 6ms/step - loss: 0.0457 - acc: 0.9988 - auc: 0.8647 - val_loss: 0.0063 - val_acc: 0.9991 - val_auc: 0.9351\n",
            "Epoch 6/30\n",
            "179/179 [==============================] - 1s 6ms/step - loss: 0.0357 - acc: 0.9989 - auc: 0.8692 - val_loss: 0.0048 - val_acc: 0.9991 - val_auc: 0.9295\n",
            "Epoch 7/30\n",
            "179/179 [==============================] - 1s 6ms/step - loss: 0.0287 - acc: 0.9990 - auc: 0.8904 - val_loss: 0.0040 - val_acc: 0.9992 - val_auc: 0.9322\n",
            "Epoch 8/30\n",
            "179/179 [==============================] - 1s 6ms/step - loss: 0.0244 - acc: 0.9990 - auc: 0.8796 - val_loss: 0.0035 - val_acc: 0.9992 - val_auc: 0.9331\n",
            "Epoch 9/30\n",
            "179/179 [==============================] - 1s 6ms/step - loss: 0.0203 - acc: 0.9991 - auc: 0.8993 - val_loss: 0.0033 - val_acc: 0.9993 - val_auc: 0.9270\n",
            "Epoch 10/30\n",
            "179/179 [==============================] - 1s 6ms/step - loss: 0.0178 - acc: 0.9990 - auc: 0.8997 - val_loss: 0.0031 - val_acc: 0.9993 - val_auc: 0.9272\n",
            "Epoch 11/30\n",
            "179/179 [==============================] - 1s 6ms/step - loss: 0.0162 - acc: 0.9990 - auc: 0.8970 - val_loss: 0.0030 - val_acc: 0.9994 - val_auc: 0.9338\n",
            "Epoch 12/30\n",
            "179/179 [==============================] - 1s 5ms/step - loss: 0.0147 - acc: 0.9990 - auc: 0.8986 - val_loss: 0.0029 - val_acc: 0.9995 - val_auc: 0.9339\n",
            "Epoch 13/30\n",
            "179/179 [==============================] - 1s 7ms/step - loss: 0.0132 - acc: 0.9990 - auc: 0.9002 - val_loss: 0.0028 - val_acc: 0.9995 - val_auc: 0.9405\n",
            "Epoch 14/30\n",
            "179/179 [==============================] - 1s 7ms/step - loss: 0.0124 - acc: 0.9991 - auc: 0.8949 - val_loss: 0.0027 - val_acc: 0.9995 - val_auc: 0.9405\n",
            "Epoch 15/30\n",
            "179/179 [==============================] - 1s 7ms/step - loss: 0.0111 - acc: 0.9992 - auc: 0.9034 - val_loss: 0.0026 - val_acc: 0.9995 - val_auc: 0.9470\n",
            "Epoch 16/30\n",
            "179/179 [==============================] - 1s 7ms/step - loss: 0.0105 - acc: 0.9991 - auc: 0.9088 - val_loss: 0.0026 - val_acc: 0.9995 - val_auc: 0.9536\n",
            "Epoch 17/30\n",
            "179/179 [==============================] - 1s 7ms/step - loss: 0.0094 - acc: 0.9991 - auc: 0.9211 - val_loss: 0.0026 - val_acc: 0.9995 - val_auc: 0.9536\n",
            "Epoch 18/30\n",
            "179/179 [==============================] - 1s 6ms/step - loss: 0.0090 - acc: 0.9991 - auc: 0.9070 - val_loss: 0.0025 - val_acc: 0.9995 - val_auc: 0.9537\n",
            "Epoch 19/30\n",
            "179/179 [==============================] - 1s 6ms/step - loss: 0.0086 - acc: 0.9990 - auc: 0.9157 - val_loss: 0.0025 - val_acc: 0.9995 - val_auc: 0.9537\n",
            "Epoch 20/30\n",
            "179/179 [==============================] - 1s 6ms/step - loss: 0.0082 - acc: 0.9991 - auc: 0.9289 - val_loss: 0.0025 - val_acc: 0.9995 - val_auc: 0.9537\n",
            "Epoch 21/30\n",
            "179/179 [==============================] - 1s 6ms/step - loss: 0.0077 - acc: 0.9991 - auc: 0.9246 - val_loss: 0.0025 - val_acc: 0.9995 - val_auc: 0.9537\n",
            "Epoch 22/30\n",
            "179/179 [==============================] - 1s 6ms/step - loss: 0.0077 - acc: 0.9990 - auc: 0.9250 - val_loss: 0.0025 - val_acc: 0.9995 - val_auc: 0.9537\n",
            "Epoch 23/30\n",
            "179/179 [==============================] - 1s 6ms/step - loss: 0.0073 - acc: 0.9992 - auc: 0.9236 - val_loss: 0.0024 - val_acc: 0.9995 - val_auc: 0.9537\n",
            "Epoch 24/30\n",
            "179/179 [==============================] - 1s 6ms/step - loss: 0.0068 - acc: 0.9991 - auc: 0.9292 - val_loss: 0.0024 - val_acc: 0.9996 - val_auc: 0.9537\n",
            "Epoch 25/30\n",
            "179/179 [==============================] - 1s 6ms/step - loss: 0.0068 - acc: 0.9991 - auc: 0.9280 - val_loss: 0.0024 - val_acc: 0.9995 - val_auc: 0.9537\n",
            "Epoch 26/30\n",
            "179/179 [==============================] - 1s 6ms/step - loss: 0.0066 - acc: 0.9990 - auc: 0.9283 - val_loss: 0.0024 - val_acc: 0.9995 - val_auc: 0.9537\n",
            "Epoch 27/30\n",
            "179/179 [==============================] - 1s 6ms/step - loss: 0.0065 - acc: 0.9991 - auc: 0.9191 - val_loss: 0.0024 - val_acc: 0.9996 - val_auc: 0.9537\n",
            "Epoch 28/30\n",
            "179/179 [==============================] - 1s 5ms/step - loss: 0.0063 - acc: 0.9991 - auc: 0.9317 - val_loss: 0.0024 - val_acc: 0.9995 - val_auc: 0.9537\n",
            "Epoch 29/30\n",
            "179/179 [==============================] - 1s 6ms/step - loss: 0.0063 - acc: 0.9991 - auc: 0.9303 - val_loss: 0.0024 - val_acc: 0.9995 - val_auc: 0.9537\n",
            "Epoch 30/30\n",
            "179/179 [==============================] - 1s 6ms/step - loss: 0.0059 - acc: 0.9991 - auc: 0.9320 - val_loss: 0.0024 - val_acc: 0.9996 - val_auc: 0.9537\n"
          ],
          "name": "stdout"
        }
      ]
    },
    {
      "cell_type": "code",
      "metadata": {
        "colab": {
          "base_uri": "https://localhost:8080/",
          "height": 592
        },
        "id": "qOWnFSBtN4Rg",
        "outputId": "7c026a5f-d40b-48a8-b2bb-261e2ae788c7"
      },
      "source": [
        "plt.plot(class_weighted_history.history['loss'])\n",
        "plt.plot(class_weighted_history.history['val_loss'])\n",
        "plt.show()"
      ],
      "execution_count": 15,
      "outputs": [
        {
          "output_type": "display_data",
          "data": {
            "image/png": "[encoded data removed]",
            "text/plain": [
              "<Figure size 864x720 with 1 Axes>"
            ]
          },
          "metadata": {
            "tags": [],
            "needs_background": "light"
          }
        }
      ]
    },
    {
      "cell_type": "markdown",
      "metadata": {
        "id": "llTaRzzqOnMP"
      },
      "source": [
        "# 비교"
      ]
    },
    {
      "cell_type": "code",
      "metadata": {
        "id": "wiU26gwrJgSJ"
      },
      "source": [
        "def plot_roc(name, labels, predictions, **kwargs):\n",
        "  fp, tp, _ = sklearn.metrics.roc_curve(labels, predictions)\n",
        "\n",
        "  plt.plot(100*fp, 100*tp, label=name, linewidth=2, **kwargs)\n",
        "  plt.xlabel('False positives [%]')\n",
        "  plt.ylabel('True positives [%]')\n",
        "  plt.xlim([-0.5,20])\n",
        "  plt.ylim([80,100.5])\n",
        "  plt.grid(True)\n",
        "  ax = plt.gca()\n",
        "  ax.set_aspect('equal')"
      ],
      "execution_count": 16,
      "outputs": []
    },
    {
      "cell_type": "code",
      "metadata": {
        "id": "bofB2mr2Lin2"
      },
      "source": [
        "train_predictions_baseline = base_model.predict(train_x, batch_size=1024)\n",
        "test_predictions_baseline = base_model.predict(test_x, batch_size=1024)"
      ],
      "execution_count": 17,
      "outputs": []
    },
    {
      "cell_type": "code",
      "metadata": {
        "id": "Er5Bvhs-Owm2"
      },
      "source": [
        "train_predictions_weighted = weighted_model.predict(train_x, batch_size=1024)\n",
        "test_predictions_weighted = weighted_model.predict(test_x, batch_size=1024)"
      ],
      "execution_count": 18,
      "outputs": []
    },
    {
      "cell_type": "code",
      "metadata": {
        "colab": {
          "base_uri": "https://localhost:8080/",
          "height": 606
        },
        "id": "urLOT6koLcrT",
        "outputId": "9e79e3ed-3229-48b3-e7fd-bcd77844e852"
      },
      "source": [
        "plot_roc(\"Train Baseline\", train_y, train_predictions_baseline, color=colors[0])\n",
        "plot_roc(\"Test Baseline\", test_y, test_predictions_baseline, color=colors[0], linestyle='--')\n",
        "\n",
        "plot_roc(\"Train Weighted\", train_y, train_predictions_weighted, color=colors[1])\n",
        "plot_roc(\"Test Weighted\", test_y, test_predictions_weighted, color=colors[1], linestyle='--')\n",
        "\n",
        "plt.legend(loc='lower right')\n",
        "plt.show()\n",
        "\n"
      ],
      "execution_count": 19,
      "outputs": [
        {
          "output_type": "display_data",
          "data": {
            "image/png": "[encoded data removed]",
            "text/plain": [
              "<Figure size 864x720 with 1 Axes>"
            ]
          },
          "metadata": {
            "tags": [],
            "needs_background": "light"
          }
        }
      ]
    },
    {
      "cell_type": "code",
      "metadata": {
        "id": "i5XDSJ5zO1yI"
      },
      "source": [
        ""
      ],
      "execution_count": 19,
      "outputs": []
    }
  ]
}