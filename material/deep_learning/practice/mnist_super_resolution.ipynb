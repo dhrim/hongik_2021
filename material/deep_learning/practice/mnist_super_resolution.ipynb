{
  "nbformat": 4,
  "nbformat_minor": 0,
  "metadata": {
    "colab": {
      "name": "mnist_super_resolution.ipynb",
      "provenance": []
    },
    "kernelspec": {
      "name": "python3",
      "display_name": "Python 3"
    },
    "accelerator": "GPU"
  },
  "cells": [
    {
      "cell_type": "markdown",
      "metadata": {
        "id": "jLKCaOxfGQg3"
      },
      "source": [
        "modified from https://blog.naver.com/ckdgus1433/221443838135"
      ]
    },
    {
      "cell_type": "code",
      "metadata": {
        "id": "PhlLzK2qzOQU"
      },
      "source": [
        "import matplotlib.pyplot as plt\n",
        "import numpy as np\n",
        "from tensorflow.keras.datasets import mnist\n",
        "from tensorflow.keras.layers import Dense\n",
        "from tensorflow.keras.models import Sequential"
      ],
      "execution_count": null,
      "outputs": []
    },
    {
      "cell_type": "code",
      "metadata": {
        "id": "HHW1dtOvzOTu",
        "colab": {
          "base_uri": "https://localhost:8080/"
        },
        "outputId": "ee6298ac-50fc-415e-eba8-003f576f3372"
      },
      "source": [
        "# MNIST 로딩 (라벨은 필요없기 때문에 버림)\n",
        "(x_train, _), (x_test, _) = mnist.load_data()"
      ],
      "execution_count": null,
      "outputs": [
        {
          "output_type": "stream",
          "text": [
            "Downloading data from https://storage.googleapis.com/tensorflow/tf-keras-datasets/mnist.npz\n",
            "11493376/11490434 [==============================] - 0s 0us/step\n"
          ],
          "name": "stdout"
        }
      ]
    },
    {
      "cell_type": "code",
      "metadata": {
        "id": "E5B1_T2yzONm"
      },
      "source": [
        "# 데이터 정규화 및 Reshape\n",
        "x_train = x_train.astype('float32') / 255.\n",
        "x_test = x_test.astype('float32') / 255."
      ],
      "execution_count": null,
      "outputs": []
    },
    {
      "cell_type": "code",
      "metadata": {
        "id": "9I4G_rT-zecq",
        "colab": {
          "base_uri": "https://localhost:8080/"
        },
        "outputId": "ce6c527a-bedc-41a4-928b-8f4b63d26ee2"
      },
      "source": [
        "def shrink(data, rows, cols):\n",
        "    return data.reshape(data.shape[0], rows, int(data.shape[1]/rows), cols, int(data.shape[2]/cols)).sum(axis=2).sum(axis=3)\n",
        "\n",
        "reduced_x_train = shrink(x_train, 14, 14)\n",
        "reduced_x_test = shrink(x_test, 14, 14)\n",
        "print(reduced_x_train.shape)\n",
        "print(reduced_x_test.shape)\n"
      ],
      "execution_count": null,
      "outputs": [
        {
          "output_type": "stream",
          "text": [
            "(60000, 14, 14)\n",
            "(10000, 14, 14)\n"
          ],
          "name": "stdout"
        }
      ]
    },
    {
      "cell_type": "code",
      "metadata": {
        "id": "5jFitrsf13K3",
        "colab": {
          "base_uri": "https://localhost:8080/",
          "height": 241
        },
        "outputId": "431bb72c-6464-4708-d142-145d0d74a6cb"
      },
      "source": [
        "n = 10\n",
        "\n",
        "plt.figure(figsize=(20, 2))\n",
        "for i in range(1,n):\n",
        "    ax = plt.subplot(1, n, i)\n",
        "    plt.imshow(x_train[i])\n",
        "    plt.gray()\n",
        "    ax.get_xaxis().set_visible(False)\n",
        "    ax.get_yaxis().set_visible(False)\n",
        "plt.show()\n",
        "\n",
        "# 해상도 낮아진 이미지 확인\n",
        "plt.figure(figsize=(20, 2))\n",
        "for i in range(1,n):\n",
        "    ax = plt.subplot(1, n, i)\n",
        "    plt.imshow(reduced_x_train[i])\n",
        "    plt.gray()\n",
        "    ax.get_xaxis().set_visible(False)\n",
        "    ax.get_yaxis().set_visible(False)\n",
        "plt.show()"
      ],
      "execution_count": null,
      "outputs": [
        {
          "output_type": "display_data",
          "data": {
            "image/png": "[encoded data removed]",
            "text/plain": [
              "<Figure size 1440x144 with 9 Axes>"
            ]
          },
          "metadata": {
            "tags": [],
            "needs_background": "light"
          }
        },
        {
          "output_type": "display_data",
          "data": {
            "image/png": "[encoded data removed]",
            "text/plain": [
              "<Figure size 1440x144 with 9 Axes>"
            ]
          },
          "metadata": {
            "tags": [],
            "needs_background": "light"
          }
        }
      ]
    },
    {
      "cell_type": "code",
      "metadata": {
        "id": "QtW_31_Q2IG6"
      },
      "source": [
        "reduced_x_train = reduced_x_train.reshape(reduced_x_train.shape[0], 14*14)\n",
        "reduced_x_test = reduced_x_test.reshape(reduced_x_test.shape[0], 14*14)\n",
        "x_train = x_train.reshape(x_train.shape[0], 28*28)\n",
        "x_test = x_test.reshape(x_test.shape[0], 28*28)"
      ],
      "execution_count": null,
      "outputs": []
    },
    {
      "cell_type": "code",
      "metadata": {
        "id": "gUTop4Mg2z0T",
        "colab": {
          "base_uri": "https://localhost:8080/"
        },
        "outputId": "589c98db-a70c-4662-a721-0d03800d3d1b"
      },
      "source": [
        "print(reduced_x_train.shape)\n",
        "print(x_train.shape)\n",
        "print(reduced_x_test.shape)\n",
        "print(x_test.shape)"
      ],
      "execution_count": null,
      "outputs": [
        {
          "output_type": "stream",
          "text": [
            "(60000, 196)\n",
            "(60000, 784)\n",
            "(10000, 196)\n",
            "(10000, 784)\n"
          ],
          "name": "stdout"
        }
      ]
    },
    {
      "cell_type": "code",
      "metadata": {
        "id": "Xqt71jtz2fjo",
        "colab": {
          "base_uri": "https://localhost:8080/"
        },
        "outputId": "63bd6419-6631-46ef-b383-43334d3e233c"
      },
      "source": [
        "# 모델 정의\n",
        "model = Sequential()\n",
        "\n",
        "model.add(Dense(128, activation='relu', input_dim=14*14))\n",
        "model.add(Dense(64, activation='relu'))\n",
        "model.add(Dense(32, activation='relu'))\n",
        "model.add(Dense(64, activation='relu'))\n",
        "model.add(Dense(128, activation='relu'))\n",
        "model.add(Dense(784, activation='sigmoid'))\n",
        "# model.add(Dense(784))\n",
        "\n",
        "model.compile(optimizer='adam', loss='mse')\n",
        "\n",
        "# 모델 학습\n",
        "model.fit(reduced_x_train, x_train, epochs=50, batch_size=256, shuffle=True, validation_split=0.1)"
      ],
      "execution_count": null,
      "outputs": [
        {
          "output_type": "stream",
          "text": [
            "WARNING:tensorflow:From /tensorflow-1.15.2/python3.7/tensorflow_core/python/ops/resource_variable_ops.py:1630: calling BaseResourceVariable.__init__ (from tensorflow.python.ops.resource_variable_ops) with constraint is deprecated and will be removed in a future version.\n",
            "Instructions for updating:\n",
            "If using Keras pass *_constraint arguments to layers.\n",
            "Train on 54000 samples, validate on 6000 samples\n",
            "Epoch 1/50\n",
            "54000/54000 [==============================] - 11s 208us/sample - loss: 0.0632 - val_loss: 0.0383\n",
            "Epoch 2/50\n",
            "54000/54000 [==============================] - 1s 12us/sample - loss: 0.0321 - val_loss: 0.0273\n",
            "Epoch 3/50\n",
            "54000/54000 [==============================] - 1s 12us/sample - loss: 0.0247 - val_loss: 0.0225\n",
            "Epoch 4/50\n",
            "54000/54000 [==============================] - 1s 12us/sample - loss: 0.0212 - val_loss: 0.0200\n",
            "Epoch 5/50\n",
            "54000/54000 [==============================] - 1s 12us/sample - loss: 0.0191 - val_loss: 0.0184\n",
            "Epoch 6/50\n",
            "54000/54000 [==============================] - 1s 12us/sample - loss: 0.0176 - val_loss: 0.0170\n",
            "Epoch 7/50\n",
            "54000/54000 [==============================] - 1s 12us/sample - loss: 0.0166 - val_loss: 0.0161\n",
            "Epoch 8/50\n",
            "54000/54000 [==============================] - 1s 12us/sample - loss: 0.0158 - val_loss: 0.0155\n",
            "Epoch 9/50\n",
            "54000/54000 [==============================] - 1s 12us/sample - loss: 0.0151 - val_loss: 0.0148\n",
            "Epoch 10/50\n",
            "54000/54000 [==============================] - 1s 12us/sample - loss: 0.0145 - val_loss: 0.0143\n",
            "Epoch 11/50\n",
            "54000/54000 [==============================] - 1s 12us/sample - loss: 0.0141 - val_loss: 0.0139\n",
            "Epoch 12/50\n",
            "54000/54000 [==============================] - 1s 12us/sample - loss: 0.0136 - val_loss: 0.0136\n",
            "Epoch 13/50\n",
            "54000/54000 [==============================] - 1s 12us/sample - loss: 0.0133 - val_loss: 0.0131\n",
            "Epoch 14/50\n",
            "54000/54000 [==============================] - 1s 13us/sample - loss: 0.0129 - val_loss: 0.0127\n",
            "Epoch 15/50\n",
            "54000/54000 [==============================] - 1s 12us/sample - loss: 0.0126 - val_loss: 0.0124\n",
            "Epoch 16/50\n",
            "54000/54000 [==============================] - 1s 12us/sample - loss: 0.0124 - val_loss: 0.0123\n",
            "Epoch 17/50\n",
            "54000/54000 [==============================] - 1s 12us/sample - loss: 0.0121 - val_loss: 0.0121\n",
            "Epoch 18/50\n",
            "54000/54000 [==============================] - 1s 12us/sample - loss: 0.0119 - val_loss: 0.0119\n",
            "Epoch 19/50\n",
            "54000/54000 [==============================] - 1s 12us/sample - loss: 0.0117 - val_loss: 0.0116\n",
            "Epoch 20/50\n",
            "54000/54000 [==============================] - 1s 12us/sample - loss: 0.0115 - val_loss: 0.0115\n",
            "Epoch 21/50\n",
            "54000/54000 [==============================] - 1s 13us/sample - loss: 0.0113 - val_loss: 0.0113\n",
            "Epoch 22/50\n",
            "54000/54000 [==============================] - 1s 12us/sample - loss: 0.0112 - val_loss: 0.0112\n",
            "Epoch 23/50\n",
            "54000/54000 [==============================] - 1s 12us/sample - loss: 0.0110 - val_loss: 0.0111\n",
            "Epoch 24/50\n",
            "54000/54000 [==============================] - 1s 12us/sample - loss: 0.0109 - val_loss: 0.0110\n",
            "Epoch 25/50\n",
            "54000/54000 [==============================] - 1s 12us/sample - loss: 0.0108 - val_loss: 0.0108\n",
            "Epoch 26/50\n",
            "54000/54000 [==============================] - 1s 12us/sample - loss: 0.0107 - val_loss: 0.0107\n",
            "Epoch 27/50\n",
            "54000/54000 [==============================] - 1s 12us/sample - loss: 0.0106 - val_loss: 0.0105\n",
            "Epoch 28/50\n",
            "54000/54000 [==============================] - 1s 12us/sample - loss: 0.0105 - val_loss: 0.0105\n",
            "Epoch 29/50\n",
            "54000/54000 [==============================] - 1s 12us/sample - loss: 0.0104 - val_loss: 0.0105\n",
            "Epoch 30/50\n",
            "54000/54000 [==============================] - 1s 12us/sample - loss: 0.0103 - val_loss: 0.0104\n",
            "Epoch 31/50\n",
            "54000/54000 [==============================] - 1s 12us/sample - loss: 0.0102 - val_loss: 0.0103\n",
            "Epoch 32/50\n",
            "54000/54000 [==============================] - 1s 12us/sample - loss: 0.0101 - val_loss: 0.0101\n",
            "Epoch 33/50\n",
            "54000/54000 [==============================] - 1s 12us/sample - loss: 0.0100 - val_loss: 0.0101\n",
            "Epoch 34/50\n",
            "54000/54000 [==============================] - 1s 12us/sample - loss: 0.0099 - val_loss: 0.0100\n",
            "Epoch 35/50\n",
            "54000/54000 [==============================] - 1s 12us/sample - loss: 0.0098 - val_loss: 0.0099\n",
            "Epoch 36/50\n",
            "54000/54000 [==============================] - 1s 12us/sample - loss: 0.0098 - val_loss: 0.0098\n",
            "Epoch 37/50\n",
            "54000/54000 [==============================] - 1s 12us/sample - loss: 0.0097 - val_loss: 0.0097\n",
            "Epoch 38/50\n",
            "54000/54000 [==============================] - 1s 12us/sample - loss: 0.0096 - val_loss: 0.0098\n",
            "Epoch 39/50\n",
            "54000/54000 [==============================] - 1s 12us/sample - loss: 0.0096 - val_loss: 0.0096\n",
            "Epoch 40/50\n",
            "54000/54000 [==============================] - 1s 12us/sample - loss: 0.0095 - val_loss: 0.0095\n",
            "Epoch 41/50\n",
            "54000/54000 [==============================] - 1s 12us/sample - loss: 0.0094 - val_loss: 0.0095\n",
            "Epoch 42/50\n",
            "54000/54000 [==============================] - 1s 12us/sample - loss: 0.0093 - val_loss: 0.0094\n",
            "Epoch 43/50\n",
            "54000/54000 [==============================] - 1s 12us/sample - loss: 0.0092 - val_loss: 0.0093\n",
            "Epoch 44/50\n",
            "54000/54000 [==============================] - 1s 13us/sample - loss: 0.0092 - val_loss: 0.0093\n",
            "Epoch 45/50\n",
            "54000/54000 [==============================] - 1s 12us/sample - loss: 0.0091 - val_loss: 0.0092\n",
            "Epoch 46/50\n",
            "54000/54000 [==============================] - 1s 12us/sample - loss: 0.0090 - val_loss: 0.0091\n",
            "Epoch 47/50\n",
            "54000/54000 [==============================] - 1s 12us/sample - loss: 0.0089 - val_loss: 0.0091\n",
            "Epoch 48/50\n",
            "54000/54000 [==============================] - 1s 12us/sample - loss: 0.0089 - val_loss: 0.0090\n",
            "Epoch 49/50\n",
            "54000/54000 [==============================] - 1s 12us/sample - loss: 0.0088 - val_loss: 0.0090\n",
            "Epoch 50/50\n",
            "54000/54000 [==============================] - 1s 12us/sample - loss: 0.0088 - val_loss: 0.0089\n"
          ],
          "name": "stdout"
        },
        {
          "output_type": "execute_result",
          "data": {
            "text/plain": [
              "<tensorflow.python.keras.callbacks.History at 0x7fc7149b6a90>"
            ]
          },
          "metadata": {
            "tags": []
          },
          "execution_count": 10
        }
      ]
    },
    {
      "cell_type": "code",
      "metadata": {
        "id": "2y4hQ-VfFxF4",
        "colab": {
          "base_uri": "https://localhost:8080/",
          "height": 359
        },
        "outputId": "ce212826-e035-4d5b-ca6a-316f9c5c0a77"
      },
      "source": [
        "# 결과 확인\n",
        "super_resolutioned = model.predict(reduced_x_test)\n",
        "\n",
        "n = 10\n",
        "plt.figure(figsize=(20, 6))\n",
        "for i in range(1, n):\n",
        "    # display original\n",
        "    ax = plt.subplot(3, n, i)\n",
        "    plt.imshow(x_test[i].reshape(28,28))\n",
        "    plt.gray()\n",
        "    ax.get_xaxis().set_visible(False)\n",
        "    ax.get_yaxis().set_visible(False)\n",
        "\n",
        "    # display reduced\n",
        "    ax = plt.subplot(3, n, i + n)\n",
        "    plt.imshow(reduced_x_test[i].reshape(14,14))\n",
        "    plt.gray()\n",
        "    ax.get_xaxis().set_visible(False)\n",
        "    ax.get_yaxis().set_visible(False)\n",
        "\n",
        "    # display super resolution\n",
        "    ax = plt.subplot(3, n, i + 2*n)\n",
        "    plt.imshow(super_resolutioned[i].reshape(28,28))\n",
        "    plt.gray()\n",
        "    ax.get_xaxis().set_visible(False)\n",
        "    ax.get_yaxis().set_visible(False)\n",
        "\n",
        "plt.show()"
      ],
      "execution_count": null,
      "outputs": [
        {
          "output_type": "display_data",
          "data": {
            "image/png": "[encoded data removed]",
            "text/plain": [
              "<Figure size 1440x432 with 27 Axes>"
            ]
          },
          "metadata": {
            "tags": [],
            "needs_background": "light"
          }
        }
      ]
    },
    {
      "cell_type": "code",
      "metadata": {
        "id": "fTqVK4F6F1S2"
      },
      "source": [
        ""
      ],
      "execution_count": null,
      "outputs": []
    }
  ]
}