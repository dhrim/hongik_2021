{
  "nbformat": 4,
  "nbformat_minor": 0,
  "metadata": {
    "colab": {
      "name": "denoising_autoencoder.ipynb",
      "provenance": []
    },
    "kernelspec": {
      "name": "python3",
      "display_name": "Python 3"
    },
    "accelerator": "GPU"
  },
  "cells": [
    {
      "cell_type": "markdown",
      "metadata": {
        "id": "jLKCaOxfGQg3"
      },
      "source": [
        "copy from https://blog.naver.com/ckdgus1433/221443838135"
      ]
    },
    {
      "cell_type": "markdown",
      "metadata": {
        "id": "3gUCJI7zK6V0"
      },
      "source": [
        "# 모듈 임포팅"
      ]
    },
    {
      "cell_type": "code",
      "metadata": {
        "id": "Y3ayalJEK4Me"
      },
      "source": [
        "import matplotlib.pyplot as plt\n",
        "import numpy as np\n",
        "from tensorflow.keras.datasets import mnist\n",
        "from tensorflow.keras.layers import Dense\n",
        "from tensorflow.keras.models import Sequential"
      ],
      "execution_count": null,
      "outputs": []
    },
    {
      "cell_type": "markdown",
      "metadata": {
        "id": "-8b8fVWQK9JD"
      },
      "source": [
        "# 데이터 로딩"
      ]
    },
    {
      "cell_type": "code",
      "metadata": {
        "id": "D0QMMukcK56L",
        "colab": {
          "base_uri": "https://localhost:8080/"
        },
        "outputId": "e0e35e4e-bb5d-4e76-d590-3444eb11a033"
      },
      "source": [
        "# MNIST 로딩 (라벨은 필요없기 때문에 버림)\n",
        "(x_train, _), (x_test, _) = mnist.load_data()"
      ],
      "execution_count": null,
      "outputs": [
        {
          "output_type": "stream",
          "text": [
            "Downloading data from https://storage.googleapis.com/tensorflow/tf-keras-datasets/mnist.npz\n",
            "11493376/11490434 [==============================] - 0s 0us/step\n"
          ],
          "name": "stdout"
        }
      ]
    },
    {
      "cell_type": "markdown",
      "metadata": {
        "id": "OOAbPf_ZK_6b"
      },
      "source": [
        "# Normalization"
      ]
    },
    {
      "cell_type": "code",
      "metadata": {
        "id": "WWimdhYPLBTj"
      },
      "source": [
        "# 데이터 정규화\n",
        "x_train = x_train.astype('float32') / 255.\n",
        "x_test = x_test.astype('float32') / 255."
      ],
      "execution_count": null,
      "outputs": []
    },
    {
      "cell_type": "markdown",
      "metadata": {
        "id": "COdPgRsoLBjD"
      },
      "source": [
        "# Flattening"
      ]
    },
    {
      "cell_type": "code",
      "metadata": {
        "id": "wjDc3mmbLB-D"
      },
      "source": [
        "x_train = np.reshape(x_train, (len(x_train), 784))\n",
        "x_test = np.reshape(x_test, (len(x_test), 784))"
      ],
      "execution_count": null,
      "outputs": []
    },
    {
      "cell_type": "markdown",
      "metadata": {
        "id": "zNfjHZQSLN-s"
      },
      "source": [
        "# 노이즈 추가"
      ]
    },
    {
      "cell_type": "code",
      "metadata": {
        "id": "dTSIWBn7NeuA"
      },
      "source": [
        "noise = np.random.normal(loc=0.0, scale=1.0, size=10000) "
      ],
      "execution_count": null,
      "outputs": []
    },
    {
      "cell_type": "code",
      "metadata": {
        "id": "zZplNkNxN5dl",
        "colab": {
          "base_uri": "https://localhost:8080/",
          "height": 265
        },
        "outputId": "fbebdab0-262f-457c-8270-e6c137726c2b"
      },
      "source": [
        "plt.hist(noise, bins=1000, range=(-2., 2.))\n",
        "plt.show()"
      ],
      "execution_count": null,
      "outputs": [
        {
          "output_type": "display_data",
          "data": {
            "image/png": "[encoded data removed]",
            "text/plain": [
              "<Figure size 432x288 with 1 Axes>"
            ]
          },
          "metadata": {
            "tags": [],
            "needs_background": "light"
          }
        }
      ]
    },
    {
      "cell_type": "code",
      "metadata": {
        "id": "tvOfQ4hMLLo7"
      },
      "source": [
        "# 원본데이터에 Noise 추가\n",
        "noise_factor = 0.5\n",
        "x_train_noisy = x_train + noise_factor * np.random.normal(loc=0.0, scale=1.0, size=x_train.shape) \n",
        "x_test_noisy = x_test + noise_factor * np.random.normal(loc=0.0, scale=1.0, size=x_test.shape) \n",
        "\n",
        "# 최대가 1, 최소가 0이 되도록 \n",
        "x_train_noisy = np.clip(x_train_noisy, 0., 1.)\n",
        "x_test_noisy = np.clip(x_test_noisy, 0., 1.)"
      ],
      "execution_count": null,
      "outputs": []
    },
    {
      "cell_type": "markdown",
      "metadata": {
        "id": "6na4p0mnLj8j"
      },
      "source": [
        "# 노이즈 추가된 영상 보기"
      ]
    },
    {
      "cell_type": "code",
      "metadata": {
        "id": "y--Ep7aULL17",
        "colab": {
          "base_uri": "https://localhost:8080/",
          "height": 129
        },
        "outputId": "5a263fec-f6ac-4bd5-ecfb-ce8936baca58"
      },
      "source": [
        "# Noise가 추가된 데이터 확인\n",
        "n = 10\n",
        "plt.figure(figsize=(20, 2))\n",
        "for i in range(1,n):\n",
        "    ax = plt.subplot(1, n, i)\n",
        "    plt.imshow(x_train_noisy[i].reshape(28, 28))\n",
        "    plt.gray()\n",
        "    ax.get_xaxis().set_visible(False)\n",
        "    ax.get_yaxis().set_visible(False)\n",
        "plt.show()"
      ],
      "execution_count": null,
      "outputs": [
        {
          "output_type": "display_data",
          "data": {
            "image/png": "[encoded data removed]",
            "text/plain": [
              "<Figure size 1440x144 with 9 Axes>"
            ]
          },
          "metadata": {
            "tags": [],
            "needs_background": "light"
          }
        }
      ]
    },
    {
      "cell_type": "markdown",
      "metadata": {
        "id": "i01JyXUqL7yF"
      },
      "source": [
        "# 모델 정의와 학습 실행"
      ]
    },
    {
      "cell_type": "code",
      "metadata": {
        "id": "bvY_c15CLL48",
        "colab": {
          "base_uri": "https://localhost:8080/"
        },
        "outputId": "3ea2a85f-9af1-4cb6-fd0e-776092570461"
      },
      "source": [
        "# 모형 구성\n",
        "model = Sequential()\n",
        "model.add(Dense(128, activation='relu', input_dim=784))\n",
        "model.add(Dense(64, activation='relu'))\n",
        "model.add(Dense(32, activation='relu'))\n",
        "model.add(Dense(64, activation='relu'))\n",
        "model.add(Dense(128, activation='relu'))\n",
        "model.add(Dense(784, activation='sigmoid'))\n",
        "model.compile(optimizer='adam', loss='binary_crossentropy')\n",
        "\n",
        "\n",
        "# 모형 학습\n",
        "model.fit(x_train_noisy, x_train, \n",
        "          epochs=100,\n",
        "          batch_size=256,\n",
        "          shuffle=True,\n",
        "          validation_data=(x_test_noisy, x_test))\n"
      ],
      "execution_count": null,
      "outputs": [
        {
          "output_type": "stream",
          "text": [
            "WARNING:tensorflow:From /tensorflow-1.15.2/python3.7/tensorflow_core/python/ops/resource_variable_ops.py:1630: calling BaseResourceVariable.__init__ (from tensorflow.python.ops.resource_variable_ops) with constraint is deprecated and will be removed in a future version.\n",
            "Instructions for updating:\n",
            "If using Keras pass *_constraint arguments to layers.\n",
            "WARNING:tensorflow:From /tensorflow-1.15.2/python3.7/tensorflow_core/python/ops/nn_impl.py:183: where (from tensorflow.python.ops.array_ops) is deprecated and will be removed in a future version.\n",
            "Instructions for updating:\n",
            "Use tf.where in 2.0, which has the same broadcast rule as np.where\n",
            "Train on 60000 samples, validate on 10000 samples\n",
            "Epoch 1/100\n",
            "60000/60000 [==============================] - 12s 195us/sample - loss: 0.2648 - val_loss: 0.2059\n",
            "Epoch 2/100\n",
            "60000/60000 [==============================] - 1s 18us/sample - loss: 0.1837 - val_loss: 0.1686\n",
            "Epoch 3/100\n",
            "60000/60000 [==============================] - 1s 17us/sample - loss: 0.1641 - val_loss: 0.1579\n",
            "Epoch 4/100\n",
            "60000/60000 [==============================] - 1s 18us/sample - loss: 0.1553 - val_loss: 0.1508\n",
            "Epoch 5/100\n",
            "60000/60000 [==============================] - 1s 17us/sample - loss: 0.1488 - val_loss: 0.1461\n",
            "Epoch 6/100\n",
            "60000/60000 [==============================] - 1s 18us/sample - loss: 0.1445 - val_loss: 0.1418\n",
            "Epoch 7/100\n",
            "60000/60000 [==============================] - 1s 18us/sample - loss: 0.1414 - val_loss: 0.1392\n",
            "Epoch 8/100\n",
            "60000/60000 [==============================] - 1s 18us/sample - loss: 0.1387 - val_loss: 0.1364\n",
            "Epoch 9/100\n",
            "60000/60000 [==============================] - 1s 18us/sample - loss: 0.1362 - val_loss: 0.1353\n",
            "Epoch 10/100\n",
            "60000/60000 [==============================] - 1s 18us/sample - loss: 0.1341 - val_loss: 0.1323\n",
            "Epoch 11/100\n",
            "60000/60000 [==============================] - 1s 19us/sample - loss: 0.1323 - val_loss: 0.1318\n",
            "Epoch 12/100\n",
            "60000/60000 [==============================] - 1s 18us/sample - loss: 0.1306 - val_loss: 0.1295\n",
            "Epoch 13/100\n",
            "60000/60000 [==============================] - 1s 17us/sample - loss: 0.1293 - val_loss: 0.1286\n",
            "Epoch 14/100\n",
            "60000/60000 [==============================] - 1s 18us/sample - loss: 0.1283 - val_loss: 0.1296\n",
            "Epoch 15/100\n",
            "60000/60000 [==============================] - 1s 18us/sample - loss: 0.1273 - val_loss: 0.1265\n",
            "Epoch 16/100\n",
            "60000/60000 [==============================] - 1s 18us/sample - loss: 0.1262 - val_loss: 0.1262\n",
            "Epoch 17/100\n",
            "60000/60000 [==============================] - 1s 17us/sample - loss: 0.1254 - val_loss: 0.1253\n",
            "Epoch 18/100\n",
            "60000/60000 [==============================] - 1s 17us/sample - loss: 0.1246 - val_loss: 0.1250\n",
            "Epoch 19/100\n",
            "60000/60000 [==============================] - 1s 18us/sample - loss: 0.1240 - val_loss: 0.1244\n",
            "Epoch 20/100\n",
            "60000/60000 [==============================] - 1s 17us/sample - loss: 0.1232 - val_loss: 0.1237\n",
            "Epoch 21/100\n",
            "60000/60000 [==============================] - 1s 18us/sample - loss: 0.1226 - val_loss: 0.1237\n",
            "Epoch 22/100\n",
            "60000/60000 [==============================] - 1s 17us/sample - loss: 0.1221 - val_loss: 0.1231\n",
            "Epoch 23/100\n",
            "60000/60000 [==============================] - 1s 17us/sample - loss: 0.1216 - val_loss: 0.1222\n",
            "Epoch 24/100\n",
            "60000/60000 [==============================] - 1s 17us/sample - loss: 0.1211 - val_loss: 0.1216\n",
            "Epoch 25/100\n",
            "60000/60000 [==============================] - 1s 17us/sample - loss: 0.1206 - val_loss: 0.1212\n",
            "Epoch 26/100\n",
            "60000/60000 [==============================] - 1s 18us/sample - loss: 0.1202 - val_loss: 0.1208\n",
            "Epoch 27/100\n",
            "60000/60000 [==============================] - 1s 18us/sample - loss: 0.1197 - val_loss: 0.1204\n",
            "Epoch 28/100\n",
            "60000/60000 [==============================] - 1s 18us/sample - loss: 0.1194 - val_loss: 0.1209\n",
            "Epoch 29/100\n",
            "60000/60000 [==============================] - 1s 17us/sample - loss: 0.1189 - val_loss: 0.1196\n",
            "Epoch 30/100\n",
            "60000/60000 [==============================] - 1s 18us/sample - loss: 0.1185 - val_loss: 0.1198\n",
            "Epoch 31/100\n",
            "60000/60000 [==============================] - 1s 17us/sample - loss: 0.1182 - val_loss: 0.1193\n",
            "Epoch 32/100\n",
            "60000/60000 [==============================] - 1s 17us/sample - loss: 0.1178 - val_loss: 0.1192\n",
            "Epoch 33/100\n",
            "60000/60000 [==============================] - 1s 18us/sample - loss: 0.1177 - val_loss: 0.1193\n",
            "Epoch 34/100\n",
            "60000/60000 [==============================] - 1s 17us/sample - loss: 0.1173 - val_loss: 0.1184\n",
            "Epoch 35/100\n",
            "60000/60000 [==============================] - 1s 17us/sample - loss: 0.1170 - val_loss: 0.1188\n",
            "Epoch 36/100\n",
            "60000/60000 [==============================] - 1s 17us/sample - loss: 0.1167 - val_loss: 0.1180\n",
            "Epoch 37/100\n",
            "60000/60000 [==============================] - 1s 17us/sample - loss: 0.1165 - val_loss: 0.1182\n",
            "Epoch 38/100\n",
            "60000/60000 [==============================] - 1s 17us/sample - loss: 0.1163 - val_loss: 0.1183\n",
            "Epoch 39/100\n",
            "60000/60000 [==============================] - 1s 17us/sample - loss: 0.1161 - val_loss: 0.1181\n",
            "Epoch 40/100\n",
            "60000/60000 [==============================] - 1s 17us/sample - loss: 0.1158 - val_loss: 0.1182\n",
            "Epoch 41/100\n",
            "60000/60000 [==============================] - 1s 17us/sample - loss: 0.1157 - val_loss: 0.1178\n",
            "Epoch 42/100\n",
            "60000/60000 [==============================] - 1s 17us/sample - loss: 0.1155 - val_loss: 0.1174\n",
            "Epoch 43/100\n",
            "60000/60000 [==============================] - 1s 17us/sample - loss: 0.1154 - val_loss: 0.1171\n",
            "Epoch 44/100\n",
            "60000/60000 [==============================] - 1s 17us/sample - loss: 0.1152 - val_loss: 0.1171\n",
            "Epoch 45/100\n",
            "60000/60000 [==============================] - 1s 18us/sample - loss: 0.1149 - val_loss: 0.1170\n",
            "Epoch 46/100\n",
            "60000/60000 [==============================] - 1s 18us/sample - loss: 0.1148 - val_loss: 0.1172\n",
            "Epoch 47/100\n",
            "60000/60000 [==============================] - 1s 18us/sample - loss: 0.1146 - val_loss: 0.1175\n",
            "Epoch 48/100\n",
            "60000/60000 [==============================] - 1s 18us/sample - loss: 0.1144 - val_loss: 0.1176\n",
            "Epoch 49/100\n",
            "60000/60000 [==============================] - 1s 17us/sample - loss: 0.1144 - val_loss: 0.1167\n",
            "Epoch 50/100\n",
            "60000/60000 [==============================] - 1s 17us/sample - loss: 0.1142 - val_loss: 0.1165\n",
            "Epoch 51/100\n",
            "60000/60000 [==============================] - 1s 17us/sample - loss: 0.1140 - val_loss: 0.1165\n",
            "Epoch 52/100\n",
            "60000/60000 [==============================] - 1s 17us/sample - loss: 0.1140 - val_loss: 0.1167\n",
            "Epoch 53/100\n",
            "60000/60000 [==============================] - 1s 17us/sample - loss: 0.1139 - val_loss: 0.1164\n",
            "Epoch 54/100\n",
            "60000/60000 [==============================] - 1s 17us/sample - loss: 0.1138 - val_loss: 0.1161\n",
            "Epoch 55/100\n",
            "60000/60000 [==============================] - 1s 17us/sample - loss: 0.1135 - val_loss: 0.1159\n",
            "Epoch 56/100\n",
            "60000/60000 [==============================] - 1s 17us/sample - loss: 0.1134 - val_loss: 0.1159\n",
            "Epoch 57/100\n",
            "60000/60000 [==============================] - 1s 18us/sample - loss: 0.1134 - val_loss: 0.1162\n",
            "Epoch 58/100\n",
            "60000/60000 [==============================] - 1s 17us/sample - loss: 0.1133 - val_loss: 0.1157\n",
            "Epoch 59/100\n",
            "60000/60000 [==============================] - 1s 17us/sample - loss: 0.1133 - val_loss: 0.1157\n",
            "Epoch 60/100\n",
            "60000/60000 [==============================] - 1s 18us/sample - loss: 0.1130 - val_loss: 0.1154\n",
            "Epoch 61/100\n",
            "60000/60000 [==============================] - 1s 18us/sample - loss: 0.1130 - val_loss: 0.1155\n",
            "Epoch 62/100\n",
            "60000/60000 [==============================] - 1s 17us/sample - loss: 0.1129 - val_loss: 0.1157\n",
            "Epoch 63/100\n",
            "60000/60000 [==============================] - 1s 18us/sample - loss: 0.1128 - val_loss: 0.1161\n",
            "Epoch 64/100\n",
            "60000/60000 [==============================] - 1s 17us/sample - loss: 0.1127 - val_loss: 0.1156\n",
            "Epoch 65/100\n",
            "60000/60000 [==============================] - 1s 17us/sample - loss: 0.1126 - val_loss: 0.1152\n",
            "Epoch 66/100\n",
            "60000/60000 [==============================] - 1s 18us/sample - loss: 0.1125 - val_loss: 0.1154\n",
            "Epoch 67/100\n",
            "60000/60000 [==============================] - 1s 17us/sample - loss: 0.1125 - val_loss: 0.1157\n",
            "Epoch 68/100\n",
            "60000/60000 [==============================] - 1s 17us/sample - loss: 0.1124 - val_loss: 0.1154\n",
            "Epoch 69/100\n",
            "60000/60000 [==============================] - 1s 17us/sample - loss: 0.1123 - val_loss: 0.1158\n",
            "Epoch 70/100\n",
            "60000/60000 [==============================] - 1s 17us/sample - loss: 0.1122 - val_loss: 0.1155\n",
            "Epoch 71/100\n",
            "60000/60000 [==============================] - 1s 18us/sample - loss: 0.1122 - val_loss: 0.1155\n",
            "Epoch 72/100\n",
            "60000/60000 [==============================] - 1s 18us/sample - loss: 0.1121 - val_loss: 0.1152\n",
            "Epoch 73/100\n",
            "60000/60000 [==============================] - 1s 17us/sample - loss: 0.1120 - val_loss: 0.1153\n",
            "Epoch 74/100\n",
            "60000/60000 [==============================] - 1s 17us/sample - loss: 0.1119 - val_loss: 0.1150\n",
            "Epoch 75/100\n",
            "60000/60000 [==============================] - 1s 17us/sample - loss: 0.1118 - val_loss: 0.1152\n",
            "Epoch 76/100\n",
            "60000/60000 [==============================] - 1s 18us/sample - loss: 0.1118 - val_loss: 0.1154\n",
            "Epoch 77/100\n",
            "60000/60000 [==============================] - 1s 18us/sample - loss: 0.1118 - val_loss: 0.1151\n",
            "Epoch 78/100\n",
            "60000/60000 [==============================] - 1s 17us/sample - loss: 0.1117 - val_loss: 0.1152\n",
            "Epoch 79/100\n",
            "60000/60000 [==============================] - 1s 18us/sample - loss: 0.1116 - val_loss: 0.1150\n",
            "Epoch 80/100\n",
            "60000/60000 [==============================] - 1s 17us/sample - loss: 0.1115 - val_loss: 0.1147\n",
            "Epoch 81/100\n",
            "60000/60000 [==============================] - 1s 18us/sample - loss: 0.1114 - val_loss: 0.1145\n",
            "Epoch 82/100\n",
            "60000/60000 [==============================] - 1s 17us/sample - loss: 0.1113 - val_loss: 0.1145\n",
            "Epoch 83/100\n",
            "60000/60000 [==============================] - 1s 17us/sample - loss: 0.1113 - val_loss: 0.1144\n",
            "Epoch 84/100\n",
            "60000/60000 [==============================] - 1s 17us/sample - loss: 0.1111 - val_loss: 0.1149\n",
            "Epoch 85/100\n",
            "60000/60000 [==============================] - 1s 18us/sample - loss: 0.1112 - val_loss: 0.1145\n",
            "Epoch 86/100\n",
            "60000/60000 [==============================] - 1s 17us/sample - loss: 0.1110 - val_loss: 0.1145\n",
            "Epoch 87/100\n",
            "60000/60000 [==============================] - 1s 18us/sample - loss: 0.1109 - val_loss: 0.1145\n",
            "Epoch 88/100\n",
            "60000/60000 [==============================] - 1s 18us/sample - loss: 0.1109 - val_loss: 0.1144\n",
            "Epoch 89/100\n",
            "60000/60000 [==============================] - 1s 17us/sample - loss: 0.1108 - val_loss: 0.1145\n",
            "Epoch 90/100\n",
            "60000/60000 [==============================] - 1s 18us/sample - loss: 0.1108 - val_loss: 0.1140\n",
            "Epoch 91/100\n",
            "60000/60000 [==============================] - 1s 18us/sample - loss: 0.1106 - val_loss: 0.1144\n",
            "Epoch 92/100\n",
            "60000/60000 [==============================] - 1s 18us/sample - loss: 0.1107 - val_loss: 0.1140\n",
            "Epoch 93/100\n",
            "60000/60000 [==============================] - 1s 18us/sample - loss: 0.1105 - val_loss: 0.1140\n",
            "Epoch 94/100\n",
            "60000/60000 [==============================] - 1s 18us/sample - loss: 0.1105 - val_loss: 0.1148\n",
            "Epoch 95/100\n",
            "60000/60000 [==============================] - 1s 18us/sample - loss: 0.1105 - val_loss: 0.1140\n",
            "Epoch 96/100\n",
            "60000/60000 [==============================] - 1s 18us/sample - loss: 0.1104 - val_loss: 0.1148\n",
            "Epoch 97/100\n",
            "60000/60000 [==============================] - 1s 18us/sample - loss: 0.1104 - val_loss: 0.1139\n",
            "Epoch 98/100\n",
            "60000/60000 [==============================] - 1s 18us/sample - loss: 0.1103 - val_loss: 0.1138\n",
            "Epoch 99/100\n",
            "60000/60000 [==============================] - 1s 17us/sample - loss: 0.1102 - val_loss: 0.1138\n",
            "Epoch 100/100\n",
            "60000/60000 [==============================] - 1s 17us/sample - loss: 0.1103 - val_loss: 0.1138\n"
          ],
          "name": "stdout"
        },
        {
          "output_type": "execute_result",
          "data": {
            "text/plain": [
              "<tensorflow.python.keras.callbacks.History at 0x7f3c6230af50>"
            ]
          },
          "metadata": {
            "tags": []
          },
          "execution_count": 11
        }
      ]
    },
    {
      "cell_type": "markdown",
      "metadata": {
        "id": "eP3_P6rDMCFa"
      },
      "source": [
        "# 결과 확인"
      ]
    },
    {
      "cell_type": "code",
      "metadata": {
        "id": "2y4hQ-VfFxF4",
        "colab": {
          "base_uri": "https://localhost:8080/",
          "height": 303
        },
        "outputId": "8ff774c8-2bf6-4ded-90ed-b1b013f7c62b"
      },
      "source": [
        "decoded_imgs = model.predict(x_test_noisy)\n",
        "\n",
        "n = 10\n",
        "plt.figure(figsize=(20, 6))\n",
        "for i in range(1,n):\n",
        "    # 원본 표시\n",
        "    ax = plt.subplot(3, n, i)\n",
        "    plt.imshow(x_test[i].reshape(28, 28))\n",
        "    plt.gray()\n",
        "    ax.get_xaxis().set_visible(False)\n",
        "    ax.get_yaxis().set_visible(False)\n",
        "\n",
        "    # 노이즈 첨가 된 것\n",
        "    ax = plt.subplot(3, n, i + n)\n",
        "    plt.imshow(x_test_noisy[i].reshape(28, 28))\n",
        "    plt.gray()\n",
        "    ax.get_xaxis().set_visible(False)\n",
        "    ax.get_yaxis().set_visible(False)\n",
        "\n",
        "    # 노이즈 제거 된 것\n",
        "    ax = plt.subplot(3, n, i + 2*n)\n",
        "    plt.imshow(decoded_imgs[i].reshape(28, 28))\n",
        "    plt.gray()\n",
        "    ax.get_xaxis().set_visible(False)\n",
        "    ax.get_yaxis().set_visible(False)\n",
        "plt.show()"
      ],
      "execution_count": null,
      "outputs": [
        {
          "output_type": "display_data",
          "data": {
            "image/png": "[encoded data removed]",
            "text/plain": [
              "<Figure size 1440x432 with 27 Axes>"
            ]
          },
          "metadata": {
            "tags": [],
            "needs_background": "light"
          }
        }
      ]
    },
    {
      "cell_type": "code",
      "metadata": {
        "id": "fTqVK4F6F1S2"
      },
      "source": [
        ""
      ],
      "execution_count": null,
      "outputs": []
    }
  ]
}