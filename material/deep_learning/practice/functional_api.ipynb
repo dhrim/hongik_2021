{
  "nbformat": 4,
  "nbformat_minor": 0,
  "metadata": {
    "colab": {
      "name": "functional_api.ipynb",
      "provenance": [],
      "collapsed_sections": [],
      "toc_visible": true
    },
    "kernelspec": {
      "name": "python3",
      "display_name": "Python 3"
    },
    "accelerator": "GPU"
  },
  "cells": [
    {
      "cell_type": "markdown",
      "metadata": {
        "id": "c503DSvxvOU5"
      },
      "source": [
        "# 이전 CNN MNIST\n"
      ]
    },
    {
      "cell_type": "code",
      "metadata": {
        "id": "fYlMkT8axIoi"
      },
      "source": [
        "import numpy as np\n",
        "import matplotlib.pyplot as plt\n",
        "\n",
        "import tensorflow as tf\n",
        "from tensorflow import keras\n",
        "from tensorflow.keras import optimizers\n",
        "from tensorflow.keras.layers import Dense, Flatten, Conv2D, MaxPooling2D, Input\n",
        "\n",
        "import time"
      ],
      "execution_count": null,
      "outputs": []
    },
    {
      "cell_type": "code",
      "metadata": {
        "id": "puN5QRLz2toU",
        "colab": {
          "base_uri": "https://localhost:8080/",
          "height": 52
        },
        "outputId": "f50304b9-5514-44a6-9946-7edb7d2c7316"
      },
      "source": [
        "(raw_train_x, raw_train_y), (raw_test_x, raw_test_y) = tf.keras.datasets.mnist.load_data()\n",
        "\n",
        "train_x = raw_train_x/255\n",
        "test_x = raw_test_x/255\n",
        "\n",
        "train_x = train_x.reshape((60000, 28, 28, 1))\n",
        "test_x = test_x.reshape((10000, 28, 28, 1))\n",
        "\n",
        "train_y = raw_train_y\n",
        "test_y = raw_test_y"
      ],
      "execution_count": null,
      "outputs": [
        {
          "output_type": "stream",
          "text": [
            "Downloading data from https://storage.googleapis.com/tensorflow/tf-keras-datasets/mnist.npz\n",
            "11493376/11490434 [==============================] - 0s 0us/step\n"
          ],
          "name": "stdout"
        }
      ]
    },
    {
      "cell_type": "code",
      "metadata": {
        "id": "kkrsyGy2Ixk2",
        "colab": {
          "base_uri": "https://localhost:8080/",
          "height": 235
        },
        "outputId": "5f75fb1b-1af0-4327-d848-ec1d18c2358f"
      },
      "source": [
        "model = keras.Sequential()\n",
        "model.add(Input((28,28,1)))\n",
        "model.add(Conv2D(32, (3, 3)))\n",
        "model.add(MaxPooling2D((2, 2)))\n",
        "model.add(Conv2D(64, (3, 3)))\n",
        "model.add(MaxPooling2D((2, 2)))\n",
        "model.add(Flatten())\n",
        "model.add(Dense(10, activation='relu'))\n",
        "model.add(Dense(10, activation='relu'))\n",
        "model.add(Dense(10, activation='softmax'))"
      ],
      "execution_count": null,
      "outputs": [
        {
          "output_type": "error",
          "ename": "NameError",
          "evalue": "ignored",
          "traceback": [
            "\u001b[0;31m---------------------------------------------------------------------------\u001b[0m",
            "\u001b[0;31mNameError\u001b[0m                                 Traceback (most recent call last)",
            "\u001b[0;32m<ipython-input-1-9e5145cb283a>\u001b[0m in \u001b[0;36m<module>\u001b[0;34m()\u001b[0m\n\u001b[0;32m----> 1\u001b[0;31m \u001b[0mmodel\u001b[0m \u001b[0;34m=\u001b[0m \u001b[0mkeras\u001b[0m\u001b[0;34m.\u001b[0m\u001b[0mSequential\u001b[0m\u001b[0;34m(\u001b[0m\u001b[0;34m)\u001b[0m\u001b[0;34m\u001b[0m\u001b[0;34m\u001b[0m\u001b[0m\n\u001b[0m\u001b[1;32m      2\u001b[0m \u001b[0mmodel\u001b[0m\u001b[0;34m.\u001b[0m\u001b[0madd\u001b[0m\u001b[0;34m(\u001b[0m\u001b[0mInput\u001b[0m\u001b[0;34m(\u001b[0m\u001b[0;34m(\u001b[0m\u001b[0;36m28\u001b[0m\u001b[0;34m,\u001b[0m\u001b[0;36m28\u001b[0m\u001b[0;34m,\u001b[0m\u001b[0;36m1\u001b[0m\u001b[0;34m)\u001b[0m\u001b[0;34m)\u001b[0m\u001b[0;34m)\u001b[0m\u001b[0;34m\u001b[0m\u001b[0;34m\u001b[0m\u001b[0m\n\u001b[1;32m      3\u001b[0m \u001b[0mmodel\u001b[0m\u001b[0;34m.\u001b[0m\u001b[0madd\u001b[0m\u001b[0;34m(\u001b[0m\u001b[0mConv2D\u001b[0m\u001b[0;34m(\u001b[0m\u001b[0;36m32\u001b[0m\u001b[0;34m,\u001b[0m \u001b[0;34m(\u001b[0m\u001b[0;36m3\u001b[0m\u001b[0;34m,\u001b[0m \u001b[0;36m3\u001b[0m\u001b[0;34m)\u001b[0m\u001b[0;34m)\u001b[0m\u001b[0;34m)\u001b[0m\u001b[0;34m\u001b[0m\u001b[0;34m\u001b[0m\u001b[0m\n\u001b[1;32m      4\u001b[0m \u001b[0mmodel\u001b[0m\u001b[0;34m.\u001b[0m\u001b[0madd\u001b[0m\u001b[0;34m(\u001b[0m\u001b[0mMaxPooling2D\u001b[0m\u001b[0;34m(\u001b[0m\u001b[0;34m(\u001b[0m\u001b[0;36m2\u001b[0m\u001b[0;34m,\u001b[0m \u001b[0;36m2\u001b[0m\u001b[0;34m)\u001b[0m\u001b[0;34m)\u001b[0m\u001b[0;34m)\u001b[0m\u001b[0;34m\u001b[0m\u001b[0;34m\u001b[0m\u001b[0m\n\u001b[1;32m      5\u001b[0m \u001b[0mmodel\u001b[0m\u001b[0;34m.\u001b[0m\u001b[0madd\u001b[0m\u001b[0;34m(\u001b[0m\u001b[0mConv2D\u001b[0m\u001b[0;34m(\u001b[0m\u001b[0;36m64\u001b[0m\u001b[0;34m,\u001b[0m \u001b[0;34m(\u001b[0m\u001b[0;36m3\u001b[0m\u001b[0;34m,\u001b[0m \u001b[0;36m3\u001b[0m\u001b[0;34m)\u001b[0m\u001b[0;34m)\u001b[0m\u001b[0;34m)\u001b[0m\u001b[0;34m\u001b[0m\u001b[0;34m\u001b[0m\u001b[0m\n",
            "\u001b[0;31mNameError\u001b[0m: name 'keras' is not defined"
          ]
        }
      ]
    },
    {
      "cell_type": "code",
      "metadata": {
        "id": "cuW2ftNT2trB",
        "colab": {
          "base_uri": "https://localhost:8080/",
          "height": 235
        },
        "outputId": "bfb70fd5-ac31-4cae-ca46-b438901dffad"
      },
      "source": [
        "model.compile(optimizer=\"adam\", loss=\"sparse_categorical_crossentropy\", metrics=[\"accuracy\"])\n",
        "model.summary()\n",
        "\n",
        "\n",
        "model.fit(train_x, train_y, epochs=5, verbose=1, batch_size=128)\n",
        "\n",
        "\n",
        "loss, acc = model.evaluate(test_x, test_y)\n",
        "print(\"loss=\",loss)\n",
        "print(\"acc=\",acc)\n",
        "\n",
        "y_ = model.predict(test_x)\n",
        "predicted = np.argmax(y_, axis=1)\n",
        "\n",
        "print(predicted)\n"
      ],
      "execution_count": null,
      "outputs": [
        {
          "output_type": "error",
          "ename": "NameError",
          "evalue": "ignored",
          "traceback": [
            "\u001b[0;31m---------------------------------------------------------------------------\u001b[0m",
            "\u001b[0;31mNameError\u001b[0m                                 Traceback (most recent call last)",
            "\u001b[0;32m<ipython-input-5-1cbfdf1ef8ea>\u001b[0m in \u001b[0;36m<module>\u001b[0;34m()\u001b[0m\n\u001b[0;32m----> 1\u001b[0;31m \u001b[0mmodel\u001b[0m\u001b[0;34m.\u001b[0m\u001b[0mcompile\u001b[0m\u001b[0;34m(\u001b[0m\u001b[0moptimizer\u001b[0m\u001b[0;34m=\u001b[0m\u001b[0;34m\"adam\"\u001b[0m\u001b[0;34m,\u001b[0m \u001b[0mloss\u001b[0m\u001b[0;34m=\u001b[0m\u001b[0;34m\"sparse_categorical_crossentropy\"\u001b[0m\u001b[0;34m,\u001b[0m \u001b[0mmetrics\u001b[0m\u001b[0;34m=\u001b[0m\u001b[0;34m[\u001b[0m\u001b[0;34m\"accuracy\"\u001b[0m\u001b[0;34m]\u001b[0m\u001b[0;34m)\u001b[0m\u001b[0;34m\u001b[0m\u001b[0;34m\u001b[0m\u001b[0m\n\u001b[0m\u001b[1;32m      2\u001b[0m \u001b[0mmodel\u001b[0m\u001b[0;34m.\u001b[0m\u001b[0msummary\u001b[0m\u001b[0;34m(\u001b[0m\u001b[0;34m)\u001b[0m\u001b[0;34m\u001b[0m\u001b[0;34m\u001b[0m\u001b[0m\n\u001b[1;32m      3\u001b[0m \u001b[0;34m\u001b[0m\u001b[0m\n\u001b[1;32m      4\u001b[0m \u001b[0;34m\u001b[0m\u001b[0m\n\u001b[1;32m      5\u001b[0m \u001b[0mmodel\u001b[0m\u001b[0;34m.\u001b[0m\u001b[0mfit\u001b[0m\u001b[0;34m(\u001b[0m\u001b[0mtrain_x\u001b[0m\u001b[0;34m,\u001b[0m \u001b[0mtrain_y\u001b[0m\u001b[0;34m,\u001b[0m \u001b[0mepochs\u001b[0m\u001b[0;34m=\u001b[0m\u001b[0;36m5\u001b[0m\u001b[0;34m,\u001b[0m \u001b[0mverbose\u001b[0m\u001b[0;34m=\u001b[0m\u001b[0;36m1\u001b[0m\u001b[0;34m,\u001b[0m \u001b[0mbatch_size\u001b[0m\u001b[0;34m=\u001b[0m\u001b[0;36m128\u001b[0m\u001b[0;34m)\u001b[0m\u001b[0;34m\u001b[0m\u001b[0;34m\u001b[0m\u001b[0m\n",
            "\u001b[0;31mNameError\u001b[0m: name 'model' is not defined"
          ]
        }
      ]
    },
    {
      "cell_type": "markdown",
      "metadata": {
        "id": "_6yj3_5GI064"
      },
      "source": [
        "# Functional API 타입 CNN MNIST"
      ]
    },
    {
      "cell_type": "code",
      "metadata": {
        "id": "nRkSjvdSkgfc"
      },
      "source": [
        "import numpy as np\n",
        "import matplotlib.pyplot as plt\n",
        "\n",
        "import tensorflow as tf\n",
        "from tensorflow import keras\n",
        "from tensorflow.keras import optimizers\n",
        "from tensorflow.keras.layers import Dense, Flatten, Conv2D, MaxPooling2D, Input\n",
        "\n",
        "import time"
      ],
      "execution_count": null,
      "outputs": []
    },
    {
      "cell_type": "code",
      "metadata": {
        "id": "H1C6Ev9hI7JD",
        "colab": {
          "base_uri": "https://localhost:8080/",
          "height": 89
        },
        "outputId": "1adc2f54-2e15-489a-d3d7-df0ca669ed90"
      },
      "source": [
        "# model = keras.Sequential()\n",
        "# model.add(Input((28,28,1)))\n",
        "# model.add(Conv2D(32, (3, 3)))\n",
        "# model.add(MaxPooling2D((2, 2)))\n",
        "# model.add(Conv2D(64, (3, 3)))\n",
        "# model.add(MaxPooling2D((2, 2)))\n",
        "# model.add(Flatten())\n",
        "# model.add(Dense(10, activation='relu'))\n",
        "# model.add(Dense(10, activation='relu'))\n",
        "# model.add(Dense(10, activation='softmax'))\n",
        "\n",
        "from tensorflow.keras import Model\n",
        "\n",
        "input = Input((28,28,1))\n",
        "x = Conv2D(32, (3,3))(input)\n",
        "x = MaxPooling2D((2,2))(x)\n",
        "x = Conv2D(32, (3,3))(x)\n",
        "x = MaxPooling2D((2,2))(x)\n",
        "x = Flatten()(x)\n",
        "x = Dense(10, activation='relu')(x)\n",
        "x = Dense(10, activation='relu')(x)\n",
        "output = Dense(10, activation='softmax')(x)\n",
        "\n",
        "model = Model(input, output)"
      ],
      "execution_count": null,
      "outputs": [
        {
          "output_type": "stream",
          "text": [
            "WARNING:tensorflow:From /tensorflow-1.15.2/python3.6/tensorflow_core/python/ops/resource_variable_ops.py:1630: calling BaseResourceVariable.__init__ (from tensorflow.python.ops.resource_variable_ops) with constraint is deprecated and will be removed in a future version.\n",
            "Instructions for updating:\n",
            "If using Keras pass *_constraint arguments to layers.\n"
          ],
          "name": "stdout"
        }
      ]
    },
    {
      "cell_type": "code",
      "metadata": {
        "id": "SH90FFocI7GG",
        "colab": {
          "base_uri": "https://localhost:8080/",
          "height": 725
        },
        "outputId": "886e72f1-83a3-40c2-8fba-cc19eb51d4de"
      },
      "source": [
        "model.compile(optimizer=\"adam\", loss=\"sparse_categorical_crossentropy\", metrics=[\"accuracy\"])\n",
        "model.summary()\n",
        "\n",
        "\n",
        "model.fit(train_x, train_y, epochs=5, verbose=1, batch_size=128)\n",
        "\n",
        "\n",
        "loss, acc = model.evaluate(test_x, test_y)\n",
        "print(\"loss=\",loss)\n",
        "print(\"acc=\",acc)\n",
        "\n",
        "y_ = model.predict(test_x)\n",
        "predicted = np.argmax(y_, axis=1)\n",
        "\n",
        "print(predicted)"
      ],
      "execution_count": null,
      "outputs": [
        {
          "output_type": "stream",
          "text": [
            "Model: \"model\"\n",
            "_________________________________________________________________\n",
            "Layer (type)                 Output Shape              Param #   \n",
            "=================================================================\n",
            "input_1 (InputLayer)         [(None, 28, 28, 1)]       0         \n",
            "_________________________________________________________________\n",
            "conv2d (Conv2D)              (None, 26, 26, 32)        320       \n",
            "_________________________________________________________________\n",
            "max_pooling2d (MaxPooling2D) (None, 13, 13, 32)        0         \n",
            "_________________________________________________________________\n",
            "conv2d_1 (Conv2D)            (None, 11, 11, 32)        9248      \n",
            "_________________________________________________________________\n",
            "max_pooling2d_1 (MaxPooling2 (None, 5, 5, 32)          0         \n",
            "_________________________________________________________________\n",
            "flatten (Flatten)            (None, 800)               0         \n",
            "_________________________________________________________________\n",
            "dense (Dense)                (None, 10)                8010      \n",
            "_________________________________________________________________\n",
            "dense_1 (Dense)              (None, 10)                110       \n",
            "_________________________________________________________________\n",
            "dense_2 (Dense)              (None, 10)                110       \n",
            "=================================================================\n",
            "Total params: 17,798\n",
            "Trainable params: 17,798\n",
            "Non-trainable params: 0\n",
            "_________________________________________________________________\n",
            "Train on 60000 samples\n",
            "Epoch 1/5\n",
            "60000/60000 [==============================] - 9s 153us/sample - loss: 0.6246 - acc: 0.7989\n",
            "Epoch 2/5\n",
            "60000/60000 [==============================] - 3s 53us/sample - loss: 0.1531 - acc: 0.9543\n",
            "Epoch 3/5\n",
            "60000/60000 [==============================] - 3s 53us/sample - loss: 0.1111 - acc: 0.9671\n",
            "Epoch 4/5\n",
            "60000/60000 [==============================] - 3s 54us/sample - loss: 0.0910 - acc: 0.9731\n",
            "Epoch 5/5\n",
            "60000/60000 [==============================] - 3s 53us/sample - loss: 0.0780 - acc: 0.9771\n",
            "10000/10000 [==============================] - 1s 84us/sample - loss: 0.0749 - acc: 0.9762\n",
            "loss= 0.07491177502721548\n",
            "acc= 0.9762\n",
            "[7 2 1 ... 4 5 6]\n"
          ],
          "name": "stdout"
        }
      ]
    },
    {
      "cell_type": "markdown",
      "metadata": {
        "id": "WRB8AVGJK_Iz"
      },
      "source": [
        "# 다중 입력\n",
        "\n",
        "copy from https://www.pyimagesearch.com/2019/02/04/keras-multiple-inputs-and-mixed-data/\n"
      ]
    },
    {
      "cell_type": "markdown",
      "metadata": {
        "id": "aR8fS0GoE3m_"
      },
      "source": [
        "## 데이터 준비"
      ]
    },
    {
      "cell_type": "code",
      "metadata": {
        "id": "w6UWmnjzI7DS",
        "colab": {
          "base_uri": "https://localhost:8080/",
          "height": 104
        },
        "outputId": "e6a5353d-7db0-46ef-e932-51a76009da5f"
      },
      "source": [
        "!git clone https://github.com/emanhamed/Houses-dataset"
      ],
      "execution_count": null,
      "outputs": [
        {
          "output_type": "stream",
          "text": [
            "Cloning into 'Houses-dataset'...\n",
            "remote: Enumerating objects: 2166, done.\u001b[K\n",
            "remote: Total 2166 (delta 0), reused 0 (delta 0), pack-reused 2166\u001b[K\n",
            "Receiving objects: 100% (2166/2166), 176.26 MiB | 13.77 MiB/s, done.\n",
            "Resolving deltas: 100% (20/20), done.\n"
          ],
          "name": "stdout"
        }
      ]
    },
    {
      "cell_type": "markdown",
      "metadata": {
        "id": "tgLmgfnJFJkR"
      },
      "source": [
        "```\n",
        "Houses-dataset/\n",
        "  Houses Dataset/\n",
        "    100_bathroom.jpg\n",
        "    100_bedroom.jpg\n",
        "    ...\n",
        "    HousesInfo.txt\n",
        "```"
      ]
    },
    {
      "cell_type": "code",
      "metadata": {
        "id": "LnppMLOAFgtQ",
        "colab": {
          "base_uri": "https://localhost:8080/",
          "height": 190
        },
        "outputId": "d7123369-3dce-436f-ccc1-412445adf9b0"
      },
      "source": [
        "!head 'Houses-dataset/Houses Dataset/HousesInfo.txt'"
      ],
      "execution_count": null,
      "outputs": [
        {
          "output_type": "stream",
          "text": [
            "4 4 4053 85255 869500\n",
            "4 3 3343 36372 865200\n",
            "3 4 3923 85266 889000\n",
            "5 5 4022 85262 910000\n",
            "3 4 4116 85266 971226\n",
            "4 5 4581 85266 1249000\n",
            "3 4 2544 85262 799000\n",
            "4 5 5524 85266 1698000\n",
            "3 4 4229 85255 1749000\n",
            "4 5 3550 85262 1500000\n"
          ],
          "name": "stdout"
        }
      ]
    },
    {
      "cell_type": "code",
      "metadata": {
        "id": "pmpEfpGogwJb",
        "colab": {
          "base_uri": "https://localhost:8080/",
          "height": 35
        },
        "outputId": "fb1bb6ba-e63c-4e53-c69b-0a9237b93097"
      },
      "source": [
        "import matplotlib\n",
        "\n",
        "from keras.optimizers import Adam\n",
        "from keras.preprocessing.image import img_to_array\n",
        "from sklearn.preprocessing import LabelBinarizer\n",
        "from sklearn.model_selection import train_test_split\n",
        "\n",
        "from imutils import paths\n",
        "import matplotlib.pyplot as plt\n",
        "import numpy as np\n",
        "import argparse\n",
        "import random\n",
        "import pickle\n",
        "import cv2\n",
        "import os"
      ],
      "execution_count": null,
      "outputs": [
        {
          "output_type": "stream",
          "text": [
            "Using TensorFlow backend.\n"
          ],
          "name": "stderr"
        }
      ]
    },
    {
      "cell_type": "code",
      "metadata": {
        "id": "FEteIEtNFwvP"
      },
      "source": [
        "# import the necessary packages\n",
        "from sklearn.preprocessing import LabelBinarizer\n",
        "from sklearn.preprocessing import MinMaxScaler\n",
        "import pandas as pd\n",
        "import numpy as np\n",
        "import glob\n",
        "import cv2\n",
        "import os\n",
        "\n",
        "def load_house_attributes(inputPath):\n",
        "\n",
        "\tcols = [\"bedrooms\", \"bathrooms\", \"area\", \"zipcode\", \"price\"]\n",
        "\tdf = pd.read_csv(inputPath, sep=\" \", header=None, names=cols)\n",
        " \n",
        "\t# determine (1) the unique zip codes and (2) the number of data\n",
        "\t# points with each zip code\n",
        "\tzipcodes = df[\"zipcode\"].value_counts().keys().tolist()\n",
        "\tcounts = df[\"zipcode\"].value_counts().tolist()\n",
        " \n",
        "\t# loop over each of the unique zip codes and their corresponding\n",
        "\t# count\n",
        "\tfor (zipcode, count) in zip(zipcodes, counts):\n",
        "\t\t# the zip code counts for our housing dataset is *extremely*\n",
        "\t\t# unbalanced (some only having 1 or 2 houses per zip code)\n",
        "\t\t# so let's sanitize our data by removing any houses with less\n",
        "\t\t# than 25 houses per zip code\n",
        "\t\tif count < 25:\n",
        "\t\t\tidxs = df[df[\"zipcode\"] == zipcode].index\n",
        "\t\t\tdf.drop(idxs, inplace=True)\n",
        "   \n",
        "\t# return the data frame\n",
        "\treturn df\n",
        "\n",
        "def process_house_attributes(df, train, test):\n",
        "\t# initialize the column names of the continuous data\n",
        "\tcontinuous = [\"bedrooms\", \"bathrooms\", \"area\"]\n",
        "\n",
        "\t# performin min-max scaling each continuous feature column to\n",
        "\t# the range [0, 1]\n",
        "\tcs = MinMaxScaler()\n",
        "\ttrainContinuous = cs.fit_transform(train[continuous])\n",
        "\ttestContinuous = cs.transform(test[continuous])\n",
        " \n",
        "\t# one-hot encode the zip code categorical data (by definition of\n",
        "\t# one-hot encoding, all output features are now in the range [0, 1])\n",
        "\tzipBinarizer = LabelBinarizer().fit(df[\"zipcode\"])\n",
        "\ttrainCategorical = zipBinarizer.transform(train[\"zipcode\"])\n",
        "\ttestCategorical = zipBinarizer.transform(test[\"zipcode\"])\n",
        " \n",
        "\t# construct our training and testing data points by concatenating\n",
        "\t# the categorical features with the continuous features\n",
        "\ttrainX = np.hstack([trainCategorical, trainContinuous])\n",
        "\ttestX = np.hstack([testCategorical, testContinuous])\n",
        " \n",
        "\t# return the concatenated training and testing data\n",
        "\treturn (trainX, testX)  "
      ],
      "execution_count": null,
      "outputs": []
    },
    {
      "cell_type": "code",
      "metadata": {
        "id": "_I8GQV4mFwrk"
      },
      "source": [
        "def load_house_images(df, inputPath):\n",
        "\n",
        "\t# initialize our images array (i.e., the house images themselves)\n",
        "\timages = []\n",
        "\n",
        "\t# loop over the indexes of the houses\n",
        "\tfor i in df.index.values:\n",
        "\t\t# find the four images for the house and sort the file paths,\n",
        "\t\t# ensuring the four are always in the *same order*\n",
        "\t\tbasePath = os.path.sep.join([inputPath, \"{}_*\".format(i + 1)])\n",
        "\t\thousePaths = sorted(list(glob.glob(basePath)))\n",
        "  \n",
        "\t\t# initialize our list of input images along with the output image\n",
        "\t\t# after *combining* the four input images\n",
        "\t\tinputImages = []\n",
        "\t\toutputImage = np.zeros((64, 64, 3), dtype=\"uint8\")\n",
        "  \n",
        "\t\t# loop over the input house paths\n",
        "\t\tfor housePath in housePaths:\n",
        "\t\t\t# load the input image, resize it to be 32 32, and then\n",
        "\t\t\t# update the list of input images\n",
        "\t\t\timage = cv2.imread(housePath)\n",
        "\t\t\timage = cv2.resize(image, (32, 32))\n",
        "\t\t\tinputImages.append(image)\n",
        "   \n",
        "\t\t# tile the four input images in the output image such the first\n",
        "\t\t# image goes in the top-right corner, the second image in the\n",
        "\t\t# top-left corner, the third image in the bottom-right corner,\n",
        "\t\t# and the final image in the bottom-left corner\n",
        "\t\toutputImage[0:32, 0:32] = inputImages[0]\n",
        "\t\toutputImage[0:32, 32:64] = inputImages[1]\n",
        "\t\toutputImage[32:64, 32:64] = inputImages[2]\n",
        "\t\toutputImage[32:64, 0:32] = inputImages[3]\n",
        "\n",
        "\t\t# add the tiled image to our set of images the network will be\n",
        "\t\t# trained on\n",
        "\t\timages.append(outputImage)\n",
        "  \n",
        "\t# return our set of images\n",
        "\treturn np.array(images)  "
      ],
      "execution_count": null,
      "outputs": []
    },
    {
      "cell_type": "markdown",
      "metadata": {
        "id": "HEJ6Gp0qHVi6"
      },
      "source": [
        "### 값 정보 읽기"
      ]
    },
    {
      "cell_type": "code",
      "metadata": {
        "id": "Ke6Xu-5PGdkr"
      },
      "source": [
        "df = load_house_attributes(\"Houses-dataset/Houses Dataset/HousesInfo.txt\")"
      ],
      "execution_count": null,
      "outputs": []
    },
    {
      "cell_type": "code",
      "metadata": {
        "id": "ouQ27yABHR2w",
        "colab": {
          "base_uri": "https://localhost:8080/",
          "height": 198
        },
        "outputId": "5830b3d2-eafa-48f6-942c-a68e1ef63446"
      },
      "source": [
        "df.head()"
      ],
      "execution_count": null,
      "outputs": [
        {
          "output_type": "execute_result",
          "data": {
            "text/html": [
              "<div>\n",
              "<style scoped>\n",
              "    .dataframe tbody tr th:only-of-type {\n",
              "        vertical-align: middle;\n",
              "    }\n",
              "\n",
              "    .dataframe tbody tr th {\n",
              "        vertical-align: top;\n",
              "    }\n",
              "\n",
              "    .dataframe thead th {\n",
              "        text-align: right;\n",
              "    }\n",
              "</style>\n",
              "<table border=\"1\" class=\"dataframe\">\n",
              "  <thead>\n",
              "    <tr style=\"text-align: right;\">\n",
              "      <th></th>\n",
              "      <th>bedrooms</th>\n",
              "      <th>bathrooms</th>\n",
              "      <th>area</th>\n",
              "      <th>zipcode</th>\n",
              "      <th>price</th>\n",
              "    </tr>\n",
              "  </thead>\n",
              "  <tbody>\n",
              "    <tr>\n",
              "      <th>30</th>\n",
              "      <td>5</td>\n",
              "      <td>3.0</td>\n",
              "      <td>2520</td>\n",
              "      <td>93446</td>\n",
              "      <td>789000</td>\n",
              "    </tr>\n",
              "    <tr>\n",
              "      <th>32</th>\n",
              "      <td>3</td>\n",
              "      <td>2.0</td>\n",
              "      <td>1802</td>\n",
              "      <td>93446</td>\n",
              "      <td>365000</td>\n",
              "    </tr>\n",
              "    <tr>\n",
              "      <th>39</th>\n",
              "      <td>3</td>\n",
              "      <td>3.0</td>\n",
              "      <td>2146</td>\n",
              "      <td>93446</td>\n",
              "      <td>455000</td>\n",
              "    </tr>\n",
              "    <tr>\n",
              "      <th>80</th>\n",
              "      <td>4</td>\n",
              "      <td>2.5</td>\n",
              "      <td>2464</td>\n",
              "      <td>91901</td>\n",
              "      <td>599000</td>\n",
              "    </tr>\n",
              "    <tr>\n",
              "      <th>81</th>\n",
              "      <td>2</td>\n",
              "      <td>2.0</td>\n",
              "      <td>1845</td>\n",
              "      <td>91901</td>\n",
              "      <td>529800</td>\n",
              "    </tr>\n",
              "  </tbody>\n",
              "</table>\n",
              "</div>"
            ],
            "text/plain": [
              "    bedrooms  bathrooms  area  zipcode   price\n",
              "30         5        3.0  2520    93446  789000\n",
              "32         3        2.0  1802    93446  365000\n",
              "39         3        3.0  2146    93446  455000\n",
              "80         4        2.5  2464    91901  599000\n",
              "81         2        2.0  1845    91901  529800"
            ]
          },
          "metadata": {
            "tags": []
          },
          "execution_count": 23
        }
      ]
    },
    {
      "cell_type": "markdown",
      "metadata": {
        "id": "J-xIyIR1HZiE"
      },
      "source": [
        "### 영상 데이터 읽기"
      ]
    },
    {
      "cell_type": "code",
      "metadata": {
        "id": "FuZ-lxe_Gde4"
      },
      "source": [
        "images = load_house_images(df, \"Houses-dataset/Houses Dataset/\")\n",
        "images = images/255."
      ],
      "execution_count": null,
      "outputs": []
    },
    {
      "cell_type": "code",
      "metadata": {
        "id": "wZhmpoc8HNfQ",
        "colab": {
          "base_uri": "https://localhost:8080/",
          "height": 35
        },
        "outputId": "24136eb0-c8ad-4f8c-c97d-cd5525ce7782"
      },
      "source": [
        "print(images.shape)"
      ],
      "execution_count": null,
      "outputs": [
        {
          "output_type": "stream",
          "text": [
            "(362, 64, 64, 3)\n"
          ],
          "name": "stdout"
        }
      ]
    },
    {
      "cell_type": "code",
      "metadata": {
        "id": "ZW9H5fZuHNbW"
      },
      "source": [
        "(trainAttrX, testAttrX, trainImagesX, testImagesX) = train_test_split(df, images, test_size=0.25, random_state=42)\n",
        "\n",
        "maxPrice = trainAttrX[\"price\"].max()\n",
        "trainY = trainAttrX[\"price\"] / maxPrice\n",
        "testY = testAttrX[\"price\"] / maxPrice\n",
        "(trainAttrX, testAttrX) = process_house_attributes(df, trainAttrX, testAttrX)"
      ],
      "execution_count": null,
      "outputs": []
    },
    {
      "cell_type": "code",
      "metadata": {
        "id": "ZoR7qloQHNYn",
        "colab": {
          "base_uri": "https://localhost:8080/",
          "height": 121
        },
        "outputId": "765a05fc-acf7-4571-d284-3db5dc1ad913"
      },
      "source": [
        "print(\"tainAttrX.shape=\", trainAttrX.shape)\n",
        "print(\"trainImagesX.shape=\", trainImagesX.shape)\n",
        "print(\"trainY.shape=\", trainY.shape)\n",
        "print(\"testAttrX.shape=\", testAttrX.shape)\n",
        "print(\"testImageX.shape=\", testImagesX.shape)\n",
        "print(\"testY.shape=\", testY.shape)"
      ],
      "execution_count": null,
      "outputs": [
        {
          "output_type": "stream",
          "text": [
            "tainAttrX.shape= (271, 10)\n",
            "trainImagesX.shape= (271, 64, 64, 3)\n",
            "trainY.shape= (271,)\n",
            "testAttrX.shape= (91, 10)\n",
            "testImageX.shape= (91, 64, 64, 3)\n",
            "testY.shape= (91,)\n"
          ],
          "name": "stdout"
        }
      ]
    },
    {
      "cell_type": "code",
      "metadata": {
        "id": "aZclMyzHFwpA"
      },
      "source": [
        "# import the necessary packages\n",
        "from tensorflow.keras.models import Sequential\n",
        "from tensorflow.keras.layers import BatchNormalization\n",
        "from tensorflow.keras.layers import Conv2D\n",
        "from tensorflow.keras.layers import MaxPooling2D\n",
        "from tensorflow.keras.layers import Activation\n",
        "from tensorflow.keras.layers import Dropout\n",
        "from tensorflow.keras.layers import Dense\n",
        "from tensorflow.keras.layers import Flatten\n",
        "from tensorflow.keras.layers import Input\n",
        "from tensorflow.keras.models import Model\n",
        "from tensorflow.keras.layers import concatenate"
      ],
      "execution_count": null,
      "outputs": []
    },
    {
      "cell_type": "markdown",
      "metadata": {
        "id": "kow-UjvTIlO7"
      },
      "source": [
        "## 개별 모델로 학습 실행"
      ]
    },
    {
      "cell_type": "markdown",
      "metadata": {
        "id": "rMiM6S1aJDdi"
      },
      "source": [
        "### 속성 모델"
      ]
    },
    {
      "cell_type": "code",
      "metadata": {
        "id": "a7ABhyiqFwj7"
      },
      "source": [
        "input = Input(trainAttrX[0].shape)\n",
        "x = Dense(10, activation='relu')(input)\n",
        "x = Dense(10, activation='relu')(x)\n",
        "output = Dense(1)(x)\n",
        "\n",
        "attr_model = Model(input, output)"
      ],
      "execution_count": null,
      "outputs": []
    },
    {
      "cell_type": "code",
      "metadata": {
        "id": "roratdC_JdVs",
        "colab": {
          "base_uri": "https://localhost:8080/",
          "height": 311
        },
        "outputId": "2d29e1ab-9d78-4942-d1c0-9e29398b4654"
      },
      "source": [
        "attr_model.compile(optimizer=\"adam\", loss=\"mse\")\n",
        "attr_model.summary()\n",
        "\n",
        "attr_model.fit(trainAttrX, trainY, epochs=100, verbose=0, batch_size=128)"
      ],
      "execution_count": null,
      "outputs": [
        {
          "output_type": "stream",
          "text": [
            "Model: \"model_1\"\n",
            "_________________________________________________________________\n",
            "Layer (type)                 Output Shape              Param #   \n",
            "=================================================================\n",
            "input_2 (InputLayer)         [(None, 10)]              0         \n",
            "_________________________________________________________________\n",
            "dense_3 (Dense)              (None, 10)                110       \n",
            "_________________________________________________________________\n",
            "dense_4 (Dense)              (None, 10)                110       \n",
            "_________________________________________________________________\n",
            "dense_5 (Dense)              (None, 1)                 11        \n",
            "=================================================================\n",
            "Total params: 231\n",
            "Trainable params: 231\n",
            "Non-trainable params: 0\n",
            "_________________________________________________________________\n"
          ],
          "name": "stdout"
        },
        {
          "output_type": "execute_result",
          "data": {
            "text/plain": [
              "<tensorflow.python.keras.callbacks.History at 0x7ff0812404e0>"
            ]
          },
          "metadata": {
            "tags": []
          },
          "execution_count": 30
        }
      ]
    },
    {
      "cell_type": "code",
      "metadata": {
        "id": "Hk5WagwnJdTO",
        "colab": {
          "base_uri": "https://localhost:8080/",
          "height": 35
        },
        "outputId": "7bdbf37b-a8af-40c4-a712-e2068aaea59a"
      },
      "source": [
        "preds = attr_model.predict(testAttrX)\n",
        "\n",
        "diff = preds.flatten() - testY\n",
        "percentDiff = (diff / testY) * 100\n",
        "absPercentDiff = np.abs(percentDiff)\n",
        "\n",
        "mean = np.mean(absPercentDiff)\n",
        "std = np.std(absPercentDiff)\n",
        "\n",
        "print(\"[INFO] mean: {:.2f}%, std: {:.2f}\".format(mean, std))"
      ],
      "execution_count": null,
      "outputs": [
        {
          "output_type": "stream",
          "text": [
            "[INFO] mean: 38.70%, std: 61.30\n"
          ],
          "name": "stdout"
        }
      ]
    },
    {
      "cell_type": "code",
      "metadata": {
        "id": "3L6Nr-1ZJdP_"
      },
      "source": [
        ""
      ],
      "execution_count": null,
      "outputs": []
    },
    {
      "cell_type": "markdown",
      "metadata": {
        "id": "EY4cMiohJFKc"
      },
      "source": [
        "### 영상 모델"
      ]
    },
    {
      "cell_type": "code",
      "metadata": {
        "id": "JEbOBK0ULRlT"
      },
      "source": [
        "input = Input(trainImagesX[0].shape)\n",
        "x = Conv2D(32, (3,3))(input)\n",
        "x = MaxPooling2D((2,2))(x)\n",
        "x = Conv2D(32, (3,3))(x)\n",
        "x = MaxPooling2D((2,2))(x)\n",
        "x = Flatten()(x)\n",
        "x = Dense(10, activation='relu')(x)\n",
        "x = Dense(10, activation='relu')(x)\n",
        "output = Dense(1)(x)\n",
        "\n",
        "image_model = Model(input, output)"
      ],
      "execution_count": null,
      "outputs": []
    },
    {
      "cell_type": "code",
      "metadata": {
        "id": "jprcg41pLRhL",
        "colab": {
          "base_uri": "https://localhost:8080/",
          "height": 484
        },
        "outputId": "80c246de-011b-41cd-d7ac-575399063123"
      },
      "source": [
        "image_model.compile(optimizer=\"adam\", loss=\"mse\")\n",
        "image_model.summary()\n",
        "\n",
        "image_model.fit(trainImagesX, trainY, epochs=100, verbose=0, batch_size=128)"
      ],
      "execution_count": null,
      "outputs": [
        {
          "output_type": "stream",
          "text": [
            "Model: \"model_2\"\n",
            "_________________________________________________________________\n",
            "Layer (type)                 Output Shape              Param #   \n",
            "=================================================================\n",
            "input_3 (InputLayer)         [(None, 64, 64, 3)]       0         \n",
            "_________________________________________________________________\n",
            "conv2d_2 (Conv2D)            (None, 62, 62, 32)        896       \n",
            "_________________________________________________________________\n",
            "max_pooling2d_2 (MaxPooling2 (None, 31, 31, 32)        0         \n",
            "_________________________________________________________________\n",
            "conv2d_3 (Conv2D)            (None, 29, 29, 32)        9248      \n",
            "_________________________________________________________________\n",
            "max_pooling2d_3 (MaxPooling2 (None, 14, 14, 32)        0         \n",
            "_________________________________________________________________\n",
            "flatten_1 (Flatten)          (None, 6272)              0         \n",
            "_________________________________________________________________\n",
            "dense_6 (Dense)              (None, 10)                62730     \n",
            "_________________________________________________________________\n",
            "dense_7 (Dense)              (None, 10)                110       \n",
            "_________________________________________________________________\n",
            "dense_8 (Dense)              (None, 1)                 11        \n",
            "=================================================================\n",
            "Total params: 72,995\n",
            "Trainable params: 72,995\n",
            "Non-trainable params: 0\n",
            "_________________________________________________________________\n"
          ],
          "name": "stdout"
        },
        {
          "output_type": "execute_result",
          "data": {
            "text/plain": [
              "<tensorflow.python.keras.callbacks.History at 0x7ff0810c4320>"
            ]
          },
          "metadata": {
            "tags": []
          },
          "execution_count": 33
        }
      ]
    },
    {
      "cell_type": "code",
      "metadata": {
        "id": "OROOOvr9LRet",
        "colab": {
          "base_uri": "https://localhost:8080/",
          "height": 35
        },
        "outputId": "1216f1e0-25e2-449c-b983-fa7dadc115e2"
      },
      "source": [
        "preds = image_model.predict(testImagesX)\n",
        "\n",
        "diff = preds.flatten() - testY\n",
        "percentDiff = (diff / testY) * 100\n",
        "absPercentDiff = np.abs(percentDiff)\n",
        "\n",
        "mean = np.mean(absPercentDiff)\n",
        "std = np.std(absPercentDiff)\n",
        "\n",
        "print(\"[INFO] mean: {:.2f}%, std: {:.2f}\".format(mean, std))"
      ],
      "execution_count": null,
      "outputs": [
        {
          "output_type": "stream",
          "text": [
            "[INFO] mean: 96.52%, std: 149.13\n"
          ],
          "name": "stdout"
        }
      ]
    },
    {
      "cell_type": "markdown",
      "metadata": {
        "id": "k7DX0yusIn78"
      },
      "source": [
        "## 다중 입력 모델로 학습 실행"
      ]
    },
    {
      "cell_type": "code",
      "metadata": {
        "id": "P7iDDfb-LRb6"
      },
      "source": [
        "attr_input = Input(trainAttrX[0].shape)\n",
        "x = Dense(10, activation='relu')(attr_input)\n",
        "attr_out = Dense(10, activation='linear')(x)\n",
        "\n",
        "image_input = Input(trainImagesX[0].shape)\n",
        "x = Conv2D(32, (3,3))(image_input)\n",
        "x = MaxPooling2D((2,2))(x)\n",
        "x = Conv2D(32, (3,3))(x)\n",
        "x = MaxPooling2D((2,2))(x)\n",
        "x = Flatten()(x)\n",
        "x = Dense(10, activation='relu')(x)\n",
        "image_output = Dense(10, activation='linear')(x)\n",
        "\n",
        "combined_input = concatenate([attr_out, image_output])\n",
        "\n",
        "x = Dense(4, activation=\"relu\")(combined_input)\n",
        "output = Dense(1)(x)\n",
        "\n",
        "\n",
        "combined_model = Model([attr_input, image_input], output)"
      ],
      "execution_count": null,
      "outputs": []
    },
    {
      "cell_type": "code",
      "metadata": {
        "id": "2fVpru2CLRYu",
        "colab": {
          "base_uri": "https://localhost:8080/",
          "height": 674
        },
        "outputId": "b6ebdd8f-1940-4a43-cae6-d6355fcbff2a"
      },
      "source": [
        "combined_model.compile(optimizer=\"adam\", loss=\"mse\")\n",
        "combined_model.summary()\n",
        "\n",
        "combined_model.fit([trainAttrX, trainImagesX], trainY, epochs=100, verbose=0, batch_size=128)"
      ],
      "execution_count": null,
      "outputs": [
        {
          "output_type": "stream",
          "text": [
            "Model: \"model_3\"\n",
            "__________________________________________________________________________________________________\n",
            "Layer (type)                    Output Shape         Param #     Connected to                     \n",
            "==================================================================================================\n",
            "input_5 (InputLayer)            [(None, 64, 64, 3)]  0                                            \n",
            "__________________________________________________________________________________________________\n",
            "conv2d_4 (Conv2D)               (None, 62, 62, 32)   896         input_5[0][0]                    \n",
            "__________________________________________________________________________________________________\n",
            "max_pooling2d_4 (MaxPooling2D)  (None, 31, 31, 32)   0           conv2d_4[0][0]                   \n",
            "__________________________________________________________________________________________________\n",
            "conv2d_5 (Conv2D)               (None, 29, 29, 32)   9248        max_pooling2d_4[0][0]            \n",
            "__________________________________________________________________________________________________\n",
            "max_pooling2d_5 (MaxPooling2D)  (None, 14, 14, 32)   0           conv2d_5[0][0]                   \n",
            "__________________________________________________________________________________________________\n",
            "input_4 (InputLayer)            [(None, 10)]         0                                            \n",
            "__________________________________________________________________________________________________\n",
            "flatten_2 (Flatten)             (None, 6272)         0           max_pooling2d_5[0][0]            \n",
            "__________________________________________________________________________________________________\n",
            "dense_9 (Dense)                 (None, 10)           110         input_4[0][0]                    \n",
            "__________________________________________________________________________________________________\n",
            "dense_11 (Dense)                (None, 10)           62730       flatten_2[0][0]                  \n",
            "__________________________________________________________________________________________________\n",
            "dense_10 (Dense)                (None, 10)           110         dense_9[0][0]                    \n",
            "__________________________________________________________________________________________________\n",
            "dense_12 (Dense)                (None, 10)           110         dense_11[0][0]                   \n",
            "__________________________________________________________________________________________________\n",
            "concatenate (Concatenate)       (None, 20)           0           dense_10[0][0]                   \n",
            "                                                                 dense_12[0][0]                   \n",
            "__________________________________________________________________________________________________\n",
            "dense_13 (Dense)                (None, 4)            84          concatenate[0][0]                \n",
            "__________________________________________________________________________________________________\n",
            "dense_14 (Dense)                (None, 1)            5           dense_13[0][0]                   \n",
            "==================================================================================================\n",
            "Total params: 73,293\n",
            "Trainable params: 73,293\n",
            "Non-trainable params: 0\n",
            "__________________________________________________________________________________________________\n"
          ],
          "name": "stdout"
        },
        {
          "output_type": "execute_result",
          "data": {
            "text/plain": [
              "<tensorflow.python.keras.callbacks.History at 0x7ff0810eecf8>"
            ]
          },
          "metadata": {
            "tags": []
          },
          "execution_count": 36
        }
      ]
    },
    {
      "cell_type": "code",
      "metadata": {
        "id": "cdJXO5maFwh0",
        "colab": {
          "base_uri": "https://localhost:8080/",
          "height": 35
        },
        "outputId": "e78b393e-283b-4314-c259-04f130f78f6c"
      },
      "source": [
        "preds = combined_model.predict([testAttrX, testImagesX])\n",
        "\n",
        "diff = preds.flatten() - testY\n",
        "percentDiff = (diff / testY) * 100\n",
        "absPercentDiff = np.abs(percentDiff)\n",
        "\n",
        "mean = np.mean(absPercentDiff)\n",
        "std = np.std(absPercentDiff)\n",
        "\n",
        "print(\"[INFO] mean: {:.2f}%, std: {:.2f}\".format(mean, std))"
      ],
      "execution_count": null,
      "outputs": [
        {
          "output_type": "stream",
          "text": [
            "[INFO] mean: 115.42%, std: 189.54\n"
          ],
          "name": "stdout"
        }
      ]
    },
    {
      "cell_type": "code",
      "metadata": {
        "id": "ZAh3boxuFwez"
      },
      "source": [
        ""
      ],
      "execution_count": null,
      "outputs": []
    },
    {
      "cell_type": "markdown",
      "metadata": {
        "id": "ejOg9i5KMU28"
      },
      "source": [
        "# 다중 출력\n",
        "\n",
        "copy from https://www.pyimagesearch.com/2018/06/04/keras-multiple-outputs-and-multiple-losses/"
      ]
    },
    {
      "cell_type": "markdown",
      "metadata": {
        "id": "oLnb63o5ottv"
      },
      "source": [
        "## 데이터 준비"
      ]
    },
    {
      "cell_type": "code",
      "metadata": {
        "id": "FBXMpbDn76uf",
        "colab": {
          "base_uri": "https://localhost:8080/",
          "height": 294
        },
        "outputId": "102a84c1-c5dd-4425-d39f-717e083afc34"
      },
      "source": [
        "!wget https://github.com/dhrim/hongik_2021/raw/master/multi_label_classification/fashion_dataset.zip"
      ],
      "execution_count": null,
      "outputs": [
        {
          "output_type": "stream",
          "text": [
            "--2020-07-16 02:46:57--  https://github.com/dhrim/hongik_2021/raw/master/multi_label_classification/fashion_dataset.zip\n",
            "Resolving github.com (github.com)... 140.82.114.3\n",
            "Connecting to github.com (github.com)|140.82.114.3|:443... connected.\n",
            "HTTP request sent, awaiting response... 302 Found\n",
            "Location: https://raw.githubusercontent.com/dhrim/hongik_2021/master/multi_label_classification/fashion_dataset.zip [following]\n",
            "--2020-07-16 02:46:58--  https://raw.githubusercontent.com/dhrim/hongik_2021/master/multi_label_classification/fashion_dataset.zip\n",
            "Resolving raw.githubusercontent.com (raw.githubusercontent.com)... 151.101.0.133, 151.101.64.133, 151.101.128.133, ...\n",
            "Connecting to raw.githubusercontent.com (raw.githubusercontent.com)|151.101.0.133|:443... connected.\n",
            "HTTP request sent, awaiting response... 200 OK\n",
            "Length: 26991216 (26M) [application/zip]\n",
            "Saving to: ‘fashion_dataset.zip’\n",
            "\n",
            "fashion_dataset.zip 100%[===================>]  25.74M  35.8MB/s    in 0.7s    \n",
            "\n",
            "2020-07-16 02:47:00 (35.8 MB/s) - ‘fashion_dataset.zip’ saved [26991216/26991216]\n",
            "\n"
          ],
          "name": "stdout"
        }
      ]
    },
    {
      "cell_type": "code",
      "metadata": {
        "id": "mFt96FMqvjah",
        "colab": {
          "base_uri": "https://localhost:8080/",
          "height": 138
        },
        "outputId": "4cc05ab5-c9f1-4c5f-9174-37c29e8dccda"
      },
      "source": [
        "!ls -alh"
      ],
      "execution_count": null,
      "outputs": [
        {
          "output_type": "stream",
          "text": [
            "total 26M\n",
            "drwxr-xr-x 1 root root 4.0K Jul 16 02:46 .\n",
            "drwxr-xr-x 1 root root 4.0K Jul 16 02:33 ..\n",
            "drwxr-xr-x 1 root root 4.0K Jul 13 16:14 .config\n",
            "-rw-r--r-- 1 root root  26M Jul 16 02:47 fashion_dataset.zip\n",
            "drwxr-xr-x 4 root root 4.0K Jul 16 02:42 Houses-dataset\n",
            "drwxr-xr-x 1 root root 4.0K Jul 10 16:29 sample_data\n"
          ],
          "name": "stdout"
        }
      ]
    },
    {
      "cell_type": "code",
      "metadata": {
        "id": "zYCavDIjh5RK",
        "colab": {
          "base_uri": "https://localhost:8080/",
          "height": 1000
        },
        "outputId": "4c08c082-83b4-4153-ca07-37ddac4a242c"
      },
      "source": [
        "!unzip fashion_dataset.zip"
      ],
      "execution_count": null,
      "outputs": [
        {
          "output_type": "stream",
          "text": [
            "Archive:  fashion_dataset.zip\n",
            "   creating: fashion_dataset/\n",
            "   creating: fashion_dataset/black_jeans/\n",
            "  inflating: fashion_dataset/black_jeans/00000000.jpg  \n",
            "   creating: __MACOSX/\n",
            "   creating: __MACOSX/fashion_dataset/\n",
            "   creating: __MACOSX/fashion_dataset/black_jeans/\n",
            "  inflating: __MACOSX/fashion_dataset/black_jeans/._00000000.jpg  \n",
            "  inflating: fashion_dataset/black_jeans/00000004.jpg  \n",
            "  inflating: __MACOSX/fashion_dataset/black_jeans/._00000004.jpg  \n",
            "  inflating: fashion_dataset/black_jeans/00000006.jpg  \n",
            "  inflating: __MACOSX/fashion_dataset/black_jeans/._00000006.jpg  \n",
            "  inflating: fashion_dataset/black_jeans/00000007.jpg  \n",
            "  inflating: __MACOSX/fashion_dataset/black_jeans/._00000007.jpg  \n",
            "  inflating: fashion_dataset/black_jeans/00000009.jpg  \n",
            "  inflating: __MACOSX/fashion_dataset/black_jeans/._00000009.jpg  \n",
            "  inflating: fashion_dataset/black_jeans/00000010.jpg  \n",
            "  inflating: __MACOSX/fashion_dataset/black_jeans/._00000010.jpg  \n",
            "  inflating: fashion_dataset/black_jeans/00000011.jpg  \n",
            "  inflating: __MACOSX/fashion_dataset/black_jeans/._00000011.jpg  \n",
            "  inflating: fashion_dataset/black_jeans/00000014.jpg  \n",
            "  inflating: __MACOSX/fashion_dataset/black_jeans/._00000014.jpg  \n",
            "  inflating: fashion_dataset/black_jeans/00000015.jpg  \n",
            "  inflating: __MACOSX/fashion_dataset/black_jeans/._00000015.jpg  \n",
            "  inflating: fashion_dataset/black_jeans/00000016.jpg  \n",
            "  inflating: __MACOSX/fashion_dataset/black_jeans/._00000016.jpg  \n",
            "  inflating: fashion_dataset/black_jeans/00000017.jpg  \n",
            "  inflating: __MACOSX/fashion_dataset/black_jeans/._00000017.jpg  \n",
            "  inflating: fashion_dataset/black_jeans/00000018.jpg  \n",
            "  inflating: __MACOSX/fashion_dataset/black_jeans/._00000018.jpg  \n",
            "  inflating: fashion_dataset/black_jeans/00000019.jpg  \n",
            "  inflating: __MACOSX/fashion_dataset/black_jeans/._00000019.jpg  \n",
            "  inflating: fashion_dataset/black_jeans/00000040.jpg  \n",
            "  inflating: __MACOSX/fashion_dataset/black_jeans/._00000040.jpg  \n",
            "  inflating: fashion_dataset/black_jeans/00000041.jpg  \n",
            "  inflating: __MACOSX/fashion_dataset/black_jeans/._00000041.jpg  \n",
            "  inflating: fashion_dataset/black_jeans/00000047.jpg  \n",
            "  inflating: __MACOSX/fashion_dataset/black_jeans/._00000047.jpg  \n",
            "  inflating: fashion_dataset/black_jeans/00000048.jpg  \n",
            "  inflating: __MACOSX/fashion_dataset/black_jeans/._00000048.jpg  \n",
            "  inflating: fashion_dataset/black_jeans/00000049.jpg  \n",
            "  inflating: __MACOSX/fashion_dataset/black_jeans/._00000049.jpg  \n",
            "  inflating: fashion_dataset/black_jeans/00000051.jpg  \n",
            "  inflating: __MACOSX/fashion_dataset/black_jeans/._00000051.jpg  \n",
            "  inflating: fashion_dataset/black_jeans/00000054.jpg  \n",
            "  inflating: __MACOSX/fashion_dataset/black_jeans/._00000054.jpg  \n",
            "  inflating: fashion_dataset/black_jeans/00000055.jpg  \n",
            "  inflating: __MACOSX/fashion_dataset/black_jeans/._00000055.jpg  \n",
            "  inflating: fashion_dataset/black_jeans/00000056.jpg  \n",
            "  inflating: __MACOSX/fashion_dataset/black_jeans/._00000056.jpg  \n",
            "  inflating: fashion_dataset/black_jeans/00000057.jpg  \n",
            "  inflating: __MACOSX/fashion_dataset/black_jeans/._00000057.jpg  \n",
            "  inflating: fashion_dataset/black_jeans/00000060.jpg  \n",
            "  inflating: __MACOSX/fashion_dataset/black_jeans/._00000060.jpg  \n",
            "  inflating: fashion_dataset/black_jeans/00000061.jpg  \n",
            "  inflating: __MACOSX/fashion_dataset/black_jeans/._00000061.jpg  \n",
            "  inflating: fashion_dataset/black_jeans/00000064.jpg  \n",
            "  inflating: __MACOSX/fashion_dataset/black_jeans/._00000064.jpg  \n",
            "  inflating: fashion_dataset/black_jeans/00000065.jpg  \n",
            "  inflating: __MACOSX/fashion_dataset/black_jeans/._00000065.jpg  \n",
            "  inflating: fashion_dataset/black_jeans/00000066.jpg  \n",
            "  inflating: __MACOSX/fashion_dataset/black_jeans/._00000066.jpg  \n",
            "  inflating: fashion_dataset/black_jeans/00000067.jpg  \n",
            "  inflating: __MACOSX/fashion_dataset/black_jeans/._00000067.jpg  \n",
            "  inflating: fashion_dataset/black_jeans/00000068.jpg  \n",
            "  inflating: __MACOSX/fashion_dataset/black_jeans/._00000068.jpg  \n",
            "  inflating: fashion_dataset/black_jeans/00000071.jpg  \n",
            "  inflating: __MACOSX/fashion_dataset/black_jeans/._00000071.jpg  \n",
            "  inflating: fashion_dataset/black_jeans/00000074.jpg  \n",
            "  inflating: __MACOSX/fashion_dataset/black_jeans/._00000074.jpg  \n",
            "  inflating: fashion_dataset/black_jeans/00000075.jpg  \n",
            "  inflating: __MACOSX/fashion_dataset/black_jeans/._00000075.jpg  \n",
            "  inflating: fashion_dataset/black_jeans/00000076.jpg  \n",
            "  inflating: __MACOSX/fashion_dataset/black_jeans/._00000076.jpg  \n",
            "  inflating: fashion_dataset/black_jeans/00000078.jpg  \n",
            "  inflating: __MACOSX/fashion_dataset/black_jeans/._00000078.jpg  \n",
            "  inflating: fashion_dataset/black_jeans/00000079.png  \n",
            "  inflating: __MACOSX/fashion_dataset/black_jeans/._00000079.png  \n",
            "  inflating: fashion_dataset/black_jeans/00000080.jpg  \n",
            "  inflating: __MACOSX/fashion_dataset/black_jeans/._00000080.jpg  \n",
            "  inflating: fashion_dataset/black_jeans/00000081.jpg  \n",
            "  inflating: __MACOSX/fashion_dataset/black_jeans/._00000081.jpg  \n",
            "  inflating: fashion_dataset/black_jeans/00000084.jpg  \n",
            "  inflating: __MACOSX/fashion_dataset/black_jeans/._00000084.jpg  \n",
            "  inflating: fashion_dataset/black_jeans/00000085.jpg  \n",
            "  inflating: __MACOSX/fashion_dataset/black_jeans/._00000085.jpg  \n",
            "  inflating: fashion_dataset/black_jeans/00000086.jpg  \n",
            "  inflating: __MACOSX/fashion_dataset/black_jeans/._00000086.jpg  \n",
            "  inflating: fashion_dataset/black_jeans/00000088.jpg  \n",
            "  inflating: __MACOSX/fashion_dataset/black_jeans/._00000088.jpg  \n",
            "  inflating: fashion_dataset/black_jeans/00000089.jpg  \n",
            "  inflating: __MACOSX/fashion_dataset/black_jeans/._00000089.jpg  \n",
            "  inflating: fashion_dataset/black_jeans/00000090.jpg  \n",
            "  inflating: __MACOSX/fashion_dataset/black_jeans/._00000090.jpg  \n",
            "  inflating: fashion_dataset/black_jeans/00000094.jpg  \n",
            "  inflating: __MACOSX/fashion_dataset/black_jeans/._00000094.jpg  \n",
            "  inflating: fashion_dataset/black_jeans/00000095.jpg  \n",
            "  inflating: __MACOSX/fashion_dataset/black_jeans/._00000095.jpg  \n",
            "  inflating: fashion_dataset/black_jeans/00000096.jpg  \n",
            "  inflating: __MACOSX/fashion_dataset/black_jeans/._00000096.jpg  \n",
            "  inflating: fashion_dataset/black_jeans/00000097.jpg  \n",
            "  inflating: __MACOSX/fashion_dataset/black_jeans/._00000097.jpg  \n",
            "  inflating: fashion_dataset/black_jeans/00000098.jpg  \n",
            "  inflating: __MACOSX/fashion_dataset/black_jeans/._00000098.jpg  \n",
            "  inflating: fashion_dataset/black_jeans/00000100.jpg  \n",
            "  inflating: __MACOSX/fashion_dataset/black_jeans/._00000100.jpg  \n",
            "  inflating: fashion_dataset/black_jeans/00000101.jpg  \n",
            "  inflating: __MACOSX/fashion_dataset/black_jeans/._00000101.jpg  \n",
            "  inflating: fashion_dataset/black_jeans/00000104.jpg  \n",
            "  inflating: __MACOSX/fashion_dataset/black_jeans/._00000104.jpg  \n",
            "  inflating: fashion_dataset/black_jeans/00000105.jpg  \n",
            "  inflating: __MACOSX/fashion_dataset/black_jeans/._00000105.jpg  \n",
            "  inflating: fashion_dataset/black_jeans/00000107.jpg  \n",
            "  inflating: __MACOSX/fashion_dataset/black_jeans/._00000107.jpg  \n",
            "  inflating: fashion_dataset/black_jeans/00000108.jpg  \n",
            "  inflating: __MACOSX/fashion_dataset/black_jeans/._00000108.jpg  \n",
            "  inflating: fashion_dataset/black_jeans/00000110.jpg  \n",
            "  inflating: __MACOSX/fashion_dataset/black_jeans/._00000110.jpg  \n",
            "  inflating: fashion_dataset/black_jeans/00000111.jpg  \n",
            "  inflating: __MACOSX/fashion_dataset/black_jeans/._00000111.jpg  \n",
            "  inflating: fashion_dataset/black_jeans/00000117.jpg  \n",
            "  inflating: __MACOSX/fashion_dataset/black_jeans/._00000117.jpg  \n",
            "  inflating: fashion_dataset/black_jeans/00000118.jpg  \n",
            "  inflating: __MACOSX/fashion_dataset/black_jeans/._00000118.jpg  \n",
            "  inflating: fashion_dataset/black_jeans/00000140.jpg  \n",
            "  inflating: __MACOSX/fashion_dataset/black_jeans/._00000140.jpg  \n",
            "  inflating: fashion_dataset/black_jeans/00000141.jpg  \n",
            "  inflating: __MACOSX/fashion_dataset/black_jeans/._00000141.jpg  \n",
            "  inflating: fashion_dataset/black_jeans/00000144.jpg  \n",
            "  inflating: __MACOSX/fashion_dataset/black_jeans/._00000144.jpg  \n",
            "  inflating: fashion_dataset/black_jeans/00000145.jpg  \n",
            "  inflating: __MACOSX/fashion_dataset/black_jeans/._00000145.jpg  \n",
            "  inflating: fashion_dataset/black_jeans/00000146.jpg  \n",
            "  inflating: __MACOSX/fashion_dataset/black_jeans/._00000146.jpg  \n",
            "  inflating: fashion_dataset/black_jeans/00000148.jpg  \n",
            "  inflating: __MACOSX/fashion_dataset/black_jeans/._00000148.jpg  \n",
            "  inflating: fashion_dataset/black_jeans/00000149.jpg  \n",
            "  inflating: __MACOSX/fashion_dataset/black_jeans/._00000149.jpg  \n",
            "  inflating: fashion_dataset/black_jeans/00000150.jpg  \n",
            "  inflating: __MACOSX/fashion_dataset/black_jeans/._00000150.jpg  \n",
            "  inflating: fashion_dataset/black_jeans/00000151.jpg  \n",
            "  inflating: __MACOSX/fashion_dataset/black_jeans/._00000151.jpg  \n",
            "  inflating: fashion_dataset/black_jeans/00000155.jpg  \n",
            "  inflating: __MACOSX/fashion_dataset/black_jeans/._00000155.jpg  \n",
            "  inflating: fashion_dataset/black_jeans/00000156.jpg  \n",
            "  inflating: __MACOSX/fashion_dataset/black_jeans/._00000156.jpg  \n",
            "  inflating: fashion_dataset/black_jeans/00000157.jpg  \n",
            "  inflating: __MACOSX/fashion_dataset/black_jeans/._00000157.jpg  \n",
            "  inflating: fashion_dataset/black_jeans/00000159.jpg  \n",
            "  inflating: __MACOSX/fashion_dataset/black_jeans/._00000159.jpg  \n",
            "  inflating: fashion_dataset/black_jeans/00000160.jpg  \n",
            "  inflating: __MACOSX/fashion_dataset/black_jeans/._00000160.jpg  \n",
            "  inflating: fashion_dataset/black_jeans/00000164.JPG  \n",
            "  inflating: __MACOSX/fashion_dataset/black_jeans/._00000164.JPG  \n",
            "  inflating: fashion_dataset/black_jeans/00000166.jpg  \n",
            "  inflating: __MACOSX/fashion_dataset/black_jeans/._00000166.jpg  \n",
            "  inflating: fashion_dataset/black_jeans/00000167.jpg  \n",
            "  inflating: __MACOSX/fashion_dataset/black_jeans/._00000167.jpg  \n",
            "  inflating: fashion_dataset/black_jeans/00000168.jpg  \n",
            "  inflating: __MACOSX/fashion_dataset/black_jeans/._00000168.jpg  \n",
            "  inflating: fashion_dataset/black_jeans/00000169.png  \n",
            "  inflating: __MACOSX/fashion_dataset/black_jeans/._00000169.png  \n",
            "  inflating: fashion_dataset/black_jeans/00000171.jpg  \n",
            "  inflating: __MACOSX/fashion_dataset/black_jeans/._00000171.jpg  \n",
            "  inflating: fashion_dataset/black_jeans/00000176.jpg  \n",
            "  inflating: __MACOSX/fashion_dataset/black_jeans/._00000176.jpg  \n",
            "  inflating: fashion_dataset/black_jeans/00000177.jpg  \n",
            "  inflating: __MACOSX/fashion_dataset/black_jeans/._00000177.jpg  \n",
            "  inflating: fashion_dataset/black_jeans/00000184.jpg  \n",
            "  inflating: __MACOSX/fashion_dataset/black_jeans/._00000184.jpg  \n",
            "  inflating: fashion_dataset/black_jeans/00000185.jpg  \n",
            "  inflating: __MACOSX/fashion_dataset/black_jeans/._00000185.jpg  \n",
            "  inflating: fashion_dataset/black_jeans/00000186.jpg  \n",
            "  inflating: __MACOSX/fashion_dataset/black_jeans/._00000186.jpg  \n",
            "  inflating: fashion_dataset/black_jeans/00000189.jpg  \n",
            "  inflating: __MACOSX/fashion_dataset/black_jeans/._00000189.jpg  \n",
            "  inflating: fashion_dataset/black_jeans/00000190.jpg  \n",
            "  inflating: __MACOSX/fashion_dataset/black_jeans/._00000190.jpg  \n",
            "  inflating: fashion_dataset/black_jeans/00000191.jpg  \n",
            "  inflating: __MACOSX/fashion_dataset/black_jeans/._00000191.jpg  \n",
            "  inflating: fashion_dataset/black_jeans/00000194.jpg  \n",
            "  inflating: __MACOSX/fashion_dataset/black_jeans/._00000194.jpg  \n",
            "  inflating: fashion_dataset/black_jeans/00000195.jpg  \n",
            "  inflating: __MACOSX/fashion_dataset/black_jeans/._00000195.jpg  \n",
            "  inflating: fashion_dataset/black_jeans/00000196.jpg  \n",
            "  inflating: __MACOSX/fashion_dataset/black_jeans/._00000196.jpg  \n",
            "  inflating: fashion_dataset/black_jeans/00000197.jpg  \n",
            "  inflating: __MACOSX/fashion_dataset/black_jeans/._00000197.jpg  \n",
            "  inflating: fashion_dataset/black_jeans/00000198.jpg  \n",
            "  inflating: __MACOSX/fashion_dataset/black_jeans/._00000198.jpg  \n",
            "  inflating: fashion_dataset/black_jeans/00000199.jpg  \n",
            "  inflating: __MACOSX/fashion_dataset/black_jeans/._00000199.jpg  \n",
            "   creating: fashion_dataset/black_shoes/\n",
            "  inflating: fashion_dataset/black_shoes/00000000.jpg  \n",
            "  inflating: fashion_dataset/black_shoes/00000001.jpg  \n",
            "  inflating: fashion_dataset/black_shoes/00000004.jpg  \n",
            "  inflating: fashion_dataset/black_shoes/00000005.jpg  \n",
            "  inflating: fashion_dataset/black_shoes/00000006.jpg  \n",
            "  inflating: fashion_dataset/black_shoes/00000007.jpg  \n",
            "  inflating: fashion_dataset/black_shoes/00000008.jpg  \n",
            "  inflating: fashion_dataset/black_shoes/00000009.jpg  \n",
            "  inflating: fashion_dataset/black_shoes/00000010.jpg  \n",
            "  inflating: fashion_dataset/black_shoes/00000011.jpg  \n",
            "  inflating: fashion_dataset/black_shoes/00000015.jpg  \n",
            "  inflating: fashion_dataset/black_shoes/00000016.jpg  \n",
            "  inflating: fashion_dataset/black_shoes/00000017.jpg  \n",
            "  inflating: fashion_dataset/black_shoes/00000018.jpg  \n",
            "  inflating: fashion_dataset/black_shoes/00000019.jpg  \n",
            "  inflating: fashion_dataset/black_shoes/00000040.jpg  \n",
            "  inflating: fashion_dataset/black_shoes/00000041.jpg  \n",
            "  inflating: fashion_dataset/black_shoes/00000044.jpg  \n",
            "  inflating: fashion_dataset/black_shoes/00000045.jpg  \n",
            "  inflating: fashion_dataset/black_shoes/00000048.jpg  \n",
            "  inflating: fashion_dataset/black_shoes/00000049.jpg  \n",
            "  inflating: fashion_dataset/black_shoes/00000051.jpg  \n",
            "  inflating: fashion_dataset/black_shoes/00000054.jpg  \n",
            "  inflating: fashion_dataset/black_shoes/00000055.jpg  \n",
            "  inflating: fashion_dataset/black_shoes/00000056.jpg  \n",
            "  inflating: fashion_dataset/black_shoes/00000057.jpg  \n",
            "  inflating: fashion_dataset/black_shoes/00000059.jpg  \n",
            "  inflating: fashion_dataset/black_shoes/00000060.jpg  \n",
            "  inflating: fashion_dataset/black_shoes/00000061.jpg  \n",
            "  inflating: fashion_dataset/black_shoes/00000064.jpg  \n",
            "  inflating: fashion_dataset/black_shoes/00000065.jpg  \n",
            "  inflating: fashion_dataset/black_shoes/00000066.jpg  \n",
            "  inflating: fashion_dataset/black_shoes/00000067.png  \n",
            "  inflating: fashion_dataset/black_shoes/00000068.jpg  \n",
            "  inflating: fashion_dataset/black_shoes/00000069.jpg  \n",
            "  inflating: fashion_dataset/black_shoes/00000070.jpg  \n",
            "  inflating: fashion_dataset/black_shoes/00000071.jpg  \n",
            "  inflating: fashion_dataset/black_shoes/00000075.jpg  \n",
            "  inflating: fashion_dataset/black_shoes/00000076.jpg  \n",
            "  inflating: fashion_dataset/black_shoes/00000078.jpg  \n",
            "  inflating: fashion_dataset/black_shoes/00000079.jpg  \n",
            "  inflating: fashion_dataset/black_shoes/00000080.jpg  \n",
            "  inflating: fashion_dataset/black_shoes/00000081.jpg  \n",
            "  inflating: fashion_dataset/black_shoes/00000084.JPG  \n",
            "  inflating: fashion_dataset/black_shoes/00000086.jpg  \n",
            "  inflating: fashion_dataset/black_shoes/00000087.jpg  \n",
            "  inflating: fashion_dataset/black_shoes/00000088.jpg  \n",
            "  inflating: fashion_dataset/black_shoes/00000089.jpg  \n",
            "  inflating: fashion_dataset/black_shoes/00000090.jpg  \n",
            "  inflating: fashion_dataset/black_shoes/00000091.jpg  \n",
            "  inflating: fashion_dataset/black_shoes/00000094.jpg  \n",
            "  inflating: fashion_dataset/black_shoes/00000095.jpg  \n",
            "  inflating: fashion_dataset/black_shoes/00000096.jpg  \n",
            "  inflating: fashion_dataset/black_shoes/00000097.jpg  \n",
            "  inflating: fashion_dataset/black_shoes/00000098.jpg  \n",
            "  inflating: fashion_dataset/black_shoes/00000099.jpg  \n",
            "  inflating: fashion_dataset/black_shoes/00000100.jpg  \n",
            "  inflating: fashion_dataset/black_shoes/00000104.jpg  \n",
            "  inflating: fashion_dataset/black_shoes/00000105.jpg  \n",
            "  inflating: fashion_dataset/black_shoes/00000106.jpg  \n",
            "  inflating: fashion_dataset/black_shoes/00000107.jpg  \n",
            "  inflating: fashion_dataset/black_shoes/00000108.jpg  \n",
            "  inflating: fashion_dataset/black_shoes/00000109.jpg  \n",
            "  inflating: fashion_dataset/black_shoes/00000110.jpg  \n",
            "  inflating: fashion_dataset/black_shoes/00000111.jpg  \n",
            "  inflating: fashion_dataset/black_shoes/00000114.jpg  \n",
            "  inflating: fashion_dataset/black_shoes/00000115.jpg  \n",
            "  inflating: fashion_dataset/black_shoes/00000116.png  \n",
            "  inflating: fashion_dataset/black_shoes/00000117.jpg  \n",
            "  inflating: fashion_dataset/black_shoes/00000118.jpg  \n",
            "  inflating: fashion_dataset/black_shoes/00000119.jpg  \n",
            "  inflating: fashion_dataset/black_shoes/00000140.jpg  \n",
            "  inflating: fashion_dataset/black_shoes/00000141.jpg  \n",
            "  inflating: fashion_dataset/black_shoes/00000144.jpg  \n",
            "  inflating: fashion_dataset/black_shoes/00000145.JPG  \n",
            "  inflating: fashion_dataset/black_shoes/00000146.jpg  \n",
            "  inflating: fashion_dataset/black_shoes/00000147.jpg  \n",
            "  inflating: fashion_dataset/black_shoes/00000148.jpg  \n",
            "  inflating: fashion_dataset/black_shoes/00000149.jpg  \n",
            "  inflating: fashion_dataset/black_shoes/00000150.jpg  \n",
            "  inflating: fashion_dataset/black_shoes/00000151.jpg  \n",
            "  inflating: fashion_dataset/black_shoes/00000154.jpg  \n",
            "  inflating: fashion_dataset/black_shoes/00000156.JPG  \n",
            "  inflating: fashion_dataset/black_shoes/00000157.jpg  \n",
            "  inflating: fashion_dataset/black_shoes/00000158.jpg  \n",
            "  inflating: fashion_dataset/black_shoes/00000159.jpg  \n",
            "  inflating: fashion_dataset/black_shoes/00000160.jpg  \n",
            "  inflating: fashion_dataset/black_shoes/00000161.jpg  \n",
            "  inflating: fashion_dataset/black_shoes/00000165.jpg  \n",
            "  inflating: fashion_dataset/black_shoes/00000166.jpg  \n",
            "  inflating: fashion_dataset/black_shoes/00000168.jpg  \n",
            "  inflating: fashion_dataset/black_shoes/00000169.jpg  \n",
            "  inflating: fashion_dataset/black_shoes/00000170.jpg  \n",
            "  inflating: fashion_dataset/black_shoes/00000171.jpg  \n",
            "  inflating: fashion_dataset/black_shoes/00000174.jpg  \n",
            "  inflating: fashion_dataset/black_shoes/00000175.jpg  \n",
            "  inflating: fashion_dataset/black_shoes/00000176.jpg  \n",
            "  inflating: fashion_dataset/black_shoes/00000177.jpg  \n",
            "  inflating: fashion_dataset/black_shoes/00000179.jpg  \n",
            "  inflating: fashion_dataset/black_shoes/00000180.jpg  \n",
            "  inflating: fashion_dataset/black_shoes/00000181.jpg  \n",
            "  inflating: fashion_dataset/black_shoes/00000185.jpg  \n",
            "  inflating: fashion_dataset/black_shoes/00000186.jpg  \n",
            "  inflating: fashion_dataset/black_shoes/00000187.jpg  \n",
            "  inflating: fashion_dataset/black_shoes/00000188.jpg  \n",
            "  inflating: fashion_dataset/black_shoes/00000189.jpg  \n",
            "  inflating: fashion_dataset/black_shoes/00000190.jpg  \n",
            "  inflating: fashion_dataset/black_shoes/00000191.jpg  \n",
            "  inflating: fashion_dataset/black_shoes/00000194.jpg  \n",
            "  inflating: fashion_dataset/black_shoes/00000195.jpg  \n",
            "  inflating: fashion_dataset/black_shoes/00000196.jpg  \n",
            "  inflating: fashion_dataset/black_shoes/00000198.jpg  \n",
            "  inflating: fashion_dataset/black_shoes/00000199.gif  \n",
            "   creating: fashion_dataset/blue_dress/\n",
            "  inflating: fashion_dataset/blue_dress/00000000.jpg  \n",
            "  inflating: fashion_dataset/blue_dress/00000001.jpg  \n",
            "  inflating: fashion_dataset/blue_dress/00000004.jpg  \n",
            "  inflating: fashion_dataset/blue_dress/00000005.jpg  \n",
            "  inflating: fashion_dataset/blue_dress/00000007.jpg  \n",
            "  inflating: fashion_dataset/blue_dress/00000008.jpg  \n",
            "  inflating: fashion_dataset/blue_dress/00000009.jpg  \n",
            "  inflating: fashion_dataset/blue_dress/00000010.jpg  \n",
            "  inflating: fashion_dataset/blue_dress/00000011.jpg  \n",
            "  inflating: fashion_dataset/blue_dress/00000014.jpg  \n",
            "  inflating: fashion_dataset/blue_dress/00000015.jpg  \n",
            "  inflating: fashion_dataset/blue_dress/00000016.jpg  \n",
            "  inflating: fashion_dataset/blue_dress/00000017.jpg  \n",
            "  inflating: fashion_dataset/blue_dress/00000018.jpg  \n",
            "  inflating: fashion_dataset/blue_dress/00000019.jpg  \n",
            "  inflating: fashion_dataset/blue_dress/00000040.jpg  \n",
            "  inflating: fashion_dataset/blue_dress/00000044.jpg  \n",
            "  inflating: fashion_dataset/blue_dress/00000045.jpg  \n",
            "  inflating: fashion_dataset/blue_dress/00000046.jpg  \n",
            "  inflating: fashion_dataset/blue_dress/00000047.jpg  \n",
            "  inflating: fashion_dataset/blue_dress/00000048.jpg  \n",
            "  inflating: fashion_dataset/blue_dress/00000049.jpg  \n",
            "  inflating: fashion_dataset/blue_dress/00000050.jpg  \n",
            "  inflating: fashion_dataset/blue_dress/00000051.jpg  \n",
            "  inflating: fashion_dataset/blue_dress/00000054.jpg  \n",
            "  inflating: fashion_dataset/blue_dress/00000056.jpg  \n",
            "  inflating: fashion_dataset/blue_dress/00000057.jpg  \n",
            "  inflating: fashion_dataset/blue_dress/00000058.jpg  \n",
            "  inflating: fashion_dataset/blue_dress/00000059.jpg  \n",
            "  inflating: fashion_dataset/blue_dress/00000060.jpg  \n",
            "  inflating: fashion_dataset/blue_dress/00000061.jpg  \n",
            "  inflating: fashion_dataset/blue_dress/00000064.jpg  \n",
            "  inflating: fashion_dataset/blue_dress/00000065.jpg  \n",
            "  inflating: fashion_dataset/blue_dress/00000066.jpg  \n",
            "  inflating: fashion_dataset/blue_dress/00000067.jpg  \n",
            "  inflating: fashion_dataset/blue_dress/00000068.jpg  \n",
            "  inflating: fashion_dataset/blue_dress/00000069.jpg  \n",
            "  inflating: fashion_dataset/blue_dress/00000071.jpg  \n",
            "  inflating: fashion_dataset/blue_dress/00000074.jpg  \n",
            "  inflating: fashion_dataset/blue_dress/00000075.jpg  \n",
            "  inflating: fashion_dataset/blue_dress/00000076.jpg  \n",
            "  inflating: fashion_dataset/blue_dress/00000077.jpg  \n",
            "  inflating: fashion_dataset/blue_dress/00000079.jpg  \n",
            "  inflating: fashion_dataset/blue_dress/00000080.jpg  \n",
            "  inflating: fashion_dataset/blue_dress/00000081.jpg  \n",
            "  inflating: fashion_dataset/blue_dress/00000084.jpg  \n",
            "  inflating: fashion_dataset/blue_dress/00000085.jpg  \n",
            "  inflating: fashion_dataset/blue_dress/00000086.jpg  \n",
            "  inflating: fashion_dataset/blue_dress/00000087.jpg  \n",
            "  inflating: fashion_dataset/blue_dress/00000088.jpg  \n",
            "  inflating: fashion_dataset/blue_dress/00000089.jpg  \n",
            "  inflating: fashion_dataset/blue_dress/00000090.jpg  \n",
            "  inflating: fashion_dataset/blue_dress/00000091.jpg  \n",
            "  inflating: fashion_dataset/blue_dress/00000094.jpg  \n",
            "  inflating: fashion_dataset/blue_dress/00000095.jpg  \n",
            "  inflating: fashion_dataset/blue_dress/00000097.jpg  \n",
            "  inflating: fashion_dataset/blue_dress/00000100.jpg  \n",
            "  inflating: fashion_dataset/blue_dress/00000101.jpg  \n",
            "  inflating: fashion_dataset/blue_dress/00000104.jpg  \n",
            "  inflating: fashion_dataset/blue_dress/00000105.jpg  \n",
            "  inflating: fashion_dataset/blue_dress/00000106.jpg  \n",
            "  inflating: fashion_dataset/blue_dress/00000107.jpg  \n",
            "  inflating: fashion_dataset/blue_dress/00000108.jpg  \n",
            "  inflating: fashion_dataset/blue_dress/00000109.jpg  \n",
            "  inflating: fashion_dataset/blue_dress/00000110.jpg  \n",
            "  inflating: fashion_dataset/blue_dress/00000111.jpg  \n",
            "  inflating: fashion_dataset/blue_dress/00000114.jpg  \n",
            "  inflating: fashion_dataset/blue_dress/00000115.jpg  \n",
            "  inflating: fashion_dataset/blue_dress/00000116.jpg  \n",
            "  inflating: fashion_dataset/blue_dress/00000117.jpg  \n",
            "  inflating: fashion_dataset/blue_dress/00000118.jpg  \n",
            "  inflating: fashion_dataset/blue_dress/00000119.jpg  \n",
            "  inflating: fashion_dataset/blue_dress/00000141.jpg  \n",
            "  inflating: fashion_dataset/blue_dress/00000144.jpg  \n",
            "  inflating: fashion_dataset/blue_dress/00000146.jpg  \n",
            "  inflating: fashion_dataset/blue_dress/00000147.jpg  \n",
            "  inflating: fashion_dataset/blue_dress/00000148.jpg  \n",
            "  inflating: fashion_dataset/blue_dress/00000149.jpg  \n",
            "  inflating: fashion_dataset/blue_dress/00000150.jpg  \n",
            "  inflating: fashion_dataset/blue_dress/00000155.jpg  \n",
            "  inflating: fashion_dataset/blue_dress/00000156.jpg  \n",
            "  inflating: fashion_dataset/blue_dress/00000157.jpg  \n",
            "  inflating: fashion_dataset/blue_dress/00000158.jpg  \n",
            "  inflating: fashion_dataset/blue_dress/00000159.jpg  \n",
            "  inflating: fashion_dataset/blue_dress/00000160.jpg  \n",
            "  inflating: fashion_dataset/blue_dress/00000161.jpg  \n",
            "  inflating: fashion_dataset/blue_dress/00000164.jpg  \n",
            "  inflating: fashion_dataset/blue_dress/00000166.jpg  \n",
            "  inflating: fashion_dataset/blue_dress/00000167.jpg  \n",
            "  inflating: fashion_dataset/blue_dress/00000168.jpg  \n",
            "  inflating: fashion_dataset/blue_dress/00000169.jpg  \n",
            "  inflating: fashion_dataset/blue_dress/00000170.jpg  \n",
            "  inflating: fashion_dataset/blue_dress/00000171.jpg  \n",
            "  inflating: fashion_dataset/blue_dress/00000174.jpg  \n",
            "  inflating: fashion_dataset/blue_dress/00000176.jpg  \n",
            "  inflating: fashion_dataset/blue_dress/00000177.jpg  \n",
            "  inflating: fashion_dataset/blue_dress/00000178.jpg  \n",
            "  inflating: fashion_dataset/blue_dress/00000179.jpg  \n",
            "  inflating: fashion_dataset/blue_dress/00000180.jpg  \n",
            "  inflating: fashion_dataset/blue_dress/00000181.jpg  \n",
            "  inflating: fashion_dataset/blue_dress/00000184.jpg  \n",
            "  inflating: fashion_dataset/blue_dress/00000185.jpg  \n",
            "  inflating: fashion_dataset/blue_dress/00000186.jpg  \n",
            "  inflating: fashion_dataset/blue_dress/00000187.jpg  \n",
            "  inflating: fashion_dataset/blue_dress/00000188.jpg  \n",
            "  inflating: fashion_dataset/blue_dress/00000189.jpg  \n",
            "  inflating: fashion_dataset/blue_dress/00000190.jpg  \n",
            "  inflating: fashion_dataset/blue_dress/00000191.jpg  \n",
            "  inflating: fashion_dataset/blue_dress/00000194.jpg  \n",
            "  inflating: fashion_dataset/blue_dress/00000195.jpg  \n",
            "  inflating: fashion_dataset/blue_dress/00000196.jpg  \n",
            "  inflating: fashion_dataset/blue_dress/00000197.jpg  \n",
            "  inflating: fashion_dataset/blue_dress/00000198.jpg  \n",
            "  inflating: fashion_dataset/blue_dress/00000199.jpg  \n",
            "   creating: fashion_dataset/blue_jeans/\n",
            "  inflating: fashion_dataset/blue_jeans/00000000.jpg  \n",
            "  inflating: fashion_dataset/blue_jeans/00000004.jpg  \n",
            "  inflating: fashion_dataset/blue_jeans/00000005.jpg  \n",
            "  inflating: fashion_dataset/blue_jeans/00000006.jpg  \n",
            "  inflating: fashion_dataset/blue_jeans/00000007.jpg  \n",
            "  inflating: fashion_dataset/blue_jeans/00000009.jpg  \n",
            "  inflating: fashion_dataset/blue_jeans/00000010.jpg  \n",
            "  inflating: fashion_dataset/blue_jeans/00000011.jpg  \n",
            "  inflating: fashion_dataset/blue_jeans/00000014.jpg  \n",
            "  inflating: fashion_dataset/blue_jeans/00000015.jpg  \n",
            "  inflating: fashion_dataset/blue_jeans/00000016.jpg  \n",
            "  inflating: fashion_dataset/blue_jeans/00000017.jpg  \n",
            "  inflating: fashion_dataset/blue_jeans/00000019.jpg  \n",
            "  inflating: fashion_dataset/blue_jeans/00000040.jpg  \n",
            "  inflating: fashion_dataset/blue_jeans/00000041.jpg  \n",
            "  inflating: fashion_dataset/blue_jeans/00000044.jpg  \n",
            "  inflating: fashion_dataset/blue_jeans/00000045.jpg  \n",
            "  inflating: fashion_dataset/blue_jeans/00000046.jpg  \n",
            "  inflating: fashion_dataset/blue_jeans/00000047.jpg  \n",
            "  inflating: fashion_dataset/blue_jeans/00000049.jpg  \n",
            "  inflating: fashion_dataset/blue_jeans/00000050.jpg  \n",
            "  inflating: fashion_dataset/blue_jeans/00000051.jpg  \n",
            "  inflating: fashion_dataset/blue_jeans/00000054.jpg  \n",
            "  inflating: fashion_dataset/blue_jeans/00000055.jpg  \n",
            "  inflating: fashion_dataset/blue_jeans/00000056.jpg  \n",
            "  inflating: fashion_dataset/blue_jeans/00000057.jpg  \n",
            "  inflating: fashion_dataset/blue_jeans/00000058.jpg  \n",
            "  inflating: fashion_dataset/blue_jeans/00000059.jpg  \n",
            "  inflating: fashion_dataset/blue_jeans/00000061.jpg  \n",
            "  inflating: fashion_dataset/blue_jeans/00000064.jpg  \n",
            "  inflating: fashion_dataset/blue_jeans/00000065.jpg  \n",
            "  inflating: fashion_dataset/blue_jeans/00000067.jpg  \n",
            "  inflating: fashion_dataset/blue_jeans/00000069.jpg  \n",
            "  inflating: fashion_dataset/blue_jeans/00000071.jpg  \n",
            "  inflating: fashion_dataset/blue_jeans/00000074.jpg  \n",
            "  inflating: fashion_dataset/blue_jeans/00000077.jpg  \n",
            "  inflating: fashion_dataset/blue_jeans/00000080.jpg  \n",
            "  inflating: fashion_dataset/blue_jeans/00000081.jpg  \n",
            "  inflating: fashion_dataset/blue_jeans/00000084.jpg  \n",
            "  inflating: fashion_dataset/blue_jeans/00000086.jpg  \n",
            "  inflating: fashion_dataset/blue_jeans/00000087.jpg  \n",
            "  inflating: fashion_dataset/blue_jeans/00000088.jpg  \n",
            "  inflating: fashion_dataset/blue_jeans/00000089.jpg  \n",
            "  inflating: fashion_dataset/blue_jeans/00000090.jpg  \n",
            "  inflating: fashion_dataset/blue_jeans/00000091.jpg  \n",
            "  inflating: fashion_dataset/blue_jeans/00000094.jpg  \n",
            "  inflating: fashion_dataset/blue_jeans/00000095.jpg  \n",
            "  inflating: fashion_dataset/blue_jeans/00000096.jpg  \n",
            "  inflating: fashion_dataset/blue_jeans/00000097.jpg  \n",
            "  inflating: fashion_dataset/blue_jeans/00000098.jpg  \n",
            "  inflating: fashion_dataset/blue_jeans/00000099.jpg  \n",
            "  inflating: fashion_dataset/blue_jeans/00000100.jpg  \n",
            "  inflating: fashion_dataset/blue_jeans/00000104.jpg  \n",
            "  inflating: fashion_dataset/blue_jeans/00000105.jpg  \n",
            "  inflating: fashion_dataset/blue_jeans/00000106.jpg  \n",
            "  inflating: fashion_dataset/blue_jeans/00000108.jpg  \n",
            "  inflating: fashion_dataset/blue_jeans/00000109.jpg  \n",
            "  inflating: fashion_dataset/blue_jeans/00000110.jpg  \n",
            "  inflating: fashion_dataset/blue_jeans/00000111.jpg  \n",
            "  inflating: fashion_dataset/blue_jeans/00000117.jpg  \n",
            "  inflating: fashion_dataset/blue_jeans/00000118.jpg  \n",
            "  inflating: fashion_dataset/blue_jeans/00000119.jpg  \n",
            "  inflating: fashion_dataset/blue_jeans/00000140.jpg  \n",
            "  inflating: fashion_dataset/blue_jeans/00000141.jpg  \n",
            "  inflating: fashion_dataset/blue_jeans/00000144.jpg  \n",
            "  inflating: fashion_dataset/blue_jeans/00000146.jpg  \n",
            "  inflating: fashion_dataset/blue_jeans/00000148.jpg  \n",
            "  inflating: fashion_dataset/blue_jeans/00000149.jpg  \n",
            "  inflating: fashion_dataset/blue_jeans/00000150.jpg  \n",
            "  inflating: fashion_dataset/blue_jeans/00000151.jpg  \n",
            "  inflating: fashion_dataset/blue_jeans/00000154.jpg  \n",
            "  inflating: fashion_dataset/blue_jeans/00000155.jpg  \n",
            "  inflating: fashion_dataset/blue_jeans/00000156.jpg  \n",
            "  inflating: fashion_dataset/blue_jeans/00000157.jpg  \n",
            "  inflating: fashion_dataset/blue_jeans/00000158.jpg  \n",
            "  inflating: fashion_dataset/blue_jeans/00000159.jpg  \n",
            "  inflating: fashion_dataset/blue_jeans/00000160.jpg  \n",
            "  inflating: fashion_dataset/blue_jeans/00000161.jpg  \n",
            "  inflating: fashion_dataset/blue_jeans/00000164.jpg  \n",
            "  inflating: fashion_dataset/blue_jeans/00000165.png  \n",
            "  inflating: fashion_dataset/blue_jeans/00000167.jpg  \n",
            "  inflating: fashion_dataset/blue_jeans/00000168.jpg  \n",
            "  inflating: fashion_dataset/blue_jeans/00000169.jpg  \n",
            "  inflating: fashion_dataset/blue_jeans/00000170.jpg  \n",
            "  inflating: fashion_dataset/blue_jeans/00000171.png  \n",
            "  inflating: fashion_dataset/blue_jeans/00000174.jpg  \n",
            "  inflating: fashion_dataset/blue_jeans/00000175.jpg  \n",
            "  inflating: fashion_dataset/blue_jeans/00000177.jpg  \n",
            "  inflating: fashion_dataset/blue_jeans/00000180.jpg  \n",
            "  inflating: fashion_dataset/blue_jeans/00000186.jpg  \n",
            "  inflating: fashion_dataset/blue_jeans/00000187.jpg  \n",
            "  inflating: fashion_dataset/blue_jeans/00000188.jpg  \n",
            "  inflating: fashion_dataset/blue_jeans/00000189.jpg  \n",
            "  inflating: fashion_dataset/blue_jeans/00000190.jpg  \n",
            "  inflating: fashion_dataset/blue_jeans/00000194.jpg  \n",
            "  inflating: fashion_dataset/blue_jeans/00000195.png  \n",
            "  inflating: fashion_dataset/blue_jeans/00000196.jpg  \n",
            "  inflating: fashion_dataset/blue_jeans/00000198.jpg  \n",
            "   creating: fashion_dataset/blue_shirt/\n",
            "  inflating: fashion_dataset/blue_shirt/00000000.jpg  \n",
            "  inflating: fashion_dataset/blue_shirt/00000001.jpg  \n",
            "  inflating: fashion_dataset/blue_shirt/00000004.jpg  \n",
            "  inflating: fashion_dataset/blue_shirt/00000005.jpg  \n",
            "  inflating: fashion_dataset/blue_shirt/00000006.jpg  \n",
            "  inflating: fashion_dataset/blue_shirt/00000007.jpg  \n",
            "  inflating: fashion_dataset/blue_shirt/00000008.jpg  \n",
            "  inflating: fashion_dataset/blue_shirt/00000009.JPG  \n",
            "  inflating: fashion_dataset/blue_shirt/00000010.jpg  \n",
            "  inflating: fashion_dataset/blue_shirt/00000011.jpg  \n",
            "  inflating: fashion_dataset/blue_shirt/00000014.jpg  \n",
            "  inflating: fashion_dataset/blue_shirt/00000015.jpg  \n",
            "  inflating: fashion_dataset/blue_shirt/00000016.jpg  \n",
            "  inflating: fashion_dataset/blue_shirt/00000017.jpg  \n",
            "  inflating: fashion_dataset/blue_shirt/00000018.jpg  \n",
            "  inflating: fashion_dataset/blue_shirt/00000019.jpg  \n",
            "  inflating: fashion_dataset/blue_shirt/00000040.png  \n",
            "  inflating: fashion_dataset/blue_shirt/00000041.jpg  \n",
            "  inflating: fashion_dataset/blue_shirt/00000044.jpg  \n",
            "  inflating: fashion_dataset/blue_shirt/00000045.jpg  \n",
            "  inflating: fashion_dataset/blue_shirt/00000046.jpg  \n",
            "  inflating: fashion_dataset/blue_shirt/00000049.jpg  \n",
            "  inflating: fashion_dataset/blue_shirt/00000050.jpg  \n",
            "  inflating: fashion_dataset/blue_shirt/00000051.jpg  \n",
            "  inflating: fashion_dataset/blue_shirt/00000054.jpg  \n",
            "  inflating: fashion_dataset/blue_shirt/00000055.jpg  \n",
            "  inflating: fashion_dataset/blue_shirt/00000056.png  \n",
            "  inflating: fashion_dataset/blue_shirt/00000057.jpg  \n",
            "  inflating: fashion_dataset/blue_shirt/00000058.jpg  \n",
            "  inflating: fashion_dataset/blue_shirt/00000060.jpg  \n",
            "  inflating: fashion_dataset/blue_shirt/00000061.jpg  \n",
            "  inflating: fashion_dataset/blue_shirt/00000064.jpg  \n",
            "  inflating: fashion_dataset/blue_shirt/00000065.jpg  \n",
            "  inflating: fashion_dataset/blue_shirt/00000067.jpg  \n",
            "  inflating: fashion_dataset/blue_shirt/00000068.jpg  \n",
            "  inflating: fashion_dataset/blue_shirt/00000069.jpg  \n",
            "  inflating: fashion_dataset/blue_shirt/00000070.jpg  \n",
            "  inflating: fashion_dataset/blue_shirt/00000071.jpg  \n",
            "  inflating: fashion_dataset/blue_shirt/00000074.jpg  \n",
            "  inflating: fashion_dataset/blue_shirt/00000075.jpg  \n",
            "  inflating: fashion_dataset/blue_shirt/00000078.jpg  \n",
            "  inflating: fashion_dataset/blue_shirt/00000079.jpg  \n",
            "  inflating: fashion_dataset/blue_shirt/00000080.jpg  \n",
            "  inflating: fashion_dataset/blue_shirt/00000081.jpg  \n",
            "  inflating: fashion_dataset/blue_shirt/00000084.jpg  \n",
            "  inflating: fashion_dataset/blue_shirt/00000085.jpg  \n",
            "  inflating: fashion_dataset/blue_shirt/00000086.jpg  \n",
            "  inflating: fashion_dataset/blue_shirt/00000088.jpg  \n",
            "  inflating: fashion_dataset/blue_shirt/00000089.jpg  \n",
            "  inflating: fashion_dataset/blue_shirt/00000090.jpg  \n",
            "  inflating: fashion_dataset/blue_shirt/00000091.png  \n",
            "  inflating: fashion_dataset/blue_shirt/00000094.jpg  \n",
            "  inflating: fashion_dataset/blue_shirt/00000095.jpg  \n",
            "  inflating: fashion_dataset/blue_shirt/00000096.jpg  \n",
            "  inflating: fashion_dataset/blue_shirt/00000097.jpg  \n",
            "  inflating: fashion_dataset/blue_shirt/00000098.jpg  \n",
            "  inflating: fashion_dataset/blue_shirt/00000099.png  \n",
            "  inflating: fashion_dataset/blue_shirt/00000100.png  \n",
            "  inflating: fashion_dataset/blue_shirt/00000101.jpg  \n",
            "  inflating: fashion_dataset/blue_shirt/00000104.jpg  \n",
            "  inflating: fashion_dataset/blue_shirt/00000105.jpg  \n",
            "  inflating: fashion_dataset/blue_shirt/00000106.png  \n",
            "  inflating: fashion_dataset/blue_shirt/00000107.jpg  \n",
            "  inflating: fashion_dataset/blue_shirt/00000108.jpg  \n",
            "  inflating: fashion_dataset/blue_shirt/00000109.jpg  \n",
            "  inflating: fashion_dataset/blue_shirt/00000110.jpg  \n",
            "  inflating: fashion_dataset/blue_shirt/00000111.jpg  \n",
            "  inflating: fashion_dataset/blue_shirt/00000114.jpg  \n",
            "  inflating: fashion_dataset/blue_shirt/00000115.jpg  \n",
            "  inflating: fashion_dataset/blue_shirt/00000116.jpg  \n",
            "  inflating: fashion_dataset/blue_shirt/00000117.jpg  \n",
            "  inflating: fashion_dataset/blue_shirt/00000118.jpg  \n",
            "  inflating: fashion_dataset/blue_shirt/00000119.jpg  \n",
            "  inflating: fashion_dataset/blue_shirt/00000140.jpg  \n",
            "  inflating: fashion_dataset/blue_shirt/00000141.jpg  \n",
            "  inflating: fashion_dataset/blue_shirt/00000144.JPG  \n",
            "  inflating: fashion_dataset/blue_shirt/00000146.jpg  \n",
            "  inflating: fashion_dataset/blue_shirt/00000147.jpg  \n",
            "  inflating: fashion_dataset/blue_shirt/00000148.jpg  \n",
            "  inflating: fashion_dataset/blue_shirt/00000149.jpg  \n",
            "  inflating: fashion_dataset/blue_shirt/00000151.jpg  \n",
            "  inflating: fashion_dataset/blue_shirt/00000154.jpg  \n",
            "  inflating: fashion_dataset/blue_shirt/00000155.jpg  \n",
            "  inflating: fashion_dataset/blue_shirt/00000156.JPG  \n",
            "  inflating: fashion_dataset/blue_shirt/00000157.jpg  \n",
            "  inflating: fashion_dataset/blue_shirt/00000158.jpg  \n",
            "  inflating: fashion_dataset/blue_shirt/00000159.jpg  \n",
            "  inflating: fashion_dataset/blue_shirt/00000160.jpg  \n",
            "  inflating: fashion_dataset/blue_shirt/00000161.jpg  \n",
            "  inflating: fashion_dataset/blue_shirt/00000164.jpg  \n",
            "  inflating: fashion_dataset/blue_shirt/00000165.jpg  \n",
            "  inflating: fashion_dataset/blue_shirt/00000166.jpg  \n",
            "  inflating: fashion_dataset/blue_shirt/00000167.jpg  \n",
            "  inflating: fashion_dataset/blue_shirt/00000168.jpg  \n",
            "  inflating: fashion_dataset/blue_shirt/00000169.png  \n",
            "  inflating: fashion_dataset/blue_shirt/00000171.jpg  \n",
            "  inflating: fashion_dataset/blue_shirt/00000174.jpg  \n",
            "  inflating: fashion_dataset/blue_shirt/00000175.jpg  \n",
            "  inflating: fashion_dataset/blue_shirt/00000178.jpg  \n",
            "  inflating: fashion_dataset/blue_shirt/00000179.jpg  \n",
            "  inflating: fashion_dataset/blue_shirt/00000180.jpg  \n",
            "  inflating: fashion_dataset/blue_shirt/00000181.png  \n",
            "  inflating: fashion_dataset/blue_shirt/00000184.jpg  \n",
            "  inflating: fashion_dataset/blue_shirt/00000185.jpg  \n",
            "  inflating: fashion_dataset/blue_shirt/00000186.jpg  \n",
            "  inflating: fashion_dataset/blue_shirt/00000187.jpg  \n",
            "  inflating: fashion_dataset/blue_shirt/00000190.jpg  \n",
            "  inflating: fashion_dataset/blue_shirt/00000191.jpg  \n",
            "  inflating: fashion_dataset/blue_shirt/00000194.jpg  \n",
            "  inflating: fashion_dataset/blue_shirt/00000195.jpg  \n",
            "  inflating: fashion_dataset/blue_shirt/00000196.jpg  \n",
            "  inflating: fashion_dataset/blue_shirt/00000197.jpg  \n",
            "  inflating: fashion_dataset/blue_shirt/00000198.jpg  \n",
            "   creating: fashion_dataset/red_dress/\n",
            "  inflating: fashion_dataset/red_dress/00000000.jpg  \n",
            "  inflating: fashion_dataset/red_dress/00000001.jpg  \n",
            "  inflating: fashion_dataset/red_dress/00000004.jpg  \n",
            "  inflating: fashion_dataset/red_dress/00000005.jpg  \n",
            "  inflating: fashion_dataset/red_dress/00000006.jpg  \n",
            "  inflating: fashion_dataset/red_dress/00000007.jpg  \n",
            "  inflating: fashion_dataset/red_dress/00000008.jpg  \n",
            "  inflating: fashion_dataset/red_dress/00000009.JPG  \n",
            "  inflating: fashion_dataset/red_dress/00000010.jpg  \n",
            "  inflating: fashion_dataset/red_dress/00000011.jpg  \n",
            "  inflating: fashion_dataset/red_dress/00000014.jpg  \n",
            "  inflating: fashion_dataset/red_dress/00000015.jpg  \n",
            "  inflating: fashion_dataset/red_dress/00000016.jpg  \n",
            "  inflating: fashion_dataset/red_dress/00000017.jpg  \n",
            "  inflating: fashion_dataset/red_dress/00000018.jpg  \n",
            "  inflating: fashion_dataset/red_dress/00000019.jpg  \n",
            "  inflating: fashion_dataset/red_dress/00000040.jpg  \n",
            "  inflating: fashion_dataset/red_dress/00000041.jpg  \n",
            "  inflating: fashion_dataset/red_dress/00000044.jpg  \n",
            "  inflating: fashion_dataset/red_dress/00000045.jpg  \n",
            "  inflating: fashion_dataset/red_dress/00000046.jpg  \n",
            "  inflating: fashion_dataset/red_dress/00000047.png  \n",
            "  inflating: fashion_dataset/red_dress/00000048.jpg  \n",
            "  inflating: fashion_dataset/red_dress/00000049.png  \n",
            "  inflating: fashion_dataset/red_dress/00000050.jpg  \n",
            "  inflating: fashion_dataset/red_dress/00000051.jpg  \n",
            "  inflating: fashion_dataset/red_dress/00000054.jpg  \n",
            "  inflating: fashion_dataset/red_dress/00000055.jpg  \n",
            "  inflating: fashion_dataset/red_dress/00000056.png  \n",
            "  inflating: fashion_dataset/red_dress/00000057.jpg  \n",
            "  inflating: fashion_dataset/red_dress/00000058.jpg  \n",
            "  inflating: fashion_dataset/red_dress/00000059.jpg  \n",
            "  inflating: fashion_dataset/red_dress/00000060.jpg  \n",
            "  inflating: fashion_dataset/red_dress/00000061.jpg  \n",
            "  inflating: fashion_dataset/red_dress/00000064.jpg  \n",
            "  inflating: fashion_dataset/red_dress/00000065.jpg  \n",
            "  inflating: fashion_dataset/red_dress/00000066.jpg  \n",
            "  inflating: fashion_dataset/red_dress/00000067.jpg  \n",
            "  inflating: fashion_dataset/red_dress/00000069.jpg  \n",
            "  inflating: fashion_dataset/red_dress/00000071.jpg  \n",
            "  inflating: fashion_dataset/red_dress/00000074.jpg  \n",
            "  inflating: fashion_dataset/red_dress/00000075.jpg  \n",
            "  inflating: fashion_dataset/red_dress/00000076.jpg  \n",
            "  inflating: fashion_dataset/red_dress/00000077.jpg  \n",
            "  inflating: fashion_dataset/red_dress/00000078.jpg  \n",
            "  inflating: fashion_dataset/red_dress/00000079.jpg  \n",
            "  inflating: fashion_dataset/red_dress/00000080.JPG  \n",
            "  inflating: fashion_dataset/red_dress/00000081.jpg  \n",
            "  inflating: fashion_dataset/red_dress/00000085.jpg  \n",
            "  inflating: fashion_dataset/red_dress/00000086.jpg  \n",
            "  inflating: fashion_dataset/red_dress/00000087.jpg  \n",
            "  inflating: fashion_dataset/red_dress/00000088.jpg  \n",
            "  inflating: fashion_dataset/red_dress/00000089.jpg  \n",
            "  inflating: fashion_dataset/red_dress/00000090.jpg  \n",
            "  inflating: fashion_dataset/red_dress/00000094.jpg  \n",
            "  inflating: fashion_dataset/red_dress/00000095.jpg  \n",
            "  inflating: fashion_dataset/red_dress/00000096.jpg  \n",
            "  inflating: fashion_dataset/red_dress/00000097.jpg  \n",
            "  inflating: fashion_dataset/red_dress/00000098.jpg  \n",
            "  inflating: fashion_dataset/red_dress/00000099.jpg  \n",
            "  inflating: fashion_dataset/red_dress/00000100.jpg  \n",
            "  inflating: fashion_dataset/red_dress/00000101.jpg  \n",
            "  inflating: fashion_dataset/red_dress/00000104.jpg  \n",
            "  inflating: fashion_dataset/red_dress/00000105.jpg  \n",
            "  inflating: fashion_dataset/red_dress/00000106.jpg  \n",
            "  inflating: fashion_dataset/red_dress/00000107.jpg  \n",
            "  inflating: fashion_dataset/red_dress/00000108.jpg  \n",
            "  inflating: fashion_dataset/red_dress/00000109.jpg  \n",
            "  inflating: fashion_dataset/red_dress/00000110.jpg  \n",
            "  inflating: fashion_dataset/red_dress/00000111.jpg  \n",
            "  inflating: fashion_dataset/red_dress/00000114.jpg  \n",
            "  inflating: fashion_dataset/red_dress/00000115.jpg  \n",
            "  inflating: fashion_dataset/red_dress/00000116.gif  \n",
            "  inflating: fashion_dataset/red_dress/00000117.jpg  \n",
            "  inflating: fashion_dataset/red_dress/00000118.jpg  \n",
            "  inflating: fashion_dataset/red_dress/00000140.jpg  \n",
            "  inflating: fashion_dataset/red_dress/00000141.jpg  \n",
            "  inflating: fashion_dataset/red_dress/00000146.jpg  \n",
            "  inflating: fashion_dataset/red_dress/00000147.jpg  \n",
            "  inflating: fashion_dataset/red_dress/00000148.jpg  \n",
            "  inflating: fashion_dataset/red_dress/00000149.jpg  \n",
            "  inflating: fashion_dataset/red_dress/00000151.jpg  \n",
            "  inflating: fashion_dataset/red_dress/00000154.jpg  \n",
            "  inflating: fashion_dataset/red_dress/00000155.jpg  \n",
            "  inflating: fashion_dataset/red_dress/00000156.jpg  \n",
            "  inflating: fashion_dataset/red_dress/00000158.jpg  \n",
            "  inflating: fashion_dataset/red_dress/00000159.jpg  \n",
            "  inflating: fashion_dataset/red_dress/00000160.jpg  \n",
            "  inflating: fashion_dataset/red_dress/00000161.jpg  \n",
            "  inflating: fashion_dataset/red_dress/00000164.jpg  \n",
            "  inflating: fashion_dataset/red_dress/00000165.jpg  \n",
            "  inflating: fashion_dataset/red_dress/00000166.jpg  \n",
            "  inflating: fashion_dataset/red_dress/00000167.jpg  \n",
            "  inflating: fashion_dataset/red_dress/00000168.jpg  \n",
            "  inflating: fashion_dataset/red_dress/00000169.jpg  \n",
            "  inflating: fashion_dataset/red_dress/00000170.jpg  \n",
            "  inflating: fashion_dataset/red_dress/00000174.jpg  \n",
            "  inflating: fashion_dataset/red_dress/00000175.jpg  \n",
            "  inflating: fashion_dataset/red_dress/00000176.jpg  \n",
            "  inflating: fashion_dataset/red_dress/00000177.jpg  \n",
            "  inflating: fashion_dataset/red_dress/00000178.jpg  \n",
            "  inflating: fashion_dataset/red_dress/00000179.jpg  \n",
            "  inflating: fashion_dataset/red_dress/00000181.jpg  \n",
            "  inflating: fashion_dataset/red_dress/00000184.jpg  \n",
            "  inflating: fashion_dataset/red_dress/00000185.jpg  \n",
            "  inflating: fashion_dataset/red_dress/00000186.jpg  \n",
            "  inflating: fashion_dataset/red_dress/00000187.jpg  \n",
            "  inflating: fashion_dataset/red_dress/00000188.jpg  \n",
            "  inflating: fashion_dataset/red_dress/00000189.jpg  \n",
            "  inflating: fashion_dataset/red_dress/00000190.jpg  \n",
            "  inflating: fashion_dataset/red_dress/00000191.jpg  \n",
            "  inflating: fashion_dataset/red_dress/00000194.jpg  \n",
            "  inflating: fashion_dataset/red_dress/00000195.jpg  \n",
            "  inflating: fashion_dataset/red_dress/00000196.jpg  \n",
            "  inflating: fashion_dataset/red_dress/00000197.jpg  \n",
            "  inflating: fashion_dataset/red_dress/00000198.jpg  \n",
            "  inflating: fashion_dataset/red_dress/00000199.jpg  \n",
            "   creating: fashion_dataset/red_shirt/\n",
            "  inflating: fashion_dataset/red_shirt/00000000.jpg  \n",
            "  inflating: fashion_dataset/red_shirt/00000001.png  \n",
            "  inflating: fashion_dataset/red_shirt/00000004.jpg  \n",
            "  inflating: fashion_dataset/red_shirt/00000005.png  \n",
            "  inflating: fashion_dataset/red_shirt/00000006.png  \n",
            "  inflating: fashion_dataset/red_shirt/00000007.png  \n",
            "  inflating: fashion_dataset/red_shirt/00000008.png  \n",
            "  inflating: fashion_dataset/red_shirt/00000011.jpg  \n",
            "  inflating: fashion_dataset/red_shirt/00000014.jpg  \n",
            "  inflating: fashion_dataset/red_shirt/00000015.jpg  \n",
            "  inflating: fashion_dataset/red_shirt/00000016.jpg  \n",
            "  inflating: fashion_dataset/red_shirt/00000018.jpg  \n",
            "  inflating: fashion_dataset/red_shirt/00000019.png  \n",
            "  inflating: fashion_dataset/red_shirt/00000040.png  \n",
            "  inflating: fashion_dataset/red_shirt/00000041.jpg  \n",
            "  inflating: fashion_dataset/red_shirt/00000044.png  \n",
            "  inflating: fashion_dataset/red_shirt/00000045.jpg  \n",
            "  inflating: fashion_dataset/red_shirt/00000046.jpg  \n",
            "  inflating: fashion_dataset/red_shirt/00000047.jpg  \n",
            "  inflating: fashion_dataset/red_shirt/00000048.jpg  \n",
            "  inflating: fashion_dataset/red_shirt/00000049.jpg  \n",
            "  inflating: fashion_dataset/red_shirt/00000050.jpg  \n",
            "  inflating: fashion_dataset/red_shirt/00000051.jpg  \n",
            "  inflating: fashion_dataset/red_shirt/00000054.jpg  \n",
            "  inflating: fashion_dataset/red_shirt/00000055.jpg  \n",
            "  inflating: fashion_dataset/red_shirt/00000056.jpg  \n",
            "  inflating: fashion_dataset/red_shirt/00000057.jpg  \n",
            "  inflating: fashion_dataset/red_shirt/00000058.png  \n",
            "  inflating: fashion_dataset/red_shirt/00000059.jpg  \n",
            "  inflating: fashion_dataset/red_shirt/00000060.jpg  \n",
            "  inflating: fashion_dataset/red_shirt/00000064.jpg  \n",
            "  inflating: fashion_dataset/red_shirt/00000065.jpg  \n",
            "  inflating: fashion_dataset/red_shirt/00000066.jpg  \n",
            "  inflating: fashion_dataset/red_shirt/00000067.jpg  \n",
            "  inflating: fashion_dataset/red_shirt/00000068.jpg  \n",
            "  inflating: fashion_dataset/red_shirt/00000069.jpg  \n",
            "  inflating: fashion_dataset/red_shirt/00000070.jpg  \n",
            "  inflating: fashion_dataset/red_shirt/00000071.jpg  \n",
            "  inflating: fashion_dataset/red_shirt/00000074.jpg  \n",
            "  inflating: fashion_dataset/red_shirt/00000075.jpg  \n",
            "  inflating: fashion_dataset/red_shirt/00000076.png  \n",
            "  inflating: fashion_dataset/red_shirt/00000077.jpg  \n",
            "  inflating: fashion_dataset/red_shirt/00000078.jpg  \n",
            "  inflating: fashion_dataset/red_shirt/00000079.jpg  \n",
            "  inflating: fashion_dataset/red_shirt/00000080.jpg  \n",
            "  inflating: fashion_dataset/red_shirt/00000081.png  \n",
            "  inflating: fashion_dataset/red_shirt/00000084.jpg  \n",
            "  inflating: fashion_dataset/red_shirt/00000085.jpg  \n",
            "  inflating: fashion_dataset/red_shirt/00000089.jpg  \n",
            "  inflating: fashion_dataset/red_shirt/00000091.jpg  \n",
            "  inflating: fashion_dataset/red_shirt/00000094.jpg  \n",
            "  inflating: fashion_dataset/red_shirt/00000095.jpg  \n",
            "  inflating: fashion_dataset/red_shirt/00000096.jpg  \n",
            "  inflating: fashion_dataset/red_shirt/00000097.jpg  \n",
            "  inflating: fashion_dataset/red_shirt/00000098.jpg  \n",
            "  inflating: fashion_dataset/red_shirt/00000099.jpg  \n",
            "  inflating: fashion_dataset/red_shirt/00000100.jpg  \n",
            "  inflating: fashion_dataset/red_shirt/00000101.jpg  \n",
            "  inflating: fashion_dataset/red_shirt/00000105.jpg  \n",
            "  inflating: fashion_dataset/red_shirt/00000106.jpg  \n",
            "  inflating: fashion_dataset/red_shirt/00000107.jpg  \n",
            "  inflating: fashion_dataset/red_shirt/00000108.jpg  \n",
            "  inflating: fashion_dataset/red_shirt/00000110.jpg  \n",
            "  inflating: fashion_dataset/red_shirt/00000111.jpg  \n",
            "  inflating: fashion_dataset/red_shirt/00000114.jpg  \n",
            "  inflating: fashion_dataset/red_shirt/00000115.jpg  \n",
            "  inflating: fashion_dataset/red_shirt/00000116.jpg  \n",
            "  inflating: fashion_dataset/red_shirt/00000117.jpg  \n",
            "  inflating: fashion_dataset/red_shirt/00000140.jpg  \n",
            "  inflating: fashion_dataset/red_shirt/00000141.jpg  \n",
            "  inflating: fashion_dataset/red_shirt/00000144.jpg  \n",
            "  inflating: fashion_dataset/red_shirt/00000145.jpg  \n",
            "  inflating: fashion_dataset/red_shirt/00000146.jpg  \n",
            "  inflating: fashion_dataset/red_shirt/00000147.jpg  \n",
            "  inflating: fashion_dataset/red_shirt/00000149.jpg  \n",
            "  inflating: fashion_dataset/red_shirt/00000150.jpg  \n",
            "  inflating: fashion_dataset/red_shirt/00000151.jpg  \n",
            "  inflating: fashion_dataset/red_shirt/00000154.jpg  \n",
            "  inflating: fashion_dataset/red_shirt/00000155.jpg  \n",
            "  inflating: fashion_dataset/red_shirt/00000156.jpg  \n",
            "  inflating: fashion_dataset/red_shirt/00000157.jpg  \n",
            "  inflating: fashion_dataset/red_shirt/00000158.jpg  \n",
            "  inflating: fashion_dataset/red_shirt/00000159.jpg  \n",
            "  inflating: fashion_dataset/red_shirt/00000160.jpg  \n",
            "  inflating: fashion_dataset/red_shirt/00000161.jpg  \n",
            "  inflating: fashion_dataset/red_shirt/00000164.jpg  \n",
            "  inflating: fashion_dataset/red_shirt/00000165.jpg  \n",
            "  inflating: fashion_dataset/red_shirt/00000167.jpg  \n",
            "  inflating: fashion_dataset/red_shirt/00000168.jpg  \n",
            "  inflating: fashion_dataset/red_shirt/00000169.jpg  \n",
            "  inflating: fashion_dataset/red_shirt/00000170.jpg  \n",
            "  inflating: fashion_dataset/red_shirt/00000171.jpg  \n",
            "  inflating: fashion_dataset/red_shirt/00000174.jpg  \n",
            "  inflating: fashion_dataset/red_shirt/00000175.jpg  \n",
            "  inflating: fashion_dataset/red_shirt/00000176.jpg  \n",
            "  inflating: fashion_dataset/red_shirt/00000177.jpg  \n",
            "  inflating: fashion_dataset/red_shirt/00000178.jpg  \n",
            "  inflating: fashion_dataset/red_shirt/00000180.jpg  \n",
            "  inflating: fashion_dataset/red_shirt/00000181.jpg  \n",
            "  inflating: fashion_dataset/red_shirt/00000184.jpg  \n",
            "  inflating: fashion_dataset/red_shirt/00000187.jpg  \n",
            "  inflating: fashion_dataset/red_shirt/00000188.jpg  \n",
            "  inflating: fashion_dataset/red_shirt/00000190.jpg  \n",
            "  inflating: fashion_dataset/red_shirt/00000191.jpg  \n",
            "  inflating: fashion_dataset/red_shirt/00000195.jpg  \n",
            "  inflating: fashion_dataset/red_shirt/00000196.jpg  \n",
            "  inflating: fashion_dataset/red_shirt/00000197.jpg  \n",
            "  inflating: fashion_dataset/red_shirt/00000198.jpg  \n",
            "  inflating: fashion_dataset/red_shirt/00000199.jpg  \n"
          ],
          "name": "stdout"
        }
      ]
    },
    {
      "cell_type": "markdown",
      "metadata": {
        "id": "c48Y7utfiKHQ"
      },
      "source": [
        "```\n",
        "fashion_dataset/\n",
        "  black_jeans\n",
        "  black_shoes/\n",
        "  blue_dress/\n",
        "  blue_jeans\n",
        "  blue_shirt/\n",
        "  red_dress/\n",
        "  red_shirt/\n",
        "```\n",
        "\n",
        "```\n",
        "category : jeans, shoes, dress, shirt\n",
        "color : black, blue, red\n",
        "```"
      ]
    },
    {
      "cell_type": "code",
      "metadata": {
        "id": "8dodBjvth_d-"
      },
      "source": [
        "import matplotlib\n",
        "\n",
        "from keras.optimizers import Adam\n",
        "from keras.preprocessing.image import img_to_array\n",
        "from sklearn.preprocessing import LabelBinarizer\n",
        "from sklearn.model_selection import train_test_split\n",
        "\n",
        "from imutils import paths\n",
        "import matplotlib.pyplot as plt\n",
        "import numpy as np\n",
        "import argparse\n",
        "import random\n",
        "import pickle\n",
        "import cv2\n",
        "import os"
      ],
      "execution_count": null,
      "outputs": []
    },
    {
      "cell_type": "code",
      "metadata": {
        "id": "pD_ONY_4jtzK"
      },
      "source": [
        "IMAGE_DIMS = (96, 96, 3)"
      ],
      "execution_count": null,
      "outputs": []
    },
    {
      "cell_type": "markdown",
      "metadata": {
        "id": "XTw_iOmOizug"
      },
      "source": [
        "### 영상 파일이름 읽기"
      ]
    },
    {
      "cell_type": "code",
      "metadata": {
        "id": "w_f5QIPziT6R",
        "colab": {
          "base_uri": "https://localhost:8080/",
          "height": 72
        },
        "outputId": "18845a0c-3118-4895-845f-6276ee86e20a"
      },
      "source": [
        "imagePaths = sorted(list(paths.list_images('fashion_dataset')))\n",
        "random.shuffle(imagePaths)\n",
        "print(len(imagePaths))\n",
        "print(imagePaths[:3])"
      ],
      "execution_count": null,
      "outputs": [
        {
          "output_type": "stream",
          "text": [
            "755\n",
            "['fashion_dataset/black_jeans/00000198.jpg', 'fashion_dataset/black_jeans/00000064.jpg', 'fashion_dataset/blue_shirt/00000079.jpg']\n"
          ],
          "name": "stdout"
        }
      ]
    },
    {
      "cell_type": "markdown",
      "metadata": {
        "id": "4gIJx0rTjdMj"
      },
      "source": [
        "### 영상 읽기, 카테고리와 컬러 읽기"
      ]
    },
    {
      "cell_type": "code",
      "metadata": {
        "id": "0cKf7OqHjXq-"
      },
      "source": [
        "data = []\n",
        "categoryLabels = []\n",
        "colorLabels = []\n",
        "\n",
        "for imagePath in imagePaths:\n",
        "\timage = cv2.imread(imagePath)\n",
        "\timage = cv2.resize(image, (IMAGE_DIMS[1], IMAGE_DIMS[0]))\n",
        "\timage = cv2.cvtColor(image, cv2.COLOR_BGR2RGB)\n",
        "\timage = img_to_array(image)\n",
        "\tdata.append(image)\n",
        "\n",
        "\t(color, cat) = imagePath.split(os.path.sep)[-2].split(\"_\")\n",
        "  # imagePath = 'fashion_dataset/black_shoes/00000048.jpg'\n",
        "  # color = 'black'\n",
        "  # cat = 'shoes'\n",
        "\tcategoryLabels.append(cat)\n",
        "\tcolorLabels.append(color)"
      ],
      "execution_count": null,
      "outputs": []
    },
    {
      "cell_type": "code",
      "metadata": {
        "id": "IME5dUwqilgV",
        "colab": {
          "base_uri": "https://localhost:8080/",
          "height": 52
        },
        "outputId": "cba935d9-802b-4e90-8fef-0b57bb976eb7"
      },
      "source": [
        "print(categoryLabels[:10])\n",
        "print(colorLabels[:10])"
      ],
      "execution_count": null,
      "outputs": [
        {
          "output_type": "stream",
          "text": [
            "['jeans', 'jeans', 'shirt', 'jeans', 'dress', 'dress', 'shoes', 'dress', 'shoes', 'shoes']\n",
            "['black', 'black', 'blue', 'black', 'red', 'blue', 'black', 'blue', 'black', 'black']\n"
          ],
          "name": "stdout"
        }
      ]
    },
    {
      "cell_type": "code",
      "metadata": {
        "id": "FHIVMXWyjxov",
        "colab": {
          "base_uri": "https://localhost:8080/",
          "height": 597
        },
        "outputId": "39b371ef-0795-49de-cb1c-0b51337b4981"
      },
      "source": [
        "from IPython.display import Image, display\n",
        "\n",
        "print(len(data), len(categoryLabels), len(colorLabels))\n",
        "print(\"iamgePaths[0]=\", imagePaths[0])\n",
        "display(Image(imagePaths[0]))\n",
        "\n",
        "print(\"data[0]=\", data[0].shape)\n",
        "plt.imshow(data[0]/255)\n",
        "print(\"categoryLabels[0]=\", categoryLabels[0])\n",
        "print(\"colorLabels[0]=\", colorLabels[0])"
      ],
      "execution_count": null,
      "outputs": [
        {
          "output_type": "stream",
          "text": [
            "755 755 755\n",
            "iamgePaths[0]= fashion_dataset/black_jeans/00000198.jpg\n"
          ],
          "name": "stdout"
        },
        {
          "output_type": "display_data",
          "data": {
            "image/jpeg": "[encoded data removed]",
            "text/plain": [
              "<IPython.core.display.Image object>"
            ]
          },
          "metadata": {
            "tags": []
          }
        },
        {
          "output_type": "stream",
          "text": [
            "data[0]= (96, 96, 3)\n",
            "categoryLabels[0]= jeans\n",
            "colorLabels[0]= black\n"
          ],
          "name": "stdout"
        },
        {
          "output_type": "display_data",
          "data": {
            "image/png": "[encoded data removed]",
            "text/plain": [
              "<Figure size 432x288 with 1 Axes>"
            ]
          },
          "metadata": {
            "tags": [],
            "needs_background": "light"
          }
        }
      ]
    },
    {
      "cell_type": "markdown",
      "metadata": {
        "id": "4CcZd2FUnTAb"
      },
      "source": [
        "### numpy로 변환"
      ]
    },
    {
      "cell_type": "code",
      "metadata": {
        "id": "CFPjrQRCnSSb",
        "colab": {
          "base_uri": "https://localhost:8080/",
          "height": 35
        },
        "outputId": "1bdad741-3736-44e7-adbd-2711e3fd9ac6"
      },
      "source": [
        "data = np.array(data, dtype=\"float\")\n",
        "print(\"[INFO] data matrix: {} images ({:.2f}MB)\".format(len(imagePaths), data.nbytes / (1024 * 1000.0)))\n",
        "\n",
        "# convert the label lists to NumPy arrays prior to binarization\n",
        "categoryLabels = np.array(categoryLabels)\n",
        "colorLabels = np.array(colorLabels)"
      ],
      "execution_count": null,
      "outputs": [
        {
          "output_type": "stream",
          "text": [
            "[INFO] data matrix: 755 images (163.08MB)\n"
          ],
          "name": "stdout"
        }
      ]
    },
    {
      "cell_type": "markdown",
      "metadata": {
        "id": "wJEmMrAXrmDP"
      },
      "source": [
        "## normalization"
      ]
    },
    {
      "cell_type": "code",
      "metadata": {
        "id": "r8Xeo-Rorjwd"
      },
      "source": [
        "data = data/255."
      ],
      "execution_count": null,
      "outputs": []
    },
    {
      "cell_type": "markdown",
      "metadata": {
        "id": "3G8ZqLqfnYRy"
      },
      "source": [
        "### 레이블 데이터를 one-hot 인코딩"
      ]
    },
    {
      "cell_type": "code",
      "metadata": {
        "id": "m2KnUkTEieV5",
        "colab": {
          "base_uri": "https://localhost:8080/",
          "height": 225
        },
        "outputId": "12150345-214a-4a56-c6cc-986ace6038c7"
      },
      "source": [
        "print(categoryLabels[:5])\n",
        "categoryLB = LabelBinarizer()\n",
        "categoryLabels = categoryLB.fit_transform(categoryLabels)\n",
        "print(categoryLabels[:5])\n",
        "\n",
        "\n",
        "print(colorLabels[:5])\n",
        "colorLB = LabelBinarizer()\n",
        "colorLabels = colorLB.fit_transform(colorLabels)\n",
        "print(colorLabels[:5])"
      ],
      "execution_count": null,
      "outputs": [
        {
          "output_type": "stream",
          "text": [
            "['jeans' 'jeans' 'shirt' 'jeans' 'dress']\n",
            "[[0 1 0 0]\n",
            " [0 1 0 0]\n",
            " [0 0 1 0]\n",
            " [0 1 0 0]\n",
            " [1 0 0 0]]\n",
            "['black' 'black' 'blue' 'black' 'red']\n",
            "[[1 0 0]\n",
            " [1 0 0]\n",
            " [0 1 0]\n",
            " [1 0 0]\n",
            " [0 0 1]]\n"
          ],
          "name": "stdout"
        }
      ]
    },
    {
      "cell_type": "markdown",
      "metadata": {
        "id": "AXcJIhU1noje"
      },
      "source": [
        "### 데이터 분리"
      ]
    },
    {
      "cell_type": "code",
      "metadata": {
        "id": "H6H1tL3unAOv",
        "colab": {
          "base_uri": "https://localhost:8080/",
          "height": 121
        },
        "outputId": "ff840655-321d-44d0-fbf3-ca73b7d7d8f8"
      },
      "source": [
        "(trainX, testX, trainCategoryY, testCategoryY, trainColorY, testColorY) = train_test_split(data, categoryLabels, colorLabels, test_size=0.2, random_state=42)\n",
        "\n",
        "print(trainX.shape)\n",
        "print(trainCategoryY.shape)\n",
        "print(trainColorY.shape)\n",
        "\n",
        "print(testX.shape)\n",
        "print(testCategoryY.shape)\n",
        "print(testColorY.shape)"
      ],
      "execution_count": null,
      "outputs": [
        {
          "output_type": "stream",
          "text": [
            "(604, 96, 96, 3)\n",
            "(604, 4)\n",
            "(604, 3)\n",
            "(151, 96, 96, 3)\n",
            "(151, 4)\n",
            "(151, 3)\n"
          ],
          "name": "stdout"
        }
      ]
    },
    {
      "cell_type": "code",
      "metadata": {
        "id": "_vHgevIupt6_",
        "colab": {
          "base_uri": "https://localhost:8080/",
          "height": 52
        },
        "outputId": "8405fa2d-4731-4047-a30a-fd600f09f808"
      },
      "source": [
        "CATEGORY_COUNT = categoryLabels.shape[-1]\n",
        "COLOR_COUNT = colorLabels.shape[-1]\n",
        "\n",
        "print(CATEGORY_COUNT)\n",
        "print(COLOR_COUNT)"
      ],
      "execution_count": null,
      "outputs": [
        {
          "output_type": "stream",
          "text": [
            "4\n",
            "3\n"
          ],
          "name": "stdout"
        }
      ]
    },
    {
      "cell_type": "markdown",
      "metadata": {
        "id": "dAcKr4uko_51"
      },
      "source": [
        "## 개별 모델로 학습 실행"
      ]
    },
    {
      "cell_type": "code",
      "metadata": {
        "id": "X3gbBIm7oBMX"
      },
      "source": [
        "import numpy as np\n",
        "import matplotlib.pyplot as plt\n",
        "\n",
        "import tensorflow as tf\n",
        "from tensorflow import keras\n",
        "from tensorflow.keras import optimizers\n",
        "from tensorflow.keras.layers import Dense, Flatten, Conv2D, MaxPooling2D, Input\n",
        "\n",
        "\n",
        "def build_category_model():\n",
        "\n",
        "  model = keras.Sequential()\n",
        "  model.add(Input(IMAGE_DIMS))\n",
        "  model.add(Conv2D(32, (3, 3)))\n",
        "  model.add(MaxPooling2D((2, 2)))\n",
        "  model.add(Conv2D(64, (3, 3)))\n",
        "  model.add(MaxPooling2D((2, 2)))\n",
        "  model.add(Flatten())\n",
        "  model.add(Dense(10, activation='relu'))\n",
        "  model.add(Dense(10, activation='relu'))\n",
        "  model.add(Dense(CATEGORY_COUNT, activation='softmax'))\n",
        "\n",
        "  return model\n",
        "\n",
        "def build_color_model():\n",
        "\n",
        "  model = keras.Sequential()\n",
        "  model.add(Input(IMAGE_DIMS))\n",
        "  model.add(Conv2D(32, (3, 3)))\n",
        "  model.add(MaxPooling2D((2, 2)))\n",
        "  model.add(Conv2D(64, (3, 3)))\n",
        "  model.add(MaxPooling2D((2, 2)))\n",
        "  model.add(Flatten())\n",
        "  model.add(Dense(10, activation='relu'))\n",
        "  model.add(Dense(10, activation='relu'))\n",
        "  model.add(Dense(COLOR_COUNT, activation='softmax'))\n",
        "\n",
        "  return model  "
      ],
      "execution_count": null,
      "outputs": []
    },
    {
      "cell_type": "code",
      "metadata": {
        "id": "Vh-cWdnw9YIM",
        "colab": {
          "base_uri": "https://localhost:8080/",
          "height": 69
        },
        "outputId": "b34e64a1-24d4-4edf-a6cd-785d13b34959"
      },
      "source": [
        "print(trainX.shape)\n",
        "print(trainCategoryY.shape)\n",
        "print(CATEGORY_COUNT)"
      ],
      "execution_count": null,
      "outputs": [
        {
          "output_type": "stream",
          "text": [
            "(604, 96, 96, 3)\n",
            "(604, 4)\n",
            "4\n"
          ],
          "name": "stdout"
        }
      ]
    },
    {
      "cell_type": "markdown",
      "metadata": {
        "id": "DnwbSGt4I5Er"
      },
      "source": [
        "### 카테고리 모델"
      ]
    },
    {
      "cell_type": "code",
      "metadata": {
        "id": "O0CE4sh2pXrm",
        "colab": {
          "base_uri": "https://localhost:8080/",
          "height": 674
        },
        "outputId": "dcddcaa6-e155-419c-8837-5fd86dead5a2"
      },
      "source": [
        "category_model = build_category_model()\n",
        "\n",
        "category_model.compile(optimizer=\"adam\", loss=\"categorical_crossentropy\", metrics=[\"accuracy\"])\n",
        "category_model.summary()\n",
        "\n",
        "\n",
        "category_model.fit(trainX, trainCategoryY, epochs=5, verbose=1, batch_size=128)\n",
        "\n",
        "\n",
        "loss, acc = category_model.evaluate(testX, testCategoryY)\n",
        "print(\"loss=\",loss)\n",
        "print(\"acc=\",acc)\n"
      ],
      "execution_count": null,
      "outputs": [
        {
          "output_type": "stream",
          "text": [
            "Model: \"sequential\"\n",
            "_________________________________________________________________\n",
            "Layer (type)                 Output Shape              Param #   \n",
            "=================================================================\n",
            "conv2d_6 (Conv2D)            (None, 94, 94, 32)        896       \n",
            "_________________________________________________________________\n",
            "max_pooling2d_6 (MaxPooling2 (None, 47, 47, 32)        0         \n",
            "_________________________________________________________________\n",
            "conv2d_7 (Conv2D)            (None, 45, 45, 64)        18496     \n",
            "_________________________________________________________________\n",
            "max_pooling2d_7 (MaxPooling2 (None, 22, 22, 64)        0         \n",
            "_________________________________________________________________\n",
            "flatten_3 (Flatten)          (None, 30976)             0         \n",
            "_________________________________________________________________\n",
            "dense_15 (Dense)             (None, 10)                309770    \n",
            "_________________________________________________________________\n",
            "dense_16 (Dense)             (None, 10)                110       \n",
            "_________________________________________________________________\n",
            "dense_17 (Dense)             (None, 4)                 44        \n",
            "=================================================================\n",
            "Total params: 329,316\n",
            "Trainable params: 329,316\n",
            "Non-trainable params: 0\n",
            "_________________________________________________________________\n",
            "Train on 604 samples\n",
            "Epoch 1/5\n",
            "604/604 [==============================] - 1s 2ms/sample - loss: 245.4408 - acc: 0.2119\n",
            "Epoch 2/5\n",
            "604/604 [==============================] - 0s 476us/sample - loss: 62.8027 - acc: 0.2980\n",
            "Epoch 3/5\n",
            "604/604 [==============================] - 0s 472us/sample - loss: 18.4754 - acc: 0.3510\n",
            "Epoch 4/5\n",
            "604/604 [==============================] - 0s 454us/sample - loss: 1.3986 - acc: 0.2682\n",
            "Epoch 5/5\n",
            "604/604 [==============================] - 0s 457us/sample - loss: 1.3852 - acc: 0.2666\n",
            "151/151 [==============================] - 0s 1ms/sample - loss: 1.3854 - acc: 0.1987\n",
            "loss= 1.385439079328878\n",
            "acc= 0.1986755\n"
          ],
          "name": "stdout"
        }
      ]
    },
    {
      "cell_type": "markdown",
      "metadata": {
        "id": "g_h8W_oHI_CZ"
      },
      "source": [
        "### 컬러 모델"
      ]
    },
    {
      "cell_type": "code",
      "metadata": {
        "id": "Z-p1AcRT-IMJ",
        "colab": {
          "base_uri": "https://localhost:8080/",
          "height": 69
        },
        "outputId": "36f29462-639c-454d-c34d-68074e39a74a"
      },
      "source": [
        "print(trainX.shape)\n",
        "print(trainColorY.shape)\n",
        "print(COLOR_COUNT)"
      ],
      "execution_count": null,
      "outputs": [
        {
          "output_type": "stream",
          "text": [
            "(604, 96, 96, 3)\n",
            "(604, 3)\n",
            "3\n"
          ],
          "name": "stdout"
        }
      ]
    },
    {
      "cell_type": "code",
      "metadata": {
        "id": "Qgm2tq2I-Sym",
        "colab": {
          "base_uri": "https://localhost:8080/",
          "height": 674
        },
        "outputId": "28e54f55-8e7b-4043-e40f-558e75d64034"
      },
      "source": [
        "color_model = build_color_model()\n",
        "\n",
        "color_model.compile(optimizer=\"adam\", loss=\"categorical_crossentropy\", metrics=[\"accuracy\"])\n",
        "color_model.summary()\n",
        "\n",
        "\n",
        "color_model.fit(trainX, trainColorY, epochs=5, verbose=1, batch_size=128)\n",
        "\n",
        "\n",
        "loss, acc = color_model.evaluate(testX, testColorY)\n",
        "print(\"loss=\",loss)\n",
        "print(\"acc=\",acc)\n"
      ],
      "execution_count": null,
      "outputs": [
        {
          "output_type": "stream",
          "text": [
            "Model: \"sequential_1\"\n",
            "_________________________________________________________________\n",
            "Layer (type)                 Output Shape              Param #   \n",
            "=================================================================\n",
            "conv2d_8 (Conv2D)            (None, 94, 94, 32)        896       \n",
            "_________________________________________________________________\n",
            "max_pooling2d_8 (MaxPooling2 (None, 47, 47, 32)        0         \n",
            "_________________________________________________________________\n",
            "conv2d_9 (Conv2D)            (None, 45, 45, 64)        18496     \n",
            "_________________________________________________________________\n",
            "max_pooling2d_9 (MaxPooling2 (None, 22, 22, 64)        0         \n",
            "_________________________________________________________________\n",
            "flatten_4 (Flatten)          (None, 30976)             0         \n",
            "_________________________________________________________________\n",
            "dense_18 (Dense)             (None, 10)                309770    \n",
            "_________________________________________________________________\n",
            "dense_19 (Dense)             (None, 10)                110       \n",
            "_________________________________________________________________\n",
            "dense_20 (Dense)             (None, 3)                 33        \n",
            "=================================================================\n",
            "Total params: 329,305\n",
            "Trainable params: 329,305\n",
            "Non-trainable params: 0\n",
            "_________________________________________________________________\n",
            "Train on 604 samples\n",
            "Epoch 1/5\n",
            "604/604 [==============================] - 0s 618us/sample - loss: 57.2405 - acc: 0.2897\n",
            "Epoch 2/5\n",
            "604/604 [==============================] - 0s 466us/sample - loss: 34.1699 - acc: 0.3626\n",
            "Epoch 3/5\n",
            "604/604 [==============================] - 0s 467us/sample - loss: 9.8570 - acc: 0.4421\n",
            "Epoch 4/5\n",
            "604/604 [==============================] - 0s 469us/sample - loss: 1.3229 - acc: 0.7914\n",
            "Epoch 5/5\n",
            "604/604 [==============================] - 0s 462us/sample - loss: 0.7800 - acc: 0.8079\n",
            "151/151 [==============================] - 0s 728us/sample - loss: 0.8733 - acc: 0.7550\n",
            "loss= 0.8732589704311446\n",
            "acc= 0.7549669\n"
          ],
          "name": "stdout"
        }
      ]
    },
    {
      "cell_type": "code",
      "metadata": {
        "id": "BlumccIP-YUu"
      },
      "source": [
        ""
      ],
      "execution_count": null,
      "outputs": []
    },
    {
      "cell_type": "markdown",
      "metadata": {
        "id": "Z1fdpl5c-iW_"
      },
      "source": [
        "## 다중 출력 모델로 학습 실행"
      ]
    },
    {
      "cell_type": "code",
      "metadata": {
        "id": "KOyQbsVo-ke8"
      },
      "source": [
        "import numpy as np\n",
        "import matplotlib.pyplot as plt\n",
        "\n",
        "import tensorflow as tf\n",
        "from tensorflow import keras\n",
        "from tensorflow.keras import optimizers, Model\n",
        "from tensorflow.keras.layers import Dense, Flatten, Conv2D, MaxPooling2D, Input\n",
        "\n",
        "\n",
        "def common_input_branch(input):\n",
        "\n",
        "  x = Conv2D(32, (3, 3))(input)\n",
        "  x = MaxPooling2D((2, 2))(x)\n",
        "  x = Conv2D(64, (3, 3))(x)\n",
        "  x = MaxPooling2D((2, 2))(x)\n",
        "  x = Flatten()(x)\n",
        "\n",
        "  return x\n",
        "\n",
        "\n",
        "def category_branch(x):\n",
        "\n",
        "  x = Dense(10, activation='relu')(x)\n",
        "  x = Dense(10, activation='relu')(x)\n",
        "  x = Dense(CATEGORY_COUNT, activation='softmax', name='category_output')(x)\n",
        "\n",
        "  return x\n",
        "\n",
        "def color_branch(x):\n",
        "\n",
        "  x = Dense(10, activation='relu')(x)\n",
        "  x = Dense(10, activation='relu')(x)\n",
        "  x = Dense(COLOR_COUNT, activation='softmax', name='color_output')(x)\n",
        "\n",
        "  return x"
      ],
      "execution_count": null,
      "outputs": []
    },
    {
      "cell_type": "code",
      "metadata": {
        "id": "49vnw8ZSAEYN",
        "colab": {
          "base_uri": "https://localhost:8080/",
          "height": 570
        },
        "outputId": "7bdd0161-19ac-4755-db2a-fb85214290a5"
      },
      "source": [
        "input = Input(IMAGE_DIMS)\n",
        "\n",
        "common_input = common_input_branch(input)\n",
        "category_output = category_branch(common_input)\n",
        "color_output = color_branch(common_input)\n",
        "\n",
        "multi_output_model = Model(input, [category_output, color_output])\n",
        "\n",
        "multi_output_model.summary()"
      ],
      "execution_count": null,
      "outputs": [
        {
          "output_type": "stream",
          "text": [
            "Model: \"model_5\"\n",
            "__________________________________________________________________________________________________\n",
            "Layer (type)                    Output Shape         Param #     Connected to                     \n",
            "==================================================================================================\n",
            "input_11 (InputLayer)           [(None, 96, 96, 3)]  0                                            \n",
            "__________________________________________________________________________________________________\n",
            "conv2d_16 (Conv2D)              (None, 94, 94, 32)   896         input_11[0][0]                   \n",
            "__________________________________________________________________________________________________\n",
            "max_pooling2d_16 (MaxPooling2D) (None, 47, 47, 32)   0           conv2d_16[0][0]                  \n",
            "__________________________________________________________________________________________________\n",
            "conv2d_17 (Conv2D)              (None, 45, 45, 64)   18496       max_pooling2d_16[0][0]           \n",
            "__________________________________________________________________________________________________\n",
            "max_pooling2d_17 (MaxPooling2D) (None, 22, 22, 64)   0           conv2d_17[0][0]                  \n",
            "__________________________________________________________________________________________________\n",
            "flatten_8 (Flatten)             (None, 30976)        0           max_pooling2d_17[0][0]           \n",
            "__________________________________________________________________________________________________\n",
            "dense_28 (Dense)                (None, 10)           309770      flatten_8[0][0]                  \n",
            "__________________________________________________________________________________________________\n",
            "dense_30 (Dense)                (None, 10)           309770      flatten_8[0][0]                  \n",
            "__________________________________________________________________________________________________\n",
            "dense_29 (Dense)                (None, 10)           110         dense_28[0][0]                   \n",
            "__________________________________________________________________________________________________\n",
            "dense_31 (Dense)                (None, 10)           110         dense_30[0][0]                   \n",
            "__________________________________________________________________________________________________\n",
            "category_output (Dense)         (None, 4)            44          dense_29[0][0]                   \n",
            "__________________________________________________________________________________________________\n",
            "color_output (Dense)            (None, 3)            33          dense_31[0][0]                   \n",
            "==================================================================================================\n",
            "Total params: 639,229\n",
            "Trainable params: 639,229\n",
            "Non-trainable params: 0\n",
            "__________________________________________________________________________________________________\n"
          ],
          "name": "stdout"
        }
      ]
    },
    {
      "cell_type": "code",
      "metadata": {
        "id": "SftqPQsKAHCU",
        "colab": {
          "base_uri": "https://localhost:8080/",
          "height": 1000
        },
        "outputId": "abe619d9-0198-4ddc-bc75-b45e19ab5bda"
      },
      "source": [
        "losses = { \"category_output\":\"categorical_crossentropy\", \"color_output\":\"categorical_crossentropy\"}\n",
        "loss_weights = { \"category_output\":1.0, \"color_output\":1.0}\n",
        "\n",
        "# color_model.compile(optimizer=\"adam\", loss=\"categorical_crossentropy\", metrics=[\"accuracy\"])\n",
        "multi_output_model.compile(optimizer=\"adam\", loss=losses, loss_weights=loss_weights, metrics=[\"accuracy\"])\n",
        "\n",
        "\n",
        "# color_model.fit(trainX, trainColorY, epochs=5, verbose=1, batch_size=128)\n",
        "multi_output_model.fit(trainX, {\"category_output\":trainCategoryY, \"color_output\":trainColorY}, epochs=50, verbose=1, batch_size=128)"
      ],
      "execution_count": null,
      "outputs": [
        {
          "output_type": "stream",
          "text": [
            "Train on 604 samples\n",
            "Epoch 1/50\n",
            "604/604 [==============================] - 1s 880us/sample - loss: 273.9671 - category_output_loss: 97.8160 - color_output_loss: 170.2181 - category_output_acc: 0.2997 - color_output_acc: 0.3957\n",
            "Epoch 2/50\n",
            "604/604 [==============================] - 0s 547us/sample - loss: 75.8908 - category_output_loss: 1.6496 - color_output_loss: 70.9485 - category_output_acc: 0.3543 - color_output_acc: 0.3560\n",
            "Epoch 3/50\n",
            "604/604 [==============================] - 0s 524us/sample - loss: 23.3261 - category_output_loss: 10.0313 - color_output_loss: 12.6673 - category_output_acc: 0.3146 - color_output_acc: 0.7169\n",
            "Epoch 4/50\n",
            "604/604 [==============================] - 0s 509us/sample - loss: 7.0968 - category_output_loss: 1.3753 - color_output_loss: 5.5770 - category_output_acc: 0.3113 - color_output_acc: 0.7997\n",
            "Epoch 5/50\n",
            "604/604 [==============================] - 0s 497us/sample - loss: 3.7273 - category_output_loss: 1.3859 - color_output_loss: 2.2623 - category_output_acc: 0.2964 - color_output_acc: 0.8924\n",
            "Epoch 6/50\n",
            "604/604 [==============================] - 0s 494us/sample - loss: 2.7558 - category_output_loss: 1.3853 - color_output_loss: 1.3960 - category_output_acc: 0.2964 - color_output_acc: 0.9354\n",
            "Epoch 7/50\n",
            "604/604 [==============================] - 0s 492us/sample - loss: 2.6358 - category_output_loss: 1.3849 - color_output_loss: 1.2405 - category_output_acc: 0.2964 - color_output_acc: 0.9536\n",
            "Epoch 8/50\n",
            "604/604 [==============================] - 0s 488us/sample - loss: 2.2123 - category_output_loss: 1.3844 - color_output_loss: 0.8146 - category_output_acc: 0.2964 - color_output_acc: 0.9454\n",
            "Epoch 9/50\n",
            "604/604 [==============================] - 0s 488us/sample - loss: 1.8789 - category_output_loss: 1.3836 - color_output_loss: 0.4709 - category_output_acc: 0.2964 - color_output_acc: 0.9619\n",
            "Epoch 10/50\n",
            "604/604 [==============================] - 0s 504us/sample - loss: 1.6876 - category_output_loss: 1.3834 - color_output_loss: 0.2977 - category_output_acc: 0.2964 - color_output_acc: 0.9818\n",
            "Epoch 11/50\n",
            "604/604 [==============================] - 0s 488us/sample - loss: 1.5532 - category_output_loss: 1.3827 - color_output_loss: 0.1653 - category_output_acc: 0.2964 - color_output_acc: 0.9834\n",
            "Epoch 12/50\n",
            "604/604 [==============================] - 0s 483us/sample - loss: 1.4506 - category_output_loss: 1.3819 - color_output_loss: 0.0647 - category_output_acc: 0.2964 - color_output_acc: 0.9901\n",
            "Epoch 13/50\n",
            "604/604 [==============================] - 0s 491us/sample - loss: 1.5581 - category_output_loss: 1.3812 - color_output_loss: 0.1851 - category_output_acc: 0.2964 - color_output_acc: 0.9884\n",
            "Epoch 14/50\n",
            "604/604 [==============================] - 0s 495us/sample - loss: 1.6687 - category_output_loss: 1.3811 - color_output_loss: 0.2798 - category_output_acc: 0.2964 - color_output_acc: 0.9752\n",
            "Epoch 15/50\n",
            "604/604 [==============================] - 0s 489us/sample - loss: 1.4232 - category_output_loss: 1.3809 - color_output_loss: 0.0404 - category_output_acc: 0.2964 - color_output_acc: 0.9917\n",
            "Epoch 16/50\n",
            "604/604 [==============================] - 0s 492us/sample - loss: 1.4415 - category_output_loss: 1.3797 - color_output_loss: 0.0582 - category_output_acc: 0.2964 - color_output_acc: 0.9934\n",
            "Epoch 17/50\n",
            "604/604 [==============================] - 0s 490us/sample - loss: 1.4777 - category_output_loss: 1.3795 - color_output_loss: 0.0981 - category_output_acc: 0.2964 - color_output_acc: 0.9851\n",
            "Epoch 18/50\n",
            "604/604 [==============================] - 0s 484us/sample - loss: 1.4187 - category_output_loss: 1.3788 - color_output_loss: 0.0377 - category_output_acc: 0.2964 - color_output_acc: 0.9934\n",
            "Epoch 19/50\n",
            "604/604 [==============================] - 0s 489us/sample - loss: 1.3980 - category_output_loss: 1.3784 - color_output_loss: 0.0189 - category_output_acc: 0.2964 - color_output_acc: 0.9967\n",
            "Epoch 20/50\n",
            "604/604 [==============================] - 0s 497us/sample - loss: 1.3856 - category_output_loss: 1.3779 - color_output_loss: 0.0074 - category_output_acc: 0.2964 - color_output_acc: 0.9967\n",
            "Epoch 21/50\n",
            "604/604 [==============================] - 0s 489us/sample - loss: 1.3833 - category_output_loss: 1.3773 - color_output_loss: 0.0058 - category_output_acc: 0.2964 - color_output_acc: 0.9983\n",
            "Epoch 22/50\n",
            "604/604 [==============================] - 0s 492us/sample - loss: 1.3786 - category_output_loss: 1.3769 - color_output_loss: 0.0016 - category_output_acc: 0.2964 - color_output_acc: 0.9983\n",
            "Epoch 23/50\n",
            "604/604 [==============================] - 0s 494us/sample - loss: 1.3813 - category_output_loss: 1.3766 - color_output_loss: 0.0050 - category_output_acc: 0.2964 - color_output_acc: 0.9967\n",
            "Epoch 24/50\n",
            "604/604 [==============================] - 0s 488us/sample - loss: 1.3810 - category_output_loss: 1.3756 - color_output_loss: 0.0048 - category_output_acc: 0.2964 - color_output_acc: 0.9967\n",
            "Epoch 25/50\n",
            "604/604 [==============================] - 0s 480us/sample - loss: 1.3796 - category_output_loss: 1.3753 - color_output_loss: 0.0039 - category_output_acc: 0.2964 - color_output_acc: 0.9983\n",
            "Epoch 26/50\n",
            "604/604 [==============================] - 0s 481us/sample - loss: 1.3929 - category_output_loss: 1.3754 - color_output_loss: 0.0169 - category_output_acc: 0.2964 - color_output_acc: 0.9967\n",
            "Epoch 27/50\n",
            "604/604 [==============================] - 0s 491us/sample - loss: 1.3960 - category_output_loss: 1.3746 - color_output_loss: 0.0278 - category_output_acc: 0.2964 - color_output_acc: 0.9950\n",
            "Epoch 28/50\n",
            "604/604 [==============================] - 0s 487us/sample - loss: 1.5142 - category_output_loss: 1.3739 - color_output_loss: 0.1336 - category_output_acc: 0.2964 - color_output_acc: 0.9851\n",
            "Epoch 29/50\n",
            "604/604 [==============================] - 0s 485us/sample - loss: 1.6211 - category_output_loss: 1.3739 - color_output_loss: 0.2524 - category_output_acc: 0.2964 - color_output_acc: 0.9768\n",
            "Epoch 30/50\n",
            "604/604 [==============================] - 0s 489us/sample - loss: 1.4521 - category_output_loss: 1.3735 - color_output_loss: 0.0742 - category_output_acc: 0.2964 - color_output_acc: 0.9834\n",
            "Epoch 31/50\n",
            "604/604 [==============================] - 0s 484us/sample - loss: 1.4412 - category_output_loss: 1.3725 - color_output_loss: 0.0761 - category_output_acc: 0.2964 - color_output_acc: 0.9934\n",
            "Epoch 32/50\n",
            "604/604 [==============================] - 0s 490us/sample - loss: 1.4114 - category_output_loss: 1.3726 - color_output_loss: 0.0367 - category_output_acc: 0.2964 - color_output_acc: 0.9950\n",
            "Epoch 33/50\n",
            "604/604 [==============================] - 0s 496us/sample - loss: 1.3755 - category_output_loss: 1.3720 - color_output_loss: 0.0031 - category_output_acc: 0.2964 - color_output_acc: 0.9983\n",
            "Epoch 34/50\n",
            "604/604 [==============================] - 0s 503us/sample - loss: 1.4027 - category_output_loss: 1.3721 - color_output_loss: 0.0290 - category_output_acc: 0.2964 - color_output_acc: 0.9967\n",
            "Epoch 35/50\n",
            "604/604 [==============================] - 0s 482us/sample - loss: 1.4026 - category_output_loss: 1.3712 - color_output_loss: 0.0292 - category_output_acc: 0.2964 - color_output_acc: 0.9950\n",
            "Epoch 36/50\n",
            "604/604 [==============================] - 0s 488us/sample - loss: 1.3919 - category_output_loss: 1.3713 - color_output_loss: 0.0196 - category_output_acc: 0.2964 - color_output_acc: 0.9917\n",
            "Epoch 37/50\n",
            "604/604 [==============================] - 0s 485us/sample - loss: 1.3769 - category_output_loss: 1.3711 - color_output_loss: 0.0057 - category_output_acc: 0.2964 - color_output_acc: 0.9983\n",
            "Epoch 38/50\n",
            "604/604 [==============================] - 0s 486us/sample - loss: 1.3827 - category_output_loss: 1.3709 - color_output_loss: 0.0113 - category_output_acc: 0.2964 - color_output_acc: 0.9950\n",
            "Epoch 39/50\n",
            "604/604 [==============================] - 0s 500us/sample - loss: 1.3878 - category_output_loss: 1.3698 - color_output_loss: 0.0167 - category_output_acc: 0.2964 - color_output_acc: 0.9967\n",
            "Epoch 40/50\n",
            "604/604 [==============================] - 0s 500us/sample - loss: 1.3781 - category_output_loss: 1.3702 - color_output_loss: 0.0076 - category_output_acc: 0.2964 - color_output_acc: 0.9983\n",
            "Epoch 41/50\n",
            "604/604 [==============================] - 0s 504us/sample - loss: 1.3792 - category_output_loss: 1.3701 - color_output_loss: 0.0089 - category_output_acc: 0.2964 - color_output_acc: 0.9983\n",
            "Epoch 42/50\n",
            "604/604 [==============================] - 0s 495us/sample - loss: 1.3755 - category_output_loss: 1.3698 - color_output_loss: 0.0079 - category_output_acc: 0.2964 - color_output_acc: 0.9983\n",
            "Epoch 43/50\n",
            "604/604 [==============================] - 0s 490us/sample - loss: 1.3720 - category_output_loss: 1.3680 - color_output_loss: 0.0027 - category_output_acc: 0.2964 - color_output_acc: 0.9983\n",
            "Epoch 44/50\n",
            "604/604 [==============================] - 0s 488us/sample - loss: 1.3741 - category_output_loss: 1.3686 - color_output_loss: 0.0050 - category_output_acc: 0.2964 - color_output_acc: 0.9983\n",
            "Epoch 45/50\n",
            "604/604 [==============================] - 0s 493us/sample - loss: 1.3707 - category_output_loss: 1.3684 - color_output_loss: 0.0019 - category_output_acc: 0.2964 - color_output_acc: 0.9983\n",
            "Epoch 46/50\n",
            "604/604 [==============================] - 0s 496us/sample - loss: 1.3729 - category_output_loss: 1.3683 - color_output_loss: 0.0043 - category_output_acc: 0.2964 - color_output_acc: 0.9983\n",
            "Epoch 47/50\n",
            "604/604 [==============================] - 0s 494us/sample - loss: 1.3695 - category_output_loss: 1.3682 - color_output_loss: 0.0013 - category_output_acc: 0.2964 - color_output_acc: 0.9983\n",
            "Epoch 48/50\n",
            "604/604 [==============================] - 0s 488us/sample - loss: 1.3693 - category_output_loss: 1.3684 - color_output_loss: 0.0013 - category_output_acc: 0.2964 - color_output_acc: 1.0000\n",
            "Epoch 49/50\n",
            "604/604 [==============================] - 0s 495us/sample - loss: 1.3690 - category_output_loss: 1.3670 - color_output_loss: 0.0013 - category_output_acc: 0.2964 - color_output_acc: 1.0000\n",
            "Epoch 50/50\n",
            "604/604 [==============================] - 0s 494us/sample - loss: 1.3683 - category_output_loss: 1.3679 - color_output_loss: 9.5770e-04 - category_output_acc: 0.2964 - color_output_acc: 1.0000\n"
          ],
          "name": "stdout"
        },
        {
          "output_type": "execute_result",
          "data": {
            "text/plain": [
              "<tensorflow.python.keras.callbacks.History at 0x7ff07fae0fd0>"
            ]
          },
          "metadata": {
            "tags": []
          },
          "execution_count": 80
        }
      ]
    },
    {
      "cell_type": "code",
      "metadata": {
        "id": "NHH3al7zB4uK",
        "colab": {
          "base_uri": "https://localhost:8080/",
          "height": 141
        },
        "outputId": "d3e16a18-ede1-4470-8306-a02afdcec203"
      },
      "source": [
        "loss, category_loss, color_loss, category_acc, color_acc = multi_output_model.evaluate(testX, {\"category_output\":testCategoryY, \"color_output\":testColorY})\n",
        "print(\"loss=\",loss)\n",
        "print(\"categoyr_loss=\", category_loss)\n",
        "print(\"color_loss=\", color_loss)\n",
        "print(\"category_acc=\", category_acc)\n",
        "print(\"color_acc=\", color_acc)"
      ],
      "execution_count": null,
      "outputs": [
        {
          "output_type": "stream",
          "text": [
            "151/151 [==============================] - 0s 1ms/sample - loss: 2.4729 - category_output_loss: 1.3549 - color_output_loss: 1.2244 - category_output_acc: 0.3377 - color_output_acc: 0.9603\n",
            "loss= 2.472860945771072\n",
            "categoyr_loss= 1.3549242\n",
            "color_loss= 1.2244413\n",
            "category_acc= 0.33774835\n",
            "color_acc= 0.9602649\n"
          ],
          "name": "stdout"
        }
      ]
    },
    {
      "cell_type": "code",
      "metadata": {
        "id": "nGPuLHteCIso"
      },
      "source": [
        ""
      ],
      "execution_count": null,
      "outputs": []
    }
  ]
}