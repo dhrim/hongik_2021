{
  "nbformat": 4,
  "nbformat_minor": 0,
  "metadata": {
    "colab": {
      "name": "real_practice-classify_semiconductor_wafermap.ipynb",
      "provenance": []
    },
    "kernelspec": {
      "name": "python3",
      "display_name": "Python 3"
    },
    "accelerator": "GPU"
  },
  "cells": [
    {
      "cell_type": "markdown",
      "metadata": {
        "id": "fUBUvYvhpgza"
      },
      "source": [
        "# Wafer 패턴 분류\n",
        "\n",
        "works from https://github.com/fr407041/WM-811K_semiconductor_wafer_map_pattern_classified\n",
        "\n",
        "data from http://mirlab.org/dataSet/public/\n",
        "\n",
        "related kaggle competition :https://www.kaggle.com/qingyi/wm811k-wafer-map\n",
        "\n",
        "much referenced : https://www.kaggle.com/kcs93023/keras-wafer-classification-cnn2d-with-augmentation\n",
        "\n"
      ]
    },
    {
      "cell_type": "markdown",
      "metadata": {
        "id": "NZIJRHkY0pdz"
      },
      "source": [
        "# 데이터 다운로드\n",
        "\n",
        "https://www.kaggle.com/qingyi/wm811k-wafer-map 에서 다운로드 받은 archive.zip을 \n",
        "\n",
        "google drive의 tmp 폴더에 업로드하고 시작한다.\n",
        "\n"
      ]
    },
    {
      "cell_type": "code",
      "metadata": {
        "id": "9GH-qVx1sTC2"
      },
      "source": [
        ""
      ],
      "execution_count": null,
      "outputs": []
    },
    {
      "cell_type": "code",
      "metadata": {
        "id": "wN6zeFeRsUWN",
        "colab": {
          "base_uri": "https://localhost:8080/"
        },
        "outputId": "900dce71-73c4-4ee3-c758-02cc973faf1b"
      },
      "source": [
        "from google.colab import drive\n",
        "drive.mount('/content/drive')"
      ],
      "execution_count": 1,
      "outputs": [
        {
          "output_type": "stream",
          "text": [
            "Mounted at /content/drive\n"
          ],
          "name": "stdout"
        }
      ]
    },
    {
      "cell_type": "code",
      "metadata": {
        "id": "pugB0US1pXlw"
      },
      "source": [
        "!cp '/content/drive/MyDrive/tmp/archive.zip' ./"
      ],
      "execution_count": 2,
      "outputs": []
    },
    {
      "cell_type": "code",
      "metadata": {
        "id": "nk5DHavFskDQ",
        "colab": {
          "base_uri": "https://localhost:8080/"
        },
        "outputId": "8a9639c9-9235-4483-975e-60b82a7d1614"
      },
      "source": [
        "!unzip archive.zip"
      ],
      "execution_count": 3,
      "outputs": [
        {
          "output_type": "stream",
          "text": [
            "Archive:  archive.zip\n",
            "  inflating: LSWMD.pkl               \n"
          ],
          "name": "stdout"
        }
      ]
    },
    {
      "cell_type": "code",
      "metadata": {
        "id": "pyzT8SFNuhBo",
        "colab": {
          "base_uri": "https://localhost:8080/"
        },
        "outputId": "47014718-85af-43ce-f94e-26cef96443c3"
      },
      "source": [
        "!ls -alh"
      ],
      "execution_count": 4,
      "outputs": [
        {
          "output_type": "stream",
          "text": [
            "total 2.1G\n",
            "drwxr-xr-x 1 root root 4.0K Dec 17 04:36 .\n",
            "drwxr-xr-x 1 root root 4.0K Dec 17 04:07 ..\n",
            "-rw------- 1 root root 150M Dec 17 04:35 archive.zip\n",
            "drwxr-xr-x 1 root root 4.0K Dec 10 17:17 .config\n",
            "drwx------ 6 root root 4.0K Dec 17 04:33 drive\n",
            "-rw-r--r-- 1 root root 2.0G Sep 27  2019 LSWMD.pkl\n",
            "drwxr-xr-x 1 root root 4.0K Dec  2 22:04 sample_data\n"
          ],
          "name": "stdout"
        }
      ]
    },
    {
      "cell_type": "markdown",
      "metadata": {
        "id": "GavgmjDytAsf"
      },
      "source": [
        "# 데이터 로딩"
      ]
    },
    {
      "cell_type": "code",
      "metadata": {
        "id": "5G0EAv8hus68"
      },
      "source": [
        "import numpy as np\n",
        "import pandas as pd\n",
        "import matplotlib.pyplot as plt"
      ],
      "execution_count": 5,
      "outputs": []
    },
    {
      "cell_type": "code",
      "metadata": {
        "id": "EYw7FBvHs5E9"
      },
      "source": [
        "df=pd.read_pickle(\"LSWMD.pkl\")"
      ],
      "execution_count": 6,
      "outputs": []
    },
    {
      "cell_type": "code",
      "metadata": {
        "id": "krW8iF9-tTtZ",
        "colab": {
          "base_uri": "https://localhost:8080/",
          "height": 198
        },
        "outputId": "fa745f3c-0edf-42f7-d0de-bb920dc949be"
      },
      "source": [
        "df.head()"
      ],
      "execution_count": 7,
      "outputs": [
        {
          "output_type": "execute_result",
          "data": {
            "text/html": [
              "<div>\n",
              "<style scoped>\n",
              "    .dataframe tbody tr th:only-of-type {\n",
              "        vertical-align: middle;\n",
              "    }\n",
              "\n",
              "    .dataframe tbody tr th {\n",
              "        vertical-align: top;\n",
              "    }\n",
              "\n",
              "    .dataframe thead th {\n",
              "        text-align: right;\n",
              "    }\n",
              "</style>\n",
              "<table border=\"1\" class=\"dataframe\">\n",
              "  <thead>\n",
              "    <tr style=\"text-align: right;\">\n",
              "      <th></th>\n",
              "      <th>waferMap</th>\n",
              "      <th>dieSize</th>\n",
              "      <th>lotName</th>\n",
              "      <th>waferIndex</th>\n",
              "      <th>trianTestLabel</th>\n",
              "      <th>failureType</th>\n",
              "    </tr>\n",
              "  </thead>\n",
              "  <tbody>\n",
              "    <tr>\n",
              "      <th>0</th>\n",
              "      <td>[[0, 0, 0, 0, 0, 0, 0, 0, 0, 0, 0, 0, 0, 0, 0,...</td>\n",
              "      <td>1683.0</td>\n",
              "      <td>lot1</td>\n",
              "      <td>1.0</td>\n",
              "      <td>[[Training]]</td>\n",
              "      <td>[[none]]</td>\n",
              "    </tr>\n",
              "    <tr>\n",
              "      <th>1</th>\n",
              "      <td>[[0, 0, 0, 0, 0, 0, 0, 0, 0, 0, 0, 0, 0, 0, 0,...</td>\n",
              "      <td>1683.0</td>\n",
              "      <td>lot1</td>\n",
              "      <td>2.0</td>\n",
              "      <td>[[Training]]</td>\n",
              "      <td>[[none]]</td>\n",
              "    </tr>\n",
              "    <tr>\n",
              "      <th>2</th>\n",
              "      <td>[[0, 0, 0, 0, 0, 0, 0, 0, 0, 0, 0, 0, 0, 0, 0,...</td>\n",
              "      <td>1683.0</td>\n",
              "      <td>lot1</td>\n",
              "      <td>3.0</td>\n",
              "      <td>[[Training]]</td>\n",
              "      <td>[[none]]</td>\n",
              "    </tr>\n",
              "    <tr>\n",
              "      <th>3</th>\n",
              "      <td>[[0, 0, 0, 0, 0, 0, 0, 0, 0, 0, 0, 0, 0, 0, 0,...</td>\n",
              "      <td>1683.0</td>\n",
              "      <td>lot1</td>\n",
              "      <td>4.0</td>\n",
              "      <td>[[Training]]</td>\n",
              "      <td>[[none]]</td>\n",
              "    </tr>\n",
              "    <tr>\n",
              "      <th>4</th>\n",
              "      <td>[[0, 0, 0, 0, 0, 0, 0, 0, 0, 0, 0, 0, 0, 0, 0,...</td>\n",
              "      <td>1683.0</td>\n",
              "      <td>lot1</td>\n",
              "      <td>5.0</td>\n",
              "      <td>[[Training]]</td>\n",
              "      <td>[[none]]</td>\n",
              "    </tr>\n",
              "  </tbody>\n",
              "</table>\n",
              "</div>"
            ],
            "text/plain": [
              "                                            waferMap  ...  failureType\n",
              "0  [[0, 0, 0, 0, 0, 0, 0, 0, 0, 0, 0, 0, 0, 0, 0,...  ...     [[none]]\n",
              "1  [[0, 0, 0, 0, 0, 0, 0, 0, 0, 0, 0, 0, 0, 0, 0,...  ...     [[none]]\n",
              "2  [[0, 0, 0, 0, 0, 0, 0, 0, 0, 0, 0, 0, 0, 0, 0,...  ...     [[none]]\n",
              "3  [[0, 0, 0, 0, 0, 0, 0, 0, 0, 0, 0, 0, 0, 0, 0,...  ...     [[none]]\n",
              "4  [[0, 0, 0, 0, 0, 0, 0, 0, 0, 0, 0, 0, 0, 0, 0,...  ...     [[none]]\n",
              "\n",
              "[5 rows x 6 columns]"
            ]
          },
          "metadata": {
            "tags": []
          },
          "execution_count": 7
        }
      ]
    },
    {
      "cell_type": "code",
      "metadata": {
        "id": "oJhbMx7UtX1D",
        "colab": {
          "base_uri": "https://localhost:8080/"
        },
        "outputId": "1c3fd46e-6c25-49fd-8617-189df9aa4d0e"
      },
      "source": [
        "df.info()"
      ],
      "execution_count": 8,
      "outputs": [
        {
          "output_type": "stream",
          "text": [
            "<class 'pandas.core.frame.DataFrame'>\n",
            "RangeIndex: 811457 entries, 0 to 811456\n",
            "Data columns (total 6 columns):\n",
            " #   Column          Non-Null Count   Dtype  \n",
            "---  ------          --------------   -----  \n",
            " 0   waferMap        811457 non-null  object \n",
            " 1   dieSize         811457 non-null  float64\n",
            " 2   lotName         811457 non-null  object \n",
            " 3   waferIndex      811457 non-null  float64\n",
            " 4   trianTestLabel  811457 non-null  object \n",
            " 5   failureType     811457 non-null  object \n",
            "dtypes: float64(2), object(4)\n",
            "memory usage: 37.1+ MB\n"
          ],
          "name": "stdout"
        }
      ]
    },
    {
      "cell_type": "markdown",
      "metadata": {
        "id": "tZIY7CbcwW6F"
      },
      "source": [
        "# 데이터 살펴보기"
      ]
    },
    {
      "cell_type": "markdown",
      "metadata": {
        "id": "S2FDUzJI1D3I"
      },
      "source": [
        "## 컬럼 waferMap"
      ]
    },
    {
      "cell_type": "code",
      "metadata": {
        "id": "d43IeS-mx6P4",
        "colab": {
          "base_uri": "https://localhost:8080/"
        },
        "outputId": "b04ed66e-93f2-4bbb-cbff-693a8dac29c1"
      },
      "source": [
        "wafer_map = df.waferMap.values\n",
        "print(wafer_map[0])\n",
        "print(wafer_map[0].shape)"
      ],
      "execution_count": 9,
      "outputs": [
        {
          "output_type": "stream",
          "text": [
            "[[0 0 0 ... 0 0 0]\n",
            " [0 0 0 ... 0 0 0]\n",
            " [0 0 0 ... 0 0 0]\n",
            " ...\n",
            " [0 0 0 ... 0 0 0]\n",
            " [0 0 0 ... 0 0 0]\n",
            " [0 0 0 ... 0 0 0]]\n",
            "(45, 48)\n"
          ],
          "name": "stdout"
        }
      ]
    },
    {
      "cell_type": "markdown",
      "metadata": {
        "id": "UKNqQlgN0-B-"
      },
      "source": [
        "1개의 wafer map은 2차원 어레이이다."
      ]
    },
    {
      "cell_type": "code",
      "metadata": {
        "id": "ae_ftW3_-J5r",
        "colab": {
          "base_uri": "https://localhost:8080/",
          "height": 1000
        },
        "outputId": "e9826317-548f-4af7-9260-06b52a090d25"
      },
      "source": [
        "plt.imshow(wafer_map[0])\n",
        "plt.show()\n",
        "for i in range(45):\n",
        "  for j in range(48):\n",
        "    print(wafer_map[0][i][j], end='')\n",
        "  print()"
      ],
      "execution_count": 10,
      "outputs": [
        {
          "output_type": "display_data",
          "data": {
            "image/png": "[encoded data removed]",
            "text/plain": [
              "<Figure size 432x288 with 1 Axes>"
            ]
          },
          "metadata": {
            "tags": [],
            "needs_background": "light"
          }
        },
        {
          "output_type": "stream",
          "text": [
            "000000000000000000000211111000000000000000000000\n",
            "000000000000000021111111111111100000000000000000\n",
            "000000000000001111111111111111211100000000000000\n",
            "000000000000121111211111111111111111000000000000\n",
            "000000000011111111111111111111111111120000000000\n",
            "000000000111111111111111111111111111111000000000\n",
            "000000021111111111111111111211111111111100000000\n",
            "000000121111111111111111111111112112111210000000\n",
            "000002111111112111121111111211111111111111000000\n",
            "000001111111111111111111111111111111111111100000\n",
            "000012111111112111111111111111121111111121110000\n",
            "000211121111111111111221111111111111112111110000\n",
            "000111111111111111111111111111111111111111111000\n",
            "001111111111112111111111111111111111111111121200\n",
            "001111111111111111211111111111111111111111111100\n",
            "011111111111111111111111111111111111112111111100\n",
            "011111111111111111111111211111111111111111112110\n",
            "011111111111111111111111111111111111111121112110\n",
            "111111111111112111112111111111111111111111112110\n",
            "111111111111111111111211111111112111111111111112\n",
            "111111111111121111111111111112111112111111111111\n",
            "111121111111111111111111112111111111111111111112\n",
            "111111111111111111111111111111111111111111211112\n",
            "111111111111211111111111111111111121111111111211\n",
            "111111111111111111111111111111111111111111111111\n",
            "112111111111111111111111111111111111111111111111\n",
            "111112111111211211111121111111111111111111211110\n",
            "111111112111111111111111111112111121111111111110\n",
            "011111111111111111111111111111111111111111111110\n",
            "011111111111111111111111111111111111111111111110\n",
            "021111111111111111111111111111121111111111111100\n",
            "001111111111111111111111111111111111111111111100\n",
            "001111111111111112121111111111111112111111112000\n",
            "000111212111121111111211111111111111111111111000\n",
            "000011111211111111111111111111112111111111110000\n",
            "000012111111111111111112111111111111111111100000\n",
            "000002211111111211111111111111111111111111100000\n",
            "000000111111111111111111111111111111111111000000\n",
            "000000011111111111111121111111111111111120000000\n",
            "000000001111111111111111111111111211111200000000\n",
            "000000000111111111111111111111211111110000000000\n",
            "000000000001111111111111111111112111100000000000\n",
            "000000000000021111111111211111111110000000000000\n",
            "000000000000000111211111111111111000000000000000\n",
            "000000000000000000121111111112000000000000000000\n"
          ],
          "name": "stdout"
        }
      ]
    },
    {
      "cell_type": "markdown",
      "metadata": {
        "id": "P6MqCEk9_AwT"
      },
      "source": [
        "배경은 0이고, wafer는 1과 2로 구분된다."
      ]
    },
    {
      "cell_type": "code",
      "metadata": {
        "id": "3eXfrfjl9-s6",
        "colab": {
          "base_uri": "https://localhost:8080/",
          "height": 1000
        },
        "outputId": "66ed2e36-7139-417f-c4d9-df8c3efea580"
      },
      "source": [
        "for i in range(10):\n",
        "  plt.imshow(wafer_map[i])\n",
        "  plt.show()"
      ],
      "execution_count": 11,
      "outputs": [
        {
          "output_type": "display_data",
          "data": {
            "image/png": "[encoded data removed]",
            "text/plain": [
              "<Figure size 432x288 with 1 Axes>"
            ]
          },
          "metadata": {
            "tags": [],
            "needs_background": "light"
          }
        },
        {
          "output_type": "display_data",
          "data": {
            "image/png": "[encoded data removed]",
            "text/plain": [
              "<Figure size 432x288 with 1 Axes>"
            ]
          },
          "metadata": {
            "tags": [],
            "needs_background": "light"
          }
        },
        {
          "output_type": "display_data",
          "data": {
            "image/png": "[encoded data removed]",
            "text/plain": [
              "<Figure size 432x288 with 1 Axes>"
            ]
          },
          "metadata": {
            "tags": [],
            "needs_background": "light"
          }
        },
        {
          "output_type": "display_data",
          "data": {
            "image/png": "[encoded data removed]",
            "text/plain": [
              "<Figure size 432x288 with 1 Axes>"
            ]
          },
          "metadata": {
            "tags": [],
            "needs_background": "light"
          }
        },
        {
          "output_type": "display_data",
          "data": {
            "image/png": "[encoded data removed]",
            "text/plain": [
              "<Figure size 432x288 with 1 Axes>"
            ]
          },
          "metadata": {
            "tags": [],
            "needs_background": "light"
          }
        },
        {
          "output_type": "display_data",
          "data": {
            "image/png": "[encoded data removed]",
            "text/plain": [
              "<Figure size 432x288 with 1 Axes>"
            ]
          },
          "metadata": {
            "tags": [],
            "needs_background": "light"
          }
        },
        {
          "output_type": "display_data",
          "data": {
            "image/png": "[encoded data removed]",
            "text/plain": [
              "<Figure size 432x288 with 1 Axes>"
            ]
          },
          "metadata": {
            "tags": [],
            "needs_background": "light"
          }
        },
        {
          "output_type": "display_data",
          "data": {
            "image/png": "[encoded data removed]",
            "text/plain": [
              "<Figure size 432x288 with 1 Axes>"
            ]
          },
          "metadata": {
            "tags": [],
            "needs_background": "light"
          }
        },
        {
          "output_type": "display_data",
          "data": {
            "image/png": "[encoded data removed]",
            "text/plain": [
              "<Figure size 432x288 with 1 Axes>"
            ]
          },
          "metadata": {
            "tags": [],
            "needs_background": "light"
          }
        },
        {
          "output_type": "display_data",
          "data": {
            "image/png": "[encoded data removed]",
            "text/plain": [
              "<Figure size 432x288 with 1 Axes>"
            ]
          },
          "metadata": {
            "tags": [],
            "needs_background": "light"
          }
        }
      ]
    },
    {
      "cell_type": "code",
      "metadata": {
        "id": "sLLWucl700-m",
        "colab": {
          "base_uri": "https://localhost:8080/",
          "height": 198
        },
        "outputId": "71f73bc1-8e0f-4fcc-cc33-ab0084dc5eac"
      },
      "source": [
        "def find_shape(x):\n",
        "  return x.shape\n",
        "\n",
        "df['waferMapShape']=df.waferMap.apply(find_shape)\n",
        "df.sample(5)"
      ],
      "execution_count": 12,
      "outputs": [
        {
          "output_type": "execute_result",
          "data": {
            "text/html": [
              "<div>\n",
              "<style scoped>\n",
              "    .dataframe tbody tr th:only-of-type {\n",
              "        vertical-align: middle;\n",
              "    }\n",
              "\n",
              "    .dataframe tbody tr th {\n",
              "        vertical-align: top;\n",
              "    }\n",
              "\n",
              "    .dataframe thead th {\n",
              "        text-align: right;\n",
              "    }\n",
              "</style>\n",
              "<table border=\"1\" class=\"dataframe\">\n",
              "  <thead>\n",
              "    <tr style=\"text-align: right;\">\n",
              "      <th></th>\n",
              "      <th>waferMap</th>\n",
              "      <th>dieSize</th>\n",
              "      <th>lotName</th>\n",
              "      <th>waferIndex</th>\n",
              "      <th>trianTestLabel</th>\n",
              "      <th>failureType</th>\n",
              "      <th>waferMapShape</th>\n",
              "    </tr>\n",
              "  </thead>\n",
              "  <tbody>\n",
              "    <tr>\n",
              "      <th>334911</th>\n",
              "      <td>[[0, 0, 0, 0, 0, 0, 0, 0, 0, 0, 0, 0, 0, 2, 1,...</td>\n",
              "      <td>1091.0</td>\n",
              "      <td>lot20178</td>\n",
              "      <td>14.0</td>\n",
              "      <td>[]</td>\n",
              "      <td>[]</td>\n",
              "      <td>(37, 37)</td>\n",
              "    </tr>\n",
              "    <tr>\n",
              "      <th>295473</th>\n",
              "      <td>[[0, 0, 0, 0, 0, 0, 0, 0, 0, 0, 0, 0, 0, 0, 0,...</td>\n",
              "      <td>2628.0</td>\n",
              "      <td>lot18063</td>\n",
              "      <td>4.0</td>\n",
              "      <td>[]</td>\n",
              "      <td>[]</td>\n",
              "      <td>(57, 58)</td>\n",
              "    </tr>\n",
              "    <tr>\n",
              "      <th>93575</th>\n",
              "      <td>[[0, 0, 0, 0, 0, 0, 0, 0, 0, 0, 1, 1, 1, 1, 1,...</td>\n",
              "      <td>682.0</td>\n",
              "      <td>lot6622</td>\n",
              "      <td>20.0</td>\n",
              "      <td>[]</td>\n",
              "      <td>[]</td>\n",
              "      <td>(31, 28)</td>\n",
              "    </tr>\n",
              "    <tr>\n",
              "      <th>687167</th>\n",
              "      <td>[[0, 0, 0, 0, 0, 0, 0, 0, 0, 0, 0, 0, 0, 0, 0,...</td>\n",
              "      <td>1233.0</td>\n",
              "      <td>lot42502</td>\n",
              "      <td>17.0</td>\n",
              "      <td>[[Test]]</td>\n",
              "      <td>[[none]]</td>\n",
              "      <td>(41, 38)</td>\n",
              "    </tr>\n",
              "    <tr>\n",
              "      <th>413655</th>\n",
              "      <td>[[0, 0, 0, 0, 0, 0, 0, 0, 0, 0, 0, 0, 0, 0, 0,...</td>\n",
              "      <td>3008.0</td>\n",
              "      <td>lot24609</td>\n",
              "      <td>23.0</td>\n",
              "      <td>[]</td>\n",
              "      <td>[]</td>\n",
              "      <td>(57, 67)</td>\n",
              "    </tr>\n",
              "  </tbody>\n",
              "</table>\n",
              "</div>"
            ],
            "text/plain": [
              "                                                 waferMap  ...  waferMapShape\n",
              "334911  [[0, 0, 0, 0, 0, 0, 0, 0, 0, 0, 0, 0, 0, 2, 1,...  ...       (37, 37)\n",
              "295473  [[0, 0, 0, 0, 0, 0, 0, 0, 0, 0, 0, 0, 0, 0, 0,...  ...       (57, 58)\n",
              "93575   [[0, 0, 0, 0, 0, 0, 0, 0, 0, 0, 1, 1, 1, 1, 1,...  ...       (31, 28)\n",
              "687167  [[0, 0, 0, 0, 0, 0, 0, 0, 0, 0, 0, 0, 0, 0, 0,...  ...       (41, 38)\n",
              "413655  [[0, 0, 0, 0, 0, 0, 0, 0, 0, 0, 0, 0, 0, 0, 0,...  ...       (57, 67)\n",
              "\n",
              "[5 rows x 7 columns]"
            ]
          },
          "metadata": {
            "tags": []
          },
          "execution_count": 12
        }
      ]
    },
    {
      "cell_type": "code",
      "metadata": {
        "id": "smA15EaF1hmV",
        "colab": {
          "base_uri": "https://localhost:8080/"
        },
        "outputId": "65304e11-a8b0-44ba-c849-0e52d96a47f8"
      },
      "source": [
        "shape_count = np.unique(df.waferMapShape, return_counts=True)\n",
        "print(shape_count)"
      ],
      "execution_count": 13,
      "outputs": [
        {
          "output_type": "stream",
          "text": [
            "(array([(6, 21), (10, 11), (10, 12), (10, 150), (11, 11), (12, 12),\n",
            "       (12, 27), (13, 76), (14, 12), (14, 13), (15, 3), (15, 15), (18, 4),\n",
            "       (18, 19), (18, 28), (18, 44), (18, 45), (18, 48), (18, 65),\n",
            "       (19, 26), (20, 19), (21, 17), (21, 23), (21, 24), (22, 26),\n",
            "       (22, 35), (22, 50), (23, 33), (23, 34), (24, 13), (24, 18),\n",
            "       (24, 42), (24, 71), (25, 26), (25, 27), (25, 28), (25, 29),\n",
            "       (26, 25), (26, 26), (26, 28), (26, 29), (26, 30), (26, 32),\n",
            "       (26, 44), (26, 50), (27, 15), (27, 25), (27, 27), (27, 28),\n",
            "       (27, 30), (27, 31), (27, 33), (27, 71), (28, 26), (28, 28),\n",
            "       (28, 29), (28, 30), (28, 35), (28, 42), (28, 45), (28, 51),\n",
            "       (28, 71), (28, 76), (29, 24), (29, 26), (29, 27), (29, 28),\n",
            "       (29, 29), (29, 30), (29, 31), (29, 35), (29, 45), (29, 61),\n",
            "       (30, 29), (30, 30), (30, 31), (30, 32), (30, 34), (30, 35),\n",
            "       (30, 38), (30, 40), (31, 24), (31, 28), (31, 29), (31, 31),\n",
            "       (31, 32), (31, 33), (31, 35), (32, 29), (32, 30), (32, 31),\n",
            "       (32, 32), (32, 33), (32, 35), (32, 36), (32, 71), (33, 20),\n",
            "       (33, 24), (33, 29), (33, 30), (33, 31), (33, 32), (33, 33),\n",
            "       (33, 35), (33, 36), (33, 37), (33, 38), (34, 29), (34, 31),\n",
            "       (34, 32), (34, 33), (34, 34), (34, 35), (34, 36), (34, 48),\n",
            "       (35, 20), (35, 24), (35, 29), (35, 31), (35, 32), (35, 33),\n",
            "       (35, 34), (35, 35), (35, 36), (35, 37), (35, 38), (35, 40),\n",
            "       (36, 30), (36, 32), (36, 34), (36, 35), (36, 36), (36, 37),\n",
            "       (36, 38), (36, 41), (36, 42), (36, 55), (37, 22), (37, 31),\n",
            "       (37, 36), (37, 37), (37, 38), (37, 40), (37, 41), (37, 42),\n",
            "       (37, 51), (37, 55), (37, 71), (38, 34), (38, 36), (38, 38),\n",
            "       (38, 39), (38, 40), (38, 41), (38, 42), (38, 43), (38, 45),\n",
            "       (38, 49), (38, 50), (38, 62), (39, 31), (39, 33), (39, 37),\n",
            "       (39, 38), (39, 39), (39, 40), (39, 44), (39, 45), (39, 46),\n",
            "       (39, 50), (39, 65), (39, 69), (40, 17), (40, 18), (40, 40),\n",
            "       (40, 41), (40, 42), (40, 43), (40, 44), (40, 45), (40, 50),\n",
            "       (41, 30), (41, 32), (41, 33), (41, 38), (41, 39), (41, 40),\n",
            "       (41, 41), (41, 42), (41, 43), (41, 44), (41, 45), (41, 51),\n",
            "       (41, 56), (41, 57), (42, 29), (42, 33), (42, 39), (42, 41),\n",
            "       (42, 42), (42, 43), (42, 44), (42, 45), (42, 46), (42, 48),\n",
            "       (42, 56), (42, 61), (43, 41), (43, 42), (43, 43), (43, 44),\n",
            "       (43, 49), (43, 63), (43, 133), (44, 39), (44, 40), (44, 41),\n",
            "       (44, 43), (44, 44), (44, 45), (44, 46), (44, 48), (45, 30),\n",
            "       (45, 36), (45, 42), (45, 43), (45, 45), (45, 46), (45, 47),\n",
            "       (45, 48), (45, 50), (45, 51), (45, 52), (46, 37), (46, 41),\n",
            "       (46, 45), (46, 46), (46, 48), (46, 49), (46, 50), (47, 32),\n",
            "       (47, 42), (47, 43), (47, 45), (47, 47), (47, 52), (48, 42),\n",
            "       (48, 46), (48, 47), (48, 48), (48, 49), (48, 50), (48, 51),\n",
            "       (48, 52), (48, 61), (49, 39), (49, 44), (49, 48), (49, 51),\n",
            "       (49, 53), (49, 67), (50, 39), (50, 43), (50, 44), (50, 49),\n",
            "       (50, 50), (50, 51), (50, 54), (50, 59), (50, 68), (51, 30),\n",
            "       (51, 40), (51, 41), (51, 42), (51, 44), (51, 45), (51, 50),\n",
            "       (51, 51), (51, 53), (51, 57), (51, 59), (51, 61), (51, 62),\n",
            "       (52, 35), (52, 44), (52, 45), (52, 46), (52, 48), (52, 51),\n",
            "       (52, 52), (52, 53), (52, 55), (52, 59), (52, 63), (52, 71),\n",
            "       (53, 29), (53, 44), (53, 49), (53, 50), (53, 51), (53, 52),\n",
            "       (53, 53), (53, 54), (53, 55), (53, 58), (53, 59), (53, 61),\n",
            "       (53, 66), (53, 70), (53, 71), (54, 41), (54, 42), (54, 45),\n",
            "       (54, 50), (54, 54), (54, 56), (54, 57), (54, 64), (54, 65),\n",
            "       (54, 69), (54, 70), (54, 71), (55, 40), (55, 48), (55, 51),\n",
            "       (55, 53), (55, 55), (55, 56), (55, 57), (55, 66), (55, 68),\n",
            "       (55, 73), (56, 35), (56, 41), (56, 46), (56, 48), (56, 50),\n",
            "       (56, 51), (56, 52), (56, 53), (56, 54), (56, 55), (56, 57),\n",
            "       (56, 60), (56, 62), (56, 63), (56, 84), (57, 39), (57, 50),\n",
            "       (57, 54), (57, 55), (57, 56), (57, 57), (57, 58), (57, 60),\n",
            "       (57, 64), (57, 67), (57, 69), (57, 152), (58, 46), (58, 50),\n",
            "       (58, 52), (58, 53), (58, 54), (58, 58), (58, 59), (58, 60),\n",
            "       (58, 80), (59, 28), (59, 42), (59, 46), (59, 50), (59, 51),\n",
            "       (59, 54), (59, 55), (59, 56), (59, 58), (59, 60), (59, 62),\n",
            "       (59, 67), (59, 70), (60, 40), (60, 50), (60, 54), (60, 55),\n",
            "       (60, 59), (60, 62), (60, 64), (60, 69), (60, 119), (61, 55),\n",
            "       (61, 59), (61, 60), (62, 61), (62, 62), (62, 63), (62, 64),\n",
            "       (62, 65), (62, 75), (62, 76), (63, 36), (63, 58), (63, 59),\n",
            "       (63, 62), (63, 63), (63, 64), (63, 66), (63, 68), (63, 71),\n",
            "       (63, 75), (63, 76), (63, 160), (64, 49), (64, 60), (64, 61),\n",
            "       (64, 63), (64, 71), (64, 72), (65, 41), (65, 48), (65, 49),\n",
            "       (65, 60), (65, 63), (65, 64), (65, 66), (65, 73), (66, 36),\n",
            "       (66, 53), (66, 63), (66, 66), (66, 67), (66, 69), (66, 71),\n",
            "       (66, 72), (66, 77), (66, 78), (67, 64), (67, 65), (67, 67),\n",
            "       (67, 69), (67, 71), (67, 73), (68, 56), (68, 64), (68, 65),\n",
            "       (68, 69), (68, 72), (68, 75), (68, 79), (68, 80), (69, 61),\n",
            "       (69, 62), (69, 65), (69, 69), (69, 72), (69, 73), (69, 79),\n",
            "       (70, 36), (70, 58), (70, 69), (70, 70), (70, 75), (70, 84),\n",
            "       (71, 48), (71, 60), (71, 63), (71, 64), (71, 70), (71, 72),\n",
            "       (72, 43), (72, 44), (72, 50), (72, 64), (72, 67), (72, 72),\n",
            "       (72, 73), (72, 76), (72, 80), (72, 98), (72, 136), (73, 58),\n",
            "       (73, 61), (73, 64), (73, 67), (73, 72), (73, 73), (73, 78),\n",
            "       (73, 79), (74, 52), (74, 61), (74, 74), (74, 75), (74, 76),\n",
            "       (74, 83), (75, 48), (75, 61), (75, 63), (75, 75), (75, 76),\n",
            "       (75, 77), (75, 79), (75, 90), (76, 64), (76, 70), (76, 71),\n",
            "       (76, 72), (76, 74), (76, 85), (77, 47), (77, 60), (77, 76),\n",
            "       (77, 87), (78, 80), (79, 33), (79, 58), (79, 68), (79, 79),\n",
            "       (79, 80), (79, 97), (79, 104), (80, 73), (80, 77), (80, 94),\n",
            "       (81, 73), (81, 81), (82, 76), (82, 82), (82, 83), (83, 76),\n",
            "       (83, 91), (84, 63), (84, 69), (84, 74), (85, 57), (85, 68),\n",
            "       (86, 74), (86, 75), (86, 82), (86, 87), (86, 89), (86, 114),\n",
            "       (87, 71), (87, 74), (87, 75), (87, 81), (87, 89), (87, 99),\n",
            "       (88, 56), (88, 62), (88, 81), (88, 82), (89, 45), (89, 76),\n",
            "       (89, 81), (89, 90), (89, 112), (89, 157), (90, 67), (90, 90),\n",
            "       (91, 53), (91, 62), (92, 87), (92, 91), (92, 94), (94, 70),\n",
            "       (94, 95), (95, 89), (95, 100), (96, 97), (96, 100), (97, 54),\n",
            "       (98, 64), (98, 71), (98, 96), (99, 69), (99, 110), (100, 72),\n",
            "       (101, 49), (101, 65), (101, 103), (102, 66), (103, 117),\n",
            "       (104, 116), (107, 107), (107, 131), (107, 150), (107, 183),\n",
            "       (109, 111), (110, 96), (111, 112), (112, 83), (112, 116),\n",
            "       (112, 120), (113, 71), (114, 90), (115, 92), (115, 117),\n",
            "       (116, 129), (116, 146), (118, 84), (118, 95), (119, 116),\n",
            "       (121, 81), (122, 102), (122, 104), (122, 204), (123, 103),\n",
            "       (123, 136), (126, 143), (129, 127), (130, 136), (131, 66),\n",
            "       (131, 135), (132, 136), (133, 97), (134, 99), (134, 111),\n",
            "       (135, 146), (136, 205), (137, 116), (143, 132), (144, 204),\n",
            "       (147, 116), (148, 183), (151, 78), (152, 172), (153, 187),\n",
            "       (155, 175), (156, 139), (173, 48), (212, 84), (300, 202)],\n",
            "      dtype=object), array([     1,     25,     25,    595,      4,     25,      1,      4,\n",
            "           98,      8,      1,    103,      1,   4420,      1,      1,\n",
            "            8,      9,      1,      4,    121,      1,    125,      1,\n",
            "            1,    395,   2971,      2,    198,      1,      1,      1,\n",
            "            1,   4417,  64083,    309,     12,    295,  30078,    497,\n",
            "          100,   2065,    113,      1,     50,      1,  12655,    250,\n",
            "           13,    100,    298,     25,      1,     84,    411,    118,\n",
            "           50,     49,      1,     89,     37,      2,      1,    126,\n",
            "        13247,   5417,    197,    259,    325,     12,    523,     50,\n",
            "            1,     50,    609,   1206,    172,  29513,     52,      9,\n",
            "          185,     62,  10788,    119,  14569,    150,   1687,     24,\n",
            "       108687,      5,    561,   1195,    421,     25,    104,      1,\n",
            "           76,    340,  20276,     49,    100,    454,  23886,   1973,\n",
            "           13,   3923,     50,    200,   8155,     19,    448,   2529,\n",
            "         1982,     50,     22,      4,     46,    300,   6629,     24,\n",
            "           75,    776,     25,   1724,    449,   1040,  10676,    619,\n",
            "           61,   1471,     89,   2562,    100,    150,    726,     82,\n",
            "            1,     25,   1475,    100,   1257,    150,    389,    175,\n",
            "          537,      1,   2174,      1,    245,   2621,   8895,    400,\n",
            "         1497,    151,   2024,     50,      3,      1,      1,    150,\n",
            "        13562,    103,  15327,      6,    733,    131,     25,    950,\n",
            "          399,   2353,      1,      1,     30,    418,   5224,     12,\n",
            "           50,    946,     25,    188,      1,     50,      1,   5432,\n",
            "         5062,    509,   2709,   3167,   4639,    120,    275,   2583,\n",
            "          108,     28,    201,     66,     25,    305,    164,    300,\n",
            "          476,   7035,    164,     25,     14,    248,   1948,      1,\n",
            "         1620,    695,   4289,     25,     25,    125,     12,    823,\n",
            "         7131,    948,   8601,    750,      5,    874,     25,      1,\n",
            "         2730,   5598,   1207,    248,      1,    621,     29,    524,\n",
            "           34,     51,     75,    726,   2168,      7,      2,    479,\n",
            "           97,    851,    326,    225,   1671,    125,     25,      6,\n",
            "          872,    913,     75,     12,   1074,    253,     75,  39323,\n",
            "           21,    338,     53,    275,      1,    214,   3326,     25,\n",
            "          174,    748,    133,    275,      2,    162,   5000,    202,\n",
            "          352,      1,    144,      1,   1936,     25,     65,    875,\n",
            "         7890,    176,    122,     43,      2,      8,    168,     50,\n",
            "         1066,    615,    225,    386,  14812,    276,      2,      1,\n",
            "          322,     13,     26,      3,   1523,     63,    173,     55,\n",
            "         1212,    400,    176,     75,      1,      9,      1,    185,\n",
            "          198,    100,     53,     25,     26,      1,      1,      1,\n",
            "            9,   3726,     12,    137,    612,    291,    575,    150,\n",
            "          322,    125,    225,      7,    449,   5599,     75,     43,\n",
            "          114,    364,    400,     32,     19,    226,   1150,     25,\n",
            "           68,    100,     12,    440,     10,     50,     73,    323,\n",
            "          225,   2180,    361,    194,    149,     32,     17,    243,\n",
            "          125,   1281,    965,     50,    111,    225,     65,     74,\n",
            "            1,    441,   1715,    165,     25,   2018,     50,    824,\n",
            "          209,   1504,    259,     50,     24,     25,    796,    158,\n",
            "         1819,    125,     41,     25,     50,   1231,      1,      1,\n",
            "         1332,   1100,    150,      2,    273,    100,    125,   1193,\n",
            "           12,   1214,    300,   3913,    150,    808,    800,     50,\n",
            "           25,     45,   1646,   3075,     25,   1299,    749,    525,\n",
            "        11692,   4273,      1,    387,     35,    125,     18,     25,\n",
            "           25,    124,      5,    349,    207,    200,      4,     26,\n",
            "           78,   1484,   2593,    350,     25,    511,     25,      3,\n",
            "          727,    381,     24,    342,    313,    123,    325,    125,\n",
            "            2,    688,     25,    160,     50,    700,     25,    610,\n",
            "          574,     50,     24,     50,     30,   1370,     25,    321,\n",
            "           33,    586,    126,    649,    127,   1399,   1520,    157,\n",
            "           25,    500,   5533,     25,    300,    932,     25,      8,\n",
            "          420,     50,     23,    496,    447,     75,    100,   1149,\n",
            "           25,    550,     75,     49,   3776,     25,   1131,   3723,\n",
            "           25,   1217,    175,    175,    100,     10,    225,    224,\n",
            "         1373,     50,     25,    764,     80,    126,    197,     25,\n",
            "           48,      1,    655,     16,     25,    715,      8,    246,\n",
            "            1,   1549,     75,   1440,   1430,     16,     49,   1386,\n",
            "           25,     25,    361,     50,    414,    250,    160,      4,\n",
            "            6,    100,     75,   4038,      4,    100,   4845,    498,\n",
            "            1,   1808,     75,   2198,      1,   3863,      3,      1,\n",
            "         4398,     45,   1022,   3856,     11,    273,      7,      4,\n",
            "           80,    175,     83,    100,    324,     50,    100,    375,\n",
            "          324,      7,     38,    549,    200,     45,      1,    103,\n",
            "           99,     51,    125,   1474,    636,     25,      1,    175,\n",
            "          125,   1399,     24,     26,    375,      2,     99,     50,\n",
            "           47,   1964,    792,    361,    150,     99,    107,    814,\n",
            "           20,    174,     23,   1227,     22,     66,      1,    135,\n",
            "          124,      7,     27,     75,      4,    177,    709,   1618,\n",
            "            8,   1872,     18,    999,     15,     35,     36,      1,\n",
            "            4,     28,     65,     53,     14,      8,   7561,     19]))\n"
          ],
          "name": "stdout"
        }
      ]
    },
    {
      "cell_type": "markdown",
      "metadata": {
        "id": "UVLIa8Sx174C"
      },
      "source": [
        "wafer map의 크기가 다양하다."
      ]
    },
    {
      "cell_type": "code",
      "metadata": {
        "id": "t3_o0igYFEQg",
        "colab": {
          "base_uri": "https://localhost:8080/",
          "height": 265
        },
        "outputId": "06d4dca6-b40c-4167-f9e7-5ebef4054aca"
      },
      "source": [
        "plt.plot(shape_count[1])\n",
        "plt.show()"
      ],
      "execution_count": 14,
      "outputs": [
        {
          "output_type": "display_data",
          "data": {
            "image/png": "[encoded data removed]",
            "text/plain": [
              "<Figure size 432x288 with 1 Axes>"
            ]
          },
          "metadata": {
            "tags": [],
            "needs_background": "light"
          }
        }
      ]
    },
    {
      "cell_type": "markdown",
      "metadata": {
        "id": "CEwCV1KBFPik"
      },
      "source": [
        "대부분 20,000 미만이고, 몇 개만 다수이다."
      ]
    },
    {
      "cell_type": "markdown",
      "metadata": {
        "id": "bzP4OAv2wUYE"
      },
      "source": [
        "## 컬럼 dieSize"
      ]
    },
    {
      "cell_type": "code",
      "metadata": {
        "id": "AHAAUnbsuf2i",
        "colab": {
          "base_uri": "https://localhost:8080/"
        },
        "outputId": "8fb2ba8f-f9ee-4aa1-83a5-5fc89ec4f9eb"
      },
      "source": [
        "die_size = np.unique(df.dieSize, return_counts=True)\n",
        "print(die_size)"
      ],
      "execution_count": 15,
      "outputs": [
        {
          "output_type": "stream",
          "text": [
            "(array([3.0000e+00, 1.2000e+01, 2.1000e+01, ..., 2.3216e+04, 4.3935e+04,\n",
            "       4.8099e+04]), array([ 1,  1,  2, ..., 35,  3, 16]))\n"
          ],
          "name": "stdout"
        }
      ]
    },
    {
      "cell_type": "code",
      "metadata": {
        "id": "lOfJIuuNufme",
        "colab": {
          "base_uri": "https://localhost:8080/"
        },
        "outputId": "3dd87f33-e95d-4138-de04-463915b75266"
      },
      "source": [
        "print(len(die_size[0]))"
      ],
      "execution_count": 16,
      "outputs": [
        {
          "output_type": "stream",
          "text": [
            "1266\n"
          ],
          "name": "stdout"
        }
      ]
    },
    {
      "cell_type": "code",
      "metadata": {
        "id": "1aZmICTBv4Nl",
        "colab": {
          "base_uri": "https://localhost:8080/",
          "height": 285
        },
        "outputId": "010bee21-013d-4c6c-f6e4-cf3be9a23556"
      },
      "source": [
        "plt.plot(die_size[0])"
      ],
      "execution_count": 17,
      "outputs": [
        {
          "output_type": "execute_result",
          "data": {
            "text/plain": [
              "[<matplotlib.lines.Line2D at 0x7f25a1348ef0>]"
            ]
          },
          "metadata": {
            "tags": []
          },
          "execution_count": 17
        },
        {
          "output_type": "display_data",
          "data": {
            "image/png": "[encoded data removed]",
            "text/plain": [
              "<Figure size 432x288 with 1 Axes>"
            ]
          },
          "metadata": {
            "tags": [],
            "needs_background": "light"
          }
        }
      ]
    },
    {
      "cell_type": "markdown",
      "metadata": {
        "id": "ffY2I3VVxqo_"
      },
      "source": [
        "대부분이 10,000보다 작은 값이고, 소수 많이 10,000 ~ 50,000의 값을 갖는다."
      ]
    },
    {
      "cell_type": "code",
      "metadata": {
        "id": "wxsPLRhNvepW",
        "colab": {
          "base_uri": "https://localhost:8080/",
          "height": 285
        },
        "outputId": "c013794e-349b-45ed-da9a-8a3e2c9779ae"
      },
      "source": [
        "plt.plot(die_size[1])"
      ],
      "execution_count": 18,
      "outputs": [
        {
          "output_type": "execute_result",
          "data": {
            "text/plain": [
              "[<matplotlib.lines.Line2D at 0x7f2587a938d0>]"
            ]
          },
          "metadata": {
            "tags": []
          },
          "execution_count": 18
        },
        {
          "output_type": "display_data",
          "data": {
            "image/png": "[encoded data removed]",
            "text/plain": [
              "<Figure size 432x288 with 1 Axes>"
            ]
          },
          "metadata": {
            "tags": [],
            "needs_background": "light"
          }
        }
      ]
    },
    {
      "cell_type": "markdown",
      "metadata": {
        "id": "gzHGBi-QxxlG"
      },
      "source": [
        "5,6개만 10,000개 이상이고 대부분 10,000개 미만이다."
      ]
    },
    {
      "cell_type": "code",
      "metadata": {
        "id": "lCNKdSi_ufpg"
      },
      "source": [
        ""
      ],
      "execution_count": null,
      "outputs": []
    },
    {
      "cell_type": "markdown",
      "metadata": {
        "id": "lAhFeVhUx4Gi"
      },
      "source": [
        "## 컬럼 lotName"
      ]
    },
    {
      "cell_type": "code",
      "metadata": {
        "id": "DP2xpB9IwbZR",
        "colab": {
          "base_uri": "https://localhost:8080/"
        },
        "outputId": "75f3ec48-cb0c-4790-9a50-ff1662903200"
      },
      "source": [
        "lot_name = np.unique(df.lotName, return_counts=True)\n",
        "print(lot_name)\n",
        "print(len(lot_name[0]))"
      ],
      "execution_count": 19,
      "outputs": [
        {
          "output_type": "stream",
          "text": [
            "(array(['lot1', 'lot10', 'lot100', ..., 'lot9997', 'lot9998', 'lot9999'],\n",
            "      dtype=object), array([25, 25, 25, ..., 23, 23, 23]))\n",
            "46293\n"
          ],
          "name": "stdout"
        }
      ]
    },
    {
      "cell_type": "code",
      "metadata": {
        "id": "YEOoSrhzwoZt",
        "colab": {
          "base_uri": "https://localhost:8080/",
          "height": 334
        },
        "outputId": "973a8642-0786-4274-8949-34017d1db941"
      },
      "source": [
        "unique_count = np.unique(lot_name[1], return_counts=True)\n",
        "print(unique_count)\n",
        "plt.bar(unique_count[0], unique_count[1], color='gold', align='center', alpha=0.5)\n",
        "plt.show()"
      ],
      "execution_count": 20,
      "outputs": [
        {
          "output_type": "stream",
          "text": [
            "(array([ 1,  2,  3,  4,  5,  6,  7,  8,  9, 10, 11, 12, 13, 14, 15, 16, 17,\n",
            "       18, 19, 20, 21, 22, 23, 24, 25]), array([ 3461,  1255,   853,   737,  1279,   634,  1053,   560,  1404,\n",
            "        1077,   682,  3032,  1960,   149,   246,   248,   260,   419,\n",
            "         243,   336,   391,   602,   991,  2659, 21762]))\n"
          ],
          "name": "stdout"
        },
        {
          "output_type": "display_data",
          "data": {
            "image/png": "[encoded data removed]",
            "text/plain": [
              "<Figure size 432x288 with 1 Axes>"
            ]
          },
          "metadata": {
            "tags": [],
            "needs_background": "light"
          }
        }
      ]
    },
    {
      "cell_type": "markdown",
      "metadata": {
        "id": "qwHz0BJyxSiA"
      },
      "source": [
        "25개의 같은 lot name을 갖는 것이 대부분이다."
      ]
    },
    {
      "cell_type": "markdown",
      "metadata": {
        "id": "MpE0mhudubqd"
      },
      "source": [
        "## 컬럼 waferIndex"
      ]
    },
    {
      "cell_type": "code",
      "metadata": {
        "id": "PYkLPOSytq4N",
        "colab": {
          "base_uri": "https://localhost:8080/"
        },
        "outputId": "3d2b6ee9-bae2-4c60-a1ee-957df14da2c3"
      },
      "source": [
        "wafer_index_count = np.unique(df.waferIndex, return_counts=True)\n",
        "print(wafer_index_count)"
      ],
      "execution_count": null,
      "outputs": [
        {
          "output_type": "stream",
          "text": [
            "(array([ 1.,  2.,  3.,  4.,  5.,  6.,  7.,  8.,  9., 10., 11., 12., 13.,\n",
            "       14., 15., 16., 17., 18., 19., 20., 21., 22., 23., 24., 25.]), array([32516, 32663, 32621, 32714, 32701, 32745, 32672, 32650, 32636,\n",
            "       32586, 32637, 32598, 32381, 32353, 32301, 32362, 32333, 32333,\n",
            "       32285, 32290, 32320, 32312, 32202, 32197, 32049]))\n"
          ],
          "name": "stdout"
        }
      ]
    },
    {
      "cell_type": "code",
      "metadata": {
        "id": "kglLixQktrKY",
        "colab": {
          "base_uri": "https://localhost:8080/",
          "height": 265
        },
        "outputId": "b641e97a-3078-42b9-f2b5-24e9dd9f9720"
      },
      "source": [
        "plt.bar(unique_wafer_index[0], unique_wafer_index[1], color='gold', align='center', alpha=0.5)\n",
        "plt.show()"
      ],
      "execution_count": null,
      "outputs": [
        {
          "output_type": "display_data",
          "data": {
            "image/png": "[encoded data removed]",
            "text/plain": [
              "<Figure size 432x288 with 1 Axes>"
            ]
          },
          "metadata": {
            "tags": [],
            "needs_background": "light"
          }
        }
      ]
    },
    {
      "cell_type": "markdown",
      "metadata": {
        "id": "xvvMn06rxhCy"
      },
      "source": [
        "wafer index는 1~25의 값이며, 그 분포가 거의 동일하다."
      ]
    },
    {
      "cell_type": "markdown",
      "metadata": {
        "id": "Uyy3xr4-3tbh"
      },
      "source": [
        "## 컬럼 trainTestLabel"
      ]
    },
    {
      "cell_type": "code",
      "metadata": {
        "id": "YnYl1P6ltrVM",
        "colab": {
          "base_uri": "https://localhost:8080/"
        },
        "outputId": "e52ceef8-4ed2-4fba-b08a-a776074cecd6"
      },
      "source": [
        "train_test_label = df.trianTestLabel.values\n",
        "print(train_test_label[0])\n",
        "print(train_test_label[0][0])\n",
        "print(train_test_label[0][0][0])"
      ],
      "execution_count": null,
      "outputs": [
        {
          "output_type": "stream",
          "text": [
            "[['Training']]\n",
            "['Training']\n",
            "Training\n"
          ],
          "name": "stdout"
        }
      ]
    },
    {
      "cell_type": "markdown",
      "metadata": {
        "id": "UtfVfkg449Wi"
      },
      "source": [
        "사용하지 않을 컬럼이다. 무시한다."
      ]
    },
    {
      "cell_type": "markdown",
      "metadata": {
        "id": "26jmFsH35CMr"
      },
      "source": [
        "## 컬럼 failureType"
      ]
    },
    {
      "cell_type": "code",
      "metadata": {
        "id": "Ae8ctKUFtrdD",
        "colab": {
          "base_uri": "https://localhost:8080/"
        },
        "outputId": "779ef918-5dba-4663-e23f-410f2d2228f5"
      },
      "source": [
        "df.info()"
      ],
      "execution_count": null,
      "outputs": [
        {
          "output_type": "stream",
          "text": [
            "<class 'pandas.core.frame.DataFrame'>\n",
            "RangeIndex: 811457 entries, 0 to 811456\n",
            "Data columns (total 7 columns):\n",
            " #   Column          Non-Null Count   Dtype  \n",
            "---  ------          --------------   -----  \n",
            " 0   waferMap        811457 non-null  object \n",
            " 1   dieSize         811457 non-null  float64\n",
            " 2   lotName         811457 non-null  object \n",
            " 3   waferIndex      811457 non-null  float64\n",
            " 4   trianTestLabel  811457 non-null  object \n",
            " 5   failureType     811457 non-null  object \n",
            " 6   waferMapShape   811457 non-null  object \n",
            "dtypes: float64(2), object(5)\n",
            "memory usage: 43.3+ MB\n"
          ],
          "name": "stdout"
        }
      ]
    },
    {
      "cell_type": "code",
      "metadata": {
        "id": "Sv8Yj9AMtrBy",
        "colab": {
          "base_uri": "https://localhost:8080/"
        },
        "outputId": "6db287a8-ac7f-4f14-fa91-acb1aa5a20ae"
      },
      "source": [
        "failure_type = df.failureType.values\n",
        "print(failure_type[0])\n",
        "print(failure_type[999])\n",
        "print(failure_type[1111])\n",
        "print(failure_type[2222])"
      ],
      "execution_count": 21,
      "outputs": [
        {
          "output_type": "stream",
          "text": [
            "[['none']]\n",
            "[['none']]\n",
            "[['none']]\n",
            "[]\n"
          ],
          "name": "stdout"
        }
      ]
    },
    {
      "cell_type": "code",
      "metadata": {
        "id": "g4ars4uU5WSh",
        "colab": {
          "base_uri": "https://localhost:8080/",
          "height": 285
        },
        "outputId": "fb267fa9-2e81-493b-c584-59f74d52ea49"
      },
      "source": [
        "failure_name = ['Center','Donut','Edge-Loc','Edge-Ring','Loc','Random','Scratch','Near-full', 'none']\n",
        "failure_category_index = {}\n",
        "for i in range(len(failure_name)):\n",
        "  failure_category_index[failure_name[i]] = i\n",
        "#failure_category_index = {'Center':0,'Donut':1,'Edge-Loc':2,'Edge-Ring':3,'Loc':4,'Random':5,'Scratch':6,'Near-full':7,'none':8}\n",
        "\n",
        "def encode_failure_type(x):\n",
        "  # x = [['Center']]\n",
        "  if len(x)==0 or len(x[0])==0 : return failure_category_index['none']\n",
        "  return failure_category_index[x[0][0]]\n",
        "\n",
        "df['failureCategory']=df.failureType.apply(encode_failure_type)\n",
        "df.sample(5)"
      ],
      "execution_count": 22,
      "outputs": [
        {
          "output_type": "execute_result",
          "data": {
            "text/html": [
              "<div>\n",
              "<style scoped>\n",
              "    .dataframe tbody tr th:only-of-type {\n",
              "        vertical-align: middle;\n",
              "    }\n",
              "\n",
              "    .dataframe tbody tr th {\n",
              "        vertical-align: top;\n",
              "    }\n",
              "\n",
              "    .dataframe thead th {\n",
              "        text-align: right;\n",
              "    }\n",
              "</style>\n",
              "<table border=\"1\" class=\"dataframe\">\n",
              "  <thead>\n",
              "    <tr style=\"text-align: right;\">\n",
              "      <th></th>\n",
              "      <th>waferMap</th>\n",
              "      <th>dieSize</th>\n",
              "      <th>lotName</th>\n",
              "      <th>waferIndex</th>\n",
              "      <th>trianTestLabel</th>\n",
              "      <th>failureType</th>\n",
              "      <th>waferMapShape</th>\n",
              "      <th>failureCategory</th>\n",
              "    </tr>\n",
              "  </thead>\n",
              "  <tbody>\n",
              "    <tr>\n",
              "      <th>224848</th>\n",
              "      <td>[[0, 0, 0, 0, 0, 0, 0, 0, 0, 0, 0, 0, 0, 0, 0,...</td>\n",
              "      <td>2793.0</td>\n",
              "      <td>lot14149</td>\n",
              "      <td>21.0</td>\n",
              "      <td>[]</td>\n",
              "      <td>[]</td>\n",
              "      <td>(59, 60)</td>\n",
              "      <td>8</td>\n",
              "    </tr>\n",
              "    <tr>\n",
              "      <th>32804</th>\n",
              "      <td>[[0, 0, 0, 0, 0, 0, 0, 0, 0, 0, 0, 0, 0, 1, 1,...</td>\n",
              "      <td>736.0</td>\n",
              "      <td>lot3173</td>\n",
              "      <td>6.0</td>\n",
              "      <td>[]</td>\n",
              "      <td>[]</td>\n",
              "      <td>(31, 31)</td>\n",
              "      <td>8</td>\n",
              "    </tr>\n",
              "    <tr>\n",
              "      <th>295948</th>\n",
              "      <td>[[0, 0, 0, 0, 0, 0, 0, 0, 0, 0, 0, 0, 0, 0, 0,...</td>\n",
              "      <td>2479.0</td>\n",
              "      <td>lot18082</td>\n",
              "      <td>17.0</td>\n",
              "      <td>[[Training]]</td>\n",
              "      <td>[[Edge-Loc]]</td>\n",
              "      <td>(72, 44)</td>\n",
              "      <td>2</td>\n",
              "    </tr>\n",
              "    <tr>\n",
              "      <th>140204</th>\n",
              "      <td>[[0, 0, 0, 0, 0, 0, 0, 0, 0, 0, 0, 0, 0, 2, 1,...</td>\n",
              "      <td>811.0</td>\n",
              "      <td>lot9106</td>\n",
              "      <td>6.0</td>\n",
              "      <td>[]</td>\n",
              "      <td>[]</td>\n",
              "      <td>(34, 31)</td>\n",
              "      <td>8</td>\n",
              "    </tr>\n",
              "    <tr>\n",
              "      <th>665395</th>\n",
              "      <td>[[0, 0, 0, 0, 0, 0, 0, 0, 0, 0, 0, 0, 1, 2, 2,...</td>\n",
              "      <td>712.0</td>\n",
              "      <td>lot41440</td>\n",
              "      <td>23.0</td>\n",
              "      <td>[[Training]]</td>\n",
              "      <td>[[Edge-Loc]]</td>\n",
              "      <td>(32, 29)</td>\n",
              "      <td>2</td>\n",
              "    </tr>\n",
              "  </tbody>\n",
              "</table>\n",
              "</div>"
            ],
            "text/plain": [
              "                                                 waferMap  ...  failureCategory\n",
              "224848  [[0, 0, 0, 0, 0, 0, 0, 0, 0, 0, 0, 0, 0, 0, 0,...  ...                8\n",
              "32804   [[0, 0, 0, 0, 0, 0, 0, 0, 0, 0, 0, 0, 0, 1, 1,...  ...                8\n",
              "295948  [[0, 0, 0, 0, 0, 0, 0, 0, 0, 0, 0, 0, 0, 0, 0,...  ...                2\n",
              "140204  [[0, 0, 0, 0, 0, 0, 0, 0, 0, 0, 0, 0, 0, 2, 1,...  ...                8\n",
              "665395  [[0, 0, 0, 0, 0, 0, 0, 0, 0, 0, 0, 0, 1, 2, 2,...  ...                2\n",
              "\n",
              "[5 rows x 8 columns]"
            ]
          },
          "metadata": {
            "tags": []
          },
          "execution_count": 22
        }
      ]
    },
    {
      "cell_type": "code",
      "metadata": {
        "id": "hq288FF65WAh",
        "colab": {
          "base_uri": "https://localhost:8080/"
        },
        "outputId": "1655057f-7cc0-4782-e073-5dc245342708"
      },
      "source": [
        "failure_category_count = np.unique(df.failureCategory, return_counts=True)\n",
        "print(failure_category_count)"
      ],
      "execution_count": 23,
      "outputs": [
        {
          "output_type": "stream",
          "text": [
            "(array([0, 1, 2, 3, 4, 5, 6, 7, 8]), array([  4294,    555,   5189,   9680,   3593,    866,   1193,    149,\n",
            "       785938]))\n"
          ],
          "name": "stdout"
        }
      ]
    },
    {
      "cell_type": "code",
      "metadata": {
        "id": "UPnZU0eL9GP_",
        "colab": {
          "base_uri": "https://localhost:8080/",
          "height": 265
        },
        "outputId": "32c1f4d8-6ab6-41a5-ef0e-7e0e892cfcfc"
      },
      "source": [
        "plt.bar(failure_category_count[0], failure_category_count[1])\n",
        "plt.show()"
      ],
      "execution_count": 24,
      "outputs": [
        {
          "output_type": "display_data",
          "data": {
            "image/png": "[encoded data removed]",
            "text/plain": [
              "<Figure size 432x288 with 1 Axes>"
            ]
          },
          "metadata": {
            "tags": [],
            "needs_background": "light"
          }
        }
      ]
    },
    {
      "cell_type": "markdown",
      "metadata": {
        "id": "oVUe01Dh9LaF"
      },
      "source": [
        "failure type이 8('none') 인것이 대부분이다. failure가 아닌 것이다."
      ]
    },
    {
      "cell_type": "code",
      "metadata": {
        "id": "vRzdZ8ZgX5gK",
        "colab": {
          "base_uri": "https://localhost:8080/",
          "height": 266
        },
        "outputId": "13a5abbc-60c4-49bc-93b6-97aa40181f33"
      },
      "source": [
        "plt.bar(failure_category_count[0][:-1], failure_category_count[1][:-1])\n",
        "plt.show()"
      ],
      "execution_count": 25,
      "outputs": [
        {
          "output_type": "display_data",
          "data": {
            "image/png": "[encoded data removed]",
            "text/plain": [
              "<Figure size 432x288 with 1 Axes>"
            ]
          },
          "metadata": {
            "tags": [],
            "needs_background": "light"
          }
        }
      ]
    },
    {
      "cell_type": "markdown",
      "metadata": {
        "id": "mabpdQUPX97c"
      },
      "source": [
        "1, 5, 6, 7이 너무 적다.\n",
        "\n",
        "분류를 하려면 1, 5, 6, 7을 모아서 하나의 카테고리로 해야 할 듯"
      ]
    },
    {
      "cell_type": "markdown",
      "metadata": {
        "id": "PAYLXje8Eq9l"
      },
      "source": [
        "# 문제 정의\n",
        "\n",
        "wafer map 영상을 입력으로 failure type을 예측한다.\n",
        "\n",
        "학습과 검증에는 failure가 None 아닌 것만 사용한다.\n",
        "\n"
      ]
    },
    {
      "cell_type": "code",
      "metadata": {
        "id": "M88ky__qE6M3",
        "colab": {
          "base_uri": "https://localhost:8080/"
        },
        "outputId": "2c6fc4fa-a606-4a42-b1b7-940966d69fda"
      },
      "source": [
        "failure_df = df[df['failureCategory']!=8]\n",
        "failure_df.info()"
      ],
      "execution_count": 26,
      "outputs": [
        {
          "output_type": "stream",
          "text": [
            "<class 'pandas.core.frame.DataFrame'>\n",
            "Int64Index: 25519 entries, 19 to 811454\n",
            "Data columns (total 8 columns):\n",
            " #   Column           Non-Null Count  Dtype  \n",
            "---  ------           --------------  -----  \n",
            " 0   waferMap         25519 non-null  object \n",
            " 1   dieSize          25519 non-null  float64\n",
            " 2   lotName          25519 non-null  object \n",
            " 3   waferIndex       25519 non-null  float64\n",
            " 4   trianTestLabel   25519 non-null  object \n",
            " 5   failureType      25519 non-null  object \n",
            " 6   waferMapShape    25519 non-null  object \n",
            " 7   failureCategory  25519 non-null  int64  \n",
            "dtypes: float64(2), int64(1), object(5)\n",
            "memory usage: 1.8+ MB\n"
          ],
          "name": "stdout"
        }
      ]
    },
    {
      "cell_type": "code",
      "metadata": {
        "id": "l6BgReX8E6S6",
        "colab": {
          "base_uri": "https://localhost:8080/",
          "height": 1000
        },
        "outputId": "21c06bc0-7a97-41f2-9d30-6951c95091f9"
      },
      "source": [
        "for i in range(len(failure_name)-1):\n",
        "  fig, ax = plt.subplots(nrows = 1, ncols = 10, figsize=(18, 12))\n",
        "  sub_df = failure_df[failure_df['failureCategory']==i]\n",
        "  print(failure_name[i])\n",
        "  for j in range(10):\n",
        "    ax[j].imshow(sub_df.iloc[j].waferMap)\n",
        "  plt.show()\n",
        "  "
      ],
      "execution_count": 27,
      "outputs": [
        {
          "output_type": "stream",
          "text": [
            "Center\n"
          ],
          "name": "stdout"
        },
        {
          "output_type": "display_data",
          "data": {
            "image/png": "[encoded data removed]",
            "text/plain": [
              "<Figure size 1296x864 with 10 Axes>"
            ]
          },
          "metadata": {
            "tags": [],
            "needs_background": "light"
          }
        },
        {
          "output_type": "stream",
          "text": [
            "Donut\n"
          ],
          "name": "stdout"
        },
        {
          "output_type": "display_data",
          "data": {
            "image/png": "[encoded data removed]",
            "text/plain": [
              "<Figure size 1296x864 with 10 Axes>"
            ]
          },
          "metadata": {
            "tags": [],
            "needs_background": "light"
          }
        },
        {
          "output_type": "stream",
          "text": [
            "Edge-Loc\n"
          ],
          "name": "stdout"
        },
        {
          "output_type": "display_data",
          "data": {
            "image/png": "[encoded data removed]",
            "text/plain": [
              "<Figure size 1296x864 with 10 Axes>"
            ]
          },
          "metadata": {
            "tags": [],
            "needs_background": "light"
          }
        },
        {
          "output_type": "stream",
          "text": [
            "Edge-Ring\n"
          ],
          "name": "stdout"
        },
        {
          "output_type": "display_data",
          "data": {
            "image/png": "[encoded data removed]",
            "text/plain": [
              "<Figure size 1296x864 with 10 Axes>"
            ]
          },
          "metadata": {
            "tags": [],
            "needs_background": "light"
          }
        },
        {
          "output_type": "stream",
          "text": [
            "Loc\n"
          ],
          "name": "stdout"
        },
        {
          "output_type": "display_data",
          "data": {
            "image/png": "[encoded data removed]",
            "text/plain": [
              "<Figure size 1296x864 with 10 Axes>"
            ]
          },
          "metadata": {
            "tags": [],
            "needs_background": "light"
          }
        },
        {
          "output_type": "stream",
          "text": [
            "Random\n"
          ],
          "name": "stdout"
        },
        {
          "output_type": "display_data",
          "data": {
            "image/png": "[encoded data removed]",
            "text/plain": [
              "<Figure size 1296x864 with 10 Axes>"
            ]
          },
          "metadata": {
            "tags": [],
            "needs_background": "light"
          }
        },
        {
          "output_type": "stream",
          "text": [
            "Scratch\n"
          ],
          "name": "stdout"
        },
        {
          "output_type": "display_data",
          "data": {
            "image/png": "[encoded data removed]",
            "text/plain": [
              "<Figure size 1296x864 with 10 Axes>"
            ]
          },
          "metadata": {
            "tags": [],
            "needs_background": "light"
          }
        },
        {
          "output_type": "stream",
          "text": [
            "Near-full\n"
          ],
          "name": "stdout"
        },
        {
          "output_type": "display_data",
          "data": {
            "image/png": "[encoded data removed]",
            "text/plain": [
              "<Figure size 1296x864 with 10 Axes>"
            ]
          },
          "metadata": {
            "tags": [],
            "needs_background": "light"
          }
        }
      ]
    },
    {
      "cell_type": "markdown",
      "metadata": {
        "id": "qz-ZN6PUYZmQ"
      },
      "source": [
        "# x, y 데이터 생성"
      ]
    },
    {
      "cell_type": "markdown",
      "metadata": {
        "id": "SYPrTm-BYcjz"
      },
      "source": [
        "## x 데이터"
      ]
    },
    {
      "cell_type": "code",
      "metadata": {
        "id": "e6qfjUwFLyFZ"
      },
      "source": [
        "wafer_map  = failure_df.waferMap.values"
      ],
      "execution_count": 28,
      "outputs": []
    },
    {
      "cell_type": "code",
      "metadata": {
        "id": "h2Lm27HOE6Y3"
      },
      "source": [
        "from skimage.transform import resize\n",
        "\n",
        "x = np.empty((len(wafer_map), 26, 26))\n",
        "for i in range(len(wafer_map)):\n",
        "  normalized = wafer_map[i] / 2.0\n",
        "  x[i] = resize(normalized, (26, 26))"
      ],
      "execution_count": 29,
      "outputs": []
    },
    {
      "cell_type": "code",
      "metadata": {
        "id": "BGrKvO-CLrGN",
        "colab": {
          "base_uri": "https://localhost:8080/"
        },
        "outputId": "9904f194-3402-4b0a-d86a-aa2ec0d9ed19"
      },
      "source": [
        " print(x.shape)"
      ],
      "execution_count": 30,
      "outputs": [
        {
          "output_type": "stream",
          "text": [
            "(25519, 26, 26)\n"
          ],
          "name": "stdout"
        }
      ]
    },
    {
      "cell_type": "code",
      "metadata": {
        "id": "6Cu_pdOqOGr2",
        "colab": {
          "base_uri": "https://localhost:8080/"
        },
        "outputId": "18ad3b74-e60e-451b-c329-63fb4fc47304"
      },
      "source": [
        "x = np.expand_dims(x, -1)\n",
        "print(x.shape)"
      ],
      "execution_count": 31,
      "outputs": [
        {
          "output_type": "stream",
          "text": [
            "(25519, 26, 26, 1)\n"
          ],
          "name": "stdout"
        }
      ]
    },
    {
      "cell_type": "code",
      "metadata": {
        "id": "J9buZoJWLaWl",
        "colab": {
          "base_uri": "https://localhost:8080/"
        },
        "outputId": "49beedec-b187-4d5b-ebaa-e93c182e53ac"
      },
      "source": [
        "print(np.min(x), np.max(x))"
      ],
      "execution_count": 32,
      "outputs": [
        {
          "output_type": "stream",
          "text": [
            "0.0 1.0000000000000004\n"
          ],
          "name": "stdout"
        }
      ]
    },
    {
      "cell_type": "markdown",
      "metadata": {
        "id": "rd_PJ4_FYeet"
      },
      "source": [
        "## y 데이터"
      ]
    },
    {
      "cell_type": "markdown",
      "metadata": {
        "id": "pIyZ2nstY4Ys"
      },
      "source": [
        "failure category 5,6,7을 1로 변환"
      ]
    },
    {
      "cell_type": "code",
      "metadata": {
        "id": "lZthdC-TYfuZ",
        "colab": {
          "base_uri": "https://localhost:8080/"
        },
        "outputId": "b52e1969-154c-4d09-f922-2e8e94523f81"
      },
      "source": [
        "def change_category(c):\n",
        "  if c in [1,5,6,7]: return 1\n",
        "  else: return c\n",
        "\n",
        "failure_df['failureCategory'] = failure_df.failureCategory.apply(change_category)"
      ],
      "execution_count": 34,
      "outputs": [
        {
          "output_type": "stream",
          "text": [
            "/usr/local/lib/python3.6/dist-packages/ipykernel_launcher.py:5: SettingWithCopyWarning: \n",
            "A value is trying to be set on a copy of a slice from a DataFrame.\n",
            "Try using .loc[row_indexer,col_indexer] = value instead\n",
            "\n",
            "See the caveats in the documentation: https://pandas.pydata.org/pandas-docs/stable/user_guide/indexing.html#returning-a-view-versus-a-copy\n",
            "  \"\"\"\n"
          ],
          "name": "stderr"
        }
      ]
    },
    {
      "cell_type": "code",
      "metadata": {
        "id": "OqUcAiFWZCDb",
        "colab": {
          "base_uri": "https://localhost:8080/",
          "height": 266
        },
        "outputId": "2fdf0301-d52b-4a24-94de-61a063f15768"
      },
      "source": [
        "failure_category_count = np.unique(failure_df.failureCategory, return_counts=True)\n",
        "plt.bar(failure_category_count[0], failure_category_count[1])\n",
        "plt.show()"
      ],
      "execution_count": 36,
      "outputs": [
        {
          "output_type": "display_data",
          "data": {
            "image/png": "[encoded data removed]",
            "text/plain": [
              "<Figure size 432x288 with 1 Axes>"
            ]
          },
          "metadata": {
            "tags": [],
            "needs_background": "light"
          }
        }
      ]
    },
    {
      "cell_type": "code",
      "metadata": {
        "id": "UAYQJnYJbRQW",
        "colab": {
          "base_uri": "https://localhost:8080/",
          "height": 266
        },
        "outputId": "7e9eefe5-24d8-44a1-ef39-1d11ae798529"
      },
      "source": [
        "failure_category_count = np.unique(failure_df.failureCategory, return_counts=True)\n",
        "plt.bar(failure_category_count[0], failure_category_count[1])\n",
        "plt.show()"
      ],
      "execution_count": null,
      "outputs": [
        {
          "output_type": "display_data",
          "data": {
            "image/png": "[encoded data removed]",
            "text/plain": [
              "<Figure size 432x288 with 1 Axes>"
            ]
          },
          "metadata": {
            "tags": [],
            "needs_background": "light"
          }
        }
      ]
    },
    {
      "cell_type": "code",
      "metadata": {
        "id": "SihM5hIkE6e9"
      },
      "source": [
        "y = failure_df.failureCategory.values"
      ],
      "execution_count": 37,
      "outputs": []
    },
    {
      "cell_type": "markdown",
      "metadata": {
        "id": "D7dIQ16VXgPx"
      },
      "source": [
        "## train, test로 분리"
      ]
    },
    {
      "cell_type": "code",
      "metadata": {
        "id": "MUWOVhZOPNPf"
      },
      "source": [
        "shuffled_index = np.random.permutation(len(x))\n",
        "x = x[shuffled_index]\n",
        "y = y[shuffled_index]"
      ],
      "execution_count": 47,
      "outputs": []
    },
    {
      "cell_type": "code",
      "metadata": {
        "id": "tNDnmXw5OaKE"
      },
      "source": [
        "split_index = int(len(x)*0.8)\n",
        "\n",
        "train_x, test_x = x[:split_index], x[split_index:]\n",
        "train_y, test_y = y[:split_index], y[split_index:]"
      ],
      "execution_count": 48,
      "outputs": []
    },
    {
      "cell_type": "markdown",
      "metadata": {
        "id": "WldAa-faNk6q"
      },
      "source": [
        "# 기본 모델"
      ]
    },
    {
      "cell_type": "code",
      "metadata": {
        "id": "Vv8GZEDPE6lZ"
      },
      "source": [
        "import tensorflow as tf\n",
        "from tensorflow import keras\n",
        "from tensorflow.keras import optimizers\n",
        "from tensorflow.keras.layers import Dense, Flatten, Conv2D, MaxPooling2D, BatchNormalization, Input, BatchNormalization\n",
        "\n",
        "import time"
      ],
      "execution_count": 49,
      "outputs": []
    },
    {
      "cell_type": "code",
      "metadata": {
        "id": "bndnuik4G4_F",
        "outputId": "bb247edc-18e4-42f6-fae3-6ac5923da361",
        "colab": {
          "base_uri": "https://localhost:8080/"
        }
      },
      "source": [
        "print(x.shape)\n",
        "print(x[0].shape)"
      ],
      "execution_count": 43,
      "outputs": [
        {
          "output_type": "stream",
          "text": [
            "(25519, 26, 26, 1)\n",
            "(26, 26, 1)\n"
          ],
          "name": "stdout"
        }
      ]
    },
    {
      "cell_type": "code",
      "metadata": {
        "id": "0v9x-WLjHEiy",
        "outputId": "899c5efd-20cb-4322-a21b-4c8032b2615e",
        "colab": {
          "base_uri": "https://localhost:8080/"
        }
      },
      "source": [
        "print(failure_name)\n",
        "print(len(failure_name))"
      ],
      "execution_count": 45,
      "outputs": [
        {
          "output_type": "stream",
          "text": [
            "['Center', 'Donut', 'Edge-Loc', 'Edge-Ring', 'Loc', 'Random', 'Scratch', 'Near-full', 'none']\n",
            "9\n"
          ],
          "name": "stdout"
        }
      ]
    },
    {
      "cell_type": "code",
      "metadata": {
        "id": "zUVCjIt4E6ra",
        "colab": {
          "base_uri": "https://localhost:8080/"
        },
        "outputId": "efcd9ed6-07d4-47bc-d876-c6b1cc3792dc"
      },
      "source": [
        "model = keras.Sequential()\n",
        "model.add(Input(x[0].shape))\n",
        "model.add(Conv2D(32, (3, 3), padding='same'))\n",
        "model.add(MaxPooling2D((2, 2)))\n",
        "model.add(Conv2D(64, (3, 3), padding='same'))\n",
        "model.add(MaxPooling2D((2, 2)))\n",
        "model.add(Flatten())\n",
        "model.add(Dense(10, activation='relu'))\n",
        "model.add(Dense(10, activation='relu'))\n",
        "model.add(Dense(len(failure_name)-1, activation='softmax'))\n",
        "\n",
        "model.compile(optimizer=\"adam\", loss=\"sparse_categorical_crossentropy\", metrics=[\"accuracy\"])\n",
        "model.summary()"
      ],
      "execution_count": 50,
      "outputs": [
        {
          "output_type": "stream",
          "text": [
            "Model: \"sequential\"\n",
            "_________________________________________________________________\n",
            "Layer (type)                 Output Shape              Param #   \n",
            "=================================================================\n",
            "conv2d (Conv2D)              (None, 26, 26, 32)        320       \n",
            "_________________________________________________________________\n",
            "max_pooling2d (MaxPooling2D) (None, 13, 13, 32)        0         \n",
            "_________________________________________________________________\n",
            "conv2d_1 (Conv2D)            (None, 13, 13, 64)        18496     \n",
            "_________________________________________________________________\n",
            "max_pooling2d_1 (MaxPooling2 (None, 6, 6, 64)          0         \n",
            "_________________________________________________________________\n",
            "flatten (Flatten)            (None, 2304)              0         \n",
            "_________________________________________________________________\n",
            "dense (Dense)                (None, 10)                23050     \n",
            "_________________________________________________________________\n",
            "dense_1 (Dense)              (None, 10)                110       \n",
            "_________________________________________________________________\n",
            "dense_2 (Dense)              (None, 8)                 88        \n",
            "=================================================================\n",
            "Total params: 42,064\n",
            "Trainable params: 42,064\n",
            "Non-trainable params: 0\n",
            "_________________________________________________________________\n"
          ],
          "name": "stdout"
        }
      ]
    },
    {
      "cell_type": "code",
      "metadata": {
        "id": "dDZ9AQo_E6uK",
        "colab": {
          "base_uri": "https://localhost:8080/"
        },
        "outputId": "0f7b10de-b8cf-4a89-edcb-bbe637158750"
      },
      "source": [
        "hist = model.fit(train_x, train_y, epochs=100, verbose=1, batch_size=128, validation_split=0.1)"
      ],
      "execution_count": 51,
      "outputs": [
        {
          "output_type": "stream",
          "text": [
            "Epoch 1/100\n",
            "144/144 [==============================] - 1s 6ms/step - loss: 1.5793 - accuracy: 0.3276 - val_loss: 1.0923 - val_accuracy: 0.5171\n",
            "Epoch 2/100\n",
            "144/144 [==============================] - 1s 4ms/step - loss: 0.9070 - accuracy: 0.6508 - val_loss: 0.7284 - val_accuracy: 0.7233\n",
            "Epoch 3/100\n",
            "144/144 [==============================] - 1s 4ms/step - loss: 0.6406 - accuracy: 0.7496 - val_loss: 0.6192 - val_accuracy: 0.7542\n",
            "Epoch 4/100\n",
            "144/144 [==============================] - 1s 4ms/step - loss: 0.5787 - accuracy: 0.7691 - val_loss: 0.6341 - val_accuracy: 0.7561\n",
            "Epoch 5/100\n",
            "144/144 [==============================] - 1s 4ms/step - loss: 0.5335 - accuracy: 0.7874 - val_loss: 0.5566 - val_accuracy: 0.7669\n",
            "Epoch 6/100\n",
            "144/144 [==============================] - 1s 4ms/step - loss: 0.5054 - accuracy: 0.7991 - val_loss: 0.5221 - val_accuracy: 0.7938\n",
            "Epoch 7/100\n",
            "144/144 [==============================] - 1s 4ms/step - loss: 0.4900 - accuracy: 0.8046 - val_loss: 0.4994 - val_accuracy: 0.8007\n",
            "Epoch 8/100\n",
            "144/144 [==============================] - 1s 4ms/step - loss: 0.4708 - accuracy: 0.8136 - val_loss: 0.4939 - val_accuracy: 0.8046\n",
            "Epoch 9/100\n",
            "144/144 [==============================] - 1s 4ms/step - loss: 0.4611 - accuracy: 0.8154 - val_loss: 0.4798 - val_accuracy: 0.8056\n",
            "Epoch 10/100\n",
            "144/144 [==============================] - 1s 4ms/step - loss: 0.4524 - accuracy: 0.8203 - val_loss: 0.4728 - val_accuracy: 0.8129\n",
            "Epoch 11/100\n",
            "144/144 [==============================] - 1s 4ms/step - loss: 0.4479 - accuracy: 0.8213 - val_loss: 0.5574 - val_accuracy: 0.7831\n",
            "Epoch 12/100\n",
            "144/144 [==============================] - 1s 4ms/step - loss: 0.4408 - accuracy: 0.8249 - val_loss: 0.4590 - val_accuracy: 0.8134\n",
            "Epoch 13/100\n",
            "144/144 [==============================] - 1s 4ms/step - loss: 0.4290 - accuracy: 0.8306 - val_loss: 0.4773 - val_accuracy: 0.8075\n",
            "Epoch 14/100\n",
            "144/144 [==============================] - 1s 4ms/step - loss: 0.4228 - accuracy: 0.8321 - val_loss: 0.4765 - val_accuracy: 0.8100\n",
            "Epoch 15/100\n",
            "144/144 [==============================] - 1s 4ms/step - loss: 0.4200 - accuracy: 0.8319 - val_loss: 0.4603 - val_accuracy: 0.8262\n",
            "Epoch 16/100\n",
            "144/144 [==============================] - 1s 4ms/step - loss: 0.4078 - accuracy: 0.8383 - val_loss: 0.4556 - val_accuracy: 0.8266\n",
            "Epoch 17/100\n",
            "144/144 [==============================] - 1s 4ms/step - loss: 0.4079 - accuracy: 0.8362 - val_loss: 0.4436 - val_accuracy: 0.8271\n",
            "Epoch 18/100\n",
            "144/144 [==============================] - 1s 4ms/step - loss: 0.3951 - accuracy: 0.8438 - val_loss: 0.4406 - val_accuracy: 0.8227\n",
            "Epoch 19/100\n",
            "144/144 [==============================] - 1s 4ms/step - loss: 0.3967 - accuracy: 0.8431 - val_loss: 0.4549 - val_accuracy: 0.8266\n",
            "Epoch 20/100\n",
            "144/144 [==============================] - 1s 4ms/step - loss: 0.3886 - accuracy: 0.8461 - val_loss: 0.4259 - val_accuracy: 0.8384\n",
            "Epoch 21/100\n",
            "144/144 [==============================] - 1s 4ms/step - loss: 0.3799 - accuracy: 0.8510 - val_loss: 0.4345 - val_accuracy: 0.8252\n",
            "Epoch 22/100\n",
            "144/144 [==============================] - 1s 4ms/step - loss: 0.3729 - accuracy: 0.8543 - val_loss: 0.4234 - val_accuracy: 0.8325\n",
            "Epoch 23/100\n",
            "144/144 [==============================] - 1s 4ms/step - loss: 0.3736 - accuracy: 0.8533 - val_loss: 0.4605 - val_accuracy: 0.8124\n",
            "Epoch 24/100\n",
            "144/144 [==============================] - 1s 4ms/step - loss: 0.3695 - accuracy: 0.8542 - val_loss: 0.4987 - val_accuracy: 0.8026\n",
            "Epoch 25/100\n",
            "144/144 [==============================] - 1s 4ms/step - loss: 0.3620 - accuracy: 0.8619 - val_loss: 0.4167 - val_accuracy: 0.8404\n",
            "Epoch 26/100\n",
            "144/144 [==============================] - 1s 4ms/step - loss: 0.3528 - accuracy: 0.8622 - val_loss: 0.4034 - val_accuracy: 0.8399\n",
            "Epoch 27/100\n",
            "144/144 [==============================] - 1s 4ms/step - loss: 0.3474 - accuracy: 0.8644 - val_loss: 0.4170 - val_accuracy: 0.8472\n",
            "Epoch 28/100\n",
            "144/144 [==============================] - 1s 4ms/step - loss: 0.3425 - accuracy: 0.8673 - val_loss: 0.4038 - val_accuracy: 0.8379\n",
            "Epoch 29/100\n",
            "144/144 [==============================] - 1s 4ms/step - loss: 0.3372 - accuracy: 0.8694 - val_loss: 0.4273 - val_accuracy: 0.8306\n",
            "Epoch 30/100\n",
            "144/144 [==============================] - 1s 4ms/step - loss: 0.3290 - accuracy: 0.8718 - val_loss: 0.4041 - val_accuracy: 0.8521\n",
            "Epoch 31/100\n",
            "144/144 [==============================] - 1s 4ms/step - loss: 0.3269 - accuracy: 0.8709 - val_loss: 0.3943 - val_accuracy: 0.8506\n",
            "Epoch 32/100\n",
            "144/144 [==============================] - 1s 4ms/step - loss: 0.3251 - accuracy: 0.8725 - val_loss: 0.3891 - val_accuracy: 0.8546\n",
            "Epoch 33/100\n",
            "144/144 [==============================] - 1s 4ms/step - loss: 0.3097 - accuracy: 0.8809 - val_loss: 0.4134 - val_accuracy: 0.8477\n",
            "Epoch 34/100\n",
            "144/144 [==============================] - 1s 4ms/step - loss: 0.3048 - accuracy: 0.8828 - val_loss: 0.3954 - val_accuracy: 0.8531\n",
            "Epoch 35/100\n",
            "144/144 [==============================] - 1s 4ms/step - loss: 0.3060 - accuracy: 0.8819 - val_loss: 0.3945 - val_accuracy: 0.8575\n",
            "Epoch 36/100\n",
            "144/144 [==============================] - 1s 4ms/step - loss: 0.2950 - accuracy: 0.8840 - val_loss: 0.3998 - val_accuracy: 0.8536\n",
            "Epoch 37/100\n",
            "144/144 [==============================] - 1s 4ms/step - loss: 0.2898 - accuracy: 0.8883 - val_loss: 0.4215 - val_accuracy: 0.8462\n",
            "Epoch 38/100\n",
            "144/144 [==============================] - 1s 4ms/step - loss: 0.2838 - accuracy: 0.8879 - val_loss: 0.4099 - val_accuracy: 0.8497\n",
            "Epoch 39/100\n",
            "144/144 [==============================] - 1s 4ms/step - loss: 0.2882 - accuracy: 0.8889 - val_loss: 0.3988 - val_accuracy: 0.8550\n",
            "Epoch 40/100\n",
            "144/144 [==============================] - 1s 4ms/step - loss: 0.2702 - accuracy: 0.8987 - val_loss: 0.3969 - val_accuracy: 0.8555\n",
            "Epoch 41/100\n",
            "144/144 [==============================] - 1s 4ms/step - loss: 0.2697 - accuracy: 0.8957 - val_loss: 0.4000 - val_accuracy: 0.8590\n",
            "Epoch 42/100\n",
            "144/144 [==============================] - 1s 4ms/step - loss: 0.2609 - accuracy: 0.9004 - val_loss: 0.3922 - val_accuracy: 0.8624\n",
            "Epoch 43/100\n",
            "144/144 [==============================] - 1s 4ms/step - loss: 0.2571 - accuracy: 0.9006 - val_loss: 0.3944 - val_accuracy: 0.8658\n",
            "Epoch 44/100\n",
            "144/144 [==============================] - 1s 4ms/step - loss: 0.2523 - accuracy: 0.9020 - val_loss: 0.4221 - val_accuracy: 0.8452\n",
            "Epoch 45/100\n",
            "144/144 [==============================] - 1s 4ms/step - loss: 0.2479 - accuracy: 0.9043 - val_loss: 0.3988 - val_accuracy: 0.8648\n",
            "Epoch 46/100\n",
            "144/144 [==============================] - 1s 4ms/step - loss: 0.2388 - accuracy: 0.9092 - val_loss: 0.4093 - val_accuracy: 0.8604\n",
            "Epoch 47/100\n",
            "144/144 [==============================] - 1s 4ms/step - loss: 0.2377 - accuracy: 0.9087 - val_loss: 0.3976 - val_accuracy: 0.8619\n",
            "Epoch 48/100\n",
            "144/144 [==============================] - 1s 4ms/step - loss: 0.2318 - accuracy: 0.9110 - val_loss: 0.4070 - val_accuracy: 0.8604\n",
            "Epoch 49/100\n",
            "144/144 [==============================] - 1s 4ms/step - loss: 0.2349 - accuracy: 0.9081 - val_loss: 0.4033 - val_accuracy: 0.8624\n",
            "Epoch 50/100\n",
            "144/144 [==============================] - 1s 4ms/step - loss: 0.2179 - accuracy: 0.9176 - val_loss: 0.4042 - val_accuracy: 0.8688\n",
            "Epoch 51/100\n",
            "144/144 [==============================] - 1s 4ms/step - loss: 0.2088 - accuracy: 0.9216 - val_loss: 0.4135 - val_accuracy: 0.8575\n",
            "Epoch 52/100\n",
            "144/144 [==============================] - 1s 4ms/step - loss: 0.2016 - accuracy: 0.9241 - val_loss: 0.4256 - val_accuracy: 0.8639\n",
            "Epoch 53/100\n",
            "144/144 [==============================] - 1s 4ms/step - loss: 0.1972 - accuracy: 0.9253 - val_loss: 0.4530 - val_accuracy: 0.8541\n",
            "Epoch 54/100\n",
            "144/144 [==============================] - 1s 4ms/step - loss: 0.1915 - accuracy: 0.9278 - val_loss: 0.4623 - val_accuracy: 0.8521\n",
            "Epoch 55/100\n",
            "144/144 [==============================] - 1s 4ms/step - loss: 0.1927 - accuracy: 0.9274 - val_loss: 0.4290 - val_accuracy: 0.8634\n",
            "Epoch 56/100\n",
            "144/144 [==============================] - 1s 4ms/step - loss: 0.1787 - accuracy: 0.9315 - val_loss: 0.4507 - val_accuracy: 0.8521\n",
            "Epoch 57/100\n",
            "144/144 [==============================] - 1s 4ms/step - loss: 0.1840 - accuracy: 0.9321 - val_loss: 0.4805 - val_accuracy: 0.8492\n",
            "Epoch 58/100\n",
            "144/144 [==============================] - 1s 4ms/step - loss: 0.1740 - accuracy: 0.9347 - val_loss: 0.4436 - val_accuracy: 0.8619\n",
            "Epoch 59/100\n",
            "144/144 [==============================] - 1s 4ms/step - loss: 0.1621 - accuracy: 0.9401 - val_loss: 0.4632 - val_accuracy: 0.8541\n",
            "Epoch 60/100\n",
            "144/144 [==============================] - 1s 4ms/step - loss: 0.1593 - accuracy: 0.9421 - val_loss: 0.4572 - val_accuracy: 0.8585\n",
            "Epoch 61/100\n",
            "144/144 [==============================] - 1s 4ms/step - loss: 0.1618 - accuracy: 0.9408 - val_loss: 0.4670 - val_accuracy: 0.8511\n",
            "Epoch 62/100\n",
            "144/144 [==============================] - 1s 4ms/step - loss: 0.1595 - accuracy: 0.9391 - val_loss: 0.5090 - val_accuracy: 0.8506\n",
            "Epoch 63/100\n",
            "144/144 [==============================] - 1s 4ms/step - loss: 0.1534 - accuracy: 0.9429 - val_loss: 0.4810 - val_accuracy: 0.8565\n",
            "Epoch 64/100\n",
            "144/144 [==============================] - 1s 4ms/step - loss: 0.1408 - accuracy: 0.9483 - val_loss: 0.4896 - val_accuracy: 0.8560\n",
            "Epoch 65/100\n",
            "144/144 [==============================] - 1s 4ms/step - loss: 0.1328 - accuracy: 0.9532 - val_loss: 0.4814 - val_accuracy: 0.8555\n",
            "Epoch 66/100\n",
            "144/144 [==============================] - 1s 4ms/step - loss: 0.1381 - accuracy: 0.9484 - val_loss: 0.5385 - val_accuracy: 0.8511\n",
            "Epoch 67/100\n",
            "144/144 [==============================] - 1s 4ms/step - loss: 0.1303 - accuracy: 0.9531 - val_loss: 0.5144 - val_accuracy: 0.8501\n",
            "Epoch 68/100\n",
            "144/144 [==============================] - 1s 4ms/step - loss: 0.1304 - accuracy: 0.9518 - val_loss: 0.5296 - val_accuracy: 0.8541\n",
            "Epoch 69/100\n",
            "144/144 [==============================] - 1s 4ms/step - loss: 0.1204 - accuracy: 0.9565 - val_loss: 0.5257 - val_accuracy: 0.8482\n",
            "Epoch 70/100\n",
            "144/144 [==============================] - 1s 4ms/step - loss: 0.1108 - accuracy: 0.9618 - val_loss: 0.5277 - val_accuracy: 0.8560\n",
            "Epoch 71/100\n",
            "144/144 [==============================] - 1s 4ms/step - loss: 0.1049 - accuracy: 0.9637 - val_loss: 0.5514 - val_accuracy: 0.8501\n",
            "Epoch 72/100\n",
            "144/144 [==============================] - 1s 4ms/step - loss: 0.1124 - accuracy: 0.9599 - val_loss: 0.5668 - val_accuracy: 0.8511\n",
            "Epoch 73/100\n",
            "144/144 [==============================] - 1s 4ms/step - loss: 0.1081 - accuracy: 0.9617 - val_loss: 0.5658 - val_accuracy: 0.8536\n",
            "Epoch 74/100\n",
            "144/144 [==============================] - 1s 4ms/step - loss: 0.1012 - accuracy: 0.9659 - val_loss: 0.5854 - val_accuracy: 0.8506\n",
            "Epoch 75/100\n",
            "144/144 [==============================] - 1s 4ms/step - loss: 0.0977 - accuracy: 0.9655 - val_loss: 0.5934 - val_accuracy: 0.8472\n",
            "Epoch 76/100\n",
            "144/144 [==============================] - 1s 4ms/step - loss: 0.1054 - accuracy: 0.9610 - val_loss: 0.6343 - val_accuracy: 0.8404\n",
            "Epoch 77/100\n",
            "144/144 [==============================] - 1s 4ms/step - loss: 0.0935 - accuracy: 0.9676 - val_loss: 0.6061 - val_accuracy: 0.8511\n",
            "Epoch 78/100\n",
            "144/144 [==============================] - 1s 4ms/step - loss: 0.0838 - accuracy: 0.9718 - val_loss: 0.6174 - val_accuracy: 0.8595\n",
            "Epoch 79/100\n",
            "144/144 [==============================] - 1s 4ms/step - loss: 0.0836 - accuracy: 0.9722 - val_loss: 0.7080 - val_accuracy: 0.8462\n",
            "Epoch 80/100\n",
            "144/144 [==============================] - 1s 4ms/step - loss: 0.0790 - accuracy: 0.9738 - val_loss: 0.6408 - val_accuracy: 0.8433\n",
            "Epoch 81/100\n",
            "144/144 [==============================] - 1s 4ms/step - loss: 0.0709 - accuracy: 0.9784 - val_loss: 0.6879 - val_accuracy: 0.8404\n",
            "Epoch 82/100\n",
            "144/144 [==============================] - 1s 4ms/step - loss: 0.0702 - accuracy: 0.9756 - val_loss: 0.7049 - val_accuracy: 0.8448\n",
            "Epoch 83/100\n",
            "144/144 [==============================] - 1s 4ms/step - loss: 0.0703 - accuracy: 0.9765 - val_loss: 0.6744 - val_accuracy: 0.8462\n",
            "Epoch 84/100\n",
            "144/144 [==============================] - 1s 4ms/step - loss: 0.0665 - accuracy: 0.9790 - val_loss: 0.7150 - val_accuracy: 0.8384\n",
            "Epoch 85/100\n",
            "144/144 [==============================] - 1s 4ms/step - loss: 0.0752 - accuracy: 0.9739 - val_loss: 0.8952 - val_accuracy: 0.8183\n",
            "Epoch 86/100\n",
            "144/144 [==============================] - 1s 4ms/step - loss: 0.0654 - accuracy: 0.9790 - val_loss: 0.7038 - val_accuracy: 0.8443\n",
            "Epoch 87/100\n",
            "144/144 [==============================] - 1s 4ms/step - loss: 0.0586 - accuracy: 0.9811 - val_loss: 0.7373 - val_accuracy: 0.8433\n",
            "Epoch 88/100\n",
            "144/144 [==============================] - 1s 4ms/step - loss: 0.0558 - accuracy: 0.9831 - val_loss: 0.7487 - val_accuracy: 0.8413\n",
            "Epoch 89/100\n",
            "144/144 [==============================] - 1s 4ms/step - loss: 0.0501 - accuracy: 0.9854 - val_loss: 0.7980 - val_accuracy: 0.8477\n",
            "Epoch 90/100\n",
            "144/144 [==============================] - 1s 4ms/step - loss: 0.0536 - accuracy: 0.9833 - val_loss: 0.7872 - val_accuracy: 0.8492\n",
            "Epoch 91/100\n",
            "144/144 [==============================] - 1s 4ms/step - loss: 0.0569 - accuracy: 0.9820 - val_loss: 0.8392 - val_accuracy: 0.8374\n",
            "Epoch 92/100\n",
            "144/144 [==============================] - 1s 4ms/step - loss: 0.0560 - accuracy: 0.9801 - val_loss: 0.7973 - val_accuracy: 0.8501\n",
            "Epoch 93/100\n",
            "144/144 [==============================] - 1s 4ms/step - loss: 0.0475 - accuracy: 0.9854 - val_loss: 0.8402 - val_accuracy: 0.8413\n",
            "Epoch 94/100\n",
            "144/144 [==============================] - 1s 4ms/step - loss: 0.0673 - accuracy: 0.9757 - val_loss: 0.8657 - val_accuracy: 0.8379\n",
            "Epoch 95/100\n",
            "144/144 [==============================] - 1s 4ms/step - loss: 0.0459 - accuracy: 0.9862 - val_loss: 0.8318 - val_accuracy: 0.8413\n",
            "Epoch 96/100\n",
            "144/144 [==============================] - 1s 4ms/step - loss: 0.0378 - accuracy: 0.9890 - val_loss: 0.8603 - val_accuracy: 0.8418\n",
            "Epoch 97/100\n",
            "144/144 [==============================] - 1s 4ms/step - loss: 0.0456 - accuracy: 0.9857 - val_loss: 1.0000 - val_accuracy: 0.8301\n",
            "Epoch 98/100\n",
            "144/144 [==============================] - 1s 4ms/step - loss: 0.0423 - accuracy: 0.9868 - val_loss: 0.9015 - val_accuracy: 0.8408\n",
            "Epoch 99/100\n",
            "144/144 [==============================] - 1s 4ms/step - loss: 0.0476 - accuracy: 0.9841 - val_loss: 0.9693 - val_accuracy: 0.8428\n",
            "Epoch 100/100\n",
            "144/144 [==============================] - 1s 4ms/step - loss: 0.0336 - accuracy: 0.9909 - val_loss: 0.9345 - val_accuracy: 0.8433\n"
          ],
          "name": "stdout"
        }
      ]
    },
    {
      "cell_type": "code",
      "metadata": {
        "id": "NL2bpT6nVmDa",
        "colab": {
          "base_uri": "https://localhost:8080/",
          "height": 513
        },
        "outputId": "9ee862e9-9469-4461-949a-17d030f100a9"
      },
      "source": [
        "plt.plot(hist.history['loss'])\n",
        "plt.plot(hist.history['val_loss'])\n",
        "plt.show()\n",
        "\n",
        "plt.plot(hist.history['accuracy'])\n",
        "plt.plot(hist.history['val_accuracy'])\n",
        "plt.show()"
      ],
      "execution_count": 52,
      "outputs": [
        {
          "output_type": "display_data",
          "data": {
            "image/png": "[encoded data removed]",
            "text/plain": [
              "<Figure size 432x288 with 1 Axes>"
            ]
          },
          "metadata": {
            "tags": [],
            "needs_background": "light"
          }
        },
        {
          "output_type": "display_data",
          "data": {
            "image/png": "[encoded data removed]",
            "text/plain": [
              "<Figure size 432x288 with 1 Axes>"
            ]
          },
          "metadata": {
            "tags": [],
            "needs_background": "light"
          }
        }
      ]
    },
    {
      "cell_type": "code",
      "metadata": {
        "id": "DwORU8XyE6oh",
        "colab": {
          "base_uri": "https://localhost:8080/"
        },
        "outputId": "3f009bf6-42ad-4724-c575-38a5f45e7447"
      },
      "source": [
        "loss, acc = model.evaluate(test_x, test_y)\n",
        "print(\"loss=\",loss)\n",
        "print(\"acc=\",acc)"
      ],
      "execution_count": 53,
      "outputs": [
        {
          "output_type": "stream",
          "text": [
            "160/160 [==============================] - 0s 2ms/step - loss: 0.8998 - accuracy: 0.8374\n",
            "loss= 0.8998271226882935\n",
            "acc= 0.837382435798645\n"
          ],
          "name": "stdout"
        }
      ]
    },
    {
      "cell_type": "code",
      "metadata": {
        "id": "98uaPmM_TI_F"
      },
      "source": [
        ""
      ],
      "execution_count": null,
      "outputs": []
    },
    {
      "cell_type": "markdown",
      "metadata": {
        "id": "Y5DdnrTGSykj"
      },
      "source": [
        "# overfitting 처리"
      ]
    },
    {
      "cell_type": "code",
      "metadata": {
        "id": "DkX92WrIS16Y",
        "colab": {
          "base_uri": "https://localhost:8080/"
        },
        "outputId": "37041c01-2d0d-4402-b847-8d3618beb77d"
      },
      "source": [
        "model = keras.Sequential()\n",
        "model.add(Input(x[0].shape))\n",
        "model.add(Conv2D(32, (3, 3), padding='same'))\n",
        "model.add(MaxPooling2D((2, 2)))\n",
        "model.add(Conv2D(64, (3, 3), padding='same'))\n",
        "model.add(MaxPooling2D((2, 2)))\n",
        "model.add(Flatten())\n",
        "model.add(Dense(10, activation='relu'))\n",
        "model.add(BatchNormalization())      # <------------------\n",
        "model.add(Dense(10, activation='relu'))\n",
        "model.add(BatchNormalization())      # <------------------\n",
        "model.add(Dense(len(failure_name)-1, activation='softmax'))\n",
        "\n",
        "model.compile(optimizer=\"adam\", loss=\"sparse_categorical_crossentropy\", metrics=[\"accuracy\"])\n",
        "model.summary()"
      ],
      "execution_count": 54,
      "outputs": [
        {
          "output_type": "stream",
          "text": [
            "Model: \"sequential_1\"\n",
            "_________________________________________________________________\n",
            "Layer (type)                 Output Shape              Param #   \n",
            "=================================================================\n",
            "conv2d_2 (Conv2D)            (None, 26, 26, 32)        320       \n",
            "_________________________________________________________________\n",
            "max_pooling2d_2 (MaxPooling2 (None, 13, 13, 32)        0         \n",
            "_________________________________________________________________\n",
            "conv2d_3 (Conv2D)            (None, 13, 13, 64)        18496     \n",
            "_________________________________________________________________\n",
            "max_pooling2d_3 (MaxPooling2 (None, 6, 6, 64)          0         \n",
            "_________________________________________________________________\n",
            "flatten_1 (Flatten)          (None, 2304)              0         \n",
            "_________________________________________________________________\n",
            "dense_3 (Dense)              (None, 10)                23050     \n",
            "_________________________________________________________________\n",
            "batch_normalization (BatchNo (None, 10)                40        \n",
            "_________________________________________________________________\n",
            "dense_4 (Dense)              (None, 10)                110       \n",
            "_________________________________________________________________\n",
            "batch_normalization_1 (Batch (None, 10)                40        \n",
            "_________________________________________________________________\n",
            "dense_5 (Dense)              (None, 8)                 88        \n",
            "=================================================================\n",
            "Total params: 42,144\n",
            "Trainable params: 42,104\n",
            "Non-trainable params: 40\n",
            "_________________________________________________________________\n"
          ],
          "name": "stdout"
        }
      ]
    },
    {
      "cell_type": "code",
      "metadata": {
        "id": "pkQf0iBME6iT",
        "colab": {
          "base_uri": "https://localhost:8080/"
        },
        "outputId": "806b4821-9a79-4cdd-da84-5d8b4d383c8d"
      },
      "source": [
        "hist = model.fit(train_x, train_y, epochs=100, verbose=1, batch_size=128, validation_split=0.1)"
      ],
      "execution_count": 55,
      "outputs": [
        {
          "output_type": "stream",
          "text": [
            "Epoch 1/100\n",
            "144/144 [==============================] - 1s 6ms/step - loss: 1.1403 - accuracy: 0.6511 - val_loss: 1.7872 - val_accuracy: 0.2635\n",
            "Epoch 2/100\n",
            "144/144 [==============================] - 1s 4ms/step - loss: 0.6604 - accuracy: 0.8108 - val_loss: 1.1523 - val_accuracy: 0.5715\n",
            "Epoch 3/100\n",
            "144/144 [==============================] - 1s 4ms/step - loss: 0.4932 - accuracy: 0.8366 - val_loss: 2.1883 - val_accuracy: 0.3781\n",
            "Epoch 4/100\n",
            "144/144 [==============================] - 1s 4ms/step - loss: 0.4078 - accuracy: 0.8543 - val_loss: 1.0577 - val_accuracy: 0.5269\n",
            "Epoch 5/100\n",
            "144/144 [==============================] - 1s 4ms/step - loss: 0.3597 - accuracy: 0.8688 - val_loss: 1.1057 - val_accuracy: 0.6107\n",
            "Epoch 6/100\n",
            "144/144 [==============================] - 1s 4ms/step - loss: 0.3146 - accuracy: 0.8820 - val_loss: 1.4162 - val_accuracy: 0.6430\n",
            "Epoch 7/100\n",
            "144/144 [==============================] - 1s 4ms/step - loss: 0.2816 - accuracy: 0.8943 - val_loss: 1.0442 - val_accuracy: 0.6964\n",
            "Epoch 8/100\n",
            "144/144 [==============================] - 1s 4ms/step - loss: 0.2534 - accuracy: 0.9056 - val_loss: 4.9055 - val_accuracy: 0.4873\n",
            "Epoch 9/100\n",
            "144/144 [==============================] - 1s 4ms/step - loss: 0.2533 - accuracy: 0.9057 - val_loss: 0.8954 - val_accuracy: 0.7032\n",
            "Epoch 10/100\n",
            "144/144 [==============================] - 1s 4ms/step - loss: 0.2245 - accuracy: 0.9170 - val_loss: 2.7577 - val_accuracy: 0.4687\n",
            "Epoch 11/100\n",
            "144/144 [==============================] - 1s 4ms/step - loss: 0.1961 - accuracy: 0.9285 - val_loss: 0.9094 - val_accuracy: 0.7449\n",
            "Epoch 12/100\n",
            "144/144 [==============================] - 1s 5ms/step - loss: 0.1751 - accuracy: 0.9369 - val_loss: 1.8080 - val_accuracy: 0.5122\n",
            "Epoch 13/100\n",
            "144/144 [==============================] - 1s 4ms/step - loss: 0.1538 - accuracy: 0.9463 - val_loss: 1.6519 - val_accuracy: 0.6836\n",
            "Epoch 14/100\n",
            "144/144 [==============================] - 1s 4ms/step - loss: 0.1443 - accuracy: 0.9492 - val_loss: 0.7350 - val_accuracy: 0.8129\n",
            "Epoch 15/100\n",
            "144/144 [==============================] - 1s 4ms/step - loss: 0.1328 - accuracy: 0.9537 - val_loss: 5.2160 - val_accuracy: 0.1572\n",
            "Epoch 16/100\n",
            "144/144 [==============================] - 1s 4ms/step - loss: 0.1130 - accuracy: 0.9612 - val_loss: 2.0439 - val_accuracy: 0.6430\n",
            "Epoch 17/100\n",
            "144/144 [==============================] - 1s 4ms/step - loss: 0.1017 - accuracy: 0.9651 - val_loss: 3.8539 - val_accuracy: 0.4123\n",
            "Epoch 18/100\n",
            "144/144 [==============================] - 1s 4ms/step - loss: 0.0967 - accuracy: 0.9673 - val_loss: 1.1150 - val_accuracy: 0.7125\n",
            "Epoch 19/100\n",
            "144/144 [==============================] - 1s 4ms/step - loss: 0.0925 - accuracy: 0.9697 - val_loss: 1.2163 - val_accuracy: 0.7150\n",
            "Epoch 20/100\n",
            "144/144 [==============================] - 1s 4ms/step - loss: 0.0803 - accuracy: 0.9744 - val_loss: 1.7820 - val_accuracy: 0.7321\n",
            "Epoch 21/100\n",
            "144/144 [==============================] - 1s 4ms/step - loss: 0.0833 - accuracy: 0.9715 - val_loss: 0.9075 - val_accuracy: 0.7468\n",
            "Epoch 22/100\n",
            "144/144 [==============================] - 1s 5ms/step - loss: 0.0731 - accuracy: 0.9754 - val_loss: 1.7123 - val_accuracy: 0.7238\n",
            "Epoch 23/100\n",
            "144/144 [==============================] - 1s 5ms/step - loss: 0.0733 - accuracy: 0.9752 - val_loss: 1.2327 - val_accuracy: 0.7733\n",
            "Epoch 24/100\n",
            "144/144 [==============================] - 1s 4ms/step - loss: 0.0651 - accuracy: 0.9775 - val_loss: 0.7310 - val_accuracy: 0.8115\n",
            "Epoch 25/100\n",
            "144/144 [==============================] - 1s 5ms/step - loss: 0.0601 - accuracy: 0.9797 - val_loss: 1.2858 - val_accuracy: 0.6641\n",
            "Epoch 26/100\n",
            "144/144 [==============================] - 1s 4ms/step - loss: 0.0527 - accuracy: 0.9831 - val_loss: 1.1138 - val_accuracy: 0.7532\n",
            "Epoch 27/100\n",
            "144/144 [==============================] - 1s 4ms/step - loss: 0.0454 - accuracy: 0.9865 - val_loss: 1.4040 - val_accuracy: 0.7860\n",
            "Epoch 28/100\n",
            "144/144 [==============================] - 1s 4ms/step - loss: 0.0555 - accuracy: 0.9820 - val_loss: 2.2059 - val_accuracy: 0.6714\n",
            "Epoch 29/100\n",
            "144/144 [==============================] - 1s 4ms/step - loss: 0.0530 - accuracy: 0.9819 - val_loss: 2.1100 - val_accuracy: 0.6974\n",
            "Epoch 30/100\n",
            "144/144 [==============================] - 1s 4ms/step - loss: 0.0448 - accuracy: 0.9855 - val_loss: 1.0582 - val_accuracy: 0.8100\n",
            "Epoch 31/100\n",
            "144/144 [==============================] - 1s 5ms/step - loss: 0.0429 - accuracy: 0.9857 - val_loss: 1.6832 - val_accuracy: 0.7532\n",
            "Epoch 32/100\n",
            "144/144 [==============================] - 1s 4ms/step - loss: 0.0364 - accuracy: 0.9880 - val_loss: 1.1169 - val_accuracy: 0.7537\n",
            "Epoch 33/100\n",
            "144/144 [==============================] - 1s 5ms/step - loss: 0.0390 - accuracy: 0.9879 - val_loss: 1.1325 - val_accuracy: 0.8183\n",
            "Epoch 34/100\n",
            "144/144 [==============================] - 1s 4ms/step - loss: 0.0469 - accuracy: 0.9829 - val_loss: 1.2608 - val_accuracy: 0.7933\n",
            "Epoch 35/100\n",
            "144/144 [==============================] - 1s 4ms/step - loss: 0.0415 - accuracy: 0.9855 - val_loss: 1.9404 - val_accuracy: 0.6719\n",
            "Epoch 36/100\n",
            "144/144 [==============================] - 1s 4ms/step - loss: 0.0319 - accuracy: 0.9902 - val_loss: 1.6488 - val_accuracy: 0.7375\n",
            "Epoch 37/100\n",
            "144/144 [==============================] - 1s 5ms/step - loss: 0.0374 - accuracy: 0.9872 - val_loss: 1.4501 - val_accuracy: 0.7914\n",
            "Epoch 38/100\n",
            "144/144 [==============================] - 1s 4ms/step - loss: 0.0360 - accuracy: 0.9887 - val_loss: 0.9986 - val_accuracy: 0.8017\n",
            "Epoch 39/100\n",
            "144/144 [==============================] - 1s 4ms/step - loss: 0.0345 - accuracy: 0.9889 - val_loss: 1.1964 - val_accuracy: 0.8017\n",
            "Epoch 40/100\n",
            "144/144 [==============================] - 1s 5ms/step - loss: 0.0429 - accuracy: 0.9839 - val_loss: 1.8951 - val_accuracy: 0.7331\n",
            "Epoch 41/100\n",
            "144/144 [==============================] - 1s 4ms/step - loss: 0.0412 - accuracy: 0.9867 - val_loss: 0.8435 - val_accuracy: 0.8350\n",
            "Epoch 42/100\n",
            "144/144 [==============================] - 1s 4ms/step - loss: 0.0293 - accuracy: 0.9905 - val_loss: 0.9032 - val_accuracy: 0.8291\n",
            "Epoch 43/100\n",
            "144/144 [==============================] - 1s 4ms/step - loss: 0.0284 - accuracy: 0.9905 - val_loss: 6.0586 - val_accuracy: 0.4295\n",
            "Epoch 44/100\n",
            "144/144 [==============================] - 1s 5ms/step - loss: 0.0531 - accuracy: 0.9802 - val_loss: 5.0218 - val_accuracy: 0.3967\n",
            "Epoch 45/100\n",
            "144/144 [==============================] - 1s 5ms/step - loss: 0.0306 - accuracy: 0.9900 - val_loss: 1.0573 - val_accuracy: 0.7987\n",
            "Epoch 46/100\n",
            "144/144 [==============================] - 1s 4ms/step - loss: 0.0309 - accuracy: 0.9900 - val_loss: 2.2045 - val_accuracy: 0.7116\n",
            "Epoch 47/100\n",
            "144/144 [==============================] - 1s 5ms/step - loss: 0.0272 - accuracy: 0.9907 - val_loss: 1.4993 - val_accuracy: 0.7973\n",
            "Epoch 48/100\n",
            "144/144 [==============================] - 1s 4ms/step - loss: 0.0163 - accuracy: 0.9955 - val_loss: 1.7303 - val_accuracy: 0.7488\n",
            "Epoch 49/100\n",
            "144/144 [==============================] - 1s 5ms/step - loss: 0.0241 - accuracy: 0.9928 - val_loss: 2.5657 - val_accuracy: 0.6929\n",
            "Epoch 50/100\n",
            "144/144 [==============================] - 1s 5ms/step - loss: 0.0258 - accuracy: 0.9913 - val_loss: 1.0601 - val_accuracy: 0.8247\n",
            "Epoch 51/100\n",
            "144/144 [==============================] - 1s 4ms/step - loss: 0.0313 - accuracy: 0.9888 - val_loss: 1.3420 - val_accuracy: 0.7816\n",
            "Epoch 52/100\n",
            "144/144 [==============================] - 1s 5ms/step - loss: 0.0313 - accuracy: 0.9896 - val_loss: 1.8140 - val_accuracy: 0.7453\n",
            "Epoch 53/100\n",
            "144/144 [==============================] - 1s 4ms/step - loss: 0.0303 - accuracy: 0.9900 - val_loss: 1.5139 - val_accuracy: 0.7556\n",
            "Epoch 54/100\n",
            "144/144 [==============================] - 1s 5ms/step - loss: 0.0302 - accuracy: 0.9895 - val_loss: 1.6188 - val_accuracy: 0.7689\n",
            "Epoch 55/100\n",
            "144/144 [==============================] - 1s 4ms/step - loss: 0.0270 - accuracy: 0.9905 - val_loss: 3.6274 - val_accuracy: 0.5867\n",
            "Epoch 56/100\n",
            "144/144 [==============================] - 1s 5ms/step - loss: 0.0262 - accuracy: 0.9910 - val_loss: 2.2151 - val_accuracy: 0.7111\n",
            "Epoch 57/100\n",
            "144/144 [==============================] - 1s 5ms/step - loss: 0.0214 - accuracy: 0.9933 - val_loss: 1.8870 - val_accuracy: 0.7811\n",
            "Epoch 58/100\n",
            "144/144 [==============================] - 1s 4ms/step - loss: 0.0259 - accuracy: 0.9915 - val_loss: 2.0489 - val_accuracy: 0.7409\n",
            "Epoch 59/100\n",
            "144/144 [==============================] - 1s 4ms/step - loss: 0.0225 - accuracy: 0.9923 - val_loss: 1.4604 - val_accuracy: 0.7860\n",
            "Epoch 60/100\n",
            "144/144 [==============================] - 1s 5ms/step - loss: 0.0236 - accuracy: 0.9920 - val_loss: 1.7292 - val_accuracy: 0.6983\n",
            "Epoch 61/100\n",
            "144/144 [==============================] - 1s 5ms/step - loss: 0.0210 - accuracy: 0.9929 - val_loss: 1.3456 - val_accuracy: 0.8134\n",
            "Epoch 62/100\n",
            "144/144 [==============================] - 1s 4ms/step - loss: 0.0198 - accuracy: 0.9934 - val_loss: 2.0833 - val_accuracy: 0.7316\n",
            "Epoch 63/100\n",
            "144/144 [==============================] - 1s 5ms/step - loss: 0.0189 - accuracy: 0.9940 - val_loss: 1.4870 - val_accuracy: 0.7649\n",
            "Epoch 64/100\n",
            "144/144 [==============================] - 1s 4ms/step - loss: 0.0265 - accuracy: 0.9911 - val_loss: 1.1011 - val_accuracy: 0.8355\n",
            "Epoch 65/100\n",
            "144/144 [==============================] - 1s 5ms/step - loss: 0.0231 - accuracy: 0.9929 - val_loss: 2.3487 - val_accuracy: 0.7610\n",
            "Epoch 66/100\n",
            "144/144 [==============================] - 1s 5ms/step - loss: 0.0207 - accuracy: 0.9931 - val_loss: 10.3287 - val_accuracy: 0.1675\n",
            "Epoch 67/100\n",
            "144/144 [==============================] - 1s 4ms/step - loss: 0.0237 - accuracy: 0.9919 - val_loss: 1.1380 - val_accuracy: 0.8188\n",
            "Epoch 68/100\n",
            "144/144 [==============================] - 1s 4ms/step - loss: 0.0275 - accuracy: 0.9907 - val_loss: 2.1004 - val_accuracy: 0.7400\n",
            "Epoch 69/100\n",
            "144/144 [==============================] - 1s 5ms/step - loss: 0.0255 - accuracy: 0.9912 - val_loss: 7.0257 - val_accuracy: 0.4383\n",
            "Epoch 70/100\n",
            "144/144 [==============================] - 1s 5ms/step - loss: 0.0216 - accuracy: 0.9920 - val_loss: 3.0507 - val_accuracy: 0.6714\n",
            "Epoch 71/100\n",
            "144/144 [==============================] - 1s 5ms/step - loss: 0.0215 - accuracy: 0.9927 - val_loss: 1.4379 - val_accuracy: 0.8007\n",
            "Epoch 72/100\n",
            "144/144 [==============================] - 1s 5ms/step - loss: 0.0222 - accuracy: 0.9927 - val_loss: 1.1968 - val_accuracy: 0.8237\n",
            "Epoch 73/100\n",
            "144/144 [==============================] - 1s 5ms/step - loss: 0.0181 - accuracy: 0.9937 - val_loss: 2.0179 - val_accuracy: 0.7233\n",
            "Epoch 74/100\n",
            "144/144 [==============================] - 1s 5ms/step - loss: 0.0227 - accuracy: 0.9922 - val_loss: 2.1942 - val_accuracy: 0.6396\n",
            "Epoch 75/100\n",
            "144/144 [==============================] - 1s 5ms/step - loss: 0.0201 - accuracy: 0.9938 - val_loss: 2.2937 - val_accuracy: 0.7723\n",
            "Epoch 76/100\n",
            "144/144 [==============================] - 1s 4ms/step - loss: 0.0206 - accuracy: 0.9922 - val_loss: 1.7399 - val_accuracy: 0.7493\n",
            "Epoch 77/100\n",
            "144/144 [==============================] - 1s 5ms/step - loss: 0.0191 - accuracy: 0.9935 - val_loss: 1.3823 - val_accuracy: 0.7973\n",
            "Epoch 78/100\n",
            "144/144 [==============================] - 1s 4ms/step - loss: 0.0273 - accuracy: 0.9905 - val_loss: 2.7112 - val_accuracy: 0.7238\n",
            "Epoch 79/100\n",
            "144/144 [==============================] - 1s 5ms/step - loss: 0.0184 - accuracy: 0.9932 - val_loss: 1.4375 - val_accuracy: 0.8188\n",
            "Epoch 80/100\n",
            "144/144 [==============================] - 1s 4ms/step - loss: 0.0116 - accuracy: 0.9961 - val_loss: 1.6355 - val_accuracy: 0.8007\n",
            "Epoch 81/100\n",
            "144/144 [==============================] - 1s 4ms/step - loss: 0.0112 - accuracy: 0.9961 - val_loss: 1.1728 - val_accuracy: 0.8340\n",
            "Epoch 82/100\n",
            "144/144 [==============================] - 1s 5ms/step - loss: 0.0187 - accuracy: 0.9937 - val_loss: 2.2729 - val_accuracy: 0.7091\n",
            "Epoch 83/100\n",
            "144/144 [==============================] - 1s 5ms/step - loss: 0.0386 - accuracy: 0.9870 - val_loss: 2.9970 - val_accuracy: 0.7400\n",
            "Epoch 84/100\n",
            "144/144 [==============================] - 1s 4ms/step - loss: 0.0360 - accuracy: 0.9869 - val_loss: 2.5993 - val_accuracy: 0.7346\n",
            "Epoch 85/100\n",
            "144/144 [==============================] - 1s 5ms/step - loss: 0.0213 - accuracy: 0.9933 - val_loss: 2.2522 - val_accuracy: 0.6856\n",
            "Epoch 86/100\n",
            "144/144 [==============================] - 1s 5ms/step - loss: 0.0210 - accuracy: 0.9928 - val_loss: 2.4552 - val_accuracy: 0.7267\n",
            "Epoch 87/100\n",
            "144/144 [==============================] - 1s 5ms/step - loss: 0.0149 - accuracy: 0.9953 - val_loss: 1.3981 - val_accuracy: 0.7654\n",
            "Epoch 88/100\n",
            "144/144 [==============================] - 1s 5ms/step - loss: 0.0140 - accuracy: 0.9953 - val_loss: 1.7833 - val_accuracy: 0.7786\n",
            "Epoch 89/100\n",
            "144/144 [==============================] - 1s 5ms/step - loss: 0.0110 - accuracy: 0.9967 - val_loss: 2.3379 - val_accuracy: 0.7375\n",
            "Epoch 90/100\n",
            "144/144 [==============================] - 1s 5ms/step - loss: 0.0142 - accuracy: 0.9949 - val_loss: 3.7490 - val_accuracy: 0.6366\n",
            "Epoch 91/100\n",
            "144/144 [==============================] - 1s 5ms/step - loss: 0.0179 - accuracy: 0.9932 - val_loss: 2.6087 - val_accuracy: 0.7434\n",
            "Epoch 92/100\n",
            "144/144 [==============================] - 1s 5ms/step - loss: 0.0108 - accuracy: 0.9971 - val_loss: 2.0355 - val_accuracy: 0.7821\n",
            "Epoch 93/100\n",
            "144/144 [==============================] - 1s 5ms/step - loss: 0.0110 - accuracy: 0.9965 - val_loss: 1.8099 - val_accuracy: 0.7850\n",
            "Epoch 94/100\n",
            "144/144 [==============================] - 1s 5ms/step - loss: 0.0125 - accuracy: 0.9961 - val_loss: 1.3398 - val_accuracy: 0.8041\n",
            "Epoch 95/100\n",
            "144/144 [==============================] - 1s 5ms/step - loss: 0.0152 - accuracy: 0.9947 - val_loss: 4.4987 - val_accuracy: 0.5118\n",
            "Epoch 96/100\n",
            "144/144 [==============================] - 1s 4ms/step - loss: 0.0108 - accuracy: 0.9968 - val_loss: 1.5811 - val_accuracy: 0.7889\n",
            "Epoch 97/100\n",
            "144/144 [==============================] - 1s 5ms/step - loss: 0.0222 - accuracy: 0.9921 - val_loss: 1.6459 - val_accuracy: 0.7982\n",
            "Epoch 98/100\n",
            "144/144 [==============================] - 1s 5ms/step - loss: 0.0249 - accuracy: 0.9913 - val_loss: 2.6557 - val_accuracy: 0.6812\n",
            "Epoch 99/100\n",
            "144/144 [==============================] - 1s 4ms/step - loss: 0.0203 - accuracy: 0.9927 - val_loss: 1.8643 - val_accuracy: 0.7174\n",
            "Epoch 100/100\n",
            "144/144 [==============================] - 1s 4ms/step - loss: 0.0194 - accuracy: 0.9933 - val_loss: 1.7549 - val_accuracy: 0.7992\n"
          ],
          "name": "stdout"
        }
      ]
    },
    {
      "cell_type": "code",
      "metadata": {
        "id": "DHTmEpdLWBpJ",
        "colab": {
          "base_uri": "https://localhost:8080/",
          "height": 513
        },
        "outputId": "445ee1dd-eed8-479b-bb90-95c4ffc54511"
      },
      "source": [
        "plt.plot(hist.history['loss'])\n",
        "plt.plot(hist.history['val_loss'])\n",
        "plt.show()\n",
        "\n",
        "plt.plot(hist.history['accuracy'])\n",
        "plt.plot(hist.history['val_accuracy'])\n",
        "plt.show()"
      ],
      "execution_count": 56,
      "outputs": [
        {
          "output_type": "display_data",
          "data": {
            "image/png": "[encoded data removed]",
            "text/plain": [
              "<Figure size 432x288 with 1 Axes>"
            ]
          },
          "metadata": {
            "tags": [],
            "needs_background": "light"
          }
        },
        {
          "output_type": "display_data",
          "data": {
            "image/png": "[encoded data removed]",
            "text/plain": [
              "<Figure size 432x288 with 1 Axes>"
            ]
          },
          "metadata": {
            "tags": [],
            "needs_background": "light"
          }
        }
      ]
    },
    {
      "cell_type": "code",
      "metadata": {
        "id": "CdPN956PUnID",
        "colab": {
          "base_uri": "https://localhost:8080/"
        },
        "outputId": "c126366b-ef32-4489-95d0-578d5cfd0a4c"
      },
      "source": [
        "loss, acc = model.evaluate(test_x, test_y)\n",
        "print(\"loss=\",loss)\n",
        "print(\"acc=\",acc)"
      ],
      "execution_count": 57,
      "outputs": [
        {
          "output_type": "stream",
          "text": [
            "160/160 [==============================] - 0s 2ms/step - loss: 1.5723 - accuracy: 0.8090\n",
            "loss= 1.5723209381103516\n",
            "acc= 0.8089733719825745\n"
          ],
          "name": "stdout"
        }
      ]
    },
    {
      "cell_type": "markdown",
      "metadata": {
        "id": "TNQZ7QdQUDD_"
      },
      "source": [
        "# Learning Rate 조정"
      ]
    },
    {
      "cell_type": "code",
      "metadata": {
        "id": "gbLbICOpUZ9N",
        "colab": {
          "base_uri": "https://localhost:8080/"
        },
        "outputId": "d856b340-25cc-43cf-af6b-8454069425e1"
      },
      "source": [
        "from tensorflow.keras.optimizers import Adam\n",
        "\n",
        "model = keras.Sequential()\n",
        "model.add(Input(x[0].shape))\n",
        "model.add(Conv2D(32, (3, 3), padding='same'))\n",
        "model.add(MaxPooling2D((2, 2)))\n",
        "model.add(Conv2D(64, (3, 3), padding='same'))\n",
        "model.add(MaxPooling2D((2, 2)))\n",
        "model.add(Flatten())\n",
        "model.add(Dense(10, activation='relu'))\n",
        "model.add(Dense(10, activation='relu'))\n",
        "model.add(Dense(len(failure_name)-1, activation='softmax'))\n",
        "\n",
        "optimizer = Adam(lr=0.0001)\n",
        "\n",
        "# model.compile(optimizer=\"adam\", loss=\"sparse_categorical_crossentropy\", metrics=[\"accuracy\"])\n",
        "model.compile(optimizer=optimizer, loss=\"sparse_categorical_crossentropy\", metrics=[\"accuracy\"])\n",
        "model.summary()"
      ],
      "execution_count": 58,
      "outputs": [
        {
          "output_type": "stream",
          "text": [
            "Model: \"sequential_2\"\n",
            "_________________________________________________________________\n",
            "Layer (type)                 Output Shape              Param #   \n",
            "=================================================================\n",
            "conv2d_4 (Conv2D)            (None, 26, 26, 32)        320       \n",
            "_________________________________________________________________\n",
            "max_pooling2d_4 (MaxPooling2 (None, 13, 13, 32)        0         \n",
            "_________________________________________________________________\n",
            "conv2d_5 (Conv2D)            (None, 13, 13, 64)        18496     \n",
            "_________________________________________________________________\n",
            "max_pooling2d_5 (MaxPooling2 (None, 6, 6, 64)          0         \n",
            "_________________________________________________________________\n",
            "flatten_2 (Flatten)          (None, 2304)              0         \n",
            "_________________________________________________________________\n",
            "dense_6 (Dense)              (None, 10)                23050     \n",
            "_________________________________________________________________\n",
            "dense_7 (Dense)              (None, 10)                110       \n",
            "_________________________________________________________________\n",
            "dense_8 (Dense)              (None, 8)                 88        \n",
            "=================================================================\n",
            "Total params: 42,064\n",
            "Trainable params: 42,064\n",
            "Non-trainable params: 0\n",
            "_________________________________________________________________\n"
          ],
          "name": "stdout"
        }
      ]
    },
    {
      "cell_type": "code",
      "metadata": {
        "id": "9loW80exUhsW",
        "colab": {
          "base_uri": "https://localhost:8080/"
        },
        "outputId": "ece81cc3-fbc1-4135-beca-519a421d1b4d"
      },
      "source": [
        "hist = model.fit(train_x, train_y, epochs=100, verbose=1, batch_size=128, validation_split=0.1)"
      ],
      "execution_count": 59,
      "outputs": [
        {
          "output_type": "stream",
          "text": [
            "Epoch 1/100\n",
            "144/144 [==============================] - 1s 5ms/step - loss: 1.9320 - accuracy: 0.3582 - val_loss: 1.8103 - val_accuracy: 0.3756\n",
            "Epoch 2/100\n",
            "144/144 [==============================] - 1s 4ms/step - loss: 1.7289 - accuracy: 0.3772 - val_loss: 1.6675 - val_accuracy: 0.3810\n",
            "Epoch 3/100\n",
            "144/144 [==============================] - 1s 4ms/step - loss: 1.5521 - accuracy: 0.4386 - val_loss: 1.4544 - val_accuracy: 0.5122\n",
            "Epoch 4/100\n",
            "144/144 [==============================] - 1s 4ms/step - loss: 1.3503 - accuracy: 0.5157 - val_loss: 1.2956 - val_accuracy: 0.5137\n",
            "Epoch 5/100\n",
            "144/144 [==============================] - 1s 4ms/step - loss: 1.1863 - accuracy: 0.5282 - val_loss: 1.1179 - val_accuracy: 0.5328\n",
            "Epoch 6/100\n",
            "144/144 [==============================] - 1s 4ms/step - loss: 1.0119 - accuracy: 0.5853 - val_loss: 0.9422 - val_accuracy: 0.6469\n",
            "Epoch 7/100\n",
            "144/144 [==============================] - 1s 4ms/step - loss: 0.8976 - accuracy: 0.6592 - val_loss: 0.8711 - val_accuracy: 0.6567\n",
            "Epoch 8/100\n",
            "144/144 [==============================] - 1s 4ms/step - loss: 0.8414 - accuracy: 0.6768 - val_loss: 0.8189 - val_accuracy: 0.6832\n",
            "Epoch 9/100\n",
            "144/144 [==============================] - 1s 4ms/step - loss: 0.8071 - accuracy: 0.6845 - val_loss: 0.7903 - val_accuracy: 0.6885\n",
            "Epoch 10/100\n",
            "144/144 [==============================] - 1s 4ms/step - loss: 0.7743 - accuracy: 0.6903 - val_loss: 0.7669 - val_accuracy: 0.6871\n",
            "Epoch 11/100\n",
            "144/144 [==============================] - 1s 4ms/step - loss: 0.7526 - accuracy: 0.6961 - val_loss: 0.7510 - val_accuracy: 0.6959\n",
            "Epoch 12/100\n",
            "144/144 [==============================] - 1s 4ms/step - loss: 0.7336 - accuracy: 0.7009 - val_loss: 0.7252 - val_accuracy: 0.7008\n",
            "Epoch 13/100\n",
            "144/144 [==============================] - 1s 4ms/step - loss: 0.7163 - accuracy: 0.7089 - val_loss: 0.7134 - val_accuracy: 0.7042\n",
            "Epoch 14/100\n",
            "144/144 [==============================] - 1s 4ms/step - loss: 0.7041 - accuracy: 0.7112 - val_loss: 0.7013 - val_accuracy: 0.7032\n",
            "Epoch 15/100\n",
            "144/144 [==============================] - 1s 4ms/step - loss: 0.6913 - accuracy: 0.7136 - val_loss: 0.6949 - val_accuracy: 0.7116\n",
            "Epoch 16/100\n",
            "144/144 [==============================] - 1s 4ms/step - loss: 0.6820 - accuracy: 0.7184 - val_loss: 0.6878 - val_accuracy: 0.7037\n",
            "Epoch 17/100\n",
            "144/144 [==============================] - 1s 4ms/step - loss: 0.6747 - accuracy: 0.7208 - val_loss: 0.6711 - val_accuracy: 0.7135\n",
            "Epoch 18/100\n",
            "144/144 [==============================] - 1s 4ms/step - loss: 0.6632 - accuracy: 0.7269 - val_loss: 0.6651 - val_accuracy: 0.7165\n",
            "Epoch 19/100\n",
            "144/144 [==============================] - 1s 4ms/step - loss: 0.6589 - accuracy: 0.7273 - val_loss: 0.6616 - val_accuracy: 0.7199\n",
            "Epoch 20/100\n",
            "144/144 [==============================] - 1s 4ms/step - loss: 0.6531 - accuracy: 0.7313 - val_loss: 0.6533 - val_accuracy: 0.7262\n",
            "Epoch 21/100\n",
            "144/144 [==============================] - 1s 4ms/step - loss: 0.6465 - accuracy: 0.7320 - val_loss: 0.6532 - val_accuracy: 0.7277\n",
            "Epoch 22/100\n",
            "144/144 [==============================] - 1s 4ms/step - loss: 0.6401 - accuracy: 0.7353 - val_loss: 0.6584 - val_accuracy: 0.7194\n",
            "Epoch 23/100\n",
            "144/144 [==============================] - 1s 4ms/step - loss: 0.6395 - accuracy: 0.7353 - val_loss: 0.6414 - val_accuracy: 0.7341\n",
            "Epoch 24/100\n",
            "144/144 [==============================] - 1s 4ms/step - loss: 0.6281 - accuracy: 0.7412 - val_loss: 0.6423 - val_accuracy: 0.7267\n",
            "Epoch 25/100\n",
            "144/144 [==============================] - 1s 4ms/step - loss: 0.6302 - accuracy: 0.7398 - val_loss: 0.6377 - val_accuracy: 0.7209\n",
            "Epoch 26/100\n",
            "144/144 [==============================] - 1s 4ms/step - loss: 0.6208 - accuracy: 0.7444 - val_loss: 0.6261 - val_accuracy: 0.7307\n",
            "Epoch 27/100\n",
            "144/144 [==============================] - 1s 4ms/step - loss: 0.6160 - accuracy: 0.7465 - val_loss: 0.6239 - val_accuracy: 0.7292\n",
            "Epoch 28/100\n",
            "144/144 [==============================] - 1s 4ms/step - loss: 0.6147 - accuracy: 0.7450 - val_loss: 0.6230 - val_accuracy: 0.7307\n",
            "Epoch 29/100\n",
            "144/144 [==============================] - 1s 4ms/step - loss: 0.6098 - accuracy: 0.7475 - val_loss: 0.6167 - val_accuracy: 0.7346\n",
            "Epoch 30/100\n",
            "144/144 [==============================] - 1s 4ms/step - loss: 0.6067 - accuracy: 0.7494 - val_loss: 0.6186 - val_accuracy: 0.7321\n",
            "Epoch 31/100\n",
            "144/144 [==============================] - 1s 4ms/step - loss: 0.6055 - accuracy: 0.7495 - val_loss: 0.6208 - val_accuracy: 0.7346\n",
            "Epoch 32/100\n",
            "144/144 [==============================] - 1s 4ms/step - loss: 0.5996 - accuracy: 0.7530 - val_loss: 0.6076 - val_accuracy: 0.7424\n",
            "Epoch 33/100\n",
            "144/144 [==============================] - 1s 4ms/step - loss: 0.5952 - accuracy: 0.7540 - val_loss: 0.6089 - val_accuracy: 0.7356\n",
            "Epoch 34/100\n",
            "144/144 [==============================] - 1s 4ms/step - loss: 0.5936 - accuracy: 0.7568 - val_loss: 0.6070 - val_accuracy: 0.7434\n",
            "Epoch 35/100\n",
            "144/144 [==============================] - 1s 4ms/step - loss: 0.5893 - accuracy: 0.7570 - val_loss: 0.6063 - val_accuracy: 0.7321\n",
            "Epoch 36/100\n",
            "144/144 [==============================] - 1s 4ms/step - loss: 0.5863 - accuracy: 0.7593 - val_loss: 0.6009 - val_accuracy: 0.7498\n",
            "Epoch 37/100\n",
            "144/144 [==============================] - 1s 4ms/step - loss: 0.5849 - accuracy: 0.7597 - val_loss: 0.5935 - val_accuracy: 0.7517\n",
            "Epoch 38/100\n",
            "144/144 [==============================] - 1s 4ms/step - loss: 0.5815 - accuracy: 0.7592 - val_loss: 0.5936 - val_accuracy: 0.7375\n",
            "Epoch 39/100\n",
            "144/144 [==============================] - 1s 4ms/step - loss: 0.5808 - accuracy: 0.7616 - val_loss: 0.5951 - val_accuracy: 0.7507\n",
            "Epoch 40/100\n",
            "144/144 [==============================] - 1s 4ms/step - loss: 0.5786 - accuracy: 0.7618 - val_loss: 0.6046 - val_accuracy: 0.7586\n",
            "Epoch 41/100\n",
            "144/144 [==============================] - 1s 4ms/step - loss: 0.5758 - accuracy: 0.7631 - val_loss: 0.5897 - val_accuracy: 0.7576\n",
            "Epoch 42/100\n",
            "144/144 [==============================] - 1s 4ms/step - loss: 0.5713 - accuracy: 0.7647 - val_loss: 0.5896 - val_accuracy: 0.7478\n",
            "Epoch 43/100\n",
            "144/144 [==============================] - 1s 4ms/step - loss: 0.5682 - accuracy: 0.7665 - val_loss: 0.5866 - val_accuracy: 0.7615\n",
            "Epoch 44/100\n",
            "144/144 [==============================] - 1s 4ms/step - loss: 0.5671 - accuracy: 0.7686 - val_loss: 0.5802 - val_accuracy: 0.7551\n",
            "Epoch 45/100\n",
            "144/144 [==============================] - 1s 4ms/step - loss: 0.5628 - accuracy: 0.7667 - val_loss: 0.5750 - val_accuracy: 0.7581\n",
            "Epoch 46/100\n",
            "144/144 [==============================] - 1s 4ms/step - loss: 0.5622 - accuracy: 0.7705 - val_loss: 0.5727 - val_accuracy: 0.7551\n",
            "Epoch 47/100\n",
            "144/144 [==============================] - 1s 4ms/step - loss: 0.5590 - accuracy: 0.7707 - val_loss: 0.5996 - val_accuracy: 0.7493\n",
            "Epoch 48/100\n",
            "144/144 [==============================] - 1s 4ms/step - loss: 0.5574 - accuracy: 0.7713 - val_loss: 0.5674 - val_accuracy: 0.7649\n",
            "Epoch 49/100\n",
            "144/144 [==============================] - 1s 4ms/step - loss: 0.5578 - accuracy: 0.7715 - val_loss: 0.5669 - val_accuracy: 0.7640\n",
            "Epoch 50/100\n",
            "144/144 [==============================] - 1s 4ms/step - loss: 0.5538 - accuracy: 0.7713 - val_loss: 0.5721 - val_accuracy: 0.7512\n",
            "Epoch 51/100\n",
            "144/144 [==============================] - 1s 4ms/step - loss: 0.5514 - accuracy: 0.7722 - val_loss: 0.5620 - val_accuracy: 0.7640\n",
            "Epoch 52/100\n",
            "144/144 [==============================] - 1s 4ms/step - loss: 0.5472 - accuracy: 0.7764 - val_loss: 0.5683 - val_accuracy: 0.7674\n",
            "Epoch 53/100\n",
            "144/144 [==============================] - 1s 4ms/step - loss: 0.5488 - accuracy: 0.7752 - val_loss: 0.5584 - val_accuracy: 0.7659\n",
            "Epoch 54/100\n",
            "144/144 [==============================] - 1s 4ms/step - loss: 0.5461 - accuracy: 0.7758 - val_loss: 0.5690 - val_accuracy: 0.7556\n",
            "Epoch 55/100\n",
            "144/144 [==============================] - 1s 4ms/step - loss: 0.5451 - accuracy: 0.7775 - val_loss: 0.5608 - val_accuracy: 0.7625\n",
            "Epoch 56/100\n",
            "144/144 [==============================] - 1s 4ms/step - loss: 0.5425 - accuracy: 0.7802 - val_loss: 0.5587 - val_accuracy: 0.7684\n",
            "Epoch 57/100\n",
            "144/144 [==============================] - 1s 4ms/step - loss: 0.5402 - accuracy: 0.7802 - val_loss: 0.5579 - val_accuracy: 0.7703\n",
            "Epoch 58/100\n",
            "144/144 [==============================] - 1s 4ms/step - loss: 0.5381 - accuracy: 0.7805 - val_loss: 0.5556 - val_accuracy: 0.7703\n",
            "Epoch 59/100\n",
            "144/144 [==============================] - 1s 4ms/step - loss: 0.5382 - accuracy: 0.7827 - val_loss: 0.5510 - val_accuracy: 0.7728\n",
            "Epoch 60/100\n",
            "144/144 [==============================] - 1s 4ms/step - loss: 0.5331 - accuracy: 0.7831 - val_loss: 0.5517 - val_accuracy: 0.7713\n",
            "Epoch 61/100\n",
            "144/144 [==============================] - 1s 4ms/step - loss: 0.5329 - accuracy: 0.7839 - val_loss: 0.5523 - val_accuracy: 0.7738\n",
            "Epoch 62/100\n",
            "144/144 [==============================] - 1s 4ms/step - loss: 0.5319 - accuracy: 0.7829 - val_loss: 0.5481 - val_accuracy: 0.7723\n",
            "Epoch 63/100\n",
            "144/144 [==============================] - 1s 4ms/step - loss: 0.5312 - accuracy: 0.7852 - val_loss: 0.5428 - val_accuracy: 0.7772\n",
            "Epoch 64/100\n",
            "144/144 [==============================] - 1s 4ms/step - loss: 0.5276 - accuracy: 0.7856 - val_loss: 0.5507 - val_accuracy: 0.7723\n",
            "Epoch 65/100\n",
            "144/144 [==============================] - 1s 4ms/step - loss: 0.5256 - accuracy: 0.7881 - val_loss: 0.5438 - val_accuracy: 0.7782\n",
            "Epoch 66/100\n",
            "144/144 [==============================] - 1s 4ms/step - loss: 0.5295 - accuracy: 0.7845 - val_loss: 0.5459 - val_accuracy: 0.7772\n",
            "Epoch 67/100\n",
            "144/144 [==============================] - 1s 4ms/step - loss: 0.5249 - accuracy: 0.7881 - val_loss: 0.5595 - val_accuracy: 0.7708\n",
            "Epoch 68/100\n",
            "144/144 [==============================] - 1s 4ms/step - loss: 0.5218 - accuracy: 0.7871 - val_loss: 0.5373 - val_accuracy: 0.7791\n",
            "Epoch 69/100\n",
            "144/144 [==============================] - 1s 4ms/step - loss: 0.5229 - accuracy: 0.7869 - val_loss: 0.5479 - val_accuracy: 0.7757\n",
            "Epoch 70/100\n",
            "144/144 [==============================] - 1s 4ms/step - loss: 0.5221 - accuracy: 0.7894 - val_loss: 0.5396 - val_accuracy: 0.7786\n",
            "Epoch 71/100\n",
            "144/144 [==============================] - 1s 4ms/step - loss: 0.5211 - accuracy: 0.7905 - val_loss: 0.5337 - val_accuracy: 0.7835\n",
            "Epoch 72/100\n",
            "144/144 [==============================] - 1s 4ms/step - loss: 0.5163 - accuracy: 0.7918 - val_loss: 0.5318 - val_accuracy: 0.7811\n",
            "Epoch 73/100\n",
            "144/144 [==============================] - 1s 4ms/step - loss: 0.5143 - accuracy: 0.7903 - val_loss: 0.5299 - val_accuracy: 0.7855\n",
            "Epoch 74/100\n",
            "144/144 [==============================] - 1s 4ms/step - loss: 0.5149 - accuracy: 0.7934 - val_loss: 0.5307 - val_accuracy: 0.7840\n",
            "Epoch 75/100\n",
            "144/144 [==============================] - 1s 4ms/step - loss: 0.5143 - accuracy: 0.7903 - val_loss: 0.5333 - val_accuracy: 0.7831\n",
            "Epoch 76/100\n",
            "144/144 [==============================] - 1s 4ms/step - loss: 0.5135 - accuracy: 0.7930 - val_loss: 0.5350 - val_accuracy: 0.7831\n",
            "Epoch 77/100\n",
            "144/144 [==============================] - 1s 4ms/step - loss: 0.5114 - accuracy: 0.7944 - val_loss: 0.5347 - val_accuracy: 0.7806\n",
            "Epoch 78/100\n",
            "144/144 [==============================] - 1s 4ms/step - loss: 0.5075 - accuracy: 0.7948 - val_loss: 0.5416 - val_accuracy: 0.7796\n",
            "Epoch 79/100\n",
            "144/144 [==============================] - 1s 4ms/step - loss: 0.5093 - accuracy: 0.7956 - val_loss: 0.5305 - val_accuracy: 0.7860\n",
            "Epoch 80/100\n",
            "144/144 [==============================] - 1s 4ms/step - loss: 0.5063 - accuracy: 0.7971 - val_loss: 0.5258 - val_accuracy: 0.7919\n",
            "Epoch 81/100\n",
            "144/144 [==============================] - 1s 4ms/step - loss: 0.5048 - accuracy: 0.7978 - val_loss: 0.5295 - val_accuracy: 0.7855\n",
            "Epoch 82/100\n",
            "144/144 [==============================] - 1s 4ms/step - loss: 0.5030 - accuracy: 0.7967 - val_loss: 0.5208 - val_accuracy: 0.7865\n",
            "Epoch 83/100\n",
            "144/144 [==============================] - 1s 4ms/step - loss: 0.5024 - accuracy: 0.7976 - val_loss: 0.5195 - val_accuracy: 0.7880\n",
            "Epoch 84/100\n",
            "144/144 [==============================] - 1s 4ms/step - loss: 0.5013 - accuracy: 0.7994 - val_loss: 0.5381 - val_accuracy: 0.7855\n",
            "Epoch 85/100\n",
            "144/144 [==============================] - 1s 4ms/step - loss: 0.5027 - accuracy: 0.7992 - val_loss: 0.5193 - val_accuracy: 0.7933\n",
            "Epoch 86/100\n",
            "144/144 [==============================] - 1s 4ms/step - loss: 0.5010 - accuracy: 0.7965 - val_loss: 0.5165 - val_accuracy: 0.7933\n",
            "Epoch 87/100\n",
            "144/144 [==============================] - 1s 4ms/step - loss: 0.4964 - accuracy: 0.8001 - val_loss: 0.5161 - val_accuracy: 0.7919\n",
            "Epoch 88/100\n",
            "144/144 [==============================] - 1s 4ms/step - loss: 0.4961 - accuracy: 0.8013 - val_loss: 0.5261 - val_accuracy: 0.7909\n",
            "Epoch 89/100\n",
            "144/144 [==============================] - 1s 4ms/step - loss: 0.4965 - accuracy: 0.8001 - val_loss: 0.5120 - val_accuracy: 0.7963\n",
            "Epoch 90/100\n",
            "144/144 [==============================] - 1s 4ms/step - loss: 0.4938 - accuracy: 0.8028 - val_loss: 0.5301 - val_accuracy: 0.7870\n",
            "Epoch 91/100\n",
            "144/144 [==============================] - 1s 4ms/step - loss: 0.4946 - accuracy: 0.8025 - val_loss: 0.5103 - val_accuracy: 0.7948\n",
            "Epoch 92/100\n",
            "144/144 [==============================] - 1s 4ms/step - loss: 0.4910 - accuracy: 0.8039 - val_loss: 0.5089 - val_accuracy: 0.7953\n",
            "Epoch 93/100\n",
            "144/144 [==============================] - 1s 4ms/step - loss: 0.4908 - accuracy: 0.8036 - val_loss: 0.5102 - val_accuracy: 0.7938\n",
            "Epoch 94/100\n",
            "144/144 [==============================] - 1s 4ms/step - loss: 0.4886 - accuracy: 0.8049 - val_loss: 0.5206 - val_accuracy: 0.7884\n",
            "Epoch 95/100\n",
            "144/144 [==============================] - 1s 4ms/step - loss: 0.4942 - accuracy: 0.7994 - val_loss: 0.5086 - val_accuracy: 0.7958\n",
            "Epoch 96/100\n",
            "144/144 [==============================] - 1s 4ms/step - loss: 0.4885 - accuracy: 0.8047 - val_loss: 0.5128 - val_accuracy: 0.7904\n",
            "Epoch 97/100\n",
            "144/144 [==============================] - 1s 4ms/step - loss: 0.4870 - accuracy: 0.8069 - val_loss: 0.5068 - val_accuracy: 0.7943\n",
            "Epoch 98/100\n",
            "144/144 [==============================] - 1s 4ms/step - loss: 0.4861 - accuracy: 0.8054 - val_loss: 0.5122 - val_accuracy: 0.7948\n",
            "Epoch 99/100\n",
            "144/144 [==============================] - 1s 4ms/step - loss: 0.4857 - accuracy: 0.8060 - val_loss: 0.5037 - val_accuracy: 0.8002\n",
            "Epoch 100/100\n",
            "144/144 [==============================] - 1s 4ms/step - loss: 0.4851 - accuracy: 0.8067 - val_loss: 0.5121 - val_accuracy: 0.7880\n"
          ],
          "name": "stdout"
        }
      ]
    },
    {
      "cell_type": "code",
      "metadata": {
        "id": "T0s-TUuRUhk5",
        "colab": {
          "base_uri": "https://localhost:8080/",
          "height": 517
        },
        "outputId": "cd442a10-7d87-4960-c926-5f3c0f19b01a"
      },
      "source": [
        "plt.plot(hist.history['loss'])\n",
        "plt.plot(hist.history['val_loss'])\n",
        "plt.show()\n",
        "\n",
        "plt.plot(hist.history['accuracy'])\n",
        "plt.plot(hist.history['val_accuracy'])\n",
        "plt.show()"
      ],
      "execution_count": 60,
      "outputs": [
        {
          "output_type": "display_data",
          "data": {
            "image/png": "[encoded data removed]",
            "text/plain": [
              "<Figure size 432x288 with 1 Axes>"
            ]
          },
          "metadata": {
            "tags": [],
            "needs_background": "light"
          }
        },
        {
          "output_type": "display_data",
          "data": {
            "image/png": "[encoded data removed]",
            "text/plain": [
              "<Figure size 432x288 with 1 Axes>"
            ]
          },
          "metadata": {
            "tags": [],
            "needs_background": "light"
          }
        }
      ]
    },
    {
      "cell_type": "code",
      "metadata": {
        "id": "oVNELy-sUj9W",
        "colab": {
          "base_uri": "https://localhost:8080/"
        },
        "outputId": "679c8fb0-0f29-4c20-fba1-a2310def7b72"
      },
      "source": [
        "loss, acc = model.evaluate(test_x, test_y)\n",
        "print(\"loss=\",loss)\n",
        "print(\"acc=\",acc)"
      ],
      "execution_count": 61,
      "outputs": [
        {
          "output_type": "stream",
          "text": [
            "160/160 [==============================] - 0s 2ms/step - loss: 0.4923 - accuracy: 0.7945\n",
            "loss= 0.49233266711235046\n",
            "acc= 0.7944748997688293\n"
          ],
          "name": "stdout"
        }
      ]
    },
    {
      "cell_type": "code",
      "metadata": {
        "id": "9Wm7WePZKt0e",
        "outputId": "7222fe8c-7fe8-4928-d803-a81cccb05a02",
        "colab": {
          "base_uri": "https://localhost:8080/"
        }
      },
      "source": [
        "hist = model.fit(train_x, train_y, epochs=300, verbose=1, batch_size=128, validation_split=0.1)"
      ],
      "execution_count": 62,
      "outputs": [
        {
          "output_type": "stream",
          "text": [
            "Epoch 1/300\n",
            "144/144 [==============================] - 1s 5ms/step - loss: 0.4835 - accuracy: 0.8073 - val_loss: 0.5065 - val_accuracy: 0.8007\n",
            "Epoch 2/300\n",
            "144/144 [==============================] - 1s 4ms/step - loss: 0.4788 - accuracy: 0.8097 - val_loss: 0.5010 - val_accuracy: 0.8026\n",
            "Epoch 3/300\n",
            "144/144 [==============================] - 1s 4ms/step - loss: 0.4783 - accuracy: 0.8097 - val_loss: 0.5129 - val_accuracy: 0.7933\n",
            "Epoch 4/300\n",
            "144/144 [==============================] - 1s 4ms/step - loss: 0.4786 - accuracy: 0.8106 - val_loss: 0.5141 - val_accuracy: 0.7929\n",
            "Epoch 5/300\n",
            "144/144 [==============================] - 1s 4ms/step - loss: 0.4781 - accuracy: 0.8099 - val_loss: 0.5140 - val_accuracy: 0.7943\n",
            "Epoch 6/300\n",
            "144/144 [==============================] - 1s 4ms/step - loss: 0.4783 - accuracy: 0.8095 - val_loss: 0.5128 - val_accuracy: 0.7948\n",
            "Epoch 7/300\n",
            "144/144 [==============================] - 1s 4ms/step - loss: 0.4728 - accuracy: 0.8122 - val_loss: 0.4982 - val_accuracy: 0.8007\n",
            "Epoch 8/300\n",
            "144/144 [==============================] - 1s 4ms/step - loss: 0.4726 - accuracy: 0.8130 - val_loss: 0.4942 - val_accuracy: 0.8036\n",
            "Epoch 9/300\n",
            "144/144 [==============================] - 1s 4ms/step - loss: 0.4738 - accuracy: 0.8123 - val_loss: 0.4982 - val_accuracy: 0.8002\n",
            "Epoch 10/300\n",
            "144/144 [==============================] - 1s 4ms/step - loss: 0.4728 - accuracy: 0.8111 - val_loss: 0.5074 - val_accuracy: 0.7933\n",
            "Epoch 11/300\n",
            "144/144 [==============================] - 1s 4ms/step - loss: 0.4754 - accuracy: 0.8108 - val_loss: 0.4950 - val_accuracy: 0.8012\n",
            "Epoch 12/300\n",
            "144/144 [==============================] - 1s 4ms/step - loss: 0.4718 - accuracy: 0.8127 - val_loss: 0.5182 - val_accuracy: 0.7924\n",
            "Epoch 13/300\n",
            "144/144 [==============================] - 1s 4ms/step - loss: 0.4692 - accuracy: 0.8127 - val_loss: 0.4964 - val_accuracy: 0.7992\n",
            "Epoch 14/300\n",
            "144/144 [==============================] - 1s 4ms/step - loss: 0.4659 - accuracy: 0.8152 - val_loss: 0.5106 - val_accuracy: 0.7943\n",
            "Epoch 15/300\n",
            "144/144 [==============================] - 1s 4ms/step - loss: 0.4673 - accuracy: 0.8145 - val_loss: 0.4892 - val_accuracy: 0.8051\n",
            "Epoch 16/300\n",
            "144/144 [==============================] - 1s 4ms/step - loss: 0.4638 - accuracy: 0.8179 - val_loss: 0.4909 - val_accuracy: 0.8061\n",
            "Epoch 17/300\n",
            "144/144 [==============================] - 1s 4ms/step - loss: 0.4628 - accuracy: 0.8191 - val_loss: 0.4921 - val_accuracy: 0.8105\n",
            "Epoch 18/300\n",
            "144/144 [==============================] - 1s 4ms/step - loss: 0.4599 - accuracy: 0.8197 - val_loss: 0.4873 - val_accuracy: 0.8075\n",
            "Epoch 19/300\n",
            "144/144 [==============================] - 1s 4ms/step - loss: 0.4597 - accuracy: 0.8189 - val_loss: 0.4960 - val_accuracy: 0.8007\n",
            "Epoch 20/300\n",
            "144/144 [==============================] - 1s 4ms/step - loss: 0.4583 - accuracy: 0.8200 - val_loss: 0.4839 - val_accuracy: 0.8115\n",
            "Epoch 21/300\n",
            "144/144 [==============================] - 1s 4ms/step - loss: 0.4599 - accuracy: 0.8203 - val_loss: 0.4934 - val_accuracy: 0.8051\n",
            "Epoch 22/300\n",
            "144/144 [==============================] - 1s 4ms/step - loss: 0.4565 - accuracy: 0.8193 - val_loss: 0.4853 - val_accuracy: 0.8080\n",
            "Epoch 23/300\n",
            "144/144 [==============================] - 1s 4ms/step - loss: 0.4539 - accuracy: 0.8222 - val_loss: 0.4833 - val_accuracy: 0.8100\n",
            "Epoch 24/300\n",
            "144/144 [==============================] - 1s 4ms/step - loss: 0.4529 - accuracy: 0.8219 - val_loss: 0.4878 - val_accuracy: 0.8071\n",
            "Epoch 25/300\n",
            "144/144 [==============================] - 1s 4ms/step - loss: 0.4549 - accuracy: 0.8234 - val_loss: 0.4824 - val_accuracy: 0.8056\n",
            "Epoch 26/300\n",
            "144/144 [==============================] - 1s 4ms/step - loss: 0.4529 - accuracy: 0.8223 - val_loss: 0.4890 - val_accuracy: 0.8105\n",
            "Epoch 27/300\n",
            "144/144 [==============================] - 1s 4ms/step - loss: 0.4490 - accuracy: 0.8252 - val_loss: 0.4990 - val_accuracy: 0.8022\n",
            "Epoch 28/300\n",
            "144/144 [==============================] - 1s 4ms/step - loss: 0.4507 - accuracy: 0.8229 - val_loss: 0.4861 - val_accuracy: 0.8105\n",
            "Epoch 29/300\n",
            "144/144 [==============================] - 1s 4ms/step - loss: 0.4461 - accuracy: 0.8250 - val_loss: 0.4831 - val_accuracy: 0.8134\n",
            "Epoch 30/300\n",
            "144/144 [==============================] - 1s 4ms/step - loss: 0.4467 - accuracy: 0.8251 - val_loss: 0.4853 - val_accuracy: 0.8085\n",
            "Epoch 31/300\n",
            "144/144 [==============================] - 1s 4ms/step - loss: 0.4462 - accuracy: 0.8256 - val_loss: 0.4869 - val_accuracy: 0.8095\n",
            "Epoch 32/300\n",
            "144/144 [==============================] - 1s 4ms/step - loss: 0.4437 - accuracy: 0.8271 - val_loss: 0.4763 - val_accuracy: 0.8110\n",
            "Epoch 33/300\n",
            "144/144 [==============================] - 1s 4ms/step - loss: 0.4434 - accuracy: 0.8275 - val_loss: 0.4734 - val_accuracy: 0.8110\n",
            "Epoch 34/300\n",
            "144/144 [==============================] - 1s 4ms/step - loss: 0.4423 - accuracy: 0.8278 - val_loss: 0.4723 - val_accuracy: 0.8134\n",
            "Epoch 35/300\n",
            "144/144 [==============================] - 1s 4ms/step - loss: 0.4395 - accuracy: 0.8298 - val_loss: 0.4895 - val_accuracy: 0.8046\n",
            "Epoch 36/300\n",
            "144/144 [==============================] - 1s 4ms/step - loss: 0.4429 - accuracy: 0.8273 - val_loss: 0.4741 - val_accuracy: 0.8203\n",
            "Epoch 37/300\n",
            "144/144 [==============================] - 1s 4ms/step - loss: 0.4401 - accuracy: 0.8278 - val_loss: 0.4745 - val_accuracy: 0.8173\n",
            "Epoch 38/300\n",
            "144/144 [==============================] - 1s 4ms/step - loss: 0.4401 - accuracy: 0.8289 - val_loss: 0.4688 - val_accuracy: 0.8178\n",
            "Epoch 39/300\n",
            "144/144 [==============================] - 1s 4ms/step - loss: 0.4387 - accuracy: 0.8289 - val_loss: 0.4654 - val_accuracy: 0.8213\n",
            "Epoch 40/300\n",
            "144/144 [==============================] - 1s 4ms/step - loss: 0.4350 - accuracy: 0.8294 - val_loss: 0.4657 - val_accuracy: 0.8237\n",
            "Epoch 41/300\n",
            "144/144 [==============================] - 1s 4ms/step - loss: 0.4365 - accuracy: 0.8295 - val_loss: 0.4772 - val_accuracy: 0.8105\n",
            "Epoch 42/300\n",
            "144/144 [==============================] - 1s 4ms/step - loss: 0.4336 - accuracy: 0.8305 - val_loss: 0.4718 - val_accuracy: 0.8154\n",
            "Epoch 43/300\n",
            "144/144 [==============================] - 1s 4ms/step - loss: 0.4350 - accuracy: 0.8303 - val_loss: 0.4626 - val_accuracy: 0.8242\n",
            "Epoch 44/300\n",
            "144/144 [==============================] - 1s 4ms/step - loss: 0.4332 - accuracy: 0.8317 - val_loss: 0.4618 - val_accuracy: 0.8262\n",
            "Epoch 45/300\n",
            "144/144 [==============================] - 1s 4ms/step - loss: 0.4317 - accuracy: 0.8307 - val_loss: 0.4625 - val_accuracy: 0.8198\n",
            "Epoch 46/300\n",
            "144/144 [==============================] - 1s 4ms/step - loss: 0.4297 - accuracy: 0.8329 - val_loss: 0.4750 - val_accuracy: 0.8168\n",
            "Epoch 47/300\n",
            "144/144 [==============================] - 1s 4ms/step - loss: 0.4273 - accuracy: 0.8342 - val_loss: 0.4665 - val_accuracy: 0.8227\n",
            "Epoch 48/300\n",
            "144/144 [==============================] - 1s 4ms/step - loss: 0.4282 - accuracy: 0.8335 - val_loss: 0.4618 - val_accuracy: 0.8217\n",
            "Epoch 49/300\n",
            "144/144 [==============================] - 1s 4ms/step - loss: 0.4269 - accuracy: 0.8330 - val_loss: 0.4707 - val_accuracy: 0.8227\n",
            "Epoch 50/300\n",
            "144/144 [==============================] - 1s 4ms/step - loss: 0.4277 - accuracy: 0.8349 - val_loss: 0.4583 - val_accuracy: 0.8252\n",
            "Epoch 51/300\n",
            "144/144 [==============================] - 1s 4ms/step - loss: 0.4247 - accuracy: 0.8340 - val_loss: 0.4710 - val_accuracy: 0.8198\n",
            "Epoch 52/300\n",
            "144/144 [==============================] - 1s 4ms/step - loss: 0.4242 - accuracy: 0.8363 - val_loss: 0.4749 - val_accuracy: 0.8139\n",
            "Epoch 53/300\n",
            "144/144 [==============================] - 1s 4ms/step - loss: 0.4250 - accuracy: 0.8321 - val_loss: 0.4724 - val_accuracy: 0.8129\n",
            "Epoch 54/300\n",
            "144/144 [==============================] - 1s 4ms/step - loss: 0.4246 - accuracy: 0.8339 - val_loss: 0.4559 - val_accuracy: 0.8217\n",
            "Epoch 55/300\n",
            "144/144 [==============================] - 1s 4ms/step - loss: 0.4217 - accuracy: 0.8362 - val_loss: 0.4570 - val_accuracy: 0.8271\n",
            "Epoch 56/300\n",
            "144/144 [==============================] - 1s 4ms/step - loss: 0.4184 - accuracy: 0.8385 - val_loss: 0.4536 - val_accuracy: 0.8242\n",
            "Epoch 57/300\n",
            "144/144 [==============================] - 1s 4ms/step - loss: 0.4218 - accuracy: 0.8344 - val_loss: 0.4680 - val_accuracy: 0.8222\n",
            "Epoch 58/300\n",
            "144/144 [==============================] - 1s 4ms/step - loss: 0.4221 - accuracy: 0.8350 - val_loss: 0.4618 - val_accuracy: 0.8276\n",
            "Epoch 59/300\n",
            "144/144 [==============================] - 1s 4ms/step - loss: 0.4198 - accuracy: 0.8351 - val_loss: 0.4533 - val_accuracy: 0.8262\n",
            "Epoch 60/300\n",
            "144/144 [==============================] - 1s 4ms/step - loss: 0.4196 - accuracy: 0.8364 - val_loss: 0.4550 - val_accuracy: 0.8247\n",
            "Epoch 61/300\n",
            "144/144 [==============================] - 1s 4ms/step - loss: 0.4194 - accuracy: 0.8355 - val_loss: 0.4545 - val_accuracy: 0.8213\n",
            "Epoch 62/300\n",
            "144/144 [==============================] - 1s 4ms/step - loss: 0.4148 - accuracy: 0.8391 - val_loss: 0.4528 - val_accuracy: 0.8257\n",
            "Epoch 63/300\n",
            "144/144 [==============================] - 1s 4ms/step - loss: 0.4171 - accuracy: 0.8376 - val_loss: 0.4584 - val_accuracy: 0.8203\n",
            "Epoch 64/300\n",
            "144/144 [==============================] - 1s 4ms/step - loss: 0.4187 - accuracy: 0.8395 - val_loss: 0.4525 - val_accuracy: 0.8247\n",
            "Epoch 65/300\n",
            "144/144 [==============================] - 1s 4ms/step - loss: 0.4147 - accuracy: 0.8373 - val_loss: 0.4597 - val_accuracy: 0.8247\n",
            "Epoch 66/300\n",
            "144/144 [==============================] - 1s 4ms/step - loss: 0.4166 - accuracy: 0.8389 - val_loss: 0.4642 - val_accuracy: 0.8198\n",
            "Epoch 67/300\n",
            "144/144 [==============================] - 1s 4ms/step - loss: 0.4130 - accuracy: 0.8401 - val_loss: 0.4546 - val_accuracy: 0.8257\n",
            "Epoch 68/300\n",
            "144/144 [==============================] - 1s 4ms/step - loss: 0.4115 - accuracy: 0.8383 - val_loss: 0.4502 - val_accuracy: 0.8237\n",
            "Epoch 69/300\n",
            "144/144 [==============================] - 1s 4ms/step - loss: 0.4138 - accuracy: 0.8382 - val_loss: 0.4481 - val_accuracy: 0.8286\n",
            "Epoch 70/300\n",
            "144/144 [==============================] - 1s 4ms/step - loss: 0.4088 - accuracy: 0.8411 - val_loss: 0.4607 - val_accuracy: 0.8237\n",
            "Epoch 71/300\n",
            "144/144 [==============================] - 1s 4ms/step - loss: 0.4106 - accuracy: 0.8389 - val_loss: 0.4508 - val_accuracy: 0.8306\n",
            "Epoch 72/300\n",
            "144/144 [==============================] - 1s 4ms/step - loss: 0.4081 - accuracy: 0.8409 - val_loss: 0.4533 - val_accuracy: 0.8242\n",
            "Epoch 73/300\n",
            "144/144 [==============================] - 1s 4ms/step - loss: 0.4078 - accuracy: 0.8415 - val_loss: 0.4463 - val_accuracy: 0.8266\n",
            "Epoch 74/300\n",
            "144/144 [==============================] - 1s 4ms/step - loss: 0.4060 - accuracy: 0.8433 - val_loss: 0.4546 - val_accuracy: 0.8227\n",
            "Epoch 75/300\n",
            "144/144 [==============================] - 1s 4ms/step - loss: 0.4066 - accuracy: 0.8418 - val_loss: 0.4472 - val_accuracy: 0.8301\n",
            "Epoch 76/300\n",
            "144/144 [==============================] - 1s 4ms/step - loss: 0.4059 - accuracy: 0.8426 - val_loss: 0.4453 - val_accuracy: 0.8301\n",
            "Epoch 77/300\n",
            "144/144 [==============================] - 1s 4ms/step - loss: 0.4056 - accuracy: 0.8413 - val_loss: 0.4497 - val_accuracy: 0.8252\n",
            "Epoch 78/300\n",
            "144/144 [==============================] - 1s 4ms/step - loss: 0.4044 - accuracy: 0.8425 - val_loss: 0.4416 - val_accuracy: 0.8320\n",
            "Epoch 79/300\n",
            "144/144 [==============================] - 1s 4ms/step - loss: 0.4036 - accuracy: 0.8448 - val_loss: 0.4483 - val_accuracy: 0.8306\n",
            "Epoch 80/300\n",
            "144/144 [==============================] - 1s 4ms/step - loss: 0.4029 - accuracy: 0.8424 - val_loss: 0.4396 - val_accuracy: 0.8325\n",
            "Epoch 81/300\n",
            "144/144 [==============================] - 1s 4ms/step - loss: 0.4013 - accuracy: 0.8428 - val_loss: 0.4436 - val_accuracy: 0.8315\n",
            "Epoch 82/300\n",
            "144/144 [==============================] - 1s 4ms/step - loss: 0.4049 - accuracy: 0.8406 - val_loss: 0.4381 - val_accuracy: 0.8330\n",
            "Epoch 83/300\n",
            "144/144 [==============================] - 1s 4ms/step - loss: 0.3993 - accuracy: 0.8452 - val_loss: 0.4683 - val_accuracy: 0.8183\n",
            "Epoch 84/300\n",
            "144/144 [==============================] - 1s 4ms/step - loss: 0.4034 - accuracy: 0.8410 - val_loss: 0.4420 - val_accuracy: 0.8335\n",
            "Epoch 85/300\n",
            "144/144 [==============================] - 1s 4ms/step - loss: 0.4019 - accuracy: 0.8431 - val_loss: 0.4375 - val_accuracy: 0.8355\n",
            "Epoch 86/300\n",
            "144/144 [==============================] - 1s 4ms/step - loss: 0.4012 - accuracy: 0.8425 - val_loss: 0.4428 - val_accuracy: 0.8335\n",
            "Epoch 87/300\n",
            "144/144 [==============================] - 1s 4ms/step - loss: 0.3979 - accuracy: 0.8449 - val_loss: 0.4503 - val_accuracy: 0.8271\n",
            "Epoch 88/300\n",
            "144/144 [==============================] - 1s 4ms/step - loss: 0.3991 - accuracy: 0.8472 - val_loss: 0.4400 - val_accuracy: 0.8310\n",
            "Epoch 89/300\n",
            "144/144 [==============================] - 1s 4ms/step - loss: 0.3985 - accuracy: 0.8436 - val_loss: 0.4416 - val_accuracy: 0.8325\n",
            "Epoch 90/300\n",
            "144/144 [==============================] - 1s 4ms/step - loss: 0.3977 - accuracy: 0.8426 - val_loss: 0.4335 - val_accuracy: 0.8369\n",
            "Epoch 91/300\n",
            "144/144 [==============================] - 1s 4ms/step - loss: 0.3950 - accuracy: 0.8465 - val_loss: 0.4344 - val_accuracy: 0.8364\n",
            "Epoch 92/300\n",
            "144/144 [==============================] - 1s 4ms/step - loss: 0.3955 - accuracy: 0.8457 - val_loss: 0.4361 - val_accuracy: 0.8374\n",
            "Epoch 93/300\n",
            "144/144 [==============================] - 1s 4ms/step - loss: 0.3955 - accuracy: 0.8462 - val_loss: 0.4330 - val_accuracy: 0.8359\n",
            "Epoch 94/300\n",
            "144/144 [==============================] - 1s 4ms/step - loss: 0.3936 - accuracy: 0.8473 - val_loss: 0.4370 - val_accuracy: 0.8340\n",
            "Epoch 95/300\n",
            "144/144 [==============================] - 1s 4ms/step - loss: 0.3919 - accuracy: 0.8466 - val_loss: 0.4351 - val_accuracy: 0.8359\n",
            "Epoch 96/300\n",
            "144/144 [==============================] - 1s 4ms/step - loss: 0.3973 - accuracy: 0.8448 - val_loss: 0.4477 - val_accuracy: 0.8281\n",
            "Epoch 97/300\n",
            "144/144 [==============================] - 1s 4ms/step - loss: 0.3956 - accuracy: 0.8446 - val_loss: 0.4355 - val_accuracy: 0.8364\n",
            "Epoch 98/300\n",
            "144/144 [==============================] - 1s 4ms/step - loss: 0.3920 - accuracy: 0.8464 - val_loss: 0.4290 - val_accuracy: 0.8340\n",
            "Epoch 99/300\n",
            "144/144 [==============================] - 1s 4ms/step - loss: 0.3896 - accuracy: 0.8499 - val_loss: 0.4422 - val_accuracy: 0.8345\n",
            "Epoch 100/300\n",
            "144/144 [==============================] - 1s 4ms/step - loss: 0.3918 - accuracy: 0.8478 - val_loss: 0.4300 - val_accuracy: 0.8374\n",
            "Epoch 101/300\n",
            "144/144 [==============================] - 1s 4ms/step - loss: 0.3904 - accuracy: 0.8478 - val_loss: 0.4401 - val_accuracy: 0.8330\n",
            "Epoch 102/300\n",
            "144/144 [==============================] - 1s 4ms/step - loss: 0.3882 - accuracy: 0.8493 - val_loss: 0.4319 - val_accuracy: 0.8404\n",
            "Epoch 103/300\n",
            "144/144 [==============================] - 1s 4ms/step - loss: 0.3883 - accuracy: 0.8489 - val_loss: 0.4285 - val_accuracy: 0.8399\n",
            "Epoch 104/300\n",
            "144/144 [==============================] - 1s 4ms/step - loss: 0.3870 - accuracy: 0.8507 - val_loss: 0.4270 - val_accuracy: 0.8364\n",
            "Epoch 105/300\n",
            "144/144 [==============================] - 1s 4ms/step - loss: 0.3870 - accuracy: 0.8495 - val_loss: 0.4320 - val_accuracy: 0.8364\n",
            "Epoch 106/300\n",
            "144/144 [==============================] - 1s 4ms/step - loss: 0.3851 - accuracy: 0.8484 - val_loss: 0.4361 - val_accuracy: 0.8325\n",
            "Epoch 107/300\n",
            "144/144 [==============================] - 1s 4ms/step - loss: 0.3860 - accuracy: 0.8505 - val_loss: 0.4317 - val_accuracy: 0.8408\n",
            "Epoch 108/300\n",
            "144/144 [==============================] - 1s 4ms/step - loss: 0.3837 - accuracy: 0.8506 - val_loss: 0.4267 - val_accuracy: 0.8369\n",
            "Epoch 109/300\n",
            "144/144 [==============================] - 1s 4ms/step - loss: 0.3862 - accuracy: 0.8501 - val_loss: 0.4335 - val_accuracy: 0.8359\n",
            "Epoch 110/300\n",
            "144/144 [==============================] - 1s 4ms/step - loss: 0.3858 - accuracy: 0.8508 - val_loss: 0.4285 - val_accuracy: 0.8379\n",
            "Epoch 111/300\n",
            "144/144 [==============================] - 1s 4ms/step - loss: 0.3824 - accuracy: 0.8508 - val_loss: 0.4274 - val_accuracy: 0.8399\n",
            "Epoch 112/300\n",
            "144/144 [==============================] - 1s 4ms/step - loss: 0.3872 - accuracy: 0.8505 - val_loss: 0.4395 - val_accuracy: 0.8355\n",
            "Epoch 113/300\n",
            "144/144 [==============================] - 1s 4ms/step - loss: 0.3874 - accuracy: 0.8489 - val_loss: 0.4276 - val_accuracy: 0.8369\n",
            "Epoch 114/300\n",
            "144/144 [==============================] - 1s 4ms/step - loss: 0.3818 - accuracy: 0.8510 - val_loss: 0.4239 - val_accuracy: 0.8384\n",
            "Epoch 115/300\n",
            "144/144 [==============================] - 1s 4ms/step - loss: 0.3832 - accuracy: 0.8503 - val_loss: 0.4244 - val_accuracy: 0.8389\n",
            "Epoch 116/300\n",
            "144/144 [==============================] - 1s 4ms/step - loss: 0.3833 - accuracy: 0.8500 - val_loss: 0.4331 - val_accuracy: 0.8399\n",
            "Epoch 117/300\n",
            "144/144 [==============================] - 1s 4ms/step - loss: 0.3816 - accuracy: 0.8526 - val_loss: 0.4225 - val_accuracy: 0.8379\n",
            "Epoch 118/300\n",
            "144/144 [==============================] - 1s 4ms/step - loss: 0.3785 - accuracy: 0.8518 - val_loss: 0.4290 - val_accuracy: 0.8340\n",
            "Epoch 119/300\n",
            "144/144 [==============================] - 1s 4ms/step - loss: 0.3818 - accuracy: 0.8505 - val_loss: 0.4329 - val_accuracy: 0.8345\n",
            "Epoch 120/300\n",
            "144/144 [==============================] - 1s 4ms/step - loss: 0.3791 - accuracy: 0.8527 - val_loss: 0.4271 - val_accuracy: 0.8413\n",
            "Epoch 121/300\n",
            "144/144 [==============================] - 1s 4ms/step - loss: 0.3775 - accuracy: 0.8535 - val_loss: 0.4332 - val_accuracy: 0.8374\n",
            "Epoch 122/300\n",
            "144/144 [==============================] - 1s 4ms/step - loss: 0.3826 - accuracy: 0.8515 - val_loss: 0.4286 - val_accuracy: 0.8369\n",
            "Epoch 123/300\n",
            "144/144 [==============================] - 1s 4ms/step - loss: 0.3814 - accuracy: 0.8507 - val_loss: 0.4428 - val_accuracy: 0.8301\n",
            "Epoch 124/300\n",
            "144/144 [==============================] - 1s 4ms/step - loss: 0.3798 - accuracy: 0.8520 - val_loss: 0.4217 - val_accuracy: 0.8399\n",
            "Epoch 125/300\n",
            "144/144 [==============================] - 1s 4ms/step - loss: 0.3759 - accuracy: 0.8543 - val_loss: 0.4220 - val_accuracy: 0.8423\n",
            "Epoch 126/300\n",
            "144/144 [==============================] - 1s 4ms/step - loss: 0.3758 - accuracy: 0.8546 - val_loss: 0.4387 - val_accuracy: 0.8369\n",
            "Epoch 127/300\n",
            "144/144 [==============================] - 1s 4ms/step - loss: 0.3740 - accuracy: 0.8546 - val_loss: 0.4231 - val_accuracy: 0.8404\n",
            "Epoch 128/300\n",
            "144/144 [==============================] - 1s 4ms/step - loss: 0.3776 - accuracy: 0.8532 - val_loss: 0.4326 - val_accuracy: 0.8355\n",
            "Epoch 129/300\n",
            "144/144 [==============================] - 1s 4ms/step - loss: 0.3750 - accuracy: 0.8544 - val_loss: 0.4194 - val_accuracy: 0.8452\n",
            "Epoch 130/300\n",
            "144/144 [==============================] - 1s 4ms/step - loss: 0.3752 - accuracy: 0.8548 - val_loss: 0.4627 - val_accuracy: 0.8217\n",
            "Epoch 131/300\n",
            "144/144 [==============================] - 1s 4ms/step - loss: 0.3754 - accuracy: 0.8519 - val_loss: 0.4545 - val_accuracy: 0.8262\n",
            "Epoch 132/300\n",
            "144/144 [==============================] - 1s 4ms/step - loss: 0.3762 - accuracy: 0.8530 - val_loss: 0.4184 - val_accuracy: 0.8472\n",
            "Epoch 133/300\n",
            "144/144 [==============================] - 1s 4ms/step - loss: 0.3731 - accuracy: 0.8549 - val_loss: 0.4239 - val_accuracy: 0.8413\n",
            "Epoch 134/300\n",
            "144/144 [==============================] - 1s 4ms/step - loss: 0.3754 - accuracy: 0.8522 - val_loss: 0.4179 - val_accuracy: 0.8462\n",
            "Epoch 135/300\n",
            "144/144 [==============================] - 1s 4ms/step - loss: 0.3771 - accuracy: 0.8536 - val_loss: 0.4160 - val_accuracy: 0.8448\n",
            "Epoch 136/300\n",
            "144/144 [==============================] - 1s 4ms/step - loss: 0.3732 - accuracy: 0.8551 - val_loss: 0.4258 - val_accuracy: 0.8325\n",
            "Epoch 137/300\n",
            "144/144 [==============================] - 1s 4ms/step - loss: 0.3724 - accuracy: 0.8539 - val_loss: 0.4289 - val_accuracy: 0.8310\n",
            "Epoch 138/300\n",
            "144/144 [==============================] - 1s 4ms/step - loss: 0.3704 - accuracy: 0.8565 - val_loss: 0.4155 - val_accuracy: 0.8452\n",
            "Epoch 139/300\n",
            "144/144 [==============================] - 1s 4ms/step - loss: 0.3706 - accuracy: 0.8561 - val_loss: 0.4299 - val_accuracy: 0.8374\n",
            "Epoch 140/300\n",
            "144/144 [==============================] - 1s 4ms/step - loss: 0.3698 - accuracy: 0.8573 - val_loss: 0.4180 - val_accuracy: 0.8408\n",
            "Epoch 141/300\n",
            "144/144 [==============================] - 1s 4ms/step - loss: 0.3695 - accuracy: 0.8567 - val_loss: 0.4143 - val_accuracy: 0.8462\n",
            "Epoch 142/300\n",
            "144/144 [==============================] - 1s 4ms/step - loss: 0.3686 - accuracy: 0.8570 - val_loss: 0.4225 - val_accuracy: 0.8448\n",
            "Epoch 143/300\n",
            "144/144 [==============================] - 1s 4ms/step - loss: 0.3681 - accuracy: 0.8569 - val_loss: 0.4239 - val_accuracy: 0.8443\n",
            "Epoch 144/300\n",
            "144/144 [==============================] - 1s 4ms/step - loss: 0.3668 - accuracy: 0.8585 - val_loss: 0.4226 - val_accuracy: 0.8448\n",
            "Epoch 145/300\n",
            "144/144 [==============================] - 1s 4ms/step - loss: 0.3678 - accuracy: 0.8560 - val_loss: 0.4140 - val_accuracy: 0.8433\n",
            "Epoch 146/300\n",
            "144/144 [==============================] - 1s 4ms/step - loss: 0.3651 - accuracy: 0.8565 - val_loss: 0.4235 - val_accuracy: 0.8374\n",
            "Epoch 147/300\n",
            "144/144 [==============================] - 1s 4ms/step - loss: 0.3677 - accuracy: 0.8570 - val_loss: 0.4606 - val_accuracy: 0.8193\n",
            "Epoch 148/300\n",
            "144/144 [==============================] - 1s 4ms/step - loss: 0.3726 - accuracy: 0.8546 - val_loss: 0.4215 - val_accuracy: 0.8452\n",
            "Epoch 149/300\n",
            "144/144 [==============================] - 1s 4ms/step - loss: 0.3656 - accuracy: 0.8572 - val_loss: 0.4206 - val_accuracy: 0.8433\n",
            "Epoch 150/300\n",
            "144/144 [==============================] - 1s 4ms/step - loss: 0.3641 - accuracy: 0.8575 - val_loss: 0.4327 - val_accuracy: 0.8423\n",
            "Epoch 151/300\n",
            "144/144 [==============================] - 1s 4ms/step - loss: 0.3667 - accuracy: 0.8581 - val_loss: 0.4149 - val_accuracy: 0.8497\n",
            "Epoch 152/300\n",
            "144/144 [==============================] - 1s 4ms/step - loss: 0.3655 - accuracy: 0.8578 - val_loss: 0.4147 - val_accuracy: 0.8462\n",
            "Epoch 153/300\n",
            "144/144 [==============================] - 1s 4ms/step - loss: 0.3681 - accuracy: 0.8577 - val_loss: 0.4366 - val_accuracy: 0.8330\n",
            "Epoch 154/300\n",
            "144/144 [==============================] - 1s 4ms/step - loss: 0.3639 - accuracy: 0.8578 - val_loss: 0.4154 - val_accuracy: 0.8452\n",
            "Epoch 155/300\n",
            "144/144 [==============================] - 1s 4ms/step - loss: 0.3622 - accuracy: 0.8577 - val_loss: 0.4108 - val_accuracy: 0.8506\n",
            "Epoch 156/300\n",
            "144/144 [==============================] - 1s 4ms/step - loss: 0.3668 - accuracy: 0.8569 - val_loss: 0.4153 - val_accuracy: 0.8467\n",
            "Epoch 157/300\n",
            "144/144 [==============================] - 1s 4ms/step - loss: 0.3616 - accuracy: 0.8598 - val_loss: 0.4195 - val_accuracy: 0.8443\n",
            "Epoch 158/300\n",
            "144/144 [==============================] - 1s 4ms/step - loss: 0.3650 - accuracy: 0.8551 - val_loss: 0.4178 - val_accuracy: 0.8364\n",
            "Epoch 159/300\n",
            "144/144 [==============================] - 1s 4ms/step - loss: 0.3604 - accuracy: 0.8579 - val_loss: 0.4143 - val_accuracy: 0.8438\n",
            "Epoch 160/300\n",
            "144/144 [==============================] - 1s 4ms/step - loss: 0.3610 - accuracy: 0.8597 - val_loss: 0.4096 - val_accuracy: 0.8482\n",
            "Epoch 161/300\n",
            "144/144 [==============================] - 1s 4ms/step - loss: 0.3585 - accuracy: 0.8598 - val_loss: 0.4192 - val_accuracy: 0.8433\n",
            "Epoch 162/300\n",
            "144/144 [==============================] - 1s 4ms/step - loss: 0.3634 - accuracy: 0.8604 - val_loss: 0.4125 - val_accuracy: 0.8448\n",
            "Epoch 163/300\n",
            "144/144 [==============================] - 1s 4ms/step - loss: 0.3600 - accuracy: 0.8590 - val_loss: 0.4175 - val_accuracy: 0.8428\n",
            "Epoch 164/300\n",
            "144/144 [==============================] - 1s 4ms/step - loss: 0.3593 - accuracy: 0.8602 - val_loss: 0.4080 - val_accuracy: 0.8477\n",
            "Epoch 165/300\n",
            "144/144 [==============================] - 1s 4ms/step - loss: 0.3585 - accuracy: 0.8604 - val_loss: 0.4126 - val_accuracy: 0.8433\n",
            "Epoch 166/300\n",
            "144/144 [==============================] - 1s 4ms/step - loss: 0.3584 - accuracy: 0.8619 - val_loss: 0.4151 - val_accuracy: 0.8433\n",
            "Epoch 167/300\n",
            "144/144 [==============================] - 1s 4ms/step - loss: 0.3574 - accuracy: 0.8615 - val_loss: 0.4077 - val_accuracy: 0.8482\n",
            "Epoch 168/300\n",
            "144/144 [==============================] - 1s 4ms/step - loss: 0.3564 - accuracy: 0.8607 - val_loss: 0.4062 - val_accuracy: 0.8482\n",
            "Epoch 169/300\n",
            "144/144 [==============================] - 1s 4ms/step - loss: 0.3584 - accuracy: 0.8612 - val_loss: 0.4115 - val_accuracy: 0.8452\n",
            "Epoch 170/300\n",
            "144/144 [==============================] - 1s 4ms/step - loss: 0.3588 - accuracy: 0.8600 - val_loss: 0.4155 - val_accuracy: 0.8428\n",
            "Epoch 171/300\n",
            "144/144 [==============================] - 1s 4ms/step - loss: 0.3564 - accuracy: 0.8618 - val_loss: 0.4100 - val_accuracy: 0.8482\n",
            "Epoch 172/300\n",
            "144/144 [==============================] - 1s 4ms/step - loss: 0.3579 - accuracy: 0.8598 - val_loss: 0.4158 - val_accuracy: 0.8462\n",
            "Epoch 173/300\n",
            "144/144 [==============================] - 1s 4ms/step - loss: 0.3538 - accuracy: 0.8622 - val_loss: 0.4104 - val_accuracy: 0.8448\n",
            "Epoch 174/300\n",
            "144/144 [==============================] - 1s 4ms/step - loss: 0.3579 - accuracy: 0.8604 - val_loss: 0.4316 - val_accuracy: 0.8404\n",
            "Epoch 175/300\n",
            "144/144 [==============================] - 1s 4ms/step - loss: 0.3561 - accuracy: 0.8611 - val_loss: 0.4061 - val_accuracy: 0.8472\n",
            "Epoch 176/300\n",
            "144/144 [==============================] - 1s 4ms/step - loss: 0.3546 - accuracy: 0.8615 - val_loss: 0.4205 - val_accuracy: 0.8369\n",
            "Epoch 177/300\n",
            "144/144 [==============================] - 1s 4ms/step - loss: 0.3580 - accuracy: 0.8600 - val_loss: 0.4299 - val_accuracy: 0.8369\n",
            "Epoch 178/300\n",
            "144/144 [==============================] - 1s 4ms/step - loss: 0.3602 - accuracy: 0.8604 - val_loss: 0.4345 - val_accuracy: 0.8315\n",
            "Epoch 179/300\n",
            "144/144 [==============================] - 1s 4ms/step - loss: 0.3516 - accuracy: 0.8641 - val_loss: 0.4208 - val_accuracy: 0.8394\n",
            "Epoch 180/300\n",
            "144/144 [==============================] - 1s 4ms/step - loss: 0.3570 - accuracy: 0.8596 - val_loss: 0.4073 - val_accuracy: 0.8462\n",
            "Epoch 181/300\n",
            "144/144 [==============================] - 1s 4ms/step - loss: 0.3515 - accuracy: 0.8641 - val_loss: 0.4147 - val_accuracy: 0.8448\n",
            "Epoch 182/300\n",
            "144/144 [==============================] - 1s 4ms/step - loss: 0.3536 - accuracy: 0.8627 - val_loss: 0.4178 - val_accuracy: 0.8418\n",
            "Epoch 183/300\n",
            "144/144 [==============================] - 1s 4ms/step - loss: 0.3491 - accuracy: 0.8654 - val_loss: 0.4156 - val_accuracy: 0.8477\n",
            "Epoch 184/300\n",
            "144/144 [==============================] - 1s 4ms/step - loss: 0.3533 - accuracy: 0.8626 - val_loss: 0.4092 - val_accuracy: 0.8477\n",
            "Epoch 185/300\n",
            "144/144 [==============================] - 1s 4ms/step - loss: 0.3543 - accuracy: 0.8618 - val_loss: 0.4114 - val_accuracy: 0.8433\n",
            "Epoch 186/300\n",
            "144/144 [==============================] - 1s 4ms/step - loss: 0.3519 - accuracy: 0.8638 - val_loss: 0.4065 - val_accuracy: 0.8501\n",
            "Epoch 187/300\n",
            "144/144 [==============================] - 1s 4ms/step - loss: 0.3480 - accuracy: 0.8628 - val_loss: 0.4046 - val_accuracy: 0.8501\n",
            "Epoch 188/300\n",
            "144/144 [==============================] - 1s 4ms/step - loss: 0.3513 - accuracy: 0.8636 - val_loss: 0.4214 - val_accuracy: 0.8423\n",
            "Epoch 189/300\n",
            "144/144 [==============================] - 1s 4ms/step - loss: 0.3510 - accuracy: 0.8635 - val_loss: 0.4081 - val_accuracy: 0.8497\n",
            "Epoch 190/300\n",
            "144/144 [==============================] - 1s 4ms/step - loss: 0.3499 - accuracy: 0.8633 - val_loss: 0.4225 - val_accuracy: 0.8399\n",
            "Epoch 191/300\n",
            "144/144 [==============================] - 1s 4ms/step - loss: 0.3489 - accuracy: 0.8657 - val_loss: 0.4034 - val_accuracy: 0.8477\n",
            "Epoch 192/300\n",
            "144/144 [==============================] - 1s 4ms/step - loss: 0.3470 - accuracy: 0.8649 - val_loss: 0.4142 - val_accuracy: 0.8423\n",
            "Epoch 193/300\n",
            "144/144 [==============================] - 1s 4ms/step - loss: 0.3521 - accuracy: 0.8620 - val_loss: 0.4071 - val_accuracy: 0.8492\n",
            "Epoch 194/300\n",
            "144/144 [==============================] - 1s 4ms/step - loss: 0.3488 - accuracy: 0.8633 - val_loss: 0.4308 - val_accuracy: 0.8325\n",
            "Epoch 195/300\n",
            "144/144 [==============================] - 1s 4ms/step - loss: 0.3463 - accuracy: 0.8666 - val_loss: 0.4027 - val_accuracy: 0.8516\n",
            "Epoch 196/300\n",
            "144/144 [==============================] - 1s 4ms/step - loss: 0.3459 - accuracy: 0.8644 - val_loss: 0.4177 - val_accuracy: 0.8467\n",
            "Epoch 197/300\n",
            "144/144 [==============================] - 1s 4ms/step - loss: 0.3463 - accuracy: 0.8651 - val_loss: 0.4064 - val_accuracy: 0.8487\n",
            "Epoch 198/300\n",
            "144/144 [==============================] - 1s 4ms/step - loss: 0.3443 - accuracy: 0.8652 - val_loss: 0.4102 - val_accuracy: 0.8482\n",
            "Epoch 199/300\n",
            "144/144 [==============================] - 1s 4ms/step - loss: 0.3424 - accuracy: 0.8668 - val_loss: 0.4019 - val_accuracy: 0.8521\n",
            "Epoch 200/300\n",
            "144/144 [==============================] - 1s 4ms/step - loss: 0.3458 - accuracy: 0.8660 - val_loss: 0.4181 - val_accuracy: 0.8389\n",
            "Epoch 201/300\n",
            "144/144 [==============================] - 1s 4ms/step - loss: 0.3452 - accuracy: 0.8658 - val_loss: 0.3978 - val_accuracy: 0.8511\n",
            "Epoch 202/300\n",
            "144/144 [==============================] - 1s 4ms/step - loss: 0.3430 - accuracy: 0.8672 - val_loss: 0.4010 - val_accuracy: 0.8511\n",
            "Epoch 203/300\n",
            "144/144 [==============================] - 1s 4ms/step - loss: 0.3438 - accuracy: 0.8648 - val_loss: 0.4022 - val_accuracy: 0.8501\n",
            "Epoch 204/300\n",
            "144/144 [==============================] - 1s 4ms/step - loss: 0.3492 - accuracy: 0.8639 - val_loss: 0.4059 - val_accuracy: 0.8497\n",
            "Epoch 205/300\n",
            "144/144 [==============================] - 1s 4ms/step - loss: 0.3448 - accuracy: 0.8664 - val_loss: 0.4096 - val_accuracy: 0.8448\n",
            "Epoch 206/300\n",
            "144/144 [==============================] - 1s 4ms/step - loss: 0.3432 - accuracy: 0.8671 - val_loss: 0.4000 - val_accuracy: 0.8511\n",
            "Epoch 207/300\n",
            "144/144 [==============================] - 1s 4ms/step - loss: 0.3451 - accuracy: 0.8660 - val_loss: 0.4002 - val_accuracy: 0.8516\n",
            "Epoch 208/300\n",
            "144/144 [==============================] - 1s 4ms/step - loss: 0.3409 - accuracy: 0.8689 - val_loss: 0.4075 - val_accuracy: 0.8501\n",
            "Epoch 209/300\n",
            "144/144 [==============================] - 1s 4ms/step - loss: 0.3438 - accuracy: 0.8662 - val_loss: 0.4306 - val_accuracy: 0.8399\n",
            "Epoch 210/300\n",
            "144/144 [==============================] - 1s 4ms/step - loss: 0.3446 - accuracy: 0.8635 - val_loss: 0.4068 - val_accuracy: 0.8492\n",
            "Epoch 211/300\n",
            "144/144 [==============================] - 1s 4ms/step - loss: 0.3391 - accuracy: 0.8701 - val_loss: 0.3993 - val_accuracy: 0.8516\n",
            "Epoch 212/300\n",
            "144/144 [==============================] - 1s 4ms/step - loss: 0.3414 - accuracy: 0.8655 - val_loss: 0.3998 - val_accuracy: 0.8536\n",
            "Epoch 213/300\n",
            "144/144 [==============================] - 1s 4ms/step - loss: 0.3393 - accuracy: 0.8670 - val_loss: 0.4084 - val_accuracy: 0.8433\n",
            "Epoch 214/300\n",
            "144/144 [==============================] - 1s 4ms/step - loss: 0.3387 - accuracy: 0.8680 - val_loss: 0.4030 - val_accuracy: 0.8497\n",
            "Epoch 215/300\n",
            "144/144 [==============================] - 1s 4ms/step - loss: 0.3386 - accuracy: 0.8688 - val_loss: 0.4074 - val_accuracy: 0.8477\n",
            "Epoch 216/300\n",
            "144/144 [==============================] - 1s 4ms/step - loss: 0.3408 - accuracy: 0.8655 - val_loss: 0.3978 - val_accuracy: 0.8501\n",
            "Epoch 217/300\n",
            "144/144 [==============================] - 1s 4ms/step - loss: 0.3388 - accuracy: 0.8686 - val_loss: 0.4084 - val_accuracy: 0.8423\n",
            "Epoch 218/300\n",
            "144/144 [==============================] - 1s 4ms/step - loss: 0.3363 - accuracy: 0.8688 - val_loss: 0.3968 - val_accuracy: 0.8501\n",
            "Epoch 219/300\n",
            "144/144 [==============================] - 1s 4ms/step - loss: 0.3420 - accuracy: 0.8656 - val_loss: 0.4074 - val_accuracy: 0.8477\n",
            "Epoch 220/300\n",
            "144/144 [==============================] - 1s 4ms/step - loss: 0.3404 - accuracy: 0.8672 - val_loss: 0.4298 - val_accuracy: 0.8359\n",
            "Epoch 221/300\n",
            "144/144 [==============================] - 1s 4ms/step - loss: 0.3401 - accuracy: 0.8684 - val_loss: 0.4020 - val_accuracy: 0.8501\n",
            "Epoch 222/300\n",
            "144/144 [==============================] - 1s 4ms/step - loss: 0.3355 - accuracy: 0.8700 - val_loss: 0.3999 - val_accuracy: 0.8501\n",
            "Epoch 223/300\n",
            "144/144 [==============================] - 1s 4ms/step - loss: 0.3373 - accuracy: 0.8683 - val_loss: 0.4008 - val_accuracy: 0.8526\n",
            "Epoch 224/300\n",
            "144/144 [==============================] - 1s 4ms/step - loss: 0.3364 - accuracy: 0.8695 - val_loss: 0.4025 - val_accuracy: 0.8452\n",
            "Epoch 225/300\n",
            "144/144 [==============================] - 1s 4ms/step - loss: 0.3398 - accuracy: 0.8670 - val_loss: 0.4011 - val_accuracy: 0.8531\n",
            "Epoch 226/300\n",
            "144/144 [==============================] - 1s 4ms/step - loss: 0.3381 - accuracy: 0.8678 - val_loss: 0.4029 - val_accuracy: 0.8492\n",
            "Epoch 227/300\n",
            "144/144 [==============================] - 1s 4ms/step - loss: 0.3339 - accuracy: 0.8694 - val_loss: 0.3982 - val_accuracy: 0.8531\n",
            "Epoch 228/300\n",
            "144/144 [==============================] - 1s 4ms/step - loss: 0.3338 - accuracy: 0.8690 - val_loss: 0.4023 - val_accuracy: 0.8501\n",
            "Epoch 229/300\n",
            "144/144 [==============================] - 1s 4ms/step - loss: 0.3359 - accuracy: 0.8684 - val_loss: 0.4041 - val_accuracy: 0.8501\n",
            "Epoch 230/300\n",
            "144/144 [==============================] - 1s 4ms/step - loss: 0.3358 - accuracy: 0.8685 - val_loss: 0.4163 - val_accuracy: 0.8389\n",
            "Epoch 231/300\n",
            "144/144 [==============================] - 1s 4ms/step - loss: 0.3356 - accuracy: 0.8691 - val_loss: 0.3990 - val_accuracy: 0.8521\n",
            "Epoch 232/300\n",
            "144/144 [==============================] - 1s 4ms/step - loss: 0.3316 - accuracy: 0.8710 - val_loss: 0.3956 - val_accuracy: 0.8555\n",
            "Epoch 233/300\n",
            "144/144 [==============================] - 1s 4ms/step - loss: 0.3342 - accuracy: 0.8695 - val_loss: 0.4066 - val_accuracy: 0.8526\n",
            "Epoch 234/300\n",
            "144/144 [==============================] - 1s 4ms/step - loss: 0.3366 - accuracy: 0.8670 - val_loss: 0.4008 - val_accuracy: 0.8487\n",
            "Epoch 235/300\n",
            "144/144 [==============================] - 1s 4ms/step - loss: 0.3357 - accuracy: 0.8667 - val_loss: 0.4168 - val_accuracy: 0.8448\n",
            "Epoch 236/300\n",
            "144/144 [==============================] - 1s 4ms/step - loss: 0.3311 - accuracy: 0.8706 - val_loss: 0.3988 - val_accuracy: 0.8531\n",
            "Epoch 237/300\n",
            "144/144 [==============================] - 1s 4ms/step - loss: 0.3333 - accuracy: 0.8712 - val_loss: 0.4008 - val_accuracy: 0.8541\n",
            "Epoch 238/300\n",
            "144/144 [==============================] - 1s 4ms/step - loss: 0.3320 - accuracy: 0.8707 - val_loss: 0.3971 - val_accuracy: 0.8501\n",
            "Epoch 239/300\n",
            "144/144 [==============================] - 1s 4ms/step - loss: 0.3295 - accuracy: 0.8718 - val_loss: 0.3998 - val_accuracy: 0.8521\n",
            "Epoch 240/300\n",
            "144/144 [==============================] - 1s 4ms/step - loss: 0.3331 - accuracy: 0.8692 - val_loss: 0.4035 - val_accuracy: 0.8516\n",
            "Epoch 241/300\n",
            "144/144 [==============================] - 1s 4ms/step - loss: 0.3306 - accuracy: 0.8707 - val_loss: 0.3974 - val_accuracy: 0.8526\n",
            "Epoch 242/300\n",
            "144/144 [==============================] - 1s 4ms/step - loss: 0.3329 - accuracy: 0.8706 - val_loss: 0.4225 - val_accuracy: 0.8413\n",
            "Epoch 243/300\n",
            "144/144 [==============================] - 1s 4ms/step - loss: 0.3298 - accuracy: 0.8707 - val_loss: 0.3979 - val_accuracy: 0.8536\n",
            "Epoch 244/300\n",
            "144/144 [==============================] - 1s 4ms/step - loss: 0.3301 - accuracy: 0.8704 - val_loss: 0.4023 - val_accuracy: 0.8501\n",
            "Epoch 245/300\n",
            "144/144 [==============================] - 1s 4ms/step - loss: 0.3306 - accuracy: 0.8721 - val_loss: 0.3915 - val_accuracy: 0.8531\n",
            "Epoch 246/300\n",
            "144/144 [==============================] - 1s 4ms/step - loss: 0.3294 - accuracy: 0.8707 - val_loss: 0.4106 - val_accuracy: 0.8467\n",
            "Epoch 247/300\n",
            "144/144 [==============================] - 1s 4ms/step - loss: 0.3309 - accuracy: 0.8721 - val_loss: 0.4062 - val_accuracy: 0.8492\n",
            "Epoch 248/300\n",
            "144/144 [==============================] - 1s 4ms/step - loss: 0.3280 - accuracy: 0.8725 - val_loss: 0.3950 - val_accuracy: 0.8492\n",
            "Epoch 249/300\n",
            "144/144 [==============================] - 1s 4ms/step - loss: 0.3281 - accuracy: 0.8719 - val_loss: 0.3955 - val_accuracy: 0.8521\n",
            "Epoch 250/300\n",
            "144/144 [==============================] - 1s 4ms/step - loss: 0.3265 - accuracy: 0.8737 - val_loss: 0.4005 - val_accuracy: 0.8526\n",
            "Epoch 251/300\n",
            "144/144 [==============================] - 1s 4ms/step - loss: 0.3314 - accuracy: 0.8702 - val_loss: 0.4211 - val_accuracy: 0.8384\n",
            "Epoch 252/300\n",
            "144/144 [==============================] - 1s 4ms/step - loss: 0.3352 - accuracy: 0.8677 - val_loss: 0.4002 - val_accuracy: 0.8501\n",
            "Epoch 253/300\n",
            "144/144 [==============================] - 1s 4ms/step - loss: 0.3299 - accuracy: 0.8701 - val_loss: 0.3935 - val_accuracy: 0.8550\n",
            "Epoch 254/300\n",
            "144/144 [==============================] - 1s 4ms/step - loss: 0.3261 - accuracy: 0.8738 - val_loss: 0.3920 - val_accuracy: 0.8550\n",
            "Epoch 255/300\n",
            "144/144 [==============================] - 1s 4ms/step - loss: 0.3280 - accuracy: 0.8717 - val_loss: 0.3947 - val_accuracy: 0.8526\n",
            "Epoch 256/300\n",
            "144/144 [==============================] - 1s 4ms/step - loss: 0.3275 - accuracy: 0.8713 - val_loss: 0.3929 - val_accuracy: 0.8521\n",
            "Epoch 257/300\n",
            "144/144 [==============================] - 1s 4ms/step - loss: 0.3266 - accuracy: 0.8719 - val_loss: 0.3935 - val_accuracy: 0.8531\n",
            "Epoch 258/300\n",
            "144/144 [==============================] - 1s 4ms/step - loss: 0.3279 - accuracy: 0.8719 - val_loss: 0.3919 - val_accuracy: 0.8526\n",
            "Epoch 259/300\n",
            "144/144 [==============================] - 1s 4ms/step - loss: 0.3214 - accuracy: 0.8753 - val_loss: 0.4015 - val_accuracy: 0.8501\n",
            "Epoch 260/300\n",
            "144/144 [==============================] - 1s 4ms/step - loss: 0.3244 - accuracy: 0.8729 - val_loss: 0.3908 - val_accuracy: 0.8506\n",
            "Epoch 261/300\n",
            "144/144 [==============================] - 1s 4ms/step - loss: 0.3294 - accuracy: 0.8739 - val_loss: 0.4000 - val_accuracy: 0.8511\n",
            "Epoch 262/300\n",
            "144/144 [==============================] - 1s 4ms/step - loss: 0.3274 - accuracy: 0.8714 - val_loss: 0.3975 - val_accuracy: 0.8506\n",
            "Epoch 263/300\n",
            "144/144 [==============================] - 1s 4ms/step - loss: 0.3272 - accuracy: 0.8721 - val_loss: 0.3912 - val_accuracy: 0.8546\n",
            "Epoch 264/300\n",
            "144/144 [==============================] - 1s 4ms/step - loss: 0.3242 - accuracy: 0.8733 - val_loss: 0.3899 - val_accuracy: 0.8546\n",
            "Epoch 265/300\n",
            "144/144 [==============================] - 1s 4ms/step - loss: 0.3237 - accuracy: 0.8723 - val_loss: 0.3967 - val_accuracy: 0.8506\n",
            "Epoch 266/300\n",
            "144/144 [==============================] - 1s 4ms/step - loss: 0.3245 - accuracy: 0.8737 - val_loss: 0.4157 - val_accuracy: 0.8428\n",
            "Epoch 267/300\n",
            "144/144 [==============================] - 1s 4ms/step - loss: 0.3245 - accuracy: 0.8729 - val_loss: 0.4220 - val_accuracy: 0.8438\n",
            "Epoch 268/300\n",
            "144/144 [==============================] - 1s 4ms/step - loss: 0.3216 - accuracy: 0.8728 - val_loss: 0.3962 - val_accuracy: 0.8531\n",
            "Epoch 269/300\n",
            "144/144 [==============================] - 1s 4ms/step - loss: 0.3237 - accuracy: 0.8730 - val_loss: 0.3898 - val_accuracy: 0.8536\n",
            "Epoch 270/300\n",
            "144/144 [==============================] - 1s 4ms/step - loss: 0.3217 - accuracy: 0.8748 - val_loss: 0.4152 - val_accuracy: 0.8457\n",
            "Epoch 271/300\n",
            "144/144 [==============================] - 1s 4ms/step - loss: 0.3215 - accuracy: 0.8744 - val_loss: 0.3957 - val_accuracy: 0.8482\n",
            "Epoch 272/300\n",
            "144/144 [==============================] - 1s 4ms/step - loss: 0.3215 - accuracy: 0.8748 - val_loss: 0.3916 - val_accuracy: 0.8501\n",
            "Epoch 273/300\n",
            "144/144 [==============================] - 1s 4ms/step - loss: 0.3212 - accuracy: 0.8759 - val_loss: 0.3900 - val_accuracy: 0.8565\n",
            "Epoch 274/300\n",
            "144/144 [==============================] - 1s 4ms/step - loss: 0.3194 - accuracy: 0.8737 - val_loss: 0.3880 - val_accuracy: 0.8541\n",
            "Epoch 275/300\n",
            "144/144 [==============================] - 1s 4ms/step - loss: 0.3231 - accuracy: 0.8729 - val_loss: 0.4053 - val_accuracy: 0.8487\n",
            "Epoch 276/300\n",
            "144/144 [==============================] - 1s 4ms/step - loss: 0.3239 - accuracy: 0.8738 - val_loss: 0.3987 - val_accuracy: 0.8521\n",
            "Epoch 277/300\n",
            "144/144 [==============================] - 1s 4ms/step - loss: 0.3220 - accuracy: 0.8748 - val_loss: 0.4088 - val_accuracy: 0.8457\n",
            "Epoch 278/300\n",
            "144/144 [==============================] - 1s 4ms/step - loss: 0.3221 - accuracy: 0.8725 - val_loss: 0.3946 - val_accuracy: 0.8546\n",
            "Epoch 279/300\n",
            "144/144 [==============================] - 1s 4ms/step - loss: 0.3205 - accuracy: 0.8746 - val_loss: 0.3912 - val_accuracy: 0.8526\n",
            "Epoch 280/300\n",
            "144/144 [==============================] - 1s 4ms/step - loss: 0.3175 - accuracy: 0.8761 - val_loss: 0.3949 - val_accuracy: 0.8541\n",
            "Epoch 281/300\n",
            "144/144 [==============================] - 1s 4ms/step - loss: 0.3202 - accuracy: 0.8748 - val_loss: 0.3870 - val_accuracy: 0.8555\n",
            "Epoch 282/300\n",
            "144/144 [==============================] - 1s 4ms/step - loss: 0.3159 - accuracy: 0.8765 - val_loss: 0.4129 - val_accuracy: 0.8438\n",
            "Epoch 283/300\n",
            "144/144 [==============================] - 1s 4ms/step - loss: 0.3177 - accuracy: 0.8761 - val_loss: 0.4156 - val_accuracy: 0.8418\n",
            "Epoch 284/300\n",
            "144/144 [==============================] - 1s 4ms/step - loss: 0.3165 - accuracy: 0.8773 - val_loss: 0.3876 - val_accuracy: 0.8560\n",
            "Epoch 285/300\n",
            "144/144 [==============================] - 1s 4ms/step - loss: 0.3181 - accuracy: 0.8750 - val_loss: 0.3856 - val_accuracy: 0.8580\n",
            "Epoch 286/300\n",
            "144/144 [==============================] - 1s 4ms/step - loss: 0.3173 - accuracy: 0.8745 - val_loss: 0.3871 - val_accuracy: 0.8546\n",
            "Epoch 287/300\n",
            "144/144 [==============================] - 1s 4ms/step - loss: 0.3167 - accuracy: 0.8766 - val_loss: 0.3901 - val_accuracy: 0.8570\n",
            "Epoch 288/300\n",
            "144/144 [==============================] - 1s 4ms/step - loss: 0.3168 - accuracy: 0.8773 - val_loss: 0.4241 - val_accuracy: 0.8379\n",
            "Epoch 289/300\n",
            "144/144 [==============================] - 1s 4ms/step - loss: 0.3158 - accuracy: 0.8774 - val_loss: 0.4040 - val_accuracy: 0.8482\n",
            "Epoch 290/300\n",
            "144/144 [==============================] - 1s 4ms/step - loss: 0.3168 - accuracy: 0.8761 - val_loss: 0.3891 - val_accuracy: 0.8506\n",
            "Epoch 291/300\n",
            "144/144 [==============================] - 1s 4ms/step - loss: 0.3154 - accuracy: 0.8766 - val_loss: 0.3962 - val_accuracy: 0.8521\n",
            "Epoch 292/300\n",
            "144/144 [==============================] - 1s 4ms/step - loss: 0.3156 - accuracy: 0.8758 - val_loss: 0.4022 - val_accuracy: 0.8492\n",
            "Epoch 293/300\n",
            "144/144 [==============================] - 1s 4ms/step - loss: 0.3201 - accuracy: 0.8740 - val_loss: 0.3881 - val_accuracy: 0.8531\n",
            "Epoch 294/300\n",
            "144/144 [==============================] - 1s 4ms/step - loss: 0.3145 - accuracy: 0.8788 - val_loss: 0.4122 - val_accuracy: 0.8448\n",
            "Epoch 295/300\n",
            "144/144 [==============================] - 1s 4ms/step - loss: 0.3191 - accuracy: 0.8744 - val_loss: 0.3943 - val_accuracy: 0.8536\n",
            "Epoch 296/300\n",
            "144/144 [==============================] - 1s 4ms/step - loss: 0.3151 - accuracy: 0.8765 - val_loss: 0.3877 - val_accuracy: 0.8531\n",
            "Epoch 297/300\n",
            "144/144 [==============================] - 1s 4ms/step - loss: 0.3218 - accuracy: 0.8732 - val_loss: 0.3923 - val_accuracy: 0.8536\n",
            "Epoch 298/300\n",
            "144/144 [==============================] - 1s 4ms/step - loss: 0.3143 - accuracy: 0.8755 - val_loss: 0.4053 - val_accuracy: 0.8511\n",
            "Epoch 299/300\n",
            "144/144 [==============================] - 1s 4ms/step - loss: 0.3175 - accuracy: 0.8761 - val_loss: 0.3895 - val_accuracy: 0.8541\n",
            "Epoch 300/300\n",
            "144/144 [==============================] - 1s 4ms/step - loss: 0.3132 - accuracy: 0.8773 - val_loss: 0.3853 - val_accuracy: 0.8536\n"
          ],
          "name": "stdout"
        }
      ]
    },
    {
      "cell_type": "code",
      "metadata": {
        "id": "bb5pcZ6ULedv",
        "outputId": "8fec6974-aa69-40dd-e206-fdacc84bdb30",
        "colab": {
          "base_uri": "https://localhost:8080/",
          "height": 513
        }
      },
      "source": [
        "plt.plot(hist.history['loss'])\n",
        "plt.plot(hist.history['val_loss'])\n",
        "plt.show()\n",
        "\n",
        "plt.plot(hist.history['accuracy'])\n",
        "plt.plot(hist.history['val_accuracy'])\n",
        "plt.show()"
      ],
      "execution_count": 63,
      "outputs": [
        {
          "output_type": "display_data",
          "data": {
            "image/png": "[encoded data removed]",
            "text/plain": [
              "<Figure size 432x288 with 1 Axes>"
            ]
          },
          "metadata": {
            "tags": [],
            "needs_background": "light"
          }
        },
        {
          "output_type": "display_data",
          "data": {
            "image/png": "[encoded data removed]",
            "text/plain": [
              "<Figure size 432x288 with 1 Axes>"
            ]
          },
          "metadata": {
            "tags": [],
            "needs_background": "light"
          }
        }
      ]
    },
    {
      "cell_type": "code",
      "metadata": {
        "id": "4jyUeLfYLoHH",
        "outputId": "1fee8740-0c89-42e5-d458-64e402863d63",
        "colab": {
          "base_uri": "https://localhost:8080/"
        }
      },
      "source": [
        "loss, acc = model.evaluate(test_x, test_y)\n",
        "print(\"loss=\",loss)\n",
        "print(\"acc=\",acc)"
      ],
      "execution_count": 64,
      "outputs": [
        {
          "output_type": "stream",
          "text": [
            "160/160 [==============================] - 0s 2ms/step - loss: 0.3768 - accuracy: 0.8525\n",
            "loss= 0.3768453896045685\n",
            "acc= 0.8524686694145203\n"
          ],
          "name": "stdout"
        }
      ]
    },
    {
      "cell_type": "markdown",
      "metadata": {
        "id": "uyCNfmTlR70m"
      },
      "source": [
        "# class weight 적용"
      ]
    },
    {
      "cell_type": "code",
      "metadata": {
        "id": "eqWed9tlSbas",
        "colab": {
          "base_uri": "https://localhost:8080/"
        },
        "outputId": "02d4b56b-f6c0-46ab-9ae6-2297cdcc94e6"
      },
      "source": [
        "from tensorflow.keras.optimizers import Adam\n",
        "\n",
        "model = keras.Sequential()\n",
        "model.add(Input(x[0].shape))\n",
        "model.add(Conv2D(32, (3, 3), padding='same'))\n",
        "model.add(MaxPooling2D((2, 2)))\n",
        "model.add(Conv2D(64, (3, 3), padding='same'))\n",
        "model.add(MaxPooling2D((2, 2)))\n",
        "model.add(Flatten())\n",
        "model.add(Dense(10, activation='relu'))\n",
        "model.add(Dense(10, activation='relu'))\n",
        "model.add(Dense(len(failure_name)-1, activation='softmax'))\n",
        "\n",
        "optimizer = Adam(lr=0.0001)\n",
        "\n",
        "model.compile(optimizer=optimizer, loss=\"sparse_categorical_crossentropy\", metrics=[\"accuracy\"])\n",
        "model.summary()"
      ],
      "execution_count": 65,
      "outputs": [
        {
          "output_type": "stream",
          "text": [
            "Model: \"sequential_3\"\n",
            "_________________________________________________________________\n",
            "Layer (type)                 Output Shape              Param #   \n",
            "=================================================================\n",
            "conv2d_6 (Conv2D)            (None, 26, 26, 32)        320       \n",
            "_________________________________________________________________\n",
            "max_pooling2d_6 (MaxPooling2 (None, 13, 13, 32)        0         \n",
            "_________________________________________________________________\n",
            "conv2d_7 (Conv2D)            (None, 13, 13, 64)        18496     \n",
            "_________________________________________________________________\n",
            "max_pooling2d_7 (MaxPooling2 (None, 6, 6, 64)          0         \n",
            "_________________________________________________________________\n",
            "flatten_3 (Flatten)          (None, 2304)              0         \n",
            "_________________________________________________________________\n",
            "dense_9 (Dense)              (None, 10)                23050     \n",
            "_________________________________________________________________\n",
            "dense_10 (Dense)             (None, 10)                110       \n",
            "_________________________________________________________________\n",
            "dense_11 (Dense)             (None, 8)                 88        \n",
            "=================================================================\n",
            "Total params: 42,064\n",
            "Trainable params: 42,064\n",
            "Non-trainable params: 0\n",
            "_________________________________________________________________\n"
          ],
          "name": "stdout"
        }
      ]
    },
    {
      "cell_type": "code",
      "metadata": {
        "id": "I1eAjl8pMT7c",
        "outputId": "c296d0b6-409b-4bf1-bcb9-bf15674e0a76",
        "colab": {
          "base_uri": "https://localhost:8080/",
          "height": 266
        }
      },
      "source": [
        "plt.bar(failure_category_count[0], failure_category_count[1])\n",
        "plt.show()"
      ],
      "execution_count": 66,
      "outputs": [
        {
          "output_type": "display_data",
          "data": {
            "image/png": "[encoded data removed]",
            "text/plain": [
              "<Figure size 432x288 with 1 Axes>"
            ]
          },
          "metadata": {
            "tags": [],
            "needs_background": "light"
          }
        }
      ]
    },
    {
      "cell_type": "code",
      "metadata": {
        "id": "BRdhJuSjE6cE",
        "colab": {
          "base_uri": "https://localhost:8080/"
        },
        "outputId": "b7c33f1e-23bd-4421-d23b-82c2da72889e"
      },
      "source": [
        "from sklearn.utils.class_weight import compute_class_weight\n",
        "\n",
        "class_weight = compute_class_weight('balanced', np.unique(train_y), train_y)\n",
        "print(class_weight)\n",
        "\n",
        "class_weight = {i : class_weight[i] for i in range(len(class_weight))}\n",
        "print(class_weight)"
      ],
      "execution_count": 68,
      "outputs": [
        {
          "output_type": "stream",
          "text": [
            "[1.18864629 1.85759782 0.97469563 0.53060429 1.40890269]\n",
            "{0: 1.188646288209607, 1: 1.8575978161965423, 2: 0.9746956314156123, 3: 0.5306042884990253, 4: 1.4089026915113871}\n"
          ],
          "name": "stdout"
        }
      ]
    },
    {
      "cell_type": "code",
      "metadata": {
        "id": "gj3RnFDZE6WB",
        "colab": {
          "base_uri": "https://localhost:8080/"
        },
        "outputId": "b869bc32-cc65-46f1-c1f6-e8d14a9600b4"
      },
      "source": [
        "hist = model.fit(train_x, train_y, epochs=100, verbose=1, batch_size=128, validation_split=0.1, class_weight=class_weight)"
      ],
      "execution_count": 69,
      "outputs": [
        {
          "output_type": "stream",
          "text": [
            "Epoch 1/100\n",
            "144/144 [==============================] - 1s 5ms/step - loss: 1.7905 - accuracy: 0.3771 - val_loss: 1.6524 - val_accuracy: 0.3756\n",
            "Epoch 2/100\n",
            "144/144 [==============================] - 1s 4ms/step - loss: 1.6836 - accuracy: 0.3835 - val_loss: 1.5285 - val_accuracy: 0.4021\n",
            "Epoch 3/100\n",
            "144/144 [==============================] - 1s 4ms/step - loss: 1.5661 - accuracy: 0.4170 - val_loss: 1.3388 - val_accuracy: 0.4182\n",
            "Epoch 4/100\n",
            "144/144 [==============================] - 1s 4ms/step - loss: 1.4179 - accuracy: 0.4827 - val_loss: 1.1649 - val_accuracy: 0.5607\n",
            "Epoch 5/100\n",
            "144/144 [==============================] - 1s 4ms/step - loss: 1.2456 - accuracy: 0.5922 - val_loss: 0.9899 - val_accuracy: 0.6185\n",
            "Epoch 6/100\n",
            "144/144 [==============================] - 1s 4ms/step - loss: 1.0886 - accuracy: 0.6476 - val_loss: 0.9410 - val_accuracy: 0.5906\n",
            "Epoch 7/100\n",
            "144/144 [==============================] - 1s 4ms/step - loss: 0.9785 - accuracy: 0.6611 - val_loss: 0.7828 - val_accuracy: 0.6876\n",
            "Epoch 8/100\n",
            "144/144 [==============================] - 1s 4ms/step - loss: 0.9159 - accuracy: 0.6745 - val_loss: 0.7908 - val_accuracy: 0.6699\n",
            "Epoch 9/100\n",
            "144/144 [==============================] - 1s 4ms/step - loss: 0.8702 - accuracy: 0.6904 - val_loss: 0.7458 - val_accuracy: 0.6929\n",
            "Epoch 10/100\n",
            "144/144 [==============================] - 1s 4ms/step - loss: 0.8428 - accuracy: 0.6970 - val_loss: 0.7042 - val_accuracy: 0.7204\n",
            "Epoch 11/100\n",
            "144/144 [==============================] - 1s 4ms/step - loss: 0.8222 - accuracy: 0.7093 - val_loss: 0.7076 - val_accuracy: 0.7135\n",
            "Epoch 12/100\n",
            "144/144 [==============================] - 1s 4ms/step - loss: 0.8045 - accuracy: 0.7152 - val_loss: 0.6860 - val_accuracy: 0.7189\n",
            "Epoch 13/100\n",
            "144/144 [==============================] - 1s 4ms/step - loss: 0.7913 - accuracy: 0.7215 - val_loss: 0.6761 - val_accuracy: 0.7223\n",
            "Epoch 14/100\n",
            "144/144 [==============================] - 1s 4ms/step - loss: 0.7789 - accuracy: 0.7249 - val_loss: 0.6562 - val_accuracy: 0.7223\n",
            "Epoch 15/100\n",
            "144/144 [==============================] - 1s 4ms/step - loss: 0.7691 - accuracy: 0.7256 - val_loss: 0.6418 - val_accuracy: 0.7341\n",
            "Epoch 16/100\n",
            "144/144 [==============================] - 1s 4ms/step - loss: 0.7573 - accuracy: 0.7343 - val_loss: 0.7085 - val_accuracy: 0.7013\n",
            "Epoch 17/100\n",
            "144/144 [==============================] - 1s 4ms/step - loss: 0.7551 - accuracy: 0.7315 - val_loss: 0.6220 - val_accuracy: 0.7365\n",
            "Epoch 18/100\n",
            "144/144 [==============================] - 1s 4ms/step - loss: 0.7454 - accuracy: 0.7375 - val_loss: 0.6230 - val_accuracy: 0.7493\n",
            "Epoch 19/100\n",
            "144/144 [==============================] - 1s 4ms/step - loss: 0.7330 - accuracy: 0.7439 - val_loss: 0.6376 - val_accuracy: 0.7385\n",
            "Epoch 20/100\n",
            "144/144 [==============================] - 1s 4ms/step - loss: 0.7269 - accuracy: 0.7433 - val_loss: 0.6039 - val_accuracy: 0.7556\n",
            "Epoch 21/100\n",
            "144/144 [==============================] - 1s 4ms/step - loss: 0.7190 - accuracy: 0.7498 - val_loss: 0.6099 - val_accuracy: 0.7517\n",
            "Epoch 22/100\n",
            "144/144 [==============================] - 1s 4ms/step - loss: 0.7117 - accuracy: 0.7532 - val_loss: 0.6030 - val_accuracy: 0.7635\n",
            "Epoch 23/100\n",
            "144/144 [==============================] - 1s 4ms/step - loss: 0.7076 - accuracy: 0.7517 - val_loss: 0.5970 - val_accuracy: 0.7610\n",
            "Epoch 24/100\n",
            "144/144 [==============================] - 1s 4ms/step - loss: 0.7034 - accuracy: 0.7526 - val_loss: 0.6039 - val_accuracy: 0.7605\n",
            "Epoch 25/100\n",
            "144/144 [==============================] - 1s 4ms/step - loss: 0.6961 - accuracy: 0.7605 - val_loss: 0.6402 - val_accuracy: 0.7297\n",
            "Epoch 26/100\n",
            "144/144 [==============================] - 1s 4ms/step - loss: 0.6965 - accuracy: 0.7580 - val_loss: 0.5848 - val_accuracy: 0.7747\n",
            "Epoch 27/100\n",
            "144/144 [==============================] - 1s 4ms/step - loss: 0.6868 - accuracy: 0.7622 - val_loss: 0.6034 - val_accuracy: 0.7684\n",
            "Epoch 28/100\n",
            "144/144 [==============================] - 1s 4ms/step - loss: 0.6793 - accuracy: 0.7676 - val_loss: 0.5881 - val_accuracy: 0.7640\n",
            "Epoch 29/100\n",
            "144/144 [==============================] - 1s 4ms/step - loss: 0.6747 - accuracy: 0.7704 - val_loss: 0.6037 - val_accuracy: 0.7654\n",
            "Epoch 30/100\n",
            "144/144 [==============================] - 1s 4ms/step - loss: 0.6696 - accuracy: 0.7718 - val_loss: 0.5828 - val_accuracy: 0.7649\n",
            "Epoch 31/100\n",
            "144/144 [==============================] - 1s 4ms/step - loss: 0.6667 - accuracy: 0.7719 - val_loss: 0.5569 - val_accuracy: 0.7816\n",
            "Epoch 32/100\n",
            "144/144 [==============================] - 1s 4ms/step - loss: 0.6638 - accuracy: 0.7751 - val_loss: 0.5807 - val_accuracy: 0.7728\n",
            "Epoch 33/100\n",
            "144/144 [==============================] - 1s 4ms/step - loss: 0.6577 - accuracy: 0.7762 - val_loss: 0.5650 - val_accuracy: 0.7757\n",
            "Epoch 34/100\n",
            "144/144 [==============================] - 1s 4ms/step - loss: 0.6535 - accuracy: 0.7771 - val_loss: 0.5741 - val_accuracy: 0.7684\n",
            "Epoch 35/100\n",
            "144/144 [==============================] - 1s 4ms/step - loss: 0.6489 - accuracy: 0.7783 - val_loss: 0.5605 - val_accuracy: 0.7831\n",
            "Epoch 36/100\n",
            "144/144 [==============================] - 1s 4ms/step - loss: 0.6465 - accuracy: 0.7797 - val_loss: 0.5418 - val_accuracy: 0.7875\n",
            "Epoch 37/100\n",
            "144/144 [==============================] - 1s 4ms/step - loss: 0.6480 - accuracy: 0.7780 - val_loss: 0.5712 - val_accuracy: 0.7693\n",
            "Epoch 38/100\n",
            "144/144 [==============================] - 1s 4ms/step - loss: 0.6396 - accuracy: 0.7828 - val_loss: 0.5505 - val_accuracy: 0.7796\n",
            "Epoch 39/100\n",
            "144/144 [==============================] - 1s 4ms/step - loss: 0.6356 - accuracy: 0.7835 - val_loss: 0.5597 - val_accuracy: 0.7669\n",
            "Epoch 40/100\n",
            "144/144 [==============================] - 1s 4ms/step - loss: 0.6302 - accuracy: 0.7860 - val_loss: 0.5488 - val_accuracy: 0.7880\n",
            "Epoch 41/100\n",
            "144/144 [==============================] - 1s 4ms/step - loss: 0.6333 - accuracy: 0.7840 - val_loss: 0.5379 - val_accuracy: 0.7821\n",
            "Epoch 42/100\n",
            "144/144 [==============================] - 1s 4ms/step - loss: 0.6263 - accuracy: 0.7875 - val_loss: 0.5457 - val_accuracy: 0.7875\n",
            "Epoch 43/100\n",
            "144/144 [==============================] - 1s 4ms/step - loss: 0.6197 - accuracy: 0.7911 - val_loss: 0.5654 - val_accuracy: 0.7684\n",
            "Epoch 44/100\n",
            "144/144 [==============================] - 1s 4ms/step - loss: 0.6217 - accuracy: 0.7896 - val_loss: 0.5542 - val_accuracy: 0.7693\n",
            "Epoch 45/100\n",
            "144/144 [==============================] - 1s 4ms/step - loss: 0.6207 - accuracy: 0.7911 - val_loss: 0.5455 - val_accuracy: 0.7796\n",
            "Epoch 46/100\n",
            "144/144 [==============================] - 1s 4ms/step - loss: 0.6136 - accuracy: 0.7964 - val_loss: 0.5361 - val_accuracy: 0.7801\n",
            "Epoch 47/100\n",
            "144/144 [==============================] - 1s 4ms/step - loss: 0.6171 - accuracy: 0.7899 - val_loss: 0.5240 - val_accuracy: 0.7899\n",
            "Epoch 48/100\n",
            "144/144 [==============================] - 1s 4ms/step - loss: 0.6073 - accuracy: 0.7952 - val_loss: 0.5311 - val_accuracy: 0.7791\n",
            "Epoch 49/100\n",
            "144/144 [==============================] - 1s 4ms/step - loss: 0.6059 - accuracy: 0.7942 - val_loss: 0.5411 - val_accuracy: 0.7845\n",
            "Epoch 50/100\n",
            "144/144 [==============================] - 1s 4ms/step - loss: 0.6047 - accuracy: 0.7961 - val_loss: 0.5314 - val_accuracy: 0.7791\n",
            "Epoch 51/100\n",
            "144/144 [==============================] - 1s 4ms/step - loss: 0.6008 - accuracy: 0.7958 - val_loss: 0.5527 - val_accuracy: 0.7713\n",
            "Epoch 52/100\n",
            "144/144 [==============================] - 1s 4ms/step - loss: 0.5985 - accuracy: 0.7976 - val_loss: 0.5124 - val_accuracy: 0.7977\n",
            "Epoch 53/100\n",
            "144/144 [==============================] - 1s 4ms/step - loss: 0.5934 - accuracy: 0.7980 - val_loss: 0.5296 - val_accuracy: 0.7953\n",
            "Epoch 54/100\n",
            "144/144 [==============================] - 1s 4ms/step - loss: 0.5942 - accuracy: 0.8017 - val_loss: 0.5236 - val_accuracy: 0.7801\n",
            "Epoch 55/100\n",
            "144/144 [==============================] - 1s 4ms/step - loss: 0.5889 - accuracy: 0.8018 - val_loss: 0.5033 - val_accuracy: 0.8036\n",
            "Epoch 56/100\n",
            "144/144 [==============================] - 1s 4ms/step - loss: 0.5854 - accuracy: 0.8046 - val_loss: 0.5102 - val_accuracy: 0.8041\n",
            "Epoch 57/100\n",
            "144/144 [==============================] - 1s 4ms/step - loss: 0.5824 - accuracy: 0.8033 - val_loss: 0.5014 - val_accuracy: 0.8002\n",
            "Epoch 58/100\n",
            "144/144 [==============================] - 1s 4ms/step - loss: 0.5812 - accuracy: 0.8059 - val_loss: 0.5012 - val_accuracy: 0.8041\n",
            "Epoch 59/100\n",
            "144/144 [==============================] - 1s 4ms/step - loss: 0.5829 - accuracy: 0.8013 - val_loss: 0.5241 - val_accuracy: 0.7953\n",
            "Epoch 60/100\n",
            "144/144 [==============================] - 1s 4ms/step - loss: 0.5788 - accuracy: 0.8044 - val_loss: 0.5055 - val_accuracy: 0.7880\n",
            "Epoch 61/100\n",
            "144/144 [==============================] - 1s 4ms/step - loss: 0.5717 - accuracy: 0.8090 - val_loss: 0.5318 - val_accuracy: 0.7840\n",
            "Epoch 62/100\n",
            "144/144 [==============================] - 1s 4ms/step - loss: 0.5726 - accuracy: 0.8094 - val_loss: 0.4999 - val_accuracy: 0.8036\n",
            "Epoch 63/100\n",
            "144/144 [==============================] - 1s 4ms/step - loss: 0.5725 - accuracy: 0.8091 - val_loss: 0.4757 - val_accuracy: 0.8100\n",
            "Epoch 64/100\n",
            "144/144 [==============================] - 1s 4ms/step - loss: 0.5647 - accuracy: 0.8124 - val_loss: 0.4893 - val_accuracy: 0.8026\n",
            "Epoch 65/100\n",
            "144/144 [==============================] - 1s 4ms/step - loss: 0.5671 - accuracy: 0.8124 - val_loss: 0.4842 - val_accuracy: 0.8002\n",
            "Epoch 66/100\n",
            "144/144 [==============================] - 1s 4ms/step - loss: 0.5624 - accuracy: 0.8117 - val_loss: 0.5034 - val_accuracy: 0.7997\n",
            "Epoch 67/100\n",
            "144/144 [==============================] - 1s 4ms/step - loss: 0.5630 - accuracy: 0.8133 - val_loss: 0.4785 - val_accuracy: 0.8105\n",
            "Epoch 68/100\n",
            "144/144 [==============================] - 1s 4ms/step - loss: 0.5578 - accuracy: 0.8145 - val_loss: 0.4736 - val_accuracy: 0.8095\n",
            "Epoch 69/100\n",
            "144/144 [==============================] - 1s 4ms/step - loss: 0.5586 - accuracy: 0.8143 - val_loss: 0.4810 - val_accuracy: 0.8080\n",
            "Epoch 70/100\n",
            "144/144 [==============================] - 1s 4ms/step - loss: 0.5527 - accuracy: 0.8193 - val_loss: 0.5090 - val_accuracy: 0.7977\n",
            "Epoch 71/100\n",
            "144/144 [==============================] - 1s 4ms/step - loss: 0.5549 - accuracy: 0.8185 - val_loss: 0.4639 - val_accuracy: 0.8164\n",
            "Epoch 72/100\n",
            "144/144 [==============================] - 1s 4ms/step - loss: 0.5504 - accuracy: 0.8182 - val_loss: 0.4761 - val_accuracy: 0.8080\n",
            "Epoch 73/100\n",
            "144/144 [==============================] - 1s 4ms/step - loss: 0.5470 - accuracy: 0.8200 - val_loss: 0.4628 - val_accuracy: 0.8149\n",
            "Epoch 74/100\n",
            "144/144 [==============================] - 1s 4ms/step - loss: 0.5461 - accuracy: 0.8206 - val_loss: 0.4892 - val_accuracy: 0.8090\n",
            "Epoch 75/100\n",
            "144/144 [==============================] - 1s 4ms/step - loss: 0.5440 - accuracy: 0.8221 - val_loss: 0.4720 - val_accuracy: 0.8115\n",
            "Epoch 76/100\n",
            "144/144 [==============================] - 1s 4ms/step - loss: 0.5442 - accuracy: 0.8206 - val_loss: 0.4642 - val_accuracy: 0.8105\n",
            "Epoch 77/100\n",
            "144/144 [==============================] - 1s 4ms/step - loss: 0.5406 - accuracy: 0.8212 - val_loss: 0.4649 - val_accuracy: 0.8188\n",
            "Epoch 78/100\n",
            "144/144 [==============================] - 1s 4ms/step - loss: 0.5401 - accuracy: 0.8233 - val_loss: 0.4536 - val_accuracy: 0.8193\n",
            "Epoch 79/100\n",
            "144/144 [==============================] - 1s 4ms/step - loss: 0.5398 - accuracy: 0.8238 - val_loss: 0.5073 - val_accuracy: 0.8002\n",
            "Epoch 80/100\n",
            "144/144 [==============================] - 1s 4ms/step - loss: 0.5357 - accuracy: 0.8264 - val_loss: 0.4581 - val_accuracy: 0.8222\n",
            "Epoch 81/100\n",
            "144/144 [==============================] - 1s 4ms/step - loss: 0.5361 - accuracy: 0.8258 - val_loss: 0.5083 - val_accuracy: 0.8022\n",
            "Epoch 82/100\n",
            "144/144 [==============================] - 1s 4ms/step - loss: 0.5318 - accuracy: 0.8256 - val_loss: 0.4559 - val_accuracy: 0.8213\n",
            "Epoch 83/100\n",
            "144/144 [==============================] - 1s 4ms/step - loss: 0.5302 - accuracy: 0.8280 - val_loss: 0.4740 - val_accuracy: 0.8085\n",
            "Epoch 84/100\n",
            "144/144 [==============================] - 1s 4ms/step - loss: 0.5319 - accuracy: 0.8295 - val_loss: 0.4820 - val_accuracy: 0.8080\n",
            "Epoch 85/100\n",
            "144/144 [==============================] - 1s 4ms/step - loss: 0.5280 - accuracy: 0.8312 - val_loss: 0.4545 - val_accuracy: 0.8227\n",
            "Epoch 86/100\n",
            "144/144 [==============================] - 1s 4ms/step - loss: 0.5260 - accuracy: 0.8313 - val_loss: 0.4626 - val_accuracy: 0.8178\n",
            "Epoch 87/100\n",
            "144/144 [==============================] - 1s 4ms/step - loss: 0.5281 - accuracy: 0.8311 - val_loss: 0.4521 - val_accuracy: 0.8203\n",
            "Epoch 88/100\n",
            "144/144 [==============================] - 1s 4ms/step - loss: 0.5243 - accuracy: 0.8307 - val_loss: 0.4703 - val_accuracy: 0.8242\n",
            "Epoch 89/100\n",
            "144/144 [==============================] - 1s 4ms/step - loss: 0.5231 - accuracy: 0.8312 - val_loss: 0.4563 - val_accuracy: 0.8178\n",
            "Epoch 90/100\n",
            "144/144 [==============================] - 1s 4ms/step - loss: 0.5223 - accuracy: 0.8324 - val_loss: 0.4755 - val_accuracy: 0.8149\n",
            "Epoch 91/100\n",
            "144/144 [==============================] - 1s 4ms/step - loss: 0.5234 - accuracy: 0.8328 - val_loss: 0.4954 - val_accuracy: 0.8095\n",
            "Epoch 92/100\n",
            "144/144 [==============================] - 1s 4ms/step - loss: 0.5237 - accuracy: 0.8312 - val_loss: 0.4445 - val_accuracy: 0.8330\n",
            "Epoch 93/100\n",
            "144/144 [==============================] - 1s 4ms/step - loss: 0.5192 - accuracy: 0.8348 - val_loss: 0.4434 - val_accuracy: 0.8301\n",
            "Epoch 94/100\n",
            "144/144 [==============================] - 1s 4ms/step - loss: 0.5186 - accuracy: 0.8328 - val_loss: 0.4407 - val_accuracy: 0.8345\n",
            "Epoch 95/100\n",
            "144/144 [==============================] - 1s 4ms/step - loss: 0.5148 - accuracy: 0.8364 - val_loss: 0.4403 - val_accuracy: 0.8369\n",
            "Epoch 96/100\n",
            "144/144 [==============================] - 1s 4ms/step - loss: 0.5190 - accuracy: 0.8335 - val_loss: 0.4802 - val_accuracy: 0.8144\n",
            "Epoch 97/100\n",
            "144/144 [==============================] - 1s 4ms/step - loss: 0.5144 - accuracy: 0.8353 - val_loss: 0.4372 - val_accuracy: 0.8408\n",
            "Epoch 98/100\n",
            "144/144 [==============================] - 1s 4ms/step - loss: 0.5116 - accuracy: 0.8350 - val_loss: 0.4358 - val_accuracy: 0.8330\n",
            "Epoch 99/100\n",
            "144/144 [==============================] - 1s 4ms/step - loss: 0.5105 - accuracy: 0.8362 - val_loss: 0.4584 - val_accuracy: 0.8237\n",
            "Epoch 100/100\n",
            "144/144 [==============================] - 1s 4ms/step - loss: 0.5125 - accuracy: 0.8381 - val_loss: 0.4618 - val_accuracy: 0.8159\n"
          ],
          "name": "stdout"
        }
      ]
    },
    {
      "cell_type": "code",
      "metadata": {
        "id": "gNdEwh8HVFk_",
        "colab": {
          "base_uri": "https://localhost:8080/",
          "height": 513
        },
        "outputId": "e81aee2a-6681-49e3-abe8-b440cf73f4b7"
      },
      "source": [
        "plt.plot(hist.history['loss'])\n",
        "plt.plot(hist.history['val_loss'])\n",
        "plt.show()\n",
        "\n",
        "plt.plot(hist.history['accuracy'])\n",
        "plt.plot(hist.history['val_accuracy'])\n",
        "plt.show()"
      ],
      "execution_count": 70,
      "outputs": [
        {
          "output_type": "display_data",
          "data": {
            "image/png": "[encoded data removed]",
            "text/plain": [
              "<Figure size 432x288 with 1 Axes>"
            ]
          },
          "metadata": {
            "tags": [],
            "needs_background": "light"
          }
        },
        {
          "output_type": "display_data",
          "data": {
            "image/png": "[encoded data removed]",
            "text/plain": [
              "<Figure size 432x288 with 1 Axes>"
            ]
          },
          "metadata": {
            "tags": [],
            "needs_background": "light"
          }
        }
      ]
    },
    {
      "cell_type": "code",
      "metadata": {
        "id": "1UDb-tquSs1g",
        "colab": {
          "base_uri": "https://localhost:8080/"
        },
        "outputId": "b96f9b58-7110-471e-ac55-7b0e7bbe3456"
      },
      "source": [
        "loss, acc = model.evaluate(test_x, test_y)\n",
        "print(\"loss=\",loss)\n",
        "print(\"acc=\",acc)"
      ],
      "execution_count": 71,
      "outputs": [
        {
          "output_type": "stream",
          "text": [
            "160/160 [==============================] - 0s 2ms/step - loss: 0.4522 - accuracy: 0.8274\n",
            "loss= 0.45224669575691223\n",
            "acc= 0.8273902535438538\n"
          ],
          "name": "stdout"
        }
      ]
    },
    {
      "cell_type": "code",
      "metadata": {
        "id": "iZvuULywXOnT",
        "outputId": "85257268-1347-4c8b-ec20-2e7c8ad2300b",
        "colab": {
          "base_uri": "https://localhost:8080/"
        }
      },
      "source": [
        "hist = model.fit(train_x, train_y, epochs=300, verbose=1, batch_size=128, validation_split=0.1, class_weight=class_weight)"
      ],
      "execution_count": 72,
      "outputs": [
        {
          "output_type": "stream",
          "text": [
            "Epoch 1/300\n",
            "144/144 [==============================] - 1s 5ms/step - loss: 0.5118 - accuracy: 0.8352 - val_loss: 0.4633 - val_accuracy: 0.8217\n",
            "Epoch 2/300\n",
            "144/144 [==============================] - 1s 4ms/step - loss: 0.5083 - accuracy: 0.8385 - val_loss: 0.4506 - val_accuracy: 0.8286\n",
            "Epoch 3/300\n",
            "144/144 [==============================] - 1s 4ms/step - loss: 0.5080 - accuracy: 0.8370 - val_loss: 0.4396 - val_accuracy: 0.8281\n",
            "Epoch 4/300\n",
            "144/144 [==============================] - 1s 4ms/step - loss: 0.5043 - accuracy: 0.8395 - val_loss: 0.4487 - val_accuracy: 0.8281\n",
            "Epoch 5/300\n",
            "144/144 [==============================] - 1s 4ms/step - loss: 0.5061 - accuracy: 0.8379 - val_loss: 0.4647 - val_accuracy: 0.8144\n",
            "Epoch 6/300\n",
            "144/144 [==============================] - 1s 4ms/step - loss: 0.5064 - accuracy: 0.8381 - val_loss: 0.4388 - val_accuracy: 0.8301\n",
            "Epoch 7/300\n",
            "144/144 [==============================] - 1s 4ms/step - loss: 0.5036 - accuracy: 0.8386 - val_loss: 0.4586 - val_accuracy: 0.8257\n",
            "Epoch 8/300\n",
            "144/144 [==============================] - 1s 4ms/step - loss: 0.5045 - accuracy: 0.8376 - val_loss: 0.4400 - val_accuracy: 0.8281\n",
            "Epoch 9/300\n",
            "144/144 [==============================] - 1s 4ms/step - loss: 0.5011 - accuracy: 0.8386 - val_loss: 0.4359 - val_accuracy: 0.8374\n",
            "Epoch 10/300\n",
            "144/144 [==============================] - 1s 4ms/step - loss: 0.5019 - accuracy: 0.8370 - val_loss: 0.4372 - val_accuracy: 0.8384\n",
            "Epoch 11/300\n",
            "144/144 [==============================] - 1s 4ms/step - loss: 0.5010 - accuracy: 0.8389 - val_loss: 0.4362 - val_accuracy: 0.8310\n",
            "Epoch 12/300\n",
            "144/144 [==============================] - 1s 4ms/step - loss: 0.5028 - accuracy: 0.8374 - val_loss: 0.4330 - val_accuracy: 0.8301\n",
            "Epoch 13/300\n",
            "144/144 [==============================] - 1s 4ms/step - loss: 0.4966 - accuracy: 0.8395 - val_loss: 0.4319 - val_accuracy: 0.8350\n",
            "Epoch 14/300\n",
            "144/144 [==============================] - 1s 4ms/step - loss: 0.5011 - accuracy: 0.8389 - val_loss: 0.4291 - val_accuracy: 0.8315\n",
            "Epoch 15/300\n",
            "144/144 [==============================] - 1s 4ms/step - loss: 0.4959 - accuracy: 0.8405 - val_loss: 0.4457 - val_accuracy: 0.8193\n",
            "Epoch 16/300\n",
            "144/144 [==============================] - 1s 4ms/step - loss: 0.4994 - accuracy: 0.8379 - val_loss: 0.4590 - val_accuracy: 0.8247\n",
            "Epoch 17/300\n",
            "144/144 [==============================] - 1s 4ms/step - loss: 0.4940 - accuracy: 0.8406 - val_loss: 0.4317 - val_accuracy: 0.8355\n",
            "Epoch 18/300\n",
            "144/144 [==============================] - 1s 4ms/step - loss: 0.4970 - accuracy: 0.8397 - val_loss: 0.4275 - val_accuracy: 0.8413\n",
            "Epoch 19/300\n",
            "144/144 [==============================] - 1s 4ms/step - loss: 0.4938 - accuracy: 0.8419 - val_loss: 0.4400 - val_accuracy: 0.8296\n",
            "Epoch 20/300\n",
            "144/144 [==============================] - 1s 4ms/step - loss: 0.4957 - accuracy: 0.8406 - val_loss: 0.4542 - val_accuracy: 0.8262\n",
            "Epoch 21/300\n",
            "144/144 [==============================] - 1s 4ms/step - loss: 0.4927 - accuracy: 0.8417 - val_loss: 0.4472 - val_accuracy: 0.8257\n",
            "Epoch 22/300\n",
            "144/144 [==============================] - 1s 4ms/step - loss: 0.4977 - accuracy: 0.8383 - val_loss: 0.4306 - val_accuracy: 0.8379\n",
            "Epoch 23/300\n",
            "144/144 [==============================] - 1s 4ms/step - loss: 0.4932 - accuracy: 0.8394 - val_loss: 0.4359 - val_accuracy: 0.8345\n",
            "Epoch 24/300\n",
            "144/144 [==============================] - 1s 4ms/step - loss: 0.4915 - accuracy: 0.8423 - val_loss: 0.4347 - val_accuracy: 0.8340\n",
            "Epoch 25/300\n",
            "144/144 [==============================] - 1s 4ms/step - loss: 0.4863 - accuracy: 0.8424 - val_loss: 0.4325 - val_accuracy: 0.8379\n",
            "Epoch 26/300\n",
            "144/144 [==============================] - 1s 4ms/step - loss: 0.4935 - accuracy: 0.8407 - val_loss: 0.4345 - val_accuracy: 0.8359\n",
            "Epoch 27/300\n",
            "144/144 [==============================] - 1s 4ms/step - loss: 0.4867 - accuracy: 0.8445 - val_loss: 0.4341 - val_accuracy: 0.8335\n",
            "Epoch 28/300\n",
            "144/144 [==============================] - 1s 4ms/step - loss: 0.4887 - accuracy: 0.8444 - val_loss: 0.4433 - val_accuracy: 0.8301\n",
            "Epoch 29/300\n",
            "144/144 [==============================] - 1s 4ms/step - loss: 0.4887 - accuracy: 0.8425 - val_loss: 0.4429 - val_accuracy: 0.8281\n",
            "Epoch 30/300\n",
            "144/144 [==============================] - 1s 4ms/step - loss: 0.4905 - accuracy: 0.8415 - val_loss: 0.4422 - val_accuracy: 0.8306\n",
            "Epoch 31/300\n",
            "144/144 [==============================] - 1s 4ms/step - loss: 0.4847 - accuracy: 0.8443 - val_loss: 0.4457 - val_accuracy: 0.8193\n",
            "Epoch 32/300\n",
            "144/144 [==============================] - 1s 4ms/step - loss: 0.4854 - accuracy: 0.8444 - val_loss: 0.4364 - val_accuracy: 0.8281\n",
            "Epoch 33/300\n",
            "144/144 [==============================] - 1s 4ms/step - loss: 0.4826 - accuracy: 0.8459 - val_loss: 0.4208 - val_accuracy: 0.8384\n",
            "Epoch 34/300\n",
            "144/144 [==============================] - 1s 4ms/step - loss: 0.4878 - accuracy: 0.8419 - val_loss: 0.4246 - val_accuracy: 0.8355\n",
            "Epoch 35/300\n",
            "144/144 [==============================] - 1s 4ms/step - loss: 0.4856 - accuracy: 0.8439 - val_loss: 0.4381 - val_accuracy: 0.8296\n",
            "Epoch 36/300\n",
            "144/144 [==============================] - 1s 4ms/step - loss: 0.4823 - accuracy: 0.8440 - val_loss: 0.4339 - val_accuracy: 0.8340\n",
            "Epoch 37/300\n",
            "144/144 [==============================] - 1s 4ms/step - loss: 0.4819 - accuracy: 0.8447 - val_loss: 0.4340 - val_accuracy: 0.8315\n",
            "Epoch 38/300\n",
            "144/144 [==============================] - 1s 4ms/step - loss: 0.4824 - accuracy: 0.8440 - val_loss: 0.4376 - val_accuracy: 0.8286\n",
            "Epoch 39/300\n",
            "144/144 [==============================] - 1s 4ms/step - loss: 0.4833 - accuracy: 0.8448 - val_loss: 0.4255 - val_accuracy: 0.8413\n",
            "Epoch 40/300\n",
            "144/144 [==============================] - 1s 4ms/step - loss: 0.4813 - accuracy: 0.8446 - val_loss: 0.4339 - val_accuracy: 0.8335\n",
            "Epoch 41/300\n",
            "144/144 [==============================] - 1s 4ms/step - loss: 0.4828 - accuracy: 0.8458 - val_loss: 0.4260 - val_accuracy: 0.8355\n",
            "Epoch 42/300\n",
            "144/144 [==============================] - 1s 4ms/step - loss: 0.4783 - accuracy: 0.8466 - val_loss: 0.4553 - val_accuracy: 0.8252\n",
            "Epoch 43/300\n",
            "144/144 [==============================] - 1s 4ms/step - loss: 0.4770 - accuracy: 0.8465 - val_loss: 0.4220 - val_accuracy: 0.8433\n",
            "Epoch 44/300\n",
            "144/144 [==============================] - 1s 4ms/step - loss: 0.4820 - accuracy: 0.8444 - val_loss: 0.4347 - val_accuracy: 0.8306\n",
            "Epoch 45/300\n",
            "144/144 [==============================] - 1s 4ms/step - loss: 0.4746 - accuracy: 0.8475 - val_loss: 0.4181 - val_accuracy: 0.8433\n",
            "Epoch 46/300\n",
            "144/144 [==============================] - 1s 4ms/step - loss: 0.4769 - accuracy: 0.8466 - val_loss: 0.4215 - val_accuracy: 0.8394\n",
            "Epoch 47/300\n",
            "144/144 [==============================] - 1s 4ms/step - loss: 0.4740 - accuracy: 0.8482 - val_loss: 0.4207 - val_accuracy: 0.8364\n",
            "Epoch 48/300\n",
            "144/144 [==============================] - 1s 4ms/step - loss: 0.4730 - accuracy: 0.8484 - val_loss: 0.4308 - val_accuracy: 0.8379\n",
            "Epoch 49/300\n",
            "144/144 [==============================] - 1s 4ms/step - loss: 0.4758 - accuracy: 0.8458 - val_loss: 0.4327 - val_accuracy: 0.8369\n",
            "Epoch 50/300\n",
            "144/144 [==============================] - 1s 4ms/step - loss: 0.4697 - accuracy: 0.8492 - val_loss: 0.4202 - val_accuracy: 0.8404\n",
            "Epoch 51/300\n",
            "144/144 [==============================] - 1s 4ms/step - loss: 0.4704 - accuracy: 0.8490 - val_loss: 0.4179 - val_accuracy: 0.8438\n",
            "Epoch 52/300\n",
            "144/144 [==============================] - 1s 4ms/step - loss: 0.4718 - accuracy: 0.8489 - val_loss: 0.4278 - val_accuracy: 0.8364\n",
            "Epoch 53/300\n",
            "144/144 [==============================] - 1s 4ms/step - loss: 0.4827 - accuracy: 0.8446 - val_loss: 0.4159 - val_accuracy: 0.8492\n",
            "Epoch 54/300\n",
            "144/144 [==============================] - 1s 4ms/step - loss: 0.4704 - accuracy: 0.8483 - val_loss: 0.4260 - val_accuracy: 0.8389\n",
            "Epoch 55/300\n",
            "144/144 [==============================] - 1s 4ms/step - loss: 0.4735 - accuracy: 0.8459 - val_loss: 0.4191 - val_accuracy: 0.8413\n",
            "Epoch 56/300\n",
            "144/144 [==============================] - 1s 4ms/step - loss: 0.4759 - accuracy: 0.8482 - val_loss: 0.4108 - val_accuracy: 0.8472\n",
            "Epoch 57/300\n",
            "144/144 [==============================] - 1s 4ms/step - loss: 0.4682 - accuracy: 0.8508 - val_loss: 0.4110 - val_accuracy: 0.8457\n",
            "Epoch 58/300\n",
            "144/144 [==============================] - 1s 4ms/step - loss: 0.4680 - accuracy: 0.8498 - val_loss: 0.4460 - val_accuracy: 0.8291\n",
            "Epoch 59/300\n",
            "144/144 [==============================] - 1s 4ms/step - loss: 0.4709 - accuracy: 0.8495 - val_loss: 0.4307 - val_accuracy: 0.8345\n",
            "Epoch 60/300\n",
            "144/144 [==============================] - 1s 4ms/step - loss: 0.4675 - accuracy: 0.8510 - val_loss: 0.4391 - val_accuracy: 0.8306\n",
            "Epoch 61/300\n",
            "144/144 [==============================] - 1s 4ms/step - loss: 0.4635 - accuracy: 0.8496 - val_loss: 0.4340 - val_accuracy: 0.8271\n",
            "Epoch 62/300\n",
            "144/144 [==============================] - 1s 4ms/step - loss: 0.4634 - accuracy: 0.8517 - val_loss: 0.4087 - val_accuracy: 0.8462\n",
            "Epoch 63/300\n",
            "144/144 [==============================] - 1s 4ms/step - loss: 0.4654 - accuracy: 0.8514 - val_loss: 0.4460 - val_accuracy: 0.8208\n",
            "Epoch 64/300\n",
            "144/144 [==============================] - 1s 4ms/step - loss: 0.4659 - accuracy: 0.8474 - val_loss: 0.4175 - val_accuracy: 0.8413\n",
            "Epoch 65/300\n",
            "144/144 [==============================] - 1s 4ms/step - loss: 0.4635 - accuracy: 0.8503 - val_loss: 0.4128 - val_accuracy: 0.8433\n",
            "Epoch 66/300\n",
            "144/144 [==============================] - 1s 4ms/step - loss: 0.4643 - accuracy: 0.8507 - val_loss: 0.4107 - val_accuracy: 0.8467\n",
            "Epoch 67/300\n",
            "144/144 [==============================] - 1s 4ms/step - loss: 0.4638 - accuracy: 0.8503 - val_loss: 0.4394 - val_accuracy: 0.8291\n",
            "Epoch 68/300\n",
            "144/144 [==============================] - 1s 4ms/step - loss: 0.4603 - accuracy: 0.8526 - val_loss: 0.4835 - val_accuracy: 0.7997\n",
            "Epoch 69/300\n",
            "144/144 [==============================] - 1s 4ms/step - loss: 0.4658 - accuracy: 0.8497 - val_loss: 0.4468 - val_accuracy: 0.8286\n",
            "Epoch 70/300\n",
            "144/144 [==============================] - 1s 4ms/step - loss: 0.4586 - accuracy: 0.8524 - val_loss: 0.4229 - val_accuracy: 0.8355\n",
            "Epoch 71/300\n",
            "144/144 [==============================] - 1s 4ms/step - loss: 0.4605 - accuracy: 0.8542 - val_loss: 0.4660 - val_accuracy: 0.8188\n",
            "Epoch 72/300\n",
            "144/144 [==============================] - 1s 4ms/step - loss: 0.4623 - accuracy: 0.8494 - val_loss: 0.4173 - val_accuracy: 0.8394\n",
            "Epoch 73/300\n",
            "144/144 [==============================] - 1s 4ms/step - loss: 0.4597 - accuracy: 0.8525 - val_loss: 0.4085 - val_accuracy: 0.8452\n",
            "Epoch 74/300\n",
            "144/144 [==============================] - 1s 4ms/step - loss: 0.4696 - accuracy: 0.8494 - val_loss: 0.4133 - val_accuracy: 0.8467\n",
            "Epoch 75/300\n",
            "144/144 [==============================] - 1s 4ms/step - loss: 0.4579 - accuracy: 0.8545 - val_loss: 0.4147 - val_accuracy: 0.8448\n",
            "Epoch 76/300\n",
            "144/144 [==============================] - 1s 4ms/step - loss: 0.4579 - accuracy: 0.8537 - val_loss: 0.4073 - val_accuracy: 0.8492\n",
            "Epoch 77/300\n",
            "144/144 [==============================] - 1s 4ms/step - loss: 0.4586 - accuracy: 0.8534 - val_loss: 0.4062 - val_accuracy: 0.8487\n",
            "Epoch 78/300\n",
            "144/144 [==============================] - 1s 4ms/step - loss: 0.4548 - accuracy: 0.8536 - val_loss: 0.4163 - val_accuracy: 0.8384\n",
            "Epoch 79/300\n",
            "144/144 [==============================] - 1s 4ms/step - loss: 0.4536 - accuracy: 0.8540 - val_loss: 0.4050 - val_accuracy: 0.8472\n",
            "Epoch 80/300\n",
            "144/144 [==============================] - 1s 4ms/step - loss: 0.4552 - accuracy: 0.8548 - val_loss: 0.4219 - val_accuracy: 0.8438\n",
            "Epoch 81/300\n",
            "144/144 [==============================] - 1s 4ms/step - loss: 0.4566 - accuracy: 0.8521 - val_loss: 0.4157 - val_accuracy: 0.8389\n",
            "Epoch 82/300\n",
            "144/144 [==============================] - 1s 4ms/step - loss: 0.4552 - accuracy: 0.8541 - val_loss: 0.4289 - val_accuracy: 0.8374\n",
            "Epoch 83/300\n",
            "144/144 [==============================] - 1s 4ms/step - loss: 0.4564 - accuracy: 0.8518 - val_loss: 0.4188 - val_accuracy: 0.8423\n",
            "Epoch 84/300\n",
            "144/144 [==============================] - 1s 4ms/step - loss: 0.4516 - accuracy: 0.8550 - val_loss: 0.4035 - val_accuracy: 0.8501\n",
            "Epoch 85/300\n",
            "144/144 [==============================] - 1s 4ms/step - loss: 0.4505 - accuracy: 0.8552 - val_loss: 0.4153 - val_accuracy: 0.8408\n",
            "Epoch 86/300\n",
            "144/144 [==============================] - 1s 4ms/step - loss: 0.4486 - accuracy: 0.8568 - val_loss: 0.4120 - val_accuracy: 0.8443\n",
            "Epoch 87/300\n",
            "144/144 [==============================] - 1s 4ms/step - loss: 0.4503 - accuracy: 0.8551 - val_loss: 0.4028 - val_accuracy: 0.8492\n",
            "Epoch 88/300\n",
            "144/144 [==============================] - 1s 4ms/step - loss: 0.4493 - accuracy: 0.8547 - val_loss: 0.4478 - val_accuracy: 0.8252\n",
            "Epoch 89/300\n",
            "144/144 [==============================] - 1s 4ms/step - loss: 0.4483 - accuracy: 0.8554 - val_loss: 0.4280 - val_accuracy: 0.8369\n",
            "Epoch 90/300\n",
            "144/144 [==============================] - 1s 4ms/step - loss: 0.4571 - accuracy: 0.8494 - val_loss: 0.4149 - val_accuracy: 0.8462\n",
            "Epoch 91/300\n",
            "144/144 [==============================] - 1s 4ms/step - loss: 0.4482 - accuracy: 0.8553 - val_loss: 0.4144 - val_accuracy: 0.8418\n",
            "Epoch 92/300\n",
            "144/144 [==============================] - 1s 4ms/step - loss: 0.4498 - accuracy: 0.8545 - val_loss: 0.4136 - val_accuracy: 0.8428\n",
            "Epoch 93/300\n",
            "144/144 [==============================] - 1s 4ms/step - loss: 0.4452 - accuracy: 0.8564 - val_loss: 0.4194 - val_accuracy: 0.8379\n",
            "Epoch 94/300\n",
            "144/144 [==============================] - 1s 4ms/step - loss: 0.4508 - accuracy: 0.8524 - val_loss: 0.4263 - val_accuracy: 0.8369\n",
            "Epoch 95/300\n",
            "144/144 [==============================] - 1s 4ms/step - loss: 0.4479 - accuracy: 0.8544 - val_loss: 0.4056 - val_accuracy: 0.8516\n",
            "Epoch 96/300\n",
            "144/144 [==============================] - 1s 4ms/step - loss: 0.4506 - accuracy: 0.8531 - val_loss: 0.4069 - val_accuracy: 0.8492\n",
            "Epoch 97/300\n",
            "144/144 [==============================] - 1s 4ms/step - loss: 0.4445 - accuracy: 0.8576 - val_loss: 0.4106 - val_accuracy: 0.8428\n",
            "Epoch 98/300\n",
            "144/144 [==============================] - 1s 4ms/step - loss: 0.4450 - accuracy: 0.8570 - val_loss: 0.4292 - val_accuracy: 0.8310\n",
            "Epoch 99/300\n",
            "144/144 [==============================] - 1s 4ms/step - loss: 0.4493 - accuracy: 0.8554 - val_loss: 0.4590 - val_accuracy: 0.8036\n",
            "Epoch 100/300\n",
            "144/144 [==============================] - 1s 4ms/step - loss: 0.4434 - accuracy: 0.8579 - val_loss: 0.4015 - val_accuracy: 0.8482\n",
            "Epoch 101/300\n",
            "144/144 [==============================] - 1s 4ms/step - loss: 0.4379 - accuracy: 0.8596 - val_loss: 0.4026 - val_accuracy: 0.8477\n",
            "Epoch 102/300\n",
            "144/144 [==============================] - 1s 4ms/step - loss: 0.4460 - accuracy: 0.8567 - val_loss: 0.4293 - val_accuracy: 0.8310\n",
            "Epoch 103/300\n",
            "144/144 [==============================] - 1s 4ms/step - loss: 0.4431 - accuracy: 0.8582 - val_loss: 0.4080 - val_accuracy: 0.8492\n",
            "Epoch 104/300\n",
            "144/144 [==============================] - 1s 4ms/step - loss: 0.4457 - accuracy: 0.8567 - val_loss: 0.4197 - val_accuracy: 0.8457\n",
            "Epoch 105/300\n",
            "144/144 [==============================] - 1s 4ms/step - loss: 0.4412 - accuracy: 0.8585 - val_loss: 0.4078 - val_accuracy: 0.8462\n",
            "Epoch 106/300\n",
            "144/144 [==============================] - 1s 4ms/step - loss: 0.4395 - accuracy: 0.8575 - val_loss: 0.4226 - val_accuracy: 0.8320\n",
            "Epoch 107/300\n",
            "144/144 [==============================] - 1s 4ms/step - loss: 0.4385 - accuracy: 0.8597 - val_loss: 0.4104 - val_accuracy: 0.8467\n",
            "Epoch 108/300\n",
            "144/144 [==============================] - 1s 4ms/step - loss: 0.4377 - accuracy: 0.8591 - val_loss: 0.4086 - val_accuracy: 0.8472\n",
            "Epoch 109/300\n",
            "144/144 [==============================] - 1s 4ms/step - loss: 0.4356 - accuracy: 0.8603 - val_loss: 0.4044 - val_accuracy: 0.8521\n",
            "Epoch 110/300\n",
            "144/144 [==============================] - 1s 4ms/step - loss: 0.4404 - accuracy: 0.8580 - val_loss: 0.4280 - val_accuracy: 0.8374\n",
            "Epoch 111/300\n",
            "144/144 [==============================] - 1s 4ms/step - loss: 0.4379 - accuracy: 0.8601 - val_loss: 0.4065 - val_accuracy: 0.8448\n",
            "Epoch 112/300\n",
            "144/144 [==============================] - 1s 4ms/step - loss: 0.4372 - accuracy: 0.8603 - val_loss: 0.4057 - val_accuracy: 0.8546\n",
            "Epoch 113/300\n",
            "144/144 [==============================] - 1s 4ms/step - loss: 0.4336 - accuracy: 0.8599 - val_loss: 0.4172 - val_accuracy: 0.8448\n",
            "Epoch 114/300\n",
            "144/144 [==============================] - 1s 4ms/step - loss: 0.4341 - accuracy: 0.8630 - val_loss: 0.4133 - val_accuracy: 0.8418\n",
            "Epoch 115/300\n",
            "144/144 [==============================] - 1s 4ms/step - loss: 0.4321 - accuracy: 0.8604 - val_loss: 0.4056 - val_accuracy: 0.8428\n",
            "Epoch 116/300\n",
            "144/144 [==============================] - 1s 4ms/step - loss: 0.4318 - accuracy: 0.8620 - val_loss: 0.4083 - val_accuracy: 0.8462\n",
            "Epoch 117/300\n",
            "144/144 [==============================] - 1s 4ms/step - loss: 0.4327 - accuracy: 0.8609 - val_loss: 0.4035 - val_accuracy: 0.8511\n",
            "Epoch 118/300\n",
            "144/144 [==============================] - 1s 4ms/step - loss: 0.4367 - accuracy: 0.8594 - val_loss: 0.4023 - val_accuracy: 0.8482\n",
            "Epoch 119/300\n",
            "144/144 [==============================] - 1s 4ms/step - loss: 0.4316 - accuracy: 0.8612 - val_loss: 0.4420 - val_accuracy: 0.8296\n",
            "Epoch 120/300\n",
            "144/144 [==============================] - 1s 4ms/step - loss: 0.4329 - accuracy: 0.8593 - val_loss: 0.4130 - val_accuracy: 0.8413\n",
            "Epoch 121/300\n",
            "144/144 [==============================] - 1s 4ms/step - loss: 0.4303 - accuracy: 0.8609 - val_loss: 0.4123 - val_accuracy: 0.8443\n",
            "Epoch 122/300\n",
            "144/144 [==============================] - 1s 4ms/step - loss: 0.4331 - accuracy: 0.8603 - val_loss: 0.3993 - val_accuracy: 0.8521\n",
            "Epoch 123/300\n",
            "144/144 [==============================] - 1s 4ms/step - loss: 0.4330 - accuracy: 0.8613 - val_loss: 0.3947 - val_accuracy: 0.8541\n",
            "Epoch 124/300\n",
            "144/144 [==============================] - 1s 4ms/step - loss: 0.4274 - accuracy: 0.8660 - val_loss: 0.4049 - val_accuracy: 0.8492\n",
            "Epoch 125/300\n",
            "144/144 [==============================] - 1s 4ms/step - loss: 0.4299 - accuracy: 0.8618 - val_loss: 0.4435 - val_accuracy: 0.8149\n",
            "Epoch 126/300\n",
            "144/144 [==============================] - 1s 4ms/step - loss: 0.4318 - accuracy: 0.8619 - val_loss: 0.3977 - val_accuracy: 0.8541\n",
            "Epoch 127/300\n",
            "144/144 [==============================] - 1s 4ms/step - loss: 0.4247 - accuracy: 0.8644 - val_loss: 0.4125 - val_accuracy: 0.8418\n",
            "Epoch 128/300\n",
            "144/144 [==============================] - 1s 4ms/step - loss: 0.4268 - accuracy: 0.8632 - val_loss: 0.4059 - val_accuracy: 0.8438\n",
            "Epoch 129/300\n",
            "144/144 [==============================] - 1s 4ms/step - loss: 0.4278 - accuracy: 0.8626 - val_loss: 0.3995 - val_accuracy: 0.8506\n",
            "Epoch 130/300\n",
            "144/144 [==============================] - 1s 4ms/step - loss: 0.4263 - accuracy: 0.8633 - val_loss: 0.3997 - val_accuracy: 0.8487\n",
            "Epoch 131/300\n",
            "144/144 [==============================] - 1s 4ms/step - loss: 0.4232 - accuracy: 0.8662 - val_loss: 0.4010 - val_accuracy: 0.8526\n",
            "Epoch 132/300\n",
            "144/144 [==============================] - 1s 4ms/step - loss: 0.4245 - accuracy: 0.8648 - val_loss: 0.4010 - val_accuracy: 0.8516\n",
            "Epoch 133/300\n",
            "144/144 [==============================] - 1s 4ms/step - loss: 0.4304 - accuracy: 0.8603 - val_loss: 0.4016 - val_accuracy: 0.8506\n",
            "Epoch 134/300\n",
            "144/144 [==============================] - 1s 4ms/step - loss: 0.4253 - accuracy: 0.8631 - val_loss: 0.4135 - val_accuracy: 0.8379\n",
            "Epoch 135/300\n",
            "144/144 [==============================] - 1s 4ms/step - loss: 0.4243 - accuracy: 0.8650 - val_loss: 0.4028 - val_accuracy: 0.8477\n",
            "Epoch 136/300\n",
            "144/144 [==============================] - 1s 4ms/step - loss: 0.4242 - accuracy: 0.8656 - val_loss: 0.4590 - val_accuracy: 0.8071\n",
            "Epoch 137/300\n",
            "144/144 [==============================] - 1s 4ms/step - loss: 0.4257 - accuracy: 0.8631 - val_loss: 0.3960 - val_accuracy: 0.8521\n",
            "Epoch 138/300\n",
            "144/144 [==============================] - 1s 4ms/step - loss: 0.4260 - accuracy: 0.8647 - val_loss: 0.3995 - val_accuracy: 0.8482\n",
            "Epoch 139/300\n",
            "144/144 [==============================] - 1s 4ms/step - loss: 0.4181 - accuracy: 0.8675 - val_loss: 0.3997 - val_accuracy: 0.8452\n",
            "Epoch 140/300\n",
            "144/144 [==============================] - 1s 4ms/step - loss: 0.4215 - accuracy: 0.8666 - val_loss: 0.4014 - val_accuracy: 0.8467\n",
            "Epoch 141/300\n",
            "144/144 [==============================] - 1s 4ms/step - loss: 0.4224 - accuracy: 0.8629 - val_loss: 0.3955 - val_accuracy: 0.8526\n",
            "Epoch 142/300\n",
            "144/144 [==============================] - 1s 4ms/step - loss: 0.4182 - accuracy: 0.8677 - val_loss: 0.4048 - val_accuracy: 0.8457\n",
            "Epoch 143/300\n",
            "144/144 [==============================] - 1s 4ms/step - loss: 0.4188 - accuracy: 0.8652 - val_loss: 0.3904 - val_accuracy: 0.8560\n",
            "Epoch 144/300\n",
            "144/144 [==============================] - 1s 4ms/step - loss: 0.4214 - accuracy: 0.8652 - val_loss: 0.4384 - val_accuracy: 0.8320\n",
            "Epoch 145/300\n",
            "144/144 [==============================] - 1s 4ms/step - loss: 0.4183 - accuracy: 0.8654 - val_loss: 0.3951 - val_accuracy: 0.8511\n",
            "Epoch 146/300\n",
            "144/144 [==============================] - 1s 4ms/step - loss: 0.4179 - accuracy: 0.8674 - val_loss: 0.4383 - val_accuracy: 0.8315\n",
            "Epoch 147/300\n",
            "144/144 [==============================] - 1s 4ms/step - loss: 0.4207 - accuracy: 0.8657 - val_loss: 0.4175 - val_accuracy: 0.8320\n",
            "Epoch 148/300\n",
            "144/144 [==============================] - 1s 4ms/step - loss: 0.4138 - accuracy: 0.8674 - val_loss: 0.3945 - val_accuracy: 0.8521\n",
            "Epoch 149/300\n",
            "144/144 [==============================] - 1s 4ms/step - loss: 0.4111 - accuracy: 0.8699 - val_loss: 0.3919 - val_accuracy: 0.8560\n",
            "Epoch 150/300\n",
            "144/144 [==============================] - 1s 4ms/step - loss: 0.4154 - accuracy: 0.8667 - val_loss: 0.4014 - val_accuracy: 0.8477\n",
            "Epoch 151/300\n",
            "144/144 [==============================] - 1s 4ms/step - loss: 0.4168 - accuracy: 0.8676 - val_loss: 0.4039 - val_accuracy: 0.8472\n",
            "Epoch 152/300\n",
            "144/144 [==============================] - 1s 4ms/step - loss: 0.4177 - accuracy: 0.8676 - val_loss: 0.4616 - val_accuracy: 0.8119\n",
            "Epoch 153/300\n",
            "144/144 [==============================] - 1s 4ms/step - loss: 0.4159 - accuracy: 0.8667 - val_loss: 0.3956 - val_accuracy: 0.8516\n",
            "Epoch 154/300\n",
            "144/144 [==============================] - 1s 4ms/step - loss: 0.4124 - accuracy: 0.8674 - val_loss: 0.3928 - val_accuracy: 0.8536\n",
            "Epoch 155/300\n",
            "144/144 [==============================] - 1s 4ms/step - loss: 0.4111 - accuracy: 0.8707 - val_loss: 0.4036 - val_accuracy: 0.8472\n",
            "Epoch 156/300\n",
            "144/144 [==============================] - 1s 4ms/step - loss: 0.4113 - accuracy: 0.8700 - val_loss: 0.3881 - val_accuracy: 0.8575\n",
            "Epoch 157/300\n",
            "144/144 [==============================] - 1s 4ms/step - loss: 0.4113 - accuracy: 0.8686 - val_loss: 0.3876 - val_accuracy: 0.8565\n",
            "Epoch 158/300\n",
            "144/144 [==============================] - 1s 4ms/step - loss: 0.4145 - accuracy: 0.8687 - val_loss: 0.4012 - val_accuracy: 0.8482\n",
            "Epoch 159/300\n",
            "144/144 [==============================] - 1s 4ms/step - loss: 0.4136 - accuracy: 0.8678 - val_loss: 0.4088 - val_accuracy: 0.8482\n",
            "Epoch 160/300\n",
            "144/144 [==============================] - 1s 4ms/step - loss: 0.4124 - accuracy: 0.8694 - val_loss: 0.4328 - val_accuracy: 0.8320\n",
            "Epoch 161/300\n",
            "144/144 [==============================] - 1s 4ms/step - loss: 0.4115 - accuracy: 0.8683 - val_loss: 0.4100 - val_accuracy: 0.8457\n",
            "Epoch 162/300\n",
            "144/144 [==============================] - 1s 4ms/step - loss: 0.4082 - accuracy: 0.8695 - val_loss: 0.4007 - val_accuracy: 0.8487\n",
            "Epoch 163/300\n",
            "144/144 [==============================] - 1s 4ms/step - loss: 0.4099 - accuracy: 0.8701 - val_loss: 0.4372 - val_accuracy: 0.8310\n",
            "Epoch 164/300\n",
            "144/144 [==============================] - 1s 4ms/step - loss: 0.4088 - accuracy: 0.8705 - val_loss: 0.4465 - val_accuracy: 0.8242\n",
            "Epoch 165/300\n",
            "144/144 [==============================] - 1s 4ms/step - loss: 0.4092 - accuracy: 0.8689 - val_loss: 0.3897 - val_accuracy: 0.8565\n",
            "Epoch 166/300\n",
            "144/144 [==============================] - 1s 4ms/step - loss: 0.4065 - accuracy: 0.8712 - val_loss: 0.3975 - val_accuracy: 0.8526\n",
            "Epoch 167/300\n",
            "144/144 [==============================] - 1s 4ms/step - loss: 0.4140 - accuracy: 0.8683 - val_loss: 0.3907 - val_accuracy: 0.8550\n",
            "Epoch 168/300\n",
            "144/144 [==============================] - 1s 4ms/step - loss: 0.4053 - accuracy: 0.8706 - val_loss: 0.4099 - val_accuracy: 0.8418\n",
            "Epoch 169/300\n",
            "144/144 [==============================] - 1s 4ms/step - loss: 0.4083 - accuracy: 0.8691 - val_loss: 0.3908 - val_accuracy: 0.8531\n",
            "Epoch 170/300\n",
            "144/144 [==============================] - 1s 4ms/step - loss: 0.4091 - accuracy: 0.8695 - val_loss: 0.3940 - val_accuracy: 0.8570\n",
            "Epoch 171/300\n",
            "144/144 [==============================] - 1s 4ms/step - loss: 0.4051 - accuracy: 0.8715 - val_loss: 0.3858 - val_accuracy: 0.8599\n",
            "Epoch 172/300\n",
            "144/144 [==============================] - 1s 4ms/step - loss: 0.4054 - accuracy: 0.8706 - val_loss: 0.3912 - val_accuracy: 0.8531\n",
            "Epoch 173/300\n",
            "144/144 [==============================] - 1s 4ms/step - loss: 0.3995 - accuracy: 0.8741 - val_loss: 0.4091 - val_accuracy: 0.8394\n",
            "Epoch 174/300\n",
            "144/144 [==============================] - 1s 4ms/step - loss: 0.4041 - accuracy: 0.8707 - val_loss: 0.4161 - val_accuracy: 0.8325\n",
            "Epoch 175/300\n",
            "144/144 [==============================] - 1s 4ms/step - loss: 0.4118 - accuracy: 0.8677 - val_loss: 0.4059 - val_accuracy: 0.8433\n",
            "Epoch 176/300\n",
            "144/144 [==============================] - 1s 4ms/step - loss: 0.4029 - accuracy: 0.8727 - val_loss: 0.3944 - val_accuracy: 0.8546\n",
            "Epoch 177/300\n",
            "144/144 [==============================] - 1s 4ms/step - loss: 0.4059 - accuracy: 0.8704 - val_loss: 0.4251 - val_accuracy: 0.8335\n",
            "Epoch 178/300\n",
            "144/144 [==============================] - 1s 4ms/step - loss: 0.4003 - accuracy: 0.8719 - val_loss: 0.4566 - val_accuracy: 0.8110\n",
            "Epoch 179/300\n",
            "144/144 [==============================] - 1s 4ms/step - loss: 0.4043 - accuracy: 0.8689 - val_loss: 0.3892 - val_accuracy: 0.8541\n",
            "Epoch 180/300\n",
            "144/144 [==============================] - 1s 4ms/step - loss: 0.3999 - accuracy: 0.8728 - val_loss: 0.3931 - val_accuracy: 0.8541\n",
            "Epoch 181/300\n",
            "144/144 [==============================] - 1s 4ms/step - loss: 0.3985 - accuracy: 0.8730 - val_loss: 0.4227 - val_accuracy: 0.8394\n",
            "Epoch 182/300\n",
            "144/144 [==============================] - 1s 4ms/step - loss: 0.3994 - accuracy: 0.8730 - val_loss: 0.4134 - val_accuracy: 0.8408\n",
            "Epoch 183/300\n",
            "144/144 [==============================] - 1s 4ms/step - loss: 0.4039 - accuracy: 0.8717 - val_loss: 0.4069 - val_accuracy: 0.8443\n",
            "Epoch 184/300\n",
            "144/144 [==============================] - 1s 4ms/step - loss: 0.4006 - accuracy: 0.8707 - val_loss: 0.3994 - val_accuracy: 0.8472\n",
            "Epoch 185/300\n",
            "144/144 [==============================] - 1s 4ms/step - loss: 0.3967 - accuracy: 0.8737 - val_loss: 0.3870 - val_accuracy: 0.8575\n",
            "Epoch 186/300\n",
            "144/144 [==============================] - 1s 4ms/step - loss: 0.4036 - accuracy: 0.8706 - val_loss: 0.3927 - val_accuracy: 0.8526\n",
            "Epoch 187/300\n",
            "144/144 [==============================] - 1s 4ms/step - loss: 0.3983 - accuracy: 0.8728 - val_loss: 0.4027 - val_accuracy: 0.8443\n",
            "Epoch 188/300\n",
            "144/144 [==============================] - 1s 4ms/step - loss: 0.4024 - accuracy: 0.8741 - val_loss: 0.4031 - val_accuracy: 0.8477\n",
            "Epoch 189/300\n",
            "144/144 [==============================] - 1s 4ms/step - loss: 0.3996 - accuracy: 0.8731 - val_loss: 0.4047 - val_accuracy: 0.8379\n",
            "Epoch 190/300\n",
            "144/144 [==============================] - 1s 4ms/step - loss: 0.3941 - accuracy: 0.8736 - val_loss: 0.3860 - val_accuracy: 0.8590\n",
            "Epoch 191/300\n",
            "144/144 [==============================] - 1s 4ms/step - loss: 0.3992 - accuracy: 0.8737 - val_loss: 0.3963 - val_accuracy: 0.8541\n",
            "Epoch 192/300\n",
            "144/144 [==============================] - 1s 4ms/step - loss: 0.3966 - accuracy: 0.8737 - val_loss: 0.3893 - val_accuracy: 0.8590\n",
            "Epoch 193/300\n",
            "144/144 [==============================] - 1s 4ms/step - loss: 0.3956 - accuracy: 0.8753 - val_loss: 0.3941 - val_accuracy: 0.8555\n",
            "Epoch 194/300\n",
            "144/144 [==============================] - 1s 4ms/step - loss: 0.3946 - accuracy: 0.8755 - val_loss: 0.3959 - val_accuracy: 0.8526\n",
            "Epoch 195/300\n",
            "144/144 [==============================] - 1s 4ms/step - loss: 0.3938 - accuracy: 0.8751 - val_loss: 0.3930 - val_accuracy: 0.8546\n",
            "Epoch 196/300\n",
            "144/144 [==============================] - 1s 4ms/step - loss: 0.3944 - accuracy: 0.8742 - val_loss: 0.4213 - val_accuracy: 0.8364\n",
            "Epoch 197/300\n",
            "144/144 [==============================] - 1s 4ms/step - loss: 0.3945 - accuracy: 0.8729 - val_loss: 0.3876 - val_accuracy: 0.8555\n",
            "Epoch 198/300\n",
            "144/144 [==============================] - 1s 4ms/step - loss: 0.3961 - accuracy: 0.8732 - val_loss: 0.3821 - val_accuracy: 0.8629\n",
            "Epoch 199/300\n",
            "144/144 [==============================] - 1s 4ms/step - loss: 0.3921 - accuracy: 0.8759 - val_loss: 0.3823 - val_accuracy: 0.8624\n",
            "Epoch 200/300\n",
            "144/144 [==============================] - 1s 4ms/step - loss: 0.3936 - accuracy: 0.8776 - val_loss: 0.3881 - val_accuracy: 0.8546\n",
            "Epoch 201/300\n",
            "144/144 [==============================] - 1s 4ms/step - loss: 0.3917 - accuracy: 0.8738 - val_loss: 0.4062 - val_accuracy: 0.8467\n",
            "Epoch 202/300\n",
            "144/144 [==============================] - 1s 4ms/step - loss: 0.3890 - accuracy: 0.8768 - val_loss: 0.3988 - val_accuracy: 0.8531\n",
            "Epoch 203/300\n",
            "144/144 [==============================] - 1s 4ms/step - loss: 0.3898 - accuracy: 0.8763 - val_loss: 0.3898 - val_accuracy: 0.8560\n",
            "Epoch 204/300\n",
            "144/144 [==============================] - 1s 4ms/step - loss: 0.3931 - accuracy: 0.8767 - val_loss: 0.3903 - val_accuracy: 0.8550\n",
            "Epoch 205/300\n",
            "144/144 [==============================] - 1s 4ms/step - loss: 0.3927 - accuracy: 0.8745 - val_loss: 0.4006 - val_accuracy: 0.8482\n",
            "Epoch 206/300\n",
            "144/144 [==============================] - 1s 4ms/step - loss: 0.3916 - accuracy: 0.8763 - val_loss: 0.3976 - val_accuracy: 0.8511\n",
            "Epoch 207/300\n",
            "144/144 [==============================] - 1s 4ms/step - loss: 0.3883 - accuracy: 0.8765 - val_loss: 0.4038 - val_accuracy: 0.8462\n",
            "Epoch 208/300\n",
            "144/144 [==============================] - 1s 4ms/step - loss: 0.3890 - accuracy: 0.8762 - val_loss: 0.3854 - val_accuracy: 0.8565\n",
            "Epoch 209/300\n",
            "144/144 [==============================] - 1s 4ms/step - loss: 0.3887 - accuracy: 0.8775 - val_loss: 0.3853 - val_accuracy: 0.8614\n",
            "Epoch 210/300\n",
            "144/144 [==============================] - 1s 4ms/step - loss: 0.3861 - accuracy: 0.8781 - val_loss: 0.3906 - val_accuracy: 0.8546\n",
            "Epoch 211/300\n",
            "144/144 [==============================] - 1s 4ms/step - loss: 0.3859 - accuracy: 0.8775 - val_loss: 0.3889 - val_accuracy: 0.8560\n",
            "Epoch 212/300\n",
            "144/144 [==============================] - 1s 4ms/step - loss: 0.3876 - accuracy: 0.8778 - val_loss: 0.3964 - val_accuracy: 0.8516\n",
            "Epoch 213/300\n",
            "144/144 [==============================] - 1s 4ms/step - loss: 0.3922 - accuracy: 0.8756 - val_loss: 0.3965 - val_accuracy: 0.8526\n",
            "Epoch 214/300\n",
            "144/144 [==============================] - 1s 4ms/step - loss: 0.3862 - accuracy: 0.8767 - val_loss: 0.3823 - val_accuracy: 0.8614\n",
            "Epoch 215/300\n",
            "144/144 [==============================] - 1s 4ms/step - loss: 0.3882 - accuracy: 0.8779 - val_loss: 0.3899 - val_accuracy: 0.8565\n",
            "Epoch 216/300\n",
            "144/144 [==============================] - 1s 4ms/step - loss: 0.3888 - accuracy: 0.8768 - val_loss: 0.4111 - val_accuracy: 0.8467\n",
            "Epoch 217/300\n",
            "144/144 [==============================] - 1s 4ms/step - loss: 0.3873 - accuracy: 0.8782 - val_loss: 0.4479 - val_accuracy: 0.8198\n",
            "Epoch 218/300\n",
            "144/144 [==============================] - 1s 4ms/step - loss: 0.3934 - accuracy: 0.8733 - val_loss: 0.3812 - val_accuracy: 0.8609\n",
            "Epoch 219/300\n",
            "144/144 [==============================] - 1s 4ms/step - loss: 0.3799 - accuracy: 0.8794 - val_loss: 0.3981 - val_accuracy: 0.8541\n",
            "Epoch 220/300\n",
            "144/144 [==============================] - 1s 4ms/step - loss: 0.3818 - accuracy: 0.8793 - val_loss: 0.3866 - val_accuracy: 0.8565\n",
            "Epoch 221/300\n",
            "144/144 [==============================] - 1s 4ms/step - loss: 0.3813 - accuracy: 0.8796 - val_loss: 0.3942 - val_accuracy: 0.8531\n",
            "Epoch 222/300\n",
            "144/144 [==============================] - 1s 4ms/step - loss: 0.3825 - accuracy: 0.8783 - val_loss: 0.3914 - val_accuracy: 0.8531\n",
            "Epoch 223/300\n",
            "144/144 [==============================] - 1s 4ms/step - loss: 0.3794 - accuracy: 0.8791 - val_loss: 0.3973 - val_accuracy: 0.8472\n",
            "Epoch 224/300\n",
            "144/144 [==============================] - 1s 4ms/step - loss: 0.3800 - accuracy: 0.8808 - val_loss: 0.3854 - val_accuracy: 0.8565\n",
            "Epoch 225/300\n",
            "144/144 [==============================] - 1s 4ms/step - loss: 0.3824 - accuracy: 0.8781 - val_loss: 0.3948 - val_accuracy: 0.8541\n",
            "Epoch 226/300\n",
            "144/144 [==============================] - 1s 4ms/step - loss: 0.3805 - accuracy: 0.8787 - val_loss: 0.3981 - val_accuracy: 0.8511\n",
            "Epoch 227/300\n",
            "144/144 [==============================] - 1s 4ms/step - loss: 0.3838 - accuracy: 0.8785 - val_loss: 0.3987 - val_accuracy: 0.8501\n",
            "Epoch 228/300\n",
            "144/144 [==============================] - 1s 4ms/step - loss: 0.3766 - accuracy: 0.8798 - val_loss: 0.4015 - val_accuracy: 0.8521\n",
            "Epoch 229/300\n",
            "144/144 [==============================] - 1s 4ms/step - loss: 0.3795 - accuracy: 0.8781 - val_loss: 0.3828 - val_accuracy: 0.8580\n",
            "Epoch 230/300\n",
            "144/144 [==============================] - 1s 4ms/step - loss: 0.3760 - accuracy: 0.8828 - val_loss: 0.4066 - val_accuracy: 0.8452\n",
            "Epoch 231/300\n",
            "144/144 [==============================] - 1s 4ms/step - loss: 0.3799 - accuracy: 0.8778 - val_loss: 0.4175 - val_accuracy: 0.8487\n",
            "Epoch 232/300\n",
            "144/144 [==============================] - 1s 4ms/step - loss: 0.3794 - accuracy: 0.8802 - val_loss: 0.3911 - val_accuracy: 0.8550\n",
            "Epoch 233/300\n",
            "144/144 [==============================] - 1s 4ms/step - loss: 0.3786 - accuracy: 0.8826 - val_loss: 0.3958 - val_accuracy: 0.8541\n",
            "Epoch 234/300\n",
            "144/144 [==============================] - 1s 4ms/step - loss: 0.3804 - accuracy: 0.8802 - val_loss: 0.3949 - val_accuracy: 0.8516\n",
            "Epoch 235/300\n",
            "144/144 [==============================] - 1s 4ms/step - loss: 0.3743 - accuracy: 0.8832 - val_loss: 0.4072 - val_accuracy: 0.8487\n",
            "Epoch 236/300\n",
            "144/144 [==============================] - 1s 4ms/step - loss: 0.3770 - accuracy: 0.8811 - val_loss: 0.4005 - val_accuracy: 0.8531\n",
            "Epoch 237/300\n",
            "144/144 [==============================] - 1s 4ms/step - loss: 0.3741 - accuracy: 0.8824 - val_loss: 0.3931 - val_accuracy: 0.8487\n",
            "Epoch 238/300\n",
            "144/144 [==============================] - 1s 4ms/step - loss: 0.3741 - accuracy: 0.8822 - val_loss: 0.3872 - val_accuracy: 0.8590\n",
            "Epoch 239/300\n",
            "144/144 [==============================] - 1s 4ms/step - loss: 0.3711 - accuracy: 0.8821 - val_loss: 0.3971 - val_accuracy: 0.8555\n",
            "Epoch 240/300\n",
            "144/144 [==============================] - 1s 4ms/step - loss: 0.3748 - accuracy: 0.8807 - val_loss: 0.4233 - val_accuracy: 0.8345\n",
            "Epoch 241/300\n",
            "144/144 [==============================] - 1s 4ms/step - loss: 0.3774 - accuracy: 0.8816 - val_loss: 0.4253 - val_accuracy: 0.8394\n",
            "Epoch 242/300\n",
            "144/144 [==============================] - 1s 4ms/step - loss: 0.3728 - accuracy: 0.8825 - val_loss: 0.3941 - val_accuracy: 0.8565\n",
            "Epoch 243/300\n",
            "144/144 [==============================] - 1s 4ms/step - loss: 0.3738 - accuracy: 0.8833 - val_loss: 0.3840 - val_accuracy: 0.8590\n",
            "Epoch 244/300\n",
            "144/144 [==============================] - 1s 4ms/step - loss: 0.3696 - accuracy: 0.8854 - val_loss: 0.4169 - val_accuracy: 0.8423\n",
            "Epoch 245/300\n",
            "144/144 [==============================] - 1s 4ms/step - loss: 0.3828 - accuracy: 0.8782 - val_loss: 0.3825 - val_accuracy: 0.8590\n",
            "Epoch 246/300\n",
            "144/144 [==============================] - 1s 4ms/step - loss: 0.3704 - accuracy: 0.8830 - val_loss: 0.4003 - val_accuracy: 0.8531\n",
            "Epoch 247/300\n",
            "144/144 [==============================] - 1s 4ms/step - loss: 0.3669 - accuracy: 0.8847 - val_loss: 0.3942 - val_accuracy: 0.8487\n",
            "Epoch 248/300\n",
            "144/144 [==============================] - 1s 4ms/step - loss: 0.3694 - accuracy: 0.8830 - val_loss: 0.3846 - val_accuracy: 0.8595\n",
            "Epoch 249/300\n",
            "144/144 [==============================] - 1s 4ms/step - loss: 0.3715 - accuracy: 0.8835 - val_loss: 0.4015 - val_accuracy: 0.8462\n",
            "Epoch 250/300\n",
            "144/144 [==============================] - 1s 4ms/step - loss: 0.3669 - accuracy: 0.8843 - val_loss: 0.4199 - val_accuracy: 0.8389\n",
            "Epoch 251/300\n",
            "144/144 [==============================] - 1s 4ms/step - loss: 0.3720 - accuracy: 0.8824 - val_loss: 0.3886 - val_accuracy: 0.8585\n",
            "Epoch 252/300\n",
            "144/144 [==============================] - 1s 4ms/step - loss: 0.3689 - accuracy: 0.8833 - val_loss: 0.4035 - val_accuracy: 0.8492\n",
            "Epoch 253/300\n",
            "144/144 [==============================] - 1s 4ms/step - loss: 0.3728 - accuracy: 0.8823 - val_loss: 0.4057 - val_accuracy: 0.8433\n",
            "Epoch 254/300\n",
            "144/144 [==============================] - 1s 4ms/step - loss: 0.3749 - accuracy: 0.8830 - val_loss: 0.3829 - val_accuracy: 0.8590\n",
            "Epoch 255/300\n",
            "144/144 [==============================] - 1s 4ms/step - loss: 0.3707 - accuracy: 0.8813 - val_loss: 0.3862 - val_accuracy: 0.8585\n",
            "Epoch 256/300\n",
            "144/144 [==============================] - 1s 4ms/step - loss: 0.3667 - accuracy: 0.8848 - val_loss: 0.3827 - val_accuracy: 0.8609\n",
            "Epoch 257/300\n",
            "144/144 [==============================] - 1s 4ms/step - loss: 0.3640 - accuracy: 0.8860 - val_loss: 0.3870 - val_accuracy: 0.8565\n",
            "Epoch 258/300\n",
            "144/144 [==============================] - 1s 4ms/step - loss: 0.3644 - accuracy: 0.8845 - val_loss: 0.3917 - val_accuracy: 0.8541\n",
            "Epoch 259/300\n",
            "144/144 [==============================] - 1s 4ms/step - loss: 0.3626 - accuracy: 0.8857 - val_loss: 0.4042 - val_accuracy: 0.8457\n",
            "Epoch 260/300\n",
            "144/144 [==============================] - 1s 4ms/step - loss: 0.3656 - accuracy: 0.8845 - val_loss: 0.3879 - val_accuracy: 0.8511\n",
            "Epoch 261/300\n",
            "144/144 [==============================] - 1s 4ms/step - loss: 0.3722 - accuracy: 0.8818 - val_loss: 0.4038 - val_accuracy: 0.8477\n",
            "Epoch 262/300\n",
            "144/144 [==============================] - 1s 4ms/step - loss: 0.3677 - accuracy: 0.8819 - val_loss: 0.4024 - val_accuracy: 0.8531\n",
            "Epoch 263/300\n",
            "144/144 [==============================] - 1s 4ms/step - loss: 0.3691 - accuracy: 0.8815 - val_loss: 0.3867 - val_accuracy: 0.8555\n",
            "Epoch 264/300\n",
            "144/144 [==============================] - 1s 4ms/step - loss: 0.3655 - accuracy: 0.8860 - val_loss: 0.3825 - val_accuracy: 0.8590\n",
            "Epoch 265/300\n",
            "144/144 [==============================] - 1s 4ms/step - loss: 0.3703 - accuracy: 0.8834 - val_loss: 0.3856 - val_accuracy: 0.8595\n",
            "Epoch 266/300\n",
            "144/144 [==============================] - 1s 4ms/step - loss: 0.3633 - accuracy: 0.8849 - val_loss: 0.4026 - val_accuracy: 0.8452\n",
            "Epoch 267/300\n",
            "144/144 [==============================] - 1s 4ms/step - loss: 0.3638 - accuracy: 0.8846 - val_loss: 0.3845 - val_accuracy: 0.8604\n",
            "Epoch 268/300\n",
            "144/144 [==============================] - 1s 4ms/step - loss: 0.3620 - accuracy: 0.8863 - val_loss: 0.3868 - val_accuracy: 0.8565\n",
            "Epoch 269/300\n",
            "144/144 [==============================] - 1s 4ms/step - loss: 0.3631 - accuracy: 0.8855 - val_loss: 0.4068 - val_accuracy: 0.8482\n",
            "Epoch 270/300\n",
            "144/144 [==============================] - 1s 4ms/step - loss: 0.3605 - accuracy: 0.8876 - val_loss: 0.3808 - val_accuracy: 0.8624\n",
            "Epoch 271/300\n",
            "144/144 [==============================] - 1s 4ms/step - loss: 0.3646 - accuracy: 0.8858 - val_loss: 0.4171 - val_accuracy: 0.8418\n",
            "Epoch 272/300\n",
            "144/144 [==============================] - 1s 4ms/step - loss: 0.3578 - accuracy: 0.8897 - val_loss: 0.4093 - val_accuracy: 0.8482\n",
            "Epoch 273/300\n",
            "144/144 [==============================] - 1s 4ms/step - loss: 0.3626 - accuracy: 0.8844 - val_loss: 0.3841 - val_accuracy: 0.8614\n",
            "Epoch 274/300\n",
            "144/144 [==============================] - 1s 4ms/step - loss: 0.3598 - accuracy: 0.8865 - val_loss: 0.3948 - val_accuracy: 0.8565\n",
            "Epoch 275/300\n",
            "144/144 [==============================] - 1s 4ms/step - loss: 0.3598 - accuracy: 0.8873 - val_loss: 0.4114 - val_accuracy: 0.8467\n",
            "Epoch 276/300\n",
            "144/144 [==============================] - 1s 4ms/step - loss: 0.3619 - accuracy: 0.8863 - val_loss: 0.3950 - val_accuracy: 0.8555\n",
            "Epoch 277/300\n",
            "144/144 [==============================] - 1s 4ms/step - loss: 0.3540 - accuracy: 0.8900 - val_loss: 0.3833 - val_accuracy: 0.8599\n",
            "Epoch 278/300\n",
            "144/144 [==============================] - 1s 4ms/step - loss: 0.3636 - accuracy: 0.8866 - val_loss: 0.3904 - val_accuracy: 0.8595\n",
            "Epoch 279/300\n",
            "144/144 [==============================] - 1s 4ms/step - loss: 0.3576 - accuracy: 0.8885 - val_loss: 0.4189 - val_accuracy: 0.8423\n",
            "Epoch 280/300\n",
            "144/144 [==============================] - 1s 4ms/step - loss: 0.3573 - accuracy: 0.8877 - val_loss: 0.4029 - val_accuracy: 0.8511\n",
            "Epoch 281/300\n",
            "144/144 [==============================] - 1s 4ms/step - loss: 0.3605 - accuracy: 0.8862 - val_loss: 0.4043 - val_accuracy: 0.8462\n",
            "Epoch 282/300\n",
            "144/144 [==============================] - 1s 4ms/step - loss: 0.3599 - accuracy: 0.8871 - val_loss: 0.3911 - val_accuracy: 0.8546\n",
            "Epoch 283/300\n",
            "144/144 [==============================] - 1s 4ms/step - loss: 0.3508 - accuracy: 0.8916 - val_loss: 0.3925 - val_accuracy: 0.8560\n",
            "Epoch 284/300\n",
            "144/144 [==============================] - 1s 4ms/step - loss: 0.3551 - accuracy: 0.8891 - val_loss: 0.4087 - val_accuracy: 0.8482\n",
            "Epoch 285/300\n",
            "144/144 [==============================] - 1s 4ms/step - loss: 0.3534 - accuracy: 0.8882 - val_loss: 0.3906 - val_accuracy: 0.8585\n",
            "Epoch 286/300\n",
            "144/144 [==============================] - 1s 4ms/step - loss: 0.3533 - accuracy: 0.8901 - val_loss: 0.3871 - val_accuracy: 0.8575\n",
            "Epoch 287/300\n",
            "144/144 [==============================] - 1s 4ms/step - loss: 0.3531 - accuracy: 0.8894 - val_loss: 0.4101 - val_accuracy: 0.8521\n",
            "Epoch 288/300\n",
            "144/144 [==============================] - 1s 4ms/step - loss: 0.3535 - accuracy: 0.8879 - val_loss: 0.3862 - val_accuracy: 0.8585\n",
            "Epoch 289/300\n",
            "144/144 [==============================] - 1s 4ms/step - loss: 0.3507 - accuracy: 0.8897 - val_loss: 0.3849 - val_accuracy: 0.8614\n",
            "Epoch 290/300\n",
            "144/144 [==============================] - 1s 4ms/step - loss: 0.3486 - accuracy: 0.8918 - val_loss: 0.4221 - val_accuracy: 0.8418\n",
            "Epoch 291/300\n",
            "144/144 [==============================] - 1s 4ms/step - loss: 0.3519 - accuracy: 0.8884 - val_loss: 0.3861 - val_accuracy: 0.8585\n",
            "Epoch 292/300\n",
            "144/144 [==============================] - 1s 4ms/step - loss: 0.3486 - accuracy: 0.8908 - val_loss: 0.3960 - val_accuracy: 0.8516\n",
            "Epoch 293/300\n",
            "144/144 [==============================] - 1s 4ms/step - loss: 0.3560 - accuracy: 0.8884 - val_loss: 0.3979 - val_accuracy: 0.8526\n",
            "Epoch 294/300\n",
            "144/144 [==============================] - 1s 4ms/step - loss: 0.3478 - accuracy: 0.8914 - val_loss: 0.3952 - val_accuracy: 0.8575\n",
            "Epoch 295/300\n",
            "144/144 [==============================] - 1s 4ms/step - loss: 0.3529 - accuracy: 0.8882 - val_loss: 0.3929 - val_accuracy: 0.8511\n",
            "Epoch 296/300\n",
            "144/144 [==============================] - 1s 4ms/step - loss: 0.3482 - accuracy: 0.8914 - val_loss: 0.3900 - val_accuracy: 0.8604\n",
            "Epoch 297/300\n",
            "144/144 [==============================] - 1s 4ms/step - loss: 0.3500 - accuracy: 0.8902 - val_loss: 0.4275 - val_accuracy: 0.8438\n",
            "Epoch 298/300\n",
            "144/144 [==============================] - 1s 4ms/step - loss: 0.3482 - accuracy: 0.8921 - val_loss: 0.4037 - val_accuracy: 0.8472\n",
            "Epoch 299/300\n",
            "144/144 [==============================] - 1s 4ms/step - loss: 0.3503 - accuracy: 0.8896 - val_loss: 0.4153 - val_accuracy: 0.8413\n",
            "Epoch 300/300\n",
            "144/144 [==============================] - 1s 4ms/step - loss: 0.3491 - accuracy: 0.8914 - val_loss: 0.4094 - val_accuracy: 0.8472\n"
          ],
          "name": "stdout"
        }
      ]
    },
    {
      "cell_type": "code",
      "metadata": {
        "id": "nvoMPd0QNVyV",
        "outputId": "6d77355c-ad63-4f6b-877b-607a178d3a2b",
        "colab": {
          "base_uri": "https://localhost:8080/",
          "height": 513
        }
      },
      "source": [
        "plt.plot(hist.history['loss'])\n",
        "plt.plot(hist.history['val_loss'])\n",
        "plt.show()\n",
        "\n",
        "plt.plot(hist.history['accuracy'])\n",
        "plt.plot(hist.history['val_accuracy'])\n",
        "plt.show()"
      ],
      "execution_count": 73,
      "outputs": [
        {
          "output_type": "display_data",
          "data": {
            "image/png": "[encoded data removed]",
            "text/plain": [
              "<Figure size 432x288 with 1 Axes>"
            ]
          },
          "metadata": {
            "tags": [],
            "needs_background": "light"
          }
        },
        {
          "output_type": "display_data",
          "data": {
            "image/png": "[encoded data removed]",
            "text/plain": [
              "<Figure size 432x288 with 1 Axes>"
            ]
          },
          "metadata": {
            "tags": [],
            "needs_background": "light"
          }
        }
      ]
    },
    {
      "cell_type": "code",
      "metadata": {
        "id": "RCVjX1bgNa8Y",
        "outputId": "5ddf35c6-3862-41ca-941b-1ba918af5bb5",
        "colab": {
          "base_uri": "https://localhost:8080/"
        }
      },
      "source": [
        "loss, acc = model.evaluate(test_x, test_y)\n",
        "print(\"loss=\",loss)\n",
        "print(\"acc=\",acc)"
      ],
      "execution_count": 74,
      "outputs": [
        {
          "output_type": "stream",
          "text": [
            "160/160 [==============================] - 0s 2ms/step - loss: 0.3889 - accuracy: 0.8505\n",
            "loss= 0.38889724016189575\n",
            "acc= 0.8505094051361084\n"
          ],
          "name": "stdout"
        }
      ]
    }
  ]
}