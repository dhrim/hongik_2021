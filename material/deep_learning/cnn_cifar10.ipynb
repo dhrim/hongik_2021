{
  "nbformat": 4,
  "nbformat_minor": 0,
  "metadata": {
    "colab": {
      "name": "cnn_cifar10.ipynb",
      "provenance": [],
      "collapsed_sections": []
    },
    "kernelspec": {
      "name": "python3",
      "display_name": "Python 3"
    },
    "accelerator": "GPU"
  },
  "cells": [
    {
      "cell_type": "markdown",
      "metadata": {
        "id": "c503DSvxvOU5"
      },
      "source": [
        "# 이전 CNN 코드"
      ]
    },
    {
      "cell_type": "code",
      "metadata": {
        "id": "pH--ADDvhXQM"
      },
      "source": [
        "import numpy as np\n",
        "import matplotlib.pyplot as plt\n",
        "\n",
        "import tensorflow as tf\n",
        "from tensorflow import keras\n",
        "from tensorflow.keras import optimizers\n",
        "from tensorflow.keras.layers import Dense, Flatten, Conv2D, MaxPooling2D, BatchNormalization, Input, Reshape\n",
        "\n",
        "import time"
      ],
      "execution_count": null,
      "outputs": []
    },
    {
      "cell_type": "code",
      "metadata": {
        "id": "puN5QRLz2toU"
      },
      "source": [
        "(raw_train_x, raw_train_y), (raw_test_x, raw_test_y) = tf.keras.datasets.mnist.load_data()\n",
        "\n",
        "train_x = raw_train_x/255\n",
        "test_x = raw_test_x/255\n",
        "\n",
        "train_y = raw_train_y\n",
        "test_y = raw_test_y"
      ],
      "execution_count": null,
      "outputs": []
    },
    {
      "cell_type": "code",
      "metadata": {
        "id": "tq5f7FWOyKq4"
      },
      "source": [
        "# 실습 시에는 시간 관계로 일부만 사용한다.\n",
        "train_x = train_x[:10000] # ADDED\n",
        "train_y = train_y[:10000] # ADDED"
      ],
      "execution_count": null,
      "outputs": []
    },
    {
      "cell_type": "code",
      "metadata": {
        "id": "cuW2ftNT2trB",
        "colab": {
          "base_uri": "https://localhost:8080/"
        },
        "outputId": "fa03570e-2c3c-4893-aaaa-f424d7451dc4"
      },
      "source": [
        "model = keras.Sequential()\n",
        "model.add(Input((28,28)))\n",
        "model.add(Reshape((28,28,1)))\n",
        "model.add(Conv2D(32, (3, 3)))\n",
        "model.add(MaxPooling2D((2, 2)))\n",
        "model.add(Conv2D(64, (3, 3)))\n",
        "model.add(MaxPooling2D((2, 2)))\n",
        "model.add(Flatten())\n",
        "model.add(Dense(10, activation='relu'))\n",
        "model.add(Dense(10, activation='relu'))\n",
        "model.add(Dense(10, activation='softmax'))\n",
        "\n",
        "model.compile(optimizer=\"adam\", loss=\"sparse_categorical_crossentropy\", metrics=[\"accuracy\"])\n",
        "model.summary()\n",
        "\n",
        "\n",
        "model.fit(train_x, train_y, epochs=5, verbose=1, batch_size=128)\n",
        "\n",
        "\n",
        "loss, acc = model.evaluate(test_x, test_y)\n",
        "print(\"loss=\",loss)\n",
        "print(\"acc=\",acc)\n",
        "\n",
        "y_ = model.predict(test_x)\n",
        "predicted = np.argmax(y_, axis=1)\n",
        "\n",
        "print(predicted)\n"
      ],
      "execution_count": null,
      "outputs": [
        {
          "output_type": "stream",
          "text": [
            "WARNING:tensorflow:From /tensorflow-1.15.2/python3.7/tensorflow_core/python/ops/resource_variable_ops.py:1630: calling BaseResourceVariable.__init__ (from tensorflow.python.ops.resource_variable_ops) with constraint is deprecated and will be removed in a future version.\n",
            "Instructions for updating:\n",
            "If using Keras pass *_constraint arguments to layers.\n",
            "Model: \"sequential_1\"\n",
            "_________________________________________________________________\n",
            "Layer (type)                 Output Shape              Param #   \n",
            "=================================================================\n",
            "reshape (Reshape)            (None, 28, 28, 1)         0         \n",
            "_________________________________________________________________\n",
            "conv2d (Conv2D)              (None, 26, 26, 32)        320       \n",
            "_________________________________________________________________\n",
            "max_pooling2d (MaxPooling2D) (None, 13, 13, 32)        0         \n",
            "_________________________________________________________________\n",
            "conv2d_1 (Conv2D)            (None, 11, 11, 64)        18496     \n",
            "_________________________________________________________________\n",
            "max_pooling2d_1 (MaxPooling2 (None, 5, 5, 64)          0         \n",
            "_________________________________________________________________\n",
            "flatten (Flatten)            (None, 1600)              0         \n",
            "_________________________________________________________________\n",
            "dense (Dense)                (None, 10)                16010     \n",
            "_________________________________________________________________\n",
            "dense_1 (Dense)              (None, 10)                110       \n",
            "_________________________________________________________________\n",
            "dense_2 (Dense)              (None, 10)                110       \n",
            "=================================================================\n",
            "Total params: 35,046\n",
            "Trainable params: 35,046\n",
            "Non-trainable params: 0\n",
            "_________________________________________________________________\n",
            "Train on 10000 samples\n",
            "Epoch 1/5\n",
            "10000/10000 [==============================] - 7s 686us/sample - loss: 1.5123 - acc: 0.4507\n",
            "Epoch 2/5\n",
            "10000/10000 [==============================] - 6s 644us/sample - loss: 0.5193 - acc: 0.8520\n",
            "Epoch 3/5\n",
            "10000/10000 [==============================] - 6s 645us/sample - loss: 0.3160 - acc: 0.9141\n",
            "Epoch 4/5\n",
            "10000/10000 [==============================] - 6s 645us/sample - loss: 0.2379 - acc: 0.9333\n",
            "Epoch 5/5\n",
            "10000/10000 [==============================] - 6s 641us/sample - loss: 0.1904 - acc: 0.9441\n",
            "10000/10000 [==============================] - 3s 311us/sample - loss: 0.1933 - acc: 0.9460\n",
            "loss= 0.19326444385498762\n",
            "acc= 0.946\n",
            "[7 2 1 ... 4 5 6]\n"
          ],
          "name": "stdout"
        }
      ]
    },
    {
      "cell_type": "markdown",
      "metadata": {
        "id": "54-uB1LWA-5R"
      },
      "source": [
        "# CIFAR10 적용\n",
        "\n",
        "refered https://www.cs.toronto.edu/~kriz/cifar.html\n"
      ]
    },
    {
      "cell_type": "code",
      "metadata": {
        "id": "oPclK8DGA_gw",
        "colab": {
          "base_uri": "https://localhost:8080/"
        },
        "outputId": "533b580f-34fe-43e4-a9ff-78c98cf9b6d7"
      },
      "source": [
        "# (raw_train_x, raw_train_y), (raw_test_x, raw_test_y) = tf.keras.datasets.mnist.load_data()\n",
        "(raw_train_x, raw_train_y), (raw_test_x, raw_test_y) = tf.keras.datasets.cifar10.load_data()\n",
        "\n",
        "print(raw_train_x.shape)\n",
        "print(raw_train_y.shape)\n",
        "print(raw_test_x.shape)\n",
        "print(raw_test_y.shape)\n",
        "\n",
        "\n",
        "train_x = raw_train_x/255\n",
        "test_x = raw_test_x/255\n",
        "\n",
        "train_y = raw_train_y\n",
        "test_y = raw_test_y"
      ],
      "execution_count": null,
      "outputs": [
        {
          "output_type": "stream",
          "text": [
            "Downloading data from https://www.cs.toronto.edu/~kriz/cifar-10-python.tar.gz\n",
            "170500096/170498071 [==============================] - 4s 0us/step\n",
            "(50000, 32, 32, 3)\n",
            "(50000, 1)\n",
            "(10000, 32, 32, 3)\n",
            "(10000, 1)\n"
          ],
          "name": "stdout"
        }
      ]
    },
    {
      "cell_type": "code",
      "metadata": {
        "id": "SrbJDeptkD3j",
        "colab": {
          "base_uri": "https://localhost:8080/"
        },
        "outputId": "746fd535-eb3f-48ab-9b17-e5b1352ff7f9"
      },
      "source": [
        "print(raw_train_x[0])"
      ],
      "execution_count": null,
      "outputs": [
        {
          "output_type": "stream",
          "text": [
            "[[[ 59  62  63]\n",
            "  [ 43  46  45]\n",
            "  [ 50  48  43]\n",
            "  ...\n",
            "  [158 132 108]\n",
            "  [152 125 102]\n",
            "  [148 124 103]]\n",
            "\n",
            " [[ 16  20  20]\n",
            "  [  0   0   0]\n",
            "  [ 18   8   0]\n",
            "  ...\n",
            "  [123  88  55]\n",
            "  [119  83  50]\n",
            "  [122  87  57]]\n",
            "\n",
            " [[ 25  24  21]\n",
            "  [ 16   7   0]\n",
            "  [ 49  27   8]\n",
            "  ...\n",
            "  [118  84  50]\n",
            "  [120  84  50]\n",
            "  [109  73  42]]\n",
            "\n",
            " ...\n",
            "\n",
            " [[208 170  96]\n",
            "  [201 153  34]\n",
            "  [198 161  26]\n",
            "  ...\n",
            "  [160 133  70]\n",
            "  [ 56  31   7]\n",
            "  [ 53  34  20]]\n",
            "\n",
            " [[180 139  96]\n",
            "  [173 123  42]\n",
            "  [186 144  30]\n",
            "  ...\n",
            "  [184 148  94]\n",
            "  [ 97  62  34]\n",
            "  [ 83  53  34]]\n",
            "\n",
            " [[177 144 116]\n",
            "  [168 129  94]\n",
            "  [179 142  87]\n",
            "  ...\n",
            "  [216 184 140]\n",
            "  [151 118  84]\n",
            "  [123  92  72]]]\n"
          ],
          "name": "stdout"
        }
      ]
    },
    {
      "cell_type": "code",
      "metadata": {
        "id": "lNy4AUQDylpU",
        "colab": {
          "base_uri": "https://localhost:8080/",
          "height": 1000
        },
        "outputId": "1f3e13ed-b81a-42fe-acf2-037e35a14352"
      },
      "source": [
        "labels = [\"airplane\", \"automobile\", \"bird\", \"cat\", \"deer\", \"dog\", \"frog\", \"horse\", \"ship\", \"truck\"]\n",
        "\n",
        "def show_sample(i):\n",
        "  print(raw_train_y[i][0], labels[raw_train_y[i][0]])\n",
        "  plt.imshow(raw_train_x[i])\n",
        "  plt.show()\n",
        "\n",
        "for i in [2, 10, 12, 14]:\n",
        "  show_sample(i)"
      ],
      "execution_count": null,
      "outputs": [
        {
          "output_type": "stream",
          "text": [
            "9 truck\n"
          ],
          "name": "stdout"
        },
        {
          "output_type": "display_data",
          "data": {
            "image/png": "[encoded data removed]",
            "text/plain": [
              "<Figure size 432x288 with 1 Axes>"
            ]
          },
          "metadata": {
            "tags": [],
            "needs_background": "light"
          }
        },
        {
          "output_type": "stream",
          "text": [
            "4 deer\n"
          ],
          "name": "stdout"
        },
        {
          "output_type": "display_data",
          "data": {
            "image/png": "[encoded data removed]",
            "text/plain": [
              "<Figure size 432x288 with 1 Axes>"
            ]
          },
          "metadata": {
            "tags": [],
            "needs_background": "light"
          }
        },
        {
          "output_type": "stream",
          "text": [
            "7 horse\n"
          ],
          "name": "stdout"
        },
        {
          "output_type": "display_data",
          "data": {
            "image/png": "[encoded data removed]",
            "text/plain": [
              "<Figure size 432x288 with 1 Axes>"
            ]
          },
          "metadata": {
            "tags": [],
            "needs_background": "light"
          }
        },
        {
          "output_type": "stream",
          "text": [
            "9 truck\n"
          ],
          "name": "stdout"
        },
        {
          "output_type": "display_data",
          "data": {
            "image/png": "[encoded data removed]",
            "text/plain": [
              "<Figure size 432x288 with 1 Axes>"
            ]
          },
          "metadata": {
            "tags": [],
            "needs_background": "light"
          }
        }
      ]
    },
    {
      "cell_type": "code",
      "metadata": {
        "id": "4I8IkF-VysEA"
      },
      "source": [
        "# 실습 시에는 시간 관계로 일부만 사용한다.\n",
        "train_x = train_x[:10000] # ADDED\n",
        "train_y = train_y[:10000] # ADDED"
      ],
      "execution_count": null,
      "outputs": []
    },
    {
      "cell_type": "code",
      "metadata": {
        "id": "om_gEsuDA_jp",
        "colab": {
          "base_uri": "https://localhost:8080/"
        },
        "outputId": "2dc87720-7d00-407d-fa5b-ea34d57b14d4"
      },
      "source": [
        "model = keras.Sequential()\n",
        "# model.add(Input((28,28)))\n",
        "# model.add(Reshape((28,28,1)))\n",
        "model.add(Input((32,32,3)))\n",
        "model.add(Conv2D(32, (3, 3)))\n",
        "model.add(MaxPooling2D((2, 2)))\n",
        "model.add(Conv2D(64, (3, 3)))\n",
        "model.add(MaxPooling2D((2, 2)))\n",
        "model.add(Flatten())\n",
        "model.add(Dense(10, activation='relu'))\n",
        "model.add(Dense(10, activation='relu'))\n",
        "model.add(Dense(10, activation='softmax'))\n",
        "\n",
        "model.compile(optimizer=\"adam\", loss=\"sparse_categorical_crossentropy\", metrics=[\"accuracy\"])\n",
        "model.summary()\n",
        "\n",
        "\n",
        "model.fit(train_x, train_y, epochs=5, verbose=1, batch_size=128)\n",
        "\n",
        "\n",
        "loss, acc = model.evaluate(test_x, test_y)\n",
        "print(\"loss=\",loss)\n",
        "print(\"acc=\",acc)\n",
        "\n",
        "y_ = model.predict(test_x)\n",
        "predicted = np.argmax(y_, axis=1)\n",
        "\n",
        "print(predicted)\n"
      ],
      "execution_count": null,
      "outputs": [
        {
          "output_type": "stream",
          "text": [
            "Model: \"sequential_3\"\n",
            "_________________________________________________________________\n",
            "Layer (type)                 Output Shape              Param #   \n",
            "=================================================================\n",
            "conv2d_4 (Conv2D)            (None, 30, 30, 32)        896       \n",
            "_________________________________________________________________\n",
            "max_pooling2d_4 (MaxPooling2 (None, 15, 15, 32)        0         \n",
            "_________________________________________________________________\n",
            "conv2d_5 (Conv2D)            (None, 13, 13, 64)        18496     \n",
            "_________________________________________________________________\n",
            "max_pooling2d_5 (MaxPooling2 (None, 6, 6, 64)          0         \n",
            "_________________________________________________________________\n",
            "flatten_2 (Flatten)          (None, 2304)              0         \n",
            "_________________________________________________________________\n",
            "dense_6 (Dense)              (None, 10)                23050     \n",
            "_________________________________________________________________\n",
            "dense_7 (Dense)              (None, 10)                110       \n",
            "_________________________________________________________________\n",
            "dense_8 (Dense)              (None, 10)                110       \n",
            "=================================================================\n",
            "Total params: 42,662\n",
            "Trainable params: 42,662\n",
            "Non-trainable params: 0\n",
            "_________________________________________________________________\n",
            "Train on 10000 samples\n",
            "Epoch 1/5\n",
            "10000/10000 [==============================] - 12s 1ms/sample - loss: 2.2672 - acc: 0.1245\n",
            "Epoch 2/5\n",
            "10000/10000 [==============================] - 12s 1ms/sample - loss: 2.1604 - acc: 0.1748\n",
            "Epoch 3/5\n",
            "10000/10000 [==============================] - 13s 1ms/sample - loss: 2.1253 - acc: 0.1827\n",
            "Epoch 4/5\n",
            "10000/10000 [==============================] - 14s 1ms/sample - loss: 2.0909 - acc: 0.1951\n",
            "Epoch 5/5\n",
            "10000/10000 [==============================] - 10s 999us/sample - loss: 1.9863 - acc: 0.2308\n",
            "10000/10000 [==============================] - 4s 425us/sample - loss: 1.9191 - acc: 0.2332\n",
            "loss= 1.9190676780700684\n",
            "acc= 0.2332\n",
            "[2 0 0 ... 5 3 3]\n"
          ],
          "name": "stdout"
        }
      ]
    },
    {
      "cell_type": "markdown",
      "metadata": {
        "id": "LKPkV_C7FU0o"
      },
      "source": [
        "# 영상 이미지 증강\n",
        "\n",
        "copied from https://keras.io/examples/cifar10_cnn/\n",
        "\n",
        "ImageDataGenerator를 사용"
      ]
    },
    {
      "cell_type": "code",
      "metadata": {
        "id": "FBweEfsrFVG-",
        "colab": {
          "base_uri": "https://localhost:8080/"
        },
        "outputId": "19e7c998-5fca-48b7-852b-e676a7e6f394"
      },
      "source": [
        "(raw_train_x, raw_train_y), (raw_test_x, raw_test_y) = tf.keras.datasets.cifar10.load_data()\n",
        "\n",
        "print(raw_train_x.shape)\n",
        "print(raw_train_y.shape)\n",
        "print(raw_test_x.shape)\n",
        "print(raw_test_y.shape)\n",
        "\n",
        "train_x = raw_train_x/255\n",
        "test_x = raw_test_x/255\n",
        "\n",
        "train_y = raw_train_y\n",
        "test_y = raw_test_y"
      ],
      "execution_count": null,
      "outputs": [
        {
          "output_type": "stream",
          "text": [
            "(50000, 32, 32, 3)\n",
            "(50000, 1)\n",
            "(10000, 32, 32, 3)\n",
            "(10000, 1)\n"
          ],
          "name": "stdout"
        }
      ]
    },
    {
      "cell_type": "code",
      "metadata": {
        "id": "UmsPneBe0sIU"
      },
      "source": [
        "train_x = train_x[:10000]\n",
        "train_y = train_y[:10000]"
      ],
      "execution_count": null,
      "outputs": []
    },
    {
      "cell_type": "code",
      "metadata": {
        "id": "yo81ucmbFmVK"
      },
      "source": [
        "# ADDED START\n",
        "from tensorflow.keras.preprocessing.image import ImageDataGenerator\n",
        "\n",
        "datagen = ImageDataGenerator(\n",
        "    rotation_range=10, # 0 ~ 180\n",
        "    width_shift_range=0.1,\n",
        "    height_shift_range=0.1,\n",
        "    fill_mode='nearest',\n",
        "    horizontal_flip=True,\n",
        "    vertical_flip=False \n",
        ")\n",
        "# ADDED END"
      ],
      "execution_count": null,
      "outputs": []
    },
    {
      "cell_type": "code",
      "metadata": {
        "id": "TGFsCPF-FgVn",
        "colab": {
          "base_uri": "https://localhost:8080/"
        },
        "outputId": "5a48e897-740f-4de0-d3bd-e79acb98e74f"
      },
      "source": [
        "model = keras.Sequential()\n",
        "model.add(Input((32,32,3)))\n",
        "model.add(Conv2D(32, (3, 3)))\n",
        "model.add(MaxPooling2D((2, 2)))\n",
        "model.add(Conv2D(64, (3, 3)))\n",
        "model.add(MaxPooling2D((2, 2)))\n",
        "model.add(Flatten())\n",
        "model.add(Dense(10, activation='relu'))\n",
        "model.add(Dense(10, activation='relu'))\n",
        "model.add(Dense(10, activation='softmax'))\n",
        "\n",
        "model.compile(optimizer=\"adam\", loss=\"sparse_categorical_crossentropy\", metrics=[\"accuracy\"])\n",
        "model.summary()\n",
        "\n",
        "\n",
        "# model.fit(train_x, train_y, epochs=5, verbose=1, batch_size=128)\n",
        "model.fit(datagen.flow(train_x, train_y, batch_size=128), epochs=5)\n",
        "\n",
        "\n",
        "\n",
        "loss, acc = model.evaluate(test_x, test_y)\n",
        "print(\"loss=\",loss)\n",
        "print(\"acc=\",acc)\n",
        "\n",
        "y_ = model.predict(test_x)\n",
        "predicted = np.argmax(y_, axis=1)\n",
        "\n",
        "print(predicted)\n"
      ],
      "execution_count": null,
      "outputs": [
        {
          "output_type": "stream",
          "text": [
            "Model: \"sequential_6\"\n",
            "_________________________________________________________________\n",
            "Layer (type)                 Output Shape              Param #   \n",
            "=================================================================\n",
            "conv2d_10 (Conv2D)           (None, 30, 30, 32)        896       \n",
            "_________________________________________________________________\n",
            "max_pooling2d_10 (MaxPooling (None, 15, 15, 32)        0         \n",
            "_________________________________________________________________\n",
            "conv2d_11 (Conv2D)           (None, 13, 13, 64)        18496     \n",
            "_________________________________________________________________\n",
            "max_pooling2d_11 (MaxPooling (None, 6, 6, 64)          0         \n",
            "_________________________________________________________________\n",
            "flatten_5 (Flatten)          (None, 2304)              0         \n",
            "_________________________________________________________________\n",
            "dense_15 (Dense)             (None, 10)                23050     \n",
            "_________________________________________________________________\n",
            "dense_16 (Dense)             (None, 10)                110       \n",
            "_________________________________________________________________\n",
            "dense_17 (Dense)             (None, 10)                110       \n",
            "=================================================================\n",
            "Total params: 42,662\n",
            "Trainable params: 42,662\n",
            "Non-trainable params: 0\n",
            "_________________________________________________________________\n",
            "Epoch 1/5\n",
            "79/79 [==============================] - 15s 184ms/step - loss: 2.1909 - acc: 0.1570\n",
            "Epoch 2/5\n",
            "79/79 [==============================] - 14s 178ms/step - loss: 2.0646 - acc: 0.2064\n",
            "Epoch 3/5\n",
            "79/79 [==============================] - 14s 181ms/step - loss: 2.0248 - acc: 0.2319\n",
            "Epoch 4/5\n",
            "79/79 [==============================] - 14s 180ms/step - loss: 1.9244 - acc: 0.2506\n",
            "Epoch 5/5\n",
            "79/79 [==============================] - 14s 180ms/step - loss: 1.8552 - acc: 0.2789\n",
            "10000/10000 [==============================] - 4s 433us/sample - loss: 1.8420 - acc: 0.2632\n",
            "loss= 1.8420306869506835\n",
            "acc= 0.2632\n",
            "[9 8 9 ... 3 9 7]\n"
          ],
          "name": "stdout"
        }
      ]
    },
    {
      "cell_type": "markdown",
      "metadata": {
        "id": "aNxGSYvc1P5N"
      },
      "source": [
        "데이터 증강을 하기 전고 비교하면 loss 더 작고, acc가 높아졌다. 성능이 향상되었다.\n",
        "```\n",
        "증강 전 : loss: 1.7496 - acc: 0.3587\n",
        "증강 후 : loss: 1.5547 - acc: 0.4406\n",
        "```\n",
        "\n",
        "하지만 실행 시간은 epoch당 12초에서 15초로 증가하였다."
      ]
    },
    {
      "cell_type": "markdown",
      "metadata": {
        "id": "fx0zp79n7iTM"
      },
      "source": [
        "# 데이터 증강 컬러 영상 분류 CNN Template"
      ]
    },
    {
      "cell_type": "code",
      "metadata": {
        "colab": {
          "base_uri": "https://localhost:8080/"
        },
        "id": "LOrjvdb-7yrd",
        "outputId": "c521cc1e-2149-4c05-fc5d-c22c4743ad0b"
      },
      "source": [
        "import numpy as np\n",
        "import matplotlib.pyplot as plt\n",
        "\n",
        "import tensorflow as tf\n",
        "from tensorflow import keras\n",
        "from tensorflow.keras import optimizers\n",
        "from tensorflow.keras.layers import Dense, Flatten, Conv2D, MaxPooling2D, Input, Reshape\n",
        "\n",
        "import time\n",
        "\n",
        "(raw_train_x, raw_train_y), (raw_test_x, raw_test_y) = tf.keras.datasets.cifar10.load_data()\n",
        "\n",
        "train_x = raw_train_x/255\n",
        "test_x = raw_test_x/255\n",
        "\n",
        "train_y = raw_train_y\n",
        "test_y = raw_test_y\n",
        "\n",
        "\n",
        "model = keras.Sequential()\n",
        "model.add(Input((32,32,3)))\n",
        "model.add(Conv2D(32, (3, 3)))\n",
        "model.add(MaxPooling2D((2, 2)))\n",
        "model.add(Conv2D(64, (3, 3)))\n",
        "model.add(MaxPooling2D((2, 2)))\n",
        "model.add(Flatten())\n",
        "model.add(Dense(10, activation='relu'))\n",
        "model.add(Dense(10, activation='relu'))\n",
        "model.add(Dense(10, activation='softmax'))\n",
        "\n",
        "model.compile(optimizer=\"adam\", loss=\"sparse_categorical_crossentropy\", metrics=[\"accuracy\"])\n",
        "model.summary()\n",
        "\n",
        "model.fit(datagen.flow(train_x, train_y, batch_size=128), epochs=5)\n",
        "\n",
        "\n",
        "loss, acc = model.evaluate(test_x, test_y)\n",
        "print(\"loss=\",loss)\n",
        "print(\"acc=\",acc)\n",
        "\n",
        "y_ = model.predict(test_x)\n",
        "predicted = np.argmax(y_, axis=1)\n",
        "\n",
        "print(predicted)\n"
      ],
      "execution_count": null,
      "outputs": [
        {
          "output_type": "stream",
          "text": [
            "Model: \"sequential_5\"\n",
            "_________________________________________________________________\n",
            "Layer (type)                 Output Shape              Param #   \n",
            "=================================================================\n",
            "conv2d_8 (Conv2D)            (None, 30, 30, 32)        896       \n",
            "_________________________________________________________________\n",
            "max_pooling2d_8 (MaxPooling2 (None, 15, 15, 32)        0         \n",
            "_________________________________________________________________\n",
            "conv2d_9 (Conv2D)            (None, 13, 13, 64)        18496     \n",
            "_________________________________________________________________\n",
            "max_pooling2d_9 (MaxPooling2 (None, 6, 6, 64)          0         \n",
            "_________________________________________________________________\n",
            "flatten_4 (Flatten)          (None, 2304)              0         \n",
            "_________________________________________________________________\n",
            "dense_12 (Dense)             (None, 10)                23050     \n",
            "_________________________________________________________________\n",
            "dense_13 (Dense)             (None, 10)                110       \n",
            "_________________________________________________________________\n",
            "dense_14 (Dense)             (None, 10)                110       \n",
            "=================================================================\n",
            "Total params: 42,662\n",
            "Trainable params: 42,662\n",
            "Non-trainable params: 0\n",
            "_________________________________________________________________\n",
            "Epoch 1/5\n",
            "391/391 [==============================] - 76s 194ms/step - loss: 2.0016 - acc: 0.2562\n",
            "Epoch 2/5\n",
            "391/391 [==============================] - 73s 186ms/step - loss: 1.5811 - acc: 0.4265\n",
            "Epoch 3/5\n",
            "391/391 [==============================] - 73s 187ms/step - loss: 1.4329 - acc: 0.4840\n",
            "Epoch 4/5\n",
            "391/391 [==============================] - 73s 187ms/step - loss: 1.3602 - acc: 0.5117\n",
            "Epoch 5/5\n",
            "391/391 [==============================] - 73s 187ms/step - loss: 1.3141 - acc: 0.5315\n",
            "10000/10000 [==============================] - 4s 430us/sample - loss: 1.3052 - acc: 0.5446\n",
            "loss= 1.3051506059646607\n",
            "acc= 0.5446\n",
            "[3 1 1 ... 5 1 7]\n"
          ],
          "name": "stdout"
        }
      ]
    }
  ]
}