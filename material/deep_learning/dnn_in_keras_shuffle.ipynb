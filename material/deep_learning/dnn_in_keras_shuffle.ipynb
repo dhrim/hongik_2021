{
  "nbformat": 4,
  "nbformat_minor": 0,
  "metadata": {
    "colab": {
      "name": " dnn_in_keras_shuffle.ipynb",
      "provenance": [],
      "collapsed_sections": [],
      "toc_visible": true
    },
    "kernelspec": {
      "name": "python3",
      "display_name": "Python 3"
    },
    "accelerator": "GPU"
  },
  "cells": [
    {
      "cell_type": "code",
      "metadata": {
        "id": "p_BD2sWTprLz",
        "colab": {
          "base_uri": "https://localhost:8080/"
        },
        "outputId": "718df612-4184-4da5-bbea-b3baece6ae74"
      },
      "source": [
        "%tensorflow_version 1.x\n",
        "import tensorflow\n",
        "print(tensorflow.__version__)"
      ],
      "execution_count": 1,
      "outputs": [
        {
          "output_type": "stream",
          "text": [
            "TensorFlow 1.x selected.\n",
            "1.15.2\n"
          ],
          "name": "stdout"
        }
      ]
    },
    {
      "cell_type": "markdown",
      "metadata": {
        "id": "Mte4_QlwwrlF"
      },
      "source": [
        "# 모듈 임포팅"
      ]
    },
    {
      "cell_type": "code",
      "metadata": {
        "id": "2YegBF6qExut"
      },
      "source": [
        "import numpy as np\n",
        "import pandas as pd\n",
        "import matplotlib.pyplot as plt\n",
        "\n",
        "import tensorflow as tf\n",
        "from tensorflow import keras\n",
        "\n",
        "import time"
      ],
      "execution_count": 2,
      "outputs": []
    },
    {
      "cell_type": "code",
      "metadata": {
        "id": "HNGWUXDmv2nF"
      },
      "source": [
        "from tensorflow.keras import optimizers\n",
        "from tensorflow.keras.layers import Dense"
      ],
      "execution_count": 3,
      "outputs": []
    },
    {
      "cell_type": "markdown",
      "metadata": {
        "id": "jJBqaE5oyaIi"
      },
      "source": [
        "# 데이터 준비\n"
      ]
    },
    {
      "cell_type": "code",
      "metadata": {
        "id": "VT4QUNhPmIej"
      },
      "source": [
        "def get_sin_data(start=0, end=10, step=0.1):\n",
        "  x = np.arange(start,end,step)\n",
        "  np.random.shuffle(x)\n",
        "  y = np.sin(x)\n",
        "\n",
        "  split_index = int(x.shape[0]*0.6)\n",
        "\n",
        "  train_x, test_x = x[:split_index], x[split_index:]\n",
        "  train_y, test_y = y[:split_index], y[split_index:]\n",
        "\n",
        "  return (train_x, train_y), (test_x, test_y)"
      ],
      "execution_count": 4,
      "outputs": []
    },
    {
      "cell_type": "code",
      "metadata": {
        "id": "y0Sw3_tAvp-x"
      },
      "source": [
        "(train_x, train_y), (test_x, test_y) = get_sin_data(start=0, end=10, step=0.01)\n"
      ],
      "execution_count": 5,
      "outputs": []
    },
    {
      "cell_type": "markdown",
      "metadata": {
        "id": "DsJzdB2tvEYf"
      },
      "source": [
        "# model.fit()의 shuffle\n",
        "\n",
        "학습 시에 데이터를 섞어 주지 않으면 특정 데이터 순서로 학습이 일어나 편향이 생길 수있다."
      ]
    },
    {
      "cell_type": "code",
      "metadata": {
        "id": "zz585h4kvp5W",
        "colab": {
          "base_uri": "https://localhost:8080/",
          "height": 602
        },
        "outputId": "d00da6c9-83b7-4645-bc2d-bbe88a31c047"
      },
      "source": [
        "model = keras.Sequential()\n",
        "model.add(Dense(10, activation='tanh', input_shape=(1,)))\n",
        "model.add(Dense(10, activation='tanh'))\n",
        "model.add(Dense(1))\n",
        "\n",
        "\n",
        "model.compile(optimizer=\"SGD\", loss=\"mse\", metrics=[\"mse\"])\n",
        "model.summary()\n",
        "\n",
        "start_time = time.time()\n",
        "history = model.fit(train_x, train_y, epochs=50, verbose=0, batch_size=20)\n",
        "print(\"elapsed : {}\".format(time.time() - start_time)) \n",
        "\n",
        "y_ = model.predict(test_x)\n",
        "\n",
        "plt.scatter(test_x,test_y)\n",
        "plt.scatter(test_x,y_,color='r')\n",
        "plt.show()"
      ],
      "execution_count": 6,
      "outputs": [
        {
          "output_type": "stream",
          "text": [
            "WARNING:tensorflow:From /tensorflow-1.15.2/python3.7/tensorflow_core/python/ops/resource_variable_ops.py:1630: calling BaseResourceVariable.__init__ (from tensorflow.python.ops.resource_variable_ops) with constraint is deprecated and will be removed in a future version.\n",
            "Instructions for updating:\n",
            "If using Keras pass *_constraint arguments to layers.\n",
            "Model: \"sequential\"\n",
            "_________________________________________________________________\n",
            "Layer (type)                 Output Shape              Param #   \n",
            "=================================================================\n",
            "dense (Dense)                (None, 10)                20        \n",
            "_________________________________________________________________\n",
            "dense_1 (Dense)              (None, 10)                110       \n",
            "_________________________________________________________________\n",
            "dense_2 (Dense)              (None, 1)                 11        \n",
            "=================================================================\n",
            "Total params: 141\n",
            "Trainable params: 141\n",
            "Non-trainable params: 0\n",
            "_________________________________________________________________\n",
            "elapsed : 3.5543925762176514\n"
          ],
          "name": "stdout"
        },
        {
          "output_type": "display_data",
          "data": {
            "image/png": "[encoded data removed]",
            "text/plain": [
              "<Figure size 432x288 with 1 Axes>"
            ]
          },
          "metadata": {
            "tags": [],
            "needs_background": "light"
          }
        }
      ]
    },
    {
      "cell_type": "code",
      "metadata": {
        "id": "eDo7dBPqv_t5",
        "colab": {
          "base_uri": "https://localhost:8080/",
          "height": 529
        },
        "outputId": "5c4c89be-cc42-4b81-ce9e-245cd663aada"
      },
      "source": [
        "model = keras.Sequential()\n",
        "model.add(Dense(10, activation='tanh', input_shape=(1,)))\n",
        "model.add(Dense(10, activation='tanh'))\n",
        "model.add(Dense(1))\n",
        "\n",
        "\n",
        "model.compile(optimizer=\"SGD\", loss=\"mse\", metrics=[\"mse\"])\n",
        "model.summary()\n",
        "\n",
        "start_time = time.time()\n",
        "# history = model.fit(train_x, train_y, epochs=50, verbose=0, batch_size=20)\n",
        "history = model.fit(train_x, train_y, epochs=50, verbose=0, batch_size=20, shuffle=True)\n",
        "print(\"elapsed : {}\".format(time.time() - start_time)) \n",
        "\n",
        "y_ = model.predict(test_x)\n",
        "\n",
        "plt.scatter(test_x,test_y)\n",
        "plt.scatter(test_x,y_,color='r')\n",
        "plt.show()"
      ],
      "execution_count": 7,
      "outputs": [
        {
          "output_type": "stream",
          "text": [
            "Model: \"sequential_1\"\n",
            "_________________________________________________________________\n",
            "Layer (type)                 Output Shape              Param #   \n",
            "=================================================================\n",
            "dense_3 (Dense)              (None, 10)                20        \n",
            "_________________________________________________________________\n",
            "dense_4 (Dense)              (None, 10)                110       \n",
            "_________________________________________________________________\n",
            "dense_5 (Dense)              (None, 1)                 11        \n",
            "=================================================================\n",
            "Total params: 141\n",
            "Trainable params: 141\n",
            "Non-trainable params: 0\n",
            "_________________________________________________________________\n",
            "elapsed : 2.754491090774536\n"
          ],
          "name": "stdout"
        },
        {
          "output_type": "display_data",
          "data": {
            "image/png": "[encoded data removed]",
            "text/plain": [
              "<Figure size 432x288 with 1 Axes>"
            ]
          },
          "metadata": {
            "tags": [],
            "needs_background": "light"
          }
        }
      ]
    },
    {
      "cell_type": "markdown",
      "metadata": {
        "id": "gLdm5OtU9qdP"
      },
      "source": [
        "학습된 결과가 살짝 향상된 것을 볼 수 있다.\n",
        "\n",
        "편향을 방지하기 위해서라도 항상 shuffle하는 것이 좋다."
      ]
    },
    {
      "cell_type": "markdown",
      "metadata": {
        "id": "hZbkr4-ZauCj"
      },
      "source": [
        "## Shuffle\n"
      ]
    },
    {
      "cell_type": "code",
      "metadata": {
        "id": "SJcDuc_0a8Ju",
        "colab": {
          "base_uri": "https://localhost:8080/",
          "height": 300
        },
        "outputId": "532c8afb-be1f-43a4-df73-faecf02b8670"
      },
      "source": [
        "x = np.arange(0,10,0.1)\n",
        "# np.random.shuffle(x) # COMMENTED\n",
        "y = np.sin(x)\n",
        "\n",
        "split_index = int(x.shape[0]*0.6)\n",
        "print(split_index)\n",
        "\n",
        "train_x, test_x = x[:split_index], x[split_index:]\n",
        "train_y, test_y = y[:split_index], y[split_index:]\n",
        "\n",
        "plt.scatter(train_x, train_y)\n",
        "plt.scatter(test_x, test_y, color=\"r\")"
      ],
      "execution_count": 8,
      "outputs": [
        {
          "output_type": "stream",
          "text": [
            "60\n"
          ],
          "name": "stdout"
        },
        {
          "output_type": "execute_result",
          "data": {
            "text/plain": [
              "<matplotlib.collections.PathCollection at 0x7f202cee71d0>"
            ]
          },
          "metadata": {
            "tags": []
          },
          "execution_count": 8
        },
        {
          "output_type": "display_data",
          "data": {
            "image/png": "[encoded data removed]",
            "text/plain": [
              "<Figure size 432x288 with 1 Axes>"
            ]
          },
          "metadata": {
            "tags": [],
            "needs_background": "light"
          }
        }
      ]
    },
    {
      "cell_type": "code",
      "metadata": {
        "id": "cjVgwk63Iypm",
        "colab": {
          "base_uri": "https://localhost:8080/",
          "height": 529
        },
        "outputId": "9b8ada04-2380-4c9f-874a-78d2ac03ba5c"
      },
      "source": [
        "model = keras.Sequential()\n",
        "model.add(Dense(10, activation='tanh', input_shape=(1,)))\n",
        "model.add(Dense(10, activation='tanh'))\n",
        "model.add(Dense(1))\n",
        "\n",
        "\n",
        "model.compile(optimizer=\"SGD\", loss=\"mse\", metrics=[\"mse\"])\n",
        "model.summary()\n",
        "\n",
        "start_time = time.time()\n",
        "history = model.fit(train_x, train_y, epochs=50, verbose=0, batch_size=20)\n",
        "print(\"elapsed : {}\".format(time.time() - start_time)) \n",
        "\n",
        "y_ = model.predict(test_x)\n",
        "\n",
        "plt.scatter(test_x,test_y)\n",
        "plt.scatter(test_x,y_,color='r')\n",
        "plt.show()"
      ],
      "execution_count": 9,
      "outputs": [
        {
          "output_type": "stream",
          "text": [
            "Model: \"sequential_2\"\n",
            "_________________________________________________________________\n",
            "Layer (type)                 Output Shape              Param #   \n",
            "=================================================================\n",
            "dense_6 (Dense)              (None, 10)                20        \n",
            "_________________________________________________________________\n",
            "dense_7 (Dense)              (None, 10)                110       \n",
            "_________________________________________________________________\n",
            "dense_8 (Dense)              (None, 1)                 11        \n",
            "=================================================================\n",
            "Total params: 141\n",
            "Trainable params: 141\n",
            "Non-trainable params: 0\n",
            "_________________________________________________________________\n",
            "elapsed : 0.5263981819152832\n"
          ],
          "name": "stdout"
        },
        {
          "output_type": "display_data",
          "data": {
            "image/png": "[encoded data removed]",
            "text/plain": [
              "<Figure size 432x288 with 1 Axes>"
            ]
          },
          "metadata": {
            "tags": [],
            "needs_background": "light"
          }
        }
      ]
    },
    {
      "cell_type": "markdown",
      "metadata": {
        "id": "9Nhc6VTNbSXQ"
      },
      "source": [
        "train 데이터와 test 데이터가 서로 떨어져 있다. \n",
        "\n",
        "train 영역의 데이터로 학습된 모델은 test 영역의 데이터에 적용하지 못한다.\n",
        "\n",
        "전체데이터를 잘 섞어 주고, 이를 train, test로 나누어야 한다."
      ]
    },
    {
      "cell_type": "code",
      "metadata": {
        "id": "0UKpP696bktP",
        "colab": {
          "base_uri": "https://localhost:8080/",
          "height": 300
        },
        "outputId": "c0c2be4b-7a6d-4779-b1d2-d95ea45195b5"
      },
      "source": [
        "x = np.arange(0,10,0.1)\n",
        "np.random.shuffle(x) # UNCOMMENT\n",
        "y = np.sin(x)\n",
        "\n",
        "split_index = int(x.shape[0]*0.6)\n",
        "print(split_index)\n",
        "\n",
        "train_x, test_x = x[:split_index], x[split_index:]\n",
        "train_y, test_y = y[:split_index], y[split_index:]\n",
        "\n",
        "plt.scatter(train_x, train_y)\n",
        "plt.scatter(test_x, test_y, color=\"r\")"
      ],
      "execution_count": 10,
      "outputs": [
        {
          "output_type": "stream",
          "text": [
            "60\n"
          ],
          "name": "stdout"
        },
        {
          "output_type": "execute_result",
          "data": {
            "text/plain": [
              "<matplotlib.collections.PathCollection at 0x7f1fd008c350>"
            ]
          },
          "metadata": {
            "tags": []
          },
          "execution_count": 10
        },
        {
          "output_type": "display_data",
          "data": {
            "image/png": "[encoded data removed]",
            "text/plain": [
              "<Figure size 432x288 with 1 Axes>"
            ]
          },
          "metadata": {
            "tags": [],
            "needs_background": "light"
          }
        }
      ]
    }
  ]
}