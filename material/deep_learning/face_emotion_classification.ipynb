{
  "nbformat": 4,
  "nbformat_minor": 0,
  "metadata": {
    "colab": {
      "name": "face_emotion_classification.ipynb",
      "provenance": [],
      "collapsed_sections": [],
      "machine_shape": "hm"
    },
    "kernelspec": {
      "name": "python3",
      "display_name": "Python 3"
    },
    "accelerator": "GPU"
  },
  "cells": [
    {
      "cell_type": "code",
      "metadata": {
        "id": "VFYQpI5esuGi"
      },
      "source": [
        ""
      ],
      "execution_count": null,
      "outputs": []
    },
    {
      "cell_type": "markdown",
      "metadata": {
        "id": "i78Vp3vgtPMf"
      },
      "source": [
        "# 데이터 준비"
      ]
    },
    {
      "cell_type": "markdown",
      "metadata": {
        "id": "z1tLSwAXs1IF"
      },
      "source": [
        "28577_36420_compressed_fer2013.csv.zip 파일을 https://www.kaggle.com/deadskull7/fer2013 에서 다운 받은 후에 google drive에 올린다.\n",
        "\n",
        "\n",
        "데이터 로딩하고 준비하는 코드는 https://github.com/SagarPatel98/Human-Facial-Emotion-Recognition---Keras/blob/master/Facial%20Recognition.ipynb 에서 가져왔다."
      ]
    },
    {
      "cell_type": "markdown",
      "metadata": {
        "id": "BtA-JjLKuY-v"
      },
      "source": [
        "## 다운로드"
      ]
    },
    {
      "cell_type": "code",
      "metadata": {
        "id": "R2olB3mCsxzz",
        "colab": {
          "base_uri": "https://localhost:8080/",
          "height": 121
        },
        "outputId": "86b18d01-43c1-4a65-da4d-118521192cd9"
      },
      "source": [
        "from google.colab import drive\n",
        "drive.mount('/content/drive')"
      ],
      "execution_count": null,
      "outputs": [
        {
          "output_type": "stream",
          "text": [
            "Go to this URL in a browser: https://accounts.google.com/o/oauth2/auth?client_id=947318989803-6bn6qk8qdgf4n4g3pfee6491hc0brc4i.apps.googleusercontent.com&redirect_uri=urn%3aietf%3awg%3aoauth%3a2.0%3aoob&scope=email%20https%3a%2f%2fwww.googleapis.com%2fauth%2fdocs.test%20https%3a%2f%2fwww.googleapis.com%2fauth%2fdrive%20https%3a%2f%2fwww.googleapis.com%2fauth%2fdrive.photos.readonly%20https%3a%2f%2fwww.googleapis.com%2fauth%2fpeopleapi.readonly&response_type=code\n",
            "\n",
            "Enter your authorization code:\n",
            "··········\n",
            "Mounted at /content/drive\n"
          ],
          "name": "stdout"
        }
      ]
    },
    {
      "cell_type": "code",
      "metadata": {
        "id": "m_RcWHfOtJYR"
      },
      "source": [
        "!cp '/content/drive/My Drive/tmp/t/28577_36420_compressed_fer2013.csv.zip' ./"
      ],
      "execution_count": null,
      "outputs": []
    },
    {
      "cell_type": "code",
      "metadata": {
        "id": "7ooLLevbs9db",
        "colab": {
          "base_uri": "https://localhost:8080/",
          "height": 50
        },
        "outputId": "54f9be06-8de4-48ee-dd09-9644a32dc858"
      },
      "source": [
        "!unzip 28577_36420_compressed_fer2013.csv.zip"
      ],
      "execution_count": null,
      "outputs": [
        {
          "output_type": "stream",
          "text": [
            "Archive:  28577_36420_compressed_fer2013.csv.zip\n",
            "  inflating: fer2013.csv             \n"
          ],
          "name": "stdout"
        }
      ]
    },
    {
      "cell_type": "markdown",
      "metadata": {
        "id": "uUoFw3QGubby"
      },
      "source": [
        "## 살펴보기"
      ]
    },
    {
      "cell_type": "code",
      "metadata": {
        "id": "ibXH_sbQtmPY",
        "colab": {
          "base_uri": "https://localhost:8080/",
          "height": 70
        },
        "outputId": "c1e1c529-1b7f-43e0-ff5f-3aedaad8963f"
      },
      "source": [
        "import numpy as np\n",
        "import pandas as pd\n",
        "from matplotlib import pyplot as plt\n",
        "\n",
        "from matplotlib.colors import ListedColormap\n",
        "import seaborn as sns\n",
        "\n",
        "import cv2"
      ],
      "execution_count": null,
      "outputs": [
        {
          "output_type": "stream",
          "text": [
            "/usr/local/lib/python3.6/dist-packages/statsmodels/tools/_testing.py:19: FutureWarning: pandas.util.testing is deprecated. Use the functions in the public API at pandas.testing instead.\n",
            "  import pandas.util.testing as tm\n"
          ],
          "name": "stderr"
        }
      ]
    },
    {
      "cell_type": "code",
      "metadata": {
        "id": "HmNTyQZYtsh0",
        "colab": {
          "base_uri": "https://localhost:8080/",
          "height": 195
        },
        "outputId": "f2aadfa6-03a2-44e9-c5ee-d68b41e0694e"
      },
      "source": [
        "df = pd.read_csv(\"fer2013.csv\")\n",
        "df.head()"
      ],
      "execution_count": null,
      "outputs": [
        {
          "output_type": "execute_result",
          "data": {
            "text/html": [
              "<div>\n",
              "<style scoped>\n",
              "    .dataframe tbody tr th:only-of-type {\n",
              "        vertical-align: middle;\n",
              "    }\n",
              "\n",
              "    .dataframe tbody tr th {\n",
              "        vertical-align: top;\n",
              "    }\n",
              "\n",
              "    .dataframe thead th {\n",
              "        text-align: right;\n",
              "    }\n",
              "</style>\n",
              "<table border=\"1\" class=\"dataframe\">\n",
              "  <thead>\n",
              "    <tr style=\"text-align: right;\">\n",
              "      <th></th>\n",
              "      <th>emotion</th>\n",
              "      <th>pixels</th>\n",
              "      <th>Usage</th>\n",
              "    </tr>\n",
              "  </thead>\n",
              "  <tbody>\n",
              "    <tr>\n",
              "      <th>0</th>\n",
              "      <td>0</td>\n",
              "      <td>70 80 82 72 58 58 60 63 54 58 60 48 89 115 121...</td>\n",
              "      <td>Training</td>\n",
              "    </tr>\n",
              "    <tr>\n",
              "      <th>1</th>\n",
              "      <td>0</td>\n",
              "      <td>151 150 147 155 148 133 111 140 170 174 182 15...</td>\n",
              "      <td>Training</td>\n",
              "    </tr>\n",
              "    <tr>\n",
              "      <th>2</th>\n",
              "      <td>2</td>\n",
              "      <td>231 212 156 164 174 138 161 173 182 200 106 38...</td>\n",
              "      <td>Training</td>\n",
              "    </tr>\n",
              "    <tr>\n",
              "      <th>3</th>\n",
              "      <td>4</td>\n",
              "      <td>24 32 36 30 32 23 19 20 30 41 21 22 32 34 21 1...</td>\n",
              "      <td>Training</td>\n",
              "    </tr>\n",
              "    <tr>\n",
              "      <th>4</th>\n",
              "      <td>6</td>\n",
              "      <td>4 0 0 0 0 0 0 0 0 0 0 0 3 15 23 28 48 50 58 84...</td>\n",
              "      <td>Training</td>\n",
              "    </tr>\n",
              "  </tbody>\n",
              "</table>\n",
              "</div>"
            ],
            "text/plain": [
              "   emotion                                             pixels     Usage\n",
              "0        0  70 80 82 72 58 58 60 63 54 58 60 48 89 115 121...  Training\n",
              "1        0  151 150 147 155 148 133 111 140 170 174 182 15...  Training\n",
              "2        2  231 212 156 164 174 138 161 173 182 200 106 38...  Training\n",
              "3        4  24 32 36 30 32 23 19 20 30 41 21 22 32 34 21 1...  Training\n",
              "4        6  4 0 0 0 0 0 0 0 0 0 0 0 3 15 23 28 48 50 58 84...  Training"
            ]
          },
          "metadata": {
            "tags": []
          },
          "execution_count": 6
        }
      ]
    },
    {
      "cell_type": "code",
      "metadata": {
        "id": "nUNOJEDOtslo",
        "colab": {
          "base_uri": "https://localhost:8080/",
          "height": 34
        },
        "outputId": "bbf1201d-166f-4858-e489-f9296c59a581"
      },
      "source": [
        "print(df.shape)"
      ],
      "execution_count": null,
      "outputs": [
        {
          "output_type": "stream",
          "text": [
            "(35887, 3)\n"
          ],
          "name": "stdout"
        }
      ]
    },
    {
      "cell_type": "code",
      "metadata": {
        "id": "78HE6_dptse0",
        "colab": {
          "base_uri": "https://localhost:8080/",
          "height": 296
        },
        "outputId": "762c9708-0554-4b87-892e-73dd31e1bef6"
      },
      "source": [
        "plt.figure(figsize=(9,4))\n",
        "sns.countplot(x='emotion', data=df)"
      ],
      "execution_count": null,
      "outputs": [
        {
          "output_type": "execute_result",
          "data": {
            "text/plain": [
              "<matplotlib.axes._subplots.AxesSubplot at 0x7f8a60f91748>"
            ]
          },
          "metadata": {
            "tags": []
          },
          "execution_count": 8
        },
        {
          "output_type": "display_data",
          "data": {
            "image/png": "[encoded data removed]",
            "text/plain": [
              "<Figure size 648x288 with 1 Axes>"
            ]
          },
          "metadata": {
            "tags": [],
            "needs_background": "light"
          }
        }
      ]
    },
    {
      "cell_type": "code",
      "metadata": {
        "id": "svLaBF1-uGKG",
        "colab": {
          "base_uri": "https://localhost:8080/",
          "height": 151
        },
        "outputId": "70235649-f829-41b3-9523-9d81864d7ab2"
      },
      "source": [
        "df['emotion'].value_counts()"
      ],
      "execution_count": null,
      "outputs": [
        {
          "output_type": "execute_result",
          "data": {
            "text/plain": [
              "3    8989\n",
              "6    6198\n",
              "4    6077\n",
              "2    5121\n",
              "0    4953\n",
              "5    4002\n",
              "1     547\n",
              "Name: emotion, dtype: int64"
            ]
          },
          "metadata": {
            "tags": []
          },
          "execution_count": 9
        }
      ]
    },
    {
      "cell_type": "markdown",
      "metadata": {
        "id": "FTtu4vUnuMT1"
      },
      "source": [
        "emotion 컬럼의 값은 다음을 의미.\n",
        "\n",
        "0=Angry, 1=Disgust, 2=Fear, 3=Happy, 4=Sad, 5=Surprise, 6=Neutral"
      ]
    },
    {
      "cell_type": "markdown",
      "metadata": {
        "id": "jylgGtWC1NNL"
      },
      "source": [
        "1(disgust)의 수가 너무 적다.\n",
        "\n",
        "0(angry)와 1(disgust)를 합친다."
      ]
    },
    {
      "cell_type": "code",
      "metadata": {
        "id": "rUHxzWU_1fcz",
        "colab": {
          "base_uri": "https://localhost:8080/",
          "height": 296
        },
        "outputId": "697bdbea-bf22-4656-e922-dc3f35fc26c9"
      },
      "source": [
        "df['emotion'] = df['emotion'].map( {0:0, 1:0, 2:1, 3:2, 4:3, 5:4, 6:5} ).astype(int)\n",
        "plt.figure(figsize=(9,4))\n",
        "sns.countplot(x='emotion', data=df)"
      ],
      "execution_count": null,
      "outputs": [
        {
          "output_type": "execute_result",
          "data": {
            "text/plain": [
              "<matplotlib.axes._subplots.AxesSubplot at 0x7f8a60e82358>"
            ]
          },
          "metadata": {
            "tags": []
          },
          "execution_count": 10
        },
        {
          "output_type": "display_data",
          "data": {
            "image/png": "[encoded data removed]",
            "text/plain": [
              "<Figure size 648x288 with 1 Axes>"
            ]
          },
          "metadata": {
            "tags": [],
            "needs_background": "light"
          }
        }
      ]
    },
    {
      "cell_type": "code",
      "metadata": {
        "id": "ZlhUzYuQ-qtP"
      },
      "source": [
        "category_names = [ \"angry\", \"fear\", \"happy\", \"sad\", \"suprise\", \"neutral\" ]"
      ],
      "execution_count": null,
      "outputs": []
    },
    {
      "cell_type": "code",
      "metadata": {
        "id": "a1An1SoLuGQT",
        "colab": {
          "base_uri": "https://localhost:8080/",
          "height": 299
        },
        "outputId": "e3249d18-2ca3-4452-8860-f2bbbe3c7d18"
      },
      "source": [
        "plt.figure(figsize=(9,4))\n",
        "sns.countplot(x='Usage', data=df)"
      ],
      "execution_count": null,
      "outputs": [
        {
          "output_type": "execute_result",
          "data": {
            "text/plain": [
              "<matplotlib.axes._subplots.AxesSubplot at 0x7f8a60ee9e10>"
            ]
          },
          "metadata": {
            "tags": []
          },
          "execution_count": 11
        },
        {
          "output_type": "display_data",
          "data": {
            "image/png": "[encoded data removed]",
            "text/plain": [
              "<Figure size 648x288 with 1 Axes>"
            ]
          },
          "metadata": {
            "tags": [],
            "needs_background": "light"
          }
        }
      ]
    },
    {
      "cell_type": "code",
      "metadata": {
        "id": "zermRdAxuGaf",
        "colab": {
          "base_uri": "https://localhost:8080/",
          "height": 84
        },
        "outputId": "40d44055-29db-4590-b41a-a6943f7b37b0"
      },
      "source": [
        "df['Usage'].value_counts()"
      ],
      "execution_count": null,
      "outputs": [
        {
          "output_type": "execute_result",
          "data": {
            "text/plain": [
              "Training       28709\n",
              "PublicTest      3589\n",
              "PrivateTest     3589\n",
              "Name: Usage, dtype: int64"
            ]
          },
          "metadata": {
            "tags": []
          },
          "execution_count": 12
        }
      ]
    },
    {
      "cell_type": "markdown",
      "metadata": {
        "id": "jETonuYWuhw1"
      },
      "source": [
        "## 얼굴 데이터 구하기\n",
        "\n",
        "받은 csv파일에 얼굴 영상의 pixel 값이 숫자로 그냥 들어 있다.\n",
        "이를 읽어서 데이터를 준비하자."
      ]
    },
    {
      "cell_type": "code",
      "metadata": {
        "id": "VbSfWTqOuGNh"
      },
      "source": [
        "image_size=(48,48)"
      ],
      "execution_count": null,
      "outputs": []
    },
    {
      "cell_type": "code",
      "metadata": {
        "id": "MjCs_oKvuGHP",
        "colab": {
          "base_uri": "https://localhost:8080/",
          "height": 34
        },
        "outputId": "0e836cc5-4cde-46da-8a80-8612daf3c2b9"
      },
      "source": [
        "pixels = df['pixels'].tolist()\n",
        "width, height = 48, 48\n",
        "faces = []\n",
        "\n",
        "for pixel_sequence in pixels:\n",
        "  face = [int(pixel) for pixel in pixel_sequence.split(' ')]\n",
        "  face = np.asarray(face).reshape(width, height)\n",
        "  face = cv2.resize(face.astype('uint8'),image_size)\n",
        "  faces.append(face.astype('float32'))\n",
        "  \n",
        "faces = np.asarray(faces)\n",
        "faces = np.expand_dims(faces, -1)\n",
        "print(faces.shape)"
      ],
      "execution_count": null,
      "outputs": [
        {
          "output_type": "stream",
          "text": [
            "(35887, 48, 48, 1)\n"
          ],
          "name": "stdout"
        }
      ]
    },
    {
      "cell_type": "code",
      "metadata": {
        "id": "YUjsb8_WvYBN",
        "colab": {
          "base_uri": "https://localhost:8080/",
          "height": 284
        },
        "outputId": "49696a70-3088-462f-9238-10bc47e957c2"
      },
      "source": [
        "plt.imshow(faces[0].squeeze(), cmap=\"gray\")"
      ],
      "execution_count": null,
      "outputs": [
        {
          "output_type": "execute_result",
          "data": {
            "text/plain": [
              "<matplotlib.image.AxesImage at 0x7f8a609808d0>"
            ]
          },
          "metadata": {
            "tags": []
          },
          "execution_count": 15
        },
        {
          "output_type": "display_data",
          "data": {
            "image/png": "[encoded data removed]",
            "text/plain": [
              "<Figure size 432x288 with 1 Axes>"
            ]
          },
          "metadata": {
            "tags": [],
            "needs_background": "light"
          }
        }
      ]
    },
    {
      "cell_type": "markdown",
      "metadata": {
        "id": "mornch0Jx2ks"
      },
      "source": [
        "## Normalization"
      ]
    },
    {
      "cell_type": "code",
      "metadata": {
        "id": "xzKaPmfYwL_V",
        "colab": {
          "base_uri": "https://localhost:8080/",
          "height": 50
        },
        "outputId": "906298ad-a2a8-4d00-935b-40fa9d1518e3"
      },
      "source": [
        "print(np.min(faces), np.max(faces))\n",
        "faces = faces / 255.0\n",
        "print(np.min(faces), np.max(faces))"
      ],
      "execution_count": null,
      "outputs": [
        {
          "output_type": "stream",
          "text": [
            "0.0 255.0\n",
            "0.0 1.0\n"
          ],
          "name": "stdout"
        }
      ]
    },
    {
      "cell_type": "markdown",
      "metadata": {
        "id": "Om_9WXlFxuSQ"
      },
      "source": [
        "## emotion 데이터 구하기"
      ]
    },
    {
      "cell_type": "code",
      "metadata": {
        "id": "KUDNG8pLvmhy",
        "colab": {
          "base_uri": "https://localhost:8080/",
          "height": 50
        },
        "outputId": "08395f92-9e1c-420b-b49b-5357280734e4"
      },
      "source": [
        "emotions = df['emotion'].values\n",
        "print(emotions.shape)\n",
        "print(emotions)"
      ],
      "execution_count": null,
      "outputs": [
        {
          "output_type": "stream",
          "text": [
            "(35887,)\n",
            "[0 0 1 ... 0 2 1]\n"
          ],
          "name": "stdout"
        }
      ]
    },
    {
      "cell_type": "markdown",
      "metadata": {
        "id": "YiWYAZpvxqmh"
      },
      "source": [
        "## 데이터 나누기"
      ]
    },
    {
      "cell_type": "code",
      "metadata": {
        "id": "czDYOIchwmBI"
      },
      "source": [
        "from sklearn.model_selection import train_test_split\n",
        "train_x, test_x, train_y, test_y = train_test_split(faces, emotions, test_size=0.2)"
      ],
      "execution_count": null,
      "outputs": []
    },
    {
      "cell_type": "code",
      "metadata": {
        "id": "sD3LUarcxA3d",
        "colab": {
          "base_uri": "https://localhost:8080/",
          "height": 84
        },
        "outputId": "fa998def-5034-4e28-a32f-d22af331e71d"
      },
      "source": [
        "print(train_x.shape)\n",
        "print(train_y.shape)\n",
        "print(test_x.shape)\n",
        "print(test_y.shape)"
      ],
      "execution_count": null,
      "outputs": [
        {
          "output_type": "stream",
          "text": [
            "(28709, 48, 48, 1)\n",
            "(28709,)\n",
            "(7178, 48, 48, 1)\n",
            "(7178,)\n"
          ],
          "name": "stdout"
        }
      ]
    },
    {
      "cell_type": "markdown",
      "metadata": {
        "id": "TRj8rvbyM2fj"
      },
      "source": [
        "# 모델 정의"
      ]
    },
    {
      "cell_type": "code",
      "metadata": {
        "id": "3dmuSDuCSBEC",
        "colab": {
          "base_uri": "https://localhost:8080/",
          "height": 87
        },
        "outputId": "8cca559e-e576-4bc7-a291-78c69a05874e"
      },
      "source": [
        "from tensorflow.keras import optimizers\n",
        "from tensorflow.keras import models\n",
        "from tensorflow.keras import layers\n",
        "from tensorflow.keras import optimizers\n",
        "from tensorflow.keras.models import Sequential\n",
        "from tensorflow.keras.layers import Dropout, Flatten, Dense, Conv2D, MaxPool2D, Input\n",
        "from tensorflow.keras.models import Model\n",
        "from tensorflow.keras.preprocessing.image import ImageDataGenerator\n",
        "from tensorflow.keras.preprocessing.image import load_img\n",
        "from tensorflow.keras.preprocessing.image import img_to_array\n",
        "\n",
        "\n",
        "model = models.Sequential()\n",
        "\n",
        "model.add(Input(train_x.shape[1:]))\n",
        "model.add(Conv2D(32, (3,3), padding=\"same\"))\n",
        "model.add(MaxPool2D())\n",
        "model.add(Conv2D(64, (3,3), padding=\"same\"))\n",
        "model.add(MaxPool2D())\n",
        "model.add(layers.Flatten())\n",
        "model.add(layers.Dense(1024, activation='relu'))\n",
        "model.add(layers.Dropout(0.5))\n",
        "model.add(layers.Dense(6, activation='softmax'))\n",
        "\n",
        "model.compile(loss='sparse_categorical_crossentropy', optimizer=\"RMSprop\", metrics=['acc'])\n",
        "\n"
      ],
      "execution_count": null,
      "outputs": [
        {
          "output_type": "stream",
          "text": [
            "WARNING:tensorflow:From /tensorflow-1.15.2/python3.6/tensorflow_core/python/ops/resource_variable_ops.py:1630: calling BaseResourceVariable.__init__ (from tensorflow.python.ops.resource_variable_ops) with constraint is deprecated and will be removed in a future version.\n",
            "Instructions for updating:\n",
            "If using Keras pass *_constraint arguments to layers.\n"
          ],
          "name": "stdout"
        }
      ]
    },
    {
      "cell_type": "markdown",
      "metadata": {
        "id": "unB58zRPz03t"
      },
      "source": [
        "# 데이터 증강"
      ]
    },
    {
      "cell_type": "code",
      "metadata": {
        "id": "cQb2N20qzzUi"
      },
      "source": [
        "train_data_generator = ImageDataGenerator(\n",
        "      rotation_range=10,\n",
        "      width_shift_range=0.1,\n",
        "      height_shift_range=0.1,\n",
        "      horizontal_flip=True,\n",
        "      vertical_flip=False,\n",
        ")\n",
        "\n",
        "test_data_generator = ImageDataGenerator()"
      ],
      "execution_count": null,
      "outputs": []
    },
    {
      "cell_type": "markdown",
      "metadata": {
        "id": "UkbqMKsKz62v"
      },
      "source": [
        "# 학습"
      ]
    },
    {
      "cell_type": "code",
      "metadata": {
        "id": "i7ssJSf2zvcV",
        "colab": {
          "base_uri": "https://localhost:8080/",
          "height": 558
        },
        "outputId": "5049405d-40e5-471c-bd06-2c15fb450f5f"
      },
      "source": [
        "model.fit(\n",
        "      train_data_generator.flow(train_x, train_y, 32),\n",
        "      validation_data=test_data_generator.flow(test_x, test_y, 32),\n",
        "      steps_per_epoch=len(train_x)/32,  \n",
        "      validation_steps=len(test_x)/32,      \n",
        "      epochs=10\n",
        ")"
      ],
      "execution_count": null,
      "outputs": [
        {
          "output_type": "stream",
          "text": [
            "Epoch 1/10\n",
            "893/897 [============================>.] - ETA: 0s - loss: 1.6864 - acc: 0.3234Epoch 1/10\n",
            "898/897 [==============================] - 18s 20ms/step - loss: 1.6854 - acc: 0.3240 - val_loss: 1.4652 - val_acc: 0.4142\n",
            "Epoch 2/10\n",
            "894/897 [============================>.] - ETA: 0s - loss: 1.5046 - acc: 0.4018Epoch 1/10\n",
            "898/897 [==============================] - 11s 12ms/step - loss: 1.5045 - acc: 0.4018 - val_loss: 1.3877 - val_acc: 0.4533\n",
            "Epoch 3/10\n",
            "894/897 [============================>.] - ETA: 0s - loss: 1.4579 - acc: 0.4287Epoch 1/10\n",
            "898/897 [==============================] - 11s 13ms/step - loss: 1.4574 - acc: 0.4288 - val_loss: 1.3752 - val_acc: 0.4723\n",
            "Epoch 4/10\n",
            "895/897 [============================>.] - ETA: 0s - loss: 1.4286 - acc: 0.4435Epoch 1/10\n",
            "898/897 [==============================] - 11s 12ms/step - loss: 1.4294 - acc: 0.4431 - val_loss: 1.3156 - val_acc: 0.4893\n",
            "Epoch 5/10\n",
            "896/897 [============================>.] - ETA: 0s - loss: 1.4137 - acc: 0.4464Epoch 1/10\n",
            "898/897 [==============================] - 11s 13ms/step - loss: 1.4139 - acc: 0.4463 - val_loss: 1.2979 - val_acc: 0.4967\n",
            "Epoch 6/10\n",
            "895/897 [============================>.] - ETA: 0s - loss: 1.4063 - acc: 0.4550Epoch 1/10\n",
            "898/897 [==============================] - 11s 12ms/step - loss: 1.4062 - acc: 0.4550 - val_loss: 1.3575 - val_acc: 0.4813\n",
            "Epoch 7/10\n",
            "895/897 [============================>.] - ETA: 0s - loss: 1.4015 - acc: 0.4564Epoch 1/10\n",
            "898/897 [==============================] - 11s 12ms/step - loss: 1.4015 - acc: 0.4565 - val_loss: 1.2929 - val_acc: 0.5018\n",
            "Epoch 8/10\n",
            "896/897 [============================>.] - ETA: 0s - loss: 1.3983 - acc: 0.4563Epoch 1/10\n",
            "898/897 [==============================] - 11s 12ms/step - loss: 1.3984 - acc: 0.4563 - val_loss: 1.2860 - val_acc: 0.5114\n",
            "Epoch 9/10\n",
            "894/897 [============================>.] - ETA: 0s - loss: 1.3989 - acc: 0.4586Epoch 1/10\n",
            "898/897 [==============================] - 11s 12ms/step - loss: 1.3988 - acc: 0.4586 - val_loss: 1.3272 - val_acc: 0.4915\n",
            "Epoch 10/10\n",
            "897/897 [============================>.] - ETA: 0s - loss: 1.4040 - acc: 0.4535Epoch 1/10\n",
            "898/897 [==============================] - 11s 13ms/step - loss: 1.4037 - acc: 0.4536 - val_loss: 1.3298 - val_acc: 0.4975\n"
          ],
          "name": "stdout"
        },
        {
          "output_type": "execute_result",
          "data": {
            "text/plain": [
              "<tensorflow.python.keras.callbacks.History at 0x7f8a1d4f0198>"
            ]
          },
          "metadata": {
            "tags": []
          },
          "execution_count": 22
        }
      ]
    },
    {
      "cell_type": "markdown",
      "metadata": {
        "id": "UGqIgb2rz9Cj"
      },
      "source": [
        "# 평가"
      ]
    },
    {
      "cell_type": "code",
      "metadata": {
        "id": "DmLoqWrDz-9z",
        "colab": {
          "base_uri": "https://localhost:8080/",
          "height": 34
        },
        "outputId": "9f651827-ee3f-45c1-f3b5-ef8065bd78a1"
      },
      "source": [
        "loss, acc = model.evaluate(\n",
        "      test_data_generator.flow(test_x, test_y, 32),\n",
        "      steps=len(test_x)/32\n",
        ")\n",
        "print(loss, acc)"
      ],
      "execution_count": null,
      "outputs": [
        {
          "output_type": "stream",
          "text": [
            "1.3320934452961402 0.49749234\n"
          ],
          "name": "stdout"
        }
      ]
    },
    {
      "cell_type": "markdown",
      "metadata": {
        "id": "PvCLMFRtz77G"
      },
      "source": [
        "# 결과 보기"
      ]
    },
    {
      "cell_type": "code",
      "metadata": {
        "id": "wmOBsKtcy98O",
        "colab": {
          "base_uri": "https://localhost:8080/",
          "height": 1000
        },
        "outputId": "bceaa70a-b9ef-4070-ac0f-262289996100"
      },
      "source": [
        "y_ = model.predict(test_x)\n",
        "\n",
        "predicted = np.argmax(y_, axis=1)\n",
        "\n",
        "for i in range(5):\n",
        "  plt.imshow(test_x[i].squeeze(), cmap=\"gray\")\n",
        "  plt.show()\n",
        "  print(\"predicted category index =\", predicted[i])\n",
        "  print(category_names[predicted[i]])\n"
      ],
      "execution_count": null,
      "outputs": [
        {
          "output_type": "display_data",
          "data": {
            "image/png": "[encoded data removed]",
            "text/plain": [
              "<Figure size 432x288 with 1 Axes>"
            ]
          },
          "metadata": {
            "tags": [],
            "needs_background": "light"
          }
        },
        {
          "output_type": "stream",
          "text": [
            "predicted category index = 4\n",
            "suprise\n"
          ],
          "name": "stdout"
        },
        {
          "output_type": "display_data",
          "data": {
            "image/png": "[encoded data removed]",
            "text/plain": [
              "<Figure size 432x288 with 1 Axes>"
            ]
          },
          "metadata": {
            "tags": [],
            "needs_background": "light"
          }
        },
        {
          "output_type": "stream",
          "text": [
            "predicted category index = 1\n",
            "fear\n"
          ],
          "name": "stdout"
        },
        {
          "output_type": "display_data",
          "data": {
            "image/png": "[encoded data removed]",
            "text/plain": [
              "<Figure size 432x288 with 1 Axes>"
            ]
          },
          "metadata": {
            "tags": [],
            "needs_background": "light"
          }
        },
        {
          "output_type": "stream",
          "text": [
            "predicted category index = 1\n",
            "fear\n"
          ],
          "name": "stdout"
        },
        {
          "output_type": "display_data",
          "data": {
            "image/png": "[encoded data removed]",
            "text/plain": [
              "<Figure size 432x288 with 1 Axes>"
            ]
          },
          "metadata": {
            "tags": [],
            "needs_background": "light"
          }
        },
        {
          "output_type": "stream",
          "text": [
            "predicted category index = 5\n",
            "neutral\n"
          ],
          "name": "stdout"
        },
        {
          "output_type": "display_data",
          "data": {
            "image/png": "[encoded data removed]",
            "text/plain": [
              "<Figure size 432x288 with 1 Axes>"
            ]
          },
          "metadata": {
            "tags": [],
            "needs_background": "light"
          }
        },
        {
          "output_type": "stream",
          "text": [
            "predicted category index = 2\n",
            "happy\n"
          ],
          "name": "stdout"
        }
      ]
    },
    {
      "cell_type": "code",
      "metadata": {
        "id": "BMds1wXf0cIW"
      },
      "source": [
        ""
      ],
      "execution_count": null,
      "outputs": []
    }
  ]
}