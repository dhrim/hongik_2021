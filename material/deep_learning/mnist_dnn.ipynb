{
  "nbformat": 4,
  "nbformat_minor": 0,
  "metadata": {
    "colab": {
      "name": "mnist_dnn.ipynb",
      "provenance": [],
      "collapsed_sections": []
    },
    "kernelspec": {
      "name": "python3",
      "display_name": "Python 3"
    }
  },
  "cells": [
    {
      "cell_type": "code",
      "metadata": {
        "id": "d1z9YIBWu0zx",
        "colab_type": "code",
        "colab": {
          "base_uri": "https://localhost:8080/",
          "height": 35
        },
        "outputId": "53683e38-b9de-4b18-d242-3ca738a9edc6"
      },
      "source": [
        "%tensorflow_version 1.x"
      ],
      "execution_count": 1,
      "outputs": [
        {
          "output_type": "stream",
          "text": [
            "TensorFlow 1.x selected.\n"
          ],
          "name": "stdout"
        }
      ]
    },
    {
      "cell_type": "code",
      "metadata": {
        "id": "pH--ADDvhXQM",
        "colab_type": "code",
        "colab": {}
      },
      "source": [
        "import numpy as np\n",
        "import matplotlib.pyplot as plt\n",
        "\n",
        "import tensorflow as tf\n",
        "from tensorflow import keras\n",
        "from tensorflow.keras import optimizers\n",
        "from tensorflow.keras.layers import Dense, Flatten\n",
        "\n",
        "import time"
      ],
      "execution_count": null,
      "outputs": []
    },
    {
      "cell_type": "markdown",
      "metadata": {
        "id": "iY37KleXmoaY",
        "colab_type": "text"
      },
      "source": [
        "# 데이터 준비"
      ]
    },
    {
      "cell_type": "markdown",
      "metadata": {
        "id": "5BEmcWKsmj6V",
        "colab_type": "text"
      },
      "source": [
        "## 데이터 다운로드"
      ]
    },
    {
      "cell_type": "code",
      "metadata": {
        "id": "46F5aLlSlz6G",
        "colab_type": "code",
        "colab": {
          "base_uri": "https://localhost:8080/",
          "height": 52
        },
        "outputId": "16b8e108-4f49-415f-b1c7-d124a3fd7490"
      },
      "source": [
        "(raw_train_x, raw_train_y), (raw_test_x, raw_test_y) = tf.keras.datasets.mnist.load_data()"
      ],
      "execution_count": null,
      "outputs": [
        {
          "output_type": "stream",
          "text": [
            "Downloading data from https://storage.googleapis.com/tensorflow/tf-keras-datasets/mnist.npz\n",
            "11493376/11490434 [==============================] - 0s 0us/step\n"
          ],
          "name": "stdout"
        }
      ]
    },
    {
      "cell_type": "code",
      "metadata": {
        "id": "ZGtQOq_Pl_Hp",
        "colab_type": "code",
        "colab": {
          "base_uri": "https://localhost:8080/",
          "height": 86
        },
        "outputId": "90bc14ea-f90e-466a-c15d-34b47a9890c9"
      },
      "source": [
        "print(raw_train_x.shape)\n",
        "print(raw_train_y.shape)\n",
        "print(raw_test_x.shape)\n",
        "print(raw_test_y.shape)"
      ],
      "execution_count": null,
      "outputs": [
        {
          "output_type": "stream",
          "text": [
            "(60000, 28, 28)\n",
            "(60000,)\n",
            "(10000, 28, 28)\n",
            "(10000,)\n"
          ],
          "name": "stdout"
        }
      ]
    },
    {
      "cell_type": "code",
      "metadata": {
        "id": "pRvTcjrwyMAB",
        "colab_type": "code",
        "colab": {
          "base_uri": "https://localhost:8080/",
          "height": 1000
        },
        "outputId": "dacaf3f7-9f6f-44e4-9b90-ffe7d8ac2359"
      },
      "source": [
        "for i in range(4):\n",
        "  print(raw_train_y[i])\n",
        "  plt.imshow(raw_train_x[i], cmap=plt.cm.binary)\n",
        "  plt.show()\n"
      ],
      "execution_count": null,
      "outputs": [
        {
          "output_type": "stream",
          "text": [
            "5\n"
          ],
          "name": "stdout"
        },
        {
          "output_type": "display_data",
          "data": {
            "image/png": "[encoded data removed]",
            "text/plain": [
              "<Figure size 432x288 with 1 Axes>"
            ]
          },
          "metadata": {
            "tags": []
          }
        },
        {
          "output_type": "stream",
          "text": [
            "0\n"
          ],
          "name": "stdout"
        },
        {
          "output_type": "display_data",
          "data": {
            "image/png": "[encoded data removed]",
            "text/plain": [
              "<Figure size 432x288 with 1 Axes>"
            ]
          },
          "metadata": {
            "tags": []
          }
        },
        {
          "output_type": "stream",
          "text": [
            "4\n"
          ],
          "name": "stdout"
        },
        {
          "output_type": "display_data",
          "data": {
            "image/png": "[encoded data removed]",
            "text/plain": [
              "<Figure size 432x288 with 1 Axes>"
            ]
          },
          "metadata": {
            "tags": []
          }
        },
        {
          "output_type": "stream",
          "text": [
            "1\n"
          ],
          "name": "stdout"
        },
        {
          "output_type": "display_data",
          "data": {
            "image/png": "[encoded data removed]",
            "text/plain": [
              "<Figure size 432x288 with 1 Axes>"
            ]
          },
          "metadata": {
            "tags": []
          }
        }
      ]
    },
    {
      "cell_type": "markdown",
      "metadata": {
        "id": "V6AV1QI6mewE",
        "colab_type": "text"
      },
      "source": [
        "## Normalization"
      ]
    },
    {
      "cell_type": "code",
      "metadata": {
        "id": "nBZsXbAjmNiC",
        "colab_type": "code",
        "colab": {
          "base_uri": "https://localhost:8080/",
          "height": 86
        },
        "outputId": "9bc718a7-d82f-4935-f38c-9db2106aebe9"
      },
      "source": [
        "print(np.max(raw_train_x[:,]))\n",
        "print(np.max(raw_test_x[:,]))\n",
        "\n",
        "train_x = raw_train_x/255\n",
        "test_x = raw_test_x/255\n",
        "\n",
        "train_y = raw_train_y\n",
        "test_y = raw_test_y\n",
        "\n",
        "print(np.max(train_x[:,]))\n",
        "print(np.max(test_x[:,]))\n"
      ],
      "execution_count": null,
      "outputs": [
        {
          "output_type": "stream",
          "text": [
            "255\n",
            "255\n",
            "1.0\n",
            "1.0\n"
          ],
          "name": "stdout"
        }
      ]
    },
    {
      "cell_type": "code",
      "metadata": {
        "id": "_38v16ommum-",
        "colab_type": "code",
        "colab": {
          "base_uri": "https://localhost:8080/",
          "height": 52
        },
        "outputId": "7f2695da-77a7-4ee9-bbe4-def63773a466"
      },
      "source": [
        "data_count = train_x.shape[0]\n",
        "data_size = train_x.shape[1]*train_x.shape[2]\n",
        "train_x = train_x.reshape((data_count, data_size))\n",
        "\n",
        "data_count = test_x.shape[0]\n",
        "test_x = test_x.reshape((data_count, data_size))\n",
        "\n",
        "print(train_x.shape)\n",
        "print(test_x.shape)"
      ],
      "execution_count": null,
      "outputs": [
        {
          "output_type": "stream",
          "text": [
            "(60000, 784)\n",
            "(10000, 784)\n"
          ],
          "name": "stdout"
        }
      ]
    },
    {
      "cell_type": "markdown",
      "metadata": {
        "id": "PeG7foCfu1PF",
        "colab_type": "text"
      },
      "source": [
        "# 모델 준비"
      ]
    },
    {
      "cell_type": "code",
      "metadata": {
        "id": "X08W3R4_ldKc",
        "colab_type": "code",
        "colab": {
          "base_uri": "https://localhost:8080/",
          "height": 348
        },
        "outputId": "49ef8be3-79b3-490d-b8ec-a8f7f4c5c8cd"
      },
      "source": [
        "model = keras.Sequential()\n",
        "# model.add(Dense(10, activation='relu', input_shape=(4,)))\n",
        "model.add(Dense(10, activation='relu', input_shape=(28*28,)))\n",
        "model.add(Dense(10, activation='relu'))\n",
        "# model.add(Dense(3, activation='softmax'))\n",
        "model.add(Dense(10, activation='softmax'))\n",
        "\n",
        "model.compile(optimizer=\"adam\", loss=\"sparse_categorical_crossentropy\", metrics=[\"accuracy\"])\n",
        "model.summary()"
      ],
      "execution_count": null,
      "outputs": [
        {
          "output_type": "stream",
          "text": [
            "WARNING: Logging before flag parsing goes to stderr.\n",
            "W0826 03:27:13.162246 140558552479616 deprecation.py:506] From /usr/local/lib/python3.6/dist-packages/tensorflow/python/ops/init_ops.py:1251: calling VarianceScaling.__init__ (from tensorflow.python.ops.init_ops) with dtype is deprecated and will be removed in a future version.\n",
            "Instructions for updating:\n",
            "Call initializer instance with the dtype argument instead of passing it to the constructor\n"
          ],
          "name": "stderr"
        },
        {
          "output_type": "stream",
          "text": [
            "Model: \"sequential\"\n",
            "_________________________________________________________________\n",
            "Layer (type)                 Output Shape              Param #   \n",
            "=================================================================\n",
            "dense (Dense)                (None, 10)                7850      \n",
            "_________________________________________________________________\n",
            "dense_1 (Dense)              (None, 10)                110       \n",
            "_________________________________________________________________\n",
            "dense_2 (Dense)              (None, 10)                110       \n",
            "=================================================================\n",
            "Total params: 8,070\n",
            "Trainable params: 8,070\n",
            "Non-trainable params: 0\n",
            "_________________________________________________________________\n"
          ],
          "name": "stdout"
        }
      ]
    },
    {
      "cell_type": "code",
      "metadata": {
        "id": "igZrWG5nu7FK",
        "colab_type": "code",
        "colab": {
          "base_uri": "https://localhost:8080/",
          "height": 207
        },
        "outputId": "bf7886f9-1411-44db-8cca-ed04c3fbce9c"
      },
      "source": [
        "# start_time = time.time() # REMOVED\n",
        "model.fit(train_x, train_y, epochs=5, verbose=1, batch_size=128)\n",
        "# print(\"elapsed : {}\".format(time.time() - start_time)) # REMOVED"
      ],
      "execution_count": null,
      "outputs": [
        {
          "output_type": "stream",
          "text": [
            "Epoch 1/5\n",
            "60000/60000 [==============================] - 1s 24us/sample - loss: 0.8976 - acc: 0.7471\n",
            "Epoch 2/5\n",
            "60000/60000 [==============================] - 1s 18us/sample - loss: 0.3409 - acc: 0.9021\n",
            "Epoch 3/5\n",
            "60000/60000 [==============================] - 1s 19us/sample - loss: 0.2964 - acc: 0.9157\n",
            "Epoch 4/5\n",
            "60000/60000 [==============================] - 1s 21us/sample - loss: 0.2727 - acc: 0.9217\n",
            "Epoch 5/5\n",
            "60000/60000 [==============================] - 1s 20us/sample - loss: 0.2583 - acc: 0.9266\n"
          ],
          "name": "stdout"
        },
        {
          "output_type": "execute_result",
          "data": {
            "text/plain": [
              "<tensorflow.python.keras.callbacks.History at 0x7fd619e5ab70>"
            ]
          },
          "metadata": {
            "tags": []
          },
          "execution_count": 9
        }
      ]
    },
    {
      "cell_type": "code",
      "metadata": {
        "id": "CiIqivhwu9Vi",
        "colab_type": "code",
        "colab": {
          "base_uri": "https://localhost:8080/",
          "height": 69
        },
        "outputId": "49e61d9b-3f6c-494a-8f51-8db59e2ead44"
      },
      "source": [
        "loss, acc = model.evaluate(test_x, test_y)\n",
        "print(\"loss=\",loss)\n",
        "print(\"acc=\",acc)"
      ],
      "execution_count": null,
      "outputs": [
        {
          "output_type": "stream",
          "text": [
            "10000/10000 [==============================] - 0s 23us/sample - loss: 0.2595 - acc: 0.9225\n",
            "loss= 0.2595404890090227\n",
            "acc= 0.9225\n"
          ],
          "name": "stdout"
        }
      ]
    },
    {
      "cell_type": "code",
      "metadata": {
        "id": "8GCmG_ZVurfb",
        "colab_type": "code",
        "colab": {
          "base_uri": "https://localhost:8080/",
          "height": 1000
        },
        "outputId": "306f08e0-3883-427c-cc0b-89d397cd93cf"
      },
      "source": [
        "y_ = model.predict(test_x)\n",
        "print(y_)\n",
        "predicted = np.argmax(y_, axis=1)\n",
        "print(predicted)\n",
        "\n",
        "for i in range(4):\n",
        "  print(raw_test_y[i])\n",
        "  plt.imshow(raw_test_x[i], cmap=plt.cm.binary)\n",
        "  plt.show()"
      ],
      "execution_count": null,
      "outputs": [
        {
          "output_type": "stream",
          "text": [
            "[[3.5815305e-04 6.9492700e-10 1.1488014e-03 ... 9.9681515e-01\n",
            "  2.7782439e-06 3.6880595e-04]\n",
            " [3.5999725e-05 1.0702840e-07 9.8896360e-01 ... 6.8557866e-09\n",
            "  2.8125418e-05 4.6383571e-11]\n",
            " [1.9099911e-05 9.8253113e-01 4.7442825e-03 ... 1.3280561e-03\n",
            "  5.6291544e-03 1.3055060e-04]\n",
            " ...\n",
            " [1.2460360e-07 1.8950567e-08 9.7403363e-06 ... 8.1810256e-05\n",
            "  8.0671557e-04 9.1458419e-03]\n",
            " [1.1285246e-08 4.2120849e-09 1.6745187e-09 ... 6.0491803e-13\n",
            "  8.9879072e-04 6.6624882e-05]\n",
            " [2.2069853e-06 2.6737762e-15 1.7006374e-05 ... 1.0593926e-14\n",
            "  5.3742686e-09 1.5430878e-09]]\n",
            "[7 2 1 ... 4 5 6]\n",
            "7\n"
          ],
          "name": "stdout"
        },
        {
          "output_type": "display_data",
          "data": {
            "image/png": "[encoded data removed]",
            "text/plain": [
              "<Figure size 432x288 with 1 Axes>"
            ]
          },
          "metadata": {
            "tags": []
          }
        },
        {
          "output_type": "stream",
          "text": [
            "2\n"
          ],
          "name": "stdout"
        },
        {
          "output_type": "display_data",
          "data": {
            "image/png": "[encoded data removed]",
            "text/plain": [
              "<Figure size 432x288 with 1 Axes>"
            ]
          },
          "metadata": {
            "tags": []
          }
        },
        {
          "output_type": "stream",
          "text": [
            "1\n"
          ],
          "name": "stdout"
        },
        {
          "output_type": "display_data",
          "data": {
            "image/png": "[encoded data removed]",
            "text/plain": [
              "<Figure size 432x288 with 1 Axes>"
            ]
          },
          "metadata": {
            "tags": []
          }
        },
        {
          "output_type": "stream",
          "text": [
            "0\n"
          ],
          "name": "stdout"
        },
        {
          "output_type": "display_data",
          "data": {
            "image/png": "[encoded data removed]",
            "text/plain": [
              "<Figure size 432x288 with 1 Axes>"
            ]
          },
          "metadata": {
            "tags": []
          }
        }
      ]
    },
    {
      "cell_type": "markdown",
      "metadata": {
        "id": "c503DSvxvOU5",
        "colab_type": "text"
      },
      "source": [
        "# 한눈에 모아보면"
      ]
    },
    {
      "cell_type": "code",
      "metadata": {
        "id": "nSNPBq4kvR9u",
        "colab_type": "code",
        "colab": {}
      },
      "source": [
        "import numpy as np\n",
        "import matplotlib.pyplot as plt\n",
        "\n",
        "import tensorflow as tf\n",
        "from tensorflow import keras\n",
        "from tensorflow.keras import optimizers\n",
        "from tensorflow.keras.layers import Dense\n",
        "\n",
        "import time"
      ],
      "execution_count": null,
      "outputs": []
    },
    {
      "cell_type": "code",
      "metadata": {
        "id": "AeBqmrvcwXDE",
        "colab_type": "code",
        "colab": {}
      },
      "source": [
        "(raw_train_x, raw_train_y), (raw_test_x, raw_test_y) = tf.keras.datasets.mnist.load_data()\n",
        "\n",
        "train_x = raw_train_x/255\n",
        "test_x = raw_test_x/255\n",
        "\n",
        "train_y = raw_train_y\n",
        "test_y = raw_test_y\n",
        "\n",
        "train_x = train_x.reshape((60000, 28*28))\n",
        "test_x = test_x.reshape((10000, 28*28))\n"
      ],
      "execution_count": null,
      "outputs": []
    },
    {
      "cell_type": "code",
      "metadata": {
        "id": "tksmYhZswCac",
        "colab_type": "code",
        "colab": {
          "base_uri": "https://localhost:8080/",
          "height": 501
        },
        "outputId": "ec203a20-16bb-4bad-8811-cb5399be81e1"
      },
      "source": [
        "model = keras.Sequential()\n",
        "model.add(Dense(10, activation='relu', input_shape=(28*28,)))\n",
        "model.add(Dense(10, activation='relu'))\n",
        "model.add(Dense(10, activation='softmax'))\n",
        "\n",
        "model.compile(optimizer=\"adam\", loss=\"sparse_categorical_crossentropy\", metrics=[\"accuracy\"])\n",
        "model.summary()\n",
        "\n",
        "\n",
        "model.fit(train_x, train_y, epochs=5, verbose=1, batch_size=128)\n",
        "\n",
        "\n",
        "loss, acc = model.evaluate(test_x, test_y)\n",
        "print(\"loss=\",loss)\n",
        "print(\"acc=\",acc)\n",
        "\n",
        "y_ = model.predict(test_x)\n",
        "predicted = np.argmax(y_, axis=1)\n",
        "\n",
        "print(predicted)"
      ],
      "execution_count": null,
      "outputs": [
        {
          "output_type": "stream",
          "text": [
            "Model: \"sequential_1\"\n",
            "_________________________________________________________________\n",
            "Layer (type)                 Output Shape              Param #   \n",
            "=================================================================\n",
            "dense_3 (Dense)              (None, 10)                7850      \n",
            "_________________________________________________________________\n",
            "dense_4 (Dense)              (None, 10)                110       \n",
            "_________________________________________________________________\n",
            "dense_5 (Dense)              (None, 10)                110       \n",
            "=================================================================\n",
            "Total params: 8,070\n",
            "Trainable params: 8,070\n",
            "Non-trainable params: 0\n",
            "_________________________________________________________________\n",
            "Epoch 1/5\n",
            "60000/60000 [==============================] - 1s 19us/sample - loss: 0.9044 - acc: 0.7136\n",
            "Epoch 2/5\n",
            "60000/60000 [==============================] - 1s 21us/sample - loss: 0.3927 - acc: 0.8880\n",
            "Epoch 3/5\n",
            "60000/60000 [==============================] - 1s 21us/sample - loss: 0.3307 - acc: 0.9058\n",
            "Epoch 4/5\n",
            "60000/60000 [==============================] - 1s 21us/sample - loss: 0.2990 - acc: 0.9147\n",
            "Epoch 5/5\n",
            "60000/60000 [==============================] - 1s 20us/sample - loss: 0.2777 - acc: 0.9197\n",
            "10000/10000 [==============================] - 0s 28us/sample - loss: 0.2660 - acc: 0.9234\n",
            "loss= 0.26598617191910745\n",
            "acc= 0.9234\n",
            "[7 2 1 ... 4 5 6]\n"
          ],
          "name": "stdout"
        }
      ]
    },
    {
      "cell_type": "markdown",
      "metadata": {
        "id": "63C6TPhfxCHQ",
        "colab_type": "text"
      },
      "source": [
        "# Flatten 레이어 사용\n",
        "\n",
        "(None, 28, 28) shape의 train_x를 그대로 사용.\n",
        "\n",
        "모델의 처음에 Flatten() 레이어를 두어, 입력 모양을 변경한다.\n"
      ]
    },
    {
      "cell_type": "code",
      "metadata": {
        "id": "G8M2QsSUxGZn",
        "colab_type": "code",
        "colab": {}
      },
      "source": [
        "import numpy as np\n",
        "import matplotlib.pyplot as plt\n",
        "\n",
        "import tensorflow as tf\n",
        "from tensorflow import keras\n",
        "from tensorflow.keras import optimizers\n",
        "from tensorflow.keras.layers import Dense\n",
        "\n",
        "import time"
      ],
      "execution_count": null,
      "outputs": []
    },
    {
      "cell_type": "code",
      "metadata": {
        "id": "98Ly9UIFxIjO",
        "colab_type": "code",
        "colab": {}
      },
      "source": [
        "(raw_train_x, raw_train_y), (raw_test_x, raw_test_y) = tf.keras.datasets.mnist.load_data()\n",
        "\n",
        "train_x = raw_train_x/255\n",
        "test_x = raw_test_x/255\n",
        "\n",
        "train_y = raw_train_y\n",
        "test_y = raw_test_y\n",
        "\n",
        "# data_count = train_x.shape[0] # COMMENT OUT\n",
        "# data_size = train_x.shape[1]*train_x.shape[2] # COMMENT OUT\n",
        "# train_x = train_x.reshape((data_count, data_size)) # COMMENT OUT\n",
        "\n",
        "# data_count = test_x.shape[0] # COMMENT OUT\n",
        "# test_x = test_x.reshape((data_count, data_size)) # COMMENT OUT\n"
      ],
      "execution_count": null,
      "outputs": []
    },
    {
      "cell_type": "code",
      "metadata": {
        "id": "gZ-hK0S5xIl7",
        "colab_type": "code",
        "colab": {
          "base_uri": "https://localhost:8080/",
          "height": 535
        },
        "outputId": "f6463dc4-c6f7-4d0d-f1b8-2937ac1deece"
      },
      "source": [
        "\n",
        "model = keras.Sequential()\n",
        "model.add(Flatten(input_shape=(28, 28))) # ADD\n",
        "# model.add(Dense(10, activation='relu', input_shape=(28*28,)))\n",
        "model.add(Dense(10, activation='relu'))\n",
        "model.add(Dense(10, activation='relu'))\n",
        "model.add(Dense(10, activation='softmax'))\n",
        "\n",
        "model.compile(optimizer=\"adam\", loss=\"sparse_categorical_crossentropy\", metrics=[\"accuracy\"])\n",
        "model.summary()\n",
        "\n",
        "\n",
        "model.fit(train_x, train_y, epochs=5, verbose=1, batch_size=128)\n",
        "\n",
        "\n",
        "loss, acc = model.evaluate(test_x, test_y)\n",
        "print(\"loss=\",loss)\n",
        "print(\"acc=\",acc)\n",
        "\n",
        "y_ = model.predict(test_x)\n",
        "predicted = np.argmax(y_, axis=1)\n",
        "\n",
        "print(predicted)\n"
      ],
      "execution_count": null,
      "outputs": [
        {
          "output_type": "stream",
          "text": [
            "Model: \"sequential_2\"\n",
            "_________________________________________________________________\n",
            "Layer (type)                 Output Shape              Param #   \n",
            "=================================================================\n",
            "flatten (Flatten)            (None, 784)               0         \n",
            "_________________________________________________________________\n",
            "dense_6 (Dense)              (None, 10)                7850      \n",
            "_________________________________________________________________\n",
            "dense_7 (Dense)              (None, 10)                110       \n",
            "_________________________________________________________________\n",
            "dense_8 (Dense)              (None, 10)                110       \n",
            "=================================================================\n",
            "Total params: 8,070\n",
            "Trainable params: 8,070\n",
            "Non-trainable params: 0\n",
            "_________________________________________________________________\n",
            "Epoch 1/5\n",
            "60000/60000 [==============================] - 1s 20us/sample - loss: 0.8862 - acc: 0.7278\n",
            "Epoch 2/5\n",
            "60000/60000 [==============================] - 1s 20us/sample - loss: 0.3659 - acc: 0.8950\n",
            "Epoch 3/5\n",
            "60000/60000 [==============================] - 1s 20us/sample - loss: 0.3164 - acc: 0.9100\n",
            "Epoch 4/5\n",
            "60000/60000 [==============================] - 1s 20us/sample - loss: 0.2904 - acc: 0.9171\n",
            "Epoch 5/5\n",
            "60000/60000 [==============================] - 1s 20us/sample - loss: 0.2724 - acc: 0.9225\n",
            "10000/10000 [==============================] - 0s 27us/sample - loss: 0.2613 - acc: 0.9265\n",
            "loss= 0.26132496373653413\n",
            "acc= 0.9265\n",
            "[7 2 1 ... 4 5 6]\n"
          ],
          "name": "stdout"
        }
      ]
    },
    {
      "cell_type": "markdown",
      "metadata": {
        "id": "CXuXR4tSBRPu",
        "colab_type": "text"
      },
      "source": [
        "# DNN classification Template"
      ]
    },
    {
      "cell_type": "code",
      "metadata": {
        "id": "QfdEDwzKBUnT",
        "colab_type": "code",
        "colab": {
          "base_uri": "https://localhost:8080/",
          "height": 535
        },
        "outputId": "242bd924-9c95-4b9d-f746-bb2a034b8a59"
      },
      "source": [
        "import numpy as np\n",
        "import matplotlib.pyplot as plt\n",
        "\n",
        "import tensorflow as tf\n",
        "from tensorflow import keras\n",
        "from tensorflow.keras import optimizers\n",
        "from tensorflow.keras.layers import Dense\n",
        "\n",
        "import time\n",
        "\n",
        "\n",
        "(train_x, train_y), (test_x, test_y) = tf.keras.datasets.mnist.load_data()\n",
        "\n",
        "train_x = train_x/255\n",
        "test_x = test_x/255\n",
        "\n",
        "\n",
        "model = keras.Sequential()\n",
        "model.add(Flatten(input_shape=(28, 28)))\n",
        "model.add(Dense(10, activation='relu'))\n",
        "model.add(Dense(10, activation='relu'))\n",
        "model.add(Dense(10, activation='softmax'))\n",
        "\n",
        "model.compile(optimizer=\"adam\", loss=\"sparse_categorical_crossentropy\", metrics=[\"accuracy\"])\n",
        "model.summary()\n",
        "\n",
        "\n",
        "model.fit(train_x, train_y, epochs=5, verbose=1, batch_size=128)\n",
        "\n",
        "\n",
        "loss, acc = model.evaluate(test_x, test_y)\n",
        "print(\"loss=\",loss)\n",
        "print(\"acc=\",acc)\n",
        "\n",
        "y_ = model.predict(test_x)\n",
        "predicted = np.argmax(y_, axis=1)\n",
        "\n",
        "print(predicted)\n"
      ],
      "execution_count": null,
      "outputs": [
        {
          "output_type": "stream",
          "text": [
            "Model: \"sequential_10\"\n",
            "_________________________________________________________________\n",
            "Layer (type)                 Output Shape              Param #   \n",
            "=================================================================\n",
            "flatten_8 (Flatten)          (None, 784)               0         \n",
            "_________________________________________________________________\n",
            "dense_30 (Dense)             (None, 10)                7850      \n",
            "_________________________________________________________________\n",
            "dense_31 (Dense)             (None, 10)                110       \n",
            "_________________________________________________________________\n",
            "dense_32 (Dense)             (None, 10)                110       \n",
            "=================================================================\n",
            "Total params: 8,070\n",
            "Trainable params: 8,070\n",
            "Non-trainable params: 0\n",
            "_________________________________________________________________\n",
            "Epoch 1/5\n",
            "60000/60000 [==============================] - 1s 22us/sample - loss: 1.0497 - acc: 0.6647\n",
            "Epoch 2/5\n",
            "60000/60000 [==============================] - 1s 21us/sample - loss: 0.4016 - acc: 0.8855\n",
            "Epoch 3/5\n",
            "60000/60000 [==============================] - 1s 19us/sample - loss: 0.3380 - acc: 0.9043\n",
            "Epoch 4/5\n",
            "60000/60000 [==============================] - 1s 20us/sample - loss: 0.3071 - acc: 0.9128\n",
            "Epoch 5/5\n",
            "60000/60000 [==============================] - 1s 21us/sample - loss: 0.2841 - acc: 0.9190\n",
            "10000/10000 [==============================] - 0s 38us/sample - loss: 0.2782 - acc: 0.9193\n",
            "loss= 0.2782026445388794\n",
            "acc= 0.9193\n",
            "[7 2 1 ... 4 5 6]\n"
          ],
          "name": "stdout"
        }
      ]
    },
    {
      "cell_type": "markdown",
      "metadata": {
        "id": "Ferd_0Cx93Fb",
        "colab_type": "text"
      },
      "source": [
        "# Normalization"
      ]
    },
    {
      "cell_type": "markdown",
      "metadata": {
        "id": "qfBfbJqOyIkL",
        "colab_type": "text"
      },
      "source": [
        "## Normalization을 하지 않으면\n",
        "\n",
        "위에서는 0 ~ 255의 값을 0 ~ 1로 normalization하여 학습했다.\n",
        "\n",
        "이 과정을 생략하고 그대로 실행한다."
      ]
    },
    {
      "cell_type": "code",
      "metadata": {
        "id": "-0BQDjm2yYpH",
        "colab_type": "code",
        "colab": {}
      },
      "source": [
        "(train_x, train_y), (test_x, test_y) = tf.keras.datasets.mnist.load_data()\n",
        "\n",
        "# train_x = train_x/255\n",
        "# test_x = test_x/255\n",
        "\n"
      ],
      "execution_count": null,
      "outputs": []
    },
    {
      "cell_type": "code",
      "metadata": {
        "id": "fYlMkT8axIoi",
        "colab_type": "code",
        "colab": {
          "base_uri": "https://localhost:8080/",
          "height": 535
        },
        "outputId": "1f0ff1a3-3b47-4cee-fc5d-f10f0b46b573"
      },
      "source": [
        "model = keras.Sequential()\n",
        "model.add(Flatten(input_shape=(28, 28)))\n",
        "model.add(Dense(10, activation='relu'))\n",
        "model.add(Dense(10, activation='relu'))\n",
        "model.add(Dense(10, activation='softmax'))\n",
        "\n",
        "model.compile(optimizer=\"adam\", loss=\"sparse_categorical_crossentropy\", metrics=[\"accuracy\"])\n",
        "model.summary()\n",
        "\n",
        "\n",
        "model.fit(train_x, train_y, epochs=5, verbose=1, batch_size=128)\n",
        "\n",
        "\n",
        "loss, acc = model.evaluate(test_x, test_y)\n",
        "print(\"loss=\",loss)\n",
        "print(\"acc=\",acc)\n",
        "\n",
        "y_ = model.predict(test_x)\n",
        "predicted = np.argmax(y_, axis=1)\n",
        "\n",
        "print(predicted)"
      ],
      "execution_count": null,
      "outputs": [
        {
          "output_type": "stream",
          "text": [
            "Model: \"sequential_3\"\n",
            "_________________________________________________________________\n",
            "Layer (type)                 Output Shape              Param #   \n",
            "=================================================================\n",
            "flatten_1 (Flatten)          (None, 784)               0         \n",
            "_________________________________________________________________\n",
            "dense_9 (Dense)              (None, 10)                7850      \n",
            "_________________________________________________________________\n",
            "dense_10 (Dense)             (None, 10)                110       \n",
            "_________________________________________________________________\n",
            "dense_11 (Dense)             (None, 10)                110       \n",
            "=================================================================\n",
            "Total params: 8,070\n",
            "Trainable params: 8,070\n",
            "Non-trainable params: 0\n",
            "_________________________________________________________________\n",
            "Epoch 1/5\n",
            "60000/60000 [==============================] - 1s 18us/sample - loss: 2.4654 - acc: 0.1538\n",
            "Epoch 2/5\n",
            "60000/60000 [==============================] - 1s 19us/sample - loss: 1.9504 - acc: 0.2509\n",
            "Epoch 3/5\n",
            "60000/60000 [==============================] - 1s 17us/sample - loss: 1.7553 - acc: 0.3037\n",
            "Epoch 4/5\n",
            "60000/60000 [==============================] - 1s 18us/sample - loss: 1.6404 - acc: 0.3354\n",
            "Epoch 5/5\n",
            "60000/60000 [==============================] - 1s 18us/sample - loss: 1.5597 - acc: 0.3471\n",
            "10000/10000 [==============================] - 0s 26us/sample - loss: 1.5352 - acc: 0.3417\n",
            "loss= 1.5351685056686402\n",
            "acc= 0.3417\n",
            "[9 6 1 ... 9 2 6]\n"
          ],
          "name": "stdout"
        }
      ]
    },
    {
      "cell_type": "markdown",
      "metadata": {
        "id": "T_H2aV8qy0Im",
        "colab_type": "text"
      },
      "source": [
        "학습이 진행되지만 normalization했을 때와 비교하면 더디게 진행된다.\n",
        "\n",
        "아래는 0~1로 normalization을 했을 때\n",
        "```\n",
        "Epoch 1/5\n",
        "60000/60000 [==============================] - 1s 20us/sample - loss: 0.8862 - acc: 0.7278\n",
        "Epoch 2/5\n",
        "60000/60000 [==============================] - 1s 20us/sample - loss: 0.3659 - acc: 0.8950\n",
        "Epoch 3/5\n",
        "60000/60000 [==============================] - 1s 20us/sample - loss: 0.3164 - acc: 0.9100\n",
        "Epoch 4/5\n",
        "60000/60000 [==============================] - 1s 20us/sample - loss: 0.2904 - acc: 0.9171\n",
        "Epoch 5/5\n",
        "60000/60000 [==============================] - 1s 20us/sample - loss: 0.2724 - acc: 0.9225\n",
        "10000/10000 [==============================] - 0s 27us/sample - loss: 0.2613 - acc: 0.9265\n",
        "loss= 0.26132496373653413\n",
        "acc= 0.9265\n",
        "```"
      ]
    },
    {
      "cell_type": "markdown",
      "metadata": {
        "id": "ki5TbWWT-DY7",
        "colab_type": "text"
      },
      "source": [
        "## -1 ~ 1로 Normalization 하면"
      ]
    },
    {
      "cell_type": "code",
      "metadata": {
        "id": "XlldGHxzygP8",
        "colab_type": "code",
        "colab": {}
      },
      "source": [
        "(train_x, train_y), (test_x, test_y) = tf.keras.datasets.mnist.load_data()\n",
        "\n",
        "# train_x = train_x/255\n",
        "# test_x = test_x/255\n",
        "train_x = train_x/127.5 - 1\n",
        "test_x = test_x/127.5 - 1\n"
      ],
      "execution_count": null,
      "outputs": []
    },
    {
      "cell_type": "code",
      "metadata": {
        "id": "0Evje8DO-MmC",
        "colab_type": "code",
        "colab": {
          "base_uri": "https://localhost:8080/",
          "height": 535
        },
        "outputId": "a8663ac9-8669-4948-d71b-8d23c6855fdd"
      },
      "source": [
        "model = keras.Sequential()\n",
        "model.add(Flatten(input_shape=(28, 28)))\n",
        "model.add(Dense(10, activation='relu'))\n",
        "model.add(Dense(10, activation='relu'))\n",
        "model.add(Dense(10, activation='softmax'))\n",
        "\n",
        "model.compile(optimizer=\"adam\", loss=\"sparse_categorical_crossentropy\", metrics=[\"accuracy\"])\n",
        "model.summary()\n",
        "\n",
        "\n",
        "model.fit(train_x, train_y, epochs=5, verbose=1, batch_size=128)\n",
        "\n",
        "\n",
        "loss, acc = model.evaluate(test_x, test_y)\n",
        "print(\"loss=\",loss)\n",
        "print(\"acc=\",acc)\n",
        "\n",
        "y_ = model.predict(test_x)\n",
        "predicted = np.argmax(y_, axis=1)\n",
        "\n",
        "print(predicted)"
      ],
      "execution_count": null,
      "outputs": [
        {
          "output_type": "stream",
          "text": [
            "Model: \"sequential_4\"\n",
            "_________________________________________________________________\n",
            "Layer (type)                 Output Shape              Param #   \n",
            "=================================================================\n",
            "flatten_2 (Flatten)          (None, 784)               0         \n",
            "_________________________________________________________________\n",
            "dense_12 (Dense)             (None, 10)                7850      \n",
            "_________________________________________________________________\n",
            "dense_13 (Dense)             (None, 10)                110       \n",
            "_________________________________________________________________\n",
            "dense_14 (Dense)             (None, 10)                110       \n",
            "=================================================================\n",
            "Total params: 8,070\n",
            "Trainable params: 8,070\n",
            "Non-trainable params: 0\n",
            "_________________________________________________________________\n",
            "Epoch 1/5\n",
            "60000/60000 [==============================] - 1s 21us/sample - loss: 1.3357 - acc: 0.5336\n",
            "Epoch 2/5\n",
            "60000/60000 [==============================] - 1s 19us/sample - loss: 0.7027 - acc: 0.7702\n",
            "Epoch 3/5\n",
            "60000/60000 [==============================] - 1s 19us/sample - loss: 0.6038 - acc: 0.8077\n",
            "Epoch 4/5\n",
            "60000/60000 [==============================] - 1s 18us/sample - loss: 0.5583 - acc: 0.8249\n",
            "Epoch 5/5\n",
            "60000/60000 [==============================] - 1s 18us/sample - loss: 0.5221 - acc: 0.8389\n",
            "10000/10000 [==============================] - 0s 29us/sample - loss: 0.4942 - acc: 0.8463\n",
            "loss= 0.49422486678361893\n",
            "acc= 0.8463\n",
            "[7 2 1 ... 4 5 6]\n"
          ],
          "name": "stdout"
        }
      ]
    },
    {
      "cell_type": "markdown",
      "metadata": {
        "id": "kacaLSWw_DSE",
        "colab_type": "text"
      },
      "source": [
        "학습이 진행되지만 normalization했을 때와 비교하면 더디게 진행된다.\n",
        "\n",
        "아래는 0~1로 normalization을 했을 때\n",
        "```\n",
        "Epoch 1/5\n",
        "60000/60000 [==============================] - 1s 20us/sample - loss: 0.8862 - acc: 0.7278\n",
        "Epoch 2/5\n",
        "60000/60000 [==============================] - 1s 20us/sample - loss: 0.3659 - acc: 0.8950\n",
        "Epoch 3/5\n",
        "60000/60000 [==============================] - 1s 20us/sample - loss: 0.3164 - acc: 0.9100\n",
        "Epoch 4/5\n",
        "60000/60000 [==============================] - 1s 20us/sample - loss: 0.2904 - acc: 0.9171\n",
        "Epoch 5/5\n",
        "60000/60000 [==============================] - 1s 20us/sample - loss: 0.2724 - acc: 0.9225\n",
        "10000/10000 [==============================] - 0s 27us/sample - loss: 0.2613 - acc: 0.9265\n",
        "loss= 0.26132496373653413\n",
        "acc= 0.9265\n",
        "```"
      ]
    },
    {
      "cell_type": "markdown",
      "metadata": {
        "id": "KZyRDXoX_Stx",
        "colab_type": "text"
      },
      "source": [
        "## -255 ~ 255로 하면"
      ]
    },
    {
      "cell_type": "code",
      "metadata": {
        "id": "lVcxZIVr-mJd",
        "colab_type": "code",
        "colab": {}
      },
      "source": [
        "(train_x, train_y), (test_x, test_y) = tf.keras.datasets.mnist.load_data()\n",
        "\n",
        "# train_x = train_x/255\n",
        "# test_x = test_x/255\n",
        "train_x = train_x*2 - 255\n",
        "test_x = test_x*2 - 255"
      ],
      "execution_count": null,
      "outputs": []
    },
    {
      "cell_type": "code",
      "metadata": {
        "id": "PT09nVdp_ZFX",
        "colab_type": "code",
        "colab": {
          "base_uri": "https://localhost:8080/",
          "height": 535
        },
        "outputId": "cf657248-597a-4670-fbde-99017558e389"
      },
      "source": [
        "model = keras.Sequential()\n",
        "model.add(Flatten(input_shape=(28, 28)))\n",
        "model.add(Dense(10, activation='relu'))\n",
        "model.add(Dense(10, activation='relu'))\n",
        "model.add(Dense(10, activation='softmax'))\n",
        "\n",
        "model.compile(optimizer=\"adam\", loss=\"sparse_categorical_crossentropy\", metrics=[\"accuracy\"])\n",
        "model.summary()\n",
        "\n",
        "\n",
        "model.fit(train_x, train_y, epochs=5, verbose=1, batch_size=128)\n",
        "\n",
        "\n",
        "loss, acc = model.evaluate(test_x, test_y)\n",
        "print(\"loss=\",loss)\n",
        "print(\"acc=\",acc)\n",
        "\n",
        "y_ = model.predict(test_x)\n",
        "predicted = np.argmax(y_, axis=1)\n",
        "\n",
        "print(predicted)"
      ],
      "execution_count": null,
      "outputs": [
        {
          "output_type": "stream",
          "text": [
            "Model: \"sequential_5\"\n",
            "_________________________________________________________________\n",
            "Layer (type)                 Output Shape              Param #   \n",
            "=================================================================\n",
            "flatten_3 (Flatten)          (None, 784)               0         \n",
            "_________________________________________________________________\n",
            "dense_15 (Dense)             (None, 10)                7850      \n",
            "_________________________________________________________________\n",
            "dense_16 (Dense)             (None, 10)                110       \n",
            "_________________________________________________________________\n",
            "dense_17 (Dense)             (None, 10)                110       \n",
            "=================================================================\n",
            "Total params: 8,070\n",
            "Trainable params: 8,070\n",
            "Non-trainable params: 0\n",
            "_________________________________________________________________\n",
            "Epoch 1/5\n",
            "60000/60000 [==============================] - 1s 18us/sample - loss: 4.1636 - acc: 0.1091\n",
            "Epoch 2/5\n",
            "60000/60000 [==============================] - 1s 17us/sample - loss: 2.3027 - acc: 0.1123\n",
            "Epoch 3/5\n",
            "60000/60000 [==============================] - 1s 16us/sample - loss: 2.3011 - acc: 0.1126\n",
            "Epoch 4/5\n",
            "60000/60000 [==============================] - 1s 16us/sample - loss: 2.2933 - acc: 0.1176\n",
            "Epoch 5/5\n",
            "60000/60000 [==============================] - 1s 17us/sample - loss: 2.1994 - acc: 0.1655\n",
            "10000/10000 [==============================] - 0s 27us/sample - loss: 2.1274 - acc: 0.1931\n",
            "loss= 2.127422957611084\n",
            "acc= 0.1931\n",
            "[1 2 1 ... 1 1 1]\n"
          ],
          "name": "stdout"
        }
      ]
    },
    {
      "cell_type": "markdown",
      "metadata": {
        "id": "QXRsbuhi_fxp",
        "colab_type": "text"
      },
      "source": [
        "학습이 진행되지만 normalization 안했을 때 보다 더디게 진행된다.\n",
        "\n",
        "아래는 normalization을 안했을 때\n",
        "```\n",
        "Epoch 1/5\n",
        "60000/60000 [==============================] - 1s 18us/sample - loss: 2.4654 - acc: 0.1538\n",
        "Epoch 2/5\n",
        "60000/60000 [==============================] - 1s 19us/sample - loss: 1.9504 - acc: 0.2509\n",
        "Epoch 3/5\n",
        "60000/60000 [==============================] - 1s 17us/sample - loss: 1.7553 - acc: 0.3037\n",
        "Epoch 4/5\n",
        "60000/60000 [==============================] - 1s 18us/sample - loss: 1.6404 - acc: 0.3354\n",
        "Epoch 5/5\n",
        "60000/60000 [==============================] - 1s 18us/sample - loss: 1.5597 - acc: 0.3471\n",
        "10000/10000 [==============================] - 0s 26us/sample - loss: 1.5352 - acc: 0.3417\n",
        "loss= 1.5351685056686402\n",
        "acc= 0.3417\n",
        "```"
      ]
    },
    {
      "cell_type": "markdown",
      "metadata": {
        "id": "wLZWVTr_Abcy",
        "colab_type": "text"
      },
      "source": [
        "## 0 ~ 0.5로 하면"
      ]
    },
    {
      "cell_type": "code",
      "metadata": {
        "id": "1xE5wv_w_ceD",
        "colab_type": "code",
        "colab": {}
      },
      "source": [
        "(train_x, train_y), (test_x, test_y) = tf.keras.datasets.mnist.load_data()\n",
        "\n",
        "# train_x = train_x/255\n",
        "# test_x = test_x/255\n",
        "train_x = train_x/255/2\n",
        "test_x = test_x/255/2"
      ],
      "execution_count": null,
      "outputs": []
    },
    {
      "cell_type": "code",
      "metadata": {
        "id": "UFyXibot_1Ng",
        "colab_type": "code",
        "colab": {
          "base_uri": "https://localhost:8080/",
          "height": 535
        },
        "outputId": "ba47fca6-e316-4233-d89f-5fb5531dbbad"
      },
      "source": [
        "model = keras.Sequential()\n",
        "model.add(Flatten(input_shape=(28, 28)))\n",
        "model.add(Dense(10, activation='relu'))\n",
        "model.add(Dense(10, activation='relu'))\n",
        "model.add(Dense(10, activation='softmax'))\n",
        "\n",
        "model.compile(optimizer=\"adam\", loss=\"sparse_categorical_crossentropy\", metrics=[\"accuracy\"])\n",
        "model.summary()\n",
        "\n",
        "\n",
        "model.fit(train_x, train_y, epochs=5, verbose=1, batch_size=128)\n",
        "\n",
        "\n",
        "loss, acc = model.evaluate(test_x, test_y)\n",
        "print(\"loss=\",loss)\n",
        "print(\"acc=\",acc)\n",
        "\n",
        "y_ = model.predict(test_x)\n",
        "predicted = np.argmax(y_, axis=1)\n",
        "\n",
        "print(predicted)"
      ],
      "execution_count": null,
      "outputs": [
        {
          "output_type": "stream",
          "text": [
            "Model: \"sequential_8\"\n",
            "_________________________________________________________________\n",
            "Layer (type)                 Output Shape              Param #   \n",
            "=================================================================\n",
            "flatten_6 (Flatten)          (None, 784)               0         \n",
            "_________________________________________________________________\n",
            "dense_24 (Dense)             (None, 10)                7850      \n",
            "_________________________________________________________________\n",
            "dense_25 (Dense)             (None, 10)                110       \n",
            "_________________________________________________________________\n",
            "dense_26 (Dense)             (None, 10)                110       \n",
            "=================================================================\n",
            "Total params: 8,070\n",
            "Trainable params: 8,070\n",
            "Non-trainable params: 0\n",
            "_________________________________________________________________\n",
            "Epoch 1/5\n",
            "60000/60000 [==============================] - 1s 20us/sample - loss: 1.0266 - acc: 0.6823\n",
            "Epoch 2/5\n",
            "60000/60000 [==============================] - 1s 19us/sample - loss: 0.4344 - acc: 0.8783\n",
            "Epoch 3/5\n",
            "60000/60000 [==============================] - 1s 19us/sample - loss: 0.3587 - acc: 0.8995\n",
            "Epoch 4/5\n",
            "60000/60000 [==============================] - 1s 18us/sample - loss: 0.3184 - acc: 0.9108\n",
            "Epoch 5/5\n",
            "60000/60000 [==============================] - 1s 19us/sample - loss: 0.2932 - acc: 0.9169\n",
            "10000/10000 [==============================] - 0s 31us/sample - loss: 0.2841 - acc: 0.9174\n",
            "loss= 0.28412638966143133\n",
            "acc= 0.9174\n",
            "[7 2 1 ... 4 5 6]\n"
          ],
          "name": "stdout"
        }
      ]
    },
    {
      "cell_type": "markdown",
      "metadata": {
        "id": "EsHcOKyP_9T3",
        "colab_type": "text"
      },
      "source": [
        "학습이 되며 0~1로 normalization했을 때 보다 살짝 더디다\n",
        "\n",
        "아래는 0~1로 normalization을 했을 때\n",
        "```\n",
        "Epoch 1/5\n",
        "60000/60000 [==============================] - 1s 20us/sample - loss: 0.8862 - acc: 0.7278\n",
        "Epoch 2/5\n",
        "60000/60000 [==============================] - 1s 20us/sample - loss: 0.3659 - acc: 0.8950\n",
        "Epoch 3/5\n",
        "60000/60000 [==============================] - 1s 20us/sample - loss: 0.3164 - acc: 0.9100\n",
        "Epoch 4/5\n",
        "60000/60000 [==============================] - 1s 20us/sample - loss: 0.2904 - acc: 0.9171\n",
        "Epoch 5/5\n",
        "60000/60000 [==============================] - 1s 20us/sample - loss: 0.2724 - acc: 0.9225\n",
        "10000/10000 [==============================] - 0s 27us/sample - loss: 0.2613 - acc: 0.9265\n",
        "loss= 0.26132496373653413\n",
        "acc= 0.9265\n",
        "```"
      ]
    },
    {
      "cell_type": "markdown",
      "metadata": {
        "id": "P7Wm0dNTAuEb",
        "colab_type": "text"
      },
      "source": [
        "## 0 ~ 2로 하면"
      ]
    },
    {
      "cell_type": "code",
      "metadata": {
        "id": "_EXcTUBy_5xN",
        "colab_type": "code",
        "colab": {}
      },
      "source": [
        "(train_x, train_y), (test_x, test_y) = tf.keras.datasets.mnist.load_data()\n",
        "\n",
        "# train_x = train_x/255\n",
        "# test_x = test_x/255\n",
        "train_x = train_x/255*2\n",
        "test_x = test_x/255*2"
      ],
      "execution_count": null,
      "outputs": []
    },
    {
      "cell_type": "code",
      "metadata": {
        "id": "0cKj6SChAxPz",
        "colab_type": "code",
        "colab": {
          "base_uri": "https://localhost:8080/",
          "height": 535
        },
        "outputId": "c14077b6-c3d9-41b9-acb9-e07a9fa33edf"
      },
      "source": [
        "model = keras.Sequential()\n",
        "model.add(Flatten(input_shape=(28, 28)))\n",
        "model.add(Dense(10, activation='relu'))\n",
        "model.add(Dense(10, activation='relu'))\n",
        "model.add(Dense(10, activation='softmax'))\n",
        "\n",
        "model.compile(optimizer=\"adam\", loss=\"sparse_categorical_crossentropy\", metrics=[\"accuracy\"])\n",
        "model.summary()\n",
        "\n",
        "\n",
        "model.fit(train_x, train_y, epochs=5, verbose=1, batch_size=128)\n",
        "\n",
        "\n",
        "loss, acc = model.evaluate(test_x, test_y)\n",
        "print(\"loss=\",loss)\n",
        "print(\"acc=\",acc)\n",
        "\n",
        "y_ = model.predict(test_x)\n",
        "predicted = np.argmax(y_, axis=1)\n",
        "\n",
        "print(predicted)"
      ],
      "execution_count": null,
      "outputs": [
        {
          "output_type": "stream",
          "text": [
            "Model: \"sequential_9\"\n",
            "_________________________________________________________________\n",
            "Layer (type)                 Output Shape              Param #   \n",
            "=================================================================\n",
            "flatten_7 (Flatten)          (None, 784)               0         \n",
            "_________________________________________________________________\n",
            "dense_27 (Dense)             (None, 10)                7850      \n",
            "_________________________________________________________________\n",
            "dense_28 (Dense)             (None, 10)                110       \n",
            "_________________________________________________________________\n",
            "dense_29 (Dense)             (None, 10)                110       \n",
            "=================================================================\n",
            "Total params: 8,070\n",
            "Trainable params: 8,070\n",
            "Non-trainable params: 0\n",
            "_________________________________________________________________\n",
            "Epoch 1/5\n",
            "60000/60000 [==============================] - 1s 21us/sample - loss: 0.7630 - acc: 0.7654\n",
            "Epoch 2/5\n",
            "60000/60000 [==============================] - 1s 19us/sample - loss: 0.3363 - acc: 0.9045\n",
            "Epoch 3/5\n",
            "60000/60000 [==============================] - 1s 19us/sample - loss: 0.2965 - acc: 0.9152\n",
            "Epoch 4/5\n",
            "60000/60000 [==============================] - 1s 19us/sample - loss: 0.2724 - acc: 0.9212\n",
            "Epoch 5/5\n",
            "60000/60000 [==============================] - 1s 19us/sample - loss: 0.2548 - acc: 0.9267\n",
            "10000/10000 [==============================] - 0s 31us/sample - loss: 0.2541 - acc: 0.9268\n",
            "loss= 0.25408969558775424\n",
            "acc= 0.9268\n",
            "[7 2 1 ... 4 5 6]\n"
          ],
          "name": "stdout"
        }
      ]
    },
    {
      "cell_type": "markdown",
      "metadata": {
        "id": "14ZadaUTA3Qd",
        "colab_type": "text"
      },
      "source": [
        "학습이 되며 0~1로 normalization했을 때 보다 살짝 빠르다\n",
        "\n",
        "아래는 0~1로 normalization을 했을 때\n",
        "```\n",
        "Epoch 1/5\n",
        "60000/60000 [==============================] - 1s 20us/sample - loss: 0.8862 - acc: 0.7278\n",
        "Epoch 2/5\n",
        "60000/60000 [==============================] - 1s 20us/sample - loss: 0.3659 - acc: 0.8950\n",
        "Epoch 3/5\n",
        "60000/60000 [==============================] - 1s 20us/sample - loss: 0.3164 - acc: 0.9100\n",
        "Epoch 4/5\n",
        "60000/60000 [==============================] - 1s 20us/sample - loss: 0.2904 - acc: 0.9171\n",
        "Epoch 5/5\n",
        "60000/60000 [==============================] - 1s 20us/sample - loss: 0.2724 - acc: 0.9225\n",
        "10000/10000 [==============================] - 0s 27us/sample - loss: 0.2613 - acc: 0.9265\n",
        "loss= 0.26132496373653413\n",
        "acc= 0.9265\n",
        "```"
      ]
    },
    {
      "cell_type": "code",
      "metadata": {
        "id": "Sz6YSQUnA0fH",
        "colab_type": "code",
        "colab": {}
      },
      "source": [
        ""
      ],
      "execution_count": null,
      "outputs": []
    }
  ]
}
