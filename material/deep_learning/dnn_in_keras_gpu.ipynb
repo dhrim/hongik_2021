{
  "nbformat": 4,
  "nbformat_minor": 0,
  "metadata": {
    "colab": {
      "name": "dnn_in_keras_gpu.ipynb",
      "provenance": [],
      "collapsed_sections": []
    },
    "kernelspec": {
      "name": "python3",
      "display_name": "Python 3"
    },
    "language_info": {
      "name": "python"
    }
  },
  "cells": [
    {
      "cell_type": "code",
      "metadata": {
        "colab": {
          "base_uri": "https://localhost:8080/"
        },
        "id": "l63clm1WE12L",
        "outputId": "99271932-daac-44fc-d742-e7fd70687a68"
      },
      "source": [
        "%tensorflow_version 1.x\n",
        "import tensorflow\n",
        "print(tensorflow.__version__)"
      ],
      "execution_count": 1,
      "outputs": [
        {
          "output_type": "stream",
          "text": [
            "TensorFlow 1.x selected.\n",
            "1.15.2\n"
          ],
          "name": "stdout"
        }
      ]
    },
    {
      "cell_type": "code",
      "metadata": {
        "id": "KoWM5ZImE5Sp"
      },
      "source": [
        "import numpy as np\n",
        "import pandas as pd\n",
        "import matplotlib.pyplot as plt\n",
        "\n",
        "import tensorflow as tf\n",
        "from tensorflow import keras\n",
        "\n",
        "import time"
      ],
      "execution_count": 2,
      "outputs": []
    },
    {
      "cell_type": "code",
      "metadata": {
        "id": "dPgUairIE6Qm"
      },
      "source": [
        "from tensorflow.keras import optimizers\n",
        "from tensorflow.keras.layers import Dense"
      ],
      "execution_count": 3,
      "outputs": []
    },
    {
      "cell_type": "markdown",
      "metadata": {
        "id": "dAd_YigQGqwN"
      },
      "source": [
        "## 리스트 보기"
      ]
    },
    {
      "cell_type": "code",
      "metadata": {
        "colab": {
          "base_uri": "https://localhost:8080/"
        },
        "id": "JMAWbTzkGs06",
        "outputId": "a7802e13-6fc4-428c-9446-728c7e0eb0d7"
      },
      "source": [
        "from tensorflow.python.client import device_lib\n",
        "print(tf.test.gpu_device_name())"
      ],
      "execution_count": 4,
      "outputs": [
        {
          "output_type": "stream",
          "text": [
            "\n"
          ],
          "name": "stdout"
        }
      ]
    },
    {
      "cell_type": "markdown",
      "metadata": {
        "id": "ihl-fFieGuC7"
      },
      "source": [
        "## NVIDIA GPU 상태 보기"
      ]
    },
    {
      "cell_type": "code",
      "metadata": {
        "colab": {
          "base_uri": "https://localhost:8080/"
        },
        "id": "gdEH119WGvwZ",
        "outputId": "de28c4ea-0f8b-43ff-8fc5-8286b1b01026"
      },
      "source": [
        "!nvidia-smi"
      ],
      "execution_count": 5,
      "outputs": [
        {
          "output_type": "stream",
          "text": [
            "NVIDIA-SMI has failed because it couldn't communicate with the NVIDIA driver. Make sure that the latest NVIDIA driver is installed and running.\n",
            "\n"
          ],
          "name": "stdout"
        }
      ]
    },
    {
      "cell_type": "markdown",
      "metadata": {
        "id": "ZOKDaBlHG12f"
      },
      "source": [
        "# GPU 사용\n",
        "\n",
        "따로 명시하지 않아도 default로 GPU를 사용한다.\n",
        "\n",
        "명시적으로 설정할 수도 있다."
      ]
    },
    {
      "cell_type": "markdown",
      "metadata": {
        "id": "WOLGaUpPG6tF"
      },
      "source": [
        "## 디바이스 설정\n",
        "\n",
        "다음의 디바이스 이름이 가능\n",
        "\n",
        "- /device:GPU:0\n",
        "- /GPU:0\n",
        "- /gpu:0\n",
        "- /gpu\n",
        "- /cpu:0\n",
        "- /cpu"
      ]
    },
    {
      "cell_type": "code",
      "metadata": {
        "id": "QQEDQZUZG54k"
      },
      "source": [
        "def get_sin_data(start=0, end=10, step=0.1):\n",
        "  x = np.arange(start,end,step)\n",
        "  np.random.shuffle(x)\n",
        "  y = np.sin(x)\n",
        "\n",
        "  split_index = int(x.shape[0]*0.6)\n",
        "\n",
        "  train_x, test_x = x[:split_index], x[split_index:]\n",
        "  train_y, test_y = y[:split_index], y[split_index:]\n",
        "\n",
        "  return (train_x, train_y), (test_x, test_y)\n",
        "  \n",
        "(train_x, train_y), (test_x, test_y) = get_sin_data(start=0, end=10, step=0.01)"
      ],
      "execution_count": 6,
      "outputs": []
    },
    {
      "cell_type": "code",
      "metadata": {
        "colab": {
          "base_uri": "https://localhost:8080/",
          "height": 602
        },
        "id": "UKGTVCntG0Tg",
        "outputId": "52ec41bf-8d42-4bca-c9a5-a4602a0e3322"
      },
      "source": [
        "with tf.device('/device:GPU:0'): # ADDED\n",
        "\n",
        "  model = keras.Sequential()\n",
        "  model.add(Dense(10, activation='tanh', input_shape=(1,)))\n",
        "  model.add(Dense(10, activation='tanh'))\n",
        "  model.add(Dense(1))\n",
        "\n",
        "\n",
        "  model.compile(optimizer=\"SGD\", loss=\"mse\", metrics=[\"mse\"])\n",
        "  model.summary()\n",
        "\n",
        "  start_time = time.time()\n",
        "  history = model.fit(train_x, train_y, epochs=50, verbose=0, batch_size=20)\n",
        "  print(\"elapsed : {}\".format(time.time() - start_time)) \n",
        "\n",
        "  y_ = model.predict(test_x)\n",
        "\n",
        "  plt.scatter(test_x,test_y)\n",
        "  plt.scatter(test_x,y_,color='r')\n",
        "  plt.show()"
      ],
      "execution_count": 7,
      "outputs": [
        {
          "output_type": "stream",
          "text": [
            "WARNING:tensorflow:From /tensorflow-1.15.2/python3.7/tensorflow_core/python/ops/resource_variable_ops.py:1630: calling BaseResourceVariable.__init__ (from tensorflow.python.ops.resource_variable_ops) with constraint is deprecated and will be removed in a future version.\n",
            "Instructions for updating:\n",
            "If using Keras pass *_constraint arguments to layers.\n",
            "Model: \"sequential\"\n",
            "_________________________________________________________________\n",
            "Layer (type)                 Output Shape              Param #   \n",
            "=================================================================\n",
            "dense (Dense)                (None, 10)                20        \n",
            "_________________________________________________________________\n",
            "dense_1 (Dense)              (None, 10)                110       \n",
            "_________________________________________________________________\n",
            "dense_2 (Dense)              (None, 1)                 11        \n",
            "=================================================================\n",
            "Total params: 141\n",
            "Trainable params: 141\n",
            "Non-trainable params: 0\n",
            "_________________________________________________________________\n",
            "elapsed : 2.0583672523498535\n"
          ],
          "name": "stdout"
        },
        {
          "output_type": "display_data",
          "data": {
            "image/png": "[encoded data removed]",
            "text/plain": [
              "<Figure size 432x288 with 1 Axes>"
            ]
          },
          "metadata": {
            "tags": [],
            "needs_background": "light"
          }
        }
      ]
    },
    {
      "cell_type": "code",
      "metadata": {
        "id": "BZJlPbkNHMaM"
      },
      "source": [
        ""
      ],
      "execution_count": 7,
      "outputs": []
    }
  ]
}