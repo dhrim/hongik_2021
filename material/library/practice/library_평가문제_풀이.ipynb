{
  "nbformat": 4,
  "nbformat_minor": 0,
  "metadata": {
    "colab": {
      "name": "library_평가문제_풀이.ipynb",
      "provenance": [],
      "collapsed_sections": []
    },
    "kernelspec": {
      "name": "python3",
      "display_name": "Python 3"
    },
    "language_info": {
      "name": "python"
    }
  },
  "cells": [
    {
      "cell_type": "markdown",
      "metadata": {
        "id": "NaBajNXcrkvS"
      },
      "source": [
        "# 사전 준비 사항\n",
        "\n",
        "아래를 실행시켜서 준비하고 이후 퀴즈를 풀어주세요."
      ]
    },
    {
      "cell_type": "code",
      "metadata": {
        "colab": {
          "base_uri": "https://localhost:8080/"
        },
        "id": "cYeD_ZZTpNXJ",
        "outputId": "b6bc73d1-e0d7-48e3-9dd8-796fb529cb34"
      },
      "source": [
        "%%writefile data.csv\n",
        "name,age,tip\n",
        "tom,33,10.5\n",
        "jerry,35,8\n",
        "철수,25,3.5\n",
        "영희,26,8.8\n",
        "brute,22,0\n",
        "hank,31,6.6"
      ],
      "execution_count": 6,
      "outputs": [
        {
          "output_type": "stream",
          "text": [
            "Overwriting data.csv\n"
          ],
          "name": "stdout"
        }
      ]
    },
    {
      "cell_type": "code",
      "metadata": {
        "colab": {
          "base_uri": "https://localhost:8080/"
        },
        "id": "noud8vNFrxPY",
        "outputId": "12820c18-97fc-4855-cbe6-c0cd588cb6f5"
      },
      "source": [
        "%%writefile flawed_data.csv\n",
        "age,tip\n",
        "33,10.5\n",
        ",8\n",
        "25,-3.5\n",
        "26,\n",
        "22,0\n",
        "31,6.6"
      ],
      "execution_count": 7,
      "outputs": [
        {
          "output_type": "stream",
          "text": [
            "Overwriting flawed_data.csv\n"
          ],
          "name": "stdout"
        }
      ]
    },
    {
      "cell_type": "code",
      "metadata": {
        "colab": {
          "base_uri": "https://localhost:8080/"
        },
        "id": "z5sMI708zOlk",
        "outputId": "dfe0b9ff-6eac-456b-de96-c914712d81db"
      },
      "source": [
        "%%writefile tips.csv\n",
        "total_bill,tip,sex,smoker,day,time,size\n",
        "16.99,1.01,Female,No,Sun,Dinner,2\n",
        "10.34,1.66,Male,No,Sun,Dinner,3\n",
        "21.01,3.5,Male,No,Sun,Dinner,3\n",
        "23.68,3.31,Male,No,Sun,Dinner,2\n",
        "24.59,3.61,Female,No,Sun,Dinner,4\n",
        "25.29,4.71,Male,No,Sun,Dinner,4\n",
        "8.77,2.0,Male,No,Sun,Dinner,2\n",
        "26.88,3.12,Male,No,Sun,Dinner,4\n",
        "15.04,1.96,Male,No,Sun,Dinner,2\n",
        "14.78,3.23,Male,No,Sun,Dinner,2"
      ],
      "execution_count": 8,
      "outputs": [
        {
          "output_type": "stream",
          "text": [
            "Overwriting tips.csv\n"
          ],
          "name": "stdout"
        }
      ]
    },
    {
      "cell_type": "code",
      "metadata": {
        "id": "3SLTKKwWOIgu"
      },
      "source": [
        "import numpy as np\n",
        "import pandas as pd\n",
        "import matplotlib.pyplot as plt\n",
        "import seaborn as sns"
      ],
      "execution_count": 9,
      "outputs": []
    },
    {
      "cell_type": "markdown",
      "metadata": {
        "id": "O9gFh1NYo1gc"
      },
      "source": [
        "# Quiz.1\n",
        "\n",
        "파일 data.csv의 내용은 다음과 같다.\n",
        "```\n",
        "name,age,tip\n",
        "tom,33,10.5\n",
        "jerry,35,8\n",
        "철수,25,3.5\n",
        "영희,26,8.8\n",
        "brute,22,0\n",
        "hank,31,6.6\n",
        "```\n",
        "\n",
        "data.csv를 Pandas로 읽고,\n",
        "\n",
        "tip 컬럼의 값을 2배한 값으로 하는 새로운 컬럼 doubled_tip을 생성하고 dataframe을 출력한다. \n",
        "\n",
        "기대되는 출력은 다음과 같다.\n",
        "```\n",
        "    name  age   tip  doubled_tip\n",
        "0    tom   33  10.5         21.0\n",
        "1  jerry   35   8.0         16.0\n",
        "2     철수   25   3.5          7.0\n",
        "3     영희   26   8.8         17.6\n",
        "4  brute   22   0.0          0.0\n",
        "5   hank   31   6.6         13.2\n",
        "```\n",
        "\n",
        "age 컬럼의 값이 30보다 큰 row만 추린 dataframe을 구하고 이를 출력한다.\n",
        "\n",
        "기대되는 출력은 다음과 같다.\n",
        "```\n",
        "2       철수\n",
        "3       영희\n",
        "4    brute\n",
        "Name: name, dtype: object\n",
        "```"
      ]
    },
    {
      "cell_type": "code",
      "metadata": {
        "colab": {
          "base_uri": "https://localhost:8080/"
        },
        "id": "FJaltqQGu3N0",
        "outputId": "8a45c6ee-83e2-491b-c4a8-24b162a31a38"
      },
      "source": [
        "df = pd.read_csv(\"data.csv\")\n",
        "print(df)"
      ],
      "execution_count": 10,
      "outputs": [
        {
          "output_type": "stream",
          "text": [
            "    name  age   tip\n",
            "0    tom   33  10.5\n",
            "1  jerry   35   8.0\n",
            "2     철수   25   3.5\n",
            "3     영희   26   8.8\n",
            "4  brute   22   0.0\n",
            "5   hank   31   6.6\n"
          ],
          "name": "stdout"
        }
      ]
    },
    {
      "cell_type": "code",
      "metadata": {
        "colab": {
          "base_uri": "https://localhost:8080/"
        },
        "id": "iigcJ_-Ou7aA",
        "outputId": "3f72dafa-0ec2-44ee-e27e-96ae0930461a"
      },
      "source": [
        "df['doubled_tip'] = df.tip * 2.0\n",
        "print(df)"
      ],
      "execution_count": 11,
      "outputs": [
        {
          "output_type": "stream",
          "text": [
            "    name  age   tip  doubled_tip\n",
            "0    tom   33  10.5         21.0\n",
            "1  jerry   35   8.0         16.0\n",
            "2     철수   25   3.5          7.0\n",
            "3     영희   26   8.8         17.6\n",
            "4  brute   22   0.0          0.0\n",
            "5   hank   31   6.6         13.2\n"
          ],
          "name": "stdout"
        }
      ]
    },
    {
      "cell_type": "code",
      "metadata": {
        "colab": {
          "base_uri": "https://localhost:8080/"
        },
        "id": "IS8qJv3mu_fP",
        "outputId": "41e335f7-cf83-405e-be6b-eaca87ae62fc"
      },
      "source": [
        "print(df.loc[df.age>30, \"name\"])"
      ],
      "execution_count": 12,
      "outputs": [
        {
          "output_type": "stream",
          "text": [
            "0      tom\n",
            "1    jerry\n",
            "5     hank\n",
            "Name: name, dtype: object\n"
          ],
          "name": "stdout"
        }
      ]
    },
    {
      "cell_type": "markdown",
      "metadata": {
        "id": "yOUdeT8mo7IM"
      },
      "source": [
        "# Quiz.2\n",
        "\n",
        "파일 flawed_data.csv의 내용은 다음과 같다.\n",
        "```\n",
        "age,tip\n",
        "33,10.5\n",
        ",8\n",
        "25,-3.5\n",
        "26,\n",
        "22,0\n",
        "31,6.6\n",
        "```\n",
        "\n",
        "Pandas로 읽고,\n",
        "\n",
        "tip 컬럼의 음수 값은 0으로 수정한다.\n",
        "\n",
        "그리고 결측치의 값을 각 컬럼의 평균값으로 채우고 data frame을 출력한다.\n",
        "\n",
        "기대되는 출력은 다음과 같다.\n",
        "```\n",
        "    age    tip\n",
        "0  33.0  10.50\n",
        "1  27.4   8.00\n",
        "2  25.0   0.00\n",
        "3  26.0   5.02\n",
        "4  22.0   0.00\n",
        "5  31.0   6.60\n",
        "```\n",
        "\n",
        "그리고 age, tip 컬럼의 값을 0.0 ~ 1.0의 값으로 normalization한 age, tip을 출력한다.\n",
        "\n",
        "기대되는 출력은 다음과 같다.\n",
        "```\n",
        "        age       tip\n",
        "0  1.000000  1.000000\n",
        "1  0.490909  0.761905\n",
        "2  0.272727  0.000000\n",
        "3  0.363636  0.478095\n",
        "4  0.000000  0.000000\n",
        "5  0.818182  0.628571\n",
        "```\n",
        "\n"
      ]
    },
    {
      "cell_type": "code",
      "metadata": {
        "colab": {
          "base_uri": "https://localhost:8080/"
        },
        "id": "g9VrBfYqsn_F",
        "outputId": "b6ac3023-10db-42ce-c9e3-ca22cd399b26"
      },
      "source": [
        "df = pd.read_csv(\"flawed_data.csv\")\n",
        "print(df)"
      ],
      "execution_count": 13,
      "outputs": [
        {
          "output_type": "stream",
          "text": [
            "    age   tip\n",
            "0  33.0  10.5\n",
            "1   NaN   8.0\n",
            "2  25.0  -3.5\n",
            "3  26.0   NaN\n",
            "4  22.0   0.0\n",
            "5  31.0   6.6\n"
          ],
          "name": "stdout"
        }
      ]
    },
    {
      "cell_type": "code",
      "metadata": {
        "colab": {
          "base_uri": "https://localhost:8080/",
          "height": 227
        },
        "id": "iL-tPCnduPp0",
        "outputId": "11d2dcc3-aa0b-4b7d-f226-9553cb40c937"
      },
      "source": [
        "df.loc[df.tip<0, \"tip\"] = 0\n",
        "df"
      ],
      "execution_count": 14,
      "outputs": [
        {
          "output_type": "execute_result",
          "data": {
            "text/html": [
              "<div>\n",
              "<style scoped>\n",
              "    .dataframe tbody tr th:only-of-type {\n",
              "        vertical-align: middle;\n",
              "    }\n",
              "\n",
              "    .dataframe tbody tr th {\n",
              "        vertical-align: top;\n",
              "    }\n",
              "\n",
              "    .dataframe thead th {\n",
              "        text-align: right;\n",
              "    }\n",
              "</style>\n",
              "<table border=\"1\" class=\"dataframe\">\n",
              "  <thead>\n",
              "    <tr style=\"text-align: right;\">\n",
              "      <th></th>\n",
              "      <th>age</th>\n",
              "      <th>tip</th>\n",
              "    </tr>\n",
              "  </thead>\n",
              "  <tbody>\n",
              "    <tr>\n",
              "      <th>0</th>\n",
              "      <td>33.0</td>\n",
              "      <td>10.5</td>\n",
              "    </tr>\n",
              "    <tr>\n",
              "      <th>1</th>\n",
              "      <td>NaN</td>\n",
              "      <td>8.0</td>\n",
              "    </tr>\n",
              "    <tr>\n",
              "      <th>2</th>\n",
              "      <td>25.0</td>\n",
              "      <td>0.0</td>\n",
              "    </tr>\n",
              "    <tr>\n",
              "      <th>3</th>\n",
              "      <td>26.0</td>\n",
              "      <td>NaN</td>\n",
              "    </tr>\n",
              "    <tr>\n",
              "      <th>4</th>\n",
              "      <td>22.0</td>\n",
              "      <td>0.0</td>\n",
              "    </tr>\n",
              "    <tr>\n",
              "      <th>5</th>\n",
              "      <td>31.0</td>\n",
              "      <td>6.6</td>\n",
              "    </tr>\n",
              "  </tbody>\n",
              "</table>\n",
              "</div>"
            ],
            "text/plain": [
              "    age   tip\n",
              "0  33.0  10.5\n",
              "1   NaN   8.0\n",
              "2  25.0   0.0\n",
              "3  26.0   NaN\n",
              "4  22.0   0.0\n",
              "5  31.0   6.6"
            ]
          },
          "metadata": {
            "tags": []
          },
          "execution_count": 14
        }
      ]
    },
    {
      "cell_type": "code",
      "metadata": {
        "colab": {
          "base_uri": "https://localhost:8080/"
        },
        "id": "ZWEGZVimssSV",
        "outputId": "4cc9a261-92f4-4da8-e60f-44236e436843"
      },
      "source": [
        "df.fillna(df.mean(), inplace=True)\n",
        "print(df)"
      ],
      "execution_count": 15,
      "outputs": [
        {
          "output_type": "stream",
          "text": [
            "    age    tip\n",
            "0  33.0  10.50\n",
            "1  27.4   8.00\n",
            "2  25.0   0.00\n",
            "3  26.0   5.02\n",
            "4  22.0   0.00\n",
            "5  31.0   6.60\n"
          ],
          "name": "stdout"
        }
      ]
    },
    {
      "cell_type": "code",
      "metadata": {
        "colab": {
          "base_uri": "https://localhost:8080/"
        },
        "id": "r2JAn3g7ssPW",
        "outputId": "f0513709-7560-4362-dd44-924c241a5e9b"
      },
      "source": [
        "df = (df - df.min()) / (df.max() - df.min())\n",
        "print(df)"
      ],
      "execution_count": 16,
      "outputs": [
        {
          "output_type": "stream",
          "text": [
            "        age       tip\n",
            "0  1.000000  1.000000\n",
            "1  0.490909  0.761905\n",
            "2  0.272727  0.000000\n",
            "3  0.363636  0.478095\n",
            "4  0.000000  0.000000\n",
            "5  0.818182  0.628571\n"
          ],
          "name": "stdout"
        }
      ]
    },
    {
      "cell_type": "code",
      "metadata": {
        "id": "rPVhPYF0ssMW"
      },
      "source": [
        ""
      ],
      "execution_count": 16,
      "outputs": []
    },
    {
      "cell_type": "markdown",
      "metadata": {
        "id": "HpiwR1T8o9x3"
      },
      "source": [
        "# Quiz.3\n",
        "\n",
        "다음과 같은 실수 1~15의 값을 갖는 (3,5) 형태의 numpy array를 생성하고\n",
        "```\n",
        "[[ 1.  2.  3.  4.  5.]\n",
        " [ 6.  7.  8.  9. 10.]\n",
        " [11. 12. 13. 14. 15.]]\n",
        "```\n",
        "\n",
        "각 열 별로 합을 구한 5개 요소를 같는 numpy array를 출력한다.\n",
        "기대되는 출력은 다음과 같다.\n",
        "```\n",
        "[18. 21. 24. 27. 30.]\n",
        "```"
      ]
    },
    {
      "cell_type": "code",
      "metadata": {
        "colab": {
          "base_uri": "https://localhost:8080/"
        },
        "id": "VE_cPZIivl5l",
        "outputId": "24a022ea-a0d6-468d-bb3c-d684e158644d"
      },
      "source": [
        "a = np.arange(1,16).reshape(3,5)\n",
        "a = a.astype(float)\n",
        "print(a)"
      ],
      "execution_count": 17,
      "outputs": [
        {
          "output_type": "stream",
          "text": [
            "[[ 1.  2.  3.  4.  5.]\n",
            " [ 6.  7.  8.  9. 10.]\n",
            " [11. 12. 13. 14. 15.]]\n"
          ],
          "name": "stdout"
        }
      ]
    },
    {
      "cell_type": "code",
      "metadata": {
        "colab": {
          "base_uri": "https://localhost:8080/"
        },
        "id": "T3WVWnaQvrbh",
        "outputId": "4e147477-2599-4d22-f461-f459c56cc49b"
      },
      "source": [
        "s = np.sum(a, axis=0)\n",
        "print(s)"
      ],
      "execution_count": 18,
      "outputs": [
        {
          "output_type": "stream",
          "text": [
            "[18. 21. 24. 27. 30.]\n"
          ],
          "name": "stdout"
        }
      ]
    },
    {
      "cell_type": "markdown",
      "metadata": {
        "id": "yRJx-7UFpAI-"
      },
      "source": [
        "# Quiz.4\n",
        "\n",
        "다음과 같은 numpy array를 생성하여 출력하고\n",
        "```\n",
        "[[ 0  1  2  3  4]\n",
        " [ 5  6  7  8  9]\n",
        " [10 11 12 13 14]\n",
        " [15 16 17 18 19]\n",
        " [20 21 22 23 24]]\n",
        "```\n",
        "\n",
        "이를 슬라이싱 해서 다음과 같은 numpy array를 출력한다.\n",
        "```\n",
        "[[ 7  8  9]\n",
        " [12 13 14]\n",
        " [17 18 19]]\n",
        "```"
      ]
    },
    {
      "cell_type": "code",
      "metadata": {
        "colab": {
          "base_uri": "https://localhost:8080/"
        },
        "id": "7ZO3BbI4vrX9",
        "outputId": "5f879a03-7e6c-4de0-de24-d2cc1441227f"
      },
      "source": [
        "a = np.arange(25).reshape(5,5)\n",
        "print(a)"
      ],
      "execution_count": 19,
      "outputs": [
        {
          "output_type": "stream",
          "text": [
            "[[ 0  1  2  3  4]\n",
            " [ 5  6  7  8  9]\n",
            " [10 11 12 13 14]\n",
            " [15 16 17 18 19]\n",
            " [20 21 22 23 24]]\n"
          ],
          "name": "stdout"
        }
      ]
    },
    {
      "cell_type": "code",
      "metadata": {
        "colab": {
          "base_uri": "https://localhost:8080/"
        },
        "id": "ltcEI_01vrUf",
        "outputId": "25d4c43c-9fa4-4bbc-9550-4af5b76fada0"
      },
      "source": [
        "a = a[1:4, 2:]\n",
        "print(a)"
      ],
      "execution_count": 20,
      "outputs": [
        {
          "output_type": "stream",
          "text": [
            "[[ 7  8  9]\n",
            " [12 13 14]\n",
            " [17 18 19]]\n"
          ],
          "name": "stdout"
        }
      ]
    },
    {
      "cell_type": "code",
      "metadata": {
        "id": "aTdxUCfwvrQn"
      },
      "source": [
        ""
      ],
      "execution_count": 20,
      "outputs": []
    },
    {
      "cell_type": "markdown",
      "metadata": {
        "id": "Og91ZtXO242a"
      },
      "source": [
        "## Quiz.5\n",
        "\n",
        "다음과 같이 좌상단엔 x^2그래프, 우하단엔 2x+1그래프를 그린다.\n",
        "\n",
        "![대체 텍스트](https://github.com/dhrim/hongik_2021/raw/master/material/library/images/graph.png)\n",
        "\n",
        "\n",
        "둘다 x는 -1 ~ 1까지 0.1간격이다.\n",
        "\n",
        "<br>\n",
        "\n",
        "색깔, 크기, 축이름, 축 눈금, 그래프 이름 등등의 가타 설정은 임의로 해도 된다.\n",
        "\n",
        "\n",
        "\n",
        "\n"
      ]
    },
    {
      "cell_type": "code",
      "metadata": {
        "colab": {
          "base_uri": "https://localhost:8080/",
          "height": 264
        },
        "id": "X97WpBbB3LmD",
        "outputId": "2bc337c1-6eaa-4833-c613-685de46d3c73"
      },
      "source": [
        "x = np.arange(-1,1.001,0.1)\n",
        "\n",
        "plt.subplot(221)\n",
        "plt.scatter(x, x**2)\n",
        "plt.subplot(224)\n",
        "plt.scatter(x, x*2+1)\n",
        "\n",
        "plt.show()"
      ],
      "execution_count": 21,
      "outputs": [
        {
          "output_type": "display_data",
          "data": {
            "image/png": "[encoded data removed]",
            "text/plain": [
              "<Figure size 432x288 with 2 Axes>"
            ]
          },
          "metadata": {
            "tags": [],
            "needs_background": "light"
          }
        }
      ]
    },
    {
      "cell_type": "markdown",
      "metadata": {
        "id": "1VoDE0y5pCCK"
      },
      "source": [
        "# Quiz.6\n",
        "\n",
        "tips.csv 파일을 읽어 다음과 같은 histogram 그래프를 그린다.\n",
        "\n",
        "![대체 텍스트](https://github.com/dhrim/hongik_2021/raw/master/material/library/images/tips.png)\n",
        "\n",
        "\n",
        "\n",
        "1~2값은 여자 1개, 남자 3개이고 \n",
        "\n",
        "3~4 구간은 1개, 4개이고, \n",
        "\n",
        "4~5 구간은 0개, 1개로 그려져야 한다.\n",
        "\n",
        "<br>\n",
        "힌트 : 이때 히스토그램 bin의 폭을 1로 설정한다.\n",
        "\n",
        "색깔, 크기, 축이름, 축 눈금, 그래프 이름 등등의 가타 설정은 임의로 해도 된다."
      ]
    },
    {
      "cell_type": "code",
      "metadata": {
        "colab": {
          "base_uri": "https://localhost:8080/"
        },
        "id": "O1AAlMWWy67T",
        "outputId": "9cb38651-41ff-49c4-c4ad-2e0b279c1a75"
      },
      "source": [
        "tips = pd.read_csv(\"tips.csv\")\n",
        "print(tips)"
      ],
      "execution_count": 22,
      "outputs": [
        {
          "output_type": "stream",
          "text": [
            "   total_bill   tip     sex smoker  day    time  size\n",
            "0       16.99  1.01  Female     No  Sun  Dinner     2\n",
            "1       10.34  1.66    Male     No  Sun  Dinner     3\n",
            "2       21.01  3.50    Male     No  Sun  Dinner     3\n",
            "3       23.68  3.31    Male     No  Sun  Dinner     2\n",
            "4       24.59  3.61  Female     No  Sun  Dinner     4\n",
            "5       25.29  4.71    Male     No  Sun  Dinner     4\n",
            "6        8.77  2.00    Male     No  Sun  Dinner     2\n",
            "7       26.88  3.12    Male     No  Sun  Dinner     4\n",
            "8       15.04  1.96    Male     No  Sun  Dinner     2\n",
            "9       14.78  3.23    Male     No  Sun  Dinner     2\n"
          ],
          "name": "stdout"
        }
      ]
    },
    {
      "cell_type": "code",
      "metadata": {
        "colab": {
          "base_uri": "https://localhost:8080/",
          "height": 278
        },
        "id": "deZxvH7yzBKP",
        "outputId": "b37363c7-611d-4d75-adce-560f7fb4d8a1"
      },
      "source": [
        "sns.histplot(data=tips, x=\"tip\", hue=\"sex\", alpha=.3, shrink=.8, multiple=\"dodge\", binwidth=1)\n",
        "plt.show()"
      ],
      "execution_count": 23,
      "outputs": [
        {
          "output_type": "display_data",
          "data": {
            "image/png": "[encoded data removed]",
            "text/plain": [
              "<Figure size 432x288 with 1 Axes>"
            ]
          },
          "metadata": {
            "tags": [],
            "needs_background": "light"
          }
        }
      ]
    },
    {
      "cell_type": "code",
      "metadata": {
        "id": "93ECfQp3znGo"
      },
      "source": [
        ""
      ],
      "execution_count": 23,
      "outputs": []
    }
  ]
}