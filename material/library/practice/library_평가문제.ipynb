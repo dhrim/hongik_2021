{
  "nbformat": 4,
  "nbformat_minor": 0,
  "metadata": {
    "colab": {
      "name": "library_평가문제.ipynb",
      "provenance": [],
      "collapsed_sections": []
    },
    "kernelspec": {
      "name": "python3",
      "display_name": "Python 3"
    },
    "language_info": {
      "name": "python"
    }
  },
  "cells": [
    {
      "cell_type": "markdown",
      "metadata": {
        "id": "lAD-7nxqFAqa"
      },
      "source": [
        "# Library 과정 평가\n",
        "\n",
        "# 제출자 - XXX\n",
        "\n",
        "위 xxx를 제출자 이름으로 변경해 주세요.\n",
        "\n",
        "dh-rim@hanmail.net으로 5월 23일(일) 23:59까지 보내주세요.\n",
        "\n",
        "메일 제목은 \"library 과정 평가 - 제출자이름\"으로 해주세요."
      ]
    },
    {
      "cell_type": "markdown",
      "metadata": {
        "id": "NaBajNXcrkvS"
      },
      "source": [
        "# 사전 준비 사항\n",
        "\n",
        "아래를 실행시켜서 준비하고 이후 퀴즈를 풀어주세요."
      ]
    },
    {
      "cell_type": "code",
      "metadata": {
        "colab": {
          "base_uri": "https://localhost:8080/"
        },
        "id": "cYeD_ZZTpNXJ",
        "outputId": "c762584c-f7ab-4a38-b084-6ca6f373d871"
      },
      "source": [
        "%%writefile data.csv\n",
        "name,age,tip\n",
        "tom,33,10.5\n",
        "jerry,35,8\n",
        "철수,25,3.5\n",
        "영희,26,8.8\n",
        "brute,22,0\n",
        "hank,31,6.6"
      ],
      "execution_count": null,
      "outputs": [
        {
          "output_type": "stream",
          "text": [
            "Writing data.csv\n"
          ],
          "name": "stdout"
        }
      ]
    },
    {
      "cell_type": "code",
      "metadata": {
        "colab": {
          "base_uri": "https://localhost:8080/"
        },
        "id": "noud8vNFrxPY",
        "outputId": "3d06ad24-8213-493e-cbe4-a245bfd67c91"
      },
      "source": [
        "%%writefile flawed_data.csv\n",
        "age,tip\n",
        "33,10.5\n",
        ",8\n",
        "25,-3.5\n",
        "26,\n",
        "22,0\n",
        "31,6.6"
      ],
      "execution_count": null,
      "outputs": [
        {
          "output_type": "stream",
          "text": [
            "Overwriting flawed_data.csv\n"
          ],
          "name": "stdout"
        }
      ]
    },
    {
      "cell_type": "code",
      "metadata": {
        "colab": {
          "base_uri": "https://localhost:8080/"
        },
        "id": "z5sMI708zOlk",
        "outputId": "95f6c32d-228e-4372-abf6-019095638ecb"
      },
      "source": [
        "%%writefile tips.csv\n",
        "total_bill,tip,sex,smoker,day,time,size\n",
        "16.99,1.01,Female,No,Sun,Dinner,2\n",
        "10.34,1.66,Male,No,Sun,Dinner,3\n",
        "21.01,3.5,Male,No,Sun,Dinner,3\n",
        "23.68,3.31,Male,No,Sun,Dinner,2\n",
        "24.59,3.61,Female,No,Sun,Dinner,4\n",
        "25.29,4.71,Male,No,Sun,Dinner,4\n",
        "8.77,2.0,Male,No,Sun,Dinner,2\n",
        "26.88,3.12,Male,No,Sun,Dinner,4\n",
        "15.04,1.96,Male,No,Sun,Dinner,2\n",
        "14.78,3.23,Male,No,Sun,Dinner,2"
      ],
      "execution_count": null,
      "outputs": [
        {
          "output_type": "stream",
          "text": [
            "Overwriting tips.csv\n"
          ],
          "name": "stdout"
        }
      ]
    },
    {
      "cell_type": "markdown",
      "metadata": {
        "id": "O9gFh1NYo1gc"
      },
      "source": [
        "# Quiz.1\n",
        "\n",
        "파일 data.csv의 내용은 다음과 같다.\n",
        "```\n",
        "name,age,tip\n",
        "tom,33,10.5\n",
        "jerry,35,8\n",
        "철수,25,3.5\n",
        "영희,26,8.8\n",
        "brute,22,0\n",
        "hank,31,6.6\n",
        "```\n",
        "\n",
        "data.csv를 Pandas로 읽고,\n",
        "\n",
        "tip 컬럼의 값을 2배한 값으로 하는 새로운 컬럼 doubled_tip을 생성하고 dataframe을 출력한다. \n",
        "\n",
        "기대되는 출력은 다음과 같다.\n",
        "```\n",
        "    name  age   tip  doubled_tip\n",
        "0    tom   33  10.5         21.0\n",
        "1  jerry   35   8.0         16.0\n",
        "2     철수   25   3.5          7.0\n",
        "3     영희   26   8.8         17.6\n",
        "4  brute   22   0.0          0.0\n",
        "5   hank   31   6.6         13.2\n",
        "```\n",
        "\n",
        "age 컬럼의 값이 30보다 작은 row만 추린 dataframe을 구하고 이를 출력한다.\n",
        "\n",
        "기대되는 출력은 다음과 같다.\n",
        "```\n",
        "2       철수\n",
        "3       영희\n",
        "4    brute\n",
        "Name: name, dtype: object\n",
        "```"
      ]
    },
    {
      "cell_type": "code",
      "metadata": {
        "id": "kwyOWZk54j1F"
      },
      "source": [
        ""
      ],
      "execution_count": null,
      "outputs": []
    },
    {
      "cell_type": "code",
      "metadata": {
        "id": "HjKqcSMw4jsi"
      },
      "source": [
        ""
      ],
      "execution_count": null,
      "outputs": []
    },
    {
      "cell_type": "markdown",
      "metadata": {
        "id": "yOUdeT8mo7IM"
      },
      "source": [
        "# Quiz.2\n",
        "\n",
        "파일 flawed_data.csv의 내용은 다음과 같다.\n",
        "```\n",
        "age,tip\n",
        "33,10.5\n",
        ",8\n",
        "25,-3.5\n",
        "26,\n",
        "22,0\n",
        "31,6.6\n",
        "```\n",
        "\n",
        "Pandas로 읽고,\n",
        "\n",
        "tip 컬럼의 음수 값은 0으로 수정한다.\n",
        "\n",
        "그리고 결측치의 값을 각 컬럼의 평균값으로 채우고 data frame을 출력한다.\n",
        "\n",
        "기대되는 출력은 다음과 같다.\n",
        "```\n",
        "    age    tip\n",
        "0  33.0  10.50\n",
        "1  27.4   8.00\n",
        "2  25.0   0.00\n",
        "3  26.0   5.02\n",
        "4  22.0   0.00\n",
        "5  31.0   6.60\n",
        "```\n",
        "\n",
        "그리고 age, tip 컬럼의 값을 0.0 ~ 1.0의 값으로 normalization한 age, tip을 출력한다.\n",
        "\n",
        "기대되는 출력은 다음과 같다.\n",
        "```\n",
        "        age       tip\n",
        "0  1.000000  1.000000\n",
        "1  0.490909  0.761905\n",
        "2  0.272727  0.000000\n",
        "3  0.363636  0.478095\n",
        "4  0.000000  0.000000\n",
        "5  0.818182  0.628571\n",
        "```\n",
        "\n"
      ]
    },
    {
      "cell_type": "code",
      "metadata": {
        "id": "rPVhPYF0ssMW"
      },
      "source": [
        ""
      ],
      "execution_count": null,
      "outputs": []
    },
    {
      "cell_type": "code",
      "metadata": {
        "id": "JVkrfMOB4pK7"
      },
      "source": [
        ""
      ],
      "execution_count": null,
      "outputs": []
    },
    {
      "cell_type": "markdown",
      "metadata": {
        "id": "HpiwR1T8o9x3"
      },
      "source": [
        "# Quiz.3\n",
        "\n",
        "다음과 같은 실수 1~15의 값을 갖는 (3,5) 형태의 numpy array를 생성하고\n",
        "```\n",
        "[[ 1.  2.  3.  4.  5.]\n",
        " [ 6.  7.  8.  9. 10.]\n",
        " [11. 12. 13. 14. 15.]]\n",
        "```\n",
        "\n",
        "각 열 별로 합을 구한 5개 요소를 같는 numpy array를 출력한다.\n",
        "기대되는 출력은 다음과 같다.\n",
        "```\n",
        "[18. 21. 24. 27. 30.]\n",
        "```"
      ]
    },
    {
      "cell_type": "code",
      "metadata": {
        "id": "TzV-_bU74oW9"
      },
      "source": [
        ""
      ],
      "execution_count": null,
      "outputs": []
    },
    {
      "cell_type": "code",
      "metadata": {
        "id": "Hv1JvhaP4oPe"
      },
      "source": [
        ""
      ],
      "execution_count": null,
      "outputs": []
    },
    {
      "cell_type": "markdown",
      "metadata": {
        "id": "yRJx-7UFpAI-"
      },
      "source": [
        "# Quiz.4\n",
        "\n",
        "다음과 같은 numpy array를 생성하여 출력하고\n",
        "```\n",
        "[[ 0  1  2  3  4]\n",
        " [ 5  6  7  8  9]\n",
        " [10 11 12 13 14]\n",
        " [15 16 17 18 19]\n",
        " [20 21 22 23 24]]\n",
        "```\n",
        "\n",
        "이를 슬라이싱 해서 다음과 같은 numpy array를 출력한다.\n",
        "```\n",
        "[[ 7  8  9]\n",
        " [12 13 14]\n",
        " [17 18 19]]\n",
        "```"
      ]
    },
    {
      "cell_type": "code",
      "metadata": {
        "id": "aTdxUCfwvrQn"
      },
      "source": [
        ""
      ],
      "execution_count": null,
      "outputs": []
    },
    {
      "cell_type": "code",
      "metadata": {
        "id": "YDUGApi74qw9"
      },
      "source": [
        ""
      ],
      "execution_count": null,
      "outputs": []
    },
    {
      "cell_type": "markdown",
      "metadata": {
        "id": "Og91ZtXO242a"
      },
      "source": [
        "## Quiz.5\n",
        "\n",
        "다음과 같이 좌상단엔 x^2그래프, 우하단엔 2x+1그래프를 그린다.\n",
        "\n",
        "![대체 텍스트](https://github.com/dhrim/hongik_2021/raw/master/material/library/images/graph.png)\n",
        "\n",
        "\n",
        "둘다 x는 -1 ~ 1까지 0.1간격이다.\n",
        "\n",
        "<br>\n",
        "\n",
        "색깔, 크기, 축이름, 축 눈금, 그래프 이름 등등의 가타 설정은 임의로 해도 된다.\n",
        "\n",
        "\n",
        "\n",
        "\n"
      ]
    },
    {
      "cell_type": "code",
      "metadata": {
        "id": "zhmarkk74tg_"
      },
      "source": [
        ""
      ],
      "execution_count": null,
      "outputs": []
    },
    {
      "cell_type": "code",
      "metadata": {
        "id": "4TcKrz2e4tXu"
      },
      "source": [
        ""
      ],
      "execution_count": null,
      "outputs": []
    },
    {
      "cell_type": "markdown",
      "metadata": {
        "id": "1VoDE0y5pCCK"
      },
      "source": [
        "# Quiz.6\n",
        "\n",
        "tips.csv 파일을 읽어 다음과 같은 histogram 그래프를 그린다.\n",
        "\n",
        "![대체 텍스트](https://github.com/dhrim/hongik_2021/raw/master/material/library/images/tips.png)\n",
        "\n",
        "이때 히스토그램 bin의 단위는 1로 설정하여 \n",
        "\n",
        "1~2값은 여자 1개, 남자 3개이고 \n",
        "\n",
        "3~4 구간은 1개, 4개이고, \n",
        "\n",
        "4~5 구간은 0개, 1개로 그려져야 한다.\n",
        "\n",
        "<br>\n",
        "\n",
        "색깔, 크기, 축이름, 축 눈금, 그래프 이름 등등의 가타 설정은 임의로 해도 된다."
      ]
    },
    {
      "cell_type": "code",
      "metadata": {
        "id": "93ECfQp3znGo"
      },
      "source": [
        ""
      ],
      "execution_count": null,
      "outputs": []
    },
    {
      "cell_type": "code",
      "metadata": {
        "id": "f0aHNM-t4vbf"
      },
      "source": [
        ""
      ],
      "execution_count": null,
      "outputs": []
    }
  ]
}