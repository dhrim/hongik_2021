{
  "nbformat": 4,
  "nbformat_minor": 0,
  "metadata": {
    "colab": {
      "name": "2021_05_13_실습내용.ipynb",
      "provenance": []
    },
    "kernelspec": {
      "name": "python3",
      "display_name": "Python 3"
    },
    "language_info": {
      "name": "python"
    }
  },
  "cells": [
    {
      "cell_type": "code",
      "metadata": {
        "colab": {
          "base_uri": "https://localhost:8080/"
        },
        "id": "XGQ0jquoHk03",
        "outputId": "260d2bd9-4d1d-44d2-9606-e7bf5f3c1ca0"
      },
      "source": [
        "!wget https://raw.githubusercontent.com/adeshpande3/Pandas-Tutorial/master/RegularSeasonCompactResults.csv"
      ],
      "execution_count": 1,
      "outputs": [
        {
          "output_type": "stream",
          "text": [
            "--2021-05-13 00:28:05--  https://raw.githubusercontent.com/adeshpande3/Pandas-Tutorial/master/RegularSeasonCompactResults.csv\n",
            "Resolving raw.githubusercontent.com (raw.githubusercontent.com)... 185.199.108.133, 185.199.109.133, 185.199.110.133, ...\n",
            "Connecting to raw.githubusercontent.com (raw.githubusercontent.com)|185.199.108.133|:443... connected.\n",
            "HTTP request sent, awaiting response... 200 OK\n",
            "Length: 4115852 (3.9M) [text/plain]\n",
            "Saving to: ‘RegularSeasonCompactResults.csv’\n",
            "\n",
            "RegularSeasonCompac 100%[===================>]   3.92M  21.6MB/s    in 0.2s    \n",
            "\n",
            "2021-05-13 00:28:06 (21.6 MB/s) - ‘RegularSeasonCompactResults.csv’ saved [4115852/4115852]\n",
            "\n"
          ],
          "name": "stdout"
        }
      ]
    },
    {
      "cell_type": "code",
      "metadata": {
        "colab": {
          "base_uri": "https://localhost:8080/"
        },
        "id": "HWDkgyjHHu6Z",
        "outputId": "9a6cc4f6-e545-4501-9590-dbf37f21ca41"
      },
      "source": [
        "!ls -al"
      ],
      "execution_count": 2,
      "outputs": [
        {
          "output_type": "stream",
          "text": [
            "total 4036\n",
            "drwxr-xr-x 1 root root    4096 May 13 00:28 .\n",
            "drwxr-xr-x 1 root root    4096 May 13 00:26 ..\n",
            "drwxr-xr-x 4 root root    4096 May  6 13:43 .config\n",
            "-rw-r--r-- 1 root root 4115852 May 13 00:28 RegularSeasonCompactResults.csv\n",
            "drwxr-xr-x 1 root root    4096 May  6 13:44 sample_data\n"
          ],
          "name": "stdout"
        }
      ]
    },
    {
      "cell_type": "code",
      "metadata": {
        "colab": {
          "base_uri": "https://localhost:8080/"
        },
        "id": "1GtjGj_DHyVA",
        "outputId": "43eec8c3-f9ce-4021-b150-19356dcffba6"
      },
      "source": [
        "!wc RegularSeasonCompactResults.csv"
      ],
      "execution_count": 3,
      "outputs": [
        {
          "output_type": "stream",
          "text": [
            " 145290  145290 4115852 RegularSeasonCompactResults.csv\n"
          ],
          "name": "stdout"
        }
      ]
    },
    {
      "cell_type": "code",
      "metadata": {
        "colab": {
          "base_uri": "https://localhost:8080/"
        },
        "id": "f3d2CQT7H1DA",
        "outputId": "dfe19cf8-0d92-442a-ce7d-4fd5e9fc286f"
      },
      "source": [
        "!head RegularSeasonCompactResults.csv"
      ],
      "execution_count": 4,
      "outputs": [
        {
          "output_type": "stream",
          "text": [
            "Season,Daynum,Wteam,Wscore,Lteam,Lscore,Wloc,Numot\n",
            "1985,20,1228,81,1328,64,N,0\n",
            "1985,25,1106,77,1354,70,H,0\n",
            "1985,25,1112,63,1223,56,H,0\n",
            "1985,25,1165,70,1432,54,H,0\n",
            "1985,25,1192,86,1447,74,H,0\n",
            "1985,25,1218,79,1337,78,H,0\n",
            "1985,25,1228,64,1226,44,N,0\n",
            "1985,25,1242,58,1268,56,N,0\n",
            "1985,25,1260,98,1133,80,H,0\n"
          ],
          "name": "stdout"
        }
      ]
    },
    {
      "cell_type": "code",
      "metadata": {
        "id": "WsxOtHu-H26M"
      },
      "source": [
        "import pandas as pd\n",
        "\n",
        "df = pd.read_csv(\"RegularSeasonCompactResults.csv\")"
      ],
      "execution_count": 5,
      "outputs": []
    },
    {
      "cell_type": "code",
      "metadata": {
        "colab": {
          "base_uri": "https://localhost:8080/",
          "height": 414
        },
        "id": "8N7Fes4yH7tj",
        "outputId": "a085614d-bc90-4664-f7ef-05516eeb3d61"
      },
      "source": [
        "df"
      ],
      "execution_count": 6,
      "outputs": [
        {
          "output_type": "execute_result",
          "data": {
            "text/html": [
              "<div>\n",
              "<style scoped>\n",
              "    .dataframe tbody tr th:only-of-type {\n",
              "        vertical-align: middle;\n",
              "    }\n",
              "\n",
              "    .dataframe tbody tr th {\n",
              "        vertical-align: top;\n",
              "    }\n",
              "\n",
              "    .dataframe thead th {\n",
              "        text-align: right;\n",
              "    }\n",
              "</style>\n",
              "<table border=\"1\" class=\"dataframe\">\n",
              "  <thead>\n",
              "    <tr style=\"text-align: right;\">\n",
              "      <th></th>\n",
              "      <th>Season</th>\n",
              "      <th>Daynum</th>\n",
              "      <th>Wteam</th>\n",
              "      <th>Wscore</th>\n",
              "      <th>Lteam</th>\n",
              "      <th>Lscore</th>\n",
              "      <th>Wloc</th>\n",
              "      <th>Numot</th>\n",
              "    </tr>\n",
              "  </thead>\n",
              "  <tbody>\n",
              "    <tr>\n",
              "      <th>0</th>\n",
              "      <td>1985</td>\n",
              "      <td>20</td>\n",
              "      <td>1228</td>\n",
              "      <td>81</td>\n",
              "      <td>1328</td>\n",
              "      <td>64</td>\n",
              "      <td>N</td>\n",
              "      <td>0</td>\n",
              "    </tr>\n",
              "    <tr>\n",
              "      <th>1</th>\n",
              "      <td>1985</td>\n",
              "      <td>25</td>\n",
              "      <td>1106</td>\n",
              "      <td>77</td>\n",
              "      <td>1354</td>\n",
              "      <td>70</td>\n",
              "      <td>H</td>\n",
              "      <td>0</td>\n",
              "    </tr>\n",
              "    <tr>\n",
              "      <th>2</th>\n",
              "      <td>1985</td>\n",
              "      <td>25</td>\n",
              "      <td>1112</td>\n",
              "      <td>63</td>\n",
              "      <td>1223</td>\n",
              "      <td>56</td>\n",
              "      <td>H</td>\n",
              "      <td>0</td>\n",
              "    </tr>\n",
              "    <tr>\n",
              "      <th>3</th>\n",
              "      <td>1985</td>\n",
              "      <td>25</td>\n",
              "      <td>1165</td>\n",
              "      <td>70</td>\n",
              "      <td>1432</td>\n",
              "      <td>54</td>\n",
              "      <td>H</td>\n",
              "      <td>0</td>\n",
              "    </tr>\n",
              "    <tr>\n",
              "      <th>4</th>\n",
              "      <td>1985</td>\n",
              "      <td>25</td>\n",
              "      <td>1192</td>\n",
              "      <td>86</td>\n",
              "      <td>1447</td>\n",
              "      <td>74</td>\n",
              "      <td>H</td>\n",
              "      <td>0</td>\n",
              "    </tr>\n",
              "    <tr>\n",
              "      <th>...</th>\n",
              "      <td>...</td>\n",
              "      <td>...</td>\n",
              "      <td>...</td>\n",
              "      <td>...</td>\n",
              "      <td>...</td>\n",
              "      <td>...</td>\n",
              "      <td>...</td>\n",
              "      <td>...</td>\n",
              "    </tr>\n",
              "    <tr>\n",
              "      <th>145284</th>\n",
              "      <td>2016</td>\n",
              "      <td>132</td>\n",
              "      <td>1114</td>\n",
              "      <td>70</td>\n",
              "      <td>1419</td>\n",
              "      <td>50</td>\n",
              "      <td>N</td>\n",
              "      <td>0</td>\n",
              "    </tr>\n",
              "    <tr>\n",
              "      <th>145285</th>\n",
              "      <td>2016</td>\n",
              "      <td>132</td>\n",
              "      <td>1163</td>\n",
              "      <td>72</td>\n",
              "      <td>1272</td>\n",
              "      <td>58</td>\n",
              "      <td>N</td>\n",
              "      <td>0</td>\n",
              "    </tr>\n",
              "    <tr>\n",
              "      <th>145286</th>\n",
              "      <td>2016</td>\n",
              "      <td>132</td>\n",
              "      <td>1246</td>\n",
              "      <td>82</td>\n",
              "      <td>1401</td>\n",
              "      <td>77</td>\n",
              "      <td>N</td>\n",
              "      <td>1</td>\n",
              "    </tr>\n",
              "    <tr>\n",
              "      <th>145287</th>\n",
              "      <td>2016</td>\n",
              "      <td>132</td>\n",
              "      <td>1277</td>\n",
              "      <td>66</td>\n",
              "      <td>1345</td>\n",
              "      <td>62</td>\n",
              "      <td>N</td>\n",
              "      <td>0</td>\n",
              "    </tr>\n",
              "    <tr>\n",
              "      <th>145288</th>\n",
              "      <td>2016</td>\n",
              "      <td>132</td>\n",
              "      <td>1386</td>\n",
              "      <td>87</td>\n",
              "      <td>1433</td>\n",
              "      <td>74</td>\n",
              "      <td>N</td>\n",
              "      <td>0</td>\n",
              "    </tr>\n",
              "  </tbody>\n",
              "</table>\n",
              "<p>145289 rows × 8 columns</p>\n",
              "</div>"
            ],
            "text/plain": [
              "        Season  Daynum  Wteam  Wscore  Lteam  Lscore Wloc  Numot\n",
              "0         1985      20   1228      81   1328      64    N      0\n",
              "1         1985      25   1106      77   1354      70    H      0\n",
              "2         1985      25   1112      63   1223      56    H      0\n",
              "3         1985      25   1165      70   1432      54    H      0\n",
              "4         1985      25   1192      86   1447      74    H      0\n",
              "...        ...     ...    ...     ...    ...     ...  ...    ...\n",
              "145284    2016     132   1114      70   1419      50    N      0\n",
              "145285    2016     132   1163      72   1272      58    N      0\n",
              "145286    2016     132   1246      82   1401      77    N      1\n",
              "145287    2016     132   1277      66   1345      62    N      0\n",
              "145288    2016     132   1386      87   1433      74    N      0\n",
              "\n",
              "[145289 rows x 8 columns]"
            ]
          },
          "metadata": {
            "tags": []
          },
          "execution_count": 6
        }
      ]
    },
    {
      "cell_type": "code",
      "metadata": {
        "colab": {
          "base_uri": "https://localhost:8080/",
          "height": 201
        },
        "id": "xdulsG7sH9Gk",
        "outputId": "436c87a8-bfe2-4dc6-8fee-636d2f0e3dcc"
      },
      "source": [
        "df.head()"
      ],
      "execution_count": 7,
      "outputs": [
        {
          "output_type": "execute_result",
          "data": {
            "text/html": [
              "<div>\n",
              "<style scoped>\n",
              "    .dataframe tbody tr th:only-of-type {\n",
              "        vertical-align: middle;\n",
              "    }\n",
              "\n",
              "    .dataframe tbody tr th {\n",
              "        vertical-align: top;\n",
              "    }\n",
              "\n",
              "    .dataframe thead th {\n",
              "        text-align: right;\n",
              "    }\n",
              "</style>\n",
              "<table border=\"1\" class=\"dataframe\">\n",
              "  <thead>\n",
              "    <tr style=\"text-align: right;\">\n",
              "      <th></th>\n",
              "      <th>Season</th>\n",
              "      <th>Daynum</th>\n",
              "      <th>Wteam</th>\n",
              "      <th>Wscore</th>\n",
              "      <th>Lteam</th>\n",
              "      <th>Lscore</th>\n",
              "      <th>Wloc</th>\n",
              "      <th>Numot</th>\n",
              "    </tr>\n",
              "  </thead>\n",
              "  <tbody>\n",
              "    <tr>\n",
              "      <th>0</th>\n",
              "      <td>1985</td>\n",
              "      <td>20</td>\n",
              "      <td>1228</td>\n",
              "      <td>81</td>\n",
              "      <td>1328</td>\n",
              "      <td>64</td>\n",
              "      <td>N</td>\n",
              "      <td>0</td>\n",
              "    </tr>\n",
              "    <tr>\n",
              "      <th>1</th>\n",
              "      <td>1985</td>\n",
              "      <td>25</td>\n",
              "      <td>1106</td>\n",
              "      <td>77</td>\n",
              "      <td>1354</td>\n",
              "      <td>70</td>\n",
              "      <td>H</td>\n",
              "      <td>0</td>\n",
              "    </tr>\n",
              "    <tr>\n",
              "      <th>2</th>\n",
              "      <td>1985</td>\n",
              "      <td>25</td>\n",
              "      <td>1112</td>\n",
              "      <td>63</td>\n",
              "      <td>1223</td>\n",
              "      <td>56</td>\n",
              "      <td>H</td>\n",
              "      <td>0</td>\n",
              "    </tr>\n",
              "    <tr>\n",
              "      <th>3</th>\n",
              "      <td>1985</td>\n",
              "      <td>25</td>\n",
              "      <td>1165</td>\n",
              "      <td>70</td>\n",
              "      <td>1432</td>\n",
              "      <td>54</td>\n",
              "      <td>H</td>\n",
              "      <td>0</td>\n",
              "    </tr>\n",
              "    <tr>\n",
              "      <th>4</th>\n",
              "      <td>1985</td>\n",
              "      <td>25</td>\n",
              "      <td>1192</td>\n",
              "      <td>86</td>\n",
              "      <td>1447</td>\n",
              "      <td>74</td>\n",
              "      <td>H</td>\n",
              "      <td>0</td>\n",
              "    </tr>\n",
              "  </tbody>\n",
              "</table>\n",
              "</div>"
            ],
            "text/plain": [
              "   Season  Daynum  Wteam  Wscore  Lteam  Lscore Wloc  Numot\n",
              "0    1985      20   1228      81   1328      64    N      0\n",
              "1    1985      25   1106      77   1354      70    H      0\n",
              "2    1985      25   1112      63   1223      56    H      0\n",
              "3    1985      25   1165      70   1432      54    H      0\n",
              "4    1985      25   1192      86   1447      74    H      0"
            ]
          },
          "metadata": {
            "tags": []
          },
          "execution_count": 7
        }
      ]
    },
    {
      "cell_type": "code",
      "metadata": {
        "colab": {
          "base_uri": "https://localhost:8080/",
          "height": 201
        },
        "id": "9Y1WPhQBH_Oe",
        "outputId": "7d01dae8-df23-4305-c35a-a1c62c6135bb"
      },
      "source": [
        "df.tail()"
      ],
      "execution_count": 8,
      "outputs": [
        {
          "output_type": "execute_result",
          "data": {
            "text/html": [
              "<div>\n",
              "<style scoped>\n",
              "    .dataframe tbody tr th:only-of-type {\n",
              "        vertical-align: middle;\n",
              "    }\n",
              "\n",
              "    .dataframe tbody tr th {\n",
              "        vertical-align: top;\n",
              "    }\n",
              "\n",
              "    .dataframe thead th {\n",
              "        text-align: right;\n",
              "    }\n",
              "</style>\n",
              "<table border=\"1\" class=\"dataframe\">\n",
              "  <thead>\n",
              "    <tr style=\"text-align: right;\">\n",
              "      <th></th>\n",
              "      <th>Season</th>\n",
              "      <th>Daynum</th>\n",
              "      <th>Wteam</th>\n",
              "      <th>Wscore</th>\n",
              "      <th>Lteam</th>\n",
              "      <th>Lscore</th>\n",
              "      <th>Wloc</th>\n",
              "      <th>Numot</th>\n",
              "    </tr>\n",
              "  </thead>\n",
              "  <tbody>\n",
              "    <tr>\n",
              "      <th>145284</th>\n",
              "      <td>2016</td>\n",
              "      <td>132</td>\n",
              "      <td>1114</td>\n",
              "      <td>70</td>\n",
              "      <td>1419</td>\n",
              "      <td>50</td>\n",
              "      <td>N</td>\n",
              "      <td>0</td>\n",
              "    </tr>\n",
              "    <tr>\n",
              "      <th>145285</th>\n",
              "      <td>2016</td>\n",
              "      <td>132</td>\n",
              "      <td>1163</td>\n",
              "      <td>72</td>\n",
              "      <td>1272</td>\n",
              "      <td>58</td>\n",
              "      <td>N</td>\n",
              "      <td>0</td>\n",
              "    </tr>\n",
              "    <tr>\n",
              "      <th>145286</th>\n",
              "      <td>2016</td>\n",
              "      <td>132</td>\n",
              "      <td>1246</td>\n",
              "      <td>82</td>\n",
              "      <td>1401</td>\n",
              "      <td>77</td>\n",
              "      <td>N</td>\n",
              "      <td>1</td>\n",
              "    </tr>\n",
              "    <tr>\n",
              "      <th>145287</th>\n",
              "      <td>2016</td>\n",
              "      <td>132</td>\n",
              "      <td>1277</td>\n",
              "      <td>66</td>\n",
              "      <td>1345</td>\n",
              "      <td>62</td>\n",
              "      <td>N</td>\n",
              "      <td>0</td>\n",
              "    </tr>\n",
              "    <tr>\n",
              "      <th>145288</th>\n",
              "      <td>2016</td>\n",
              "      <td>132</td>\n",
              "      <td>1386</td>\n",
              "      <td>87</td>\n",
              "      <td>1433</td>\n",
              "      <td>74</td>\n",
              "      <td>N</td>\n",
              "      <td>0</td>\n",
              "    </tr>\n",
              "  </tbody>\n",
              "</table>\n",
              "</div>"
            ],
            "text/plain": [
              "        Season  Daynum  Wteam  Wscore  Lteam  Lscore Wloc  Numot\n",
              "145284    2016     132   1114      70   1419      50    N      0\n",
              "145285    2016     132   1163      72   1272      58    N      0\n",
              "145286    2016     132   1246      82   1401      77    N      1\n",
              "145287    2016     132   1277      66   1345      62    N      0\n",
              "145288    2016     132   1386      87   1433      74    N      0"
            ]
          },
          "metadata": {
            "tags": []
          },
          "execution_count": 8
        }
      ]
    },
    {
      "cell_type": "code",
      "metadata": {
        "colab": {
          "base_uri": "https://localhost:8080/"
        },
        "id": "hdp2Bo8zIjTa",
        "outputId": "2c0efff1-9e3a-42ca-a218-591feee590ab"
      },
      "source": [
        "print(df.shape)"
      ],
      "execution_count": 9,
      "outputs": [
        {
          "output_type": "stream",
          "text": [
            "(145289, 8)\n"
          ],
          "name": "stdout"
        }
      ]
    },
    {
      "cell_type": "code",
      "metadata": {
        "id": "xKy69W9eIlgn"
      },
      "source": [
        "(123456, 8)\n",
        "\n",
        "(123456, 256, 256)\n",
        "(123456, 124, 124, 3)\n",
        "(123456,  48, 48, 3, 10)"
      ],
      "execution_count": null,
      "outputs": []
    },
    {
      "cell_type": "code",
      "metadata": {
        "colab": {
          "base_uri": "https://localhost:8080/"
        },
        "id": "DtMAD-R1KDLv",
        "outputId": "4778f203-c264-4421-cfb1-3c481a80ab6b"
      },
      "source": [
        "print(df.index)"
      ],
      "execution_count": 10,
      "outputs": [
        {
          "output_type": "stream",
          "text": [
            "RangeIndex(start=0, stop=145289, step=1)\n"
          ],
          "name": "stdout"
        }
      ]
    },
    {
      "cell_type": "code",
      "metadata": {
        "id": "ZwOsHc_QKOL0"
      },
      "source": [
        "for i in range(0, 145289, 1):\n",
        "  "
      ],
      "execution_count": null,
      "outputs": []
    },
    {
      "cell_type": "code",
      "metadata": {
        "colab": {
          "base_uri": "https://localhost:8080/"
        },
        "id": "DSz0n_SbKUf3",
        "outputId": "89f3baaf-047a-4b6a-b80d-ad4ec9c57fd6"
      },
      "source": [
        "print(df.columns.tolist())"
      ],
      "execution_count": 11,
      "outputs": [
        {
          "output_type": "stream",
          "text": [
            "['Season', 'Daynum', 'Wteam', 'Wscore', 'Lteam', 'Lscore', 'Wloc', 'Numot']\n"
          ],
          "name": "stdout"
        }
      ]
    },
    {
      "cell_type": "code",
      "metadata": {
        "id": "a51g64oZK_bv"
      },
      "source": [
        "1985,20,1228,81.21,,64,N,0"
      ],
      "execution_count": null,
      "outputs": []
    },
    {
      "cell_type": "code",
      "metadata": {
        "colab": {
          "base_uri": "https://localhost:8080/"
        },
        "id": "6WAvMssrKvVR",
        "outputId": "e80bfa43-69fd-4c95-f052-eb86774ce018"
      },
      "source": [
        "print(df.info())"
      ],
      "execution_count": 12,
      "outputs": [
        {
          "output_type": "stream",
          "text": [
            "<class 'pandas.core.frame.DataFrame'>\n",
            "RangeIndex: 145289 entries, 0 to 145288\n",
            "Data columns (total 8 columns):\n",
            " #   Column  Non-Null Count   Dtype \n",
            "---  ------  --------------   ----- \n",
            " 0   Season  145289 non-null  int64 \n",
            " 1   Daynum  145289 non-null  int64 \n",
            " 2   Wteam   145289 non-null  int64 \n",
            " 3   Wscore  145289 non-null  int64 \n",
            " 4   Lteam   145289 non-null  int64 \n",
            " 5   Lscore  145289 non-null  int64 \n",
            " 6   Wloc    145289 non-null  object\n",
            " 7   Numot   145289 non-null  int64 \n",
            "dtypes: int64(7), object(1)\n",
            "memory usage: 8.9+ MB\n",
            "None\n"
          ],
          "name": "stdout"
        }
      ]
    },
    {
      "cell_type": "code",
      "metadata": {
        "colab": {
          "base_uri": "https://localhost:8080/",
          "height": 313
        },
        "id": "U_GvWscGLwXR",
        "outputId": "7479c00e-b960-4d05-fda2-5cb045ec8ea5"
      },
      "source": [
        "df.describe()"
      ],
      "execution_count": 13,
      "outputs": [
        {
          "output_type": "execute_result",
          "data": {
            "text/html": [
              "<div>\n",
              "<style scoped>\n",
              "    .dataframe tbody tr th:only-of-type {\n",
              "        vertical-align: middle;\n",
              "    }\n",
              "\n",
              "    .dataframe tbody tr th {\n",
              "        vertical-align: top;\n",
              "    }\n",
              "\n",
              "    .dataframe thead th {\n",
              "        text-align: right;\n",
              "    }\n",
              "</style>\n",
              "<table border=\"1\" class=\"dataframe\">\n",
              "  <thead>\n",
              "    <tr style=\"text-align: right;\">\n",
              "      <th></th>\n",
              "      <th>Season</th>\n",
              "      <th>Daynum</th>\n",
              "      <th>Wteam</th>\n",
              "      <th>Wscore</th>\n",
              "      <th>Lteam</th>\n",
              "      <th>Lscore</th>\n",
              "      <th>Numot</th>\n",
              "    </tr>\n",
              "  </thead>\n",
              "  <tbody>\n",
              "    <tr>\n",
              "      <th>count</th>\n",
              "      <td>145289.000000</td>\n",
              "      <td>145289.000000</td>\n",
              "      <td>145289.000000</td>\n",
              "      <td>145289.000000</td>\n",
              "      <td>145289.000000</td>\n",
              "      <td>145289.000000</td>\n",
              "      <td>145289.000000</td>\n",
              "    </tr>\n",
              "    <tr>\n",
              "      <th>mean</th>\n",
              "      <td>2001.574834</td>\n",
              "      <td>75.223816</td>\n",
              "      <td>1286.720646</td>\n",
              "      <td>76.600321</td>\n",
              "      <td>1282.864064</td>\n",
              "      <td>64.497009</td>\n",
              "      <td>0.044387</td>\n",
              "    </tr>\n",
              "    <tr>\n",
              "      <th>std</th>\n",
              "      <td>9.233342</td>\n",
              "      <td>33.287418</td>\n",
              "      <td>104.570275</td>\n",
              "      <td>12.173033</td>\n",
              "      <td>104.829234</td>\n",
              "      <td>11.380625</td>\n",
              "      <td>0.247819</td>\n",
              "    </tr>\n",
              "    <tr>\n",
              "      <th>min</th>\n",
              "      <td>1985.000000</td>\n",
              "      <td>0.000000</td>\n",
              "      <td>1101.000000</td>\n",
              "      <td>34.000000</td>\n",
              "      <td>1101.000000</td>\n",
              "      <td>20.000000</td>\n",
              "      <td>0.000000</td>\n",
              "    </tr>\n",
              "    <tr>\n",
              "      <th>25%</th>\n",
              "      <td>1994.000000</td>\n",
              "      <td>47.000000</td>\n",
              "      <td>1198.000000</td>\n",
              "      <td>68.000000</td>\n",
              "      <td>1191.000000</td>\n",
              "      <td>57.000000</td>\n",
              "      <td>0.000000</td>\n",
              "    </tr>\n",
              "    <tr>\n",
              "      <th>50%</th>\n",
              "      <td>2002.000000</td>\n",
              "      <td>78.000000</td>\n",
              "      <td>1284.000000</td>\n",
              "      <td>76.000000</td>\n",
              "      <td>1280.000000</td>\n",
              "      <td>64.000000</td>\n",
              "      <td>0.000000</td>\n",
              "    </tr>\n",
              "    <tr>\n",
              "      <th>75%</th>\n",
              "      <td>2010.000000</td>\n",
              "      <td>103.000000</td>\n",
              "      <td>1379.000000</td>\n",
              "      <td>84.000000</td>\n",
              "      <td>1375.000000</td>\n",
              "      <td>72.000000</td>\n",
              "      <td>0.000000</td>\n",
              "    </tr>\n",
              "    <tr>\n",
              "      <th>max</th>\n",
              "      <td>2016.000000</td>\n",
              "      <td>132.000000</td>\n",
              "      <td>1464.000000</td>\n",
              "      <td>186.000000</td>\n",
              "      <td>1464.000000</td>\n",
              "      <td>150.000000</td>\n",
              "      <td>6.000000</td>\n",
              "    </tr>\n",
              "  </tbody>\n",
              "</table>\n",
              "</div>"
            ],
            "text/plain": [
              "              Season         Daynum  ...         Lscore          Numot\n",
              "count  145289.000000  145289.000000  ...  145289.000000  145289.000000\n",
              "mean     2001.574834      75.223816  ...      64.497009       0.044387\n",
              "std         9.233342      33.287418  ...      11.380625       0.247819\n",
              "min      1985.000000       0.000000  ...      20.000000       0.000000\n",
              "25%      1994.000000      47.000000  ...      57.000000       0.000000\n",
              "50%      2002.000000      78.000000  ...      64.000000       0.000000\n",
              "75%      2010.000000     103.000000  ...      72.000000       0.000000\n",
              "max      2016.000000     132.000000  ...     150.000000       6.000000\n",
              "\n",
              "[8 rows x 7 columns]"
            ]
          },
          "metadata": {
            "tags": []
          },
          "execution_count": 13
        }
      ]
    },
    {
      "cell_type": "code",
      "metadata": {
        "colab": {
          "base_uri": "https://localhost:8080/"
        },
        "id": "KqivkfocMUd6",
        "outputId": "2a7e11e2-ffb2-4b73-9043-db2e1dc9d907"
      },
      "source": [
        "df.max()"
      ],
      "execution_count": 14,
      "outputs": [
        {
          "output_type": "execute_result",
          "data": {
            "text/plain": [
              "Season    2016\n",
              "Daynum     132\n",
              "Wteam     1464\n",
              "Wscore     186\n",
              "Lteam     1464\n",
              "Lscore     150\n",
              "Wloc         N\n",
              "Numot        6\n",
              "dtype: object"
            ]
          },
          "metadata": {
            "tags": []
          },
          "execution_count": 14
        }
      ]
    },
    {
      "cell_type": "code",
      "metadata": {
        "colab": {
          "base_uri": "https://localhost:8080/"
        },
        "id": "sycITzsTMWsR",
        "outputId": "5ad862fe-cf59-4432-c1cb-ecd098121fef"
      },
      "source": [
        "df.min()"
      ],
      "execution_count": 15,
      "outputs": [
        {
          "output_type": "execute_result",
          "data": {
            "text/plain": [
              "Season    1985\n",
              "Daynum       0\n",
              "Wteam     1101\n",
              "Wscore      34\n",
              "Lteam     1101\n",
              "Lscore      20\n",
              "Wloc         A\n",
              "Numot        0\n",
              "dtype: object"
            ]
          },
          "metadata": {
            "tags": []
          },
          "execution_count": 15
        }
      ]
    },
    {
      "cell_type": "code",
      "metadata": {
        "colab": {
          "base_uri": "https://localhost:8080/"
        },
        "id": "5cTN8hDBMYGA",
        "outputId": "55fcd600-d5a6-46e6-f3dc-3fb23860d904"
      },
      "source": [
        "df.mean()"
      ],
      "execution_count": 16,
      "outputs": [
        {
          "output_type": "execute_result",
          "data": {
            "text/plain": [
              "Season    2001.574834\n",
              "Daynum      75.223816\n",
              "Wteam     1286.720646\n",
              "Wscore      76.600321\n",
              "Lteam     1282.864064\n",
              "Lscore      64.497009\n",
              "Numot        0.044387\n",
              "dtype: float64"
            ]
          },
          "metadata": {
            "tags": []
          },
          "execution_count": 16
        }
      ]
    },
    {
      "cell_type": "markdown",
      "metadata": {
        "id": "2Alyi8M0SsW9"
      },
      "source": [
        "# Series"
      ]
    },
    {
      "cell_type": "code",
      "metadata": {
        "colab": {
          "base_uri": "https://localhost:8080/"
        },
        "id": "hCgI9npxSrwt",
        "outputId": "be8a09eb-e4b5-43a6-b7f7-7db45be482b0"
      },
      "source": [
        "df.Wteam"
      ],
      "execution_count": 17,
      "outputs": [
        {
          "output_type": "execute_result",
          "data": {
            "text/plain": [
              "0         1228\n",
              "1         1106\n",
              "2         1112\n",
              "3         1165\n",
              "4         1192\n",
              "          ... \n",
              "145284    1114\n",
              "145285    1163\n",
              "145286    1246\n",
              "145287    1277\n",
              "145288    1386\n",
              "Name: Wteam, Length: 145289, dtype: int64"
            ]
          },
          "metadata": {
            "tags": []
          },
          "execution_count": 17
        }
      ]
    },
    {
      "cell_type": "code",
      "metadata": {
        "colab": {
          "base_uri": "https://localhost:8080/"
        },
        "id": "o6X0NsoSSuOw",
        "outputId": "50e7e010-5351-490e-935b-d52add9ab821"
      },
      "source": [
        "df.Wteam.max()"
      ],
      "execution_count": 18,
      "outputs": [
        {
          "output_type": "execute_result",
          "data": {
            "text/plain": [
              "1464"
            ]
          },
          "metadata": {
            "tags": []
          },
          "execution_count": 18
        }
      ]
    },
    {
      "cell_type": "code",
      "metadata": {
        "colab": {
          "base_uri": "https://localhost:8080/"
        },
        "id": "tNRhSq1US-yh",
        "outputId": "1ebd21d4-71c6-4632-c1fb-a5e11da17606"
      },
      "source": [
        "df.Wteam.min()"
      ],
      "execution_count": 19,
      "outputs": [
        {
          "output_type": "execute_result",
          "data": {
            "text/plain": [
              "1101"
            ]
          },
          "metadata": {
            "tags": []
          },
          "execution_count": 19
        }
      ]
    },
    {
      "cell_type": "code",
      "metadata": {
        "colab": {
          "base_uri": "https://localhost:8080/"
        },
        "id": "enPlHt63TAbN",
        "outputId": "718b7aef-852f-4a01-9a8c-f5d331218a44"
      },
      "source": [
        "df.Wteam.mean()"
      ],
      "execution_count": 20,
      "outputs": [
        {
          "output_type": "execute_result",
          "data": {
            "text/plain": [
              "1286.7206464357246"
            ]
          },
          "metadata": {
            "tags": []
          },
          "execution_count": 20
        }
      ]
    },
    {
      "cell_type": "code",
      "metadata": {
        "colab": {
          "base_uri": "https://localhost:8080/"
        },
        "id": "KCU8zpswTEyj",
        "outputId": "69d40fdc-1897-4c26-da46-60f1187a5053"
      },
      "source": [
        "df['Wteam']"
      ],
      "execution_count": 21,
      "outputs": [
        {
          "output_type": "execute_result",
          "data": {
            "text/plain": [
              "0         1228\n",
              "1         1106\n",
              "2         1112\n",
              "3         1165\n",
              "4         1192\n",
              "          ... \n",
              "145284    1114\n",
              "145285    1163\n",
              "145286    1246\n",
              "145287    1277\n",
              "145288    1386\n",
              "Name: Wteam, Length: 145289, dtype: int64"
            ]
          },
          "metadata": {
            "tags": []
          },
          "execution_count": 21
        }
      ]
    },
    {
      "cell_type": "code",
      "metadata": {
        "colab": {
          "base_uri": "https://localhost:8080/"
        },
        "id": "-HAcnc9yTO2R",
        "outputId": "be4d81e8-87cb-4c34-f2a0-f9134a1623bc"
      },
      "source": [
        "print(type(df.Wteam))\n",
        "print(type(df['Wteam']))"
      ],
      "execution_count": 22,
      "outputs": [
        {
          "output_type": "stream",
          "text": [
            "<class 'pandas.core.series.Series'>\n",
            "<class 'pandas.core.series.Series'>\n"
          ],
          "name": "stdout"
        }
      ]
    },
    {
      "cell_type": "code",
      "metadata": {
        "id": "VM4DKwG7TUzn"
      },
      "source": [
        "df.Wteam\n",
        "df['Wteam']"
      ],
      "execution_count": null,
      "outputs": []
    },
    {
      "cell_type": "code",
      "metadata": {
        "colab": {
          "base_uri": "https://localhost:8080/",
          "height": 140
        },
        "id": "2abdn-IuTqIk",
        "outputId": "cd4c4ef6-a54c-493d-b9f9-012226bf103d"
      },
      "source": [
        "df[82:85]"
      ],
      "execution_count": 23,
      "outputs": [
        {
          "output_type": "execute_result",
          "data": {
            "text/html": [
              "<div>\n",
              "<style scoped>\n",
              "    .dataframe tbody tr th:only-of-type {\n",
              "        vertical-align: middle;\n",
              "    }\n",
              "\n",
              "    .dataframe tbody tr th {\n",
              "        vertical-align: top;\n",
              "    }\n",
              "\n",
              "    .dataframe thead th {\n",
              "        text-align: right;\n",
              "    }\n",
              "</style>\n",
              "<table border=\"1\" class=\"dataframe\">\n",
              "  <thead>\n",
              "    <tr style=\"text-align: right;\">\n",
              "      <th></th>\n",
              "      <th>Season</th>\n",
              "      <th>Daynum</th>\n",
              "      <th>Wteam</th>\n",
              "      <th>Wscore</th>\n",
              "      <th>Lteam</th>\n",
              "      <th>Lscore</th>\n",
              "      <th>Wloc</th>\n",
              "      <th>Numot</th>\n",
              "    </tr>\n",
              "  </thead>\n",
              "  <tbody>\n",
              "    <tr>\n",
              "      <th>82</th>\n",
              "      <td>1985</td>\n",
              "      <td>28</td>\n",
              "      <td>1464</td>\n",
              "      <td>71</td>\n",
              "      <td>1134</td>\n",
              "      <td>58</td>\n",
              "      <td>H</td>\n",
              "      <td>0</td>\n",
              "    </tr>\n",
              "    <tr>\n",
              "      <th>83</th>\n",
              "      <td>1985</td>\n",
              "      <td>29</td>\n",
              "      <td>1116</td>\n",
              "      <td>59</td>\n",
              "      <td>1416</td>\n",
              "      <td>45</td>\n",
              "      <td>N</td>\n",
              "      <td>0</td>\n",
              "    </tr>\n",
              "    <tr>\n",
              "      <th>84</th>\n",
              "      <td>1985</td>\n",
              "      <td>29</td>\n",
              "      <td>1124</td>\n",
              "      <td>99</td>\n",
              "      <td>1341</td>\n",
              "      <td>77</td>\n",
              "      <td>H</td>\n",
              "      <td>0</td>\n",
              "    </tr>\n",
              "  </tbody>\n",
              "</table>\n",
              "</div>"
            ],
            "text/plain": [
              "    Season  Daynum  Wteam  Wscore  Lteam  Lscore Wloc  Numot\n",
              "82    1985      28   1464      71   1134      58    H      0\n",
              "83    1985      29   1116      59   1416      45    N      0\n",
              "84    1985      29   1124      99   1341      77    H      0"
            ]
          },
          "metadata": {
            "tags": []
          },
          "execution_count": 23
        }
      ]
    },
    {
      "cell_type": "code",
      "metadata": {
        "colab": {
          "base_uri": "https://localhost:8080/",
          "height": 201
        },
        "id": "B4Ctx9CXTtXf",
        "outputId": "1102d78b-93ff-4f77-e9b2-93cb41ff1300"
      },
      "source": [
        "df.head()"
      ],
      "execution_count": 24,
      "outputs": [
        {
          "output_type": "execute_result",
          "data": {
            "text/html": [
              "<div>\n",
              "<style scoped>\n",
              "    .dataframe tbody tr th:only-of-type {\n",
              "        vertical-align: middle;\n",
              "    }\n",
              "\n",
              "    .dataframe tbody tr th {\n",
              "        vertical-align: top;\n",
              "    }\n",
              "\n",
              "    .dataframe thead th {\n",
              "        text-align: right;\n",
              "    }\n",
              "</style>\n",
              "<table border=\"1\" class=\"dataframe\">\n",
              "  <thead>\n",
              "    <tr style=\"text-align: right;\">\n",
              "      <th></th>\n",
              "      <th>Season</th>\n",
              "      <th>Daynum</th>\n",
              "      <th>Wteam</th>\n",
              "      <th>Wscore</th>\n",
              "      <th>Lteam</th>\n",
              "      <th>Lscore</th>\n",
              "      <th>Wloc</th>\n",
              "      <th>Numot</th>\n",
              "    </tr>\n",
              "  </thead>\n",
              "  <tbody>\n",
              "    <tr>\n",
              "      <th>0</th>\n",
              "      <td>1985</td>\n",
              "      <td>20</td>\n",
              "      <td>1228</td>\n",
              "      <td>81</td>\n",
              "      <td>1328</td>\n",
              "      <td>64</td>\n",
              "      <td>N</td>\n",
              "      <td>0</td>\n",
              "    </tr>\n",
              "    <tr>\n",
              "      <th>1</th>\n",
              "      <td>1985</td>\n",
              "      <td>25</td>\n",
              "      <td>1106</td>\n",
              "      <td>77</td>\n",
              "      <td>1354</td>\n",
              "      <td>70</td>\n",
              "      <td>H</td>\n",
              "      <td>0</td>\n",
              "    </tr>\n",
              "    <tr>\n",
              "      <th>2</th>\n",
              "      <td>1985</td>\n",
              "      <td>25</td>\n",
              "      <td>1112</td>\n",
              "      <td>63</td>\n",
              "      <td>1223</td>\n",
              "      <td>56</td>\n",
              "      <td>H</td>\n",
              "      <td>0</td>\n",
              "    </tr>\n",
              "    <tr>\n",
              "      <th>3</th>\n",
              "      <td>1985</td>\n",
              "      <td>25</td>\n",
              "      <td>1165</td>\n",
              "      <td>70</td>\n",
              "      <td>1432</td>\n",
              "      <td>54</td>\n",
              "      <td>H</td>\n",
              "      <td>0</td>\n",
              "    </tr>\n",
              "    <tr>\n",
              "      <th>4</th>\n",
              "      <td>1985</td>\n",
              "      <td>25</td>\n",
              "      <td>1192</td>\n",
              "      <td>86</td>\n",
              "      <td>1447</td>\n",
              "      <td>74</td>\n",
              "      <td>H</td>\n",
              "      <td>0</td>\n",
              "    </tr>\n",
              "  </tbody>\n",
              "</table>\n",
              "</div>"
            ],
            "text/plain": [
              "   Season  Daynum  Wteam  Wscore  Lteam  Lscore Wloc  Numot\n",
              "0    1985      20   1228      81   1328      64    N      0\n",
              "1    1985      25   1106      77   1354      70    H      0\n",
              "2    1985      25   1112      63   1223      56    H      0\n",
              "3    1985      25   1165      70   1432      54    H      0\n",
              "4    1985      25   1192      86   1447      74    H      0"
            ]
          },
          "metadata": {
            "tags": []
          },
          "execution_count": 24
        }
      ]
    },
    {
      "cell_type": "code",
      "metadata": {
        "colab": {
          "base_uri": "https://localhost:8080/",
          "height": 201
        },
        "id": "KOX0IIElTv_5",
        "outputId": "d5eb9179-5774-438c-9694-3f263399d5ec"
      },
      "source": [
        "df[0:5]"
      ],
      "execution_count": 25,
      "outputs": [
        {
          "output_type": "execute_result",
          "data": {
            "text/html": [
              "<div>\n",
              "<style scoped>\n",
              "    .dataframe tbody tr th:only-of-type {\n",
              "        vertical-align: middle;\n",
              "    }\n",
              "\n",
              "    .dataframe tbody tr th {\n",
              "        vertical-align: top;\n",
              "    }\n",
              "\n",
              "    .dataframe thead th {\n",
              "        text-align: right;\n",
              "    }\n",
              "</style>\n",
              "<table border=\"1\" class=\"dataframe\">\n",
              "  <thead>\n",
              "    <tr style=\"text-align: right;\">\n",
              "      <th></th>\n",
              "      <th>Season</th>\n",
              "      <th>Daynum</th>\n",
              "      <th>Wteam</th>\n",
              "      <th>Wscore</th>\n",
              "      <th>Lteam</th>\n",
              "      <th>Lscore</th>\n",
              "      <th>Wloc</th>\n",
              "      <th>Numot</th>\n",
              "    </tr>\n",
              "  </thead>\n",
              "  <tbody>\n",
              "    <tr>\n",
              "      <th>0</th>\n",
              "      <td>1985</td>\n",
              "      <td>20</td>\n",
              "      <td>1228</td>\n",
              "      <td>81</td>\n",
              "      <td>1328</td>\n",
              "      <td>64</td>\n",
              "      <td>N</td>\n",
              "      <td>0</td>\n",
              "    </tr>\n",
              "    <tr>\n",
              "      <th>1</th>\n",
              "      <td>1985</td>\n",
              "      <td>25</td>\n",
              "      <td>1106</td>\n",
              "      <td>77</td>\n",
              "      <td>1354</td>\n",
              "      <td>70</td>\n",
              "      <td>H</td>\n",
              "      <td>0</td>\n",
              "    </tr>\n",
              "    <tr>\n",
              "      <th>2</th>\n",
              "      <td>1985</td>\n",
              "      <td>25</td>\n",
              "      <td>1112</td>\n",
              "      <td>63</td>\n",
              "      <td>1223</td>\n",
              "      <td>56</td>\n",
              "      <td>H</td>\n",
              "      <td>0</td>\n",
              "    </tr>\n",
              "    <tr>\n",
              "      <th>3</th>\n",
              "      <td>1985</td>\n",
              "      <td>25</td>\n",
              "      <td>1165</td>\n",
              "      <td>70</td>\n",
              "      <td>1432</td>\n",
              "      <td>54</td>\n",
              "      <td>H</td>\n",
              "      <td>0</td>\n",
              "    </tr>\n",
              "    <tr>\n",
              "      <th>4</th>\n",
              "      <td>1985</td>\n",
              "      <td>25</td>\n",
              "      <td>1192</td>\n",
              "      <td>86</td>\n",
              "      <td>1447</td>\n",
              "      <td>74</td>\n",
              "      <td>H</td>\n",
              "      <td>0</td>\n",
              "    </tr>\n",
              "  </tbody>\n",
              "</table>\n",
              "</div>"
            ],
            "text/plain": [
              "   Season  Daynum  Wteam  Wscore  Lteam  Lscore Wloc  Numot\n",
              "0    1985      20   1228      81   1328      64    N      0\n",
              "1    1985      25   1106      77   1354      70    H      0\n",
              "2    1985      25   1112      63   1223      56    H      0\n",
              "3    1985      25   1165      70   1432      54    H      0\n",
              "4    1985      25   1192      86   1447      74    H      0"
            ]
          },
          "metadata": {
            "tags": []
          },
          "execution_count": 25
        }
      ]
    },
    {
      "cell_type": "code",
      "metadata": {
        "colab": {
          "base_uri": "https://localhost:8080/",
          "height": 140
        },
        "id": "cQfebz1sT65Y",
        "outputId": "59645876-93a2-4ce9-96d3-e9968f5d9e89"
      },
      "source": [
        "df[2:5]"
      ],
      "execution_count": 26,
      "outputs": [
        {
          "output_type": "execute_result",
          "data": {
            "text/html": [
              "<div>\n",
              "<style scoped>\n",
              "    .dataframe tbody tr th:only-of-type {\n",
              "        vertical-align: middle;\n",
              "    }\n",
              "\n",
              "    .dataframe tbody tr th {\n",
              "        vertical-align: top;\n",
              "    }\n",
              "\n",
              "    .dataframe thead th {\n",
              "        text-align: right;\n",
              "    }\n",
              "</style>\n",
              "<table border=\"1\" class=\"dataframe\">\n",
              "  <thead>\n",
              "    <tr style=\"text-align: right;\">\n",
              "      <th></th>\n",
              "      <th>Season</th>\n",
              "      <th>Daynum</th>\n",
              "      <th>Wteam</th>\n",
              "      <th>Wscore</th>\n",
              "      <th>Lteam</th>\n",
              "      <th>Lscore</th>\n",
              "      <th>Wloc</th>\n",
              "      <th>Numot</th>\n",
              "    </tr>\n",
              "  </thead>\n",
              "  <tbody>\n",
              "    <tr>\n",
              "      <th>2</th>\n",
              "      <td>1985</td>\n",
              "      <td>25</td>\n",
              "      <td>1112</td>\n",
              "      <td>63</td>\n",
              "      <td>1223</td>\n",
              "      <td>56</td>\n",
              "      <td>H</td>\n",
              "      <td>0</td>\n",
              "    </tr>\n",
              "    <tr>\n",
              "      <th>3</th>\n",
              "      <td>1985</td>\n",
              "      <td>25</td>\n",
              "      <td>1165</td>\n",
              "      <td>70</td>\n",
              "      <td>1432</td>\n",
              "      <td>54</td>\n",
              "      <td>H</td>\n",
              "      <td>0</td>\n",
              "    </tr>\n",
              "    <tr>\n",
              "      <th>4</th>\n",
              "      <td>1985</td>\n",
              "      <td>25</td>\n",
              "      <td>1192</td>\n",
              "      <td>86</td>\n",
              "      <td>1447</td>\n",
              "      <td>74</td>\n",
              "      <td>H</td>\n",
              "      <td>0</td>\n",
              "    </tr>\n",
              "  </tbody>\n",
              "</table>\n",
              "</div>"
            ],
            "text/plain": [
              "   Season  Daynum  Wteam  Wscore  Lteam  Lscore Wloc  Numot\n",
              "2    1985      25   1112      63   1223      56    H      0\n",
              "3    1985      25   1165      70   1432      54    H      0\n",
              "4    1985      25   1192      86   1447      74    H      0"
            ]
          },
          "metadata": {
            "tags": []
          },
          "execution_count": 26
        }
      ]
    },
    {
      "cell_type": "code",
      "metadata": {
        "colab": {
          "base_uri": "https://localhost:8080/",
          "height": 140
        },
        "id": "e6P2thhkUGR8",
        "outputId": "8e2ba973-3f82-4699-e162-72293f7f8abd"
      },
      "source": [
        "df[:3]"
      ],
      "execution_count": 27,
      "outputs": [
        {
          "output_type": "execute_result",
          "data": {
            "text/html": [
              "<div>\n",
              "<style scoped>\n",
              "    .dataframe tbody tr th:only-of-type {\n",
              "        vertical-align: middle;\n",
              "    }\n",
              "\n",
              "    .dataframe tbody tr th {\n",
              "        vertical-align: top;\n",
              "    }\n",
              "\n",
              "    .dataframe thead th {\n",
              "        text-align: right;\n",
              "    }\n",
              "</style>\n",
              "<table border=\"1\" class=\"dataframe\">\n",
              "  <thead>\n",
              "    <tr style=\"text-align: right;\">\n",
              "      <th></th>\n",
              "      <th>Season</th>\n",
              "      <th>Daynum</th>\n",
              "      <th>Wteam</th>\n",
              "      <th>Wscore</th>\n",
              "      <th>Lteam</th>\n",
              "      <th>Lscore</th>\n",
              "      <th>Wloc</th>\n",
              "      <th>Numot</th>\n",
              "    </tr>\n",
              "  </thead>\n",
              "  <tbody>\n",
              "    <tr>\n",
              "      <th>0</th>\n",
              "      <td>1985</td>\n",
              "      <td>20</td>\n",
              "      <td>1228</td>\n",
              "      <td>81</td>\n",
              "      <td>1328</td>\n",
              "      <td>64</td>\n",
              "      <td>N</td>\n",
              "      <td>0</td>\n",
              "    </tr>\n",
              "    <tr>\n",
              "      <th>1</th>\n",
              "      <td>1985</td>\n",
              "      <td>25</td>\n",
              "      <td>1106</td>\n",
              "      <td>77</td>\n",
              "      <td>1354</td>\n",
              "      <td>70</td>\n",
              "      <td>H</td>\n",
              "      <td>0</td>\n",
              "    </tr>\n",
              "    <tr>\n",
              "      <th>2</th>\n",
              "      <td>1985</td>\n",
              "      <td>25</td>\n",
              "      <td>1112</td>\n",
              "      <td>63</td>\n",
              "      <td>1223</td>\n",
              "      <td>56</td>\n",
              "      <td>H</td>\n",
              "      <td>0</td>\n",
              "    </tr>\n",
              "  </tbody>\n",
              "</table>\n",
              "</div>"
            ],
            "text/plain": [
              "   Season  Daynum  Wteam  Wscore  Lteam  Lscore Wloc  Numot\n",
              "0    1985      20   1228      81   1328      64    N      0\n",
              "1    1985      25   1106      77   1354      70    H      0\n",
              "2    1985      25   1112      63   1223      56    H      0"
            ]
          },
          "metadata": {
            "tags": []
          },
          "execution_count": 27
        }
      ]
    },
    {
      "cell_type": "code",
      "metadata": {
        "colab": {
          "base_uri": "https://localhost:8080/",
          "height": 140
        },
        "id": "Bf4iByEnULUS",
        "outputId": "df583412-cc95-4564-d2f7-784c2892568b"
      },
      "source": [
        "df[145289-3:]"
      ],
      "execution_count": 28,
      "outputs": [
        {
          "output_type": "execute_result",
          "data": {
            "text/html": [
              "<div>\n",
              "<style scoped>\n",
              "    .dataframe tbody tr th:only-of-type {\n",
              "        vertical-align: middle;\n",
              "    }\n",
              "\n",
              "    .dataframe tbody tr th {\n",
              "        vertical-align: top;\n",
              "    }\n",
              "\n",
              "    .dataframe thead th {\n",
              "        text-align: right;\n",
              "    }\n",
              "</style>\n",
              "<table border=\"1\" class=\"dataframe\">\n",
              "  <thead>\n",
              "    <tr style=\"text-align: right;\">\n",
              "      <th></th>\n",
              "      <th>Season</th>\n",
              "      <th>Daynum</th>\n",
              "      <th>Wteam</th>\n",
              "      <th>Wscore</th>\n",
              "      <th>Lteam</th>\n",
              "      <th>Lscore</th>\n",
              "      <th>Wloc</th>\n",
              "      <th>Numot</th>\n",
              "    </tr>\n",
              "  </thead>\n",
              "  <tbody>\n",
              "    <tr>\n",
              "      <th>145286</th>\n",
              "      <td>2016</td>\n",
              "      <td>132</td>\n",
              "      <td>1246</td>\n",
              "      <td>82</td>\n",
              "      <td>1401</td>\n",
              "      <td>77</td>\n",
              "      <td>N</td>\n",
              "      <td>1</td>\n",
              "    </tr>\n",
              "    <tr>\n",
              "      <th>145287</th>\n",
              "      <td>2016</td>\n",
              "      <td>132</td>\n",
              "      <td>1277</td>\n",
              "      <td>66</td>\n",
              "      <td>1345</td>\n",
              "      <td>62</td>\n",
              "      <td>N</td>\n",
              "      <td>0</td>\n",
              "    </tr>\n",
              "    <tr>\n",
              "      <th>145288</th>\n",
              "      <td>2016</td>\n",
              "      <td>132</td>\n",
              "      <td>1386</td>\n",
              "      <td>87</td>\n",
              "      <td>1433</td>\n",
              "      <td>74</td>\n",
              "      <td>N</td>\n",
              "      <td>0</td>\n",
              "    </tr>\n",
              "  </tbody>\n",
              "</table>\n",
              "</div>"
            ],
            "text/plain": [
              "        Season  Daynum  Wteam  Wscore  Lteam  Lscore Wloc  Numot\n",
              "145286    2016     132   1246      82   1401      77    N      1\n",
              "145287    2016     132   1277      66   1345      62    N      0\n",
              "145288    2016     132   1386      87   1433      74    N      0"
            ]
          },
          "metadata": {
            "tags": []
          },
          "execution_count": 28
        }
      ]
    },
    {
      "cell_type": "code",
      "metadata": {
        "colab": {
          "base_uri": "https://localhost:8080/",
          "height": 140
        },
        "id": "KOWSLh7xURHP",
        "outputId": "bda5ac86-ddd7-4ae1-8288-12edcabf26c1"
      },
      "source": [
        "df[-3:]"
      ],
      "execution_count": 29,
      "outputs": [
        {
          "output_type": "execute_result",
          "data": {
            "text/html": [
              "<div>\n",
              "<style scoped>\n",
              "    .dataframe tbody tr th:only-of-type {\n",
              "        vertical-align: middle;\n",
              "    }\n",
              "\n",
              "    .dataframe tbody tr th {\n",
              "        vertical-align: top;\n",
              "    }\n",
              "\n",
              "    .dataframe thead th {\n",
              "        text-align: right;\n",
              "    }\n",
              "</style>\n",
              "<table border=\"1\" class=\"dataframe\">\n",
              "  <thead>\n",
              "    <tr style=\"text-align: right;\">\n",
              "      <th></th>\n",
              "      <th>Season</th>\n",
              "      <th>Daynum</th>\n",
              "      <th>Wteam</th>\n",
              "      <th>Wscore</th>\n",
              "      <th>Lteam</th>\n",
              "      <th>Lscore</th>\n",
              "      <th>Wloc</th>\n",
              "      <th>Numot</th>\n",
              "    </tr>\n",
              "  </thead>\n",
              "  <tbody>\n",
              "    <tr>\n",
              "      <th>145286</th>\n",
              "      <td>2016</td>\n",
              "      <td>132</td>\n",
              "      <td>1246</td>\n",
              "      <td>82</td>\n",
              "      <td>1401</td>\n",
              "      <td>77</td>\n",
              "      <td>N</td>\n",
              "      <td>1</td>\n",
              "    </tr>\n",
              "    <tr>\n",
              "      <th>145287</th>\n",
              "      <td>2016</td>\n",
              "      <td>132</td>\n",
              "      <td>1277</td>\n",
              "      <td>66</td>\n",
              "      <td>1345</td>\n",
              "      <td>62</td>\n",
              "      <td>N</td>\n",
              "      <td>0</td>\n",
              "    </tr>\n",
              "    <tr>\n",
              "      <th>145288</th>\n",
              "      <td>2016</td>\n",
              "      <td>132</td>\n",
              "      <td>1386</td>\n",
              "      <td>87</td>\n",
              "      <td>1433</td>\n",
              "      <td>74</td>\n",
              "      <td>N</td>\n",
              "      <td>0</td>\n",
              "    </tr>\n",
              "  </tbody>\n",
              "</table>\n",
              "</div>"
            ],
            "text/plain": [
              "        Season  Daynum  Wteam  Wscore  Lteam  Lscore Wloc  Numot\n",
              "145286    2016     132   1246      82   1401      77    N      1\n",
              "145287    2016     132   1277      66   1345      62    N      0\n",
              "145288    2016     132   1386      87   1433      74    N      0"
            ]
          },
          "metadata": {
            "tags": []
          },
          "execution_count": 29
        }
      ]
    },
    {
      "cell_type": "code",
      "metadata": {
        "colab": {
          "base_uri": "https://localhost:8080/"
        },
        "id": "JS5tdUw7UTzE",
        "outputId": "49de8f6f-3979-423f-d4e0-a6c0b472bddc"
      },
      "source": [
        "l = [ 0, 1, 2, 3, 4]\n",
        "print(l[-3:])"
      ],
      "execution_count": 30,
      "outputs": [
        {
          "output_type": "stream",
          "text": [
            "[2, 3, 4]\n"
          ],
          "name": "stdout"
        }
      ]
    },
    {
      "cell_type": "code",
      "metadata": {
        "colab": {
          "base_uri": "https://localhost:8080/",
          "height": 414
        },
        "id": "JSIRuQoiUatE",
        "outputId": "23b1e797-7e35-4675-ed70-d76592dc9b7e"
      },
      "source": [
        "df[:]"
      ],
      "execution_count": 31,
      "outputs": [
        {
          "output_type": "execute_result",
          "data": {
            "text/html": [
              "<div>\n",
              "<style scoped>\n",
              "    .dataframe tbody tr th:only-of-type {\n",
              "        vertical-align: middle;\n",
              "    }\n",
              "\n",
              "    .dataframe tbody tr th {\n",
              "        vertical-align: top;\n",
              "    }\n",
              "\n",
              "    .dataframe thead th {\n",
              "        text-align: right;\n",
              "    }\n",
              "</style>\n",
              "<table border=\"1\" class=\"dataframe\">\n",
              "  <thead>\n",
              "    <tr style=\"text-align: right;\">\n",
              "      <th></th>\n",
              "      <th>Season</th>\n",
              "      <th>Daynum</th>\n",
              "      <th>Wteam</th>\n",
              "      <th>Wscore</th>\n",
              "      <th>Lteam</th>\n",
              "      <th>Lscore</th>\n",
              "      <th>Wloc</th>\n",
              "      <th>Numot</th>\n",
              "    </tr>\n",
              "  </thead>\n",
              "  <tbody>\n",
              "    <tr>\n",
              "      <th>0</th>\n",
              "      <td>1985</td>\n",
              "      <td>20</td>\n",
              "      <td>1228</td>\n",
              "      <td>81</td>\n",
              "      <td>1328</td>\n",
              "      <td>64</td>\n",
              "      <td>N</td>\n",
              "      <td>0</td>\n",
              "    </tr>\n",
              "    <tr>\n",
              "      <th>1</th>\n",
              "      <td>1985</td>\n",
              "      <td>25</td>\n",
              "      <td>1106</td>\n",
              "      <td>77</td>\n",
              "      <td>1354</td>\n",
              "      <td>70</td>\n",
              "      <td>H</td>\n",
              "      <td>0</td>\n",
              "    </tr>\n",
              "    <tr>\n",
              "      <th>2</th>\n",
              "      <td>1985</td>\n",
              "      <td>25</td>\n",
              "      <td>1112</td>\n",
              "      <td>63</td>\n",
              "      <td>1223</td>\n",
              "      <td>56</td>\n",
              "      <td>H</td>\n",
              "      <td>0</td>\n",
              "    </tr>\n",
              "    <tr>\n",
              "      <th>3</th>\n",
              "      <td>1985</td>\n",
              "      <td>25</td>\n",
              "      <td>1165</td>\n",
              "      <td>70</td>\n",
              "      <td>1432</td>\n",
              "      <td>54</td>\n",
              "      <td>H</td>\n",
              "      <td>0</td>\n",
              "    </tr>\n",
              "    <tr>\n",
              "      <th>4</th>\n",
              "      <td>1985</td>\n",
              "      <td>25</td>\n",
              "      <td>1192</td>\n",
              "      <td>86</td>\n",
              "      <td>1447</td>\n",
              "      <td>74</td>\n",
              "      <td>H</td>\n",
              "      <td>0</td>\n",
              "    </tr>\n",
              "    <tr>\n",
              "      <th>...</th>\n",
              "      <td>...</td>\n",
              "      <td>...</td>\n",
              "      <td>...</td>\n",
              "      <td>...</td>\n",
              "      <td>...</td>\n",
              "      <td>...</td>\n",
              "      <td>...</td>\n",
              "      <td>...</td>\n",
              "    </tr>\n",
              "    <tr>\n",
              "      <th>145284</th>\n",
              "      <td>2016</td>\n",
              "      <td>132</td>\n",
              "      <td>1114</td>\n",
              "      <td>70</td>\n",
              "      <td>1419</td>\n",
              "      <td>50</td>\n",
              "      <td>N</td>\n",
              "      <td>0</td>\n",
              "    </tr>\n",
              "    <tr>\n",
              "      <th>145285</th>\n",
              "      <td>2016</td>\n",
              "      <td>132</td>\n",
              "      <td>1163</td>\n",
              "      <td>72</td>\n",
              "      <td>1272</td>\n",
              "      <td>58</td>\n",
              "      <td>N</td>\n",
              "      <td>0</td>\n",
              "    </tr>\n",
              "    <tr>\n",
              "      <th>145286</th>\n",
              "      <td>2016</td>\n",
              "      <td>132</td>\n",
              "      <td>1246</td>\n",
              "      <td>82</td>\n",
              "      <td>1401</td>\n",
              "      <td>77</td>\n",
              "      <td>N</td>\n",
              "      <td>1</td>\n",
              "    </tr>\n",
              "    <tr>\n",
              "      <th>145287</th>\n",
              "      <td>2016</td>\n",
              "      <td>132</td>\n",
              "      <td>1277</td>\n",
              "      <td>66</td>\n",
              "      <td>1345</td>\n",
              "      <td>62</td>\n",
              "      <td>N</td>\n",
              "      <td>0</td>\n",
              "    </tr>\n",
              "    <tr>\n",
              "      <th>145288</th>\n",
              "      <td>2016</td>\n",
              "      <td>132</td>\n",
              "      <td>1386</td>\n",
              "      <td>87</td>\n",
              "      <td>1433</td>\n",
              "      <td>74</td>\n",
              "      <td>N</td>\n",
              "      <td>0</td>\n",
              "    </tr>\n",
              "  </tbody>\n",
              "</table>\n",
              "<p>145289 rows × 8 columns</p>\n",
              "</div>"
            ],
            "text/plain": [
              "        Season  Daynum  Wteam  Wscore  Lteam  Lscore Wloc  Numot\n",
              "0         1985      20   1228      81   1328      64    N      0\n",
              "1         1985      25   1106      77   1354      70    H      0\n",
              "2         1985      25   1112      63   1223      56    H      0\n",
              "3         1985      25   1165      70   1432      54    H      0\n",
              "4         1985      25   1192      86   1447      74    H      0\n",
              "...        ...     ...    ...     ...    ...     ...  ...    ...\n",
              "145284    2016     132   1114      70   1419      50    N      0\n",
              "145285    2016     132   1163      72   1272      58    N      0\n",
              "145286    2016     132   1246      82   1401      77    N      1\n",
              "145287    2016     132   1277      66   1345      62    N      0\n",
              "145288    2016     132   1386      87   1433      74    N      0\n",
              "\n",
              "[145289 rows x 8 columns]"
            ]
          },
          "metadata": {
            "tags": []
          },
          "execution_count": 31
        }
      ]
    },
    {
      "cell_type": "code",
      "metadata": {
        "id": "sTDvE42qU4SW"
      },
      "source": [
        "df = pd.read_csv(\"RegularSeasonCompactResults.csv\")"
      ],
      "execution_count": null,
      "outputs": []
    },
    {
      "cell_type": "code",
      "metadata": {
        "id": "DM5pSUoNUsg0"
      },
      "source": [
        "result = pd.read_csv(\"RegularSeasonCompactResults.csv\")"
      ],
      "execution_count": 32,
      "outputs": []
    },
    {
      "cell_type": "code",
      "metadata": {
        "id": "74mZkPhAVA8h"
      },
      "source": [
        "df1 = pd.read_csv(\"RegularSeasonCompactResults.csv\")\n",
        "df2 = pd.read_csv(\"RegularSeasonCompactResults.csv\")"
      ],
      "execution_count": null,
      "outputs": []
    },
    {
      "cell_type": "code",
      "metadata": {
        "colab": {
          "base_uri": "https://localhost:8080/"
        },
        "id": "h4uLhoxcUuKC",
        "outputId": "1ca9f05a-8444-4b7d-a0ba-46c89b192e58"
      },
      "source": [
        "result.info()"
      ],
      "execution_count": 33,
      "outputs": [
        {
          "output_type": "stream",
          "text": [
            "<class 'pandas.core.frame.DataFrame'>\n",
            "RangeIndex: 145289 entries, 0 to 145288\n",
            "Data columns (total 8 columns):\n",
            " #   Column  Non-Null Count   Dtype \n",
            "---  ------  --------------   ----- \n",
            " 0   Season  145289 non-null  int64 \n",
            " 1   Daynum  145289 non-null  int64 \n",
            " 2   Wteam   145289 non-null  int64 \n",
            " 3   Wscore  145289 non-null  int64 \n",
            " 4   Lteam   145289 non-null  int64 \n",
            " 5   Lscore  145289 non-null  int64 \n",
            " 6   Wloc    145289 non-null  object\n",
            " 7   Numot   145289 non-null  int64 \n",
            "dtypes: int64(7), object(1)\n",
            "memory usage: 8.9+ MB\n"
          ],
          "name": "stdout"
        }
      ]
    },
    {
      "cell_type": "code",
      "metadata": {
        "id": "KDEwU_slUvke"
      },
      "source": [
        "sub_df = df[1000:]"
      ],
      "execution_count": 34,
      "outputs": []
    },
    {
      "cell_type": "code",
      "metadata": {
        "colab": {
          "base_uri": "https://localhost:8080/"
        },
        "id": "cWwDIshFVTQc",
        "outputId": "f559f08d-f0fe-4e02-c2cd-6bde3335b21f"
      },
      "source": [
        "df.info()"
      ],
      "execution_count": 37,
      "outputs": [
        {
          "output_type": "stream",
          "text": [
            "<class 'pandas.core.frame.DataFrame'>\n",
            "RangeIndex: 145289 entries, 0 to 145288\n",
            "Data columns (total 8 columns):\n",
            " #   Column  Non-Null Count   Dtype \n",
            "---  ------  --------------   ----- \n",
            " 0   Season  145289 non-null  int64 \n",
            " 1   Daynum  145289 non-null  int64 \n",
            " 2   Wteam   145289 non-null  int64 \n",
            " 3   Wscore  145289 non-null  int64 \n",
            " 4   Lteam   145289 non-null  int64 \n",
            " 5   Lscore  145289 non-null  int64 \n",
            " 6   Wloc    145289 non-null  object\n",
            " 7   Numot   145289 non-null  int64 \n",
            "dtypes: int64(7), object(1)\n",
            "memory usage: 8.9+ MB\n"
          ],
          "name": "stdout"
        }
      ]
    },
    {
      "cell_type": "code",
      "metadata": {
        "colab": {
          "base_uri": "https://localhost:8080/",
          "height": 414
        },
        "id": "0eFyaKl1XHpu",
        "outputId": "2c60dd02-a112-4cb5-846c-a9e91ca69b50"
      },
      "source": [
        "df"
      ],
      "execution_count": 44,
      "outputs": [
        {
          "output_type": "execute_result",
          "data": {
            "text/html": [
              "<div>\n",
              "<style scoped>\n",
              "    .dataframe tbody tr th:only-of-type {\n",
              "        vertical-align: middle;\n",
              "    }\n",
              "\n",
              "    .dataframe tbody tr th {\n",
              "        vertical-align: top;\n",
              "    }\n",
              "\n",
              "    .dataframe thead th {\n",
              "        text-align: right;\n",
              "    }\n",
              "</style>\n",
              "<table border=\"1\" class=\"dataframe\">\n",
              "  <thead>\n",
              "    <tr style=\"text-align: right;\">\n",
              "      <th></th>\n",
              "      <th>Season</th>\n",
              "      <th>Daynum</th>\n",
              "      <th>Wteam</th>\n",
              "      <th>Wscore</th>\n",
              "      <th>Lteam</th>\n",
              "      <th>Lscore</th>\n",
              "      <th>Wloc</th>\n",
              "      <th>Numot</th>\n",
              "    </tr>\n",
              "  </thead>\n",
              "  <tbody>\n",
              "    <tr>\n",
              "      <th>0</th>\n",
              "      <td>1985</td>\n",
              "      <td>20</td>\n",
              "      <td>1228</td>\n",
              "      <td>81</td>\n",
              "      <td>1328</td>\n",
              "      <td>64</td>\n",
              "      <td>N</td>\n",
              "      <td>0</td>\n",
              "    </tr>\n",
              "    <tr>\n",
              "      <th>1</th>\n",
              "      <td>1985</td>\n",
              "      <td>25</td>\n",
              "      <td>1106</td>\n",
              "      <td>77</td>\n",
              "      <td>1354</td>\n",
              "      <td>70</td>\n",
              "      <td>H</td>\n",
              "      <td>0</td>\n",
              "    </tr>\n",
              "    <tr>\n",
              "      <th>2</th>\n",
              "      <td>1985</td>\n",
              "      <td>25</td>\n",
              "      <td>1112</td>\n",
              "      <td>63</td>\n",
              "      <td>1223</td>\n",
              "      <td>56</td>\n",
              "      <td>H</td>\n",
              "      <td>0</td>\n",
              "    </tr>\n",
              "    <tr>\n",
              "      <th>3</th>\n",
              "      <td>1985</td>\n",
              "      <td>25</td>\n",
              "      <td>1165</td>\n",
              "      <td>70</td>\n",
              "      <td>1432</td>\n",
              "      <td>54</td>\n",
              "      <td>H</td>\n",
              "      <td>0</td>\n",
              "    </tr>\n",
              "    <tr>\n",
              "      <th>4</th>\n",
              "      <td>1985</td>\n",
              "      <td>25</td>\n",
              "      <td>1192</td>\n",
              "      <td>86</td>\n",
              "      <td>1447</td>\n",
              "      <td>74</td>\n",
              "      <td>H</td>\n",
              "      <td>0</td>\n",
              "    </tr>\n",
              "    <tr>\n",
              "      <th>...</th>\n",
              "      <td>...</td>\n",
              "      <td>...</td>\n",
              "      <td>...</td>\n",
              "      <td>...</td>\n",
              "      <td>...</td>\n",
              "      <td>...</td>\n",
              "      <td>...</td>\n",
              "      <td>...</td>\n",
              "    </tr>\n",
              "    <tr>\n",
              "      <th>145284</th>\n",
              "      <td>2016</td>\n",
              "      <td>132</td>\n",
              "      <td>1114</td>\n",
              "      <td>70</td>\n",
              "      <td>1419</td>\n",
              "      <td>50</td>\n",
              "      <td>N</td>\n",
              "      <td>0</td>\n",
              "    </tr>\n",
              "    <tr>\n",
              "      <th>145285</th>\n",
              "      <td>2016</td>\n",
              "      <td>132</td>\n",
              "      <td>1163</td>\n",
              "      <td>72</td>\n",
              "      <td>1272</td>\n",
              "      <td>58</td>\n",
              "      <td>N</td>\n",
              "      <td>0</td>\n",
              "    </tr>\n",
              "    <tr>\n",
              "      <th>145286</th>\n",
              "      <td>2016</td>\n",
              "      <td>132</td>\n",
              "      <td>1246</td>\n",
              "      <td>82</td>\n",
              "      <td>1401</td>\n",
              "      <td>77</td>\n",
              "      <td>N</td>\n",
              "      <td>1</td>\n",
              "    </tr>\n",
              "    <tr>\n",
              "      <th>145287</th>\n",
              "      <td>2016</td>\n",
              "      <td>132</td>\n",
              "      <td>1277</td>\n",
              "      <td>66</td>\n",
              "      <td>1345</td>\n",
              "      <td>62</td>\n",
              "      <td>N</td>\n",
              "      <td>0</td>\n",
              "    </tr>\n",
              "    <tr>\n",
              "      <th>145288</th>\n",
              "      <td>2016</td>\n",
              "      <td>132</td>\n",
              "      <td>1386</td>\n",
              "      <td>87</td>\n",
              "      <td>1433</td>\n",
              "      <td>74</td>\n",
              "      <td>N</td>\n",
              "      <td>0</td>\n",
              "    </tr>\n",
              "  </tbody>\n",
              "</table>\n",
              "<p>145289 rows × 8 columns</p>\n",
              "</div>"
            ],
            "text/plain": [
              "        Season  Daynum  Wteam  Wscore  Lteam  Lscore Wloc  Numot\n",
              "0         1985      20   1228      81   1328      64    N      0\n",
              "1         1985      25   1106      77   1354      70    H      0\n",
              "2         1985      25   1112      63   1223      56    H      0\n",
              "3         1985      25   1165      70   1432      54    H      0\n",
              "4         1985      25   1192      86   1447      74    H      0\n",
              "...        ...     ...    ...     ...    ...     ...  ...    ...\n",
              "145284    2016     132   1114      70   1419      50    N      0\n",
              "145285    2016     132   1163      72   1272      58    N      0\n",
              "145286    2016     132   1246      82   1401      77    N      1\n",
              "145287    2016     132   1277      66   1345      62    N      0\n",
              "145288    2016     132   1386      87   1433      74    N      0\n",
              "\n",
              "[145289 rows x 8 columns]"
            ]
          },
          "metadata": {
            "tags": []
          },
          "execution_count": 44
        }
      ]
    },
    {
      "cell_type": "code",
      "metadata": {
        "colab": {
          "base_uri": "https://localhost:8080/"
        },
        "id": "PJAVnwpaVQvv",
        "outputId": "f5164f2d-7f53-49f7-9553-daea1d77f6d9"
      },
      "source": [
        "sub_df.info()"
      ],
      "execution_count": 35,
      "outputs": [
        {
          "output_type": "stream",
          "text": [
            "<class 'pandas.core.frame.DataFrame'>\n",
            "RangeIndex: 144289 entries, 1000 to 145288\n",
            "Data columns (total 8 columns):\n",
            " #   Column  Non-Null Count   Dtype \n",
            "---  ------  --------------   ----- \n",
            " 0   Season  144289 non-null  int64 \n",
            " 1   Daynum  144289 non-null  int64 \n",
            " 2   Wteam   144289 non-null  int64 \n",
            " 3   Wscore  144289 non-null  int64 \n",
            " 4   Lteam   144289 non-null  int64 \n",
            " 5   Lscore  144289 non-null  int64 \n",
            " 6   Wloc    144289 non-null  object\n",
            " 7   Numot   144289 non-null  int64 \n",
            "dtypes: int64(7), object(1)\n",
            "memory usage: 8.8+ MB\n"
          ],
          "name": "stdout"
        }
      ]
    },
    {
      "cell_type": "code",
      "metadata": {
        "id": "xWGihuMLVlY0"
      },
      "source": [
        "df2 = df[82:83]"
      ],
      "execution_count": 45,
      "outputs": []
    },
    {
      "cell_type": "code",
      "metadata": {
        "colab": {
          "base_uri": "https://localhost:8080/"
        },
        "id": "Z2qZGB6OWztU",
        "outputId": "9b81dc2b-117f-413e-e25b-57217ab3914d"
      },
      "source": [
        "df.loc[82]"
      ],
      "execution_count": 38,
      "outputs": [
        {
          "output_type": "execute_result",
          "data": {
            "text/plain": [
              "Season    1985\n",
              "Daynum      28\n",
              "Wteam     1464\n",
              "Wscore      71\n",
              "Lteam     1134\n",
              "Lscore      58\n",
              "Wloc         H\n",
              "Numot        0\n",
              "Name: 82, dtype: object"
            ]
          },
          "metadata": {
            "tags": []
          },
          "execution_count": 38
        }
      ]
    },
    {
      "cell_type": "code",
      "metadata": {
        "id": "78fvAe0RXBAB"
      },
      "source": [
        ""
      ],
      "execution_count": null,
      "outputs": []
    },
    {
      "cell_type": "code",
      "metadata": {
        "colab": {
          "base_uri": "https://localhost:8080/"
        },
        "id": "dbTV_1g-W22K",
        "outputId": "bd3e084f-6b93-4c35-a487-55a41241ef35"
      },
      "source": [
        "print(type(df[82:83]))\n",
        "print(type(df.loc[82]['Wteam']))\n"
      ],
      "execution_count": 47,
      "outputs": [
        {
          "output_type": "stream",
          "text": [
            "<class 'pandas.core.frame.DataFrame'>\n",
            "<class 'numpy.int64'>\n"
          ],
          "name": "stdout"
        }
      ]
    },
    {
      "cell_type": "code",
      "metadata": {
        "id": "Yvm2afX8XplC"
      },
      "source": [
        "df.Wteam             # 특정 column. 결과는 Series\n",
        "df[82:85]            # 특정 row. 결과는 DataFrame\n",
        "df[82]['Wteam']      # ERROR\n",
        "df[82][2]            # ERROR\n",
        "df.loc[82]['Wteam']  # <--- 제대로된 사용 방법\n",
        "df.iloc[82][2]       # <--- 제대로된 사용 방법"
      ],
      "execution_count": null,
      "outputs": []
    },
    {
      "cell_type": "code",
      "metadata": {
        "colab": {
          "base_uri": "https://localhost:8080/"
        },
        "id": "qQJEGiERXkTt",
        "outputId": "7ac62f13-b3b6-48aa-d11b-e8dad21fa676"
      },
      "source": [
        "df.loc[82]"
      ],
      "execution_count": 48,
      "outputs": [
        {
          "output_type": "execute_result",
          "data": {
            "text/plain": [
              "Season    1985\n",
              "Daynum      28\n",
              "Wteam     1464\n",
              "Wscore      71\n",
              "Lteam     1134\n",
              "Lscore      58\n",
              "Wloc         H\n",
              "Numot        0\n",
              "Name: 82, dtype: object"
            ]
          },
          "metadata": {
            "tags": []
          },
          "execution_count": 48
        }
      ]
    },
    {
      "cell_type": "code",
      "metadata": {
        "colab": {
          "base_uri": "https://localhost:8080/"
        },
        "id": "adGl-uWjYk7p",
        "outputId": "7731f346-1188-4cc0-9fa5-e9c6193596ff"
      },
      "source": [
        "df.loc[82]['Wteam']"
      ],
      "execution_count": 51,
      "outputs": [
        {
          "output_type": "execute_result",
          "data": {
            "text/plain": [
              "1464"
            ]
          },
          "metadata": {
            "tags": []
          },
          "execution_count": 51
        }
      ]
    },
    {
      "cell_type": "code",
      "metadata": {
        "id": "Asu7892uYvzD"
      },
      "source": [
        " l = [\n",
        "      [ 0, 1, 2 ],\n",
        "      [ 3, 4, 5 ],\n",
        "      [ 6, 7, 8 ],\n",
        "      [ 9, 10, 11 ]\n",
        " ]"
      ],
      "execution_count": 54,
      "outputs": []
    },
    {
      "cell_type": "code",
      "metadata": {
        "colab": {
          "base_uri": "https://localhost:8080/"
        },
        "id": "9kxb5tRtYwuG",
        "outputId": "dd866f26-d347-43fb-fc89-5ed8c6c4a97e"
      },
      "source": [
        "l[2][1]"
      ],
      "execution_count": 55,
      "outputs": [
        {
          "output_type": "execute_result",
          "data": {
            "text/plain": [
              "7"
            ]
          },
          "metadata": {
            "tags": []
          },
          "execution_count": 55
        }
      ]
    },
    {
      "cell_type": "code",
      "metadata": {
        "id": "2QL0RpirZUk1"
      },
      "source": [
        "l[2,1] # ERROR"
      ],
      "execution_count": null,
      "outputs": []
    },
    {
      "cell_type": "code",
      "metadata": {
        "colab": {
          "base_uri": "https://localhost:8080/"
        },
        "id": "hB0Z25KMZBv-",
        "outputId": "a5971783-e52e-463f-ddc5-45b1a57790a6"
      },
      "source": [
        "df.loc[82,'Wteam']"
      ],
      "execution_count": 57,
      "outputs": [
        {
          "output_type": "execute_result",
          "data": {
            "text/plain": [
              "1464"
            ]
          },
          "metadata": {
            "tags": []
          },
          "execution_count": 57
        }
      ]
    },
    {
      "cell_type": "code",
      "metadata": {
        "colab": {
          "base_uri": "https://localhost:8080/"
        },
        "id": "eyiMZy_EZQ7u",
        "outputId": "15622421-a8f1-408a-f613-7ed6c0d0054c"
      },
      "source": [
        "df.iloc[82,2]"
      ],
      "execution_count": 58,
      "outputs": [
        {
          "output_type": "execute_result",
          "data": {
            "text/plain": [
              "1464"
            ]
          },
          "metadata": {
            "tags": []
          },
          "execution_count": 58
        }
      ]
    },
    {
      "cell_type": "code",
      "metadata": {
        "id": "yzyBSftVZel4"
      },
      "source": [
        "df.loc[82]['Wteam']\n",
        "df.loc[82,'Wteam']\n",
        "df.iloc[82][2]\n",
        "df.iloc[82,2]"
      ],
      "execution_count": null,
      "outputs": []
    },
    {
      "cell_type": "code",
      "metadata": {
        "colab": {
          "base_uri": "https://localhost:8080/"
        },
        "id": "s8kgwKDXaDx7",
        "outputId": "6928de72-23c9-4eff-8290-b354f632f688"
      },
      "source": [
        "df.Wteam[82]"
      ],
      "execution_count": 60,
      "outputs": [
        {
          "output_type": "execute_result",
          "data": {
            "text/plain": [
              "1464"
            ]
          },
          "metadata": {
            "tags": []
          },
          "execution_count": 60
        }
      ]
    },
    {
      "cell_type": "code",
      "metadata": {
        "colab": {
          "base_uri": "https://localhost:8080/",
          "height": 171
        },
        "id": "JPTsDNoaa8Oq",
        "outputId": "efa29972-ad29-48ac-888a-f9cd216fa233"
      },
      "source": [
        "df.loc[82:85]"
      ],
      "execution_count": 63,
      "outputs": [
        {
          "output_type": "execute_result",
          "data": {
            "text/html": [
              "<div>\n",
              "<style scoped>\n",
              "    .dataframe tbody tr th:only-of-type {\n",
              "        vertical-align: middle;\n",
              "    }\n",
              "\n",
              "    .dataframe tbody tr th {\n",
              "        vertical-align: top;\n",
              "    }\n",
              "\n",
              "    .dataframe thead th {\n",
              "        text-align: right;\n",
              "    }\n",
              "</style>\n",
              "<table border=\"1\" class=\"dataframe\">\n",
              "  <thead>\n",
              "    <tr style=\"text-align: right;\">\n",
              "      <th></th>\n",
              "      <th>Season</th>\n",
              "      <th>Daynum</th>\n",
              "      <th>Wteam</th>\n",
              "      <th>Wscore</th>\n",
              "      <th>Lteam</th>\n",
              "      <th>Lscore</th>\n",
              "      <th>Wloc</th>\n",
              "      <th>Numot</th>\n",
              "    </tr>\n",
              "  </thead>\n",
              "  <tbody>\n",
              "    <tr>\n",
              "      <th>82</th>\n",
              "      <td>1985</td>\n",
              "      <td>28</td>\n",
              "      <td>1464</td>\n",
              "      <td>71</td>\n",
              "      <td>1134</td>\n",
              "      <td>58</td>\n",
              "      <td>H</td>\n",
              "      <td>0</td>\n",
              "    </tr>\n",
              "    <tr>\n",
              "      <th>83</th>\n",
              "      <td>1985</td>\n",
              "      <td>29</td>\n",
              "      <td>1116</td>\n",
              "      <td>59</td>\n",
              "      <td>1416</td>\n",
              "      <td>45</td>\n",
              "      <td>N</td>\n",
              "      <td>0</td>\n",
              "    </tr>\n",
              "    <tr>\n",
              "      <th>84</th>\n",
              "      <td>1985</td>\n",
              "      <td>29</td>\n",
              "      <td>1124</td>\n",
              "      <td>99</td>\n",
              "      <td>1341</td>\n",
              "      <td>77</td>\n",
              "      <td>H</td>\n",
              "      <td>0</td>\n",
              "    </tr>\n",
              "    <tr>\n",
              "      <th>85</th>\n",
              "      <td>1985</td>\n",
              "      <td>29</td>\n",
              "      <td>1130</td>\n",
              "      <td>86</td>\n",
              "      <td>1306</td>\n",
              "      <td>63</td>\n",
              "      <td>A</td>\n",
              "      <td>0</td>\n",
              "    </tr>\n",
              "  </tbody>\n",
              "</table>\n",
              "</div>"
            ],
            "text/plain": [
              "    Season  Daynum  Wteam  Wscore  Lteam  Lscore Wloc  Numot\n",
              "82    1985      28   1464      71   1134      58    H      0\n",
              "83    1985      29   1116      59   1416      45    N      0\n",
              "84    1985      29   1124      99   1341      77    H      0\n",
              "85    1985      29   1130      86   1306      63    A      0"
            ]
          },
          "metadata": {
            "tags": []
          },
          "execution_count": 63
        }
      ]
    },
    {
      "cell_type": "code",
      "metadata": {
        "colab": {
          "base_uri": "https://localhost:8080/",
          "height": 140
        },
        "id": "wX0-9bRHbVH_",
        "outputId": "66a4fb72-cd70-4718-b69c-214f8725b0e4"
      },
      "source": [
        "df.loc[ [ 0, 3, 5] ]"
      ],
      "execution_count": 64,
      "outputs": [
        {
          "output_type": "execute_result",
          "data": {
            "text/html": [
              "<div>\n",
              "<style scoped>\n",
              "    .dataframe tbody tr th:only-of-type {\n",
              "        vertical-align: middle;\n",
              "    }\n",
              "\n",
              "    .dataframe tbody tr th {\n",
              "        vertical-align: top;\n",
              "    }\n",
              "\n",
              "    .dataframe thead th {\n",
              "        text-align: right;\n",
              "    }\n",
              "</style>\n",
              "<table border=\"1\" class=\"dataframe\">\n",
              "  <thead>\n",
              "    <tr style=\"text-align: right;\">\n",
              "      <th></th>\n",
              "      <th>Season</th>\n",
              "      <th>Daynum</th>\n",
              "      <th>Wteam</th>\n",
              "      <th>Wscore</th>\n",
              "      <th>Lteam</th>\n",
              "      <th>Lscore</th>\n",
              "      <th>Wloc</th>\n",
              "      <th>Numot</th>\n",
              "    </tr>\n",
              "  </thead>\n",
              "  <tbody>\n",
              "    <tr>\n",
              "      <th>0</th>\n",
              "      <td>1985</td>\n",
              "      <td>20</td>\n",
              "      <td>1228</td>\n",
              "      <td>81</td>\n",
              "      <td>1328</td>\n",
              "      <td>64</td>\n",
              "      <td>N</td>\n",
              "      <td>0</td>\n",
              "    </tr>\n",
              "    <tr>\n",
              "      <th>3</th>\n",
              "      <td>1985</td>\n",
              "      <td>25</td>\n",
              "      <td>1165</td>\n",
              "      <td>70</td>\n",
              "      <td>1432</td>\n",
              "      <td>54</td>\n",
              "      <td>H</td>\n",
              "      <td>0</td>\n",
              "    </tr>\n",
              "    <tr>\n",
              "      <th>5</th>\n",
              "      <td>1985</td>\n",
              "      <td>25</td>\n",
              "      <td>1218</td>\n",
              "      <td>79</td>\n",
              "      <td>1337</td>\n",
              "      <td>78</td>\n",
              "      <td>H</td>\n",
              "      <td>0</td>\n",
              "    </tr>\n",
              "  </tbody>\n",
              "</table>\n",
              "</div>"
            ],
            "text/plain": [
              "   Season  Daynum  Wteam  Wscore  Lteam  Lscore Wloc  Numot\n",
              "0    1985      20   1228      81   1328      64    N      0\n",
              "3    1985      25   1165      70   1432      54    H      0\n",
              "5    1985      25   1218      79   1337      78    H      0"
            ]
          },
          "metadata": {
            "tags": []
          },
          "execution_count": 64
        }
      ]
    },
    {
      "cell_type": "code",
      "metadata": {
        "colab": {
          "base_uri": "https://localhost:8080/",
          "height": 109
        },
        "id": "hL_t2HcDbnsT",
        "outputId": "c7180eac-f716-4db1-a35c-e8f3fd70665c"
      },
      "source": [
        "df.loc[ [0, 3] ]"
      ],
      "execution_count": 65,
      "outputs": [
        {
          "output_type": "execute_result",
          "data": {
            "text/html": [
              "<div>\n",
              "<style scoped>\n",
              "    .dataframe tbody tr th:only-of-type {\n",
              "        vertical-align: middle;\n",
              "    }\n",
              "\n",
              "    .dataframe tbody tr th {\n",
              "        vertical-align: top;\n",
              "    }\n",
              "\n",
              "    .dataframe thead th {\n",
              "        text-align: right;\n",
              "    }\n",
              "</style>\n",
              "<table border=\"1\" class=\"dataframe\">\n",
              "  <thead>\n",
              "    <tr style=\"text-align: right;\">\n",
              "      <th></th>\n",
              "      <th>Season</th>\n",
              "      <th>Daynum</th>\n",
              "      <th>Wteam</th>\n",
              "      <th>Wscore</th>\n",
              "      <th>Lteam</th>\n",
              "      <th>Lscore</th>\n",
              "      <th>Wloc</th>\n",
              "      <th>Numot</th>\n",
              "    </tr>\n",
              "  </thead>\n",
              "  <tbody>\n",
              "    <tr>\n",
              "      <th>0</th>\n",
              "      <td>1985</td>\n",
              "      <td>20</td>\n",
              "      <td>1228</td>\n",
              "      <td>81</td>\n",
              "      <td>1328</td>\n",
              "      <td>64</td>\n",
              "      <td>N</td>\n",
              "      <td>0</td>\n",
              "    </tr>\n",
              "    <tr>\n",
              "      <th>3</th>\n",
              "      <td>1985</td>\n",
              "      <td>25</td>\n",
              "      <td>1165</td>\n",
              "      <td>70</td>\n",
              "      <td>1432</td>\n",
              "      <td>54</td>\n",
              "      <td>H</td>\n",
              "      <td>0</td>\n",
              "    </tr>\n",
              "  </tbody>\n",
              "</table>\n",
              "</div>"
            ],
            "text/plain": [
              "   Season  Daynum  Wteam  Wscore  Lteam  Lscore Wloc  Numot\n",
              "0    1985      20   1228      81   1328      64    N      0\n",
              "3    1985      25   1165      70   1432      54    H      0"
            ]
          },
          "metadata": {
            "tags": []
          },
          "execution_count": 65
        }
      ]
    },
    {
      "cell_type": "code",
      "metadata": {
        "colab": {
          "base_uri": "https://localhost:8080/",
          "height": 140
        },
        "id": "OVsUdFLWdXjY",
        "outputId": "9e69f33c-6fb9-4613-f1de-7bf359499512"
      },
      "source": [
        "df.loc[ [ 2,3,4] ]"
      ],
      "execution_count": 69,
      "outputs": [
        {
          "output_type": "execute_result",
          "data": {
            "text/html": [
              "<div>\n",
              "<style scoped>\n",
              "    .dataframe tbody tr th:only-of-type {\n",
              "        vertical-align: middle;\n",
              "    }\n",
              "\n",
              "    .dataframe tbody tr th {\n",
              "        vertical-align: top;\n",
              "    }\n",
              "\n",
              "    .dataframe thead th {\n",
              "        text-align: right;\n",
              "    }\n",
              "</style>\n",
              "<table border=\"1\" class=\"dataframe\">\n",
              "  <thead>\n",
              "    <tr style=\"text-align: right;\">\n",
              "      <th></th>\n",
              "      <th>Season</th>\n",
              "      <th>Daynum</th>\n",
              "      <th>Wteam</th>\n",
              "      <th>Wscore</th>\n",
              "      <th>Lteam</th>\n",
              "      <th>Lscore</th>\n",
              "      <th>Wloc</th>\n",
              "      <th>Numot</th>\n",
              "    </tr>\n",
              "  </thead>\n",
              "  <tbody>\n",
              "    <tr>\n",
              "      <th>2</th>\n",
              "      <td>1985</td>\n",
              "      <td>25</td>\n",
              "      <td>1112</td>\n",
              "      <td>63</td>\n",
              "      <td>1223</td>\n",
              "      <td>56</td>\n",
              "      <td>H</td>\n",
              "      <td>0</td>\n",
              "    </tr>\n",
              "    <tr>\n",
              "      <th>3</th>\n",
              "      <td>1985</td>\n",
              "      <td>25</td>\n",
              "      <td>1165</td>\n",
              "      <td>70</td>\n",
              "      <td>1432</td>\n",
              "      <td>54</td>\n",
              "      <td>H</td>\n",
              "      <td>0</td>\n",
              "    </tr>\n",
              "    <tr>\n",
              "      <th>4</th>\n",
              "      <td>1985</td>\n",
              "      <td>25</td>\n",
              "      <td>1192</td>\n",
              "      <td>86</td>\n",
              "      <td>1447</td>\n",
              "      <td>74</td>\n",
              "      <td>H</td>\n",
              "      <td>0</td>\n",
              "    </tr>\n",
              "  </tbody>\n",
              "</table>\n",
              "</div>"
            ],
            "text/plain": [
              "   Season  Daynum  Wteam  Wscore  Lteam  Lscore Wloc  Numot\n",
              "2    1985      25   1112      63   1223      56    H      0\n",
              "3    1985      25   1165      70   1432      54    H      0\n",
              "4    1985      25   1192      86   1447      74    H      0"
            ]
          },
          "metadata": {
            "tags": []
          },
          "execution_count": 69
        }
      ]
    },
    {
      "cell_type": "code",
      "metadata": {
        "colab": {
          "base_uri": "https://localhost:8080/",
          "height": 171
        },
        "id": "AE_CKtHSdZyD",
        "outputId": "1104e4d7-1dcc-4236-ee8f-e857b8958f33"
      },
      "source": [
        "df.loc[ 2:5 ]\n",
        "# TODO : confirm"
      ],
      "execution_count": 72,
      "outputs": [
        {
          "output_type": "execute_result",
          "data": {
            "text/html": [
              "<div>\n",
              "<style scoped>\n",
              "    .dataframe tbody tr th:only-of-type {\n",
              "        vertical-align: middle;\n",
              "    }\n",
              "\n",
              "    .dataframe tbody tr th {\n",
              "        vertical-align: top;\n",
              "    }\n",
              "\n",
              "    .dataframe thead th {\n",
              "        text-align: right;\n",
              "    }\n",
              "</style>\n",
              "<table border=\"1\" class=\"dataframe\">\n",
              "  <thead>\n",
              "    <tr style=\"text-align: right;\">\n",
              "      <th></th>\n",
              "      <th>Season</th>\n",
              "      <th>Daynum</th>\n",
              "      <th>Wteam</th>\n",
              "      <th>Wscore</th>\n",
              "      <th>Lteam</th>\n",
              "      <th>Lscore</th>\n",
              "      <th>Wloc</th>\n",
              "      <th>Numot</th>\n",
              "    </tr>\n",
              "  </thead>\n",
              "  <tbody>\n",
              "    <tr>\n",
              "      <th>2</th>\n",
              "      <td>1985</td>\n",
              "      <td>25</td>\n",
              "      <td>1112</td>\n",
              "      <td>63</td>\n",
              "      <td>1223</td>\n",
              "      <td>56</td>\n",
              "      <td>H</td>\n",
              "      <td>0</td>\n",
              "    </tr>\n",
              "    <tr>\n",
              "      <th>3</th>\n",
              "      <td>1985</td>\n",
              "      <td>25</td>\n",
              "      <td>1165</td>\n",
              "      <td>70</td>\n",
              "      <td>1432</td>\n",
              "      <td>54</td>\n",
              "      <td>H</td>\n",
              "      <td>0</td>\n",
              "    </tr>\n",
              "    <tr>\n",
              "      <th>4</th>\n",
              "      <td>1985</td>\n",
              "      <td>25</td>\n",
              "      <td>1192</td>\n",
              "      <td>86</td>\n",
              "      <td>1447</td>\n",
              "      <td>74</td>\n",
              "      <td>H</td>\n",
              "      <td>0</td>\n",
              "    </tr>\n",
              "    <tr>\n",
              "      <th>5</th>\n",
              "      <td>1985</td>\n",
              "      <td>25</td>\n",
              "      <td>1218</td>\n",
              "      <td>79</td>\n",
              "      <td>1337</td>\n",
              "      <td>78</td>\n",
              "      <td>H</td>\n",
              "      <td>0</td>\n",
              "    </tr>\n",
              "  </tbody>\n",
              "</table>\n",
              "</div>"
            ],
            "text/plain": [
              "   Season  Daynum  Wteam  Wscore  Lteam  Lscore Wloc  Numot\n",
              "2    1985      25   1112      63   1223      56    H      0\n",
              "3    1985      25   1165      70   1432      54    H      0\n",
              "4    1985      25   1192      86   1447      74    H      0\n",
              "5    1985      25   1218      79   1337      78    H      0"
            ]
          },
          "metadata": {
            "tags": []
          },
          "execution_count": 72
        }
      ]
    },
    {
      "cell_type": "code",
      "metadata": {
        "id": "s_J2JnOucK6-"
      },
      "source": [
        "df.loc[ [ 2,3,4 ] ]\n",
        "df.loc[ [ 2:5 ] ]"
      ],
      "execution_count": null,
      "outputs": []
    },
    {
      "cell_type": "code",
      "metadata": {
        "id": "PmPCw5dXbp3W"
      },
      "source": [
        "df.loc[ 0, 3 ] # ERROR"
      ],
      "execution_count": null,
      "outputs": []
    },
    {
      "cell_type": "code",
      "metadata": {
        "colab": {
          "base_uri": "https://localhost:8080/"
        },
        "id": "OvfNex__b83C",
        "outputId": "18865a3f-aa90-4938-eecb-20c95792e8e9"
      },
      "source": [
        "df.iloc[ 0, 3 ]"
      ],
      "execution_count": 67,
      "outputs": [
        {
          "output_type": "execute_result",
          "data": {
            "text/plain": [
              "81"
            ]
          },
          "metadata": {
            "tags": []
          },
          "execution_count": 67
        }
      ]
    },
    {
      "cell_type": "code",
      "metadata": {
        "colab": {
          "base_uri": "https://localhost:8080/"
        },
        "id": "BE6mtuRBcutx",
        "outputId": "67e7819f-418e-4cb8-9ecd-7529a35f2c6b"
      },
      "source": [
        "df.loc[82][2]"
      ],
      "execution_count": 68,
      "outputs": [
        {
          "output_type": "execute_result",
          "data": {
            "text/plain": [
              "1464"
            ]
          },
          "metadata": {
            "tags": []
          },
          "execution_count": 68
        }
      ]
    },
    {
      "cell_type": "code",
      "metadata": {
        "id": "76Qqsc5Pc6hc"
      },
      "source": [
        "df.Wteam\n",
        "\n",
        "df[ 3:5 ]\n",
        "\n",
        "df.loc[3, 'Wteam']\n",
        "\n",
        "df.iloc[3, 2]"
      ],
      "execution_count": null,
      "outputs": []
    },
    {
      "cell_type": "code",
      "metadata": {
        "colab": {
          "base_uri": "https://localhost:8080/",
          "height": 171
        },
        "id": "MubUF3FXeFqO",
        "outputId": "e83a8c3e-dd9b-4ba7-ac93-b46bcbb452b8"
      },
      "source": [
        "df.iloc[:4,:2]"
      ],
      "execution_count": 74,
      "outputs": [
        {
          "output_type": "execute_result",
          "data": {
            "text/html": [
              "<div>\n",
              "<style scoped>\n",
              "    .dataframe tbody tr th:only-of-type {\n",
              "        vertical-align: middle;\n",
              "    }\n",
              "\n",
              "    .dataframe tbody tr th {\n",
              "        vertical-align: top;\n",
              "    }\n",
              "\n",
              "    .dataframe thead th {\n",
              "        text-align: right;\n",
              "    }\n",
              "</style>\n",
              "<table border=\"1\" class=\"dataframe\">\n",
              "  <thead>\n",
              "    <tr style=\"text-align: right;\">\n",
              "      <th></th>\n",
              "      <th>Season</th>\n",
              "      <th>Daynum</th>\n",
              "    </tr>\n",
              "  </thead>\n",
              "  <tbody>\n",
              "    <tr>\n",
              "      <th>0</th>\n",
              "      <td>1985</td>\n",
              "      <td>20</td>\n",
              "    </tr>\n",
              "    <tr>\n",
              "      <th>1</th>\n",
              "      <td>1985</td>\n",
              "      <td>25</td>\n",
              "    </tr>\n",
              "    <tr>\n",
              "      <th>2</th>\n",
              "      <td>1985</td>\n",
              "      <td>25</td>\n",
              "    </tr>\n",
              "    <tr>\n",
              "      <th>3</th>\n",
              "      <td>1985</td>\n",
              "      <td>25</td>\n",
              "    </tr>\n",
              "  </tbody>\n",
              "</table>\n",
              "</div>"
            ],
            "text/plain": [
              "   Season  Daynum\n",
              "0    1985      20\n",
              "1    1985      25\n",
              "2    1985      25\n",
              "3    1985      25"
            ]
          },
          "metadata": {
            "tags": []
          },
          "execution_count": 74
        }
      ]
    },
    {
      "cell_type": "code",
      "metadata": {
        "colab": {
          "base_uri": "https://localhost:8080/"
        },
        "id": "iHxkmF2leKoQ",
        "outputId": "e3460544-4cc9-4e39-b926-aa3f576398e5"
      },
      "source": [
        "df.iloc[82][:2]"
      ],
      "execution_count": 95,
      "outputs": [
        {
          "output_type": "execute_result",
          "data": {
            "text/plain": [
              "Season    1985\n",
              "Daynum      28\n",
              "Name: 82, dtype: object"
            ]
          },
          "metadata": {
            "tags": []
          },
          "execution_count": 95
        }
      ]
    },
    {
      "cell_type": "code",
      "metadata": {
        "colab": {
          "base_uri": "https://localhost:8080/",
          "height": 79
        },
        "id": "Aj6NUWMXePOS",
        "outputId": "05720c8d-c783-4ba5-9be4-a9019c1f2d97"
      },
      "source": [
        "df2[:2]"
      ],
      "execution_count": 79,
      "outputs": [
        {
          "output_type": "execute_result",
          "data": {
            "text/html": [
              "<div>\n",
              "<style scoped>\n",
              "    .dataframe tbody tr th:only-of-type {\n",
              "        vertical-align: middle;\n",
              "    }\n",
              "\n",
              "    .dataframe tbody tr th {\n",
              "        vertical-align: top;\n",
              "    }\n",
              "\n",
              "    .dataframe thead th {\n",
              "        text-align: right;\n",
              "    }\n",
              "</style>\n",
              "<table border=\"1\" class=\"dataframe\">\n",
              "  <thead>\n",
              "    <tr style=\"text-align: right;\">\n",
              "      <th></th>\n",
              "      <th>Season</th>\n",
              "      <th>Daynum</th>\n",
              "      <th>Wteam</th>\n",
              "      <th>Wscore</th>\n",
              "      <th>Lteam</th>\n",
              "      <th>Lscore</th>\n",
              "      <th>Wloc</th>\n",
              "      <th>Numot</th>\n",
              "    </tr>\n",
              "  </thead>\n",
              "  <tbody>\n",
              "    <tr>\n",
              "      <th>82</th>\n",
              "      <td>1985</td>\n",
              "      <td>28</td>\n",
              "      <td>1464</td>\n",
              "      <td>71</td>\n",
              "      <td>1134</td>\n",
              "      <td>58</td>\n",
              "      <td>H</td>\n",
              "      <td>0</td>\n",
              "    </tr>\n",
              "  </tbody>\n",
              "</table>\n",
              "</div>"
            ],
            "text/plain": [
              "    Season  Daynum  Wteam  Wscore  Lteam  Lscore Wloc  Numot\n",
              "82    1985      28   1464      71   1134      58    H      0"
            ]
          },
          "metadata": {
            "tags": []
          },
          "execution_count": 79
        }
      ]
    },
    {
      "cell_type": "code",
      "metadata": {
        "colab": {
          "base_uri": "https://localhost:8080/",
          "height": 109
        },
        "id": "nDKByR-rhJ2q",
        "outputId": "1701a1fe-4a7c-47a2-b5a2-c8155b9a6bb7"
      },
      "source": [
        "df[ [3,4,6,7] ]\n",
        "df[ 6:8 ]"
      ],
      "execution_count": 96,
      "outputs": [
        {
          "output_type": "execute_result",
          "data": {
            "text/html": [
              "<div>\n",
              "<style scoped>\n",
              "    .dataframe tbody tr th:only-of-type {\n",
              "        vertical-align: middle;\n",
              "    }\n",
              "\n",
              "    .dataframe tbody tr th {\n",
              "        vertical-align: top;\n",
              "    }\n",
              "\n",
              "    .dataframe thead th {\n",
              "        text-align: right;\n",
              "    }\n",
              "</style>\n",
              "<table border=\"1\" class=\"dataframe\">\n",
              "  <thead>\n",
              "    <tr style=\"text-align: right;\">\n",
              "      <th></th>\n",
              "      <th>Season</th>\n",
              "      <th>Daynum</th>\n",
              "      <th>Wteam</th>\n",
              "      <th>Wscore</th>\n",
              "      <th>Lteam</th>\n",
              "      <th>Lscore</th>\n",
              "      <th>Wloc</th>\n",
              "      <th>Numot</th>\n",
              "    </tr>\n",
              "  </thead>\n",
              "  <tbody>\n",
              "    <tr>\n",
              "      <th>6</th>\n",
              "      <td>1985</td>\n",
              "      <td>25</td>\n",
              "      <td>1228</td>\n",
              "      <td>64</td>\n",
              "      <td>1226</td>\n",
              "      <td>44</td>\n",
              "      <td>N</td>\n",
              "      <td>0</td>\n",
              "    </tr>\n",
              "    <tr>\n",
              "      <th>7</th>\n",
              "      <td>1985</td>\n",
              "      <td>25</td>\n",
              "      <td>1242</td>\n",
              "      <td>58</td>\n",
              "      <td>1268</td>\n",
              "      <td>56</td>\n",
              "      <td>N</td>\n",
              "      <td>0</td>\n",
              "    </tr>\n",
              "  </tbody>\n",
              "</table>\n",
              "</div>"
            ],
            "text/plain": [
              "   Season  Daynum  Wteam  Wscore  Lteam  Lscore Wloc  Numot\n",
              "6    1985      25   1228      64   1226      44    N      0\n",
              "7    1985      25   1242      58   1268      56    N      0"
            ]
          },
          "metadata": {
            "tags": []
          },
          "execution_count": 96
        }
      ]
    },
    {
      "cell_type": "code",
      "metadata": {
        "id": "qQJmQr9n3Kzl"
      },
      "source": [
        "s = \"1\\n21\\n321\\n4321\\n54321\\n\"\n",
        "for i in ranage(5):\n",
        "  for i in range...:\n",
        "    print(...)\n",
        "\n",
        "  print(s)"
      ],
      "execution_count": null,
      "outputs": []
    },
    {
      "cell_type": "code",
      "metadata": {
        "colab": {
          "base_uri": "https://localhost:8080/"
        },
        "id": "P0XYeNvP3fzi",
        "outputId": "abfa4b98-2c21-481f-ebcb-81d182ca8ce0"
      },
      "source": [
        "s = \"1\\n21\\n321\\n4321\\n54321\\n\"\n",
        "print(s)"
      ],
      "execution_count": 97,
      "outputs": [
        {
          "output_type": "stream",
          "text": [
            "1\n",
            "21\n",
            "321\n",
            "4321\n",
            "54321\n",
            "\n"
          ],
          "name": "stdout"
        }
      ]
    },
    {
      "cell_type": "code",
      "metadata": {
        "id": "2KJEuTi62blC"
      },
      "source": [
        "print(\"hi\")\n",
        "print(\"hello\")\n",
        "print(\"halo\")\n",
        "\n",
        "print(\"hi\\nhello\\nhalo\\n\")"
      ],
      "execution_count": null,
      "outputs": []
    },
    {
      "cell_type": "markdown",
      "metadata": {
        "id": "Zp1bfr-R5Cjb"
      },
      "source": [
        "# 검색"
      ]
    },
    {
      "cell_type": "code",
      "metadata": {
        "colab": {
          "base_uri": "https://localhost:8080/"
        },
        "id": "sucgMgpe5AfJ",
        "outputId": "10309fa2-2637-4adf-c323-db52b38a8838"
      },
      "source": [
        "df = pd.DataFrame(\n",
        "        {\"AAA\": [4, 5, 6, 7], \"BBB\": [10, 20, 30, 40], \"CCC\": [100, 50, -30, -50]}\n",
        ")\n",
        "\n",
        "print(df)\n",
        "print()\n",
        "\n",
        "mask = pd.Series( [True, False, True, False] )\n",
        "print(mask)\n",
        "print()\n",
        "\n",
        "df.loc[mask, 'BBB'] = -1\n",
        "print(df)"
      ],
      "execution_count": 109,
      "outputs": [
        {
          "output_type": "stream",
          "text": [
            "   AAA  BBB  CCC\n",
            "0    4   10  100\n",
            "1    5   20   50\n",
            "2    6   30  -30\n",
            "3    7   40  -50\n",
            "\n",
            "0     True\n",
            "1    False\n",
            "2     True\n",
            "3    False\n",
            "dtype: bool\n",
            "\n",
            "   AAA  BBB  CCC\n",
            "0    4   -1  100\n",
            "1    5   20   50\n",
            "2    6   -1  -30\n",
            "3    7   40  -50\n"
          ],
          "name": "stdout"
        }
      ]
    },
    {
      "cell_type": "code",
      "metadata": {
        "colab": {
          "base_uri": "https://localhost:8080/"
        },
        "id": "HqKEMM7Z6wIY",
        "outputId": "7d1e0979-2380-40f6-af3e-654ba632ccf7"
      },
      "source": [
        "import numpy as np\n",
        "\n",
        "df = pd.DataFrame(\n",
        "        {\"AAA\": [4, 5, 6, 7], \"BBB\": [10, 20, 30, 40], \"CCC\": [100, 50, -30, -50]}\n",
        ")\n",
        "\n",
        "print(df)\n",
        "print()\n",
        "\n",
        "index = np.array( [ 0, 2] )\n",
        "print(index)\n",
        "\n",
        "df.loc[index, 'BBB'] = -1\n",
        "print(df)"
      ],
      "execution_count": 112,
      "outputs": [
        {
          "output_type": "stream",
          "text": [
            "   AAA  BBB  CCC\n",
            "0    4   10  100\n",
            "1    5   20   50\n",
            "2    6   30  -30\n",
            "3    7   40  -50\n",
            "\n",
            "[0, 2]\n",
            "   AAA  BBB  CCC\n",
            "0    4   -1  100\n",
            "1    5   20   50\n",
            "2    6   -1  -30\n",
            "3    7   40  -50\n"
          ],
          "name": "stdout"
        }
      ]
    },
    {
      "cell_type": "code",
      "metadata": {
        "colab": {
          "base_uri": "https://localhost:8080/"
        },
        "id": "RVlqwYc28nbB",
        "outputId": "5bb6726c-ed99-4ac0-8535-4a5a8c1581dc"
      },
      "source": [
        "index = np.array( [ 0, 2] )\n",
        "print(index)\n",
        "print(len(index))\n",
        "print(index.shape)\n",
        "print(index[0])"
      ],
      "execution_count": 111,
      "outputs": [
        {
          "output_type": "stream",
          "text": [
            "[0 2]\n",
            "2\n",
            "(2,)\n",
            "0\n"
          ],
          "name": "stdout"
        }
      ]
    },
    {
      "cell_type": "code",
      "metadata": {
        "colab": {
          "base_uri": "https://localhost:8080/"
        },
        "id": "uqF0dWXD9R7d",
        "outputId": "120150ec-e413-47a4-8171-62e59a412bd0"
      },
      "source": [
        "df = pd.DataFrame(\n",
        "        {\"AAA\": [4, 5, 6, 7], \"BBB\": [10, 20, 30, 40], \"CCC\": [100, 50, -30, -50]}\n",
        ")\n",
        "\n",
        "print(df)\n",
        "print()\n",
        "\n",
        "filtered_mask = df.AAA>=5\n",
        "print(filtered_mask)\n",
        "print()\n",
        "\n",
        "df.loc[filtered_mask, 'BBB'] = -1\n",
        "print(df)\n"
      ],
      "execution_count": 116,
      "outputs": [
        {
          "output_type": "stream",
          "text": [
            "   AAA  BBB  CCC\n",
            "0    4   10  100\n",
            "1    5   20   50\n",
            "2    6   30  -30\n",
            "3    7   40  -50\n",
            "\n",
            "0    False\n",
            "1     True\n",
            "2     True\n",
            "3     True\n",
            "Name: AAA, dtype: bool\n",
            "\n",
            "   AAA  BBB  CCC\n",
            "0    4   10  100\n",
            "1    5   -1   50\n",
            "2    6   -1  -30\n",
            "3    7   -1  -50\n"
          ],
          "name": "stdout"
        }
      ]
    },
    {
      "cell_type": "code",
      "metadata": {
        "colab": {
          "base_uri": "https://localhost:8080/"
        },
        "id": "9BQA0WVH9rmn",
        "outputId": "5ea824db-fcad-4058-c646-f4de109a070c"
      },
      "source": [
        "l = [ 4, 5, 6, 7 ]\n",
        "m = []\n",
        "for i in l:\n",
        "  m.append(i>=5)\n",
        "print(m)"
      ],
      "execution_count": 115,
      "outputs": [
        {
          "output_type": "stream",
          "text": [
            "[False, True, True, True]\n"
          ],
          "name": "stdout"
        }
      ]
    },
    {
      "cell_type": "code",
      "metadata": {
        "colab": {
          "base_uri": "https://localhost:8080/"
        },
        "id": "Mxa1th_q-Rdl",
        "outputId": "e177837d-5ce6-4660-8e07-f35be4f9f00e"
      },
      "source": [
        "df = pd.DataFrame(\n",
        "        {\"AAA\": [4, 5, 6, 7], \"BBB\": [10, 20, 30, 40], \"CCC\": [100, 50, -30, -50]}\n",
        ")\n",
        "\n",
        "print(df)\n",
        "print()\n",
        "\n",
        "# filtered_mask = df.AAA>=5\n",
        "# df.loc[filtered_mask, 'BBB'] = -1\n",
        "\n",
        "df.loc[df.AAA>=5, 'BBB'] = -1\n",
        "print(df)\n"
      ],
      "execution_count": 117,
      "outputs": [
        {
          "output_type": "stream",
          "text": [
            "   AAA  BBB  CCC\n",
            "0    4   10  100\n",
            "1    5   20   50\n",
            "2    6   30  -30\n",
            "3    7   40  -50\n",
            "\n",
            "   AAA  BBB  CCC\n",
            "0    4   10  100\n",
            "1    5   -1   50\n",
            "2    6   -1  -30\n",
            "3    7   -1  -50\n"
          ],
          "name": "stdout"
        }
      ]
    },
    {
      "cell_type": "code",
      "metadata": {
        "colab": {
          "base_uri": "https://localhost:8080/"
        },
        "id": "KzUdWPBS_L20",
        "outputId": "c4ad8b0b-a746-4cb1-8e84-62c26fd3c184"
      },
      "source": [
        "df = pd.DataFrame(\n",
        "        {\"AAA\": [4, 5, 6, 7], \"BBB\": [10, 20, 30, 40], \"CCC\": [100, 50, -30, -50]}\n",
        ")\n",
        "\n",
        "print(df)\n",
        "print()\n",
        "\n",
        "\n",
        "df.loc[df.AAA%2==0, 'BBB'] = -1\n",
        "print(df)\n"
      ],
      "execution_count": 124,
      "outputs": [
        {
          "output_type": "stream",
          "text": [
            "   AAA  BBB  CCC\n",
            "0    4   10  100\n",
            "1    5   20   50\n",
            "2    6   30  -30\n",
            "3    7   40  -50\n",
            "\n",
            "   AAA  BBB  CCC\n",
            "0    4   -1  100\n",
            "1    5   20   50\n",
            "2    6   -1  -30\n",
            "3    7   40  -50\n"
          ],
          "name": "stdout"
        }
      ]
    },
    {
      "cell_type": "code",
      "metadata": {
        "colab": {
          "base_uri": "https://localhost:8080/",
          "height": 206
        },
        "id": "e34nbwrc_UPl",
        "outputId": "a95bf9eb-0c7e-4967-bd32-39305c1aca56"
      },
      "source": [
        "a = 2\n",
        "a%2==0\n",
        "\n",
        "l = [ 0, 1, 2, 3, 4 ]\n",
        "\n",
        "l%2==0"
      ],
      "execution_count": 120,
      "outputs": [
        {
          "output_type": "error",
          "ename": "TypeError",
          "evalue": "ignored",
          "traceback": [
            "\u001b[0;31m---------------------------------------------------------------------------\u001b[0m",
            "\u001b[0;31mTypeError\u001b[0m                                 Traceback (most recent call last)",
            "\u001b[0;32m<ipython-input-120-54c11c176f85>\u001b[0m in \u001b[0;36m<module>\u001b[0;34m()\u001b[0m\n\u001b[1;32m      4\u001b[0m \u001b[0ml\u001b[0m \u001b[0;34m=\u001b[0m \u001b[0;34m[\u001b[0m \u001b[0;36m0\u001b[0m\u001b[0;34m,\u001b[0m \u001b[0;36m1\u001b[0m\u001b[0;34m,\u001b[0m \u001b[0;36m2\u001b[0m\u001b[0;34m,\u001b[0m \u001b[0;36m3\u001b[0m\u001b[0;34m,\u001b[0m \u001b[0;36m4\u001b[0m \u001b[0;34m]\u001b[0m\u001b[0;34m\u001b[0m\u001b[0;34m\u001b[0m\u001b[0m\n\u001b[1;32m      5\u001b[0m \u001b[0;34m\u001b[0m\u001b[0m\n\u001b[0;32m----> 6\u001b[0;31m \u001b[0ml\u001b[0m\u001b[0;34m%\u001b[0m\u001b[0;36m2\u001b[0m\u001b[0;34m==\u001b[0m\u001b[0;36m0\u001b[0m\u001b[0;34m\u001b[0m\u001b[0;34m\u001b[0m\u001b[0m\n\u001b[0m",
            "\u001b[0;31mTypeError\u001b[0m: unsupported operand type(s) for %: 'list' and 'int'"
          ]
        }
      ]
    },
    {
      "cell_type": "code",
      "metadata": {
        "colab": {
          "base_uri": "https://localhost:8080/"
        },
        "id": "XGozYeNNAcZ-",
        "outputId": "d3581dde-8f03-4d1a-9728-c9416cde4b0d"
      },
      "source": [
        "df = pd.DataFrame(\n",
        "        {\"AAA\": [4, 5, 6, 7], \"BBB\": [10, 20, 30, 40], \"CCC\": [100, 50, -30, -50]}\n",
        ")\n",
        "\n",
        "print(df)\n",
        "print()\n",
        "\n",
        "filtered_mask = (df.AAA>=5) & (df.BBB<40)\n",
        "print(filtered_mask)\n",
        "print()\n",
        "\n",
        "df.loc[filtered_mask, 'BBB'] = -1\n",
        "# df.loc[(df.AAA>=5) & (df.BBB<40), 'BBB'] = -1\n",
        "\n",
        "print(df)\n"
      ],
      "execution_count": 129,
      "outputs": [
        {
          "output_type": "stream",
          "text": [
            "   AAA  BBB  CCC\n",
            "0    4   10  100\n",
            "1    5   20   50\n",
            "2    6   30  -30\n",
            "3    7   40  -50\n",
            "\n",
            "0    False\n",
            "1     True\n",
            "2     True\n",
            "3    False\n",
            "dtype: bool\n",
            "\n",
            "   AAA  BBB  CCC\n",
            "0    4   10  100\n",
            "1    5   -1   50\n",
            "2    6   -1  -30\n",
            "3    7   40  -50\n"
          ],
          "name": "stdout"
        }
      ]
    },
    {
      "cell_type": "code",
      "metadata": {
        "colab": {
          "base_uri": "https://localhost:8080/"
        },
        "id": "brON6_FFBWAo",
        "outputId": "9c50fa6e-0c80-49c2-f317-c8240acfcd01"
      },
      "source": [
        "a = pd.Series([ True, False, True, False])\n",
        "b = pd.Series([ True, True,  True,  True])\n",
        "\n",
        "# print(a and B)  # ERROR\n",
        "print(a & b)\n",
        "print(a | b)"
      ],
      "execution_count": 128,
      "outputs": [
        {
          "output_type": "stream",
          "text": [
            "0     True\n",
            "1    False\n",
            "2     True\n",
            "3    False\n",
            "dtype: bool\n",
            "0    True\n",
            "1    True\n",
            "2    True\n",
            "3    True\n",
            "dtype: bool\n"
          ],
          "name": "stdout"
        }
      ]
    },
    {
      "cell_type": "code",
      "metadata": {
        "colab": {
          "base_uri": "https://localhost:8080/"
        },
        "id": "ODht-g9-B2NX",
        "outputId": "0d6de94a-5410-418c-f7e8-fed58412c595"
      },
      "source": [
        "df = pd.DataFrame(\n",
        "        {\"AAA\": [4, 5, 6, 7], \"BBB\": [10, 20, 30, 40], \"CCC\": [100, 50, -30, -50]}\n",
        ")\n",
        "\n",
        "print(df)\n",
        "print()\n",
        "\n",
        "# [ 1, 2, 3 ] 과 [ 0, 1, 2 ]의 교집합\n",
        "# filtered_index = np.array( [ 1, 2 ] )\n",
        "filtered_index = np.where( (df.AAA>=5) & (df.BBB<40) )[0]\n",
        "\n",
        "df.loc[filtered_index, 'BBB'] = -1\n",
        "print(df)"
      ],
      "execution_count": 131,
      "outputs": [
        {
          "output_type": "stream",
          "text": [
            "   AAA  BBB  CCC\n",
            "0    4   10  100\n",
            "1    5   20   50\n",
            "2    6   30  -30\n",
            "3    7   40  -50\n",
            "\n",
            "   AAA  BBB  CCC\n",
            "0    4   10  100\n",
            "1    5   -1   50\n",
            "2    6   -1  -30\n",
            "3    7   40  -50\n"
          ],
          "name": "stdout"
        }
      ]
    },
    {
      "cell_type": "code",
      "metadata": {
        "colab": {
          "base_uri": "https://localhost:8080/"
        },
        "id": "8eA4-q8jCuVb",
        "outputId": "a0dcb9cd-1343-481a-9300-bbb44bf65350"
      },
      "source": [
        "filtered_index = np.where( (df.AAA>=5) & (df.BBB<40) )\n",
        "print(filtered_index)"
      ],
      "execution_count": 132,
      "outputs": [
        {
          "output_type": "stream",
          "text": [
            "(array([1, 2]),)\n"
          ],
          "name": "stdout"
        }
      ]
    },
    {
      "cell_type": "code",
      "metadata": {
        "colab": {
          "base_uri": "https://localhost:8080/"
        },
        "id": "0ugUdfbGHm1U",
        "outputId": "4fbbb5be-b33f-4c15-82f3-d31568c05aab"
      },
      "source": [
        "df = pd.DataFrame(\n",
        "        {\"AAA\": [4, 5, 6, 7], \"BBB\": [10, 20, 30, 40], \"CCC\": [100, 50, -30, -50]}\n",
        ")\n",
        "\n",
        "print(df)\n",
        "print()\n",
        "\n",
        "new_df = df[ [\"AAA\", \"BBB\"] ]\n",
        "print(new_df)"
      ],
      "execution_count": 136,
      "outputs": [
        {
          "output_type": "stream",
          "text": [
            "   AAA  BBB  CCC\n",
            "0    4   10  100\n",
            "1    5   20   50\n",
            "2    6   30  -30\n",
            "3    7   40  -50\n",
            "\n",
            "   AAA  BBB\n",
            "0    4   10\n",
            "1    5   20\n",
            "2    6   30\n",
            "3    7   40\n"
          ],
          "name": "stdout"
        }
      ]
    },
    {
      "cell_type": "code",
      "metadata": {
        "colab": {
          "base_uri": "https://localhost:8080/"
        },
        "id": "urA9lzsCIPBT",
        "outputId": "563f8a46-8e89-4659-942b-9f512bcfdb8a"
      },
      "source": [
        "print(df.AAA)\n",
        "print(type(df.AAA))"
      ],
      "execution_count": 138,
      "outputs": [
        {
          "output_type": "stream",
          "text": [
            "0    4\n",
            "1    5\n",
            "2    6\n",
            "3    7\n",
            "Name: AAA, dtype: int64\n",
            "<class 'pandas.core.series.Series'>\n"
          ],
          "name": "stdout"
        }
      ]
    },
    {
      "cell_type": "code",
      "metadata": {
        "colab": {
          "base_uri": "https://localhost:8080/"
        },
        "id": "Nd1NCGK3IP9D",
        "outputId": "eae06682-aecb-467d-9573-2a8ed2704f3b"
      },
      "source": [
        "print(df[\"AAA\"])\n",
        "print(type(df[\"AAA\"]))"
      ],
      "execution_count": 141,
      "outputs": [
        {
          "output_type": "stream",
          "text": [
            "0    4\n",
            "1    5\n",
            "2    6\n",
            "3    7\n",
            "Name: AAA, dtype: int64\n",
            "<class 'pandas.core.series.Series'>\n"
          ],
          "name": "stdout"
        }
      ]
    },
    {
      "cell_type": "code",
      "metadata": {
        "colab": {
          "base_uri": "https://localhost:8080/"
        },
        "id": "Fyuly1kzIMG5",
        "outputId": "0e095ffd-1f7f-44ed-add9-3f960e3782e9"
      },
      "source": [
        "print(df[ [\"AAA\"] ])\n",
        "print(type(df[ [\"AAA\"] ]))"
      ],
      "execution_count": 144,
      "outputs": [
        {
          "output_type": "stream",
          "text": [
            "   AAA\n",
            "0    4\n",
            "1    5\n",
            "2    6\n",
            "3    7\n",
            "<class 'pandas.core.frame.DataFrame'>\n"
          ],
          "name": "stdout"
        }
      ]
    },
    {
      "cell_type": "code",
      "metadata": {
        "colab": {
          "base_uri": "https://localhost:8080/"
        },
        "id": "TJxU7h-aI4il",
        "outputId": "10ab66c4-1b2d-41d5-c1a4-d73891e96e1b"
      },
      "source": [
        "print(df[ [\"AAA\", \"BBB\", \"CCC\", \"AAA\", \"BBB\"] ])\n",
        "df.AAA = -1\n",
        "print(df)"
      ],
      "execution_count": 147,
      "outputs": [
        {
          "output_type": "stream",
          "text": [
            "   AAA  BBB  CCC  AAA  BBB\n",
            "0    4   10  100    4   10\n",
            "1    5   20   50    5   20\n",
            "2    6   30  -30    6   30\n",
            "3    7   40  -50    7   40\n",
            "   AAA  BBB  CCC\n",
            "0   -1   10  100\n",
            "1   -1   20   50\n",
            "2   -1   30  -30\n",
            "3   -1   40  -50\n"
          ],
          "name": "stdout"
        }
      ]
    },
    {
      "cell_type": "code",
      "metadata": {
        "colab": {
          "base_uri": "https://localhost:8080/"
        },
        "id": "1VhL9uPYJM7s",
        "outputId": "149c0f56-9906-406b-b91d-e283401327d8"
      },
      "source": [
        "print(df[1:3])"
      ],
      "execution_count": 148,
      "outputs": [
        {
          "output_type": "stream",
          "text": [
            "   AAA  BBB  CCC\n",
            "1   -1   20   50\n",
            "2   -1   30  -30\n"
          ],
          "name": "stdout"
        }
      ]
    },
    {
      "cell_type": "code",
      "metadata": {
        "colab": {
          "base_uri": "https://localhost:8080/"
        },
        "id": "Xyhls2xFJhPw",
        "outputId": "87834701-3214-46b8-905a-bd34ab10b2a6"
      },
      "source": [
        "df = pd.DataFrame(\n",
        "        {\"AAA\": [4, 5, 6, 7], \"BBB\": [10, 20, 30, 40], \"CCC\": [100, 50, -30, -50]}\n",
        ")\n",
        "\n",
        "print(df)\n",
        "print()\n",
        "\n",
        "# df.loc[df.AAA>=5, \"BBB\" ] = -1\n",
        "df.loc[df.AAA>=5, [\"BBB\", \"CCC\"] ] = -1\n",
        "print(df)\n"
      ],
      "execution_count": 150,
      "outputs": [
        {
          "output_type": "stream",
          "text": [
            "   AAA  BBB  CCC\n",
            "0    4   10  100\n",
            "1    5   20   50\n",
            "2    6   30  -30\n",
            "3    7   40  -50\n",
            "\n",
            "   AAA  BBB  CCC\n",
            "0    4   10  100\n",
            "1    5   -1   -1\n",
            "2    6   -1   -1\n",
            "3    7   -1   -1\n"
          ],
          "name": "stdout"
        }
      ]
    },
    {
      "cell_type": "code",
      "metadata": {
        "colab": {
          "base_uri": "https://localhost:8080/"
        },
        "id": "PbcM5dkhJ9gN",
        "outputId": "d02df3ad-970d-4bd5-e838-6fe30d7c63bd"
      },
      "source": [
        "df = pd.DataFrame(\n",
        "        {\"AAA\": [4, 5, 6, 7], \"BBB\": [10, 20, 30, 40], \"CCC\": [100, 50, -30, -50]}\n",
        ")\n",
        "\n",
        "print(df)\n",
        "print()\n",
        "\n",
        "\n",
        "# AAA>=5,   BBB =  999\n",
        "# AAA< 5,   BBB = -999\n",
        "\n",
        "df.loc[df.AAA>=5, 'BBB'] = 999\n",
        "df.loc[df.AAA<5, 'BBB'] = -999\n",
        "\n",
        "print(df)\n"
      ],
      "execution_count": 151,
      "outputs": [
        {
          "output_type": "stream",
          "text": [
            "   AAA  BBB  CCC\n",
            "0    4   10  100\n",
            "1    5   20   50\n",
            "2    6   30  -30\n",
            "3    7   40  -50\n",
            "\n",
            "   AAA  BBB  CCC\n",
            "0    4 -999  100\n",
            "1    5  999   50\n",
            "2    6  999  -30\n",
            "3    7  999  -50\n"
          ],
          "name": "stdout"
        }
      ]
    },
    {
      "cell_type": "code",
      "metadata": {
        "colab": {
          "base_uri": "https://localhost:8080/"
        },
        "id": "TOYjTDacKzvR",
        "outputId": "21bf8cc0-3cb4-4516-d066-f604d67ff704"
      },
      "source": [
        "df = pd.DataFrame(\n",
        "        {\"AAA\": [4, 5, 6, 7], \"BBB\": [10, 20, 30, 40], \"CCC\": [100, 50, -30, -50]}\n",
        ")\n",
        "\n",
        "print(df)\n",
        "print()\n",
        "\n",
        "\n",
        "# AAA>=5,   BBB =  999\n",
        "# AAA< 5,   BBB = -999\n",
        "\n",
        "df.BBB = np.where(df.AAA>=5, 999, -999)\n",
        "print(df)\n"
      ],
      "execution_count": 156,
      "outputs": [
        {
          "output_type": "stream",
          "text": [
            "   AAA  BBB  CCC\n",
            "0    4   10  100\n",
            "1    5   20   50\n",
            "2    6   30  -30\n",
            "3    7   40  -50\n",
            "\n",
            "   AAA  BBB  CCC\n",
            "0    4 -999  100\n",
            "1    5  999   50\n",
            "2    6  999  -30\n",
            "3    7  999  -50\n"
          ],
          "name": "stdout"
        }
      ]
    },
    {
      "cell_type": "code",
      "metadata": {
        "id": "Ew_pfw5yK9PC"
      },
      "source": [
        "   AAA  BBB  CCC\n",
        "0    4 -999  100\n",
        "1    5  999   50\n",
        "2    6  999  -30\n",
        "3    7  999  -50"
      ],
      "execution_count": null,
      "outputs": []
    },
    {
      "cell_type": "code",
      "metadata": {
        "colab": {
          "base_uri": "https://localhost:8080/"
        },
        "id": "msTlPhZhLNEI",
        "outputId": "03e2f1ca-d294-4bdc-a5e4-c480fdf78168"
      },
      "source": [
        "a = 6\n",
        "if a>5:\n",
        "  a = 3\n",
        "if a<=5:\n",
        "  a= -3\n",
        "print(a)\n",
        "\n",
        "a = 6\n",
        "if a>5:\n",
        "  a = 3\n",
        "else:\n",
        "  a = -3\n",
        "print(a)"
      ],
      "execution_count": 155,
      "outputs": [
        {
          "output_type": "stream",
          "text": [
            "-3\n",
            "3\n"
          ],
          "name": "stdout"
        }
      ]
    },
    {
      "cell_type": "code",
      "metadata": {
        "colab": {
          "base_uri": "https://localhost:8080/"
        },
        "id": "rqFublV8Mwwt",
        "outputId": "0ddae23d-958d-4fd3-8a4b-2d72f80fdd5a"
      },
      "source": [
        "l = [ 0, 1, 2, 3, 4 ]\n",
        "print(2 in l)\n",
        "print(5 in l)\n",
        "\n",
        "names = [ \"tom\", \"jerry\", \"bob\", \"brute\"]\n",
        "print(\"tom\" in names)"
      ],
      "execution_count": 160,
      "outputs": [
        {
          "output_type": "stream",
          "text": [
            "True\n",
            "False\n",
            "True\n"
          ],
          "name": "stdout"
        }
      ]
    },
    {
      "cell_type": "code",
      "metadata": {
        "colab": {
          "base_uri": "https://localhost:8080/"
        },
        "id": "IB9VeiCANAeD",
        "outputId": "902c2c6f-e325-4ba7-cced-332859c526aa"
      },
      "source": [
        "df = pd.DataFrame(\n",
        "        {\"AAA\": [4, 5, 6, 7], \"BBB\": [10, 20, 30, 40], \"CCC\": [100, 50, -30, -50]}\n",
        ")\n",
        "\n",
        "print(df)\n",
        "print()\n",
        "\n",
        "print(df.AAA<=5)\n",
        "print(df.AAA.isin( [5, 6] ))\n",
        "\n",
        "df.loc[df.AAA.isin([3,5]), 'BBB'] = -1\n",
        "print(df)"
      ],
      "execution_count": 166,
      "outputs": [
        {
          "output_type": "stream",
          "text": [
            "   AAA  BBB  CCC\n",
            "0    4   10  100\n",
            "1    5   20   50\n",
            "2    6   30  -30\n",
            "3    7   40  -50\n",
            "\n",
            "0     True\n",
            "1     True\n",
            "2    False\n",
            "3    False\n",
            "Name: AAA, dtype: bool\n",
            "0    False\n",
            "1     True\n",
            "2     True\n",
            "3    False\n",
            "Name: AAA, dtype: bool\n",
            "   AAA  BBB  CCC\n",
            "0    4   10  100\n",
            "1    5   -1   50\n",
            "2    6   30  -30\n",
            "3    7   40  -50\n"
          ],
          "name": "stdout"
        }
      ]
    },
    {
      "cell_type": "code",
      "metadata": {
        "colab": {
          "base_uri": "https://localhost:8080/"
        },
        "id": "tDVzLH24NAbK",
        "outputId": "68ae3738-0c26-4ab6-966e-97aaf8b9ab20"
      },
      "source": [
        "df = pd.DataFrame(\n",
        "        {\"AAA\": [4, 5, 6, 7], \"BBB\": [10, 20, 30, 40], \"CCC\": [100, 50, -30, -50]}\n",
        ")\n",
        "\n",
        "print(df)\n",
        "print()\n",
        "\n",
        "df.loc[df.index.isin([0, 3, 5]), 'BBB'] = -1\n",
        "print(df)"
      ],
      "execution_count": 167,
      "outputs": [
        {
          "output_type": "stream",
          "text": [
            "   AAA  BBB  CCC\n",
            "0    4   10  100\n",
            "1    5   20   50\n",
            "2    6   30  -30\n",
            "3    7   40  -50\n",
            "\n",
            "   AAA  BBB  CCC\n",
            "0    4   -1  100\n",
            "1    5   20   50\n",
            "2    6   30  -30\n",
            "3    7   -1  -50\n"
          ],
          "name": "stdout"
        }
      ]
    },
    {
      "cell_type": "code",
      "metadata": {
        "colab": {
          "base_uri": "https://localhost:8080/"
        },
        "id": "A8L1XZb8NAYO",
        "outputId": "4feabc72-b81e-472d-ab57-bd4fceff5ea3"
      },
      "source": [
        "df = pd.DataFrame(\n",
        "        {\"AAA\": [4, 5, 6, 7], \"BBB\": [10, 20, 30, 40], \"CCC\": [100, 50, -30, -50]}\n",
        ")\n",
        "\n",
        "print(df)\n",
        "print()\n",
        "\n",
        "# df.loc[df.AAA%2==0, 'BBB'] = -1\n",
        "df.loc[df.index%2==0, 'BBB'] = -1\n",
        "print(df)"
      ],
      "execution_count": 169,
      "outputs": [
        {
          "output_type": "stream",
          "text": [
            "   AAA  BBB  CCC\n",
            "0    4   10  100\n",
            "1    5   20   50\n",
            "2    6   30  -30\n",
            "3    7   40  -50\n",
            "\n",
            "   AAA  BBB  CCC\n",
            "0    4   -1  100\n",
            "1    5   20   50\n",
            "2    6   -1  -30\n",
            "3    7   40  -50\n"
          ],
          "name": "stdout"
        }
      ]
    },
    {
      "cell_type": "code",
      "metadata": {
        "colab": {
          "base_uri": "https://localhost:8080/"
        },
        "id": "N50FMKEaP1Sf",
        "outputId": "c86e2216-1c2a-43ea-9921-ce03e404799b"
      },
      "source": [
        "df = pd.DataFrame(\n",
        "        {\"AAA\": [4, 5, 6, 7], \"BBB\": [10, 20, 30, 40], \"CCC\": [100, 50, -30, -50]}\n",
        ")\n",
        "\n",
        "print(df)\n",
        "print()\n",
        "\n",
        "df.loc[(df.AAA+df.BBB)%2==0, 'BBB'] = -1\n",
        "print(df)"
      ],
      "execution_count": 170,
      "outputs": [
        {
          "output_type": "stream",
          "text": [
            "   AAA  BBB  CCC\n",
            "0    4   10  100\n",
            "1    5   20   50\n",
            "2    6   30  -30\n",
            "3    7   40  -50\n",
            "\n",
            "   AAA  BBB  CCC\n",
            "0    4   -1  100\n",
            "1    5   20   50\n",
            "2    6   -1  -30\n",
            "3    7   40  -50\n"
          ],
          "name": "stdout"
        }
      ]
    },
    {
      "cell_type": "code",
      "metadata": {
        "colab": {
          "base_uri": "https://localhost:8080/"
        },
        "id": "zM9QwcjyQK6n",
        "outputId": "ec29d0c9-a226-4d8d-a854-fa5c56a76eb7"
      },
      "source": [
        "df = pd.DataFrame(\n",
        "        {\"AAA\": [4, 5, 6, 7], \"BBB\": [10, 20, 30, 40], \"CCC\": [100, 50, -30, -50]}\n",
        ")\n",
        "\n",
        "print(df)\n",
        "print()\n",
        "\n",
        "df.CCC = df.BBB\n",
        "print(df)"
      ],
      "execution_count": 171,
      "outputs": [
        {
          "output_type": "stream",
          "text": [
            "   AAA  BBB  CCC\n",
            "0    4   10  100\n",
            "1    5   20   50\n",
            "2    6   30  -30\n",
            "3    7   40  -50\n",
            "\n",
            "   AAA  BBB  CCC\n",
            "0    4   10   10\n",
            "1    5   20   20\n",
            "2    6   30   30\n",
            "3    7   40   40\n"
          ],
          "name": "stdout"
        }
      ]
    },
    {
      "cell_type": "code",
      "metadata": {
        "colab": {
          "base_uri": "https://localhost:8080/"
        },
        "id": "5cayr_mNQb_e",
        "outputId": "84a6e16f-44a1-4232-b1d9-a788d79eb9cb"
      },
      "source": [
        "df = pd.DataFrame(\n",
        "        {\"AAA\": [4, 5, 6, 7], \"BBB\": [10, 20, 30, 40], \"CCC\": [100, 50, -30, -50]}\n",
        ")\n",
        "\n",
        "print(df)\n",
        "print()\n",
        "\n",
        "df.CCC = df.AAA%2==0\n",
        "print(df)\n",
        "\n",
        "df.loc[df.CCC, \"BBB\"] = -1\n",
        "print(df)"
      ],
      "execution_count": 175,
      "outputs": [
        {
          "output_type": "stream",
          "text": [
            "   AAA  BBB  CCC\n",
            "0    4   10  100\n",
            "1    5   20   50\n",
            "2    6   30  -30\n",
            "3    7   40  -50\n",
            "\n",
            "   AAA  BBB    CCC\n",
            "0    4   10   True\n",
            "1    5   20  False\n",
            "2    6   30   True\n",
            "3    7   40  False\n",
            "   AAA  BBB    CCC\n",
            "0    4   -1   True\n",
            "1    5   20  False\n",
            "2    6   -1   True\n",
            "3    7   40  False\n"
          ],
          "name": "stdout"
        }
      ]
    },
    {
      "cell_type": "code",
      "metadata": {
        "colab": {
          "base_uri": "https://localhost:8080/"
        },
        "id": "_IPtLdAsUs68",
        "outputId": "f9c6d02c-c51b-4712-a3e8-d3e183e952bb"
      },
      "source": [
        "df = pd.DataFrame(\n",
        "        {\"AAA\": [4, 5, 6, 7], \"BBB\": [10, 20, 30, 40], \"CCC\": [100, 50, -30, -50]}\n",
        ")\n",
        "\n",
        "print(df)\n",
        "print()\n",
        "\n",
        "df[\"AAA_bak\"] = df.AAA\n",
        "print(df)\n",
        "\n",
        "df[\"AAA_bak\"] = df[\"AAA\"]\n",
        "print(df)\n",
        "\n",
        "# df.BBB_bak = df.BBB # ERROR\n",
        "# print(df)"
      ],
      "execution_count": 181,
      "outputs": [
        {
          "output_type": "stream",
          "text": [
            "   AAA  BBB  CCC\n",
            "0    4   10  100\n",
            "1    5   20   50\n",
            "2    6   30  -30\n",
            "3    7   40  -50\n",
            "\n",
            "   AAA  BBB  CCC  AAA_bak\n",
            "0    4   10  100        4\n",
            "1    5   20   50        5\n",
            "2    6   30  -30        6\n",
            "3    7   40  -50        7\n",
            "   AAA  BBB  CCC  AAA_bak\n",
            "0    4   10  100        4\n",
            "1    5   20   50        5\n",
            "2    6   30  -30        6\n",
            "3    7   40  -50        7\n"
          ],
          "name": "stdout"
        }
      ]
    },
    {
      "cell_type": "code",
      "metadata": {
        "colab": {
          "base_uri": "https://localhost:8080/"
        },
        "id": "0KeyhPspVHws",
        "outputId": "4cf81cf1-ed2e-4f11-cca1-f106d7fdd430"
      },
      "source": [
        "d = {}\n",
        "d[\"tom\"] = 30\n",
        "print(d)"
      ],
      "execution_count": 178,
      "outputs": [
        {
          "output_type": "stream",
          "text": [
            "{'tom': 30}\n"
          ],
          "name": "stdout"
        }
      ]
    },
    {
      "cell_type": "code",
      "metadata": {
        "colab": {
          "base_uri": "https://localhost:8080/"
        },
        "id": "2QVJNo8iWLfJ",
        "outputId": "d8c4d39f-47fb-444b-fa2e-dc072d9017b2"
      },
      "source": [
        "df = pd.DataFrame(\n",
        "        {\"AAA\": [4, 5, 6, 7], \"BBB\": [10, 20, 30, 40], \"CCC\": [100, 50, -30, -50]}\n",
        ")\n",
        "\n",
        "print(df)\n",
        "print()\n",
        "\n",
        "# df[ \"AAA2\" ] = df[ \"AAA\" ]\n",
        "# df[ \"BBB2\" ] = df[ \"BBB\" ]\n",
        "# df[ \"CCC2\" ] = df[ \"CCC\" ]\n",
        "df[ [\"AAA2\", \"BBB2\", \"CCC2\"] ] = df[ [\"AAA\", \"BBB\", \"CCC\"] ]\n",
        "print(df)"
      ],
      "execution_count": 186,
      "outputs": [
        {
          "output_type": "stream",
          "text": [
            "   AAA  BBB  CCC\n",
            "0    4   10  100\n",
            "1    5   20   50\n",
            "2    6   30  -30\n",
            "3    7   40  -50\n",
            "\n",
            "   AAA  BBB  CCC  AAA2  BBB2  CCC2\n",
            "0    4   10  100     4    10   100\n",
            "1    5   20   50     5    20    50\n",
            "2    6   30  -30     6    30   -30\n",
            "3    7   40  -50     7    40   -50\n"
          ],
          "name": "stdout"
        }
      ]
    },
    {
      "cell_type": "code",
      "metadata": {
        "colab": {
          "base_uri": "https://localhost:8080/"
        },
        "id": "HVc5pGBdWbHp",
        "outputId": "8193ddaf-aed3-40af-88ed-8c5a5f0051d7"
      },
      "source": [
        "df = pd.DataFrame(\n",
        "        {\"AAA\": [4, 5, 6, 7], \"BBB\": [10, 20, 30, 40], \"CCC\": [100, 50, -30, -50]}\n",
        ")\n",
        "\n",
        "print(df)\n",
        "print()\n",
        "\n",
        "source_column_names = [ name for name in df.columns ]\n",
        "new_column_names = [ name+\"2\" for name in source_column_names ]\n",
        "print(source_column_names)\n",
        "print(new_column_names)\n",
        "\n",
        "# source_column_names = [ \"AAA\", \"BBB\", \"CCC\" ]\n",
        "# new_column_names = [ \"AAA2\", \"BBB2\", \"CCC2\" ]\n",
        "df[new_column_names] = df[source_column_names]\n",
        "print(df)\n"
      ],
      "execution_count": 197,
      "outputs": [
        {
          "output_type": "stream",
          "text": [
            "   AAA  BBB  CCC\n",
            "0    4   10  100\n",
            "1    5   20   50\n",
            "2    6   30  -30\n",
            "3    7   40  -50\n",
            "\n",
            "['AAA', 'BBB', 'CCC']\n",
            "['AAA2', 'BBB2', 'CCC2']\n",
            "   AAA  BBB  CCC  AAA2  BBB2  CCC2\n",
            "0    4   10  100     4    10   100\n",
            "1    5   20   50     5    20    50\n",
            "2    6   30  -30     6    30   -30\n",
            "3    7   40  -50     7    40   -50\n"
          ],
          "name": "stdout"
        }
      ]
    },
    {
      "cell_type": "code",
      "metadata": {
        "colab": {
          "base_uri": "https://localhost:8080/"
        },
        "id": "Nk_MqprUb8ZN",
        "outputId": "bf751f96-6790-4cc3-9f3a-4d130ef8dc16"
      },
      "source": [
        "df = pd.DataFrame(\n",
        "        {\"AAA\": [\"tom\", \"jerry\", \"tom\", \"bob\"], \"BBB\": [10, 20, 30, 40], \"CCC\": [100, 50, -30, -50]}\n",
        ")\n",
        "\n",
        "print(df)\n",
        "print()\n",
        "\n",
        "def encode(AAA):\n",
        "  if AAA==\"tom\": return 0\n",
        "  if AAA==\"jerry\": return 1\n",
        "  if AAA==\"bob\": return 2\n",
        "  return -1\n",
        "\n",
        "df[\"AAA_encoded\"] = df[[\"AAA\"]].applymap(encode)\n",
        "print(df)"
      ],
      "execution_count": 212,
      "outputs": [
        {
          "output_type": "stream",
          "text": [
            "     AAA  BBB  CCC\n",
            "0    tom   10  100\n",
            "1  jerry   20   50\n",
            "2    tom   30  -30\n",
            "3    bob   40  -50\n",
            "\n",
            "     AAA  BBB  CCC  AAA_encoded\n",
            "0    tom   10  100            0\n",
            "1  jerry   20   50            1\n",
            "2    tom   30  -30            0\n",
            "3    bob   40  -50            2\n"
          ],
          "name": "stdout"
        }
      ]
    },
    {
      "cell_type": "code",
      "metadata": {
        "colab": {
          "base_uri": "https://localhost:8080/"
        },
        "id": "lPtpdiGCeF9Q",
        "outputId": "0b4d1dec-a181-42d7-cca5-da00ef82a2e3"
      },
      "source": [
        "df = pd.DataFrame(\n",
        "        {\"AAA\": [4, 5, 6, 7], \"BBB\": [10, 20, 30, 40], \"CCC\": [100, 50, -30, -50]}\n",
        ")\n",
        "\n",
        "print(df)\n",
        "print()\n",
        "\n",
        "# AAA_encoded : ~3 : 1, 4~5 : 2, 6~ : 3\n",
        "def encode(AAA):\n",
        "  if AAA<=3 : return 1\n",
        "  if 4<=AAA and AAA<=5 : return 2\n",
        "  if 6<=AAA : return 3\n",
        "  return -1\n",
        "\n",
        "df[\"AAA_encoded\"] = df[[\"AAA\"]].applymap(encode)\n",
        "print(df)\n"
      ],
      "execution_count": 211,
      "outputs": [
        {
          "output_type": "stream",
          "text": [
            "   AAA  BBB  CCC\n",
            "0    4   10  100\n",
            "1    5   20   50\n",
            "2    6   30  -30\n",
            "3    7   40  -50\n",
            "\n",
            "   AAA  BBB  CCC  AAA_encoded\n",
            "0    4   10  100            2\n",
            "1    5   20   50            2\n",
            "2    6   30  -30            3\n",
            "3    7   40  -50            3\n"
          ],
          "name": "stdout"
        }
      ]
    },
    {
      "cell_type": "code",
      "metadata": {
        "id": "7Gmz6hM6jXzd"
      },
      "source": [
        "AAA = \"tom\"\n",
        "BBB = 3\n",
        "CCC = 100\n",
        "\n",
        "def encode(AAA):\n",
        "  if AAA<=3 : return 1\n",
        "  if 4<=AAA and AAA<=5 : return 2\n",
        "  if 6<=AAA : return 3\n",
        "  return -1\n",
        "\n",
        "AAA_encoded = encode(AAA)\n",
        "\n",
        "# AAA, BBB, CCC, AAA_encoded\n",
        "\n",
        "\n",
        "save(AAA_encoded, CCC)\n"
      ],
      "execution_count": null,
      "outputs": []
    },
    {
      "cell_type": "code",
      "metadata": {
        "colab": {
          "base_uri": "https://localhost:8080/"
        },
        "id": "O6ieDzkvlgSn",
        "outputId": "a6f7eafd-9ec4-4fa0-b112-205f3191ee0f"
      },
      "source": [
        "df = pd.DataFrame(\n",
        "        {\"AAA\": [6, 5, 4, 7], \"BBB\": [10, 20, 30, 40], \"CCC\": [100, 50, -30, -50]}\n",
        ")\n",
        "\n",
        "print(df)\n",
        "print()\n",
        "\n",
        "# sorted_index = df.AAA.argsort()\n",
        "# print(sorted_index)\n",
        "\n",
        "# print(df.loc[sorted_index])\n",
        "\n",
        "\n",
        "print(df.loc[df.AAA.argsort()])\n",
        "# print(df.loc[pd.Series([2,1,0,3])])\n",
        "# print(df.loc[[2,1,0,3]])"
      ],
      "execution_count": 222,
      "outputs": [
        {
          "output_type": "stream",
          "text": [
            "   AAA  BBB  CCC\n",
            "0    6   10  100\n",
            "1    5   20   50\n",
            "2    4   30  -30\n",
            "3    7   40  -50\n",
            "\n",
            "   AAA  BBB  CCC\n",
            "2    4   30  -30\n",
            "1    5   20   50\n",
            "0    6   10  100\n",
            "3    7   40  -50\n"
          ],
          "name": "stdout"
        }
      ]
    },
    {
      "cell_type": "code",
      "metadata": {
        "colab": {
          "base_uri": "https://localhost:8080/"
        },
        "id": "nvhMlfYjmZKA",
        "outputId": "af39a318-c1b0-42c4-8491-2dffa504b7de"
      },
      "source": [
        "df = pd.DataFrame(\n",
        "        {\"AAA\": [-6, -5, 4, 7], \"BBB\": [10, 20, 30, 40], \"CCC\": [100, 50, -30, -50]}\n",
        ")\n",
        "\n",
        "print(df)\n",
        "print()\n",
        "\n",
        "print(df.AAA.abs())\n",
        "print()\n",
        "\n",
        "sorted_index = df.AAA.abs().argsort()\n",
        "print(sorted_index)\n",
        "\n",
        "print(df.loc[sorted_index])\n"
      ],
      "execution_count": 227,
      "outputs": [
        {
          "output_type": "stream",
          "text": [
            "   AAA  BBB  CCC\n",
            "0   -6   10  100\n",
            "1   -5   20   50\n",
            "2    4   30  -30\n",
            "3    7   40  -50\n",
            "\n",
            "0    6\n",
            "1    5\n",
            "2    4\n",
            "3    7\n",
            "Name: AAA, dtype: int64\n",
            "\n",
            "0    2\n",
            "1    1\n",
            "2    0\n",
            "3    3\n",
            "Name: AAA, dtype: int64\n",
            "   AAA  BBB  CCC\n",
            "2    4   30  -30\n",
            "1   -5   20   50\n",
            "0   -6   10  100\n",
            "3    7   40  -50\n"
          ],
          "name": "stdout"
        }
      ]
    },
    {
      "cell_type": "markdown",
      "metadata": {
        "id": "fpvQZG09rWWN"
      },
      "source": [
        "```\n",
        "6, 5, 4, 7  ->  4, 5, 6, 7\n",
        "-6, -5, 4, 7 -> 4, 5, 6, 7\n",
        "\n",
        "빼기 -> 절대값 -> 소팅\n",
        "6, 5, 4, 7 ->  0.9, -0.1, -1.1, 1.9 -> 0.9, 0.1, 1.1, 1.9 -> 0.1, 1.1, 0.9, 1.9\n",
        "\n",
        "\n",
        "```"
      ]
    },
    {
      "cell_type": "code",
      "metadata": {
        "colab": {
          "base_uri": "https://localhost:8080/"
        },
        "id": "147LqDy_pH3m",
        "outputId": "a4d56e72-cf79-405b-f94f-40a2845c9467"
      },
      "source": [
        "df = pd.DataFrame(\n",
        "        {\"AAA\": [6, 5, 4, 7], \"BBB\": [10, 20, 30, 40], \"CCC\": [100, 50, -30, -50]}\n",
        ")\n",
        "\n",
        "print(df)\n",
        "print()\n",
        "print((df.AAA - 5.1))\n",
        "print((df.AAA - 5.1).abs())\n",
        "print((df.AAA - 5.1).abs().argsort())\n",
        "print(df.loc[ (df.AAA - 5.1).abs().argsort() ])"
      ],
      "execution_count": 231,
      "outputs": [
        {
          "output_type": "stream",
          "text": [
            "   AAA  BBB  CCC\n",
            "0    6   10  100\n",
            "1    5   20   50\n",
            "2    4   30  -30\n",
            "3    7   40  -50\n",
            "\n",
            "0    0.9\n",
            "1   -0.1\n",
            "2   -1.1\n",
            "3    1.9\n",
            "Name: AAA, dtype: float64\n",
            "0    0.9\n",
            "1    0.1\n",
            "2    1.1\n",
            "3    1.9\n",
            "Name: AAA, dtype: float64\n",
            "0    1\n",
            "1    0\n",
            "2    2\n",
            "3    3\n",
            "Name: AAA, dtype: int64\n",
            "   AAA  BBB  CCC\n",
            "1    5   20   50\n",
            "0    6   10  100\n",
            "2    4   30  -30\n",
            "3    7   40  -50\n"
          ],
          "name": "stdout"
        }
      ]
    },
    {
      "cell_type": "code",
      "metadata": {
        "colab": {
          "base_uri": "https://localhost:8080/"
        },
        "id": "TlxRtQgwwvn-",
        "outputId": "1101f73c-a439-4295-b365-7e3bb7f2548f"
      },
      "source": [
        "from numpy import nan as NAN\n",
        "\n",
        "df = pd.DataFrame([[NAN, 2, NAN, 0],\n",
        "                   [3, 4, NAN, 1],\n",
        "                   [NAN, NAN, NAN, 5],\n",
        "                   [NAN, 3, NAN, 4]],\n",
        "                  columns=list('ABCD'))\n",
        "\n",
        "# df = pd.DataFrame([[NAN, 2, NAN, 0],\n",
        "#                    [3, 4, NAN, 1],\n",
        "#                    [NAN, NAN, NAN, 5],\n",
        "#                    [NAN, 3, NAN, 4]],\n",
        "#                   columns=['A', 'B', 'C', 'D'])\n",
        "print(df, \"\\n\")\n",
        "\n",
        "print(df.isnull(), \"\\n\")\n",
        "\n",
        "print(df.isnull().any(), \"\\n\")\n",
        "\n",
        "print(df.isnull().any().any(), \"\\n\")"
      ],
      "execution_count": 242,
      "outputs": [
        {
          "output_type": "stream",
          "text": [
            "     A    B   C  D\n",
            "0  NaN  2.0 NaN  0\n",
            "1  3.0  4.0 NaN  1\n",
            "2  NaN  NaN NaN  5\n",
            "3  NaN  3.0 NaN  4 \n",
            "\n",
            "       A      B     C      D\n",
            "0   True  False  True  False\n",
            "1  False  False  True  False\n",
            "2   True   True  True  False\n",
            "3   True  False  True  False \n",
            "\n",
            "A     True\n",
            "B     True\n",
            "C     True\n",
            "D    False\n",
            "dtype: bool \n",
            "\n",
            "True \n",
            "\n"
          ],
          "name": "stdout"
        }
      ]
    },
    {
      "cell_type": "code",
      "metadata": {
        "id": "xf-FyGSYw7rd"
      },
      "source": [
        "l = [1,,2]"
      ],
      "execution_count": null,
      "outputs": []
    },
    {
      "cell_type": "code",
      "metadata": {
        "colab": {
          "base_uri": "https://localhost:8080/"
        },
        "id": "MnGrwHK3xp04",
        "outputId": "a9525b64-b586-4fd9-d8f7-74fb02da3e37"
      },
      "source": [
        "s = \"ABCD\"\n",
        "print(s[0])\n",
        "print(s[1:3])\n",
        "l = list(s)\n",
        "print(l)"
      ],
      "execution_count": 238,
      "outputs": [
        {
          "output_type": "stream",
          "text": [
            "A\n",
            "BC\n",
            "['A', 'B', 'C', 'D']\n"
          ],
          "name": "stdout"
        }
      ]
    },
    {
      "cell_type": "code",
      "metadata": {
        "colab": {
          "base_uri": "https://localhost:8080/"
        },
        "id": "sGvSPEaozTY9",
        "outputId": "dc5eb47b-2b47-410a-f29e-dc3cb5469c6b"
      },
      "source": [
        "from numpy import nan as NAN\n",
        "\n",
        "df = pd.DataFrame([[NAN, 2, NAN, 0],\n",
        "                   [3, 4, NAN, 1],\n",
        "                   [NAN, NAN, NAN, 5],\n",
        "                   [NAN, 3, NAN, 4]],\n",
        "                  columns=list('ABCD'))\n",
        "\n",
        "# df = pd.DataFrame([[NAN, 2, NAN, 0],\n",
        "#                    [3, 4, NAN, 1],\n",
        "#                    [NAN, NAN, NAN, 5],\n",
        "#                    [NAN, 3, NAN, 4]],\n",
        "#                   columns=['A', 'B', 'C', 'D'])\n",
        "print(df, \"\\n\")\n",
        "\n",
        "print(df.isnull(), \"\\n\")\n",
        "print(df.isnull().sum(), \"\\n\")\n",
        "print(df.isnull().sum().sum(), \"\\n\")\n"
      ],
      "execution_count": 244,
      "outputs": [
        {
          "output_type": "stream",
          "text": [
            "     A    B   C  D\n",
            "0  NaN  2.0 NaN  0\n",
            "1  3.0  4.0 NaN  1\n",
            "2  NaN  NaN NaN  5\n",
            "3  NaN  3.0 NaN  4 \n",
            "\n",
            "       A      B     C      D\n",
            "0   True  False  True  False\n",
            "1  False  False  True  False\n",
            "2   True   True  True  False\n",
            "3   True  False  True  False \n",
            "\n",
            "A    3\n",
            "B    1\n",
            "C    4\n",
            "D    0\n",
            "dtype: int64 \n",
            "\n",
            "8 \n",
            "\n"
          ],
          "name": "stdout"
        }
      ]
    },
    {
      "cell_type": "code",
      "metadata": {
        "colab": {
          "base_uri": "https://localhost:8080/"
        },
        "id": "IBmhBRYBz-cx",
        "outputId": "4c089ce5-fbf7-42ad-f7ba-69766e7655b4"
      },
      "source": [
        "from numpy import nan as NAN\n",
        "\n",
        "df = pd.DataFrame([[NAN, 2, NAN, 0],\n",
        "                   [3, 4, NAN, 1],\n",
        "                   [NAN, NAN, NAN, 5],\n",
        "                   [NAN, 3, NAN, 4]],\n",
        "                  columns=list('ABCD'))\n",
        "\n",
        "print(len(df))\n",
        "\n",
        "# print(df.isnull(), \"\\n\")\n",
        "print(df.isnull().sum()/len(df)*100, \"\\n\")\n"
      ],
      "execution_count": 248,
      "outputs": [
        {
          "output_type": "stream",
          "text": [
            "4\n",
            "A     75.0\n",
            "B     25.0\n",
            "C    100.0\n",
            "D      0.0\n",
            "dtype: float64 \n",
            "\n"
          ],
          "name": "stdout"
        }
      ]
    },
    {
      "cell_type": "code",
      "metadata": {
        "colab": {
          "base_uri": "https://localhost:8080/"
        },
        "id": "xY4orrJn21AW",
        "outputId": "0fb47f3c-bcc0-4a7c-9b0b-9fa146ee0b04"
      },
      "source": [
        "from numpy import nan as NAN\n",
        "\n",
        "df = pd.DataFrame([[1, 2, 2, 0],\n",
        "                   [3, 4, 3, 1],\n",
        "                   [NAN, NAN, NAN, 5],\n",
        "                   [1, 3, 3, 4]],\n",
        "                  columns=list('ABCD'))\n",
        "\n",
        "\n",
        "# print(df.dropna(axis=0), \"\\n\")\n",
        "print(df.dropna(), \"\\n\")\n"
      ],
      "execution_count": 254,
      "outputs": [
        {
          "output_type": "stream",
          "text": [
            "     A    B    C  D\n",
            "0  1.0  2.0  2.0  0\n",
            "1  3.0  4.0  3.0  1\n",
            "3  1.0  3.0  3.0  4 \n",
            "\n"
          ],
          "name": "stdout"
        }
      ]
    },
    {
      "cell_type": "code",
      "metadata": {
        "colab": {
          "base_uri": "https://localhost:8080/"
        },
        "id": "lD-7T-CN3Hh6",
        "outputId": "32ab3741-0b7d-40f3-c3ab-2049e7f0930d"
      },
      "source": [
        "from numpy import nan as NAN\n",
        "\n",
        "df = pd.DataFrame([[1, NAN, 2, 0],\n",
        "                   [3, NAN, 3, 1],\n",
        "                   [2, NAN, 3, 5],\n",
        "                   [1, 3, 3, 4]],\n",
        "                  columns=list('ABCD'))\n",
        "\n",
        "\n",
        "print(df.dropna(axis=1), \"\\n\")"
      ],
      "execution_count": 253,
      "outputs": [
        {
          "output_type": "stream",
          "text": [
            "   A  C  D\n",
            "0  1  2  0\n",
            "1  3  3  1\n",
            "2  2  3  5\n",
            "3  1  3  4 \n",
            "\n"
          ],
          "name": "stdout"
        }
      ]
    }
  ]
}