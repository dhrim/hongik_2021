{
  "nbformat": 4,
  "nbformat_minor": 0,
  "metadata": {
    "colab": {
      "name": "2021_05_14_실습내용.ipynb",
      "provenance": [],
      "collapsed_sections": []
    },
    "kernelspec": {
      "name": "python3",
      "display_name": "Python 3"
    },
    "language_info": {
      "name": "python"
    }
  },
  "cells": [
    {
      "cell_type": "code",
      "metadata": {
        "id": "b6gANDhKLj1U"
      },
      "source": [
        "import pandas as pd\n",
        "import numpy as np"
      ],
      "execution_count": 3,
      "outputs": []
    },
    {
      "cell_type": "code",
      "metadata": {
        "colab": {
          "base_uri": "https://localhost:8080/"
        },
        "id": "mXFdUb-5Loo9",
        "outputId": "9db166d8-5691-47f2-d97e-d95c8709cce3"
      },
      "source": [
        "df = pd.DataFrame([[np.nan, 2, np.nan, 0],\n",
        "                   [3, 4, np.nan, 1],\n",
        "                   [np.nan, np.nan, np.nan, 5],\n",
        "                   [np.nan, 3, np.nan, 4]],\n",
        "                  columns=list('ABCD'))\n",
        "\n",
        "print(df)\n",
        "print()\n",
        "\n",
        "print(df.fillna(0))\n",
        "\n"
      ],
      "execution_count": 5,
      "outputs": [
        {
          "output_type": "stream",
          "text": [
            "     A    B   C  D\n",
            "0  NaN  2.0 NaN  0\n",
            "1  3.0  4.0 NaN  1\n",
            "2  NaN  NaN NaN  5\n",
            "3  NaN  3.0 NaN  4\n",
            "\n",
            "     A    B    C  D\n",
            "0  0.0  2.0  0.0  0\n",
            "1  3.0  4.0  0.0  1\n",
            "2  0.0  0.0  0.0  5\n",
            "3  0.0  3.0  0.0  4\n"
          ],
          "name": "stdout"
        }
      ]
    },
    {
      "cell_type": "code",
      "metadata": {
        "colab": {
          "base_uri": "https://localhost:8080/"
        },
        "id": "1lx8bsAkMRW5",
        "outputId": "ddc566c2-1951-4e60-ab1d-62ac7835a0a2"
      },
      "source": [
        "df = pd.DataFrame([[np.nan, 2, np.nan, 0],\n",
        "                   [3, 4, np.nan, 1],\n",
        "                   [np.nan, np.nan, np.nan, 5],\n",
        "                   [np.nan, 3, np.nan, 4]],\n",
        "                  columns=list('ABCD'))\n",
        "\n",
        "print(df)\n",
        "print()\n",
        "\n",
        "values = { \"A\":0, \"B\":1, \"C\":2, \"D\":3 }\n",
        "print(df.fillna(value=values))"
      ],
      "execution_count": 6,
      "outputs": [
        {
          "output_type": "stream",
          "text": [
            "     A    B   C  D\n",
            "0  NaN  2.0 NaN  0\n",
            "1  3.0  4.0 NaN  1\n",
            "2  NaN  NaN NaN  5\n",
            "3  NaN  3.0 NaN  4\n",
            "\n",
            "     A    B    C  D\n",
            "0  0.0  2.0  2.0  0\n",
            "1  3.0  4.0  2.0  1\n",
            "2  0.0  1.0  2.0  5\n",
            "3  0.0  3.0  2.0  4\n"
          ],
          "name": "stdout"
        }
      ]
    },
    {
      "cell_type": "code",
      "metadata": {
        "colab": {
          "base_uri": "https://localhost:8080/"
        },
        "id": "kGnGUWYPNCFD",
        "outputId": "0c074707-437e-4548-b4ea-d2c1b8ec6561"
      },
      "source": [
        "df = pd.DataFrame([[np.nan, 2, np.nan, 0],\n",
        "                   [3, 4, np.nan, 1],\n",
        "                   [np.nan, np.nan, np.nan, 5],\n",
        "                   [np.nan, 3, np.nan, 4]],\n",
        "                  columns=list('ABCD'))\n",
        "\n",
        "print(df)\n",
        "print()\n",
        "\n",
        "values = { \"A\":0, \"B\":1 }\n",
        "print(df.fillna(value=values))"
      ],
      "execution_count": 7,
      "outputs": [
        {
          "output_type": "stream",
          "text": [
            "     A    B   C  D\n",
            "0  NaN  2.0 NaN  0\n",
            "1  3.0  4.0 NaN  1\n",
            "2  NaN  NaN NaN  5\n",
            "3  NaN  3.0 NaN  4\n",
            "\n",
            "     A    B   C  D\n",
            "0  0.0  2.0 NaN  0\n",
            "1  3.0  4.0 NaN  1\n",
            "2  0.0  1.0 NaN  5\n",
            "3  0.0  3.0 NaN  4\n"
          ],
          "name": "stdout"
        }
      ]
    },
    {
      "cell_type": "code",
      "metadata": {
        "colab": {
          "base_uri": "https://localhost:8080/"
        },
        "id": "v5cAsDMYNB9O",
        "outputId": "960655f8-2458-4104-875a-cae0b25bb529"
      },
      "source": [
        "df = pd.DataFrame([[0, 1, 2, 3],\n",
        "                   [4, 5, 6, 7],\n",
        "                   [8, 9, 10, 11],\n",
        "                   [12, np.nan, 14, 15],\n",
        "                   [16, np.nan, 18, 19]],\n",
        "                  columns=list('ABCD'))\n",
        "\n",
        "# m = df.B.mean()\n",
        "# fill_value = { \"B\":m }\n",
        "fill_value = { \"B\":df.B.mean() }\n",
        "\n",
        "print(df.fillna(value=fill_value))"
      ],
      "execution_count": 9,
      "outputs": [
        {
          "output_type": "stream",
          "text": [
            "    A    B   C   D\n",
            "0   0  1.0   2   3\n",
            "1   4  5.0   6   7\n",
            "2   8  9.0  10  11\n",
            "3  12  5.0  14  15\n",
            "4  16  5.0  18  19\n"
          ],
          "name": "stdout"
        }
      ]
    },
    {
      "cell_type": "code",
      "metadata": {
        "colab": {
          "base_uri": "https://localhost:8080/"
        },
        "id": "EmUfw5NlPT5k",
        "outputId": "055b1b0e-b168-4e4d-bbab-d51267ee1f94"
      },
      "source": [
        "df = pd.DataFrame([[0, 1, 2, 3],\n",
        "                   [4, 5, 6, 7],\n",
        "                   [8, 9, 10, 11],\n",
        "                   [12, np.nan, np.nan, 15],\n",
        "                   [16, np.nan, 18, 19]],\n",
        "                  columns=list('ABCD'))\n",
        "\n",
        "fill_value = { \"B\":df.B.mean(), \"C\":df.C.mean() }\n",
        "\n",
        "print(df.fillna(value=fill_value))"
      ],
      "execution_count": 14,
      "outputs": [
        {
          "output_type": "stream",
          "text": [
            "    A    B     C   D\n",
            "0   0  1.0   2.0   3\n",
            "1   4  5.0   6.0   7\n",
            "2   8  9.0  10.0  11\n",
            "3  12  5.0   9.0  15\n",
            "4  16  5.0  18.0  19\n"
          ],
          "name": "stdout"
        }
      ]
    },
    {
      "cell_type": "code",
      "metadata": {
        "colab": {
          "base_uri": "https://localhost:8080/"
        },
        "id": "02D3BtybQNyg",
        "outputId": "ab01272f-06c8-443c-efc2-efbfb7b0284b"
      },
      "source": [
        "df = pd.DataFrame([[0, 1, 2, 3],\n",
        "                   [4, 5, 6, 7],\n",
        "                   [8, 9, 10, 11],\n",
        "                   [12, np.nan, np.nan, 15],\n",
        "                   [16, np.nan, 18, 19]],\n",
        "                  columns=list('ABCD'))\n",
        "\n",
        "def fill_mean(x):\n",
        "  return x.fillna(x.mean())\n",
        "  \n",
        "df.apply(fill_mean)\n",
        "\n",
        "print(df.fillna(value=fill_value))"
      ],
      "execution_count": 16,
      "outputs": [
        {
          "output_type": "stream",
          "text": [
            "    A    B     C   D\n",
            "0   0  1.0   2.0   3\n",
            "1   4  5.0   6.0   7\n",
            "2   8  9.0  10.0  11\n",
            "3  12  5.0   9.0  15\n",
            "4  16  5.0  18.0  19\n"
          ],
          "name": "stdout"
        }
      ]
    },
    {
      "cell_type": "code",
      "metadata": {
        "colab": {
          "base_uri": "https://localhost:8080/"
        },
        "id": "FrgurM50PsPU",
        "outputId": "27643510-cd00-4d5c-8c0e-67097a1e34c2"
      },
      "source": [
        "df = pd.DataFrame([[0, 1, 2, 3],\n",
        "                   [4, 5, 6, 7],\n",
        "                   [8, 9, 10, 11],\n",
        "                   [12, np.nan, np.nan, 15],\n",
        "                   [16, np.nan, 18, 19]],\n",
        "                  columns=list('ABCD'))\n"
      ],
      "execution_count": 13,
      "outputs": [
        {
          "output_type": "stream",
          "text": [
            "    A    B     C   D\n",
            "0   0  1.0   2.0   3\n",
            "1   4  5.0   6.0   7\n",
            "2   8  9.0  10.0  11\n",
            "3  12  0.0   NaN  15\n",
            "4  16  0.0  18.0  19\n"
          ],
          "name": "stdout"
        }
      ]
    },
    {
      "cell_type": "markdown",
      "metadata": {
        "id": "yUNmefCYRqMI"
      },
      "source": [
        "# inplace 옵션"
      ]
    },
    {
      "cell_type": "code",
      "metadata": {
        "colab": {
          "base_uri": "https://localhost:8080/"
        },
        "id": "kZotxhkTRRNz",
        "outputId": "441b0d12-eb70-4a18-b967-6621d8af0a14"
      },
      "source": [
        "df = pd.DataFrame([[0, 1, 2, 3],\n",
        "                   [4, 5, 6, 7],\n",
        "                   [8, 9, 10, 11],\n",
        "                   [12, np.nan, np.nan, 15],\n",
        "                   [16, np.nan, 18, 19]],\n",
        "                  columns=list('ABCD'))\n",
        "\n",
        "fill_value = { \"B\":df.B.mean(), \"C\":df.C.mean() }\n",
        "\n",
        "df.fillna(value=fill_value, inplace=True)\n",
        "print(df)"
      ],
      "execution_count": 22,
      "outputs": [
        {
          "output_type": "stream",
          "text": [
            "    A    B     C   D\n",
            "0   0  1.0   2.0   3\n",
            "1   4  5.0   6.0   7\n",
            "2   8  9.0  10.0  11\n",
            "3  12  5.0   9.0  15\n",
            "4  16  5.0  18.0  19\n"
          ],
          "name": "stdout"
        }
      ]
    },
    {
      "cell_type": "code",
      "metadata": {
        "id": "irIWo0fCRT5p"
      },
      "source": [
        "filled_df = df.fillna(value=fill_value)\n",
        "print(filled_df)\n",
        "\n",
        "print(df.fillna(value=fill_value))\n"
      ],
      "execution_count": null,
      "outputs": []
    },
    {
      "cell_type": "code",
      "metadata": {
        "colab": {
          "base_uri": "https://localhost:8080/"
        },
        "id": "Syl99M5TR74m",
        "outputId": "82754032-1633-4159-e8fa-9c2d9fe46f2e"
      },
      "source": [
        "def my_sum():\n",
        "  pass\n",
        "\n",
        "print(my_sum())"
      ],
      "execution_count": 21,
      "outputs": [
        {
          "output_type": "stream",
          "text": [
            "None\n"
          ],
          "name": "stdout"
        }
      ]
    },
    {
      "cell_type": "code",
      "metadata": {
        "colab": {
          "base_uri": "https://localhost:8080/"
        },
        "id": "bSXd55CjSwZQ",
        "outputId": "46c00469-2977-4f3c-e2d9-cceb7e49b5e3"
      },
      "source": [
        "l = [ 3, 2, 1, 4 ]\n",
        "l.sort()\n",
        "print(l)"
      ],
      "execution_count": 24,
      "outputs": [
        {
          "output_type": "stream",
          "text": [
            "[1, 2, 3, 4]\n"
          ],
          "name": "stdout"
        }
      ]
    },
    {
      "cell_type": "code",
      "metadata": {
        "colab": {
          "base_uri": "https://localhost:8080/"
        },
        "id": "4ezAaF_PTZQa",
        "outputId": "3d6a0779-5577-4468-c075-3a2af4281977"
      },
      "source": [
        "df = pd.DataFrame([[np.nan, 2, np.nan, 0],\n",
        "                   [3, 4, np.nan, 1],\n",
        "                   [np.nan, np.nan, np.nan, 5],\n",
        "                   [np.nan, 3, np.nan, 4]],\n",
        "                  columns=list('ABCD'))\n",
        "\n",
        "print(df)\n",
        "print()\n",
        "\n",
        "df.fillna(method=\"ffill\", inplace=True)\n",
        "print(df)"
      ],
      "execution_count": 25,
      "outputs": [
        {
          "output_type": "stream",
          "text": [
            "     A    B   C  D\n",
            "0  NaN  2.0 NaN  0\n",
            "1  3.0  4.0 NaN  1\n",
            "2  NaN  NaN NaN  5\n",
            "3  NaN  3.0 NaN  4\n",
            "\n",
            "     A    B   C  D\n",
            "0  NaN  2.0 NaN  0\n",
            "1  3.0  4.0 NaN  1\n",
            "2  3.0  4.0 NaN  5\n",
            "3  3.0  3.0 NaN  4\n"
          ],
          "name": "stdout"
        }
      ]
    },
    {
      "cell_type": "code",
      "metadata": {
        "colab": {
          "base_uri": "https://localhost:8080/"
        },
        "id": "WkDDnwemUCor",
        "outputId": "14929482-7394-4198-ede7-4af059651570"
      },
      "source": [
        "df = pd.DataFrame([[np.nan, 2, np.nan, 0],\n",
        "                   [3, 4, np.nan, 1],\n",
        "                   [np.nan, np.nan, np.nan, 5],\n",
        "                   [np.nan, 3, np.nan, 4]],\n",
        "                  columns=list('ABCD'))\n",
        "\n",
        "print(df)\n",
        "print()\n",
        "\n",
        "df.fillna(method=\"ffill\", inplace=True)\n",
        "print(df)\n",
        "print()\n",
        "\n",
        "df.fillna(method=\"bfill\", inplace=True)\n",
        "print(df)"
      ],
      "execution_count": 30,
      "outputs": [
        {
          "output_type": "stream",
          "text": [
            "     A    B   C  D\n",
            "0  NaN  2.0 NaN  0\n",
            "1  3.0  4.0 NaN  1\n",
            "2  NaN  NaN NaN  5\n",
            "3  NaN  3.0 NaN  4\n",
            "\n",
            "     A    B   C  D\n",
            "0  NaN  2.0 NaN  0\n",
            "1  3.0  4.0 NaN  1\n",
            "2  3.0  4.0 NaN  5\n",
            "3  3.0  3.0 NaN  4\n",
            "\n",
            "     A    B   C  D\n",
            "0  3.0  2.0 NaN  0\n",
            "1  3.0  4.0 NaN  1\n",
            "2  3.0  4.0 NaN  5\n",
            "3  3.0  3.0 NaN  4\n"
          ],
          "name": "stdout"
        }
      ]
    },
    {
      "cell_type": "code",
      "metadata": {
        "colab": {
          "base_uri": "https://localhost:8080/"
        },
        "id": "Cl95Mo4JUTyE",
        "outputId": "58c9b199-a164-4eda-d151-50ec46b2a17e"
      },
      "source": [
        "df = pd.DataFrame([[np.nan, 2, np.nan, 0],\n",
        "                   [3, 4, np.nan, 1],\n",
        "                   [np.nan, np.nan, np.nan, 5],\n",
        "                   [np.nan, 3, np.nan, 4]],\n",
        "                  columns=list('ABCD'))\n",
        "\n",
        "print(df)\n",
        "print()\n",
        "\n",
        "df.B.interpolate(inplace=True)\n",
        "print(df)"
      ],
      "execution_count": 28,
      "outputs": [
        {
          "output_type": "stream",
          "text": [
            "     A    B   C  D\n",
            "0  NaN  2.0 NaN  0\n",
            "1  3.0  4.0 NaN  1\n",
            "2  NaN  NaN NaN  5\n",
            "3  NaN  3.0 NaN  4\n",
            "\n",
            "     A    B   C  D\n",
            "0  NaN  2.0 NaN  0\n",
            "1  3.0  4.0 NaN  1\n",
            "2  NaN  3.5 NaN  5\n",
            "3  NaN  3.0 NaN  4\n"
          ],
          "name": "stdout"
        }
      ]
    },
    {
      "cell_type": "code",
      "metadata": {
        "colab": {
          "base_uri": "https://localhost:8080/"
        },
        "id": "YM87B7KyVdHJ",
        "outputId": "b5d94cbd-14bc-4404-8980-6a84e95617ba"
      },
      "source": [
        "df = pd.DataFrame(\n",
        "        {\"AAA\": [4, 5, 6, 7], \"BBB\": [10, 20, 35, 10], \"CCC\": [100, 50, -30, -50]}\n",
        ")\n",
        "\n",
        "print(df)\n",
        "print()\n",
        "\n",
        "print(df.mean())\n",
        "print(type(df.mean()))\n",
        "print(df.mean().mean())\n",
        "print()\n",
        "\n",
        "print(df.sum())\n",
        "print(df.sum().sum())\n"
      ],
      "execution_count": 36,
      "outputs": [
        {
          "output_type": "stream",
          "text": [
            "   AAA  BBB  CCC\n",
            "0    4   10  100\n",
            "1    5   20   50\n",
            "2    6   35  -30\n",
            "3    7   10  -50\n",
            "\n",
            "AAA     5.50\n",
            "BBB    18.75\n",
            "CCC    17.50\n",
            "dtype: float64\n",
            "<class 'pandas.core.series.Series'>\n",
            "13.916666666666666\n",
            "\n",
            "AAA    22\n",
            "BBB    75\n",
            "CCC    70\n",
            "dtype: int64\n",
            "167\n"
          ],
          "name": "stdout"
        }
      ]
    },
    {
      "cell_type": "markdown",
      "metadata": {
        "id": "H3mEh0kqZEu1"
      },
      "source": [
        "# Quiz. BBB 칼럼은 10단의 값을 가져야 한다. 그리고 CCC 칼럼은 최대 50, 최소 50이어야 한다."
      ]
    },
    {
      "cell_type": "code",
      "metadata": {
        "colab": {
          "base_uri": "https://localhost:8080/"
        },
        "id": "-8ety5M7ZEdK",
        "outputId": "c808728f-d138-4eff-9612-2df1066edf7e"
      },
      "source": [
        "df = pd.DataFrame(\n",
        "        {\"AAA\": [4, 5, 6, 7], \"BBB\": [10, 20, 35, 10], \"CCC\": [100, 50, -30, -50]}\n",
        ")\n",
        "\n",
        "print(df)\n",
        "print()\n",
        "\n",
        "# df.BBB = (df.BBB/10).round()*10\n",
        "df.BBB = (df.BBB/10).astype(int)*10\n",
        "print(df)\n",
        "print()\n",
        "\n",
        "MAX = 50\n",
        "MIN = -50\n",
        "df.loc[df.CCC>MAX, 'CCC'] = MAX\n",
        "df.loc[df.CCC<MIN, 'CCC'] = MIN\n",
        "\n",
        "print(df)\n",
        "\n",
        "\n"
      ],
      "execution_count": 45,
      "outputs": [
        {
          "output_type": "stream",
          "text": [
            "   AAA  BBB  CCC\n",
            "0    4   10  100\n",
            "1    5   20   50\n",
            "2    6   35  -30\n",
            "3    7   10  -50\n",
            "\n",
            "   AAA  BBB  CCC\n",
            "0    4   10  100\n",
            "1    5   20   50\n",
            "2    6   30  -30\n",
            "3    7   10  -50\n",
            "\n",
            "   AAA  BBB  CCC\n",
            "0    4   10   50\n",
            "1    5   20   50\n",
            "2    6   30  -30\n",
            "3    7   10  -50\n"
          ],
          "name": "stdout"
        }
      ]
    },
    {
      "cell_type": "code",
      "metadata": {
        "colab": {
          "base_uri": "https://localhost:8080/"
        },
        "id": "mP2QCDbsZpAw",
        "outputId": "b0028e68-ac55-4347-fc5f-37779348d0eb"
      },
      "source": [
        "l = [ 10, 20, 35, 10 ]\n",
        "l2 = []\n",
        "for i in l:\n",
        "  l2.append(int(i/10)*10)\n",
        "print(l2)\n",
        "\n",
        "l = [100, 50, -30, -50]\n",
        "MAX = 50\n",
        "MIN = -50\n",
        "l2 = []\n",
        "for i in l:\n",
        "  if i > MAX:\n",
        "    l2.append(MAX)\n",
        "  elif i<MIN:\n",
        "    l2.append(MIN)\n",
        "  else:\n",
        "    l2.append(i)\n",
        "\n",
        "print(l2)"
      ],
      "execution_count": 40,
      "outputs": [
        {
          "output_type": "stream",
          "text": [
            "[10, 20, 30, 10]\n",
            "[50, 50, -30, -50]\n"
          ],
          "name": "stdout"
        }
      ]
    },
    {
      "cell_type": "markdown",
      "metadata": {
        "id": "FZekGP_PdMAZ"
      },
      "source": [
        "# 정규화"
      ]
    },
    {
      "cell_type": "code",
      "metadata": {
        "colab": {
          "base_uri": "https://localhost:8080/"
        },
        "id": "H3GIOT96dNc7",
        "outputId": "c711081a-132f-4c92-aee1-0a158effaef0"
      },
      "source": [
        "df = pd.DataFrame(\n",
        "        {\"AAA\": [4, 5, 6, 7], \"BBB\": [10, 20, 35, 10], \"CCC\": [100, 50, -30, -50]}\n",
        ")\n",
        "\n",
        "print(df)\n",
        "print()\n",
        "\n",
        "M = df.max()\n",
        "m = df.min()\n",
        "\n",
        "print(M)\n",
        "print(m)\n",
        "\n",
        "df2 = (df - m) / (M - m)\n",
        "\n",
        "print(df2)"
      ],
      "execution_count": 49,
      "outputs": [
        {
          "output_type": "stream",
          "text": [
            "   AAA  BBB  CCC\n",
            "0    4   10  100\n",
            "1    5   20   50\n",
            "2    6   35  -30\n",
            "3    7   10  -50\n",
            "\n",
            "AAA      7\n",
            "BBB     35\n",
            "CCC    100\n",
            "dtype: int64\n",
            "AAA     4\n",
            "BBB    10\n",
            "CCC   -50\n",
            "dtype: int64\n",
            "        AAA  BBB       CCC\n",
            "0  0.000000  0.0  1.000000\n",
            "1  0.333333  0.4  0.666667\n",
            "2  0.666667  1.0  0.133333\n",
            "3  1.000000  0.0  0.000000\n"
          ],
          "name": "stdout"
        }
      ]
    },
    {
      "cell_type": "code",
      "metadata": {
        "colab": {
          "base_uri": "https://localhost:8080/"
        },
        "id": "M07Hbv-VdW1Z",
        "outputId": "5ef2ed2d-f667-4a1d-f884-2a5f64d170cd"
      },
      "source": [
        "l = [ 1, 2, 3, 4 ]\n",
        "M = max(l)\n",
        "m = min(l)\n",
        "print(M, m)\n",
        "\n",
        "l2 = []\n",
        "for i in l:\n",
        "  l2.append( (i-m) / (M-m) )\n",
        "\n",
        "print(l2)"
      ],
      "execution_count": 47,
      "outputs": [
        {
          "output_type": "stream",
          "text": [
            "4 1\n",
            "[0.0, 0.3333333333333333, 0.6666666666666666, 1.0]\n"
          ],
          "name": "stdout"
        }
      ]
    },
    {
      "cell_type": "code",
      "metadata": {
        "colab": {
          "base_uri": "https://localhost:8080/"
        },
        "id": "1BxNAmKQdd_M",
        "outputId": "70b49ad3-140a-40b0-e7b8-41cde706fbc1"
      },
      "source": [
        "df = pd.DataFrame(\n",
        "        {\"AAA\": [4, 5, 6, 7], \"BBB\": [10, 20, 35, 10], \"CCC\": [100, 50, -30, -50]}\n",
        ")\n",
        "\n",
        "print(df)\n",
        "print()\n",
        "\n",
        "df2 = (df - df.min()) / (df.max() - df.min())\n",
        "print(df2)"
      ],
      "execution_count": 51,
      "outputs": [
        {
          "output_type": "stream",
          "text": [
            "   AAA  BBB  CCC\n",
            "0    4   10  100\n",
            "1    5   20   50\n",
            "2    6   35  -30\n",
            "3    7   10  -50\n",
            "\n",
            "        AAA  BBB       CCC\n",
            "0  0.000000  0.0  1.000000\n",
            "1  0.333333  0.4  0.666667\n",
            "2  0.666667  1.0  0.133333\n",
            "3  1.000000  0.0  0.000000\n"
          ],
          "name": "stdout"
        }
      ]
    },
    {
      "cell_type": "code",
      "metadata": {
        "colab": {
          "base_uri": "https://localhost:8080/"
        },
        "id": "BZNn6VkVf7YK",
        "outputId": "ad755e30-ade3-4f86-8969-e5840e39d154"
      },
      "source": [
        "df = pd.DataFrame(\n",
        "        {\"AAA\": [4, 5, 6, 7], \"BBB\": [10, 20, 35, 10], \"CCC\": [100, 50, -30, -50]}\n",
        ")\n",
        "\n",
        "print(df)\n",
        "print()\n",
        "\n",
        "df2 = (df - df.mean()) / df.std()\n",
        "print(df2)"
      ],
      "execution_count": 52,
      "outputs": [
        {
          "output_type": "stream",
          "text": [
            "   AAA  BBB  CCC\n",
            "0    4   10  100\n",
            "1    5   20   50\n",
            "2    6   35  -30\n",
            "3    7   10  -50\n",
            "\n",
            "        AAA       BBB       CCC\n",
            "0 -1.161895 -0.740613  1.179575\n",
            "1 -0.387298  0.105802  0.464681\n",
            "2  0.387298  1.375424 -0.679149\n",
            "3  1.161895 -0.740613 -0.965107\n"
          ],
          "name": "stdout"
        }
      ]
    },
    {
      "cell_type": "markdown",
      "metadata": {
        "id": "wBBW_5a-hRBQ"
      },
      "source": [
        "# Numpy"
      ]
    },
    {
      "cell_type": "code",
      "metadata": {
        "colab": {
          "base_uri": "https://localhost:8080/"
        },
        "id": "Lv0fZUUuhJDj",
        "outputId": "2cae2677-9090-4ea6-dbe4-1c842faba8a9"
      },
      "source": [
        "!pip install numpy"
      ],
      "execution_count": 53,
      "outputs": [
        {
          "output_type": "stream",
          "text": [
            "Requirement already satisfied: numpy in /usr/local/lib/python3.7/dist-packages (1.19.5)\n"
          ],
          "name": "stdout"
        }
      ]
    },
    {
      "cell_type": "code",
      "metadata": {
        "id": "JCfkYyRfhQgd"
      },
      "source": [
        "import numpy as np"
      ],
      "execution_count": 98,
      "outputs": []
    },
    {
      "cell_type": "code",
      "metadata": {
        "id": "OIxNSVx6hUk7"
      },
      "source": [
        "a[3,2,5]\n",
        "a[3][2][5]\n",
        "\n"
      ],
      "execution_count": null,
      "outputs": []
    },
    {
      "cell_type": "code",
      "metadata": {
        "colab": {
          "base_uri": "https://localhost:8080/"
        },
        "id": "80CAkyuqhiIv",
        "outputId": "eebca1c9-1955-44b7-e23f-68d7a1bc1d29"
      },
      "source": [
        "a = np.arange(12).reshape(3,4)\n",
        "print(a)\n",
        "print(a.shape)"
      ],
      "execution_count": 56,
      "outputs": [
        {
          "output_type": "stream",
          "text": [
            "[[ 0  1  2  3]\n",
            " [ 4  5  6  7]\n",
            " [ 8  9 10 11]]\n",
            "(3, 4)\n"
          ],
          "name": "stdout"
        }
      ]
    },
    {
      "cell_type": "code",
      "metadata": {
        "colab": {
          "base_uri": "https://localhost:8080/"
        },
        "id": "Yhn9X6gSh77P",
        "outputId": "4221e59a-bdc9-4020-9e7f-a9e9305614d7"
      },
      "source": [
        "df = pd.DataFrame(\n",
        "        {\"AAA\": [4, 5, 6, 7], \"BBB\": [10, 20, 35, 10], \"CCC\": [100, 50, -30, -50]}\n",
        ")\n",
        "\n",
        "print(df)\n",
        "print()\n",
        "\n",
        "df2 = (df - df.mean()) / df.std()\n",
        "print(df2)\n",
        "\n",
        "na = df2.to_numpy()\n",
        "print(na.shape)\n",
        "print(na)"
      ],
      "execution_count": 57,
      "outputs": [
        {
          "output_type": "stream",
          "text": [
            "   AAA  BBB  CCC\n",
            "0    4   10  100\n",
            "1    5   20   50\n",
            "2    6   35  -30\n",
            "3    7   10  -50\n",
            "\n",
            "        AAA       BBB       CCC\n",
            "0 -1.161895 -0.740613  1.179575\n",
            "1 -0.387298  0.105802  0.464681\n",
            "2  0.387298  1.375424 -0.679149\n",
            "3  1.161895 -0.740613 -0.965107\n",
            "(4, 3)\n",
            "[[-1.161895   -0.7406129   1.1795749 ]\n",
            " [-0.38729833  0.10580184  0.46468102]\n",
            " [ 0.38729833  1.37542395 -0.67914918]\n",
            " [ 1.161895   -0.7406129  -0.96510673]]\n"
          ],
          "name": "stdout"
        }
      ]
    },
    {
      "cell_type": "code",
      "metadata": {
        "colab": {
          "base_uri": "https://localhost:8080/"
        },
        "id": "mOm8y_NuiNT4",
        "outputId": "5506750a-013b-4312-9c31-95f34ee2fce3"
      },
      "source": [
        "l = [ [ 1,2,3 ], [4,5,6] ]\n",
        "a = np.array(l)\n",
        "print(a)\n",
        "print(a.shape)\n",
        "\n",
        "print(a.ndim)\n",
        "print(a.dtype)"
      ],
      "execution_count": 63,
      "outputs": [
        {
          "output_type": "stream",
          "text": [
            "[[1 2 3]\n",
            " [4 5 6]]\n",
            "(2, 3)\n",
            "2\n",
            "int64\n"
          ],
          "name": "stdout"
        }
      ]
    },
    {
      "cell_type": "code",
      "metadata": {
        "id": "DkHBxN60ivio"
      },
      "source": [
        "def pprint(arr):\n",
        "  print(\"shape: {}: dimension: {}, dtype: {}\".format(arr.shape, arr.ndim, arr.dtype))\n",
        "  print(arr)\n",
        "  print()"
      ],
      "execution_count": 60,
      "outputs": []
    },
    {
      "cell_type": "code",
      "metadata": {
        "colab": {
          "base_uri": "https://localhost:8080/"
        },
        "id": "7xjfO29ji9ji",
        "outputId": "bf95a468-91e8-49f3-b95c-3d108f149a0a"
      },
      "source": [
        "pprint(a)"
      ],
      "execution_count": 61,
      "outputs": [
        {
          "output_type": "stream",
          "text": [
            "shape: (4,): dimension: 1, dtype: int64\n",
            "[1 2 3 4]\n",
            "\n"
          ],
          "name": "stdout"
        }
      ]
    },
    {
      "cell_type": "code",
      "metadata": {
        "colab": {
          "base_uri": "https://localhost:8080/"
        },
        "id": "gRpOvTB5kDTV",
        "outputId": "a66b2dc0-7214-4fdf-c469-e34bae3f4096"
      },
      "source": [
        "a = np.array([1,2,3,4])\n",
        "pprint(a)"
      ],
      "execution_count": 64,
      "outputs": [
        {
          "output_type": "stream",
          "text": [
            "shape: (4,): dimension: 1, dtype: int64\n",
            "[1 2 3 4]\n",
            "\n"
          ],
          "name": "stdout"
        }
      ]
    },
    {
      "cell_type": "code",
      "metadata": {
        "colab": {
          "base_uri": "https://localhost:8080/"
        },
        "id": "o1T2bRIJkULv",
        "outputId": "3398f1f9-f39d-4298-8041-0eec75ba2776"
      },
      "source": [
        "print(dir(a))"
      ],
      "execution_count": 65,
      "outputs": [
        {
          "output_type": "stream",
          "text": [
            "['T', '__abs__', '__add__', '__and__', '__array__', '__array_finalize__', '__array_function__', '__array_interface__', '__array_prepare__', '__array_priority__', '__array_struct__', '__array_ufunc__', '__array_wrap__', '__bool__', '__class__', '__complex__', '__contains__', '__copy__', '__deepcopy__', '__delattr__', '__delitem__', '__dir__', '__divmod__', '__doc__', '__eq__', '__float__', '__floordiv__', '__format__', '__ge__', '__getattribute__', '__getitem__', '__gt__', '__hash__', '__iadd__', '__iand__', '__ifloordiv__', '__ilshift__', '__imatmul__', '__imod__', '__imul__', '__index__', '__init__', '__init_subclass__', '__int__', '__invert__', '__ior__', '__ipow__', '__irshift__', '__isub__', '__iter__', '__itruediv__', '__ixor__', '__le__', '__len__', '__lshift__', '__lt__', '__matmul__', '__mod__', '__mul__', '__ne__', '__neg__', '__new__', '__or__', '__pos__', '__pow__', '__radd__', '__rand__', '__rdivmod__', '__reduce__', '__reduce_ex__', '__repr__', '__rfloordiv__', '__rlshift__', '__rmatmul__', '__rmod__', '__rmul__', '__ror__', '__rpow__', '__rrshift__', '__rshift__', '__rsub__', '__rtruediv__', '__rxor__', '__setattr__', '__setitem__', '__setstate__', '__sizeof__', '__str__', '__sub__', '__subclasshook__', '__truediv__', '__xor__', 'all', 'any', 'argmax', 'argmin', 'argpartition', 'argsort', 'astype', 'base', 'byteswap', 'choose', 'clip', 'compress', 'conj', 'conjugate', 'copy', 'ctypes', 'cumprod', 'cumsum', 'data', 'diagonal', 'dot', 'dtype', 'dump', 'dumps', 'fill', 'flags', 'flat', 'flatten', 'getfield', 'imag', 'item', 'itemset', 'itemsize', 'max', 'mean', 'min', 'nbytes', 'ndim', 'newbyteorder', 'nonzero', 'partition', 'prod', 'ptp', 'put', 'ravel', 'real', 'repeat', 'reshape', 'resize', 'round', 'searchsorted', 'setfield', 'setflags', 'shape', 'size', 'sort', 'squeeze', 'std', 'strides', 'sum', 'swapaxes', 'take', 'tobytes', 'tofile', 'tolist', 'tostring', 'trace', 'transpose', 'var', 'view']\n"
          ],
          "name": "stdout"
        }
      ]
    },
    {
      "cell_type": "code",
      "metadata": {
        "colab": {
          "base_uri": "https://localhost:8080/"
        },
        "id": "mqrGzkNekh05",
        "outputId": "da51e67c-64b0-459a-e891-fce2cf6c44f5"
      },
      "source": [
        "a = np.array([1,2,3,4])\n",
        "pprint(a)\n",
        "\n",
        "a = np.array([1,2,3,4], dtype=float)\n",
        "pprint(a)\n",
        "\n"
      ],
      "execution_count": 68,
      "outputs": [
        {
          "output_type": "stream",
          "text": [
            "shape: (4,): dimension: 1, dtype: int64\n",
            "[1 2 3 4]\n",
            "\n",
            "shape: (4,): dimension: 1, dtype: float64\n",
            "[1. 2. 3. 4.]\n",
            "\n"
          ],
          "name": "stdout"
        }
      ]
    },
    {
      "cell_type": "markdown",
      "metadata": {
        "id": "woKswzmtldF_"
      },
      "source": [
        "# numpy array 만들기"
      ]
    },
    {
      "cell_type": "code",
      "metadata": {
        "colab": {
          "base_uri": "https://localhost:8080/"
        },
        "id": "FiUTFHyClg0T",
        "outputId": "0915a97c-380e-481b-8672-2c682e5dfded"
      },
      "source": [
        "a = np.arange(12)\n",
        "pprint(a)\n",
        "\n",
        "a = np.arange(12).reshape(3,4)\n",
        "# a.reshape(3,4)\n",
        "pprint(a)"
      ],
      "execution_count": 70,
      "outputs": [
        {
          "output_type": "stream",
          "text": [
            "shape: (12,): dimension: 1, dtype: int64\n",
            "[ 0  1  2  3  4  5  6  7  8  9 10 11]\n",
            "\n",
            "shape: (3, 4): dimension: 2, dtype: int64\n",
            "[[ 0  1  2  3]\n",
            " [ 4  5  6  7]\n",
            " [ 8  9 10 11]]\n",
            "\n"
          ],
          "name": "stdout"
        }
      ]
    },
    {
      "cell_type": "code",
      "metadata": {
        "colab": {
          "base_uri": "https://localhost:8080/"
        },
        "id": "5n1ESjh7mDhv",
        "outputId": "6e25a559-3d4e-4154-879b-73f819654d43"
      },
      "source": [
        "a = np.arange(12)\n",
        "a.reshape(3,4)\n",
        "pprint(a)\n",
        "\n",
        "a = np.arange(12).reshape(3,4)\n",
        "pprint(a)"
      ],
      "execution_count": 72,
      "outputs": [
        {
          "output_type": "stream",
          "text": [
            "shape: (12,): dimension: 1, dtype: int64\n",
            "[ 0  1  2  3  4  5  6  7  8  9 10 11]\n",
            "\n",
            "shape: (3, 4): dimension: 2, dtype: int64\n",
            "[[ 0  1  2  3]\n",
            " [ 4  5  6  7]\n",
            " [ 8  9 10 11]]\n",
            "\n"
          ],
          "name": "stdout"
        }
      ]
    },
    {
      "cell_type": "code",
      "metadata": {
        "colab": {
          "base_uri": "https://localhost:8080/"
        },
        "id": "pG09A40HmdAl",
        "outputId": "e97b7d85-6122-42cd-f017-054fbbe8ef04"
      },
      "source": [
        "a = np.arange(12).reshape(3,-1)\n",
        "pprint(a)"
      ],
      "execution_count": 78,
      "outputs": [
        {
          "output_type": "stream",
          "text": [
            "shape: (3, 4): dimension: 2, dtype: int64\n",
            "[[ 0  1  2  3]\n",
            " [ 4  5  6  7]\n",
            " [ 8  9 10 11]]\n",
            "\n"
          ],
          "name": "stdout"
        }
      ]
    },
    {
      "cell_type": "code",
      "metadata": {
        "colab": {
          "base_uri": "https://localhost:8080/"
        },
        "id": "7XGX8330myZb",
        "outputId": "39736a3e-5a25-4b8a-a94a-4bc8e159d566"
      },
      "source": [
        "a = np.arange(12).reshape(-1,4)\n",
        "pprint(a)"
      ],
      "execution_count": 79,
      "outputs": [
        {
          "output_type": "stream",
          "text": [
            "shape: (3, 4): dimension: 2, dtype: int64\n",
            "[[ 0  1  2  3]\n",
            " [ 4  5  6  7]\n",
            " [ 8  9 10 11]]\n",
            "\n"
          ],
          "name": "stdout"
        }
      ]
    },
    {
      "cell_type": "code",
      "metadata": {
        "colab": {
          "base_uri": "https://localhost:8080/"
        },
        "id": "jgQ5idJPm6oF",
        "outputId": "086480d1-2cb5-4306-c9da-2a2b8704abad"
      },
      "source": [
        "a = np.arange(24).reshape(3,4,2)\n",
        "pprint(a)"
      ],
      "execution_count": 80,
      "outputs": [
        {
          "output_type": "stream",
          "text": [
            "shape: (3, 4, 2): dimension: 3, dtype: int64\n",
            "[[[ 0  1]\n",
            "  [ 2  3]\n",
            "  [ 4  5]\n",
            "  [ 6  7]]\n",
            "\n",
            " [[ 8  9]\n",
            "  [10 11]\n",
            "  [12 13]\n",
            "  [14 15]]\n",
            "\n",
            " [[16 17]\n",
            "  [18 19]\n",
            "  [20 21]\n",
            "  [22 23]]]\n",
            "\n"
          ],
          "name": "stdout"
        }
      ]
    },
    {
      "cell_type": "code",
      "metadata": {
        "id": "L8BtEWdtnc5l"
      },
      "source": [
        "(123000,1000,224,224,3)"
      ],
      "execution_count": null,
      "outputs": []
    },
    {
      "cell_type": "code",
      "metadata": {
        "colab": {
          "base_uri": "https://localhost:8080/"
        },
        "id": "X6JOm6run4ak",
        "outputId": "a9a99905-b762-4d42-82d8-cc9f9554c3ba"
      },
      "source": [
        "a = np.arange(24).reshape(-1,4,2)\n",
        "pprint(a)"
      ],
      "execution_count": 81,
      "outputs": [
        {
          "output_type": "stream",
          "text": [
            "shape: (3, 4, 2): dimension: 3, dtype: int64\n",
            "[[[ 0  1]\n",
            "  [ 2  3]\n",
            "  [ 4  5]\n",
            "  [ 6  7]]\n",
            "\n",
            " [[ 8  9]\n",
            "  [10 11]\n",
            "  [12 13]\n",
            "  [14 15]]\n",
            "\n",
            " [[16 17]\n",
            "  [18 19]\n",
            "  [20 21]\n",
            "  [22 23]]]\n",
            "\n"
          ],
          "name": "stdout"
        }
      ]
    },
    {
      "cell_type": "code",
      "metadata": {
        "colab": {
          "base_uri": "https://localhost:8080/"
        },
        "id": "MKA9Qf8sn7N6",
        "outputId": "325409fb-06be-444e-be48-28d82995ba5d"
      },
      "source": [
        "a = np.arange(24).reshape(3,-1,2)\n",
        "pprint(a)"
      ],
      "execution_count": 82,
      "outputs": [
        {
          "output_type": "stream",
          "text": [
            "shape: (3, 4, 2): dimension: 3, dtype: int64\n",
            "[[[ 0  1]\n",
            "  [ 2  3]\n",
            "  [ 4  5]\n",
            "  [ 6  7]]\n",
            "\n",
            " [[ 8  9]\n",
            "  [10 11]\n",
            "  [12 13]\n",
            "  [14 15]]\n",
            "\n",
            " [[16 17]\n",
            "  [18 19]\n",
            "  [20 21]\n",
            "  [22 23]]]\n",
            "\n"
          ],
          "name": "stdout"
        }
      ]
    },
    {
      "cell_type": "code",
      "metadata": {
        "colab": {
          "base_uri": "https://localhost:8080/"
        },
        "id": "ef_ug9hxn-FL",
        "outputId": "e0b0f9f6-235e-4847-889a-762b6da32c65"
      },
      "source": [
        "a = np.arange(24).reshape(3,4,-1)\n",
        "pprint(a)"
      ],
      "execution_count": 83,
      "outputs": [
        {
          "output_type": "stream",
          "text": [
            "shape: (3, 4, 2): dimension: 3, dtype: int64\n",
            "[[[ 0  1]\n",
            "  [ 2  3]\n",
            "  [ 4  5]\n",
            "  [ 6  7]]\n",
            "\n",
            " [[ 8  9]\n",
            "  [10 11]\n",
            "  [12 13]\n",
            "  [14 15]]\n",
            "\n",
            " [[16 17]\n",
            "  [18 19]\n",
            "  [20 21]\n",
            "  [22 23]]]\n",
            "\n"
          ],
          "name": "stdout"
        }
      ]
    },
    {
      "cell_type": "code",
      "metadata": {
        "colab": {
          "base_uri": "https://localhost:8080/"
        },
        "id": "p5GC9AcPohGz",
        "outputId": "caff6d3a-c535-431d-bbbd-1e6b3add5539"
      },
      "source": [
        "a = np.arange(3)\n",
        "pprint(a)\n",
        "\n",
        "a = np.arange(3).reshape(3,1)\n",
        "pprint(a)\n",
        "\n",
        "a = np.arange(3).reshape(3,1,1)\n",
        "pprint(a)\n"
      ],
      "execution_count": 89,
      "outputs": [
        {
          "output_type": "stream",
          "text": [
            "shape: (3,): dimension: 1, dtype: int64\n",
            "[0 1 2]\n",
            "\n",
            "shape: (3, 1): dimension: 2, dtype: int64\n",
            "[[0]\n",
            " [1]\n",
            " [2]]\n",
            "\n",
            "shape: (3, 1, 1): dimension: 3, dtype: int64\n",
            "[[[0]]\n",
            "\n",
            " [[1]]\n",
            "\n",
            " [[2]]]\n",
            "\n"
          ],
          "name": "stdout"
        }
      ]
    },
    {
      "cell_type": "markdown",
      "metadata": {
        "id": "SgeLL6GqoKET"
      },
      "source": [
        "```\n",
        "np.zeros()\n",
        "np.ones()\n",
        "np.eye()\n",
        "np.empty()\n",
        "```"
      ]
    },
    {
      "cell_type": "code",
      "metadata": {
        "colab": {
          "base_uri": "https://localhost:8080/"
        },
        "id": "rF-QxlPSoXSO",
        "outputId": "f7cc0ed7-e568-48b0-e72d-d9ae09a272e7"
      },
      "source": [
        "a = np.zeros((3,4))\n",
        "pprint(a)"
      ],
      "execution_count": 85,
      "outputs": [
        {
          "output_type": "stream",
          "text": [
            "shape: (3, 4): dimension: 2, dtype: float64\n",
            "[[0. 0. 0. 0.]\n",
            " [0. 0. 0. 0.]\n",
            " [0. 0. 0. 0.]]\n",
            "\n"
          ],
          "name": "stdout"
        }
      ]
    },
    {
      "cell_type": "code",
      "metadata": {
        "colab": {
          "base_uri": "https://localhost:8080/"
        },
        "id": "QfcTLV7UpR80",
        "outputId": "f6a00a5a-f389-45be-df7f-fa67fae9704b"
      },
      "source": [
        "a = np.zeros((3,4), dtype=int)\n",
        "pprint(a)"
      ],
      "execution_count": 92,
      "outputs": [
        {
          "output_type": "stream",
          "text": [
            "shape: (3, 4): dimension: 2, dtype: int64\n",
            "[[0 0 0 0]\n",
            " [0 0 0 0]\n",
            " [0 0 0 0]]\n",
            "\n"
          ],
          "name": "stdout"
        }
      ]
    },
    {
      "cell_type": "code",
      "metadata": {
        "colab": {
          "base_uri": "https://localhost:8080/"
        },
        "id": "gq02RhDfpbNX",
        "outputId": "b8627564-0b7a-42de-94ed-e5b0f3a5ca97"
      },
      "source": [
        "a = np.zeros((3,4), dtype=np.int8)\n",
        "pprint(a)"
      ],
      "execution_count": 94,
      "outputs": [
        {
          "output_type": "stream",
          "text": [
            "shape: (3, 4): dimension: 2, dtype: int8\n",
            "[[0 0 0 0]\n",
            " [0 0 0 0]\n",
            " [0 0 0 0]]\n",
            "\n"
          ],
          "name": "stdout"
        }
      ]
    },
    {
      "cell_type": "code",
      "metadata": {
        "colab": {
          "base_uri": "https://localhost:8080/"
        },
        "id": "xhZXaD1cpKia",
        "outputId": "1fbee48f-3d6d-4aca-c236-7bd089dee5c4"
      },
      "source": [
        "a = np.ones((3,4))\n",
        "pprint(a)"
      ],
      "execution_count": 90,
      "outputs": [
        {
          "output_type": "stream",
          "text": [
            "shape: (3, 4): dimension: 2, dtype: float64\n",
            "[[1. 1. 1. 1.]\n",
            " [1. 1. 1. 1.]\n",
            " [1. 1. 1. 1.]]\n",
            "\n"
          ],
          "name": "stdout"
        }
      ]
    },
    {
      "cell_type": "code",
      "metadata": {
        "colab": {
          "base_uri": "https://localhost:8080/"
        },
        "id": "y1G1SpecqatY",
        "outputId": "e72a856e-6585-4077-e077-c5fa181830c8"
      },
      "source": [
        "a = np.arange(12).reshape(3,4)\n",
        "pprint(a)\n",
        "\n",
        "a = np.arange(12).reshape((3,4))\n",
        "pprint(a)\n",
        "\n",
        "a = np.ones((3,4), dtype=np.int32)\n",
        "pprint(a)\n",
        "\n"
      ],
      "execution_count": 97,
      "outputs": [
        {
          "output_type": "stream",
          "text": [
            "shape: (3, 4): dimension: 2, dtype: int64\n",
            "[[ 0  1  2  3]\n",
            " [ 4  5  6  7]\n",
            " [ 8  9 10 11]]\n",
            "\n",
            "shape: (3, 4): dimension: 2, dtype: int64\n",
            "[[ 0  1  2  3]\n",
            " [ 4  5  6  7]\n",
            " [ 8  9 10 11]]\n",
            "\n",
            "shape: (3, 4): dimension: 2, dtype: int32\n",
            "[[1 1 1 1]\n",
            " [1 1 1 1]\n",
            " [1 1 1 1]]\n",
            "\n"
          ],
          "name": "stdout"
        }
      ]
    },
    {
      "cell_type": "code",
      "metadata": {
        "colab": {
          "base_uri": "https://localhost:8080/"
        },
        "id": "n0YLD4AfCMDG",
        "outputId": "bd04d5bf-8fcb-4bd1-d249-0f2fdaebb33f"
      },
      "source": [
        "a = np.eye(5)\n",
        "pprint(a)\n"
      ],
      "execution_count": 103,
      "outputs": [
        {
          "output_type": "stream",
          "text": [
            "shape: (5, 5): dimension: 2, dtype: float64\n",
            "[[1. 0. 0. 0. 0.]\n",
            " [0. 1. 0. 0. 0.]\n",
            " [0. 0. 1. 0. 0.]\n",
            " [0. 0. 0. 1. 0.]\n",
            " [0. 0. 0. 0. 1.]]\n",
            "\n"
          ],
          "name": "stdout"
        }
      ]
    },
    {
      "cell_type": "code",
      "metadata": {
        "colab": {
          "base_uri": "https://localhost:8080/"
        },
        "id": "7WWDXPWVCmxB",
        "outputId": "3a0bf31c-b45b-4459-e497-7cb359b5470f"
      },
      "source": [
        "a = np.full((3,4), 3.)\n",
        "pprint(a)"
      ],
      "execution_count": 105,
      "outputs": [
        {
          "output_type": "stream",
          "text": [
            "shape: (3, 4): dimension: 2, dtype: float64\n",
            "[[3. 3. 3. 3.]\n",
            " [3. 3. 3. 3.]\n",
            " [3. 3. 3. 3.]]\n",
            "\n"
          ],
          "name": "stdout"
        }
      ]
    },
    {
      "cell_type": "code",
      "metadata": {
        "colab": {
          "base_uri": "https://localhost:8080/"
        },
        "id": "yoHmjnSGCzLg",
        "outputId": "634f853c-f70a-4d8f-da88-eebd3a8d4d08"
      },
      "source": [
        "a = np.empty((3,4))\n",
        "pprint(a)\n",
        "\n",
        "b = np.empty((3,7))\n",
        "pprint(b)\n"
      ],
      "execution_count": 114,
      "outputs": [
        {
          "output_type": "stream",
          "text": [
            "shape: (3, 4): dimension: 2, dtype: float64\n",
            "[[3. 3. 3. 3.]\n",
            " [3. 3. 3. 3.]\n",
            " [3. 3. 3. 3.]]\n",
            "\n",
            "shape: (3, 7): dimension: 2, dtype: float64\n",
            "[[4.65611727e-310 6.27463370e-322 0.00000000e+000 0.00000000e+000\n",
            "  0.00000000e+000 5.30276956e+180 1.02941932e-071]\n",
            " [6.97936293e-076 4.86685747e-086 3.35759546e-143 6.01433264e+175\n",
            "  6.93885958e+218 5.56218858e+180 3.94356143e+180]\n",
            " [5.20187374e-062 6.18192607e+169 2.21225664e+160 7.62341665e+169\n",
            "  5.50846667e-144 1.50008929e+248 1.10429110e+229]]\n",
            "\n"
          ],
          "name": "stdout"
        }
      ]
    },
    {
      "cell_type": "code",
      "metadata": {
        "colab": {
          "base_uri": "https://localhost:8080/"
        },
        "id": "byGY55j_DbD9",
        "outputId": "5705d798-8444-484d-8dd2-d5c8f8649fb5"
      },
      "source": [
        "a = np.arange(12).reshape(3,4)\n",
        "pprint(a)\n",
        "\n",
        "b = np.ones_like(a)\n",
        "pprint(b)\n",
        "\n",
        "c = np.zeros_like(a)\n",
        "pprint(c)\n",
        "\n",
        "d = np.empty_like(a)\n",
        "pprint(d)"
      ],
      "execution_count": 117,
      "outputs": [
        {
          "output_type": "stream",
          "text": [
            "shape: (3, 4): dimension: 2, dtype: int64\n",
            "[[ 0  1  2  3]\n",
            " [ 4  5  6  7]\n",
            " [ 8  9 10 11]]\n",
            "\n",
            "shape: (3, 4): dimension: 2, dtype: int64\n",
            "[[1 1 1 1]\n",
            " [1 1 1 1]\n",
            " [1 1 1 1]]\n",
            "\n",
            "shape: (3, 4): dimension: 2, dtype: int64\n",
            "[[0 0 0 0]\n",
            " [0 0 0 0]\n",
            " [0 0 0 0]]\n",
            "\n",
            "shape: (3, 4): dimension: 2, dtype: int64\n",
            "[[0 0 0 0]\n",
            " [0 0 0 0]\n",
            " [0 0 0 0]]\n",
            "\n"
          ],
          "name": "stdout"
        }
      ]
    },
    {
      "cell_type": "code",
      "metadata": {
        "colab": {
          "base_uri": "https://localhost:8080/"
        },
        "id": "HqszpDa_EAtZ",
        "outputId": "b9c6ef08-9a1e-47b3-b29e-bde77d8a5fb6"
      },
      "source": [
        "a = np.arange(12)\n",
        "print(a)\n",
        "\n",
        "a = np.arange(2,10)\n",
        "print(a)\n",
        "\n",
        "a = np.arange(2,10,2)\n",
        "print(a)\n",
        "\n",
        "a = np.arange(2,10,2, dtype=float)\n",
        "print(a)\n"
      ],
      "execution_count": 121,
      "outputs": [
        {
          "output_type": "stream",
          "text": [
            "[ 0  1  2  3  4  5  6  7  8  9 10 11]\n",
            "[2 3 4 5 6 7 8 9]\n",
            "[2 4 6 8]\n",
            "[2. 4. 6. 8.]\n"
          ],
          "name": "stdout"
        }
      ]
    },
    {
      "cell_type": "markdown",
      "metadata": {
        "id": "Ngkdu22bEXTw"
      },
      "source": [
        "# 랜덤값"
      ]
    },
    {
      "cell_type": "code",
      "metadata": {
        "colab": {
          "base_uri": "https://localhost:8080/"
        },
        "id": "TXcizm3YEYv2",
        "outputId": "31fa8c4d-b687-4cf5-a421-5b1f9f641d11"
      },
      "source": [
        "a = np.random.normal(0, 1, (5,4))\n",
        "pprint(a)\n",
        "\n",
        "# import matplotlib.pyplot as plt\n",
        "# plt.hist(a, bins=100)\n",
        "# plt.show()"
      ],
      "execution_count": 138,
      "outputs": [
        {
          "output_type": "stream",
          "text": [
            "shape: (5, 4): dimension: 2, dtype: float64\n",
            "[[ 1.2195665  -1.49804738 -0.68083914 -0.40230003]\n",
            " [ 0.74795444  1.29839187 -2.52792087  0.95011406]\n",
            " [-0.06779902  0.9488502  -0.58770332  0.17083734]\n",
            " [ 0.58475296  0.80549885 -0.98179973 -1.88480179]\n",
            " [ 1.04761442 -0.4497171  -0.45417809 -1.75411395]]\n",
            "\n"
          ],
          "name": "stdout"
        }
      ]
    },
    {
      "cell_type": "code",
      "metadata": {
        "colab": {
          "base_uri": "https://localhost:8080/",
          "height": 265
        },
        "id": "YFQ8ETfbFg2k",
        "outputId": "5f6fa097-efa7-4619-dd3c-2c481f843602"
      },
      "source": [
        "a = np.random.rand(1000)\n",
        "# print(a)\n",
        "\n",
        "import matplotlib.pyplot as plt\n",
        "plt.hist(a, bins=100)\n",
        "plt.show()"
      ],
      "execution_count": 141,
      "outputs": [
        {
          "output_type": "display_data",
          "data": {
            "image/png": "[encoded data removed]",
            "text/plain": [
              "<Figure size 432x288 with 1 Axes>"
            ]
          },
          "metadata": {
            "tags": [],
            "needs_background": "light"
          }
        }
      ]
    },
    {
      "cell_type": "markdown",
      "metadata": {
        "id": "UC1nAFKrHrEs"
      },
      "source": [
        "# Quiz. 주사위 값을 10개 랜덤하게 발생"
      ]
    },
    {
      "cell_type": "code",
      "metadata": {
        "colab": {
          "base_uri": "https://localhost:8080/"
        },
        "id": "_DUCpvzDGP2Q",
        "outputId": "57b44b98-890f-4852-abb2-9dfcc4289a0f"
      },
      "source": [
        "a = np.ceil(np.random.rand(12)*6)\n",
        "print(a)\n",
        "\n",
        "a = np.ceil(np.random.rand(12)*6).reshape(3,4)\n",
        "print(a)"
      ],
      "execution_count": 155,
      "outputs": [
        {
          "output_type": "stream",
          "text": [
            "[3. 3. 5. 6. 1. 2. 2. 6. 3. 6. 3. 3.]\n",
            "[[1. 1. 5. 5.]\n",
            " [2. 4. 1. 2.]\n",
            " [5. 4. 6. 2.]]\n"
          ],
          "name": "stdout"
        }
      ]
    },
    {
      "cell_type": "code",
      "metadata": {
        "colab": {
          "base_uri": "https://localhost:8080/"
        },
        "id": "5sBVFeoiIsrS",
        "outputId": "efe7389e-ec52-421b-9854-9905af24df54"
      },
      "source": [
        "a = np.random.randint(1, 7, size=12)\n",
        "print(a)\n",
        "\n",
        "a = np.random.randint(1, 7, size=(3,4))\n",
        "print(a)"
      ],
      "execution_count": 154,
      "outputs": [
        {
          "output_type": "stream",
          "text": [
            "[2 5 2 2 6 1 4 3 4 2 3 2]\n",
            "[[6 4 3 6]\n",
            " [1 6 6 2]\n",
            " [1 2 5 1]]\n"
          ],
          "name": "stdout"
        }
      ]
    },
    {
      "cell_type": "markdown",
      "metadata": {
        "id": "zCpAoDjkKas2"
      },
      "source": [
        "# 슬라이싱"
      ]
    },
    {
      "cell_type": "code",
      "metadata": {
        "colab": {
          "base_uri": "https://localhost:8080/"
        },
        "id": "0bwIl2n5Kby-",
        "outputId": "70377c92-6b3a-4cdd-9e36-aaf079967248"
      },
      "source": [
        "a = np.array([\n",
        "    [\n",
        "        [ 111, 112 ],\n",
        "        [ 121, 122 ],\n",
        "        [ 131, 132 ],\n",
        "        [ 141, 142 ]\n",
        "    ],\n",
        "    [\n",
        "        [ 211, 212 ],\n",
        "        [ 221, 222 ],\n",
        "        [ 231, 232 ],\n",
        "        [ 241, 242 ]\n",
        "    ],\n",
        "    [\n",
        "        [ 311, 312 ],\n",
        "        [ 321, 322 ],\n",
        "        [ 331, 332 ],\n",
        "        [ 341, 342 ]\n",
        "    ]\n",
        "])\n",
        "\n",
        "pprint(a)"
      ],
      "execution_count": 156,
      "outputs": [
        {
          "output_type": "stream",
          "text": [
            "shape: (3, 4, 2): dimension: 3, dtype: int64\n",
            "[[[111 112]\n",
            "  [121 122]\n",
            "  [131 132]\n",
            "  [141 142]]\n",
            "\n",
            " [[211 212]\n",
            "  [221 222]\n",
            "  [231 232]\n",
            "  [241 242]]\n",
            "\n",
            " [[311 312]\n",
            "  [321 322]\n",
            "  [331 332]\n",
            "  [341 342]]]\n",
            "\n"
          ],
          "name": "stdout"
        }
      ]
    },
    {
      "cell_type": "code",
      "metadata": {
        "colab": {
          "base_uri": "https://localhost:8080/"
        },
        "id": "VqA_IiG2KdSg",
        "outputId": "60d8efe8-a47d-4e93-9c08-f6b14618695d"
      },
      "source": [
        "print(a)\n",
        "print(len(a))\n",
        "print(a.shape)\n",
        "print(a.shape[0])"
      ],
      "execution_count": 162,
      "outputs": [
        {
          "output_type": "stream",
          "text": [
            "[[[111 112]\n",
            "  [121 122]\n",
            "  [131 132]\n",
            "  [141 142]]\n",
            "\n",
            " [[211 212]\n",
            "  [221 222]\n",
            "  [231 232]\n",
            "  [241 242]]\n",
            "\n",
            " [[311 312]\n",
            "  [321 322]\n",
            "  [331 332]\n",
            "  [341 342]]]\n",
            "3\n",
            "(3, 4, 2)\n",
            "3\n"
          ],
          "name": "stdout"
        }
      ]
    },
    {
      "cell_type": "code",
      "metadata": {
        "colab": {
          "base_uri": "https://localhost:8080/"
        },
        "id": "PkzozugxK_eO",
        "outputId": "0803218c-3f90-4b2f-bd5a-50042bac292a"
      },
      "source": [
        "print(a[0])\n",
        "pprint(a[0])"
      ],
      "execution_count": 164,
      "outputs": [
        {
          "output_type": "stream",
          "text": [
            "[[111 112]\n",
            " [121 122]\n",
            " [131 132]\n",
            " [141 142]]\n",
            "shape: (4, 2): dimension: 2, dtype: int64\n",
            "[[111 112]\n",
            " [121 122]\n",
            " [131 132]\n",
            " [141 142]]\n",
            "\n"
          ],
          "name": "stdout"
        }
      ]
    },
    {
      "cell_type": "code",
      "metadata": {
        "colab": {
          "base_uri": "https://localhost:8080/"
        },
        "id": "-1_rwg21LP1I",
        "outputId": "e8530082-d276-4d16-f82c-94a3726d9c9f"
      },
      "source": [
        "b = a[0]\n",
        "print(b)\n",
        "print(b[0])\n",
        "print(a[0][0])\n",
        "pprint(a[0][0])\n",
        "print(a[0][0][0])"
      ],
      "execution_count": 169,
      "outputs": [
        {
          "output_type": "stream",
          "text": [
            "[[111 112]\n",
            " [121 122]\n",
            " [131 132]\n",
            " [141 142]]\n",
            "[111 112]\n",
            "[111 112]\n",
            "shape: (2,): dimension: 1, dtype: int64\n",
            "[111 112]\n",
            "\n",
            "111\n"
          ],
          "name": "stdout"
        }
      ]
    },
    {
      "cell_type": "code",
      "metadata": {
        "colab": {
          "base_uri": "https://localhost:8080/"
        },
        "id": "Zu4xOXx9L58i",
        "outputId": "0bb52f7e-beb2-4253-dbd8-ecb7f319aa69"
      },
      "source": [
        "print(a[0][0][0])\n",
        "print(a[0,0,0])"
      ],
      "execution_count": 171,
      "outputs": [
        {
          "output_type": "stream",
          "text": [
            "111\n",
            "111\n"
          ],
          "name": "stdout"
        }
      ]
    },
    {
      "cell_type": "code",
      "metadata": {
        "colab": {
          "base_uri": "https://localhost:8080/"
        },
        "id": "ksmVWGh4MIKJ",
        "outputId": "0b3440b5-aab7-488e-e988-46a8f47ba7d7"
      },
      "source": [
        "print(a[:])"
      ],
      "execution_count": 172,
      "outputs": [
        {
          "output_type": "stream",
          "text": [
            "[[[111 112]\n",
            "  [121 122]\n",
            "  [131 132]\n",
            "  [141 142]]\n",
            "\n",
            " [[211 212]\n",
            "  [221 222]\n",
            "  [231 232]\n",
            "  [241 242]]\n",
            "\n",
            " [[311 312]\n",
            "  [321 322]\n",
            "  [331 332]\n",
            "  [341 342]]]\n"
          ],
          "name": "stdout"
        }
      ]
    },
    {
      "cell_type": "code",
      "metadata": {
        "colab": {
          "base_uri": "https://localhost:8080/"
        },
        "id": "lACZL65MMSK_",
        "outputId": "b3f372d1-ea85-47db-d36e-94126b93b562"
      },
      "source": [
        "b = [\n",
        "     [1,2,3,4],\n",
        "     [5,6,7,8]\n",
        "]\n",
        "\n",
        "a = np.array(b)\n",
        "c = a[:,1:3]\n",
        "print(c)\n"
      ],
      "execution_count": 182,
      "outputs": [
        {
          "output_type": "stream",
          "text": [
            "[[2 3]\n",
            " [6 7]]\n"
          ],
          "name": "stdout"
        }
      ]
    },
    {
      "cell_type": "code",
      "metadata": {
        "colab": {
          "base_uri": "https://localhost:8080/"
        },
        "id": "yh9a05yvNOvH",
        "outputId": "a6acc474-644f-41e2-ad52-40adb37ebce9"
      },
      "source": [
        "a = np.arange(20).reshape(5,4)\n",
        "print(a)"
      ],
      "execution_count": 184,
      "outputs": [
        {
          "output_type": "stream",
          "text": [
            "[[ 0  1  2  3]\n",
            " [ 4  5  6  7]\n",
            " [ 8  9 10 11]\n",
            " [12 13 14 15]\n",
            " [16 17 18 19]]\n"
          ],
          "name": "stdout"
        }
      ]
    },
    {
      "cell_type": "code",
      "metadata": {
        "colab": {
          "base_uri": "https://localhost:8080/"
        },
        "id": "0-UmEtSUNXQ4",
        "outputId": "bd6288f7-a13c-4ba2-fc80-90b62b8aa29d"
      },
      "source": [
        "print(a[1:3])"
      ],
      "execution_count": 185,
      "outputs": [
        {
          "output_type": "stream",
          "text": [
            "[[ 4  5  6  7]\n",
            " [ 8  9 10 11]]\n"
          ],
          "name": "stdout"
        }
      ]
    },
    {
      "cell_type": "code",
      "metadata": {
        "colab": {
          "base_uri": "https://localhost:8080/"
        },
        "id": "m2HQlxw7Q9ZM",
        "outputId": "6c5703ed-4bd0-4d51-e4c5-af8c917bad07"
      },
      "source": [
        "print(a[:,1:3])"
      ],
      "execution_count": 186,
      "outputs": [
        {
          "output_type": "stream",
          "text": [
            "[[ 1  2]\n",
            " [ 5  6]\n",
            " [ 9 10]\n",
            " [13 14]\n",
            " [17 18]]\n"
          ],
          "name": "stdout"
        }
      ]
    },
    {
      "cell_type": "code",
      "metadata": {
        "colab": {
          "base_uri": "https://localhost:8080/"
        },
        "id": "_MFL8a_XQ_qe",
        "outputId": "ea6e8470-28e9-4334-ea8d-0b546a808110"
      },
      "source": [
        "print(a[1:4,2:])"
      ],
      "execution_count": 188,
      "outputs": [
        {
          "output_type": "stream",
          "text": [
            "[[ 6  7]\n",
            " [10 11]\n",
            " [14 15]]\n"
          ],
          "name": "stdout"
        }
      ]
    },
    {
      "cell_type": "code",
      "metadata": {
        "colab": {
          "base_uri": "https://localhost:8080/"
        },
        "id": "Gz6YoydeRm1w",
        "outputId": "5fabe646-9896-44ab-ad48-974eb680d48a"
      },
      "source": [
        "a[1:4,2:] = 0\n",
        "print(a)"
      ],
      "execution_count": 190,
      "outputs": [
        {
          "output_type": "stream",
          "text": [
            "[[ 0  1  2  3]\n",
            " [ 4  5  0  0]\n",
            " [ 8  9  0  0]\n",
            " [12 13  0  0]\n",
            " [16 17 18 19]]\n"
          ],
          "name": "stdout"
        }
      ]
    },
    {
      "cell_type": "markdown",
      "metadata": {
        "id": "kf6P05zhSIQ-"
      },
      "source": [
        "```\n",
        "[ 1. 1. 1. 1. 1.] \n",
        "[ 1. 0. 0. 0. 1.] \n",
        "[ 1. 0. 0. 0. 1.] \n",
        "[ 1. 0. 0. 0. 1.] \n",
        "[ 1. 1. 1. 1. 1.]\n",
        "```"
      ]
    },
    {
      "cell_type": "code",
      "metadata": {
        "colab": {
          "base_uri": "https://localhost:8080/"
        },
        "id": "waX14jlOSzB2",
        "outputId": "ff76e504-5562-43bd-f2e5-424adc6b31aa"
      },
      "source": [
        "a = np.ones((5,5))\n",
        "a[1:4,1:4] = 0\n",
        "print(a)"
      ],
      "execution_count": 195,
      "outputs": [
        {
          "output_type": "stream",
          "text": [
            "[[1. 1. 1. 1. 1.]\n",
            " [1. 0. 0. 0. 1.]\n",
            " [1. 0. 0. 0. 1.]\n",
            " [1. 0. 0. 0. 1.]\n",
            " [1. 1. 1. 1. 1.]]\n"
          ],
          "name": "stdout"
        }
      ]
    },
    {
      "cell_type": "code",
      "metadata": {
        "colab": {
          "base_uri": "https://localhost:8080/"
        },
        "id": "lues0NRWTKD6",
        "outputId": "ca85fd3e-b217-4bd4-d2a6-fdde12e2d806"
      },
      "source": [
        "a = np.arange(20).reshape(5,4)\n",
        "print(a)\n",
        "print()\n",
        "\n",
        "print(a[::2])\n",
        "print()\n",
        "\n",
        "print(a[:,::2])"
      ],
      "execution_count": 198,
      "outputs": [
        {
          "output_type": "stream",
          "text": [
            "[[ 0  1  2  3]\n",
            " [ 4  5  6  7]\n",
            " [ 8  9 10 11]\n",
            " [12 13 14 15]\n",
            " [16 17 18 19]]\n",
            "\n",
            "[[ 0  1  2  3]\n",
            " [ 8  9 10 11]\n",
            " [16 17 18 19]]\n",
            "\n",
            "[[ 0  2]\n",
            " [ 4  6]\n",
            " [ 8 10]\n",
            " [12 14]\n",
            " [16 18]]\n"
          ],
          "name": "stdout"
        }
      ]
    },
    {
      "cell_type": "code",
      "metadata": {
        "colab": {
          "base_uri": "https://localhost:8080/"
        },
        "id": "i1eKVUKET3g0",
        "outputId": "b1f7936b-a2b3-4eff-b8ca-ae4d7e0f9485"
      },
      "source": [
        "a = np.arange(20).reshape(5,4)\n",
        "print(a)\n",
        "print()\n",
        "\n",
        "a[::2] = 0\n",
        "print(a)"
      ],
      "execution_count": 199,
      "outputs": [
        {
          "output_type": "stream",
          "text": [
            "[[ 0  1  2  3]\n",
            " [ 4  5  6  7]\n",
            " [ 8  9 10 11]\n",
            " [12 13 14 15]\n",
            " [16 17 18 19]]\n",
            "\n",
            "[[ 0  0  0  0]\n",
            " [ 4  5  6  7]\n",
            " [ 0  0  0  0]\n",
            " [12 13 14 15]\n",
            " [ 0  0  0  0]]\n"
          ],
          "name": "stdout"
        }
      ]
    },
    {
      "cell_type": "markdown",
      "metadata": {
        "id": "FJnWJTEhT93W"
      },
      "source": [
        "```\n",
        "[0,1,0,1,0,1,0,1]\n",
        "```"
      ]
    },
    {
      "cell_type": "code",
      "metadata": {
        "colab": {
          "base_uri": "https://localhost:8080/"
        },
        "id": "WtRV4kIdUE_n",
        "outputId": "bb99b532-759b-45cc-df2a-020350d02dd2"
      },
      "source": [
        "a = np.zeros(8)\n",
        "print(a)\n",
        "a[1::2] = 1\n",
        "print(a)"
      ],
      "execution_count": 204,
      "outputs": [
        {
          "output_type": "stream",
          "text": [
            "[0. 0. 0. 0. 0. 0. 0. 0.]\n",
            "[0. 1. 0. 1. 0. 1. 0. 1.]\n"
          ],
          "name": "stdout"
        }
      ]
    },
    {
      "cell_type": "code",
      "metadata": {
        "colab": {
          "base_uri": "https://localhost:8080/"
        },
        "id": "KMyhvz87UWtb",
        "outputId": "e6e5d5c2-bf4f-4b16-98f0-47a4bcdd7fe8"
      },
      "source": [
        "a = np.ones(8)\n",
        "print(a)\n",
        "a[1::2] = 0\n",
        "print(a)"
      ],
      "execution_count": 205,
      "outputs": [
        {
          "output_type": "stream",
          "text": [
            "[1. 1. 1. 1. 1. 1. 1. 1.]\n",
            "[1. 0. 1. 0. 1. 0. 1. 0.]\n"
          ],
          "name": "stdout"
        }
      ]
    },
    {
      "cell_type": "code",
      "metadata": {
        "colab": {
          "base_uri": "https://localhost:8080/"
        },
        "id": "g1mGEsTXUmZ0",
        "outputId": "d722b3d8-2238-483e-ec7b-2690697f40ac"
      },
      "source": [
        "a = np.zeros(8)\n",
        "print(a)\n",
        "a[0::2] = 1\n",
        "print(a)"
      ],
      "execution_count": 206,
      "outputs": [
        {
          "output_type": "stream",
          "text": [
            "[0. 0. 0. 0. 0. 0. 0. 0.]\n",
            "[1. 0. 1. 0. 1. 0. 1. 0.]\n"
          ],
          "name": "stdout"
        }
      ]
    },
    {
      "cell_type": "markdown",
      "metadata": {
        "id": "Sl-qZq7JU5Zl"
      },
      "source": [
        "# BroadCasting"
      ]
    },
    {
      "cell_type": "code",
      "metadata": {
        "colab": {
          "base_uri": "https://localhost:8080/"
        },
        "id": "LWE8o_0XVBM9",
        "outputId": "9032c040-f8ff-485a-a0b1-ffcaca999d7a"
      },
      "source": [
        "a = np.array([\n",
        "    [ 0,  0,  0],\n",
        "    [10, 10, 10],\n",
        "    [20, 20, 20],\n",
        "    [30, 30, 30]\n",
        "])\n",
        "b = np.array([\n",
        "    [ 0,  1,  2],\n",
        "    [ 0,  1,  2],\n",
        "    [ 0,  1,  2],\n",
        "    [ 0,  1,  2]    \n",
        "])\n",
        "\n",
        "print(a)\n",
        "print(b)\n",
        "\n",
        "print(a+b)"
      ],
      "execution_count": 208,
      "outputs": [
        {
          "output_type": "stream",
          "text": [
            "[[ 0  0  0]\n",
            " [10 10 10]\n",
            " [20 20 20]\n",
            " [30 30 30]]\n",
            "[[0 1 2]\n",
            " [0 1 2]\n",
            " [0 1 2]\n",
            " [0 1 2]]\n",
            "[[ 0  1  2]\n",
            " [10 11 12]\n",
            " [20 21 22]\n",
            " [30 31 32]]\n"
          ],
          "name": "stdout"
        }
      ]
    },
    {
      "cell_type": "code",
      "metadata": {
        "colab": {
          "base_uri": "https://localhost:8080/"
        },
        "id": "J8fLl_11U7Az",
        "outputId": "960cf1e9-46f2-4806-af83-340380c09ed9"
      },
      "source": [
        "a = np.array([\n",
        "    [ 0,  0,  0],\n",
        "    [10, 10, 10],\n",
        "    [20, 20, 20],\n",
        "    [30, 30, 30]\n",
        "])\n",
        "b = np.array([\n",
        "    [ 0,  1,  2],\n",
        "    [ 0,  1,  2],\n",
        "    [ 0,  1,  2],\n",
        "    [ 0,  1,  2]    \n",
        "])\n",
        "\n",
        "# print(a)\n",
        "# print(b)\n",
        "\n",
        "print(a-b)\n",
        "print()\n",
        "\n",
        "print(a*b)\n",
        "print()\n",
        "\n",
        "print(a/b)"
      ],
      "execution_count": 211,
      "outputs": [
        {
          "output_type": "stream",
          "text": [
            "[[ 0 -1 -2]\n",
            " [10  9  8]\n",
            " [20 19 18]\n",
            " [30 29 28]]\n",
            "\n",
            "[[ 0  0  0]\n",
            " [ 0 10 20]\n",
            " [ 0 20 40]\n",
            " [ 0 30 60]]\n",
            "\n",
            "[[nan  0.  0.]\n",
            " [inf 10.  5.]\n",
            " [inf 20. 10.]\n",
            " [inf 30. 15.]]\n"
          ],
          "name": "stdout"
        },
        {
          "output_type": "stream",
          "text": [
            "/usr/local/lib/python3.7/dist-packages/ipykernel_launcher.py:23: RuntimeWarning: divide by zero encountered in true_divide\n",
            "/usr/local/lib/python3.7/dist-packages/ipykernel_launcher.py:23: RuntimeWarning: invalid value encountered in true_divide\n"
          ],
          "name": "stderr"
        }
      ]
    },
    {
      "cell_type": "code",
      "metadata": {
        "colab": {
          "base_uri": "https://localhost:8080/"
        },
        "id": "Fm9sksJoVe8L",
        "outputId": "f302b706-9dad-4660-a1dd-86387310515b"
      },
      "source": [
        "a = np.array([\n",
        "    [ 0,  0,  0],\n",
        "    [10, 10, 10],\n",
        "    [20, 20, 20],\n",
        "    [30, 30, 30]\n",
        "])\n",
        "b = np.array([\n",
        "    [ 0,  1,  2], \n",
        "])\n",
        "\n",
        "print(a+b)"
      ],
      "execution_count": 212,
      "outputs": [
        {
          "output_type": "stream",
          "text": [
            "[[ 0  1  2]\n",
            " [10 11 12]\n",
            " [20 21 22]\n",
            " [30 31 32]]\n"
          ],
          "name": "stdout"
        }
      ]
    },
    {
      "cell_type": "code",
      "metadata": {
        "colab": {
          "base_uri": "https://localhost:8080/"
        },
        "id": "LFj5j1B7WhZs",
        "outputId": "572501ae-3d46-4912-a187-fa4ad9de07e8"
      },
      "source": [
        "a = np.array([\n",
        "    [ 0,  0,  0],\n",
        "    [10, 10, 10],\n",
        "    [20, 20, 20],\n",
        "    [30, 30, 30] \n",
        "])\n",
        "b = np.array([\n",
        "    [ 1 ],\n",
        "    [ 2 ],\n",
        "    [ 3 ],\n",
        "    [ 4 ]    \n",
        "])\n",
        "\n",
        "print(a+b)"
      ],
      "execution_count": 214,
      "outputs": [
        {
          "output_type": "stream",
          "text": [
            "[[ 1  1  1]\n",
            " [12 12 12]\n",
            " [23 23 23]\n",
            " [34 34 34]]\n"
          ],
          "name": "stdout"
        }
      ]
    },
    {
      "cell_type": "code",
      "metadata": {
        "colab": {
          "base_uri": "https://localhost:8080/"
        },
        "id": "JR9wKZJBWll4",
        "outputId": "de18a3e0-dd62-4d49-ef69-af3be79a36eb"
      },
      "source": [
        "a = np.arange(6).reshape(2,3)\n",
        "b = np.arange(12).reshape(3,4)\n",
        "\n",
        "print(a)\n",
        "print()\n",
        "print(b)\n",
        "print()"
      ],
      "execution_count": 216,
      "outputs": [
        {
          "output_type": "stream",
          "text": [
            "[[0 1 2]\n",
            " [3 4 5]]\n",
            "\n",
            "[[ 0  1  2  3]\n",
            " [ 4  5  6  7]\n",
            " [ 8  9 10 11]]\n",
            "\n"
          ],
          "name": "stdout"
        }
      ]
    },
    {
      "cell_type": "code",
      "metadata": {
        "colab": {
          "base_uri": "https://localhost:8080/"
        },
        "id": "3S-leKloW9vP",
        "outputId": "dae386cb-8fb3-49f0-e35b-63c6cbf7e056"
      },
      "source": [
        "print(np.matmul(a, b))\n",
        "print(np.matmul(a, b).shape)"
      ],
      "execution_count": 218,
      "outputs": [
        {
          "output_type": "stream",
          "text": [
            "[[20 23 26 29]\n",
            " [56 68 80 92]]\n",
            "(2, 4)\n"
          ],
          "name": "stdout"
        }
      ]
    },
    {
      "cell_type": "markdown",
      "metadata": {
        "id": "XPygF4rCXn9F"
      },
      "source": [
        "# 필터링"
      ]
    },
    {
      "cell_type": "code",
      "metadata": {
        "colab": {
          "base_uri": "https://localhost:8080/"
        },
        "id": "itChGE-lXRGL",
        "outputId": "2f42a6c5-d173-4f2a-fda4-b5f8ab0fafd8"
      },
      "source": [
        "a = np.arange(12).reshape(3,4)\n",
        "print(a)\n",
        "print()\n",
        "\n",
        "b = a%2==0\n",
        "print(b)\n",
        "print()\n",
        "\n",
        "c = a*b\n",
        "print(c)\n",
        "print()\n",
        "\n",
        "print(np.sum(c))\n"
      ],
      "execution_count": 225,
      "outputs": [
        {
          "output_type": "stream",
          "text": [
            "[[ 0  1  2  3]\n",
            " [ 4  5  6  7]\n",
            " [ 8  9 10 11]]\n",
            "\n",
            "[[ True False  True False]\n",
            " [ True False  True False]\n",
            " [ True False  True False]]\n",
            "\n",
            "[[ 0  0  2  0]\n",
            " [ 4  0  6  0]\n",
            " [ 8  0 10  0]]\n",
            "\n",
            "30\n"
          ],
          "name": "stdout"
        }
      ]
    },
    {
      "cell_type": "code",
      "metadata": {
        "colab": {
          "base_uri": "https://localhost:8080/"
        },
        "id": "bol28XZHYrHK",
        "outputId": "f95967e5-0d5b-43da-fb97-0448b37af0a9"
      },
      "source": [
        "a = np.arange(25).reshape(5,5)\n",
        "print(a)\n",
        "print()\n",
        "\n",
        "b = np.eye(len(a))\n",
        "print(b)\n",
        "print()\n",
        "\n",
        "c = a*b\n",
        "print(c)\n",
        "print()\n",
        "\n",
        "print(np.sum(c))\n"
      ],
      "execution_count": 230,
      "outputs": [
        {
          "output_type": "stream",
          "text": [
            "[[ 0  1  2  3  4]\n",
            " [ 5  6  7  8  9]\n",
            " [10 11 12 13 14]\n",
            " [15 16 17 18 19]\n",
            " [20 21 22 23 24]]\n",
            "\n",
            "[[1. 0. 0. 0. 0.]\n",
            " [0. 1. 0. 0. 0.]\n",
            " [0. 0. 1. 0. 0.]\n",
            " [0. 0. 0. 1. 0.]\n",
            " [0. 0. 0. 0. 1.]]\n",
            "\n",
            "[[ 0.  0.  0.  0.  0.]\n",
            " [ 0.  6.  0.  0.  0.]\n",
            " [ 0.  0. 12.  0.  0.]\n",
            " [ 0.  0.  0. 18.  0.]\n",
            " [ 0.  0.  0.  0. 24.]]\n",
            "\n",
            "60.0\n"
          ],
          "name": "stdout"
        }
      ]
    },
    {
      "cell_type": "markdown",
      "metadata": {
        "id": "A0MvtTJJeInq"
      },
      "source": [
        "# 차원 확대 축소"
      ]
    },
    {
      "cell_type": "code",
      "metadata": {
        "colab": {
          "base_uri": "https://localhost:8080/"
        },
        "id": "Nb2k7fsrYty1",
        "outputId": "c2ed100d-6945-4cf3-ce81-5475d9f8dca2"
      },
      "source": [
        "a = np.arange(12).reshape(3,4)\n",
        "print(a)"
      ],
      "execution_count": 231,
      "outputs": [
        {
          "output_type": "stream",
          "text": [
            "[[ 0  1  2  3]\n",
            " [ 4  5  6  7]\n",
            " [ 8  9 10 11]]\n"
          ],
          "name": "stdout"
        }
      ]
    },
    {
      "cell_type": "code",
      "metadata": {
        "colab": {
          "base_uri": "https://localhost:8080/"
        },
        "id": "fu3TkdKjebZX",
        "outputId": "9cbadce0-c345-46e0-9153-bfcea3d59d1c"
      },
      "source": [
        "print(a.reshape(3,4,1))"
      ],
      "execution_count": 232,
      "outputs": [
        {
          "output_type": "stream",
          "text": [
            "[[[ 0]\n",
            "  [ 1]\n",
            "  [ 2]\n",
            "  [ 3]]\n",
            "\n",
            " [[ 4]\n",
            "  [ 5]\n",
            "  [ 6]\n",
            "  [ 7]]\n",
            "\n",
            " [[ 8]\n",
            "  [ 9]\n",
            "  [10]\n",
            "  [11]]]\n"
          ],
          "name": "stdout"
        }
      ]
    },
    {
      "cell_type": "code",
      "metadata": {
        "colab": {
          "base_uri": "https://localhost:8080/"
        },
        "id": "dgJEv59revnW",
        "outputId": "96f35cde-b76a-4c03-8e0b-e710e9f97bf2"
      },
      "source": [
        "print(a.reshape(3,1,4))"
      ],
      "execution_count": 233,
      "outputs": [
        {
          "output_type": "stream",
          "text": [
            "[[[ 0  1  2  3]]\n",
            "\n",
            " [[ 4  5  6  7]]\n",
            "\n",
            " [[ 8  9 10 11]]]\n"
          ],
          "name": "stdout"
        }
      ]
    },
    {
      "cell_type": "code",
      "metadata": {
        "colab": {
          "base_uri": "https://localhost:8080/"
        },
        "id": "e8pFPZ70eyCD",
        "outputId": "97013d4d-f666-4d85-e13a-662f019ddeac"
      },
      "source": [
        "print(a.reshape(1,3,4))"
      ],
      "execution_count": 234,
      "outputs": [
        {
          "output_type": "stream",
          "text": [
            "[[[ 0  1  2  3]\n",
            "  [ 4  5  6  7]\n",
            "  [ 8  9 10 11]]]\n"
          ],
          "name": "stdout"
        }
      ]
    },
    {
      "cell_type": "code",
      "metadata": {
        "colab": {
          "base_uri": "https://localhost:8080/"
        },
        "id": "FtjSAw45fjNM",
        "outputId": "ea6d3bd8-1a58-474e-b516-8df912de4390"
      },
      "source": [
        "a = np.arange(12).reshape(3,4)\n",
        "print(a)\n",
        "print()\n",
        "\n",
        "b = np.expand_dims(a, axis=-1)\n",
        "pprint(b)\n"
      ],
      "execution_count": 239,
      "outputs": [
        {
          "output_type": "stream",
          "text": [
            "[[ 0  1  2  3]\n",
            " [ 4  5  6  7]\n",
            " [ 8  9 10 11]]\n",
            "\n",
            "shape: (3, 4, 1): dimension: 3, dtype: int64\n",
            "[[[ 0]\n",
            "  [ 1]\n",
            "  [ 2]\n",
            "  [ 3]]\n",
            "\n",
            " [[ 4]\n",
            "  [ 5]\n",
            "  [ 6]\n",
            "  [ 7]]\n",
            "\n",
            " [[ 8]\n",
            "  [ 9]\n",
            "  [10]\n",
            "  [11]]]\n",
            "\n"
          ],
          "name": "stdout"
        }
      ]
    },
    {
      "cell_type": "code",
      "metadata": {
        "colab": {
          "base_uri": "https://localhost:8080/"
        },
        "id": "EAId8k41fawf",
        "outputId": "41d60131-876f-49af-cdee-a76ceabd8599"
      },
      "source": [
        "a = np.arange(12).reshape(3,4,1)\n",
        "\n",
        "# print(a.reshape(3,4))\n",
        "\n",
        "print(np.squeeze(a))\n"
      ],
      "execution_count": 241,
      "outputs": [
        {
          "output_type": "stream",
          "text": [
            "[[ 0  1  2  3]\n",
            " [ 4  5  6  7]\n",
            " [ 8  9 10 11]]\n"
          ],
          "name": "stdout"
        }
      ]
    },
    {
      "cell_type": "code",
      "metadata": {
        "colab": {
          "base_uri": "https://localhost:8080/"
        },
        "id": "2I3mpS15gRN9",
        "outputId": "f792da5e-3c5d-4325-882f-8756a971cb20"
      },
      "source": [
        "a = np.arange(12).reshape(3,4)\n",
        "print(a)\n",
        "print()\n",
        "\n",
        "print(a.T)\n",
        "print()"
      ],
      "execution_count": 242,
      "outputs": [
        {
          "output_type": "stream",
          "text": [
            "[[ 0  1  2  3]\n",
            " [ 4  5  6  7]\n",
            " [ 8  9 10 11]]\n",
            "\n",
            "[[ 0  4  8]\n",
            " [ 1  5  9]\n",
            " [ 2  6 10]\n",
            " [ 3  7 11]]\n",
            "\n"
          ],
          "name": "stdout"
        }
      ]
    },
    {
      "cell_type": "code",
      "metadata": {
        "colab": {
          "base_uri": "https://localhost:8080/"
        },
        "id": "69Qh5VEjguSm",
        "outputId": "5b844dab-c8f2-4eb0-a5d6-50fe52697964"
      },
      "source": [
        "a = np.arange(12).reshape(3,4)\n",
        "print(a)\n",
        "\n",
        "print(np.sum(a))\n",
        "\n",
        "b = np.sum(a, axis=0)\n",
        "print(b.shape)\n",
        "print(np.sum(a, axis=0))\n",
        "\n",
        "b = np.sum(a, axis=1)\n",
        "print(b.shape)\n",
        "print(np.sum(a, axis=1))\n"
      ],
      "execution_count": 246,
      "outputs": [
        {
          "output_type": "stream",
          "text": [
            "[[ 0  1  2  3]\n",
            " [ 4  5  6  7]\n",
            " [ 8  9 10 11]]\n",
            "66\n",
            "(4,)\n",
            "[12 15 18 21]\n",
            "(3,)\n",
            "[ 6 22 38]\n"
          ],
          "name": "stdout"
        }
      ]
    },
    {
      "cell_type": "code",
      "metadata": {
        "colab": {
          "base_uri": "https://localhost:8080/"
        },
        "id": "RFG4rr1igw6i",
        "outputId": "99e70fe5-fcca-477d-ed2d-d88ae7d5aff5"
      },
      "source": [
        "a = np.arange(12).reshape(3,4)\n",
        "\n",
        "# (3,1,4)\n",
        "print(np.expand_dims(a, axis=1).shape)\n",
        "\n",
        "# (1,3,4)\n",
        "a = np.arange(12).reshape(3,4)\n",
        "print(np.expand_dims(a, axis=0).shape)\n",
        "\n",
        "a = np.arange(12).reshape(3,2,2)\n",
        "# (3,2,1,2)\n",
        "print(np.expand_dims(a, axis=2).shape)\n"
      ],
      "execution_count": 249,
      "outputs": [
        {
          "output_type": "stream",
          "text": [
            "(3, 1, 4)\n",
            "(1, 3, 4)\n",
            "(3, 2, 1, 2)\n"
          ],
          "name": "stdout"
        }
      ]
    },
    {
      "cell_type": "code",
      "metadata": {
        "colab": {
          "base_uri": "https://localhost:8080/"
        },
        "id": "Rw0dmOSJk62r",
        "outputId": "7ab9a57c-62ba-4635-bf81-998704fe4223"
      },
      "source": [
        "a = np.ones((3,4,5))\n",
        "\n",
        "# (4,5)\n",
        "b = np.sum(a, axis=0)\n",
        "print(b)"
      ],
      "execution_count": 251,
      "outputs": [
        {
          "output_type": "stream",
          "text": [
            "[[3. 3. 3. 3. 3.]\n",
            " [3. 3. 3. 3. 3.]\n",
            " [3. 3. 3. 3. 3.]\n",
            " [3. 3. 3. 3. 3.]]\n"
          ],
          "name": "stdout"
        }
      ]
    },
    {
      "cell_type": "code",
      "metadata": {
        "colab": {
          "base_uri": "https://localhost:8080/"
        },
        "id": "FTGWM8-Jm3n2",
        "outputId": "df740ac0-8f37-42be-ccab-73ac2135cdad"
      },
      "source": [
        "a = np.ones((3,4,5))\n",
        "\n",
        "# (3,4)\n",
        "b = np.sum(a, axis=2)\n",
        "print(b)"
      ],
      "execution_count": 252,
      "outputs": [
        {
          "output_type": "stream",
          "text": [
            "[[5. 5. 5. 5.]\n",
            " [5. 5. 5. 5.]\n",
            " [5. 5. 5. 5.]]\n"
          ],
          "name": "stdout"
        }
      ]
    },
    {
      "cell_type": "code",
      "metadata": {
        "colab": {
          "base_uri": "https://localhost:8080/"
        },
        "id": "DrIjMNdXm9ks",
        "outputId": "c05b184e-def2-4f83-e76b-3d858ba6b845"
      },
      "source": [
        "a = np.ones((3,4,5))\n",
        "\n",
        "# (3,5)\n",
        "b = np.sum(a, axis=1)\n",
        "print(b)"
      ],
      "execution_count": 253,
      "outputs": [
        {
          "output_type": "stream",
          "text": [
            "[[4. 4. 4. 4. 4.]\n",
            " [4. 4. 4. 4. 4.]\n",
            " [4. 4. 4. 4. 4.]]\n"
          ],
          "name": "stdout"
        }
      ]
    },
    {
      "cell_type": "code",
      "metadata": {
        "colab": {
          "base_uri": "https://localhost:8080/"
        },
        "id": "KbT9sj6GnG_h",
        "outputId": "0a4d8341-858d-440b-af14-7c1dbe789b8e"
      },
      "source": [
        "a = np.arange(60).reshape(4,3,5)\n",
        "print(a)\n",
        "\n",
        "# (3,5)\n",
        "print(np.mean(a, axis=0))"
      ],
      "execution_count": 255,
      "outputs": [
        {
          "output_type": "stream",
          "text": [
            "[[[ 0  1  2  3  4]\n",
            "  [ 5  6  7  8  9]\n",
            "  [10 11 12 13 14]]\n",
            "\n",
            " [[15 16 17 18 19]\n",
            "  [20 21 22 23 24]\n",
            "  [25 26 27 28 29]]\n",
            "\n",
            " [[30 31 32 33 34]\n",
            "  [35 36 37 38 39]\n",
            "  [40 41 42 43 44]]\n",
            "\n",
            " [[45 46 47 48 49]\n",
            "  [50 51 52 53 54]\n",
            "  [55 56 57 58 59]]]\n",
            "[[22.5 23.5 24.5 25.5 26.5]\n",
            " [27.5 28.5 29.5 30.5 31.5]\n",
            " [32.5 33.5 34.5 35.5 36.5]]\n"
          ],
          "name": "stdout"
        }
      ]
    },
    {
      "cell_type": "code",
      "metadata": {
        "id": "nXo4m_VsrZN-"
      },
      "source": [
        "l = [ 3, 5, 2, 5, 9 ]\n",
        "names = [ \"tom\", \"jerry\", \"brute\", \"bob\", \"hank\" ]\n",
        "\n",
        "s = [ 9, 5, 5, 3, 2 ]\n",
        "\n",
        "i = [ 4, 1, 3, 0, 2 ]\n",
        "\n",
        "9\n",
        "\n",
        "4\n",
        "[ 3, 5, 2, 5, -1 ]\n",
        "\n",
        "1\n",
        "[ 3, -1, 2, 5, -1 ]\n",
        "\n",
        "\n",
        "\n",
        "names[4]\n",
        "names[1]\n",
        "names[3]\n",
        "names[0]\n",
        "names[2]"
      ],
      "execution_count": null,
      "outputs": []
    },
    {
      "cell_type": "code",
      "metadata": {
        "colab": {
          "base_uri": "https://localhost:8080/"
        },
        "id": "bT8o-Ycqt7Qg",
        "outputId": "07f5dc4b-c46f-48cb-e9e9-da39511a6a5c"
      },
      "source": [
        "l = [ 3, 5, 2, 5, 9 ]\n",
        "names = [ \"tom\", \"jerry\", \"brute\", \"bob\", \"hank\" ]\n",
        "\n",
        "org = [ i for i in l ]\n",
        "print(\"org :\", org)\n",
        "\n",
        "l.sort(reverse=True)\n",
        "print(\"sorted l :\", l)\n",
        "\n",
        "indexes = []\n",
        "for i in range(len(l)):\n",
        "  print(l[i])\n",
        "  for j in range(len(org)):\n",
        "    if org[j] == l[i]:\n",
        "      indexes.append(j)\n",
        "      org[j] = -1\n",
        "      break\n",
        "  print(org)\n",
        "\n",
        "print(indexes)\n",
        "\n",
        "for i in indexes:\n",
        "  print(names[i])\n"
      ],
      "execution_count": 267,
      "outputs": [
        {
          "output_type": "stream",
          "text": [
            "org : [3, 5, 2, 5, 9]\n",
            "sorted l : [9, 5, 5, 3, 2]\n",
            "9\n",
            "[3, 5, 2, 5, -1]\n",
            "5\n",
            "[3, -1, 2, 5, -1]\n",
            "5\n",
            "[3, -1, 2, -1, -1]\n",
            "3\n",
            "[-1, -1, 2, -1, -1]\n",
            "2\n",
            "[-1, -1, -1, -1, -1]\n",
            "[4, 1, 3, 0, 2]\n",
            "hank\n",
            "jerry\n",
            "bob\n",
            "tom\n",
            "brute\n"
          ],
          "name": "stdout"
        }
      ]
    },
    {
      "cell_type": "code",
      "metadata": {
        "colab": {
          "base_uri": "https://localhost:8080/"
        },
        "id": "GucxX1WrwHs_",
        "outputId": "487d5036-d878-43f3-83ad-84f70ea37921"
      },
      "source": [
        "a = np.array([3, 5, 2, 5, 9])\n",
        "indexes = np.argsort(a)[::-1]\n",
        "print(indexes)"
      ],
      "execution_count": 274,
      "outputs": [
        {
          "output_type": "stream",
          "text": [
            "[4 3 1 0 2]\n"
          ],
          "name": "stdout"
        }
      ]
    },
    {
      "cell_type": "code",
      "metadata": {
        "colab": {
          "base_uri": "https://localhost:8080/"
        },
        "id": "tNh-B6AYw6uA",
        "outputId": "3dd14f37-40bf-4e68-a66b-7a4647429cdd"
      },
      "source": [
        "np.random.seed(seed=31)\n",
        "a = np.random.randint(100, size=12).reshape(3,4)\n",
        "print(a)\n",
        "\n",
        "sorted_index = np.argsort(a, axis=1)\n",
        "print(sorted_index)\n",
        "\n",
        "sorted_index = np.argsort(a, axis=0)\n",
        "print(sorted_index)\n",
        "\n"
      ],
      "execution_count": 290,
      "outputs": [
        {
          "output_type": "stream",
          "text": [
            "[[82 87 16 98]\n",
            " [23 58 28 93]\n",
            " [92 42 46  6]]\n",
            "[[2 0 1 3]\n",
            " [0 2 1 3]\n",
            " [3 1 2 0]]\n",
            "[[1 2 0 2]\n",
            " [0 1 1 1]\n",
            " [2 0 2 0]]\n"
          ],
          "name": "stdout"
        }
      ]
    },
    {
      "cell_type": "code",
      "metadata": {
        "colab": {
          "base_uri": "https://localhost:8080/"
        },
        "id": "EZfiyQzEzzRm",
        "outputId": "a5141970-634c-48b4-b296-204997c36160"
      },
      "source": [
        "np.random.seed(seed=31)\n",
        "a = np.random.randint(100, size=12).reshape(3,4)\n",
        "print(a)\n",
        "\n",
        "indexes = np.argmax(a, axis=1)\n",
        "print(indexes)\n",
        "\n",
        "indexes = np.argmax(a, axis=-1)\n",
        "print(indexes)\n"
      ],
      "execution_count": 293,
      "outputs": [
        {
          "output_type": "stream",
          "text": [
            "[[82 87 16 98]\n",
            " [23 58 28 93]\n",
            " [92 42 46  6]]\n",
            "[3 3 0]\n",
            "[3 3 0]\n"
          ],
          "name": "stdout"
        }
      ]
    },
    {
      "cell_type": "markdown",
      "metadata": {
        "id": "5fIfUpNnDHET"
      },
      "source": [
        "```\n",
        "1등 반은 2반 입니다.\n",
        "1반의 1위는 민수입니다.\n",
        "2반의 1위는 하니입니다.\n",
        "```"
      ]
    },
    {
      "cell_type": "code",
      "metadata": {
        "colab": {
          "base_uri": "https://localhost:8080/"
        },
        "id": "FnYOloYt-kOq",
        "outputId": "c4107cbb-c8bc-4241-9eff-335ff0e101a1"
      },
      "source": [
        "raw_scores = [\n",
        "  [\n",
        "    [65, 63],\n",
        "    [34, 25],\n",
        "    [74, 66],\n",
        "    [26, 44],\n",
        "    [17, 32]\n",
        "  ],\n",
        "  [\n",
        "    [63, 34],\n",
        "    [25, 63],\n",
        "    [63, 27],  \n",
        "    [48, 76],\n",
        "    [97, 64]\n",
        "  ],\n",
        "]\n",
        "\n",
        "names = [\n",
        "  [\"철수\", \"영희\", \"민수\", \"기철\", \"기만\"],\n",
        "  [\"현정\", \"현수\", \"나희\", \"애리\", \"하니\"]\n",
        "]\n",
        "         \n",
        "scores = np.array(raw_scores)\n",
        "# print(scores)\n",
        "print(scores.shape)\n",
        "\n",
        "student_mean = np.mean(scores, axis=2)\n",
        "print(\"student_mean\\n\", student_mean, \"\\n\")\n",
        "\n",
        "class_mean = np.mean(student_mean, axis=1)\n",
        "print(\"class_mean\\n\", class_mean, \"\\n\")\n",
        "\n",
        "class_sorted_index = np.argsort(class_mean)[::-1]\n",
        "print(\"class_sorted_index :\", class_sorted_index)\n",
        "winner_class = class_sorted_index[0]+1\n",
        "print(\"winner_class :\", winner_class)\n",
        "\n",
        "class_winner_index = np.argmax(student_mean, axis=1)\n",
        "print(\"class_winner_index :\", class_winner_index)\n",
        "print()\n",
        "\n",
        "print(\"1등 반은 {}반 입니다.\".format(winner_class))\n",
        "print(\"1반의 1위는 {}입니다.\".format(names[0][class_winner_index[0]]))\n",
        "print(\"2반의 1위는 {}입니다.\".format(names[1][class_winner_index[1]]))"
      ],
      "execution_count": 321,
      "outputs": [
        {
          "output_type": "stream",
          "text": [
            "(2, 5, 2)\n",
            "student_mean\n",
            " [[64.  29.5 70.  35.  24.5]\n",
            " [48.5 44.  45.  62.  80.5]] \n",
            "\n",
            "class_mean\n",
            " [44.6 56. ] \n",
            "\n",
            "class_sorted_index : [1 0]\n",
            "winner_class : 2\n",
            "class_winner_index : [2 4]\n",
            "\n",
            "1등 반은 2반 입니다.\n",
            "1반의 1위는 민수입니다.\n",
            "2반의 1위는 하니입니다.\n"
          ],
          "name": "stdout"
        }
      ]
    },
    {
      "cell_type": "code",
      "metadata": {
        "id": "euChflXO_PoN"
      },
      "source": [
        ""
      ],
      "execution_count": null,
      "outputs": []
    }
  ]
}