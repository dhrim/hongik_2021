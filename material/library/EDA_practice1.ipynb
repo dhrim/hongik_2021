{
  "nbformat": 4,
  "nbformat_minor": 0,
  "metadata": {
    "colab": {
      "name": "EDA_practice1.ipynb",
      "provenance": []
    },
    "kernelspec": {
      "name": "python3",
      "display_name": "Python 3"
    },
    "language_info": {
      "name": "python"
    }
  },
  "cells": [
    {
      "cell_type": "code",
      "metadata": {
        "id": "AIqzwCZWt5tK"
      },
      "source": [
        "import pandas as pd\n",
        "import numpy as np\n",
        "import matplotlib.pyplot as plt\n",
        "import seaborn as sns"
      ],
      "execution_count": 209,
      "outputs": []
    },
    {
      "cell_type": "markdown",
      "metadata": {
        "id": "nE5q2m2EuH0K"
      },
      "source": [
        "# 데이터 로딩"
      ]
    },
    {
      "cell_type": "code",
      "metadata": {
        "id": "Z2QjI1slJcC4"
      },
      "source": [
        "!wget https://raw.githubusercontent.com/dhrim/hongik_2021/master/material/library/flawed_iris.csv"
      ],
      "execution_count": null,
      "outputs": []
    },
    {
      "cell_type": "code",
      "metadata": {
        "id": "CSfwmveYAfrX"
      },
      "source": [
        "df = pd.read_csv(\"flawed_iris.csv\")"
      ],
      "execution_count": 210,
      "outputs": []
    },
    {
      "cell_type": "code",
      "metadata": {
        "colab": {
          "base_uri": "https://localhost:8080/"
        },
        "id": "3Km592YpuEJ0",
        "outputId": "6b4a6899-f5b0-4086-977e-20ea4b054076"
      },
      "source": [
        "print(df)"
      ],
      "execution_count": 211,
      "outputs": [
        {
          "output_type": "stream",
          "text": [
            "     septal_length septal_width  petal_length  petal_width   color  class\n",
            "0              6.4          2.8           5.6          2.2   light    2.0\n",
            "1              5.0          2.3           3.3          1.0  medium    1.0\n",
            "2              4.9          2.5           4.5          1.7  medium    2.0\n",
            "3              4.9          3.1           1.5          0.1    dark    0.0\n",
            "4              5.7          3.8           1.7          0.3    dark    0.0\n",
            "..             ...          ...           ...          ...     ...    ...\n",
            "115            5.5          2.6           4.4          1.2   light    1.0\n",
            "116            5.7            3           NaN          1.2   light    1.0\n",
            "117            4.4          2.9           1.4          0.2   light    0.0\n",
            "118            4.8            3           1.4          0.1    dark    0.0\n",
            "119            5.5          2.4           3.7         -1.0    dark    1.0\n",
            "\n",
            "[120 rows x 6 columns]\n"
          ],
          "name": "stdout"
        }
      ]
    },
    {
      "cell_type": "code",
      "metadata": {
        "colab": {
          "base_uri": "https://localhost:8080/"
        },
        "id": "9fZkPr01uE3W",
        "outputId": "76ef4f48-0087-4945-b77e-0bf13809a895"
      },
      "source": [
        "print(df.info())"
      ],
      "execution_count": 212,
      "outputs": [
        {
          "output_type": "stream",
          "text": [
            "<class 'pandas.core.frame.DataFrame'>\n",
            "RangeIndex: 120 entries, 0 to 119\n",
            "Data columns (total 6 columns):\n",
            " #   Column         Non-Null Count  Dtype  \n",
            "---  ------         --------------  -----  \n",
            " 0   septal_length  117 non-null    float64\n",
            " 1   septal_width   118 non-null    object \n",
            " 2   petal_length   117 non-null    float64\n",
            " 3   petal_width    118 non-null    float64\n",
            " 4   color          117 non-null    object \n",
            " 5   class          119 non-null    float64\n",
            "dtypes: float64(4), object(2)\n",
            "memory usage: 5.8+ KB\n",
            "None\n"
          ],
          "name": "stdout"
        }
      ]
    },
    {
      "cell_type": "markdown",
      "metadata": {
        "id": "UYbidMT5u1pv"
      },
      "source": [
        "# 이상한 실수값 \"2..3\" 처리"
      ]
    },
    {
      "cell_type": "code",
      "metadata": {
        "colab": {
          "base_uri": "https://localhost:8080/",
          "height": 349
        },
        "id": "ypLW1lMbvSct",
        "outputId": "89efef37-c6b3-4bd6-bdf7-302eb15a54e9"
      },
      "source": [
        "df[\"septal_width\"] = df[\"septal_width\"].astype(float)"
      ],
      "execution_count": 213,
      "outputs": [
        {
          "output_type": "error",
          "ename": "ValueError",
          "evalue": "ignored",
          "traceback": [
            "\u001b[0;31m---------------------------------------------------------------------------\u001b[0m",
            "\u001b[0;31mValueError\u001b[0m                                Traceback (most recent call last)",
            "\u001b[0;32m<ipython-input-213-29c758fa88e1>\u001b[0m in \u001b[0;36m<module>\u001b[0;34m()\u001b[0m\n\u001b[0;32m----> 1\u001b[0;31m \u001b[0mdf\u001b[0m\u001b[0;34m[\u001b[0m\u001b[0;34m\"septal_width\"\u001b[0m\u001b[0;34m]\u001b[0m \u001b[0;34m=\u001b[0m \u001b[0mdf\u001b[0m\u001b[0;34m[\u001b[0m\u001b[0;34m\"septal_width\"\u001b[0m\u001b[0;34m]\u001b[0m\u001b[0;34m.\u001b[0m\u001b[0mastype\u001b[0m\u001b[0;34m(\u001b[0m\u001b[0mfloat\u001b[0m\u001b[0;34m)\u001b[0m\u001b[0;34m\u001b[0m\u001b[0;34m\u001b[0m\u001b[0m\n\u001b[0m",
            "\u001b[0;32m/usr/local/lib/python3.7/dist-packages/pandas/core/generic.py\u001b[0m in \u001b[0;36mastype\u001b[0;34m(self, dtype, copy, errors)\u001b[0m\n\u001b[1;32m   5546\u001b[0m         \u001b[0;32melse\u001b[0m\u001b[0;34m:\u001b[0m\u001b[0;34m\u001b[0m\u001b[0;34m\u001b[0m\u001b[0m\n\u001b[1;32m   5547\u001b[0m             \u001b[0;31m# else, only a single dtype is given\u001b[0m\u001b[0;34m\u001b[0m\u001b[0;34m\u001b[0m\u001b[0;34m\u001b[0m\u001b[0m\n\u001b[0;32m-> 5548\u001b[0;31m             \u001b[0mnew_data\u001b[0m \u001b[0;34m=\u001b[0m \u001b[0mself\u001b[0m\u001b[0;34m.\u001b[0m\u001b[0m_mgr\u001b[0m\u001b[0;34m.\u001b[0m\u001b[0mastype\u001b[0m\u001b[0;34m(\u001b[0m\u001b[0mdtype\u001b[0m\u001b[0;34m=\u001b[0m\u001b[0mdtype\u001b[0m\u001b[0;34m,\u001b[0m \u001b[0mcopy\u001b[0m\u001b[0;34m=\u001b[0m\u001b[0mcopy\u001b[0m\u001b[0;34m,\u001b[0m \u001b[0merrors\u001b[0m\u001b[0;34m=\u001b[0m\u001b[0merrors\u001b[0m\u001b[0;34m,\u001b[0m\u001b[0;34m)\u001b[0m\u001b[0;34m\u001b[0m\u001b[0;34m\u001b[0m\u001b[0m\n\u001b[0m\u001b[1;32m   5549\u001b[0m             \u001b[0;32mreturn\u001b[0m \u001b[0mself\u001b[0m\u001b[0;34m.\u001b[0m\u001b[0m_constructor\u001b[0m\u001b[0;34m(\u001b[0m\u001b[0mnew_data\u001b[0m\u001b[0;34m)\u001b[0m\u001b[0;34m.\u001b[0m\u001b[0m__finalize__\u001b[0m\u001b[0;34m(\u001b[0m\u001b[0mself\u001b[0m\u001b[0;34m,\u001b[0m \u001b[0mmethod\u001b[0m\u001b[0;34m=\u001b[0m\u001b[0;34m\"astype\"\u001b[0m\u001b[0;34m)\u001b[0m\u001b[0;34m\u001b[0m\u001b[0;34m\u001b[0m\u001b[0m\n\u001b[1;32m   5550\u001b[0m \u001b[0;34m\u001b[0m\u001b[0m\n",
            "\u001b[0;32m/usr/local/lib/python3.7/dist-packages/pandas/core/internals/managers.py\u001b[0m in \u001b[0;36mastype\u001b[0;34m(self, dtype, copy, errors)\u001b[0m\n\u001b[1;32m    602\u001b[0m         \u001b[0mself\u001b[0m\u001b[0;34m,\u001b[0m \u001b[0mdtype\u001b[0m\u001b[0;34m,\u001b[0m \u001b[0mcopy\u001b[0m\u001b[0;34m:\u001b[0m \u001b[0mbool\u001b[0m \u001b[0;34m=\u001b[0m \u001b[0;32mFalse\u001b[0m\u001b[0;34m,\u001b[0m \u001b[0merrors\u001b[0m\u001b[0;34m:\u001b[0m \u001b[0mstr\u001b[0m \u001b[0;34m=\u001b[0m \u001b[0;34m\"raise\"\u001b[0m\u001b[0;34m\u001b[0m\u001b[0;34m\u001b[0m\u001b[0m\n\u001b[1;32m    603\u001b[0m     ) -> \"BlockManager\":\n\u001b[0;32m--> 604\u001b[0;31m         \u001b[0;32mreturn\u001b[0m \u001b[0mself\u001b[0m\u001b[0;34m.\u001b[0m\u001b[0mapply\u001b[0m\u001b[0;34m(\u001b[0m\u001b[0;34m\"astype\"\u001b[0m\u001b[0;34m,\u001b[0m \u001b[0mdtype\u001b[0m\u001b[0;34m=\u001b[0m\u001b[0mdtype\u001b[0m\u001b[0;34m,\u001b[0m \u001b[0mcopy\u001b[0m\u001b[0;34m=\u001b[0m\u001b[0mcopy\u001b[0m\u001b[0;34m,\u001b[0m \u001b[0merrors\u001b[0m\u001b[0;34m=\u001b[0m\u001b[0merrors\u001b[0m\u001b[0;34m)\u001b[0m\u001b[0;34m\u001b[0m\u001b[0;34m\u001b[0m\u001b[0m\n\u001b[0m\u001b[1;32m    605\u001b[0m \u001b[0;34m\u001b[0m\u001b[0m\n\u001b[1;32m    606\u001b[0m     def convert(\n",
            "\u001b[0;32m/usr/local/lib/python3.7/dist-packages/pandas/core/internals/managers.py\u001b[0m in \u001b[0;36mapply\u001b[0;34m(self, f, align_keys, **kwargs)\u001b[0m\n\u001b[1;32m    407\u001b[0m                 \u001b[0mapplied\u001b[0m \u001b[0;34m=\u001b[0m \u001b[0mb\u001b[0m\u001b[0;34m.\u001b[0m\u001b[0mapply\u001b[0m\u001b[0;34m(\u001b[0m\u001b[0mf\u001b[0m\u001b[0;34m,\u001b[0m \u001b[0;34m**\u001b[0m\u001b[0mkwargs\u001b[0m\u001b[0;34m)\u001b[0m\u001b[0;34m\u001b[0m\u001b[0;34m\u001b[0m\u001b[0m\n\u001b[1;32m    408\u001b[0m             \u001b[0;32melse\u001b[0m\u001b[0;34m:\u001b[0m\u001b[0;34m\u001b[0m\u001b[0;34m\u001b[0m\u001b[0m\n\u001b[0;32m--> 409\u001b[0;31m                 \u001b[0mapplied\u001b[0m \u001b[0;34m=\u001b[0m \u001b[0mgetattr\u001b[0m\u001b[0;34m(\u001b[0m\u001b[0mb\u001b[0m\u001b[0;34m,\u001b[0m \u001b[0mf\u001b[0m\u001b[0;34m)\u001b[0m\u001b[0;34m(\u001b[0m\u001b[0;34m**\u001b[0m\u001b[0mkwargs\u001b[0m\u001b[0;34m)\u001b[0m\u001b[0;34m\u001b[0m\u001b[0;34m\u001b[0m\u001b[0m\n\u001b[0m\u001b[1;32m    410\u001b[0m             \u001b[0mresult_blocks\u001b[0m \u001b[0;34m=\u001b[0m \u001b[0m_extend_blocks\u001b[0m\u001b[0;34m(\u001b[0m\u001b[0mapplied\u001b[0m\u001b[0;34m,\u001b[0m \u001b[0mresult_blocks\u001b[0m\u001b[0;34m)\u001b[0m\u001b[0;34m\u001b[0m\u001b[0;34m\u001b[0m\u001b[0m\n\u001b[1;32m    411\u001b[0m \u001b[0;34m\u001b[0m\u001b[0m\n",
            "\u001b[0;32m/usr/local/lib/python3.7/dist-packages/pandas/core/internals/blocks.py\u001b[0m in \u001b[0;36mastype\u001b[0;34m(self, dtype, copy, errors)\u001b[0m\n\u001b[1;32m    593\u001b[0m             \u001b[0mvals1d\u001b[0m \u001b[0;34m=\u001b[0m \u001b[0mvalues\u001b[0m\u001b[0;34m.\u001b[0m\u001b[0mravel\u001b[0m\u001b[0;34m(\u001b[0m\u001b[0;34m)\u001b[0m\u001b[0;34m\u001b[0m\u001b[0;34m\u001b[0m\u001b[0m\n\u001b[1;32m    594\u001b[0m             \u001b[0;32mtry\u001b[0m\u001b[0;34m:\u001b[0m\u001b[0;34m\u001b[0m\u001b[0;34m\u001b[0m\u001b[0m\n\u001b[0;32m--> 595\u001b[0;31m                 \u001b[0mvalues\u001b[0m \u001b[0;34m=\u001b[0m \u001b[0mastype_nansafe\u001b[0m\u001b[0;34m(\u001b[0m\u001b[0mvals1d\u001b[0m\u001b[0;34m,\u001b[0m \u001b[0mdtype\u001b[0m\u001b[0;34m,\u001b[0m \u001b[0mcopy\u001b[0m\u001b[0;34m=\u001b[0m\u001b[0;32mTrue\u001b[0m\u001b[0;34m)\u001b[0m\u001b[0;34m\u001b[0m\u001b[0;34m\u001b[0m\u001b[0m\n\u001b[0m\u001b[1;32m    596\u001b[0m             \u001b[0;32mexcept\u001b[0m \u001b[0;34m(\u001b[0m\u001b[0mValueError\u001b[0m\u001b[0;34m,\u001b[0m \u001b[0mTypeError\u001b[0m\u001b[0;34m)\u001b[0m\u001b[0;34m:\u001b[0m\u001b[0;34m\u001b[0m\u001b[0;34m\u001b[0m\u001b[0m\n\u001b[1;32m    597\u001b[0m                 \u001b[0;31m# e.g. astype_nansafe can fail on object-dtype of strings\u001b[0m\u001b[0;34m\u001b[0m\u001b[0;34m\u001b[0m\u001b[0;34m\u001b[0m\u001b[0m\n",
            "\u001b[0;32m/usr/local/lib/python3.7/dist-packages/pandas/core/dtypes/cast.py\u001b[0m in \u001b[0;36mastype_nansafe\u001b[0;34m(arr, dtype, copy, skipna)\u001b[0m\n\u001b[1;32m    995\u001b[0m     \u001b[0;32mif\u001b[0m \u001b[0mcopy\u001b[0m \u001b[0;32mor\u001b[0m \u001b[0mis_object_dtype\u001b[0m\u001b[0;34m(\u001b[0m\u001b[0marr\u001b[0m\u001b[0;34m)\u001b[0m \u001b[0;32mor\u001b[0m \u001b[0mis_object_dtype\u001b[0m\u001b[0;34m(\u001b[0m\u001b[0mdtype\u001b[0m\u001b[0;34m)\u001b[0m\u001b[0;34m:\u001b[0m\u001b[0;34m\u001b[0m\u001b[0;34m\u001b[0m\u001b[0m\n\u001b[1;32m    996\u001b[0m         \u001b[0;31m# Explicit copy, or required since NumPy can't view from / to object.\u001b[0m\u001b[0;34m\u001b[0m\u001b[0;34m\u001b[0m\u001b[0;34m\u001b[0m\u001b[0m\n\u001b[0;32m--> 997\u001b[0;31m         \u001b[0;32mreturn\u001b[0m \u001b[0marr\u001b[0m\u001b[0;34m.\u001b[0m\u001b[0mastype\u001b[0m\u001b[0;34m(\u001b[0m\u001b[0mdtype\u001b[0m\u001b[0;34m,\u001b[0m \u001b[0mcopy\u001b[0m\u001b[0;34m=\u001b[0m\u001b[0;32mTrue\u001b[0m\u001b[0;34m)\u001b[0m\u001b[0;34m\u001b[0m\u001b[0;34m\u001b[0m\u001b[0m\n\u001b[0m\u001b[1;32m    998\u001b[0m \u001b[0;34m\u001b[0m\u001b[0m\n\u001b[1;32m    999\u001b[0m     \u001b[0;32mreturn\u001b[0m \u001b[0marr\u001b[0m\u001b[0;34m.\u001b[0m\u001b[0mview\u001b[0m\u001b[0;34m(\u001b[0m\u001b[0mdtype\u001b[0m\u001b[0;34m)\u001b[0m\u001b[0;34m\u001b[0m\u001b[0;34m\u001b[0m\u001b[0m\n",
            "\u001b[0;31mValueError\u001b[0m: could not convert string to float: '2..3'"
          ]
        }
      ]
    },
    {
      "cell_type": "code",
      "metadata": {
        "colab": {
          "base_uri": "https://localhost:8080/"
        },
        "id": "oLE7zk-Jvte2",
        "outputId": "5b0baa10-98e8-4e90-d8cf-e0489a664f60"
      },
      "source": [
        "print(df[df.septal_width==\"2..3\"])"
      ],
      "execution_count": 214,
      "outputs": [
        {
          "output_type": "stream",
          "text": [
            "    septal_length septal_width  petal_length  petal_width color  class\n",
            "79            6.4         2..3           1.9          2.0   NaN    NaN\n"
          ],
          "name": "stdout"
        }
      ]
    },
    {
      "cell_type": "code",
      "metadata": {
        "colab": {
          "base_uri": "https://localhost:8080/"
        },
        "id": "EsZZWPt8v9lV",
        "outputId": "f30fb20f-ad0c-4715-84f4-3284ee062f55"
      },
      "source": [
        "print(df.loc[df.septal_width==\"2..3\",\"septal_width\"])"
      ],
      "execution_count": 215,
      "outputs": [
        {
          "output_type": "stream",
          "text": [
            "79    2..3\n",
            "Name: septal_width, dtype: object\n"
          ],
          "name": "stdout"
        }
      ]
    },
    {
      "cell_type": "code",
      "metadata": {
        "id": "n1BCouaOwrWe"
      },
      "source": [
        "df.loc[df.septal_width==\"2..3\",\"septal_width\"] = \"2.3\""
      ],
      "execution_count": 216,
      "outputs": []
    },
    {
      "cell_type": "code",
      "metadata": {
        "id": "Qog8LY5Qwv5c"
      },
      "source": [
        "df[\"septal_width\"] = df[\"septal_width\"].astype(float)"
      ],
      "execution_count": 217,
      "outputs": []
    },
    {
      "cell_type": "code",
      "metadata": {
        "colab": {
          "base_uri": "https://localhost:8080/"
        },
        "id": "QpAUOneUwxBh",
        "outputId": "3e142979-acbc-4a80-bd0b-7fd7f6d6079f"
      },
      "source": [
        "print(df.info())"
      ],
      "execution_count": 218,
      "outputs": [
        {
          "output_type": "stream",
          "text": [
            "<class 'pandas.core.frame.DataFrame'>\n",
            "RangeIndex: 120 entries, 0 to 119\n",
            "Data columns (total 6 columns):\n",
            " #   Column         Non-Null Count  Dtype  \n",
            "---  ------         --------------  -----  \n",
            " 0   septal_length  117 non-null    float64\n",
            " 1   septal_width   118 non-null    float64\n",
            " 2   petal_length   117 non-null    float64\n",
            " 3   petal_width    118 non-null    float64\n",
            " 4   color          117 non-null    object \n",
            " 5   class          119 non-null    float64\n",
            "dtypes: float64(5), object(1)\n",
            "memory usage: 5.8+ KB\n",
            "None\n"
          ],
          "name": "stdout"
        }
      ]
    },
    {
      "cell_type": "markdown",
      "metadata": {
        "id": "GD0YG-R85FDT"
      },
      "source": [
        "# 코드성 컬럼 color 인코딩"
      ]
    },
    {
      "cell_type": "code",
      "metadata": {
        "colab": {
          "base_uri": "https://localhost:8080/"
        },
        "id": "_rV_YJq36vnO",
        "outputId": "65013bbe-1e2b-4fea-aa5e-b79d97657df4"
      },
      "source": [
        "df.info()"
      ],
      "execution_count": 219,
      "outputs": [
        {
          "output_type": "stream",
          "text": [
            "<class 'pandas.core.frame.DataFrame'>\n",
            "RangeIndex: 120 entries, 0 to 119\n",
            "Data columns (total 6 columns):\n",
            " #   Column         Non-Null Count  Dtype  \n",
            "---  ------         --------------  -----  \n",
            " 0   septal_length  117 non-null    float64\n",
            " 1   septal_width   118 non-null    float64\n",
            " 2   petal_length   117 non-null    float64\n",
            " 3   petal_width    118 non-null    float64\n",
            " 4   color          117 non-null    object \n",
            " 5   class          119 non-null    float64\n",
            "dtypes: float64(5), object(1)\n",
            "memory usage: 5.8+ KB\n"
          ],
          "name": "stdout"
        }
      ]
    },
    {
      "cell_type": "code",
      "metadata": {
        "colab": {
          "base_uri": "https://localhost:8080/"
        },
        "id": "2y_do57I7NIP",
        "outputId": "a34df4ce-ebae-41b0-96be-c2b0d175bddf"
      },
      "source": [
        "df['color'].value_counts()"
      ],
      "execution_count": 220,
      "outputs": [
        {
          "output_type": "execute_result",
          "data": {
            "text/plain": [
              "dark      46\n",
              "medium    38\n",
              "light     33\n",
              "Name: color, dtype: int64"
            ]
          },
          "metadata": {
            "tags": []
          },
          "execution_count": 220
        }
      ]
    },
    {
      "cell_type": "code",
      "metadata": {
        "id": "eeV_Jl7_6drw"
      },
      "source": [
        "df[\"color\"] = df[\"color\"].astype('category')"
      ],
      "execution_count": 221,
      "outputs": []
    },
    {
      "cell_type": "code",
      "metadata": {
        "colab": {
          "base_uri": "https://localhost:8080/"
        },
        "id": "I4jv2IVK6zxR",
        "outputId": "5aa094af-f700-4b76-dce1-651e2c861f41"
      },
      "source": [
        "df.info()"
      ],
      "execution_count": 222,
      "outputs": [
        {
          "output_type": "stream",
          "text": [
            "<class 'pandas.core.frame.DataFrame'>\n",
            "RangeIndex: 120 entries, 0 to 119\n",
            "Data columns (total 6 columns):\n",
            " #   Column         Non-Null Count  Dtype   \n",
            "---  ------         --------------  -----   \n",
            " 0   septal_length  117 non-null    float64 \n",
            " 1   septal_width   118 non-null    float64 \n",
            " 2   petal_length   117 non-null    float64 \n",
            " 3   petal_width    118 non-null    float64 \n",
            " 4   color          117 non-null    category\n",
            " 5   class          119 non-null    float64 \n",
            "dtypes: category(1), float64(5)\n",
            "memory usage: 5.0 KB\n"
          ],
          "name": "stdout"
        }
      ]
    },
    {
      "cell_type": "code",
      "metadata": {
        "id": "b9nDCXJt79_2"
      },
      "source": [
        "df['color_code'] = df.color.cat.codes"
      ],
      "execution_count": 223,
      "outputs": []
    },
    {
      "cell_type": "code",
      "metadata": {
        "colab": {
          "base_uri": "https://localhost:8080/",
          "height": 222
        },
        "id": "VT9rDOrR8CTg",
        "outputId": "89887f5d-8afa-449a-abf7-c0b3490582a4"
      },
      "source": [
        "df.head()"
      ],
      "execution_count": 224,
      "outputs": [
        {
          "output_type": "execute_result",
          "data": {
            "text/html": [
              "<div>\n",
              "<style scoped>\n",
              "    .dataframe tbody tr th:only-of-type {\n",
              "        vertical-align: middle;\n",
              "    }\n",
              "\n",
              "    .dataframe tbody tr th {\n",
              "        vertical-align: top;\n",
              "    }\n",
              "\n",
              "    .dataframe thead th {\n",
              "        text-align: right;\n",
              "    }\n",
              "</style>\n",
              "<table border=\"1\" class=\"dataframe\">\n",
              "  <thead>\n",
              "    <tr style=\"text-align: right;\">\n",
              "      <th></th>\n",
              "      <th>septal_length</th>\n",
              "      <th>septal_width</th>\n",
              "      <th>petal_length</th>\n",
              "      <th>petal_width</th>\n",
              "      <th>color</th>\n",
              "      <th>class</th>\n",
              "      <th>color_code</th>\n",
              "    </tr>\n",
              "  </thead>\n",
              "  <tbody>\n",
              "    <tr>\n",
              "      <th>0</th>\n",
              "      <td>6.4</td>\n",
              "      <td>2.8</td>\n",
              "      <td>5.6</td>\n",
              "      <td>2.2</td>\n",
              "      <td>light</td>\n",
              "      <td>2.0</td>\n",
              "      <td>1</td>\n",
              "    </tr>\n",
              "    <tr>\n",
              "      <th>1</th>\n",
              "      <td>5.0</td>\n",
              "      <td>2.3</td>\n",
              "      <td>3.3</td>\n",
              "      <td>1.0</td>\n",
              "      <td>medium</td>\n",
              "      <td>1.0</td>\n",
              "      <td>2</td>\n",
              "    </tr>\n",
              "    <tr>\n",
              "      <th>2</th>\n",
              "      <td>4.9</td>\n",
              "      <td>2.5</td>\n",
              "      <td>4.5</td>\n",
              "      <td>1.7</td>\n",
              "      <td>medium</td>\n",
              "      <td>2.0</td>\n",
              "      <td>2</td>\n",
              "    </tr>\n",
              "    <tr>\n",
              "      <th>3</th>\n",
              "      <td>4.9</td>\n",
              "      <td>3.1</td>\n",
              "      <td>1.5</td>\n",
              "      <td>0.1</td>\n",
              "      <td>dark</td>\n",
              "      <td>0.0</td>\n",
              "      <td>0</td>\n",
              "    </tr>\n",
              "    <tr>\n",
              "      <th>4</th>\n",
              "      <td>5.7</td>\n",
              "      <td>3.8</td>\n",
              "      <td>1.7</td>\n",
              "      <td>0.3</td>\n",
              "      <td>dark</td>\n",
              "      <td>0.0</td>\n",
              "      <td>0</td>\n",
              "    </tr>\n",
              "  </tbody>\n",
              "</table>\n",
              "</div>"
            ],
            "text/plain": [
              "   septal_length  septal_width  petal_length  ...   color class  color_code\n",
              "0            6.4           2.8           5.6  ...   light   2.0           1\n",
              "1            5.0           2.3           3.3  ...  medium   1.0           2\n",
              "2            4.9           2.5           4.5  ...  medium   2.0           2\n",
              "3            4.9           3.1           1.5  ...    dark   0.0           0\n",
              "4            5.7           3.8           1.7  ...    dark   0.0           0\n",
              "\n",
              "[5 rows x 7 columns]"
            ]
          },
          "metadata": {
            "tags": []
          },
          "execution_count": 224
        }
      ]
    },
    {
      "cell_type": "markdown",
      "metadata": {
        "id": "PmU1r9--xKA8"
      },
      "source": [
        "# histogram 보기"
      ]
    },
    {
      "cell_type": "markdown",
      "metadata": {
        "id": "iNbafZpPyggp"
      },
      "source": [
        ""
      ]
    },
    {
      "cell_type": "code",
      "metadata": {
        "colab": {
          "base_uri": "https://localhost:8080/",
          "height": 299
        },
        "id": "S9gnicCQxkw8",
        "outputId": "5432adc1-3f03-4992-cf65-407be0e9c26e"
      },
      "source": [
        "sns.histplot(df.septal_length)"
      ],
      "execution_count": 225,
      "outputs": [
        {
          "output_type": "execute_result",
          "data": {
            "text/plain": [
              "<matplotlib.axes._subplots.AxesSubplot at 0x7f8e9b931e50>"
            ]
          },
          "metadata": {
            "tags": []
          },
          "execution_count": 225
        },
        {
          "output_type": "display_data",
          "data": {
            "image/png": "[encoded data removed]",
            "text/plain": [
              "<Figure size 432x288 with 1 Axes>"
            ]
          },
          "metadata": {
            "tags": [],
            "needs_background": "light"
          }
        }
      ]
    },
    {
      "cell_type": "code",
      "metadata": {
        "colab": {
          "base_uri": "https://localhost:8080/",
          "height": 299
        },
        "id": "xpYCGPlvxMSY",
        "outputId": "e777304e-9207-4708-e982-b24ee51320c2"
      },
      "source": [
        "sns.histplot(df.septal_width)"
      ],
      "execution_count": 226,
      "outputs": [
        {
          "output_type": "execute_result",
          "data": {
            "text/plain": [
              "<matplotlib.axes._subplots.AxesSubplot at 0x7f8e9d0f57d0>"
            ]
          },
          "metadata": {
            "tags": []
          },
          "execution_count": 226
        },
        {
          "output_type": "display_data",
          "data": {
            "image/png": "[encoded data removed]",
            "text/plain": [
              "<Figure size 432x288 with 1 Axes>"
            ]
          },
          "metadata": {
            "tags": [],
            "needs_background": "light"
          }
        }
      ]
    },
    {
      "cell_type": "code",
      "metadata": {
        "colab": {
          "base_uri": "https://localhost:8080/",
          "height": 299
        },
        "id": "y4iJLGOXxprZ",
        "outputId": "975488d0-76ea-46a2-8cb7-9b5d97a028ec"
      },
      "source": [
        "sns.histplot(df.petal_length)"
      ],
      "execution_count": 227,
      "outputs": [
        {
          "output_type": "execute_result",
          "data": {
            "text/plain": [
              "<matplotlib.axes._subplots.AxesSubplot at 0x7f8e9c5d5190>"
            ]
          },
          "metadata": {
            "tags": []
          },
          "execution_count": 227
        },
        {
          "output_type": "display_data",
          "data": {
            "image/png": "[encoded data removed]",
            "text/plain": [
              "<Figure size 432x288 with 1 Axes>"
            ]
          },
          "metadata": {
            "tags": [],
            "needs_background": "light"
          }
        }
      ]
    },
    {
      "cell_type": "code",
      "metadata": {
        "colab": {
          "base_uri": "https://localhost:8080/",
          "height": 299
        },
        "id": "ZsCuOvtdxq2J",
        "outputId": "fb92eab4-9a6b-4f9f-fd80-d902178364ba"
      },
      "source": [
        "sns.histplot(df.petal_width)"
      ],
      "execution_count": 228,
      "outputs": [
        {
          "output_type": "execute_result",
          "data": {
            "text/plain": [
              "<matplotlib.axes._subplots.AxesSubplot at 0x7f8e9bb8a450>"
            ]
          },
          "metadata": {
            "tags": []
          },
          "execution_count": 228
        },
        {
          "output_type": "display_data",
          "data": {
            "image/png": "[encoded data removed]",
            "text/plain": [
              "<Figure size 432x288 with 1 Axes>"
            ]
          },
          "metadata": {
            "tags": [],
            "needs_background": "light"
          }
        }
      ]
    },
    {
      "cell_type": "markdown",
      "metadata": {
        "id": "BGbqlBaTyj6L"
      },
      "source": [
        "# 이상치 처리"
      ]
    },
    {
      "cell_type": "markdown",
      "metadata": {
        "id": "iOMfJ8z2ylfD"
      },
      "source": [
        "## septal_length"
      ]
    },
    {
      "cell_type": "code",
      "metadata": {
        "colab": {
          "base_uri": "https://localhost:8080/",
          "height": 299
        },
        "id": "f9K8ZWt3yn-K",
        "outputId": "f494beb1-76d3-49c8-b8ad-336c9cb76e99"
      },
      "source": [
        "sns.histplot(df.septal_length)"
      ],
      "execution_count": 229,
      "outputs": [
        {
          "output_type": "execute_result",
          "data": {
            "text/plain": [
              "<matplotlib.axes._subplots.AxesSubplot at 0x7f8e9ba1d090>"
            ]
          },
          "metadata": {
            "tags": []
          },
          "execution_count": 229
        },
        {
          "output_type": "display_data",
          "data": {
            "image/png": "[encoded data removed]",
            "text/plain": [
              "<Figure size 432x288 with 1 Axes>"
            ]
          },
          "metadata": {
            "tags": [],
            "needs_background": "light"
          }
        }
      ]
    },
    {
      "cell_type": "code",
      "metadata": {
        "colab": {
          "base_uri": "https://localhost:8080/"
        },
        "id": "Ihkn9YSlytYz",
        "outputId": "80898714-8e18-4a78-8c7d-ebf20a3c2b21"
      },
      "source": [
        "print(df.loc[df.septal_length<2.5, \"septal_length\"])"
      ],
      "execution_count": 230,
      "outputs": [
        {
          "output_type": "stream",
          "text": [
            "41   -5.8\n",
            "Name: septal_length, dtype: float64\n"
          ],
          "name": "stdout"
        }
      ]
    },
    {
      "cell_type": "code",
      "metadata": {
        "colab": {
          "base_uri": "https://localhost:8080/"
        },
        "id": "iTXaCQHry3D2",
        "outputId": "efb08033-f366-44a5-bda5-e45385b9df63"
      },
      "source": [
        "print(df.loc[df.septal_length>10.0, \"septal_length\"])"
      ],
      "execution_count": 231,
      "outputs": [
        {
          "output_type": "stream",
          "text": [
            "90    14.5\n",
            "Name: septal_length, dtype: float64\n"
          ],
          "name": "stdout"
        }
      ]
    },
    {
      "cell_type": "markdown",
      "metadata": {
        "id": "n79uiiNry68M"
      },
      "source": [
        "전혀 동떨어진 -5.8, 14.5의 값을 이 둘을 제외한 것들의 최소값 최대값으로 바꾸자."
      ]
    },
    {
      "cell_type": "code",
      "metadata": {
        "colab": {
          "base_uri": "https://localhost:8080/"
        },
        "id": "Dg_jFZDyzDP1",
        "outputId": "3e618bfa-005e-40a4-8137-6cf9511e176c"
      },
      "source": [
        "filtered = df.loc[ (df.septal_length>=2.5) & (df.septal_length<=10.0), \"septal_length\"]\n",
        "print(filtered.count())\n",
        "min = filtered.min()\n",
        "max = filtered.max()\n",
        "\n",
        "print(\"min = \",min)\n",
        "print(\"max = \",max)\n",
        "\n"
      ],
      "execution_count": 232,
      "outputs": [
        {
          "output_type": "stream",
          "text": [
            "115\n",
            "min =  4.4\n",
            "max =  7.9\n"
          ],
          "name": "stdout"
        }
      ]
    },
    {
      "cell_type": "code",
      "metadata": {
        "id": "-j19iyqE1cmm"
      },
      "source": [
        "df.loc[ df.septal_length<2.5, \"septal_length\"] = min\n",
        "df.loc[ df.septal_length>10.0, \"septal_length\"] = max"
      ],
      "execution_count": 233,
      "outputs": []
    },
    {
      "cell_type": "code",
      "metadata": {
        "colab": {
          "base_uri": "https://localhost:8080/",
          "height": 299
        },
        "id": "yKO6sk2kz59f",
        "outputId": "2ffca8d9-090d-48a8-a974-1d34fabd49a4"
      },
      "source": [
        "sns.histplot(df.septal_length)"
      ],
      "execution_count": 234,
      "outputs": [
        {
          "output_type": "execute_result",
          "data": {
            "text/plain": [
              "<matplotlib.axes._subplots.AxesSubplot at 0x7f8e9bc5f510>"
            ]
          },
          "metadata": {
            "tags": []
          },
          "execution_count": 234
        },
        {
          "output_type": "display_data",
          "data": {
            "image/png": "[encoded data removed]",
            "text/plain": [
              "<Figure size 432x288 with 1 Axes>"
            ]
          },
          "metadata": {
            "tags": [],
            "needs_background": "light"
          }
        }
      ]
    },
    {
      "cell_type": "markdown",
      "metadata": {
        "id": "4tNYGuV20BXS"
      },
      "source": [
        "## septal_width"
      ]
    },
    {
      "cell_type": "code",
      "metadata": {
        "colab": {
          "base_uri": "https://localhost:8080/",
          "height": 299
        },
        "id": "Q3e_5QCY0BXV",
        "outputId": "d66ba218-06d6-49b5-d88f-cd15be4c4f35"
      },
      "source": [
        "sns.histplot(df.septal_width)"
      ],
      "execution_count": 235,
      "outputs": [
        {
          "output_type": "execute_result",
          "data": {
            "text/plain": [
              "<matplotlib.axes._subplots.AxesSubplot at 0x7f8e9bcf79d0>"
            ]
          },
          "metadata": {
            "tags": []
          },
          "execution_count": 235
        },
        {
          "output_type": "display_data",
          "data": {
            "image/png": "[encoded data removed]",
            "text/plain": [
              "<Figure size 432x288 with 1 Axes>"
            ]
          },
          "metadata": {
            "tags": [],
            "needs_background": "light"
          }
        }
      ]
    },
    {
      "cell_type": "code",
      "metadata": {
        "colab": {
          "base_uri": "https://localhost:8080/"
        },
        "id": "U52gF_Ub0BXW",
        "outputId": "e19c2e99-e729-4c7e-f6c5-61409dbe4f27"
      },
      "source": [
        "print(df.loc[df.septal_width<0.0, \"septal_width\"])"
      ],
      "execution_count": 236,
      "outputs": [
        {
          "output_type": "stream",
          "text": [
            "55   -3.0\n",
            "Name: septal_width, dtype: float64\n"
          ],
          "name": "stdout"
        }
      ]
    },
    {
      "cell_type": "code",
      "metadata": {
        "colab": {
          "base_uri": "https://localhost:8080/"
        },
        "id": "GeT278Xh0BXX",
        "outputId": "2f6d2f4e-c8c0-4f22-972f-e83d7eb0c88f"
      },
      "source": [
        "print(df.loc[df.septal_width>10.0, \"septal_width\"])"
      ],
      "execution_count": 237,
      "outputs": [
        {
          "output_type": "stream",
          "text": [
            "59    16.0\n",
            "74    15.0\n",
            "Name: septal_width, dtype: float64\n"
          ],
          "name": "stdout"
        }
      ]
    },
    {
      "cell_type": "markdown",
      "metadata": {
        "id": "FLE9z1_q0BXX"
      },
      "source": [
        "전혀 동떨어진 -3.0, 16.0, 15.0의 값을 이 둘을 제외한 것들의 최소값 최대값으로 바꾸자."
      ]
    },
    {
      "cell_type": "code",
      "metadata": {
        "colab": {
          "base_uri": "https://localhost:8080/"
        },
        "id": "1mubU-UV0BXX",
        "outputId": "b3ceb7d9-5c61-4075-bbe8-abb084f3f0d1"
      },
      "source": [
        "filtered = df.loc[ (df.septal_width>=0.0) & (df.septal_width<=10.0), \"septal_width\"]\n",
        "print(filtered.count())\n",
        "min = filtered.min()\n",
        "max = filtered.max()\n",
        "\n",
        "print(\"min = \",min)\n",
        "print(\"max = \",max)"
      ],
      "execution_count": 238,
      "outputs": [
        {
          "output_type": "stream",
          "text": [
            "115\n",
            "min =  2.2\n",
            "max =  4.4\n"
          ],
          "name": "stdout"
        }
      ]
    },
    {
      "cell_type": "code",
      "metadata": {
        "id": "ckXal1r11fmK"
      },
      "source": [
        "df.loc[ df.septal_width<2.5, \"septal_width\"] = min\n",
        "df.loc[ df.septal_width>10.0, \"septal_width\"] = max"
      ],
      "execution_count": 239,
      "outputs": []
    },
    {
      "cell_type": "code",
      "metadata": {
        "colab": {
          "base_uri": "https://localhost:8080/",
          "height": 299
        },
        "id": "xM5Vc1bE0BXY",
        "outputId": "997d6fc3-cfab-4fa1-c619-fb6a0096a422"
      },
      "source": [
        "sns.histplot(df.septal_width)"
      ],
      "execution_count": 240,
      "outputs": [
        {
          "output_type": "execute_result",
          "data": {
            "text/plain": [
              "<matplotlib.axes._subplots.AxesSubplot at 0x7f8e9b788ed0>"
            ]
          },
          "metadata": {
            "tags": []
          },
          "execution_count": 240
        },
        {
          "output_type": "display_data",
          "data": {
            "image/png": "[encoded data removed]",
            "text/plain": [
              "<Figure size 432x288 with 1 Axes>"
            ]
          },
          "metadata": {
            "tags": [],
            "needs_background": "light"
          }
        }
      ]
    },
    {
      "cell_type": "markdown",
      "metadata": {
        "id": "CL16GHTJ0eQL"
      },
      "source": [
        ""
      ]
    },
    {
      "cell_type": "markdown",
      "metadata": {
        "id": "SpoW0egz0e0_"
      },
      "source": [
        "## petal_length"
      ]
    },
    {
      "cell_type": "code",
      "metadata": {
        "colab": {
          "base_uri": "https://localhost:8080/",
          "height": 299
        },
        "id": "hcr04ye20e0_",
        "outputId": "f6cb47fb-6faf-4ee8-8da8-58fb0ee6e0a7"
      },
      "source": [
        "sns.histplot(df.petal_length)"
      ],
      "execution_count": 241,
      "outputs": [
        {
          "output_type": "execute_result",
          "data": {
            "text/plain": [
              "<matplotlib.axes._subplots.AxesSubplot at 0x7f8e9b719290>"
            ]
          },
          "metadata": {
            "tags": []
          },
          "execution_count": 241
        },
        {
          "output_type": "display_data",
          "data": {
            "image/png": "[encoded data removed]",
            "text/plain": [
              "<Figure size 432x288 with 1 Axes>"
            ]
          },
          "metadata": {
            "tags": [],
            "needs_background": "light"
          }
        }
      ]
    },
    {
      "cell_type": "code",
      "metadata": {
        "colab": {
          "base_uri": "https://localhost:8080/",
          "height": 299
        },
        "id": "Qa6IQF4R0zQN",
        "outputId": "3898860d-c65f-42aa-b1d9-e598ffd2fb6e"
      },
      "source": [
        "sns.histplot(df.petal_length, bins=20)"
      ],
      "execution_count": 242,
      "outputs": [
        {
          "output_type": "execute_result",
          "data": {
            "text/plain": [
              "<matplotlib.axes._subplots.AxesSubplot at 0x7f8e9b62dad0>"
            ]
          },
          "metadata": {
            "tags": []
          },
          "execution_count": 242
        },
        {
          "output_type": "display_data",
          "data": {
            "image/png": "[encoded data removed]",
            "text/plain": [
              "<Figure size 432x288 with 1 Axes>"
            ]
          },
          "metadata": {
            "tags": [],
            "needs_background": "light"
          }
        }
      ]
    },
    {
      "cell_type": "code",
      "metadata": {
        "colab": {
          "base_uri": "https://localhost:8080/"
        },
        "id": "gn2yRU6m0e1A",
        "outputId": "c85b372b-e1f0-4df3-aa03-f2b759b80cf6"
      },
      "source": [
        "print(df.loc[df.petal_length<0.0, \"petal_length\"])"
      ],
      "execution_count": 243,
      "outputs": [
        {
          "output_type": "stream",
          "text": [
            "73    -6.1\n",
            "89    -1.3\n",
            "105   -1.4\n",
            "Name: petal_length, dtype: float64\n"
          ],
          "name": "stdout"
        }
      ]
    },
    {
      "cell_type": "markdown",
      "metadata": {
        "id": "bRN5v11Y0e1B"
      },
      "source": [
        "전혀 동떨어진 0보다 작은 값들을 제외한 것들의 최소값 최대값으로 바꾸자."
      ]
    },
    {
      "cell_type": "code",
      "metadata": {
        "colab": {
          "base_uri": "https://localhost:8080/"
        },
        "id": "ax9hqcDI0e1B",
        "outputId": "1e2ccfff-8638-4d59-c87b-865e8b8c5020"
      },
      "source": [
        "filtered = df.loc[ (df.petal_length>0.0), \"petal_length\"]\n",
        "print(filtered.count())\n",
        "min = filtered.min()\n",
        "max = filtered.max()\n",
        "\n",
        "print(\"min = \",min)\n",
        "print(\"max = \",max)"
      ],
      "execution_count": 244,
      "outputs": [
        {
          "output_type": "stream",
          "text": [
            "114\n",
            "min =  1.0\n",
            "max =  6.9\n"
          ],
          "name": "stdout"
        }
      ]
    },
    {
      "cell_type": "code",
      "metadata": {
        "id": "PxxBMdb01OKO"
      },
      "source": [
        "df.loc[ df.petal_length<0.0, \"petal_length\"] = min"
      ],
      "execution_count": 245,
      "outputs": []
    },
    {
      "cell_type": "code",
      "metadata": {
        "colab": {
          "base_uri": "https://localhost:8080/",
          "height": 299
        },
        "id": "ktDVI22A0e1C",
        "outputId": "272e2b1c-b85b-4ca6-d7e8-bb6f4f181ecb"
      },
      "source": [
        "sns.histplot(df.petal_length)"
      ],
      "execution_count": 246,
      "outputs": [
        {
          "output_type": "execute_result",
          "data": {
            "text/plain": [
              "<matplotlib.axes._subplots.AxesSubplot at 0x7f8e9c03d610>"
            ]
          },
          "metadata": {
            "tags": []
          },
          "execution_count": 246
        },
        {
          "output_type": "display_data",
          "data": {
            "image/png": "[encoded data removed]",
            "text/plain": [
              "<Figure size 432x288 with 1 Axes>"
            ]
          },
          "metadata": {
            "tags": [],
            "needs_background": "light"
          }
        }
      ]
    },
    {
      "cell_type": "markdown",
      "metadata": {
        "id": "87g1hD1H0e1C"
      },
      "source": [
        "## petal_width"
      ]
    },
    {
      "cell_type": "code",
      "metadata": {
        "colab": {
          "base_uri": "https://localhost:8080/",
          "height": 299
        },
        "id": "8jqoiRb60e1C",
        "outputId": "d0896ba8-eb6f-47e2-82f4-2b8f48fb1531"
      },
      "source": [
        "sns.histplot(df.petal_width)"
      ],
      "execution_count": 247,
      "outputs": [
        {
          "output_type": "execute_result",
          "data": {
            "text/plain": [
              "<matplotlib.axes._subplots.AxesSubplot at 0x7f8e9b4e2e50>"
            ]
          },
          "metadata": {
            "tags": []
          },
          "execution_count": 247
        },
        {
          "output_type": "display_data",
          "data": {
            "image/png": "[encoded data removed]",
            "text/plain": [
              "<Figure size 432x288 with 1 Axes>"
            ]
          },
          "metadata": {
            "tags": [],
            "needs_background": "light"
          }
        }
      ]
    },
    {
      "cell_type": "code",
      "metadata": {
        "colab": {
          "base_uri": "https://localhost:8080/",
          "height": 299
        },
        "id": "-xAuTMam1-Gd",
        "outputId": "798fede6-3376-41b8-acf1-325a71e7325f"
      },
      "source": [
        "sns.histplot(df.petal_width, bins=100)"
      ],
      "execution_count": 248,
      "outputs": [
        {
          "output_type": "execute_result",
          "data": {
            "text/plain": [
              "<matplotlib.axes._subplots.AxesSubplot at 0x7f8e9b5035d0>"
            ]
          },
          "metadata": {
            "tags": []
          },
          "execution_count": 248
        },
        {
          "output_type": "display_data",
          "data": {
            "image/png": "[encoded data removed]",
            "text/plain": [
              "<Figure size 432x288 with 1 Axes>"
            ]
          },
          "metadata": {
            "tags": [],
            "needs_background": "light"
          }
        }
      ]
    },
    {
      "cell_type": "code",
      "metadata": {
        "colab": {
          "base_uri": "https://localhost:8080/"
        },
        "id": "PdePlpPb0e1C",
        "outputId": "5fff0824-b4b0-4cef-8e57-72c3597969b4"
      },
      "source": [
        "print(df.loc[df.petal_width>5.0, \"petal_width\"])"
      ],
      "execution_count": 249,
      "outputs": [
        {
          "output_type": "stream",
          "text": [
            "70     22.2\n",
            "81     15.4\n",
            "102    23.3\n",
            "Name: petal_width, dtype: float64\n"
          ],
          "name": "stdout"
        }
      ]
    },
    {
      "cell_type": "markdown",
      "metadata": {
        "id": "r6rsFDgN0e1D"
      },
      "source": [
        "전혀 동떨어진 5.0보다 큰 값들을 제외한 것들의 최대값으로 처리하자."
      ]
    },
    {
      "cell_type": "code",
      "metadata": {
        "colab": {
          "base_uri": "https://localhost:8080/"
        },
        "id": "ob56v8nw0e1D",
        "outputId": "f510fd73-1b74-4d9d-f7ce-d2b9529c727b"
      },
      "source": [
        "filtered = df.loc[ (df.petal_width<5.0), \"petal_width\"]\n",
        "print(filtered.count())\n",
        "min = filtered.min()\n",
        "max = filtered.max()\n",
        "\n",
        "print(\"min = \",min)\n",
        "print(\"max = \",max)\n"
      ],
      "execution_count": 250,
      "outputs": [
        {
          "output_type": "stream",
          "text": [
            "115\n",
            "min =  -1.0\n",
            "max =  2.5\n"
          ],
          "name": "stdout"
        }
      ]
    },
    {
      "cell_type": "code",
      "metadata": {
        "id": "pfPwqhNG1yVd"
      },
      "source": [
        "df.loc[ df.petal_width>5.0, \"petal_width\"] = max"
      ],
      "execution_count": 251,
      "outputs": []
    },
    {
      "cell_type": "code",
      "metadata": {
        "colab": {
          "base_uri": "https://localhost:8080/",
          "height": 299
        },
        "id": "dj2tWU110e1D",
        "outputId": "37269be9-1a41-4053-9d0b-007727a10c3d"
      },
      "source": [
        "sns.histplot(df.petal_width, bins=20)"
      ],
      "execution_count": 252,
      "outputs": [
        {
          "output_type": "execute_result",
          "data": {
            "text/plain": [
              "<matplotlib.axes._subplots.AxesSubplot at 0x7f8e9b2cf510>"
            ]
          },
          "metadata": {
            "tags": []
          },
          "execution_count": 252
        },
        {
          "output_type": "display_data",
          "data": {
            "image/png": "[encoded data removed]",
            "text/plain": [
              "<Figure size 432x288 with 1 Axes>"
            ]
          },
          "metadata": {
            "tags": [],
            "needs_background": "light"
          }
        }
      ]
    },
    {
      "cell_type": "code",
      "metadata": {
        "colab": {
          "base_uri": "https://localhost:8080/"
        },
        "id": "O5FltBjT3EWc",
        "outputId": "a2977ad0-77da-44ec-9c11-8e54ba519b05"
      },
      "source": [
        "print(df.loc[df.petal_width<0.0, \"petal_width\"])"
      ],
      "execution_count": 253,
      "outputs": [
        {
          "output_type": "stream",
          "text": [
            "119   -1.0\n",
            "Name: petal_width, dtype: float64\n"
          ],
          "name": "stdout"
        }
      ]
    },
    {
      "cell_type": "markdown",
      "metadata": {
        "id": "5hkxduut3I9l"
      },
      "source": [
        "0.0 보다 작은 것은 이를 제외한 것들의 최소값으로 처리하자."
      ]
    },
    {
      "cell_type": "code",
      "metadata": {
        "colab": {
          "base_uri": "https://localhost:8080/"
        },
        "id": "uvBU6UX-3NSG",
        "outputId": "42f70b34-545b-4efc-9316-00915352a8b3"
      },
      "source": [
        "filtered = df.loc[ (df.petal_width>=0.0), \"petal_width\"]\n",
        "print(filtered.count())\n",
        "min = filtered.min()\n",
        "max = filtered.max()\n",
        "\n",
        "print(\"min = \",min)\n",
        "print(\"max = \",max)"
      ],
      "execution_count": 254,
      "outputs": [
        {
          "output_type": "stream",
          "text": [
            "117\n",
            "min =  0.1\n",
            "max =  2.5\n"
          ],
          "name": "stdout"
        }
      ]
    },
    {
      "cell_type": "code",
      "metadata": {
        "id": "lBiOU10i3a49"
      },
      "source": [
        "df.loc[ df.petal_width<0.0, \"petal_width\"] = min"
      ],
      "execution_count": 255,
      "outputs": []
    },
    {
      "cell_type": "code",
      "metadata": {
        "colab": {
          "base_uri": "https://localhost:8080/",
          "height": 299
        },
        "id": "Ip4E0Csm3efJ",
        "outputId": "a0b1bb6d-e95e-49bb-d843-3400e7ec94c8"
      },
      "source": [
        "sns.histplot(df.petal_width, bins=20)"
      ],
      "execution_count": 256,
      "outputs": [
        {
          "output_type": "execute_result",
          "data": {
            "text/plain": [
              "<matplotlib.axes._subplots.AxesSubplot at 0x7f8e9b2427d0>"
            ]
          },
          "metadata": {
            "tags": []
          },
          "execution_count": 256
        },
        {
          "output_type": "display_data",
          "data": {
            "image/png": "[encoded data removed]",
            "text/plain": [
              "<Figure size 432x288 with 1 Axes>"
            ]
          },
          "metadata": {
            "tags": [],
            "needs_background": "light"
          }
        }
      ]
    },
    {
      "cell_type": "markdown",
      "metadata": {
        "id": "szkaBSG2uScb"
      },
      "source": [
        "# 결측치 처리"
      ]
    },
    {
      "cell_type": "code",
      "metadata": {
        "colab": {
          "base_uri": "https://localhost:8080/"
        },
        "id": "57t4JgmxuMH9",
        "outputId": "c7fcc14b-2eb6-408c-8e62-91eb51f2502e"
      },
      "source": [
        "print(df.isnull().any())"
      ],
      "execution_count": 257,
      "outputs": [
        {
          "output_type": "stream",
          "text": [
            "septal_length     True\n",
            "septal_width      True\n",
            "petal_length      True\n",
            "petal_width       True\n",
            "color             True\n",
            "class             True\n",
            "color_code       False\n",
            "dtype: bool\n"
          ],
          "name": "stdout"
        }
      ]
    },
    {
      "cell_type": "code",
      "metadata": {
        "colab": {
          "base_uri": "https://localhost:8080/"
        },
        "id": "JT_kBjFcuXK-",
        "outputId": "ba908b3a-1176-47cf-81a8-8b293cec4574"
      },
      "source": [
        "print(df.isnull().sum())"
      ],
      "execution_count": 258,
      "outputs": [
        {
          "output_type": "stream",
          "text": [
            "septal_length    3\n",
            "septal_width     2\n",
            "petal_length     3\n",
            "petal_width      2\n",
            "color            3\n",
            "class            1\n",
            "color_code       0\n",
            "dtype: int64\n"
          ],
          "name": "stdout"
        }
      ]
    },
    {
      "cell_type": "markdown",
      "metadata": {
        "id": "TUTxXPsE3pSI"
      },
      "source": [
        "## class"
      ]
    },
    {
      "cell_type": "markdown",
      "metadata": {
        "id": "akwXAfJe3rAx"
      },
      "source": [
        "class 값이 없는 것은 버리자"
      ]
    },
    {
      "cell_type": "code",
      "metadata": {
        "colab": {
          "base_uri": "https://localhost:8080/"
        },
        "id": "1AzMoKGE40KX",
        "outputId": "21540626-bcfd-4506-fe26-6257d7af623d"
      },
      "source": [
        "print(df['class'].isnull().any())"
      ],
      "execution_count": 259,
      "outputs": [
        {
          "output_type": "stream",
          "text": [
            "True\n"
          ],
          "name": "stdout"
        }
      ]
    },
    {
      "cell_type": "code",
      "metadata": {
        "colab": {
          "base_uri": "https://localhost:8080/",
          "height": 99
        },
        "id": "X1mw50-suszw",
        "outputId": "03c8d9a0-2e35-41fc-809d-61ebe78e4447"
      },
      "source": [
        "df.loc[df['class'].isnull()]"
      ],
      "execution_count": 260,
      "outputs": [
        {
          "output_type": "execute_result",
          "data": {
            "text/html": [
              "<div>\n",
              "<style scoped>\n",
              "    .dataframe tbody tr th:only-of-type {\n",
              "        vertical-align: middle;\n",
              "    }\n",
              "\n",
              "    .dataframe tbody tr th {\n",
              "        vertical-align: top;\n",
              "    }\n",
              "\n",
              "    .dataframe thead th {\n",
              "        text-align: right;\n",
              "    }\n",
              "</style>\n",
              "<table border=\"1\" class=\"dataframe\">\n",
              "  <thead>\n",
              "    <tr style=\"text-align: right;\">\n",
              "      <th></th>\n",
              "      <th>septal_length</th>\n",
              "      <th>septal_width</th>\n",
              "      <th>petal_length</th>\n",
              "      <th>petal_width</th>\n",
              "      <th>color</th>\n",
              "      <th>class</th>\n",
              "      <th>color_code</th>\n",
              "    </tr>\n",
              "  </thead>\n",
              "  <tbody>\n",
              "    <tr>\n",
              "      <th>79</th>\n",
              "      <td>6.4</td>\n",
              "      <td>2.2</td>\n",
              "      <td>1.9</td>\n",
              "      <td>2.0</td>\n",
              "      <td>NaN</td>\n",
              "      <td>NaN</td>\n",
              "      <td>-1</td>\n",
              "    </tr>\n",
              "  </tbody>\n",
              "</table>\n",
              "</div>"
            ],
            "text/plain": [
              "    septal_length  septal_width  petal_length  ...  color class  color_code\n",
              "79            6.4           2.2           1.9  ...    NaN   NaN          -1\n",
              "\n",
              "[1 rows x 7 columns]"
            ]
          },
          "metadata": {
            "tags": []
          },
          "execution_count": 260
        }
      ]
    },
    {
      "cell_type": "code",
      "metadata": {
        "id": "5r14RdjD37FY"
      },
      "source": [
        "working_df = df.loc[~df['class'].isnull()]"
      ],
      "execution_count": 261,
      "outputs": []
    },
    {
      "cell_type": "code",
      "metadata": {
        "colab": {
          "base_uri": "https://localhost:8080/"
        },
        "id": "d2uLupli4LlH",
        "outputId": "f9d38d15-422c-4a5b-ff36-a0cdaecc8537"
      },
      "source": [
        "working_df.info()"
      ],
      "execution_count": 262,
      "outputs": [
        {
          "output_type": "stream",
          "text": [
            "<class 'pandas.core.frame.DataFrame'>\n",
            "Int64Index: 119 entries, 0 to 119\n",
            "Data columns (total 7 columns):\n",
            " #   Column         Non-Null Count  Dtype   \n",
            "---  ------         --------------  -----   \n",
            " 0   septal_length  116 non-null    float64 \n",
            " 1   septal_width   117 non-null    float64 \n",
            " 2   petal_length   116 non-null    float64 \n",
            " 3   petal_width    117 non-null    float64 \n",
            " 4   color          117 non-null    category\n",
            " 5   class          119 non-null    float64 \n",
            " 6   color_code     119 non-null    int8    \n",
            "dtypes: category(1), float64(5), int8(1)\n",
            "memory usage: 5.9 KB\n"
          ],
          "name": "stdout"
        }
      ]
    },
    {
      "cell_type": "code",
      "metadata": {
        "colab": {
          "base_uri": "https://localhost:8080/"
        },
        "id": "bGqrz9U64NKX",
        "outputId": "f1de8b99-34b2-43ac-dcbf-f73b7453d262"
      },
      "source": [
        "print(working_df['class'].isnull().any())"
      ],
      "execution_count": 263,
      "outputs": [
        {
          "output_type": "stream",
          "text": [
            "False\n"
          ],
          "name": "stdout"
        }
      ]
    },
    {
      "cell_type": "code",
      "metadata": {
        "colab": {
          "base_uri": "https://localhost:8080/"
        },
        "id": "Y0FTwXKB4Q5d",
        "outputId": "e14e7360-9bd2-4350-ec9a-edcee018fabf"
      },
      "source": [
        "print(working_df.isnull().sum())"
      ],
      "execution_count": 264,
      "outputs": [
        {
          "output_type": "stream",
          "text": [
            "septal_length    3\n",
            "septal_width     2\n",
            "petal_length     3\n",
            "petal_width      2\n",
            "color            2\n",
            "class            0\n",
            "color_code       0\n",
            "dtype: int64\n"
          ],
          "name": "stdout"
        }
      ]
    },
    {
      "cell_type": "code",
      "metadata": {
        "id": "qAOXENQ08p0U"
      },
      "source": [
        ""
      ],
      "execution_count": 264,
      "outputs": []
    },
    {
      "cell_type": "markdown",
      "metadata": {
        "id": "W2Xb3pDL9r6m"
      },
      "source": [
        "## color"
      ]
    },
    {
      "cell_type": "code",
      "metadata": {
        "colab": {
          "base_uri": "https://localhost:8080/",
          "height": 161
        },
        "id": "xQgy8Wah8z0M",
        "outputId": "04ec54ce-7411-4505-b40f-56dd7725a46b"
      },
      "source": [
        "df.loc[df['color'].isnull()]"
      ],
      "execution_count": 265,
      "outputs": [
        {
          "output_type": "execute_result",
          "data": {
            "text/html": [
              "<div>\n",
              "<style scoped>\n",
              "    .dataframe tbody tr th:only-of-type {\n",
              "        vertical-align: middle;\n",
              "    }\n",
              "\n",
              "    .dataframe tbody tr th {\n",
              "        vertical-align: top;\n",
              "    }\n",
              "\n",
              "    .dataframe thead th {\n",
              "        text-align: right;\n",
              "    }\n",
              "</style>\n",
              "<table border=\"1\" class=\"dataframe\">\n",
              "  <thead>\n",
              "    <tr style=\"text-align: right;\">\n",
              "      <th></th>\n",
              "      <th>septal_length</th>\n",
              "      <th>septal_width</th>\n",
              "      <th>petal_length</th>\n",
              "      <th>petal_width</th>\n",
              "      <th>color</th>\n",
              "      <th>class</th>\n",
              "      <th>color_code</th>\n",
              "    </tr>\n",
              "  </thead>\n",
              "  <tbody>\n",
              "    <tr>\n",
              "      <th>52</th>\n",
              "      <td>6.1</td>\n",
              "      <td>2.8</td>\n",
              "      <td>4.0</td>\n",
              "      <td>1.3</td>\n",
              "      <td>NaN</td>\n",
              "      <td>1.0</td>\n",
              "      <td>-1</td>\n",
              "    </tr>\n",
              "    <tr>\n",
              "      <th>79</th>\n",
              "      <td>6.4</td>\n",
              "      <td>2.2</td>\n",
              "      <td>1.9</td>\n",
              "      <td>2.0</td>\n",
              "      <td>NaN</td>\n",
              "      <td>NaN</td>\n",
              "      <td>-1</td>\n",
              "    </tr>\n",
              "    <tr>\n",
              "      <th>92</th>\n",
              "      <td>5.1</td>\n",
              "      <td>3.5</td>\n",
              "      <td>1.4</td>\n",
              "      <td>0.3</td>\n",
              "      <td>NaN</td>\n",
              "      <td>0.0</td>\n",
              "      <td>-1</td>\n",
              "    </tr>\n",
              "  </tbody>\n",
              "</table>\n",
              "</div>"
            ],
            "text/plain": [
              "    septal_length  septal_width  petal_length  ...  color class  color_code\n",
              "52            6.1           2.8           4.0  ...    NaN   1.0          -1\n",
              "79            6.4           2.2           1.9  ...    NaN   NaN          -1\n",
              "92            5.1           3.5           1.4  ...    NaN   0.0          -1\n",
              "\n",
              "[3 rows x 7 columns]"
            ]
          },
          "metadata": {
            "tags": []
          },
          "execution_count": 265
        }
      ]
    },
    {
      "cell_type": "markdown",
      "metadata": {
        "id": "__H58Fur9wml"
      },
      "source": [
        "-1로 코딩되었다. 내비려 두자"
      ]
    },
    {
      "cell_type": "markdown",
      "metadata": {
        "id": "_smO1b8191Tb"
      },
      "source": [
        "## 나머지 실수 컬럼들"
      ]
    },
    {
      "cell_type": "markdown",
      "metadata": {
        "id": "BW_vlQT295CV"
      },
      "source": [
        "평균값으로 처리하자"
      ]
    },
    {
      "cell_type": "code",
      "metadata": {
        "id": "7fizYF8O8zxW"
      },
      "source": [
        "working_df = working_df.fillna(working_df.mean())"
      ],
      "execution_count": 266,
      "outputs": []
    },
    {
      "cell_type": "code",
      "metadata": {
        "colab": {
          "base_uri": "https://localhost:8080/"
        },
        "id": "lmm6EWZ3-I7u",
        "outputId": "04a48151-8ed3-4fb9-b024-316e5ea5d7fc"
      },
      "source": [
        "working_df.info()"
      ],
      "execution_count": 267,
      "outputs": [
        {
          "output_type": "stream",
          "text": [
            "<class 'pandas.core.frame.DataFrame'>\n",
            "Int64Index: 119 entries, 0 to 119\n",
            "Data columns (total 7 columns):\n",
            " #   Column         Non-Null Count  Dtype   \n",
            "---  ------         --------------  -----   \n",
            " 0   septal_length  119 non-null    float64 \n",
            " 1   septal_width   119 non-null    float64 \n",
            " 2   petal_length   119 non-null    float64 \n",
            " 3   petal_width    119 non-null    float64 \n",
            " 4   color          117 non-null    category\n",
            " 5   class          119 non-null    float64 \n",
            " 6   color_code     119 non-null    int8    \n",
            "dtypes: category(1), float64(5), int8(1)\n",
            "memory usage: 5.9 KB\n"
          ],
          "name": "stdout"
        }
      ]
    },
    {
      "cell_type": "markdown",
      "metadata": {
        "id": "Mq0dz5vW-xfp"
      },
      "source": [
        "## 뒷정리"
      ]
    },
    {
      "cell_type": "code",
      "metadata": {
        "colab": {
          "base_uri": "https://localhost:8080/"
        },
        "id": "1zffsAjx-LXw",
        "outputId": "a60f3a4c-573d-474b-ca4a-bf4c988bfb37"
      },
      "source": [
        "working_df.isnull().any()"
      ],
      "execution_count": 268,
      "outputs": [
        {
          "output_type": "execute_result",
          "data": {
            "text/plain": [
              "septal_length    False\n",
              "septal_width     False\n",
              "petal_length     False\n",
              "petal_width      False\n",
              "color             True\n",
              "class            False\n",
              "color_code       False\n",
              "dtype: bool"
            ]
          },
          "metadata": {
            "tags": []
          },
          "execution_count": 268
        }
      ]
    },
    {
      "cell_type": "code",
      "metadata": {
        "id": "J9olbxYC-PW-"
      },
      "source": [
        "working_df.drop('color', axis='columns', inplace=True)"
      ],
      "execution_count": 269,
      "outputs": []
    },
    {
      "cell_type": "code",
      "metadata": {
        "colab": {
          "base_uri": "https://localhost:8080/"
        },
        "id": "1eMs4guy-n-V",
        "outputId": "607ddfa8-658a-460b-b7b1-4401b24a0f70"
      },
      "source": [
        "working_df.info()"
      ],
      "execution_count": 270,
      "outputs": [
        {
          "output_type": "stream",
          "text": [
            "<class 'pandas.core.frame.DataFrame'>\n",
            "Int64Index: 119 entries, 0 to 119\n",
            "Data columns (total 6 columns):\n",
            " #   Column         Non-Null Count  Dtype  \n",
            "---  ------         --------------  -----  \n",
            " 0   septal_length  119 non-null    float64\n",
            " 1   septal_width   119 non-null    float64\n",
            " 2   petal_length   119 non-null    float64\n",
            " 3   petal_width    119 non-null    float64\n",
            " 4   class          119 non-null    float64\n",
            " 5   color_code     119 non-null    int8   \n",
            "dtypes: float64(5), int8(1)\n",
            "memory usage: 5.7 KB\n"
          ],
          "name": "stdout"
        }
      ]
    },
    {
      "cell_type": "code",
      "metadata": {
        "colab": {
          "base_uri": "https://localhost:8080/"
        },
        "id": "-Pfdp_l7-pah",
        "outputId": "4ce4e732-d392-4659-fb19-881e816e6c79"
      },
      "source": [
        "working_df.isnull().any().any()"
      ],
      "execution_count": 271,
      "outputs": [
        {
          "output_type": "execute_result",
          "data": {
            "text/plain": [
              "False"
            ]
          },
          "metadata": {
            "tags": []
          },
          "execution_count": 271
        }
      ]
    },
    {
      "cell_type": "markdown",
      "metadata": {
        "id": "L_RbNUQy-4kj"
      },
      "source": [
        "# Normalization"
      ]
    },
    {
      "cell_type": "code",
      "metadata": {
        "id": "1zt9JqV2-sRT"
      },
      "source": [
        "normalized_df = ( working_df - working_df.min() ) / ( working_df.max() - working_df.min())"
      ],
      "execution_count": 272,
      "outputs": []
    },
    {
      "cell_type": "code",
      "metadata": {
        "colab": {
          "base_uri": "https://localhost:8080/",
          "height": 543
        },
        "id": "JfRMPA_XGKGZ",
        "outputId": "4a73e64d-cb38-49c8-d9c7-637e2d615e24"
      },
      "source": [
        "sns.histplot(working_df.septal_length)\n",
        "plt.show()\n",
        "sns.histplot(normalized_df.septal_length)\n",
        "plt.show()"
      ],
      "execution_count": 273,
      "outputs": [
        {
          "output_type": "display_data",
          "data": {
            "image/png": "[encoded data removed]",
            "text/plain": [
              "<Figure size 432x288 with 1 Axes>"
            ]
          },
          "metadata": {
            "tags": [],
            "needs_background": "light"
          }
        },
        {
          "output_type": "display_data",
          "data": {
            "image/png": "[encoded data removed]",
            "text/plain": [
              "<Figure size 432x288 with 1 Axes>"
            ]
          },
          "metadata": {
            "tags": [],
            "needs_background": "light"
          }
        }
      ]
    },
    {
      "cell_type": "code",
      "metadata": {
        "colab": {
          "base_uri": "https://localhost:8080/",
          "height": 545
        },
        "id": "06tvWxCnGEm5",
        "outputId": "79fdf1ed-a176-4b9f-cb09-55d6eda652d1"
      },
      "source": [
        "sns.histplot(working_df.septal_width)\n",
        "plt.show()\n",
        "sns.histplot(normalized_df.septal_width)\n",
        "plt.show()"
      ],
      "execution_count": 274,
      "outputs": [
        {
          "output_type": "display_data",
          "data": {
            "image/png": "[encoded data removed]",
            "text/plain": [
              "<Figure size 432x288 with 1 Axes>"
            ]
          },
          "metadata": {
            "tags": [],
            "needs_background": "light"
          }
        },
        {
          "output_type": "display_data",
          "data": {
            "image/png": "[encoded data removed]",
            "text/plain": [
              "<Figure size 432x288 with 1 Axes>"
            ]
          },
          "metadata": {
            "tags": [],
            "needs_background": "light"
          }
        }
      ]
    },
    {
      "cell_type": "code",
      "metadata": {
        "colab": {
          "base_uri": "https://localhost:8080/",
          "height": 543
        },
        "id": "QvU1oyx3GVtJ",
        "outputId": "e2242e49-dc21-4762-b124-0111f3d3170f"
      },
      "source": [
        "sns.histplot(working_df.petal_length)\n",
        "plt.show()\n",
        "sns.histplot(normalized_df.petal_length)\n",
        "plt.show()"
      ],
      "execution_count": 275,
      "outputs": [
        {
          "output_type": "display_data",
          "data": {
            "image/png": "[encoded data removed]",
            "text/plain": [
              "<Figure size 432x288 with 1 Axes>"
            ]
          },
          "metadata": {
            "tags": [],
            "needs_background": "light"
          }
        },
        {
          "output_type": "display_data",
          "data": {
            "image/png": "[encoded data removed]",
            "text/plain": [
              "<Figure size 432x288 with 1 Axes>"
            ]
          },
          "metadata": {
            "tags": [],
            "needs_background": "light"
          }
        }
      ]
    },
    {
      "cell_type": "code",
      "metadata": {
        "colab": {
          "base_uri": "https://localhost:8080/",
          "height": 543
        },
        "id": "kSu1ya8LGac3",
        "outputId": "fbb70882-a1e2-4e6a-bfb2-4956eee589af"
      },
      "source": [
        "sns.histplot(working_df.petal_width)\n",
        "plt.show()\n",
        "sns.histplot(normalized_df.petal_width)\n",
        "plt.show()"
      ],
      "execution_count": 276,
      "outputs": [
        {
          "output_type": "display_data",
          "data": {
            "image/png": "[encoded data removed]",
            "text/plain": [
              "<Figure size 432x288 with 1 Axes>"
            ]
          },
          "metadata": {
            "tags": [],
            "needs_background": "light"
          }
        },
        {
          "output_type": "display_data",
          "data": {
            "image/png": "[encoded data removed]",
            "text/plain": [
              "<Figure size 432x288 with 1 Axes>"
            ]
          },
          "metadata": {
            "tags": [],
            "needs_background": "light"
          }
        }
      ]
    },
    {
      "cell_type": "code",
      "metadata": {
        "colab": {
          "base_uri": "https://localhost:8080/",
          "height": 415
        },
        "id": "HmjmNvsSGjUD",
        "outputId": "6df423ff-8471-4680-91c5-5469a7347cde"
      },
      "source": [
        "normalized_df"
      ],
      "execution_count": 277,
      "outputs": [
        {
          "output_type": "execute_result",
          "data": {
            "text/html": [
              "<div>\n",
              "<style scoped>\n",
              "    .dataframe tbody tr th:only-of-type {\n",
              "        vertical-align: middle;\n",
              "    }\n",
              "\n",
              "    .dataframe tbody tr th {\n",
              "        vertical-align: top;\n",
              "    }\n",
              "\n",
              "    .dataframe thead th {\n",
              "        text-align: right;\n",
              "    }\n",
              "</style>\n",
              "<table border=\"1\" class=\"dataframe\">\n",
              "  <thead>\n",
              "    <tr style=\"text-align: right;\">\n",
              "      <th></th>\n",
              "      <th>septal_length</th>\n",
              "      <th>septal_width</th>\n",
              "      <th>petal_length</th>\n",
              "      <th>petal_width</th>\n",
              "      <th>class</th>\n",
              "      <th>color_code</th>\n",
              "    </tr>\n",
              "  </thead>\n",
              "  <tbody>\n",
              "    <tr>\n",
              "      <th>0</th>\n",
              "      <td>0.571429</td>\n",
              "      <td>0.272727</td>\n",
              "      <td>0.779661</td>\n",
              "      <td>0.875000</td>\n",
              "      <td>1.0</td>\n",
              "      <td>0.666667</td>\n",
              "    </tr>\n",
              "    <tr>\n",
              "      <th>1</th>\n",
              "      <td>0.171429</td>\n",
              "      <td>0.000000</td>\n",
              "      <td>0.389831</td>\n",
              "      <td>0.375000</td>\n",
              "      <td>0.5</td>\n",
              "      <td>1.000000</td>\n",
              "    </tr>\n",
              "    <tr>\n",
              "      <th>2</th>\n",
              "      <td>0.142857</td>\n",
              "      <td>0.136364</td>\n",
              "      <td>0.593220</td>\n",
              "      <td>0.666667</td>\n",
              "      <td>1.0</td>\n",
              "      <td>1.000000</td>\n",
              "    </tr>\n",
              "    <tr>\n",
              "      <th>3</th>\n",
              "      <td>0.142857</td>\n",
              "      <td>0.409091</td>\n",
              "      <td>0.084746</td>\n",
              "      <td>0.000000</td>\n",
              "      <td>0.0</td>\n",
              "      <td>0.333333</td>\n",
              "    </tr>\n",
              "    <tr>\n",
              "      <th>4</th>\n",
              "      <td>0.371429</td>\n",
              "      <td>0.727273</td>\n",
              "      <td>0.118644</td>\n",
              "      <td>0.083333</td>\n",
              "      <td>0.0</td>\n",
              "      <td>0.333333</td>\n",
              "    </tr>\n",
              "    <tr>\n",
              "      <th>...</th>\n",
              "      <td>...</td>\n",
              "      <td>...</td>\n",
              "      <td>...</td>\n",
              "      <td>...</td>\n",
              "      <td>...</td>\n",
              "      <td>...</td>\n",
              "    </tr>\n",
              "    <tr>\n",
              "      <th>115</th>\n",
              "      <td>0.314286</td>\n",
              "      <td>0.181818</td>\n",
              "      <td>0.576271</td>\n",
              "      <td>0.458333</td>\n",
              "      <td>0.5</td>\n",
              "      <td>0.666667</td>\n",
              "    </tr>\n",
              "    <tr>\n",
              "      <th>116</th>\n",
              "      <td>0.371429</td>\n",
              "      <td>0.363636</td>\n",
              "      <td>0.447253</td>\n",
              "      <td>0.458333</td>\n",
              "      <td>0.5</td>\n",
              "      <td>0.666667</td>\n",
              "    </tr>\n",
              "    <tr>\n",
              "      <th>117</th>\n",
              "      <td>0.000000</td>\n",
              "      <td>0.318182</td>\n",
              "      <td>0.067797</td>\n",
              "      <td>0.041667</td>\n",
              "      <td>0.0</td>\n",
              "      <td>0.666667</td>\n",
              "    </tr>\n",
              "    <tr>\n",
              "      <th>118</th>\n",
              "      <td>0.114286</td>\n",
              "      <td>0.363636</td>\n",
              "      <td>0.067797</td>\n",
              "      <td>0.000000</td>\n",
              "      <td>0.0</td>\n",
              "      <td>0.333333</td>\n",
              "    </tr>\n",
              "    <tr>\n",
              "      <th>119</th>\n",
              "      <td>0.314286</td>\n",
              "      <td>0.000000</td>\n",
              "      <td>0.457627</td>\n",
              "      <td>0.000000</td>\n",
              "      <td>0.5</td>\n",
              "      <td>0.333333</td>\n",
              "    </tr>\n",
              "  </tbody>\n",
              "</table>\n",
              "<p>119 rows × 6 columns</p>\n",
              "</div>"
            ],
            "text/plain": [
              "     septal_length  septal_width  petal_length  petal_width  class  color_code\n",
              "0         0.571429      0.272727      0.779661     0.875000    1.0    0.666667\n",
              "1         0.171429      0.000000      0.389831     0.375000    0.5    1.000000\n",
              "2         0.142857      0.136364      0.593220     0.666667    1.0    1.000000\n",
              "3         0.142857      0.409091      0.084746     0.000000    0.0    0.333333\n",
              "4         0.371429      0.727273      0.118644     0.083333    0.0    0.333333\n",
              "..             ...           ...           ...          ...    ...         ...\n",
              "115       0.314286      0.181818      0.576271     0.458333    0.5    0.666667\n",
              "116       0.371429      0.363636      0.447253     0.458333    0.5    0.666667\n",
              "117       0.000000      0.318182      0.067797     0.041667    0.0    0.666667\n",
              "118       0.114286      0.363636      0.067797     0.000000    0.0    0.333333\n",
              "119       0.314286      0.000000      0.457627     0.000000    0.5    0.333333\n",
              "\n",
              "[119 rows x 6 columns]"
            ]
          },
          "metadata": {
            "tags": []
          },
          "execution_count": 277
        }
      ]
    },
    {
      "cell_type": "code",
      "metadata": {
        "id": "RI17sHS3GiE1"
      },
      "source": [
        "target_column_names = [\"septal_length\", \"septal_width\", \"petal_length\", \"petal_width\"]\n",
        "working_df[target_column_names] = normalized_df[target_column_names]"
      ],
      "execution_count": 280,
      "outputs": []
    },
    {
      "cell_type": "code",
      "metadata": {
        "colab": {
          "base_uri": "https://localhost:8080/",
          "height": 415
        },
        "id": "CpLIMtM8Ib50",
        "outputId": "f655c0c9-3fb0-4ebf-d2c5-7c8caa12619d"
      },
      "source": [
        "working_df"
      ],
      "execution_count": 281,
      "outputs": [
        {
          "output_type": "execute_result",
          "data": {
            "text/html": [
              "<div>\n",
              "<style scoped>\n",
              "    .dataframe tbody tr th:only-of-type {\n",
              "        vertical-align: middle;\n",
              "    }\n",
              "\n",
              "    .dataframe tbody tr th {\n",
              "        vertical-align: top;\n",
              "    }\n",
              "\n",
              "    .dataframe thead th {\n",
              "        text-align: right;\n",
              "    }\n",
              "</style>\n",
              "<table border=\"1\" class=\"dataframe\">\n",
              "  <thead>\n",
              "    <tr style=\"text-align: right;\">\n",
              "      <th></th>\n",
              "      <th>septal_length</th>\n",
              "      <th>septal_width</th>\n",
              "      <th>petal_length</th>\n",
              "      <th>petal_width</th>\n",
              "      <th>class</th>\n",
              "      <th>color_code</th>\n",
              "    </tr>\n",
              "  </thead>\n",
              "  <tbody>\n",
              "    <tr>\n",
              "      <th>0</th>\n",
              "      <td>0.571429</td>\n",
              "      <td>0.272727</td>\n",
              "      <td>0.779661</td>\n",
              "      <td>0.875000</td>\n",
              "      <td>2.0</td>\n",
              "      <td>1</td>\n",
              "    </tr>\n",
              "    <tr>\n",
              "      <th>1</th>\n",
              "      <td>0.171429</td>\n",
              "      <td>0.000000</td>\n",
              "      <td>0.389831</td>\n",
              "      <td>0.375000</td>\n",
              "      <td>1.0</td>\n",
              "      <td>2</td>\n",
              "    </tr>\n",
              "    <tr>\n",
              "      <th>2</th>\n",
              "      <td>0.142857</td>\n",
              "      <td>0.136364</td>\n",
              "      <td>0.593220</td>\n",
              "      <td>0.666667</td>\n",
              "      <td>2.0</td>\n",
              "      <td>2</td>\n",
              "    </tr>\n",
              "    <tr>\n",
              "      <th>3</th>\n",
              "      <td>0.142857</td>\n",
              "      <td>0.409091</td>\n",
              "      <td>0.084746</td>\n",
              "      <td>0.000000</td>\n",
              "      <td>0.0</td>\n",
              "      <td>0</td>\n",
              "    </tr>\n",
              "    <tr>\n",
              "      <th>4</th>\n",
              "      <td>0.371429</td>\n",
              "      <td>0.727273</td>\n",
              "      <td>0.118644</td>\n",
              "      <td>0.083333</td>\n",
              "      <td>0.0</td>\n",
              "      <td>0</td>\n",
              "    </tr>\n",
              "    <tr>\n",
              "      <th>...</th>\n",
              "      <td>...</td>\n",
              "      <td>...</td>\n",
              "      <td>...</td>\n",
              "      <td>...</td>\n",
              "      <td>...</td>\n",
              "      <td>...</td>\n",
              "    </tr>\n",
              "    <tr>\n",
              "      <th>115</th>\n",
              "      <td>0.314286</td>\n",
              "      <td>0.181818</td>\n",
              "      <td>0.576271</td>\n",
              "      <td>0.458333</td>\n",
              "      <td>1.0</td>\n",
              "      <td>1</td>\n",
              "    </tr>\n",
              "    <tr>\n",
              "      <th>116</th>\n",
              "      <td>0.371429</td>\n",
              "      <td>0.363636</td>\n",
              "      <td>0.447253</td>\n",
              "      <td>0.458333</td>\n",
              "      <td>1.0</td>\n",
              "      <td>1</td>\n",
              "    </tr>\n",
              "    <tr>\n",
              "      <th>117</th>\n",
              "      <td>0.000000</td>\n",
              "      <td>0.318182</td>\n",
              "      <td>0.067797</td>\n",
              "      <td>0.041667</td>\n",
              "      <td>0.0</td>\n",
              "      <td>1</td>\n",
              "    </tr>\n",
              "    <tr>\n",
              "      <th>118</th>\n",
              "      <td>0.114286</td>\n",
              "      <td>0.363636</td>\n",
              "      <td>0.067797</td>\n",
              "      <td>0.000000</td>\n",
              "      <td>0.0</td>\n",
              "      <td>0</td>\n",
              "    </tr>\n",
              "    <tr>\n",
              "      <th>119</th>\n",
              "      <td>0.314286</td>\n",
              "      <td>0.000000</td>\n",
              "      <td>0.457627</td>\n",
              "      <td>0.000000</td>\n",
              "      <td>1.0</td>\n",
              "      <td>0</td>\n",
              "    </tr>\n",
              "  </tbody>\n",
              "</table>\n",
              "<p>119 rows × 6 columns</p>\n",
              "</div>"
            ],
            "text/plain": [
              "     septal_length  septal_width  petal_length  petal_width  class  color_code\n",
              "0         0.571429      0.272727      0.779661     0.875000    2.0           1\n",
              "1         0.171429      0.000000      0.389831     0.375000    1.0           2\n",
              "2         0.142857      0.136364      0.593220     0.666667    2.0           2\n",
              "3         0.142857      0.409091      0.084746     0.000000    0.0           0\n",
              "4         0.371429      0.727273      0.118644     0.083333    0.0           0\n",
              "..             ...           ...           ...          ...    ...         ...\n",
              "115       0.314286      0.181818      0.576271     0.458333    1.0           1\n",
              "116       0.371429      0.363636      0.447253     0.458333    1.0           1\n",
              "117       0.000000      0.318182      0.067797     0.041667    0.0           1\n",
              "118       0.114286      0.363636      0.067797     0.000000    0.0           0\n",
              "119       0.314286      0.000000      0.457627     0.000000    1.0           0\n",
              "\n",
              "[119 rows x 6 columns]"
            ]
          },
          "metadata": {
            "tags": []
          },
          "execution_count": 281
        }
      ]
    },
    {
      "cell_type": "code",
      "metadata": {
        "id": "8l5QbyVbImIG"
      },
      "source": [
        ""
      ],
      "execution_count": null,
      "outputs": []
    }
  ]
}