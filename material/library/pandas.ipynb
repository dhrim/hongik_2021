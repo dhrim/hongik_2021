{
  "nbformat": 4,
  "nbformat_minor": 0,
  "metadata": {
    "colab": {
      "name": "pandas.ipynb",
      "provenance": [],
      "collapsed_sections": [],
      "toc_visible": true
    },
    "kernelspec": {
      "name": "python3",
      "display_name": "Python 3"
    }
  },
  "cells": [
    {
      "cell_type": "markdown",
      "metadata": {
        "id": "VIE8gatIZ8tJ"
      },
      "source": [
        "# Pandas\n",
        "\n",
        "copy and modfied from https://colab.research.google.com/github/adeshpande3/Pandas-Tutorial/blob/master/Pandas%20Tutorial.ipynb#scrollTo=eJhH2TCDZdc_"
      ]
    },
    {
      "cell_type": "code",
      "metadata": {
        "id": "D6V3ksncYtk6",
        "colab": {
          "base_uri": "https://localhost:8080/"
        },
        "outputId": "1164398a-6931-435a-89c4-fe57b3306e06"
      },
      "source": [
        "!pip install panda"
      ],
      "execution_count": null,
      "outputs": [
        {
          "output_type": "stream",
          "text": [
            "Collecting panda\n",
            "  Downloading https://files.pythonhosted.org/packages/79/03/74996420528fe488ce17c42b6400531c8067d7eb661c304fa3aa8fdad17c/panda-0.3.1.tar.gz\n",
            "Requirement already satisfied: setuptools in /usr/local/lib/python3.7/dist-packages (from panda) (56.1.0)\n",
            "Requirement already satisfied: requests in /usr/local/lib/python3.7/dist-packages (from panda) (2.23.0)\n",
            "Requirement already satisfied: chardet<4,>=3.0.2 in /usr/local/lib/python3.7/dist-packages (from requests->panda) (3.0.4)\n",
            "Requirement already satisfied: urllib3!=1.25.0,!=1.25.1,<1.26,>=1.21.1 in /usr/local/lib/python3.7/dist-packages (from requests->panda) (1.24.3)\n",
            "Requirement already satisfied: certifi>=2017.4.17 in /usr/local/lib/python3.7/dist-packages (from requests->panda) (2020.12.5)\n",
            "Requirement already satisfied: idna<3,>=2.5 in /usr/local/lib/python3.7/dist-packages (from requests->panda) (2.10)\n",
            "Building wheels for collected packages: panda\n",
            "  Building wheel for panda (setup.py) ... \u001b[?25l\u001b[?25hdone\n",
            "  Created wheel for panda: filename=panda-0.3.1-cp37-none-any.whl size=7260 sha256=6af0b3358915038a264a3a36d4be097b506c5cd3e2d9e073a66746a955ca500c\n",
            "  Stored in directory: /root/.cache/pip/wheels/c6/c8/45/06ed898b0bb401c1ff207dbb05b1587ff28860a236d98b1996\n",
            "Successfully built panda\n",
            "Installing collected packages: panda\n",
            "Successfully installed panda-0.3.1\n"
          ],
          "name": "stdout"
        }
      ]
    },
    {
      "cell_type": "code",
      "metadata": {
        "id": "jjC3MLqEZmVQ",
        "colab": {
          "base_uri": "https://localhost:8080/"
        },
        "outputId": "850bb3e5-beb6-4dcf-d709-2e814ddac6ca"
      },
      "source": [
        "import pandas as pd\n",
        "print(pd.__version__)"
      ],
      "execution_count": null,
      "outputs": [
        {
          "output_type": "stream",
          "text": [
            "1.1.5\n"
          ],
          "name": "stdout"
        }
      ]
    },
    {
      "cell_type": "markdown",
      "metadata": {
        "id": "N-bS2LfQhuuD"
      },
      "source": [
        "# 데이터 준비"
      ]
    },
    {
      "cell_type": "code",
      "metadata": {
        "id": "x7_9lDXebUnt",
        "colab": {
          "base_uri": "https://localhost:8080/"
        },
        "outputId": "2e446880-0066-40df-e8d7-55837dc73206"
      },
      "source": [
        "!rm -rf RegularSeasonCompactResults.csv\n",
        "!wget https://raw.githubusercontent.com/adeshpande3/Pandas-Tutorial/master/RegularSeasonCompactResults.csv\n",
        "  "
      ],
      "execution_count": null,
      "outputs": [
        {
          "output_type": "stream",
          "text": [
            "--2021-05-10 13:02:27--  https://raw.githubusercontent.com/adeshpande3/Pandas-Tutorial/master/RegularSeasonCompactResults.csv\n",
            "Resolving raw.githubusercontent.com (raw.githubusercontent.com)... 185.199.108.133, 185.199.109.133, 185.199.110.133, ...\n",
            "Connecting to raw.githubusercontent.com (raw.githubusercontent.com)|185.199.108.133|:443... connected.\n",
            "HTTP request sent, awaiting response... 200 OK\n",
            "Length: 4115852 (3.9M) [text/plain]\n",
            "Saving to: ‘RegularSeasonCompactResults.csv’\n",
            "\n",
            "RegularSeasonCompac 100%[===================>]   3.92M  --.-KB/s    in 0.09s   \n",
            "\n",
            "2021-05-10 13:02:27 (41.9 MB/s) - ‘RegularSeasonCompactResults.csv’ saved [4115852/4115852]\n",
            "\n"
          ],
          "name": "stdout"
        }
      ]
    },
    {
      "cell_type": "code",
      "metadata": {
        "id": "e0zmA0yNbjm-",
        "colab": {
          "base_uri": "https://localhost:8080/"
        },
        "outputId": "aaf5b6cc-6211-4d6a-dffc-e66b6a86edbe"
      },
      "source": [
        "!head -10 RegularSeasonCompactResults.csv"
      ],
      "execution_count": null,
      "outputs": [
        {
          "output_type": "stream",
          "text": [
            "Season,Daynum,Wteam,Wscore,Lteam,Lscore,Wloc,Numot\n",
            "1985,20,1228,81,1328,64,N,0\n",
            "1985,25,1106,77,1354,70,H,0\n",
            "1985,25,1112,63,1223,56,H,0\n",
            "1985,25,1165,70,1432,54,H,0\n",
            "1985,25,1192,86,1447,74,H,0\n",
            "1985,25,1218,79,1337,78,H,0\n",
            "1985,25,1228,64,1226,44,N,0\n",
            "1985,25,1242,58,1268,56,N,0\n",
            "1985,25,1260,98,1133,80,H,0\n"
          ],
          "name": "stdout"
        }
      ]
    },
    {
      "cell_type": "markdown",
      "metadata": {
        "id": "vA0h51xqhxJP"
      },
      "source": [
        "# 데이터 로딩"
      ]
    },
    {
      "cell_type": "code",
      "metadata": {
        "id": "IyfgKhSPZmyY"
      },
      "source": [
        "df = pd.read_csv('RegularSeasonCompactResults.csv')"
      ],
      "execution_count": null,
      "outputs": []
    },
    {
      "cell_type": "code",
      "metadata": {
        "id": "yBhyYvYOcckR",
        "colab": {
          "base_uri": "https://localhost:8080/",
          "height": 407
        },
        "outputId": "5c28a59b-d733-4246-b406-35aafd6dac45"
      },
      "source": [
        "df"
      ],
      "execution_count": null,
      "outputs": [
        {
          "output_type": "execute_result",
          "data": {
            "text/html": [
              "<div>\n",
              "<style scoped>\n",
              "    .dataframe tbody tr th:only-of-type {\n",
              "        vertical-align: middle;\n",
              "    }\n",
              "\n",
              "    .dataframe tbody tr th {\n",
              "        vertical-align: top;\n",
              "    }\n",
              "\n",
              "    .dataframe thead th {\n",
              "        text-align: right;\n",
              "    }\n",
              "</style>\n",
              "<table border=\"1\" class=\"dataframe\">\n",
              "  <thead>\n",
              "    <tr style=\"text-align: right;\">\n",
              "      <th></th>\n",
              "      <th>Season</th>\n",
              "      <th>Daynum</th>\n",
              "      <th>Wteam</th>\n",
              "      <th>Wscore</th>\n",
              "      <th>Lteam</th>\n",
              "      <th>Lscore</th>\n",
              "      <th>Wloc</th>\n",
              "      <th>Numot</th>\n",
              "    </tr>\n",
              "  </thead>\n",
              "  <tbody>\n",
              "    <tr>\n",
              "      <th>0</th>\n",
              "      <td>1985</td>\n",
              "      <td>20</td>\n",
              "      <td>1228</td>\n",
              "      <td>81</td>\n",
              "      <td>1328</td>\n",
              "      <td>64</td>\n",
              "      <td>N</td>\n",
              "      <td>0</td>\n",
              "    </tr>\n",
              "    <tr>\n",
              "      <th>1</th>\n",
              "      <td>1985</td>\n",
              "      <td>25</td>\n",
              "      <td>1106</td>\n",
              "      <td>77</td>\n",
              "      <td>1354</td>\n",
              "      <td>70</td>\n",
              "      <td>H</td>\n",
              "      <td>0</td>\n",
              "    </tr>\n",
              "    <tr>\n",
              "      <th>2</th>\n",
              "      <td>1985</td>\n",
              "      <td>25</td>\n",
              "      <td>1112</td>\n",
              "      <td>63</td>\n",
              "      <td>1223</td>\n",
              "      <td>56</td>\n",
              "      <td>H</td>\n",
              "      <td>0</td>\n",
              "    </tr>\n",
              "    <tr>\n",
              "      <th>3</th>\n",
              "      <td>1985</td>\n",
              "      <td>25</td>\n",
              "      <td>1165</td>\n",
              "      <td>70</td>\n",
              "      <td>1432</td>\n",
              "      <td>54</td>\n",
              "      <td>H</td>\n",
              "      <td>0</td>\n",
              "    </tr>\n",
              "    <tr>\n",
              "      <th>4</th>\n",
              "      <td>1985</td>\n",
              "      <td>25</td>\n",
              "      <td>1192</td>\n",
              "      <td>86</td>\n",
              "      <td>1447</td>\n",
              "      <td>74</td>\n",
              "      <td>H</td>\n",
              "      <td>0</td>\n",
              "    </tr>\n",
              "    <tr>\n",
              "      <th>...</th>\n",
              "      <td>...</td>\n",
              "      <td>...</td>\n",
              "      <td>...</td>\n",
              "      <td>...</td>\n",
              "      <td>...</td>\n",
              "      <td>...</td>\n",
              "      <td>...</td>\n",
              "      <td>...</td>\n",
              "    </tr>\n",
              "    <tr>\n",
              "      <th>145284</th>\n",
              "      <td>2016</td>\n",
              "      <td>132</td>\n",
              "      <td>1114</td>\n",
              "      <td>70</td>\n",
              "      <td>1419</td>\n",
              "      <td>50</td>\n",
              "      <td>N</td>\n",
              "      <td>0</td>\n",
              "    </tr>\n",
              "    <tr>\n",
              "      <th>145285</th>\n",
              "      <td>2016</td>\n",
              "      <td>132</td>\n",
              "      <td>1163</td>\n",
              "      <td>72</td>\n",
              "      <td>1272</td>\n",
              "      <td>58</td>\n",
              "      <td>N</td>\n",
              "      <td>0</td>\n",
              "    </tr>\n",
              "    <tr>\n",
              "      <th>145286</th>\n",
              "      <td>2016</td>\n",
              "      <td>132</td>\n",
              "      <td>1246</td>\n",
              "      <td>82</td>\n",
              "      <td>1401</td>\n",
              "      <td>77</td>\n",
              "      <td>N</td>\n",
              "      <td>1</td>\n",
              "    </tr>\n",
              "    <tr>\n",
              "      <th>145287</th>\n",
              "      <td>2016</td>\n",
              "      <td>132</td>\n",
              "      <td>1277</td>\n",
              "      <td>66</td>\n",
              "      <td>1345</td>\n",
              "      <td>62</td>\n",
              "      <td>N</td>\n",
              "      <td>0</td>\n",
              "    </tr>\n",
              "    <tr>\n",
              "      <th>145288</th>\n",
              "      <td>2016</td>\n",
              "      <td>132</td>\n",
              "      <td>1386</td>\n",
              "      <td>87</td>\n",
              "      <td>1433</td>\n",
              "      <td>74</td>\n",
              "      <td>N</td>\n",
              "      <td>0</td>\n",
              "    </tr>\n",
              "  </tbody>\n",
              "</table>\n",
              "<p>145289 rows × 8 columns</p>\n",
              "</div>"
            ],
            "text/plain": [
              "        Season  Daynum  Wteam  Wscore  Lteam  Lscore Wloc  Numot\n",
              "0         1985      20   1228      81   1328      64    N      0\n",
              "1         1985      25   1106      77   1354      70    H      0\n",
              "2         1985      25   1112      63   1223      56    H      0\n",
              "3         1985      25   1165      70   1432      54    H      0\n",
              "4         1985      25   1192      86   1447      74    H      0\n",
              "...        ...     ...    ...     ...    ...     ...  ...    ...\n",
              "145284    2016     132   1114      70   1419      50    N      0\n",
              "145285    2016     132   1163      72   1272      58    N      0\n",
              "145286    2016     132   1246      82   1401      77    N      1\n",
              "145287    2016     132   1277      66   1345      62    N      0\n",
              "145288    2016     132   1386      87   1433      74    N      0\n",
              "\n",
              "[145289 rows x 8 columns]"
            ]
          },
          "metadata": {
            "tags": []
          },
          "execution_count": 238
        }
      ]
    },
    {
      "cell_type": "code",
      "metadata": {
        "id": "FeTX6zr1bXey",
        "colab": {
          "base_uri": "https://localhost:8080/",
          "height": 198
        },
        "outputId": "c66d7012-130a-4f1b-8e60-429be27ed569"
      },
      "source": [
        "df.head()"
      ],
      "execution_count": null,
      "outputs": [
        {
          "output_type": "execute_result",
          "data": {
            "text/html": [
              "<div>\n",
              "<style scoped>\n",
              "    .dataframe tbody tr th:only-of-type {\n",
              "        vertical-align: middle;\n",
              "    }\n",
              "\n",
              "    .dataframe tbody tr th {\n",
              "        vertical-align: top;\n",
              "    }\n",
              "\n",
              "    .dataframe thead th {\n",
              "        text-align: right;\n",
              "    }\n",
              "</style>\n",
              "<table border=\"1\" class=\"dataframe\">\n",
              "  <thead>\n",
              "    <tr style=\"text-align: right;\">\n",
              "      <th></th>\n",
              "      <th>Season</th>\n",
              "      <th>Daynum</th>\n",
              "      <th>Wteam</th>\n",
              "      <th>Wscore</th>\n",
              "      <th>Lteam</th>\n",
              "      <th>Lscore</th>\n",
              "      <th>Wloc</th>\n",
              "      <th>Numot</th>\n",
              "    </tr>\n",
              "  </thead>\n",
              "  <tbody>\n",
              "    <tr>\n",
              "      <th>0</th>\n",
              "      <td>1985</td>\n",
              "      <td>20</td>\n",
              "      <td>1228</td>\n",
              "      <td>81</td>\n",
              "      <td>1328</td>\n",
              "      <td>64</td>\n",
              "      <td>N</td>\n",
              "      <td>0</td>\n",
              "    </tr>\n",
              "    <tr>\n",
              "      <th>1</th>\n",
              "      <td>1985</td>\n",
              "      <td>25</td>\n",
              "      <td>1106</td>\n",
              "      <td>77</td>\n",
              "      <td>1354</td>\n",
              "      <td>70</td>\n",
              "      <td>H</td>\n",
              "      <td>0</td>\n",
              "    </tr>\n",
              "    <tr>\n",
              "      <th>2</th>\n",
              "      <td>1985</td>\n",
              "      <td>25</td>\n",
              "      <td>1112</td>\n",
              "      <td>63</td>\n",
              "      <td>1223</td>\n",
              "      <td>56</td>\n",
              "      <td>H</td>\n",
              "      <td>0</td>\n",
              "    </tr>\n",
              "    <tr>\n",
              "      <th>3</th>\n",
              "      <td>1985</td>\n",
              "      <td>25</td>\n",
              "      <td>1165</td>\n",
              "      <td>70</td>\n",
              "      <td>1432</td>\n",
              "      <td>54</td>\n",
              "      <td>H</td>\n",
              "      <td>0</td>\n",
              "    </tr>\n",
              "    <tr>\n",
              "      <th>4</th>\n",
              "      <td>1985</td>\n",
              "      <td>25</td>\n",
              "      <td>1192</td>\n",
              "      <td>86</td>\n",
              "      <td>1447</td>\n",
              "      <td>74</td>\n",
              "      <td>H</td>\n",
              "      <td>0</td>\n",
              "    </tr>\n",
              "  </tbody>\n",
              "</table>\n",
              "</div>"
            ],
            "text/plain": [
              "   Season  Daynum  Wteam  Wscore  Lteam  Lscore Wloc  Numot\n",
              "0    1985      20   1228      81   1328      64    N      0\n",
              "1    1985      25   1106      77   1354      70    H      0\n",
              "2    1985      25   1112      63   1223      56    H      0\n",
              "3    1985      25   1165      70   1432      54    H      0\n",
              "4    1985      25   1192      86   1447      74    H      0"
            ]
          },
          "metadata": {
            "tags": []
          },
          "execution_count": 239
        }
      ]
    },
    {
      "cell_type": "code",
      "metadata": {
        "id": "hyt8V0nzcIGF",
        "colab": {
          "base_uri": "https://localhost:8080/",
          "height": 198
        },
        "outputId": "9b88b565-ad71-4c19-b3b0-43c640b9b0dd"
      },
      "source": [
        "df.tail()"
      ],
      "execution_count": null,
      "outputs": [
        {
          "output_type": "execute_result",
          "data": {
            "text/html": [
              "<div>\n",
              "<style scoped>\n",
              "    .dataframe tbody tr th:only-of-type {\n",
              "        vertical-align: middle;\n",
              "    }\n",
              "\n",
              "    .dataframe tbody tr th {\n",
              "        vertical-align: top;\n",
              "    }\n",
              "\n",
              "    .dataframe thead th {\n",
              "        text-align: right;\n",
              "    }\n",
              "</style>\n",
              "<table border=\"1\" class=\"dataframe\">\n",
              "  <thead>\n",
              "    <tr style=\"text-align: right;\">\n",
              "      <th></th>\n",
              "      <th>Season</th>\n",
              "      <th>Daynum</th>\n",
              "      <th>Wteam</th>\n",
              "      <th>Wscore</th>\n",
              "      <th>Lteam</th>\n",
              "      <th>Lscore</th>\n",
              "      <th>Wloc</th>\n",
              "      <th>Numot</th>\n",
              "    </tr>\n",
              "  </thead>\n",
              "  <tbody>\n",
              "    <tr>\n",
              "      <th>145284</th>\n",
              "      <td>2016</td>\n",
              "      <td>132</td>\n",
              "      <td>1114</td>\n",
              "      <td>70</td>\n",
              "      <td>1419</td>\n",
              "      <td>50</td>\n",
              "      <td>N</td>\n",
              "      <td>0</td>\n",
              "    </tr>\n",
              "    <tr>\n",
              "      <th>145285</th>\n",
              "      <td>2016</td>\n",
              "      <td>132</td>\n",
              "      <td>1163</td>\n",
              "      <td>72</td>\n",
              "      <td>1272</td>\n",
              "      <td>58</td>\n",
              "      <td>N</td>\n",
              "      <td>0</td>\n",
              "    </tr>\n",
              "    <tr>\n",
              "      <th>145286</th>\n",
              "      <td>2016</td>\n",
              "      <td>132</td>\n",
              "      <td>1246</td>\n",
              "      <td>82</td>\n",
              "      <td>1401</td>\n",
              "      <td>77</td>\n",
              "      <td>N</td>\n",
              "      <td>1</td>\n",
              "    </tr>\n",
              "    <tr>\n",
              "      <th>145287</th>\n",
              "      <td>2016</td>\n",
              "      <td>132</td>\n",
              "      <td>1277</td>\n",
              "      <td>66</td>\n",
              "      <td>1345</td>\n",
              "      <td>62</td>\n",
              "      <td>N</td>\n",
              "      <td>0</td>\n",
              "    </tr>\n",
              "    <tr>\n",
              "      <th>145288</th>\n",
              "      <td>2016</td>\n",
              "      <td>132</td>\n",
              "      <td>1386</td>\n",
              "      <td>87</td>\n",
              "      <td>1433</td>\n",
              "      <td>74</td>\n",
              "      <td>N</td>\n",
              "      <td>0</td>\n",
              "    </tr>\n",
              "  </tbody>\n",
              "</table>\n",
              "</div>"
            ],
            "text/plain": [
              "        Season  Daynum  Wteam  Wscore  Lteam  Lscore Wloc  Numot\n",
              "145284    2016     132   1114      70   1419      50    N      0\n",
              "145285    2016     132   1163      72   1272      58    N      0\n",
              "145286    2016     132   1246      82   1401      77    N      1\n",
              "145287    2016     132   1277      66   1345      62    N      0\n",
              "145288    2016     132   1386      87   1433      74    N      0"
            ]
          },
          "metadata": {
            "tags": []
          },
          "execution_count": 240
        }
      ]
    },
    {
      "cell_type": "code",
      "metadata": {
        "id": "yw_DDZIicMit",
        "colab": {
          "base_uri": "https://localhost:8080/"
        },
        "outputId": "6667d2d9-ce35-4570-e99b-c28c84635cfc"
      },
      "source": [
        "df.shape"
      ],
      "execution_count": null,
      "outputs": [
        {
          "output_type": "execute_result",
          "data": {
            "text/plain": [
              "(145289, 8)"
            ]
          },
          "metadata": {
            "tags": []
          },
          "execution_count": 241
        }
      ]
    },
    {
      "cell_type": "code",
      "metadata": {
        "id": "bF9T8oDOkuAm",
        "colab": {
          "base_uri": "https://localhost:8080/"
        },
        "outputId": "ba650aca-e98e-4a84-ba4e-445b5bb44bfe"
      },
      "source": [
        "df.index"
      ],
      "execution_count": null,
      "outputs": [
        {
          "output_type": "execute_result",
          "data": {
            "text/plain": [
              "RangeIndex(start=0, stop=145289, step=1)"
            ]
          },
          "metadata": {
            "tags": []
          },
          "execution_count": 242
        }
      ]
    },
    {
      "cell_type": "code",
      "metadata": {
        "id": "dfrSWFOecMlE",
        "colab": {
          "base_uri": "https://localhost:8080/"
        },
        "outputId": "3caa0972-832b-4ae6-ed3b-5d38ea01833d"
      },
      "source": [
        "df.columns.tolist()"
      ],
      "execution_count": null,
      "outputs": [
        {
          "output_type": "execute_result",
          "data": {
            "text/plain": [
              "['Season', 'Daynum', 'Wteam', 'Wscore', 'Lteam', 'Lscore', 'Wloc', 'Numot']"
            ]
          },
          "metadata": {
            "tags": []
          },
          "execution_count": 243
        }
      ]
    },
    {
      "cell_type": "code",
      "metadata": {
        "id": "fSze9X1ckyaW",
        "colab": {
          "base_uri": "https://localhost:8080/"
        },
        "outputId": "c61d15f9-84c5-42ab-b2d0-10c64e15ae0f"
      },
      "source": [
        "df.info()"
      ],
      "execution_count": null,
      "outputs": [
        {
          "output_type": "stream",
          "text": [
            "<class 'pandas.core.frame.DataFrame'>\n",
            "RangeIndex: 145289 entries, 0 to 145288\n",
            "Data columns (total 8 columns):\n",
            " #   Column  Non-Null Count   Dtype \n",
            "---  ------  --------------   ----- \n",
            " 0   Season  145289 non-null  int64 \n",
            " 1   Daynum  145289 non-null  int64 \n",
            " 2   Wteam   145289 non-null  int64 \n",
            " 3   Wscore  145289 non-null  int64 \n",
            " 4   Lteam   145289 non-null  int64 \n",
            " 5   Lscore  145289 non-null  int64 \n",
            " 6   Wloc    145289 non-null  object\n",
            " 7   Numot   145289 non-null  int64 \n",
            "dtypes: int64(7), object(1)\n",
            "memory usage: 8.9+ MB\n"
          ],
          "name": "stdout"
        }
      ]
    },
    {
      "cell_type": "code",
      "metadata": {
        "id": "tc5JleNDcMpj",
        "colab": {
          "base_uri": "https://localhost:8080/",
          "height": 308
        },
        "outputId": "15818dd7-1ee1-492e-f350-3d79611c9b83"
      },
      "source": [
        "df.describe()"
      ],
      "execution_count": null,
      "outputs": [
        {
          "output_type": "execute_result",
          "data": {
            "text/html": [
              "<div>\n",
              "<style scoped>\n",
              "    .dataframe tbody tr th:only-of-type {\n",
              "        vertical-align: middle;\n",
              "    }\n",
              "\n",
              "    .dataframe tbody tr th {\n",
              "        vertical-align: top;\n",
              "    }\n",
              "\n",
              "    .dataframe thead th {\n",
              "        text-align: right;\n",
              "    }\n",
              "</style>\n",
              "<table border=\"1\" class=\"dataframe\">\n",
              "  <thead>\n",
              "    <tr style=\"text-align: right;\">\n",
              "      <th></th>\n",
              "      <th>Season</th>\n",
              "      <th>Daynum</th>\n",
              "      <th>Wteam</th>\n",
              "      <th>Wscore</th>\n",
              "      <th>Lteam</th>\n",
              "      <th>Lscore</th>\n",
              "      <th>Numot</th>\n",
              "    </tr>\n",
              "  </thead>\n",
              "  <tbody>\n",
              "    <tr>\n",
              "      <th>count</th>\n",
              "      <td>145289.000000</td>\n",
              "      <td>145289.000000</td>\n",
              "      <td>145289.000000</td>\n",
              "      <td>145289.000000</td>\n",
              "      <td>145289.000000</td>\n",
              "      <td>145289.000000</td>\n",
              "      <td>145289.000000</td>\n",
              "    </tr>\n",
              "    <tr>\n",
              "      <th>mean</th>\n",
              "      <td>2001.574834</td>\n",
              "      <td>75.223816</td>\n",
              "      <td>1286.720646</td>\n",
              "      <td>76.600321</td>\n",
              "      <td>1282.864064</td>\n",
              "      <td>64.497009</td>\n",
              "      <td>0.044387</td>\n",
              "    </tr>\n",
              "    <tr>\n",
              "      <th>std</th>\n",
              "      <td>9.233342</td>\n",
              "      <td>33.287418</td>\n",
              "      <td>104.570275</td>\n",
              "      <td>12.173033</td>\n",
              "      <td>104.829234</td>\n",
              "      <td>11.380625</td>\n",
              "      <td>0.247819</td>\n",
              "    </tr>\n",
              "    <tr>\n",
              "      <th>min</th>\n",
              "      <td>1985.000000</td>\n",
              "      <td>0.000000</td>\n",
              "      <td>1101.000000</td>\n",
              "      <td>34.000000</td>\n",
              "      <td>1101.000000</td>\n",
              "      <td>20.000000</td>\n",
              "      <td>0.000000</td>\n",
              "    </tr>\n",
              "    <tr>\n",
              "      <th>25%</th>\n",
              "      <td>1994.000000</td>\n",
              "      <td>47.000000</td>\n",
              "      <td>1198.000000</td>\n",
              "      <td>68.000000</td>\n",
              "      <td>1191.000000</td>\n",
              "      <td>57.000000</td>\n",
              "      <td>0.000000</td>\n",
              "    </tr>\n",
              "    <tr>\n",
              "      <th>50%</th>\n",
              "      <td>2002.000000</td>\n",
              "      <td>78.000000</td>\n",
              "      <td>1284.000000</td>\n",
              "      <td>76.000000</td>\n",
              "      <td>1280.000000</td>\n",
              "      <td>64.000000</td>\n",
              "      <td>0.000000</td>\n",
              "    </tr>\n",
              "    <tr>\n",
              "      <th>75%</th>\n",
              "      <td>2010.000000</td>\n",
              "      <td>103.000000</td>\n",
              "      <td>1379.000000</td>\n",
              "      <td>84.000000</td>\n",
              "      <td>1375.000000</td>\n",
              "      <td>72.000000</td>\n",
              "      <td>0.000000</td>\n",
              "    </tr>\n",
              "    <tr>\n",
              "      <th>max</th>\n",
              "      <td>2016.000000</td>\n",
              "      <td>132.000000</td>\n",
              "      <td>1464.000000</td>\n",
              "      <td>186.000000</td>\n",
              "      <td>1464.000000</td>\n",
              "      <td>150.000000</td>\n",
              "      <td>6.000000</td>\n",
              "    </tr>\n",
              "  </tbody>\n",
              "</table>\n",
              "</div>"
            ],
            "text/plain": [
              "              Season         Daynum  ...         Lscore          Numot\n",
              "count  145289.000000  145289.000000  ...  145289.000000  145289.000000\n",
              "mean     2001.574834      75.223816  ...      64.497009       0.044387\n",
              "std         9.233342      33.287418  ...      11.380625       0.247819\n",
              "min      1985.000000       0.000000  ...      20.000000       0.000000\n",
              "25%      1994.000000      47.000000  ...      57.000000       0.000000\n",
              "50%      2002.000000      78.000000  ...      64.000000       0.000000\n",
              "75%      2010.000000     103.000000  ...      72.000000       0.000000\n",
              "max      2016.000000     132.000000  ...     150.000000       6.000000\n",
              "\n",
              "[8 rows x 7 columns]"
            ]
          },
          "metadata": {
            "tags": []
          },
          "execution_count": 245
        }
      ]
    },
    {
      "cell_type": "code",
      "metadata": {
        "id": "s7JGcSQAcMrq",
        "colab": {
          "base_uri": "https://localhost:8080/"
        },
        "outputId": "806a75ee-e09e-4707-eac9-242ed61a2dd2"
      },
      "source": [
        "df.max()"
      ],
      "execution_count": null,
      "outputs": [
        {
          "output_type": "execute_result",
          "data": {
            "text/plain": [
              "Season    2016\n",
              "Daynum     132\n",
              "Wteam     1464\n",
              "Wscore     186\n",
              "Lteam     1464\n",
              "Lscore     150\n",
              "Wloc         N\n",
              "Numot        6\n",
              "dtype: object"
            ]
          },
          "metadata": {
            "tags": []
          },
          "execution_count": 246
        }
      ]
    },
    {
      "cell_type": "markdown",
      "metadata": {
        "id": "iJJvIyqCh1kX"
      },
      "source": [
        "# 참조 방법\n",
        "```\n",
        "# Direct Access\n",
        "df.Wteam : Series  <------ 권장\n",
        "df.Wteam[82] : value\n",
        "df.Wteam[82:85] : Series\n",
        "df['Wteam'] : Series  \n",
        "df['Wteam'][82] : value\n",
        "df['Wteam'][82:85] : Series\n",
        "df[82] # ERROR\n",
        "df[82:85] : DataFrame\n",
        "df[82:85]['Wteam'] : Series\n",
        "df[[True, True, True, ....]] : DataFrame\n",
        "\n",
        "# by loc(location) : 컬럼을 컬럼명으로\n",
        "df.loc[82] : Series\n",
        "df.loc[82:85] : DataFrame\n",
        "df.loc[[82,83,84,85]] : DataFrame\n",
        "df.loc[(82,83,84,85)] : ERROR\n",
        "df.loc[82,83,84,85] : ERROR\n",
        "df.loc[82]['Wteam'] : value <-------- 권장\n",
        "df.loc[82,'Wteam'] : value <--------- 권장\n",
        "df.loc[82][2] : value\n",
        "df.loc[82,2] : ERROR\n",
        "df.loc['Wteam'] : ERROR\n",
        "\n",
        "# by iloc(integer location) : 컬럼을 컬럼 인덱스로\n",
        "df.iloc[82] : Series\n",
        "df.iloc[82:85] : DataFrame\n",
        "df.iloc[[82,83,84,85]] : DataFrame\n",
        "df.iloc[(82,83,84,85)] : ERROR\n",
        "df.iloc[82,83,84,85] : ERROR\n",
        "df.iloc[82]['Wteam'] : value\n",
        "df.iloc[82,'Wteam] : ERROR\n",
        "df.iloc[82][2] : value  <-------- 권장\n",
        "df.iloc[82,2] : value  <--------- 권장\n",
        "df.iloc['Wteam'] : ERROR\n",
        "```\n",
        "\n",
        "정리하면\n",
        "\n",
        "```\n",
        "특정 칼럼 df.Wteam\n",
        "\n",
        "loc 사용하여 참조  : df.loc[82, 'Wteam']\n",
        "iloc 사용하여 참조 : df.iloc[82, 2] \n",
        "```"
      ]
    },
    {
      "cell_type": "code",
      "metadata": {
        "id": "sKEOLZnvcMuC",
        "colab": {
          "base_uri": "https://localhost:8080/"
        },
        "outputId": "0ffaf2bc-b1b1-4029-9e5d-cce99d3361f1"
      },
      "source": [
        "df['Wteam']"
      ],
      "execution_count": null,
      "outputs": [
        {
          "output_type": "execute_result",
          "data": {
            "text/plain": [
              "0         1228\n",
              "1         1106\n",
              "2         1112\n",
              "3         1165\n",
              "4         1192\n",
              "          ... \n",
              "145284    1114\n",
              "145285    1163\n",
              "145286    1246\n",
              "145287    1277\n",
              "145288    1386\n",
              "Name: Wteam, Length: 145289, dtype: int64"
            ]
          },
          "metadata": {
            "tags": []
          },
          "execution_count": 247
        }
      ]
    },
    {
      "cell_type": "code",
      "metadata": {
        "id": "Fm18-8CWcMyu",
        "colab": {
          "base_uri": "https://localhost:8080/"
        },
        "outputId": "56a37a35-3d0b-4040-fde3-11c3cf6ebed6"
      },
      "source": [
        "df['Wteam'].max()"
      ],
      "execution_count": null,
      "outputs": [
        {
          "output_type": "execute_result",
          "data": {
            "text/plain": [
              "1464"
            ]
          },
          "metadata": {
            "tags": []
          },
          "execution_count": 248
        }
      ]
    },
    {
      "cell_type": "code",
      "metadata": {
        "colab": {
          "base_uri": "https://localhost:8080/",
          "height": 138
        },
        "id": "ldR59h3lBrBZ",
        "outputId": "53b667e0-7220-4c01-d873-60cf319777ec"
      },
      "source": [
        "df[82:85]"
      ],
      "execution_count": null,
      "outputs": [
        {
          "output_type": "execute_result",
          "data": {
            "text/html": [
              "<div>\n",
              "<style scoped>\n",
              "    .dataframe tbody tr th:only-of-type {\n",
              "        vertical-align: middle;\n",
              "    }\n",
              "\n",
              "    .dataframe tbody tr th {\n",
              "        vertical-align: top;\n",
              "    }\n",
              "\n",
              "    .dataframe thead th {\n",
              "        text-align: right;\n",
              "    }\n",
              "</style>\n",
              "<table border=\"1\" class=\"dataframe\">\n",
              "  <thead>\n",
              "    <tr style=\"text-align: right;\">\n",
              "      <th></th>\n",
              "      <th>Season</th>\n",
              "      <th>Daynum</th>\n",
              "      <th>Wteam</th>\n",
              "      <th>Wscore</th>\n",
              "      <th>Lteam</th>\n",
              "      <th>Lscore</th>\n",
              "      <th>Wloc</th>\n",
              "      <th>Numot</th>\n",
              "    </tr>\n",
              "  </thead>\n",
              "  <tbody>\n",
              "    <tr>\n",
              "      <th>82</th>\n",
              "      <td>1985</td>\n",
              "      <td>28</td>\n",
              "      <td>1464</td>\n",
              "      <td>71</td>\n",
              "      <td>1134</td>\n",
              "      <td>58</td>\n",
              "      <td>H</td>\n",
              "      <td>0</td>\n",
              "    </tr>\n",
              "    <tr>\n",
              "      <th>83</th>\n",
              "      <td>1985</td>\n",
              "      <td>29</td>\n",
              "      <td>1116</td>\n",
              "      <td>59</td>\n",
              "      <td>1416</td>\n",
              "      <td>45</td>\n",
              "      <td>N</td>\n",
              "      <td>0</td>\n",
              "    </tr>\n",
              "    <tr>\n",
              "      <th>84</th>\n",
              "      <td>1985</td>\n",
              "      <td>29</td>\n",
              "      <td>1124</td>\n",
              "      <td>99</td>\n",
              "      <td>1341</td>\n",
              "      <td>77</td>\n",
              "      <td>H</td>\n",
              "      <td>0</td>\n",
              "    </tr>\n",
              "  </tbody>\n",
              "</table>\n",
              "</div>"
            ],
            "text/plain": [
              "    Season  Daynum  Wteam  Wscore  Lteam  Lscore Wloc  Numot\n",
              "82    1985      28   1464      71   1134      58    H      0\n",
              "83    1985      29   1116      59   1416      45    N      0\n",
              "84    1985      29   1124      99   1341      77    H      0"
            ]
          },
          "metadata": {
            "tags": []
          },
          "execution_count": 249
        }
      ]
    },
    {
      "cell_type": "code",
      "metadata": {
        "id": "XyssEc6ZcM1I",
        "colab": {
          "base_uri": "https://localhost:8080/"
        },
        "outputId": "e2c55b2b-6c90-4ef0-c036-7ac2b1db0e87"
      },
      "source": [
        "df['Wteam'].mean()"
      ],
      "execution_count": null,
      "outputs": [
        {
          "output_type": "execute_result",
          "data": {
            "text/plain": [
              "1286.7206464357246"
            ]
          },
          "metadata": {
            "tags": []
          },
          "execution_count": 250
        }
      ]
    },
    {
      "cell_type": "code",
      "metadata": {
        "id": "uEJNux1HeRnd",
        "colab": {
          "base_uri": "https://localhost:8080/"
        },
        "outputId": "cafe426e-50bc-4520-d8eb-2ced60724c43"
      },
      "source": [
        "# df[82] # NOT SUPPORT\n",
        "df.iloc[82]"
      ],
      "execution_count": null,
      "outputs": [
        {
          "output_type": "execute_result",
          "data": {
            "text/plain": [
              "Season    1985\n",
              "Daynum      28\n",
              "Wteam     1464\n",
              "Wscore      71\n",
              "Lteam     1134\n",
              "Lscore      58\n",
              "Wloc         H\n",
              "Numot        0\n",
              "Name: 82, dtype: object"
            ]
          },
          "metadata": {
            "tags": []
          },
          "execution_count": 251
        }
      ]
    },
    {
      "cell_type": "code",
      "metadata": {
        "colab": {
          "base_uri": "https://localhost:8080/"
        },
        "id": "qp3sGHZU9u5g",
        "outputId": "bd13ece1-d7fc-40ee-84f2-4f86add0061a"
      },
      "source": [
        "df.loc[82]"
      ],
      "execution_count": null,
      "outputs": [
        {
          "output_type": "execute_result",
          "data": {
            "text/plain": [
              "Season    1985\n",
              "Daynum      28\n",
              "Wteam     1464\n",
              "Wscore      71\n",
              "Lteam     1134\n",
              "Lscore      58\n",
              "Wloc         H\n",
              "Numot        0\n",
              "Name: 82, dtype: object"
            ]
          },
          "metadata": {
            "tags": []
          },
          "execution_count": 252
        }
      ]
    },
    {
      "cell_type": "code",
      "metadata": {
        "colab": {
          "base_uri": "https://localhost:8080/"
        },
        "id": "DPQvTrWX-acf",
        "outputId": "3d12651c-b4ab-45b4-af66-7f994ebe69e0"
      },
      "source": [
        "df.loc[82]['Wteam']"
      ],
      "execution_count": null,
      "outputs": [
        {
          "output_type": "execute_result",
          "data": {
            "text/plain": [
              "1464"
            ]
          },
          "metadata": {
            "tags": []
          },
          "execution_count": 253
        }
      ]
    },
    {
      "cell_type": "code",
      "metadata": {
        "id": "buPHbtTieRsd",
        "colab": {
          "base_uri": "https://localhost:8080/"
        },
        "outputId": "43a10e5d-85b5-42e2-9ed1-635f5ca4aad1"
      },
      "source": [
        "df.iloc[82]['Wteam']"
      ],
      "execution_count": null,
      "outputs": [
        {
          "output_type": "execute_result",
          "data": {
            "text/plain": [
              "1464"
            ]
          },
          "metadata": {
            "tags": []
          },
          "execution_count": 254
        }
      ]
    },
    {
      "cell_type": "code",
      "metadata": {
        "colab": {
          "base_uri": "https://localhost:8080/"
        },
        "id": "a6fbeWyb-nhd",
        "outputId": "dbb42842-829d-442f-dcde-714312cf997b"
      },
      "source": [
        "df.loc[82, 'Wteam']"
      ],
      "execution_count": null,
      "outputs": [
        {
          "output_type": "execute_result",
          "data": {
            "text/plain": [
              "1464"
            ]
          },
          "metadata": {
            "tags": []
          },
          "execution_count": 255
        }
      ]
    },
    {
      "cell_type": "code",
      "metadata": {
        "colab": {
          "base_uri": "https://localhost:8080/"
        },
        "id": "UfXIowMv-pnN",
        "outputId": "65940ca8-fed8-406b-a924-b383147ce7eb"
      },
      "source": [
        "# df.iloc[82, 'Wteam'] # Not Support\n",
        "df.iloc[82, 2]"
      ],
      "execution_count": null,
      "outputs": [
        {
          "output_type": "execute_result",
          "data": {
            "text/plain": [
              "1464"
            ]
          },
          "metadata": {
            "tags": []
          },
          "execution_count": 256
        }
      ]
    },
    {
      "cell_type": "code",
      "metadata": {
        "id": "3phnrVbFhJNX",
        "colab": {
          "base_uri": "https://localhost:8080/"
        },
        "outputId": "df23c25a-dc51-483f-908d-63b582771470"
      },
      "source": [
        "df['Wteam'][82]"
      ],
      "execution_count": null,
      "outputs": [
        {
          "output_type": "execute_result",
          "data": {
            "text/plain": [
              "1464"
            ]
          },
          "metadata": {
            "tags": []
          },
          "execution_count": 257
        }
      ]
    },
    {
      "cell_type": "code",
      "metadata": {
        "id": "Rpl6VHNoc9Xf",
        "colab": {
          "base_uri": "https://localhost:8080/"
        },
        "outputId": "22c652f1-4118-4eb1-d58c-7fe0a983d831"
      },
      "source": [
        "df['Wteam'].value_counts()"
      ],
      "execution_count": null,
      "outputs": [
        {
          "output_type": "execute_result",
          "data": {
            "text/plain": [
              "1181    819\n",
              "1242    804\n",
              "1246    765\n",
              "1314    761\n",
              "1112    746\n",
              "       ... \n",
              "1101     18\n",
              "1446     14\n",
              "1118      6\n",
              "1289      6\n",
              "1327      3\n",
              "Name: Wteam, Length: 364, dtype: int64"
            ]
          },
          "metadata": {
            "tags": []
          },
          "execution_count": 258
        }
      ]
    },
    {
      "cell_type": "markdown",
      "metadata": {
        "id": "oTCd4mTkHSb3"
      },
      "source": [
        "# 데이터 구조와 참조 방법"
      ]
    },
    {
      "cell_type": "markdown",
      "metadata": {
        "id": "OnQEKZBtKYoF"
      },
      "source": [
        "## 마스크 타입 필터"
      ]
    },
    {
      "cell_type": "code",
      "metadata": {
        "colab": {
          "base_uri": "https://localhost:8080/"
        },
        "id": "NHfamfU-IZVH",
        "outputId": "ec2efa5d-39a0-45f4-9751-f4077df328c4"
      },
      "source": [
        "df = pd.DataFrame(\n",
        "        {\"AAA\": [4, 5, 6, 7], \"BBB\": [10, 20, 30, 40], \"CCC\": [100, 50, -30, -50]}\n",
        ")\n",
        "\n",
        "print(df)\n",
        "print()\n",
        "\n",
        "# 필터 선언\n",
        "filtered_mask = pd.Series([True, False, True, False])\n",
        "print(\"filtered_mask legnth =\",len(filtered_mask))\n",
        "print(filtered_mask)\n",
        "print()\n",
        "\n",
        "# 필터링된 DF\n",
        "print(df[filtered_mask])\n",
        "print()\n",
        "\n",
        "# 대상 항목만 값 설정\n",
        "df.loc[filtered_mask, 'BBB'] = -1\n",
        "print(df)\n"
      ],
      "execution_count": null,
      "outputs": [
        {
          "output_type": "stream",
          "text": [
            "   AAA  BBB  CCC\n",
            "0    4   10  100\n",
            "1    5   20   50\n",
            "2    6   30  -30\n",
            "3    7   40  -50\n",
            "\n",
            "filtered_mask legnth = 4\n",
            "0     True\n",
            "1    False\n",
            "2     True\n",
            "3    False\n",
            "dtype: bool\n",
            "\n",
            "   AAA  BBB  CCC\n",
            "0    4   10  100\n",
            "2    6   30  -30\n",
            "\n",
            "   AAA  BBB  CCC\n",
            "0    4   -1  100\n",
            "1    5   20   50\n",
            "2    6   -1  -30\n",
            "3    7   40  -50\n"
          ],
          "name": "stdout"
        }
      ]
    },
    {
      "cell_type": "markdown",
      "metadata": {
        "id": "sBqR2ZjYNaZL"
      },
      "source": [
        "## 인덱스 타입 필터"
      ]
    },
    {
      "cell_type": "code",
      "metadata": {
        "colab": {
          "base_uri": "https://localhost:8080/"
        },
        "id": "uAM3g7YaNdp4",
        "outputId": "7d994ad3-fc10-4fb4-8e9d-1ac7d5b897b8"
      },
      "source": [
        "df = pd.DataFrame(\n",
        "        {\"AAA\": [4, 5, 6, 7], \"BBB\": [10, 20, 30, 40], \"CCC\": [100, 50, -30, -50]}\n",
        ")\n",
        "\n",
        "print(df)\n",
        "print()\n",
        "\n",
        "# 필터 선언\n",
        "filtered_index = np.array([0, 2])\n",
        "print(\"filtered_index legnth =\",len(filtered_index))\n",
        "print(filtered_index)\n",
        "print()\n",
        "\n",
        "# 필터링된 DF\n",
        "print(df.loc[filtered_index])\n",
        "print()\n",
        "\n",
        "# 대상 항목만 값 설정\n",
        "df.loc[filtered_index, 'BBB'] = -1\n",
        "print(df)\n"
      ],
      "execution_count": null,
      "outputs": [
        {
          "output_type": "stream",
          "text": [
            "   AAA  BBB  CCC\n",
            "0    4   10  100\n",
            "1    5   20   50\n",
            "2    6   30  -30\n",
            "3    7   40  -50\n",
            "\n",
            "filtered_index legnth = 2\n",
            "[0 2]\n",
            "\n",
            "   AAA  BBB  CCC\n",
            "0    4   10  100\n",
            "2    6   30  -30\n",
            "\n",
            "   AAA  BBB  CCC\n",
            "0    4   -1  100\n",
            "1    5   20   50\n",
            "2    6   -1  -30\n",
            "3    7   40  -50\n"
          ],
          "name": "stdout"
        }
      ]
    },
    {
      "cell_type": "markdown",
      "metadata": {
        "id": "MuvgO3CvLDAY"
      },
      "source": [
        "## 단일 조건"
      ]
    },
    {
      "cell_type": "code",
      "metadata": {
        "colab": {
          "base_uri": "https://localhost:8080/"
        },
        "id": "dJBot4eFG_3x",
        "outputId": "bfa978f9-a831-4f73-b9bd-5de26f168b55"
      },
      "source": [
        "df = pd.DataFrame(\n",
        "        {\"AAA\": [4, 5, 6, 7], \"BBB\": [10, 20, 30, 40], \"CCC\": [100, 50, -30, -50]}\n",
        ")\n",
        "\n",
        "print(df)\n",
        "print()\n",
        "\n",
        "# 조건으로 필터\n",
        "filtered_mask = df.AAA>=5\n",
        "print(\"filtered_mask legnth =\",len(filtered_mask))\n",
        "print(filtered_mask)\n",
        "print()\n",
        "\n",
        "# 필터링된 DF\n",
        "print(df[filtered_mask])\n",
        "print()\n",
        "\n",
        "# 대상 항목만 값 설정\n",
        "df.loc[filtered_mask, 'BBB'] = -1\n",
        "print(df)"
      ],
      "execution_count": null,
      "outputs": [
        {
          "output_type": "stream",
          "text": [
            "   AAA  BBB  CCC\n",
            "0    4   10  100\n",
            "1    5   20   50\n",
            "2    6   30  -30\n",
            "3    7   40  -50\n",
            "\n",
            "filtered_mask legnth = 4\n",
            "0    False\n",
            "1     True\n",
            "2     True\n",
            "3     True\n",
            "Name: AAA, dtype: bool\n",
            "\n",
            "   AAA  BBB  CCC\n",
            "1    5   20   50\n",
            "2    6   30  -30\n",
            "3    7   40  -50\n",
            "\n",
            "   AAA  BBB  CCC\n",
            "0    4   10  100\n",
            "1    5   -1   50\n",
            "2    6   -1  -30\n",
            "3    7   -1  -50\n"
          ],
          "name": "stdout"
        }
      ]
    },
    {
      "cell_type": "markdown",
      "metadata": {
        "id": "RR185aXmLJKI"
      },
      "source": [
        "## 복수 조건 - 마스크 사용"
      ]
    },
    {
      "cell_type": "code",
      "metadata": {
        "colab": {
          "base_uri": "https://localhost:8080/"
        },
        "id": "f5CVtOqHVasc",
        "outputId": "61e40717-4d80-4b2a-ea4d-4e289af27b70"
      },
      "source": [
        "df = pd.DataFrame(\n",
        "        {\"AAA\": [4, 5, 6, 7], \"BBB\": [10, 20, 30, 40], \"CCC\": [100, 50, -30, -50]}\n",
        ")\n",
        "\n",
        "print(df)\n",
        "print()\n",
        "\n",
        "import numpy as np\n",
        "\n",
        "# 복수 조건으로 필터링된 DF\n",
        "filtered_mask = (df.AAA>=5) & (df.BBB<40)\n",
        "\n",
        "print(\"filtered_mask legnth =\",len(filtered_mask))\n",
        "print(filtered_mask)\n",
        "print()\n",
        "\n",
        "# 대상 항목만 값 설정\n",
        "df.loc[filtered_mask, 'BBB'] = -1\n",
        "print(df)"
      ],
      "execution_count": null,
      "outputs": [
        {
          "output_type": "stream",
          "text": [
            "   AAA  BBB  CCC\n",
            "0    4   10  100\n",
            "1    5   20   50\n",
            "2    6   30  -30\n",
            "3    7   40  -50\n",
            "\n",
            "filtered_mask legnth = 4\n",
            "0    False\n",
            "1     True\n",
            "2     True\n",
            "3    False\n",
            "dtype: bool\n",
            "\n",
            "   AAA  BBB  CCC\n",
            "0    4   10  100\n",
            "1    5   -1   50\n",
            "2    6   -1  -30\n",
            "3    7   40  -50\n"
          ],
          "name": "stdout"
        }
      ]
    },
    {
      "cell_type": "markdown",
      "metadata": {
        "id": "4OnI1vskQFqA"
      },
      "source": [
        "## 복수 조건 - numpy 검색후 인덱스 사용"
      ]
    },
    {
      "cell_type": "code",
      "metadata": {
        "colab": {
          "base_uri": "https://localhost:8080/"
        },
        "id": "A57oUcphJ5A8",
        "outputId": "554f4dcf-2ab4-4a17-d69c-772433d8e5a3"
      },
      "source": [
        "df = pd.DataFrame(\n",
        "        {\"AAA\": [4, 5, 6, 7], \"BBB\": [10, 20, 30, 40], \"CCC\": [100, 50, -30, -50]}\n",
        ")\n",
        "\n",
        "print(df)\n",
        "print()\n",
        "\n",
        "import numpy as np\n",
        "\n",
        "# 복수 조건\n",
        "filtered_index = np.where( (df.AAA>=5) & (df.BBB<40) )[0]\n",
        "print(\"filtered_index legnth =\",len(filtered_index))\n",
        "print(filtered_index)\n",
        "print()\n",
        "\n",
        "# 필터링된 DF\n",
        "print(df.loc[filtered_index])\n",
        "print()\n",
        "\n",
        "# 대상 항목만 값 설정\n",
        "df.loc[filtered_index, 'BBB'] = -1\n",
        "print(df)"
      ],
      "execution_count": null,
      "outputs": [
        {
          "output_type": "stream",
          "text": [
            "   AAA  BBB  CCC\n",
            "0    4   10  100\n",
            "1    5   20   50\n",
            "2    6   30  -30\n",
            "3    7   40  -50\n",
            "\n",
            "filtered_index legnth = 2\n",
            "[1 2]\n",
            "\n",
            "   AAA  BBB  CCC\n",
            "1    5   20   50\n",
            "2    6   30  -30\n",
            "\n",
            "   AAA  BBB  CCC\n",
            "0    4   10  100\n",
            "1    5   -1   50\n",
            "2    6   -1  -30\n",
            "3    7   40  -50\n"
          ],
          "name": "stdout"
        }
      ]
    },
    {
      "cell_type": "markdown",
      "metadata": {
        "id": "g51lSpRo3nD_"
      },
      "source": [
        "# HowTo\n",
        "\n",
        "많은 부분을 https://pandas.pydata.org/pandas-docs/stable/user_guide/cookbook.html#에서 가져옴"
      ]
    },
    {
      "cell_type": "markdown",
      "metadata": {
        "id": "Q82Zg_m9dAVa"
      },
      "source": [
        "## DF 구하기"
      ]
    },
    {
      "cell_type": "markdown",
      "metadata": {
        "id": "OjS25gZk8-uY"
      },
      "source": [
        "### 조건에 맞는 행으로 구성된 DF 구하기"
      ]
    },
    {
      "cell_type": "code",
      "metadata": {
        "colab": {
          "base_uri": "https://localhost:8080/"
        },
        "id": "PtatCyRE7Q6-",
        "outputId": "69288779-2c74-4204-e8c1-5d267b451864"
      },
      "source": [
        "df = pd.DataFrame(\n",
        "        {\"AAA\": [4, 5, 6, 7], \"BBB\": [10, 20, 30, 40], \"CCC\": [100, 50, -30, -50]}\n",
        ")\n",
        "\n",
        "print(df)\n",
        "print()\n",
        "\n",
        "print(df.loc[df.AAA>=5])\n",
        "print()\n",
        "\n",
        "print(df.loc[df.AAA>=5].loc[df.BBB<=30])"
      ],
      "execution_count": null,
      "outputs": [
        {
          "output_type": "stream",
          "text": [
            "   AAA  BBB  CCC\n",
            "0    4   10  100\n",
            "1    5   20   50\n",
            "2    6   30  -30\n",
            "3    7   40  -50\n",
            "\n",
            "   AAA  BBB  CCC\n",
            "1    5   20   50\n",
            "2    6   30  -30\n",
            "3    7   40  -50\n",
            "\n",
            "   AAA  BBB  CCC\n",
            "1    5   20   50\n",
            "2    6   30  -30\n"
          ],
          "name": "stdout"
        }
      ]
    },
    {
      "cell_type": "markdown",
      "metadata": {
        "id": "T2iOzDYDdEfL"
      },
      "source": [
        "### 특정 컬럼으로 구성된 DF 구하기"
      ]
    },
    {
      "cell_type": "code",
      "metadata": {
        "colab": {
          "base_uri": "https://localhost:8080/"
        },
        "id": "Fuzuqp-7dJLx",
        "outputId": "8fcc55b9-88f4-48c3-b7e8-97176c8ded44"
      },
      "source": [
        "df = pd.DataFrame(\n",
        "        {\"AAA\": [4, 5, 6, 7], \"BBB\": [10, 20, 30, 40], \"CCC\": [100, 50, -30, -50]}\n",
        ")\n",
        "\n",
        "print(df)\n",
        "print()\n",
        "\n",
        "print(df[\"AAA\"])\n",
        "print(\"type =\", type(df[\"AAA\"])) # Series이다.\n",
        "print()\n",
        "\n",
        "print(df[[\"AAA\"]]) # 컬럼명의 리스트를 주면 DataFrame이다.\n",
        "print(\"type =\", type(df[[\"AAA\"]]))\n",
        "print()\n",
        "\n",
        "print(df[[\"AAA\", \"CCC\"]])"
      ],
      "execution_count": null,
      "outputs": [
        {
          "output_type": "stream",
          "text": [
            "   AAA  BBB  CCC\n",
            "0    4   10  100\n",
            "1    5   20   50\n",
            "2    6   30  -30\n",
            "3    7   40  -50\n",
            "\n",
            "0    4\n",
            "1    5\n",
            "2    6\n",
            "3    7\n",
            "Name: AAA, dtype: int64\n",
            "type = <class 'pandas.core.series.Series'>\n",
            "\n",
            "   AAA\n",
            "0    4\n",
            "1    5\n",
            "2    6\n",
            "3    7\n",
            "type = <class 'pandas.core.frame.DataFrame'>\n",
            "\n",
            "   AAA  CCC\n",
            "0    4  100\n",
            "1    5   50\n",
            "2    6  -30\n",
            "3    7  -50\n"
          ],
          "name": "stdout"
        }
      ]
    },
    {
      "cell_type": "markdown",
      "metadata": {
        "id": "HUR9zH8X9CCo"
      },
      "source": [
        "## 특정 조건에 맞는 행의 값 변경"
      ]
    },
    {
      "cell_type": "markdown",
      "metadata": {
        "id": "VvbqWu2iSxsE"
      },
      "source": [
        "### 단일 조건"
      ]
    },
    {
      "cell_type": "code",
      "metadata": {
        "colab": {
          "base_uri": "https://localhost:8080/"
        },
        "id": "QxRROe5N9Lj1",
        "outputId": "5d9dd736-0cc3-4cb4-9eea-09fbfa23450e"
      },
      "source": [
        "df = pd.DataFrame(\n",
        "        {\"AAA\": [4, 5, 6, 7], \"BBB\": [10, 20, 30, 40], \"CCC\": [100, 50, -30, -50]}\n",
        ")\n",
        "\n",
        "print(df)\n",
        "print()\n",
        "\n",
        "df.loc[df.AAA>=5, \"BBB\"] = -1\n",
        "print(df)\n"
      ],
      "execution_count": null,
      "outputs": [
        {
          "output_type": "stream",
          "text": [
            "   AAA  BBB  CCC\n",
            "0    4   10  100\n",
            "1    5   20   50\n",
            "2    6   30  -30\n",
            "3    7   40  -50\n",
            "\n",
            "   AAA  BBB  CCC\n",
            "0    4   10  100\n",
            "1    5   -1   50\n",
            "2    6   -1  -30\n",
            "3    7   -1  -50\n"
          ],
          "name": "stdout"
        }
      ]
    },
    {
      "cell_type": "markdown",
      "metadata": {
        "id": "hXIc9D-RSwE8"
      },
      "source": [
        "### 복수 조건"
      ]
    },
    {
      "cell_type": "code",
      "metadata": {
        "colab": {
          "base_uri": "https://localhost:8080/"
        },
        "id": "qYxQKNgwQZiw",
        "outputId": "2c37643e-f2fa-44c5-c31f-c2f1e3ff70b2"
      },
      "source": [
        "df = pd.DataFrame(\n",
        "        {\"AAA\": [4, 5, 6, 7], \"BBB\": [10, 20, 30, 40], \"CCC\": [100, 50, -30, -50]}\n",
        ")\n",
        "\n",
        "print(df)\n",
        "print()\n",
        "\n",
        "filtered_index = df.loc[df.AAA>=5].loc[df.BBB<=30].index\n",
        "print(\"filtered_index =\", filtered_index)\n",
        "print()\n",
        "\n",
        "df.loc[filtered_index, 'BBB'] = -1\n",
        "print(df)"
      ],
      "execution_count": null,
      "outputs": [
        {
          "output_type": "stream",
          "text": [
            "   AAA  BBB  CCC\n",
            "0    4   10  100\n",
            "1    5   20   50\n",
            "2    6   30  -30\n",
            "3    7   40  -50\n",
            "\n",
            "filtered_index = Int64Index([1, 2], dtype='int64')\n",
            "\n",
            "   AAA  BBB  CCC\n",
            "0    4   10  100\n",
            "1    5   -1   50\n",
            "2    6   -1  -30\n",
            "3    7   40  -50\n"
          ],
          "name": "stdout"
        }
      ]
    },
    {
      "cell_type": "markdown",
      "metadata": {
        "id": "3AvPlzcgS1IO"
      },
      "source": [
        "### 복수 컬럼"
      ]
    },
    {
      "cell_type": "code",
      "metadata": {
        "colab": {
          "base_uri": "https://localhost:8080/"
        },
        "id": "_zFS70S1S5om",
        "outputId": "765697bf-3f7d-440e-c5bc-c3e89c44c1dd"
      },
      "source": [
        "df = pd.DataFrame(\n",
        "        {\"AAA\": [4, 5, 6, 7], \"BBB\": [10, 20, 30, 40], \"CCC\": [100, 50, -30, -50]}\n",
        ")\n",
        "\n",
        "print(df)\n",
        "print()\n",
        "\n",
        "df.loc[df.AAA>=5, [\"BBB\",\"CCC\"]] = -1\n",
        "print(df)\n"
      ],
      "execution_count": null,
      "outputs": [
        {
          "output_type": "stream",
          "text": [
            "   AAA  BBB  CCC\n",
            "0    4   10  100\n",
            "1    5   20   50\n",
            "2    6   30  -30\n",
            "3    7   40  -50\n",
            "\n",
            "   AAA  BBB  CCC\n",
            "0    4   10  100\n",
            "1    5   -1   -1\n",
            "2    6   -1   -1\n",
            "3    7   -1   -1\n"
          ],
          "name": "stdout"
        }
      ]
    },
    {
      "cell_type": "markdown",
      "metadata": {
        "id": "t6yNPCCCTzeB"
      },
      "source": [
        "### 특정 조건으로 값 이분 설정 - 각각 설정\n"
      ]
    },
    {
      "cell_type": "code",
      "metadata": {
        "colab": {
          "base_uri": "https://localhost:8080/",
          "height": 132
        },
        "id": "vbMXo9fOT4p1",
        "outputId": "19d688d4-582d-4288-cd36-a27242e9b13a"
      },
      "source": [
        "df = pd.DataFrame(\n",
        "        {\"AAA\": [4, 5, 6, 7], \"BBB\": [10, 20, 30, 40], \"CCC\": [100, 50, -30, -50]}\n",
        ")\n",
        "\n",
        "print(df)\n",
        "print()\n",
        "\n",
        "\n",
        "df.loc[df.AAA>=5, .BBB] = 999\n",
        "print(df)\n",
        "\n",
        "df.loc[df.AAA<5, .BBB] = -999\n",
        "print(df)\n",
        "\n"
      ],
      "execution_count": null,
      "outputs": [
        {
          "output_type": "error",
          "ename": "SyntaxError",
          "evalue": "ignored",
          "traceback": [
            "\u001b[0;36m  File \u001b[0;32m\"<ipython-input-268-627430d1bc08>\"\u001b[0;36m, line \u001b[0;32m9\u001b[0m\n\u001b[0;31m    df.loc[df.AAA>=5, .BBB] = 999\u001b[0m\n\u001b[0m                      ^\u001b[0m\n\u001b[0;31mSyntaxError\u001b[0m\u001b[0;31m:\u001b[0m invalid syntax\n"
          ]
        }
      ]
    },
    {
      "cell_type": "markdown",
      "metadata": {
        "id": "OHjph1dCUEl_"
      },
      "source": [
        "### 특정 조건으로 값 이분 설정 - numpy 사용"
      ]
    },
    {
      "cell_type": "code",
      "metadata": {
        "colab": {
          "base_uri": "https://localhost:8080/"
        },
        "id": "6NDrhafwUD1a",
        "outputId": "36644086-bc0a-4c73-983f-5e4ad182b648"
      },
      "source": [
        "df = pd.DataFrame(\n",
        "        {\"AAA\": [4, 5, 6, 7], \"BBB\": [10, 20, 30, 40], \"CCC\": [100, 50, -30, -50]}\n",
        ")\n",
        "\n",
        "print(df)\n",
        "print()\n",
        "\n",
        "df.BBB = np.where(df.AAA>=5, 999, -999)\n",
        "print(df)\n",
        "\n"
      ],
      "execution_count": null,
      "outputs": [
        {
          "output_type": "stream",
          "text": [
            "   AAA  BBB  CCC\n",
            "0    4   10  100\n",
            "1    5   20   50\n",
            "2    6   30  -30\n",
            "3    7   40  -50\n",
            "\n",
            "   AAA  BBB  CCC\n",
            "0    4 -999  100\n",
            "1    5  999   50\n",
            "2    6  999  -30\n",
            "3    7  999  -50\n"
          ],
          "name": "stdout"
        }
      ]
    },
    {
      "cell_type": "markdown",
      "metadata": {
        "id": "szVTefUubLV3"
      },
      "source": [
        "## 검색"
      ]
    },
    {
      "cell_type": "markdown",
      "metadata": {
        "id": "Gz_Jv9sUZZok"
      },
      "source": [
        "### 값 리스트에 포함되어 있는지 검색"
      ]
    },
    {
      "cell_type": "code",
      "metadata": {
        "colab": {
          "base_uri": "https://localhost:8080/"
        },
        "id": "SueBbTrbap3Y",
        "outputId": "21e97a53-ab95-46ad-a78c-903619b5dc29"
      },
      "source": [
        "df = pd.DataFrame(\n",
        "        {\"AAA\": [4, 5, 6, 7], \"BBB\": [10, 20, 30, 40], \"CCC\": [100, 50, -30, -50]}\n",
        ")\n",
        "\n",
        "print(df)\n",
        "print()\n",
        "\n",
        "print(df[df.AAA.isin([4, 5, 7])])\n"
      ],
      "execution_count": null,
      "outputs": [
        {
          "output_type": "stream",
          "text": [
            "   AAA  BBB  CCC\n",
            "0    4   10  100\n",
            "1    5   20   50\n",
            "2    6   30  -30\n",
            "3    7   40  -50\n",
            "\n",
            "   AAA  BBB  CCC\n",
            "0    4   10  100\n",
            "1    5   20   50\n",
            "3    7   40  -50\n"
          ],
          "name": "stdout"
        }
      ]
    },
    {
      "cell_type": "markdown",
      "metadata": {
        "id": "H-C7so7jZvyy"
      },
      "source": [
        "### 특정 인덱스 필터링"
      ]
    },
    {
      "cell_type": "code",
      "metadata": {
        "colab": {
          "base_uri": "https://localhost:8080/"
        },
        "id": "CuP77zjvZeMo",
        "outputId": "a693ce52-1521-40be-f1a6-e1ec5eef6279"
      },
      "source": [
        "df = pd.DataFrame(\n",
        "        {\"AAA\": [4, 5, 6, 7], \"BBB\": [10, 20, 30, 40], \"CCC\": [100, 50, -30, -50]}\n",
        ")\n",
        "\n",
        "print(df)\n",
        "print()\n",
        "\n",
        "print(df[df.index.isin([0, 1, 3])])\n"
      ],
      "execution_count": null,
      "outputs": [
        {
          "output_type": "stream",
          "text": [
            "   AAA  BBB  CCC\n",
            "0    4   10  100\n",
            "1    5   20   50\n",
            "2    6   30  -30\n",
            "3    7   40  -50\n",
            "\n",
            "   AAA  BBB  CCC\n",
            "0    4   10  100\n",
            "1    5   20   50\n",
            "3    7   40  -50\n"
          ],
          "name": "stdout"
        }
      ]
    },
    {
      "cell_type": "markdown",
      "metadata": {
        "id": "yIbJ1GeDaEF1"
      },
      "source": [
        "### 짝수 인덱스 필터링"
      ]
    },
    {
      "cell_type": "code",
      "metadata": {
        "colab": {
          "base_uri": "https://localhost:8080/"
        },
        "id": "Tqd0LQQ9Z0l8",
        "outputId": "8a621777-61f5-400f-a242-6de7179b7d67"
      },
      "source": [
        "df = pd.DataFrame(\n",
        "        {\"AAA\": [4, 5, 6, 7], \"BBB\": [10, 20, 30, 40], \"CCC\": [100, 50, -30, -50]}\n",
        ")\n",
        "\n",
        "print(df)\n",
        "print()\n",
        "\n",
        "print(df[df.index%2!=0])\n"
      ],
      "execution_count": null,
      "outputs": [
        {
          "output_type": "stream",
          "text": [
            "   AAA  BBB  CCC\n",
            "0    4   10  100\n",
            "1    5   20   50\n",
            "2    6   30  -30\n",
            "3    7   40  -50\n",
            "\n",
            "   AAA  BBB  CCC\n",
            "1    5   20   50\n",
            "3    7   40  -50\n"
          ],
          "name": "stdout"
        }
      ]
    },
    {
      "cell_type": "markdown",
      "metadata": {
        "id": "b8hMVknvajKR"
      },
      "source": [
        "## 컬럼 추가\n"
      ]
    },
    {
      "cell_type": "markdown",
      "metadata": {
        "id": "3bbPwA4sbtkO"
      },
      "source": [
        "### 특정 컬럼 복사"
      ]
    },
    {
      "cell_type": "code",
      "metadata": {
        "colab": {
          "base_uri": "https://localhost:8080/"
        },
        "id": "-MIWNDy8bwLe",
        "outputId": "bf4bf472-ba32-434b-ad98-0ffb4a943805"
      },
      "source": [
        "df = pd.DataFrame(\n",
        "        {\"AAA\": [4, 5, 6, 7], \"BBB\": [10, 20, 30, 40], \"CCC\": [100, 50, -30, -50]}\n",
        ")\n",
        "\n",
        "print(df)\n",
        "print()\n",
        "\n",
        "df[\"AAA_copied\"] = df[\"AAA\"]\n",
        "\n",
        "print(df)"
      ],
      "execution_count": null,
      "outputs": [
        {
          "output_type": "stream",
          "text": [
            "   AAA  BBB  CCC\n",
            "0    4   10  100\n",
            "1    5   20   50\n",
            "2    6   30  -30\n",
            "3    7   40  -50\n",
            "\n",
            "   AAA  BBB  CCC  AAA_copied\n",
            "0    4   10  100           4\n",
            "1    5   20   50           5\n",
            "2    6   30  -30           6\n",
            "3    7   40  -50           7\n"
          ],
          "name": "stdout"
        }
      ]
    },
    {
      "cell_type": "markdown",
      "metadata": {
        "id": "ILsBkoPlbaov"
      },
      "source": [
        "### 모든 컬럼 복사"
      ]
    },
    {
      "cell_type": "code",
      "metadata": {
        "colab": {
          "base_uri": "https://localhost:8080/"
        },
        "id": "cvvtLKuhZuCI",
        "outputId": "92cb9504-001e-45bc-997f-156814464312"
      },
      "source": [
        "df = pd.DataFrame(\n",
        "        {\"AAA\": [4, 5, 6, 7], \"BBB\": [10, 20, 30, 40], \"CCC\": [100, 50, -30, -50]}\n",
        ")\n",
        "\n",
        "print(df)\n",
        "print()\n",
        "\n",
        "source_cols = df.columns\n",
        "new_cols = [str(x) + \"_copied\" for x in source_cols]\n",
        "df[new_cols] = df[source_cols]\n",
        "\n",
        "print(df)"
      ],
      "execution_count": null,
      "outputs": [
        {
          "output_type": "stream",
          "text": [
            "   AAA  BBB  CCC\n",
            "0    4   10  100\n",
            "1    5   20   50\n",
            "2    6   30  -30\n",
            "3    7   40  -50\n",
            "\n",
            "   AAA  BBB  CCC  AAA_copied  BBB_copied  CCC_copied\n",
            "0    4   10  100           4          10         100\n",
            "1    5   20   50           5          20          50\n",
            "2    6   30  -30           6          30         -30\n",
            "3    7   40  -50           7          40         -50\n"
          ],
          "name": "stdout"
        }
      ]
    },
    {
      "cell_type": "markdown",
      "metadata": {
        "id": "O76tPHPLb9j5"
      },
      "source": [
        "### 인코딩된 컬럼 추가"
      ]
    },
    {
      "cell_type": "code",
      "metadata": {
        "colab": {
          "base_uri": "https://localhost:8080/"
        },
        "id": "_fifAcS3ZeKQ",
        "outputId": "26111e23-c67c-4e21-ba47-a92687f1f58f"
      },
      "source": [
        "df = pd.DataFrame(\n",
        "        {\"AAA\": [4, 5, 6, 7], \"BBB\": [10, 20, 30, 40], \"CCC\": [100, 50, -30, -50]}\n",
        ")\n",
        "\n",
        "print(df)\n",
        "print()\n",
        "\n",
        "def encode(AAA):\n",
        "  if AAA==4 : return \"A\"\n",
        "  if AAA==6 : return \"B\"\n",
        "  return \"C\"\n",
        "\n",
        "df[\"AAA_encoded\"] = df[[\"AAA\"]].applymap(encode)\n",
        "\n",
        "print(df)"
      ],
      "execution_count": null,
      "outputs": [
        {
          "output_type": "stream",
          "text": [
            "   AAA  BBB  CCC\n",
            "0    4   10  100\n",
            "1    5   20   50\n",
            "2    6   30  -30\n",
            "3    7   40  -50\n",
            "\n",
            "   AAA  BBB  CCC AAA_encoded\n",
            "0    4   10  100           A\n",
            "1    5   20   50           C\n",
            "2    6   30  -30           B\n",
            "3    7   40  -50           C\n"
          ],
          "name": "stdout"
        }
      ]
    },
    {
      "cell_type": "markdown",
      "metadata": {
        "id": "UjMz3OuAkHOF"
      },
      "source": [
        "### 특정 컬럼 값 변경해서"
      ]
    },
    {
      "cell_type": "code",
      "metadata": {
        "colab": {
          "base_uri": "https://localhost:8080/"
        },
        "id": "a5czufvMkM_X",
        "outputId": "362d9d9d-a1c3-4179-ddb2-23017970061e"
      },
      "source": [
        "df = pd.DataFrame(\n",
        "        {\"AAA\": [4, 5, 6, 7], \"BBB\": [10, 20, 30, 40], \"CCC\": [100, 50, -30, -50]}\n",
        ")\n",
        "\n",
        "print(df)\n",
        "print()\n",
        "\n",
        "df[\"AAA_doubled\"] = df[\"AAA\"]*2.\n",
        "\n",
        "print(df)"
      ],
      "execution_count": 3,
      "outputs": [
        {
          "output_type": "stream",
          "text": [
            "   AAA  BBB  CCC\n",
            "0    4   10  100\n",
            "1    5   20   50\n",
            "2    6   30  -30\n",
            "3    7   40  -50\n",
            "\n",
            "   AAA  BBB  CCC  AAA_doubled\n",
            "0    4   10  100          8.0\n",
            "1    5   20   50         10.0\n",
            "2    6   30  -30         12.0\n",
            "3    7   40  -50         14.0\n"
          ],
          "name": "stdout"
        }
      ]
    },
    {
      "cell_type": "markdown",
      "metadata": {
        "id": "wu5F85SdkeeS"
      },
      "source": [
        "### 특정 위치에"
      ]
    },
    {
      "cell_type": "code",
      "metadata": {
        "colab": {
          "base_uri": "https://localhost:8080/"
        },
        "id": "w_gV0V4skiOp",
        "outputId": "e2d80c12-9f63-4f64-b0d0-2b6ece1e644f"
      },
      "source": [
        "df = pd.DataFrame(\n",
        "        {\"AAA\": [4, 5, 6, 7], \"BBB\": [10, 20, 30, 40], \"CCC\": [100, 50, -30, -50]}\n",
        ")\n",
        "\n",
        "print(df)\n",
        "print()\n",
        "\n",
        "df.insert(1, 'AAA_doubled', df.AAA*2.)\n",
        "\n",
        "print(df)"
      ],
      "execution_count": 4,
      "outputs": [
        {
          "output_type": "stream",
          "text": [
            "   AAA  BBB  CCC\n",
            "0    4   10  100\n",
            "1    5   20   50\n",
            "2    6   30  -30\n",
            "3    7   40  -50\n",
            "\n",
            "   AAA  AAA_doubled  BBB  CCC\n",
            "0    4          8.0   10  100\n",
            "1    5         10.0   20   50\n",
            "2    6         12.0   30  -30\n",
            "3    7         14.0   40  -50\n"
          ],
          "name": "stdout"
        }
      ]
    },
    {
      "cell_type": "markdown",
      "metadata": {
        "id": "mPwwTZnak4Wa"
      },
      "source": [
        "## 컬럼 삭제"
      ]
    },
    {
      "cell_type": "markdown",
      "metadata": {
        "id": "oNsPewewlIMG"
      },
      "source": [
        "### 컬럼 이름으로 1개"
      ]
    },
    {
      "cell_type": "code",
      "metadata": {
        "colab": {
          "base_uri": "https://localhost:8080/"
        },
        "id": "yvGjk8pck6MV",
        "outputId": "10a3e4e0-5574-4fd0-cb87-0ad3763ec44e"
      },
      "source": [
        "df = pd.DataFrame(\n",
        "        {\"AAA\": [4, 5, 6, 7], \"BBB\": [10, 20, 30, 40], \"CCC\": [100, 50, -30, -50]}\n",
        ")\n",
        "\n",
        "print(df)\n",
        "print()\n",
        "\n",
        "df.drop(columns=\"BBB\", inplace=True)\n",
        "\n",
        "print(df)"
      ],
      "execution_count": 6,
      "outputs": [
        {
          "output_type": "stream",
          "text": [
            "   AAA  BBB  CCC\n",
            "0    4   10  100\n",
            "1    5   20   50\n",
            "2    6   30  -30\n",
            "3    7   40  -50\n",
            "\n",
            "   AAA  CCC\n",
            "0    4  100\n",
            "1    5   50\n",
            "2    6  -30\n",
            "3    7  -50\n"
          ],
          "name": "stdout"
        }
      ]
    },
    {
      "cell_type": "markdown",
      "metadata": {
        "id": "wVdNvY7olLnF"
      },
      "source": [
        "### 컬럼이름으로 여러개"
      ]
    },
    {
      "cell_type": "code",
      "metadata": {
        "colab": {
          "base_uri": "https://localhost:8080/"
        },
        "id": "t0_fCRaplEQI",
        "outputId": "f5d3aad3-fd6e-4198-a0f1-dcc79a339d37"
      },
      "source": [
        "df = pd.DataFrame(\n",
        "        {\"AAA\": [4, 5, 6, 7], \"BBB\": [10, 20, 30, 40], \"CCC\": [100, 50, -30, -50]}\n",
        ")\n",
        "\n",
        "print(df)\n",
        "print()\n",
        "\n",
        "df.drop(columns=[\"BBB\", \"CCC\"], inplace=True)\n",
        "\n",
        "print(df)"
      ],
      "execution_count": 7,
      "outputs": [
        {
          "output_type": "stream",
          "text": [
            "   AAA  BBB  CCC\n",
            "0    4   10  100\n",
            "1    5   20   50\n",
            "2    6   30  -30\n",
            "3    7   40  -50\n",
            "\n",
            "   AAA\n",
            "0    4\n",
            "1    5\n",
            "2    6\n",
            "3    7\n"
          ],
          "name": "stdout"
        }
      ]
    },
    {
      "cell_type": "markdown",
      "metadata": {
        "id": "BIGJxXaun52T"
      },
      "source": [
        "## 데이터 추가"
      ]
    },
    {
      "cell_type": "markdown",
      "metadata": {
        "id": "aNJPaTZBqqyI"
      },
      "source": [
        "### row 1개 추가\n",
        "\n",
        "하지 않는다.\n",
        "\n",
        "만약 필요하다면 list에 추가하고 최종적으로 DataFrmae 생성.\n",
        "\n",
        "```\n",
        "data = []\n",
        "for a, b, c in some_function_that_yields_data():\n",
        "    data.append([a, b, c])\n",
        "\n",
        "df = pd.DataFrame(data, columns=['A', 'B', 'C'])\n",
        "```"
      ]
    },
    {
      "cell_type": "markdown",
      "metadata": {
        "id": "61hPdisKoDN5"
      },
      "source": [
        "### dataframe 전체 추가"
      ]
    },
    {
      "cell_type": "code",
      "metadata": {
        "colab": {
          "base_uri": "https://localhost:8080/"
        },
        "id": "3fvauA9eoJYw",
        "outputId": "abaa368e-5e61-40dc-bcb4-da909efc85db"
      },
      "source": [
        "df = pd.DataFrame(\n",
        "        {\"AAA\": [4, 5, 6, 7], \"BBB\": [10, 20, 30, 40], \"CCC\": [100, 50, -30, -50]}\n",
        ")\n",
        "\n",
        "df2 = pd.DataFrame(\n",
        "        {\"AAA\": [8, 9], \"BBB\": [80, 90], \"CCC\": [80, 90]}\n",
        ")\n",
        "\n",
        "\n",
        "print(df)\n",
        "print()\n",
        "\n",
        "print(df2)\n",
        "print()\n",
        "\n",
        "df = df.append(df2) # inplace 못한다.\n",
        "\n",
        "print(df)"
      ],
      "execution_count": 31,
      "outputs": [
        {
          "output_type": "stream",
          "text": [
            "   AAA  BBB  CCC\n",
            "0    4   10  100\n",
            "1    5   20   50\n",
            "2    6   30  -30\n",
            "3    7   40  -50\n",
            "\n",
            "   AAA  BBB  CCC\n",
            "0    8   80   80\n",
            "1    9   90   90\n",
            "\n",
            "   AAA  BBB  CCC\n",
            "0    4   10  100\n",
            "1    5   20   50\n",
            "2    6   30  -30\n",
            "3    7   40  -50\n",
            "0    8   80   80\n",
            "1    9   90   90\n"
          ],
          "name": "stdout"
        }
      ]
    },
    {
      "cell_type": "markdown",
      "metadata": {
        "id": "LILrO1Xfo9mf"
      },
      "source": [
        "### dataframe 3개 이상 합치기"
      ]
    },
    {
      "cell_type": "code",
      "metadata": {
        "colab": {
          "base_uri": "https://localhost:8080/"
        },
        "id": "z2VrSJaopBI3",
        "outputId": "80d435eb-b2b5-4508-974a-e2e9b48cba17"
      },
      "source": [
        "df1 = pd.DataFrame(\n",
        "        {\"AAA\": [4, 5], \"BBB\": [10, 20], \"CCC\": [100, 50]}\n",
        ")\n",
        "\n",
        "df2 = pd.DataFrame(\n",
        "        {\"AAA\": [6, 7], \"BBB\": [30, 40], \"CCC\": [-30, -50]}\n",
        ")\n",
        "\n",
        "df3 = pd.DataFrame(\n",
        "        {\"AAA\": [8, 9], \"BBB\": [80, 90], \"CCC\": [80, 90]}\n",
        ")\n",
        "\n",
        "print(df1)\n",
        "print()\n",
        "\n",
        "print(df2)\n",
        "print()\n",
        "\n",
        "print(df3)\n",
        "print()\n",
        "\n",
        "df = pd.concat([df1, df2, df3], ignore_index=True)\n",
        "\n",
        "# append() 반복해 쓰면 효율이 떨어진다. \n",
        "#df = df1.append(df2).append(df3)\n",
        "\n",
        "print(df)"
      ],
      "execution_count": 37,
      "outputs": [
        {
          "output_type": "stream",
          "text": [
            "   AAA  BBB  CCC\n",
            "0    4   10  100\n",
            "1    5   20   50\n",
            "\n",
            "   AAA  BBB  CCC\n",
            "0    6   30  -30\n",
            "1    7   40  -50\n",
            "\n",
            "   AAA  BBB  CCC\n",
            "0    8   80   80\n",
            "1    9   90   90\n",
            "\n",
            "   AAA  BBB  CCC\n",
            "0    4   10  100\n",
            "1    5   20   50\n",
            "0    6   30  -30\n",
            "1    7   40  -50\n",
            "0    8   80   80\n",
            "1    9   90   90\n"
          ],
          "name": "stdout"
        }
      ]
    },
    {
      "cell_type": "markdown",
      "metadata": {
        "id": "F3YOgKZtmJK4"
      },
      "source": [
        "## 데이터 삭제"
      ]
    },
    {
      "cell_type": "markdown",
      "metadata": {
        "id": "AFbs05BfmP0K"
      },
      "source": [
        "### row index로 1개"
      ]
    },
    {
      "cell_type": "code",
      "metadata": {
        "colab": {
          "base_uri": "https://localhost:8080/"
        },
        "id": "ilSsnCsZk6Jb",
        "outputId": "147b5743-1f28-46fa-d7ee-392b7e582deb"
      },
      "source": [
        "df = pd.DataFrame(\n",
        "        {\"AAA\": [4, 5, 6, 7], \"BBB\": [10, 20, 30, 40], \"CCC\": [100, 50, -30, -50]}\n",
        ")\n",
        "\n",
        "print(df)\n",
        "print()\n",
        "\n",
        "df.drop(1, inplace=True)\n",
        "\n",
        "print(df)"
      ],
      "execution_count": 16,
      "outputs": [
        {
          "output_type": "stream",
          "text": [
            "   AAA  BBB  CCC\n",
            "0    4   10  100\n",
            "1    5   20   50\n",
            "2    6   30  -30\n",
            "3    7   40  -50\n",
            "\n",
            "   AAA  BBB  CCC\n",
            "0    4   10  100\n",
            "2    6   30  -30\n",
            "3    7   40  -50\n"
          ],
          "name": "stdout"
        }
      ]
    },
    {
      "cell_type": "markdown",
      "metadata": {
        "id": "3YCiJTVSmb3n"
      },
      "source": [
        "### row index로 여러개"
      ]
    },
    {
      "cell_type": "code",
      "metadata": {
        "colab": {
          "base_uri": "https://localhost:8080/"
        },
        "id": "ADQkGE2_k6FK",
        "outputId": "7088fc0a-c1ac-4ea0-f285-3f7607ea8364"
      },
      "source": [
        "df = pd.DataFrame(\n",
        "        {\"AAA\": [4, 5, 6, 7], \"BBB\": [10, 20, 30, 40], \"CCC\": [100, 50, -30, -50]}\n",
        ")\n",
        "\n",
        "print(df)\n",
        "print()\n",
        "\n",
        "df.drop([1,3], inplace=True)\n",
        "\n",
        "print(df)"
      ],
      "execution_count": 17,
      "outputs": [
        {
          "output_type": "stream",
          "text": [
            "   AAA  BBB  CCC\n",
            "0    4   10  100\n",
            "1    5   20   50\n",
            "2    6   30  -30\n",
            "3    7   40  -50\n",
            "\n",
            "   AAA  BBB  CCC\n",
            "0    4   10  100\n",
            "2    6   30  -30\n"
          ],
          "name": "stdout"
        }
      ]
    },
    {
      "cell_type": "code",
      "metadata": {
        "colab": {
          "base_uri": "https://localhost:8080/"
        },
        "id": "TqT2xntWnLB3",
        "outputId": "4e6d60d7-7285-4913-c790-02de92dd5a33"
      },
      "source": [
        "df = pd.DataFrame(\n",
        "        {\"AAA\": [4, 5, 6, 7], \"BBB\": [10, 20, 30, 40], \"CCC\": [100, 50, -30, -50]}\n",
        ")\n",
        "\n",
        "print(df)\n",
        "print()\n",
        "\n",
        "target_indexes = [1,3]\n",
        "\n",
        "df.drop(target_indexes, inplace=True)\n",
        "\n",
        "print(df)"
      ],
      "execution_count": 26,
      "outputs": [
        {
          "output_type": "stream",
          "text": [
            "   AAA  BBB  CCC\n",
            "0    4   10  100\n",
            "1    5   20   50\n",
            "2    6   30  -30\n",
            "3    7   40  -50\n",
            "\n",
            "   AAA  BBB  CCC\n",
            "0    4   10  100\n",
            "2    6   30  -30\n"
          ],
          "name": "stdout"
        }
      ]
    },
    {
      "cell_type": "markdown",
      "metadata": {
        "id": "6mgNjz_amimK"
      },
      "source": [
        "### 특정 조건으로"
      ]
    },
    {
      "cell_type": "code",
      "metadata": {
        "colab": {
          "base_uri": "https://localhost:8080/"
        },
        "id": "BQkB7uccnJIu",
        "outputId": "e1a04b92-6979-4b2d-b886-2c82c219442f"
      },
      "source": [
        "df = pd.DataFrame(\n",
        "        {\"AAA\": [4, 5, 6, 7], \"BBB\": [10, 20, 30, 40], \"CCC\": [100, 50, -30, -50]}\n",
        ")\n",
        "\n",
        "print(df)\n",
        "print()\n",
        "\n",
        "target_indexes = df.loc[df.AAA>5].index\n",
        "print(target_indexes)\n",
        "print()\n",
        "\n",
        "df.drop(target_indexes, inplace=True)\n",
        "\n",
        "print(df)"
      ],
      "execution_count": 28,
      "outputs": [
        {
          "output_type": "stream",
          "text": [
            "   AAA  BBB  CCC\n",
            "0    4   10  100\n",
            "1    5   20   50\n",
            "2    6   30  -30\n",
            "3    7   40  -50\n",
            "\n",
            "Int64Index([2, 3], dtype='int64')\n",
            "\n",
            "   AAA  BBB  CCC\n",
            "0    4   10  100\n",
            "1    5   20   50\n"
          ],
          "name": "stdout"
        }
      ]
    },
    {
      "cell_type": "code",
      "metadata": {
        "colab": {
          "base_uri": "https://localhost:8080/"
        },
        "id": "4NfOe1uJmlvn",
        "outputId": "8af8ed38-1162-4f4a-f1f1-e4e09796abdb"
      },
      "source": [
        "df = pd.DataFrame(\n",
        "        {\"AAA\": [4, 5, 6, 7], \"BBB\": [10, 20, 30, 40], \"CCC\": [100, 50, -30, -50]}\n",
        ")\n",
        "\n",
        "print(df)\n",
        "print()\n",
        "\n",
        "df.drop(df.loc[df.AAA>5].index, inplace=True)\n",
        "\n",
        "print(df)"
      ],
      "execution_count": 25,
      "outputs": [
        {
          "output_type": "stream",
          "text": [
            "   AAA  BBB  CCC\n",
            "0    4   10  100\n",
            "1    5   20   50\n",
            "2    6   30  -30\n",
            "3    7   40  -50\n",
            "\n",
            "   AAA  BBB  CCC\n",
            "0    4   10  100\n",
            "1    5   20   50\n"
          ],
          "name": "stdout"
        }
      ]
    },
    {
      "cell_type": "markdown",
      "metadata": {
        "id": "1R0C_K2hd-N_"
      },
      "source": [
        "## 기타"
      ]
    },
    {
      "cell_type": "markdown",
      "metadata": {
        "id": "z-3_xP4jexkv"
      },
      "source": [
        "### 특정 칼럼으로 소팅"
      ]
    },
    {
      "cell_type": "code",
      "metadata": {
        "colab": {
          "base_uri": "https://localhost:8080/"
        },
        "id": "JkfC2s3Ge0CG",
        "outputId": "5b081180-b97c-4bf9-c84b-eb5a973963bb"
      },
      "source": [
        "df = pd.DataFrame(\n",
        "        {\"AAA\": [4, 5, 6, 7], \"BBB\": [10, 20, 35, 10], \"CCC\": [100, 50, -30, -50]}\n",
        ")\n",
        "\n",
        "print(df)\n",
        "print()\n",
        "\n",
        "print(\"sort by BBB\")\n",
        "print(df.sort_values(by=\"BBB\"))\n",
        "print()\n",
        "\n",
        "print(\"sort by BBB, CCC\")\n",
        "print(df.sort_values(by=[\"BBB\", \"CCC\"]))\n",
        "print()\n"
      ],
      "execution_count": null,
      "outputs": [
        {
          "output_type": "stream",
          "text": [
            "   AAA  BBB  CCC\n",
            "0    4   10  100\n",
            "1    5   20   50\n",
            "2    6   35  -30\n",
            "3    7   10  -50\n",
            "\n",
            "sort by BBB\n",
            "   AAA  BBB  CCC\n",
            "0    4   10  100\n",
            "3    7   10  -50\n",
            "1    5   20   50\n",
            "2    6   35  -30\n",
            "\n",
            "sort by BBB, CCC\n",
            "   AAA  BBB  CCC\n",
            "3    7   10  -50\n",
            "0    4   10  100\n",
            "1    5   20   50\n",
            "2    6   35  -30\n",
            "\n"
          ],
          "name": "stdout"
        }
      ]
    },
    {
      "cell_type": "markdown",
      "metadata": {
        "id": "PiIuGSadXOC4"
      },
      "source": [
        "### 특정 컬럼 값이 특정 값에 가까운 순서로 소팅"
      ]
    },
    {
      "cell_type": "code",
      "metadata": {
        "colab": {
          "base_uri": "https://localhost:8080/"
        },
        "id": "uNeH3HicXTRu",
        "outputId": "7d9db61e-91d3-4e95-da5f-bece7ed26e68"
      },
      "source": [
        "df = pd.DataFrame(\n",
        "        {\"AAA\": [4, 5, 6, 7], \"BBB\": [10, 20, 30, 40], \"CCC\": [100, 50, -30, -50]}\n",
        ")\n",
        "\n",
        "print(df)\n",
        "print()\n",
        "\n",
        "target_value = 43.0\n",
        "\n",
        "abs_value = (df.CCC - target_value).abs()\n",
        "print(\"abs_value\")\n",
        "print(abs_value)\n",
        "print()\n",
        "\n",
        "print(\"abs_value.argsort()\")\n",
        "print(abs_value.argsort())\n",
        "print()\n",
        "\n",
        "print(df.loc[(df.CCC - target_value).abs().argsort()])"
      ],
      "execution_count": null,
      "outputs": [
        {
          "output_type": "stream",
          "text": [
            "   AAA  BBB  CCC\n",
            "0    4   10  100\n",
            "1    5   20   50\n",
            "2    6   30  -30\n",
            "3    7   40  -50\n",
            "\n",
            "abs_value\n",
            "0    57.0\n",
            "1     7.0\n",
            "2    73.0\n",
            "3    93.0\n",
            "Name: CCC, dtype: float64\n",
            "\n",
            "abs_value.argsort()\n",
            "0    1\n",
            "1    0\n",
            "2    2\n",
            "3    3\n",
            "Name: CCC, dtype: int64\n",
            "\n",
            "   AAA  BBB  CCC\n",
            "1    5   20   50\n",
            "0    4   10  100\n",
            "2    6   30  -30\n",
            "3    7   40  -50\n"
          ],
          "name": "stdout"
        }
      ]
    },
    {
      "cell_type": "markdown",
      "metadata": {
        "id": "2RZ1XYdleBPq"
      },
      "source": [
        "### group by로 묶어서 group중 min 찾기"
      ]
    },
    {
      "cell_type": "code",
      "metadata": {
        "colab": {
          "base_uri": "https://localhost:8080/"
        },
        "id": "zaVOOS6bZeGQ",
        "outputId": "d4516191-60cd-4c17-cfc6-5a97e102d08f"
      },
      "source": [
        "df = pd.DataFrame(\n",
        "   {\"AAA\": [1, 1, 1, 2, 2, 2, 3, 3], \"BBB\": [2, 1, 3, 4, 5, 1, 2, 3]}\n",
        ")\n",
        "\n",
        "print(df)\n",
        "print()\n",
        "\n",
        "print(df.loc[df.groupby(\"AAA\")[\"BBB\"].idxmin()])"
      ],
      "execution_count": null,
      "outputs": [
        {
          "output_type": "stream",
          "text": [
            "   AAA  BBB\n",
            "0    1    2\n",
            "1    1    1\n",
            "2    1    3\n",
            "3    2    4\n",
            "4    2    5\n",
            "5    2    1\n",
            "6    3    2\n",
            "7    3    3\n",
            "\n",
            "   AAA  BBB\n",
            "1    1    1\n",
            "5    2    1\n",
            "6    3    2\n"
          ],
          "name": "stdout"
        }
      ]
    },
    {
      "cell_type": "code",
      "metadata": {
        "id": "xUniVvQZsuun"
      },
      "source": [
        ""
      ],
      "execution_count": null,
      "outputs": []
    },
    {
      "cell_type": "markdown",
      "metadata": {
        "id": "nvDYBiiDA6QO"
      },
      "source": [
        "## 코드성 데이터 인코딩\n",
        "\n"
      ]
    },
    {
      "cell_type": "markdown",
      "metadata": {
        "id": "zt43M-T2By-J"
      },
      "source": [
        "### category 타입으로"
      ]
    },
    {
      "cell_type": "code",
      "metadata": {
        "id": "DbQbR2vdBDfT"
      },
      "source": [
        "df = pd.DataFrame(\n",
        "   {\"AAA\": [1, 1, 1, 2, 2, 2, 3, 3], \"BBB\": [\"A\", \"B\", \"C\", \"A\", \"A\", \"C\", \"B\", \"A\"]}\n",
        ")"
      ],
      "execution_count": null,
      "outputs": []
    },
    {
      "cell_type": "code",
      "metadata": {
        "colab": {
          "base_uri": "https://localhost:8080/"
        },
        "id": "Y2kIePNwBk9Z",
        "outputId": "f3b3c46a-fa29-407c-f1c3-3c94474c25d0"
      },
      "source": [
        "df.info()"
      ],
      "execution_count": null,
      "outputs": [
        {
          "output_type": "stream",
          "text": [
            "<class 'pandas.core.frame.DataFrame'>\n",
            "RangeIndex: 8 entries, 0 to 7\n",
            "Data columns (total 2 columns):\n",
            " #   Column  Non-Null Count  Dtype \n",
            "---  ------  --------------  ----- \n",
            " 0   AAA     8 non-null      int64 \n",
            " 1   BBB     8 non-null      object\n",
            "dtypes: int64(1), object(1)\n",
            "memory usage: 256.0+ bytes\n"
          ],
          "name": "stdout"
        }
      ]
    },
    {
      "cell_type": "code",
      "metadata": {
        "id": "XvpI4eewBbtK"
      },
      "source": [
        "df.BBB = df.BBB.astype('category')"
      ],
      "execution_count": null,
      "outputs": []
    },
    {
      "cell_type": "code",
      "metadata": {
        "colab": {
          "base_uri": "https://localhost:8080/"
        },
        "id": "DPadMZMRBjCT",
        "outputId": "953639ab-5d73-425e-a142-4ff9ef572b46"
      },
      "source": [
        "df.info()"
      ],
      "execution_count": null,
      "outputs": [
        {
          "output_type": "stream",
          "text": [
            "<class 'pandas.core.frame.DataFrame'>\n",
            "RangeIndex: 8 entries, 0 to 7\n",
            "Data columns (total 2 columns):\n",
            " #   Column  Non-Null Count  Dtype   \n",
            "---  ------  --------------  -----   \n",
            " 0   AAA     8 non-null      int64   \n",
            " 1   BBB     8 non-null      category\n",
            "dtypes: category(1), int64(1)\n",
            "memory usage: 304.0 bytes\n"
          ],
          "name": "stdout"
        }
      ]
    },
    {
      "cell_type": "code",
      "metadata": {
        "id": "TIslm4b0Bq37"
      },
      "source": [
        "df['BBB_code'] = df.BBB.cat.codes"
      ],
      "execution_count": null,
      "outputs": []
    },
    {
      "cell_type": "code",
      "metadata": {
        "colab": {
          "base_uri": "https://localhost:8080/",
          "height": 294
        },
        "id": "1-EmRWhZBu2j",
        "outputId": "2c46794b-39b7-4c21-ebdc-beb4b07ea4bf"
      },
      "source": [
        "df"
      ],
      "execution_count": null,
      "outputs": [
        {
          "output_type": "execute_result",
          "data": {
            "text/html": [
              "<div>\n",
              "<style scoped>\n",
              "    .dataframe tbody tr th:only-of-type {\n",
              "        vertical-align: middle;\n",
              "    }\n",
              "\n",
              "    .dataframe tbody tr th {\n",
              "        vertical-align: top;\n",
              "    }\n",
              "\n",
              "    .dataframe thead th {\n",
              "        text-align: right;\n",
              "    }\n",
              "</style>\n",
              "<table border=\"1\" class=\"dataframe\">\n",
              "  <thead>\n",
              "    <tr style=\"text-align: right;\">\n",
              "      <th></th>\n",
              "      <th>AAA</th>\n",
              "      <th>BBB</th>\n",
              "      <th>BBB_code</th>\n",
              "    </tr>\n",
              "  </thead>\n",
              "  <tbody>\n",
              "    <tr>\n",
              "      <th>0</th>\n",
              "      <td>1</td>\n",
              "      <td>A</td>\n",
              "      <td>0</td>\n",
              "    </tr>\n",
              "    <tr>\n",
              "      <th>1</th>\n",
              "      <td>1</td>\n",
              "      <td>B</td>\n",
              "      <td>1</td>\n",
              "    </tr>\n",
              "    <tr>\n",
              "      <th>2</th>\n",
              "      <td>1</td>\n",
              "      <td>C</td>\n",
              "      <td>2</td>\n",
              "    </tr>\n",
              "    <tr>\n",
              "      <th>3</th>\n",
              "      <td>2</td>\n",
              "      <td>A</td>\n",
              "      <td>0</td>\n",
              "    </tr>\n",
              "    <tr>\n",
              "      <th>4</th>\n",
              "      <td>2</td>\n",
              "      <td>A</td>\n",
              "      <td>0</td>\n",
              "    </tr>\n",
              "    <tr>\n",
              "      <th>5</th>\n",
              "      <td>2</td>\n",
              "      <td>C</td>\n",
              "      <td>2</td>\n",
              "    </tr>\n",
              "    <tr>\n",
              "      <th>6</th>\n",
              "      <td>3</td>\n",
              "      <td>B</td>\n",
              "      <td>1</td>\n",
              "    </tr>\n",
              "    <tr>\n",
              "      <th>7</th>\n",
              "      <td>3</td>\n",
              "      <td>A</td>\n",
              "      <td>0</td>\n",
              "    </tr>\n",
              "  </tbody>\n",
              "</table>\n",
              "</div>"
            ],
            "text/plain": [
              "   AAA BBB  BBB_code\n",
              "0    1   A         0\n",
              "1    1   B         1\n",
              "2    1   C         2\n",
              "3    2   A         0\n",
              "4    2   A         0\n",
              "5    2   C         2\n",
              "6    3   B         1\n",
              "7    3   A         0"
            ]
          },
          "metadata": {
            "tags": []
          },
          "execution_count": 12
        }
      ]
    },
    {
      "cell_type": "markdown",
      "metadata": {
        "id": "m6udsK7sB5Yv"
      },
      "source": [
        "### 특정 카테고리 리스트로"
      ]
    },
    {
      "cell_type": "code",
      "metadata": {
        "id": "zYri1TmJB9n8"
      },
      "source": [
        "df = pd.DataFrame(\n",
        "   {\"AAA\": [1, 1, 1, 2, 2, 2, 3, 3], \"BBB\": [\"A\", \"B\", \"C\", \"A\", \"A\", \"C\", \"B\", \"A\"]}\n",
        ")"
      ],
      "execution_count": null,
      "outputs": []
    },
    {
      "cell_type": "code",
      "metadata": {
        "colab": {
          "base_uri": "https://localhost:8080/"
        },
        "id": "fNtWbYH7B9n-",
        "outputId": "c5762e06-b794-4dea-d2ec-20ee5b68d3a6"
      },
      "source": [
        "df.info()"
      ],
      "execution_count": null,
      "outputs": [
        {
          "output_type": "stream",
          "text": [
            "<class 'pandas.core.frame.DataFrame'>\n",
            "RangeIndex: 8 entries, 0 to 7\n",
            "Data columns (total 2 columns):\n",
            " #   Column  Non-Null Count  Dtype \n",
            "---  ------  --------------  ----- \n",
            " 0   AAA     8 non-null      int64 \n",
            " 1   BBB     8 non-null      object\n",
            "dtypes: int64(1), object(1)\n",
            "memory usage: 256.0+ bytes\n"
          ],
          "name": "stdout"
        }
      ]
    },
    {
      "cell_type": "code",
      "metadata": {
        "id": "q9dhMvSWB_lB"
      },
      "source": [
        "types = [ \"C\", \"B\", \"A\" ]\n",
        "df.BBB = pd.Categorical(df.BBB, categories=types, ordered=True)"
      ],
      "execution_count": null,
      "outputs": []
    },
    {
      "cell_type": "code",
      "metadata": {
        "id": "r-gio5FYFcU3"
      },
      "source": [
        "df['BBB_code'] = df.BBB.cat.codes"
      ],
      "execution_count": null,
      "outputs": []
    },
    {
      "cell_type": "code",
      "metadata": {
        "colab": {
          "base_uri": "https://localhost:8080/",
          "height": 294
        },
        "id": "6Nl9ol53FdQB",
        "outputId": "d9af4e65-64fd-4bab-a993-e88a45f16da9"
      },
      "source": [
        "df"
      ],
      "execution_count": null,
      "outputs": [
        {
          "output_type": "execute_result",
          "data": {
            "text/html": [
              "<div>\n",
              "<style scoped>\n",
              "    .dataframe tbody tr th:only-of-type {\n",
              "        vertical-align: middle;\n",
              "    }\n",
              "\n",
              "    .dataframe tbody tr th {\n",
              "        vertical-align: top;\n",
              "    }\n",
              "\n",
              "    .dataframe thead th {\n",
              "        text-align: right;\n",
              "    }\n",
              "</style>\n",
              "<table border=\"1\" class=\"dataframe\">\n",
              "  <thead>\n",
              "    <tr style=\"text-align: right;\">\n",
              "      <th></th>\n",
              "      <th>AAA</th>\n",
              "      <th>BBB</th>\n",
              "      <th>BBB_code</th>\n",
              "    </tr>\n",
              "  </thead>\n",
              "  <tbody>\n",
              "    <tr>\n",
              "      <th>0</th>\n",
              "      <td>1</td>\n",
              "      <td>A</td>\n",
              "      <td>2</td>\n",
              "    </tr>\n",
              "    <tr>\n",
              "      <th>1</th>\n",
              "      <td>1</td>\n",
              "      <td>B</td>\n",
              "      <td>1</td>\n",
              "    </tr>\n",
              "    <tr>\n",
              "      <th>2</th>\n",
              "      <td>1</td>\n",
              "      <td>C</td>\n",
              "      <td>0</td>\n",
              "    </tr>\n",
              "    <tr>\n",
              "      <th>3</th>\n",
              "      <td>2</td>\n",
              "      <td>A</td>\n",
              "      <td>2</td>\n",
              "    </tr>\n",
              "    <tr>\n",
              "      <th>4</th>\n",
              "      <td>2</td>\n",
              "      <td>A</td>\n",
              "      <td>2</td>\n",
              "    </tr>\n",
              "    <tr>\n",
              "      <th>5</th>\n",
              "      <td>2</td>\n",
              "      <td>C</td>\n",
              "      <td>0</td>\n",
              "    </tr>\n",
              "    <tr>\n",
              "      <th>6</th>\n",
              "      <td>3</td>\n",
              "      <td>B</td>\n",
              "      <td>1</td>\n",
              "    </tr>\n",
              "    <tr>\n",
              "      <th>7</th>\n",
              "      <td>3</td>\n",
              "      <td>A</td>\n",
              "      <td>2</td>\n",
              "    </tr>\n",
              "  </tbody>\n",
              "</table>\n",
              "</div>"
            ],
            "text/plain": [
              "   AAA BBB  BBB_code\n",
              "0    1   A         2\n",
              "1    1   B         1\n",
              "2    1   C         0\n",
              "3    2   A         2\n",
              "4    2   A         2\n",
              "5    2   C         0\n",
              "6    3   B         1\n",
              "7    3   A         2"
            ]
          },
          "metadata": {
            "tags": []
          },
          "execution_count": 29
        }
      ]
    },
    {
      "cell_type": "markdown",
      "metadata": {
        "id": "YXj1-ag3393F"
      },
      "source": [
        "## 결측치 확인"
      ]
    },
    {
      "cell_type": "markdown",
      "metadata": {
        "id": "ztN1KqPZ6ZTL"
      },
      "source": [
        "### 결측치 존재 여부 확인"
      ]
    },
    {
      "cell_type": "code",
      "metadata": {
        "colab": {
          "base_uri": "https://localhost:8080/"
        },
        "id": "qF5Koa0M4q25",
        "outputId": "392c3dcb-198f-49d4-83c3-6f8d67f53ec2"
      },
      "source": [
        "df = pd.DataFrame([[np.nan, 2, np.nan, 0],\n",
        "                   [3, 4, np.nan, 1],\n",
        "                   [np.nan, np.nan, np.nan, 5],\n",
        "                   [np.nan, 3, np.nan, 4]],\n",
        "                  columns=list('ABCD'))\n",
        "\n",
        "print(df)\n",
        "print()\n",
        "\n",
        "# NaN 인 곳을 True로\n",
        "print(\"df.isnull()\")\n",
        "print(df.isnull())\n",
        "print()\n",
        "\n",
        "# 컬럼 별로 True가 한 개라도 있는 지\n",
        "print(\"df.isnull().any()\")\n",
        "print(df.isnull().any())\n",
        "print()\n",
        "\n",
        "# 전체에서 True가 한 개라도 있는 지\n",
        "print(\"df.isnull().any().any()\")\n",
        "print(df.isnull().any().any())\n",
        "print()\n"
      ],
      "execution_count": null,
      "outputs": [
        {
          "output_type": "stream",
          "text": [
            "     A    B   C  D\n",
            "0  NaN  2.0 NaN  0\n",
            "1  3.0  4.0 NaN  1\n",
            "2  NaN  NaN NaN  5\n",
            "3  NaN  3.0 NaN  4\n",
            "\n",
            "df.isnull()\n",
            "       A      B     C      D\n",
            "0   True  False  True  False\n",
            "1  False  False  True  False\n",
            "2   True   True  True  False\n",
            "3   True  False  True  False\n",
            "\n",
            "df.isnull().any()\n",
            "A     True\n",
            "B     True\n",
            "C     True\n",
            "D    False\n",
            "dtype: bool\n",
            "\n",
            "df.isnull().any().any()\n",
            "True\n",
            "\n"
          ],
          "name": "stdout"
        }
      ]
    },
    {
      "cell_type": "markdown",
      "metadata": {
        "id": "ecK0DE5Y6cIA"
      },
      "source": [
        "### 결측치 갯수 확인"
      ]
    },
    {
      "cell_type": "code",
      "metadata": {
        "colab": {
          "base_uri": "https://localhost:8080/"
        },
        "id": "CL_tkafL4qzz",
        "outputId": "f2726fca-0077-4992-9afc-08ea965d5c3d"
      },
      "source": [
        "df = pd.DataFrame([[np.nan, 2, np.nan, 0],\n",
        "                   [3, 4, np.nan, 1],\n",
        "                   [np.nan, np.nan, np.nan, 5],\n",
        "                   [np.nan, 3, np.nan, 4]],\n",
        "                  columns=list('ABCD'))\n",
        "\n",
        "print(df)\n",
        "print()\n",
        "\n",
        "# NaN 인 곳을 True로\n",
        "print(\"df.isnull()\")\n",
        "print(df.isnull())\n",
        "print()\n",
        "\n",
        "# 컬럼 별 True 갯수\n",
        "print(\"df.isnull().sum()\")\n",
        "print(df.isnull().sum())\n",
        "print()\n",
        "\n",
        "# 전체 True 갯수\n",
        "print(\"df.isnull().sum().sum()\")\n",
        "print(df.isnull().sum().sum())\n",
        "print()\n"
      ],
      "execution_count": null,
      "outputs": [
        {
          "output_type": "stream",
          "text": [
            "     A    B   C  D\n",
            "0  NaN  2.0 NaN  0\n",
            "1  3.0  4.0 NaN  1\n",
            "2  NaN  NaN NaN  5\n",
            "3  NaN  3.0 NaN  4\n",
            "\n",
            "df.isnull()\n",
            "       A      B     C      D\n",
            "0   True  False  True  False\n",
            "1  False  False  True  False\n",
            "2   True   True  True  False\n",
            "3   True  False  True  False\n",
            "\n",
            "df.isnull().sum()\n",
            "A    3\n",
            "B    1\n",
            "C    4\n",
            "D    0\n",
            "dtype: int64\n",
            "\n",
            "df.isnull().sum().sum()\n",
            "8\n",
            "\n"
          ],
          "name": "stdout"
        }
      ]
    },
    {
      "cell_type": "markdown",
      "metadata": {
        "id": "JMuvRq207Xxy"
      },
      "source": [
        "### 각 컬럼별 결측 비율"
      ]
    },
    {
      "cell_type": "code",
      "metadata": {
        "colab": {
          "base_uri": "https://localhost:8080/"
        },
        "id": "5gvYa1j74qvS",
        "outputId": "8390ce38-1c3d-4888-e7f9-aefbb7acaf9d"
      },
      "source": [
        "df = pd.DataFrame([[np.nan, 2, np.nan, 0],\n",
        "                   [3, 4, np.nan, 1],\n",
        "                   [np.nan, np.nan, np.nan, 5],\n",
        "                   [np.nan, 3, np.nan, 4]],\n",
        "                  columns=list('ABCD'))\n",
        "\n",
        "print(df)\n",
        "print()\n",
        "\n",
        "# NaN 인 곳을 True로\n",
        "print(\"df.isnull()\")\n",
        "print(df.isnull())\n",
        "print()\n",
        "\n",
        "# 컬럼 별 True 갯수\n",
        "print(\"df.isnull().sum()\")\n",
        "print(df.isnull().sum())\n",
        "print()\n",
        "\n",
        "# 컬럼 별 결측치 비율\n",
        "print(df.isnull().sum()/(len(df))*100)\n",
        "print()\n"
      ],
      "execution_count": null,
      "outputs": [
        {
          "output_type": "stream",
          "text": [
            "     A    B   C  D\n",
            "0  NaN  2.0 NaN  0\n",
            "1  3.0  4.0 NaN  1\n",
            "2  NaN  NaN NaN  5\n",
            "3  NaN  3.0 NaN  4\n",
            "\n",
            "df.isnull()\n",
            "       A      B     C      D\n",
            "0   True  False  True  False\n",
            "1  False  False  True  False\n",
            "2   True   True  True  False\n",
            "3   True  False  True  False\n",
            "\n",
            "df.isnull().sum()\n",
            "A    3\n",
            "B    1\n",
            "C    4\n",
            "D    0\n",
            "dtype: int64\n",
            "\n",
            "A     75.0\n",
            "B     25.0\n",
            "C    100.0\n",
            "D      0.0\n",
            "dtype: float64\n",
            "\n"
          ],
          "name": "stdout"
        }
      ]
    },
    {
      "cell_type": "code",
      "metadata": {
        "id": "v-JBQdBG78rG"
      },
      "source": [
        ""
      ],
      "execution_count": null,
      "outputs": []
    },
    {
      "cell_type": "code",
      "metadata": {
        "id": "7g4h0ioE78oS"
      },
      "source": [
        ""
      ],
      "execution_count": null,
      "outputs": []
    },
    {
      "cell_type": "code",
      "metadata": {
        "id": "QZuCcOiS78iT"
      },
      "source": [
        ""
      ],
      "execution_count": null,
      "outputs": []
    },
    {
      "cell_type": "code",
      "metadata": {
        "id": "BAST44ri78fk"
      },
      "source": [
        ""
      ],
      "execution_count": null,
      "outputs": []
    },
    {
      "cell_type": "code",
      "metadata": {
        "id": "7xa2Z-HD78aK"
      },
      "source": [
        ""
      ],
      "execution_count": null,
      "outputs": []
    },
    {
      "cell_type": "code",
      "metadata": {
        "id": "-D_o465F4qpy"
      },
      "source": [
        ""
      ],
      "execution_count": null,
      "outputs": []
    },
    {
      "cell_type": "markdown",
      "metadata": {
        "id": "PYb8ku_7v3yF"
      },
      "source": [
        "## 결측치 처리\n"
      ]
    },
    {
      "cell_type": "markdown",
      "metadata": {
        "id": "JFzIqEpQ82BW"
      },
      "source": [
        "### 결측치 있는 데이터 버리기"
      ]
    },
    {
      "cell_type": "code",
      "metadata": {
        "colab": {
          "base_uri": "https://localhost:8080/"
        },
        "id": "ln_2FwVM78tq",
        "outputId": "d2881ee6-41f3-44f9-d4ba-bd6c8920c019"
      },
      "source": [
        "df = pd.DataFrame([[1, 2, 3, 0],\n",
        "                   [3, 4, 5, 1],\n",
        "                   [np.nan, np.nan, np.nan, 5],\n",
        "                   [2, 3, 1, 4]],\n",
        "                  columns=list('ABCD'))\n",
        "\n",
        "print(df)\n",
        "print()\n",
        "\n",
        "print(df.dropna())\n"
      ],
      "execution_count": null,
      "outputs": [
        {
          "output_type": "stream",
          "text": [
            "     A    B    C  D\n",
            "0  1.0  2.0  3.0  0\n",
            "1  3.0  4.0  5.0  1\n",
            "2  NaN  NaN  NaN  5\n",
            "3  2.0  3.0  1.0  4\n",
            "\n",
            "     A    B    C  D\n",
            "0  1.0  2.0  3.0  0\n",
            "1  3.0  4.0  5.0  1\n",
            "3  2.0  3.0  1.0  4\n"
          ],
          "name": "stdout"
        }
      ]
    },
    {
      "cell_type": "markdown",
      "metadata": {
        "id": "G9I3c18q9Abs"
      },
      "source": [
        "### 결측치 있는 컬럼 버리기"
      ]
    },
    {
      "cell_type": "code",
      "metadata": {
        "colab": {
          "base_uri": "https://localhost:8080/"
        },
        "id": "uJNFhfHa9C0Q",
        "outputId": "a7417284-83ae-4a20-c28c-12623da03cb4"
      },
      "source": [
        "df = pd.DataFrame([[1, 2, np.nan, 0],\n",
        "                   [3, 4, 5, 1],\n",
        "                   [3, 4, np.nan, 5],\n",
        "                   [2, 3, np.nan, 4]],\n",
        "                  columns=list('ABCD'))\n",
        "\n",
        "print(df)\n",
        "print()\n",
        "\n",
        "\n",
        "print(df.dropna(axis=1))\n"
      ],
      "execution_count": null,
      "outputs": [
        {
          "output_type": "stream",
          "text": [
            "   A  B    C  D\n",
            "0  1  2  NaN  0\n",
            "1  3  4  5.0  1\n",
            "2  3  4  NaN  5\n",
            "3  2  3  NaN  4\n",
            "\n",
            "   A  B  D\n",
            "0  1  2  0\n",
            "1  3  4  1\n",
            "2  3  4  5\n",
            "3  2  3  4\n"
          ],
          "name": "stdout"
        }
      ]
    },
    {
      "cell_type": "markdown",
      "metadata": {
        "id": "nnQLMCN1zmN0"
      },
      "source": [
        "### 특정값으로 채우기"
      ]
    },
    {
      "cell_type": "code",
      "metadata": {
        "colab": {
          "base_uri": "https://localhost:8080/"
        },
        "id": "JfBzGaP6wb9G",
        "outputId": "00e1c457-c6cc-456e-b2a2-81591963f512"
      },
      "source": [
        "df = pd.DataFrame([[np.nan, 2, np.nan, 0],\n",
        "                   [3, 4, np.nan, 1],\n",
        "                   [np.nan, np.nan, np.nan, 5],\n",
        "                   [np.nan, 3, np.nan, 4]],\n",
        "                  columns=list('ABCD'))\n",
        "\n",
        "print(df)\n",
        "print()\n",
        "\n",
        "filled_df = df.fillna(0)\n",
        "\n",
        "print(filled_df)\n"
      ],
      "execution_count": null,
      "outputs": [
        {
          "output_type": "stream",
          "text": [
            "     A    B   C  D\n",
            "0  NaN  2.0 NaN  0\n",
            "1  3.0  4.0 NaN  1\n",
            "2  NaN  NaN NaN  5\n",
            "3  NaN  3.0 NaN  4\n",
            "\n",
            "     A    B    C  D\n",
            "0  0.0  2.0  0.0  0\n",
            "1  3.0  4.0  0.0  1\n",
            "2  0.0  0.0  0.0  5\n",
            "3  0.0  3.0  0.0  4\n"
          ],
          "name": "stdout"
        }
      ]
    },
    {
      "cell_type": "markdown",
      "metadata": {
        "id": "FAMB9A6O2Nfd"
      },
      "source": [
        "### 컬럼별 특정 값으로 채우기"
      ]
    },
    {
      "cell_type": "code",
      "metadata": {
        "colab": {
          "base_uri": "https://localhost:8080/"
        },
        "id": "UG-hyVn90AS9",
        "outputId": "1a09c539-e704-4e26-89cb-38f2039ca37f"
      },
      "source": [
        "df = pd.DataFrame([[np.nan, 2, np.nan, 0],\n",
        "                   [3, 4, np.nan, 1],\n",
        "                   [np.nan, np.nan, np.nan, 5],\n",
        "                   [np.nan, 3, np.nan, 4]],\n",
        "                  columns=list('ABCD'))\n",
        "\n",
        "print(df)\n",
        "print()\n",
        "\n",
        "\n",
        "values = {'A': 0, 'B': 1, 'C': 2, 'D': 3}\n",
        "filled_df = df.fillna(value=values)\n",
        "\n",
        "print(filled_df)"
      ],
      "execution_count": null,
      "outputs": [
        {
          "output_type": "stream",
          "text": [
            "     A    B   C  D\n",
            "0  NaN  2.0 NaN  0\n",
            "1  3.0  4.0 NaN  1\n",
            "2  NaN  NaN NaN  5\n",
            "3  NaN  3.0 NaN  4\n",
            "\n",
            "     A    B    C  D\n",
            "0  0.0  2.0  2.0  0\n",
            "1  3.0  4.0  2.0  1\n",
            "2  0.0  1.0  2.0  5\n",
            "3  0.0  3.0  2.0  4\n"
          ],
          "name": "stdout"
        }
      ]
    },
    {
      "cell_type": "markdown",
      "metadata": {
        "id": "yg8VavqF1rAw"
      },
      "source": [
        "### 앞의 값으로 채우기"
      ]
    },
    {
      "cell_type": "code",
      "metadata": {
        "colab": {
          "base_uri": "https://localhost:8080/"
        },
        "id": "7_3fdE5V0AY8",
        "outputId": "ed9ddc32-0561-4eb9-b96c-fbceb3f4eb5d"
      },
      "source": [
        "df = pd.DataFrame([[np.nan, 2, np.nan, 0],\n",
        "                   [3, 4, np.nan, 1],\n",
        "                   [np.nan, np.nan, np.nan, 5],\n",
        "                   [np.nan, 3, np.nan, 4]],\n",
        "                  columns=list('ABCD'))\n",
        "\n",
        "print(df)\n",
        "print()\n",
        "\n",
        "filled_df = df.fillna(method=\"ffill\")\n",
        "\n",
        "print(filled_df)\n"
      ],
      "execution_count": null,
      "outputs": [
        {
          "output_type": "stream",
          "text": [
            "     A    B   C  D\n",
            "0  NaN  2.0 NaN  0\n",
            "1  3.0  4.0 NaN  1\n",
            "2  NaN  NaN NaN  5\n",
            "3  NaN  3.0 NaN  4\n",
            "\n",
            "     A    B   C  D\n",
            "0  NaN  2.0 NaN  0\n",
            "1  3.0  4.0 NaN  1\n",
            "2  3.0  4.0 NaN  5\n",
            "3  3.0  3.0 NaN  4\n"
          ],
          "name": "stdout"
        }
      ]
    },
    {
      "cell_type": "markdown",
      "metadata": {
        "id": "q6FAQV8g1tNX"
      },
      "source": [
        "### 뒤의 값으로 채우기"
      ]
    },
    {
      "cell_type": "code",
      "metadata": {
        "colab": {
          "base_uri": "https://localhost:8080/"
        },
        "id": "Yinoi2As1TlY",
        "outputId": "c55642ea-638a-465d-b191-2fc1150cf26f"
      },
      "source": [
        "df = pd.DataFrame([[np.nan, 2, np.nan, 0],\n",
        "                   [3, 4, np.nan, 1],\n",
        "                   [np.nan, np.nan, np.nan, 5],\n",
        "                   [np.nan, 3, np.nan, 4]],\n",
        "                  columns=list('ABCD'))\n",
        "\n",
        "print(df)\n",
        "print()\n",
        "\n",
        "filled_df = df.fillna(method=\"bfill\")\n",
        "\n",
        "print(filled_df)\n"
      ],
      "execution_count": null,
      "outputs": [
        {
          "output_type": "stream",
          "text": [
            "     A    B   C  D\n",
            "0  NaN  2.0 NaN  0\n",
            "1  3.0  4.0 NaN  1\n",
            "2  NaN  NaN NaN  5\n",
            "3  NaN  3.0 NaN  4\n",
            "\n",
            "     A    B   C  D\n",
            "0  3.0  2.0 NaN  0\n",
            "1  3.0  4.0 NaN  1\n",
            "2  NaN  3.0 NaN  5\n",
            "3  NaN  3.0 NaN  4\n"
          ],
          "name": "stdout"
        }
      ]
    },
    {
      "cell_type": "markdown",
      "metadata": {
        "id": "JQkZetsf23-k"
      },
      "source": [
        "### 컬럼 별 평균값으로 채우기"
      ]
    },
    {
      "cell_type": "code",
      "metadata": {
        "colab": {
          "base_uri": "https://localhost:8080/"
        },
        "id": "eF1Tj5tn0AN0",
        "outputId": "de8ce1e0-3277-44f5-a534-ae4d088314e9"
      },
      "source": [
        "df = pd.DataFrame([[np.nan, 2, np.nan, 0],\n",
        "                   [3, 4, np.nan, 1],\n",
        "                   [np.nan, np.nan, np.nan, 5],\n",
        "                   [np.nan, 3, np.nan, 4]],\n",
        "                  columns=list('ABCD'))\n",
        "\n",
        "print(df)\n",
        "print()\n",
        "\n",
        "print(\"df.mean()\")\n",
        "print(df.mean())\n",
        "print()\n",
        "\n",
        "filled_df = df.fillna(df.mean())\n",
        "\n",
        "print(filled_df)\n"
      ],
      "execution_count": null,
      "outputs": [
        {
          "output_type": "stream",
          "text": [
            "     A    B   C  D\n",
            "0  NaN  2.0 NaN  0\n",
            "1  3.0  4.0 NaN  1\n",
            "2  NaN  NaN NaN  5\n",
            "3  NaN  3.0 NaN  4\n",
            "\n",
            "df.mean()\n",
            "A    3.0\n",
            "B    3.0\n",
            "C    NaN\n",
            "D    2.5\n",
            "dtype: float64\n",
            "\n",
            "     A    B   C  D\n",
            "0  3.0  2.0 NaN  0\n",
            "1  3.0  4.0 NaN  1\n",
            "2  3.0  3.0 NaN  5\n",
            "3  3.0  3.0 NaN  4\n"
          ],
          "name": "stdout"
        }
      ]
    },
    {
      "cell_type": "code",
      "metadata": {
        "id": "b81XF9lS0AI5"
      },
      "source": [
        ""
      ],
      "execution_count": null,
      "outputs": []
    },
    {
      "cell_type": "code",
      "metadata": {
        "id": "vqxSuSl30AF5"
      },
      "source": [
        ""
      ],
      "execution_count": null,
      "outputs": []
    },
    {
      "cell_type": "code",
      "metadata": {
        "id": "yFY3BncB0AB6"
      },
      "source": [
        ""
      ],
      "execution_count": null,
      "outputs": []
    },
    {
      "cell_type": "code",
      "metadata": {
        "id": "q-Coxr0iz__G"
      },
      "source": [
        ""
      ],
      "execution_count": null,
      "outputs": []
    },
    {
      "cell_type": "code",
      "metadata": {
        "id": "9z4OnpMYz_60"
      },
      "source": [
        ""
      ],
      "execution_count": null,
      "outputs": []
    },
    {
      "cell_type": "code",
      "metadata": {
        "id": "jOyFKP8mz_0B"
      },
      "source": [
        ""
      ],
      "execution_count": null,
      "outputs": []
    },
    {
      "cell_type": "code",
      "metadata": {
        "id": "epuIzWzPz_t5"
      },
      "source": [
        ""
      ],
      "execution_count": null,
      "outputs": []
    },
    {
      "cell_type": "code",
      "metadata": {
        "id": "tH1Y11ERz_kC"
      },
      "source": [
        ""
      ],
      "execution_count": null,
      "outputs": []
    },
    {
      "cell_type": "code",
      "metadata": {
        "colab": {
          "base_uri": "https://localhost:8080/"
        },
        "id": "Ka26g5JasuVC",
        "outputId": "5559756b-a1e2-4de3-8196-742d12f6220d"
      },
      "source": [
        "import numpy as np\n",
        "\n",
        "df = pd.DataFrame(\n",
        "   np.random.randn(6, 1),\n",
        "   index=pd.date_range(\"2013-08-01\", periods=6, freq=\"B\"),\n",
        "   columns=list(\"A\"),\n",
        ")\n",
        "\n",
        "print(df)\n",
        "print()\n",
        "\n",
        "df.loc[df.index[3], \"A\"] = np.nan\n",
        "\n",
        "print(df)\n",
        "print()\n",
        "\n",
        "df = df.ffill()\n",
        "print(df)"
      ],
      "execution_count": null,
      "outputs": [
        {
          "output_type": "stream",
          "text": [
            "                   A\n",
            "2013-08-01  0.052441\n",
            "2013-08-02  0.187507\n",
            "2013-08-05  1.421545\n",
            "2013-08-06  0.876818\n",
            "2013-08-07  0.988105\n",
            "2013-08-08  0.292646\n",
            "\n",
            "                   A\n",
            "2013-08-01  0.052441\n",
            "2013-08-02  0.187507\n",
            "2013-08-05  1.421545\n",
            "2013-08-06       NaN\n",
            "2013-08-07  0.988105\n",
            "2013-08-08  0.292646\n",
            "\n",
            "                   A\n",
            "2013-08-01  0.052441\n",
            "2013-08-02  0.187507\n",
            "2013-08-05  1.421545\n",
            "2013-08-06  1.421545\n",
            "2013-08-07  0.988105\n",
            "2013-08-08  0.292646\n"
          ],
          "name": "stdout"
        }
      ]
    },
    {
      "cell_type": "markdown",
      "metadata": {
        "id": "qNM3ZgoH_deZ"
      },
      "source": [
        "## 정규화"
      ]
    },
    {
      "cell_type": "markdown",
      "metadata": {
        "id": "XfLouyoH_mI2"
      },
      "source": [
        "### Normalization"
      ]
    },
    {
      "cell_type": "code",
      "metadata": {
        "colab": {
          "base_uri": "https://localhost:8080/"
        },
        "id": "1BxNAmKQdd_M",
        "outputId": "70b49ad3-140a-40b0-e7b8-41cde706fbc1"
      },
      "source": [
        "df = pd.DataFrame(\n",
        "        {\"AAA\": [4, 5, 6, 7], \"BBB\": [10, 20, 35, 10], \"CCC\": [100, 50, -30, -50]}\n",
        ")\n",
        "\n",
        "print(df)\n",
        "print()\n",
        "\n",
        "df2 = (df - df.min()) / (df.max() - df.min())\n",
        "print(df2)"
      ],
      "execution_count": null,
      "outputs": [
        {
          "output_type": "stream",
          "text": [
            "   AAA  BBB  CCC\n",
            "0    4   10  100\n",
            "1    5   20   50\n",
            "2    6   35  -30\n",
            "3    7   10  -50\n",
            "\n",
            "        AAA  BBB       CCC\n",
            "0  0.000000  0.0  1.000000\n",
            "1  0.333333  0.4  0.666667\n",
            "2  0.666667  1.0  0.133333\n",
            "3  1.000000  0.0  0.000000\n"
          ],
          "name": "stdout"
        }
      ]
    },
    {
      "cell_type": "markdown",
      "metadata": {
        "id": "xYODK-Yk_pdu"
      },
      "source": [
        "### Standardization"
      ]
    },
    {
      "cell_type": "code",
      "metadata": {
        "colab": {
          "base_uri": "https://localhost:8080/"
        },
        "id": "BZNn6VkVf7YK",
        "outputId": "ad755e30-ade3-4f86-8969-e5840e39d154"
      },
      "source": [
        "df = pd.DataFrame(\n",
        "        {\"AAA\": [4, 5, 6, 7], \"BBB\": [10, 20, 35, 10], \"CCC\": [100, 50, -30, -50]}\n",
        ")\n",
        "\n",
        "print(df)\n",
        "print()\n",
        "\n",
        "df2 = (df - df.mean()) / df.std()\n",
        "print(df2)"
      ],
      "execution_count": null,
      "outputs": [
        {
          "output_type": "stream",
          "text": [
            "   AAA  BBB  CCC\n",
            "0    4   10  100\n",
            "1    5   20   50\n",
            "2    6   35  -30\n",
            "3    7   10  -50\n",
            "\n",
            "        AAA       BBB       CCC\n",
            "0 -1.161895 -0.740613  1.179575\n",
            "1 -0.387298  0.105802  0.464681\n",
            "2  0.387298  1.375424 -0.679149\n",
            "3  1.161895 -0.740613 -0.965107\n"
          ],
          "name": "stdout"
        }
      ]
    },
    {
      "cell_type": "markdown",
      "metadata": {
        "id": "L3enOD5lI1AF"
      },
      "source": [
        "### 특정 칼럼만"
      ]
    },
    {
      "cell_type": "code",
      "metadata": {
        "colab": {
          "base_uri": "https://localhost:8080/"
        },
        "id": "SUWLreM-_faa",
        "outputId": "72f5fc18-b55f-4870-c78e-d0ea58e9387c"
      },
      "source": [
        "df = pd.DataFrame(\n",
        "        {\"AAA\": [4, 5, 6, 7], \"BBB\": [10, 20, 35, 10], \"CCC\": [100, 50, -30, -50]}\n",
        ")\n",
        "\n",
        "print(df)\n",
        "print()\n",
        "\n",
        "df2 = (df - df.min()) / (df.max() - df.min())\n",
        "print(df2)\n",
        "\n",
        "target_columns = [ \"AAA\", \"BBB\" ]\n",
        "df[target_columns] = df2[target_columns]\n",
        "\n",
        "print(df)"
      ],
      "execution_count": null,
      "outputs": [
        {
          "output_type": "stream",
          "text": [
            "   AAA  BBB  CCC\n",
            "0    4   10  100\n",
            "1    5   20   50\n",
            "2    6   35  -30\n",
            "3    7   10  -50\n",
            "\n",
            "        AAA  BBB       CCC\n",
            "0  0.000000  0.0  1.000000\n",
            "1  0.333333  0.4  0.666667\n",
            "2  0.666667  1.0  0.133333\n",
            "3  1.000000  0.0  0.000000\n",
            "        AAA  BBB  CCC\n",
            "0  0.000000  0.0  100\n",
            "1  0.333333  0.4   50\n",
            "2  0.666667  1.0  -30\n",
            "3  1.000000  0.0  -50\n"
          ],
          "name": "stdout"
        }
      ]
    },
    {
      "cell_type": "code",
      "metadata": {
        "id": "0_7WJJhRsuSb"
      },
      "source": [
        ""
      ],
      "execution_count": null,
      "outputs": []
    },
    {
      "cell_type": "code",
      "metadata": {
        "id": "HI70ymZCsuPT"
      },
      "source": [
        ""
      ],
      "execution_count": null,
      "outputs": []
    },
    {
      "cell_type": "code",
      "metadata": {
        "id": "cx0sBiGRsuML"
      },
      "source": [
        ""
      ],
      "execution_count": null,
      "outputs": []
    },
    {
      "cell_type": "code",
      "metadata": {
        "id": "t3stuL18suHO"
      },
      "source": [
        ""
      ],
      "execution_count": null,
      "outputs": []
    },
    {
      "cell_type": "code",
      "metadata": {
        "id": "19PjpyUlsuES"
      },
      "source": [
        ""
      ],
      "execution_count": null,
      "outputs": []
    },
    {
      "cell_type": "code",
      "metadata": {
        "id": "peq8G6NfsuAZ"
      },
      "source": [
        ""
      ],
      "execution_count": null,
      "outputs": []
    },
    {
      "cell_type": "code",
      "metadata": {
        "id": "1s7t6BDust3Z"
      },
      "source": [
        ""
      ],
      "execution_count": null,
      "outputs": []
    },
    {
      "cell_type": "code",
      "metadata": {
        "id": "zDYn4aZPstyy"
      },
      "source": [
        ""
      ],
      "execution_count": null,
      "outputs": []
    },
    {
      "cell_type": "code",
      "metadata": {
        "id": "TsNC9RUzstiG"
      },
      "source": [
        ""
      ],
      "execution_count": null,
      "outputs": []
    },
    {
      "cell_type": "code",
      "metadata": {
        "id": "xkq9gOV0ZeBm"
      },
      "source": [
        ""
      ],
      "execution_count": null,
      "outputs": []
    },
    {
      "cell_type": "code",
      "metadata": {
        "id": "KXAEgGQMZc3G"
      },
      "source": [
        "https://pandas.pydata.org/pandas-docs/stable/user_guide/cookbook.html#missing-data"
      ],
      "execution_count": null,
      "outputs": []
    },
    {
      "cell_type": "markdown",
      "metadata": {
        "id": "9QmEZPqlA8O1"
      },
      "source": [
        "## 시각화\n",
        "\n",
        "대부분 https://pandas.pydata.org/pandas-docs/stable/user_guide/visualization.html 에서 가져왔다."
      ]
    },
    {
      "cell_type": "markdown",
      "metadata": {
        "id": "ZF4AxIdbBZpA"
      },
      "source": [
        "### Seris Plot"
      ]
    },
    {
      "cell_type": "code",
      "metadata": {
        "colab": {
          "base_uri": "https://localhost:8080/",
          "height": 277
        },
        "id": "AkU2I2qGA-v3",
        "outputId": "d4be98f0-b8f4-47e8-8f67-2f30cf16d472"
      },
      "source": [
        "ts = pd.Series(np.random.randn(1000), index=pd.date_range(\"1/1/2000\", periods=1000))\n",
        "ts = ts.cumsum()\n",
        "ts.plot();"
      ],
      "execution_count": null,
      "outputs": [
        {
          "output_type": "display_data",
          "data": {
            "image/png": "[encoded data removed]",
            "text/plain": [
              "<Figure size 432x288 with 1 Axes>"
            ]
          },
          "metadata": {
            "tags": [],
            "needs_background": "light"
          }
        }
      ]
    },
    {
      "cell_type": "markdown",
      "metadata": {
        "id": "UecC0DlhBcCQ"
      },
      "source": [
        "### DataFrame Plot"
      ]
    },
    {
      "cell_type": "code",
      "metadata": {
        "colab": {
          "base_uri": "https://localhost:8080/",
          "height": 295
        },
        "id": "JG2PnBXaBDJ0",
        "outputId": "2fede2c1-0c8a-482c-d72b-4f272d517379"
      },
      "source": [
        "import matplotlib.pyplot as plt\n",
        "\n",
        "df = pd.DataFrame(np.random.randn(1000, 4), index=ts.index, columns=list(\"ABCD\"))\n",
        "df = df.cumsum()\n",
        "plt.figure()\n",
        "df.plot();"
      ],
      "execution_count": null,
      "outputs": [
        {
          "output_type": "display_data",
          "data": {
            "text/plain": [
              "<Figure size 432x288 with 0 Axes>"
            ]
          },
          "metadata": {
            "tags": []
          }
        },
        {
          "output_type": "display_data",
          "data": {
            "image/png": "[encoded data removed]",
            "text/plain": [
              "<Figure size 432x288 with 1 Axes>"
            ]
          },
          "metadata": {
            "tags": [],
            "needs_background": "light"
          }
        }
      ]
    },
    {
      "cell_type": "markdown",
      "metadata": {
        "id": "_lyaHslHBn4D"
      },
      "source": [
        "### DataFrame의 1개 컬럼 plot"
      ]
    },
    {
      "cell_type": "code",
      "metadata": {
        "colab": {
          "base_uri": "https://localhost:8080/",
          "height": 279
        },
        "id": "QVDjDN6jBDHB",
        "outputId": "8864824a-469d-4bfb-bef1-a685fb86afee"
      },
      "source": [
        "df3 = pd.DataFrame(np.random.randn(1000, 2), columns=[\"B\", \"C\"]).cumsum()\n",
        "df3[\"A\"] = pd.Series(list(range(len(df))))\n",
        "df3.plot(x=\"A\", y=\"B\");"
      ],
      "execution_count": null,
      "outputs": [
        {
          "output_type": "display_data",
          "data": {
            "image/png": "[encoded data removed]",
            "text/plain": [
              "<Figure size 432x288 with 1 Axes>"
            ]
          },
          "metadata": {
            "tags": [],
            "needs_background": "light"
          }
        }
      ]
    },
    {
      "cell_type": "markdown",
      "metadata": {
        "id": "VSu40ACmB5lo"
      },
      "source": [
        "### bar 그래프"
      ]
    },
    {
      "cell_type": "code",
      "metadata": {
        "colab": {
          "base_uri": "https://localhost:8080/",
          "height": 263
        },
        "id": "wOfgUDr8BDEB",
        "outputId": "9b5e2ae1-dea6-4524-d888-688ba37737ca"
      },
      "source": [
        "import matplotlib.pyplot as plt\n",
        "\n",
        "df = pd.DataFrame(np.random.randn(1000, 4), index=ts.index, columns=list(\"ABCD\"))\n",
        "df = df.cumsum()\n",
        "\n",
        "plt.figure();\n",
        "df.iloc[5].plot(kind=\"bar\");"
      ],
      "execution_count": null,
      "outputs": [
        {
          "output_type": "display_data",
          "data": {
            "image/png": "[encoded data removed]",
            "text/plain": [
              "<Figure size 432x288 with 1 Axes>"
            ]
          },
          "metadata": {
            "tags": [],
            "needs_background": "light"
          }
        }
      ]
    },
    {
      "cell_type": "code",
      "metadata": {
        "colab": {
          "base_uri": "https://localhost:8080/",
          "height": 265
        },
        "id": "oRVTBFpTBDBJ",
        "outputId": "4f3cd16e-d4fd-4b88-8db8-6bb1c7ac58bf"
      },
      "source": [
        "import matplotlib.pyplot as plt\n",
        "\n",
        "df = pd.DataFrame(np.random.randn(1000, 4), index=ts.index, columns=list(\"ABCD\"))\n",
        "df = df.cumsum()\n",
        "\n",
        "plt.figure();\n",
        "df.iloc[5].plot(kind=\"hista\");"
      ],
      "execution_count": null,
      "outputs": [
        {
          "output_type": "display_data",
          "data": {
            "image/png": "[encoded data removed]",
            "text/plain": [
              "<Figure size 432x288 with 1 Axes>"
            ]
          },
          "metadata": {
            "tags": [],
            "needs_background": "light"
          }
        }
      ]
    },
    {
      "cell_type": "code",
      "metadata": {
        "id": "gCOOz203BC92"
      },
      "source": [
        ""
      ],
      "execution_count": null,
      "outputs": []
    },
    {
      "cell_type": "code",
      "metadata": {
        "id": "lgu86-2hBC6P"
      },
      "source": [
        ""
      ],
      "execution_count": null,
      "outputs": []
    },
    {
      "cell_type": "code",
      "metadata": {
        "id": "n9u2uVKtBC2x"
      },
      "source": [
        ""
      ],
      "execution_count": null,
      "outputs": []
    },
    {
      "cell_type": "code",
      "metadata": {
        "id": "90gH4dG3BCtw"
      },
      "source": [
        ""
      ],
      "execution_count": null,
      "outputs": []
    },
    {
      "cell_type": "code",
      "metadata": {
        "id": "vfUSF6aQBCiY"
      },
      "source": [
        ""
      ],
      "execution_count": null,
      "outputs": []
    },
    {
      "cell_type": "markdown",
      "metadata": {
        "id": "KGsory8vjutx"
      },
      "source": [
        "# 기타 기능들\n",
        "\n",
        "https://www.datacamp.com/community/blog/python-pandas-cheat-sheet 참조"
      ]
    },
    {
      "cell_type": "markdown",
      "metadata": {
        "id": "sFamy1a1i5Gp"
      },
      "source": [
        "## numpy로 변환"
      ]
    },
    {
      "cell_type": "code",
      "metadata": {
        "id": "Rt2wLbhRiEaT",
        "colab": {
          "base_uri": "https://localhost:8080/"
        },
        "outputId": "ed394421-1e07-45da-fcf5-31bc62943cd0"
      },
      "source": [
        "df = pd.DataFrame(\n",
        "        {\"AAA\": [4, 5, 6, 7], \"BBB\": [10, 20, 30, 40], \"CCC\": [100, 50, -30, -50]}\n",
        ")\n",
        "n = df.to_numpy()\n",
        "print(n)"
      ],
      "execution_count": null,
      "outputs": [
        {
          "output_type": "stream",
          "text": [
            "[[  4  10 100]\n",
            " [  5  20  50]\n",
            " [  6  30 -30]\n",
            " [  7  40 -50]]\n"
          ],
          "name": "stdout"
        }
      ]
    },
    {
      "cell_type": "code",
      "metadata": {
        "id": "nODR3tKojFCb"
      },
      "source": [
        ""
      ],
      "execution_count": null,
      "outputs": []
    },
    {
      "cell_type": "code",
      "metadata": {
        "id": "43gLO1ICjaa7"
      },
      "source": [
        ""
      ],
      "execution_count": null,
      "outputs": []
    },
    {
      "cell_type": "markdown",
      "metadata": {
        "id": "o6XBP5MijbCo"
      },
      "source": [
        "## 데이터 저장\n"
      ]
    },
    {
      "cell_type": "code",
      "metadata": {
        "id": "0AcNMVpCjdQQ",
        "colab": {
          "base_uri": "https://localhost:8080/",
          "height": 185
        },
        "outputId": "4bea05be-bd3f-4535-adf0-35209c415788"
      },
      "source": [
        "df.to_csv('saved.csv')\n",
        "!head -10 saved.csv"
      ],
      "execution_count": null,
      "outputs": [
        {
          "output_type": "stream",
          "text": [
            ",Season,Daynum,Wteam,Wscore,Lteam,Lscore,Wloc,Numot\n",
            "0,1985,20,1228,81,1328,64,N,0\n",
            "1,1985,25,1106,77,1354,70,H,0\n",
            "2,1985,25,1112,63,1223,56,H,0\n",
            "3,1985,25,1165,70,1432,54,H,0\n",
            "4,1985,25,1192,86,1447,74,H,0\n",
            "5,1985,25,1218,79,1337,78,H,0\n",
            "6,1985,25,1228,64,1226,44,N,0\n",
            "7,1985,25,1242,58,1268,56,N,0\n",
            "8,1985,25,1260,98,1133,80,H,0\n"
          ],
          "name": "stdout"
        }
      ]
    },
    {
      "cell_type": "markdown",
      "metadata": {
        "id": "liVCABFKkAM0"
      },
      "source": [
        "##  엑셀 파일 읽기/쓰기"
      ]
    },
    {
      "cell_type": "code",
      "metadata": {
        "id": "0W1IxT0okD5R",
        "colab": {
          "base_uri": "https://localhost:8080/",
          "height": 202
        },
        "outputId": "471e8afb-3cf9-4809-833e-30187245d967"
      },
      "source": [
        "df.to_excel(\"saved.xlsx\")\n",
        "!ls -al "
      ],
      "execution_count": null,
      "outputs": [
        {
          "output_type": "stream",
          "text": [
            "total 14540\n",
            "drwxr-xr-x 1 root root    4096 Jul 16 16:15 .\n",
            "drwxr-xr-x 1 root root    4096 Jul 16 09:17 ..\n",
            "drwxr-xr-x 1 root root    4096 Jul 11 16:05 .config\n",
            "-rw-r--r-- 1 root root     150 Jul 16 12:16 data1.csv\n",
            "-rw-r--r-- 1 root root      18 Jul 16 12:25 data2.csv\n",
            "-rw-r--r-- 1 root root 4115852 Jul 16 15:39 RegularSeasonCompactResults.csv\n",
            "drwxr-xr-x 1 root root    4096 Jul  3 16:14 sample_data\n",
            "drwxr-xr-x 6 root root    4096 Jul 16 09:32 samplemod\n",
            "-rw-r--r-- 1 root root 5021766 Jul 16 16:12 saved.csv\n",
            "-rw-r--r-- 1 root root 5715985 Jul 16 16:15 saved.xlsx\n"
          ],
          "name": "stdout"
        }
      ]
    },
    {
      "cell_type": "code",
      "metadata": {
        "id": "m-BqpbwqkKzX"
      },
      "source": [
        "xlsx = pd.ExcelFile('saved.xlsx')\n",
        "df2 = pd.read_excel(xlsx)"
      ],
      "execution_count": null,
      "outputs": []
    },
    {
      "cell_type": "code",
      "metadata": {
        "id": "3znoNI5KkWZ5",
        "colab": {
          "base_uri": "https://localhost:8080/",
          "height": 195
        },
        "outputId": "914100b5-0e54-4114-cc64-c83b37a221c2"
      },
      "source": [
        "df2.head()"
      ],
      "execution_count": null,
      "outputs": [
        {
          "output_type": "execute_result",
          "data": {
            "text/html": [
              "<div>\n",
              "<style scoped>\n",
              "    .dataframe tbody tr th:only-of-type {\n",
              "        vertical-align: middle;\n",
              "    }\n",
              "\n",
              "    .dataframe tbody tr th {\n",
              "        vertical-align: top;\n",
              "    }\n",
              "\n",
              "    .dataframe thead th {\n",
              "        text-align: right;\n",
              "    }\n",
              "</style>\n",
              "<table border=\"1\" class=\"dataframe\">\n",
              "  <thead>\n",
              "    <tr style=\"text-align: right;\">\n",
              "      <th></th>\n",
              "      <th>Unnamed: 0</th>\n",
              "      <th>Season</th>\n",
              "      <th>Daynum</th>\n",
              "      <th>Wteam</th>\n",
              "      <th>Wscore</th>\n",
              "      <th>Lteam</th>\n",
              "      <th>Lscore</th>\n",
              "      <th>Wloc</th>\n",
              "      <th>Numot</th>\n",
              "    </tr>\n",
              "  </thead>\n",
              "  <tbody>\n",
              "    <tr>\n",
              "      <th>0</th>\n",
              "      <td>0</td>\n",
              "      <td>1985</td>\n",
              "      <td>20</td>\n",
              "      <td>1228</td>\n",
              "      <td>81</td>\n",
              "      <td>1328</td>\n",
              "      <td>64</td>\n",
              "      <td>N</td>\n",
              "      <td>0</td>\n",
              "    </tr>\n",
              "    <tr>\n",
              "      <th>1</th>\n",
              "      <td>1</td>\n",
              "      <td>1985</td>\n",
              "      <td>25</td>\n",
              "      <td>1106</td>\n",
              "      <td>77</td>\n",
              "      <td>1354</td>\n",
              "      <td>70</td>\n",
              "      <td>H</td>\n",
              "      <td>0</td>\n",
              "    </tr>\n",
              "    <tr>\n",
              "      <th>2</th>\n",
              "      <td>2</td>\n",
              "      <td>1985</td>\n",
              "      <td>25</td>\n",
              "      <td>1112</td>\n",
              "      <td>63</td>\n",
              "      <td>1223</td>\n",
              "      <td>56</td>\n",
              "      <td>H</td>\n",
              "      <td>0</td>\n",
              "    </tr>\n",
              "    <tr>\n",
              "      <th>3</th>\n",
              "      <td>3</td>\n",
              "      <td>1985</td>\n",
              "      <td>25</td>\n",
              "      <td>1165</td>\n",
              "      <td>70</td>\n",
              "      <td>1432</td>\n",
              "      <td>54</td>\n",
              "      <td>H</td>\n",
              "      <td>0</td>\n",
              "    </tr>\n",
              "    <tr>\n",
              "      <th>4</th>\n",
              "      <td>4</td>\n",
              "      <td>1985</td>\n",
              "      <td>25</td>\n",
              "      <td>1192</td>\n",
              "      <td>86</td>\n",
              "      <td>1447</td>\n",
              "      <td>74</td>\n",
              "      <td>H</td>\n",
              "      <td>0</td>\n",
              "    </tr>\n",
              "  </tbody>\n",
              "</table>\n",
              "</div>"
            ],
            "text/plain": [
              "   Unnamed: 0  Season  Daynum  Wteam  Wscore  Lteam  Lscore Wloc  Numot\n",
              "0           0    1985      20   1228      81   1328      64    N      0\n",
              "1           1    1985      25   1106      77   1354      70    H      0\n",
              "2           2    1985      25   1112      63   1223      56    H      0\n",
              "3           3    1985      25   1165      70   1432      54    H      0\n",
              "4           4    1985      25   1192      86   1447      74    H      0"
            ]
          },
          "metadata": {
            "tags": []
          },
          "execution_count": 67
        }
      ]
    },
    {
      "cell_type": "code",
      "metadata": {
        "id": "s1eC2SURkXOR"
      },
      "source": [
        ""
      ],
      "execution_count": null,
      "outputs": []
    }
  ]
}