{
  "nbformat": 4,
  "nbformat_minor": 0,
  "metadata": {
    "colab": {
      "name": "python_practice.ipynb",
      "version": "0.3.2",
      "provenance": [],
      "collapsed_sections": []
    },
    "kernelspec": {
      "name": "python3",
      "display_name": "Python 3"
    }
  },
  "cells": [
    {
      "cell_type": "code",
      "metadata": {
        "id": "9EYpp_L9NjSD",
        "colab_type": "code",
        "outputId": "a7e62a60-7018-462e-89ba-5f665d58e0d0",
        "colab": {
          "base_uri": "https://localhost:8080/",
          "height": 34
        }
      },
      "source": [
        "print(\"hello\")"
      ],
      "execution_count": 0,
      "outputs": [
        {
          "output_type": "stream",
          "text": [
            "hello\n"
          ],
          "name": "stdout"
        }
      ]
    },
    {
      "cell_type": "code",
      "metadata": {
        "id": "fIBlG2veNzmn",
        "colab_type": "code",
        "colab": {}
      },
      "source": [
        ""
      ],
      "execution_count": 0,
      "outputs": []
    },
    {
      "cell_type": "code",
      "metadata": {
        "id": "p9UD0XwOTnsl",
        "colab_type": "code",
        "outputId": "5a7a9e7d-9756-400b-e5a3-735561a711c1",
        "colab": {
          "base_uri": "https://localhost:8080/",
          "height": 34
        }
      },
      "source": [
        "!pip install numpy"
      ],
      "execution_count": 0,
      "outputs": [
        {
          "output_type": "stream",
          "text": [
            "Requirement already satisfied: numpy in /usr/local/lib/python3.6/dist-packages (1.16.4)\n"
          ],
          "name": "stdout"
        }
      ]
    },
    {
      "cell_type": "code",
      "metadata": {
        "id": "ReBZxj3WTtYH",
        "colab_type": "code",
        "colab": {}
      },
      "source": [
        "import numpy"
      ],
      "execution_count": 0,
      "outputs": []
    },
    {
      "cell_type": "code",
      "metadata": {
        "id": "vlqNcjwfUFjs",
        "colab_type": "code",
        "outputId": "c1e8f8cd-ce47-4a3f-9945-f0c97206cc88",
        "colab": {
          "base_uri": "https://localhost:8080/",
          "height": 104
        }
      },
      "source": [
        "!ls -al"
      ],
      "execution_count": 0,
      "outputs": [
        {
          "output_type": "stream",
          "text": [
            "total 16\n",
            "drwxr-xr-x 1 root root 4096 Jul  3 16:14 .\n",
            "drwxr-xr-x 1 root root 4096 Jul 15 01:43 ..\n",
            "drwxr-xr-x 1 root root 4096 Jul 11 16:05 .config\n",
            "drwxr-xr-x 1 root root 4096 Jul  3 16:14 sample_data\n"
          ],
          "name": "stdout"
        }
      ]
    },
    {
      "cell_type": "code",
      "metadata": {
        "id": "gV1j3KjIUGHg",
        "colab_type": "code",
        "outputId": "b28c4ce6-24b2-46f7-8c38-353cf12c544b",
        "colab": {
          "base_uri": "https://localhost:8080/",
          "height": 69
        }
      },
      "source": [
        "print(1!=1)\n",
        "\n",
        "result = (1==1)\n",
        "print(result)\n",
        "\n",
        "result = False\n",
        "print(result)"
      ],
      "execution_count": 0,
      "outputs": [
        {
          "output_type": "stream",
          "text": [
            "False\n",
            "True\n",
            "False\n"
          ],
          "name": "stdout"
        }
      ]
    },
    {
      "cell_type": "code",
      "metadata": {
        "id": "HvWOIXrWd4T5",
        "colab_type": "code",
        "outputId": "b3f1176b-7fd6-4015-fd41-34eb0965a336",
        "colab": {
          "base_uri": "https://localhost:8080/",
          "height": 69
        }
      },
      "source": [
        "a = 1\n",
        "print(a)\n",
        "\n",
        "a += 1\n",
        "print(a)\n",
        "\n",
        "a += 1\n",
        "print(a)"
      ],
      "execution_count": 0,
      "outputs": [
        {
          "output_type": "stream",
          "text": [
            "1\n",
            "2\n",
            "3\n"
          ],
          "name": "stdout"
        }
      ]
    },
    {
      "cell_type": "code",
      "metadata": {
        "id": "jZK8bjXhecRn",
        "colab_type": "code",
        "outputId": "e0518d97-eb53-4dcf-81de-92b920fac83a",
        "colab": {
          "base_uri": "https://localhost:8080/",
          "height": 34
        }
      },
      "source": [
        "temp = 30\n",
        "if temp<10:\n",
        "  print(\"cold\")\n",
        "else:\n",
        "  print(\"hot\")"
      ],
      "execution_count": 0,
      "outputs": [
        {
          "output_type": "stream",
          "text": [
            "hot\n"
          ],
          "name": "stdout"
        }
      ]
    },
    {
      "cell_type": "code",
      "metadata": {
        "id": "Im4bwmXbimUQ",
        "colab_type": "code",
        "outputId": "2454088a-e4cc-47f5-b809-48528403bfbd",
        "colab": {
          "base_uri": "https://localhost:8080/",
          "height": 52
        }
      },
      "source": [
        "l = [1,3,5,7,9]\n",
        "print(l)\n",
        "\n",
        "if not 3 in l:\n",
        "  print(\"not exist\")\n",
        "else:\n",
        "  print(\"exist\")\n",
        "\n"
      ],
      "execution_count": 0,
      "outputs": [
        {
          "output_type": "stream",
          "text": [
            "[1, 3, 5, 7, 9]\n",
            "exist\n"
          ],
          "name": "stdout"
        }
      ]
    },
    {
      "cell_type": "code",
      "metadata": {
        "id": "mDThlZ8Sj4Os",
        "colab_type": "code",
        "outputId": "bd185b74-2ed2-4736-e96e-849f6ed1d6c5",
        "colab": {
          "base_uri": "https://localhost:8080/",
          "height": 52
        }
      },
      "source": [
        "colors = [ \"red\", \"blue\", \"green\", \"black\", \"blue\" ]\n",
        "print(colors)\n",
        "\n",
        "colors1 = colors[:2]\n",
        "colors2 = colors[2:4]\n",
        "colors3 = colors[4:]\n",
        "\n",
        "all_colors = colors1 + colors2 + colors3\n",
        "print(all_colors)"
      ],
      "execution_count": 0,
      "outputs": [
        {
          "output_type": "stream",
          "text": [
            "['red', 'blue', 'green', 'black', 'blue']\n",
            "['red', 'blue', 'green', 'black', 'blue']\n"
          ],
          "name": "stdout"
        }
      ]
    },
    {
      "cell_type": "code",
      "metadata": {
        "id": "YxlmVi3Rj7AL",
        "colab_type": "code",
        "outputId": "eccf5f15-5128-4685-a15a-d73fb4c0ae86",
        "colab": {
          "base_uri": "https://localhost:8080/",
          "height": 69
        }
      },
      "source": [
        "numbers = [1,2,3]\n",
        "print(numbers[0]*4)\n",
        "print(numbers*4)\n",
        "string = \"hi\"\n",
        "print(string*4)"
      ],
      "execution_count": 0,
      "outputs": [
        {
          "output_type": "stream",
          "text": [
            "4\n",
            "[1, 2, 3, 1, 2, 3, 1, 2, 3, 1, 2, 3]\n",
            "hihihihi\n"
          ],
          "name": "stdout"
        }
      ]
    },
    {
      "cell_type": "code",
      "metadata": {
        "id": "J4f8QmiwlTEp",
        "colab_type": "code",
        "outputId": "8f0290ab-4d39-48d1-954a-8aa63dc9ba4f",
        "colab": {
          "base_uri": "https://localhost:8080/",
          "height": 107
        }
      },
      "source": [
        "l = [1,2,3,4]\n",
        "\n",
        "print(colors)\n",
        "colors.append(\"white\")\n",
        "print(colors)\n",
        "print(type(colors))\n",
        "print(dir(type(colors)))"
      ],
      "execution_count": 0,
      "outputs": [
        {
          "output_type": "stream",
          "text": [
            "['red', 'blue', 'green', 'black', 'blue', 'white', 'white', 'white']\n",
            "['red', 'blue', 'green', 'black', 'blue', 'white', 'white', 'white', 'white']\n",
            "<class 'list'>\n",
            "['__add__', '__class__', '__contains__', '__delattr__', '__delitem__', '__dir__', '__doc__', '__eq__', '__format__', '__ge__', '__getattribute__', '__getitem__', '__gt__', '__hash__', '__iadd__', '__imul__', '__init__', '__init_subclass__', '__iter__', '__le__', '__len__', '__lt__', '__mul__', '__ne__', '__new__', '__reduce__', '__reduce_ex__', '__repr__', '__reversed__', '__rmul__', '__setattr__', '__setitem__', '__sizeof__', '__str__', '__subclasshook__', 'append', 'clear', 'copy', 'count', 'extend', 'index', 'insert', 'pop', 'remove', 'reverse', 'sort']\n"
          ],
          "name": "stdout"
        }
      ]
    },
    {
      "cell_type": "code",
      "metadata": {
        "id": "4ncs8NZknFNS",
        "colab_type": "code",
        "outputId": "e224a5e6-dc7a-40bf-b34e-5240e8a13478",
        "colab": {
          "base_uri": "https://localhost:8080/",
          "height": 52
        }
      },
      "source": [
        "l = [1,2,3,4,5]\n",
        "print(l)\n",
        "l.insert(3,99)\n",
        "print(l)"
      ],
      "execution_count": 0,
      "outputs": [
        {
          "output_type": "stream",
          "text": [
            "[1, 2, 3, 4, 5]\n",
            "[1, 2, 3, 99, 4, 5]\n"
          ],
          "name": "stdout"
        }
      ]
    },
    {
      "cell_type": "code",
      "metadata": {
        "id": "T-JKZD_LnofN",
        "colab_type": "code",
        "outputId": "d3261164-96b0-4b81-c672-f689ead7eb88",
        "colab": {
          "base_uri": "https://localhost:8080/",
          "height": 34
        }
      },
      "source": [
        "l[3] = 0\n",
        "print(l)"
      ],
      "execution_count": 0,
      "outputs": [
        {
          "output_type": "stream",
          "text": [
            "[1, 2, 3, 0, 4, 5]\n"
          ],
          "name": "stdout"
        }
      ]
    },
    {
      "cell_type": "code",
      "metadata": {
        "id": "fqFzETWwnw7i",
        "colab_type": "code",
        "outputId": "83a0fdf4-45f5-4105-f7fb-1de5556a43b3",
        "colab": {
          "base_uri": "https://localhost:8080/",
          "height": 256
        }
      },
      "source": [
        "l = [1,2,3,4,5]\n",
        "print(l)\n",
        "l.remove(3)\n",
        "print(l)\n",
        "l.remove(3)\n",
        "print(l)"
      ],
      "execution_count": 0,
      "outputs": [
        {
          "output_type": "stream",
          "text": [
            "[1, 2, 3, 4, 5]\n",
            "[1, 2, 4, 5]\n"
          ],
          "name": "stdout"
        },
        {
          "output_type": "error",
          "ename": "ValueError",
          "evalue": "ignored",
          "traceback": [
            "\u001b[0;31m---------------------------------------------------------------------------\u001b[0m",
            "\u001b[0;31mValueError\u001b[0m                                Traceback (most recent call last)",
            "\u001b[0;32m<ipython-input-36-e6eab3311adb>\u001b[0m in \u001b[0;36m<module>\u001b[0;34m()\u001b[0m\n\u001b[1;32m      3\u001b[0m \u001b[0ml\u001b[0m\u001b[0;34m.\u001b[0m\u001b[0mremove\u001b[0m\u001b[0;34m(\u001b[0m\u001b[0;36m3\u001b[0m\u001b[0;34m)\u001b[0m\u001b[0;34m\u001b[0m\u001b[0;34m\u001b[0m\u001b[0m\n\u001b[1;32m      4\u001b[0m \u001b[0mprint\u001b[0m\u001b[0;34m(\u001b[0m\u001b[0ml\u001b[0m\u001b[0;34m)\u001b[0m\u001b[0;34m\u001b[0m\u001b[0;34m\u001b[0m\u001b[0m\n\u001b[0;32m----> 5\u001b[0;31m \u001b[0ml\u001b[0m\u001b[0;34m.\u001b[0m\u001b[0mremove\u001b[0m\u001b[0;34m(\u001b[0m\u001b[0;36m3\u001b[0m\u001b[0;34m)\u001b[0m\u001b[0;34m\u001b[0m\u001b[0;34m\u001b[0m\u001b[0m\n\u001b[0m\u001b[1;32m      6\u001b[0m \u001b[0mprint\u001b[0m\u001b[0;34m(\u001b[0m\u001b[0ml\u001b[0m\u001b[0;34m)\u001b[0m\u001b[0;34m\u001b[0m\u001b[0;34m\u001b[0m\u001b[0m\n",
            "\u001b[0;31mValueError\u001b[0m: list.remove(x): x not in list"
          ]
        }
      ]
    },
    {
      "cell_type": "code",
      "metadata": {
        "id": "RKgIait5oFc_",
        "colab_type": "code",
        "outputId": "640551d1-0cc5-44a9-9ec7-9a1532ebcc92",
        "colab": {
          "base_uri": "https://localhost:8080/",
          "height": 69
        }
      },
      "source": [
        "l = [1,2,3,4,5]\n",
        "print(l)\n",
        "l.pop(3)\n",
        "print(l)\n",
        "l.pop(3)\n",
        "print(l)"
      ],
      "execution_count": 0,
      "outputs": [
        {
          "output_type": "stream",
          "text": [
            "[1, 2, 3, 4, 5]\n",
            "[1, 2, 3, 5]\n",
            "[1, 2, 3]\n"
          ],
          "name": "stdout"
        }
      ]
    },
    {
      "cell_type": "code",
      "metadata": {
        "id": "QjiDQxIBoaoF",
        "colab_type": "code",
        "outputId": "03e3f026-b076-46b3-bda1-a60dc45ecff4",
        "colab": {
          "base_uri": "https://localhost:8080/",
          "height": 34
        }
      },
      "source": [
        "l = \"abcde\"\n",
        "print(l.index(\"c\"))"
      ],
      "execution_count": 0,
      "outputs": [
        {
          "output_type": "stream",
          "text": [
            "2\n"
          ],
          "name": "stdout"
        }
      ]
    },
    {
      "cell_type": "code",
      "metadata": {
        "id": "DUpM_sOTooVw",
        "colab_type": "code",
        "outputId": "bf0d53e5-f6ff-44a6-a701-fa9b1500512d",
        "colab": {
          "base_uri": "https://localhost:8080/",
          "height": 34
        }
      },
      "source": [
        "l = [\"a\",\"b\",\"c\",\"d\",\"e\"]\n",
        "l.reverse()\n",
        "print(l)"
      ],
      "execution_count": 0,
      "outputs": [
        {
          "output_type": "stream",
          "text": [
            "['e', 'd', 'c', 'b', 'a']\n"
          ],
          "name": "stdout"
        }
      ]
    },
    {
      "cell_type": "code",
      "metadata": {
        "id": "E7AD7hw4obz5",
        "colab_type": "code",
        "outputId": "5e101da0-12e8-42ff-c15c-94cfb310b591",
        "colab": {
          "base_uri": "https://localhost:8080/",
          "height": 70
        }
      },
      "source": [
        "new_dict = { }\n",
        "print(new_dict)\n",
        "\n",
        "color = { \"col1\": \"red\", \"col2\":\"gree\", \"col3\":\"orange\" }\n",
        "print(color)\n",
        "\n",
        "print(color[\"col1\"])"
      ],
      "execution_count": 0,
      "outputs": [
        {
          "output_type": "stream",
          "text": [
            "{}\n",
            "{'col1': 'red', 'col2': 'gree', 'col3': 'orange'}\n",
            "red\n"
          ],
          "name": "stdout"
        }
      ]
    },
    {
      "cell_type": "code",
      "metadata": {
        "id": "ExjXbAc36hR2",
        "colab_type": "code",
        "outputId": "8aa7bb11-cdbe-4429-8951-5410f5601958",
        "colab": {
          "base_uri": "https://localhost:8080/",
          "height": 123
        }
      },
      "source": [
        "dict = {1:20.5, 2:3.03, 3:23.22, 4:33.12, \"a\":1}\n",
        "print(dict[1])\n",
        "print(dict[3])\n",
        "print(dict[\"a\"])\n",
        "\n",
        "dict[5] = \"new\"\n",
        "print(dict[5])\n",
        "\n",
        "dict[\"b\"] = 2\n",
        "print(dict[\"b\"])\n",
        "\n",
        "print(dict)"
      ],
      "execution_count": 0,
      "outputs": [
        {
          "output_type": "stream",
          "text": [
            "20.5\n",
            "23.22\n",
            "1\n",
            "new\n",
            "2\n",
            "{1: 20.5, 2: 3.03, 3: 23.22, 4: 33.12, 'a': 1, 5: 'new', 'b': 2}\n"
          ],
          "name": "stdout"
        }
      ]
    },
    {
      "cell_type": "code",
      "metadata": {
        "id": "NwXpabeq826d",
        "colab_type": "code",
        "outputId": "de6f275d-5aa7-424e-99bf-c766170a30ae",
        "colab": {
          "base_uri": "https://localhost:8080/",
          "height": 52
        }
      },
      "source": [
        "l = [1,2,3,4,\"a\",\"b\"]\n",
        "print(l[0])\n",
        "print(l[-1])"
      ],
      "execution_count": 0,
      "outputs": [
        {
          "output_type": "stream",
          "text": [
            "1\n",
            "b\n"
          ],
          "name": "stdout"
        }
      ]
    },
    {
      "cell_type": "code",
      "metadata": {
        "id": "dJtm25Rl9qCv",
        "colab_type": "code",
        "outputId": "c67594c1-0a99-40b2-f6ce-0699d4a3971e",
        "colab": {
          "base_uri": "https://localhost:8080/",
          "height": 1000
        }
      },
      "source": [
        "for i in range(0,1000):\n",
        "  print(i*2)\n",
        "\n"
      ],
      "execution_count": 0,
      "outputs": [
        {
          "output_type": "stream",
          "text": [
            "0\n",
            "2\n",
            "4\n",
            "6\n",
            "8\n",
            "10\n",
            "12\n",
            "14\n",
            "16\n",
            "18\n",
            "20\n",
            "22\n",
            "24\n",
            "26\n",
            "28\n",
            "30\n",
            "32\n",
            "34\n",
            "36\n",
            "38\n",
            "40\n",
            "42\n",
            "44\n",
            "46\n",
            "48\n",
            "50\n",
            "52\n",
            "54\n",
            "56\n",
            "58\n",
            "60\n",
            "62\n",
            "64\n",
            "66\n",
            "68\n",
            "70\n",
            "72\n",
            "74\n",
            "76\n",
            "78\n",
            "80\n",
            "82\n",
            "84\n",
            "86\n",
            "88\n",
            "90\n",
            "92\n",
            "94\n",
            "96\n",
            "98\n",
            "100\n",
            "102\n",
            "104\n",
            "106\n",
            "108\n",
            "110\n",
            "112\n",
            "114\n",
            "116\n",
            "118\n",
            "120\n",
            "122\n",
            "124\n",
            "126\n",
            "128\n",
            "130\n",
            "132\n",
            "134\n",
            "136\n",
            "138\n",
            "140\n",
            "142\n",
            "144\n",
            "146\n",
            "148\n",
            "150\n",
            "152\n",
            "154\n",
            "156\n",
            "158\n",
            "160\n",
            "162\n",
            "164\n",
            "166\n",
            "168\n",
            "170\n",
            "172\n",
            "174\n",
            "176\n",
            "178\n",
            "180\n",
            "182\n",
            "184\n",
            "186\n",
            "188\n",
            "190\n",
            "192\n",
            "194\n",
            "196\n",
            "198\n",
            "200\n",
            "202\n",
            "204\n",
            "206\n",
            "208\n",
            "210\n",
            "212\n",
            "214\n",
            "216\n",
            "218\n",
            "220\n",
            "222\n",
            "224\n",
            "226\n",
            "228\n",
            "230\n",
            "232\n",
            "234\n",
            "236\n",
            "238\n",
            "240\n",
            "242\n",
            "244\n",
            "246\n",
            "248\n",
            "250\n",
            "252\n",
            "254\n",
            "256\n",
            "258\n",
            "260\n",
            "262\n",
            "264\n",
            "266\n",
            "268\n",
            "270\n",
            "272\n",
            "274\n",
            "276\n",
            "278\n",
            "280\n",
            "282\n",
            "284\n",
            "286\n",
            "288\n",
            "290\n",
            "292\n",
            "294\n",
            "296\n",
            "298\n",
            "300\n",
            "302\n",
            "304\n",
            "306\n",
            "308\n",
            "310\n",
            "312\n",
            "314\n",
            "316\n",
            "318\n",
            "320\n",
            "322\n",
            "324\n",
            "326\n",
            "328\n",
            "330\n",
            "332\n",
            "334\n",
            "336\n",
            "338\n",
            "340\n",
            "342\n",
            "344\n",
            "346\n",
            "348\n",
            "350\n",
            "352\n",
            "354\n",
            "356\n",
            "358\n",
            "360\n",
            "362\n",
            "364\n",
            "366\n",
            "368\n",
            "370\n",
            "372\n",
            "374\n",
            "376\n",
            "378\n",
            "380\n",
            "382\n",
            "384\n",
            "386\n",
            "388\n",
            "390\n",
            "392\n",
            "394\n",
            "396\n",
            "398\n",
            "400\n",
            "402\n",
            "404\n",
            "406\n",
            "408\n",
            "410\n",
            "412\n",
            "414\n",
            "416\n",
            "418\n",
            "420\n",
            "422\n",
            "424\n",
            "426\n",
            "428\n",
            "430\n",
            "432\n",
            "434\n",
            "436\n",
            "438\n",
            "440\n",
            "442\n",
            "444\n",
            "446\n",
            "448\n",
            "450\n",
            "452\n",
            "454\n",
            "456\n",
            "458\n",
            "460\n",
            "462\n",
            "464\n",
            "466\n",
            "468\n",
            "470\n",
            "472\n",
            "474\n",
            "476\n",
            "478\n",
            "480\n",
            "482\n",
            "484\n",
            "486\n",
            "488\n",
            "490\n",
            "492\n",
            "494\n",
            "496\n",
            "498\n",
            "500\n",
            "502\n",
            "504\n",
            "506\n",
            "508\n",
            "510\n",
            "512\n",
            "514\n",
            "516\n",
            "518\n",
            "520\n",
            "522\n",
            "524\n",
            "526\n",
            "528\n",
            "530\n",
            "532\n",
            "534\n",
            "536\n",
            "538\n",
            "540\n",
            "542\n",
            "544\n",
            "546\n",
            "548\n",
            "550\n",
            "552\n",
            "554\n",
            "556\n",
            "558\n",
            "560\n",
            "562\n",
            "564\n",
            "566\n",
            "568\n",
            "570\n",
            "572\n",
            "574\n",
            "576\n",
            "578\n",
            "580\n",
            "582\n",
            "584\n",
            "586\n",
            "588\n",
            "590\n",
            "592\n",
            "594\n",
            "596\n",
            "598\n",
            "600\n",
            "602\n",
            "604\n",
            "606\n",
            "608\n",
            "610\n",
            "612\n",
            "614\n",
            "616\n",
            "618\n",
            "620\n",
            "622\n",
            "624\n",
            "626\n",
            "628\n",
            "630\n",
            "632\n",
            "634\n",
            "636\n",
            "638\n",
            "640\n",
            "642\n",
            "644\n",
            "646\n",
            "648\n",
            "650\n",
            "652\n",
            "654\n",
            "656\n",
            "658\n",
            "660\n",
            "662\n",
            "664\n",
            "666\n",
            "668\n",
            "670\n",
            "672\n",
            "674\n",
            "676\n",
            "678\n",
            "680\n",
            "682\n",
            "684\n",
            "686\n",
            "688\n",
            "690\n",
            "692\n",
            "694\n",
            "696\n",
            "698\n",
            "700\n",
            "702\n",
            "704\n",
            "706\n",
            "708\n",
            "710\n",
            "712\n",
            "714\n",
            "716\n",
            "718\n",
            "720\n",
            "722\n",
            "724\n",
            "726\n",
            "728\n",
            "730\n",
            "732\n",
            "734\n",
            "736\n",
            "738\n",
            "740\n",
            "742\n",
            "744\n",
            "746\n",
            "748\n",
            "750\n",
            "752\n",
            "754\n",
            "756\n",
            "758\n",
            "760\n",
            "762\n",
            "764\n",
            "766\n",
            "768\n",
            "770\n",
            "772\n",
            "774\n",
            "776\n",
            "778\n",
            "780\n",
            "782\n",
            "784\n",
            "786\n",
            "788\n",
            "790\n",
            "792\n",
            "794\n",
            "796\n",
            "798\n",
            "800\n",
            "802\n",
            "804\n",
            "806\n",
            "808\n",
            "810\n",
            "812\n",
            "814\n",
            "816\n",
            "818\n",
            "820\n",
            "822\n",
            "824\n",
            "826\n",
            "828\n",
            "830\n",
            "832\n",
            "834\n",
            "836\n",
            "838\n",
            "840\n",
            "842\n",
            "844\n",
            "846\n",
            "848\n",
            "850\n",
            "852\n",
            "854\n",
            "856\n",
            "858\n",
            "860\n",
            "862\n",
            "864\n",
            "866\n",
            "868\n",
            "870\n",
            "872\n",
            "874\n",
            "876\n",
            "878\n",
            "880\n",
            "882\n",
            "884\n",
            "886\n",
            "888\n",
            "890\n",
            "892\n",
            "894\n",
            "896\n",
            "898\n",
            "900\n",
            "902\n",
            "904\n",
            "906\n",
            "908\n",
            "910\n",
            "912\n",
            "914\n",
            "916\n",
            "918\n",
            "920\n",
            "922\n",
            "924\n",
            "926\n",
            "928\n",
            "930\n",
            "932\n",
            "934\n",
            "936\n",
            "938\n",
            "940\n",
            "942\n",
            "944\n",
            "946\n",
            "948\n",
            "950\n",
            "952\n",
            "954\n",
            "956\n",
            "958\n",
            "960\n",
            "962\n",
            "964\n",
            "966\n",
            "968\n",
            "970\n",
            "972\n",
            "974\n",
            "976\n",
            "978\n",
            "980\n",
            "982\n",
            "984\n",
            "986\n",
            "988\n",
            "990\n",
            "992\n",
            "994\n",
            "996\n",
            "998\n",
            "1000\n",
            "1002\n",
            "1004\n",
            "1006\n",
            "1008\n",
            "1010\n",
            "1012\n",
            "1014\n",
            "1016\n",
            "1018\n",
            "1020\n",
            "1022\n",
            "1024\n",
            "1026\n",
            "1028\n",
            "1030\n",
            "1032\n",
            "1034\n",
            "1036\n",
            "1038\n",
            "1040\n",
            "1042\n",
            "1044\n",
            "1046\n",
            "1048\n",
            "1050\n",
            "1052\n",
            "1054\n",
            "1056\n",
            "1058\n",
            "1060\n",
            "1062\n",
            "1064\n",
            "1066\n",
            "1068\n",
            "1070\n",
            "1072\n",
            "1074\n",
            "1076\n",
            "1078\n",
            "1080\n",
            "1082\n",
            "1084\n",
            "1086\n",
            "1088\n",
            "1090\n",
            "1092\n",
            "1094\n",
            "1096\n",
            "1098\n",
            "1100\n",
            "1102\n",
            "1104\n",
            "1106\n",
            "1108\n",
            "1110\n",
            "1112\n",
            "1114\n",
            "1116\n",
            "1118\n",
            "1120\n",
            "1122\n",
            "1124\n",
            "1126\n",
            "1128\n",
            "1130\n",
            "1132\n",
            "1134\n",
            "1136\n",
            "1138\n",
            "1140\n",
            "1142\n",
            "1144\n",
            "1146\n",
            "1148\n",
            "1150\n",
            "1152\n",
            "1154\n",
            "1156\n",
            "1158\n",
            "1160\n",
            "1162\n",
            "1164\n",
            "1166\n",
            "1168\n",
            "1170\n",
            "1172\n",
            "1174\n",
            "1176\n",
            "1178\n",
            "1180\n",
            "1182\n",
            "1184\n",
            "1186\n",
            "1188\n",
            "1190\n",
            "1192\n",
            "1194\n",
            "1196\n",
            "1198\n",
            "1200\n",
            "1202\n",
            "1204\n",
            "1206\n",
            "1208\n",
            "1210\n",
            "1212\n",
            "1214\n",
            "1216\n",
            "1218\n",
            "1220\n",
            "1222\n",
            "1224\n",
            "1226\n",
            "1228\n",
            "1230\n",
            "1232\n",
            "1234\n",
            "1236\n",
            "1238\n",
            "1240\n",
            "1242\n",
            "1244\n",
            "1246\n",
            "1248\n",
            "1250\n",
            "1252\n",
            "1254\n",
            "1256\n",
            "1258\n",
            "1260\n",
            "1262\n",
            "1264\n",
            "1266\n",
            "1268\n",
            "1270\n",
            "1272\n",
            "1274\n",
            "1276\n",
            "1278\n",
            "1280\n",
            "1282\n",
            "1284\n",
            "1286\n",
            "1288\n",
            "1290\n",
            "1292\n",
            "1294\n",
            "1296\n",
            "1298\n",
            "1300\n",
            "1302\n",
            "1304\n",
            "1306\n",
            "1308\n",
            "1310\n",
            "1312\n",
            "1314\n",
            "1316\n",
            "1318\n",
            "1320\n",
            "1322\n",
            "1324\n",
            "1326\n",
            "1328\n",
            "1330\n",
            "1332\n",
            "1334\n",
            "1336\n",
            "1338\n",
            "1340\n",
            "1342\n",
            "1344\n",
            "1346\n",
            "1348\n",
            "1350\n",
            "1352\n",
            "1354\n",
            "1356\n",
            "1358\n",
            "1360\n",
            "1362\n",
            "1364\n",
            "1366\n",
            "1368\n",
            "1370\n",
            "1372\n",
            "1374\n",
            "1376\n",
            "1378\n",
            "1380\n",
            "1382\n",
            "1384\n",
            "1386\n",
            "1388\n",
            "1390\n",
            "1392\n",
            "1394\n",
            "1396\n",
            "1398\n",
            "1400\n",
            "1402\n",
            "1404\n",
            "1406\n",
            "1408\n",
            "1410\n",
            "1412\n",
            "1414\n",
            "1416\n",
            "1418\n",
            "1420\n",
            "1422\n",
            "1424\n",
            "1426\n",
            "1428\n",
            "1430\n",
            "1432\n",
            "1434\n",
            "1436\n",
            "1438\n",
            "1440\n",
            "1442\n",
            "1444\n",
            "1446\n",
            "1448\n",
            "1450\n",
            "1452\n",
            "1454\n",
            "1456\n",
            "1458\n",
            "1460\n",
            "1462\n",
            "1464\n",
            "1466\n",
            "1468\n",
            "1470\n",
            "1472\n",
            "1474\n",
            "1476\n",
            "1478\n",
            "1480\n",
            "1482\n",
            "1484\n",
            "1486\n",
            "1488\n",
            "1490\n",
            "1492\n",
            "1494\n",
            "1496\n",
            "1498\n",
            "1500\n",
            "1502\n",
            "1504\n",
            "1506\n",
            "1508\n",
            "1510\n",
            "1512\n",
            "1514\n",
            "1516\n",
            "1518\n",
            "1520\n",
            "1522\n",
            "1524\n",
            "1526\n",
            "1528\n",
            "1530\n",
            "1532\n",
            "1534\n",
            "1536\n",
            "1538\n",
            "1540\n",
            "1542\n",
            "1544\n",
            "1546\n",
            "1548\n",
            "1550\n",
            "1552\n",
            "1554\n",
            "1556\n",
            "1558\n",
            "1560\n",
            "1562\n",
            "1564\n",
            "1566\n",
            "1568\n",
            "1570\n",
            "1572\n",
            "1574\n",
            "1576\n",
            "1578\n",
            "1580\n",
            "1582\n",
            "1584\n",
            "1586\n",
            "1588\n",
            "1590\n",
            "1592\n",
            "1594\n",
            "1596\n",
            "1598\n",
            "1600\n",
            "1602\n",
            "1604\n",
            "1606\n",
            "1608\n",
            "1610\n",
            "1612\n",
            "1614\n",
            "1616\n",
            "1618\n",
            "1620\n",
            "1622\n",
            "1624\n",
            "1626\n",
            "1628\n",
            "1630\n",
            "1632\n",
            "1634\n",
            "1636\n",
            "1638\n",
            "1640\n",
            "1642\n",
            "1644\n",
            "1646\n",
            "1648\n",
            "1650\n",
            "1652\n",
            "1654\n",
            "1656\n",
            "1658\n",
            "1660\n",
            "1662\n",
            "1664\n",
            "1666\n",
            "1668\n",
            "1670\n",
            "1672\n",
            "1674\n",
            "1676\n",
            "1678\n",
            "1680\n",
            "1682\n",
            "1684\n",
            "1686\n",
            "1688\n",
            "1690\n",
            "1692\n",
            "1694\n",
            "1696\n",
            "1698\n",
            "1700\n",
            "1702\n",
            "1704\n",
            "1706\n",
            "1708\n",
            "1710\n",
            "1712\n",
            "1714\n",
            "1716\n",
            "1718\n",
            "1720\n",
            "1722\n",
            "1724\n",
            "1726\n",
            "1728\n",
            "1730\n",
            "1732\n",
            "1734\n",
            "1736\n",
            "1738\n",
            "1740\n",
            "1742\n",
            "1744\n",
            "1746\n",
            "1748\n",
            "1750\n",
            "1752\n",
            "1754\n",
            "1756\n",
            "1758\n",
            "1760\n",
            "1762\n",
            "1764\n",
            "1766\n",
            "1768\n",
            "1770\n",
            "1772\n",
            "1774\n",
            "1776\n",
            "1778\n",
            "1780\n",
            "1782\n",
            "1784\n",
            "1786\n",
            "1788\n",
            "1790\n",
            "1792\n",
            "1794\n",
            "1796\n",
            "1798\n",
            "1800\n",
            "1802\n",
            "1804\n",
            "1806\n",
            "1808\n",
            "1810\n",
            "1812\n",
            "1814\n",
            "1816\n",
            "1818\n",
            "1820\n",
            "1822\n",
            "1824\n",
            "1826\n",
            "1828\n",
            "1830\n",
            "1832\n",
            "1834\n",
            "1836\n",
            "1838\n",
            "1840\n",
            "1842\n",
            "1844\n",
            "1846\n",
            "1848\n",
            "1850\n",
            "1852\n",
            "1854\n",
            "1856\n",
            "1858\n",
            "1860\n",
            "1862\n",
            "1864\n",
            "1866\n",
            "1868\n",
            "1870\n",
            "1872\n",
            "1874\n",
            "1876\n",
            "1878\n",
            "1880\n",
            "1882\n",
            "1884\n",
            "1886\n",
            "1888\n",
            "1890\n",
            "1892\n",
            "1894\n",
            "1896\n",
            "1898\n",
            "1900\n",
            "1902\n",
            "1904\n",
            "1906\n",
            "1908\n",
            "1910\n",
            "1912\n",
            "1914\n",
            "1916\n",
            "1918\n",
            "1920\n",
            "1922\n",
            "1924\n",
            "1926\n",
            "1928\n",
            "1930\n",
            "1932\n",
            "1934\n",
            "1936\n",
            "1938\n",
            "1940\n",
            "1942\n",
            "1944\n",
            "1946\n",
            "1948\n",
            "1950\n",
            "1952\n",
            "1954\n",
            "1956\n",
            "1958\n",
            "1960\n",
            "1962\n",
            "1964\n",
            "1966\n",
            "1968\n",
            "1970\n",
            "1972\n",
            "1974\n",
            "1976\n",
            "1978\n",
            "1980\n",
            "1982\n",
            "1984\n",
            "1986\n",
            "1988\n",
            "1990\n",
            "1992\n",
            "1994\n",
            "1996\n",
            "1998\n"
          ],
          "name": "stdout"
        }
      ]
    },
    {
      "cell_type": "code",
      "metadata": {
        "id": "3UpjKAze-z1j",
        "colab_type": "code",
        "outputId": "5a86612b-aebe-44fb-932c-e1913b637d51",
        "colab": {
          "base_uri": "https://localhost:8080/",
          "height": 123
        }
      },
      "source": [
        "l = [1,2,3,4,\"a\",\"b\"]\n",
        "for i in l:\n",
        "  print(i)"
      ],
      "execution_count": 0,
      "outputs": [
        {
          "output_type": "stream",
          "text": [
            "1\n",
            "2\n",
            "3\n",
            "4\n",
            "a\n",
            "b\n"
          ],
          "name": "stdout"
        }
      ]
    },
    {
      "cell_type": "code",
      "metadata": {
        "id": "AuxdyPrD_A0P",
        "colab_type": "code",
        "outputId": "33161bf0-8f75-49dc-beb2-89100f615782",
        "colab": {
          "base_uri": "https://localhost:8080/",
          "height": 88
        }
      },
      "source": [
        "d = { \"k1\":1, \"k2\":2, \"k3\":3 }\n",
        "print(d)\n",
        "for k, v in d.items():\n",
        "  print(k, v)"
      ],
      "execution_count": 0,
      "outputs": [
        {
          "output_type": "stream",
          "text": [
            "{'k1': 1, 'k2': 2, 'k3': 3}\n",
            "k1 1\n",
            "k2 2\n",
            "k3 3\n"
          ],
          "name": "stdout"
        }
      ]
    },
    {
      "cell_type": "code",
      "metadata": {
        "id": "5dfIpuFR-NOG",
        "colab_type": "code",
        "outputId": "39f0576f-3df6-4707-89e0-03dd4b5823f0",
        "colab": {
          "base_uri": "https://localhost:8080/",
          "height": 52
        }
      },
      "source": [
        "d = { \"k1\":1, \"k2\":2, \"k3\":3 }\n",
        "print(d)\n",
        "del d['k1']\n",
        "print(d)"
      ],
      "execution_count": 0,
      "outputs": [
        {
          "output_type": "stream",
          "text": [
            "{'k1': 1, 'k2': 2, 'k3': 3}\n",
            "{'k2': 2, 'k3': 3}\n"
          ],
          "name": "stdout"
        }
      ]
    },
    {
      "cell_type": "code",
      "metadata": {
        "id": "2QiohE3sAV-y",
        "colab_type": "code",
        "outputId": "9fc931e9-aa97-4ea9-87dd-2678aa2f7ed6",
        "colab": {
          "base_uri": "https://localhost:8080/",
          "height": 283
        }
      },
      "source": [
        "l = [0,1,2,3,4]\n",
        "for i in l:\n",
        "  print(i)\n",
        "  \n",
        "for i in range(0,5):\n",
        "  print(i)\n",
        "  \n",
        "for i in range(5):\n",
        "  print(i)"
      ],
      "execution_count": 0,
      "outputs": [
        {
          "output_type": "stream",
          "text": [
            "0\n",
            "1\n",
            "2\n",
            "3\n",
            "4\n",
            "0\n",
            "1\n",
            "2\n",
            "3\n",
            "4\n",
            "0\n",
            "1\n",
            "2\n",
            "3\n",
            "4\n"
          ],
          "name": "stdout"
        }
      ]
    },
    {
      "cell_type": "code",
      "metadata": {
        "id": "l41yNEPiAwvY",
        "colab_type": "code",
        "outputId": "78ee79ec-52d3-49fc-d7ed-debbbf81be9d",
        "colab": {
          "base_uri": "https://localhost:8080/",
          "height": 123
        }
      },
      "source": [
        "l = [0,2,4]\n",
        "for i in l:\n",
        "  print(i)\n",
        "  \n",
        "for i in range(0,5,2):\n",
        "  print(i)\n",
        "  "
      ],
      "execution_count": 0,
      "outputs": [
        {
          "output_type": "stream",
          "text": [
            "0\n",
            "2\n",
            "4\n",
            "0\n",
            "2\n",
            "4\n"
          ],
          "name": "stdout"
        }
      ]
    },
    {
      "cell_type": "code",
      "metadata": {
        "id": "vKWM03uoBTcS",
        "colab_type": "code",
        "outputId": "db36c8ad-d3e1-41f2-f72c-e6e7b2f40f71",
        "colab": {
          "base_uri": "https://localhost:8080/",
          "height": 35
        }
      },
      "source": [
        "# 1500에서 1700까지 숫자를 출력\n",
        "# list l을 정의하고\n",
        "# (7로 나누어 지고) && (5로 나누어지면) l에 추가\n",
        "\n",
        "l = []\n",
        "\n",
        "for i in range(1500,1700+1):\n",
        "  if (i%7 == 0) and (i%5 == 0):\n",
        "    l.append(str(i))\n",
        "  \n",
        "print('|'.join(l))  \n",
        "  "
      ],
      "execution_count": 0,
      "outputs": [
        {
          "output_type": "stream",
          "text": [
            "1505|1540|1575|1610|1645|1680\n"
          ],
          "name": "stdout"
        }
      ]
    },
    {
      "cell_type": "code",
      "metadata": {
        "id": "9Q4HkfjBDi97",
        "colab_type": "code",
        "outputId": "306770bc-c025-4981-911f-5459fca816fe",
        "colab": {
          "base_uri": "https://localhost:8080/",
          "height": 354
        }
      },
      "source": [
        "# 첫줄엔 1, 둣째 줄엔 2, 셋째줄에 3, 이렇게 5줄 출력\n",
        "\n",
        "for i in range(1,6):\n",
        "  print(i)\n",
        "  \n",
        "# i에 담긴 숫자만큼 별을 직는다.\n",
        "i = 1\n",
        "for j in range(i):\n",
        "  print(\"*\", end='')\n",
        "print()\n",
        "\n",
        "i = 2\n",
        "for j in range(i):\n",
        "  print(\"*\", end='')\n",
        "print()\n",
        "\n",
        "\n",
        "i = 3\n",
        "for j in range(i):\n",
        "  print(\"*\", end='')\n",
        "print()\n",
        "\n",
        "\n",
        "i = 4\n",
        "for j in range(i):\n",
        "  print(\"*\", end='')\n",
        "print()\n",
        "\n",
        "\n",
        "i = 5\n",
        "for j in range(i):\n",
        "  print(\"*\", end='')\n",
        "print()\n",
        "\n",
        "for i in range(1,6):\n",
        "  for j in range(i):\n",
        "    print(\"*\", end='')\n",
        "  print()\n",
        "  \n",
        "  \n",
        "# 첫줄엔 4, 둗째줄에 3, 셋째줄에 2, 넨째줄에1이 찍힌다.\n",
        "\n",
        "for i in range(4,0,-1):\n",
        "  print(i)\n",
        "  \n",
        "for i in range(4,0,-1):\n",
        "    for j in range(i):\n",
        "    print(\"*\", end='')\n",
        "  print()"
      ],
      "execution_count": 0,
      "outputs": [
        {
          "output_type": "stream",
          "text": [
            "1\n",
            "2\n",
            "3\n",
            "4\n",
            "5\n",
            "*\n",
            "**\n",
            "***\n",
            "****\n",
            "*****\n",
            "*\n",
            "**\n",
            "***\n",
            "****\n",
            "*****\n",
            "****\n",
            "***\n",
            "**\n",
            "*\n"
          ],
          "name": "stdout"
        }
      ]
    },
    {
      "cell_type": "code",
      "metadata": {
        "id": "1bAtk8nVKCkP",
        "colab_type": "code",
        "outputId": "495ff0d1-ebf9-4a10-b5be-0c2f6d41e70f",
        "colab": {
          "base_uri": "https://localhost:8080/",
          "height": 106
        }
      },
      "source": [
        "for i in range(1,4): # 1~3\n",
        "  empty_count = 3-i\n",
        "  for j in range(empty_count):\n",
        "    print(' ', end='')\n",
        "  star_count = i*2-1\n",
        "  for j in range(star_count):\n",
        "    print('*', end='')\n",
        "  print()\n",
        "  \n",
        "for i in range(2,0,-1): # 2~1\n",
        "  empty_count = 3-i\n",
        "  for j in range(empty_count):\n",
        "    print(' ', end='')\n",
        "  star_count = i*2-1\n",
        "  for j in range(star_count):\n",
        "    print('*', end='')\n",
        "  print()\n",
        "  "
      ],
      "execution_count": 0,
      "outputs": [
        {
          "output_type": "stream",
          "text": [
            "  *\n",
            " ***\n",
            "*****\n",
            " ***\n",
            "  *\n"
          ],
          "name": "stdout"
        }
      ]
    },
    {
      "cell_type": "code",
      "metadata": {
        "id": "3p_ODNVXLt6M",
        "colab_type": "code",
        "outputId": "174e3953-4f7d-4b4a-f460-66a0188d6580",
        "colab": {
          "base_uri": "https://localhost:8080/",
          "height": 52
        }
      },
      "source": [
        "# event_count과 odd_count를 0으로 선언\n",
        "# 1~9 반복\n",
        "# 짝수면 even_count를 1 증가, 아니면 odd_count를 1 증가\n",
        "\n",
        "even_count = 0\n",
        "odd_count = 0\n",
        "\n",
        "for i in range(1,10):\n",
        "  if i%2==0:\n",
        "    even_count += 1\n",
        "  else:\n",
        "    odd_count += 1\n",
        "    \n",
        "print(even_count)\n",
        "print(odd_count)\n"
      ],
      "execution_count": 0,
      "outputs": [
        {
          "output_type": "stream",
          "text": [
            "4\n",
            "5\n"
          ],
          "name": "stdout"
        }
      ]
    },
    {
      "cell_type": "code",
      "metadata": {
        "id": "3fB-TRX0NoNp",
        "colab_type": "code",
        "outputId": "2814b28a-c3ea-4b56-b143-fd7de474ccde",
        "colab": {
          "base_uri": "https://localhost:8080/",
          "height": 52
        }
      },
      "source": [
        "# letter_count, digit_count를 0으로 선언하고\n",
        "# \"Python 3.2\"의 각 char마다 루프\n",
        "# 각 char이 letter이면 letter_count를 1 증가, 숫자이면 digit_count를 1 증가\n",
        "\n",
        "letter_count = 0\n",
        "digit_count = 0\n",
        "\n",
        "import string\n",
        "\n",
        "letter_list = string.ascii_letters # 'abcdefghijklmnopqrstuvwxyzABCDEFGHIJKLMNOPQRSTUVWXYZ'\n",
        "digit_list = string.digits # '0123456789'\n",
        "\n",
        "for i in 'Python 3.2':\n",
        "  \n",
        "  if i in letter_list:\n",
        "    letter_count += 1\n",
        "  if i in digit_list:\n",
        "    digit_count += 1\n",
        "    \n",
        "print(letter_count)\n",
        "print(digit_count)\n",
        "\n"
      ],
      "execution_count": 0,
      "outputs": [
        {
          "output_type": "stream",
          "text": [
            "6\n",
            "2\n"
          ],
          "name": "stdout"
        }
      ]
    },
    {
      "cell_type": "code",
      "metadata": {
        "id": "1KbUkU-EP_Uy",
        "colab_type": "code",
        "outputId": "d4ea8b5a-27e2-4005-c6f6-765e1a9cc3d1",
        "colab": {
          "base_uri": "https://localhost:8080/",
          "height": 90
        }
      },
      "source": [
        "import string\n",
        "\n",
        "print(dir(string))\n",
        "print(string.ascii_letters)\n",
        "print(string.digits)"
      ],
      "execution_count": 0,
      "outputs": [
        {
          "output_type": "stream",
          "text": [
            "['Formatter', 'Template', '_ChainMap', '_TemplateMetaclass', '__all__', '__builtins__', '__cached__', '__doc__', '__file__', '__loader__', '__name__', '__package__', '__spec__', '_re', '_string', 'ascii_letters', 'ascii_lowercase', 'ascii_uppercase', 'capwords', 'digits', 'hexdigits', 'octdigits', 'printable', 'punctuation', 'whitespace']\n",
            "abcdefghijklmnopqrstuvwxyzABCDEFGHIJKLMNOPQRSTUVWXYZ\n",
            "0123456789\n"
          ],
          "name": "stdout"
        }
      ]
    },
    {
      "cell_type": "code",
      "metadata": {
        "id": "YXUFIQ_NQpBB",
        "colab_type": "code",
        "outputId": "2e0a2938-082d-4359-e6e9-7e8b2cd1f21b",
        "colab": {
          "base_uri": "https://localhost:8080/",
          "height": 88
        }
      },
      "source": [
        "print(len(letter_list))\n",
        "l = [1,2,3,4,5]\n",
        "print(     len(l)      )\n",
        "length = len(l)\n",
        "print(length)\n",
        "\n",
        "print(    3     )"
      ],
      "execution_count": 0,
      "outputs": [
        {
          "output_type": "stream",
          "text": [
            "52\n",
            "5\n",
            "5\n",
            "3\n"
          ],
          "name": "stdout"
        }
      ]
    },
    {
      "cell_type": "code",
      "metadata": {
        "id": "XR6GdC1BRcM8",
        "colab_type": "code",
        "outputId": "cd90d264-810f-4bb2-97cd-86dd3a5dc210",
        "colab": {
          "base_uri": "https://localhost:8080/",
          "height": 123
        }
      },
      "source": [
        "value = 3\n",
        "\n",
        "string = \"hi\"\n",
        "\n",
        "print(value+5)\n",
        "print(\"string\"+\" hello\")\n",
        "\n",
        "print(string + str(value)) # 'hi3'\n",
        "\n",
        "v = \"3\"\n",
        "print(int(v)+3) # 6\n",
        "\n",
        "print(float('3.5')+3) # 3.5+3 -> 6.5\n"
      ],
      "execution_count": 0,
      "outputs": [
        {
          "output_type": "stream",
          "text": [
            "8\n",
            "string hello\n",
            "hi3\n",
            "6\n",
            "6.5\n",
            "33333\n"
          ],
          "name": "stdout"
        }
      ]
    },
    {
      "cell_type": "code",
      "metadata": {
        "id": "e5L97KuyS2Ij",
        "colab_type": "code",
        "outputId": "5420a556-fa69-4e01-9986-bce4865fa01a",
        "colab": {
          "base_uri": "https://localhost:8080/",
          "height": 106
        }
      },
      "source": [
        "l = [1,2,3,4,5]\n",
        "print(   type(l)   )\n",
        "print(type({}))\n",
        "print(type(1))\n",
        "print(type(3.3))\n",
        "print(type('hi'))"
      ],
      "execution_count": 0,
      "outputs": [
        {
          "output_type": "stream",
          "text": [
            "<class 'list'>\n",
            "<class 'dict'>\n",
            "<class 'int'>\n",
            "<class 'float'>\n",
            "<class 'str'>\n"
          ],
          "name": "stdout"
        }
      ]
    },
    {
      "cell_type": "code",
      "metadata": {
        "id": "52RJNYreTX4U",
        "colab_type": "code",
        "outputId": "68afbb25-81b6-42d6-cb85-7a4595fdb568",
        "colab": {
          "base_uri": "https://localhost:8080/",
          "height": 294
        }
      },
      "source": [
        "l = list()\n",
        "l.append(1)\n",
        "l.append(1)\n",
        "l.append(2)\n",
        "print(l)\n",
        "\n",
        "s = set()\n",
        "s.add(1)\n",
        "s.add(1)\n",
        "s.add(2)\n",
        "print(s)\n",
        "\n",
        "new_set = set(l)\n",
        "print(new_set)\n",
        "\n",
        "new_list = list(s)\n",
        "print(new_list)\n",
        "\n",
        "d = {'a':1, 'b':2}\n",
        "print(list(d))\n",
        "print(dict(l))"
      ],
      "execution_count": 0,
      "outputs": [
        {
          "output_type": "stream",
          "text": [
            "[1, 1, 2]\n",
            "{1, 2}\n",
            "{1, 2}\n",
            "[1, 2]\n",
            "['a', 'b']\n"
          ],
          "name": "stdout"
        },
        {
          "output_type": "error",
          "ename": "TypeError",
          "evalue": "ignored",
          "traceback": [
            "\u001b[0;31m---------------------------------------------------------------------------\u001b[0m",
            "\u001b[0;31mTypeError\u001b[0m                                 Traceback (most recent call last)",
            "\u001b[0;32m<ipython-input-139-db00544c8305>\u001b[0m in \u001b[0;36m<module>\u001b[0;34m()\u001b[0m\n\u001b[1;32m     19\u001b[0m \u001b[0md\u001b[0m \u001b[0;34m=\u001b[0m \u001b[0;34m{\u001b[0m\u001b[0;34m'a'\u001b[0m\u001b[0;34m:\u001b[0m\u001b[0;36m1\u001b[0m\u001b[0;34m,\u001b[0m \u001b[0;34m'b'\u001b[0m\u001b[0;34m:\u001b[0m\u001b[0;36m2\u001b[0m\u001b[0;34m}\u001b[0m\u001b[0;34m\u001b[0m\u001b[0;34m\u001b[0m\u001b[0m\n\u001b[1;32m     20\u001b[0m \u001b[0mprint\u001b[0m\u001b[0;34m(\u001b[0m\u001b[0mlist\u001b[0m\u001b[0;34m(\u001b[0m\u001b[0md\u001b[0m\u001b[0;34m)\u001b[0m\u001b[0;34m)\u001b[0m\u001b[0;34m\u001b[0m\u001b[0;34m\u001b[0m\u001b[0m\n\u001b[0;32m---> 21\u001b[0;31m \u001b[0mprint\u001b[0m\u001b[0;34m(\u001b[0m\u001b[0mdict\u001b[0m\u001b[0;34m(\u001b[0m\u001b[0ml\u001b[0m\u001b[0;34m)\u001b[0m\u001b[0;34m)\u001b[0m\u001b[0;34m\u001b[0m\u001b[0;34m\u001b[0m\u001b[0m\n\u001b[0m",
            "\u001b[0;31mTypeError\u001b[0m: 'dict' object is not callable"
          ]
        }
      ]
    },
    {
      "cell_type": "code",
      "metadata": {
        "id": "8beDeqE_RiCv",
        "colab_type": "code",
        "outputId": "919d3794-44d6-4c8f-adb3-558c155ca04d",
        "colab": {
          "base_uri": "https://localhost:8080/",
          "height": 52
        }
      },
      "source": [
        "\n",
        "l = [1,2,3,4,5]\n",
        "\n",
        "l2 = [2,4,6,8,10]\n",
        "\n",
        "l2 = []\n",
        "for i in l:\n",
        "  l2.append(i*2)\n",
        "  \n",
        "print(l2)\n",
        "\n",
        "l2 = [ i*2 for i in l ]\n",
        "print(l2)\n",
        "  \n",
        "\n",
        "\n",
        "\n"
      ],
      "execution_count": 0,
      "outputs": [
        {
          "output_type": "stream",
          "text": [
            "[2, 4, 6, 8, 10]\n",
            "[2, 4, 6, 8, 10]\n"
          ],
          "name": "stdout"
        }
      ]
    },
    {
      "cell_type": "code",
      "metadata": {
        "id": "Ar2OMJ28YD4-",
        "colab_type": "code",
        "outputId": "b26e957a-0b75-4c31-f929-bcb46c9f7103",
        "colab": {
          "base_uri": "https://localhost:8080/",
          "height": 35
        }
      },
      "source": [
        "lst = [x for x in 'word']\n",
        "print(lst)"
      ],
      "execution_count": 0,
      "outputs": [
        {
          "output_type": "stream",
          "text": [
            "['w', 'o', 'r', 'd']\n"
          ],
          "name": "stdout"
        }
      ]
    },
    {
      "cell_type": "code",
      "metadata": {
        "id": "nZJx7aVrYNnI",
        "colab_type": "code",
        "outputId": "c5cf7b2c-bcb4-4907-fcc1-23be5ab3cad3",
        "colab": {
          "base_uri": "https://localhost:8080/",
          "height": 35
        }
      },
      "source": [
        "lst = [x**2 for x in range(0,11)]\n",
        "print(lst)"
      ],
      "execution_count": 0,
      "outputs": [
        {
          "output_type": "stream",
          "text": [
            "[0, 1, 4, 9, 16, 25, 36, 49, 64, 81, 100]\n"
          ],
          "name": "stdout"
        }
      ]
    },
    {
      "cell_type": "code",
      "metadata": {
        "id": "3e5WUB6HYZfN",
        "colab_type": "code",
        "outputId": "5865422f-0a90-4004-e015-290303e3398b",
        "colab": {
          "base_uri": "https://localhost:8080/",
          "height": 52
        }
      },
      "source": [
        "l = [ x*2 for x in range(10) ]\n",
        "print(l)\n",
        "l = [ x*2 for x in range(10) if x%2==0 ]\n",
        "print(l)\n",
        "\n"
      ],
      "execution_count": 0,
      "outputs": [
        {
          "output_type": "stream",
          "text": [
            "[0, 2, 4, 6, 8, 10, 12, 14, 16, 18]\n",
            "[0, 4, 8, 12, 16]\n"
          ],
          "name": "stdout"
        }
      ]
    },
    {
      "cell_type": "code",
      "metadata": {
        "id": "OgAQyJS9Zowd",
        "colab_type": "code",
        "outputId": "22536cf0-70ae-4169-fbd0-b9aba9c6d543",
        "colab": {
          "base_uri": "https://localhost:8080/",
          "height": 70
        }
      },
      "source": [
        "l = [1,2,3,4,5]\n",
        "\n",
        "print(sum(l))\n",
        "print(max(l))\n",
        "print(min(l))\n"
      ],
      "execution_count": 0,
      "outputs": [
        {
          "output_type": "stream",
          "text": [
            "15\n",
            "5\n",
            "1\n"
          ],
          "name": "stdout"
        }
      ]
    },
    {
      "cell_type": "code",
      "metadata": {
        "id": "T85K8JDVZ9AB",
        "colab_type": "code",
        "outputId": "18fc93a1-be9e-417f-e2eb-04caed9c0b21",
        "colab": {
          "base_uri": "https://localhost:8080/",
          "height": 70
        }
      },
      "source": [
        "l = [ \n",
        "      [1,2,3],\n",
        "      [4,5,6],\n",
        "      [7,8,9],\n",
        "      [10,11,12]\n",
        "    ]\n",
        "\n",
        "print(l)\n",
        "print(l[0])\n",
        "print(l[0][0])"
      ],
      "execution_count": 0,
      "outputs": [
        {
          "output_type": "stream",
          "text": [
            "[[1, 2, 3], [4, 5, 6], [7, 8, 9], [10, 11, 12]]\n",
            "[1, 2, 3]\n",
            "1\n"
          ],
          "name": "stdout"
        }
      ]
    },
    {
      "cell_type": "code",
      "metadata": {
        "id": "HK7fS6huaHYx",
        "colab_type": "code",
        "colab": {}
      },
      "source": [
        ""
      ],
      "execution_count": 0,
      "outputs": []
    },
    {
      "cell_type": "code",
      "metadata": {
        "id": "zImwCEuVa4eS",
        "colab_type": "code",
        "outputId": "ed9c2989-851c-400f-e315-9134fe5e40d1",
        "colab": {
          "base_uri": "https://localhost:8080/",
          "height": 35
        }
      },
      "source": [
        "# 리스트 항목 마다 루프돌면서\n",
        "# 문자열의 길이를 체크\n",
        "# 문자열 첫번재와 마지막 같음 비교\n",
        "# 2가지 모두 만족하면 카우트 증가\n",
        "\n",
        "l =  ['abc', 'xyz', 'aba', '1221']\n",
        "count = 0\n",
        "\n",
        "for i in l:\n",
        "  if len(i)>=2 and i[0]==i[-1]:\n",
        "    count += 1\n",
        "\n",
        "print(count)\n"
      ],
      "execution_count": 0,
      "outputs": [
        {
          "output_type": "stream",
          "text": [
            "2\n"
          ],
          "name": "stdout"
        }
      ]
    },
    {
      "cell_type": "code",
      "metadata": {
        "id": "oVoQL8pRcVpM",
        "colab_type": "code",
        "outputId": "6dca6233-cfee-4aa2-a387-b1f5672a52eb",
        "colab": {
          "base_uri": "https://localhost:8080/",
          "height": 106
        }
      },
      "source": [
        "l = [1,2,3, [1,2],4,5]\n",
        "\n",
        "# 각 항목마다 루프\n",
        "# 타입이 list인지 체크\n",
        "\n",
        "has_list = False\n",
        "for i in l:\n",
        "  print(i)\n",
        "  if type(i) is list:\n",
        "    has_list = True\n",
        "    break\n",
        "    \n",
        "print(has_list)    \n",
        "    "
      ],
      "execution_count": 0,
      "outputs": [
        {
          "output_type": "stream",
          "text": [
            "1\n",
            "2\n",
            "3\n",
            "[1, 2]\n",
            "True\n"
          ],
          "name": "stdout"
        }
      ]
    },
    {
      "cell_type": "code",
      "metadata": {
        "id": "qgFfPcOSetFY",
        "colab_type": "code",
        "outputId": "5d14ff3a-1c4f-49a0-e267-6d7639116874",
        "colab": {
          "base_uri": "https://localhost:8080/",
          "height": 35
        }
      },
      "source": [
        "# 빈 결과 리스트 생성\n",
        "# 1~5까지 루프\n",
        "# 각 list 항목 마다 숫자를 추가해서 결과 리스트에 추가\n",
        "\n",
        "source = ['p','q']\n",
        "result = []\n",
        "\n",
        "for i in range(1,6):\n",
        "  for j in source:\n",
        "    result.append(j+str(i))\n",
        "    \n",
        "print(result)\n"
      ],
      "execution_count": 0,
      "outputs": [
        {
          "output_type": "stream",
          "text": [
            "['p1', 'q1', 'p2', 'q2', 'p3', 'q3', 'p4', 'q4', 'p5', 'q5']\n"
          ],
          "name": "stdout"
        }
      ]
    },
    {
      "cell_type": "code",
      "metadata": {
        "id": "72C05j3bN3C3",
        "colab_type": "code",
        "outputId": "490de130-c222-42fc-85e9-3deaadc0c94c",
        "colab": {
          "base_uri": "https://localhost:8080/",
          "height": 247
        }
      },
      "source": [
        "# 원 리스트의 전체 갯수 set의 저체 갯수 비교\n",
        "\n",
        "l = [ 1,2,3,4,5,6,7,8,9,0,1 ]\n",
        "\n",
        "s = set(l)\n",
        "print(len(l)==len(s))\n",
        "\n",
        "l = [ 1,2,3,4,5,6,7,8,9,0 ]\n",
        "\n",
        "s = set(l)\n",
        "print(len(l)==len(s))\n",
        "\n",
        "\n",
        "count_dic = {}\n",
        "\n",
        "for i in l:\n",
        "  if i in count_dic:\n",
        "    count_dic[i] += 1\n",
        "  else:\n",
        "    count_dic[i] = 1\n",
        "\n",
        "has_duplicated = False    \n",
        "for k,v in count_dic.items():\n",
        "  if v>1:\n",
        "    has_duplicated = True\n",
        "    break\n",
        "\n",
        "print(has_duplicated)\n"
      ],
      "execution_count": 0,
      "outputs": [
        {
          "output_type": "stream",
          "text": [
            "False\n",
            "True\n",
            "1 1\n",
            "2 1\n",
            "3 1\n",
            "4 1\n",
            "5 1\n",
            "6 1\n",
            "7 1\n",
            "8 1\n",
            "9 1\n",
            "0 1\n",
            "False\n"
          ],
          "name": "stdout"
        }
      ]
    },
    {
      "cell_type": "code",
      "metadata": {
        "id": "hKgEklQtOEGi",
        "colab_type": "code",
        "outputId": "c71c2e57-0d90-4d40-8fed-baf2a8924ca8",
        "colab": {
          "base_uri": "https://localhost:8080/",
          "height": 70
        }
      },
      "source": [
        "l = [ 1,2,3,4,5,6,7,8,9,0,1 ]\n",
        "print(l)\n",
        "\n",
        "l.reverse()\n",
        "print(l)\n",
        "\n",
        "l.sort()\n",
        "print(l)"
      ],
      "execution_count": 0,
      "outputs": [
        {
          "output_type": "stream",
          "text": [
            "[1, 2, 3, 4, 5, 6, 7, 8, 9, 0, 1]\n",
            "[1, 0, 9, 8, 7, 6, 5, 4, 3, 2, 1]\n",
            "[0, 1, 1, 2, 3, 4, 5, 6, 7, 8, 9]\n"
          ],
          "name": "stdout"
        }
      ]
    },
    {
      "cell_type": "code",
      "metadata": {
        "id": "ddSQ2rZTPogi",
        "colab_type": "code",
        "outputId": "9bdead15-9ebd-4a98-d205-1f3af79432b8",
        "colab": {
          "base_uri": "https://localhost:8080/",
          "height": 52
        }
      },
      "source": [
        "print(\"hi\")\n",
        "\n",
        "print(len([1,2,3]))"
      ],
      "execution_count": 0,
      "outputs": [
        {
          "output_type": "stream",
          "text": [
            "hi\n",
            "3\n"
          ],
          "name": "stdout"
        }
      ]
    },
    {
      "cell_type": "code",
      "metadata": {
        "id": "7_wFyT_SQ3Fm",
        "colab_type": "code",
        "outputId": "0a1c9d1c-0731-45ad-f3a7-97103f108e59",
        "colab": {
          "base_uri": "https://localhost:8080/",
          "height": 87
        }
      },
      "source": [
        "l = [1,2,3,4,5]\n",
        "\n",
        "\n",
        "sum = 0\n",
        "for i in l:\n",
        "  sum += i\n",
        "  \n",
        "print(sum)  \n",
        "\n",
        "k = [6,7,8,9,10]\n",
        "\n",
        "sum = 0\n",
        "for i in k:\n",
        "  sum += i\n",
        "  \n",
        "print(sum)  \n",
        "\n",
        "\n",
        "def my_sum(l):\n",
        "  \n",
        "  sum = 0\n",
        "  for i in l:\n",
        "    sum += i\n",
        "\n",
        "  return sum\n",
        "\n",
        "print(my_sum(l))\n",
        "print(my_sum(k))\n",
        "\n",
        "  \n",
        "\n"
      ],
      "execution_count": 0,
      "outputs": [
        {
          "output_type": "stream",
          "text": [
            "15\n",
            "40\n",
            "15\n",
            "40\n"
          ],
          "name": "stdout"
        }
      ]
    },
    {
      "cell_type": "code",
      "metadata": {
        "id": "CzaiK_MeRF0r",
        "colab_type": "code",
        "outputId": "657ec59d-ce78-4bae-b10c-f2162462ed91",
        "colab": {
          "base_uri": "https://localhost:8080/",
          "height": 727
        }
      },
      "source": [
        "for i in range(1,6):\n",
        "  for j in range(i):\n",
        "    print(\"*\", end='')\n",
        "  print()\n",
        "  \n",
        "for i in range(5,0,-1):\n",
        "  for j in range(i):\n",
        "    print(\"*\", end='')\n",
        "  print()\n",
        "  \n",
        "def print_star(count):\n",
        "  for j in range(count):\n",
        "    print(\"*\", end='')\n",
        "  print()\n",
        "  \n",
        "for i in range(1,6):\n",
        "  print_star(i)\n",
        "  \n",
        "for i in range(5,0,-1):\n",
        "  print_star(i)\n",
        "\n",
        "\n",
        "def get_star_of_length(count):\n",
        "  l = []\n",
        "  for j in range(count):\n",
        "    l.append(\"*\")\n",
        "  return \"\".join(l)\n",
        "    \n",
        "for i in range(1,6):\n",
        "  print(get_star_of_length(i))\n",
        "  \n",
        "for i in range(5,0,-1):\n",
        "  print(get_star_of_length(i))\n",
        "\n",
        "\n",
        "def get_star_of_length2(count):\n",
        "  return \"*\"*count\n",
        "  \n",
        "for i in range(1,6):\n",
        "  print(get_star_of_length2(i))\n",
        "  \n",
        "for i in range(5,0,-1):\n",
        "  print(get_star_of_length2(i))\n",
        "  \n",
        "  \n",
        "  "
      ],
      "execution_count": 0,
      "outputs": [
        {
          "output_type": "stream",
          "text": [
            "*\n",
            "**\n",
            "***\n",
            "****\n",
            "*****\n",
            "*****\n",
            "****\n",
            "***\n",
            "**\n",
            "*\n",
            "*\n",
            "**\n",
            "***\n",
            "****\n",
            "*****\n",
            "*****\n",
            "****\n",
            "***\n",
            "**\n",
            "*\n",
            "*\n",
            "**\n",
            "***\n",
            "****\n",
            "*****\n",
            "*****\n",
            "****\n",
            "***\n",
            "**\n",
            "*\n",
            "*\n",
            "**\n",
            "***\n",
            "****\n",
            "*****\n",
            "*****\n",
            "****\n",
            "***\n",
            "**\n",
            "*\n"
          ],
          "name": "stdout"
        }
      ]
    },
    {
      "cell_type": "code",
      "metadata": {
        "id": "pdYWUxmxSJ_4",
        "colab_type": "code",
        "outputId": "77f47cb7-2d3d-4bf1-965c-b7086ebda667",
        "colab": {
          "base_uri": "https://localhost:8080/",
          "height": 87
        }
      },
      "source": [
        "l = [1,2,3,4,5]\n",
        "\n",
        "for i in l:\n",
        "  if i%2==0:  # 짝수이면\n",
        "    print(i)\n",
        "\n",
        "    \n",
        "def is_even(value):\n",
        "  return value%2==0\n",
        "\n",
        "for i in l:\n",
        "  if is_even(i):\n",
        "    print(i)\n",
        "    \n",
        "    \n",
        "    \n"
      ],
      "execution_count": 0,
      "outputs": [
        {
          "output_type": "stream",
          "text": [
            "2\n",
            "4\n",
            "2\n",
            "4\n"
          ],
          "name": "stdout"
        }
      ]
    },
    {
      "cell_type": "code",
      "metadata": {
        "id": "8KVVdNPcY2o_",
        "colab_type": "code",
        "outputId": "3fcbc60d-e2ea-46b2-ad1b-42d20b8ecaae",
        "colab": {
          "base_uri": "https://localhost:8080/",
          "height": 70
        }
      },
      "source": [
        "print(\"hello\", 3, \"hi\")\n",
        "\n",
        "print(\"a=\"+str(1)+\", b=\"+str(2)+\", c=\"+str(3))\n",
        "\n",
        "print(\"a={}, b={}, c={}\".format(1,2,3))"
      ],
      "execution_count": 0,
      "outputs": [
        {
          "output_type": "stream",
          "text": [
            "hello 3 hi\n",
            "a=1, b=2, c=3\n",
            "a=1, b=2, c=3\n"
          ],
          "name": "stdout"
        }
      ]
    },
    {
      "cell_type": "code",
      "metadata": {
        "id": "QmKsKvF1YOL5",
        "colab_type": "code",
        "outputId": "8ee666d9-8964-41b1-a383-caf322ddddef",
        "colab": {
          "base_uri": "https://localhost:8080/",
          "height": 158
        }
      },
      "source": [
        "print(\"{} + {} = {}\".format(1,2,(1+2)))\n",
        "print(\"{} + {} = {}\".format(1,5,(1+5)))\n",
        "print(\"{} + {} = {}\".format(5,2,(5+2)))\n",
        "print(\"{} + {} = {}\".format(11,12,(11+12)))\n",
        "\n",
        "def print_sum(a,b):\n",
        "  sum = a+b\n",
        "  print(\"{} + {} = {}\".format(a,b,sum))\n",
        "#  print(\"{} + {} = {}\".format(a,b,(a+b)))\n",
        "\n",
        "print_sum(1,2)\n",
        "print_sum(1,5)\n",
        "print_sum(5,2)\n",
        "print_sum(11,12)\n",
        "\n",
        "\n",
        "\n",
        "\n"
      ],
      "execution_count": 0,
      "outputs": [
        {
          "output_type": "stream",
          "text": [
            "1 + 2 = 3\n",
            "1 + 5 = 6\n",
            "5 + 2 = 7\n",
            "11 + 12 = 23\n",
            "1 + 2 = 3\n",
            "1 + 5 = 6\n",
            "5 + 2 = 7\n",
            "11 + 12 = 23\n"
          ],
          "name": "stdout"
        }
      ]
    },
    {
      "cell_type": "code",
      "metadata": {
        "id": "BRCzHkTgZe8w",
        "colab_type": "code",
        "outputId": "68f04bda-d48a-4051-c2a0-e98d7267ffce",
        "colab": {
          "base_uri": "https://localhost:8080/",
          "height": 212
        }
      },
      "source": [
        "print(2**2)\n",
        "print(2**3)\n",
        "print(2**4)\n",
        "\n",
        "def nsquare(x, n):\n",
        "  return x**n\n",
        "\n",
        "print(nsquare(2,2))\n",
        "print(nsquare(3,2))\n",
        "print(nsquare(4,2))\n",
        "print(nsquare(4,3))\n",
        "\n",
        "def nsquare2(x, n=2):\n",
        "  return x**n\n",
        "\n",
        "print(nsquare2(2))\n",
        "print(nsquare2(3))\n",
        "print(nsquare2(4))\n",
        "print(nsquare2(4,3))\n",
        "\n",
        "\n"
      ],
      "execution_count": 0,
      "outputs": [
        {
          "output_type": "stream",
          "text": [
            "4\n",
            "8\n",
            "16\n",
            "4\n",
            "9\n",
            "16\n",
            "64\n",
            "4\n",
            "9\n",
            "16\n",
            "64\n"
          ],
          "name": "stdout"
        }
      ]
    },
    {
      "cell_type": "code",
      "metadata": {
        "id": "KGkyEmlrfbTS",
        "colab_type": "code",
        "outputId": "17659677-5d24-4684-b995-583d2a0acfb9",
        "colab": {
          "base_uri": "https://localhost:8080/",
          "height": 134
        }
      },
      "source": [
        "def nsquare3(n=2, x):\n",
        "  return x**n\n",
        "\n",
        "print(nsquare3(2))\n",
        "print(nsquare3(3))\n",
        "print(nsquare3(4))\n",
        "print(nsquare3(3,4))\n",
        "\n",
        "\n",
        "def my_func(a, b, c, d, e=1, f=2, g=3)"
      ],
      "execution_count": 0,
      "outputs": [
        {
          "output_type": "error",
          "ename": "SyntaxError",
          "evalue": "ignored",
          "traceback": [
            "\u001b[0;36m  File \u001b[0;32m\"<ipython-input-34-bd9d4760c582>\"\u001b[0;36m, line \u001b[0;32m1\u001b[0m\n\u001b[0;31m    def nsquare3(n=2, x):\u001b[0m\n\u001b[0m                ^\u001b[0m\n\u001b[0;31mSyntaxError\u001b[0m\u001b[0;31m:\u001b[0m non-default argument follows default argument\n"
          ]
        }
      ]
    },
    {
      "cell_type": "code",
      "metadata": {
        "id": "oScuXwS_gMTo",
        "colab_type": "code",
        "outputId": "871a4759-fead-4e0d-8ca9-2b3e0153f8a1",
        "colab": {
          "base_uri": "https://localhost:8080/",
          "height": 34
        }
      },
      "source": [
        "l = [1,2,3,4,5]\n",
        "\n",
        "print(\",\".join(str(x) for x in l))"
      ],
      "execution_count": 0,
      "outputs": [
        {
          "output_type": "stream",
          "text": [
            "1,2,3,4,5\n"
          ],
          "name": "stdout"
        }
      ]
    },
    {
      "cell_type": "code",
      "metadata": {
        "id": "I-Lgt7Jig6FZ",
        "colab_type": "code",
        "outputId": "71f51f8c-6c8a-4849-b26c-c00d29453b08",
        "colab": {
          "base_uri": "https://localhost:8080/",
          "height": 158
        }
      },
      "source": [
        "l = [1,2,3,4,5]\n",
        "\n",
        "def print_list(list, seperator=',', with_parenthesis=True):\n",
        "  string = seperator.join(str(x) for x in list)\n",
        "  if with_parenthesis:\n",
        "    string = \"[\"+string+\"]\"\n",
        "  print(string)  \n",
        "\n",
        "print_list(l,',', True)  \n",
        "print_list(l)  \n",
        "\n",
        "print_list(l, '|', True)\n",
        "print_list(l, '|')\n",
        "\n",
        "print_list(l, ',', False)\n",
        "print_list(l, with_parenthesis=False)\n",
        "\n",
        "print_list(l, '|', False)\n",
        "print_list(l, with_parenthesis=False, seperator='|')\n",
        "\n"
      ],
      "execution_count": 0,
      "outputs": [
        {
          "output_type": "stream",
          "text": [
            "[1,2,3,4,5]\n",
            "[1,2,3,4,5]\n",
            "[1|2|3|4|5]\n",
            "[1|2|3|4|5]\n",
            "1,2,3,4,5\n",
            "1,2,3,4,5\n",
            "1|2|3|4|5\n",
            "1|2|3|4|5\n"
          ],
          "name": "stdout"
        }
      ]
    },
    {
      "cell_type": "code",
      "metadata": {
        "id": "kSgWDlghiTmV",
        "colab_type": "code",
        "outputId": "012dbfca-95f0-40da-82b0-5dcdfb726beb",
        "colab": {
          "base_uri": "https://localhost:8080/",
          "height": 87
        }
      },
      "source": [
        "# div = my_div(7,3)\n",
        "# mod = my_mod(7,3)\n",
        "# print(div, mod)\n",
        "\n",
        "def div_and_mod(a,b):\n",
        "  div = a//b\n",
        "  mod = a%b\n",
        "  return div, mod\n",
        "\n",
        "div, mod = div_and_mod(7,3)\n",
        "print(div, mod)\n",
        "\n",
        "(div, mod) = div_and_mod(7,3)\n",
        "print(div, mod)\n",
        "\n",
        "\n",
        "\n",
        "#def div_and_mod(a,b):\n",
        "def div_and_mod2(a,b):\n",
        "  div = a//b\n",
        "  mod = a%b\n",
        "#  return div, mod\n",
        "  return (div, mod)\n",
        "\n",
        "div, mod = div_and_mod2(7,3)\n",
        "print(div, mod)\n",
        "\n",
        "(div, mod) = div_and_mod2(7,3)\n",
        "print(div, mod)\n",
        "\n"
      ],
      "execution_count": 0,
      "outputs": [
        {
          "output_type": "stream",
          "text": [
            "2 1\n",
            "2 1\n",
            "2 1\n",
            "2 1\n"
          ],
          "name": "stdout"
        }
      ]
    },
    {
      "cell_type": "code",
      "metadata": {
        "id": "HbKdmetLkGeK",
        "colab_type": "code",
        "outputId": "908a04fb-3cfd-470b-8cfa-a74f88ec46ec",
        "colab": {
          "base_uri": "https://localhost:8080/",
          "height": 123
        }
      },
      "source": [
        "a,b,c = 1,2,3\n",
        "print(a,b,c)\n",
        "\n",
        "(a,b,c) = 1,2,3\n",
        "print(a,b,c)\n",
        "\n",
        "a,b,c = (1,2,3)\n",
        "print(a,b,c)\n",
        "\n",
        "(a,b,c) = 1,2,3\n",
        "print(a,b,c)\n",
        "\n",
        "\n",
        "\n"
      ],
      "execution_count": 0,
      "outputs": [
        {
          "output_type": "stream",
          "text": [
            "1 2 3\n",
            "1 2 3\n",
            "1 2 3\n",
            "1 2 3\n",
            "(1, 2, 3)\n",
            "<class 'tuple'>\n"
          ],
          "name": "stdout"
        }
      ]
    },
    {
      "cell_type": "code",
      "metadata": {
        "id": "BI-zI8nkkrx8",
        "colab_type": "code",
        "outputId": "329a336c-81ca-420c-ff1a-d1c761030a82",
        "colab": {
          "base_uri": "https://localhost:8080/",
          "height": 161
        }
      },
      "source": [
        "\n",
        "t = (1,2,3)\n",
        "print(t)\n",
        "print(type(t))\n",
        "print(len(t))\n",
        "print(t[0])\n",
        "print(t[-1])\n",
        "print(dir(type(t)))\n",
        "print(type(t).__name__)\n",
        "\n"
      ],
      "execution_count": 0,
      "outputs": [
        {
          "output_type": "stream",
          "text": [
            "(1, 2, 3)\n",
            "<class 'tuple'>\n",
            "3\n",
            "1\n",
            "3\n",
            "['__add__', '__class__', '__contains__', '__delattr__', '__dir__', '__doc__', '__eq__', '__format__', '__ge__', '__getattribute__', '__getitem__', '__getnewargs__', '__gt__', '__hash__', '__init__', '__init_subclass__', '__iter__', '__le__', '__len__', '__lt__', '__mul__', '__ne__', '__new__', '__reduce__', '__reduce_ex__', '__repr__', '__rmul__', '__setattr__', '__sizeof__', '__str__', '__subclasshook__', 'count', 'index']\n",
            "tuple\n"
          ],
          "name": "stdout"
        }
      ]
    },
    {
      "cell_type": "code",
      "metadata": {
        "id": "-6b57w0emGaV",
        "colab_type": "code",
        "outputId": "dd193b74-976a-4c91-a14f-56d5627f6f76",
        "colab": {
          "base_uri": "https://localhost:8080/",
          "height": 365
        }
      },
      "source": [
        "def div_and_mod(a,b):\n",
        "  div = a//b\n",
        "  mod = a%b\n",
        "  return div, mod\n",
        "\n",
        "d,v = div_and_mod(7,3)\n",
        "print(d)\n",
        "print(type(d))\n",
        "\n",
        "d = div_and_mod(7,3)\n",
        "print(d)\n",
        "print(type(d))\n",
        "\n",
        "def my_list():\n",
        "  return [1,2,3]\n",
        "\n",
        "result = my_list()\n",
        "\n",
        "r1, r2, r3 = my_list()\n",
        "print(r1, r2, r3)\n",
        "[r1, r2, r3] = my_list()\n",
        "print(r1, r2, r3)\n",
        "(r1, r2, r3) = my_list()\n",
        "print(r1, r2, r3)\n",
        "\n",
        "r1, r2 = my_list()\n",
        "print(r1, r2, r3)\n",
        "\n"
      ],
      "execution_count": 0,
      "outputs": [
        {
          "output_type": "stream",
          "text": [
            "2\n",
            "<class 'int'>\n",
            "(2, 1)\n",
            "<class 'tuple'>\n",
            "1 2 3\n",
            "1 2 3\n",
            "1 2 3\n"
          ],
          "name": "stdout"
        },
        {
          "output_type": "error",
          "ename": "ValueError",
          "evalue": "ignored",
          "traceback": [
            "\u001b[0;31m---------------------------------------------------------------------------\u001b[0m",
            "\u001b[0;31mValueError\u001b[0m                                Traceback (most recent call last)",
            "\u001b[0;32m<ipython-input-64-a490cc3934dd>\u001b[0m in \u001b[0;36m<module>\u001b[0;34m()\u001b[0m\n\u001b[1;32m     24\u001b[0m \u001b[0mprint\u001b[0m\u001b[0;34m(\u001b[0m\u001b[0mr1\u001b[0m\u001b[0;34m,\u001b[0m \u001b[0mr2\u001b[0m\u001b[0;34m,\u001b[0m \u001b[0mr3\u001b[0m\u001b[0;34m)\u001b[0m\u001b[0;34m\u001b[0m\u001b[0;34m\u001b[0m\u001b[0m\n\u001b[1;32m     25\u001b[0m \u001b[0;34m\u001b[0m\u001b[0m\n\u001b[0;32m---> 26\u001b[0;31m \u001b[0mr1\u001b[0m\u001b[0;34m,\u001b[0m \u001b[0mr2\u001b[0m \u001b[0;34m=\u001b[0m \u001b[0mmy_list\u001b[0m\u001b[0;34m(\u001b[0m\u001b[0;34m)\u001b[0m\u001b[0;34m\u001b[0m\u001b[0;34m\u001b[0m\u001b[0m\n\u001b[0m\u001b[1;32m     27\u001b[0m \u001b[0mprint\u001b[0m\u001b[0;34m(\u001b[0m\u001b[0mr1\u001b[0m\u001b[0;34m,\u001b[0m \u001b[0mr2\u001b[0m\u001b[0;34m,\u001b[0m \u001b[0mr3\u001b[0m\u001b[0;34m)\u001b[0m\u001b[0;34m\u001b[0m\u001b[0;34m\u001b[0m\u001b[0m\n\u001b[1;32m     28\u001b[0m \u001b[0;34m\u001b[0m\u001b[0m\n",
            "\u001b[0;31mValueError\u001b[0m: too many values to unpack (expected 2)"
          ]
        }
      ]
    },
    {
      "cell_type": "code",
      "metadata": {
        "id": "VosZbwzcngou",
        "colab_type": "code",
        "outputId": "fb50f616-9c88-45ad-c35e-5293c44d0015",
        "colab": {
          "base_uri": "https://localhost:8080/",
          "height": 223
        }
      },
      "source": [
        "\n",
        "def div_and_mod(a,b):\n",
        "  div = a//b\n",
        "  mod = a%b\n",
        "  return div, mod\n",
        "\n",
        "d = div_and_mod(7,3)\n",
        "#d,v  = div_and_mod(7,3)\n",
        "d,  = div_and_mod(7,3)\n",
        "print(d)"
      ],
      "execution_count": 0,
      "outputs": [
        {
          "output_type": "error",
          "ename": "ValueError",
          "evalue": "ignored",
          "traceback": [
            "\u001b[0;31m---------------------------------------------------------------------------\u001b[0m",
            "\u001b[0;31mValueError\u001b[0m                                Traceback (most recent call last)",
            "\u001b[0;32m<ipython-input-65-d9be9a648f3a>\u001b[0m in \u001b[0;36m<module>\u001b[0;34m()\u001b[0m\n\u001b[1;32m      7\u001b[0m \u001b[0md\u001b[0m \u001b[0;34m=\u001b[0m \u001b[0mdiv_and_mod\u001b[0m\u001b[0;34m(\u001b[0m\u001b[0;36m7\u001b[0m\u001b[0;34m,\u001b[0m\u001b[0;36m3\u001b[0m\u001b[0;34m)\u001b[0m\u001b[0;34m\u001b[0m\u001b[0;34m\u001b[0m\u001b[0m\n\u001b[1;32m      8\u001b[0m \u001b[0;31m#d,v  = div_and_mod(7,3)\u001b[0m\u001b[0;34m\u001b[0m\u001b[0;34m\u001b[0m\u001b[0;34m\u001b[0m\u001b[0m\n\u001b[0;32m----> 9\u001b[0;31m \u001b[0md\u001b[0m\u001b[0;34m,\u001b[0m  \u001b[0;34m=\u001b[0m \u001b[0mdiv_and_mod\u001b[0m\u001b[0;34m(\u001b[0m\u001b[0;36m7\u001b[0m\u001b[0;34m,\u001b[0m\u001b[0;36m3\u001b[0m\u001b[0;34m)\u001b[0m\u001b[0;34m\u001b[0m\u001b[0;34m\u001b[0m\u001b[0m\n\u001b[0m\u001b[1;32m     10\u001b[0m \u001b[0mprint\u001b[0m\u001b[0;34m(\u001b[0m\u001b[0md\u001b[0m\u001b[0;34m)\u001b[0m\u001b[0;34m\u001b[0m\u001b[0;34m\u001b[0m\u001b[0m\n",
            "\u001b[0;31mValueError\u001b[0m: too many values to unpack (expected 1)"
          ]
        }
      ]
    },
    {
      "cell_type": "code",
      "metadata": {
        "id": "BsWp06Xrnu0-",
        "colab_type": "code",
        "outputId": "dcb0db82-40ce-48e5-ccca-08487ff84e55",
        "colab": {
          "base_uri": "https://localhost:8080/",
          "height": 34
        }
      },
      "source": [
        "def div_and_mod(a,b):\n",
        "  div = a//b\n",
        "  mod = a%b\n",
        "  return div, mod\n",
        "\n",
        "d,_  = div_and_mod(7,3)\n",
        "print(d)\n"
      ],
      "execution_count": 0,
      "outputs": [
        {
          "output_type": "stream",
          "text": [
            "2\n"
          ],
          "name": "stdout"
        }
      ]
    },
    {
      "cell_type": "code",
      "metadata": {
        "id": "P1sCDmVXoAV0",
        "colab_type": "code",
        "outputId": "29590f44-857a-47aa-d73b-23a6b89822d7",
        "colab": {
          "base_uri": "https://localhost:8080/",
          "height": 105
        }
      },
      "source": [
        "def get_data():\n",
        "  train_x = 1\n",
        "  train_y = 2\n",
        "  test_x = 11\n",
        "  test_y = 12\n",
        "  return (train_x, train_y), (test_x, test_y)\n",
        "\n",
        "all_data = get_data()\n",
        "print(all_data)\n",
        "print(type(all_data))\n",
        "\n",
        "print(all_data[0])\n",
        "print(type(all_data[0]))\n",
        "\n",
        "train = all_data[0]\n",
        "train_x, train_y = train\n",
        "print(train_x, train_y)\n"
      ],
      "execution_count": 0,
      "outputs": [
        {
          "output_type": "stream",
          "text": [
            "((1, 2), (11, 12))\n",
            "<class 'tuple'>\n",
            "(1, 2)\n",
            "<class 'tuple'>\n",
            "1 2\n"
          ],
          "name": "stdout"
        }
      ]
    },
    {
      "cell_type": "code",
      "metadata": {
        "id": "hQ7-ZIDUpqHd",
        "colab_type": "code",
        "outputId": "fe973dc1-601c-4c7a-e489-e428e6d83149",
        "colab": {
          "base_uri": "https://localhost:8080/",
          "height": 52
        }
      },
      "source": [
        "l = [1,2,3,4,5]\n",
        "l.reverse()\n",
        "print(l)\n",
        "\n",
        "def my_reverse(s):\n",
        "  return s[::-1]\n",
        "\n",
        "s = \"1234abcd\"\n",
        "print(my_reverse(s))"
      ],
      "execution_count": 0,
      "outputs": [
        {
          "output_type": "stream",
          "text": [
            "[5, 4, 3, 2, 1]\n",
            "dcba4321\n"
          ],
          "name": "stdout"
        }
      ]
    },
    {
      "cell_type": "code",
      "metadata": {
        "id": "D_W46KfRq3HO",
        "colab_type": "code",
        "outputId": "8ca744db-ce5a-4f3f-c758-57d215ef11f0",
        "colab": {
          "base_uri": "https://localhost:8080/",
          "height": 105
        }
      },
      "source": [
        "l = [1,2,3,9]\n",
        "l2 = [1,2,3,9,11]\n",
        "l3 = [2,4,6,8]\n",
        "l4 = [2,4,6,9]\n",
        "\n",
        "l5 = [2,4,6,8,12]\n",
        "\n",
        "def is_in_range(l, start, end):\n",
        "  def is_in_range_value(v, start, end):\n",
        "    return (start<=v) and (v<=end)\n",
        "  \n",
        "  for i in l:\n",
        "    if not is_in_range_value(i, start, end): return False\n",
        "#     if i<start: return False\n",
        "#     if i>end: return False\n",
        "  return True\n",
        "\n",
        "def is_even(v):\n",
        "  return v%2==0\n",
        "\n",
        "def is_all_even(l):\n",
        "  for i in l:\n",
        "    if not is_even(i): return False\n",
        "  return True\n",
        "\n",
        "def is_all_in_range_and_even(l, start, end):\n",
        "  return is_all_even(l) and is_in_range(l, start, end)\n",
        "#   if not is_all_even(l): return False\n",
        "#   if not is_in_range(l, start, end): return False\n",
        "#   return True\n",
        "\n",
        "\n",
        "print(is_in_range(l, 1, 10))\n",
        "print(is_in_range(l2, 1, 10))\n",
        "\n",
        "print(is_all_even(l3))\n",
        "print(is_all_even(l4))\n",
        "\n",
        "print(is_all_in_range_and_even(l3, 1, 10))\n",
        "\n"
      ],
      "execution_count": 0,
      "outputs": [
        {
          "output_type": "stream",
          "text": [
            "True\n",
            "False\n",
            "True\n",
            "False\n",
            "True\n"
          ],
          "name": "stdout"
        }
      ]
    },
    {
      "cell_type": "code",
      "metadata": {
        "id": "YHNISCsOwt0r",
        "colab_type": "code",
        "outputId": "c207271f-295e-47a1-f9e7-923d05580b59",
        "colab": {
          "base_uri": "https://localhost:8080/",
          "height": 34
        }
      },
      "source": [
        "print(\"hello\")"
      ],
      "execution_count": 0,
      "outputs": [
        {
          "output_type": "stream",
          "text": [
            "hello\n"
          ],
          "name": "stdout"
        }
      ]
    },
    {
      "cell_type": "code",
      "metadata": {
        "id": "BB0zNfRjD85w",
        "colab_type": "code",
        "colab": {}
      },
      "source": [
        ""
      ],
      "execution_count": 0,
      "outputs": []
    },
    {
      "cell_type": "code",
      "metadata": {
        "id": "xqLolCWuD9F-",
        "colab_type": "code",
        "colab": {}
      },
      "source": [
        ""
      ],
      "execution_count": 0,
      "outputs": []
    },
    {
      "cell_type": "code",
      "metadata": {
        "id": "aOxHHfMXD9Ie",
        "colab_type": "code",
        "colab": {}
      },
      "source": [
        ""
      ],
      "execution_count": 0,
      "outputs": []
    },
    {
      "cell_type": "code",
      "metadata": {
        "id": "j2HYDWokD9LG",
        "colab_type": "code",
        "outputId": "c3b9f3ec-915e-4e62-e03a-45b1eb653b98",
        "colab": {
          "base_uri": "https://localhost:8080/",
          "height": 1000
        }
      },
      "source": [
        "!pip list"
      ],
      "execution_count": 0,
      "outputs": [
        {
          "output_type": "stream",
          "text": [
            "Package                  Version              \n",
            "------------------------ ---------------------\n",
            "absl-py                  0.7.1                \n",
            "alabaster                0.7.12               \n",
            "albumentations           0.1.12               \n",
            "altair                   3.1.0                \n",
            "astor                    0.8.0                \n",
            "astropy                  3.0.5                \n",
            "atari-py                 0.1.15               \n",
            "atomicwrites             1.3.0                \n",
            "attrs                    19.1.0               \n",
            "audioread                2.1.8                \n",
            "autograd                 1.2                  \n",
            "Babel                    2.7.0                \n",
            "backcall                 0.1.0                \n",
            "backports.tempfile       1.0                  \n",
            "backports.weakref        1.0.post1            \n",
            "beautifulsoup4           4.6.3                \n",
            "bleach                   3.1.0                \n",
            "blis                     0.2.4                \n",
            "bokeh                    1.0.4                \n",
            "boto                     2.49.0               \n",
            "boto3                    1.9.185              \n",
            "botocore                 1.12.185             \n",
            "Bottleneck               1.2.1                \n",
            "branca                   0.3.1                \n",
            "bs4                      0.0.1                \n",
            "bz2file                  0.98                 \n",
            "cachetools               3.1.1                \n",
            "certifi                  2019.6.16            \n",
            "cffi                     1.12.3               \n",
            "chainer                  5.4.0                \n",
            "chardet                  3.0.4                \n",
            "Click                    7.0                  \n",
            "cloudpickle              0.6.1                \n",
            "cmake                    3.12.0               \n",
            "colorlover               0.3.0                \n",
            "community                1.0.0b1              \n",
            "contextlib2              0.5.5                \n",
            "convertdate              2.1.3                \n",
            "coverage                 3.7.1                \n",
            "coveralls                0.5                  \n",
            "crcmod                   1.7                  \n",
            "cufflinks                0.14.6               \n",
            "cvxopt                   1.2.3                \n",
            "cvxpy                    1.0.15               \n",
            "cycler                   0.10.0               \n",
            "cymem                    2.0.2                \n",
            "Cython                   0.29.12              \n",
            "daft                     0.0.4                \n",
            "dask                     1.1.5                \n",
            "dataclasses              0.6                  \n",
            "datascience              0.10.6               \n",
            "decorator                4.4.0                \n",
            "defusedxml               0.6.0                \n",
            "descartes                1.1.0                \n",
            "dill                     0.3.0                \n",
            "distributed              1.25.3               \n",
            "Django                   2.2.3                \n",
            "dlib                     19.16.0              \n",
            "dm-sonnet                1.34                 \n",
            "docopt                   0.6.2                \n",
            "docutils                 0.14                 \n",
            "dopamine-rl              1.0.5                \n",
            "easydict                 1.9                  \n",
            "ecos                     2.0.7.post1          \n",
            "editdistance             0.5.3                \n",
            "en-core-web-sm           2.1.0                \n",
            "entrypoints              0.3                  \n",
            "enum34                   1.1.6                \n",
            "ephem                    3.7.6.0              \n",
            "et-xmlfile               1.0.1                \n",
            "fa2                      0.3.5                \n",
            "fancyimpute              0.4.3                \n",
            "fastai                   1.0.54               \n",
            "fastcache                1.1.0                \n",
            "fastdtw                  0.3.2                \n",
            "fastprogress             0.1.21               \n",
            "fastrlock                0.4                  \n",
            "fbprophet                0.5                  \n",
            "feather-format           0.4.0                \n",
            "featuretools             0.4.1                \n",
            "filelock                 3.0.12               \n",
            "fix-yahoo-finance        0.0.22               \n",
            "Flask                    1.1.1                \n",
            "folium                   0.8.3                \n",
            "future                   0.16.0               \n",
            "gast                     0.2.2                \n",
            "GDAL                     2.2.2                \n",
            "gdown                    3.6.4                \n",
            "gensim                   3.6.0                \n",
            "geographiclib            1.49                 \n",
            "geopy                    1.17.0               \n",
            "gevent                   1.4.0                \n",
            "gin-config               0.1.4                \n",
            "glob2                    0.7                  \n",
            "google                   2.0.2                \n",
            "google-api-core          1.13.0               \n",
            "google-api-python-client 1.7.9                \n",
            "google-auth              1.4.2                \n",
            "google-auth-httplib2     0.0.3                \n",
            "google-auth-oauthlib     0.4.0                \n",
            "google-cloud-bigquery    1.14.0               \n",
            "google-cloud-core        1.0.2                \n",
            "google-cloud-datastore   1.8.0                \n",
            "google-cloud-language    1.2.0                \n",
            "google-cloud-storage     1.16.1               \n",
            "google-cloud-translate   1.5.0                \n",
            "google-colab             1.0.0                \n",
            "google-pasta             0.1.7                \n",
            "google-resumable-media   0.3.2                \n",
            "googleapis-common-protos 1.6.0                \n",
            "googledrivedownloader    0.4                  \n",
            "graph-nets               1.0.4                \n",
            "graphviz                 0.10.1               \n",
            "greenlet                 0.4.15               \n",
            "grpcio                   1.15.0               \n",
            "gspread                  3.0.1                \n",
            "gspread-dataframe        3.0.2                \n",
            "gunicorn                 19.9.0               \n",
            "gym                      0.10.11              \n",
            "h5py                     2.8.0                \n",
            "HeapDict                 1.0.0                \n",
            "holidays                 0.9.10               \n",
            "html5lib                 1.0.1                \n",
            "httpimport               0.5.16               \n",
            "httplib2                 0.11.3               \n",
            "humanize                 0.5.1                \n",
            "hyperopt                 0.1.2                \n",
            "ideep4py                 2.0.0.post3          \n",
            "idna                     2.8                  \n",
            "image                    1.5.27               \n",
            "imageio                  2.4.1                \n",
            "imagesize                1.1.0                \n",
            "imbalanced-learn         0.4.3                \n",
            "imblearn                 0.0                  \n",
            "imgaug                   0.2.9                \n",
            "importlib-metadata       0.18                 \n",
            "imutils                  0.5.2                \n",
            "inflect                  2.1.0                \n",
            "intel-openmp             2019.0               \n",
            "intervaltree             2.1.0                \n",
            "ipykernel                4.6.1                \n",
            "ipython                  5.5.0                \n",
            "ipython-genutils         0.2.0                \n",
            "ipython-sql              0.3.9                \n",
            "ipywidgets               7.5.0                \n",
            "itsdangerous             1.1.0                \n",
            "jdcal                    1.4.1                \n",
            "jedi                     0.14.0               \n",
            "jieba                    0.39                 \n",
            "Jinja2                   2.10.1               \n",
            "jmespath                 0.9.4                \n",
            "joblib                   0.13.2               \n",
            "jpeg4py                  0.1.4                \n",
            "jsonschema               2.6.0                \n",
            "jupyter                  1.0.0                \n",
            "jupyter-client           5.3.1                \n",
            "jupyter-console          6.0.0                \n",
            "jupyter-core             4.5.0                \n",
            "kaggle                   1.5.4                \n",
            "kapre                    0.1.3.1              \n",
            "Keras                    2.2.4                \n",
            "Keras-Applications       1.0.8                \n",
            "Keras-Preprocessing      1.1.0                \n",
            "keras-vis                0.4.1                \n",
            "kiwisolver               1.1.0                \n",
            "knnimpute                0.1.0                \n",
            "librosa                  0.6.3                \n",
            "lightgbm                 2.2.3                \n",
            "llvmlite                 0.29.0               \n",
            "lmdb                     0.95                 \n",
            "lucid                    0.3.8                \n",
            "lunardate                0.2.0                \n",
            "lxml                     4.2.6                \n",
            "magenta                  0.3.19               \n",
            "Markdown                 3.1.1                \n",
            "MarkupSafe               1.1.1                \n",
            "matplotlib               3.0.3                \n",
            "matplotlib-venn          0.11.5               \n",
            "mesh-tensorflow          0.0.5                \n",
            "mido                     1.2.6                \n",
            "mir-eval                 0.5                  \n",
            "missingno                0.4.2                \n",
            "mistune                  0.8.4                \n",
            "mizani                   0.5.4                \n",
            "mkl                      2019.0               \n",
            "mlxtend                  0.14.0               \n",
            "more-itertools           7.1.0                \n",
            "moviepy                  0.2.3.5              \n",
            "mpi4py                   3.0.2                \n",
            "mpmath                   1.1.0                \n",
            "msgpack                  0.5.6                \n",
            "multiprocess             0.70.8               \n",
            "multitasking             0.0.9                \n",
            "murmurhash               1.0.2                \n",
            "music21                  5.5.0                \n",
            "natsort                  5.5.0                \n",
            "nbconvert                5.5.0                \n",
            "nbformat                 4.4.0                \n",
            "networkx                 2.3                  \n",
            "nibabel                  2.3.3                \n",
            "nltk                     3.2.5                \n",
            "nose                     1.3.7                \n",
            "notebook                 5.2.2                \n",
            "np-utils                 0.5.10.0             \n",
            "numba                    0.40.1               \n",
            "numexpr                  2.6.9                \n",
            "numpy                    1.16.4               \n",
            "nvidia-ml-py3            7.352.0              \n",
            "oauth2client             4.1.3                \n",
            "oauthlib                 3.0.2                \n",
            "okgrade                  0.4.3                \n",
            "olefile                  0.46                 \n",
            "opencv-contrib-python    3.4.3.18             \n",
            "opencv-python            3.4.5.20             \n",
            "openpyxl                 2.5.9                \n",
            "osqp                     0.5.0                \n",
            "packaging                19.0                 \n",
            "palettable               3.1.1                \n",
            "pandas                   0.24.2               \n",
            "pandas-datareader        0.7.0                \n",
            "pandas-gbq               0.4.1                \n",
            "pandas-profiling         1.4.1                \n",
            "pandocfilters            1.4.2                \n",
            "parso                    0.5.0                \n",
            "pathlib                  1.0.1                \n",
            "patsy                    0.5.1                \n",
            "pexpect                  4.7.0                \n",
            "pickleshare              0.7.5                \n",
            "Pillow                   4.3.0                \n",
            "pip                      19.1.1               \n",
            "pip-tools                3.6.1                \n",
            "plac                     0.9.6                \n",
            "plotly                   3.6.1                \n",
            "plotnine                 0.5.1                \n",
            "pluggy                   0.7.1                \n",
            "portpicker               1.2.0                \n",
            "prefetch-generator       1.0.1                \n",
            "preshed                  2.0.1                \n",
            "pretty-midi              0.2.8                \n",
            "prettytable              0.7.2                \n",
            "progressbar2             3.38.0               \n",
            "prometheus-client        0.7.1                \n",
            "promise                  2.2.1                \n",
            "prompt-toolkit           1.0.16               \n",
            "protobuf                 3.7.1                \n",
            "psutil                   5.4.8                \n",
            "psycopg2                 2.7.6.1              \n",
            "ptyprocess               0.6.0                \n",
            "py                       1.8.0                \n",
            "pyarrow                  0.14.0               \n",
            "pyasn1                   0.4.5                \n",
            "pyasn1-modules           0.2.5                \n",
            "pycocotools              2.0.0                \n",
            "pycparser                2.19                 \n",
            "pydot                    1.3.0                \n",
            "pydot-ng                 2.0.0                \n",
            "pydotplus                2.0.2                \n",
            "pyemd                    0.5.1                \n",
            "pyglet                   1.4.1                \n",
            "Pygments                 2.1.3                \n",
            "pygobject                3.26.1               \n",
            "pymc3                    3.7                  \n",
            "pymongo                  3.8.0                \n",
            "pymystem3                0.2.0                \n",
            "PyOpenGL                 3.1.0                \n",
            "pyparsing                2.4.0                \n",
            "pyrsistent               0.15.3               \n",
            "pysndfile                1.3.3                \n",
            "PySocks                  1.7.0                \n",
            "pystan                   2.19.0.0             \n",
            "pytest                   3.6.4                \n",
            "python-apt               1.6.4                \n",
            "python-chess             0.23.11              \n",
            "python-dateutil          2.5.3                \n",
            "python-louvain           0.13                 \n",
            "python-rtmidi            1.3.0                \n",
            "python-slugify           3.0.2                \n",
            "python-utils             2.3.0                \n",
            "pytz                     2018.9               \n",
            "PyWavelets               1.0.3                \n",
            "PyYAML                   3.13                 \n",
            "pyzmq                    17.0.0               \n",
            "qtconsole                4.5.1                \n",
            "requests                 2.21.0               \n",
            "requests-oauthlib        1.2.0                \n",
            "resampy                  0.2.1                \n",
            "retrying                 1.3.3                \n",
            "rpy2                     2.9.5                \n",
            "rsa                      4.0                  \n",
            "s3fs                     0.2.2                \n",
            "s3transfer               0.2.1                \n",
            "scikit-image             0.15.0               \n",
            "scikit-learn             0.21.2               \n",
            "scipy                    1.3.0                \n",
            "screen-resolution-extra  0.0.0                \n",
            "scs                      2.1.1.post2          \n",
            "seaborn                  0.9.0                \n",
            "semantic-version         2.6.0                \n",
            "Send2Trash               1.5.0                \n",
            "setuptools               41.0.1               \n",
            "setuptools-git           1.2                  \n",
            "Shapely                  1.6.4.post2          \n",
            "simplegeneric            0.8.1                \n",
            "siphash                  0.0.1                \n",
            "six                      1.12.0               \n",
            "sklearn                  0.0                  \n",
            "sklearn-pandas           1.8.0                \n",
            "smart-open               1.8.4                \n",
            "snowballstemmer          1.9.0                \n",
            "sortedcontainers         2.1.0                \n",
            "spacy                    2.1.4                \n",
            "Sphinx                   1.8.5                \n",
            "sphinxcontrib-websupport 1.1.2                \n",
            "SQLAlchemy               1.3.5                \n",
            "sqlparse                 0.3.0                \n",
            "srsly                    0.0.7                \n",
            "stable-baselines         2.2.1                \n",
            "statsmodels              0.10.0               \n",
            "sympy                    1.1.1                \n",
            "tables                   3.4.4                \n",
            "tabulate                 0.8.3                \n",
            "tblib                    1.4.0                \n",
            "tensor2tensor            1.11.0               \n",
            "tensorboard              1.14.0               \n",
            "tensorboardcolab         0.0.22               \n",
            "tensorflow               1.14.0               \n",
            "tensorflow-estimator     1.14.0               \n",
            "tensorflow-hub           0.5.0                \n",
            "tensorflow-metadata      0.13.0               \n",
            "tensorflow-probability   0.7.0                \n",
            "termcolor                1.1.0                \n",
            "terminado                0.8.2                \n",
            "testpath                 0.4.2                \n",
            "text-unidecode           1.2                  \n",
            "textblob                 0.15.3               \n",
            "textgenrnn               1.4.1                \n",
            "tfds-nightly             1.0.2.dev201907090105\n",
            "tflearn                  0.3.2                \n",
            "Theano                   1.0.4                \n",
            "thinc                    7.0.4                \n",
            "toolz                    0.9.0                \n",
            "torch                    1.1.0                \n",
            "torchsummary             1.5.1                \n",
            "torchtext                0.3.1                \n",
            "torchvision              0.3.0                \n",
            "tornado                  4.5.3                \n",
            "tqdm                     4.28.1               \n",
            "traitlets                4.3.2                \n",
            "tweepy                   3.6.0                \n",
            "typing                   3.7.4                \n",
            "tzlocal                  1.5.1                \n",
            "umap-learn               0.3.9                \n",
            "uritemplate              3.0.0                \n",
            "urllib3                  1.24.3               \n",
            "vega-datasets            0.7.0                \n",
            "wasabi                   0.2.2                \n",
            "wcwidth                  0.1.7                \n",
            "webencodings             0.5.1                \n",
            "Werkzeug                 0.15.4               \n",
            "wheel                    0.33.4               \n",
            "widgetsnbextension       3.5.0                \n",
            "wordcloud                1.5.0                \n",
            "wrapt                    1.11.2               \n",
            "xarray                   0.11.3               \n",
            "xgboost                  0.90                 \n",
            "xkit                     0.0.0                \n",
            "xlrd                     1.1.0                \n",
            "xlwt                     1.3.0                \n",
            "yellowbrick              0.9.1                \n",
            "zict                     1.0.0                \n",
            "zipp                     0.5.2                \n",
            "zmq                      0.0.0                \n"
          ],
          "name": "stdout"
        }
      ]
    },
    {
      "cell_type": "code",
      "metadata": {
        "id": "AOhyC_cNEUrU",
        "colab_type": "code",
        "outputId": "41f0c7dc-7974-42ff-f03d-b48d8e310947",
        "colab": {
          "base_uri": "https://localhost:8080/",
          "height": 35
        }
      },
      "source": [
        "!pip install numpy\n"
      ],
      "execution_count": 0,
      "outputs": [
        {
          "output_type": "stream",
          "text": [
            "Requirement already satisfied: numpy in /usr/local/lib/python3.6/dist-packages (1.16.4)\n"
          ],
          "name": "stdout"
        }
      ]
    },
    {
      "cell_type": "code",
      "metadata": {
        "id": "CUeZM4noEdlt",
        "colab_type": "code",
        "outputId": "02da35a0-5866-4a4e-bfd0-790518fcda01",
        "colab": {
          "base_uri": "https://localhost:8080/",
          "height": 35
        }
      },
      "source": [
        "import numpy\n",
        "print(numpy)"
      ],
      "execution_count": 0,
      "outputs": [
        {
          "output_type": "stream",
          "text": [
            "<module 'numpy' from '/usr/local/lib/python3.6/dist-packages/numpy/__init__.py'>\n"
          ],
          "name": "stdout"
        }
      ]
    },
    {
      "cell_type": "code",
      "metadata": {
        "id": "fDZeU4YVEpwp",
        "colab_type": "code",
        "colab": {}
      },
      "source": [
        "import editdistance"
      ],
      "execution_count": 0,
      "outputs": []
    },
    {
      "cell_type": "code",
      "metadata": {
        "id": "Bnzx7R5cEz7q",
        "colab_type": "code",
        "outputId": "809fc1c9-7c83-46ec-9f7b-e031e506973a",
        "colab": {
          "base_uri": "https://localhost:8080/",
          "height": 215
        }
      },
      "source": [
        "#!pip uninstall -y editdistance\n",
        "!pip install editdistance"
      ],
      "execution_count": 0,
      "outputs": [
        {
          "output_type": "stream",
          "text": [
            "Collecting editdistance\n",
            "\u001b[?25l  Downloading https://files.pythonhosted.org/packages/77/67/2b1fe72bdd13ee9ec32b97959d7dfbfcd7c0548081d69aaf8493c1e695f9/editdistance-0.5.3-cp36-cp36m-manylinux1_x86_64.whl (178kB)\n",
            "\u001b[K     |████████████████████████████████| 184kB 5.0MB/s \n",
            "\u001b[?25hInstalling collected packages: editdistance\n",
            "Successfully installed editdistance-0.5.3\n"
          ],
          "name": "stdout"
        },
        {
          "output_type": "display_data",
          "data": {
            "application/vnd.colab-display-data+json": {
              "pip_warning": {
                "packages": [
                  "editdistance"
                ]
              }
            }
          },
          "metadata": {
            "tags": []
          }
        }
      ]
    },
    {
      "cell_type": "code",
      "metadata": {
        "id": "_gW11B0lFdBw",
        "colab_type": "code",
        "outputId": "581ce5b9-ec01-4575-8dbe-c628030026be",
        "colab": {
          "base_uri": "https://localhost:8080/",
          "height": 72
        }
      },
      "source": [
        "import editdistance\n",
        "print(editdistance)\n",
        "print(dir(editdistance))"
      ],
      "execution_count": 0,
      "outputs": [
        {
          "output_type": "stream",
          "text": [
            "<module 'editdistance' from '/usr/local/lib/python3.6/dist-packages/editdistance/__init__.py'>\n",
            "['__all__', '__builtins__', '__cached__', '__doc__', '__file__', '__loader__', '__name__', '__package__', '__path__', '__spec__', 'bycython', 'distance', 'eval']\n"
          ],
          "name": "stdout"
        }
      ]
    },
    {
      "cell_type": "code",
      "metadata": {
        "id": "xBzBt_IBFvTZ",
        "colab_type": "code",
        "outputId": "f830d4ef-85f7-4a93-90e4-5d217d570321",
        "colab": {
          "base_uri": "https://localhost:8080/",
          "height": 35
        }
      },
      "source": [
        "editdistance.eval([], [])"
      ],
      "execution_count": 0,
      "outputs": [
        {
          "output_type": "execute_result",
          "data": {
            "text/plain": [
              "0"
            ]
          },
          "metadata": {
            "tags": []
          },
          "execution_count": 101
        }
      ]
    },
    {
      "cell_type": "code",
      "metadata": {
        "id": "sHBMrX7iGM-H",
        "colab_type": "code",
        "outputId": "476eed4d-f4af-4bcf-d7cf-40a7b96f2a4f",
        "colab": {
          "base_uri": "https://localhost:8080/",
          "height": 176
        }
      },
      "source": [
        "!ls -al\n",
        "!git clone https://github.com/kennethreitz/samplemod"
      ],
      "execution_count": 0,
      "outputs": [
        {
          "output_type": "stream",
          "text": [
            "total 16\n",
            "drwxr-xr-x 1 root root 4096 Jul  3 16:14 .\n",
            "drwxr-xr-x 1 root root 4096 Jul 16 00:27 ..\n",
            "drwxr-xr-x 1 root root 4096 Jul 11 16:05 .config\n",
            "drwxr-xr-x 1 root root 4096 Jul  3 16:14 sample_data\n",
            "Cloning into 'samplemod'...\n",
            "remote: Enumerating objects: 87, done.\u001b[K\n",
            "remote: Total 87 (delta 0), reused 0 (delta 0), pack-reused 87\u001b[K\n",
            "Unpacking objects: 100% (87/87), done.\n"
          ],
          "name": "stdout"
        }
      ]
    },
    {
      "cell_type": "code",
      "metadata": {
        "id": "mDz5KytTG1qj",
        "colab_type": "code",
        "outputId": "31c5edc7-17d2-4d24-9446-e909e3fd91d1",
        "colab": {
          "base_uri": "https://localhost:8080/",
          "height": 123
        }
      },
      "source": [
        "!ls -al"
      ],
      "execution_count": 0,
      "outputs": [
        {
          "output_type": "stream",
          "text": [
            "total 20\n",
            "drwxr-xr-x 1 root root 4096 Jul 16 04:47 .\n",
            "drwxr-xr-x 1 root root 4096 Jul 16 00:27 ..\n",
            "drwxr-xr-x 1 root root 4096 Jul 11 16:05 .config\n",
            "drwxr-xr-x 1 root root 4096 Jul  3 16:14 sample_data\n",
            "drwxr-xr-x 6 root root 4096 Jul 16 04:47 samplemod\n"
          ],
          "name": "stdout"
        }
      ]
    },
    {
      "cell_type": "code",
      "metadata": {
        "id": "TMuaTn21HWnN",
        "colab_type": "code",
        "outputId": "3f4a17f8-3f9c-4d3f-fa41-e7be463678a4",
        "colab": {
          "base_uri": "https://localhost:8080/",
          "height": 354
        }
      },
      "source": [
        "!apt-get install tree"
      ],
      "execution_count": 0,
      "outputs": [
        {
          "output_type": "stream",
          "text": [
            "Reading package lists... Done\n",
            "Building dependency tree       \n",
            "Reading state information... Done\n",
            "The following package was automatically installed and is no longer required:\n",
            "  libnvidia-common-410\n",
            "Use 'apt autoremove' to remove it.\n",
            "The following NEW packages will be installed:\n",
            "  tree\n",
            "0 upgraded, 1 newly installed, 0 to remove and 4 not upgraded.\n",
            "Need to get 40.7 kB of archives.\n",
            "After this operation, 105 kB of additional disk space will be used.\n",
            "Get:1 http://archive.ubuntu.com/ubuntu bionic/universe amd64 tree amd64 1.7.0-5 [40.7 kB]\n",
            "Fetched 40.7 kB in 1s (60.3 kB/s)\n",
            "Selecting previously unselected package tree.\n",
            "(Reading database ... 130963 files and directories currently installed.)\n",
            "Preparing to unpack .../tree_1.7.0-5_amd64.deb ...\n",
            "Unpacking tree (1.7.0-5) ...\n",
            "Setting up tree (1.7.0-5) ...\n",
            "Processing triggers for man-db (2.8.3-2ubuntu0.1) ...\n"
          ],
          "name": "stdout"
        }
      ]
    },
    {
      "cell_type": "code",
      "metadata": {
        "id": "nMO7uGfMHqo-",
        "colab_type": "code",
        "outputId": "7930afc9-ea34-4a72-f786-4650594e4a63",
        "colab": {
          "base_uri": "https://localhost:8080/",
          "height": 424
        }
      },
      "source": [
        "!tree samplemod"
      ],
      "execution_count": 0,
      "outputs": [
        {
          "output_type": "stream",
          "text": [
            "samplemod\n",
            "├── docs\n",
            "│   ├── conf.py\n",
            "│   ├── index.rst\n",
            "│   ├── make.bat\n",
            "│   └── Makefile\n",
            "├── LICENSE\n",
            "├── Makefile\n",
            "├── MANIFEST.in\n",
            "├── README.rst\n",
            "├── requirements.txt\n",
            "├── sample\n",
            "│   ├── core.py\n",
            "│   ├── helpers.py\n",
            "│   └── __init__.py\n",
            "├── setup.py\n",
            "└── tests\n",
            "    ├── context.py\n",
            "    ├── __init__.py\n",
            "    ├── test_advanced.py\n",
            "    └── test_basic.py\n",
            "\n",
            "3 directories, 17 files\n"
          ],
          "name": "stdout"
        }
      ]
    },
    {
      "cell_type": "code",
      "metadata": {
        "id": "rCyFjVDAIRUj",
        "colab_type": "code",
        "outputId": "70dc36fd-782c-4d2c-f1ef-75f418898138",
        "colab": {
          "base_uri": "https://localhost:8080/",
          "height": 159
        }
      },
      "source": [
        "import os\n",
        "cwd = os.getcwd()\n",
        "print(cwd)\n",
        "sample_mod_path = cwd+'/samplemod'\n",
        "print(sample_mod_path)\n",
        "\n",
        "!ls -al $sample_mode_path\n",
        "\n",
        "import sys\n",
        "if not sample_mod_path in sys.path:\n",
        "  sys.path.append(sample_mod_path)\n",
        "\n",
        "\n"
      ],
      "execution_count": 0,
      "outputs": [
        {
          "output_type": "stream",
          "text": [
            "/content\n",
            "/content/samplemod\n",
            "total 20\n",
            "drwxr-xr-x 1 root root 4096 Jul 16 04:47 .\n",
            "drwxr-xr-x 1 root root 4096 Jul 16 00:27 ..\n",
            "drwxr-xr-x 1 root root 4096 Jul 11 16:05 .config\n",
            "drwxr-xr-x 1 root root 4096 Jul  3 16:14 sample_data\n",
            "drwxr-xr-x 6 root root 4096 Jul 16 04:47 samplemod\n"
          ],
          "name": "stdout"
        }
      ]
    },
    {
      "cell_type": "code",
      "metadata": {
        "id": "7djKjC10JvgN",
        "colab_type": "code",
        "outputId": "ab517e9a-c4fe-4892-d89f-e190f27602af",
        "colab": {
          "base_uri": "https://localhost:8080/",
          "height": 55
        }
      },
      "source": [
        "print(sys.path)"
      ],
      "execution_count": 0,
      "outputs": [
        {
          "output_type": "stream",
          "text": [
            "['', '/env/python', '/usr/lib/python36.zip', '/usr/lib/python3.6', '/usr/lib/python3.6/lib-dynload', '/usr/local/lib/python3.6/dist-packages', '/usr/lib/python3/dist-packages', '/usr/local/lib/python3.6/dist-packages/IPython/extensions', '/root/.ipython', '/content/samplemod']\n"
          ],
          "name": "stdout"
        }
      ]
    },
    {
      "cell_type": "code",
      "metadata": {
        "id": "56E4BvMpJ8hh",
        "colab_type": "code",
        "outputId": "45a7825e-30a0-4b29-d530-807cf2da8ca2",
        "colab": {
          "base_uri": "https://localhost:8080/",
          "height": 90
        }
      },
      "source": [
        "from sample import core\n",
        "print(core)\n",
        "print(dir(core))\n",
        "\n",
        "print(core.get_hmm())"
      ],
      "execution_count": 0,
      "outputs": [
        {
          "output_type": "stream",
          "text": [
            "<module 'sample.core' from '/content/samplemod/sample/core.py'>\n",
            "['__builtins__', '__cached__', '__doc__', '__file__', '__loader__', '__name__', '__package__', '__spec__', 'get_hmm', 'helpers', 'hmm']\n",
            "hmmm...\n"
          ],
          "name": "stdout"
        }
      ]
    },
    {
      "cell_type": "code",
      "metadata": {
        "id": "Rgv7Eix8HsQi",
        "colab_type": "code",
        "outputId": "67dc9fd5-aac4-482f-f43b-bd1853068081",
        "colab": {
          "base_uri": "https://localhost:8080/",
          "height": 170
        }
      },
      "source": [
        "\n",
        "\n",
        "print(get_hmm())"
      ],
      "execution_count": 0,
      "outputs": [
        {
          "output_type": "error",
          "ename": "NameError",
          "evalue": "ignored",
          "traceback": [
            "\u001b[0;31m---------------------------------------------------------------------------\u001b[0m",
            "\u001b[0;31mNameError\u001b[0m                                 Traceback (most recent call last)",
            "\u001b[0;32m<ipython-input-107-94cfef226a65>\u001b[0m in \u001b[0;36m<module>\u001b[0;34m()\u001b[0m\n\u001b[0;32m----> 1\u001b[0;31m \u001b[0mprint\u001b[0m\u001b[0;34m(\u001b[0m\u001b[0mget_hmm\u001b[0m\u001b[0;34m(\u001b[0m\u001b[0;34m)\u001b[0m\u001b[0;34m)\u001b[0m\u001b[0;34m\u001b[0m\u001b[0;34m\u001b[0m\u001b[0m\n\u001b[0m",
            "\u001b[0;31mNameError\u001b[0m: name 'get_hmm' is not defined"
          ]
        }
      ]
    },
    {
      "cell_type": "code",
      "metadata": {
        "id": "u4hFwGE1K4UC",
        "colab_type": "code",
        "outputId": "685d4fd1-af7b-4126-9ff1-7c9703dc6a9c",
        "colab": {
          "base_uri": "https://localhost:8080/",
          "height": 70
        }
      },
      "source": [
        "import sample.core\n",
        "\n",
        "print(sample.core.get_hmm())\n",
        "\n",
        "\n",
        "from sample import core\n",
        "\n",
        "print(core.get_hmm())\n",
        "\n",
        "\n",
        "from sample.core import get_hmm\n",
        "\n",
        "print(get_hmm())\n"
      ],
      "execution_count": 0,
      "outputs": [
        {
          "output_type": "stream",
          "text": [
            "hmmm...\n",
            "hmmm...\n",
            "hmmm...\n"
          ],
          "name": "stdout"
        }
      ]
    },
    {
      "cell_type": "code",
      "metadata": {
        "id": "AR6j_rcyMtft",
        "colab_type": "code",
        "outputId": "eeef22b4-3794-4455-bd94-356e484f0ac5",
        "colab": {
          "base_uri": "https://localhost:8080/",
          "height": 90
        }
      },
      "source": [
        "import os\n",
        "\n",
        "print(dir(os))\n",
        "print(os.listdir())\n",
        "\n",
        "from os import listdir\n",
        "print(listdir())"
      ],
      "execution_count": 0,
      "outputs": [
        {
          "output_type": "stream",
          "text": [
            "['CLD_CONTINUED', 'CLD_DUMPED', 'CLD_EXITED', 'CLD_TRAPPED', 'DirEntry', 'EX_CANTCREAT', 'EX_CONFIG', 'EX_DATAERR', 'EX_IOERR', 'EX_NOHOST', 'EX_NOINPUT', 'EX_NOPERM', 'EX_NOUSER', 'EX_OK', 'EX_OSERR', 'EX_OSFILE', 'EX_PROTOCOL', 'EX_SOFTWARE', 'EX_TEMPFAIL', 'EX_UNAVAILABLE', 'EX_USAGE', 'F_LOCK', 'F_OK', 'F_TEST', 'F_TLOCK', 'F_ULOCK', 'GRND_NONBLOCK', 'GRND_RANDOM', 'MutableMapping', 'NGROUPS_MAX', 'O_ACCMODE', 'O_APPEND', 'O_ASYNC', 'O_CLOEXEC', 'O_CREAT', 'O_DIRECT', 'O_DIRECTORY', 'O_DSYNC', 'O_EXCL', 'O_LARGEFILE', 'O_NDELAY', 'O_NOATIME', 'O_NOCTTY', 'O_NOFOLLOW', 'O_NONBLOCK', 'O_PATH', 'O_RDONLY', 'O_RDWR', 'O_RSYNC', 'O_SYNC', 'O_TMPFILE', 'O_TRUNC', 'O_WRONLY', 'POSIX_FADV_DONTNEED', 'POSIX_FADV_NOREUSE', 'POSIX_FADV_NORMAL', 'POSIX_FADV_RANDOM', 'POSIX_FADV_SEQUENTIAL', 'POSIX_FADV_WILLNEED', 'PRIO_PGRP', 'PRIO_PROCESS', 'PRIO_USER', 'P_ALL', 'P_NOWAIT', 'P_NOWAITO', 'P_PGID', 'P_PID', 'P_WAIT', 'PathLike', 'RTLD_DEEPBIND', 'RTLD_GLOBAL', 'RTLD_LAZY', 'RTLD_LOCAL', 'RTLD_NODELETE', 'RTLD_NOLOAD', 'RTLD_NOW', 'R_OK', 'SCHED_BATCH', 'SCHED_FIFO', 'SCHED_IDLE', 'SCHED_OTHER', 'SCHED_RESET_ON_FORK', 'SCHED_RR', 'SEEK_CUR', 'SEEK_DATA', 'SEEK_END', 'SEEK_HOLE', 'SEEK_SET', 'ST_APPEND', 'ST_MANDLOCK', 'ST_NOATIME', 'ST_NODEV', 'ST_NODIRATIME', 'ST_NOEXEC', 'ST_NOSUID', 'ST_RDONLY', 'ST_RELATIME', 'ST_SYNCHRONOUS', 'ST_WRITE', 'TMP_MAX', 'WCONTINUED', 'WCOREDUMP', 'WEXITED', 'WEXITSTATUS', 'WIFCONTINUED', 'WIFEXITED', 'WIFSIGNALED', 'WIFSTOPPED', 'WNOHANG', 'WNOWAIT', 'WSTOPPED', 'WSTOPSIG', 'WTERMSIG', 'WUNTRACED', 'W_OK', 'XATTR_CREATE', 'XATTR_REPLACE', 'XATTR_SIZE_MAX', 'X_OK', '_Environ', '__all__', '__builtins__', '__cached__', '__doc__', '__file__', '__loader__', '__name__', '__package__', '__spec__', '_execvpe', '_exists', '_exit', '_fspath', '_fwalk', '_get_exports_list', '_putenv', '_spawnvef', '_unsetenv', '_wrap_close', 'abc', 'abort', 'access', 'altsep', 'chdir', 'chmod', 'chown', 'chroot', 'close', 'closerange', 'confstr', 'confstr_names', 'cpu_count', 'ctermid', 'curdir', 'defpath', 'device_encoding', 'devnull', 'dup', 'dup2', 'environ', 'environb', 'errno', 'error', 'execl', 'execle', 'execlp', 'execlpe', 'execv', 'execve', 'execvp', 'execvpe', 'extsep', 'fchdir', 'fchmod', 'fchown', 'fdatasync', 'fdopen', 'fork', 'forkpty', 'fpathconf', 'fsdecode', 'fsencode', 'fspath', 'fstat', 'fstatvfs', 'fsync', 'ftruncate', 'fwalk', 'get_blocking', 'get_exec_path', 'get_inheritable', 'get_terminal_size', 'getcwd', 'getcwdb', 'getegid', 'getenv', 'getenvb', 'geteuid', 'getgid', 'getgrouplist', 'getgroups', 'getloadavg', 'getlogin', 'getpgid', 'getpgrp', 'getpid', 'getppid', 'getpriority', 'getrandom', 'getresgid', 'getresuid', 'getsid', 'getuid', 'getxattr', 'initgroups', 'isatty', 'kill', 'killpg', 'lchown', 'linesep', 'link', 'listdir', 'listxattr', 'lockf', 'lseek', 'lstat', 'major', 'makedev', 'makedirs', 'minor', 'mkdir', 'mkfifo', 'mknod', 'name', 'nice', 'open', 'openpty', 'pardir', 'path', 'pathconf', 'pathconf_names', 'pathsep', 'pipe', 'pipe2', 'popen', 'posix_fadvise', 'posix_fallocate', 'pread', 'putenv', 'pwrite', 'read', 'readlink', 'readv', 'remove', 'removedirs', 'removexattr', 'rename', 'renames', 'replace', 'rmdir', 'scandir', 'sched_get_priority_max', 'sched_get_priority_min', 'sched_getaffinity', 'sched_getparam', 'sched_getscheduler', 'sched_param', 'sched_rr_get_interval', 'sched_setaffinity', 'sched_setparam', 'sched_setscheduler', 'sched_yield', 'sendfile', 'sep', 'set_blocking', 'set_inheritable', 'setegid', 'seteuid', 'setgid', 'setgroups', 'setpgid', 'setpgrp', 'setpriority', 'setregid', 'setresgid', 'setresuid', 'setreuid', 'setsid', 'setuid', 'setxattr', 'spawnl', 'spawnle', 'spawnlp', 'spawnlpe', 'spawnv', 'spawnve', 'spawnvp', 'spawnvpe', 'st', 'stat', 'stat_float_times', 'stat_result', 'statvfs', 'statvfs_result', 'strerror', 'supports_bytes_environ', 'supports_dir_fd', 'supports_effective_ids', 'supports_fd', 'supports_follow_symlinks', 'symlink', 'sync', 'sys', 'sysconf', 'sysconf_names', 'system', 'tcgetpgrp', 'tcsetpgrp', 'terminal_size', 'times', 'times_result', 'truncate', 'ttyname', 'umask', 'uname', 'uname_result', 'unlink', 'unsetenv', 'urandom', 'utime', 'wait', 'wait3', 'wait4', 'waitid', 'waitid_result', 'waitpid', 'walk', 'write', 'writev']\n",
            "['.config', 'samplemod', 'sample_data']\n",
            "['.config', 'samplemod', 'sample_data']\n"
          ],
          "name": "stdout"
        }
      ]
    },
    {
      "cell_type": "code",
      "metadata": {
        "id": "K2tGeG9aM22I",
        "colab_type": "code",
        "outputId": "19cecece-d060-4d6a-91f5-cd53795470b9",
        "colab": {
          "base_uri": "https://localhost:8080/",
          "height": 176
        }
      },
      "source": [
        "l = [1,2,3,4]\n",
        "l.append(5)\n",
        "\n",
        "print(l)\n",
        "\n",
        "from tensorflow import keras\n",
        "\n",
        "model = keras.Sequential()\n",
        "print(model.to_yaml())\n"
      ],
      "execution_count": 0,
      "outputs": [
        {
          "output_type": "stream",
          "text": [
            "[1, 2, 3, 4]\n",
            "[1, 2, 3, 4, 5]\n",
            "backend: tensorflow\n",
            "class_name: Sequential\n",
            "config:\n",
            "  layers: []\n",
            "  name: sequential_3\n",
            "keras_version: 2.2.4-tf\n",
            "\n"
          ],
          "name": "stdout"
        }
      ]
    },
    {
      "cell_type": "code",
      "metadata": {
        "id": "NkIqAeHJMzTI",
        "colab_type": "code",
        "colab": {}
      },
      "source": [
        "# 0 + 1 + 5 - 2\n",
        "\n",
        "\n",
        "def Calculator:\n",
        "  \n",
        "  attribute = 0\n",
        "  \n",
        "  def method(self, a, b):\n",
        "    ....\n",
        "    \n",
        "    \n",
        "    \n"
      ],
      "execution_count": 0,
      "outputs": []
    },
    {
      "cell_type": "code",
      "metadata": {
        "id": "Ky9yW27eXD6Z",
        "colab_type": "code",
        "outputId": "2ddf56f0-368b-4817-8782-76d852d23f1c",
        "colab": {
          "base_uri": "https://localhost:8080/",
          "height": 52
        }
      },
      "source": [
        "# *, /\n",
        "\n",
        "\n",
        "class Caculator:\n",
        "  result = 0\n",
        "  def add(self, v):\n",
        "    self.result += v\n",
        "    return self.result\n",
        "  def minus(self, v):\n",
        "    self.result -= v\n",
        "    return self.result\n",
        "  def mul(self, v):\n",
        "    self.result *= v\n",
        "    return self.result\n",
        "  def div(self, v):\n",
        "    self.result /= v\n",
        "    return self.result\n",
        "  def clear(self):\n",
        "    self.result = 0\n",
        "    \n",
        "\n",
        "cal = Caculator() \n",
        "cal.add(1)\n",
        "cal.add(5)\n",
        "cal.minus(2)\n",
        "cal.mul(3)\n",
        "cal.div(2)\n",
        "print(cal.result) \n",
        "\n",
        "6\n",
        "\n",
        "\n",
        "\n",
        "\n",
        "\n"
      ],
      "execution_count": 0,
      "outputs": [
        {
          "output_type": "stream",
          "text": [
            "6.0\n"
          ],
          "name": "stdout"
        },
        {
          "output_type": "execute_result",
          "data": {
            "text/plain": [
              "6"
            ]
          },
          "metadata": {
            "tags": []
          },
          "execution_count": 127
        }
      ]
    },
    {
      "cell_type": "code",
      "metadata": {
        "id": "M3CBToNCYEzJ",
        "colab_type": "code",
        "outputId": "4d0e4827-c738-4f2a-fc52-4c5ba27a6401",
        "colab": {
          "base_uri": "https://localhost:8080/",
          "height": 35
        }
      },
      "source": [
        "class Calculator2:\n",
        "  result = 0\n",
        "  def add(self, v):\n",
        "    self.result += v\n",
        "    return self\n",
        "  def minus(self, v):\n",
        "    self.result -= v\n",
        "    return self\n",
        "  def mul(self, v):\n",
        "    self.result *= v\n",
        "    return self\n",
        "  def div(self, v):\n",
        "    self.result /= v\n",
        "    return self\n",
        "  def clear(self):\n",
        "    self.result = 0\n",
        "    return self\n",
        "\n",
        "cal = Calculator2()\n",
        "\n",
        "cal.add(1).add(5).minus(2).mul(3).div(2)\n",
        "print(cal.result)\n",
        "# 6.0\n"
      ],
      "execution_count": 0,
      "outputs": [
        {
          "output_type": "stream",
          "text": [
            "6.0\n"
          ],
          "name": "stdout"
        }
      ]
    },
    {
      "cell_type": "code",
      "metadata": {
        "id": "Ey_Ul7dFa0oO",
        "colab_type": "code",
        "outputId": "eae78454-4061-464c-b5a2-65cb11976e25",
        "colab": {
          "base_uri": "https://localhost:8080/",
          "height": 212
        }
      },
      "source": [
        "# cal.add(1).add(5).minus(2).mul(3).div(2)\n",
        "# print(cal.result)\n",
        "# cal.show_history()\n",
        "# add 1\n",
        "# add 5\n",
        "# minus 2\n",
        "# mul 3\n",
        "# div 2\n",
        "\n",
        "class Calculator3:\n",
        "  result = 0\n",
        "  _history = [] # ADDED\n",
        "  def add(self, v):\n",
        "    self.result += v\n",
        "    self._add_history(\"add\", v) # ADDED\n",
        "    return self\n",
        "  def minus(self, v):\n",
        "    self.result -= v\n",
        "    self._add_history(\"minus\", v) # ADDED\n",
        "    return self\n",
        "  def mul(self, v):\n",
        "    self.result *= v\n",
        "    self._add_history(\"mul\", v) # ADDED\n",
        "    return self\n",
        "  def div(self, v):\n",
        "    self.result /= v\n",
        "    self._add_history(\"div\", v) # ADDED\n",
        "    return self\n",
        "  def _add_history(self, op, v):\n",
        "    self._history.append(\"{} {}\".format(op, v))  \n",
        "  def clear(self):\n",
        "    self.result = 0\n",
        "    return self\n",
        "  def show_history(self): # ADDED\n",
        "    print(\"\\n\".join(self._history))\n",
        "    \n",
        "  \n",
        "  \n",
        "cal = Calculator3()\n",
        "cal.add(1).add(5).minus(2).mul(3).div(2)\n",
        "print(cal.result)\n",
        "\n",
        "cal.show_history()\n",
        "\n",
        "cal.clear()\n",
        "cal.show_history()\n",
        "\n"
      ],
      "execution_count": 0,
      "outputs": [
        {
          "output_type": "stream",
          "text": [
            "6.0\n",
            "add 1\n",
            "add 5\n",
            "minus 2\n",
            "mul 3\n",
            "div 2\n",
            "add 1\n",
            "add 5\n",
            "minus 2\n",
            "mul 3\n",
            "div 2\n"
          ],
          "name": "stdout"
        }
      ]
    },
    {
      "cell_type": "code",
      "metadata": {
        "id": "TCjwctmGo5O9",
        "colab_type": "code",
        "outputId": "290beea0-f07d-48c9-94e8-668e2f113dea",
        "colab": {
          "base_uri": "https://localhost:8080/",
          "height": 141
        }
      },
      "source": [
        "class Calculator4:\n",
        "  result = 0\n",
        "  _history = [] # ADDED\n",
        "  def add(self, v):\n",
        "    self.result += v\n",
        "    self._add_history(\"add\", v) # ADDED\n",
        "    return self\n",
        "  def minus(self, v):\n",
        "    self.result -= v\n",
        "    self._add_history(\"minus\", v)\n",
        "    return self\n",
        "  def mul(self, v):\n",
        "    self.result *= v\n",
        "    self._add_history(\"mul\", v)\n",
        "    return self\n",
        "  def div(self, v):\n",
        "    ignored = (v==0) # ADDED\n",
        "    if not ignored: # ADDED\n",
        "      self.result /= v\n",
        "    self._add_history(\"div\", v, ignored) # MODIFIED\n",
        "    return self\n",
        "  def _add_history(self, op, v, ignored=False): # MODIFIED\n",
        "    message = \"{} {}\".format(op, v) # ADDED\n",
        "    if ignored: message += \" IGNORED\" # ADDED\n",
        "    self._history.append(message)    \n",
        "  def clear(self):\n",
        "    self.result = 0\n",
        "    return self\n",
        "  def show_history(self):\n",
        "    print(\"\\n\".join(self._history))\n",
        "    \n",
        "cal = Calculator4()\n",
        "cal.add(1).add(5).div(0).minus(2).mul(3).div(2)\n",
        "print(cal.result)\n",
        "\n",
        "cal.show_history()\n",
        "\n",
        "\n"
      ],
      "execution_count": 0,
      "outputs": [
        {
          "output_type": "stream",
          "text": [
            "6.0\n",
            "add 1\n",
            "add 5\n",
            "div 0 IGNORED\n",
            "minus 2\n",
            "mul 3\n",
            "div 2\n"
          ],
          "name": "stdout"
        }
      ]
    },
    {
      "cell_type": "code",
      "metadata": {
        "id": "KyeMpWx9o5uv",
        "colab_type": "code",
        "colab": {}
      },
      "source": [
        ""
      ],
      "execution_count": 0,
      "outputs": []
    }
  ]
}