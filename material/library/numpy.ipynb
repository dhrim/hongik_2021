{
  "nbformat": 4,
  "nbformat_minor": 0,
  "metadata": {
    "colab": {
      "name": "numpy.ipynb",
      "version": "0.3.2",
      "provenance": [],
      "collapsed_sections": []
    },
    "kernelspec": {
      "name": "python3",
      "display_name": "Python 3"
    }
  },
  "cells": [
    {
      "cell_type": "markdown",
      "metadata": {
        "id": "w6UWi8xnQoLm",
        "colab_type": "text"
      },
      "source": [
        "# Numpy\n",
        "\n",
        "mostly copy from http://taewan.kim/post/numpy_cheat_sheet/"
      ]
    },
    {
      "cell_type": "code",
      "metadata": {
        "id": "xV3jVYiFL-jO",
        "colab_type": "code",
        "colab": {}
      },
      "source": [
        "import numpy as np\n"
      ],
      "execution_count": 0,
      "outputs": []
    },
    {
      "cell_type": "code",
      "metadata": {
        "id": "a26RCH5SP4ye",
        "colab_type": "code",
        "colab": {}
      },
      "source": [
        "def pprint(arr):\n",
        "    print(\"shape: {}, dimension: {}, dtype:{}\".format(arr.shape, arr.ndim, arr.dtype))\n",
        "    print(arr)"
      ],
      "execution_count": 0,
      "outputs": []
    },
    {
      "cell_type": "markdown",
      "metadata": {
        "id": "NnzdKlPrRNbz",
        "colab_type": "text"
      },
      "source": [
        "# 배열 생성"
      ]
    },
    {
      "cell_type": "markdown",
      "metadata": {
        "id": "ajwOoHcjR0mf",
        "colab_type": "text"
      },
      "source": [
        "## 파이썬 리스트로 배열 생성"
      ]
    },
    {
      "cell_type": "code",
      "metadata": {
        "id": "c92Zj94VQnpi",
        "colab_type": "code",
        "outputId": "07a0a31b-52a3-4a4a-eb9c-bc40e8d7e36e",
        "colab": {
          "base_uri": "https://localhost:8080/",
          "height": 67
        }
      },
      "source": [
        "arr = [1, 2, 3]\n",
        "a = np.array([1, 2, 3])\n",
        "pprint(a)"
      ],
      "execution_count": 0,
      "outputs": [
        {
          "output_type": "stream",
          "text": [
            "<class 'numpy.ndarray'>\n",
            "shape: (3,), dimension: 1, dtype:int64\n",
            "[1 2 3]\n"
          ],
          "name": "stdout"
        }
      ]
    },
    {
      "cell_type": "markdown",
      "metadata": {
        "id": "TKxsYWv0_AgX",
        "colab_type": "text"
      },
      "source": [
        "```\n",
        "[1, 2, 3]의 경우 shape (3, ), 1차원의 numpy 어레이이다.\n",
        "```\n",
        "\n"
      ]
    },
    {
      "cell_type": "markdown",
      "metadata": {
        "id": "gm38qP-V_28_",
        "colab_type": "text"
      },
      "source": [
        "## 튜플로서의 shape 표현\n",
        "\n",
        "shape: (3, )은 값을 1개 갖는 튜플이다.\n",
        "\n",
        "튜플임을 나타내기 위해서 (3)이 아닌 (3,)으로 표현한다.\n",
        "\n",
        "<br>\n",
        "\n",
        "(3,)이 아닌 (3)으로 표현하면 튜플이 아닌 값으로 처리하여 다음과 같이 오류가 발생한다."
      ]
    },
    {
      "cell_type": "code",
      "metadata": {
        "id": "0BJbvuMaQwe2",
        "colab_type": "code",
        "outputId": "d17b2b95-d954-414d-aa87-4ef857aa1907",
        "colab": {
          "base_uri": "https://localhost:8080/",
          "height": 246
        }
      },
      "source": [
        "t = (3,)\n",
        "print(type(t))\n",
        "print(len(t))\n",
        "\n",
        "i = (3)\n",
        "print(type(i))\n",
        "print(len(i))"
      ],
      "execution_count": 0,
      "outputs": [
        {
          "output_type": "stream",
          "text": [
            "<class 'tuple'>\n",
            "1\n",
            "<class 'int'>\n"
          ],
          "name": "stdout"
        },
        {
          "output_type": "error",
          "ename": "TypeError",
          "evalue": "ignored",
          "traceback": [
            "\u001b[0;31m---------------------------------------------------------------------------\u001b[0m",
            "\u001b[0;31mTypeError\u001b[0m                                 Traceback (most recent call last)",
            "\u001b[0;32m<ipython-input-35-7f3bc036b0f9>\u001b[0m in \u001b[0;36m<module>\u001b[0;34m()\u001b[0m\n\u001b[1;32m      5\u001b[0m \u001b[0mi\u001b[0m \u001b[0;34m=\u001b[0m \u001b[0;34m(\u001b[0m\u001b[0;36m3\u001b[0m\u001b[0;34m)\u001b[0m\u001b[0;34m\u001b[0m\u001b[0;34m\u001b[0m\u001b[0m\n\u001b[1;32m      6\u001b[0m \u001b[0mprint\u001b[0m\u001b[0;34m(\u001b[0m\u001b[0mtype\u001b[0m\u001b[0;34m(\u001b[0m\u001b[0mi\u001b[0m\u001b[0;34m)\u001b[0m\u001b[0;34m)\u001b[0m\u001b[0;34m\u001b[0m\u001b[0;34m\u001b[0m\u001b[0m\n\u001b[0;32m----> 7\u001b[0;31m \u001b[0mprint\u001b[0m\u001b[0;34m(\u001b[0m\u001b[0mlen\u001b[0m\u001b[0;34m(\u001b[0m\u001b[0mi\u001b[0m\u001b[0;34m)\u001b[0m\u001b[0;34m)\u001b[0m\u001b[0;34m\u001b[0m\u001b[0;34m\u001b[0m\u001b[0m\n\u001b[0m",
            "\u001b[0;31mTypeError\u001b[0m: object of type 'int' has no len()"
          ]
        }
      ]
    },
    {
      "cell_type": "markdown",
      "metadata": {
        "id": "pRz0JPfiAcV7",
        "colab_type": "text"
      },
      "source": [
        "다음은 요소의 갯수를 하나씩 줄여가는 튜플의 예이다."
      ]
    },
    {
      "cell_type": "code",
      "metadata": {
        "id": "SFcwhSXGAZTm",
        "colab_type": "code",
        "colab": {
          "base_uri": "https://localhost:8080/",
          "height": 168
        },
        "outputId": "228484ff-3c9a-4418-c760-b1257948ab1c"
      },
      "source": [
        "t = (1,2,3)\n",
        "print(type(t))\n",
        "print(len(t))\n",
        "print(t[0])\n",
        "\n",
        "t = (1,2)\n",
        "print(type(t))\n",
        "print(len(t))\n",
        "print(t[0])\n",
        "\n",
        "t = (1,)\n",
        "print(type(t))\n",
        "print(len(t))\n",
        "print(t[0])"
      ],
      "execution_count": 2,
      "outputs": [
        {
          "output_type": "stream",
          "text": [
            "<class 'tuple'>\n",
            "3\n",
            "1\n",
            "<class 'tuple'>\n",
            "2\n",
            "1\n",
            "<class 'tuple'>\n",
            "1\n",
            "1\n"
          ],
          "name": "stdout"
        }
      ]
    },
    {
      "cell_type": "markdown",
      "metadata": {
        "id": "r5wdezyX_bOy",
        "colab_type": "text"
      },
      "source": [
        "## numpy의 속성과 메소드들\n",
        "\n",
        "아주 많다.\n",
        "\n",
        "하지만 deep learning에서는 전부다 알 필요는 없다."
      ]
    },
    {
      "cell_type": "code",
      "metadata": {
        "id": "l6utIDukwv7g",
        "colab_type": "code",
        "outputId": "594b7221-e677-4e86-86af-cbd506d6a34a",
        "colab": {
          "base_uri": "https://localhost:8080/",
          "height": 70
        }
      },
      "source": [
        "print(type(a))\n",
        "print([ x for x in dir(type(a)) if x[0]!='_' ])\n",
        "\n",
        "# numpy.ndarray API : https://docs.scipy.org/doc/numpy/reference/arrays.ndarray.html"
      ],
      "execution_count": 0,
      "outputs": [
        {
          "output_type": "stream",
          "text": [
            "<class 'numpy.ndarray'>\n",
            "['T', 'all', 'any', 'argmax', 'argmin', 'argpartition', 'argsort', 'astype', 'base', 'byteswap', 'choose', 'clip', 'compress', 'conj', 'conjugate', 'copy', 'ctypes', 'cumprod', 'cumsum', 'data', 'diagonal', 'dot', 'dtype', 'dump', 'dumps', 'fill', 'flags', 'flat', 'flatten', 'getfield', 'imag', 'item', 'itemset', 'itemsize', 'max', 'mean', 'min', 'nbytes', 'ndim', 'newbyteorder', 'nonzero', 'partition', 'prod', 'ptp', 'put', 'ravel', 'real', 'repeat', 'reshape', 'resize', 'round', 'searchsorted', 'setfield', 'setflags', 'shape', 'size', 'sort', 'squeeze', 'std', 'strides', 'sum', 'swapaxes', 'take', 'tobytes', 'tofile', 'tolist', 'tostring', 'trace', 'transpose', 'var', 'view']\n"
          ],
          "name": "stdout"
        }
      ]
    },
    {
      "cell_type": "markdown",
      "metadata": {
        "id": "cKqhWyZmAKFD",
        "colab_type": "text"
      },
      "source": [
        "## dtype\n",
        "\n",
        "데이터 타입을 설정해 줄 수 있다."
      ]
    },
    {
      "cell_type": "code",
      "metadata": {
        "id": "GVmwlu6ARTqT",
        "colab_type": "code",
        "colab": {}
      },
      "source": [
        "arr = [1, 2, 3]\n",
        "a = np.array([1, 2, 3], dtype=float)\n",
        "pprint(a)"
      ],
      "execution_count": 0,
      "outputs": []
    },
    {
      "cell_type": "code",
      "metadata": {
        "id": "jT_m-Rj4Rt_f",
        "colab_type": "code",
        "outputId": "5019595a-9b62-4d71-988f-6e8ecaa49b3c",
        "colab": {
          "base_uri": "https://localhost:8080/",
          "height": 50
        }
      },
      "source": [
        "arr = [1., 2., 3.]\n",
        "a = np.array([1, 2, 3], dtype=float)\n",
        "pprint(a)"
      ],
      "execution_count": 0,
      "outputs": [
        {
          "output_type": "stream",
          "text": [
            "shape: (3,), dimension: 1, dtype:float64\n",
            "[1. 2. 3.]\n"
          ],
          "name": "stdout"
        }
      ]
    },
    {
      "cell_type": "code",
      "metadata": {
        "id": "AvarmcQyRKiQ",
        "colab_type": "code",
        "outputId": "da325e53-742b-47a4-988b-22fbdba4ef49",
        "colab": {
          "base_uri": "https://localhost:8080/",
          "height": 118
        }
      },
      "source": [
        "arr = [[1,2,3], [4,5,6]]\n",
        "a= np.array(arr)\n",
        "pprint(a)\n",
        "\n",
        "arr = [(1,2,3), (4,5,6)]\n",
        "a= np.array(arr)\n",
        "pprint(a)\n"
      ],
      "execution_count": 0,
      "outputs": [
        {
          "output_type": "stream",
          "text": [
            "shape: (2, 3), dimension: 2, dtype:int64\n",
            "[[1 2 3]\n",
            " [4 5 6]]\n",
            "shape: (2, 3), dimension: 2, dtype:int64\n",
            "[[1 2 3]\n",
            " [4 5 6]]\n"
          ],
          "name": "stdout"
        }
      ]
    },
    {
      "cell_type": "markdown",
      "metadata": {
        "id": "ZOuWhJmTR7gM",
        "colab_type": "text"
      },
      "source": [
        "## 배열 생성 메소드\n",
        "\n",
        "```\n",
        "np.array()\n",
        "np.arange()\n",
        "\n",
        "np.zeros()\n",
        "np.ones()\n",
        "np.full()\n",
        "np.eye()\n",
        "np.empty()\n",
        "\n",
        "np.zeros_like()\n",
        "np.ones_like()\n",
        "np.full_like()\n",
        "np.empty_like()\n",
        "\n",
        "np.random.normal()\n",
        "np.random.rand()\n",
        "np.random.randn()\n",
        "np.random.randint()\n",
        "```"
      ]
    },
    {
      "cell_type": "code",
      "metadata": {
        "id": "Qu9MwGzYQ56T",
        "colab_type": "code",
        "outputId": "90650937-e99f-4c73-b6cc-d3a33dee5e7c",
        "colab": {
          "base_uri": "https://localhost:8080/",
          "height": 84
        }
      },
      "source": [
        "a = np.zeros((3, 4))\n",
        "pprint(a)"
      ],
      "execution_count": 0,
      "outputs": [
        {
          "output_type": "stream",
          "text": [
            "shape: (3, 4), dimension: 2, dtype:float64\n",
            "[[0. 0. 0. 0.]\n",
            " [0. 0. 0. 0.]\n",
            " [0. 0. 0. 0.]]\n"
          ],
          "name": "stdout"
        }
      ]
    },
    {
      "cell_type": "code",
      "metadata": {
        "id": "hc1k0NcASAPk",
        "colab_type": "code",
        "outputId": "f35b97bc-5b31-4d59-868f-70fdf5c57b30",
        "colab": {
          "base_uri": "https://localhost:8080/",
          "height": 151
        }
      },
      "source": [
        "a = np.ones((2,3,4),dtype=np.int16)\n",
        "pprint(a)"
      ],
      "execution_count": 0,
      "outputs": [
        {
          "output_type": "stream",
          "text": [
            "shape: (2, 3, 4), dimension: 3, dtype:int16\n",
            "[[[1 1 1 1]\n",
            "  [1 1 1 1]\n",
            "  [1 1 1 1]]\n",
            "\n",
            " [[1 1 1 1]\n",
            "  [1 1 1 1]\n",
            "  [1 1 1 1]]]\n"
          ],
          "name": "stdout"
        }
      ]
    },
    {
      "cell_type": "code",
      "metadata": {
        "id": "AVBqqOrRSL02",
        "colab_type": "code",
        "outputId": "daaa14ad-82b2-4752-f0cd-35a064ae5668",
        "colab": {
          "base_uri": "https://localhost:8080/",
          "height": 67
        }
      },
      "source": [
        "a = np.full((2,2),7)\n",
        "pprint(a)"
      ],
      "execution_count": 0,
      "outputs": [
        {
          "output_type": "stream",
          "text": [
            "shape: (2, 2), dimension: 2, dtype:int64\n",
            "[[7 7]\n",
            " [7 7]]\n"
          ],
          "name": "stdout"
        }
      ]
    },
    {
      "cell_type": "code",
      "metadata": {
        "id": "NC9Ftz-5Suie",
        "colab_type": "code",
        "outputId": "a6002dc6-16e6-4938-c228-eb0eed08b6e9",
        "colab": {
          "base_uri": "https://localhost:8080/",
          "height": 101
        }
      },
      "source": [
        "a = np.eye(4)\n",
        "pprint(a)"
      ],
      "execution_count": 0,
      "outputs": [
        {
          "output_type": "stream",
          "text": [
            "shape: (4, 4), dimension: 2, dtype:float64\n",
            "[[1. 0. 0. 0.]\n",
            " [0. 1. 0. 0.]\n",
            " [0. 0. 1. 0.]\n",
            " [0. 0. 0. 1.]]\n"
          ],
          "name": "stdout"
        }
      ]
    },
    {
      "cell_type": "code",
      "metadata": {
        "id": "crIpK5L6S1z0",
        "colab_type": "code",
        "outputId": "f6c77eb6-be4b-4b8c-fa18-dcb8fc5542ea",
        "colab": {
          "base_uri": "https://localhost:8080/",
          "height": 101
        }
      },
      "source": [
        "a = np.empty((4,2))\n",
        "pprint(a)"
      ],
      "execution_count": 0,
      "outputs": [
        {
          "output_type": "stream",
          "text": [
            "shape: (4, 2), dimension: 2, dtype:float64\n",
            "[[1.79398793e-316 1.58101007e-322]\n",
            " [8.70018274e-313 1.42024213e+161]\n",
            " [7.40447178e-038 1.51176014e+160]\n",
            " [9.39408629e+165 2.26555601e-306]]\n"
          ],
          "name": "stdout"
        }
      ]
    },
    {
      "cell_type": "code",
      "metadata": {
        "id": "CV3nuKRoS2C2",
        "colab_type": "code",
        "outputId": "a8f48b9a-0f2a-4c21-8d3c-416da5c82e57",
        "colab": {
          "base_uri": "https://localhost:8080/",
          "height": 67
        }
      },
      "source": [
        "a = np.array([[1,2,3], [4,5,6]])\n",
        "b = np.ones_like(a)\n",
        "pprint(b)"
      ],
      "execution_count": 0,
      "outputs": [
        {
          "output_type": "stream",
          "text": [
            "shape: (2, 3), dimension: 2, dtype:int64\n",
            "[[1 1 1]\n",
            " [1 1 1]]\n"
          ],
          "name": "stdout"
        }
      ]
    },
    {
      "cell_type": "code",
      "metadata": {
        "id": "SGQVBZBLS2A0",
        "colab_type": "code",
        "outputId": "52a9bc4b-ab15-434a-c5fe-ecb5806c25a9",
        "colab": {
          "base_uri": "https://localhost:8080/",
          "height": 302
        }
      },
      "source": [
        "a = np.arange(10)\n",
        "pprint(a)\n",
        "\n",
        "import matplotlib.pyplot as plt\n",
        "plt.plot(a, '.')\n",
        "plt.show()"
      ],
      "execution_count": 0,
      "outputs": [
        {
          "output_type": "stream",
          "text": [
            "shape: (10,), dimension: 1, dtype:int64\n",
            "[0 1 2 3 4 5 6 7 8 9]\n"
          ],
          "name": "stdout"
        },
        {
          "output_type": "display_data",
          "data": {
            "image/png": "[encoded data removed]",
            "text/plain": [
              "<Figure size 432x288 with 1 Axes>"
            ]
          },
          "metadata": {
            "tags": []
          }
        }
      ]
    },
    {
      "cell_type": "code",
      "metadata": {
        "id": "qBnXD-iXS1--",
        "colab_type": "code",
        "outputId": "604f3dd2-a3b9-4fd5-ceb1-ebd6b9187bdf",
        "colab": {
          "base_uri": "https://localhost:8080/",
          "height": 118
        }
      },
      "source": [
        "a = np.arange(1,11)\n",
        "pprint(a)\n",
        "a = np.arange(1,11,2)\n",
        "pprint(a)\n",
        "a = np.arange(1,11, dtype=float)\n",
        "pprint(a)\n"
      ],
      "execution_count": 0,
      "outputs": [
        {
          "output_type": "stream",
          "text": [
            "shape: (10,), dimension: 1, dtype:int64\n",
            "[ 1  2  3  4  5  6  7  8  9 10]\n",
            "shape: (5,), dimension: 1, dtype:int64\n",
            "[1 3 5 7 9]\n",
            "shape: (10,), dimension: 1, dtype:float64\n",
            "[ 1.  2.  3.  4.  5.  6.  7.  8.  9. 10.]\n"
          ],
          "name": "stdout"
        }
      ]
    },
    {
      "cell_type": "markdown",
      "metadata": {
        "id": "anj1fxJaBXDd",
        "colab_type": "text"
      },
      "source": [
        "np.arange()는 python의 range()의 파라매터 사용법과 동일하다.\n",
        "\n",
        "아주 자주 사용된다."
      ]
    },
    {
      "cell_type": "code",
      "metadata": {
        "id": "Y-HqXmVFS18F",
        "colab_type": "code",
        "outputId": "41664e51-d737-411e-d307-64724c9e42c9",
        "colab": {
          "base_uri": "https://localhost:8080/",
          "height": 67
        }
      },
      "source": [
        "mean = 0\n",
        "std = 1\n",
        "a = np.random.normal(mean, std, (2, 3))\n",
        "pprint(a)"
      ],
      "execution_count": 0,
      "outputs": [
        {
          "output_type": "stream",
          "text": [
            "shape: (2, 3), dimension: 2, dtype:float64\n",
            "[[ 0.50150997  0.51051138 -0.32658344]\n",
            " [-0.44920719  1.41369947 -0.66105168]]\n"
          ],
          "name": "stdout"
        }
      ]
    },
    {
      "cell_type": "code",
      "metadata": {
        "id": "RTrVysDIS14q",
        "colab_type": "code",
        "outputId": "6ef6cfc1-0748-4a92-bb98-c8d5d17e9226",
        "colab": {
          "base_uri": "https://localhost:8080/",
          "height": 319
        }
      },
      "source": [
        "mean = 0\n",
        "std = 1\n",
        "count = 10000\n",
        "a = np.random.normal(mean, std, count)\n",
        "pprint(a)\n",
        "import matplotlib.pyplot as plt\n",
        "plt.hist(a, bins=100)\n",
        "plt.show()"
      ],
      "execution_count": 0,
      "outputs": [
        {
          "output_type": "stream",
          "text": [
            "shape: (10000,), dimension: 1, dtype:float64\n",
            "[-0.41623195 -0.35643643 -1.14926073 ...  0.23255421  0.97756878\n",
            "  0.6702144 ]\n"
          ],
          "name": "stdout"
        },
        {
          "output_type": "display_data",
          "data": {
            "image/png": "[encoded data removed]",
            "text/plain": [
              "<Figure size 432x288 with 1 Axes>"
            ]
          },
          "metadata": {
            "tags": []
          }
        }
      ]
    },
    {
      "cell_type": "code",
      "metadata": {
        "id": "JRd9knvrS13K",
        "colab_type": "code",
        "outputId": "9ac1308e-e1b7-4dfd-87fa-910c2b489e04",
        "colab": {
          "base_uri": "https://localhost:8080/",
          "height": 336
        }
      },
      "source": [
        "a = np.random.rand(3,2)\n",
        "pprint(a)\n",
        "import matplotlib.pyplot as plt\n",
        "plt.hist(data, bins=100)\n",
        "plt.show()"
      ],
      "execution_count": 0,
      "outputs": [
        {
          "output_type": "stream",
          "text": [
            "shape: (3, 2), dimension: 2, dtype:float64\n",
            "[[0.21939504 0.1306032 ]\n",
            " [0.1738413  0.58894678]\n",
            " [0.53079158 0.42017249]]\n"
          ],
          "name": "stdout"
        },
        {
          "output_type": "display_data",
          "data": {
            "image/png": "[encoded data removed]",
            "text/plain": [
              "<Figure size 432x288 with 1 Axes>"
            ]
          },
          "metadata": {
            "tags": []
          }
        }
      ]
    },
    {
      "cell_type": "code",
      "metadata": {
        "id": "ZRnVyfHApZ2W",
        "colab_type": "code",
        "outputId": "ac6e33d9-17b0-42cf-eaf0-2039549d2d72",
        "colab": {
          "base_uri": "https://localhost:8080/",
          "height": 302
        }
      },
      "source": [
        "count = 10000\n",
        "a = np.random.rand(count)\n",
        "pprint(a)\n",
        "import matplotlib.pyplot as plt\n",
        "plt.hist(a, bins=100)\n",
        "plt.show()"
      ],
      "execution_count": 0,
      "outputs": [
        {
          "output_type": "stream",
          "text": [
            "shape: (10000,), dimension: 1, dtype:float64\n",
            "[0.16259525 0.59047076 0.53801078 ... 0.51357794 0.78417333 0.93648097]\n"
          ],
          "name": "stdout"
        },
        {
          "output_type": "display_data",
          "data": {
            "image/png": "[encoded data removed]",
            "text/plain": [
              "<Figure size 432x288 with 1 Axes>"
            ]
          },
          "metadata": {
            "tags": []
          }
        }
      ]
    },
    {
      "cell_type": "code",
      "metadata": {
        "id": "l6_b-rIOp9bj",
        "colab_type": "code",
        "outputId": "801786b2-059a-44d2-a151-83a0c1e36f9b",
        "colab": {
          "base_uri": "https://localhost:8080/",
          "height": 67
        }
      },
      "source": [
        "a = np.random.randn(2,4) # shape (2,4) normal random\n",
        "pprint(a)"
      ],
      "execution_count": 0,
      "outputs": [
        {
          "output_type": "stream",
          "text": [
            "shape: (2, 4), dimension: 2, dtype:float64\n",
            "[[ 1.02163555  0.9112091   0.02391365  0.9596093 ]\n",
            " [-1.73055408 -0.17582046  0.64781898  0.24740645]]\n"
          ],
          "name": "stdout"
        }
      ]
    },
    {
      "cell_type": "code",
      "metadata": {
        "id": "hY5YyHflp9eO",
        "colab_type": "code",
        "outputId": "4ab821e9-2685-41c7-ccb2-84579da9ae5a",
        "colab": {
          "base_uri": "https://localhost:8080/",
          "height": 67
        }
      },
      "source": [
        "from_in = 5\n",
        "to_ex = 10\n",
        "shape = (2,4)\n",
        "a = np.random.randint(from_in, to_ex, size=shape)\n",
        "pprint(a)"
      ],
      "execution_count": 0,
      "outputs": [
        {
          "output_type": "stream",
          "text": [
            "shape: (2, 4), dimension: 2, dtype:int64\n",
            "[[7 7 8 6]\n",
            " [7 7 6 6]]\n"
          ],
          "name": "stdout"
        }
      ]
    },
    {
      "cell_type": "markdown",
      "metadata": {
        "id": "D0IKG_Xpr9oT",
        "colab_type": "text"
      },
      "source": [
        "# 입출력\n",
        "\n"
      ]
    },
    {
      "cell_type": "code",
      "metadata": {
        "id": "98V1MS81p9jH",
        "colab_type": "code",
        "outputId": "97f55124-9894-4bb6-973c-613390e5f23d",
        "colab": {
          "base_uri": "https://localhost:8080/",
          "height": 218
        }
      },
      "source": [
        "arr = [[1,2,3], [4,5,6]]\n",
        "a= np.array(arr)\n",
        "pprint(a)\n",
        "\n",
        "np.savetxt(\"data1.csv\", a, delimiter=',')\n",
        "!ls -al"
      ],
      "execution_count": 0,
      "outputs": [
        {
          "output_type": "stream",
          "text": [
            "shape: (2, 3), dimension: 2, dtype:int64\n",
            "[[1 2 3]\n",
            " [4 5 6]]\n",
            "total 24\n",
            "drwxr-xr-x 1 root root 4096 Jul 16 12:15 .\n",
            "drwxr-xr-x 1 root root 4096 Jul 16 09:17 ..\n",
            "drwxr-xr-x 1 root root 4096 Jul 11 16:05 .config\n",
            "-rw-r--r-- 1 root root  150 Jul 16 12:16 data1.csv\n",
            "drwxr-xr-x 1 root root 4096 Jul  3 16:14 sample_data\n",
            "drwxr-xr-x 6 root root 4096 Jul 16 09:32 samplemod\n",
            "1.000000000000000000e+00,2.000000000000000000e+00,3.000000000000000000e+00\n",
            "4.000000000000000000e+00,5.000000000000000000e+00,6.000000000000000000e+00\n"
          ],
          "name": "stdout"
        }
      ]
    },
    {
      "cell_type": "code",
      "metadata": {
        "id": "fhh-PnxBp9lz",
        "colab_type": "code",
        "outputId": "3316b6d0-7aaa-4301-869a-89d76b55aaa3",
        "colab": {
          "base_uri": "https://localhost:8080/",
          "height": 101
        }
      },
      "source": [
        "!cat data1.csv\n",
        "b = np.loadtxt(\"data1.csv\", delimiter=',')\n",
        "pprint(b)"
      ],
      "execution_count": 0,
      "outputs": [
        {
          "output_type": "stream",
          "text": [
            "1.000000000000000000e+00,2.000000000000000000e+00,3.000000000000000000e+00\n",
            "4.000000000000000000e+00,5.000000000000000000e+00,6.000000000000000000e+00\n",
            "shape: (2, 3), dimension: 2, dtype:float64\n",
            "[[1. 2. 3.]\n",
            " [4. 5. 6.]]\n"
          ],
          "name": "stdout"
        }
      ]
    },
    {
      "cell_type": "code",
      "metadata": {
        "id": "CAhlpTG7p9hA",
        "colab_type": "code",
        "outputId": "855007b1-2949-4b98-c76f-34b122e6e70c",
        "colab": {
          "base_uri": "https://localhost:8080/",
          "height": 151
        }
      },
      "source": [
        "f = open(\"data2.csv\", \"w\")\n",
        "f.write(\"a,b,c\\n\")\n",
        "f.write(\"1,2,3\\n\")\n",
        "f.write(\"4,5,6\\n\")\n",
        "f.close()\n",
        "!ls -al"
      ],
      "execution_count": 0,
      "outputs": [
        {
          "output_type": "stream",
          "text": [
            "total 28\n",
            "drwxr-xr-x 1 root root 4096 Jul 16 12:19 .\n",
            "drwxr-xr-x 1 root root 4096 Jul 16 09:17 ..\n",
            "drwxr-xr-x 1 root root 4096 Jul 11 16:05 .config\n",
            "-rw-r--r-- 1 root root  150 Jul 16 12:16 data1.csv\n",
            "-rw-r--r-- 1 root root   18 Jul 16 12:25 data2.csv\n",
            "drwxr-xr-x 1 root root 4096 Jul  3 16:14 sample_data\n",
            "drwxr-xr-x 6 root root 4096 Jul 16 09:32 samplemod\n"
          ],
          "name": "stdout"
        }
      ]
    },
    {
      "cell_type": "code",
      "metadata": {
        "id": "jfeos_qgvRuD",
        "colab_type": "code",
        "outputId": "0d0caf7a-480f-4a43-c120-52771e23c63f",
        "colab": {
          "base_uri": "https://localhost:8080/",
          "height": 118
        }
      },
      "source": [
        "!cat data2.csv\n",
        "b = np.loadtxt(\"data2.csv\", delimiter=',', skiprows=1)\n",
        "pprint(b)"
      ],
      "execution_count": 0,
      "outputs": [
        {
          "output_type": "stream",
          "text": [
            "a,b,c\n",
            "1,2,3\n",
            "4,5,6\n",
            "shape: (2, 3), dimension: 2, dtype:float64\n",
            "[[1. 2. 3.]\n",
            " [4. 5. 6.]]\n"
          ],
          "name": "stdout"
        }
      ]
    },
    {
      "cell_type": "markdown",
      "metadata": {
        "id": "E0VPTtB1vwC-",
        "colab_type": "text"
      },
      "source": [
        "# 데이터 타입\n",
        "```\n",
        "np.int64 : 64 비트 정수 타입\n",
        "np.float32 : 32 비트 부동 소수 타입\n",
        "np.complex : 복소수 (128 float)\n",
        "np.bool : 불린 타입 (Trur, False)\n",
        "np.object : 파이썬 객체 타입\n",
        "np.string_ : 고정자리 스트링 타입\n",
        "np.unicode_ : 고정자리 유니코드 타입\n",
        "```"
      ]
    },
    {
      "cell_type": "code",
      "metadata": {
        "id": "Ab0XUbzmvSGX",
        "colab_type": "code",
        "outputId": "6745c4e8-0616-4f7c-ed00-5ada5fe57ee8",
        "colab": {
          "base_uri": "https://localhost:8080/",
          "height": 34
        }
      },
      "source": [
        "a = np.random.randn(2,4) # shape (2,4) normal random\n",
        "print(type(a))"
      ],
      "execution_count": 0,
      "outputs": [
        {
          "output_type": "stream",
          "text": [
            "<class 'numpy.ndarray'>\n"
          ],
          "name": "stdout"
        }
      ]
    },
    {
      "cell_type": "markdown",
      "metadata": {
        "id": "n1hRq6d4xR-5",
        "colab_type": "text"
      },
      "source": [
        "# 배열 상태 보기\n",
        "\n",
        "|  대상 |  설명 | 방법 | 결과 예 |  \n",
        "| --------|---------|--------|-----------| \n",
        "| shape\t |   np.ndarray.shape 속성 | \t arr.shape\t    | (5, 2, 3) | \n",
        "| 길이\t  |   일차원의 배열 길이 확인\t  |   len(arr)\t     | 5 | \n",
        "| 차원\t  |   np.ndarray.ndim 속성\t|   arr.ndim\t    | 3 | \n",
        "| 요소수\t |  np.ndarray.size 속성\t  |  arr.size\t      | 30 | \n",
        "| 타입\t  |  np.ndarray.dtype 속성\t|  arr.dtype\t    |‘float64’| \n",
        "\n",
        "\n"
      ]
    },
    {
      "cell_type": "code",
      "metadata": {
        "id": "L0vRZivvy410",
        "colab_type": "code",
        "outputId": "740c0553-7429-48f1-f372-49fa6f9da8e9",
        "colab": {
          "base_uri": "https://localhost:8080/",
          "height": 101
        }
      },
      "source": [
        "arr = np.random.random((5,2,3))\n",
        "\n",
        "print(\"shape =\", arr.shape)\n",
        "print(\"len =\", len(arr))\n",
        "print(\"ndim =\", arr.ndim)\n",
        "print(\"size =\", arr.size)\n",
        "print(\"dtype =\", arr.dtype)"
      ],
      "execution_count": 0,
      "outputs": [
        {
          "output_type": "stream",
          "text": [
            "shape = (5, 2, 3)\n",
            "len = 5\n",
            "ndim = 3\n",
            "size = 30\n",
            "dtype = float64\n"
          ],
          "name": "stdout"
        }
      ]
    },
    {
      "cell_type": "markdown",
      "metadata": {
        "id": "0YcMvuXYA3QE",
        "colab_type": "text"
      },
      "source": [
        "# 참조와 슬라이싱\n",
        "![대체 텍스트](https://taewanmerepo.github.io/2018/01/numpy/slice1.png)"
      ]
    },
    {
      "cell_type": "code",
      "metadata": {
        "id": "9MAySfK5z3cz",
        "colab_type": "code",
        "outputId": "5f7d23bd-60e3-4eb6-d1e2-a6c42db50352",
        "colab": {
          "base_uri": "https://localhost:8080/",
          "height": 454
        }
      },
      "source": [
        "a = np.array([\n",
        "    [\n",
        "        [ 111, 112 ],\n",
        "        [ 121, 122 ],\n",
        "        [ 131, 132 ],\n",
        "        [ 141, 142 ]\n",
        "    ],\n",
        "    [\n",
        "        [ 211, 212 ],\n",
        "        [ 221, 222 ],\n",
        "        [ 231, 232 ],\n",
        "        [ 241, 242 ]\n",
        "    ],\n",
        "    [\n",
        "        [ 311, 312 ],\n",
        "        [ 321, 322 ],\n",
        "        [ 331, 332 ],\n",
        "        [ 341, 342 ]\n",
        "    ]\n",
        "])\n",
        "print(\"a\\n\", a)\n",
        "print(\"a[0]\\n\", a[0])\n",
        "print(\"a[0][0]\\n\", a[0][0])\n",
        "print(\"a[0][0][0]=\", a[0][0][0]) # 111\n",
        "print(\"a[2][3][1]=\",a[2][3][1]) # 342\n",
        "print(\"a[0,0,0]=\",a[0,0,0])\n",
        "print(\"a[2,3,1]=\",a[2,3,1])"
      ],
      "execution_count": 0,
      "outputs": [
        {
          "output_type": "stream",
          "text": [
            "a\n",
            " [[[111 112]\n",
            "  [121 122]\n",
            "  [131 132]\n",
            "  [141 142]]\n",
            "\n",
            " [[211 212]\n",
            "  [221 222]\n",
            "  [231 232]\n",
            "  [241 242]]\n",
            "\n",
            " [[311 312]\n",
            "  [321 322]\n",
            "  [331 332]\n",
            "  [341 342]]]\n",
            "a[0]\n",
            " [[111 112]\n",
            " [121 122]\n",
            " [131 132]\n",
            " [141 142]]\n",
            "a[0][0]\n",
            " [111 112]\n",
            "a[0][0][0]= 111\n",
            "a[2][3][1]= 342\n",
            "a[0,0,0]= 111\n",
            "a[2,3,1]= 342\n"
          ],
          "name": "stdout"
        }
      ]
    },
    {
      "cell_type": "code",
      "metadata": {
        "id": "hUKh_RyeBR2W",
        "colab_type": "code",
        "outputId": "3aacc8aa-2b51-4dc6-ea77-c82e9164cb70",
        "colab": {
          "base_uri": "https://localhost:8080/",
          "height": 353
        }
      },
      "source": [
        "a = np.array([\n",
        "    [ 1,  2,  3,  4,  5],\n",
        "    [ 6,  7,  8,  9, 10],\n",
        "    [11, 12, 13, 14, 15],\n",
        "    [16, 17, 18, 19, 20]\n",
        "])\n",
        "\n",
        "print(\"a\\n\", a)\n",
        "\n",
        "print(\"a[:]\\n\",  a[:])\n",
        "print(\"a[:2]\\n\", a[:2])\n",
        "print(\"a[1:]\\n\", a[1:])\n",
        "print(\"a[0:3]\\n\", a[0:3])"
      ],
      "execution_count": 0,
      "outputs": [
        {
          "output_type": "stream",
          "text": [
            "[[ 1  2  3  4  5]\n",
            " [ 6  7  8  9 10]\n",
            " [11 12 13 14 15]\n",
            " [16 17 18 19 20]]\n",
            "a[:]\n",
            " [[ 1  2  3  4  5]\n",
            " [ 6  7  8  9 10]\n",
            " [11 12 13 14 15]\n",
            " [16 17 18 19 20]]\n",
            "a[:2]\n",
            " [[ 1  2  3  4  5]\n",
            " [ 6  7  8  9 10]]\n",
            "a[1:]\n",
            " [[ 6  7  8  9 10]\n",
            " [11 12 13 14 15]\n",
            " [16 17 18 19 20]]\n",
            "a[0:3]\n",
            " [[ 1  2  3  4  5]\n",
            " [ 6  7  8  9 10]\n",
            " [11 12 13 14 15]]\n"
          ],
          "name": "stdout"
        }
      ]
    },
    {
      "cell_type": "code",
      "metadata": {
        "id": "m69XmJXCCUjR",
        "colab_type": "code",
        "outputId": "e42c2201-3c71-4049-a90f-48a4f41a080f",
        "colab": {
          "base_uri": "https://localhost:8080/",
          "height": 437
        }
      },
      "source": [
        "a = np.array([\n",
        "    [ 1,  2,  3,  4,  5],\n",
        "    [ 6,  7,  8,  9, 10],\n",
        "    [11, 12, 13, 14, 15],\n",
        "    [16, 17, 18, 19, 20]\n",
        "])\n",
        "\n",
        "print(\"a\\n\", a)\n",
        "\n",
        "print(\"a[:,:]\\n\",  a[:,:])\n",
        "print(\"a[:,:2]\\n\", a[:,:2])\n",
        "print(\"a[:,1:]\\n\", a[:,1:])\n",
        "print(\"a[:,0:3]\\n\", a[:,0:3])\n",
        "\n",
        "\n",
        "# http://taewan.kim/post/numpy_cheat_sheet/ 의 10.2 슬라이싱 그림 참조"
      ],
      "execution_count": 0,
      "outputs": [
        {
          "output_type": "stream",
          "text": [
            "a\n",
            " [[ 1  2  3  4  5]\n",
            " [ 6  7  8  9 10]\n",
            " [11 12 13 14 15]\n",
            " [16 17 18 19 20]]\n",
            "a[:,:]\n",
            " [[ 1  2  3  4  5]\n",
            " [ 6  7  8  9 10]\n",
            " [11 12 13 14 15]\n",
            " [16 17 18 19 20]]\n",
            "a[:,:2]\n",
            " [[ 1  2]\n",
            " [ 6  7]\n",
            " [11 12]\n",
            " [16 17]]\n",
            "a[:,1:]\n",
            " [[ 2  3  4  5]\n",
            " [ 7  8  9 10]\n",
            " [12 13 14 15]\n",
            " [17 18 19 20]]\n",
            "a[:,0:3]\n",
            " [[ 1  2  3]\n",
            " [ 6  7  8]\n",
            " [11 12 13]\n",
            " [16 17 18]]\n"
          ],
          "name": "stdout"
        }
      ]
    },
    {
      "cell_type": "code",
      "metadata": {
        "id": "brh-FM_XCpWq",
        "colab_type": "code",
        "outputId": "683e006c-aa66-472d-dcab-bf0e456c79cc",
        "colab": {
          "base_uri": "https://localhost:8080/",
          "height": 218
        }
      },
      "source": [
        "a = np.array([\n",
        "    [ 1,  2,  3,  4,  5],\n",
        "    [ 6,  7,  8,  9, 10],\n",
        "    [11, 12, 13, 14, 15],\n",
        "    [16, 17, 18, 19, 20]\n",
        "])\n",
        "\n",
        "print(\"a\\n\", a)\n",
        "\n",
        "print(\"a[0][1]=\", a[0][1])\n",
        "print(\"a[0,1]=\", a[0,1])\n",
        "print(\"a[0:2]\\n\", a[0:2])\n",
        "print(\"a[0:2][1]=\", a[0:2][1])\n",
        "print(\"a[0:2,1]=\", a[0:2,1])\n"
      ],
      "execution_count": 0,
      "outputs": [
        {
          "output_type": "stream",
          "text": [
            "a\n",
            " [[ 1  2  3  4  5]\n",
            " [ 6  7  8  9 10]\n",
            " [11 12 13 14 15]\n",
            " [16 17 18 19 20]]\n",
            "a[0][1]= 2\n",
            "a[0,1]= 2\n",
            "a[0:2]\n",
            " [[ 1  2  3  4  5]\n",
            " [ 6  7  8  9 10]]\n",
            "a[0:2][1]= [ 6  7  8  9 10]\n",
            "a[0:2,1]= [2 7]\n"
          ],
          "name": "stdout"
        }
      ]
    },
    {
      "cell_type": "code",
      "metadata": {
        "id": "nEiTAf3vG5Tl",
        "colab_type": "code",
        "outputId": "361e7fab-abe2-42af-d5c9-10df86d4e3ef",
        "colab": {
          "base_uri": "https://localhost:8080/",
          "height": 218
        }
      },
      "source": [
        "a = np.array([\n",
        "    [ 1,  2,  3,  4,  5],\n",
        "    [ 6,  7,  8,  9, 10],\n",
        "    [11, 12, 13, 14, 15],\n",
        "    [16, 17, 18, 19, 20]\n",
        "])\n",
        "print(a)\n",
        "\n",
        "a[1,2] = 999\n",
        "print(a)\n",
        "\n",
        "a[1:3, 1:4] = 888\n",
        "print(a)"
      ],
      "execution_count": 0,
      "outputs": [
        {
          "output_type": "stream",
          "text": [
            "[[ 1  2  3  4  5]\n",
            " [ 6  7  8  9 10]\n",
            " [11 12 13 14 15]\n",
            " [16 17 18 19 20]]\n",
            "[[  1   2   3   4   5]\n",
            " [  6   7 999   9  10]\n",
            " [ 11  12  13  14  15]\n",
            " [ 16  17  18  19  20]]\n",
            "[[  1   2   3   4   5]\n",
            " [  6 888 888 888  10]\n",
            " [ 11 888 888 888  15]\n",
            " [ 16  17  18  19  20]]\n"
          ],
          "name": "stdout"
        }
      ]
    },
    {
      "cell_type": "code",
      "metadata": {
        "id": "PMRHaos9Ibu1",
        "colab_type": "code",
        "outputId": "c5ed542e-8774-449e-9b61-18233c24c7cc",
        "colab": {
          "base_uri": "https://localhost:8080/",
          "height": 202
        }
      },
      "source": [
        "a = np.array([\n",
        "    [ 1,  2,  3,  4,  5],\n",
        "    [ 6,  7,  8,  9, 10],\n",
        "    [11, 12, 13, 14, 15],\n",
        "    [16, 17, 18, 19, 20]\n",
        "])\n",
        "print(a)\n",
        "\n",
        "print(\"a[:, [1,3]]\\n\", a[:, [1,3]])\n",
        "print(\"a[[0,1,2,3], [0,1,2,3]]\\n\", a[[0,1,2,3], [0,1,2,3]])\n",
        "\n"
      ],
      "execution_count": 0,
      "outputs": [
        {
          "output_type": "stream",
          "text": [
            "[[ 1  2  3  4  5]\n",
            " [ 6  7  8  9 10]\n",
            " [11 12 13 14 15]\n",
            " [16 17 18 19 20]]\n",
            "a[:, [1,3]]\n",
            " [[ 2  4]\n",
            " [ 7  9]\n",
            " [12 14]\n",
            " [17 19]]\n",
            "a[[0,1,2,3], [0,1,2,3]]\n",
            " [ 1  7 13 19]\n"
          ],
          "name": "stdout"
        }
      ]
    },
    {
      "cell_type": "code",
      "metadata": {
        "id": "j18-vWJ9U3oU",
        "colab_type": "code",
        "outputId": "26bd1043-1797-4c63-8a16-c26d20c5a9d5",
        "colab": {
          "base_uri": "https://localhost:8080/",
          "height": 252
        }
      },
      "source": [
        "a = np.array([\n",
        "    [\n",
        "        [ 111, 112 ],\n",
        "        [ 121, 122 ],\n",
        "        [ 131, 132 ],\n",
        "        [ 141, 142 ]\n",
        "    ],\n",
        "    [\n",
        "        [ 211, 212 ],\n",
        "        [ 221, 222 ],\n",
        "        [ 231, 232 ],\n",
        "        [ 241, 242 ]\n",
        "    ],\n",
        "    [\n",
        "        [ 311, 312 ],\n",
        "        [ 321, 322 ],\n",
        "        [ 331, 332 ],\n",
        "        [ 341, 342 ]\n",
        "    ]\n",
        "])\n",
        "\n",
        "print(a[:,:,1])\n",
        "print(a[...,1])\n",
        "\n",
        "\n",
        "print(a[2,:,:])\n",
        "print(a[2,...])"
      ],
      "execution_count": 0,
      "outputs": [
        {
          "output_type": "stream",
          "text": [
            "[[112 122 132 142]\n",
            " [212 222 232 242]\n",
            " [312 322 332 342]]\n",
            "[[112 122 132 142]\n",
            " [212 222 232 242]\n",
            " [312 322 332 342]]\n",
            "[[311 312]\n",
            " [321 322]\n",
            " [331 332]\n",
            " [341 342]]\n",
            "[[311 312]\n",
            " [321 322]\n",
            " [331 332]\n",
            " [341 342]]\n"
          ],
          "name": "stdout"
        }
      ]
    },
    {
      "cell_type": "markdown",
      "metadata": {
        "id": "-ues1lLaBvi3",
        "colab_type": "text"
      },
      "source": [
        "# Quiz.\n",
        "\n",
        "4~15의 값을 갖는 4x3 어레이 생성\n",
        "\n"
      ]
    },
    {
      "cell_type": "code",
      "metadata": {
        "id": "bYGu0KJKB3V3",
        "colab_type": "code",
        "colab": {
          "base_uri": "https://localhost:8080/",
          "height": 84
        },
        "outputId": "9aa81c59-5263-4d5b-a6e6-64d237bf10d0"
      },
      "source": [
        "a = np.arange(4,16).reshape(4,3)\n",
        "print(a)"
      ],
      "execution_count": 4,
      "outputs": [
        {
          "output_type": "stream",
          "text": [
            "[[ 4  5  6]\n",
            " [ 7  8  9]\n",
            " [10 11 12]\n",
            " [13 14 15]]\n"
          ],
          "name": "stdout"
        }
      ]
    },
    {
      "cell_type": "markdown",
      "metadata": {
        "id": "OH7f-QWlB7Hf",
        "colab_type": "text"
      },
      "source": [
        "# Quiz.\n",
        "\n",
        "전부 0인 4x3 어레이 중 가운제 2개만 1인 어레이\n",
        "```\n",
        "0 0 0\n",
        "0 1 0\n",
        "0 1 0\n",
        "0 0 0\n",
        "```"
      ]
    },
    {
      "cell_type": "code",
      "metadata": {
        "id": "h3i3oideCAeZ",
        "colab_type": "code",
        "colab": {
          "base_uri": "https://localhost:8080/",
          "height": 84
        },
        "outputId": "c54e6aee-6167-4f14-869c-6d0c7871a9a7"
      },
      "source": [
        "a = np.zeros((4,3))\n",
        "a[1,1] = 1\n",
        "a[2,1] = 1\n",
        "print(a)"
      ],
      "execution_count": 5,
      "outputs": [
        {
          "output_type": "stream",
          "text": [
            "[[0. 0. 0.]\n",
            " [0. 1. 0.]\n",
            " [0. 1. 0.]\n",
            " [0. 0. 0.]]\n"
          ],
          "name": "stdout"
        }
      ]
    },
    {
      "cell_type": "markdown",
      "metadata": {
        "id": "pEZixBP1CElr",
        "colab_type": "text"
      },
      "source": [
        "# Quiz\n",
        "```\n",
        "[ 1. 1. 1. 1. 1.] \n",
        "[ 1. 1. 1. 1. 1.] \n",
        "[ 1. 1. 1. 1. 1.] \n",
        "[ 1. 1. 1. 1. 1.] \n",
        "[ 1. 1. 1. 1. 1.]\n",
        "를 다음으로 변환\n",
        "[ 1. 1. 1. 1. 1.] \n",
        "[ 1. 0. 0. 0. 1.] \n",
        "[ 1. 0. 0. 0. 1.] \n",
        "[ 1. 0. 0. 0. 1.] \n",
        "[ 1. 1. 1. 1. 1.]\n",
        "```"
      ]
    },
    {
      "cell_type": "code",
      "metadata": {
        "id": "1SoOpWw2COeB",
        "colab_type": "code",
        "colab": {
          "base_uri": "https://localhost:8080/",
          "height": 101
        },
        "outputId": "94091453-cb5b-4959-d9d3-46d909bb7530"
      },
      "source": [
        "a = np.ones((5,5))\n",
        "a[1:4,1:4] = 0\n",
        "\n",
        "print(a)"
      ],
      "execution_count": 6,
      "outputs": [
        {
          "output_type": "stream",
          "text": [
            "[[1. 1. 1. 1. 1.]\n",
            " [1. 0. 0. 0. 1.]\n",
            " [1. 0. 0. 0. 1.]\n",
            " [1. 0. 0. 0. 1.]\n",
            " [1. 1. 1. 1. 1.]]\n"
          ],
          "name": "stdout"
        }
      ]
    },
    {
      "cell_type": "markdown",
      "metadata": {
        "id": "t1kVfg5aCQ-j",
        "colab_type": "text"
      },
      "source": [
        "# Quiz\n",
        "\n",
        "[0 1 0 1 0 1 0 1] 생성"
      ]
    },
    {
      "cell_type": "code",
      "metadata": {
        "id": "5NCpT9dDCUSZ",
        "colab_type": "code",
        "colab": {
          "base_uri": "https://localhost:8080/",
          "height": 34
        },
        "outputId": "5093c962-0c82-4c3f-8ef1-75ff82d2620c"
      },
      "source": [
        "a = np.zeros(8, dtype=int)\n",
        "a[1::2] = 1\n",
        "print(a)"
      ],
      "execution_count": 7,
      "outputs": [
        {
          "output_type": "stream",
          "text": [
            "[0 1 0 1 0 1 0 1]\n"
          ],
          "name": "stdout"
        }
      ]
    },
    {
      "cell_type": "markdown",
      "metadata": {
        "id": "nchaPDe1CWsS",
        "colab_type": "text"
      },
      "source": [
        "# Quiz\n",
        "\n",
        "다음 생성\n",
        "```\n",
        "[0 1 0 1 0 1 0 1]\n",
        "[1 0 1 0 1 0 1 0]\n",
        "[0 1 0 1 0 1 0 1]\n",
        "[1 0 1 0 1 0 1 0] \n",
        "```"
      ]
    },
    {
      "cell_type": "code",
      "metadata": {
        "id": "DQeOBJmRCgJ8",
        "colab_type": "code",
        "colab": {
          "base_uri": "https://localhost:8080/",
          "height": 218
        },
        "outputId": "d02b74ab-20c0-4221-fce8-6cf66492ec7a"
      },
      "source": [
        "a = np.zeros((4,8), dtype=int)\n",
        "print(a)\n",
        "a[::2,1::2] = 1\n",
        "print(a)\n",
        "a[1::2,::2] = 1\n",
        "print(a)"
      ],
      "execution_count": 8,
      "outputs": [
        {
          "output_type": "stream",
          "text": [
            "[[0 0 0 0 0 0 0 0]\n",
            " [0 0 0 0 0 0 0 0]\n",
            " [0 0 0 0 0 0 0 0]\n",
            " [0 0 0 0 0 0 0 0]]\n",
            "[[0 1 0 1 0 1 0 1]\n",
            " [0 0 0 0 0 0 0 0]\n",
            " [0 1 0 1 0 1 0 1]\n",
            " [0 0 0 0 0 0 0 0]]\n",
            "[[0 1 0 1 0 1 0 1]\n",
            " [1 0 1 0 1 0 1 0]\n",
            " [0 1 0 1 0 1 0 1]\n",
            " [1 0 1 0 1 0 1 0]]\n"
          ],
          "name": "stdout"
        }
      ]
    },
    {
      "cell_type": "markdown",
      "metadata": {
        "id": "eo5LcTy4CpJT",
        "colab_type": "text"
      },
      "source": [
        "## [ ][ ]표현과 [ , ]의 차이\n",
        "\n",
        "[ , ] 표현의 경우 각각이 한번에 적용된다.\n",
        "\n",
        "그러나 [ ][ ]표현의 경우 첫번째 슬라이싱이 적용된 결과에 다음 슬라이싱이 적용된다."
      ]
    },
    {
      "cell_type": "code",
      "metadata": {
        "id": "cnbgjSujCokB",
        "colab_type": "code",
        "colab": {
          "base_uri": "https://localhost:8080/",
          "height": 319
        },
        "outputId": "17272a12-2173-4769-a271-7cf2e83350cf"
      },
      "source": [
        "a = np.arange(20).reshape(5,4)\n",
        "print(a)\n",
        "\n",
        "print(\"a[0:4]\")\n",
        "print(a[0:4])\n",
        "\n",
        "print(\"a[0:4][1:3]\")\n",
        "print(a[0:4][1:3])\n",
        "\n",
        "print(\"a[0:4,1:3]\")\n",
        "print(a[0:4,1:3])"
      ],
      "execution_count": 10,
      "outputs": [
        {
          "output_type": "stream",
          "text": [
            "[[ 0  1  2  3]\n",
            " [ 4  5  6  7]\n",
            " [ 8  9 10 11]\n",
            " [12 13 14 15]\n",
            " [16 17 18 19]]\n",
            "a[0:4]\n",
            "[[ 0  1  2  3]\n",
            " [ 4  5  6  7]\n",
            " [ 8  9 10 11]\n",
            " [12 13 14 15]]\n",
            "a[0:4][1:3]\n",
            "[[ 4  5  6  7]\n",
            " [ 8  9 10 11]]\n",
            "a[0:4,1:3]\n",
            "[[ 1  2]\n",
            " [ 5  6]\n",
            " [ 9 10]\n",
            " [13 14]]\n"
          ],
          "name": "stdout"
        }
      ]
    },
    {
      "cell_type": "markdown",
      "metadata": {
        "id": "9fTgMxg0667N",
        "colab_type": "text"
      },
      "source": [
        "# numpy 메소드\n",
        "\n",
        "ufunc(universal funtion) : ndarry를 대상으로 하는 연산.\n",
        "\n",
        "\n",
        "ndarray = np.function(ndarray) 처럼 ndarray를 입력으로 하여 결과를 얻는 연산들이다.\n",
        "\n",
        "\n",
        "전체 리스트는 from https://docs.scipy.org/doc/numpy/reference/ufuncs.html 참조\n",
        "\n"
      ]
    },
    {
      "cell_type": "code",
      "metadata": {
        "id": "HKJ1MyLU7Kq2",
        "colab_type": "code",
        "outputId": "f86cbc98-23e0-49ac-b121-555579818f2e",
        "colab": {
          "base_uri": "https://localhost:8080/",
          "height": 151
        }
      },
      "source": [
        "a = np.arange(1,13).reshape(3,4)\n",
        "pprint(a)\n",
        "\n",
        "a = np.sqrt(a)\n",
        "pprint(a)"
      ],
      "execution_count": 0,
      "outputs": [
        {
          "output_type": "stream",
          "text": [
            "shape: (3, 4), dimension: 2, dtype:int64\n",
            "[[ 1  2  3  4]\n",
            " [ 5  6  7  8]\n",
            " [ 9 10 11 12]]\n",
            "shape: (3, 4), dimension: 2, dtype:float64\n",
            "[[1.         1.41421356 1.73205081 2.        ]\n",
            " [2.23606798 2.44948974 2.64575131 2.82842712]\n",
            " [3.         3.16227766 3.31662479 3.46410162]]\n"
          ],
          "name": "stdout"
        }
      ]
    },
    {
      "cell_type": "markdown",
      "metadata": {
        "id": "fB2qYim4SAJN",
        "colab_type": "text"
      },
      "source": [
        "# 브로드케스팅\n",
        "![대체 텍스트](https://i.stack.imgur.com/JcKv1.png)"
      ]
    },
    {
      "cell_type": "code",
      "metadata": {
        "id": "qxwswBsqSgGI",
        "colab_type": "code",
        "colab": {}
      },
      "source": [
        "a = np.array([\n",
        "    [ 0,  0,  0],\n",
        "    [10, 10, 10],\n",
        "    [20, 20, 20],\n",
        "    [30, 30, 30]\n",
        "])\n",
        "b = np.array([\n",
        "    [ 0,  1,  2],\n",
        "    [ 0,  1,  2],\n",
        "    [ 0,  1,  2],\n",
        "    [ 0,  1,  2]    \n",
        "])\n",
        "print(a)\n",
        "print(b)\n",
        "print(a+b)"
      ],
      "execution_count": 0,
      "outputs": []
    },
    {
      "cell_type": "code",
      "metadata": {
        "id": "ouN4hGq3SMZM",
        "colab_type": "code",
        "outputId": "a945284e-4016-4243-d699-c3b8ae007a74",
        "colab": {
          "base_uri": "https://localhost:8080/",
          "height": 168
        }
      },
      "source": [
        "a = np.array([\n",
        "    [ 0,  0,  0],\n",
        "    [10, 10, 10],\n",
        "    [20, 20, 20],\n",
        "    [30, 30, 30]\n",
        "])\n",
        "b = np.array([\n",
        "    [ 0,  1,  2]  \n",
        "])\n",
        "print(a)\n",
        "print(b)\n",
        "print(a+b)"
      ],
      "execution_count": 0,
      "outputs": [
        {
          "output_type": "stream",
          "text": [
            "[[ 0  0  0]\n",
            " [10 10 10]\n",
            " [20 20 20]\n",
            " [30 30 30]]\n",
            "[[0 1 2]]\n",
            "[[ 0  1  2]\n",
            " [10 11 12]\n",
            " [20 21 22]\n",
            " [30 31 32]]\n"
          ],
          "name": "stdout"
        }
      ]
    },
    {
      "cell_type": "code",
      "metadata": {
        "id": "4khE5udOSMe5",
        "colab_type": "code",
        "outputId": "1100c88c-c763-4e4c-96bc-d2f8007b55e1",
        "colab": {
          "base_uri": "https://localhost:8080/",
          "height": 168
        }
      },
      "source": [
        "a = np.array([\n",
        "    [ 0],\n",
        "    [10],\n",
        "    [20],\n",
        "    [30]\n",
        "])\n",
        "b = np.array([\n",
        "    [ 0,  1,  2]    \n",
        "])\n",
        "print(a)\n",
        "print(b)\n",
        "print(a+b)"
      ],
      "execution_count": 0,
      "outputs": [
        {
          "output_type": "stream",
          "text": [
            "[[ 0]\n",
            " [10]\n",
            " [20]\n",
            " [30]]\n",
            "[[0 1 2]]\n",
            "[[ 0  1  2]\n",
            " [10 11 12]\n",
            " [20 21 22]\n",
            " [30 31 32]]\n"
          ],
          "name": "stdout"
        }
      ]
    },
    {
      "cell_type": "markdown",
      "metadata": {
        "id": "9bwVcjB25AkA",
        "colab_type": "text"
      },
      "source": [
        "# numpy.ndarray 메소드\n",
        "\n",
        "전체 리스트는 https://docs.scipy.org/doc/numpy/reference/arrays.ndarray.html 참조.\n",
        "\n"
      ]
    },
    {
      "cell_type": "markdown",
      "metadata": {
        "id": "snaCwNZF5Jxx",
        "colab_type": "text"
      },
      "source": [
        "# numpy.ndarray 산술 연산자"
      ]
    },
    {
      "cell_type": "code",
      "metadata": {
        "id": "Ui9iO-YXz3HQ",
        "colab_type": "code",
        "outputId": "e60dff32-3fec-4add-85b6-c6af991f53fc",
        "colab": {
          "base_uri": "https://localhost:8080/",
          "height": 151
        }
      },
      "source": [
        "a = np.array([\n",
        "    [1,  2,  3,  4],\n",
        "    [5,  6,  7,  8],\n",
        "    [9, 10, 11, 12]\n",
        "])\n",
        "pprint(a)\n",
        "\n",
        "b = np.array([\n",
        "    [1,  1,  1,  1],\n",
        "    [2,  2,  2,  2],\n",
        "    [3,  3,  3,  3]\n",
        "])\n",
        "pprint(b)"
      ],
      "execution_count": 0,
      "outputs": [
        {
          "output_type": "stream",
          "text": [
            "shape: (3, 4), dimension: 2, dtype:int64\n",
            "[[ 1  2  3  4]\n",
            " [ 5  6  7  8]\n",
            " [ 9 10 11 12]]\n",
            "shape: (3, 4), dimension: 2, dtype:int64\n",
            "[[1 1 1 1]\n",
            " [2 2 2 2]\n",
            " [3 3 3 3]]\n"
          ],
          "name": "stdout"
        }
      ]
    },
    {
      "cell_type": "code",
      "metadata": {
        "id": "hOyaFxK15y25",
        "colab_type": "code",
        "outputId": "d298b8ed-8f1e-4cb8-e22f-6880ffd3f516",
        "colab": {
          "base_uri": "https://localhost:8080/",
          "height": 286
        }
      },
      "source": [
        "pprint(a+2)\n",
        "pprint(a-2)\n",
        "pprint(a*2)\n",
        "pprint(a/2)"
      ],
      "execution_count": 0,
      "outputs": [
        {
          "output_type": "stream",
          "text": [
            "shape: (3, 4), dimension: 2, dtype:int64\n",
            "[[ 3  4  5  6]\n",
            " [ 7  8  9 10]\n",
            " [11 12 13 14]]\n",
            "shape: (3, 4), dimension: 2, dtype:int64\n",
            "[[-1  0  1  2]\n",
            " [ 3  4  5  6]\n",
            " [ 7  8  9 10]]\n",
            "shape: (3, 4), dimension: 2, dtype:int64\n",
            "[[ 2  4  6  8]\n",
            " [10 12 14 16]\n",
            " [18 20 22 24]]\n",
            "shape: (3, 4), dimension: 2, dtype:float64\n",
            "[[0.5 1.  1.5 2. ]\n",
            " [2.5 3.  3.5 4. ]\n",
            " [4.5 5.  5.5 6. ]]\n"
          ],
          "name": "stdout"
        }
      ]
    },
    {
      "cell_type": "code",
      "metadata": {
        "id": "kBfyPEIaz3KB",
        "colab_type": "code",
        "outputId": "068e5c95-3e71-4867-9938-9d93eb138177",
        "colab": {
          "base_uri": "https://localhost:8080/",
          "height": 286
        }
      },
      "source": [
        "pprint(a+b)\n",
        "pprint(a-b)\n",
        "pprint(a*b)\n",
        "pprint(a/b)"
      ],
      "execution_count": 0,
      "outputs": [
        {
          "output_type": "stream",
          "text": [
            "shape: (3, 4), dimension: 2, dtype:int64\n",
            "[[ 2  3  4  5]\n",
            " [ 7  8  9 10]\n",
            " [12 13 14 15]]\n",
            "shape: (3, 4), dimension: 2, dtype:int64\n",
            "[[0 1 2 3]\n",
            " [3 4 5 6]\n",
            " [6 7 8 9]]\n",
            "shape: (3, 4), dimension: 2, dtype:int64\n",
            "[[ 1  2  3  4]\n",
            " [10 12 14 16]\n",
            " [27 30 33 36]]\n",
            "shape: (3, 4), dimension: 2, dtype:float64\n",
            "[[1.         2.         3.         4.        ]\n",
            " [2.5        3.         3.5        4.        ]\n",
            " [3.         3.33333333 3.66666667 4.        ]]\n"
          ],
          "name": "stdout"
        }
      ]
    },
    {
      "cell_type": "markdown",
      "metadata": {
        "id": "luTnJrGG9tCF",
        "colab_type": "text"
      },
      "source": [
        "# numpy.ndarray 불린 연산자"
      ]
    },
    {
      "cell_type": "code",
      "metadata": {
        "id": "qvDSLeMNz3SU",
        "colab_type": "code",
        "outputId": "b9a1e1c4-4361-4c19-d3fa-ca86e93ced24",
        "colab": {
          "base_uri": "https://localhost:8080/",
          "height": 118
        }
      },
      "source": [
        "a = np.array([\n",
        "    [1,  2,  3,  4],\n",
        "    [5,  6,  7,  8],\n",
        "    [9, 10, 11, 12]\n",
        "])\n",
        "print(a)\n",
        "\n",
        "b = np.array([\n",
        "    [1,  1,  1,  1],\n",
        "    [2,  2,  2,  2],\n",
        "    [3,  3,  3,  3]\n",
        "])\n",
        "print(b)\n"
      ],
      "execution_count": 16,
      "outputs": [
        {
          "output_type": "stream",
          "text": [
            "[[ 1  2  3  4]\n",
            " [ 5  6  7  8]\n",
            " [ 9 10 11 12]]\n",
            "[[1 1 1 1]\n",
            " [2 2 2 2]\n",
            " [3 3 3 3]]\n"
          ],
          "name": "stdout"
        }
      ]
    },
    {
      "cell_type": "code",
      "metadata": {
        "id": "Qzm5M9Q-z3U1",
        "colab_type": "code",
        "outputId": "619b0d5b-2898-4e91-dc28-4591eeb7c0fd",
        "colab": {
          "base_uri": "https://localhost:8080/",
          "height": 67
        }
      },
      "source": [
        "print(a==b)"
      ],
      "execution_count": 0,
      "outputs": [
        {
          "output_type": "stream",
          "text": [
            "[[ True False False False]\n",
            " [False False False False]\n",
            " [False False False False]]\n"
          ],
          "name": "stdout"
        }
      ]
    },
    {
      "cell_type": "code",
      "metadata": {
        "id": "-CJRrdLez3XM",
        "colab_type": "code",
        "outputId": "2f07b2c6-74da-4512-d62b-cfc240709f4a",
        "colab": {
          "base_uri": "https://localhost:8080/",
          "height": 67
        }
      },
      "source": [
        "print(a>b)"
      ],
      "execution_count": 0,
      "outputs": [
        {
          "output_type": "stream",
          "text": [
            "[[False  True  True  True]\n",
            " [ True  True  True  True]\n",
            " [ True  True  True  True]]\n"
          ],
          "name": "stdout"
        }
      ]
    },
    {
      "cell_type": "code",
      "metadata": {
        "id": "D9qlvWhQz3ef",
        "colab_type": "code",
        "outputId": "cfd42511-f44c-46a7-935b-d9267f723d60",
        "colab": {
          "base_uri": "https://localhost:8080/",
          "height": 134
        }
      },
      "source": [
        "print(a==b)\n",
        "print(np.equal(a,b))\n",
        "print(np.array_equal(a,b))"
      ],
      "execution_count": 17,
      "outputs": [
        {
          "output_type": "stream",
          "text": [
            "[[ True False False False]\n",
            " [False False False False]\n",
            " [False False False False]]\n",
            "[[ True False False False]\n",
            " [False False False False]\n",
            " [False False False False]]\n",
            "False\n"
          ],
          "name": "stdout"
        }
      ]
    },
    {
      "cell_type": "code",
      "metadata": {
        "id": "P1BmCiEuF282",
        "colab_type": "code",
        "outputId": "5092227d-2400-4161-8005-8e8d8a0da270",
        "colab": {
          "base_uri": "https://localhost:8080/",
          "height": 101
        }
      },
      "source": [
        "print(a%2==0)\n"
      ],
      "execution_count": 0,
      "outputs": [
        {
          "output_type": "stream",
          "text": [
            "[[False  True False  True False]\n",
            " [ True False  True False  True]\n",
            " [False  True False  True False]\n",
            " [ True False  True False  True]]\n",
            "[ 2  4  6  8 10 12 14 16 18 20]\n"
          ],
          "name": "stdout"
        }
      ]
    },
    {
      "cell_type": "markdown",
      "metadata": {
        "id": "M4pZ0cwQGDCA",
        "colab_type": "text"
      },
      "source": [
        "# 필터링"
      ]
    },
    {
      "cell_type": "code",
      "metadata": {
        "id": "vV1ZeuqPGFpr",
        "colab_type": "code",
        "outputId": "c2996c73-f79b-4733-d4af-51bac50a7d97",
        "colab": {
          "base_uri": "https://localhost:8080/",
          "height": 84
        }
      },
      "source": [
        "a = np.array([\n",
        "    [1,  2,  3,  4],\n",
        "    [5,  6,  7,  8],\n",
        "    [9, 10, 11, 12]\n",
        "])\n",
        "print(a)\n",
        "print(a[a%2==0])"
      ],
      "execution_count": 0,
      "outputs": [
        {
          "output_type": "stream",
          "text": [
            "[[ 1  2  3  4]\n",
            " [ 5  6  7  8]\n",
            " [ 9 10 11 12]]\n",
            "[ 2  4  6  8 10 12]\n"
          ],
          "name": "stdout"
        }
      ]
    },
    {
      "cell_type": "markdown",
      "metadata": {
        "id": "JEt1njPVDmAf",
        "colab_type": "text"
      },
      "source": [
        "# Quiz\n",
        "\n",
        "짝수들의 합\n",
        "```\n",
        "[ 0  1  2  3]\n",
        "[ 4  5  6  7]\n",
        "[ 8  9 10 11]\n",
        " ```"
      ]
    },
    {
      "cell_type": "code",
      "metadata": {
        "id": "xMcZmK5MJNTB",
        "colab_type": "code",
        "colab": {
          "base_uri": "https://localhost:8080/",
          "height": 151
        },
        "outputId": "66553420-c664-4555-8795-9afc5eedb9a3"
      },
      "source": [
        "a = np.arange(12).reshape(3,4)\n",
        "print(a)\n",
        "print(a%2==0)\n",
        "print(a[a%2==0])\n",
        "np.sum(a[a%2==0])"
      ],
      "execution_count": 12,
      "outputs": [
        {
          "output_type": "stream",
          "text": [
            "[[ 0  1  2  3]\n",
            " [ 4  5  6  7]\n",
            " [ 8  9 10 11]]\n",
            "[[ True False  True False]\n",
            " [ True False  True False]\n",
            " [ True False  True False]]\n",
            "[ 0  2  4  6  8 10]\n"
          ],
          "name": "stdout"
        },
        {
          "output_type": "execute_result",
          "data": {
            "text/plain": [
              "30"
            ]
          },
          "metadata": {
            "tags": []
          },
          "execution_count": 12
        }
      ]
    },
    {
      "cell_type": "markdown",
      "metadata": {
        "id": "JIs5WmfJDXEd",
        "colab_type": "text"
      },
      "source": [
        "# Quiz.\n",
        "\n",
        "다음과 같은 배열에서 대각선 요소의 합?\n",
        "```\n",
        " 1  2  3  4  5\n",
        " 6  7  8  9  10\n",
        "11 12 13 ...\n",
        "..\n",
        "21 22 23 24 25\n",
        "```\n",
        "\n",
        "1 + 7 + 13 + .. + 25"
      ]
    },
    {
      "cell_type": "code",
      "metadata": {
        "id": "piwVZAvODfRX",
        "colab_type": "code",
        "colab": {
          "base_uri": "https://localhost:8080/",
          "height": 218
        },
        "outputId": "4b1cd076-d4af-4518-b2a1-6f2566215978"
      },
      "source": [
        "a = np.arange(1, 26).reshape(5,5)\n",
        "print(a)\n",
        "\n",
        "f = np.eye(5)==1\n",
        "print(f)\n",
        "\n",
        "even = a[f]\n",
        "print(even)\n",
        "\n",
        "print(np.sum(even))"
      ],
      "execution_count": 11,
      "outputs": [
        {
          "output_type": "stream",
          "text": [
            "[[ 1  2  3  4  5]\n",
            " [ 6  7  8  9 10]\n",
            " [11 12 13 14 15]\n",
            " [16 17 18 19 20]\n",
            " [21 22 23 24 25]]\n",
            "[[ True False False False False]\n",
            " [False  True False False False]\n",
            " [False False  True False False]\n",
            " [False False False  True False]\n",
            " [False False False False  True]]\n",
            "[ 1  7 13 19 25]\n",
            "65\n"
          ],
          "name": "stdout"
        }
      ]
    },
    {
      "cell_type": "markdown",
      "metadata": {
        "id": "Y7-Ff8KXJT9h",
        "colab_type": "text"
      },
      "source": [
        "# 배열 변환 - reshape"
      ]
    },
    {
      "cell_type": "code",
      "metadata": {
        "id": "_l2MVe-FJYOr",
        "colab_type": "code",
        "outputId": "64feda26-c4a7-44c8-cb89-bab1d2ce4a9d",
        "colab": {
          "base_uri": "https://localhost:8080/",
          "height": 386
        }
      },
      "source": [
        "a = np.arange(12)\n",
        "print(a)\n",
        "print(\"(12,)\\n\", a.reshape(12,))\n",
        "print(\"(12,1)\\n\", a.reshape(12,1))\n",
        "print(\"(1,12)\\n\", a.reshape(1,12))\n",
        "print(\"(3,4)\\n\", a.reshape(3,4))\n"
      ],
      "execution_count": 0,
      "outputs": [
        {
          "output_type": "stream",
          "text": [
            "[ 0  1  2  3  4  5  6  7  8  9 10 11]\n",
            "(12,)\n",
            " [ 0  1  2  3  4  5  6  7  8  9 10 11]\n",
            "(12,1)\n",
            " [[ 0]\n",
            " [ 1]\n",
            " [ 2]\n",
            " [ 3]\n",
            " [ 4]\n",
            " [ 5]\n",
            " [ 6]\n",
            " [ 7]\n",
            " [ 8]\n",
            " [ 9]\n",
            " [10]\n",
            " [11]]\n",
            "(1,12)\n",
            " [[ 0  1  2  3  4  5  6  7  8  9 10 11]]\n",
            "(3,4)\n",
            " [[ 0  1  2  3]\n",
            " [ 4  5  6  7]\n",
            " [ 8  9 10 11]]\n"
          ],
          "name": "stdout"
        }
      ]
    },
    {
      "cell_type": "code",
      "metadata": {
        "id": "SURCnT-pQnOB",
        "colab_type": "code",
        "outputId": "a8974614-1c9a-4017-d8b2-ba01ceb4ab5d",
        "colab": {
          "base_uri": "https://localhost:8080/",
          "height": 252
        }
      },
      "source": [
        "a = np.arange(24).reshape(3,4,2)\n",
        "print(a)"
      ],
      "execution_count": 0,
      "outputs": [
        {
          "output_type": "stream",
          "text": [
            "[[[ 0  1]\n",
            "  [ 2  3]\n",
            "  [ 4  5]\n",
            "  [ 6  7]]\n",
            "\n",
            " [[ 8  9]\n",
            "  [10 11]\n",
            "  [12 13]\n",
            "  [14 15]]\n",
            "\n",
            " [[16 17]\n",
            "  [18 19]\n",
            "  [20 21]\n",
            "  [22 23]]]\n"
          ],
          "name": "stdout"
        }
      ]
    },
    {
      "cell_type": "markdown",
      "metadata": {
        "id": "qa0NYlqdJIxV",
        "colab_type": "text"
      },
      "source": [
        "# 배열 변환 - 전치(Transpose)\n"
      ]
    },
    {
      "cell_type": "code",
      "metadata": {
        "id": "YAoGSVl9JNVc",
        "colab_type": "code",
        "outputId": "eedbfb3e-6b0b-49d8-884a-13bfd7dfb291",
        "colab": {
          "base_uri": "https://localhost:8080/",
          "height": 134
        }
      },
      "source": [
        "a = np.arange(12).reshape((3,4))\n",
        "print(a)\n",
        "b = a.T\n",
        "print(b)"
      ],
      "execution_count": 0,
      "outputs": [
        {
          "output_type": "stream",
          "text": [
            "[[ 0  1  2  3]\n",
            " [ 4  5  6  7]\n",
            " [ 8  9 10 11]]\n",
            "[[ 0  4  8]\n",
            " [ 1  5  9]\n",
            " [ 2  6 10]\n",
            " [ 3  7 11]]\n"
          ],
          "name": "stdout"
        }
      ]
    },
    {
      "cell_type": "markdown",
      "metadata": {
        "id": "RX42ze7c-zE8",
        "colab_type": "text"
      },
      "source": [
        "# sum 연산\n",
        "\n",
        "한 축으로 더하면 그 축은 사라진다.\n",
        "\n",
        "사자질 축 index를 axis의 값으로 설정한다."
      ]
    },
    {
      "cell_type": "code",
      "metadata": {
        "id": "-tPm7nmwz3E3",
        "colab_type": "code",
        "outputId": "1f9042ba-e71d-46f0-a366-8b2791ddf682",
        "colab": {
          "base_uri": "https://localhost:8080/",
          "height": 571
        }
      },
      "source": [
        "a = np.ones((3,4,2))\n",
        "\n",
        "pprint(a)\n",
        "sum = np.sum(a)\n",
        "print(\"axis=None\\n\", sum)\n",
        "\n",
        "sum = np.sum(a, axis=0)\n",
        "print(\"axis=0\")\n",
        "pprint(sum)\n",
        "# old shape (3, 4, 2)\n",
        "# axis =     0  \n",
        "# new shape (   4, 2)\n",
        "\n",
        "sum = np.sum(a, axis=1)\n",
        "print(\"axis=1\")\n",
        "pprint(sum)\n",
        "# old shape (3, 4, 2)\n",
        "# axis =        1  \n",
        "# new shape (3, 4, 2)\n",
        "\n",
        "\n",
        "sum = np.sum(a, axis=2)\n",
        "print(\"axis=2\")\n",
        "pprint(sum)\n",
        "# old shape (3, 4, 2)\n",
        "# axis =           2  \n",
        "# new shape (3, 4   )\n",
        "\n"
      ],
      "execution_count": 0,
      "outputs": [
        {
          "output_type": "stream",
          "text": [
            "shape: (3, 4, 2), dimension: 3, dtype:float64\n",
            "[[[1. 1.]\n",
            "  [1. 1.]\n",
            "  [1. 1.]\n",
            "  [1. 1.]]\n",
            "\n",
            " [[1. 1.]\n",
            "  [1. 1.]\n",
            "  [1. 1.]\n",
            "  [1. 1.]]\n",
            "\n",
            " [[1. 1.]\n",
            "  [1. 1.]\n",
            "  [1. 1.]\n",
            "  [1. 1.]]]\n",
            "axis=None\n",
            " 24.0\n",
            "axis=0\n",
            "shape: (4, 2), dimension: 2, dtype:float64\n",
            "[[3. 3.]\n",
            " [3. 3.]\n",
            " [3. 3.]\n",
            " [3. 3.]]\n",
            "axis=1\n",
            "shape: (3, 2), dimension: 2, dtype:float64\n",
            "[[4. 4.]\n",
            " [4. 4.]\n",
            " [4. 4.]]\n",
            "axis=2\n",
            "shape: (3, 4), dimension: 2, dtype:float64\n",
            "[[2. 2. 2. 2.]\n",
            " [2. 2. 2. 2.]\n",
            " [2. 2. 2. 2.]]\n"
          ],
          "name": "stdout"
        }
      ]
    },
    {
      "cell_type": "markdown",
      "metadata": {
        "id": "EGuHIwf2Olfd",
        "colab_type": "text"
      },
      "source": [
        "# 소팅\n",
        "\n",
        "소팅할 대상의 축을 sum()을 기준으로 axis갑으로 설정한다."
      ]
    },
    {
      "cell_type": "code",
      "metadata": {
        "id": "JfugUfakHy71",
        "colab_type": "code",
        "outputId": "bb0e927a-5eea-4f10-9286-a06401d2ceaf",
        "colab": {
          "base_uri": "https://localhost:8080/",
          "height": 252
        }
      },
      "source": [
        "a = np.array([\n",
        "    [\n",
        "        [ 10111, 20112 ],\n",
        "        [ 10121, 20122 ],\n",
        "        [ 20131, 10132 ],\n",
        "        [ 20141, 10142 ]\n",
        "    ],\n",
        "    [\n",
        "        [ 20211, 10212 ],\n",
        "        [ 20221, 10222 ],\n",
        "        [ 10231, 20232 ],\n",
        "        [ 10241, 20242 ]\n",
        "    ],\n",
        "    [\n",
        "        [ 10311, 20312 ],\n",
        "        [ 20321, 10322 ],\n",
        "        [ 10331, 20332 ],\n",
        "        [ 20341, 10342 ]\n",
        "    ]\n",
        "])\n",
        "\n",
        "print(np.sort(a, axis=0))\n",
        "# sum 연산할 때 합치는 대상 끼리 소팅 해서 자리를 바꾼다.\n",
        "# 10111, 10311, 20211\n",
        "\n"
      ],
      "execution_count": 0,
      "outputs": [
        {
          "output_type": "stream",
          "text": [
            "[[[10111 10212]\n",
            "  [10121 10222]\n",
            "  [10231 10132]\n",
            "  [10241 10142]]\n",
            "\n",
            " [[10311 20112]\n",
            "  [20221 10322]\n",
            "  [10331 20232]\n",
            "  [20141 10342]]\n",
            "\n",
            " [[20211 20312]\n",
            "  [20321 20122]\n",
            "  [20131 20332]\n",
            "  [20341 20242]]]\n"
          ],
          "name": "stdout"
        }
      ]
    },
    {
      "cell_type": "code",
      "metadata": {
        "id": "iwG6vD9BRM6s",
        "colab_type": "code",
        "outputId": "67ae522a-5f4b-414a-abc5-4b4cbe15370f",
        "colab": {
          "base_uri": "https://localhost:8080/",
          "height": 252
        }
      },
      "source": [
        "a = np.array([\n",
        "    [\n",
        "        [ 10111, 20112 ],\n",
        "        [ 10121, 20122 ],\n",
        "        [ 20131, 10132 ],\n",
        "        [ 20141, 10142 ]\n",
        "    ],\n",
        "    [\n",
        "        [ 20211, 10212 ],\n",
        "        [ 20221, 10222 ],\n",
        "        [ 10231, 20232 ],\n",
        "        [ 10241, 20242 ]\n",
        "    ],\n",
        "    [\n",
        "        [ 10311, 20312 ],\n",
        "        [ 20321, 10322 ],\n",
        "        [ 10331, 20332 ],\n",
        "        [ 20341, 10342 ]\n",
        "    ]\n",
        "])\n",
        "\n",
        "print(np.sort(a, axis=1))\n",
        "# sum 연산할 때 합치는 대상 끼리 소팅 해서 자리를 바꾼다.\n",
        "\n",
        "# 10111, 10121, 20131, 20141\n"
      ],
      "execution_count": 0,
      "outputs": [
        {
          "output_type": "stream",
          "text": [
            "[[[10111 10132]\n",
            "  [10121 10142]\n",
            "  [20131 20112]\n",
            "  [20141 20122]]\n",
            "\n",
            " [[10231 10212]\n",
            "  [10241 10222]\n",
            "  [20211 20232]\n",
            "  [20221 20242]]\n",
            "\n",
            " [[10311 10322]\n",
            "  [10331 10342]\n",
            "  [20321 20312]\n",
            "  [20341 20332]]]\n"
          ],
          "name": "stdout"
        }
      ]
    },
    {
      "cell_type": "code",
      "metadata": {
        "id": "VGm8ZJg2Rfb6",
        "colab_type": "code",
        "outputId": "579fbe8e-72da-4063-9a79-550930d6472c",
        "colab": {
          "base_uri": "https://localhost:8080/",
          "height": 252
        }
      },
      "source": [
        "a = np.array([\n",
        "    [\n",
        "        [ 10111, 20112 ],\n",
        "        [ 10121, 20122 ],\n",
        "        [ 20131, 10132 ],\n",
        "        [ 20141, 10142 ]\n",
        "    ],\n",
        "    [\n",
        "        [ 20211, 10212 ],\n",
        "        [ 20221, 10222 ],\n",
        "        [ 10231, 20232 ],\n",
        "        [ 10241, 20242 ]\n",
        "    ],\n",
        "    [\n",
        "        [ 10311, 20312 ],\n",
        "        [ 20321, 10322 ],\n",
        "        [ 10331, 20332 ],\n",
        "        [ 20341, 10342 ]\n",
        "    ]\n",
        "])\n",
        "\n",
        "print(np.sort(a, axis=2))\n",
        "# sum 연산할 때 합치는 대상 끼리 소팅 해서 자리를 바꾼다.\n",
        "\n",
        "# 10111 20112\n"
      ],
      "execution_count": 0,
      "outputs": [
        {
          "output_type": "stream",
          "text": [
            "[[[10111 20112]\n",
            "  [10121 20122]\n",
            "  [10132 20131]\n",
            "  [10142 20141]]\n",
            "\n",
            " [[10212 20211]\n",
            "  [10222 20221]\n",
            "  [10231 20232]\n",
            "  [10241 20242]]\n",
            "\n",
            " [[10311 20312]\n",
            "  [10322 20321]\n",
            "  [10331 20332]\n",
            "  [10342 20341]]]\n"
          ],
          "name": "stdout"
        }
      ]
    },
    {
      "cell_type": "markdown",
      "metadata": {
        "id": "Kti6WnhEFOoS",
        "colab_type": "text"
      },
      "source": [
        "# Quiz\n",
        "\n",
        "다음 행렬을 출력했을 때 13이 포함된 행의 모든 숫자는?\n",
        "```\n",
        "a = np.arange(3*4*5).reshape(3,4,5)\n",
        "print(a)\n",
        "```\n",
        "\n",
        "다음 행렬을 출력했을 때 13이 포함된 행의 모든 숫자는?\n",
        "```\n",
        "b = a.reshape(5*3*4).reshape(5,3,4)\n",
        "print(b)\n",
        "```"
      ]
    },
    {
      "cell_type": "code",
      "metadata": {
        "id": "At8qj5J5FVXm",
        "colab_type": "code",
        "colab": {
          "base_uri": "https://localhost:8080/",
          "height": 571
        },
        "outputId": "0d1a98d4-034c-4b12-dbd2-32898f9741a7"
      },
      "source": [
        "a = np.arange(3*4*5).reshape(3,4,5)\n",
        "print(a)\n",
        "\n",
        "b = a.reshape(5*3*4).reshape(5,3,4)\n",
        "print(b)\n",
        "\n"
      ],
      "execution_count": 18,
      "outputs": [
        {
          "output_type": "stream",
          "text": [
            "[[[ 0  1  2  3  4]\n",
            "  [ 5  6  7  8  9]\n",
            "  [10 11 12 13 14]\n",
            "  [15 16 17 18 19]]\n",
            "\n",
            " [[20 21 22 23 24]\n",
            "  [25 26 27 28 29]\n",
            "  [30 31 32 33 34]\n",
            "  [35 36 37 38 39]]\n",
            "\n",
            " [[40 41 42 43 44]\n",
            "  [45 46 47 48 49]\n",
            "  [50 51 52 53 54]\n",
            "  [55 56 57 58 59]]]\n",
            "[[[ 0  1  2  3]\n",
            "  [ 4  5  6  7]\n",
            "  [ 8  9 10 11]]\n",
            "\n",
            " [[12 13 14 15]\n",
            "  [16 17 18 19]\n",
            "  [20 21 22 23]]\n",
            "\n",
            " [[24 25 26 27]\n",
            "  [28 29 30 31]\n",
            "  [32 33 34 35]]\n",
            "\n",
            " [[36 37 38 39]\n",
            "  [40 41 42 43]\n",
            "  [44 45 46 47]]\n",
            "\n",
            " [[48 49 50 51]\n",
            "  [52 53 54 55]\n",
            "  [56 57 58 59]]]\n"
          ],
          "name": "stdout"
        }
      ]
    },
    {
      "cell_type": "markdown",
      "metadata": {
        "id": "EcT_3nKrFayL",
        "colab_type": "text"
      },
      "source": [
        "# Quiz\n",
        "\n",
        "다음 연산의 결과는\n",
        "```\n",
        "a = np.array([\n",
        "    [0, 1, 2],\n",
        "    [3, 4, 5]\n",
        "])\n",
        "print(np.sum(a, axis=0))\n",
        "\n",
        "print(np.sum(a, axis=1))\n",
        "```"
      ]
    },
    {
      "cell_type": "code",
      "metadata": {
        "id": "WzGjI-bQFgeZ",
        "colab_type": "code",
        "colab": {
          "base_uri": "https://localhost:8080/",
          "height": 50
        },
        "outputId": "3e6c2acd-2159-4b5b-f76f-b4af58505c1a"
      },
      "source": [
        "a = np.array([\n",
        "    [0, 1, 2],\n",
        "    [3, 4, 5]\n",
        "])\n",
        "print(np.sum(a, axis=0))\n",
        "\n",
        "print(np.sum(a, axis=1))"
      ],
      "execution_count": 19,
      "outputs": [
        {
          "output_type": "stream",
          "text": [
            "[3 5 7]\n",
            "[ 3 12]\n"
          ],
          "name": "stdout"
        }
      ]
    },
    {
      "cell_type": "markdown",
      "metadata": {
        "id": "H-o8UZEdFkbZ",
        "colab_type": "text"
      },
      "source": [
        "# Quiz\n",
        "\n",
        "a = np.ones((5,6,7))\n",
        "\n",
        "다음의 shape와 각 동일한 요소 값은\n",
        "```\n",
        "print(np.sum(a, axis=0))\n",
        "\n",
        "print(np.sum(a, axis=1))\n",
        "\n",
        "print(np.sum(a, axis=2))\n",
        "```"
      ]
    },
    {
      "cell_type": "code",
      "metadata": {
        "id": "er2GeorLFsy4",
        "colab_type": "code",
        "colab": {
          "base_uri": "https://localhost:8080/",
          "height": 286
        },
        "outputId": "7ad02e39-d66d-46e7-ae11-8b42a63c57e1"
      },
      "source": [
        "a = np.ones((5,6,7))\n",
        "\n",
        "print(np.sum(a, axis=0))\n",
        "\n",
        "print(np.sum(a, axis=1))\n",
        "\n",
        "print(np.sum(a, axis=2))"
      ],
      "execution_count": 20,
      "outputs": [
        {
          "output_type": "stream",
          "text": [
            "[[5. 5. 5. 5. 5. 5. 5.]\n",
            " [5. 5. 5. 5. 5. 5. 5.]\n",
            " [5. 5. 5. 5. 5. 5. 5.]\n",
            " [5. 5. 5. 5. 5. 5. 5.]\n",
            " [5. 5. 5. 5. 5. 5. 5.]\n",
            " [5. 5. 5. 5. 5. 5. 5.]]\n",
            "[[6. 6. 6. 6. 6. 6. 6.]\n",
            " [6. 6. 6. 6. 6. 6. 6.]\n",
            " [6. 6. 6. 6. 6. 6. 6.]\n",
            " [6. 6. 6. 6. 6. 6. 6.]\n",
            " [6. 6. 6. 6. 6. 6. 6.]]\n",
            "[[7. 7. 7. 7. 7. 7.]\n",
            " [7. 7. 7. 7. 7. 7.]\n",
            " [7. 7. 7. 7. 7. 7.]\n",
            " [7. 7. 7. 7. 7. 7.]\n",
            " [7. 7. 7. 7. 7. 7.]]\n"
          ],
          "name": "stdout"
        }
      ]
    },
    {
      "cell_type": "markdown",
      "metadata": {
        "id": "wjCKOn6wFyxe",
        "colab_type": "text"
      },
      "source": [
        "# Quiz\n",
        "\n",
        "다음 연산의 결과는\n",
        "\n",
        "```\n",
        "a = np.array([\n",
        "    [0, 1, 2],\n",
        "    [3, 4, 5]\n",
        "])\n",
        "print(np.mean(a, axis=0))\n",
        "\n",
        "print(np.mean(a, axis=1))\n",
        "```"
      ]
    },
    {
      "cell_type": "code",
      "metadata": {
        "id": "JZb05F2oF2B4",
        "colab_type": "code",
        "colab": {
          "base_uri": "https://localhost:8080/",
          "height": 50
        },
        "outputId": "c232c0f3-5432-4a7b-bbc8-d30a1326ba66"
      },
      "source": [
        "a = np.array([\n",
        "    [0, 1, 2],\n",
        "    [3, 4, 5]\n",
        "])\n",
        "print(np.mean(a, axis=0))\n",
        "\n",
        "print(np.mean(a, axis=1))"
      ],
      "execution_count": 21,
      "outputs": [
        {
          "output_type": "stream",
          "text": [
            "[1.5 2.5 3.5]\n",
            "[1. 4.]\n"
          ],
          "name": "stdout"
        }
      ]
    },
    {
      "cell_type": "markdown",
      "metadata": {
        "id": "A-42u7i5GOqJ",
        "colab_type": "text"
      },
      "source": [
        "#  dot() 연산자\n",
        "\n",
        "행렬 간의 행렬곱 연산"
      ]
    },
    {
      "cell_type": "code",
      "metadata": {
        "id": "sXLB7YjeGUt_",
        "colab_type": "code",
        "colab": {
          "base_uri": "https://localhost:8080/",
          "height": 34
        },
        "outputId": "d29edc71-d02d-4782-fb44-f9b3e98f1d38"
      },
      "source": [
        "w = np.array([0,1,2,3,4,5])\n",
        "x = np.array([1,1,2,2,3,3])\n",
        "\n",
        "p = np.dot(w, x.T)\n",
        "print(p)"
      ],
      "execution_count": 22,
      "outputs": [
        {
          "output_type": "stream",
          "text": [
            "38\n"
          ],
          "name": "stdout"
        }
      ]
    },
    {
      "cell_type": "code",
      "metadata": {
        "id": "1nxBs38AGWo1",
        "colab_type": "code",
        "colab": {
          "base_uri": "https://localhost:8080/",
          "height": 118
        },
        "outputId": "d3ebf91e-1ed5-4c7b-d7ba-db2a530b6302"
      },
      "source": [
        "w = np.arange(6).reshape(2,3)\n",
        "x = np.arange(6).reshape(2,3)\n",
        "\n",
        "print(w)\n",
        "print(x)\n",
        "\n",
        "p = np.dot(w, x.T)\n",
        "print(p)"
      ],
      "execution_count": 23,
      "outputs": [
        {
          "output_type": "stream",
          "text": [
            "[[0 1 2]\n",
            " [3 4 5]]\n",
            "[[0 1 2]\n",
            " [3 4 5]]\n",
            "[[ 5 14]\n",
            " [14 50]]\n"
          ],
          "name": "stdout"
        }
      ]
    },
    {
      "cell_type": "markdown",
      "metadata": {
        "id": "rAb-pX4QTPqa",
        "colab_type": "text"
      },
      "source": [
        "# 배열 결합\n",
        "![대체 텍스트](https://t1.daumcdn.net/cfile/tistory/992822335AD0C35C13)"
      ]
    },
    {
      "cell_type": "code",
      "metadata": {
        "id": "2ar6hImRHy5g",
        "colab_type": "code",
        "outputId": "1db779ee-d9ad-48de-9091-c39e19fbb70a",
        "colab": {
          "base_uri": "https://localhost:8080/",
          "height": 67
        }
      },
      "source": [
        "a = np.array([1,2,3])\n",
        "b = np.array([4,5,6])\n",
        "\n",
        "print(np.hstack([a,b]))\n",
        "\n",
        "a = np.array([\n",
        "    [1,2,3],\n",
        "    [4,5,6]\n",
        "])\n",
        "b = np.array([\n",
        "    [7,8,9],\n",
        "    [10,11,12]\n",
        "])\n",
        "print(np.hstack([a,b]))\n",
        "\n"
      ],
      "execution_count": 0,
      "outputs": [
        {
          "output_type": "stream",
          "text": [
            "[1 2 3 4 5 6]\n",
            "[[ 1  2  3  7  8  9]\n",
            " [ 4  5  6 10 11 12]]\n"
          ],
          "name": "stdout"
        }
      ]
    },
    {
      "cell_type": "code",
      "metadata": {
        "id": "0o48_EzbTgLL",
        "colab_type": "code",
        "outputId": "2b783642-619a-4089-b4b1-53d8efa475dc",
        "colab": {
          "base_uri": "https://localhost:8080/",
          "height": 118
        }
      },
      "source": [
        "a = np.array([1,2,3])\n",
        "b = np.array([4,5,6])\n",
        "\n",
        "print(np.vstack([a,b]))\n",
        "\n",
        "a = np.array([\n",
        "    [1,2,3],\n",
        "    [4,5,6]\n",
        "])\n",
        "b = np.array([\n",
        "    [7,8,9],\n",
        "    [10,11,12]\n",
        "])\n",
        "print(np.vstack([a,b]))\n"
      ],
      "execution_count": 0,
      "outputs": [
        {
          "output_type": "stream",
          "text": [
            "[[1 2 3]\n",
            " [4 5 6]]\n",
            "[[ 1  2  3]\n",
            " [ 4  5  6]\n",
            " [ 7  8  9]\n",
            " [10 11 12]]\n"
          ],
          "name": "stdout"
        }
      ]
    },
    {
      "cell_type": "code",
      "metadata": {
        "id": "oINSdtpCTgHo",
        "colab_type": "code",
        "outputId": "d6dbb83b-fa5d-43da-c635-675f655e4e13",
        "colab": {
          "base_uri": "https://localhost:8080/",
          "height": 101
        }
      },
      "source": [
        "a = np.array([1,2,3])\n",
        "b = np.array([4,5,6])\n",
        "\n",
        "print(np.column_stack([a,b]))\n",
        "\n",
        "a = np.array([\n",
        "    [1,2,3],\n",
        "    [4,5,6]\n",
        "])\n",
        "b = np.array([\n",
        "    [7,8,9],\n",
        "    [10,11,12]\n",
        "])\n",
        "print(np.column_stack([a,b]))\n",
        "\n",
        "# 1 4 7 10\n",
        "# 2 5 8 11\n",
        "# 3 6 9 12"
      ],
      "execution_count": 0,
      "outputs": [
        {
          "output_type": "stream",
          "text": [
            "[[1 4]\n",
            " [2 5]\n",
            " [3 6]]\n",
            "[[ 1  2  3  7  8  9]\n",
            " [ 4  5  6 10 11 12]]\n"
          ],
          "name": "stdout"
        }
      ]
    },
    {
      "cell_type": "markdown",
      "metadata": {
        "id": "R4gw5ymDH3NK",
        "colab_type": "text"
      },
      "source": [
        "# Quiz\n",
        "\n",
        "첫번 재 부터 매 3번째 마다의 합\n",
        "\n",
        "\n",
        "```\n",
        "[ 0  1  2  3  4  5  6  7  8  9 10 11 12 13 14 15 16 17 18 19 20 21 22 23\n",
        " 24 25 26 27 28 29 30 31 32 33 34 35 36 37 38 39 40 41 42 43 44 45 46 47\n",
        " 48 49 50 51 52 53 54 55 56 57 58 59 60 61 62 63 64 65 66 67 68 69 70 71\n",
        " 72 73 74 75 76 77 78 79 80 81 82 83 84 85 86 87 88 89 90 91 92 93 94 95\n",
        " 96 97 98 99]\n",
        "```"
      ]
    },
    {
      "cell_type": "code",
      "metadata": {
        "id": "FTJ-uydQHy0u",
        "colab_type": "code",
        "colab": {}
      },
      "source": [
        ""
      ],
      "execution_count": 0,
      "outputs": []
    },
    {
      "cell_type": "code",
      "metadata": {
        "id": "kQJ1wQYKHyxo",
        "colab_type": "code",
        "colab": {}
      },
      "source": [
        ""
      ],
      "execution_count": 0,
      "outputs": []
    }
  ]
}