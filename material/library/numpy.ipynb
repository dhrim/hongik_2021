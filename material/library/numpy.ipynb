{
  "nbformat": 4,
  "nbformat_minor": 0,
  "metadata": {
    "colab": {
      "name": "numpy.ipynb",
      "provenance": [],
      "collapsed_sections": []
    },
    "kernelspec": {
      "name": "python3",
      "display_name": "Python 3"
    },
    "language_info": {
      "name": "python"
    }
  },
  "cells": [
    {
      "cell_type": "markdown",
      "metadata": {
        "id": "w6UWi8xnQoLm"
      },
      "source": [
        "# Numpy"
      ]
    },
    {
      "cell_type": "markdown",
      "metadata": {
        "id": "ecuDyHQ76knX"
      },
      "source": [
        "# 설치"
      ]
    },
    {
      "cell_type": "code",
      "metadata": {
        "colab": {
          "base_uri": "https://localhost:8080/"
        },
        "id": "z2-FJJ8b6eZo",
        "outputId": "5f4f877c-9a24-40d2-aac3-341af370c458"
      },
      "source": [
        "!pip install numpy"
      ],
      "execution_count": null,
      "outputs": [
        {
          "output_type": "stream",
          "text": [
            "Requirement already satisfied: numpy in /usr/local/lib/python3.7/dist-packages (1.19.5)\n"
          ],
          "name": "stdout"
        }
      ]
    },
    {
      "cell_type": "markdown",
      "metadata": {
        "id": "GUQzgMXf6l_y"
      },
      "source": [
        "# 임포팅"
      ]
    },
    {
      "cell_type": "code",
      "metadata": {
        "id": "xV3jVYiFL-jO"
      },
      "source": [
        "import numpy as np\n"
      ],
      "execution_count": null,
      "outputs": []
    },
    {
      "cell_type": "markdown",
      "metadata": {
        "id": "Uj_Akmzx6qbF"
      },
      "source": [
        "# python list하고 비슷"
      ]
    },
    {
      "cell_type": "code",
      "metadata": {
        "colab": {
          "base_uri": "https://localhost:8080/"
        },
        "id": "qeqF5uD875UG",
        "outputId": "71c42824-4cdd-40a9-b175-0877b81d8177"
      },
      "source": [
        "a = np.array([0,1,2,3,4])\n",
        "\n",
        "print(a)\n",
        "print(\"a[0] =\",a[0])\n",
        "print(\"a[1] =\",a[1])\n",
        "print(\"a[1:3] =\",a[1:3])\n",
        "print(\"a[0:3] =\",a[0:3])\n",
        "print(\"a[1:] =\",a[1:])\n",
        "print(\"a[:] =\",a[:])"
      ],
      "execution_count": null,
      "outputs": [
        {
          "output_type": "stream",
          "text": [
            "[0 1 2 3 4]\n",
            "a[0] = 0\n",
            "a[1] = 1\n",
            "a[1:3] = [1 2]\n",
            "a[0:3] = [0 1 2]\n",
            "a[1:] = [1 2 3 4]\n",
            "a[:] = [0 1 2 3 4]\n"
          ],
          "name": "stdout"
        }
      ]
    },
    {
      "cell_type": "markdown",
      "metadata": {
        "id": "x4ch08I-8gVc"
      },
      "source": [
        "기본적으로 python의 리스트 참조 방법과 같다."
      ]
    },
    {
      "cell_type": "code",
      "metadata": {
        "id": "Z-srJKHR8gEN"
      },
      "source": [
        ""
      ],
      "execution_count": null,
      "outputs": []
    },
    {
      "cell_type": "code",
      "metadata": {
        "colab": {
          "base_uri": "https://localhost:8080/"
        },
        "id": "R91NHIkx8MzU",
        "outputId": "5153c60f-bdd2-4580-91aa-e3cd684a5c24"
      },
      "source": [
        "a = np.array([ [0,1,2], [3,4,5] ])\n",
        "\n",
        "print(a)\n",
        "print(\"a[0] =\",a[0])\n",
        "print(\"a[1] =\",a[1])\n",
        "print(\"a[1:3]\\n\",a[1:3])\n",
        "print(\"a[0:3]\\n\",a[0:3])\n",
        "print(\"a[1:]\\n\",a[1:])\n",
        "print(\"a[:]\\n\",a[:])\n",
        "\n",
        "print(\"a[1][2] =\",a[1][2])\n",
        "print(\"a[1,2] =\",a[1,2])"
      ],
      "execution_count": null,
      "outputs": [
        {
          "output_type": "stream",
          "text": [
            "[[0 1 2]\n",
            " [3 4 5]]\n",
            "a[0] = [0 1 2]\n",
            "a[1] = [3 4 5]\n",
            "a[1:3]\n",
            " [[3 4 5]]\n",
            "a[0:3]\n",
            " [[0 1 2]\n",
            " [3 4 5]]\n",
            "a[1:]\n",
            " [[3 4 5]]\n",
            "a[:]\n",
            " [[0 1 2]\n",
            " [3 4 5]]\n",
            "a[1][2] = 5\n",
            "a[1,2] = 5\n"
          ],
          "name": "stdout"
        }
      ]
    },
    {
      "cell_type": "markdown",
      "metadata": {
        "id": "CyM_VixA9T9Z"
      },
      "source": [
        "특정 요소 1개를 참조할 때 a[1][2]는 a[1,2]로 표현해서 사용할 수 있다.\n",
        "\n",
        "마찬가지로 1개 값을 참조할 때는 a[1][2][3]은 a[1,2,3]의 값과 같다."
      ]
    },
    {
      "cell_type": "code",
      "metadata": {
        "id": "20bFLcQg9RbM"
      },
      "source": [
        ""
      ],
      "execution_count": null,
      "outputs": []
    },
    {
      "cell_type": "markdown",
      "metadata": {
        "id": "SojDsjem9m4D"
      },
      "source": [
        "# numpy array 속성"
      ]
    },
    {
      "cell_type": "code",
      "metadata": {
        "colab": {
          "base_uri": "https://localhost:8080/"
        },
        "id": "9lGBp0EL6sTs",
        "outputId": "b4f84681-7933-499c-cf79-1027d24f93eb"
      },
      "source": [
        "a = np.array([0,1,2,3,4])\n",
        "\n",
        "print(a)\n",
        "print(\"a.shape =\", a.shape) # 데이터 모양\n",
        "print(\"a.ndim =\", a.ndim)   # 차원 수. number of dimension\n",
        "print(\"a.dtype =\", a.dtype) # 데이터 타입. data type"
      ],
      "execution_count": null,
      "outputs": [
        {
          "output_type": "stream",
          "text": [
            "[0 1 2 3 4]\n",
            "a.shape = (5,)\n",
            "a.ndim = 1\n",
            "a.dtype = int64\n"
          ],
          "name": "stdout"
        }
      ]
    },
    {
      "cell_type": "markdown",
      "metadata": {
        "id": "ZCe0pAOX7Jp8"
      },
      "source": [
        "shape는 튜플로 표현된다.\n",
        "\n",
        "1차원이고 5개 값을 같는 넘파이 어레이는 튜플 (5,)의 모양을 갖는다."
      ]
    },
    {
      "cell_type": "code",
      "metadata": {
        "colab": {
          "base_uri": "https://localhost:8080/"
        },
        "id": "U2I2WPXz7Yf2",
        "outputId": "5529492b-9a69-4fd8-99d6-37dc02f08a5c"
      },
      "source": [
        "l = [ [0,1,2], [3,4,5] ]\n",
        "a = np.array(l)\n",
        "\n",
        "print(a)\n",
        "print(\"a.shape =\", a.shape)\n",
        "print(\"a.ndim =\", a.ndim)\n",
        "print(\"a.dtype =\", a.dtype)"
      ],
      "execution_count": null,
      "outputs": [
        {
          "output_type": "stream",
          "text": [
            "[[0 1 2]\n",
            " [3 4 5]]\n",
            "a.shape = (2, 3)\n",
            "a.ndim = 2\n",
            "a.dtype = int64\n"
          ],
          "name": "stdout"
        }
      ]
    },
    {
      "cell_type": "markdown",
      "metadata": {
        "id": "RnpZmxry7qcP"
      },
      "source": [
        "이 경우는 2차원 배열.\n",
        "\n",
        "shape는 (2,3). \n",
        "\n",
        "행이 2개 이고, 열이 3개이다.\n",
        "\n",
        "혹은 2개의 데이터가 있고, 각 데이터는 3개의 값으로 이루어져 있다."
      ]
    },
    {
      "cell_type": "markdown",
      "metadata": {
        "id": "2kLA4z2_-YAH"
      },
      "source": [
        "# print array 유틸 함수 pa(), paf() 선언"
      ]
    },
    {
      "cell_type": "code",
      "metadata": {
        "id": "kPbzUP1M9-z9"
      },
      "source": [
        "def pa(a, message=None): # print array\n",
        "  if message!=None:\n",
        "    print(message)\n",
        "  print(a)\n",
        "  print()  \n",
        "\n",
        "def paf(a, message=None): # print array\n",
        "  message = message+\"\\n\" if message!=None else \"\"\n",
        "  message = \"{}shape={}, dimension={}, dtype={}\".format(message, a.shape, a.ndim, a.dtype)\n",
        "  pa(a, message)"
      ],
      "execution_count": null,
      "outputs": []
    },
    {
      "cell_type": "code",
      "metadata": {
        "colab": {
          "base_uri": "https://localhost:8080/"
        },
        "id": "11P_lZW0-Njh",
        "outputId": "611acc10-cd48-403a-b798-7ec07d61533b"
      },
      "source": [
        "a = np.array([0,1,2,3])\n",
        "paf(a)"
      ],
      "execution_count": null,
      "outputs": [
        {
          "output_type": "stream",
          "text": [
            "shape=(4,), dimension=1, dtype=int64\n",
            "[0 1 2 3]\n",
            "\n"
          ],
          "name": "stdout"
        }
      ]
    },
    {
      "cell_type": "code",
      "metadata": {
        "colab": {
          "base_uri": "https://localhost:8080/"
        },
        "id": "ZW0eUZcQ-NJ0",
        "outputId": "34b55fda-de68-417a-b7ff-826b99d37614"
      },
      "source": [
        "a = np.array([[0,1,2], [3,4,5]])\n",
        "paf(a)"
      ],
      "execution_count": null,
      "outputs": [
        {
          "output_type": "stream",
          "text": [
            "shape=(2, 3), dimension=2, dtype=int64\n",
            "[[0 1 2]\n",
            " [3 4 5]]\n",
            "\n"
          ],
          "name": "stdout"
        }
      ]
    },
    {
      "cell_type": "markdown",
      "metadata": {
        "id": "7Tt2FVzb-qfo"
      },
      "source": [
        "# numpy.arange()"
      ]
    },
    {
      "cell_type": "code",
      "metadata": {
        "colab": {
          "base_uri": "https://localhost:8080/"
        },
        "id": "CSeurtFW-VJg",
        "outputId": "eba753ba-e5e0-4b76-8125-ad5dd9924edd"
      },
      "source": [
        "a = np.arange(12)\n",
        "paf(a)"
      ],
      "execution_count": null,
      "outputs": [
        {
          "output_type": "stream",
          "text": [
            "shape=(12,), dimension=1, dtype=int64\n",
            "[ 0  1  2  3  4  5  6  7  8  9 10 11]\n",
            "\n"
          ],
          "name": "stdout"
        }
      ]
    },
    {
      "cell_type": "markdown",
      "metadata": {
        "id": "9nTQObBv-1Wt"
      },
      "source": [
        "np.arange(12)는 for i in range(12)에서 반복되는 정수들 값으로 numpy array를 생성한다.\n",
        "\n",
        "python의 range(start, end, step)의 파라매터 설정과 동일하다."
      ]
    },
    {
      "cell_type": "code",
      "metadata": {
        "colab": {
          "base_uri": "https://localhost:8080/"
        },
        "id": "7LRK__qf_yG7",
        "outputId": "25142412-87d3-4974-b90c-fe411734f155"
      },
      "source": [
        "a = np.arange(3,10)\n",
        "paf(a)"
      ],
      "execution_count": null,
      "outputs": [
        {
          "output_type": "stream",
          "text": [
            "shape=(7,), dimension=1, dtype=int64\n",
            "[3 4 5 6 7 8 9]\n",
            "\n"
          ],
          "name": "stdout"
        }
      ]
    },
    {
      "cell_type": "code",
      "metadata": {
        "colab": {
          "base_uri": "https://localhost:8080/"
        },
        "id": "m-hd7Gfc_1Rh",
        "outputId": "a3932315-fc80-4d7a-90d8-f145f4e9b3f2"
      },
      "source": [
        "a = np.arange(3,10,2)\n",
        "paf(a)"
      ],
      "execution_count": null,
      "outputs": [
        {
          "output_type": "stream",
          "text": [
            "shape=(4,), dimension=1, dtype=int64\n",
            "[3 5 7 9]\n",
            "\n"
          ],
          "name": "stdout"
        }
      ]
    },
    {
      "cell_type": "markdown",
      "metadata": {
        "id": "TWKvt2Hr_qX0"
      },
      "source": [
        "# 모양 변경 - resahpe()"
      ]
    },
    {
      "cell_type": "code",
      "metadata": {
        "colab": {
          "base_uri": "https://localhost:8080/"
        },
        "id": "Upvh2LU6-vHM",
        "outputId": "a0e67726-79f8-4fa7-bb13-b3ad606ead65"
      },
      "source": [
        "a = np.arange(12).reshape(3,4)\n",
        "paf(a)"
      ],
      "execution_count": null,
      "outputs": [
        {
          "output_type": "stream",
          "text": [
            "shape=(3, 4), dimension=2, dtype=int64\n",
            "[[ 0  1  2  3]\n",
            " [ 4  5  6  7]\n",
            " [ 8  9 10 11]]\n",
            "\n"
          ],
          "name": "stdout"
        }
      ]
    },
    {
      "cell_type": "markdown",
      "metadata": {
        "id": "Y3RgUssZ_AsD"
      },
      "source": [
        "reshape(3,4)는 (3,4)의 모양으로 바꾼다."
      ]
    },
    {
      "cell_type": "code",
      "metadata": {
        "colab": {
          "base_uri": "https://localhost:8080/"
        },
        "id": "9146uY-5_FiH",
        "outputId": "09895894-3b34-4600-d46f-4c5b4647fb1e"
      },
      "source": [
        "a = np.arange(12)\n",
        "paf(a)\n",
        "\n",
        "a.reshape(3,4)\n",
        "paf(a,\"a.reshape(3,4)\")\n",
        "\n",
        "b = a.reshape(3,4)\n",
        "paf(b, \"b = a.reshape(3,4)\")\n",
        "\n",
        "a = np.arange(12).reshape(3,4)\n",
        "paf(a, \"a = np.arange(12).reshape(3,4)\")"
      ],
      "execution_count": null,
      "outputs": [
        {
          "output_type": "stream",
          "text": [
            "shape=(12,), dimension=1, dtype=int64\n",
            "[ 0  1  2  3  4  5  6  7  8  9 10 11]\n",
            "\n",
            "a.reshape(3,4)\n",
            "shape=(12,), dimension=1, dtype=int64\n",
            "[ 0  1  2  3  4  5  6  7  8  9 10 11]\n",
            "\n",
            "b = a.reshape(3,4)\n",
            "shape=(3, 4), dimension=2, dtype=int64\n",
            "[[ 0  1  2  3]\n",
            " [ 4  5  6  7]\n",
            " [ 8  9 10 11]]\n",
            "\n",
            "a = np.arange(12).reshape(3,4)\n",
            "shape=(3, 4), dimension=2, dtype=int64\n",
            "[[ 0  1  2  3]\n",
            " [ 4  5  6  7]\n",
            " [ 8  9 10 11]]\n",
            "\n"
          ],
          "name": "stdout"
        }
      ]
    },
    {
      "cell_type": "markdown",
      "metadata": {
        "id": "IInqVlyn_SjC"
      },
      "source": [
        "reshape(3,4)는 자체의 모양을 바꾸지 않고, 모양을 바꾼 numpy array를 새로 생성해서 반환한다.\n",
        "\n",
        "그래서 반환된 것을 다른 변수로 받아야 한다."
      ]
    },
    {
      "cell_type": "code",
      "metadata": {
        "colab": {
          "base_uri": "https://localhost:8080/"
        },
        "id": "8nmzscHh_cr5",
        "outputId": "14517a3e-874d-4107-ab23-2e2d5bb001a6"
      },
      "source": [
        "a = np.arange(12).reshape(3,4)\n",
        "paf(a, \"reshape(3,4)\")\n",
        "\n",
        "a = np.arange(12).reshape(3,-1)\n",
        "paf(a, \"reshape(3,-1)\")\n",
        "\n",
        "a = np.arange(12).reshape(-1,4)\n",
        "paf(a, \"reshape(-1,4)\")"
      ],
      "execution_count": null,
      "outputs": [
        {
          "output_type": "stream",
          "text": [
            "reshape(3,4)\n",
            "shape=(3, 4), dimension=2, dtype=int64\n",
            "[[ 0  1  2  3]\n",
            " [ 4  5  6  7]\n",
            " [ 8  9 10 11]]\n",
            "\n",
            "reshape(3,-1)\n",
            "shape=(3, 4), dimension=2, dtype=int64\n",
            "[[ 0  1  2  3]\n",
            " [ 4  5  6  7]\n",
            " [ 8  9 10 11]]\n",
            "\n",
            "reshape(-1,4)\n",
            "shape=(3, 4), dimension=2, dtype=int64\n",
            "[[ 0  1  2  3]\n",
            " [ 4  5  6  7]\n",
            " [ 8  9 10 11]]\n",
            "\n"
          ],
          "name": "stdout"
        }
      ]
    },
    {
      "cell_type": "markdown",
      "metadata": {
        "id": "aibmjCJNAYU7"
      },
      "source": [
        "reshape에 -1 값을 주면 나머지 차원의 크기를 가지고 유추한다."
      ]
    },
    {
      "cell_type": "code",
      "metadata": {
        "colab": {
          "base_uri": "https://localhost:8080/"
        },
        "id": "HRRWhHbuAXA3",
        "outputId": "1184b2d9-8adc-4952-bec4-b2d22e6d3a31"
      },
      "source": [
        "a = np.arange(24).reshape(2,3,4)\n",
        "paf(a, \"reshape(2,3,4)\")\n",
        "\n",
        "a = np.arange(24).reshape(-1,3,4)\n",
        "paf(a, \"reshape(-1,3,4)\")\n",
        "\n",
        "a = np.arange(24).reshape(2,-1,4)\n",
        "paf(a, \"reshape(2,-1,4)\")\n",
        "\n",
        "a = np.arange(24).reshape(2,3,-4)\n",
        "paf(a, \"reshape(2,3,-4)\")"
      ],
      "execution_count": null,
      "outputs": [
        {
          "output_type": "stream",
          "text": [
            "reshape(2,3,4)\n",
            "shape=(2, 3, 4), dimension=3, dtype=int64\n",
            "[[[ 0  1  2  3]\n",
            "  [ 4  5  6  7]\n",
            "  [ 8  9 10 11]]\n",
            "\n",
            " [[12 13 14 15]\n",
            "  [16 17 18 19]\n",
            "  [20 21 22 23]]]\n",
            "\n",
            "reshape(-1,3,4)\n",
            "shape=(2, 3, 4), dimension=3, dtype=int64\n",
            "[[[ 0  1  2  3]\n",
            "  [ 4  5  6  7]\n",
            "  [ 8  9 10 11]]\n",
            "\n",
            " [[12 13 14 15]\n",
            "  [16 17 18 19]\n",
            "  [20 21 22 23]]]\n",
            "\n",
            "reshape(2,-1,4)\n",
            "shape=(2, 3, 4), dimension=3, dtype=int64\n",
            "[[[ 0  1  2  3]\n",
            "  [ 4  5  6  7]\n",
            "  [ 8  9 10 11]]\n",
            "\n",
            " [[12 13 14 15]\n",
            "  [16 17 18 19]\n",
            "  [20 21 22 23]]]\n",
            "\n",
            "reshape(2,3,-4)\n",
            "shape=(2, 3, 4), dimension=3, dtype=int64\n",
            "[[[ 0  1  2  3]\n",
            "  [ 4  5  6  7]\n",
            "  [ 8  9 10 11]]\n",
            "\n",
            " [[12 13 14 15]\n",
            "  [16 17 18 19]\n",
            "  [20 21 22 23]]]\n",
            "\n"
          ],
          "name": "stdout"
        }
      ]
    },
    {
      "cell_type": "markdown",
      "metadata": {
        "id": "IXJgJz1JCNCy"
      },
      "source": [
        "# 생성 방법\n",
        "```\n",
        "np.zeros()\n",
        "np.ones()\n",
        "np.full()\n",
        "np.zeros_like()\n",
        "np.ones_like()\n",
        "np.full_liek()\n",
        "\n",
        "np.eye()\n",
        "```"
      ]
    },
    {
      "cell_type": "markdown",
      "metadata": {
        "id": "qKvp7fGXETun"
      },
      "source": [
        "## numpy.zeros(), ones(), full()"
      ]
    },
    {
      "cell_type": "code",
      "metadata": {
        "colab": {
          "base_uri": "https://localhost:8080/"
        },
        "id": "P677y13SCOzJ",
        "outputId": "c21877a5-b8c7-47b4-eaf1-26a017e68919"
      },
      "source": [
        "a = np.zeros((3,4))\n",
        "paf(a)"
      ],
      "execution_count": null,
      "outputs": [
        {
          "output_type": "stream",
          "text": [
            "shape=(3, 4), dimension=2, dtype=float64\n",
            "[[0. 0. 0. 0.]\n",
            " [0. 0. 0. 0.]\n",
            " [0. 0. 0. 0.]]\n",
            "\n"
          ],
          "name": "stdout"
        }
      ]
    },
    {
      "cell_type": "code",
      "metadata": {
        "colab": {
          "base_uri": "https://localhost:8080/"
        },
        "id": "yUWR68u9CmkP",
        "outputId": "ff28bfde-7126-43c4-e6af-2e8ff2782ab6"
      },
      "source": [
        "a = np.zeros((3,4), dtype=int)\n",
        "paf(a)"
      ],
      "execution_count": null,
      "outputs": [
        {
          "output_type": "stream",
          "text": [
            "shape=(3, 4), dimension=2, dtype=int64\n",
            "[[0 0 0 0]\n",
            " [0 0 0 0]\n",
            " [0 0 0 0]]\n",
            "\n"
          ],
          "name": "stdout"
        }
      ]
    },
    {
      "cell_type": "code",
      "metadata": {
        "colab": {
          "base_uri": "https://localhost:8080/"
        },
        "id": "ImUcaE-3CtGx",
        "outputId": "c2003123-08f1-43b7-c813-c9dec2f9898a"
      },
      "source": [
        "a = np.zeros((3,4), dtype=np.int)\n",
        "paf(a)"
      ],
      "execution_count": null,
      "outputs": [
        {
          "output_type": "stream",
          "text": [
            "shape=(3, 4), dimension=2, dtype=int64\n",
            "[[0 0 0 0]\n",
            " [0 0 0 0]\n",
            " [0 0 0 0]]\n",
            "\n"
          ],
          "name": "stdout"
        }
      ]
    },
    {
      "cell_type": "markdown",
      "metadata": {
        "id": "GncXI3aBC0y-"
      },
      "source": [
        "설정할 수 있는 dtype(data type)은 python의 int, float 들과 numpy의 int, int0, int8 등등 가능하다."
      ]
    },
    {
      "cell_type": "code",
      "metadata": {
        "id": "mVQmOoEJDIv5"
      },
      "source": [
        "a = np.arange(12).reshape(3,4)\n",
        "b = np.zeros((3,4))"
      ],
      "execution_count": null,
      "outputs": []
    },
    {
      "cell_type": "markdown",
      "metadata": {
        "id": "boa41lDFDox4"
      },
      "source": [
        "기본적으로 대부분의 함수 호출에서 shape를 전달할 때는 (3,4)와 같이 튜플로 전달한다.\n",
        "\n",
        "그런데 reshape()의 경우 shape를 전달 할 때는 (3,4)와 같은 튜플이 아닌 그냥 3,4와 같이 값들로 전달한다.\n"
      ]
    },
    {
      "cell_type": "code",
      "metadata": {
        "colab": {
          "base_uri": "https://localhost:8080/"
        },
        "id": "gnwS5_qVCf48",
        "outputId": "20997cfe-a292-4762-d6af-ab18e9cabd17"
      },
      "source": [
        "a = np.ones((3,4))\n",
        "paf(a)"
      ],
      "execution_count": null,
      "outputs": [
        {
          "output_type": "stream",
          "text": [
            "shape=(3, 4), dimension=2, dtype=float64\n",
            "[[1. 1. 1. 1.]\n",
            " [1. 1. 1. 1.]\n",
            " [1. 1. 1. 1.]]\n",
            "\n"
          ],
          "name": "stdout"
        }
      ]
    },
    {
      "cell_type": "code",
      "metadata": {
        "colab": {
          "base_uri": "https://localhost:8080/"
        },
        "id": "d5m8DnoaDv85",
        "outputId": "8ecb622a-359d-42c4-9e89-1f833606984a"
      },
      "source": [
        "a = np.full((3,4), 9)\n",
        "paf(a)"
      ],
      "execution_count": null,
      "outputs": [
        {
          "output_type": "stream",
          "text": [
            "shape=(3, 4), dimension=2, dtype=int64\n",
            "[[9 9 9 9]\n",
            " [9 9 9 9]\n",
            " [9 9 9 9]]\n",
            "\n"
          ],
          "name": "stdout"
        }
      ]
    },
    {
      "cell_type": "markdown",
      "metadata": {
        "id": "JrhLpMuzEQQ_"
      },
      "source": [
        "## numpy.xxx_like()"
      ]
    },
    {
      "cell_type": "code",
      "metadata": {
        "colab": {
          "base_uri": "https://localhost:8080/"
        },
        "id": "K6FruRRpD9Yc",
        "outputId": "7b1edc3d-1641-4c7f-982a-375c24be72b5"
      },
      "source": [
        "a = np.arange(12).reshape(3,4)\n",
        "b = np.zeros_like(a)\n",
        "paf(b)"
      ],
      "execution_count": null,
      "outputs": [
        {
          "output_type": "stream",
          "text": [
            "shape=(3, 4), dimension=2, dtype=int64\n",
            "[[0 0 0 0]\n",
            " [0 0 0 0]\n",
            " [0 0 0 0]]\n",
            "\n"
          ],
          "name": "stdout"
        }
      ]
    },
    {
      "cell_type": "code",
      "metadata": {
        "colab": {
          "base_uri": "https://localhost:8080/"
        },
        "id": "kfm2m0vDCln3",
        "outputId": "447324b3-4877-46e9-94bc-b79fb568dfa3"
      },
      "source": [
        "a = np.arange(12).reshape(3,4)\n",
        "b = np.ones_like(a)\n",
        "paf(b)"
      ],
      "execution_count": null,
      "outputs": [
        {
          "output_type": "stream",
          "text": [
            "shape=(3, 4), dimension=2, dtype=int64\n",
            "[[1 1 1 1]\n",
            " [1 1 1 1]\n",
            " [1 1 1 1]]\n",
            "\n"
          ],
          "name": "stdout"
        }
      ]
    },
    {
      "cell_type": "code",
      "metadata": {
        "colab": {
          "base_uri": "https://localhost:8080/"
        },
        "id": "oZoP80OoEB3H",
        "outputId": "6a2fa930-84aa-4e8f-df84-c6db7d2f9985"
      },
      "source": [
        "a = np.arange(12).reshape(3,4)\n",
        "b = np.full_like(a,9)\n",
        "paf(b)"
      ],
      "execution_count": null,
      "outputs": [
        {
          "output_type": "stream",
          "text": [
            "shape=(3, 4), dimension=2, dtype=int64\n",
            "[[9 9 9 9]\n",
            " [9 9 9 9]\n",
            " [9 9 9 9]]\n",
            "\n"
          ],
          "name": "stdout"
        }
      ]
    },
    {
      "cell_type": "markdown",
      "metadata": {
        "id": "T1axs0akEND2"
      },
      "source": [
        "## numpy.eye()"
      ]
    },
    {
      "cell_type": "code",
      "metadata": {
        "colab": {
          "base_uri": "https://localhost:8080/"
        },
        "id": "suuKjP_3EOS0",
        "outputId": "e005d1eb-47c7-4bca-8afe-c26d8557596f"
      },
      "source": [
        "a = np.eye(3)\n",
        "paf(a)"
      ],
      "execution_count": null,
      "outputs": [
        {
          "output_type": "stream",
          "text": [
            "shape=(3, 3), dimension=2, dtype=float64\n",
            "[[1. 0. 0.]\n",
            " [0. 1. 0.]\n",
            " [0. 0. 1.]]\n",
            "\n"
          ],
          "name": "stdout"
        }
      ]
    },
    {
      "cell_type": "code",
      "metadata": {
        "colab": {
          "base_uri": "https://localhost:8080/"
        },
        "id": "xGiqbQhREZir",
        "outputId": "ca325397-39f2-47f8-d1af-0d1765d74641"
      },
      "source": [
        "a = np.eye(5)\n",
        "paf(a)"
      ],
      "execution_count": null,
      "outputs": [
        {
          "output_type": "stream",
          "text": [
            "shape=(5, 5), dimension=2, dtype=float64\n",
            "[[1. 0. 0. 0. 0.]\n",
            " [0. 1. 0. 0. 0.]\n",
            " [0. 0. 1. 0. 0.]\n",
            " [0. 0. 0. 1. 0.]\n",
            " [0. 0. 0. 0. 1.]]\n",
            "\n"
          ],
          "name": "stdout"
        }
      ]
    },
    {
      "cell_type": "markdown",
      "metadata": {
        "id": "Kh-fSiL6Efpe"
      },
      "source": [
        "# 랜덤값 생성"
      ]
    },
    {
      "cell_type": "markdown",
      "metadata": {
        "id": "iT7XKIBYEuZY"
      },
      "source": [
        "## random.rand() - 균일 분포\n",
        "\n",
        "0~1 사이의 랜덤 값"
      ]
    },
    {
      "cell_type": "code",
      "metadata": {
        "colab": {
          "base_uri": "https://localhost:8080/"
        },
        "id": "3J-elhY0Eb7T",
        "outputId": "75d1bcd6-4c2d-47ce-d0bc-e10c68d67a23"
      },
      "source": [
        "a = np.random.rand(10)\n",
        "paf(a)"
      ],
      "execution_count": null,
      "outputs": [
        {
          "output_type": "stream",
          "text": [
            "shape=(10,), dimension=1, dtype=float64\n",
            "[0.27171154 0.61686129 0.14539719 0.72585903 0.78404797 0.20653788\n",
            " 0.88647873 0.78424918 0.54737667 0.24072485]\n",
            "\n"
          ],
          "name": "stdout"
        }
      ]
    },
    {
      "cell_type": "markdown",
      "metadata": {
        "id": "jsfp8R25EqFY"
      },
      "source": [
        "0.0 ~ 1.0 사이의 실수 값을 생성한다."
      ]
    },
    {
      "cell_type": "code",
      "metadata": {
        "colab": {
          "base_uri": "https://localhost:8080/",
          "height": 265
        },
        "id": "GIfv5Ym7Et40",
        "outputId": "f6e242bc-15f5-43e9-9c26-d2e6f9f05fe8"
      },
      "source": [
        "a = np.random.rand(10000)\n",
        "\n",
        "import matplotlib.pyplot as plt\n",
        "plt.hist(a, bins=100)\n",
        "plt.show()"
      ],
      "execution_count": null,
      "outputs": [
        {
          "output_type": "display_data",
          "data": {
            "image/png": "[encoded data removed]",
            "text/plain": [
              "<Figure size 432x288 with 1 Axes>"
            ]
          },
          "metadata": {
            "tags": [],
            "needs_background": "light"
          }
        }
      ]
    },
    {
      "cell_type": "code",
      "metadata": {
        "colab": {
          "base_uri": "https://localhost:8080/"
        },
        "id": "E820WQMaJGTw",
        "outputId": "4cfeadfe-45f0-4bd8-f534-6b213c553aef"
      },
      "source": [
        "a = np.random.rand(3,4)\n",
        "paf(a)"
      ],
      "execution_count": null,
      "outputs": [
        {
          "output_type": "stream",
          "text": [
            "shape=(3, 4), dimension=2, dtype=float64\n",
            "[[0.63937423 0.35226759 0.31334472 0.77298436]\n",
            " [0.78572045 0.06008461 0.86436963 0.33173462]\n",
            " [0.28815804 0.81415745 0.45015313 0.20955953]]\n",
            "\n"
          ],
          "name": "stdout"
        }
      ]
    },
    {
      "cell_type": "markdown",
      "metadata": {
        "id": "oBfO-XBBE53l"
      },
      "source": [
        "### Quiz. 1~6 사이의 주사위 값 10개 생성"
      ]
    },
    {
      "cell_type": "code",
      "metadata": {
        "colab": {
          "base_uri": "https://localhost:8080/"
        },
        "id": "fdiJubJXE1F-",
        "outputId": "933f7915-8d3a-4ed9-8327-bc1c432eac98"
      },
      "source": [
        "a = np.ceil(np.random.rand(12)*6).astype(int)\n",
        "paf(a)"
      ],
      "execution_count": null,
      "outputs": [
        {
          "output_type": "stream",
          "text": [
            "shape=(12,), dimension=1, dtype=int64\n",
            "[3 1 4 4 1 2 1 2 6 5 5 1]\n",
            "\n"
          ],
          "name": "stdout"
        }
      ]
    },
    {
      "cell_type": "code",
      "metadata": {
        "colab": {
          "base_uri": "https://localhost:8080/"
        },
        "id": "DT2ylLy5E-fd",
        "outputId": "92f45b06-9930-438c-8753-205bff835f8e"
      },
      "source": [
        "a = np.random.randint(1, 7, size=12)\n",
        "paf(a)"
      ],
      "execution_count": null,
      "outputs": [
        {
          "output_type": "stream",
          "text": [
            "shape=(12,), dimension=1, dtype=int64\n",
            "[3 4 6 6 5 1 6 3 1 5 5 2]\n",
            "\n"
          ],
          "name": "stdout"
        }
      ]
    },
    {
      "cell_type": "markdown",
      "metadata": {
        "id": "DJbBtK7QJU2h"
      },
      "source": [
        "random.rand(최소값, 최대값, size)"
      ]
    },
    {
      "cell_type": "code",
      "metadata": {
        "colab": {
          "base_uri": "https://localhost:8080/"
        },
        "id": "OGiQejhoFR-5",
        "outputId": "4963e19c-98ca-46ba-bd49-2dbdce1c8782"
      },
      "source": [
        "a = np.random.randint(1, 7, size=(3,4))\n",
        "paf(a)"
      ],
      "execution_count": null,
      "outputs": [
        {
          "output_type": "stream",
          "text": [
            "shape=(3, 4), dimension=2, dtype=int64\n",
            "[[5 3 5 5]\n",
            " [2 6 3 3]\n",
            " [5 5 4 4]]\n",
            "\n"
          ],
          "name": "stdout"
        }
      ]
    },
    {
      "cell_type": "markdown",
      "metadata": {
        "id": "b_QIqU_7Faxa"
      },
      "source": [
        "## random.rand() - 자연분포\n",
        "평균 0, 분산 1의 자연분포의 랜덤 값"
      ]
    },
    {
      "cell_type": "code",
      "metadata": {
        "colab": {
          "base_uri": "https://localhost:8080/"
        },
        "id": "diJkurqiF4vg",
        "outputId": "0d4dca1c-7a82-4e1e-9307-beefa3482dea"
      },
      "source": [
        " a = np.random.randn(10)\n",
        " paf(a)"
      ],
      "execution_count": null,
      "outputs": [
        {
          "output_type": "stream",
          "text": [
            "shape=(10,), dimension=1, dtype=float64\n",
            "[ 0.14677852 -1.50679376 -2.49727132 -1.54033049 -0.03482141 -1.605728\n",
            " -0.47151844 -0.1114823   0.22288908  0.43113079]\n",
            "\n"
          ],
          "name": "stdout"
        }
      ]
    },
    {
      "cell_type": "code",
      "metadata": {
        "colab": {
          "base_uri": "https://localhost:8080/"
        },
        "id": "vg70uZejFR7X",
        "outputId": "304519bd-8d0f-4b7f-e92d-b2ee68e04d59"
      },
      "source": [
        " a = np.random.randn(3,4)\n",
        " paf(a)"
      ],
      "execution_count": null,
      "outputs": [
        {
          "output_type": "stream",
          "text": [
            "shape=(3, 4), dimension=2, dtype=float64\n",
            "[[ 0.13000269  0.12849002  0.21883246  0.30649139]\n",
            " [ 0.71479872  1.47607303  0.11551921 -0.79081111]\n",
            " [ 2.08851863  0.90472563  2.1336681   0.22243336]]\n",
            "\n"
          ],
          "name": "stdout"
        }
      ]
    },
    {
      "cell_type": "code",
      "metadata": {
        "colab": {
          "base_uri": "https://localhost:8080/",
          "height": 265
        },
        "id": "9cI-4ngzFR32",
        "outputId": "c9c59f61-7c86-4921-c024-a7c9acab7ced"
      },
      "source": [
        " a = np.random.randn(1000)\n",
        "\n",
        "import matplotlib.pyplot as plt\n",
        "plt.hist(a, bins=100)\n",
        "plt.show()"
      ],
      "execution_count": null,
      "outputs": [
        {
          "output_type": "display_data",
          "data": {
            "image/png": "[encoded data removed]",
            "text/plain": [
              "<Figure size 432x288 with 1 Axes>"
            ]
          },
          "metadata": {
            "tags": [],
            "needs_background": "light"
          }
        }
      ]
    },
    {
      "cell_type": "markdown",
      "metadata": {
        "id": "QImdRykDNwAw"
      },
      "source": [
        "## random.noraml() - 특정 평균 분산의 자연분포"
      ]
    },
    {
      "cell_type": "code",
      "metadata": {
        "colab": {
          "base_uri": "https://localhost:8080/",
          "height": 547
        },
        "id": "Jv5hb4eCKZEd",
        "outputId": "9af0372a-694c-4f23-9a74-34398d4e7385"
      },
      "source": [
        "a = np.random.randn(30,40)\n",
        "print(a.shape)\n",
        "plt.hist(a.flatten(), bins=100)\n",
        "plt.show()\n",
        "\n",
        "a = np.random.normal(0, 1, size=(30,40))\n",
        "print(a.shape)\n",
        "plt.hist(a.flatten(), bins=100)\n",
        "plt.show()\n"
      ],
      "execution_count": null,
      "outputs": [
        {
          "output_type": "stream",
          "text": [
            "(30, 40)\n"
          ],
          "name": "stdout"
        },
        {
          "output_type": "display_data",
          "data": {
            "image/png": "[encoded data removed]",
            "text/plain": [
              "<Figure size 432x288 with 1 Axes>"
            ]
          },
          "metadata": {
            "tags": [],
            "needs_background": "light"
          }
        },
        {
          "output_type": "stream",
          "text": [
            "(30, 40)\n"
          ],
          "name": "stdout"
        },
        {
          "output_type": "display_data",
          "data": {
            "image/png": "[encoded data removed]",
            "text/plain": [
              "<Figure size 432x288 with 1 Axes>"
            ]
          },
          "metadata": {
            "tags": [],
            "needs_background": "light"
          }
        }
      ]
    },
    {
      "cell_type": "markdown",
      "metadata": {
        "id": "2ryRxbjGLtbf"
      },
      "source": [
        "randn()은 평균 0, 분산 1으로 고정된다. 파라매터는 전부 shape 값들\n",
        "\n",
        "normal()을 평균과 분산을 파라매터로 받는다. 그리고 shape는 size 파라매터로 tuple로 받는다."
      ]
    },
    {
      "cell_type": "markdown",
      "metadata": {
        "id": "_8fgxQ1VOfCk"
      },
      "source": [
        "# 슬라이싱\n",
        "\n",
        "![대체 텍스트](https://github.com/dhrim/hongik_2021/raw/master/material/library/images/slice1.png)\n",
        "image from http://taewan.kim/post/numpy_cheat_sheet/"
      ]
    },
    {
      "cell_type": "code",
      "metadata": {
        "colab": {
          "base_uri": "https://localhost:8080/"
        },
        "id": "Dl_6GEc3K90G",
        "outputId": "986b2727-9668-4d40-8d4e-67d73e4f14de"
      },
      "source": [
        "a = np.arange(20).reshape(4,5)\n",
        "pa(a)\n",
        "\n",
        "pa(a[1:3], \"a[1:3]\")"
      ],
      "execution_count": null,
      "outputs": [
        {
          "output_type": "stream",
          "text": [
            "[[ 0  1  2  3  4]\n",
            " [ 5  6  7  8  9]\n",
            " [10 11 12 13 14]\n",
            " [15 16 17 18 19]]\n",
            "\n",
            "a[1:3]\n",
            "[[ 5  6  7  8  9]\n",
            " [10 11 12 13 14]]\n",
            "\n"
          ],
          "name": "stdout"
        }
      ]
    },
    {
      "cell_type": "code",
      "metadata": {
        "colab": {
          "base_uri": "https://localhost:8080/"
        },
        "id": "vk8VEk6bMzI8",
        "outputId": "8246b602-c18a-4839-b4d6-6d14ca4cb1c8"
      },
      "source": [
        "a = np.arange(20).reshape(4,5)\n",
        "pa(a)\n",
        "\n",
        "pa(a[:,1:3], \"a[:,1:3]\")"
      ],
      "execution_count": null,
      "outputs": [
        {
          "output_type": "stream",
          "text": [
            "[[ 0  1  2  3  4]\n",
            " [ 5  6  7  8  9]\n",
            " [10 11 12 13 14]\n",
            " [15 16 17 18 19]]\n",
            "\n",
            "a[:,1:3]\n",
            "[[ 1  2]\n",
            " [ 6  7]\n",
            " [11 12]\n",
            " [16 17]]\n",
            "\n"
          ],
          "name": "stdout"
        }
      ]
    },
    {
      "cell_type": "code",
      "metadata": {
        "colab": {
          "base_uri": "https://localhost:8080/"
        },
        "id": "EWeZAgqpO9SE",
        "outputId": "9cee9181-65e0-4713-d9ac-df943b622e6e"
      },
      "source": [
        "a = np.arange(20).reshape(4,5)\n",
        "pa(a)\n",
        "\n",
        "pa(a[1:3,1:3], \"a[1:3,1:3]\")"
      ],
      "execution_count": null,
      "outputs": [
        {
          "output_type": "stream",
          "text": [
            "[[ 0  1  2  3  4]\n",
            " [ 5  6  7  8  9]\n",
            " [10 11 12 13 14]\n",
            " [15 16 17 18 19]]\n",
            "\n",
            "a[1:3,1:3]\n",
            "[[ 6  7]\n",
            " [11 12]]\n",
            "\n"
          ],
          "name": "stdout"
        }
      ]
    },
    {
      "cell_type": "code",
      "metadata": {
        "colab": {
          "base_uri": "https://localhost:8080/"
        },
        "id": "nIRL_3rgPAy1",
        "outputId": "e7124420-2d52-421c-cd92-24f28dc84d99"
      },
      "source": [
        "a = np.arange(20).reshape(4,5)\n",
        "pa(a)\n",
        "\n",
        "pa(a[1:3], \"a[1:3]\")\n",
        "\n",
        "pa(a[1:3][1:3], \"a[1:3][1:3]\")"
      ],
      "execution_count": null,
      "outputs": [
        {
          "output_type": "stream",
          "text": [
            "[[ 0  1  2  3  4]\n",
            " [ 5  6  7  8  9]\n",
            " [10 11 12 13 14]\n",
            " [15 16 17 18 19]]\n",
            "\n",
            "a[1:3]\n",
            "[[ 5  6  7  8  9]\n",
            " [10 11 12 13 14]]\n",
            "\n",
            "a[1:3][1:3]\n",
            "[[10 11 12 13 14]]\n",
            "\n"
          ],
          "name": "stdout"
        }
      ]
    },
    {
      "cell_type": "markdown",
      "metadata": {
        "id": "voVDdqImPOcj"
      },
      "source": [
        "a[1:3][1:3] 하고 a[1:3,1:3]은 다르다.\n"
      ]
    },
    {
      "cell_type": "code",
      "metadata": {
        "colab": {
          "base_uri": "https://localhost:8080/"
        },
        "id": "E4Hy0qrEPUNo",
        "outputId": "43790429-07fe-4ca1-c995-c6d290aec16a"
      },
      "source": [
        "a = np.arange(20).reshape(4,5)\n",
        "pa(a)\n",
        "\n",
        "pa(a[1:3], \"a[1:3]\")\n",
        "\n",
        "b = a[1:3]\n",
        "pa(b, \"b = a[1:3]\")\n",
        "\n",
        "pa(b[1:3], \"b[1:3] = a[1:3][1:3]\")\n",
        "\n",
        "pa(a[1:31:3], \"a[1:31:3]\")"
      ],
      "execution_count": null,
      "outputs": [
        {
          "output_type": "stream",
          "text": [
            "[[ 0  1  2  3  4]\n",
            " [ 5  6  7  8  9]\n",
            " [10 11 12 13 14]\n",
            " [15 16 17 18 19]]\n",
            "\n",
            "a[1:3]\n",
            "[[ 5  6  7  8  9]\n",
            " [10 11 12 13 14]]\n",
            "\n",
            "b = a[1:3]\n",
            "[[ 5  6  7  8  9]\n",
            " [10 11 12 13 14]]\n",
            "\n",
            "b[1:3] = a[1:3][1:3]\n",
            "[[10 11 12 13 14]]\n",
            "\n",
            "a[1:31:3]\n",
            "[[5 6 7 8 9]]\n",
            "\n"
          ],
          "name": "stdout"
        }
      ]
    },
    {
      "cell_type": "markdown",
      "metadata": {
        "id": "GXqee6WgP682"
      },
      "source": [
        "a[1:3][1:3]은   어레이 a[1:3]의  [1:3]이다. \n",
        "\n",
        "하지만 a[1:3,1:3]은 어레이 a의 행 1:3과 열 1:3 한번에 슬라이싱 한다."
      ]
    },
    {
      "cell_type": "markdown",
      "metadata": {
        "id": "zrOhfsJ5Q3Wx"
      },
      "source": [
        "# 값 설정"
      ]
    },
    {
      "cell_type": "code",
      "metadata": {
        "colab": {
          "base_uri": "https://localhost:8080/"
        },
        "id": "CDEpsuSYQ_2G",
        "outputId": "acd0ca0d-1df7-40b2-d6fb-e9c35de9554e"
      },
      "source": [
        "a = np.arange(12).reshape(3,4)\n",
        "pa(a)\n",
        "\n",
        "a[1,2] = -1\n",
        "pa(a, \"a[1,2] = -1\")\n",
        "\n",
        "a[1,1:3] = -1\n",
        "pa(a, \"a[1:3] = -1\")\n",
        "\n",
        "a[1] = -1\n",
        "pa(a, \"a[1] = -1\")\n",
        "\n",
        "a[1:] = -1\n",
        "pa(a, \"a[:1] = -1\")\n"
      ],
      "execution_count": null,
      "outputs": [
        {
          "output_type": "stream",
          "text": [
            "[[ 0  1  2  3]\n",
            " [ 4  5  6  7]\n",
            " [ 8  9 10 11]]\n",
            "\n",
            "a[1,2] = -1\n",
            "[[ 0  1  2  3]\n",
            " [ 4  5 -1  7]\n",
            " [ 8  9 10 11]]\n",
            "\n",
            "a[1:3] = -1\n",
            "[[ 0  1  2  3]\n",
            " [ 4 -1 -1  7]\n",
            " [ 8  9 10 11]]\n",
            "\n",
            "a[1] = -1\n",
            "[[ 0  1  2  3]\n",
            " [-1 -1 -1 -1]\n",
            " [ 8  9 10 11]]\n",
            "\n",
            "a[:1] = -1\n",
            "[[ 0  1  2  3]\n",
            " [-1 -1 -1 -1]\n",
            " [-1 -1 -1 -1]]\n",
            "\n"
          ],
          "name": "stdout"
        }
      ]
    },
    {
      "cell_type": "code",
      "metadata": {
        "colab": {
          "base_uri": "https://localhost:8080/"
        },
        "id": "YP_MQoyBRe2Y",
        "outputId": "d44d4a5e-926a-4a22-dab0-b9d5f9e9e48d"
      },
      "source": [
        "a = np.arange(12).reshape(3,4)\n",
        "pa(a)\n",
        "\n",
        "a[:,1] = -1\n",
        "pa(a, \"pa[:,1] = -1\")\n",
        "\n",
        "a[:,1:3] = -1\n",
        "pa(a, \"pa[:,1:3] = -1\")\n"
      ],
      "execution_count": null,
      "outputs": [
        {
          "output_type": "stream",
          "text": [
            "[[ 0  1  2  3]\n",
            " [ 4  5  6  7]\n",
            " [ 8  9 10 11]]\n",
            "\n",
            "pa[:,1] = -1\n",
            "[[ 0 -1  2  3]\n",
            " [ 4 -1  6  7]\n",
            " [ 8 -1 10 11]]\n",
            "\n",
            "pa[:,1:3] = -1\n",
            "[[ 0 -1 -1  3]\n",
            " [ 4 -1 -1  7]\n",
            " [ 8 -1 -1 11]]\n",
            "\n"
          ],
          "name": "stdout"
        }
      ]
    },
    {
      "cell_type": "code",
      "metadata": {
        "colab": {
          "base_uri": "https://localhost:8080/"
        },
        "id": "e5Lqf5tyRskx",
        "outputId": "df49d4e3-c538-4034-a5a6-104e569cb4c4"
      },
      "source": [
        "a = np.arange(12).reshape(3,4)\n",
        "pa(a)\n",
        "\n",
        "a[1:2,1:3] = -1\n",
        "pa(a, \"pa[1:2,1:3] = -1\")"
      ],
      "execution_count": null,
      "outputs": [
        {
          "output_type": "stream",
          "text": [
            "[[ 0  1  2  3]\n",
            " [ 4  5  6  7]\n",
            " [ 8  9 10 11]]\n",
            "\n",
            "pa[1:2,1:3] = -1\n",
            "[[ 0  1  2  3]\n",
            " [ 4 -1 -1  7]\n",
            " [ 8  9 10 11]]\n",
            "\n"
          ],
          "name": "stdout"
        }
      ]
    },
    {
      "cell_type": "markdown",
      "metadata": {
        "id": "z9G3pzgITTVW"
      },
      "source": [
        "## Quiz. 다음의 어레이를 생성\n",
        "```\n",
        "[ 1. 1. 1. 1. 1.] \n",
        "[ 1. 0. 0. 0. 1.] \n",
        "[ 1. 0. 0. 0. 1.] \n",
        "[ 1. 0. 0. 0. 1.] \n",
        "[ 1. 1. 1. 1. 1.]\n",
        "```"
      ]
    },
    {
      "cell_type": "code",
      "metadata": {
        "colab": {
          "base_uri": "https://localhost:8080/"
        },
        "id": "zv9zaDq_TakR",
        "outputId": "99c8a83f-faba-4adc-ae56-bc2ac1fbd2bd"
      },
      "source": [
        "a = np.ones((5,5))\n",
        "a[1:4,1:4] = 0\n",
        "pa(a)"
      ],
      "execution_count": null,
      "outputs": [
        {
          "output_type": "stream",
          "text": [
            "[[1. 1. 1. 1. 1.]\n",
            " [1. 0. 0. 0. 1.]\n",
            " [1. 0. 0. 0. 1.]\n",
            " [1. 0. 0. 0. 1.]\n",
            " [1. 1. 1. 1. 1.]]\n",
            "\n"
          ],
          "name": "stdout"
        }
      ]
    },
    {
      "cell_type": "markdown",
      "metadata": {
        "id": "dsDF9fsnTm6R"
      },
      "source": [
        "## Quiz. 짝수 행의 값들을 0으로 설정\n",
        "```\n",
        "[[ 0  1  2  3]\n",
        " [ 4  5  6  7]\n",
        " [ 8  9 10 11]\n",
        " [12 13 14 15]\n",
        " [16 17 18 19]]\n",
        "```"
      ]
    },
    {
      "cell_type": "code",
      "metadata": {
        "colab": {
          "base_uri": "https://localhost:8080/"
        },
        "id": "_4Cw4tAxTi3q",
        "outputId": "7c8089af-86c3-4d62-9c20-b729aa2f8520"
      },
      "source": [
        "a = np.arange(20).reshape(5,4)\n",
        "pa(a)\n",
        "\n",
        "a[::2] = 0\n",
        "pa(a)"
      ],
      "execution_count": null,
      "outputs": [
        {
          "output_type": "stream",
          "text": [
            "[[ 0  1  2  3]\n",
            " [ 4  5  6  7]\n",
            " [ 8  9 10 11]\n",
            " [12 13 14 15]\n",
            " [16 17 18 19]]\n",
            "\n",
            "[[ 0  0  0  0]\n",
            " [ 4  5  6  7]\n",
            " [ 0  0  0  0]\n",
            " [12 13 14 15]\n",
            " [ 0  0  0  0]]\n",
            "\n"
          ],
          "name": "stdout"
        }
      ]
    },
    {
      "cell_type": "markdown",
      "metadata": {
        "id": "U1xP47_LT1MH"
      },
      "source": [
        "## Quiz. 다음 어레이를 생성\n",
        "```\n",
        "[0,1,0,1,0,1,0,1]\n",
        "```"
      ]
    },
    {
      "cell_type": "code",
      "metadata": {
        "colab": {
          "base_uri": "https://localhost:8080/"
        },
        "id": "iQX1l2iXT6bG",
        "outputId": "9408e2eb-dc87-4c5f-f600-832d315fdc1f"
      },
      "source": [
        "a = np.zeros(8)\n",
        "a[1::2] = 1\n",
        "pa(a)"
      ],
      "execution_count": null,
      "outputs": [
        {
          "output_type": "stream",
          "text": [
            "[0. 1. 0. 1. 0. 1. 0. 1.]\n",
            "\n"
          ],
          "name": "stdout"
        }
      ]
    },
    {
      "cell_type": "markdown",
      "metadata": {
        "id": "auu--lgKUD6R"
      },
      "source": [
        "# 어레이 간 연산"
      ]
    },
    {
      "cell_type": "code",
      "metadata": {
        "colab": {
          "base_uri": "https://localhost:8080/"
        },
        "id": "fNt6HyQ4UGiR",
        "outputId": "ceff2f81-917b-426a-f5b3-149a781c4c91"
      },
      "source": [
        "a = np.array([\n",
        "    [ 0,  0,  0],\n",
        "    [10, 10, 10],\n",
        "    [20, 20, 20],\n",
        "    [30, 30, 30]\n",
        "])\n",
        "b = np.array([\n",
        "    [ 0,  1,  2],\n",
        "    [ 0,  1,  2],\n",
        "    [ 0,  1,  2],\n",
        "    [ 0,  1,  2]    \n",
        "])\n",
        "\n",
        "pa(a, \"a\")\n",
        "pa(b, \"b\")\n",
        "\n",
        "pa(a+b, \"a+b\")"
      ],
      "execution_count": null,
      "outputs": [
        {
          "output_type": "stream",
          "text": [
            "a\n",
            "[[ 0  0  0]\n",
            " [10 10 10]\n",
            " [20 20 20]\n",
            " [30 30 30]]\n",
            "\n",
            "b\n",
            "[[0 1 2]\n",
            " [0 1 2]\n",
            " [0 1 2]\n",
            " [0 1 2]]\n",
            "\n",
            "a+b\n",
            "[[ 0  1  2]\n",
            " [10 11 12]\n",
            " [20 21 22]\n",
            " [30 31 32]]\n",
            "\n"
          ],
          "name": "stdout"
        }
      ]
    },
    {
      "cell_type": "code",
      "metadata": {
        "colab": {
          "base_uri": "https://localhost:8080/"
        },
        "id": "TgqLNL9XUwnS",
        "outputId": "2f44d403-6693-4b40-c0b0-1f2cdb9fcceb"
      },
      "source": [
        "a = np.array([\n",
        "    [ 0,  0,  0],\n",
        "    [10, 10, 10],\n",
        "    [20, 20, 20],\n",
        "    [30, 30, 30]\n",
        "])\n",
        "b = np.array([\n",
        "    [ 0,  1,  2],\n",
        "    [ 0,  1,  2],\n",
        "    [ 0,  1,  2],\n",
        "    [ 0,  1,  2]    \n",
        "])\n",
        "\n",
        "pa(a, \"a\")\n",
        "pa(b, \"b\")\n",
        "\n",
        "pa(a-b, \"a-b\")\n",
        "\n",
        "pa(a*b, \"a*b\")\n"
      ],
      "execution_count": null,
      "outputs": [
        {
          "output_type": "stream",
          "text": [
            "a\n",
            "[[ 0  0  0]\n",
            " [10 10 10]\n",
            " [20 20 20]\n",
            " [30 30 30]]\n",
            "\n",
            "b\n",
            "[[0 1 2]\n",
            " [0 1 2]\n",
            " [0 1 2]\n",
            " [0 1 2]]\n",
            "\n",
            "a-b\n",
            "[[ 0 -1 -2]\n",
            " [10  9  8]\n",
            " [20 19 18]\n",
            " [30 29 28]]\n",
            "\n",
            "a*b\n",
            "[[ 0  0  0]\n",
            " [ 0 10 20]\n",
            " [ 0 20 40]\n",
            " [ 0 30 60]]\n",
            "\n"
          ],
          "name": "stdout"
        }
      ]
    },
    {
      "cell_type": "code",
      "metadata": {
        "colab": {
          "base_uri": "https://localhost:8080/"
        },
        "id": "guxXeMCsWre2",
        "outputId": "9bda5411-f0ad-4dfd-c328-383796145a1b"
      },
      "source": [
        "a = np.array([\n",
        "    [ 0,  0,  0],\n",
        "    [10, 10, 10],\n",
        "    [20, 20, 20],\n",
        "    [30, 30, 30]\n",
        "])\n",
        "b = np.array([\n",
        "    [ 0,  1,  2],\n",
        "    [ 0,  1,  2],\n",
        "    [ 0,  1,  2],\n",
        "    [ 0,  1,  2]    \n",
        "])\n",
        "\n",
        "pa(a, \"a\")\n",
        "pa(b, \"b\")\n",
        "\n",
        "pa(a/b, \"a/b\")\n"
      ],
      "execution_count": null,
      "outputs": [
        {
          "output_type": "stream",
          "text": [
            "a\n",
            "[[ 0  0  0]\n",
            " [10 10 10]\n",
            " [20 20 20]\n",
            " [30 30 30]]\n",
            "\n",
            "b\n",
            "[[0 1 2]\n",
            " [0 1 2]\n",
            " [0 1 2]\n",
            " [0 1 2]]\n",
            "\n",
            "a/b\n",
            "[[nan  0.  0.]\n",
            " [inf 10.  5.]\n",
            " [inf 20. 10.]\n",
            " [inf 30. 15.]]\n",
            "\n"
          ],
          "name": "stdout"
        },
        {
          "output_type": "stream",
          "text": [
            "/usr/local/lib/python3.7/dist-packages/ipykernel_launcher.py:17: RuntimeWarning: divide by zero encountered in true_divide\n",
            "/usr/local/lib/python3.7/dist-packages/ipykernel_launcher.py:17: RuntimeWarning: invalid value encountered in true_divide\n"
          ],
          "name": "stderr"
        }
      ]
    },
    {
      "cell_type": "markdown",
      "metadata": {
        "id": "Yx60xME7WwF9"
      },
      "source": [
        "0/0은 NaN, 10/0은 inf로 처리된다. 경고가 뜨면서."
      ]
    },
    {
      "cell_type": "code",
      "metadata": {
        "colab": {
          "base_uri": "https://localhost:8080/"
        },
        "id": "l99b6UpJXKgf",
        "outputId": "f873c7e2-ea8b-4264-e1b8-64368c9c3d68"
      },
      "source": [
        "a = np.array([\n",
        "    [ 0,  0,  0],\n",
        "    [10, 10, 10],\n",
        "    [20, 20, 20],\n",
        "    [30, 30, 30]\n",
        "])\n",
        "b = np.array([\n",
        "    [ 1,  2,  3 ],\n",
        "    [ 4,  5,  6],\n",
        "    [ 7,  8,  9],\n",
        "    [ 10, 12, 12]    \n",
        "])\n",
        "\n",
        "pa(a, \"a\")\n",
        "pa(b, \"b\")\n",
        "\n",
        "pa(a//b, \"a//b\")\n",
        "\n",
        "pa(a%b, \"a%b\")\n"
      ],
      "execution_count": null,
      "outputs": [
        {
          "output_type": "stream",
          "text": [
            "a\n",
            "[[ 0  0  0]\n",
            " [10 10 10]\n",
            " [20 20 20]\n",
            " [30 30 30]]\n",
            "\n",
            "b\n",
            "[[ 1  2  3]\n",
            " [ 4  5  6]\n",
            " [ 7  8  9]\n",
            " [10 12 12]]\n",
            "\n",
            "a//b\n",
            "[[0 0 0]\n",
            " [2 2 1]\n",
            " [2 2 2]\n",
            " [3 2 2]]\n",
            "\n",
            "a%b\n",
            "[[0 0 0]\n",
            " [2 0 4]\n",
            " [6 4 2]\n",
            " [0 6 6]]\n",
            "\n"
          ],
          "name": "stdout"
        }
      ]
    },
    {
      "cell_type": "code",
      "metadata": {
        "id": "iW7-aTNif1bX"
      },
      "source": [
        ""
      ],
      "execution_count": null,
      "outputs": []
    },
    {
      "cell_type": "markdown",
      "metadata": {
        "id": "WyP3Ch3MYDZ9"
      },
      "source": [
        "## Numpy 연산 함수들\n",
        "\n",
        "Numpy ufunc(universal function)들이라 칭한다.\n",
        "\n",
        "전체 리스트틑 https://numpy.org/doc/stable/reference/ufuncs.html (공식 홈)\n",
        "\n",
        "혹은 https://www.dataquest.io/blog/numpy-cheat-sheet/ (깔끔 정리된) 에서 볼 수 있다.\n",
        "\n",
        "<br>\n",
        "\n",
        "간략하면\n",
        "```\n",
        "- 사칙 연산\n",
        "  +, -, *, /, ...\n",
        "  add(), subtract(), multiply(), divide(), ...\n",
        "  matmul()\n",
        "  exp(), log(), sqrt(), ...\n",
        "  ...\n",
        "- 삼각 함수\n",
        "  sin(), cos(), ...\n",
        "- bit 연산\n",
        "  bitwise_and(), bit_wise_or(), ...\n",
        "- 비교 연산\n",
        "  >, <, >=, <=, ==, !=\n",
        "  greater(), greater_equal(), less(), less_equal(), equal(), not_equal()\n",
        "  maximum(), minmum(), ..\n",
        "- 실수 연산?\n",
        "  isfinite(), isnan(), abs(), round(), floor(), ceil(), ...\n",
        "- 통계\n",
        "  sum(), mean(), max(), min(), std(), ...\n",
        "```"
      ]
    },
    {
      "cell_type": "code",
      "metadata": {
        "colab": {
          "base_uri": "https://localhost:8080/"
        },
        "id": "bx6zD0pST-e9",
        "outputId": "11efb565-cde8-467b-80a1-fa028b96029b"
      },
      "source": [
        "a = np.array([\n",
        "    [ 0,  0,  0],\n",
        "    [10, 10, 10],\n",
        "    [20, 20, 20],\n",
        "    [30, 30, 30]\n",
        "])\n",
        "b = np.array([\n",
        "    [ 1,  2,  3 ],\n",
        "    [ 4,  5,  6],\n",
        "    [ 7,  8,  9],\n",
        "    [ 10, 12, 12]    \n",
        "])\n",
        "\n",
        "pa(a>b)"
      ],
      "execution_count": null,
      "outputs": [
        {
          "output_type": "stream",
          "text": [
            "[[False False False]\n",
            " [ True  True  True]\n",
            " [ True  True  True]\n",
            " [ True  True  True]]\n",
            "\n"
          ],
          "name": "stdout"
        }
      ]
    },
    {
      "cell_type": "code",
      "metadata": {
        "colab": {
          "base_uri": "https://localhost:8080/"
        },
        "id": "-tRH_rl3T-bU",
        "outputId": "ecbf8ef6-5c1d-48d7-d174-304f0f6b2d51"
      },
      "source": [
        "a = np.array([\n",
        "    [ 0,  0,  0],\n",
        "    [10, 10, 10],\n",
        "    [20, 20, 20],\n",
        "    [30, 30, 30]\n",
        "])\n",
        "b = np.array([\n",
        "    [ 1,  2,  3 ],\n",
        "    [ 4,  5,  6],\n",
        "    [ 7,  8,  9],\n",
        "    [ 10, 12, 12]    \n",
        "])\n",
        "\n",
        "pa(np.maximum(a,b), \"np.maxiumn(a,b)\")\n",
        "\n",
        "pa(np.max(a), \"np.max(a)\")"
      ],
      "execution_count": null,
      "outputs": [
        {
          "output_type": "stream",
          "text": [
            "np.maxiumn(a,b)\n",
            "[[ 1  2  3]\n",
            " [10 10 10]\n",
            " [20 20 20]\n",
            " [30 30 30]]\n",
            "\n",
            "np.max(a)\n",
            "30\n",
            "\n"
          ],
          "name": "stdout"
        }
      ]
    },
    {
      "cell_type": "markdown",
      "metadata": {
        "id": "DbrKXvNudHdq"
      },
      "source": [
        "## 행렬 곱"
      ]
    },
    {
      "cell_type": "code",
      "metadata": {
        "colab": {
          "base_uri": "https://localhost:8080/"
        },
        "id": "wcXGbYV9T-X8",
        "outputId": "80479387-6fff-44ba-c3ef-7aa35b905e06"
      },
      "source": [
        "a = np.arange(6).reshape(2,3)\n",
        "b = np.arange(12).reshape(3,4)\n",
        "\n",
        "print(a.shape)\n",
        "pa(a)\n",
        "\n",
        "print(b.shape)\n",
        "pa(b)\n",
        "\n",
        "print(np.matmul(a,b).shape)\n",
        "pa(np.matmul(a,b), \"np.matmul(a,b)\")\n",
        "pa(np.dot(a,b))"
      ],
      "execution_count": null,
      "outputs": [
        {
          "output_type": "stream",
          "text": [
            "(2, 3)\n",
            "[[0 1 2]\n",
            " [3 4 5]]\n",
            "\n",
            "(3, 4)\n",
            "[[ 0  1  2  3]\n",
            " [ 4  5  6  7]\n",
            " [ 8  9 10 11]]\n",
            "\n",
            "(2, 4)\n",
            "np.matmul(a,b)\n",
            "[[20 23 26 29]\n",
            " [56 68 80 92]]\n",
            "\n",
            "[[20 23 26 29]\n",
            " [56 68 80 92]]\n",
            "\n"
          ],
          "name": "stdout"
        }
      ]
    },
    {
      "cell_type": "markdown",
      "metadata": {
        "id": "mQXyASLnT_Io"
      },
      "source": [
        "# 브로드캐스팅\n",
        "\n",
        "![대체 텍스트](https://github.com/dhrim/hongik_2021/raw/master/material/library/images/broadcasting.png)\n",
        "image from http://taewan.kim/post/numpy_cheat_sheet/"
      ]
    },
    {
      "cell_type": "code",
      "metadata": {
        "colab": {
          "base_uri": "https://localhost:8080/"
        },
        "id": "ZpwxnqJsT-pJ",
        "outputId": "fb98a31f-9179-4f21-df13-25a1e996595a"
      },
      "source": [
        "a = np.array([\n",
        "    [ 0,  0,  0],\n",
        "    [10, 10, 10],\n",
        "    [20, 20, 20],\n",
        "    [30, 30, 30]\n",
        "])\n",
        "b = np.array([\n",
        "    [ 0,  1,  2], \n",
        "])\n",
        "\n",
        "pa(a+b)"
      ],
      "execution_count": null,
      "outputs": [
        {
          "output_type": "stream",
          "text": [
            "[[ 0  1  2]\n",
            " [10 11 12]\n",
            " [20 21 22]\n",
            " [30 31 32]]\n",
            "\n"
          ],
          "name": "stdout"
        }
      ]
    },
    {
      "cell_type": "code",
      "metadata": {
        "colab": {
          "base_uri": "https://localhost:8080/"
        },
        "id": "kal-zjxPT-UT",
        "outputId": "d772dfe4-c532-411c-b144-56adaec08277"
      },
      "source": [
        "a = np.array([\n",
        "    [ 0,  0,  0],\n",
        "    [10, 10, 10],\n",
        "    [20, 20, 20],\n",
        "    [30, 30, 30] \n",
        "])\n",
        "b = np.array([\n",
        "    [ 1 ],\n",
        "    [ 2 ],\n",
        "    [ 3 ],\n",
        "    [ 4 ]    \n",
        "])\n",
        "\n",
        "pa(a+b)"
      ],
      "execution_count": null,
      "outputs": [
        {
          "output_type": "stream",
          "text": [
            "[[ 1  1  1]\n",
            " [12 12 12]\n",
            " [23 23 23]\n",
            " [34 34 34]]\n",
            "\n"
          ],
          "name": "stdout"
        }
      ]
    },
    {
      "cell_type": "markdown",
      "metadata": {
        "id": "CJSbo71hdidp"
      },
      "source": [
        "# 필터링\n",
        "\n",
        "boolean 연산 결과는 필터링을 mask로 사용될 수 있다."
      ]
    },
    {
      "cell_type": "code",
      "metadata": {
        "colab": {
          "base_uri": "https://localhost:8080/"
        },
        "id": "uerSzhv2T-PV",
        "outputId": "aa1195d7-73bf-4cf7-c08c-702a3012d029"
      },
      "source": [
        "a = np.arange(12).reshape(3,4)\n",
        "pa(a)\n",
        "\n",
        "pa(a%2==0, \"a%2==0\")"
      ],
      "execution_count": null,
      "outputs": [
        {
          "output_type": "stream",
          "text": [
            "[[ 0  1  2  3]\n",
            " [ 4  5  6  7]\n",
            " [ 8  9 10 11]]\n",
            "\n",
            "a%2==0\n",
            "[[ True False  True False]\n",
            " [ True False  True False]\n",
            " [ True False  True False]]\n",
            "\n"
          ],
          "name": "stdout"
        }
      ]
    },
    {
      "cell_type": "markdown",
      "metadata": {
        "id": "0_MsxYdaeG5Y"
      },
      "source": [
        "## Quiz. 2의 배수들의 합\n",
        "```\n",
        "[[ 0  1  2  3]\n",
        " [ 4  5  6  7]\n",
        " [ 8  9 10 11]]\n",
        " ```"
      ]
    },
    {
      "cell_type": "code",
      "metadata": {
        "colab": {
          "base_uri": "https://localhost:8080/"
        },
        "id": "-kYgcvr2eL6C",
        "outputId": "77d14a1f-cb08-4c4c-8604-aec635b03fb9"
      },
      "source": [
        "a = np.arange(12).reshape(3,4)\n",
        "pa(a)\n",
        "\n",
        "mask = a%2==0\n",
        "pa(mask, \"mask\")\n",
        "\n",
        "pa(a*mask, \"a*mask\")\n",
        "\n",
        "print(np.sum(a*mask))\n",
        "\n"
      ],
      "execution_count": null,
      "outputs": [
        {
          "output_type": "stream",
          "text": [
            "[[ 0  1  2  3]\n",
            " [ 4  5  6  7]\n",
            " [ 8  9 10 11]]\n",
            "\n",
            "mask\n",
            "[[ True False  True False]\n",
            " [ True False  True False]\n",
            " [ True False  True False]]\n",
            "\n",
            "a*mask\n",
            "[[ 0  0  2  0]\n",
            " [ 4  0  6  0]\n",
            " [ 8  0 10  0]]\n",
            "\n",
            "30\n"
          ],
          "name": "stdout"
        }
      ]
    },
    {
      "cell_type": "markdown",
      "metadata": {
        "id": "PNdzOocciQqZ"
      },
      "source": [
        "## Quiz. 5보다 큰 짝수들의 합\n",
        "```\n",
        "[[ 0  1  2  3]\n",
        " [ 4  5  6  7]\n",
        " [ 8  9 10 11]]\n",
        "```"
      ]
    },
    {
      "cell_type": "code",
      "metadata": {
        "colab": {
          "base_uri": "https://localhost:8080/"
        },
        "id": "4GQpwbMCiaYD",
        "outputId": "f00bbc0f-0efd-4529-c9c7-02a777318957"
      },
      "source": [
        "a = np.arange(12).reshape(3,4)\n",
        "pa(a)\n",
        "\n",
        "mask = (a%2==0) & (a>5)\n",
        "pa(mask, \"mask\")\n",
        "\n",
        "pa(a*mask, \"a*mask\")\n",
        "\n",
        "print(np.sum(a*mask))\n",
        "\n"
      ],
      "execution_count": null,
      "outputs": [
        {
          "output_type": "stream",
          "text": [
            "[[ 0  1  2  3]\n",
            " [ 4  5  6  7]\n",
            " [ 8  9 10 11]]\n",
            "\n",
            "mask\n",
            "[[False False False False]\n",
            " [False False  True False]\n",
            " [ True False  True False]]\n",
            "\n",
            "a*mask\n",
            "[[ 0  0  0  0]\n",
            " [ 0  0  6  0]\n",
            " [ 8  0 10  0]]\n",
            "\n",
            "24\n"
          ],
          "name": "stdout"
        }
      ]
    },
    {
      "cell_type": "markdown",
      "metadata": {
        "id": "n20SaoWwjEUC"
      },
      "source": [
        "## Quiz. 대각선 요소들의 평균\n",
        "```\n",
        "[[ 0  1  2  3  4]\n",
        " [ 5  6  7  8  9]\n",
        " [10 11 12 13 14]\n",
        " [15 16 17 18 19]\n",
        " [20 21 22 23 24]]\n",
        "```\n"
      ]
    },
    {
      "cell_type": "code",
      "metadata": {
        "colab": {
          "base_uri": "https://localhost:8080/"
        },
        "id": "TQRVBeBbjLcj",
        "outputId": "8ec73ade-8a1c-4c29-dc7b-babd0548f220"
      },
      "source": [
        "a = np.arange(25).reshape(5,5)\n",
        "pa(a)\n",
        "\n",
        "mask = np.eye(5)\n",
        "pa(mask, \"mask\")\n",
        "\n",
        "pa(a*mask, \"a*mask\")\n",
        "\n",
        "print(np.mean(a*mask))\n",
        "\n"
      ],
      "execution_count": null,
      "outputs": [
        {
          "output_type": "stream",
          "text": [
            "[[ 0  1  2  3  4]\n",
            " [ 5  6  7  8  9]\n",
            " [10 11 12 13 14]\n",
            " [15 16 17 18 19]\n",
            " [20 21 22 23 24]]\n",
            "\n",
            "mask\n",
            "[[1. 0. 0. 0. 0.]\n",
            " [0. 1. 0. 0. 0.]\n",
            " [0. 0. 1. 0. 0.]\n",
            " [0. 0. 0. 1. 0.]\n",
            " [0. 0. 0. 0. 1.]]\n",
            "\n",
            "a*mask\n",
            "[[ 0.  0.  0.  0.  0.]\n",
            " [ 0.  6.  0.  0.  0.]\n",
            " [ 0.  0. 12.  0.  0.]\n",
            " [ 0.  0.  0. 18.  0.]\n",
            " [ 0.  0.  0.  0. 24.]]\n",
            "\n",
            "2.4\n"
          ],
          "name": "stdout"
        }
      ]
    },
    {
      "cell_type": "markdown",
      "metadata": {
        "id": "54N9WRO6Q-ND"
      },
      "source": [
        "# 행, 열 추가 삭제\n",
        "\n",
        "list의 append(), insert(), pop() 등은 리스트에 요소를 추가하거나 삭제한다. 리스트 내의 값들을 변경한다. 그래서 호출 후의 반환 값은 없다.\n",
        "\n",
        "하지만 numpy는 어레이 내에 요소를 추가하거나 삭제하지 않고, 추가하거나 삭제한 새로운 어레이를 생성해서 이를 반환단다.\n",
        "\n"
      ]
    },
    {
      "cell_type": "code",
      "metadata": {
        "colab": {
          "base_uri": "https://localhost:8080/"
        },
        "id": "oq4Ako5ySGvr",
        "outputId": "118725c7-be61-446a-d143-80f995764b56"
      },
      "source": [
        "l = [0,1,2,3,4]\n",
        "print(l)\n",
        "\n",
        "l.append(9)\n",
        "print(l)\n",
        "\n",
        "l.insert(1,9)\n",
        "print(l)\n",
        "\n",
        "l.pop(2)\n",
        "print(l)"
      ],
      "execution_count": null,
      "outputs": [
        {
          "output_type": "stream",
          "text": [
            "[0, 1, 2, 3, 4]\n",
            "[0, 1, 2, 3, 4, 9]\n",
            "[0, 9, 1, 2, 3, 4, 9]\n",
            "[0, 9, 2, 3, 4, 9]\n"
          ],
          "name": "stdout"
        }
      ]
    },
    {
      "cell_type": "markdown",
      "metadata": {
        "id": "-Mt05KEahM7_"
      },
      "source": [
        "## 추가"
      ]
    },
    {
      "cell_type": "code",
      "metadata": {
        "colab": {
          "base_uri": "https://localhost:8080/"
        },
        "id": "oDIm46xzggrw",
        "outputId": "8eb75d59-32e4-4925-a420-0f0173f07aba"
      },
      "source": [
        "a = np.arange(12).reshape(3,4)\n",
        "pa(a, \"a\")\n",
        "\n",
        "b = np.append(a, [[-1,-2,-3,-4]], axis=0)\n",
        "pa(b, \"b\")\n"
      ],
      "execution_count": null,
      "outputs": [
        {
          "output_type": "stream",
          "text": [
            "a\n",
            "[[ 0  1  2  3]\n",
            " [ 4  5  6  7]\n",
            " [ 8  9 10 11]]\n",
            "\n",
            "b\n",
            "[[ 0  1  2  3]\n",
            " [ 4  5  6  7]\n",
            " [ 8  9 10 11]\n",
            " [-1 -2 -3 -4]]\n",
            "\n"
          ],
          "name": "stdout"
        }
      ]
    },
    {
      "cell_type": "markdown",
      "metadata": {
        "id": "dpaXN18rhOHf"
      },
      "source": [
        "## 특정 위치에 추가"
      ]
    },
    {
      "cell_type": "code",
      "metadata": {
        "colab": {
          "base_uri": "https://localhost:8080/"
        },
        "id": "csRM_DH8P5PU",
        "outputId": "56e49415-37fe-4f8e-f59b-e7c673e83c59"
      },
      "source": [
        "a = np.arange(12).reshape(3,4)\n",
        "pa(a, \"a\")\n",
        "\n",
        "b = np.insert(a, 1, [[-1,-2,-3,-4]], axis=0)\n",
        "pa(b, \"b\")\n"
      ],
      "execution_count": null,
      "outputs": [
        {
          "output_type": "stream",
          "text": [
            "a\n",
            "[[ 0  1  2  3]\n",
            " [ 4  5  6  7]\n",
            " [ 8  9 10 11]]\n",
            "\n",
            "b\n",
            "[[ 0  1  2  3]\n",
            " [-1 -2 -3 -4]\n",
            " [ 4  5  6  7]\n",
            " [ 8  9 10 11]]\n",
            "\n"
          ],
          "name": "stdout"
        }
      ]
    },
    {
      "cell_type": "markdown",
      "metadata": {
        "id": "BrPqGifnhRX2"
      },
      "source": [
        "## 행 삭제"
      ]
    },
    {
      "cell_type": "code",
      "metadata": {
        "colab": {
          "base_uri": "https://localhost:8080/"
        },
        "id": "mC8TQP3WSePp",
        "outputId": "e292e008-00e7-41c4-a67a-dfadc21aea17"
      },
      "source": [
        "a = np.arange(12).reshape(3,4)\n",
        "pa(a, \"a\")\n",
        "\n",
        "b = np.delete(a, 1, axis=0)\n",
        "pa(b, \"b\")\n"
      ],
      "execution_count": null,
      "outputs": [
        {
          "output_type": "stream",
          "text": [
            "a\n",
            "[[ 0  1  2  3]\n",
            " [ 4  5  6  7]\n",
            " [ 8  9 10 11]]\n",
            "\n",
            "b\n",
            "[[ 0  1  2  3]\n",
            " [ 8  9 10 11]]\n",
            "\n"
          ],
          "name": "stdout"
        }
      ]
    },
    {
      "cell_type": "markdown",
      "metadata": {
        "id": "FbIny223hS4b"
      },
      "source": [
        "## 열 삭제"
      ]
    },
    {
      "cell_type": "code",
      "metadata": {
        "colab": {
          "base_uri": "https://localhost:8080/"
        },
        "id": "Zj9lrI5kSeLy",
        "outputId": "fe518158-62d5-4661-b4c6-70279f72616e"
      },
      "source": [
        "a = np.arange(12).reshape(3,4)\n",
        "pa(a, \"a\")\n",
        "\n",
        "b = np.delete(a, 1, axis=1)\n",
        "pa(b, \"b\")\n"
      ],
      "execution_count": null,
      "outputs": [
        {
          "output_type": "stream",
          "text": [
            "a\n",
            "[[ 0  1  2  3]\n",
            " [ 4  5  6  7]\n",
            " [ 8  9 10 11]]\n",
            "\n",
            "b\n",
            "[[ 0  2  3]\n",
            " [ 4  6  7]\n",
            " [ 8 10 11]]\n",
            "\n"
          ],
          "name": "stdout"
        }
      ]
    },
    {
      "cell_type": "code",
      "metadata": {
        "id": "kNBBtAzHjx2R"
      },
      "source": [
        ""
      ],
      "execution_count": null,
      "outputs": []
    },
    {
      "cell_type": "code",
      "metadata": {
        "id": "FNTVZ-Kdjxzp"
      },
      "source": [
        ""
      ],
      "execution_count": null,
      "outputs": []
    },
    {
      "cell_type": "code",
      "metadata": {
        "id": "4ULBhPgvjxxA"
      },
      "source": [
        ""
      ],
      "execution_count": null,
      "outputs": []
    },
    {
      "cell_type": "code",
      "metadata": {
        "id": "fPW2o5abjxtV"
      },
      "source": [
        ""
      ],
      "execution_count": null,
      "outputs": []
    },
    {
      "cell_type": "markdown",
      "metadata": {
        "id": "Fz7qyvP7ju_r"
      },
      "source": [
        "# 차원 확대/축소"
      ]
    },
    {
      "cell_type": "code",
      "metadata": {
        "colab": {
          "base_uri": "https://localhost:8080/"
        },
        "id": "HJajFDsyj99U",
        "outputId": "0322a064-c536-4d2f-c2e1-b8335ac473e1"
      },
      "source": [
        "a = np.arange(12).reshape(3,4)\n",
        "\n",
        "paf(a)\n",
        "\n",
        "paf(a.reshape(3,4,1))"
      ],
      "execution_count": null,
      "outputs": [
        {
          "output_type": "stream",
          "text": [
            "shape=(3, 4), dimension=2, dtype=int64\n",
            "[[ 0  1  2  3]\n",
            " [ 4  5  6  7]\n",
            " [ 8  9 10 11]]\n",
            "\n",
            "shape=(3, 4, 1), dimension=3, dtype=int64\n",
            "[[[ 0]\n",
            "  [ 1]\n",
            "  [ 2]\n",
            "  [ 3]]\n",
            "\n",
            " [[ 4]\n",
            "  [ 5]\n",
            "  [ 6]\n",
            "  [ 7]]\n",
            "\n",
            " [[ 8]\n",
            "  [ 9]\n",
            "  [10]\n",
            "  [11]]]\n",
            "\n"
          ],
          "name": "stdout"
        }
      ]
    },
    {
      "cell_type": "code",
      "metadata": {
        "colab": {
          "base_uri": "https://localhost:8080/"
        },
        "id": "1z6155jLlQ9i",
        "outputId": "e13ca459-c15f-4b8e-8026-a9a77493c887"
      },
      "source": [
        "print(a.reshape(3,1,4))"
      ],
      "execution_count": null,
      "outputs": [
        {
          "output_type": "stream",
          "text": [
            "[[[ 0  1  2  3]]\n",
            "\n",
            " [[ 4  5  6  7]]\n",
            "\n",
            " [[ 8  9 10 11]]]\n"
          ],
          "name": "stdout"
        }
      ]
    },
    {
      "cell_type": "code",
      "metadata": {
        "colab": {
          "base_uri": "https://localhost:8080/"
        },
        "id": "O-ZhKoWflSkh",
        "outputId": "5228e951-be73-48c2-d755-70c299dd3f93"
      },
      "source": [
        "print(a.reshape(1,3,4))"
      ],
      "execution_count": null,
      "outputs": [
        {
          "output_type": "stream",
          "text": [
            "[[[ 0  1  2  3]\n",
            "  [ 4  5  6  7]\n",
            "  [ 8  9 10 11]]]\n"
          ],
          "name": "stdout"
        }
      ]
    },
    {
      "cell_type": "markdown",
      "metadata": {
        "id": "Cx9AkVmall2s"
      },
      "source": [
        "## expand_dims()"
      ]
    },
    {
      "cell_type": "code",
      "metadata": {
        "colab": {
          "base_uri": "https://localhost:8080/"
        },
        "id": "Bn1CAkY0lU8S",
        "outputId": "bb56e886-1512-4a38-c755-fe8a01ac687a"
      },
      "source": [
        "a = np.arange(12).reshape(3,4)\n",
        "pa(a)\n",
        "\n",
        "b = np.expand_dims(a, axis=0)\n",
        "print(b.shape)\n"
      ],
      "execution_count": null,
      "outputs": [
        {
          "output_type": "stream",
          "text": [
            "[[ 0  1  2  3]\n",
            " [ 4  5  6  7]\n",
            " [ 8  9 10 11]]\n",
            "\n",
            "(1, 3, 4)\n"
          ],
          "name": "stdout"
        }
      ]
    },
    {
      "cell_type": "code",
      "metadata": {
        "colab": {
          "base_uri": "https://localhost:8080/"
        },
        "id": "P7emJVqplcAY",
        "outputId": "b98b8646-e77e-4c56-f1aa-38b76334fd57"
      },
      "source": [
        "a = np.arange(12).reshape(3,4)\n",
        "pa(a)\n",
        "\n",
        "b = np.expand_dims(a, axis=1)\n",
        "print(b.shape)\n"
      ],
      "execution_count": null,
      "outputs": [
        {
          "output_type": "stream",
          "text": [
            "[[ 0  1  2  3]\n",
            " [ 4  5  6  7]\n",
            " [ 8  9 10 11]]\n",
            "\n",
            "(3, 1, 4)\n"
          ],
          "name": "stdout"
        }
      ]
    },
    {
      "cell_type": "code",
      "metadata": {
        "colab": {
          "base_uri": "https://localhost:8080/"
        },
        "id": "1jGp51u1lhGp",
        "outputId": "c3be6c99-d8ca-4f3b-8400-a78eb6983ebe"
      },
      "source": [
        "a = np.arange(12).reshape(3,4)\n",
        "pa(a)\n",
        "\n",
        "b = np.expand_dims(a, axis=2)\n",
        "print(b.shape)\n"
      ],
      "execution_count": null,
      "outputs": [
        {
          "output_type": "stream",
          "text": [
            "[[ 0  1  2  3]\n",
            " [ 4  5  6  7]\n",
            " [ 8  9 10 11]]\n",
            "\n",
            "(3, 4, 1)\n"
          ],
          "name": "stdout"
        }
      ]
    },
    {
      "cell_type": "code",
      "metadata": {
        "colab": {
          "base_uri": "https://localhost:8080/"
        },
        "id": "ErV2TGXCli_G",
        "outputId": "b5b56422-d0b4-4654-f783-2800582ce427"
      },
      "source": [
        "a = np.arange(12).reshape(3,4)\n",
        "pa(a)\n",
        "\n",
        "b = np.expand_dims(a, axis=-1)\n",
        "print(b.shape)\n"
      ],
      "execution_count": null,
      "outputs": [
        {
          "output_type": "stream",
          "text": [
            "[[ 0  1  2  3]\n",
            " [ 4  5  6  7]\n",
            " [ 8  9 10 11]]\n",
            "\n",
            "(3, 4, 1)\n"
          ],
          "name": "stdout"
        }
      ]
    },
    {
      "cell_type": "markdown",
      "metadata": {
        "id": "Hv5P3iBMltyr"
      },
      "source": [
        "# squeeze()"
      ]
    },
    {
      "cell_type": "code",
      "metadata": {
        "colab": {
          "base_uri": "https://localhost:8080/"
        },
        "id": "EjDq6YA9l0KM",
        "outputId": "b322ad83-cca8-4686-b0a5-db13210c24f6"
      },
      "source": [
        "a = np.arange(12).reshape(3,4,1)\n",
        "print(a.shape)\n",
        "\n",
        "print(a.reshape(3,4).shape)\n"
      ],
      "execution_count": null,
      "outputs": [
        {
          "output_type": "stream",
          "text": [
            "(3, 4, 1)\n",
            "(3, 4)\n"
          ],
          "name": "stdout"
        }
      ]
    },
    {
      "cell_type": "code",
      "metadata": {
        "colab": {
          "base_uri": "https://localhost:8080/"
        },
        "id": "PLmpGImmlwC1",
        "outputId": "949a63ea-9704-4df3-816c-f578ad57f448"
      },
      "source": [
        "a = np.arange(12).reshape(3,4,1)\n",
        "print(a.shape)\n",
        "\n",
        "print(np.squeeze(a).shape)\n"
      ],
      "execution_count": null,
      "outputs": [
        {
          "output_type": "stream",
          "text": [
            "(3, 4, 1)\n",
            "(3, 4)\n"
          ],
          "name": "stdout"
        }
      ]
    },
    {
      "cell_type": "code",
      "metadata": {
        "colab": {
          "base_uri": "https://localhost:8080/"
        },
        "id": "e2Odx4pxl8nj",
        "outputId": "5353d1d1-3cea-4dc8-84a5-28e75f07d095"
      },
      "source": [
        "a = np.arange(12).reshape(3,1,4)\n",
        "print(a.shape)\n",
        "\n",
        "print(np.squeeze(a).shape)\n"
      ],
      "execution_count": null,
      "outputs": [
        {
          "output_type": "stream",
          "text": [
            "(3, 1, 4)\n",
            "(3, 4)\n"
          ],
          "name": "stdout"
        }
      ]
    },
    {
      "cell_type": "markdown",
      "metadata": {
        "id": "s41dX5mSmCwB"
      },
      "source": [
        "# 전치 행열"
      ]
    },
    {
      "cell_type": "code",
      "metadata": {
        "colab": {
          "base_uri": "https://localhost:8080/"
        },
        "id": "1VXfrChHmFNS",
        "outputId": "d1dc8808-0363-4a0c-ddb7-94cc6d554c90"
      },
      "source": [
        "a = np.arange(12).reshape(3,4)\n",
        "pa(a, \"a\")\n",
        "\n",
        "pa(a.T, \"a.T\")"
      ],
      "execution_count": null,
      "outputs": [
        {
          "output_type": "stream",
          "text": [
            "a\n",
            "[[ 0  1  2  3]\n",
            " [ 4  5  6  7]\n",
            " [ 8  9 10 11]]\n",
            "\n",
            "a.T\n",
            "[[ 0  4  8]\n",
            " [ 1  5  9]\n",
            " [ 2  6 10]\n",
            " [ 3  7 11]]\n",
            "\n"
          ],
          "name": "stdout"
        }
      ]
    },
    {
      "cell_type": "markdown",
      "metadata": {
        "id": "bEXFgsi8mNXD"
      },
      "source": [
        "# 축 기반 연산"
      ]
    },
    {
      "cell_type": "markdown",
      "metadata": {
        "id": "yKqhAZwVmUX0"
      },
      "source": [
        "## sum()\n",
        "\n",
        "한 축으로 더하면 그 축은 사라진다.\n",
        "\n",
        "사자질 축 index를 axis의 값으로 설정한다."
      ]
    },
    {
      "cell_type": "code",
      "metadata": {
        "colab": {
          "base_uri": "https://localhost:8080/"
        },
        "id": "qE_CPN9Bmnq7",
        "outputId": "0d5f5571-8d08-4e0d-f1bc-aebc709db105"
      },
      "source": [
        "a = np.ones((3,4))\n",
        "pa(a)\n",
        "\n",
        "print(np.sum(a))"
      ],
      "execution_count": null,
      "outputs": [
        {
          "output_type": "stream",
          "text": [
            "[[1. 1. 1. 1.]\n",
            " [1. 1. 1. 1.]\n",
            " [1. 1. 1. 1.]]\n",
            "\n",
            "12.0\n"
          ],
          "name": "stdout"
        }
      ]
    },
    {
      "cell_type": "code",
      "metadata": {
        "colab": {
          "base_uri": "https://localhost:8080/"
        },
        "id": "r4td5iycmZJn",
        "outputId": "d79b5953-1a12-4fc3-932f-b50e4f2c5c6e"
      },
      "source": [
        "a = np.ones((3,4))\n",
        "pa(a) # shape (3,4)\n",
        "\n",
        "paf(np.sum(a, axis=0)) # shape의 (3,4) 3을 없애고 싶다. 3은 index 0. 이 index를 axis 값으로\n",
        "\n",
        "paf(np.sum(a, axis=1)) # shape의 (3,4) 4을 없애고 싶다. 4는 index 1. 이 index를 axis 값으로\n"
      ],
      "execution_count": null,
      "outputs": [
        {
          "output_type": "stream",
          "text": [
            "[[1. 1. 1. 1.]\n",
            " [1. 1. 1. 1.]\n",
            " [1. 1. 1. 1.]]\n",
            "\n",
            "shape=(4,), dimension=1, dtype=float64\n",
            "[3. 3. 3. 3.]\n",
            "\n",
            "shape=(3,), dimension=1, dtype=float64\n",
            "[4. 4. 4.]\n",
            "\n"
          ],
          "name": "stdout"
        }
      ]
    },
    {
      "cell_type": "code",
      "metadata": {
        "colab": {
          "base_uri": "https://localhost:8080/"
        },
        "id": "MVGTP5mKnXdS",
        "outputId": "5174260a-959f-4801-98a4-9579b256516d"
      },
      "source": [
        "a = np.ones((3,4,2))\n",
        "pa(a.shape) # shape (3,4,2)\n",
        "\n",
        "paf(np.sum(a, axis=0)) # 원 shape (3,4,2)에서 index 0 축이 제거되어 (  4,2)가 된다.\n",
        "\n",
        "paf(np.sum(a, axis=1)) # 원 shape (3,4,2)에서 index 1 축이 제거되어 (3  ,2)가 된다.\n",
        "\n",
        "paf(np.sum(a, axis=2)) # 원 shape (3,4,2)에서 index 2 축이 제거되어 (3,4  )가 된다."
      ],
      "execution_count": null,
      "outputs": [
        {
          "output_type": "stream",
          "text": [
            "(3, 4, 2)\n",
            "\n",
            "shape=(4, 2), dimension=2, dtype=float64\n",
            "[[3. 3.]\n",
            " [3. 3.]\n",
            " [3. 3.]\n",
            " [3. 3.]]\n",
            "\n",
            "shape=(3, 2), dimension=2, dtype=float64\n",
            "[[4. 4.]\n",
            " [4. 4.]\n",
            " [4. 4.]]\n",
            "\n",
            "shape=(3, 4), dimension=2, dtype=float64\n",
            "[[2. 2. 2. 2.]\n",
            " [2. 2. 2. 2.]\n",
            " [2. 2. 2. 2.]]\n",
            "\n"
          ],
          "name": "stdout"
        }
      ]
    },
    {
      "cell_type": "markdown",
      "metadata": {
        "id": "bfnXv0GdoFrH"
      },
      "source": [
        "## mean()\n",
        "\n",
        "axis 설정 방법은 sum()과 동일하다. "
      ]
    },
    {
      "cell_type": "code",
      "metadata": {
        "colab": {
          "base_uri": "https://localhost:8080/"
        },
        "id": "QKJ6dVqZoRr9",
        "outputId": "30da97e8-190c-4b8f-bb8d-067e7f2c9308"
      },
      "source": [
        "a = np.arange(24).reshape(3,4,2)\n",
        "pa(a.shape) # shape (3,4,2)\n",
        "\n",
        "paf(np.mean(a, axis=0)) # 원 shape (3,4,2)에서 index 0 축이 제거되어 (  4,2)가 된다.\n",
        "\n",
        "paf(np.mean(a, axis=1)) # 원 shape (3,4,2)에서 index 1 축이 제거되어 (3  ,2)가 된다.\n",
        "\n",
        "paf(np.mean(a, axis=2)) # 원 shape (3,4,2)에서 index 2 축이 제거되어 (3,4  )가 된다."
      ],
      "execution_count": null,
      "outputs": [
        {
          "output_type": "stream",
          "text": [
            "(3, 4, 2)\n",
            "\n",
            "shape=(4, 2), dimension=2, dtype=float64\n",
            "[[ 8.  9.]\n",
            " [10. 11.]\n",
            " [12. 13.]\n",
            " [14. 15.]]\n",
            "\n",
            "shape=(3, 2), dimension=2, dtype=float64\n",
            "[[ 3.  4.]\n",
            " [11. 12.]\n",
            " [19. 20.]]\n",
            "\n",
            "shape=(3, 4), dimension=2, dtype=float64\n",
            "[[ 0.5  2.5  4.5  6.5]\n",
            " [ 8.5 10.5 12.5 14.5]\n",
            " [16.5 18.5 20.5 22.5]]\n",
            "\n"
          ],
          "name": "stdout"
        }
      ]
    },
    {
      "cell_type": "markdown",
      "metadata": {
        "id": "9lonxvqvpBiW"
      },
      "source": [
        "# argmax(), argsort()"
      ]
    },
    {
      "cell_type": "markdown",
      "metadata": {
        "id": "pZw2Mx34qfs_"
      },
      "source": [
        "## argsort()"
      ]
    },
    {
      "cell_type": "markdown",
      "metadata": {
        "id": "1HdwBL9WpG4r"
      },
      "source": [
        "## Quiz. 다음 성적에 대한 순위로 이름을 출력\n",
        "```\n",
        "l = [ 3, 5, 2, 5, 9 ]\n",
        "names = [ \"tom\", \"jerry\", \"brute\", \"bob\", \"hank\" ]\n",
        "```"
      ]
    },
    {
      "cell_type": "code",
      "metadata": {
        "colab": {
          "base_uri": "https://localhost:8080/"
        },
        "id": "1inFe9xrpQGT",
        "outputId": "67886a0c-f23d-4a13-c985-abd175621d57"
      },
      "source": [
        "scores = [ 3, 5, 2, 5, 9 ]\n",
        "names = [ \"tom\", \"jerry\", \"brute\", \"bob\", \"hank\" ]\n",
        "\n",
        "org = [ i for i in scores ]\n",
        "print(\"org :\", org)\n",
        "\n",
        "scores.sort(reverse=True)\n",
        "print(\"sorted scores :\", scores)\n",
        "\n",
        "indexes = []\n",
        "for i in range(len(scores)):\n",
        "  # print(scores[i])\n",
        "  for j in range(len(org)):\n",
        "    if org[j] == scores[i]:\n",
        "      indexes.append(j)\n",
        "      org[j] = -1\n",
        "      break\n",
        "  # print(org)\n",
        "\n",
        "print(indexes)\n",
        "\n",
        "for i in indexes:\n",
        "  print(names[i])\n"
      ],
      "execution_count": null,
      "outputs": [
        {
          "output_type": "stream",
          "text": [
            "org : [3, 5, 2, 5, 9]\n",
            "sorted scores : [9, 5, 5, 3, 2]\n",
            "[4, 1, 3, 0, 2]\n",
            "hank\n",
            "jerry\n",
            "bob\n",
            "tom\n",
            "brute\n"
          ],
          "name": "stdout"
        }
      ]
    },
    {
      "cell_type": "markdown",
      "metadata": {
        "id": "EifOzQmLpUJM"
      },
      "source": [
        "소팅된 scores 자체가 필요한 거이 아니라\n",
        "```\n",
        "sorted_scores : [9, 5, 5, 3, 2]\n",
        "```\n",
        "\n",
        "소팅된 scores 9, 5, 5, 3, 2의 원 자리 index가 필요하다.\n",
        "```\n",
        "sored_index : [4, 1, 3, 0, 2]\n",
        "```\n",
        "\n",
        "argsort()가 이러한 연산을 한다.\n"
      ]
    },
    {
      "cell_type": "code",
      "metadata": {
        "colab": {
          "base_uri": "https://localhost:8080/"
        },
        "id": "nn2Iqr1_qCwD",
        "outputId": "b2ae56eb-42c6-4705-b0f2-4a6c4e32fe0c"
      },
      "source": [
        "scores = [ 3, 5, 2, 5, 9 ]\n",
        "names = [ \"tom\", \"jerry\", \"brute\", \"bob\", \"hank\" ]\n",
        "\n",
        "a = np.array(scores)\n",
        "sorted_indexes = np.argsort(a)[::-1]\n",
        "\n",
        "print(\"sorted_indexes=\",sorted_indexes)"
      ],
      "execution_count": null,
      "outputs": [
        {
          "output_type": "stream",
          "text": [
            "sorted_indexes= [4 3 1 0 2]\n"
          ],
          "name": "stdout"
        }
      ]
    },
    {
      "cell_type": "markdown",
      "metadata": {
        "id": "NUnCNUA7qh80"
      },
      "source": [
        "## argmax()"
      ]
    },
    {
      "cell_type": "code",
      "metadata": {
        "colab": {
          "base_uri": "https://localhost:8080/"
        },
        "id": "WvYSdrYcqlKv",
        "outputId": "de0c33e6-97bb-4b87-f758-00c593c33739"
      },
      "source": [
        "np.random.seed(seed=31)\n",
        "a = np.random.randint(100, size=12).reshape(3,4)\n",
        "pa(a, \"a\")\n",
        "\n",
        "sorted_index = np.argsort(a, axis=1)\n",
        "pa(sorted_index, \"np.argsort(a, axis=1)\")\n",
        "\n",
        "sorted_index = np.argsort(a, axis=0)\n",
        "pa(sorted_index, \"np.argsort(a, axis=0)\")\n"
      ],
      "execution_count": null,
      "outputs": [
        {
          "output_type": "stream",
          "text": [
            "a\n",
            "[[82 87 16 98]\n",
            " [23 58 28 93]\n",
            " [92 42 46  6]]\n",
            "\n",
            "np.argsort(a, axis=1)\n",
            "[[2 0 1 3]\n",
            " [0 2 1 3]\n",
            " [3 1 2 0]]\n",
            "\n",
            "np.argsort(a, axis=0)\n",
            "[[1 2 0 2]\n",
            " [0 1 1 1]\n",
            " [2 0 2 0]]\n",
            "\n"
          ],
          "name": "stdout"
        }
      ]
    },
    {
      "cell_type": "markdown",
      "metadata": {
        "id": "kik6Ows3qyZa"
      },
      "source": [
        "각 데이터에서 가장 큰 것의 column index를 구한다."
      ]
    },
    {
      "cell_type": "markdown",
      "metadata": {
        "id": "6525CXGZSfAA"
      },
      "source": [
        "# 어레이 합치기"
      ]
    },
    {
      "cell_type": "markdown",
      "metadata": {
        "id": "RDhMgPQCxhhn"
      },
      "source": [
        "## 세로로 붙이기 : 데이터 추가하기"
      ]
    },
    {
      "cell_type": "code",
      "metadata": {
        "colab": {
          "base_uri": "https://localhost:8080/"
        },
        "id": "tqPoINi6SeHB",
        "outputId": "21ec01d6-2a97-4d44-fd0a-f04c7b32bdd0"
      },
      "source": [
        "a = np.arange(6).reshape(2,3)\n",
        "b = np.arange(6,12).reshape(2,3)\n",
        "\n",
        "pa(a, \"a\")\n",
        "pa(b, \"b\")\n",
        "\n",
        "pa(np.r_[a,b], \"np.r_[a,b]\")\n",
        "\n",
        "pa(np.vstack([a,b]), \"np.vstack([a,b])\")\n",
        "\n",
        "pa(np.concatenate([a,b], axis=0), \"np.concatenate([a,b], axis=0)\")"
      ],
      "execution_count": null,
      "outputs": [
        {
          "output_type": "stream",
          "text": [
            "a\n",
            "[[0 1 2]\n",
            " [3 4 5]]\n",
            "\n",
            "b\n",
            "[[ 6  7  8]\n",
            " [ 9 10 11]]\n",
            "\n",
            "np.r_[a,b]\n",
            "[[ 0  1  2]\n",
            " [ 3  4  5]\n",
            " [ 6  7  8]\n",
            " [ 9 10 11]]\n",
            "\n",
            "np.vstack([a,b])\n",
            "[[ 0  1  2]\n",
            " [ 3  4  5]\n",
            " [ 6  7  8]\n",
            " [ 9 10 11]]\n",
            "\n",
            "np.concatenate([a,b], axis=0)\n",
            "[[ 0  1  2]\n",
            " [ 3  4  5]\n",
            " [ 6  7  8]\n",
            " [ 9 10 11]]\n",
            "\n"
          ],
          "name": "stdout"
        }
      ]
    },
    {
      "cell_type": "markdown",
      "metadata": {
        "id": "RdI6uftex2FW"
      },
      "source": [
        "## 가로로 붙이기 : 컬럼 추가하기"
      ]
    },
    {
      "cell_type": "code",
      "metadata": {
        "colab": {
          "base_uri": "https://localhost:8080/"
        },
        "id": "Pw6D6jUoxks0",
        "outputId": "8b66b07b-d6bb-408e-e3ef-1e48a0f57854"
      },
      "source": [
        "a = np.arange(6).reshape(3,2)\n",
        "b = np.arange(6,12).reshape(3,2)\n",
        "\n",
        "pa(a, \"a\")\n",
        "pa(b, \"b\")\n",
        "\n",
        "pa(np.c_[a,b], \"np.r_[a,b]\")\n",
        "\n",
        "pa(np.hstack([a,b]), \"np.hstack([a,b])\")\n",
        "\n",
        "pa(np.concatenate([a,b], axis=1), \"np.concatenate([a,b], axis=1)\")"
      ],
      "execution_count": null,
      "outputs": [
        {
          "output_type": "stream",
          "text": [
            "a\n",
            "[[0 1]\n",
            " [2 3]\n",
            " [4 5]]\n",
            "\n",
            "b\n",
            "[[ 6  7]\n",
            " [ 8  9]\n",
            " [10 11]]\n",
            "\n",
            "np.r_[a,b]\n",
            "[[ 0  1  6  7]\n",
            " [ 2  3  8  9]\n",
            " [ 4  5 10 11]]\n",
            "\n",
            "np.hstack([a,b])\n",
            "[[ 0  1  6  7]\n",
            " [ 2  3  8  9]\n",
            " [ 4  5 10 11]]\n",
            "\n",
            "np.concatenate([a,b], axis=1)\n",
            "[[ 0  1  6  7]\n",
            " [ 2  3  8  9]\n",
            " [ 4  5 10 11]]\n",
            "\n"
          ],
          "name": "stdout"
        }
      ]
    },
    {
      "cell_type": "markdown",
      "metadata": {
        "id": "z_zmQ4q_zNsB"
      },
      "source": [
        "# File 읽기/저장"
      ]
    },
    {
      "cell_type": "code",
      "metadata": {
        "colab": {
          "base_uri": "https://localhost:8080/"
        },
        "id": "_qnD0KmTzQq-",
        "outputId": "a1f7bf8e-81e4-4e9a-a77b-9a90e82a6198"
      },
      "source": [
        "a = np.arange(12).reshape(3,4)\n",
        "paf(a)\n",
        "\n",
        "np.savetxt(\"data.csv\", a, delimiter=',')"
      ],
      "execution_count": null,
      "outputs": [
        {
          "output_type": "stream",
          "text": [
            "shape=(3, 4), dimension=2, dtype=int64\n",
            "[[ 0  1  2  3]\n",
            " [ 4  5  6  7]\n",
            " [ 8  9 10 11]]\n",
            "\n"
          ],
          "name": "stdout"
        }
      ]
    },
    {
      "cell_type": "code",
      "metadata": {
        "colab": {
          "base_uri": "https://localhost:8080/"
        },
        "id": "VO-KRs4yzaD4",
        "outputId": "5a0dda07-c958-48fc-d2e5-e55c1619bc64"
      },
      "source": [
        "!ls -al \n",
        "!cat data.csv"
      ],
      "execution_count": null,
      "outputs": [
        {
          "output_type": "stream",
          "text": [
            "total 20\n",
            "drwxr-xr-x 1 root root 4096 May 15 06:53 .\n",
            "drwxr-xr-x 1 root root 4096 May 15 02:38 ..\n",
            "drwxr-xr-x 4 root root 4096 May  6 13:43 .config\n",
            "-rw-r--r-- 1 root root  300 May 15 06:54 data.csv\n",
            "drwxr-xr-x 1 root root 4096 May  6 13:44 sample_data\n",
            "0.000000000000000000e+00,1.000000000000000000e+00,2.000000000000000000e+00,3.000000000000000000e+00\n",
            "4.000000000000000000e+00,5.000000000000000000e+00,6.000000000000000000e+00,7.000000000000000000e+00\n",
            "8.000000000000000000e+00,9.000000000000000000e+00,1.000000000000000000e+01,1.100000000000000000e+01\n"
          ],
          "name": "stdout"
        }
      ]
    },
    {
      "cell_type": "code",
      "metadata": {
        "colab": {
          "base_uri": "https://localhost:8080/"
        },
        "id": "QUnpKUygzZdd",
        "outputId": "0789e4d8-4073-4d5c-93fa-5efd367dfbbe"
      },
      "source": [
        "b = np.loadtxt(\"data.csv\", delimiter=',')\n",
        "paf(b)"
      ],
      "execution_count": null,
      "outputs": [
        {
          "output_type": "stream",
          "text": [
            "shape=(3, 4), dimension=2, dtype=float64\n",
            "[[ 0.  1.  2.  3.]\n",
            " [ 4.  5.  6.  7.]\n",
            " [ 8.  9. 10. 11.]]\n",
            "\n"
          ],
          "name": "stdout"
        }
      ]
    },
    {
      "cell_type": "markdown",
      "metadata": {
        "id": "u1NLOJkBt3oc"
      },
      "source": [
        "# 기타"
      ]
    },
    {
      "cell_type": "markdown",
      "metadata": {
        "id": "Ciw-fUjxt5kE"
      },
      "source": [
        "## 인덱스로 샘플링"
      ]
    },
    {
      "cell_type": "code",
      "metadata": {
        "colab": {
          "base_uri": "https://localhost:8080/"
        },
        "id": "Ecr6MMFcsjiW",
        "outputId": "e4737ac8-27e6-4b5f-f16b-8b1184fdd2dc"
      },
      "source": [
        "a = np.array([\n",
        "              [0,0,0],\n",
        "              [1,1,1],\n",
        "              [2,2,2],\n",
        "              [3,3,3]\n",
        "])\n",
        "pa(a)\n",
        "\n",
        "pa(a[0], \"a[0]\")\n",
        "\n",
        "pa(a[[0]], \"a[[0]]]\")\n",
        "\n",
        "indexes = [0]\n",
        "pa(a[indexes], \"indexes = [0]\")\n",
        "\n",
        "indexes = [0,1,2]\n",
        "pa(a[indexes], \"indexes = [0,1,2]\")\n",
        "\n",
        "indexes = [0,0,1,1,2,2]\n",
        "pa(a[indexes], \"indexes = [0,0,1,1,2,2]\")"
      ],
      "execution_count": null,
      "outputs": [
        {
          "output_type": "stream",
          "text": [
            "[[0 0 0]\n",
            " [1 1 1]\n",
            " [2 2 2]\n",
            " [3 3 3]]\n",
            "\n",
            "a[0]\n",
            "[0 0 0]\n",
            "\n",
            "a[[0]]]\n",
            "[[0 0 0]]\n",
            "\n",
            "indexes = [0]\n",
            "[[0 0 0]]\n",
            "\n",
            "indexes = [0,1,2]\n",
            "[[0 0 0]\n",
            " [1 1 1]\n",
            " [2 2 2]]\n",
            "\n",
            "indexes = [0,0,1,1,2,2]\n",
            "[[0 0 0]\n",
            " [0 0 0]\n",
            " [1 1 1]\n",
            " [1 1 1]\n",
            " [2 2 2]\n",
            " [2 2 2]]\n",
            "\n"
          ],
          "name": "stdout"
        }
      ]
    },
    {
      "cell_type": "code",
      "metadata": {
        "id": "N7xub7qAtd2D"
      },
      "source": [
        ""
      ],
      "execution_count": null,
      "outputs": []
    }
  ]
}