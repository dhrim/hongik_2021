{
  "nbformat": 4,
  "nbformat_minor": 0,
  "metadata": {
    "colab": {
      "name": "numpy.ipynb",
      "provenance": [],
      "collapsed_sections": []
    },
    "kernelspec": {
      "name": "python3",
      "display_name": "Python 3"
    }
  },
  "cells": [
    {
      "cell_type": "markdown",
      "metadata": {
        "id": "w6UWi8xnQoLm"
      },
      "source": [
        "# Numpy\n",
        "\n",
        "mostly copy from http://taewan.kim/post/numpy_cheat_sheet/"
      ]
    },
    {
      "cell_type": "code",
      "metadata": {
        "id": "xV3jVYiFL-jO"
      },
      "source": [
        "import numpy as np\n"
      ],
      "execution_count": 13,
      "outputs": []
    },
    {
      "cell_type": "code",
      "metadata": {
        "id": "a26RCH5SP4ye"
      },
      "source": [
        "def pprint(arr):\n",
        "    print(\"shape: {}, dimension: {}, dtype:{}\".format(arr.shape, arr.ndim, arr.dtype))\n",
        "    print(arr)\n",
        "    print()"
      ],
      "execution_count": 14,
      "outputs": []
    },
    {
      "cell_type": "markdown",
      "metadata": {
        "id": "NnzdKlPrRNbz"
      },
      "source": [
        "# 배열 생성"
      ]
    },
    {
      "cell_type": "markdown",
      "metadata": {
        "id": "ajwOoHcjR0mf"
      },
      "source": [
        "## 파이썬 리스트로 배열 생성"
      ]
    },
    {
      "cell_type": "code",
      "metadata": {
        "id": "c92Zj94VQnpi",
        "colab": {
          "base_uri": "https://localhost:8080/"
        },
        "outputId": "ce60e4f7-e759-43be-a06a-915d7284e181"
      },
      "source": [
        "arr = [1, 2, 3]\n",
        "a = np.array([1, 2, 3])\n",
        "pprint(a)"
      ],
      "execution_count": 15,
      "outputs": [
        {
          "output_type": "stream",
          "text": [
            "shape: (3,), dimension: 1, dtype:int64\n",
            "[1 2 3]\n",
            "\n"
          ],
          "name": "stdout"
        }
      ]
    },
    {
      "cell_type": "markdown",
      "metadata": {
        "id": "TKxsYWv0_AgX"
      },
      "source": [
        "```\n",
        "[1, 2, 3]의 경우 shape (3, ), 1차원의 numpy 어레이이다.\n",
        "```\n",
        "\n"
      ]
    },
    {
      "cell_type": "markdown",
      "metadata": {
        "id": "gm38qP-V_28_"
      },
      "source": [
        "## 튜플로서의 shape 표현\n",
        "\n",
        "shape: (3, )은 값을 1개 갖는 튜플이다.\n",
        "\n",
        "튜플임을 나타내기 위해서 (3)이 아닌 (3,)으로 표현한다.\n",
        "\n",
        "<br>\n",
        "\n",
        "(3,)이 아닌 (3)으로 표현하면 튜플이 아닌 값으로 처리하여 다음과 같이 오류가 발생한다."
      ]
    },
    {
      "cell_type": "code",
      "metadata": {
        "id": "0BJbvuMaQwe2",
        "colab": {
          "base_uri": "https://localhost:8080/",
          "height": 249
        },
        "outputId": "93eb3739-86c3-401d-8851-09787bb41c9a"
      },
      "source": [
        "t = (3,)\n",
        "print(type(t))\n",
        "print(len(t))\n",
        "\n",
        "i = (3)\n",
        "print(type(i))\n",
        "print(len(i))"
      ],
      "execution_count": 16,
      "outputs": [
        {
          "output_type": "stream",
          "text": [
            "<class 'tuple'>\n",
            "1\n",
            "<class 'int'>\n"
          ],
          "name": "stdout"
        },
        {
          "output_type": "error",
          "ename": "TypeError",
          "evalue": "ignored",
          "traceback": [
            "\u001b[0;31m---------------------------------------------------------------------------\u001b[0m",
            "\u001b[0;31mTypeError\u001b[0m                                 Traceback (most recent call last)",
            "\u001b[0;32m<ipython-input-16-7f3bc036b0f9>\u001b[0m in \u001b[0;36m<module>\u001b[0;34m()\u001b[0m\n\u001b[1;32m      5\u001b[0m \u001b[0mi\u001b[0m \u001b[0;34m=\u001b[0m \u001b[0;34m(\u001b[0m\u001b[0;36m3\u001b[0m\u001b[0;34m)\u001b[0m\u001b[0;34m\u001b[0m\u001b[0;34m\u001b[0m\u001b[0m\n\u001b[1;32m      6\u001b[0m \u001b[0mprint\u001b[0m\u001b[0;34m(\u001b[0m\u001b[0mtype\u001b[0m\u001b[0;34m(\u001b[0m\u001b[0mi\u001b[0m\u001b[0;34m)\u001b[0m\u001b[0;34m)\u001b[0m\u001b[0;34m\u001b[0m\u001b[0;34m\u001b[0m\u001b[0m\n\u001b[0;32m----> 7\u001b[0;31m \u001b[0mprint\u001b[0m\u001b[0;34m(\u001b[0m\u001b[0mlen\u001b[0m\u001b[0;34m(\u001b[0m\u001b[0mi\u001b[0m\u001b[0;34m)\u001b[0m\u001b[0;34m)\u001b[0m\u001b[0;34m\u001b[0m\u001b[0;34m\u001b[0m\u001b[0m\n\u001b[0m",
            "\u001b[0;31mTypeError\u001b[0m: object of type 'int' has no len()"
          ]
        }
      ]
    },
    {
      "cell_type": "markdown",
      "metadata": {
        "id": "pRz0JPfiAcV7"
      },
      "source": [
        "다음은 요소의 갯수를 하나씩 줄여가는 튜플의 예이다."
      ]
    },
    {
      "cell_type": "code",
      "metadata": {
        "id": "SFcwhSXGAZTm",
        "colab": {
          "base_uri": "https://localhost:8080/"
        },
        "outputId": "d57e0545-28ad-4b59-8305-ae6d5eff52e0"
      },
      "source": [
        "t = (1,2,3)\n",
        "print(type(t))\n",
        "print(len(t))\n",
        "print(t[0])\n",
        "\n",
        "t = (1,2)\n",
        "print(type(t))\n",
        "print(len(t))\n",
        "print(t[0])\n",
        "\n",
        "t = (1,)\n",
        "print(type(t))\n",
        "print(len(t))\n",
        "print(t[0])"
      ],
      "execution_count": 17,
      "outputs": [
        {
          "output_type": "stream",
          "text": [
            "<class 'tuple'>\n",
            "3\n",
            "1\n",
            "<class 'tuple'>\n",
            "2\n",
            "1\n",
            "<class 'tuple'>\n",
            "1\n",
            "1\n"
          ],
          "name": "stdout"
        }
      ]
    },
    {
      "cell_type": "markdown",
      "metadata": {
        "id": "r5wdezyX_bOy"
      },
      "source": [
        "## numpy의 속성과 메소드들\n",
        "\n",
        "아주 많다.\n",
        "\n",
        "하지만 deep learning에서는 전부다 알 필요는 없다."
      ]
    },
    {
      "cell_type": "code",
      "metadata": {
        "id": "l6utIDukwv7g",
        "colab": {
          "base_uri": "https://localhost:8080/"
        },
        "outputId": "cea59590-acb9-4092-9979-0c8601be0ad4"
      },
      "source": [
        "print(type(a))\n",
        "print([ x for x in dir(type(a)) if x[0]!='_' ])\n",
        "\n",
        "# numpy.ndarray API : https://docs.scipy.org/doc/numpy/reference/arrays.ndarray.html"
      ],
      "execution_count": 18,
      "outputs": [
        {
          "output_type": "stream",
          "text": [
            "<class 'numpy.ndarray'>\n",
            "['T', 'all', 'any', 'argmax', 'argmin', 'argpartition', 'argsort', 'astype', 'base', 'byteswap', 'choose', 'clip', 'compress', 'conj', 'conjugate', 'copy', 'ctypes', 'cumprod', 'cumsum', 'data', 'diagonal', 'dot', 'dtype', 'dump', 'dumps', 'fill', 'flags', 'flat', 'flatten', 'getfield', 'imag', 'item', 'itemset', 'itemsize', 'max', 'mean', 'min', 'nbytes', 'ndim', 'newbyteorder', 'nonzero', 'partition', 'prod', 'ptp', 'put', 'ravel', 'real', 'repeat', 'reshape', 'resize', 'round', 'searchsorted', 'setfield', 'setflags', 'shape', 'size', 'sort', 'squeeze', 'std', 'strides', 'sum', 'swapaxes', 'take', 'tobytes', 'tofile', 'tolist', 'tostring', 'trace', 'transpose', 'var', 'view']\n"
          ],
          "name": "stdout"
        }
      ]
    },
    {
      "cell_type": "markdown",
      "metadata": {
        "id": "cKqhWyZmAKFD"
      },
      "source": [
        "## dtype\n",
        "\n",
        "데이터 타입을 설정해 줄 수 있다."
      ]
    },
    {
      "cell_type": "code",
      "metadata": {
        "id": "GVmwlu6ARTqT",
        "outputId": "32630fef-9d1b-420e-ac03-36d073079c7c",
        "colab": {
          "base_uri": "https://localhost:8080/"
        }
      },
      "source": [
        "arr = [1, 2, 3]\n",
        "a = np.array([1, 2, 3], dtype=float)\n",
        "pprint(a)"
      ],
      "execution_count": 19,
      "outputs": [
        {
          "output_type": "stream",
          "text": [
            "shape: (3,), dimension: 1, dtype:float64\n",
            "[1. 2. 3.]\n",
            "\n"
          ],
          "name": "stdout"
        }
      ]
    },
    {
      "cell_type": "code",
      "metadata": {
        "id": "jT_m-Rj4Rt_f",
        "colab": {
          "base_uri": "https://localhost:8080/"
        },
        "outputId": "e6c722d3-fa2b-4894-acdc-402932b49c4a"
      },
      "source": [
        "arr = [1., 2., 3.]\n",
        "a = np.array([1, 2, 3], dtype=float)\n",
        "pprint(a)"
      ],
      "execution_count": 20,
      "outputs": [
        {
          "output_type": "stream",
          "text": [
            "shape: (3,), dimension: 1, dtype:float64\n",
            "[1. 2. 3.]\n",
            "\n"
          ],
          "name": "stdout"
        }
      ]
    },
    {
      "cell_type": "code",
      "metadata": {
        "id": "AvarmcQyRKiQ",
        "colab": {
          "base_uri": "https://localhost:8080/"
        },
        "outputId": "7269e0f4-7ba3-4f59-b94d-2fd85c3f4ba9"
      },
      "source": [
        "arr = [[1,2,3], [4,5,6]]\n",
        "a= np.array(arr)\n",
        "pprint(a)\n",
        "\n",
        "arr = [(1,2,3), (4,5,6)]\n",
        "a= np.array(arr)\n",
        "pprint(a)\n"
      ],
      "execution_count": 21,
      "outputs": [
        {
          "output_type": "stream",
          "text": [
            "shape: (2, 3), dimension: 2, dtype:int64\n",
            "[[1 2 3]\n",
            " [4 5 6]]\n",
            "\n",
            "shape: (2, 3), dimension: 2, dtype:int64\n",
            "[[1 2 3]\n",
            " [4 5 6]]\n",
            "\n"
          ],
          "name": "stdout"
        }
      ]
    },
    {
      "cell_type": "markdown",
      "metadata": {
        "id": "ZOuWhJmTR7gM"
      },
      "source": [
        "## 배열 생성 메소드\n",
        "\n",
        "```\n",
        "np.array()\n",
        "np.arange()\n",
        "\n",
        "np.zeros()\n",
        "np.ones()\n",
        "np.full()\n",
        "np.eye()\n",
        "np.empty()\n",
        "\n",
        "np.zeros_like()\n",
        "np.ones_like()\n",
        "np.full_like()\n",
        "np.empty_like()\n",
        "\n",
        "np.random.normal()\n",
        "np.random.rand()\n",
        "np.random.randn()\n",
        "np.random.randint()\n",
        "```"
      ]
    },
    {
      "cell_type": "code",
      "metadata": {
        "id": "Qu9MwGzYQ56T",
        "colab": {
          "base_uri": "https://localhost:8080/"
        },
        "outputId": "483bbe72-5d42-40c1-bcab-69f38226b942"
      },
      "source": [
        "a = np.zeros((3, 4))\n",
        "pprint(a)"
      ],
      "execution_count": 22,
      "outputs": [
        {
          "output_type": "stream",
          "text": [
            "shape: (3, 4), dimension: 2, dtype:float64\n",
            "[[0. 0. 0. 0.]\n",
            " [0. 0. 0. 0.]\n",
            " [0. 0. 0. 0.]]\n",
            "\n"
          ],
          "name": "stdout"
        }
      ]
    },
    {
      "cell_type": "code",
      "metadata": {
        "id": "hc1k0NcASAPk",
        "colab": {
          "base_uri": "https://localhost:8080/"
        },
        "outputId": "0e494d55-d7c4-479f-8828-7f525afd76c3"
      },
      "source": [
        "a = np.ones((2,3,4),dtype=np.int16)\n",
        "pprint(a)"
      ],
      "execution_count": 23,
      "outputs": [
        {
          "output_type": "stream",
          "text": [
            "shape: (2, 3, 4), dimension: 3, dtype:int16\n",
            "[[[1 1 1 1]\n",
            "  [1 1 1 1]\n",
            "  [1 1 1 1]]\n",
            "\n",
            " [[1 1 1 1]\n",
            "  [1 1 1 1]\n",
            "  [1 1 1 1]]]\n",
            "\n"
          ],
          "name": "stdout"
        }
      ]
    },
    {
      "cell_type": "code",
      "metadata": {
        "id": "AVBqqOrRSL02",
        "colab": {
          "base_uri": "https://localhost:8080/"
        },
        "outputId": "8a228627-3654-4cc5-cce8-02bfd9951a63"
      },
      "source": [
        "a = np.full((2,2),7)\n",
        "pprint(a)"
      ],
      "execution_count": 24,
      "outputs": [
        {
          "output_type": "stream",
          "text": [
            "shape: (2, 2), dimension: 2, dtype:int64\n",
            "[[7 7]\n",
            " [7 7]]\n",
            "\n"
          ],
          "name": "stdout"
        }
      ]
    },
    {
      "cell_type": "code",
      "metadata": {
        "id": "NC9Ftz-5Suie",
        "colab": {
          "base_uri": "https://localhost:8080/"
        },
        "outputId": "8ad43887-ac2a-4a8f-9827-a3d4e9e971b4"
      },
      "source": [
        "a = np.eye(4)\n",
        "pprint(a)"
      ],
      "execution_count": 25,
      "outputs": [
        {
          "output_type": "stream",
          "text": [
            "shape: (4, 4), dimension: 2, dtype:float64\n",
            "[[1. 0. 0. 0.]\n",
            " [0. 1. 0. 0.]\n",
            " [0. 0. 1. 0.]\n",
            " [0. 0. 0. 1.]]\n",
            "\n"
          ],
          "name": "stdout"
        }
      ]
    },
    {
      "cell_type": "code",
      "metadata": {
        "id": "crIpK5L6S1z0",
        "colab": {
          "base_uri": "https://localhost:8080/"
        },
        "outputId": "68a153e0-e32e-4afc-fc04-f2d8eb00a0fa"
      },
      "source": [
        "a = np.empty((4,2))\n",
        "pprint(a)"
      ],
      "execution_count": 26,
      "outputs": [
        {
          "output_type": "stream",
          "text": [
            "shape: (4, 2), dimension: 2, dtype:float64\n",
            "[[4.67057258e-310 4.67057185e-310]\n",
            " [1.18575755e-322             nan]\n",
            " [0.00000000e+000 0.00000000e+000]\n",
            " [0.00000000e+000 0.00000000e+000]]\n",
            "\n"
          ],
          "name": "stdout"
        }
      ]
    },
    {
      "cell_type": "code",
      "metadata": {
        "id": "CV3nuKRoS2C2",
        "colab": {
          "base_uri": "https://localhost:8080/"
        },
        "outputId": "a0e32db1-fe7f-45e6-91e9-8d71c8320c29"
      },
      "source": [
        "a = np.array([[1,2,3], [4,5,6]])\n",
        "b = np.ones_like(a)\n",
        "pprint(b)"
      ],
      "execution_count": 27,
      "outputs": [
        {
          "output_type": "stream",
          "text": [
            "shape: (2, 3), dimension: 2, dtype:int64\n",
            "[[1 1 1]\n",
            " [1 1 1]]\n",
            "\n"
          ],
          "name": "stdout"
        }
      ]
    },
    {
      "cell_type": "code",
      "metadata": {
        "id": "SGQVBZBLS2A0",
        "colab": {
          "base_uri": "https://localhost:8080/",
          "height": 316
        },
        "outputId": "4595f0e7-aaf3-4530-f69c-50c01eed8296"
      },
      "source": [
        "a = np.arange(10)\n",
        "pprint(a)\n",
        "\n",
        "import matplotlib.pyplot as plt\n",
        "plt.plot(a, '.')\n",
        "plt.show()"
      ],
      "execution_count": 28,
      "outputs": [
        {
          "output_type": "stream",
          "text": [
            "shape: (10,), dimension: 1, dtype:int64\n",
            "[0 1 2 3 4 5 6 7 8 9]\n",
            "\n"
          ],
          "name": "stdout"
        },
        {
          "output_type": "display_data",
          "data": {
            "image/png": "[encoded data removed]",
            "text/plain": [
              "<Figure size 432x288 with 1 Axes>"
            ]
          },
          "metadata": {
            "tags": [],
            "needs_background": "light"
          }
        }
      ]
    },
    {
      "cell_type": "code",
      "metadata": {
        "id": "qBnXD-iXS1--",
        "colab": {
          "base_uri": "https://localhost:8080/"
        },
        "outputId": "2ee517ec-4c9f-457c-d65d-e3ec8ea03b15"
      },
      "source": [
        "a = np.arange(1,11)\n",
        "pprint(a)\n",
        "a = np.arange(1,11,2)\n",
        "pprint(a)\n",
        "a = np.arange(1,11, dtype=float)\n",
        "pprint(a)\n"
      ],
      "execution_count": 29,
      "outputs": [
        {
          "output_type": "stream",
          "text": [
            "shape: (10,), dimension: 1, dtype:int64\n",
            "[ 1  2  3  4  5  6  7  8  9 10]\n",
            "\n",
            "shape: (5,), dimension: 1, dtype:int64\n",
            "[1 3 5 7 9]\n",
            "\n",
            "shape: (10,), dimension: 1, dtype:float64\n",
            "[ 1.  2.  3.  4.  5.  6.  7.  8.  9. 10.]\n",
            "\n"
          ],
          "name": "stdout"
        }
      ]
    },
    {
      "cell_type": "markdown",
      "metadata": {
        "id": "anj1fxJaBXDd"
      },
      "source": [
        "np.arange()는 python의 range()의 파라매터 사용법과 동일하다.\n",
        "\n",
        "아주 자주 사용된다."
      ]
    },
    {
      "cell_type": "code",
      "metadata": {
        "id": "Y-HqXmVFS18F",
        "colab": {
          "base_uri": "https://localhost:8080/"
        },
        "outputId": "a936ffee-e6b8-40d3-d886-9a614dd4a8b8"
      },
      "source": [
        "mean = 0\n",
        "std = 1\n",
        "a = np.random.normal(mean, std, (2, 3))\n",
        "pprint(a)"
      ],
      "execution_count": 30,
      "outputs": [
        {
          "output_type": "stream",
          "text": [
            "shape: (2, 3), dimension: 2, dtype:float64\n",
            "[[-0.15160631  0.88784082  0.92443253]\n",
            " [-0.78875771 -0.15876089 -0.67195687]]\n",
            "\n"
          ],
          "name": "stdout"
        }
      ]
    },
    {
      "cell_type": "code",
      "metadata": {
        "id": "RTrVysDIS14q",
        "colab": {
          "base_uri": "https://localhost:8080/",
          "height": 333
        },
        "outputId": "be1449d3-136b-4fd4-c9d1-9c441f0fdf33"
      },
      "source": [
        "mean = 0\n",
        "std = 1\n",
        "count = 10000\n",
        "a = np.random.normal(mean, std, count)\n",
        "pprint(a)\n",
        "import matplotlib.pyplot as plt\n",
        "plt.hist(a, bins=100)\n",
        "plt.show()"
      ],
      "execution_count": 31,
      "outputs": [
        {
          "output_type": "stream",
          "text": [
            "shape: (10000,), dimension: 1, dtype:float64\n",
            "[-0.04605025  2.34396192 -0.54578211 ...  0.234558   -0.66271124\n",
            "  0.65183909]\n",
            "\n"
          ],
          "name": "stdout"
        },
        {
          "output_type": "display_data",
          "data": {
            "image/png": "[encoded data removed]",
            "text/plain": [
              "<Figure size 432x288 with 1 Axes>"
            ]
          },
          "metadata": {
            "tags": [],
            "needs_background": "light"
          }
        }
      ]
    },
    {
      "cell_type": "code",
      "metadata": {
        "id": "JRd9knvrS13K",
        "colab": {
          "base_uri": "https://localhost:8080/",
          "height": 300
        },
        "outputId": "3a6e8b4c-86ef-4837-e92b-964ed3ea2930"
      },
      "source": [
        "a = np.random.rand(3,2)\n",
        "pprint(a)\n",
        "import matplotlib.pyplot as plt\n",
        "plt.hist(data, bins=100)\n",
        "plt.show()"
      ],
      "execution_count": 32,
      "outputs": [
        {
          "output_type": "stream",
          "text": [
            "shape: (3, 2), dimension: 2, dtype:float64\n",
            "[[0.41894299 0.20904728]\n",
            " [0.4485441  0.86370653]\n",
            " [0.3104447  0.18102341]]\n",
            "\n"
          ],
          "name": "stdout"
        },
        {
          "output_type": "error",
          "ename": "NameError",
          "evalue": "ignored",
          "traceback": [
            "\u001b[0;31m---------------------------------------------------------------------------\u001b[0m",
            "\u001b[0;31mNameError\u001b[0m                                 Traceback (most recent call last)",
            "\u001b[0;32m<ipython-input-32-174cc989701f>\u001b[0m in \u001b[0;36m<module>\u001b[0;34m()\u001b[0m\n\u001b[1;32m      2\u001b[0m \u001b[0mpprint\u001b[0m\u001b[0;34m(\u001b[0m\u001b[0ma\u001b[0m\u001b[0;34m)\u001b[0m\u001b[0;34m\u001b[0m\u001b[0;34m\u001b[0m\u001b[0m\n\u001b[1;32m      3\u001b[0m \u001b[0;32mimport\u001b[0m \u001b[0mmatplotlib\u001b[0m\u001b[0;34m.\u001b[0m\u001b[0mpyplot\u001b[0m \u001b[0;32mas\u001b[0m \u001b[0mplt\u001b[0m\u001b[0;34m\u001b[0m\u001b[0;34m\u001b[0m\u001b[0m\n\u001b[0;32m----> 4\u001b[0;31m \u001b[0mplt\u001b[0m\u001b[0;34m.\u001b[0m\u001b[0mhist\u001b[0m\u001b[0;34m(\u001b[0m\u001b[0mdata\u001b[0m\u001b[0;34m,\u001b[0m \u001b[0mbins\u001b[0m\u001b[0;34m=\u001b[0m\u001b[0;36m100\u001b[0m\u001b[0;34m)\u001b[0m\u001b[0;34m\u001b[0m\u001b[0;34m\u001b[0m\u001b[0m\n\u001b[0m\u001b[1;32m      5\u001b[0m \u001b[0mplt\u001b[0m\u001b[0;34m.\u001b[0m\u001b[0mshow\u001b[0m\u001b[0;34m(\u001b[0m\u001b[0;34m)\u001b[0m\u001b[0;34m\u001b[0m\u001b[0;34m\u001b[0m\u001b[0m\n",
            "\u001b[0;31mNameError\u001b[0m: name 'data' is not defined"
          ]
        }
      ]
    },
    {
      "cell_type": "code",
      "metadata": {
        "id": "ZRnVyfHApZ2W"
      },
      "source": [
        "count = 10000\n",
        "a = np.random.rand(count)\n",
        "pprint(a)\n",
        "import matplotlib.pyplot as plt\n",
        "plt.hist(a, bins=100)\n",
        "plt.show()"
      ],
      "execution_count": null,
      "outputs": []
    },
    {
      "cell_type": "code",
      "metadata": {
        "id": "l6_b-rIOp9bj"
      },
      "source": [
        "a = np.random.randn(2,4) # shape (2,4) normal random\n",
        "pprint(a)"
      ],
      "execution_count": null,
      "outputs": []
    },
    {
      "cell_type": "code",
      "metadata": {
        "id": "hY5YyHflp9eO"
      },
      "source": [
        "from_in = 5\n",
        "to_ex = 10\n",
        "shape = (2,4)\n",
        "a = np.random.randint(from_in, to_ex, size=shape)\n",
        "pprint(a)"
      ],
      "execution_count": null,
      "outputs": []
    },
    {
      "cell_type": "markdown",
      "metadata": {
        "id": "D0IKG_Xpr9oT"
      },
      "source": [
        "# 입출력\n",
        "\n"
      ]
    },
    {
      "cell_type": "code",
      "metadata": {
        "id": "98V1MS81p9jH"
      },
      "source": [
        "arr = [[1,2,3], [4,5,6]]\n",
        "a= np.array(arr)\n",
        "pprint(a)\n",
        "\n",
        "np.savetxt(\"data1.csv\", a, delimiter=',')\n",
        "!ls -al"
      ],
      "execution_count": null,
      "outputs": []
    },
    {
      "cell_type": "code",
      "metadata": {
        "id": "fhh-PnxBp9lz"
      },
      "source": [
        "!cat data1.csv\n",
        "b = np.loadtxt(\"data1.csv\", delimiter=',')\n",
        "pprint(b)"
      ],
      "execution_count": null,
      "outputs": []
    },
    {
      "cell_type": "code",
      "metadata": {
        "id": "CAhlpTG7p9hA",
        "colab": {
          "base_uri": "https://localhost:8080/"
        },
        "outputId": "6dec21f0-c350-44a5-85c3-24b33f8eb934"
      },
      "source": [
        "f = open(\"data2.csv\", \"w\")\n",
        "f.write(\"a,b,c\\n\")\n",
        "f.write(\"1,2,3\\n\")\n",
        "f.write(\"4,5,6\\n\")\n",
        "f.close()\n",
        "!ls -al"
      ],
      "execution_count": 33,
      "outputs": [
        {
          "output_type": "stream",
          "text": [
            "total 20\n",
            "drwxr-xr-x 1 root root 4096 May 13 23:48 .\n",
            "drwxr-xr-x 1 root root 4096 May 13 23:39 ..\n",
            "drwxr-xr-x 4 root root 4096 May  6 13:43 .config\n",
            "-rw-r--r-- 1 root root   18 May 13 23:48 data2.csv\n",
            "drwxr-xr-x 1 root root 4096 May  6 13:44 sample_data\n"
          ],
          "name": "stdout"
        }
      ]
    },
    {
      "cell_type": "code",
      "metadata": {
        "id": "jfeos_qgvRuD",
        "colab": {
          "base_uri": "https://localhost:8080/"
        },
        "outputId": "a011f66e-1c8d-42c3-e98b-362d279ba4dc"
      },
      "source": [
        "!cat data2.csv\n",
        "b = np.loadtxt(\"data2.csv\", delimiter=',', skiprows=1)\n",
        "pprint(b)"
      ],
      "execution_count": 34,
      "outputs": [
        {
          "output_type": "stream",
          "text": [
            "a,b,c\n",
            "1,2,3\n",
            "4,5,6\n",
            "shape: (2, 3), dimension: 2, dtype:float64\n",
            "[[1. 2. 3.]\n",
            " [4. 5. 6.]]\n",
            "\n"
          ],
          "name": "stdout"
        }
      ]
    },
    {
      "cell_type": "markdown",
      "metadata": {
        "id": "E0VPTtB1vwC-"
      },
      "source": [
        "# 데이터 타입\n",
        "```\n",
        "np.int64 : 64 비트 정수 타입\n",
        "np.float32 : 32 비트 부동 소수 타입\n",
        "np.complex : 복소수 (128 float)\n",
        "np.bool : 불린 타입 (Trur, False)\n",
        "np.object : 파이썬 객체 타입\n",
        "np.string_ : 고정자리 스트링 타입\n",
        "np.unicode_ : 고정자리 유니코드 타입\n",
        "```"
      ]
    },
    {
      "cell_type": "code",
      "metadata": {
        "id": "Ab0XUbzmvSGX",
        "colab": {
          "base_uri": "https://localhost:8080/"
        },
        "outputId": "92b9aae7-cfbb-4faf-cdfa-a2420d411751"
      },
      "source": [
        "a = np.random.randn(2,4) # shape (2,4) normal random\n",
        "print(type(a))"
      ],
      "execution_count": 35,
      "outputs": [
        {
          "output_type": "stream",
          "text": [
            "<class 'numpy.ndarray'>\n"
          ],
          "name": "stdout"
        }
      ]
    },
    {
      "cell_type": "markdown",
      "metadata": {
        "id": "n1hRq6d4xR-5"
      },
      "source": [
        "# 배열 상태 보기\n",
        "\n",
        "|  대상 |  설명 | 방법 | 결과 예 |  \n",
        "| --------|---------|--------|-----------| \n",
        "| shape\t |   np.ndarray.shape 속성 | \t arr.shape\t    | (5, 2, 3) | \n",
        "| 길이\t  |   일차원의 배열 길이 확인\t  |   len(arr)\t     | 5 | \n",
        "| 차원\t  |   np.ndarray.ndim 속성\t|   arr.ndim\t    | 3 | \n",
        "| 요소수\t |  np.ndarray.size 속성\t  |  arr.size\t      | 30 | \n",
        "| 타입\t  |  np.ndarray.dtype 속성\t|  arr.dtype\t    |‘float64’| \n",
        "\n",
        "\n"
      ]
    },
    {
      "cell_type": "code",
      "metadata": {
        "id": "L0vRZivvy410",
        "colab": {
          "base_uri": "https://localhost:8080/"
        },
        "outputId": "af5c44fe-ee6b-432a-bead-0b55586202ec"
      },
      "source": [
        "arr = np.random.random((5,2,3))\n",
        "\n",
        "print(\"shape =\", arr.shape)\n",
        "print(\"len =\", len(arr))\n",
        "print(\"ndim =\", arr.ndim)\n",
        "print(\"size =\", arr.size)\n",
        "print(\"dtype =\", arr.dtype)"
      ],
      "execution_count": 36,
      "outputs": [
        {
          "output_type": "stream",
          "text": [
            "shape = (5, 2, 3)\n",
            "len = 5\n",
            "ndim = 3\n",
            "size = 30\n",
            "dtype = float64\n"
          ],
          "name": "stdout"
        }
      ]
    },
    {
      "cell_type": "markdown",
      "metadata": {
        "id": "0YcMvuXYA3QE"
      },
      "source": [
        "# 참조와 슬라이싱\n",
        "![대체 텍스트](https://taewanmerepo.github.io/2018/01/numpy/slice1.png)"
      ]
    },
    {
      "cell_type": "code",
      "metadata": {
        "id": "9MAySfK5z3cz",
        "colab": {
          "base_uri": "https://localhost:8080/"
        },
        "outputId": "6e27e106-d8c4-4d0e-eed1-245a718f42be"
      },
      "source": [
        "a = np.array([\n",
        "    [\n",
        "        [ 111, 112 ],\n",
        "        [ 121, 122 ],\n",
        "        [ 131, 132 ],\n",
        "        [ 141, 142 ]\n",
        "    ],\n",
        "    [\n",
        "        [ 211, 212 ],\n",
        "        [ 221, 222 ],\n",
        "        [ 231, 232 ],\n",
        "        [ 241, 242 ]\n",
        "    ],\n",
        "    [\n",
        "        [ 311, 312 ],\n",
        "        [ 321, 322 ],\n",
        "        [ 331, 332 ],\n",
        "        [ 341, 342 ]\n",
        "    ]\n",
        "])\n",
        "print(\"a\\n\", a)\n",
        "print(\"a[0]\\n\", a[0])\n",
        "print(\"a[0][0]\\n\", a[0][0])\n",
        "print(\"a[0][0][0]=\", a[0][0][0]) # 111\n",
        "print(\"a[2][3][1]=\",a[2][3][1]) # 342\n",
        "print(\"a[0,0,0]=\",a[0,0,0])\n",
        "print(\"a[2,3,1]=\",a[2,3,1])"
      ],
      "execution_count": 37,
      "outputs": [
        {
          "output_type": "stream",
          "text": [
            "a\n",
            " [[[111 112]\n",
            "  [121 122]\n",
            "  [131 132]\n",
            "  [141 142]]\n",
            "\n",
            " [[211 212]\n",
            "  [221 222]\n",
            "  [231 232]\n",
            "  [241 242]]\n",
            "\n",
            " [[311 312]\n",
            "  [321 322]\n",
            "  [331 332]\n",
            "  [341 342]]]\n",
            "a[0]\n",
            " [[111 112]\n",
            " [121 122]\n",
            " [131 132]\n",
            " [141 142]]\n",
            "a[0][0]\n",
            " [111 112]\n",
            "a[0][0][0]= 111\n",
            "a[2][3][1]= 342\n",
            "a[0,0,0]= 111\n",
            "a[2,3,1]= 342\n"
          ],
          "name": "stdout"
        }
      ]
    },
    {
      "cell_type": "code",
      "metadata": {
        "id": "hUKh_RyeBR2W",
        "colab": {
          "base_uri": "https://localhost:8080/"
        },
        "outputId": "10696738-a6e2-4401-b93d-8cbb64015694"
      },
      "source": [
        "a = np.array([\n",
        "    [ 1,  2,  3,  4,  5],\n",
        "    [ 6,  7,  8,  9, 10],\n",
        "    [11, 12, 13, 14, 15],\n",
        "    [16, 17, 18, 19, 20]\n",
        "])\n",
        "\n",
        "print(\"a\\n\", a)\n",
        "\n",
        "print(\"a[:]\\n\",  a[:])\n",
        "print(\"a[:2]\\n\", a[:2])\n",
        "print(\"a[1:]\\n\", a[1:])\n",
        "print(\"a[0:3]\\n\", a[0:3])"
      ],
      "execution_count": 38,
      "outputs": [
        {
          "output_type": "stream",
          "text": [
            "a\n",
            " [[ 1  2  3  4  5]\n",
            " [ 6  7  8  9 10]\n",
            " [11 12 13 14 15]\n",
            " [16 17 18 19 20]]\n",
            "a[:]\n",
            " [[ 1  2  3  4  5]\n",
            " [ 6  7  8  9 10]\n",
            " [11 12 13 14 15]\n",
            " [16 17 18 19 20]]\n",
            "a[:2]\n",
            " [[ 1  2  3  4  5]\n",
            " [ 6  7  8  9 10]]\n",
            "a[1:]\n",
            " [[ 6  7  8  9 10]\n",
            " [11 12 13 14 15]\n",
            " [16 17 18 19 20]]\n",
            "a[0:3]\n",
            " [[ 1  2  3  4  5]\n",
            " [ 6  7  8  9 10]\n",
            " [11 12 13 14 15]]\n"
          ],
          "name": "stdout"
        }
      ]
    },
    {
      "cell_type": "code",
      "metadata": {
        "id": "m69XmJXCCUjR",
        "colab": {
          "base_uri": "https://localhost:8080/"
        },
        "outputId": "760479a9-ccd0-4b89-e413-67df240eacb1"
      },
      "source": [
        "a = np.array([\n",
        "    [ 1,  2,  3,  4,  5],\n",
        "    [ 6,  7,  8,  9, 10],\n",
        "    [11, 12, 13, 14, 15],\n",
        "    [16, 17, 18, 19, 20]\n",
        "])\n",
        "\n",
        "print(\"a\\n\", a)\n",
        "\n",
        "print(\"a[:,:]\\n\",  a[:,:])\n",
        "print(\"a[:,:2]\\n\", a[:,:2])\n",
        "print(\"a[:,1:]\\n\", a[:,1:])\n",
        "print(\"a[:,0:3]\\n\", a[:,0:3])\n",
        "\n",
        "\n",
        "# http://taewan.kim/post/numpy_cheat_sheet/ 의 10.2 슬라이싱 그림 참조"
      ],
      "execution_count": 39,
      "outputs": [
        {
          "output_type": "stream",
          "text": [
            "a\n",
            " [[ 1  2  3  4  5]\n",
            " [ 6  7  8  9 10]\n",
            " [11 12 13 14 15]\n",
            " [16 17 18 19 20]]\n",
            "a[:,:]\n",
            " [[ 1  2  3  4  5]\n",
            " [ 6  7  8  9 10]\n",
            " [11 12 13 14 15]\n",
            " [16 17 18 19 20]]\n",
            "a[:,:2]\n",
            " [[ 1  2]\n",
            " [ 6  7]\n",
            " [11 12]\n",
            " [16 17]]\n",
            "a[:,1:]\n",
            " [[ 2  3  4  5]\n",
            " [ 7  8  9 10]\n",
            " [12 13 14 15]\n",
            " [17 18 19 20]]\n",
            "a[:,0:3]\n",
            " [[ 1  2  3]\n",
            " [ 6  7  8]\n",
            " [11 12 13]\n",
            " [16 17 18]]\n"
          ],
          "name": "stdout"
        }
      ]
    },
    {
      "cell_type": "code",
      "metadata": {
        "id": "brh-FM_XCpWq",
        "colab": {
          "base_uri": "https://localhost:8080/"
        },
        "outputId": "deea929a-8e28-4d9d-f70d-2477481a7c23"
      },
      "source": [
        "a = np.array([\n",
        "    [ 1,  2,  3,  4,  5],\n",
        "    [ 6,  7,  8,  9, 10],\n",
        "    [11, 12, 13, 14, 15],\n",
        "    [16, 17, 18, 19, 20]\n",
        "])\n",
        "\n",
        "print(\"a\\n\", a)\n",
        "\n",
        "print(\"a[0][1]=\", a[0][1])\n",
        "print(\"a[0,1]=\", a[0,1])\n",
        "print(\"a[0:2]\\n\", a[0:2])\n",
        "print(\"a[0:2][1]=\", a[0:2][1])\n",
        "print(\"a[0:2,1]=\", a[0:2,1])\n"
      ],
      "execution_count": 40,
      "outputs": [
        {
          "output_type": "stream",
          "text": [
            "a\n",
            " [[ 1  2  3  4  5]\n",
            " [ 6  7  8  9 10]\n",
            " [11 12 13 14 15]\n",
            " [16 17 18 19 20]]\n",
            "a[0][1]= 2\n",
            "a[0,1]= 2\n",
            "a[0:2]\n",
            " [[ 1  2  3  4  5]\n",
            " [ 6  7  8  9 10]]\n",
            "a[0:2][1]= [ 6  7  8  9 10]\n",
            "a[0:2,1]= [2 7]\n"
          ],
          "name": "stdout"
        }
      ]
    },
    {
      "cell_type": "code",
      "metadata": {
        "id": "nEiTAf3vG5Tl",
        "colab": {
          "base_uri": "https://localhost:8080/"
        },
        "outputId": "4b1ddba1-0f7d-4b7c-f9a5-e0d1ed12c8e3"
      },
      "source": [
        "a = np.array([\n",
        "    [ 1,  2,  3,  4,  5],\n",
        "    [ 6,  7,  8,  9, 10],\n",
        "    [11, 12, 13, 14, 15],\n",
        "    [16, 17, 18, 19, 20]\n",
        "])\n",
        "print(a)\n",
        "\n",
        "a[1,2] = 999\n",
        "print(a)\n",
        "\n",
        "a[1:3, 1:4] = 888\n",
        "print(a)"
      ],
      "execution_count": 41,
      "outputs": [
        {
          "output_type": "stream",
          "text": [
            "[[ 1  2  3  4  5]\n",
            " [ 6  7  8  9 10]\n",
            " [11 12 13 14 15]\n",
            " [16 17 18 19 20]]\n",
            "[[  1   2   3   4   5]\n",
            " [  6   7 999   9  10]\n",
            " [ 11  12  13  14  15]\n",
            " [ 16  17  18  19  20]]\n",
            "[[  1   2   3   4   5]\n",
            " [  6 888 888 888  10]\n",
            " [ 11 888 888 888  15]\n",
            " [ 16  17  18  19  20]]\n"
          ],
          "name": "stdout"
        }
      ]
    },
    {
      "cell_type": "code",
      "metadata": {
        "id": "PMRHaos9Ibu1",
        "colab": {
          "base_uri": "https://localhost:8080/"
        },
        "outputId": "f94ad180-6a1f-40d2-dc6c-1c416720cc29"
      },
      "source": [
        "a = np.array([\n",
        "    [ 1,  2,  3,  4,  5],\n",
        "    [ 6,  7,  8,  9, 10],\n",
        "    [11, 12, 13, 14, 15],\n",
        "    [16, 17, 18, 19, 20]\n",
        "])\n",
        "print(a)\n",
        "\n",
        "print(\"a[:, [1,3]]\\n\", a[:, [1,3]])\n",
        "print(\"a[[0,1,2,3], [0,1,2,3]]\\n\", a[[0,1,2,3], [0,1,2,3]])\n",
        "\n"
      ],
      "execution_count": 42,
      "outputs": [
        {
          "output_type": "stream",
          "text": [
            "[[ 1  2  3  4  5]\n",
            " [ 6  7  8  9 10]\n",
            " [11 12 13 14 15]\n",
            " [16 17 18 19 20]]\n",
            "a[:, [1,3]]\n",
            " [[ 2  4]\n",
            " [ 7  9]\n",
            " [12 14]\n",
            " [17 19]]\n",
            "a[[0,1,2,3], [0,1,2,3]]\n",
            " [ 1  7 13 19]\n"
          ],
          "name": "stdout"
        }
      ]
    },
    {
      "cell_type": "code",
      "metadata": {
        "id": "j18-vWJ9U3oU",
        "colab": {
          "base_uri": "https://localhost:8080/"
        },
        "outputId": "ac7fafef-ab51-402d-fce8-dc9c450e3e54"
      },
      "source": [
        "a = np.array([\n",
        "    [\n",
        "        [ 111, 112 ],\n",
        "        [ 121, 122 ],\n",
        "        [ 131, 132 ],\n",
        "        [ 141, 142 ]\n",
        "    ],\n",
        "    [\n",
        "        [ 211, 212 ],\n",
        "        [ 221, 222 ],\n",
        "        [ 231, 232 ],\n",
        "        [ 241, 242 ]\n",
        "    ],\n",
        "    [\n",
        "        [ 311, 312 ],\n",
        "        [ 321, 322 ],\n",
        "        [ 331, 332 ],\n",
        "        [ 341, 342 ]\n",
        "    ]\n",
        "])\n",
        "\n",
        "print(a[:,:,1])\n",
        "print(a[...,1])\n",
        "\n",
        "\n",
        "print(a[2,:,:])\n",
        "print(a[2,...])"
      ],
      "execution_count": 43,
      "outputs": [
        {
          "output_type": "stream",
          "text": [
            "[[112 122 132 142]\n",
            " [212 222 232 242]\n",
            " [312 322 332 342]]\n",
            "[[112 122 132 142]\n",
            " [212 222 232 242]\n",
            " [312 322 332 342]]\n",
            "[[311 312]\n",
            " [321 322]\n",
            " [331 332]\n",
            " [341 342]]\n",
            "[[311 312]\n",
            " [321 322]\n",
            " [331 332]\n",
            " [341 342]]\n"
          ],
          "name": "stdout"
        }
      ]
    },
    {
      "cell_type": "markdown",
      "metadata": {
        "id": "-ues1lLaBvi3"
      },
      "source": [
        "## Quiz. 4~15의 값을 갖는 4x3 어레이 생성\n",
        "\n"
      ]
    },
    {
      "cell_type": "code",
      "metadata": {
        "id": "bYGu0KJKB3V3",
        "colab": {
          "base_uri": "https://localhost:8080/"
        },
        "outputId": "f5860796-74b2-446d-9e22-2d092e6e36b0"
      },
      "source": [
        "a = np.arange(4,16).reshape(4,3)\n",
        "print(a)"
      ],
      "execution_count": 44,
      "outputs": [
        {
          "output_type": "stream",
          "text": [
            "[[ 4  5  6]\n",
            " [ 7  8  9]\n",
            " [10 11 12]\n",
            " [13 14 15]]\n"
          ],
          "name": "stdout"
        }
      ]
    },
    {
      "cell_type": "markdown",
      "metadata": {
        "id": "OH7f-QWlB7Hf"
      },
      "source": [
        "## Quiz. 전부 0인 4x3 어레이 중 가운제 2개만 1인 어레이\n",
        "```\n",
        "0 0 0\n",
        "0 1 0\n",
        "0 1 0\n",
        "0 0 0\n",
        "```"
      ]
    },
    {
      "cell_type": "code",
      "metadata": {
        "id": "h3i3oideCAeZ",
        "colab": {
          "base_uri": "https://localhost:8080/"
        },
        "outputId": "b0d4534f-5283-4d83-9375-a22bc66d9d14"
      },
      "source": [
        "a = np.zeros((4,3))\n",
        "a[1,1] = 1\n",
        "a[2,1] = 1\n",
        "print(a)"
      ],
      "execution_count": 45,
      "outputs": [
        {
          "output_type": "stream",
          "text": [
            "[[0. 0. 0.]\n",
            " [0. 1. 0.]\n",
            " [0. 1. 0.]\n",
            " [0. 0. 0.]]\n"
          ],
          "name": "stdout"
        }
      ]
    },
    {
      "cell_type": "markdown",
      "metadata": {
        "id": "pEZixBP1CElr"
      },
      "source": [
        "## Quiz. 슬라이싱 값 설정\n",
        "```\n",
        "[ 1. 1. 1. 1. 1.] \n",
        "[ 1. 1. 1. 1. 1.] \n",
        "[ 1. 1. 1. 1. 1.] \n",
        "[ 1. 1. 1. 1. 1.] \n",
        "[ 1. 1. 1. 1. 1.]\n",
        "를 다음으로 변환\n",
        "[ 1. 1. 1. 1. 1.] \n",
        "[ 1. 0. 0. 0. 1.] \n",
        "[ 1. 0. 0. 0. 1.] \n",
        "[ 1. 0. 0. 0. 1.] \n",
        "[ 1. 1. 1. 1. 1.]\n",
        "```"
      ]
    },
    {
      "cell_type": "code",
      "metadata": {
        "id": "1SoOpWw2COeB",
        "colab": {
          "base_uri": "https://localhost:8080/"
        },
        "outputId": "c9f32b4a-f107-4c29-a0af-99758636e34e"
      },
      "source": [
        "a = np.ones((5,5))\n",
        "a[1:4,1:4] = 0\n",
        "\n",
        "print(a)"
      ],
      "execution_count": 46,
      "outputs": [
        {
          "output_type": "stream",
          "text": [
            "[[1. 1. 1. 1. 1.]\n",
            " [1. 0. 0. 0. 1.]\n",
            " [1. 0. 0. 0. 1.]\n",
            " [1. 0. 0. 0. 1.]\n",
            " [1. 1. 1. 1. 1.]]\n"
          ],
          "name": "stdout"
        }
      ]
    },
    {
      "cell_type": "markdown",
      "metadata": {
        "id": "t1kVfg5aCQ-j"
      },
      "source": [
        "## Quiz [0 1 0 1 0 1 0 1] 생성"
      ]
    },
    {
      "cell_type": "code",
      "metadata": {
        "id": "5NCpT9dDCUSZ",
        "colab": {
          "base_uri": "https://localhost:8080/"
        },
        "outputId": "1745253b-dded-4ab3-d153-cc7813902409"
      },
      "source": [
        "a = np.zeros(8, dtype=int)\n",
        "a[1::2] = 1\n",
        "print(a)"
      ],
      "execution_count": 47,
      "outputs": [
        {
          "output_type": "stream",
          "text": [
            "[0 1 0 1 0 1 0 1]\n"
          ],
          "name": "stdout"
        }
      ]
    },
    {
      "cell_type": "markdown",
      "metadata": {
        "id": "nchaPDe1CWsS"
      },
      "source": [
        "## Quiz. 다음 생성\n",
        "```\n",
        "[0 1 0 1 0 1 0 1]\n",
        "[1 0 1 0 1 0 1 0]\n",
        "[0 1 0 1 0 1 0 1]\n",
        "[1 0 1 0 1 0 1 0] \n",
        "```"
      ]
    },
    {
      "cell_type": "code",
      "metadata": {
        "id": "DQeOBJmRCgJ8",
        "colab": {
          "base_uri": "https://localhost:8080/"
        },
        "outputId": "a57d08db-395c-45f7-a3ea-c888a67bd734"
      },
      "source": [
        "a = np.zeros((4,8), dtype=int)\n",
        "print(a)\n",
        "a[::2,1::2] = 1\n",
        "print(a)\n",
        "a[1::2,::2] = 1\n",
        "print(a)"
      ],
      "execution_count": 48,
      "outputs": [
        {
          "output_type": "stream",
          "text": [
            "[[0 0 0 0 0 0 0 0]\n",
            " [0 0 0 0 0 0 0 0]\n",
            " [0 0 0 0 0 0 0 0]\n",
            " [0 0 0 0 0 0 0 0]]\n",
            "[[0 1 0 1 0 1 0 1]\n",
            " [0 0 0 0 0 0 0 0]\n",
            " [0 1 0 1 0 1 0 1]\n",
            " [0 0 0 0 0 0 0 0]]\n",
            "[[0 1 0 1 0 1 0 1]\n",
            " [1 0 1 0 1 0 1 0]\n",
            " [0 1 0 1 0 1 0 1]\n",
            " [1 0 1 0 1 0 1 0]]\n"
          ],
          "name": "stdout"
        }
      ]
    },
    {
      "cell_type": "markdown",
      "metadata": {
        "id": "eo5LcTy4CpJT"
      },
      "source": [
        "# [ ][ ]표현과 [ , ]의 차이\n",
        "\n",
        "[ , ] 표현의 경우 각각이 한번에 적용된다.\n",
        "\n",
        "그러나 [ ][ ]표현의 경우 첫번째 슬라이싱이 적용된 결과에 다음 슬라이싱이 적용된다."
      ]
    },
    {
      "cell_type": "code",
      "metadata": {
        "id": "cnbgjSujCokB",
        "colab": {
          "base_uri": "https://localhost:8080/"
        },
        "outputId": "944c636c-0880-4214-fd7b-9bb20d3e852b"
      },
      "source": [
        "a = np.arange(20).reshape(5,4)\n",
        "print(a)\n",
        "\n",
        "print(\"a[0:4]\")\n",
        "print(a[0:4])\n",
        "\n",
        "print(\"a[0:4][1:3]\")\n",
        "print(a[0:4][1:3])\n",
        "\n",
        "print(\"a[0:4,1:3]\")\n",
        "print(a[0:4,1:3])"
      ],
      "execution_count": 49,
      "outputs": [
        {
          "output_type": "stream",
          "text": [
            "[[ 0  1  2  3]\n",
            " [ 4  5  6  7]\n",
            " [ 8  9 10 11]\n",
            " [12 13 14 15]\n",
            " [16 17 18 19]]\n",
            "a[0:4]\n",
            "[[ 0  1  2  3]\n",
            " [ 4  5  6  7]\n",
            " [ 8  9 10 11]\n",
            " [12 13 14 15]]\n",
            "a[0:4][1:3]\n",
            "[[ 4  5  6  7]\n",
            " [ 8  9 10 11]]\n",
            "a[0:4,1:3]\n",
            "[[ 1  2]\n",
            " [ 5  6]\n",
            " [ 9 10]\n",
            " [13 14]]\n"
          ],
          "name": "stdout"
        }
      ]
    },
    {
      "cell_type": "markdown",
      "metadata": {
        "id": "9fTgMxg0667N"
      },
      "source": [
        "# numpy 메소드\n",
        "\n",
        "ufunc(universal funtion) : ndarry를 대상으로 하는 연산.\n",
        "\n",
        "\n",
        "ndarray = np.function(ndarray) 처럼 ndarray를 입력으로 하여 결과를 얻는 연산들이다.\n",
        "\n",
        "\n",
        "전체 리스트는 from https://docs.scipy.org/doc/numpy/reference/ufuncs.html 참조\n",
        "\n"
      ]
    },
    {
      "cell_type": "code",
      "metadata": {
        "id": "HKJ1MyLU7Kq2",
        "colab": {
          "base_uri": "https://localhost:8080/"
        },
        "outputId": "29fff8aa-7c17-4721-c075-809f4adc167a"
      },
      "source": [
        "a = np.arange(1,13).reshape(3,4)\n",
        "pprint(a)\n",
        "\n",
        "a = np.sqrt(a)\n",
        "pprint(a)"
      ],
      "execution_count": 50,
      "outputs": [
        {
          "output_type": "stream",
          "text": [
            "shape: (3, 4), dimension: 2, dtype:int64\n",
            "[[ 1  2  3  4]\n",
            " [ 5  6  7  8]\n",
            " [ 9 10 11 12]]\n",
            "\n",
            "shape: (3, 4), dimension: 2, dtype:float64\n",
            "[[1.         1.41421356 1.73205081 2.        ]\n",
            " [2.23606798 2.44948974 2.64575131 2.82842712]\n",
            " [3.         3.16227766 3.31662479 3.46410162]]\n",
            "\n"
          ],
          "name": "stdout"
        }
      ]
    },
    {
      "cell_type": "markdown",
      "metadata": {
        "id": "fB2qYim4SAJN"
      },
      "source": [
        "# 브로드케스팅\n",
        "![대체 텍스트](https://i.stack.imgur.com/JcKv1.png)"
      ]
    },
    {
      "cell_type": "code",
      "metadata": {
        "id": "qxwswBsqSgGI",
        "outputId": "0f6385aa-23f9-4c1b-c4a3-91585a5b7720",
        "colab": {
          "base_uri": "https://localhost:8080/"
        }
      },
      "source": [
        "a = np.array([\n",
        "    [ 0,  0,  0],\n",
        "    [10, 10, 10],\n",
        "    [20, 20, 20],\n",
        "    [30, 30, 30]\n",
        "])\n",
        "b = np.array([\n",
        "    [ 0,  1,  2],\n",
        "    [ 0,  1,  2],\n",
        "    [ 0,  1,  2],\n",
        "    [ 0,  1,  2]    \n",
        "])\n",
        "print(a)\n",
        "print(b)\n",
        "print(a+b)"
      ],
      "execution_count": 51,
      "outputs": [
        {
          "output_type": "stream",
          "text": [
            "[[ 0  0  0]\n",
            " [10 10 10]\n",
            " [20 20 20]\n",
            " [30 30 30]]\n",
            "[[0 1 2]\n",
            " [0 1 2]\n",
            " [0 1 2]\n",
            " [0 1 2]]\n",
            "[[ 0  1  2]\n",
            " [10 11 12]\n",
            " [20 21 22]\n",
            " [30 31 32]]\n"
          ],
          "name": "stdout"
        }
      ]
    },
    {
      "cell_type": "code",
      "metadata": {
        "id": "ouN4hGq3SMZM",
        "colab": {
          "base_uri": "https://localhost:8080/"
        },
        "outputId": "20a4a06e-4424-43e9-fbc8-a57a9b710cf2"
      },
      "source": [
        "a = np.array([\n",
        "    [ 0,  0,  0],\n",
        "    [10, 10, 10],\n",
        "    [20, 20, 20],\n",
        "    [30, 30, 30]\n",
        "])\n",
        "b = np.array([\n",
        "    [ 0,  1,  2]  \n",
        "])\n",
        "print(a)\n",
        "print(b)\n",
        "print(a+b)"
      ],
      "execution_count": 52,
      "outputs": [
        {
          "output_type": "stream",
          "text": [
            "[[ 0  0  0]\n",
            " [10 10 10]\n",
            " [20 20 20]\n",
            " [30 30 30]]\n",
            "[[0 1 2]]\n",
            "[[ 0  1  2]\n",
            " [10 11 12]\n",
            " [20 21 22]\n",
            " [30 31 32]]\n"
          ],
          "name": "stdout"
        }
      ]
    },
    {
      "cell_type": "code",
      "metadata": {
        "id": "4khE5udOSMe5",
        "colab": {
          "base_uri": "https://localhost:8080/"
        },
        "outputId": "f7d87a8c-7254-4c9c-cca5-292ba4783935"
      },
      "source": [
        "a = np.array([\n",
        "    [ 0],\n",
        "    [10],\n",
        "    [20],\n",
        "    [30]\n",
        "])\n",
        "b = np.array([\n",
        "    [ 0,  1,  2]    \n",
        "])\n",
        "print(a)\n",
        "print(b)\n",
        "print(a+b)"
      ],
      "execution_count": 53,
      "outputs": [
        {
          "output_type": "stream",
          "text": [
            "[[ 0]\n",
            " [10]\n",
            " [20]\n",
            " [30]]\n",
            "[[0 1 2]]\n",
            "[[ 0  1  2]\n",
            " [10 11 12]\n",
            " [20 21 22]\n",
            " [30 31 32]]\n"
          ],
          "name": "stdout"
        }
      ]
    },
    {
      "cell_type": "markdown",
      "metadata": {
        "id": "9bwVcjB25AkA"
      },
      "source": [
        "# numpy.ndarray 메소드\n",
        "\n",
        "전체 리스트는 https://docs.scipy.org/doc/numpy/reference/arrays.ndarray.html 참조.\n",
        "\n"
      ]
    },
    {
      "cell_type": "markdown",
      "metadata": {
        "id": "snaCwNZF5Jxx"
      },
      "source": [
        "## numpy.ndarray 산술 연산자"
      ]
    },
    {
      "cell_type": "code",
      "metadata": {
        "id": "Ui9iO-YXz3HQ",
        "colab": {
          "base_uri": "https://localhost:8080/"
        },
        "outputId": "4f131c16-388a-4a1b-8041-3ce10b5c0648"
      },
      "source": [
        "a = np.array([\n",
        "    [1,  2,  3,  4],\n",
        "    [5,  6,  7,  8],\n",
        "    [9, 10, 11, 12]\n",
        "])\n",
        "pprint(a)\n",
        "\n",
        "b = np.array([\n",
        "    [1,  1,  1,  1],\n",
        "    [2,  2,  2,  2],\n",
        "    [3,  3,  3,  3]\n",
        "])\n",
        "pprint(b)"
      ],
      "execution_count": 54,
      "outputs": [
        {
          "output_type": "stream",
          "text": [
            "shape: (3, 4), dimension: 2, dtype:int64\n",
            "[[ 1  2  3  4]\n",
            " [ 5  6  7  8]\n",
            " [ 9 10 11 12]]\n",
            "\n",
            "shape: (3, 4), dimension: 2, dtype:int64\n",
            "[[1 1 1 1]\n",
            " [2 2 2 2]\n",
            " [3 3 3 3]]\n",
            "\n"
          ],
          "name": "stdout"
        }
      ]
    },
    {
      "cell_type": "code",
      "metadata": {
        "id": "hOyaFxK15y25",
        "colab": {
          "base_uri": "https://localhost:8080/"
        },
        "outputId": "ab63ab8d-fbfe-47d0-fd34-1fa6e6a9783c"
      },
      "source": [
        "pprint(a+2)\n",
        "pprint(a-2)\n",
        "pprint(a*2)\n",
        "pprint(a/2)"
      ],
      "execution_count": 55,
      "outputs": [
        {
          "output_type": "stream",
          "text": [
            "shape: (3, 4), dimension: 2, dtype:int64\n",
            "[[ 3  4  5  6]\n",
            " [ 7  8  9 10]\n",
            " [11 12 13 14]]\n",
            "\n",
            "shape: (3, 4), dimension: 2, dtype:int64\n",
            "[[-1  0  1  2]\n",
            " [ 3  4  5  6]\n",
            " [ 7  8  9 10]]\n",
            "\n",
            "shape: (3, 4), dimension: 2, dtype:int64\n",
            "[[ 2  4  6  8]\n",
            " [10 12 14 16]\n",
            " [18 20 22 24]]\n",
            "\n",
            "shape: (3, 4), dimension: 2, dtype:float64\n",
            "[[0.5 1.  1.5 2. ]\n",
            " [2.5 3.  3.5 4. ]\n",
            " [4.5 5.  5.5 6. ]]\n",
            "\n"
          ],
          "name": "stdout"
        }
      ]
    },
    {
      "cell_type": "code",
      "metadata": {
        "id": "kBfyPEIaz3KB",
        "colab": {
          "base_uri": "https://localhost:8080/"
        },
        "outputId": "f355d56a-0018-4043-8042-727b5e75e4cf"
      },
      "source": [
        "pprint(a+b)\n",
        "pprint(a-b)\n",
        "pprint(a*b)\n",
        "pprint(a/b)"
      ],
      "execution_count": 56,
      "outputs": [
        {
          "output_type": "stream",
          "text": [
            "shape: (3, 4), dimension: 2, dtype:int64\n",
            "[[ 2  3  4  5]\n",
            " [ 7  8  9 10]\n",
            " [12 13 14 15]]\n",
            "\n",
            "shape: (3, 4), dimension: 2, dtype:int64\n",
            "[[0 1 2 3]\n",
            " [3 4 5 6]\n",
            " [6 7 8 9]]\n",
            "\n",
            "shape: (3, 4), dimension: 2, dtype:int64\n",
            "[[ 1  2  3  4]\n",
            " [10 12 14 16]\n",
            " [27 30 33 36]]\n",
            "\n",
            "shape: (3, 4), dimension: 2, dtype:float64\n",
            "[[1.         2.         3.         4.        ]\n",
            " [2.5        3.         3.5        4.        ]\n",
            " [3.         3.33333333 3.66666667 4.        ]]\n",
            "\n"
          ],
          "name": "stdout"
        }
      ]
    },
    {
      "cell_type": "markdown",
      "metadata": {
        "id": "luTnJrGG9tCF"
      },
      "source": [
        "## numpy.ndarray 불린 연산자"
      ]
    },
    {
      "cell_type": "code",
      "metadata": {
        "id": "qvDSLeMNz3SU",
        "colab": {
          "base_uri": "https://localhost:8080/"
        },
        "outputId": "401580d4-683f-4a82-f04a-fa1c41df87e6"
      },
      "source": [
        "a = np.array([\n",
        "    [1,  2,  3,  4],\n",
        "    [5,  6,  7,  8],\n",
        "    [9, 10, 11, 12]\n",
        "])\n",
        "print(a)\n",
        "\n",
        "b = np.array([\n",
        "    [1,  1,  1,  1],\n",
        "    [2,  2,  2,  2],\n",
        "    [3,  3,  3,  3]\n",
        "])\n",
        "print(b)\n"
      ],
      "execution_count": 57,
      "outputs": [
        {
          "output_type": "stream",
          "text": [
            "[[ 1  2  3  4]\n",
            " [ 5  6  7  8]\n",
            " [ 9 10 11 12]]\n",
            "[[1 1 1 1]\n",
            " [2 2 2 2]\n",
            " [3 3 3 3]]\n"
          ],
          "name": "stdout"
        }
      ]
    },
    {
      "cell_type": "code",
      "metadata": {
        "id": "Qzm5M9Q-z3U1",
        "colab": {
          "base_uri": "https://localhost:8080/"
        },
        "outputId": "807f2f9e-b010-41be-ec39-4d77c35e4b96"
      },
      "source": [
        "print(a==b)"
      ],
      "execution_count": 58,
      "outputs": [
        {
          "output_type": "stream",
          "text": [
            "[[ True False False False]\n",
            " [False False False False]\n",
            " [False False False False]]\n"
          ],
          "name": "stdout"
        }
      ]
    },
    {
      "cell_type": "code",
      "metadata": {
        "id": "-CJRrdLez3XM",
        "colab": {
          "base_uri": "https://localhost:8080/"
        },
        "outputId": "84611a44-9608-4c1e-c77a-e67f5a7af8bb"
      },
      "source": [
        "print(a>b)"
      ],
      "execution_count": 59,
      "outputs": [
        {
          "output_type": "stream",
          "text": [
            "[[False  True  True  True]\n",
            " [ True  True  True  True]\n",
            " [ True  True  True  True]]\n"
          ],
          "name": "stdout"
        }
      ]
    },
    {
      "cell_type": "code",
      "metadata": {
        "id": "D9qlvWhQz3ef",
        "colab": {
          "base_uri": "https://localhost:8080/"
        },
        "outputId": "c289fdb0-4212-4d1c-fe3e-a11fa5d2b79e"
      },
      "source": [
        "print(a==b)\n",
        "print(np.equal(a,b))\n",
        "print(np.array_equal(a,b))"
      ],
      "execution_count": 60,
      "outputs": [
        {
          "output_type": "stream",
          "text": [
            "[[ True False False False]\n",
            " [False False False False]\n",
            " [False False False False]]\n",
            "[[ True False False False]\n",
            " [False False False False]\n",
            " [False False False False]]\n",
            "False\n"
          ],
          "name": "stdout"
        }
      ]
    },
    {
      "cell_type": "code",
      "metadata": {
        "id": "P1BmCiEuF282",
        "colab": {
          "base_uri": "https://localhost:8080/"
        },
        "outputId": "66408e9d-43d3-4782-dd82-cc2a67a06b8f"
      },
      "source": [
        "print(a%2==0)\n"
      ],
      "execution_count": 61,
      "outputs": [
        {
          "output_type": "stream",
          "text": [
            "[[False  True False  True]\n",
            " [False  True False  True]\n",
            " [False  True False  True]]\n"
          ],
          "name": "stdout"
        }
      ]
    },
    {
      "cell_type": "markdown",
      "metadata": {
        "id": "M4pZ0cwQGDCA"
      },
      "source": [
        "# 필터링"
      ]
    },
    {
      "cell_type": "code",
      "metadata": {
        "id": "vV1ZeuqPGFpr",
        "colab": {
          "base_uri": "https://localhost:8080/"
        },
        "outputId": "3112b77c-696d-4e2e-816a-6301593a4cdf"
      },
      "source": [
        "a = np.array([\n",
        "    [1,  2,  3,  4],\n",
        "    [5,  6,  7,  8],\n",
        "    [9, 10, 11, 12]\n",
        "])\n",
        "print(a)\n",
        "print(a[a%2==0])"
      ],
      "execution_count": 62,
      "outputs": [
        {
          "output_type": "stream",
          "text": [
            "[[ 1  2  3  4]\n",
            " [ 5  6  7  8]\n",
            " [ 9 10 11 12]]\n",
            "[ 2  4  6  8 10 12]\n"
          ],
          "name": "stdout"
        }
      ]
    },
    {
      "cell_type": "markdown",
      "metadata": {
        "id": "JEt1njPVDmAf"
      },
      "source": [
        "## Quiz. 짝수들의 합\n",
        "```\n",
        "[ 0  1  2  3]\n",
        "[ 4  5  6  7]\n",
        "[ 8  9 10 11]\n",
        " ```"
      ]
    },
    {
      "cell_type": "code",
      "metadata": {
        "id": "xMcZmK5MJNTB",
        "colab": {
          "base_uri": "https://localhost:8080/"
        },
        "outputId": "b7d9d9b0-bc78-432c-b1c5-6c06187c3bcf"
      },
      "source": [
        "a = np.arange(12).reshape(3,4)\n",
        "print(a)\n",
        "print(a%2==0)\n",
        "print(a[a%2==0])\n",
        "np.sum(a[a%2==0])"
      ],
      "execution_count": 63,
      "outputs": [
        {
          "output_type": "stream",
          "text": [
            "[[ 0  1  2  3]\n",
            " [ 4  5  6  7]\n",
            " [ 8  9 10 11]]\n",
            "[[ True False  True False]\n",
            " [ True False  True False]\n",
            " [ True False  True False]]\n",
            "[ 0  2  4  6  8 10]\n"
          ],
          "name": "stdout"
        },
        {
          "output_type": "execute_result",
          "data": {
            "text/plain": [
              "30"
            ]
          },
          "metadata": {
            "tags": []
          },
          "execution_count": 63
        }
      ]
    },
    {
      "cell_type": "markdown",
      "metadata": {
        "id": "JIs5WmfJDXEd"
      },
      "source": [
        "## Quiz. 다음과 같은 배열에서 대각선 요소의 합?\n",
        "```\n",
        " 1  2  3  4  5\n",
        " 6  7  8  9  10\n",
        "11 12 13 ...\n",
        "..\n",
        "21 22 23 24 25\n",
        "```\n",
        "\n",
        "1 + 7 + 13 + .. + 25"
      ]
    },
    {
      "cell_type": "code",
      "metadata": {
        "id": "piwVZAvODfRX",
        "colab": {
          "base_uri": "https://localhost:8080/"
        },
        "outputId": "d59d46c1-f551-4335-b18a-2d53a6e0526d"
      },
      "source": [
        "a = np.arange(1, 26).reshape(5,5)\n",
        "print(a)\n",
        "\n",
        "f = np.eye(5)==1\n",
        "print(f)\n",
        "\n",
        "even = a[f]\n",
        "print(even)\n",
        "\n",
        "print(np.sum(even))"
      ],
      "execution_count": 64,
      "outputs": [
        {
          "output_type": "stream",
          "text": [
            "[[ 1  2  3  4  5]\n",
            " [ 6  7  8  9 10]\n",
            " [11 12 13 14 15]\n",
            " [16 17 18 19 20]\n",
            " [21 22 23 24 25]]\n",
            "[[ True False False False False]\n",
            " [False  True False False False]\n",
            " [False False  True False False]\n",
            " [False False False  True False]\n",
            " [False False False False  True]]\n",
            "[ 1  7 13 19 25]\n",
            "65\n"
          ],
          "name": "stdout"
        }
      ]
    },
    {
      "cell_type": "markdown",
      "metadata": {
        "id": "r9FpXWbcGTB0"
      },
      "source": [
        "# 배열 변화"
      ]
    },
    {
      "cell_type": "markdown",
      "metadata": {
        "id": "Y7-Ff8KXJT9h"
      },
      "source": [
        "## reshape"
      ]
    },
    {
      "cell_type": "code",
      "metadata": {
        "id": "_l2MVe-FJYOr",
        "colab": {
          "base_uri": "https://localhost:8080/"
        },
        "outputId": "e8f4c338-b437-434c-cc48-c0c8acf89607"
      },
      "source": [
        "a = np.arange(12)\n",
        "print(a)\n",
        "print(\"(12,)\\n\", a.reshape(12,))\n",
        "print(\"(12,1)\\n\", a.reshape(12,1))\n",
        "print(\"(1,12)\\n\", a.reshape(1,12))\n",
        "print(\"(3,4)\\n\", a.reshape(3,4))\n"
      ],
      "execution_count": 65,
      "outputs": [
        {
          "output_type": "stream",
          "text": [
            "[ 0  1  2  3  4  5  6  7  8  9 10 11]\n",
            "(12,)\n",
            " [ 0  1  2  3  4  5  6  7  8  9 10 11]\n",
            "(12,1)\n",
            " [[ 0]\n",
            " [ 1]\n",
            " [ 2]\n",
            " [ 3]\n",
            " [ 4]\n",
            " [ 5]\n",
            " [ 6]\n",
            " [ 7]\n",
            " [ 8]\n",
            " [ 9]\n",
            " [10]\n",
            " [11]]\n",
            "(1,12)\n",
            " [[ 0  1  2  3  4  5  6  7  8  9 10 11]]\n",
            "(3,4)\n",
            " [[ 0  1  2  3]\n",
            " [ 4  5  6  7]\n",
            " [ 8  9 10 11]]\n"
          ],
          "name": "stdout"
        }
      ]
    },
    {
      "cell_type": "code",
      "metadata": {
        "id": "SURCnT-pQnOB",
        "colab": {
          "base_uri": "https://localhost:8080/"
        },
        "outputId": "ad8f052e-9706-46e4-dc6e-c923e472db42"
      },
      "source": [
        "a = np.arange(24).reshape(3,4,2)\n",
        "print(a)"
      ],
      "execution_count": 66,
      "outputs": [
        {
          "output_type": "stream",
          "text": [
            "[[[ 0  1]\n",
            "  [ 2  3]\n",
            "  [ 4  5]\n",
            "  [ 6  7]]\n",
            "\n",
            " [[ 8  9]\n",
            "  [10 11]\n",
            "  [12 13]\n",
            "  [14 15]]\n",
            "\n",
            " [[16 17]\n",
            "  [18 19]\n",
            "  [20 21]\n",
            "  [22 23]]]\n"
          ],
          "name": "stdout"
        }
      ]
    },
    {
      "cell_type": "markdown",
      "metadata": {
        "id": "hNLVnztoGcuT"
      },
      "source": [
        "## 차원 확대"
      ]
    },
    {
      "cell_type": "code",
      "metadata": {
        "id": "qdNKJLPOGkhs",
        "outputId": "7807b1bd-fc90-4a3c-c9e5-b363b5ce3b73",
        "colab": {
          "base_uri": "https://localhost:8080/"
        }
      },
      "source": [
        "a = np.arange(12).reshape(3,4)\n",
        "print(a.shape)\n",
        "\n",
        "a = np.expand_dims(a, axis=-1)\n",
        "print(a.shape)"
      ],
      "execution_count": 67,
      "outputs": [
        {
          "output_type": "stream",
          "text": [
            "(3, 4)\n",
            "(3, 4, 1)\n"
          ],
          "name": "stdout"
        }
      ]
    },
    {
      "cell_type": "code",
      "metadata": {
        "id": "-2WsnzvBHK7W",
        "outputId": "fe387b9a-91f4-481b-ee5a-85b15bd5a415",
        "colab": {
          "base_uri": "https://localhost:8080/"
        }
      },
      "source": [
        "a = np.arange(12).reshape(3,4)\n",
        "print(a.shape)\n",
        "\n",
        "a = np.expand_dims(a, axis=0)\n",
        "print(\"axis=0 \", a.shape)\n",
        "\n",
        "a = np.squeeze(a)\n",
        "a = np.expand_dims(a, axis=1)\n",
        "print(\"axis=1 \", a.shape)\n",
        "\n",
        "a = np.squeeze(a)\n",
        "a = np.expand_dims(a, axis=2)\n",
        "print(\"axis=2 \", a.shape)\n",
        "\n",
        "a = np.squeeze(a)\n",
        "a = np.expand_dims(a, axis=-1)\n",
        "print(\"axis=-1\", a.shape)\n",
        "\n",
        "a = np.squeeze(a)\n",
        "a = np.expand_dims(a, axis=-2)\n",
        "print(\"axis=-2\", a.shape)\n",
        "\n",
        "a = np.squeeze(a)\n",
        "a = np.expand_dims(a, axis=-3)\n",
        "print(\"axis=-3\", a.shape)\n"
      ],
      "execution_count": 68,
      "outputs": [
        {
          "output_type": "stream",
          "text": [
            "(3, 4)\n",
            "axis=0  (1, 3, 4)\n",
            "axis=1  (3, 1, 4)\n",
            "axis=2  (3, 4, 1)\n",
            "axis=-1 (3, 4, 1)\n",
            "axis=-2 (3, 1, 4)\n",
            "axis=-3 (1, 3, 4)\n"
          ],
          "name": "stdout"
        }
      ]
    },
    {
      "cell_type": "markdown",
      "metadata": {
        "id": "ZcCFsXohGeGZ"
      },
      "source": [
        "## 차원 축소"
      ]
    },
    {
      "cell_type": "code",
      "metadata": {
        "id": "mmtksDAZHC_X",
        "outputId": "59db0f44-c974-4d74-d427-69e8a40961ec",
        "colab": {
          "base_uri": "https://localhost:8080/"
        }
      },
      "source": [
        "a = np.arange(12).reshape(3,4,1)\n",
        "print(a.shape)\n",
        "\n",
        "a = np.squeeze(a)\n",
        "print(a.shape)"
      ],
      "execution_count": 69,
      "outputs": [
        {
          "output_type": "stream",
          "text": [
            "(3, 4, 1)\n",
            "(3, 4)\n"
          ],
          "name": "stdout"
        }
      ]
    },
    {
      "cell_type": "markdown",
      "metadata": {
        "id": "qa0NYlqdJIxV"
      },
      "source": [
        "## 전치(Transpose)\n"
      ]
    },
    {
      "cell_type": "code",
      "metadata": {
        "id": "YAoGSVl9JNVc",
        "colab": {
          "base_uri": "https://localhost:8080/"
        },
        "outputId": "c61e8f30-904c-4dc3-8c36-aed813c3efb1"
      },
      "source": [
        "a = np.arange(12).reshape((3,4))\n",
        "print(a)\n",
        "b = a.T\n",
        "print(b)"
      ],
      "execution_count": 70,
      "outputs": [
        {
          "output_type": "stream",
          "text": [
            "[[ 0  1  2  3]\n",
            " [ 4  5  6  7]\n",
            " [ 8  9 10 11]]\n",
            "[[ 0  4  8]\n",
            " [ 1  5  9]\n",
            " [ 2  6 10]\n",
            " [ 3  7 11]]\n"
          ],
          "name": "stdout"
        }
      ]
    },
    {
      "cell_type": "markdown",
      "metadata": {
        "id": "gqikqDPHH_Xa"
      },
      "source": [
        "# axis 연산"
      ]
    },
    {
      "cell_type": "markdown",
      "metadata": {
        "id": "RX42ze7c-zE8"
      },
      "source": [
        "## sum\n",
        "\n",
        "한 축으로 더하면 그 축은 사라진다.\n",
        "\n",
        "사자질 축 index를 axis의 값으로 설정한다."
      ]
    },
    {
      "cell_type": "code",
      "metadata": {
        "id": "-tPm7nmwz3E3",
        "colab": {
          "base_uri": "https://localhost:8080/"
        },
        "outputId": "236630d2-8c5f-4203-8cfe-e785f80d4b4c"
      },
      "source": [
        "a = np.ones((3,4,2))\n",
        "\n",
        "pprint(a)\n",
        "sum = np.sum(a)\n",
        "print(\"axis=None\\n\", sum)\n",
        "\n",
        "sum = np.sum(a, axis=0)\n",
        "print(\"axis=0\")\n",
        "pprint(sum)\n",
        "# old shape (3, 4, 2)\n",
        "# axis =     0  \n",
        "# new shape (   4, 2)\n",
        "\n",
        "sum = np.sum(a, axis=1)\n",
        "print(\"axis=1\")\n",
        "pprint(sum)\n",
        "# old shape (3, 4, 2)\n",
        "# axis =        1  \n",
        "# new shape (3, 4, 2)\n",
        "\n",
        "\n",
        "sum = np.sum(a, axis=2)\n",
        "print(\"axis=2\")\n",
        "pprint(sum)\n",
        "# old shape (3, 4, 2)\n",
        "# axis =           2  \n",
        "# new shape (3, 4   )\n",
        "\n"
      ],
      "execution_count": 71,
      "outputs": [
        {
          "output_type": "stream",
          "text": [
            "shape: (3, 4, 2), dimension: 3, dtype:float64\n",
            "[[[1. 1.]\n",
            "  [1. 1.]\n",
            "  [1. 1.]\n",
            "  [1. 1.]]\n",
            "\n",
            " [[1. 1.]\n",
            "  [1. 1.]\n",
            "  [1. 1.]\n",
            "  [1. 1.]]\n",
            "\n",
            " [[1. 1.]\n",
            "  [1. 1.]\n",
            "  [1. 1.]\n",
            "  [1. 1.]]]\n",
            "\n",
            "axis=None\n",
            " 24.0\n",
            "axis=0\n",
            "shape: (4, 2), dimension: 2, dtype:float64\n",
            "[[3. 3.]\n",
            " [3. 3.]\n",
            " [3. 3.]\n",
            " [3. 3.]]\n",
            "\n",
            "axis=1\n",
            "shape: (3, 2), dimension: 2, dtype:float64\n",
            "[[4. 4.]\n",
            " [4. 4.]\n",
            " [4. 4.]]\n",
            "\n",
            "axis=2\n",
            "shape: (3, 4), dimension: 2, dtype:float64\n",
            "[[2. 2. 2. 2.]\n",
            " [2. 2. 2. 2.]\n",
            " [2. 2. 2. 2.]]\n",
            "\n"
          ],
          "name": "stdout"
        }
      ]
    },
    {
      "cell_type": "markdown",
      "metadata": {
        "id": "2Kydmg-zIDc8"
      },
      "source": [
        "## mean\n",
        "\n",
        "sum()과 마찬가지 방법의 axis를 설정한다."
      ]
    },
    {
      "cell_type": "code",
      "metadata": {
        "id": "Q-1yfZ0iIHQi",
        "outputId": "5fc5e5a2-2920-47c9-fd2b-923bc38d365f",
        "colab": {
          "base_uri": "https://localhost:8080/"
        }
      },
      "source": [
        "a = np.arange(24).reshape((3,4,2))\n",
        "pprint(a)\n",
        "\n",
        "mean = np.mean(a, axis=0)\n",
        "print(\"axis=0\")\n",
        "pprint(mean)\n",
        "# old shape (3, 4, 2)\n",
        "# axis =     0  \n",
        "# new shape (   4, 2)\n",
        "\n",
        "mean = np.mean(a, axis=1)\n",
        "print(\"axis=1\")\n",
        "pprint(mean)\n",
        "# old shape (3, 4, 2)\n",
        "# axis =        1  \n",
        "# new shape (3, 4, 2)\n",
        "\n",
        "\n",
        "mean = np.mean(a, axis=2)\n",
        "print(\"axis=2\")\n",
        "pprint(mean)\n",
        "# old shape (3, 4, 2)\n",
        "# axis =           2  \n",
        "# new shape (3, 4   )\n",
        "\n"
      ],
      "execution_count": 87,
      "outputs": [
        {
          "output_type": "stream",
          "text": [
            "shape: (3, 4, 2), dimension: 3, dtype:int64\n",
            "[[[ 0  1]\n",
            "  [ 2  3]\n",
            "  [ 4  5]\n",
            "  [ 6  7]]\n",
            "\n",
            " [[ 8  9]\n",
            "  [10 11]\n",
            "  [12 13]\n",
            "  [14 15]]\n",
            "\n",
            " [[16 17]\n",
            "  [18 19]\n",
            "  [20 21]\n",
            "  [22 23]]]\n",
            "\n",
            "shape: (4, 2), dimension: 2, dtype:float64\n",
            "[[ 8.  9.]\n",
            " [10. 11.]\n",
            " [12. 13.]\n",
            " [14. 15.]]\n",
            "\n"
          ],
          "name": "stdout"
        }
      ]
    },
    {
      "cell_type": "markdown",
      "metadata": {
        "id": "TicNkKykJPly"
      },
      "source": [
        "# arg 연산"
      ]
    },
    {
      "cell_type": "markdown",
      "metadata": {
        "id": "-Golzn8ZJRGY"
      },
      "source": [
        "## argmax()"
      ]
    },
    {
      "cell_type": "code",
      "metadata": {
        "id": "Z4ESJEmwJVOt",
        "outputId": "6a2d05ab-c2b4-43aa-db76-40ad8fb030f1",
        "colab": {
          "base_uri": "https://localhost:8080/"
        }
      },
      "source": [
        "a = np.random.randint(10, size=12).reshape(3,4)\n",
        "pprint(a)\n",
        "\n",
        "max_index = np.argmax(a, axis=-1)\n",
        "print(max_index)"
      ],
      "execution_count": 96,
      "outputs": [
        {
          "output_type": "stream",
          "text": [
            "shape: (3, 4), dimension: 2, dtype:int64\n",
            "[[9 7 3 1]\n",
            " [5 7 9 2]\n",
            " [9 7 3 3]]\n",
            "\n",
            "[0 2 0]\n"
          ],
          "name": "stdout"
        }
      ]
    },
    {
      "cell_type": "markdown",
      "metadata": {
        "id": "EGzLv07pJSyN"
      },
      "source": [
        "## argsort()"
      ]
    },
    {
      "cell_type": "code",
      "metadata": {
        "id": "dOQqlL97KFZ_",
        "outputId": "882ef068-94b4-4582-bed5-20ab137470fd",
        "colab": {
          "base_uri": "https://localhost:8080/"
        }
      },
      "source": [
        "a = np.random.randint(10, size=12).reshape(3,4)\n",
        "pprint(a)\n",
        "\n",
        "print(\"axis=None\")\n",
        "sorted_index = np.argsort(a)\n",
        "pprint(sorted_index)\n",
        "\n",
        "print(\"axis=0\")\n",
        "sorted_index = np.argsort(a, axis=0)\n",
        "pprint(sorted_index)\n",
        "\n",
        "print(\"axis=1\")\n",
        "sorted_index = np.argsort(a, axis=1)\n",
        "pprint(sorted_index)\n"
      ],
      "execution_count": 101,
      "outputs": [
        {
          "output_type": "stream",
          "text": [
            "shape: (3, 4), dimension: 2, dtype:int64\n",
            "[[1 5 2 1]\n",
            " [2 9 1 1]\n",
            " [3 6 7 8]]\n",
            "\n",
            "axis=None\n",
            "shape: (3, 4), dimension: 2, dtype:int64\n",
            "[[0 3 2 1]\n",
            " [2 3 0 1]\n",
            " [0 1 2 3]]\n",
            "\n",
            "axis=0\n",
            "shape: (3, 4), dimension: 2, dtype:int64\n",
            "[[0 0 1 0]\n",
            " [1 2 0 1]\n",
            " [2 1 2 2]]\n",
            "\n",
            "axis=1\n",
            "shape: (3, 4), dimension: 2, dtype:int64\n",
            "[[0 3 2 1]\n",
            " [2 3 0 1]\n",
            " [0 1 2 3]]\n",
            "\n"
          ],
          "name": "stdout"
        }
      ]
    },
    {
      "cell_type": "markdown",
      "metadata": {
        "id": "EGuHIwf2Olfd"
      },
      "source": [
        "# 소팅\n",
        "\n",
        "소팅할 대상의 축을 sum()을 기준으로 axis갑으로 설정한다."
      ]
    },
    {
      "cell_type": "code",
      "metadata": {
        "id": "JfugUfakHy71",
        "colab": {
          "base_uri": "https://localhost:8080/"
        },
        "outputId": "29c92b18-ea32-45cf-b6d5-642ba76b486f"
      },
      "source": [
        "a = np.array([\n",
        "    [\n",
        "        [ 10111, 20112 ],\n",
        "        [ 10121, 20122 ],\n",
        "        [ 20131, 10132 ],\n",
        "        [ 20141, 10142 ]\n",
        "    ],\n",
        "    [\n",
        "        [ 20211, 10212 ],\n",
        "        [ 20221, 10222 ],\n",
        "        [ 10231, 20232 ],\n",
        "        [ 10241, 20242 ]\n",
        "    ],\n",
        "    [\n",
        "        [ 10311, 20312 ],\n",
        "        [ 20321, 10322 ],\n",
        "        [ 10331, 20332 ],\n",
        "        [ 20341, 10342 ]\n",
        "    ]\n",
        "])\n",
        "\n",
        "print(np.sort(a, axis=0))\n",
        "# sum 연산할 때 합치는 대상 끼리 소팅 해서 자리를 바꾼다.\n",
        "# 10111, 10311, 20211\n",
        "\n"
      ],
      "execution_count": 73,
      "outputs": [
        {
          "output_type": "stream",
          "text": [
            "[[[10111 10212]\n",
            "  [10121 10222]\n",
            "  [10231 10132]\n",
            "  [10241 10142]]\n",
            "\n",
            " [[10311 20112]\n",
            "  [20221 10322]\n",
            "  [10331 20232]\n",
            "  [20141 10342]]\n",
            "\n",
            " [[20211 20312]\n",
            "  [20321 20122]\n",
            "  [20131 20332]\n",
            "  [20341 20242]]]\n"
          ],
          "name": "stdout"
        }
      ]
    },
    {
      "cell_type": "code",
      "metadata": {
        "id": "iwG6vD9BRM6s",
        "colab": {
          "base_uri": "https://localhost:8080/"
        },
        "outputId": "9daf3295-4cb6-445f-b8cf-6e5ea3452c4e"
      },
      "source": [
        "a = np.array([\n",
        "    [\n",
        "        [ 10111, 20112 ],\n",
        "        [ 10121, 20122 ],\n",
        "        [ 20131, 10132 ],\n",
        "        [ 20141, 10142 ]\n",
        "    ],\n",
        "    [\n",
        "        [ 20211, 10212 ],\n",
        "        [ 20221, 10222 ],\n",
        "        [ 10231, 20232 ],\n",
        "        [ 10241, 20242 ]\n",
        "    ],\n",
        "    [\n",
        "        [ 10311, 20312 ],\n",
        "        [ 20321, 10322 ],\n",
        "        [ 10331, 20332 ],\n",
        "        [ 20341, 10342 ]\n",
        "    ]\n",
        "])\n",
        "\n",
        "print(np.sort(a, axis=1))\n",
        "# sum 연산할 때 합치는 대상 끼리 소팅 해서 자리를 바꾼다.\n",
        "\n",
        "# 10111, 10121, 20131, 20141\n"
      ],
      "execution_count": 74,
      "outputs": [
        {
          "output_type": "stream",
          "text": [
            "[[[10111 10132]\n",
            "  [10121 10142]\n",
            "  [20131 20112]\n",
            "  [20141 20122]]\n",
            "\n",
            " [[10231 10212]\n",
            "  [10241 10222]\n",
            "  [20211 20232]\n",
            "  [20221 20242]]\n",
            "\n",
            " [[10311 10322]\n",
            "  [10331 10342]\n",
            "  [20321 20312]\n",
            "  [20341 20332]]]\n"
          ],
          "name": "stdout"
        }
      ]
    },
    {
      "cell_type": "code",
      "metadata": {
        "id": "VGm8ZJg2Rfb6",
        "colab": {
          "base_uri": "https://localhost:8080/"
        },
        "outputId": "8d241614-ffe8-49f5-c80c-d89220c67794"
      },
      "source": [
        "a = np.array([\n",
        "    [\n",
        "        [ 10111, 20112 ],\n",
        "        [ 10121, 20122 ],\n",
        "        [ 20131, 10132 ],\n",
        "        [ 20141, 10142 ]\n",
        "    ],\n",
        "    [\n",
        "        [ 20211, 10212 ],\n",
        "        [ 20221, 10222 ],\n",
        "        [ 10231, 20232 ],\n",
        "        [ 10241, 20242 ]\n",
        "    ],\n",
        "    [\n",
        "        [ 10311, 20312 ],\n",
        "        [ 20321, 10322 ],\n",
        "        [ 10331, 20332 ],\n",
        "        [ 20341, 10342 ]\n",
        "    ]\n",
        "])\n",
        "\n",
        "print(np.sort(a, axis=2))\n",
        "# sum 연산할 때 합치는 대상 끼리 소팅 해서 자리를 바꾼다.\n",
        "\n",
        "# 10111 20112\n"
      ],
      "execution_count": 75,
      "outputs": [
        {
          "output_type": "stream",
          "text": [
            "[[[10111 20112]\n",
            "  [10121 20122]\n",
            "  [10132 20131]\n",
            "  [10142 20141]]\n",
            "\n",
            " [[10212 20211]\n",
            "  [10222 20221]\n",
            "  [10231 20232]\n",
            "  [10241 20242]]\n",
            "\n",
            " [[10311 20312]\n",
            "  [10322 20321]\n",
            "  [10331 20332]\n",
            "  [10342 20341]]]\n"
          ],
          "name": "stdout"
        }
      ]
    },
    {
      "cell_type": "markdown",
      "metadata": {
        "id": "Kti6WnhEFOoS"
      },
      "source": [
        "## Quiz. 다음 행렬을 출력했을 때 13이 포함된 행의 모든 숫자는?\n",
        "```\n",
        "a = np.arange(3*4*5).reshape(3,4,5)\n",
        "print(a)\n",
        "```\n",
        "\n",
        "다음 행렬을 출력했을 때 13이 포함된 행의 모든 숫자는?\n",
        "```\n",
        "b = a.reshape(5*3*4).reshape(5,3,4)\n",
        "print(b)\n",
        "```"
      ]
    },
    {
      "cell_type": "code",
      "metadata": {
        "id": "At8qj5J5FVXm",
        "colab": {
          "base_uri": "https://localhost:8080/"
        },
        "outputId": "06e23755-8ba3-45fb-ee25-129acf51462d"
      },
      "source": [
        "a = np.arange(3*4*5).reshape(3,4,5)\n",
        "print(a)\n",
        "\n",
        "b = a.reshape(5*3*4).reshape(5,3,4)\n",
        "print(b)\n",
        "\n"
      ],
      "execution_count": 76,
      "outputs": [
        {
          "output_type": "stream",
          "text": [
            "[[[ 0  1  2  3  4]\n",
            "  [ 5  6  7  8  9]\n",
            "  [10 11 12 13 14]\n",
            "  [15 16 17 18 19]]\n",
            "\n",
            " [[20 21 22 23 24]\n",
            "  [25 26 27 28 29]\n",
            "  [30 31 32 33 34]\n",
            "  [35 36 37 38 39]]\n",
            "\n",
            " [[40 41 42 43 44]\n",
            "  [45 46 47 48 49]\n",
            "  [50 51 52 53 54]\n",
            "  [55 56 57 58 59]]]\n",
            "[[[ 0  1  2  3]\n",
            "  [ 4  5  6  7]\n",
            "  [ 8  9 10 11]]\n",
            "\n",
            " [[12 13 14 15]\n",
            "  [16 17 18 19]\n",
            "  [20 21 22 23]]\n",
            "\n",
            " [[24 25 26 27]\n",
            "  [28 29 30 31]\n",
            "  [32 33 34 35]]\n",
            "\n",
            " [[36 37 38 39]\n",
            "  [40 41 42 43]\n",
            "  [44 45 46 47]]\n",
            "\n",
            " [[48 49 50 51]\n",
            "  [52 53 54 55]\n",
            "  [56 57 58 59]]]\n"
          ],
          "name": "stdout"
        }
      ]
    },
    {
      "cell_type": "markdown",
      "metadata": {
        "id": "EcT_3nKrFayL"
      },
      "source": [
        "## Quiz. 다음 연산의 결과는\n",
        "```\n",
        "a = np.array([\n",
        "    [0, 1, 2],\n",
        "    [3, 4, 5]\n",
        "])\n",
        "print(np.sum(a, axis=0))\n",
        "\n",
        "print(np.sum(a, axis=1))\n",
        "```"
      ]
    },
    {
      "cell_type": "code",
      "metadata": {
        "id": "WzGjI-bQFgeZ",
        "colab": {
          "base_uri": "https://localhost:8080/"
        },
        "outputId": "27c7a90b-61f4-4148-bf83-00a523d31bf4"
      },
      "source": [
        "a = np.array([\n",
        "    [0, 1, 2],\n",
        "    [3, 4, 5]\n",
        "])\n",
        "print(np.sum(a, axis=0))\n",
        "\n",
        "print(np.sum(a, axis=1))"
      ],
      "execution_count": 77,
      "outputs": [
        {
          "output_type": "stream",
          "text": [
            "[3 5 7]\n",
            "[ 3 12]\n"
          ],
          "name": "stdout"
        }
      ]
    },
    {
      "cell_type": "markdown",
      "metadata": {
        "id": "H-o8UZEdFkbZ"
      },
      "source": [
        "## Quiz. a = np.ones((5,6,7))일 때 다음의 shape와 각 동일한 요소 값은\n",
        "```\n",
        "print(np.sum(a, axis=0))\n",
        "\n",
        "print(np.sum(a, axis=1))\n",
        "\n",
        "print(np.sum(a, axis=2))\n",
        "```"
      ]
    },
    {
      "cell_type": "code",
      "metadata": {
        "id": "er2GeorLFsy4",
        "colab": {
          "base_uri": "https://localhost:8080/"
        },
        "outputId": "d06db5e4-bc60-4e64-d885-f8741545869d"
      },
      "source": [
        "a = np.ones((5,6,7))\n",
        "\n",
        "print(np.sum(a, axis=0))\n",
        "\n",
        "print(np.sum(a, axis=1))\n",
        "\n",
        "print(np.sum(a, axis=2))"
      ],
      "execution_count": 78,
      "outputs": [
        {
          "output_type": "stream",
          "text": [
            "[[5. 5. 5. 5. 5. 5. 5.]\n",
            " [5. 5. 5. 5. 5. 5. 5.]\n",
            " [5. 5. 5. 5. 5. 5. 5.]\n",
            " [5. 5. 5. 5. 5. 5. 5.]\n",
            " [5. 5. 5. 5. 5. 5. 5.]\n",
            " [5. 5. 5. 5. 5. 5. 5.]]\n",
            "[[6. 6. 6. 6. 6. 6. 6.]\n",
            " [6. 6. 6. 6. 6. 6. 6.]\n",
            " [6. 6. 6. 6. 6. 6. 6.]\n",
            " [6. 6. 6. 6. 6. 6. 6.]\n",
            " [6. 6. 6. 6. 6. 6. 6.]]\n",
            "[[7. 7. 7. 7. 7. 7.]\n",
            " [7. 7. 7. 7. 7. 7.]\n",
            " [7. 7. 7. 7. 7. 7.]\n",
            " [7. 7. 7. 7. 7. 7.]\n",
            " [7. 7. 7. 7. 7. 7.]]\n"
          ],
          "name": "stdout"
        }
      ]
    },
    {
      "cell_type": "markdown",
      "metadata": {
        "id": "wjCKOn6wFyxe"
      },
      "source": [
        "## Quiz. 다음 연산의 결과는\n",
        "\n",
        "```\n",
        "a = np.array([\n",
        "    [0, 1, 2],\n",
        "    [3, 4, 5]\n",
        "])\n",
        "print(np.mean(a, axis=0))\n",
        "\n",
        "print(np.mean(a, axis=1))\n",
        "```"
      ]
    },
    {
      "cell_type": "code",
      "metadata": {
        "id": "JZb05F2oF2B4",
        "colab": {
          "base_uri": "https://localhost:8080/"
        },
        "outputId": "0c7ca20c-518c-4f0e-d20c-c76c24ea1c9f"
      },
      "source": [
        "a = np.array([\n",
        "    [0, 1, 2],\n",
        "    [3, 4, 5]\n",
        "])\n",
        "print(np.mean(a, axis=0))\n",
        "\n",
        "print(np.mean(a, axis=1))"
      ],
      "execution_count": 79,
      "outputs": [
        {
          "output_type": "stream",
          "text": [
            "[1.5 2.5 3.5]\n",
            "[1. 4.]\n"
          ],
          "name": "stdout"
        }
      ]
    },
    {
      "cell_type": "markdown",
      "metadata": {
        "id": "A-42u7i5GOqJ"
      },
      "source": [
        "#  dot() 연산자\n",
        "\n",
        "행렬 간의 행렬곱 연산"
      ]
    },
    {
      "cell_type": "code",
      "metadata": {
        "id": "sXLB7YjeGUt_",
        "colab": {
          "base_uri": "https://localhost:8080/"
        },
        "outputId": "ff8a085c-da12-40e2-c3d5-e8bfc6463ea0"
      },
      "source": [
        "w = np.array([0,1,2,3,4,5])\n",
        "x = np.array([1,1,2,2,3,3])\n",
        "\n",
        "p = np.dot(w, x.T)\n",
        "print(p)"
      ],
      "execution_count": 80,
      "outputs": [
        {
          "output_type": "stream",
          "text": [
            "38\n"
          ],
          "name": "stdout"
        }
      ]
    },
    {
      "cell_type": "code",
      "metadata": {
        "id": "1nxBs38AGWo1",
        "colab": {
          "base_uri": "https://localhost:8080/"
        },
        "outputId": "3616fe2e-75e8-4498-ac93-a159202576b8"
      },
      "source": [
        "w = np.arange(6).reshape(2,3)\n",
        "x = np.arange(6).reshape(2,3)\n",
        "\n",
        "print(w)\n",
        "print(x)\n",
        "\n",
        "p = np.dot(w, x.T)\n",
        "print(p)"
      ],
      "execution_count": 81,
      "outputs": [
        {
          "output_type": "stream",
          "text": [
            "[[0 1 2]\n",
            " [3 4 5]]\n",
            "[[0 1 2]\n",
            " [3 4 5]]\n",
            "[[ 5 14]\n",
            " [14 50]]\n"
          ],
          "name": "stdout"
        }
      ]
    },
    {
      "cell_type": "markdown",
      "metadata": {
        "id": "rAb-pX4QTPqa"
      },
      "source": [
        "# 배열 결합\n",
        "![대체 텍스트](https://t1.daumcdn.net/cfile/tistory/992822335AD0C35C13)"
      ]
    },
    {
      "cell_type": "code",
      "metadata": {
        "id": "2ar6hImRHy5g",
        "colab": {
          "base_uri": "https://localhost:8080/"
        },
        "outputId": "c8cf072d-f860-4c94-8906-5601dc9e2cb3"
      },
      "source": [
        "a = np.array([1,2,3])\n",
        "b = np.array([4,5,6])\n",
        "\n",
        "print(np.hstack([a,b]))\n",
        "\n",
        "a = np.array([\n",
        "    [1,2,3],\n",
        "    [4,5,6]\n",
        "])\n",
        "b = np.array([\n",
        "    [7,8,9],\n",
        "    [10,11,12]\n",
        "])\n",
        "print(np.hstack([a,b]))\n",
        "\n"
      ],
      "execution_count": 82,
      "outputs": [
        {
          "output_type": "stream",
          "text": [
            "[1 2 3 4 5 6]\n",
            "[[ 1  2  3  7  8  9]\n",
            " [ 4  5  6 10 11 12]]\n"
          ],
          "name": "stdout"
        }
      ]
    },
    {
      "cell_type": "code",
      "metadata": {
        "id": "0o48_EzbTgLL",
        "colab": {
          "base_uri": "https://localhost:8080/"
        },
        "outputId": "73cbedf4-13f9-4183-b67c-ed09d738d98b"
      },
      "source": [
        "a = np.array([1,2,3])\n",
        "b = np.array([4,5,6])\n",
        "\n",
        "print(np.vstack([a,b]))\n",
        "\n",
        "a = np.array([\n",
        "    [1,2,3],\n",
        "    [4,5,6]\n",
        "])\n",
        "b = np.array([\n",
        "    [7,8,9],\n",
        "    [10,11,12]\n",
        "])\n",
        "print(np.vstack([a,b]))\n"
      ],
      "execution_count": 83,
      "outputs": [
        {
          "output_type": "stream",
          "text": [
            "[[1 2 3]\n",
            " [4 5 6]]\n",
            "[[ 1  2  3]\n",
            " [ 4  5  6]\n",
            " [ 7  8  9]\n",
            " [10 11 12]]\n"
          ],
          "name": "stdout"
        }
      ]
    },
    {
      "cell_type": "code",
      "metadata": {
        "id": "oINSdtpCTgHo",
        "colab": {
          "base_uri": "https://localhost:8080/"
        },
        "outputId": "a5e5779b-df95-480e-f3d0-4309879c321b"
      },
      "source": [
        "a = np.array([1,2,3])\n",
        "b = np.array([4,5,6])\n",
        "\n",
        "print(np.column_stack([a,b]))\n",
        "\n",
        "a = np.array([\n",
        "    [1,2,3],\n",
        "    [4,5,6]\n",
        "])\n",
        "b = np.array([\n",
        "    [7,8,9],\n",
        "    [10,11,12]\n",
        "])\n",
        "print(np.column_stack([a,b]))\n",
        "\n",
        "# 1 4 7 10\n",
        "# 2 5 8 11\n",
        "# 3 6 9 12"
      ],
      "execution_count": 84,
      "outputs": [
        {
          "output_type": "stream",
          "text": [
            "[[1 4]\n",
            " [2 5]\n",
            " [3 6]]\n",
            "[[ 1  2  3  7  8  9]\n",
            " [ 4  5  6 10 11 12]]\n"
          ],
          "name": "stdout"
        }
      ]
    },
    {
      "cell_type": "markdown",
      "metadata": {
        "id": "R4gw5ymDH3NK"
      },
      "source": [
        "## Quiz. 첫번 재 부터 매 3번째 마다의 합\n",
        "\n",
        "\n",
        "```\n",
        "[ 0  1  2  3  4  5  6  7  8  9 10 11 12 13 14 15 16 17 18 19 20 21 22 23\n",
        " 24 25 26 27 28 29 30 31 32 33 34 35 36 37 38 39 40 41 42 43 44 45 46 47\n",
        " 48 49 50 51 52 53 54 55 56 57 58 59 60 61 62 63 64 65 66 67 68 69 70 71\n",
        " 72 73 74 75 76 77 78 79 80 81 82 83 84 85 86 87 88 89 90 91 92 93 94 95\n",
        " 96 97 98 99]\n",
        "```"
      ]
    },
    {
      "cell_type": "code",
      "metadata": {
        "id": "FTJ-uydQHy0u"
      },
      "source": [
        ""
      ],
      "execution_count": 84,
      "outputs": []
    },
    {
      "cell_type": "code",
      "metadata": {
        "id": "kQJ1wQYKHyxo"
      },
      "source": [
        ""
      ],
      "execution_count": 84,
      "outputs": []
    }
  ]
}