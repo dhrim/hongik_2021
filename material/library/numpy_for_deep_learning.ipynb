{
  "nbformat": 4,
  "nbformat_minor": 0,
  "metadata": {
    "colab": {
      "name": "numpy.ipynb",
      "provenance": [],
      "collapsed_sections": [],
      "toc_visible": true
    },
    "kernelspec": {
      "name": "python3",
      "display_name": "Python 3"
    },
    "language_info": {
      "name": "python"
    }
  },
  "cells": [
    {
      "cell_type": "markdown",
      "metadata": {
        "id": "w6UWi8xnQoLm"
      },
      "source": [
        "# Numpy"
      ]
    },
    {
      "cell_type": "markdown",
      "metadata": {
        "id": "ecuDyHQ76knX"
      },
      "source": [
        "# 설치"
      ]
    },
    {
      "cell_type": "code",
      "metadata": {
        "colab": {
          "base_uri": "https://localhost:8080/"
        },
        "id": "z2-FJJ8b6eZo",
        "outputId": "92428d23-8ba9-473f-8d74-7830a89a3916"
      },
      "source": [
        "!pip install numpy"
      ],
      "execution_count": 1,
      "outputs": [
        {
          "output_type": "stream",
          "text": [
            "Requirement already satisfied: numpy in /usr/local/lib/python3.7/dist-packages (1.19.5)\n"
          ],
          "name": "stdout"
        }
      ]
    },
    {
      "cell_type": "markdown",
      "metadata": {
        "id": "GUQzgMXf6l_y"
      },
      "source": [
        "# 임포팅"
      ]
    },
    {
      "cell_type": "code",
      "metadata": {
        "id": "xV3jVYiFL-jO"
      },
      "source": [
        "import numpy as np\n"
      ],
      "execution_count": 2,
      "outputs": []
    },
    {
      "cell_type": "markdown",
      "metadata": {
        "id": "Uj_Akmzx6qbF"
      },
      "source": [
        "# python list하고 비슷"
      ]
    },
    {
      "cell_type": "code",
      "metadata": {
        "colab": {
          "base_uri": "https://localhost:8080/"
        },
        "id": "qeqF5uD875UG",
        "outputId": "b5db5512-37d0-4801-eb93-852a13182e5b"
      },
      "source": [
        "a = np.array([0,1,2,3,4])\n",
        "\n",
        "print(a)\n",
        "print(\"a[0] =\",a[0])\n",
        "print(\"a[1] =\",a[1])\n",
        "print(\"a[1:3] =\",a[1:3])\n",
        "print(\"a[0:3] =\",a[0:3])\n",
        "print(\"a[1:] =\",a[1:])\n",
        "print(\"a[:] =\",a[:])"
      ],
      "execution_count": 3,
      "outputs": [
        {
          "output_type": "stream",
          "text": [
            "[0 1 2 3 4]\n",
            "a[0] = 0\n",
            "a[1] = 1\n",
            "a[1:3] = [1 2]\n",
            "a[0:3] = [0 1 2]\n",
            "a[1:] = [1 2 3 4]\n",
            "a[:] = [0 1 2 3 4]\n"
          ],
          "name": "stdout"
        }
      ]
    },
    {
      "cell_type": "markdown",
      "metadata": {
        "id": "x4ch08I-8gVc"
      },
      "source": [
        "기본적으로 python의 리스트 참조 방법과 같다."
      ]
    },
    {
      "cell_type": "code",
      "metadata": {
        "id": "Z-srJKHR8gEN"
      },
      "source": [
        ""
      ],
      "execution_count": 3,
      "outputs": []
    },
    {
      "cell_type": "code",
      "metadata": {
        "colab": {
          "base_uri": "https://localhost:8080/"
        },
        "id": "R91NHIkx8MzU",
        "outputId": "a8590e5b-64e6-4d6e-c33a-382475cfe997"
      },
      "source": [
        "a = np.array([ [0,1,2], [3,4,5] ])\n",
        "\n",
        "print(a)\n",
        "print(\"a[0] =\",a[0])\n",
        "print(\"a[1] =\",a[1])\n",
        "print(\"a[1:3]\\n\",a[1:3])\n",
        "print(\"a[0:3]\\n\",a[0:3])\n",
        "print(\"a[1:]\\n\",a[1:])\n",
        "print(\"a[:]\\n\",a[:])\n",
        "\n",
        "print(\"a[1][2] =\",a[1][2])\n",
        "print(\"a[1,2] =\",a[1,2])"
      ],
      "execution_count": 4,
      "outputs": [
        {
          "output_type": "stream",
          "text": [
            "[[0 1 2]\n",
            " [3 4 5]]\n",
            "a[0] = [0 1 2]\n",
            "a[1] = [3 4 5]\n",
            "a[1:3]\n",
            " [[3 4 5]]\n",
            "a[0:3]\n",
            " [[0 1 2]\n",
            " [3 4 5]]\n",
            "a[1:]\n",
            " [[3 4 5]]\n",
            "a[:]\n",
            " [[0 1 2]\n",
            " [3 4 5]]\n",
            "a[1][2] = 5\n",
            "a[1,2] = 5\n"
          ],
          "name": "stdout"
        }
      ]
    },
    {
      "cell_type": "markdown",
      "metadata": {
        "id": "CyM_VixA9T9Z"
      },
      "source": [
        "특정 요소 1개를 참조할 때 a[1][2]는 a[1,2]로 표현해서 사용할 수 있다.\n",
        "\n",
        "마찬가지로 1개 값을 참조할 때는 a[1][2][3]은 a[1,2,3]의 값과 같다."
      ]
    },
    {
      "cell_type": "code",
      "metadata": {
        "id": "20bFLcQg9RbM"
      },
      "source": [
        ""
      ],
      "execution_count": 4,
      "outputs": []
    },
    {
      "cell_type": "markdown",
      "metadata": {
        "id": "SojDsjem9m4D"
      },
      "source": [
        "# numpy array 속성"
      ]
    },
    {
      "cell_type": "code",
      "metadata": {
        "colab": {
          "base_uri": "https://localhost:8080/"
        },
        "id": "9lGBp0EL6sTs",
        "outputId": "54158730-17c4-41e2-d499-97d9b7bf2203"
      },
      "source": [
        "a = np.array([0,1,2,3,4])\n",
        "\n",
        "print(a)\n",
        "print(\"a.shape =\", a.shape) # 데이터 모양\n",
        "print(\"a.ndim =\", a.ndim)   # 차원 수. number of dimension\n",
        "print(\"a.dtype =\", a.dtype) # 데이터 타입. data type"
      ],
      "execution_count": 5,
      "outputs": [
        {
          "output_type": "stream",
          "text": [
            "[0 1 2 3 4]\n",
            "a.shape = (5,)\n",
            "a.ndim = 1\n",
            "a.dtype = int64\n"
          ],
          "name": "stdout"
        }
      ]
    },
    {
      "cell_type": "markdown",
      "metadata": {
        "id": "ZCe0pAOX7Jp8"
      },
      "source": [
        "shape는 튜플로 표현된다.\n",
        "\n",
        "1차원이고 5개 값을 같는 넘파이 어레이는 튜플 (5,)의 모양을 갖는다."
      ]
    },
    {
      "cell_type": "code",
      "metadata": {
        "colab": {
          "base_uri": "https://localhost:8080/"
        },
        "id": "U2I2WPXz7Yf2",
        "outputId": "0aa1d969-80ca-4137-8afe-a2c7a4d5cb70"
      },
      "source": [
        "l = [ [0,1,2], [3,4,5] ]\n",
        "a = np.array(l)\n",
        "\n",
        "print(a)\n",
        "print(\"a.shape =\", a.shape)\n",
        "print(\"a.ndim =\", a.ndim)\n",
        "print(\"a.dtype =\", a.dtype)"
      ],
      "execution_count": 6,
      "outputs": [
        {
          "output_type": "stream",
          "text": [
            "[[0 1 2]\n",
            " [3 4 5]]\n",
            "a.shape = (2, 3)\n",
            "a.ndim = 2\n",
            "a.dtype = int64\n"
          ],
          "name": "stdout"
        }
      ]
    },
    {
      "cell_type": "markdown",
      "metadata": {
        "id": "RnpZmxry7qcP"
      },
      "source": [
        "이 경우는 2차원 배열.\n",
        "\n",
        "shape는 (2,3). \n",
        "\n",
        "행이 2개 이고, 열이 3개이다.\n",
        "\n",
        "혹은 2개의 데이터가 있고, 각 데이터는 3개의 값으로 이루어져 있다."
      ]
    },
    {
      "cell_type": "markdown",
      "metadata": {
        "id": "2kLA4z2_-YAH"
      },
      "source": [
        "# print array 유틸 함수 pa(), paf() 선언"
      ]
    },
    {
      "cell_type": "code",
      "metadata": {
        "id": "kPbzUP1M9-z9"
      },
      "source": [
        "def pa(a, message=None): # print array\n",
        "  if message!=None:\n",
        "    print(message)\n",
        "  print(a)\n",
        "  print()  \n",
        "\n",
        "def paf(a, message=None): # print array\n",
        "  message = message+\"\\n\" if message!=None else \"\"\n",
        "  message = \"{}shape={}, dimension={}, dtype={}\".format(message, a.shape, a.ndim, a.dtype)\n",
        "  pa(a, message)"
      ],
      "execution_count": 7,
      "outputs": []
    },
    {
      "cell_type": "code",
      "metadata": {
        "colab": {
          "base_uri": "https://localhost:8080/"
        },
        "id": "11P_lZW0-Njh",
        "outputId": "828ce770-6ffa-4362-9d31-9ff4810d44e4"
      },
      "source": [
        "a = np.array([0,1,2,3])\n",
        "paf(a)"
      ],
      "execution_count": 8,
      "outputs": [
        {
          "output_type": "stream",
          "text": [
            "shape=(4,), dimension=1, dtype=int64\n",
            "[0 1 2 3]\n",
            "\n"
          ],
          "name": "stdout"
        }
      ]
    },
    {
      "cell_type": "code",
      "metadata": {
        "colab": {
          "base_uri": "https://localhost:8080/"
        },
        "id": "ZW0eUZcQ-NJ0",
        "outputId": "f1ffd5fe-e676-40b1-fcde-b5a04314badd"
      },
      "source": [
        "a = np.array([[0,1,2], [3,4,5]])\n",
        "paf(a)"
      ],
      "execution_count": 9,
      "outputs": [
        {
          "output_type": "stream",
          "text": [
            "shape=(2, 3), dimension=2, dtype=int64\n",
            "[[0 1 2]\n",
            " [3 4 5]]\n",
            "\n"
          ],
          "name": "stdout"
        }
      ]
    },
    {
      "cell_type": "markdown",
      "metadata": {
        "id": "7Tt2FVzb-qfo"
      },
      "source": [
        "# numpy.arange()"
      ]
    },
    {
      "cell_type": "code",
      "metadata": {
        "colab": {
          "base_uri": "https://localhost:8080/"
        },
        "id": "CSeurtFW-VJg",
        "outputId": "9debe466-322a-4986-8ce7-a8e28d96a094"
      },
      "source": [
        "a = np.arange(12)\n",
        "paf(a)"
      ],
      "execution_count": 10,
      "outputs": [
        {
          "output_type": "stream",
          "text": [
            "shape=(12,), dimension=1, dtype=int64\n",
            "[ 0  1  2  3  4  5  6  7  8  9 10 11]\n",
            "\n"
          ],
          "name": "stdout"
        }
      ]
    },
    {
      "cell_type": "markdown",
      "metadata": {
        "id": "9nTQObBv-1Wt"
      },
      "source": [
        "np.arange(12)는 for i in range(12)에서 반복되는 정수들 값으로 numpy array를 생성한다.\n",
        "\n",
        "python의 range(start, end, step)의 파라매터 설정과 동일하다."
      ]
    },
    {
      "cell_type": "code",
      "metadata": {
        "colab": {
          "base_uri": "https://localhost:8080/"
        },
        "id": "7LRK__qf_yG7",
        "outputId": "e25090f0-bfe8-4592-f6dd-b6b121b5c472"
      },
      "source": [
        "a = np.arange(3,10)\n",
        "paf(a)"
      ],
      "execution_count": 11,
      "outputs": [
        {
          "output_type": "stream",
          "text": [
            "shape=(7,), dimension=1, dtype=int64\n",
            "[3 4 5 6 7 8 9]\n",
            "\n"
          ],
          "name": "stdout"
        }
      ]
    },
    {
      "cell_type": "code",
      "metadata": {
        "colab": {
          "base_uri": "https://localhost:8080/"
        },
        "id": "m-hd7Gfc_1Rh",
        "outputId": "4616a292-eb78-4c9b-8dc0-9501e83cc72f"
      },
      "source": [
        "a = np.arange(3,10,2)\n",
        "paf(a)"
      ],
      "execution_count": 12,
      "outputs": [
        {
          "output_type": "stream",
          "text": [
            "shape=(4,), dimension=1, dtype=int64\n",
            "[3 5 7 9]\n",
            "\n"
          ],
          "name": "stdout"
        }
      ]
    },
    {
      "cell_type": "markdown",
      "metadata": {
        "id": "TWKvt2Hr_qX0"
      },
      "source": [
        "# 모양 변경 - resahpe()"
      ]
    },
    {
      "cell_type": "code",
      "metadata": {
        "colab": {
          "base_uri": "https://localhost:8080/"
        },
        "id": "Upvh2LU6-vHM",
        "outputId": "66df6250-8000-49df-ff1f-5eecdee368b3"
      },
      "source": [
        "a = np.arange(12).reshape(3,4)\n",
        "paf(a)"
      ],
      "execution_count": 13,
      "outputs": [
        {
          "output_type": "stream",
          "text": [
            "shape=(3, 4), dimension=2, dtype=int64\n",
            "[[ 0  1  2  3]\n",
            " [ 4  5  6  7]\n",
            " [ 8  9 10 11]]\n",
            "\n"
          ],
          "name": "stdout"
        }
      ]
    },
    {
      "cell_type": "markdown",
      "metadata": {
        "id": "Y3RgUssZ_AsD"
      },
      "source": [
        "reshape(3,4)는 (3,4)의 모양으로 바꾼다."
      ]
    },
    {
      "cell_type": "code",
      "metadata": {
        "colab": {
          "base_uri": "https://localhost:8080/"
        },
        "id": "9146uY-5_FiH",
        "outputId": "0161e9a4-4091-4563-dcb7-cdc2af5d8a9c"
      },
      "source": [
        "a = np.arange(12)\n",
        "paf(a)\n",
        "\n",
        "a.reshape(3,4)\n",
        "paf(a,\"a.reshape(3,4)\")\n",
        "\n",
        "b = a.reshape(3,4)\n",
        "paf(b, \"b = a.reshape(3,4)\")\n",
        "\n",
        "a = np.arange(12).reshape(3,4)\n",
        "paf(a, \"a = np.arange(12).reshape(3,4)\")"
      ],
      "execution_count": 14,
      "outputs": [
        {
          "output_type": "stream",
          "text": [
            "shape=(12,), dimension=1, dtype=int64\n",
            "[ 0  1  2  3  4  5  6  7  8  9 10 11]\n",
            "\n",
            "a.reshape(3,4)\n",
            "shape=(12,), dimension=1, dtype=int64\n",
            "[ 0  1  2  3  4  5  6  7  8  9 10 11]\n",
            "\n",
            "b = a.reshape(3,4)\n",
            "shape=(3, 4), dimension=2, dtype=int64\n",
            "[[ 0  1  2  3]\n",
            " [ 4  5  6  7]\n",
            " [ 8  9 10 11]]\n",
            "\n",
            "a = np.arange(12).reshape(3,4)\n",
            "shape=(3, 4), dimension=2, dtype=int64\n",
            "[[ 0  1  2  3]\n",
            " [ 4  5  6  7]\n",
            " [ 8  9 10 11]]\n",
            "\n"
          ],
          "name": "stdout"
        }
      ]
    },
    {
      "cell_type": "markdown",
      "metadata": {
        "id": "IInqVlyn_SjC"
      },
      "source": [
        "reshape(3,4)는 자체의 모양을 바꾸지 않고, 모양을 바꾼 numpy array를 새로 생성해서 반환한다.\n",
        "\n",
        "그래서 반환된 것을 다른 변수로 받아야 한다."
      ]
    },
    {
      "cell_type": "code",
      "metadata": {
        "colab": {
          "base_uri": "https://localhost:8080/"
        },
        "id": "8nmzscHh_cr5",
        "outputId": "dd35aea9-7c62-41d0-b08f-b112212e59e3"
      },
      "source": [
        "a = np.arange(12).reshape(3,4)\n",
        "paf(a, \"reshape(3,4)\")\n",
        "\n",
        "a = np.arange(12).reshape(3,-1)\n",
        "paf(a, \"reshape(3,-1)\")\n",
        "\n",
        "a = np.arange(12).reshape(-1,4)\n",
        "paf(a, \"reshape(-1,4)\")"
      ],
      "execution_count": 15,
      "outputs": [
        {
          "output_type": "stream",
          "text": [
            "reshape(3,4)\n",
            "shape=(3, 4), dimension=2, dtype=int64\n",
            "[[ 0  1  2  3]\n",
            " [ 4  5  6  7]\n",
            " [ 8  9 10 11]]\n",
            "\n",
            "reshape(3,-1)\n",
            "shape=(3, 4), dimension=2, dtype=int64\n",
            "[[ 0  1  2  3]\n",
            " [ 4  5  6  7]\n",
            " [ 8  9 10 11]]\n",
            "\n",
            "reshape(-1,4)\n",
            "shape=(3, 4), dimension=2, dtype=int64\n",
            "[[ 0  1  2  3]\n",
            " [ 4  5  6  7]\n",
            " [ 8  9 10 11]]\n",
            "\n"
          ],
          "name": "stdout"
        }
      ]
    },
    {
      "cell_type": "markdown",
      "metadata": {
        "id": "aibmjCJNAYU7"
      },
      "source": [
        "reshape에 -1 값을 주면 나머지 차원의 크기를 가지고 유추한다."
      ]
    },
    {
      "cell_type": "code",
      "metadata": {
        "colab": {
          "base_uri": "https://localhost:8080/"
        },
        "id": "HRRWhHbuAXA3",
        "outputId": "ea7ded21-d42c-4073-d70a-b2e4d50af00f"
      },
      "source": [
        "a = np.arange(24).reshape(2,3,4)\n",
        "paf(a, \"reshape(2,3,4)\")\n",
        "\n",
        "a = np.arange(24).reshape(-1,3,4)\n",
        "paf(a, \"reshape(-1,3,4)\")\n",
        "\n",
        "a = np.arange(24).reshape(2,-1,4)\n",
        "paf(a, \"reshape(2,-1,4)\")\n",
        "\n",
        "a = np.arange(24).reshape(2,3,-4)\n",
        "paf(a, \"reshape(2,3,-4)\")"
      ],
      "execution_count": 16,
      "outputs": [
        {
          "output_type": "stream",
          "text": [
            "reshape(2,3,4)\n",
            "shape=(2, 3, 4), dimension=3, dtype=int64\n",
            "[[[ 0  1  2  3]\n",
            "  [ 4  5  6  7]\n",
            "  [ 8  9 10 11]]\n",
            "\n",
            " [[12 13 14 15]\n",
            "  [16 17 18 19]\n",
            "  [20 21 22 23]]]\n",
            "\n",
            "reshape(-1,3,4)\n",
            "shape=(2, 3, 4), dimension=3, dtype=int64\n",
            "[[[ 0  1  2  3]\n",
            "  [ 4  5  6  7]\n",
            "  [ 8  9 10 11]]\n",
            "\n",
            " [[12 13 14 15]\n",
            "  [16 17 18 19]\n",
            "  [20 21 22 23]]]\n",
            "\n",
            "reshape(2,-1,4)\n",
            "shape=(2, 3, 4), dimension=3, dtype=int64\n",
            "[[[ 0  1  2  3]\n",
            "  [ 4  5  6  7]\n",
            "  [ 8  9 10 11]]\n",
            "\n",
            " [[12 13 14 15]\n",
            "  [16 17 18 19]\n",
            "  [20 21 22 23]]]\n",
            "\n",
            "reshape(2,3,-4)\n",
            "shape=(2, 3, 4), dimension=3, dtype=int64\n",
            "[[[ 0  1  2  3]\n",
            "  [ 4  5  6  7]\n",
            "  [ 8  9 10 11]]\n",
            "\n",
            " [[12 13 14 15]\n",
            "  [16 17 18 19]\n",
            "  [20 21 22 23]]]\n",
            "\n"
          ],
          "name": "stdout"
        }
      ]
    },
    {
      "cell_type": "markdown",
      "metadata": {
        "id": "IXJgJz1JCNCy"
      },
      "source": [
        "# 생성 방법\n",
        "```\n",
        "np.zeros()\n",
        "np.ones()\n",
        "np.full()\n",
        "np.zeros_like()\n",
        "np.ones_like()\n",
        "np.full_liek()\n",
        "\n",
        "np.eye()\n",
        "```"
      ]
    },
    {
      "cell_type": "markdown",
      "metadata": {
        "id": "qKvp7fGXETun"
      },
      "source": [
        "## numpy.zeros(), ones(), full()"
      ]
    },
    {
      "cell_type": "code",
      "metadata": {
        "colab": {
          "base_uri": "https://localhost:8080/"
        },
        "id": "P677y13SCOzJ",
        "outputId": "5edd36ba-b130-4031-eb6c-cc344f2f67a8"
      },
      "source": [
        "a = np.zeros((3,4))\n",
        "paf(a)"
      ],
      "execution_count": 17,
      "outputs": [
        {
          "output_type": "stream",
          "text": [
            "shape=(3, 4), dimension=2, dtype=float64\n",
            "[[0. 0. 0. 0.]\n",
            " [0. 0. 0. 0.]\n",
            " [0. 0. 0. 0.]]\n",
            "\n"
          ],
          "name": "stdout"
        }
      ]
    },
    {
      "cell_type": "code",
      "metadata": {
        "colab": {
          "base_uri": "https://localhost:8080/"
        },
        "id": "yUWR68u9CmkP",
        "outputId": "4b42e707-e920-4e7c-baf2-a91d60a1ac31"
      },
      "source": [
        "a = np.zeros((3,4), dtype=int)\n",
        "paf(a)"
      ],
      "execution_count": 18,
      "outputs": [
        {
          "output_type": "stream",
          "text": [
            "shape=(3, 4), dimension=2, dtype=int64\n",
            "[[0 0 0 0]\n",
            " [0 0 0 0]\n",
            " [0 0 0 0]]\n",
            "\n"
          ],
          "name": "stdout"
        }
      ]
    },
    {
      "cell_type": "code",
      "metadata": {
        "colab": {
          "base_uri": "https://localhost:8080/"
        },
        "id": "ImUcaE-3CtGx",
        "outputId": "3dd21e62-3338-43b2-c591-521c0f28df78"
      },
      "source": [
        "a = np.zeros((3,4), dtype=np.int)\n",
        "paf(a)"
      ],
      "execution_count": 19,
      "outputs": [
        {
          "output_type": "stream",
          "text": [
            "shape=(3, 4), dimension=2, dtype=int64\n",
            "[[0 0 0 0]\n",
            " [0 0 0 0]\n",
            " [0 0 0 0]]\n",
            "\n"
          ],
          "name": "stdout"
        }
      ]
    },
    {
      "cell_type": "markdown",
      "metadata": {
        "id": "GncXI3aBC0y-"
      },
      "source": [
        "설정할 수 있는 dtype(data type)은 python의 int, float 들과 numpy의 int, int0, int8 등등 가능하다."
      ]
    },
    {
      "cell_type": "code",
      "metadata": {
        "id": "mVQmOoEJDIv5"
      },
      "source": [
        "a = np.arange(12).reshape(3,4)\n",
        "b = np.zeros((3,4))"
      ],
      "execution_count": 20,
      "outputs": []
    },
    {
      "cell_type": "markdown",
      "metadata": {
        "id": "boa41lDFDox4"
      },
      "source": [
        "기본적으로 대부분의 함수 호출에서 shape를 전달할 때는 (3,4)와 같이 튜플로 전달한다.\n",
        "\n",
        "그런데 reshape()의 경우 shape를 전달 할 때는 (3,4)와 같은 튜플이 아닌 그냥 3,4와 같이 값들로 전달한다.\n"
      ]
    },
    {
      "cell_type": "code",
      "metadata": {
        "colab": {
          "base_uri": "https://localhost:8080/"
        },
        "id": "gnwS5_qVCf48",
        "outputId": "c5ed089a-2a93-422c-8501-b84e0f068d9d"
      },
      "source": [
        "a = np.ones((3,4))\n",
        "paf(a)"
      ],
      "execution_count": 21,
      "outputs": [
        {
          "output_type": "stream",
          "text": [
            "shape=(3, 4), dimension=2, dtype=float64\n",
            "[[1. 1. 1. 1.]\n",
            " [1. 1. 1. 1.]\n",
            " [1. 1. 1. 1.]]\n",
            "\n"
          ],
          "name": "stdout"
        }
      ]
    },
    {
      "cell_type": "code",
      "metadata": {
        "colab": {
          "base_uri": "https://localhost:8080/"
        },
        "id": "d5m8DnoaDv85",
        "outputId": "634e5f43-85ef-4476-a671-fcf639f7bac1"
      },
      "source": [
        "a = np.full((3,4), 9)\n",
        "paf(a)"
      ],
      "execution_count": 22,
      "outputs": [
        {
          "output_type": "stream",
          "text": [
            "shape=(3, 4), dimension=2, dtype=int64\n",
            "[[9 9 9 9]\n",
            " [9 9 9 9]\n",
            " [9 9 9 9]]\n",
            "\n"
          ],
          "name": "stdout"
        }
      ]
    },
    {
      "cell_type": "markdown",
      "metadata": {
        "id": "JrhLpMuzEQQ_"
      },
      "source": [
        "## numpy.xxx_like()"
      ]
    },
    {
      "cell_type": "code",
      "metadata": {
        "colab": {
          "base_uri": "https://localhost:8080/"
        },
        "id": "K6FruRRpD9Yc",
        "outputId": "c09acf39-6d72-4966-8f55-3ad1a88b488d"
      },
      "source": [
        "a = np.arange(12).reshape(3,4)\n",
        "b = np.zeros_like(a)\n",
        "paf(b)"
      ],
      "execution_count": 23,
      "outputs": [
        {
          "output_type": "stream",
          "text": [
            "shape=(3, 4), dimension=2, dtype=int64\n",
            "[[0 0 0 0]\n",
            " [0 0 0 0]\n",
            " [0 0 0 0]]\n",
            "\n"
          ],
          "name": "stdout"
        }
      ]
    },
    {
      "cell_type": "code",
      "metadata": {
        "colab": {
          "base_uri": "https://localhost:8080/"
        },
        "id": "kfm2m0vDCln3",
        "outputId": "c46815d0-86c7-4bd7-e10d-d659bc40bfdb"
      },
      "source": [
        "a = np.arange(12).reshape(3,4)\n",
        "b = np.ones_like(a)\n",
        "paf(b)"
      ],
      "execution_count": 24,
      "outputs": [
        {
          "output_type": "stream",
          "text": [
            "shape=(3, 4), dimension=2, dtype=int64\n",
            "[[1 1 1 1]\n",
            " [1 1 1 1]\n",
            " [1 1 1 1]]\n",
            "\n"
          ],
          "name": "stdout"
        }
      ]
    },
    {
      "cell_type": "code",
      "metadata": {
        "colab": {
          "base_uri": "https://localhost:8080/"
        },
        "id": "oZoP80OoEB3H",
        "outputId": "e55a8008-90e5-4a31-9729-3d8f2e672fe0"
      },
      "source": [
        "a = np.arange(12).reshape(3,4)\n",
        "b = np.full_like(a,9)\n",
        "paf(b)"
      ],
      "execution_count": 25,
      "outputs": [
        {
          "output_type": "stream",
          "text": [
            "shape=(3, 4), dimension=2, dtype=int64\n",
            "[[9 9 9 9]\n",
            " [9 9 9 9]\n",
            " [9 9 9 9]]\n",
            "\n"
          ],
          "name": "stdout"
        }
      ]
    },
    {
      "cell_type": "markdown",
      "metadata": {
        "id": "T1axs0akEND2"
      },
      "source": [
        "## numpy.eye()"
      ]
    },
    {
      "cell_type": "code",
      "metadata": {
        "colab": {
          "base_uri": "https://localhost:8080/"
        },
        "id": "suuKjP_3EOS0",
        "outputId": "2650f442-8d04-4197-89ec-9358ef7edfb4"
      },
      "source": [
        "a = np.eye(3)\n",
        "paf(a)"
      ],
      "execution_count": 26,
      "outputs": [
        {
          "output_type": "stream",
          "text": [
            "shape=(3, 3), dimension=2, dtype=float64\n",
            "[[1. 0. 0.]\n",
            " [0. 1. 0.]\n",
            " [0. 0. 1.]]\n",
            "\n"
          ],
          "name": "stdout"
        }
      ]
    },
    {
      "cell_type": "code",
      "metadata": {
        "colab": {
          "base_uri": "https://localhost:8080/"
        },
        "id": "xGiqbQhREZir",
        "outputId": "ca87c228-fe84-4da8-f1bc-5ef16e41e772"
      },
      "source": [
        "a = np.eye(5)\n",
        "paf(a)"
      ],
      "execution_count": 27,
      "outputs": [
        {
          "output_type": "stream",
          "text": [
            "shape=(5, 5), dimension=2, dtype=float64\n",
            "[[1. 0. 0. 0. 0.]\n",
            " [0. 1. 0. 0. 0.]\n",
            " [0. 0. 1. 0. 0.]\n",
            " [0. 0. 0. 1. 0.]\n",
            " [0. 0. 0. 0. 1.]]\n",
            "\n"
          ],
          "name": "stdout"
        }
      ]
    },
    {
      "cell_type": "markdown",
      "metadata": {
        "id": "Kh-fSiL6Efpe"
      },
      "source": [
        "# 랜덤값 생성"
      ]
    },
    {
      "cell_type": "markdown",
      "metadata": {
        "id": "iT7XKIBYEuZY"
      },
      "source": [
        "## random.rand() - 균일 분포\n",
        "\n",
        "0~1 사이의 랜덤 값"
      ]
    },
    {
      "cell_type": "code",
      "metadata": {
        "colab": {
          "base_uri": "https://localhost:8080/"
        },
        "id": "3J-elhY0Eb7T",
        "outputId": "a7dccb8e-fca8-491a-c474-3a38b111e544"
      },
      "source": [
        "a = np.random.rand(10)\n",
        "paf(a)"
      ],
      "execution_count": 28,
      "outputs": [
        {
          "output_type": "stream",
          "text": [
            "shape=(10,), dimension=1, dtype=float64\n",
            "[0.80766515 0.05779151 0.04767833 0.99349897 0.02464331 0.20765442\n",
            " 0.70306882 0.18226527 0.51490508 0.74830849]\n",
            "\n"
          ],
          "name": "stdout"
        }
      ]
    },
    {
      "cell_type": "markdown",
      "metadata": {
        "id": "jsfp8R25EqFY"
      },
      "source": [
        "0.0 ~ 1.0 사이의 실수 값을 생성한다."
      ]
    },
    {
      "cell_type": "code",
      "metadata": {
        "colab": {
          "base_uri": "https://localhost:8080/",
          "height": 265
        },
        "id": "GIfv5Ym7Et40",
        "outputId": "b1c754cd-b490-4e8d-9612-3fdfa377779b"
      },
      "source": [
        "a = np.random.rand(10000)\n",
        "\n",
        "import matplotlib.pyplot as plt\n",
        "plt.hist(a, bins=100)\n",
        "plt.show()"
      ],
      "execution_count": 29,
      "outputs": [
        {
          "output_type": "display_data",
          "data": {
            "image/png": "[encoded data removed]",
            "text/plain": [
              "<Figure size 432x288 with 1 Axes>"
            ]
          },
          "metadata": {
            "tags": [],
            "needs_background": "light"
          }
        }
      ]
    },
    {
      "cell_type": "code",
      "metadata": {
        "colab": {
          "base_uri": "https://localhost:8080/"
        },
        "id": "E820WQMaJGTw",
        "outputId": "c38b296e-d7f8-4680-a32d-4842e8fb6f5a"
      },
      "source": [
        "a = np.random.rand(3,4)\n",
        "paf(a)"
      ],
      "execution_count": 30,
      "outputs": [
        {
          "output_type": "stream",
          "text": [
            "shape=(3, 4), dimension=2, dtype=float64\n",
            "[[0.20158239 0.41542751 0.71559019 0.31998776]\n",
            " [0.49412704 0.99676997 0.97556191 0.35991507]\n",
            " [0.52223431 0.9745833  0.34221474 0.40789858]]\n",
            "\n"
          ],
          "name": "stdout"
        }
      ]
    },
    {
      "cell_type": "markdown",
      "metadata": {
        "id": "oBfO-XBBE53l"
      },
      "source": [
        "### Quiz. 1~6 사이의 주사위 값 10개 생성"
      ]
    },
    {
      "cell_type": "code",
      "metadata": {
        "colab": {
          "base_uri": "https://localhost:8080/"
        },
        "id": "fdiJubJXE1F-",
        "outputId": "031595db-9745-4f90-f813-956c8c85c87d"
      },
      "source": [
        "a = np.ceil(np.random.rand(12)*6).astype(int)\n",
        "paf(a)"
      ],
      "execution_count": 31,
      "outputs": [
        {
          "output_type": "stream",
          "text": [
            "shape=(12,), dimension=1, dtype=int64\n",
            "[6 2 6 3 2 3 4 2 3 4 3 4]\n",
            "\n"
          ],
          "name": "stdout"
        }
      ]
    },
    {
      "cell_type": "code",
      "metadata": {
        "colab": {
          "base_uri": "https://localhost:8080/"
        },
        "id": "DT2ylLy5E-fd",
        "outputId": "59c985fc-9024-43b9-ff4e-5bdc80312a17"
      },
      "source": [
        "a = np.random.randint(1, 7, size=12)\n",
        "paf(a)"
      ],
      "execution_count": 32,
      "outputs": [
        {
          "output_type": "stream",
          "text": [
            "shape=(12,), dimension=1, dtype=int64\n",
            "[5 1 6 1 3 4 6 1 2 6 2 3]\n",
            "\n"
          ],
          "name": "stdout"
        }
      ]
    },
    {
      "cell_type": "markdown",
      "metadata": {
        "id": "DJbBtK7QJU2h"
      },
      "source": [
        "random.rand(최소값, 최대값, size)"
      ]
    },
    {
      "cell_type": "code",
      "metadata": {
        "colab": {
          "base_uri": "https://localhost:8080/"
        },
        "id": "OGiQejhoFR-5",
        "outputId": "48486ff8-cce2-4bd9-a920-8a422c3c802d"
      },
      "source": [
        "a = np.random.randint(1, 7, size=(3,4))\n",
        "paf(a)"
      ],
      "execution_count": 33,
      "outputs": [
        {
          "output_type": "stream",
          "text": [
            "shape=(3, 4), dimension=2, dtype=int64\n",
            "[[6 3 2 2]\n",
            " [3 2 2 3]\n",
            " [1 4 5 4]]\n",
            "\n"
          ],
          "name": "stdout"
        }
      ]
    },
    {
      "cell_type": "markdown",
      "metadata": {
        "id": "b_QIqU_7Faxa"
      },
      "source": [
        "## random.rand() - 자연분포\n",
        "평균 0, 분산 1의 자연분포의 랜덤 값"
      ]
    },
    {
      "cell_type": "code",
      "metadata": {
        "colab": {
          "base_uri": "https://localhost:8080/"
        },
        "id": "diJkurqiF4vg",
        "outputId": "8c44bb98-61c0-49f9-e744-a26ed06ba4f3"
      },
      "source": [
        " a = np.random.randn(10)\n",
        " paf(a)"
      ],
      "execution_count": 34,
      "outputs": [
        {
          "output_type": "stream",
          "text": [
            "shape=(10,), dimension=1, dtype=float64\n",
            "[-0.70801157 -0.49777664  0.92939457  0.21549183  0.9941236  -0.11493313\n",
            "  0.53711129 -1.34512615 -0.4865359  -0.71839365]\n",
            "\n"
          ],
          "name": "stdout"
        }
      ]
    },
    {
      "cell_type": "code",
      "metadata": {
        "colab": {
          "base_uri": "https://localhost:8080/"
        },
        "id": "vg70uZejFR7X",
        "outputId": "dd80435b-0143-4f3d-9144-16fbdff52215"
      },
      "source": [
        " a = np.random.randn(3,4)\n",
        " paf(a)"
      ],
      "execution_count": 35,
      "outputs": [
        {
          "output_type": "stream",
          "text": [
            "shape=(3, 4), dimension=2, dtype=float64\n",
            "[[ 0.11314027 -0.80917778 -2.01917962  1.7624864 ]\n",
            " [-0.18769248  0.32737454  0.88985877  1.37121664]\n",
            " [-0.01535333 -0.92674612 -0.84985342  0.18126369]]\n",
            "\n"
          ],
          "name": "stdout"
        }
      ]
    },
    {
      "cell_type": "code",
      "metadata": {
        "colab": {
          "base_uri": "https://localhost:8080/",
          "height": 265
        },
        "id": "9cI-4ngzFR32",
        "outputId": "e69f2959-7cea-4b35-d32b-af7d8e622c98"
      },
      "source": [
        " a = np.random.randn(1000)\n",
        "\n",
        "import matplotlib.pyplot as plt\n",
        "plt.hist(a, bins=100)\n",
        "plt.show()"
      ],
      "execution_count": 36,
      "outputs": [
        {
          "output_type": "display_data",
          "data": {
            "image/png": "[encoded data removed]",
            "text/plain": [
              "<Figure size 432x288 with 1 Axes>"
            ]
          },
          "metadata": {
            "tags": [],
            "needs_background": "light"
          }
        }
      ]
    },
    {
      "cell_type": "markdown",
      "metadata": {
        "id": "QImdRykDNwAw"
      },
      "source": [
        "## random.noraml() - 특정 평균 분산의 자연분포"
      ]
    },
    {
      "cell_type": "code",
      "metadata": {
        "colab": {
          "base_uri": "https://localhost:8080/",
          "height": 547
        },
        "id": "Jv5hb4eCKZEd",
        "outputId": "4557721c-e631-4163-fa62-4326d0d07b5c"
      },
      "source": [
        "a = np.random.randn(30,40)\n",
        "print(a.shape)\n",
        "plt.hist(a.flatten(), bins=100)\n",
        "plt.show()\n",
        "\n",
        "a = np.random.normal(0, 1, size=(30,40))\n",
        "print(a.shape)\n",
        "plt.hist(a.flatten(), bins=100)\n",
        "plt.show()\n"
      ],
      "execution_count": 37,
      "outputs": [
        {
          "output_type": "stream",
          "text": [
            "(30, 40)\n"
          ],
          "name": "stdout"
        },
        {
          "output_type": "display_data",
          "data": {
            "image/png": "[encoded data removed]",
            "text/plain": [
              "<Figure size 432x288 with 1 Axes>"
            ]
          },
          "metadata": {
            "tags": [],
            "needs_background": "light"
          }
        },
        {
          "output_type": "stream",
          "text": [
            "(30, 40)\n"
          ],
          "name": "stdout"
        },
        {
          "output_type": "display_data",
          "data": {
            "image/png": "[encoded data removed]",
            "text/plain": [
              "<Figure size 432x288 with 1 Axes>"
            ]
          },
          "metadata": {
            "tags": [],
            "needs_background": "light"
          }
        }
      ]
    },
    {
      "cell_type": "markdown",
      "metadata": {
        "id": "2ryRxbjGLtbf"
      },
      "source": [
        "randn()은 평균 0, 분산 1으로 고정된다. 파라매터는 전부 shape 값들\n",
        "\n",
        "normal()을 평균과 분산을 파라매터로 받는다. 그리고 shape는 size 파라매터로 tuple로 받는다."
      ]
    },
    {
      "cell_type": "markdown",
      "metadata": {
        "id": "_8fgxQ1VOfCk"
      },
      "source": [
        "# 슬라이싱\n",
        "\n",
        "![대체 텍스트](https://github.com/dhrim/hongik_2021/raw/master/material/library/images/slice1.png)\n",
        "image from http://taewan.kim/post/numpy_cheat_sheet/"
      ]
    },
    {
      "cell_type": "code",
      "metadata": {
        "colab": {
          "base_uri": "https://localhost:8080/"
        },
        "id": "Dl_6GEc3K90G",
        "outputId": "cafabcd7-271e-4309-bb5b-8e49898892ed"
      },
      "source": [
        "a = np.arange(20).reshape(4,5)\n",
        "pa(a)\n",
        "\n",
        "pa(a[1:3], \"a[1:3]\")"
      ],
      "execution_count": 38,
      "outputs": [
        {
          "output_type": "stream",
          "text": [
            "[[ 0  1  2  3  4]\n",
            " [ 5  6  7  8  9]\n",
            " [10 11 12 13 14]\n",
            " [15 16 17 18 19]]\n",
            "\n",
            "a[1:3]\n",
            "[[ 5  6  7  8  9]\n",
            " [10 11 12 13 14]]\n",
            "\n"
          ],
          "name": "stdout"
        }
      ]
    },
    {
      "cell_type": "code",
      "metadata": {
        "colab": {
          "base_uri": "https://localhost:8080/"
        },
        "id": "vk8VEk6bMzI8",
        "outputId": "a0bb4cec-e83f-4c4c-d711-041f3c609464"
      },
      "source": [
        "a = np.arange(20).reshape(4,5)\n",
        "pa(a)\n",
        "\n",
        "pa(a[:,1:3], \"a[:,1:3]\")"
      ],
      "execution_count": 39,
      "outputs": [
        {
          "output_type": "stream",
          "text": [
            "[[ 0  1  2  3  4]\n",
            " [ 5  6  7  8  9]\n",
            " [10 11 12 13 14]\n",
            " [15 16 17 18 19]]\n",
            "\n",
            "a[:,1:3]\n",
            "[[ 1  2]\n",
            " [ 6  7]\n",
            " [11 12]\n",
            " [16 17]]\n",
            "\n"
          ],
          "name": "stdout"
        }
      ]
    },
    {
      "cell_type": "code",
      "metadata": {
        "colab": {
          "base_uri": "https://localhost:8080/"
        },
        "id": "EWeZAgqpO9SE",
        "outputId": "bc4295ad-0712-4cbe-d29b-63442afe512f"
      },
      "source": [
        "a = np.arange(20).reshape(4,5)\n",
        "pa(a)\n",
        "\n",
        "pa(a[1:3,1:3], \"a[1:3,1:3]\")"
      ],
      "execution_count": 40,
      "outputs": [
        {
          "output_type": "stream",
          "text": [
            "[[ 0  1  2  3  4]\n",
            " [ 5  6  7  8  9]\n",
            " [10 11 12 13 14]\n",
            " [15 16 17 18 19]]\n",
            "\n",
            "a[1:3,1:3]\n",
            "[[ 6  7]\n",
            " [11 12]]\n",
            "\n"
          ],
          "name": "stdout"
        }
      ]
    },
    {
      "cell_type": "code",
      "metadata": {
        "colab": {
          "base_uri": "https://localhost:8080/"
        },
        "id": "nIRL_3rgPAy1",
        "outputId": "4e863c26-42b0-4893-e046-9be4a6cf1548"
      },
      "source": [
        "a = np.arange(20).reshape(4,5)\n",
        "pa(a)\n",
        "\n",
        "pa(a[1:3], \"a[1:3]\")\n",
        "\n",
        "pa(a[1:3][1:3], \"a[1:3][1:3]\")"
      ],
      "execution_count": 41,
      "outputs": [
        {
          "output_type": "stream",
          "text": [
            "[[ 0  1  2  3  4]\n",
            " [ 5  6  7  8  9]\n",
            " [10 11 12 13 14]\n",
            " [15 16 17 18 19]]\n",
            "\n",
            "a[1:3]\n",
            "[[ 5  6  7  8  9]\n",
            " [10 11 12 13 14]]\n",
            "\n",
            "a[1:3][1:3]\n",
            "[[10 11 12 13 14]]\n",
            "\n"
          ],
          "name": "stdout"
        }
      ]
    },
    {
      "cell_type": "markdown",
      "metadata": {
        "id": "voVDdqImPOcj"
      },
      "source": [
        "a[1:3][1:3] 하고 a[1:3,1:3]은 다르다.\n"
      ]
    },
    {
      "cell_type": "code",
      "metadata": {
        "colab": {
          "base_uri": "https://localhost:8080/"
        },
        "id": "E4Hy0qrEPUNo",
        "outputId": "216e2e71-d69d-4791-f4ff-b311ec5e2924"
      },
      "source": [
        "a = np.arange(20).reshape(4,5)\n",
        "pa(a)\n",
        "\n",
        "pa(a[1:3], \"a[1:3]\")\n",
        "\n",
        "b = a[1:3]\n",
        "pa(b, \"b = a[1:3]\")\n",
        "\n",
        "pa(b[1:3], \"b[1:3] = a[1:3][1:3]\")\n",
        "\n",
        "pa(a[1:31:3], \"a[1:31:3]\")"
      ],
      "execution_count": 42,
      "outputs": [
        {
          "output_type": "stream",
          "text": [
            "[[ 0  1  2  3  4]\n",
            " [ 5  6  7  8  9]\n",
            " [10 11 12 13 14]\n",
            " [15 16 17 18 19]]\n",
            "\n",
            "a[1:3]\n",
            "[[ 5  6  7  8  9]\n",
            " [10 11 12 13 14]]\n",
            "\n",
            "b = a[1:3]\n",
            "[[ 5  6  7  8  9]\n",
            " [10 11 12 13 14]]\n",
            "\n",
            "b[1:3] = a[1:3][1:3]\n",
            "[[10 11 12 13 14]]\n",
            "\n",
            "a[1:31:3]\n",
            "[[5 6 7 8 9]]\n",
            "\n"
          ],
          "name": "stdout"
        }
      ]
    },
    {
      "cell_type": "markdown",
      "metadata": {
        "id": "GXqee6WgP682"
      },
      "source": [
        "a[1:3][1:3]은   어레이 a[1:3]의  [1:3]이다. \n",
        "\n",
        "하지만 a[1:3,1:3]은 어레이 a의 행 1:3과 열 1:3 한번에 슬라이싱 한다."
      ]
    },
    {
      "cell_type": "markdown",
      "metadata": {
        "id": "zrOhfsJ5Q3Wx"
      },
      "source": [
        "# 값 설정"
      ]
    },
    {
      "cell_type": "code",
      "metadata": {
        "colab": {
          "base_uri": "https://localhost:8080/"
        },
        "id": "CDEpsuSYQ_2G",
        "outputId": "a6ac4f1d-65fd-427d-fa6d-bcabfd0269be"
      },
      "source": [
        "a = np.arange(12).reshape(3,4)\n",
        "pa(a)\n",
        "\n",
        "a[1,2] = -1\n",
        "pa(a, \"a[1,2] = -1\")\n",
        "\n",
        "a[1,1:3] = -1\n",
        "pa(a, \"a[1:3] = -1\")\n",
        "\n",
        "a[1] = -1\n",
        "pa(a, \"a[1] = -1\")\n",
        "\n",
        "a[1:] = -1\n",
        "pa(a, \"a[:1] = -1\")\n"
      ],
      "execution_count": 43,
      "outputs": [
        {
          "output_type": "stream",
          "text": [
            "[[ 0  1  2  3]\n",
            " [ 4  5  6  7]\n",
            " [ 8  9 10 11]]\n",
            "\n",
            "a[1,2] = -1\n",
            "[[ 0  1  2  3]\n",
            " [ 4  5 -1  7]\n",
            " [ 8  9 10 11]]\n",
            "\n",
            "a[1:3] = -1\n",
            "[[ 0  1  2  3]\n",
            " [ 4 -1 -1  7]\n",
            " [ 8  9 10 11]]\n",
            "\n",
            "a[1] = -1\n",
            "[[ 0  1  2  3]\n",
            " [-1 -1 -1 -1]\n",
            " [ 8  9 10 11]]\n",
            "\n",
            "a[:1] = -1\n",
            "[[ 0  1  2  3]\n",
            " [-1 -1 -1 -1]\n",
            " [-1 -1 -1 -1]]\n",
            "\n"
          ],
          "name": "stdout"
        }
      ]
    },
    {
      "cell_type": "code",
      "metadata": {
        "colab": {
          "base_uri": "https://localhost:8080/"
        },
        "id": "YP_MQoyBRe2Y",
        "outputId": "9b723400-d933-4510-938b-14ef0bb995c7"
      },
      "source": [
        "a = np.arange(12).reshape(3,4)\n",
        "pa(a)\n",
        "\n",
        "a[:,1] = -1\n",
        "pa(a, \"pa[:,1] = -1\")\n",
        "\n",
        "a[:,1:3] = -1\n",
        "pa(a, \"pa[:,1:3] = -1\")\n"
      ],
      "execution_count": 44,
      "outputs": [
        {
          "output_type": "stream",
          "text": [
            "[[ 0  1  2  3]\n",
            " [ 4  5  6  7]\n",
            " [ 8  9 10 11]]\n",
            "\n",
            "pa[:,1] = -1\n",
            "[[ 0 -1  2  3]\n",
            " [ 4 -1  6  7]\n",
            " [ 8 -1 10 11]]\n",
            "\n",
            "pa[:,1:3] = -1\n",
            "[[ 0 -1 -1  3]\n",
            " [ 4 -1 -1  7]\n",
            " [ 8 -1 -1 11]]\n",
            "\n"
          ],
          "name": "stdout"
        }
      ]
    },
    {
      "cell_type": "code",
      "metadata": {
        "colab": {
          "base_uri": "https://localhost:8080/"
        },
        "id": "e5Lqf5tyRskx",
        "outputId": "f4172111-fd99-4189-a070-b2bdd644bc65"
      },
      "source": [
        "a = np.arange(12).reshape(3,4)\n",
        "pa(a)\n",
        "\n",
        "a[1:2,1:3] = -1\n",
        "pa(a, \"pa[1:2,1:3] = -1\")"
      ],
      "execution_count": 45,
      "outputs": [
        {
          "output_type": "stream",
          "text": [
            "[[ 0  1  2  3]\n",
            " [ 4  5  6  7]\n",
            " [ 8  9 10 11]]\n",
            "\n",
            "pa[1:2,1:3] = -1\n",
            "[[ 0  1  2  3]\n",
            " [ 4 -1 -1  7]\n",
            " [ 8  9 10 11]]\n",
            "\n"
          ],
          "name": "stdout"
        }
      ]
    },
    {
      "cell_type": "markdown",
      "metadata": {
        "id": "z9G3pzgITTVW"
      },
      "source": [
        "## Quiz. 다음의 어레이를 생성\n",
        "```\n",
        "[ 1. 1. 1. 1. 1.] \n",
        "[ 1. 0. 0. 0. 1.] \n",
        "[ 1. 0. 0. 0. 1.] \n",
        "[ 1. 0. 0. 0. 1.] \n",
        "[ 1. 1. 1. 1. 1.]\n",
        "```"
      ]
    },
    {
      "cell_type": "code",
      "metadata": {
        "colab": {
          "base_uri": "https://localhost:8080/"
        },
        "id": "zv9zaDq_TakR",
        "outputId": "a511322d-353b-4bfa-89f8-286c39fdc68a"
      },
      "source": [
        "a = np.ones((5,5))\n",
        "a[1:4,1:4] = 0\n",
        "pa(a)"
      ],
      "execution_count": 46,
      "outputs": [
        {
          "output_type": "stream",
          "text": [
            "[[1. 1. 1. 1. 1.]\n",
            " [1. 0. 0. 0. 1.]\n",
            " [1. 0. 0. 0. 1.]\n",
            " [1. 0. 0. 0. 1.]\n",
            " [1. 1. 1. 1. 1.]]\n",
            "\n"
          ],
          "name": "stdout"
        }
      ]
    },
    {
      "cell_type": "markdown",
      "metadata": {
        "id": "dsDF9fsnTm6R"
      },
      "source": [
        "## Quiz. 짝수 행의 값들을 0으로 설정\n",
        "```\n",
        "[[ 0  1  2  3]\n",
        " [ 4  5  6  7]\n",
        " [ 8  9 10 11]\n",
        " [12 13 14 15]\n",
        " [16 17 18 19]]\n",
        "```"
      ]
    },
    {
      "cell_type": "code",
      "metadata": {
        "colab": {
          "base_uri": "https://localhost:8080/"
        },
        "id": "_4Cw4tAxTi3q",
        "outputId": "0a620553-18b7-486d-a37e-e05971d03e6c"
      },
      "source": [
        "a = np.arange(20).reshape(5,4)\n",
        "pa(a)\n",
        "\n",
        "a[::2] = 0\n",
        "pa(a)"
      ],
      "execution_count": 47,
      "outputs": [
        {
          "output_type": "stream",
          "text": [
            "[[ 0  1  2  3]\n",
            " [ 4  5  6  7]\n",
            " [ 8  9 10 11]\n",
            " [12 13 14 15]\n",
            " [16 17 18 19]]\n",
            "\n",
            "[[ 0  0  0  0]\n",
            " [ 4  5  6  7]\n",
            " [ 0  0  0  0]\n",
            " [12 13 14 15]\n",
            " [ 0  0  0  0]]\n",
            "\n"
          ],
          "name": "stdout"
        }
      ]
    },
    {
      "cell_type": "markdown",
      "metadata": {
        "id": "U1xP47_LT1MH"
      },
      "source": [
        "## Quiz. 다음 어레이를 생성\n",
        "```\n",
        "[0,1,0,1,0,1,0,1]\n",
        "```"
      ]
    },
    {
      "cell_type": "code",
      "metadata": {
        "colab": {
          "base_uri": "https://localhost:8080/"
        },
        "id": "iQX1l2iXT6bG",
        "outputId": "8f323284-0c8f-4025-c540-2c9c0ab50162"
      },
      "source": [
        "a = np.zeros(8)\n",
        "a[1::2] = 1\n",
        "pa(a)"
      ],
      "execution_count": 48,
      "outputs": [
        {
          "output_type": "stream",
          "text": [
            "[0. 1. 0. 1. 0. 1. 0. 1.]\n",
            "\n"
          ],
          "name": "stdout"
        }
      ]
    },
    {
      "cell_type": "markdown",
      "metadata": {
        "id": "auu--lgKUD6R"
      },
      "source": [
        "# 어레이 간 연산"
      ]
    },
    {
      "cell_type": "code",
      "metadata": {
        "colab": {
          "base_uri": "https://localhost:8080/"
        },
        "id": "fNt6HyQ4UGiR",
        "outputId": "412765c0-9eb1-459d-d476-a3e142da30e6"
      },
      "source": [
        "a = np.array([\n",
        "    [ 0,  0,  0],\n",
        "    [10, 10, 10],\n",
        "    [20, 20, 20],\n",
        "    [30, 30, 30]\n",
        "])\n",
        "b = np.array([\n",
        "    [ 0,  1,  2],\n",
        "    [ 0,  1,  2],\n",
        "    [ 0,  1,  2],\n",
        "    [ 0,  1,  2]    \n",
        "])\n",
        "\n",
        "pa(a, \"a\")\n",
        "pa(b, \"b\")\n",
        "\n",
        "pa(a+b, \"a+b\")"
      ],
      "execution_count": 49,
      "outputs": [
        {
          "output_type": "stream",
          "text": [
            "a\n",
            "[[ 0  0  0]\n",
            " [10 10 10]\n",
            " [20 20 20]\n",
            " [30 30 30]]\n",
            "\n",
            "b\n",
            "[[0 1 2]\n",
            " [0 1 2]\n",
            " [0 1 2]\n",
            " [0 1 2]]\n",
            "\n",
            "a+b\n",
            "[[ 0  1  2]\n",
            " [10 11 12]\n",
            " [20 21 22]\n",
            " [30 31 32]]\n",
            "\n"
          ],
          "name": "stdout"
        }
      ]
    },
    {
      "cell_type": "code",
      "metadata": {
        "colab": {
          "base_uri": "https://localhost:8080/"
        },
        "id": "TgqLNL9XUwnS",
        "outputId": "4dd2deb5-9de1-4b06-d6de-b1a3ee7fc99d"
      },
      "source": [
        "a = np.array([\n",
        "    [ 0,  0,  0],\n",
        "    [10, 10, 10],\n",
        "    [20, 20, 20],\n",
        "    [30, 30, 30]\n",
        "])\n",
        "b = np.array([\n",
        "    [ 0,  1,  2],\n",
        "    [ 0,  1,  2],\n",
        "    [ 0,  1,  2],\n",
        "    [ 0,  1,  2]    \n",
        "])\n",
        "\n",
        "pa(a, \"a\")\n",
        "pa(b, \"b\")\n",
        "\n",
        "pa(a-b, \"a-b\")\n",
        "\n",
        "pa(a*b, \"a*b\")\n"
      ],
      "execution_count": 50,
      "outputs": [
        {
          "output_type": "stream",
          "text": [
            "a\n",
            "[[ 0  0  0]\n",
            " [10 10 10]\n",
            " [20 20 20]\n",
            " [30 30 30]]\n",
            "\n",
            "b\n",
            "[[0 1 2]\n",
            " [0 1 2]\n",
            " [0 1 2]\n",
            " [0 1 2]]\n",
            "\n",
            "a-b\n",
            "[[ 0 -1 -2]\n",
            " [10  9  8]\n",
            " [20 19 18]\n",
            " [30 29 28]]\n",
            "\n",
            "a*b\n",
            "[[ 0  0  0]\n",
            " [ 0 10 20]\n",
            " [ 0 20 40]\n",
            " [ 0 30 60]]\n",
            "\n"
          ],
          "name": "stdout"
        }
      ]
    },
    {
      "cell_type": "code",
      "metadata": {
        "colab": {
          "base_uri": "https://localhost:8080/"
        },
        "id": "guxXeMCsWre2",
        "outputId": "2c26fde2-dd4b-4933-f58a-7829bcbf7195"
      },
      "source": [
        "a = np.array([\n",
        "    [ 0,  0,  0],\n",
        "    [10, 10, 10],\n",
        "    [20, 20, 20],\n",
        "    [30, 30, 30]\n",
        "])\n",
        "b = np.array([\n",
        "    [ 0,  1,  2],\n",
        "    [ 0,  1,  2],\n",
        "    [ 0,  1,  2],\n",
        "    [ 0,  1,  2]    \n",
        "])\n",
        "\n",
        "pa(a, \"a\")\n",
        "pa(b, \"b\")\n",
        "\n",
        "pa(a/b, \"a/b\")\n"
      ],
      "execution_count": 51,
      "outputs": [
        {
          "output_type": "stream",
          "text": [
            "a\n",
            "[[ 0  0  0]\n",
            " [10 10 10]\n",
            " [20 20 20]\n",
            " [30 30 30]]\n",
            "\n",
            "b\n",
            "[[0 1 2]\n",
            " [0 1 2]\n",
            " [0 1 2]\n",
            " [0 1 2]]\n",
            "\n",
            "a/b\n",
            "[[nan  0.  0.]\n",
            " [inf 10.  5.]\n",
            " [inf 20. 10.]\n",
            " [inf 30. 15.]]\n",
            "\n"
          ],
          "name": "stdout"
        },
        {
          "output_type": "stream",
          "text": [
            "/usr/local/lib/python3.7/dist-packages/ipykernel_launcher.py:17: RuntimeWarning: divide by zero encountered in true_divide\n",
            "/usr/local/lib/python3.7/dist-packages/ipykernel_launcher.py:17: RuntimeWarning: invalid value encountered in true_divide\n"
          ],
          "name": "stderr"
        }
      ]
    },
    {
      "cell_type": "markdown",
      "metadata": {
        "id": "Yx60xME7WwF9"
      },
      "source": [
        "0/0은 NaN, 10/0은 inf로 처리된다. 경고가 뜨면서."
      ]
    },
    {
      "cell_type": "code",
      "metadata": {
        "colab": {
          "base_uri": "https://localhost:8080/"
        },
        "id": "l99b6UpJXKgf",
        "outputId": "201a0bbf-5369-4e2d-8e9e-a664e1fb12a1"
      },
      "source": [
        "a = np.array([\n",
        "    [ 0,  0,  0],\n",
        "    [10, 10, 10],\n",
        "    [20, 20, 20],\n",
        "    [30, 30, 30]\n",
        "])\n",
        "b = np.array([\n",
        "    [ 1,  2,  3 ],\n",
        "    [ 4,  5,  6],\n",
        "    [ 7,  8,  9],\n",
        "    [ 10, 12, 12]    \n",
        "])\n",
        "\n",
        "pa(a, \"a\")\n",
        "pa(b, \"b\")\n",
        "\n",
        "pa(a//b, \"a//b\")\n",
        "\n",
        "pa(a%b, \"a%b\")\n"
      ],
      "execution_count": 52,
      "outputs": [
        {
          "output_type": "stream",
          "text": [
            "a\n",
            "[[ 0  0  0]\n",
            " [10 10 10]\n",
            " [20 20 20]\n",
            " [30 30 30]]\n",
            "\n",
            "b\n",
            "[[ 1  2  3]\n",
            " [ 4  5  6]\n",
            " [ 7  8  9]\n",
            " [10 12 12]]\n",
            "\n",
            "a//b\n",
            "[[0 0 0]\n",
            " [2 2 1]\n",
            " [2 2 2]\n",
            " [3 2 2]]\n",
            "\n",
            "a%b\n",
            "[[0 0 0]\n",
            " [2 0 4]\n",
            " [6 4 2]\n",
            " [0 6 6]]\n",
            "\n"
          ],
          "name": "stdout"
        }
      ]
    },
    {
      "cell_type": "code",
      "metadata": {
        "id": "iW7-aTNif1bX"
      },
      "source": [
        ""
      ],
      "execution_count": 52,
      "outputs": []
    },
    {
      "cell_type": "markdown",
      "metadata": {
        "id": "WyP3Ch3MYDZ9"
      },
      "source": [
        "## Numpy 연산 함수들\n",
        "\n",
        "Numpy ufunc(universal function)들이라 칭한다.\n",
        "\n",
        "전체 리스트틑 https://numpy.org/doc/stable/reference/ufuncs.html (공식 홈)\n",
        "\n",
        "혹은 https://www.dataquest.io/blog/numpy-cheat-sheet/ (깔끔 정리된) 에서 볼 수 있다.\n",
        "\n",
        "<br>\n",
        "\n",
        "간략하면\n",
        "```\n",
        "- 사칙 연산\n",
        "  +, -, *, /, ...\n",
        "  add(), subtract(), multiply(), divide(), ...\n",
        "  matmul()\n",
        "  exp(), log(), sqrt(), ...\n",
        "  ...\n",
        "- 삼각 함수\n",
        "  sin(), cos(), ...\n",
        "- bit 연산\n",
        "  bitwise_and(), bit_wise_or(), ...\n",
        "- 비교 연산\n",
        "  >, <, >=, <=, ==, !=\n",
        "  greater(), greater_equal(), less(), less_equal(), equal(), not_equal()\n",
        "  maximum(), minmum(), ..\n",
        "- 실수 연산?\n",
        "  isfinite(), isnan(), abs(), round(), floor(), ceil(), ...\n",
        "- 통계\n",
        "  sum(), mean(), max(), min(), std(), ...\n",
        "```"
      ]
    },
    {
      "cell_type": "code",
      "metadata": {
        "colab": {
          "base_uri": "https://localhost:8080/"
        },
        "id": "bx6zD0pST-e9",
        "outputId": "2c2b5de9-aaf1-417f-9bc5-47de7d9b8440"
      },
      "source": [
        "a = np.array([\n",
        "    [ 0,  0,  0],\n",
        "    [10, 10, 10],\n",
        "    [20, 20, 20],\n",
        "    [30, 30, 30]\n",
        "])\n",
        "b = np.array([\n",
        "    [ 1,  2,  3 ],\n",
        "    [ 4,  5,  6],\n",
        "    [ 7,  8,  9],\n",
        "    [ 10, 12, 12]    \n",
        "])\n",
        "\n",
        "pa(a>b)"
      ],
      "execution_count": 53,
      "outputs": [
        {
          "output_type": "stream",
          "text": [
            "[[False False False]\n",
            " [ True  True  True]\n",
            " [ True  True  True]\n",
            " [ True  True  True]]\n",
            "\n"
          ],
          "name": "stdout"
        }
      ]
    },
    {
      "cell_type": "code",
      "metadata": {
        "colab": {
          "base_uri": "https://localhost:8080/"
        },
        "id": "-tRH_rl3T-bU",
        "outputId": "675f5c64-63c4-43a9-c6d2-48ba950fffd1"
      },
      "source": [
        "a = np.array([\n",
        "    [ 0,  0,  0],\n",
        "    [10, 10, 10],\n",
        "    [20, 20, 20],\n",
        "    [30, 30, 30]\n",
        "])\n",
        "b = np.array([\n",
        "    [ 1,  2,  3 ],\n",
        "    [ 4,  5,  6],\n",
        "    [ 7,  8,  9],\n",
        "    [ 10, 12, 12]    \n",
        "])\n",
        "\n",
        "pa(np.maximum(a,b), \"np.maxiumn(a,b)\")\n",
        "\n",
        "pa(np.max(a), \"np.max(a)\")"
      ],
      "execution_count": 54,
      "outputs": [
        {
          "output_type": "stream",
          "text": [
            "np.maxiumn(a,b)\n",
            "[[ 1  2  3]\n",
            " [10 10 10]\n",
            " [20 20 20]\n",
            " [30 30 30]]\n",
            "\n",
            "np.max(a)\n",
            "30\n",
            "\n"
          ],
          "name": "stdout"
        }
      ]
    },
    {
      "cell_type": "markdown",
      "metadata": {
        "id": "DbrKXvNudHdq"
      },
      "source": [
        "## 행렬 곱"
      ]
    },
    {
      "cell_type": "code",
      "metadata": {
        "colab": {
          "base_uri": "https://localhost:8080/"
        },
        "id": "wcXGbYV9T-X8",
        "outputId": "32cf4900-9aa4-47ea-dd3e-4169ca97ed7a"
      },
      "source": [
        "a = np.arange(6).reshape(2,3)\n",
        "b = np.arange(12).reshape(3,4)\n",
        "\n",
        "print(a.shape)\n",
        "pa(a)\n",
        "\n",
        "print(b.shape)\n",
        "pa(b)\n",
        "\n",
        "print(np.matmul(a,b).shape)\n",
        "pa(np.matmul(a,b), \"np.matmul(a,b)\")\n",
        "pa(np.dot(a,b))"
      ],
      "execution_count": 55,
      "outputs": [
        {
          "output_type": "stream",
          "text": [
            "(2, 3)\n",
            "[[0 1 2]\n",
            " [3 4 5]]\n",
            "\n",
            "(3, 4)\n",
            "[[ 0  1  2  3]\n",
            " [ 4  5  6  7]\n",
            " [ 8  9 10 11]]\n",
            "\n",
            "(2, 4)\n",
            "np.matmul(a,b)\n",
            "[[20 23 26 29]\n",
            " [56 68 80 92]]\n",
            "\n",
            "[[20 23 26 29]\n",
            " [56 68 80 92]]\n",
            "\n"
          ],
          "name": "stdout"
        }
      ]
    },
    {
      "cell_type": "markdown",
      "metadata": {
        "id": "mQXyASLnT_Io"
      },
      "source": [
        "# 브로드캐스팅\n",
        "\n",
        "![대체 텍스트](https://github.com/dhrim/hongik_2021/raw/master/material/library/images/broadcasting.png)\n",
        "image from http://taewan.kim/post/numpy_cheat_sheet/"
      ]
    },
    {
      "cell_type": "code",
      "metadata": {
        "colab": {
          "base_uri": "https://localhost:8080/"
        },
        "id": "ZpwxnqJsT-pJ",
        "outputId": "f89af11d-37dc-4cdc-cc6e-ecfcea5af6e8"
      },
      "source": [
        "a = np.array([\n",
        "    [ 0,  0,  0],\n",
        "    [10, 10, 10],\n",
        "    [20, 20, 20],\n",
        "    [30, 30, 30]\n",
        "])\n",
        "b = np.array([\n",
        "    [ 0,  1,  2], \n",
        "])\n",
        "\n",
        "pa(a+b)"
      ],
      "execution_count": 56,
      "outputs": [
        {
          "output_type": "stream",
          "text": [
            "[[ 0  1  2]\n",
            " [10 11 12]\n",
            " [20 21 22]\n",
            " [30 31 32]]\n",
            "\n"
          ],
          "name": "stdout"
        }
      ]
    },
    {
      "cell_type": "code",
      "metadata": {
        "colab": {
          "base_uri": "https://localhost:8080/"
        },
        "id": "kal-zjxPT-UT",
        "outputId": "8d8176ed-6b2b-4ddb-f8f3-a7086e71520d"
      },
      "source": [
        "a = np.array([\n",
        "    [ 0,  0,  0],\n",
        "    [10, 10, 10],\n",
        "    [20, 20, 20],\n",
        "    [30, 30, 30] \n",
        "])\n",
        "b = np.array([\n",
        "    [ 1 ],\n",
        "    [ 2 ],\n",
        "    [ 3 ],\n",
        "    [ 4 ]    \n",
        "])\n",
        "\n",
        "pa(a+b)"
      ],
      "execution_count": 57,
      "outputs": [
        {
          "output_type": "stream",
          "text": [
            "[[ 1  1  1]\n",
            " [12 12 12]\n",
            " [23 23 23]\n",
            " [34 34 34]]\n",
            "\n"
          ],
          "name": "stdout"
        }
      ]
    },
    {
      "cell_type": "markdown",
      "metadata": {
        "id": "CJSbo71hdidp"
      },
      "source": [
        "# 필터링\n",
        "\n",
        "boolean 연산 결과는 필터링을 mask로 사용될 수 있다."
      ]
    },
    {
      "cell_type": "code",
      "metadata": {
        "colab": {
          "base_uri": "https://localhost:8080/"
        },
        "id": "uerSzhv2T-PV",
        "outputId": "9d591d67-7559-4a4a-ec68-70db9808c016"
      },
      "source": [
        "a = np.arange(12).reshape(3,4)\n",
        "pa(a)\n",
        "\n",
        "pa(a%2==0, \"a%2==0\")"
      ],
      "execution_count": 58,
      "outputs": [
        {
          "output_type": "stream",
          "text": [
            "[[ 0  1  2  3]\n",
            " [ 4  5  6  7]\n",
            " [ 8  9 10 11]]\n",
            "\n",
            "a%2==0\n",
            "[[ True False  True False]\n",
            " [ True False  True False]\n",
            " [ True False  True False]]\n",
            "\n"
          ],
          "name": "stdout"
        }
      ]
    },
    {
      "cell_type": "markdown",
      "metadata": {
        "id": "0_MsxYdaeG5Y"
      },
      "source": [
        "## Quiz. 2의 배수들의 합\n",
        "```\n",
        "[[ 0  1  2  3]\n",
        " [ 4  5  6  7]\n",
        " [ 8  9 10 11]]\n",
        " ```"
      ]
    },
    {
      "cell_type": "code",
      "metadata": {
        "colab": {
          "base_uri": "https://localhost:8080/"
        },
        "id": "-kYgcvr2eL6C",
        "outputId": "d4af1dc3-7ab9-4fa4-bf8e-5a899f567211"
      },
      "source": [
        "a = np.arange(12).reshape(3,4)\n",
        "pa(a)\n",
        "\n",
        "mask = a%2==0\n",
        "pa(mask, \"mask\")\n",
        "\n",
        "pa(a*mask, \"a*mask\")\n",
        "\n",
        "print(np.sum(a*mask))\n",
        "\n"
      ],
      "execution_count": 59,
      "outputs": [
        {
          "output_type": "stream",
          "text": [
            "[[ 0  1  2  3]\n",
            " [ 4  5  6  7]\n",
            " [ 8  9 10 11]]\n",
            "\n",
            "mask\n",
            "[[ True False  True False]\n",
            " [ True False  True False]\n",
            " [ True False  True False]]\n",
            "\n",
            "a*mask\n",
            "[[ 0  0  2  0]\n",
            " [ 4  0  6  0]\n",
            " [ 8  0 10  0]]\n",
            "\n",
            "30\n"
          ],
          "name": "stdout"
        }
      ]
    },
    {
      "cell_type": "markdown",
      "metadata": {
        "id": "PNdzOocciQqZ"
      },
      "source": [
        "## Quiz. 5보다 큰 짝수들의 합\n",
        "```\n",
        "[[ 0  1  2  3]\n",
        " [ 4  5  6  7]\n",
        " [ 8  9 10 11]]\n",
        "```"
      ]
    },
    {
      "cell_type": "code",
      "metadata": {
        "colab": {
          "base_uri": "https://localhost:8080/"
        },
        "id": "4GQpwbMCiaYD",
        "outputId": "740cba3c-f30b-4fdd-f1fd-90163884ff10"
      },
      "source": [
        "a = np.arange(12).reshape(3,4)\n",
        "pa(a)\n",
        "\n",
        "mask = (a%2==0) & (a>5)\n",
        "pa(mask, \"mask\")\n",
        "\n",
        "pa(a*mask, \"a*mask\")\n",
        "\n",
        "print(np.sum(a*mask))\n",
        "\n"
      ],
      "execution_count": 60,
      "outputs": [
        {
          "output_type": "stream",
          "text": [
            "[[ 0  1  2  3]\n",
            " [ 4  5  6  7]\n",
            " [ 8  9 10 11]]\n",
            "\n",
            "mask\n",
            "[[False False False False]\n",
            " [False False  True False]\n",
            " [ True False  True False]]\n",
            "\n",
            "a*mask\n",
            "[[ 0  0  0  0]\n",
            " [ 0  0  6  0]\n",
            " [ 8  0 10  0]]\n",
            "\n",
            "24\n"
          ],
          "name": "stdout"
        }
      ]
    },
    {
      "cell_type": "markdown",
      "metadata": {
        "id": "n20SaoWwjEUC"
      },
      "source": [
        "## Quiz. 대각선 요소들의 평균\n",
        "```\n",
        "[[ 0  1  2  3  4]\n",
        " [ 5  6  7  8  9]\n",
        " [10 11 12 13 14]\n",
        " [15 16 17 18 19]\n",
        " [20 21 22 23 24]]\n",
        "```\n"
      ]
    },
    {
      "cell_type": "code",
      "metadata": {
        "colab": {
          "base_uri": "https://localhost:8080/"
        },
        "id": "TQRVBeBbjLcj",
        "outputId": "538456ed-6319-4bf9-e91d-2e3e3136f346"
      },
      "source": [
        "a = np.arange(25).reshape(5,5)\n",
        "pa(a)\n",
        "\n",
        "mask = np.eye(5)\n",
        "pa(mask, \"mask\")\n",
        "\n",
        "pa(a*mask, \"a*mask\")\n",
        "\n",
        "print(np.mean(a*mask))\n",
        "\n"
      ],
      "execution_count": 61,
      "outputs": [
        {
          "output_type": "stream",
          "text": [
            "[[ 0  1  2  3  4]\n",
            " [ 5  6  7  8  9]\n",
            " [10 11 12 13 14]\n",
            " [15 16 17 18 19]\n",
            " [20 21 22 23 24]]\n",
            "\n",
            "mask\n",
            "[[1. 0. 0. 0. 0.]\n",
            " [0. 1. 0. 0. 0.]\n",
            " [0. 0. 1. 0. 0.]\n",
            " [0. 0. 0. 1. 0.]\n",
            " [0. 0. 0. 0. 1.]]\n",
            "\n",
            "a*mask\n",
            "[[ 0.  0.  0.  0.  0.]\n",
            " [ 0.  6.  0.  0.  0.]\n",
            " [ 0.  0. 12.  0.  0.]\n",
            " [ 0.  0.  0. 18.  0.]\n",
            " [ 0.  0.  0.  0. 24.]]\n",
            "\n",
            "2.4\n"
          ],
          "name": "stdout"
        }
      ]
    },
    {
      "cell_type": "markdown",
      "metadata": {
        "id": "54N9WRO6Q-ND"
      },
      "source": [
        "# 행, 열 추가 삭제\n",
        "\n",
        "list의 append(), insert(), pop() 등은 리스트에 요소를 추가하거나 삭제한다. 리스트 내의 값들을 변경한다. 그래서 호출 후의 반환 값은 없다.\n",
        "\n",
        "하지만 numpy는 어레이 내에 요소를 추가하거나 삭제하지 않고, 추가하거나 삭제한 새로운 어레이를 생성해서 이를 반환단다.\n",
        "\n"
      ]
    },
    {
      "cell_type": "code",
      "metadata": {
        "colab": {
          "base_uri": "https://localhost:8080/"
        },
        "id": "oq4Ako5ySGvr",
        "outputId": "6563e595-8194-493f-9b7b-a77938bde0c7"
      },
      "source": [
        "l = [0,1,2,3,4]\n",
        "print(l)\n",
        "\n",
        "l.append(9)\n",
        "print(l)\n",
        "\n",
        "l.insert(1,9)\n",
        "print(l)\n",
        "\n",
        "l.pop(2)\n",
        "print(l)"
      ],
      "execution_count": 62,
      "outputs": [
        {
          "output_type": "stream",
          "text": [
            "[0, 1, 2, 3, 4]\n",
            "[0, 1, 2, 3, 4, 9]\n",
            "[0, 9, 1, 2, 3, 4, 9]\n",
            "[0, 9, 2, 3, 4, 9]\n"
          ],
          "name": "stdout"
        }
      ]
    },
    {
      "cell_type": "markdown",
      "metadata": {
        "id": "-Mt05KEahM7_"
      },
      "source": [
        "## 추가"
      ]
    },
    {
      "cell_type": "code",
      "metadata": {
        "colab": {
          "base_uri": "https://localhost:8080/"
        },
        "id": "oDIm46xzggrw",
        "outputId": "4c6072ba-bc7a-432b-f194-320701634b4b"
      },
      "source": [
        "a = np.arange(12).reshape(3,4)\n",
        "pa(a, \"a\")\n",
        "\n",
        "b = np.append(a, [[-1,-2,-3,-4]], axis=0)\n",
        "pa(b, \"b\")\n"
      ],
      "execution_count": 63,
      "outputs": [
        {
          "output_type": "stream",
          "text": [
            "a\n",
            "[[ 0  1  2  3]\n",
            " [ 4  5  6  7]\n",
            " [ 8  9 10 11]]\n",
            "\n",
            "b\n",
            "[[ 0  1  2  3]\n",
            " [ 4  5  6  7]\n",
            " [ 8  9 10 11]\n",
            " [-1 -2 -3 -4]]\n",
            "\n"
          ],
          "name": "stdout"
        }
      ]
    },
    {
      "cell_type": "markdown",
      "metadata": {
        "id": "dpaXN18rhOHf"
      },
      "source": [
        "## 특정 위치에 추가"
      ]
    },
    {
      "cell_type": "code",
      "metadata": {
        "colab": {
          "base_uri": "https://localhost:8080/"
        },
        "id": "csRM_DH8P5PU",
        "outputId": "51a17788-ce42-4386-b7f3-f4b9623dccd8"
      },
      "source": [
        "a = np.arange(12).reshape(3,4)\n",
        "pa(a, \"a\")\n",
        "\n",
        "b = np.insert(a, 1, [[-1,-2,-3,-4]], axis=0)\n",
        "pa(b, \"b\")\n"
      ],
      "execution_count": 64,
      "outputs": [
        {
          "output_type": "stream",
          "text": [
            "a\n",
            "[[ 0  1  2  3]\n",
            " [ 4  5  6  7]\n",
            " [ 8  9 10 11]]\n",
            "\n",
            "b\n",
            "[[ 0  1  2  3]\n",
            " [-1 -2 -3 -4]\n",
            " [ 4  5  6  7]\n",
            " [ 8  9 10 11]]\n",
            "\n"
          ],
          "name": "stdout"
        }
      ]
    },
    {
      "cell_type": "markdown",
      "metadata": {
        "id": "BrPqGifnhRX2"
      },
      "source": [
        "## 행 삭제"
      ]
    },
    {
      "cell_type": "code",
      "metadata": {
        "colab": {
          "base_uri": "https://localhost:8080/"
        },
        "id": "mC8TQP3WSePp",
        "outputId": "f6587534-b191-4cb6-d043-848655a549aa"
      },
      "source": [
        "a = np.arange(12).reshape(3,4)\n",
        "pa(a, \"a\")\n",
        "\n",
        "b = np.delete(a, 1, axis=0)\n",
        "pa(b, \"b\")\n"
      ],
      "execution_count": 65,
      "outputs": [
        {
          "output_type": "stream",
          "text": [
            "a\n",
            "[[ 0  1  2  3]\n",
            " [ 4  5  6  7]\n",
            " [ 8  9 10 11]]\n",
            "\n",
            "b\n",
            "[[ 0  1  2  3]\n",
            " [ 8  9 10 11]]\n",
            "\n"
          ],
          "name": "stdout"
        }
      ]
    },
    {
      "cell_type": "markdown",
      "metadata": {
        "id": "FbIny223hS4b"
      },
      "source": [
        "## 열 삭제"
      ]
    },
    {
      "cell_type": "code",
      "metadata": {
        "colab": {
          "base_uri": "https://localhost:8080/"
        },
        "id": "Zj9lrI5kSeLy",
        "outputId": "312c4778-4aff-4227-c55c-28c4f1b83ef2"
      },
      "source": [
        "a = np.arange(12).reshape(3,4)\n",
        "pa(a, \"a\")\n",
        "\n",
        "b = np.delete(a, 1, axis=1)\n",
        "pa(b, \"b\")\n"
      ],
      "execution_count": 66,
      "outputs": [
        {
          "output_type": "stream",
          "text": [
            "a\n",
            "[[ 0  1  2  3]\n",
            " [ 4  5  6  7]\n",
            " [ 8  9 10 11]]\n",
            "\n",
            "b\n",
            "[[ 0  2  3]\n",
            " [ 4  6  7]\n",
            " [ 8 10 11]]\n",
            "\n"
          ],
          "name": "stdout"
        }
      ]
    },
    {
      "cell_type": "code",
      "metadata": {
        "id": "kNBBtAzHjx2R"
      },
      "source": [
        ""
      ],
      "execution_count": 66,
      "outputs": []
    },
    {
      "cell_type": "code",
      "metadata": {
        "id": "FNTVZ-Kdjxzp"
      },
      "source": [
        ""
      ],
      "execution_count": 66,
      "outputs": []
    },
    {
      "cell_type": "code",
      "metadata": {
        "id": "4ULBhPgvjxxA"
      },
      "source": [
        ""
      ],
      "execution_count": 66,
      "outputs": []
    },
    {
      "cell_type": "code",
      "metadata": {
        "id": "fPW2o5abjxtV"
      },
      "source": [
        ""
      ],
      "execution_count": 66,
      "outputs": []
    },
    {
      "cell_type": "markdown",
      "metadata": {
        "id": "Fz7qyvP7ju_r"
      },
      "source": [
        "# 차원 확대/축소"
      ]
    },
    {
      "cell_type": "code",
      "metadata": {
        "colab": {
          "base_uri": "https://localhost:8080/"
        },
        "id": "HJajFDsyj99U",
        "outputId": "97eee594-a096-4f1e-cccb-4d7b8734ad2a"
      },
      "source": [
        "a = np.arange(12).reshape(3,4)\n",
        "\n",
        "paf(a)\n",
        "\n",
        "paf(a.reshape(3,4,1))"
      ],
      "execution_count": 67,
      "outputs": [
        {
          "output_type": "stream",
          "text": [
            "shape=(3, 4), dimension=2, dtype=int64\n",
            "[[ 0  1  2  3]\n",
            " [ 4  5  6  7]\n",
            " [ 8  9 10 11]]\n",
            "\n",
            "shape=(3, 4, 1), dimension=3, dtype=int64\n",
            "[[[ 0]\n",
            "  [ 1]\n",
            "  [ 2]\n",
            "  [ 3]]\n",
            "\n",
            " [[ 4]\n",
            "  [ 5]\n",
            "  [ 6]\n",
            "  [ 7]]\n",
            "\n",
            " [[ 8]\n",
            "  [ 9]\n",
            "  [10]\n",
            "  [11]]]\n",
            "\n"
          ],
          "name": "stdout"
        }
      ]
    },
    {
      "cell_type": "code",
      "metadata": {
        "colab": {
          "base_uri": "https://localhost:8080/"
        },
        "id": "1z6155jLlQ9i",
        "outputId": "adea29ec-dbf5-4944-a1f8-7645ebce9d69"
      },
      "source": [
        "print(a.reshape(3,1,4))"
      ],
      "execution_count": 68,
      "outputs": [
        {
          "output_type": "stream",
          "text": [
            "[[[ 0  1  2  3]]\n",
            "\n",
            " [[ 4  5  6  7]]\n",
            "\n",
            " [[ 8  9 10 11]]]\n"
          ],
          "name": "stdout"
        }
      ]
    },
    {
      "cell_type": "code",
      "metadata": {
        "colab": {
          "base_uri": "https://localhost:8080/"
        },
        "id": "O-ZhKoWflSkh",
        "outputId": "3fedfcf7-6b20-44db-b574-24eaaff05970"
      },
      "source": [
        "print(a.reshape(1,3,4))"
      ],
      "execution_count": 69,
      "outputs": [
        {
          "output_type": "stream",
          "text": [
            "[[[ 0  1  2  3]\n",
            "  [ 4  5  6  7]\n",
            "  [ 8  9 10 11]]]\n"
          ],
          "name": "stdout"
        }
      ]
    },
    {
      "cell_type": "markdown",
      "metadata": {
        "id": "Cx9AkVmall2s"
      },
      "source": [
        "## expand_dims()"
      ]
    },
    {
      "cell_type": "code",
      "metadata": {
        "colab": {
          "base_uri": "https://localhost:8080/"
        },
        "id": "Bn1CAkY0lU8S",
        "outputId": "0d52bb72-4797-4b03-b3da-2ce8353bd9a0"
      },
      "source": [
        "a = np.arange(12).reshape(3,4)\n",
        "pa(a)\n",
        "\n",
        "b = np.expand_dims(a, axis=0)\n",
        "print(b.shape)\n"
      ],
      "execution_count": 70,
      "outputs": [
        {
          "output_type": "stream",
          "text": [
            "[[ 0  1  2  3]\n",
            " [ 4  5  6  7]\n",
            " [ 8  9 10 11]]\n",
            "\n",
            "(1, 3, 4)\n"
          ],
          "name": "stdout"
        }
      ]
    },
    {
      "cell_type": "code",
      "metadata": {
        "colab": {
          "base_uri": "https://localhost:8080/"
        },
        "id": "P7emJVqplcAY",
        "outputId": "ef110b9d-c5cf-465c-d71a-e692d2325ceb"
      },
      "source": [
        "a = np.arange(12).reshape(3,4)\n",
        "pa(a)\n",
        "\n",
        "b = np.expand_dims(a, axis=1)\n",
        "print(b.shape)\n"
      ],
      "execution_count": 71,
      "outputs": [
        {
          "output_type": "stream",
          "text": [
            "[[ 0  1  2  3]\n",
            " [ 4  5  6  7]\n",
            " [ 8  9 10 11]]\n",
            "\n",
            "(3, 1, 4)\n"
          ],
          "name": "stdout"
        }
      ]
    },
    {
      "cell_type": "code",
      "metadata": {
        "colab": {
          "base_uri": "https://localhost:8080/"
        },
        "id": "1jGp51u1lhGp",
        "outputId": "cc3e6a8c-2ec8-4f71-e0a3-b56c9de341a5"
      },
      "source": [
        "a = np.arange(12).reshape(3,4)\n",
        "pa(a)\n",
        "\n",
        "b = np.expand_dims(a, axis=2)\n",
        "print(b.shape)\n"
      ],
      "execution_count": 72,
      "outputs": [
        {
          "output_type": "stream",
          "text": [
            "[[ 0  1  2  3]\n",
            " [ 4  5  6  7]\n",
            " [ 8  9 10 11]]\n",
            "\n",
            "(3, 4, 1)\n"
          ],
          "name": "stdout"
        }
      ]
    },
    {
      "cell_type": "code",
      "metadata": {
        "colab": {
          "base_uri": "https://localhost:8080/"
        },
        "id": "ErV2TGXCli_G",
        "outputId": "89fc2c1b-f2ce-4ff7-a97a-6412123b3616"
      },
      "source": [
        "a = np.arange(12).reshape(3,4)\n",
        "pa(a)\n",
        "\n",
        "b = np.expand_dims(a, axis=-1)\n",
        "print(b.shape)\n"
      ],
      "execution_count": 73,
      "outputs": [
        {
          "output_type": "stream",
          "text": [
            "[[ 0  1  2  3]\n",
            " [ 4  5  6  7]\n",
            " [ 8  9 10 11]]\n",
            "\n",
            "(3, 4, 1)\n"
          ],
          "name": "stdout"
        }
      ]
    },
    {
      "cell_type": "markdown",
      "metadata": {
        "id": "Hv5P3iBMltyr"
      },
      "source": [
        "# squeeze()"
      ]
    },
    {
      "cell_type": "code",
      "metadata": {
        "colab": {
          "base_uri": "https://localhost:8080/"
        },
        "id": "EjDq6YA9l0KM",
        "outputId": "4165ca93-d05c-4ddb-d831-29f606dae812"
      },
      "source": [
        "a = np.arange(12).reshape(3,4,1)\n",
        "print(a.shape)\n",
        "\n",
        "print(a.reshape(3,4).shape)\n"
      ],
      "execution_count": 74,
      "outputs": [
        {
          "output_type": "stream",
          "text": [
            "(3, 4, 1)\n",
            "(3, 4)\n"
          ],
          "name": "stdout"
        }
      ]
    },
    {
      "cell_type": "code",
      "metadata": {
        "colab": {
          "base_uri": "https://localhost:8080/"
        },
        "id": "PLmpGImmlwC1",
        "outputId": "9986f4a4-85a4-44ae-e182-7bcd22207c65"
      },
      "source": [
        "a = np.arange(12).reshape(3,4,1)\n",
        "print(a.shape)\n",
        "\n",
        "print(np.squeeze(a).shape)\n"
      ],
      "execution_count": 75,
      "outputs": [
        {
          "output_type": "stream",
          "text": [
            "(3, 4, 1)\n",
            "(3, 4)\n"
          ],
          "name": "stdout"
        }
      ]
    },
    {
      "cell_type": "code",
      "metadata": {
        "colab": {
          "base_uri": "https://localhost:8080/"
        },
        "id": "e2Odx4pxl8nj",
        "outputId": "88e5262f-c19f-4c07-bad8-4352493ebff4"
      },
      "source": [
        "a = np.arange(12).reshape(3,1,4)\n",
        "print(a.shape)\n",
        "\n",
        "print(np.squeeze(a).shape)\n"
      ],
      "execution_count": 76,
      "outputs": [
        {
          "output_type": "stream",
          "text": [
            "(3, 1, 4)\n",
            "(3, 4)\n"
          ],
          "name": "stdout"
        }
      ]
    },
    {
      "cell_type": "markdown",
      "metadata": {
        "id": "s41dX5mSmCwB"
      },
      "source": [
        "# 전치 행열"
      ]
    },
    {
      "cell_type": "code",
      "metadata": {
        "colab": {
          "base_uri": "https://localhost:8080/"
        },
        "id": "1VXfrChHmFNS",
        "outputId": "c8b30aa1-7b02-4375-cef7-e3cd53dc8da7"
      },
      "source": [
        "a = np.arange(12).reshape(3,4)\n",
        "pa(a, \"a\")\n",
        "\n",
        "pa(a.T, \"a.T\")"
      ],
      "execution_count": 77,
      "outputs": [
        {
          "output_type": "stream",
          "text": [
            "a\n",
            "[[ 0  1  2  3]\n",
            " [ 4  5  6  7]\n",
            " [ 8  9 10 11]]\n",
            "\n",
            "a.T\n",
            "[[ 0  4  8]\n",
            " [ 1  5  9]\n",
            " [ 2  6 10]\n",
            " [ 3  7 11]]\n",
            "\n"
          ],
          "name": "stdout"
        }
      ]
    },
    {
      "cell_type": "markdown",
      "metadata": {
        "id": "bEXFgsi8mNXD"
      },
      "source": [
        "# 축 기반 연산"
      ]
    },
    {
      "cell_type": "markdown",
      "metadata": {
        "id": "yKqhAZwVmUX0"
      },
      "source": [
        "## sum()\n",
        "\n",
        "한 축으로 더하면 그 축은 사라진다.\n",
        "\n",
        "사자질 축 index를 axis의 값으로 설정한다."
      ]
    },
    {
      "cell_type": "code",
      "metadata": {
        "colab": {
          "base_uri": "https://localhost:8080/"
        },
        "id": "qE_CPN9Bmnq7",
        "outputId": "2b5b8bf3-f1ac-441f-a480-18219738eb6a"
      },
      "source": [
        "a = np.ones((3,4))\n",
        "pa(a)\n",
        "\n",
        "print(np.sum(a))"
      ],
      "execution_count": 78,
      "outputs": [
        {
          "output_type": "stream",
          "text": [
            "[[1. 1. 1. 1.]\n",
            " [1. 1. 1. 1.]\n",
            " [1. 1. 1. 1.]]\n",
            "\n",
            "12.0\n"
          ],
          "name": "stdout"
        }
      ]
    },
    {
      "cell_type": "code",
      "metadata": {
        "colab": {
          "base_uri": "https://localhost:8080/"
        },
        "id": "r4td5iycmZJn",
        "outputId": "595a7643-2d54-4710-c52a-3978eaaa5884"
      },
      "source": [
        "a = np.ones((3,4))\n",
        "pa(a) # shape (3,4)\n",
        "\n",
        "paf(np.sum(a, axis=0)) # shape의 (3,4) 3을 없애고 싶다. 3은 index 0. 이 index를 axis 값으로\n",
        "\n",
        "paf(np.sum(a, axis=1)) # shape의 (3,4) 4을 없애고 싶다. 4는 index 1. 이 index를 axis 값으로\n"
      ],
      "execution_count": 79,
      "outputs": [
        {
          "output_type": "stream",
          "text": [
            "[[1. 1. 1. 1.]\n",
            " [1. 1. 1. 1.]\n",
            " [1. 1. 1. 1.]]\n",
            "\n",
            "shape=(4,), dimension=1, dtype=float64\n",
            "[3. 3. 3. 3.]\n",
            "\n",
            "shape=(3,), dimension=1, dtype=float64\n",
            "[4. 4. 4.]\n",
            "\n"
          ],
          "name": "stdout"
        }
      ]
    },
    {
      "cell_type": "code",
      "metadata": {
        "colab": {
          "base_uri": "https://localhost:8080/"
        },
        "id": "MVGTP5mKnXdS",
        "outputId": "c350d445-7ca2-4e4d-b5ef-41a60b589d9c"
      },
      "source": [
        "a = np.ones((3,4,2))\n",
        "pa(a.shape) # shape (3,4,2)\n",
        "\n",
        "paf(np.sum(a, axis=0)) # 원 shape (3,4,2)에서 index 0 축이 제거되어 (  4,2)가 된다.\n",
        "\n",
        "paf(np.sum(a, axis=1)) # 원 shape (3,4,2)에서 index 1 축이 제거되어 (3  ,2)가 된다.\n",
        "\n",
        "paf(np.sum(a, axis=2)) # 원 shape (3,4,2)에서 index 2 축이 제거되어 (3,4  )가 된다."
      ],
      "execution_count": 80,
      "outputs": [
        {
          "output_type": "stream",
          "text": [
            "(3, 4, 2)\n",
            "\n",
            "shape=(4, 2), dimension=2, dtype=float64\n",
            "[[3. 3.]\n",
            " [3. 3.]\n",
            " [3. 3.]\n",
            " [3. 3.]]\n",
            "\n",
            "shape=(3, 2), dimension=2, dtype=float64\n",
            "[[4. 4.]\n",
            " [4. 4.]\n",
            " [4. 4.]]\n",
            "\n",
            "shape=(3, 4), dimension=2, dtype=float64\n",
            "[[2. 2. 2. 2.]\n",
            " [2. 2. 2. 2.]\n",
            " [2. 2. 2. 2.]]\n",
            "\n"
          ],
          "name": "stdout"
        }
      ]
    },
    {
      "cell_type": "markdown",
      "metadata": {
        "id": "bfnXv0GdoFrH"
      },
      "source": [
        "## mean()\n",
        "\n",
        "axis 설정 방법은 sum()과 동일하다. "
      ]
    },
    {
      "cell_type": "code",
      "metadata": {
        "colab": {
          "base_uri": "https://localhost:8080/"
        },
        "id": "QKJ6dVqZoRr9",
        "outputId": "409bfbad-ac8b-4fd7-b7d4-c07de2e9d699"
      },
      "source": [
        "a = np.arange(24).reshape(3,4,2)\n",
        "pa(a.shape) # shape (3,4,2)\n",
        "\n",
        "paf(np.mean(a, axis=0)) # 원 shape (3,4,2)에서 index 0 축이 제거되어 (  4,2)가 된다.\n",
        "\n",
        "paf(np.mean(a, axis=1)) # 원 shape (3,4,2)에서 index 1 축이 제거되어 (3  ,2)가 된다.\n",
        "\n",
        "paf(np.mean(a, axis=2)) # 원 shape (3,4,2)에서 index 2 축이 제거되어 (3,4  )가 된다."
      ],
      "execution_count": 81,
      "outputs": [
        {
          "output_type": "stream",
          "text": [
            "(3, 4, 2)\n",
            "\n",
            "shape=(4, 2), dimension=2, dtype=float64\n",
            "[[ 8.  9.]\n",
            " [10. 11.]\n",
            " [12. 13.]\n",
            " [14. 15.]]\n",
            "\n",
            "shape=(3, 2), dimension=2, dtype=float64\n",
            "[[ 3.  4.]\n",
            " [11. 12.]\n",
            " [19. 20.]]\n",
            "\n",
            "shape=(3, 4), dimension=2, dtype=float64\n",
            "[[ 0.5  2.5  4.5  6.5]\n",
            " [ 8.5 10.5 12.5 14.5]\n",
            " [16.5 18.5 20.5 22.5]]\n",
            "\n"
          ],
          "name": "stdout"
        }
      ]
    },
    {
      "cell_type": "markdown",
      "metadata": {
        "id": "9lonxvqvpBiW"
      },
      "source": [
        "# argmax(), argsort()"
      ]
    },
    {
      "cell_type": "markdown",
      "metadata": {
        "id": "pZw2Mx34qfs_"
      },
      "source": [
        "## argsort()"
      ]
    },
    {
      "cell_type": "markdown",
      "metadata": {
        "id": "1HdwBL9WpG4r"
      },
      "source": [
        "## Quiz. 다음 성적에 대한 순위로 이름을 출력\n",
        "```\n",
        "l = [ 3, 5, 2, 5, 9 ]\n",
        "names = [ \"tom\", \"jerry\", \"brute\", \"bob\", \"hank\" ]\n",
        "```"
      ]
    },
    {
      "cell_type": "code",
      "metadata": {
        "colab": {
          "base_uri": "https://localhost:8080/"
        },
        "id": "1inFe9xrpQGT",
        "outputId": "a4184b65-ce44-4ce0-971e-a1765caf69b1"
      },
      "source": [
        "scores = [ 3, 5, 2, 5, 9 ]\n",
        "names = [ \"tom\", \"jerry\", \"brute\", \"bob\", \"hank\" ]\n",
        "\n",
        "org = [ i for i in scores ]\n",
        "print(\"org :\", org)\n",
        "\n",
        "scores.sort(reverse=True)\n",
        "print(\"sorted scores :\", scores)\n",
        "\n",
        "indexes = []\n",
        "for i in range(len(scores)):\n",
        "  # print(scores[i])\n",
        "  for j in range(len(org)):\n",
        "    if org[j] == scores[i]:\n",
        "      indexes.append(j)\n",
        "      org[j] = -1\n",
        "      break\n",
        "  # print(org)\n",
        "\n",
        "print(indexes)\n",
        "\n",
        "for i in indexes:\n",
        "  print(names[i])\n"
      ],
      "execution_count": 82,
      "outputs": [
        {
          "output_type": "stream",
          "text": [
            "org : [3, 5, 2, 5, 9]\n",
            "sorted scores : [9, 5, 5, 3, 2]\n",
            "[4, 1, 3, 0, 2]\n",
            "hank\n",
            "jerry\n",
            "bob\n",
            "tom\n",
            "brute\n"
          ],
          "name": "stdout"
        }
      ]
    },
    {
      "cell_type": "markdown",
      "metadata": {
        "id": "EifOzQmLpUJM"
      },
      "source": [
        "소팅된 scores 자체가 필요한 거이 아니라\n",
        "```\n",
        "sorted_scores : [9, 5, 5, 3, 2]\n",
        "```\n",
        "\n",
        "소팅된 scores 9, 5, 5, 3, 2의 원 자리 index가 필요하다.\n",
        "```\n",
        "sored_index : [4, 1, 3, 0, 2]\n",
        "```\n",
        "\n",
        "argsort()가 이러한 연산을 한다.\n"
      ]
    },
    {
      "cell_type": "code",
      "metadata": {
        "colab": {
          "base_uri": "https://localhost:8080/"
        },
        "id": "nn2Iqr1_qCwD",
        "outputId": "daf6301a-2447-49f9-df80-d9d4f2e24514"
      },
      "source": [
        "scores = [ 3, 5, 2, 5, 9 ]\n",
        "names = [ \"tom\", \"jerry\", \"brute\", \"bob\", \"hank\" ]\n",
        "\n",
        "a = np.array(scores)\n",
        "sorted_indexes = np.argsort(a)[::-1]\n",
        "\n",
        "print(\"sorted_indexes=\",sorted_indexes)"
      ],
      "execution_count": 83,
      "outputs": [
        {
          "output_type": "stream",
          "text": [
            "sorted_indexes= [4 3 1 0 2]\n"
          ],
          "name": "stdout"
        }
      ]
    },
    {
      "cell_type": "markdown",
      "metadata": {
        "id": "NUnCNUA7qh80"
      },
      "source": [
        "## argmax()"
      ]
    },
    {
      "cell_type": "code",
      "metadata": {
        "colab": {
          "base_uri": "https://localhost:8080/"
        },
        "id": "WvYSdrYcqlKv",
        "outputId": "e8226bc2-6e48-45ab-bdd7-fcf15f5f7bae"
      },
      "source": [
        "np.random.seed(seed=31)\n",
        "a = np.random.randint(100, size=12).reshape(3,4)\n",
        "pa(a, \"a\")\n",
        "\n",
        "max_index = np.argmax(a, axis=1)\n",
        "pa(max_index, \"np.argmax(a, axis=1)\")\n",
        "\n",
        "max_index = np.argmax(a, axis=0)\n",
        "pa(max_index, \"np.argmax(a, axis=0)\")\n"
      ],
      "execution_count": 91,
      "outputs": [
        {
          "output_type": "stream",
          "text": [
            "a\n",
            "[[82 87 16 98]\n",
            " [23 58 28 93]\n",
            " [92 42 46  6]]\n",
            "\n",
            "np.argmax(a, axis=1)\n",
            "[3 3 0]\n",
            "\n",
            "np.argmax(a, axis=0)\n",
            "[2 0 2 0]\n",
            "\n"
          ],
          "name": "stdout"
        }
      ]
    },
    {
      "cell_type": "markdown",
      "metadata": {
        "id": "kik6Ows3qyZa"
      },
      "source": [
        "각 데이터에서 가장 큰 것의 column index를 구한다."
      ]
    },
    {
      "cell_type": "markdown",
      "metadata": {
        "id": "6525CXGZSfAA"
      },
      "source": [
        "# 어레이 합치기"
      ]
    },
    {
      "cell_type": "markdown",
      "metadata": {
        "id": "RDhMgPQCxhhn"
      },
      "source": [
        "## 세로로 붙이기 : 데이터 추가하기"
      ]
    },
    {
      "cell_type": "code",
      "metadata": {
        "colab": {
          "base_uri": "https://localhost:8080/"
        },
        "id": "tqPoINi6SeHB",
        "outputId": "7ff0329b-8148-4194-a529-bbfd25a0eeaa"
      },
      "source": [
        "a = np.arange(6).reshape(2,3)\n",
        "b = np.arange(6,12).reshape(2,3)\n",
        "\n",
        "pa(a, \"a\")\n",
        "pa(b, \"b\")\n",
        "\n",
        "pa(np.r_[a,b], \"np.r_[a,b]\")\n",
        "\n",
        "pa(np.vstack([a,b]), \"np.vstack([a,b])\")\n",
        "\n",
        "pa(np.concatenate([a,b], axis=0), \"np.concatenate([a,b], axis=0)\")"
      ],
      "execution_count": 85,
      "outputs": [
        {
          "output_type": "stream",
          "text": [
            "a\n",
            "[[0 1 2]\n",
            " [3 4 5]]\n",
            "\n",
            "b\n",
            "[[ 6  7  8]\n",
            " [ 9 10 11]]\n",
            "\n",
            "np.r_[a,b]\n",
            "[[ 0  1  2]\n",
            " [ 3  4  5]\n",
            " [ 6  7  8]\n",
            " [ 9 10 11]]\n",
            "\n",
            "np.vstack([a,b])\n",
            "[[ 0  1  2]\n",
            " [ 3  4  5]\n",
            " [ 6  7  8]\n",
            " [ 9 10 11]]\n",
            "\n",
            "np.concatenate([a,b], axis=0)\n",
            "[[ 0  1  2]\n",
            " [ 3  4  5]\n",
            " [ 6  7  8]\n",
            " [ 9 10 11]]\n",
            "\n"
          ],
          "name": "stdout"
        }
      ]
    },
    {
      "cell_type": "markdown",
      "metadata": {
        "id": "RdI6uftex2FW"
      },
      "source": [
        "## 가로로 붙이기 : 컬럼 추가하기"
      ]
    },
    {
      "cell_type": "code",
      "metadata": {
        "colab": {
          "base_uri": "https://localhost:8080/"
        },
        "id": "Pw6D6jUoxks0",
        "outputId": "02936952-9dd2-4b74-923d-a4a25a7312b7"
      },
      "source": [
        "a = np.arange(6).reshape(3,2)\n",
        "b = np.arange(6,12).reshape(3,2)\n",
        "\n",
        "pa(a, \"a\")\n",
        "pa(b, \"b\")\n",
        "\n",
        "pa(np.c_[a,b], \"np.r_[a,b]\")\n",
        "\n",
        "pa(np.hstack([a,b]), \"np.hstack([a,b])\")\n",
        "\n",
        "pa(np.concatenate([a,b], axis=1), \"np.concatenate([a,b], axis=1)\")"
      ],
      "execution_count": 86,
      "outputs": [
        {
          "output_type": "stream",
          "text": [
            "a\n",
            "[[0 1]\n",
            " [2 3]\n",
            " [4 5]]\n",
            "\n",
            "b\n",
            "[[ 6  7]\n",
            " [ 8  9]\n",
            " [10 11]]\n",
            "\n",
            "np.r_[a,b]\n",
            "[[ 0  1  6  7]\n",
            " [ 2  3  8  9]\n",
            " [ 4  5 10 11]]\n",
            "\n",
            "np.hstack([a,b])\n",
            "[[ 0  1  6  7]\n",
            " [ 2  3  8  9]\n",
            " [ 4  5 10 11]]\n",
            "\n",
            "np.concatenate([a,b], axis=1)\n",
            "[[ 0  1  6  7]\n",
            " [ 2  3  8  9]\n",
            " [ 4  5 10 11]]\n",
            "\n"
          ],
          "name": "stdout"
        }
      ]
    },
    {
      "cell_type": "markdown",
      "metadata": {
        "id": "z_zmQ4q_zNsB"
      },
      "source": [
        "# File 읽기/저장"
      ]
    },
    {
      "cell_type": "code",
      "metadata": {
        "colab": {
          "base_uri": "https://localhost:8080/"
        },
        "id": "_qnD0KmTzQq-",
        "outputId": "8ca0ef01-04b1-4a16-b000-516977fe1506"
      },
      "source": [
        "a = np.arange(12).reshape(3,4)\n",
        "paf(a)\n",
        "\n",
        "np.savetxt(\"data.csv\", a, delimiter=',')"
      ],
      "execution_count": 87,
      "outputs": [
        {
          "output_type": "stream",
          "text": [
            "shape=(3, 4), dimension=2, dtype=int64\n",
            "[[ 0  1  2  3]\n",
            " [ 4  5  6  7]\n",
            " [ 8  9 10 11]]\n",
            "\n"
          ],
          "name": "stdout"
        }
      ]
    },
    {
      "cell_type": "code",
      "metadata": {
        "colab": {
          "base_uri": "https://localhost:8080/"
        },
        "id": "VO-KRs4yzaD4",
        "outputId": "1cb56481-f7e2-4470-9d54-61b6602152b9"
      },
      "source": [
        "!ls -al \n",
        "!cat data.csv"
      ],
      "execution_count": 88,
      "outputs": [
        {
          "output_type": "stream",
          "text": [
            "total 20\n",
            "drwxr-xr-x 1 root root 4096 May 17 00:37 .\n",
            "drwxr-xr-x 1 root root 4096 May 17 00:36 ..\n",
            "drwxr-xr-x 4 root root 4096 May  6 13:43 .config\n",
            "-rw-r--r-- 1 root root  300 May 17 00:37 data.csv\n",
            "drwxr-xr-x 1 root root 4096 May  6 13:44 sample_data\n",
            "0.000000000000000000e+00,1.000000000000000000e+00,2.000000000000000000e+00,3.000000000000000000e+00\n",
            "4.000000000000000000e+00,5.000000000000000000e+00,6.000000000000000000e+00,7.000000000000000000e+00\n",
            "8.000000000000000000e+00,9.000000000000000000e+00,1.000000000000000000e+01,1.100000000000000000e+01\n"
          ],
          "name": "stdout"
        }
      ]
    },
    {
      "cell_type": "code",
      "metadata": {
        "colab": {
          "base_uri": "https://localhost:8080/"
        },
        "id": "QUnpKUygzZdd",
        "outputId": "6e1d6c7e-bba0-4a1e-dfce-16bcb6b7d538"
      },
      "source": [
        "b = np.loadtxt(\"data.csv\", delimiter=',')\n",
        "paf(b)"
      ],
      "execution_count": 89,
      "outputs": [
        {
          "output_type": "stream",
          "text": [
            "shape=(3, 4), dimension=2, dtype=float64\n",
            "[[ 0.  1.  2.  3.]\n",
            " [ 4.  5.  6.  7.]\n",
            " [ 8.  9. 10. 11.]]\n",
            "\n"
          ],
          "name": "stdout"
        }
      ]
    },
    {
      "cell_type": "markdown",
      "metadata": {
        "id": "u1NLOJkBt3oc"
      },
      "source": [
        "# 기타"
      ]
    },
    {
      "cell_type": "markdown",
      "metadata": {
        "id": "Ciw-fUjxt5kE"
      },
      "source": [
        "## 인덱스로 샘플링"
      ]
    },
    {
      "cell_type": "code",
      "metadata": {
        "colab": {
          "base_uri": "https://localhost:8080/"
        },
        "id": "Ecr6MMFcsjiW",
        "outputId": "f138c228-7058-41ef-8b49-ba99ff6c43ae"
      },
      "source": [
        "a = np.array([\n",
        "              [0,0,0],\n",
        "              [1,1,1],\n",
        "              [2,2,2],\n",
        "              [3,3,3]\n",
        "])\n",
        "pa(a)\n",
        "\n",
        "pa(a[0], \"a[0]\")\n",
        "\n",
        "pa(a[[0]], \"a[[0]]]\")\n",
        "\n",
        "indexes = [0]\n",
        "pa(a[indexes], \"indexes = [0]\")\n",
        "\n",
        "indexes = [0,1,2]\n",
        "pa(a[indexes], \"indexes = [0,1,2]\")\n",
        "\n",
        "indexes = [0,0,1,1,2,2]\n",
        "pa(a[indexes], \"indexes = [0,0,1,1,2,2]\")"
      ],
      "execution_count": 90,
      "outputs": [
        {
          "output_type": "stream",
          "text": [
            "[[0 0 0]\n",
            " [1 1 1]\n",
            " [2 2 2]\n",
            " [3 3 3]]\n",
            "\n",
            "a[0]\n",
            "[0 0 0]\n",
            "\n",
            "a[[0]]]\n",
            "[[0 0 0]]\n",
            "\n",
            "indexes = [0]\n",
            "[[0 0 0]]\n",
            "\n",
            "indexes = [0,1,2]\n",
            "[[0 0 0]\n",
            " [1 1 1]\n",
            " [2 2 2]]\n",
            "\n",
            "indexes = [0,0,1,1,2,2]\n",
            "[[0 0 0]\n",
            " [0 0 0]\n",
            " [1 1 1]\n",
            " [1 1 1]\n",
            " [2 2 2]\n",
            " [2 2 2]]\n",
            "\n"
          ],
          "name": "stdout"
        }
      ]
    },
    {
      "cell_type": "code",
      "metadata": {
        "id": "N7xub7qAtd2D"
      },
      "source": [
        ""
      ],
      "execution_count": 90,
      "outputs": []
    }
  ]
}