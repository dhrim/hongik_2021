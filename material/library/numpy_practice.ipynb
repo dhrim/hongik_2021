{
  "nbformat": 4,
  "nbformat_minor": 0,
  "metadata": {
    "colab": {
      "name": "numpy_practice.ipynb",
      "version": "0.3.2",
      "provenance": [],
      "collapsed_sections": []
    },
    "kernelspec": {
      "name": "python3",
      "display_name": "Python 3"
    }
  },
  "cells": [
    {
      "cell_type": "code",
      "metadata": {
        "id": "85_H2NKJrf0M",
        "colab_type": "code",
        "outputId": "77b0b076-bc98-4913-fa69-4ace0f19670c",
        "colab": {
          "base_uri": "https://localhost:8080/",
          "height": 35
        }
      },
      "source": [
        "arr = [1,2,3,4,5]\n",
        "print(arr)"
      ],
      "execution_count": 0,
      "outputs": [
        {
          "output_type": "stream",
          "text": [
            "[1, 2, 3, 4, 5]\n"
          ],
          "name": "stdout"
        }
      ]
    },
    {
      "cell_type": "code",
      "metadata": {
        "id": "pVlMtp41vR0x",
        "colab_type": "code",
        "outputId": "46751b5f-7aca-4cfa-f221-1909a1df9b4e",
        "colab": {
          "base_uri": "https://localhost:8080/",
          "height": 52
        }
      },
      "source": [
        "!pip install numpy\n",
        "\n",
        "import numpy as np\n",
        "print(np.__version__)"
      ],
      "execution_count": 0,
      "outputs": [
        {
          "output_type": "stream",
          "text": [
            "Requirement already satisfied: numpy in /usr/local/lib/python3.6/dist-packages (1.16.4)\n",
            "1.16.4\n"
          ],
          "name": "stdout"
        }
      ]
    },
    {
      "cell_type": "code",
      "metadata": {
        "id": "a1ZH3OzhwJ8z",
        "colab_type": "code",
        "colab": {}
      },
      "source": [
        "def pprint(arr):\n",
        "    print(\"shape: {}, dimension: {}, dtype:{}\".format(arr.shape, arr.ndim, arr.dtype))\n",
        "    print(arr)"
      ],
      "execution_count": 0,
      "outputs": []
    },
    {
      "cell_type": "code",
      "metadata": {
        "id": "H82Dz6f2vrBj",
        "colab_type": "code",
        "outputId": "e2f0c7c6-5b2b-4d48-ea2d-f6d272d3fb8f",
        "colab": {
          "base_uri": "https://localhost:8080/",
          "height": 123
        }
      },
      "source": [
        "arr = [1,2,3,4]\n",
        "print(type(arr))\n",
        "\n",
        "a = np.array(arr)\n",
        "print(a)\n",
        "print(type(a))\n",
        "print(a.shape)\n",
        "\n",
        "pprint(a)"
      ],
      "execution_count": 0,
      "outputs": [
        {
          "output_type": "stream",
          "text": [
            "<class 'list'>\n",
            "[1 2 3 4]\n",
            "<class 'numpy.ndarray'>\n",
            "(4,)\n",
            "shape: (4,), dimension: 1, dtype:int64\n",
            "[1 2 3 4]\n"
          ],
          "name": "stdout"
        }
      ]
    },
    {
      "cell_type": "code",
      "metadata": {
        "id": "k6M8eOzDwREG",
        "colab_type": "code",
        "outputId": "5df632ed-5cde-4825-ae27-205999a456e7",
        "colab": {
          "base_uri": "https://localhost:8080/",
          "height": 70
        }
      },
      "source": [
        "b = np.array([ \n",
        "    [1,2,3],\n",
        "    [4,5,6]\n",
        "])\n",
        "print(b)\n",
        "print(b.shape)"
      ],
      "execution_count": 0,
      "outputs": [
        {
          "output_type": "stream",
          "text": [
            "[[1 2 3]\n",
            " [4 5 6]]\n",
            "(2, 3)\n"
          ],
          "name": "stdout"
        }
      ]
    },
    {
      "cell_type": "code",
      "metadata": {
        "id": "GTHt_Vtmwj0G",
        "colab_type": "code",
        "outputId": "10c49187-55ec-4abd-9a0d-c1aab960d293",
        "colab": {
          "base_uri": "https://localhost:8080/",
          "height": 176
        }
      },
      "source": [
        "t = (1,2,3)\n",
        "print(type(t))\n",
        "print(len(t))\n",
        "print(t[0])\n",
        "\n",
        "t = (1,2)\n",
        "print(type(t))\n",
        "print(len(t))\n",
        "print(t[0])\n",
        "\n",
        "t = (1,)\n",
        "print(type(t))\n",
        "print(len(t))\n",
        "print(t[0])\n",
        "\n"
      ],
      "execution_count": 0,
      "outputs": [
        {
          "output_type": "stream",
          "text": [
            "<class 'tuple'>\n",
            "3\n",
            "1\n",
            "<class 'tuple'>\n",
            "2\n",
            "1\n",
            "<class 'tuple'>\n",
            "1\n",
            "1\n"
          ],
          "name": "stdout"
        }
      ]
    },
    {
      "cell_type": "code",
      "metadata": {
        "id": "x-2F2FYmxao8",
        "colab_type": "code",
        "outputId": "5875dcb8-3764-432d-8e18-f82833a01fc4",
        "colab": {
          "base_uri": "https://localhost:8080/",
          "height": 72
        }
      },
      "source": [
        "print(a)\n",
        "print([ x for x in dir(type(a)) if x[0]!='_'  ])\n"
      ],
      "execution_count": 0,
      "outputs": [
        {
          "output_type": "stream",
          "text": [
            "[1 2 3 4]\n",
            "['T', 'all', 'any', 'argmax', 'argmin', 'argpartition', 'argsort', 'astype', 'base', 'byteswap', 'choose', 'clip', 'compress', 'conj', 'conjugate', 'copy', 'ctypes', 'cumprod', 'cumsum', 'data', 'diagonal', 'dot', 'dtype', 'dump', 'dumps', 'fill', 'flags', 'flat', 'flatten', 'getfield', 'imag', 'item', 'itemset', 'itemsize', 'max', 'mean', 'min', 'nbytes', 'ndim', 'newbyteorder', 'nonzero', 'partition', 'prod', 'ptp', 'put', 'ravel', 'real', 'repeat', 'reshape', 'resize', 'round', 'searchsorted', 'setfield', 'setflags', 'shape', 'size', 'sort', 'squeeze', 'std', 'strides', 'sum', 'swapaxes', 'take', 'tobytes', 'tofile', 'tolist', 'tostring', 'trace', 'transpose', 'var', 'view']\n"
          ],
          "name": "stdout"
        }
      ]
    },
    {
      "cell_type": "code",
      "metadata": {
        "id": "gC_6F7AayBPi",
        "colab_type": "code",
        "outputId": "fa4eec29-87e0-4366-c4ed-6c39e4be129d",
        "colab": {
          "base_uri": "https://localhost:8080/",
          "height": 52
        }
      },
      "source": [
        "arr = [1, 2, 3]\n",
        "a = np.array(arr, dtype=float)\n",
        "pprint(a)"
      ],
      "execution_count": 0,
      "outputs": [
        {
          "output_type": "stream",
          "text": [
            "shape: (3,), dimension: 1, dtype:float64\n",
            "[1. 2. 3.]\n"
          ],
          "name": "stdout"
        }
      ]
    },
    {
      "cell_type": "code",
      "metadata": {
        "id": "wPTxUSOVypMv",
        "colab_type": "code",
        "outputId": "67d23d3d-d358-4cb4-a013-e0210eea0d9d",
        "colab": {
          "base_uri": "https://localhost:8080/",
          "height": 123
        }
      },
      "source": [
        "arr = [ [1,2,3], [4,5,6] ]\n",
        "a = np.array(arr)\n",
        "pprint(a)\n",
        "\n",
        "\n",
        "arr = [ (1,2,3), (4,5,6) ]\n",
        "a = np.array(arr)\n",
        "pprint(a)\n"
      ],
      "execution_count": 0,
      "outputs": [
        {
          "output_type": "stream",
          "text": [
            "shape: (2, 3), dimension: 2, dtype:int64\n",
            "[[1 2 3]\n",
            " [4 5 6]]\n",
            "shape: (2, 3), dimension: 2, dtype:int64\n",
            "[[1 2 3]\n",
            " [4 5 6]]\n"
          ],
          "name": "stdout"
        }
      ]
    },
    {
      "cell_type": "code",
      "metadata": {
        "id": "QTq1zuJhzEBL",
        "colab_type": "code",
        "outputId": "c41f3b2c-12ee-43a2-8aff-f8347a7546de",
        "colab": {
          "base_uri": "https://localhost:8080/",
          "height": 300
        }
      },
      "source": [
        "a = np.zeros( (3,4) )\n",
        "pprint(a)\n",
        "\n",
        "a = np.ones( (3,4) )\n",
        "pprint(a)\n",
        "\n",
        "a = np.eye( 3 )\n",
        "pprint(a)\n",
        "\n",
        "a = np.full( (3,4), 7 )\n",
        "pprint(a)\n"
      ],
      "execution_count": 0,
      "outputs": [
        {
          "output_type": "stream",
          "text": [
            "shape: (3, 4), dimension: 2, dtype:float64\n",
            "[[0. 0. 0. 0.]\n",
            " [0. 0. 0. 0.]\n",
            " [0. 0. 0. 0.]]\n",
            "shape: (3, 4), dimension: 2, dtype:float64\n",
            "[[1. 1. 1. 1.]\n",
            " [1. 1. 1. 1.]\n",
            " [1. 1. 1. 1.]]\n",
            "shape: (3, 3), dimension: 2, dtype:float64\n",
            "[[1. 0. 0.]\n",
            " [0. 1. 0.]\n",
            " [0. 0. 1.]]\n",
            "shape: (3, 4), dimension: 2, dtype:int64\n",
            "[[7 7 7 7]\n",
            " [7 7 7 7]\n",
            " [7 7 7 7]]\n"
          ],
          "name": "stdout"
        }
      ]
    },
    {
      "cell_type": "code",
      "metadata": {
        "id": "LHGT8f1i0OWF",
        "colab_type": "code",
        "outputId": "b254b13c-4c76-4300-adf7-e1e38980c2be",
        "colab": {
          "base_uri": "https://localhost:8080/",
          "height": 283
        }
      },
      "source": [
        "a = np.full( (3,4,2), 6)\n",
        "pprint(a)"
      ],
      "execution_count": 0,
      "outputs": [
        {
          "output_type": "stream",
          "text": [
            "shape: (3, 4, 2), dimension: 3, dtype:int64\n",
            "[[[6 6]\n",
            "  [6 6]\n",
            "  [6 6]\n",
            "  [6 6]]\n",
            "\n",
            " [[6 6]\n",
            "  [6 6]\n",
            "  [6 6]\n",
            "  [6 6]]\n",
            "\n",
            " [[6 6]\n",
            "  [6 6]\n",
            "  [6 6]\n",
            "  [6 6]]]\n"
          ],
          "name": "stdout"
        }
      ]
    },
    {
      "cell_type": "code",
      "metadata": {
        "id": "5D9hTJxX1GFW",
        "colab_type": "code",
        "outputId": "fbac016e-83d8-4ee7-e187-79a8af13ddce",
        "colab": {
          "base_uri": "https://localhost:8080/",
          "height": 88
        }
      },
      "source": [
        "arr = list(range(10))\n",
        "print(type(arr))\n",
        "print(arr)\n",
        "\n",
        "a = np.arange(10)\n",
        "print(type(a))\n",
        "print(a)\n"
      ],
      "execution_count": 0,
      "outputs": [
        {
          "output_type": "stream",
          "text": [
            "<class 'list'>\n",
            "[0, 1, 2, 3, 4, 5, 6, 7, 8, 9]\n",
            "<class 'numpy.ndarray'>\n",
            "[0 1 2 3 4 5 6 7 8 9]\n"
          ],
          "name": "stdout"
        }
      ]
    },
    {
      "cell_type": "code",
      "metadata": {
        "id": "2_zY_mWV1era",
        "colab_type": "code",
        "outputId": "d17f800f-602c-4d80-a6aa-af6cd477be57",
        "colab": {
          "base_uri": "https://localhost:8080/",
          "height": 88
        }
      },
      "source": [
        "a = np.arange(10)\n",
        "print(a)\n",
        "\n",
        "a = np.arange(3,10)\n",
        "print(a)\n",
        "\n",
        "a = np.arange(3,10, 2)\n",
        "print(a)\n",
        "\n",
        "a = np.arange(3,10, 2, dtype=float)\n",
        "print(a)"
      ],
      "execution_count": 0,
      "outputs": [
        {
          "output_type": "stream",
          "text": [
            "[0 1 2 3 4 5 6 7 8 9]\n",
            "[3 4 5 6 7 8 9]\n",
            "[3 5 7 9]\n",
            "[3. 5. 7. 9.]\n"
          ],
          "name": "stdout"
        }
      ]
    },
    {
      "cell_type": "code",
      "metadata": {
        "id": "t2E7hld01qdl",
        "colab_type": "code",
        "outputId": "292030b5-f6ab-403d-968e-3bf9bbcd29e6",
        "colab": {
          "base_uri": "https://localhost:8080/",
          "height": 88
        }
      },
      "source": [
        "a = np.random.normal(0, 1, (3,2))\n",
        "pprint(a)"
      ],
      "execution_count": 0,
      "outputs": [
        {
          "output_type": "stream",
          "text": [
            "shape: (3, 2), dimension: 2, dtype:float64\n",
            "[[-0.03175161 -0.37681879]\n",
            " [-1.683011   -0.29740656]\n",
            " [ 0.63728776  0.7617636 ]]\n"
          ],
          "name": "stdout"
        }
      ]
    },
    {
      "cell_type": "code",
      "metadata": {
        "id": "29YUiNd-2l9W",
        "colab_type": "code",
        "outputId": "99c64f1a-c9b7-46ea-f971-a6f06352563f",
        "colab": {
          "base_uri": "https://localhost:8080/",
          "height": 322
        }
      },
      "source": [
        "mean = 0\n",
        "std = 1\n",
        "count = 10000\n",
        "\n",
        "a = np.random.normal(mean, std, count)\n",
        "#a = np.random.normal(0, 1, 10000)\n",
        "pprint(a)\n",
        "\n",
        "import matplotlib.pyplot as plt\n",
        "plt.hist(a, bins=100)\n",
        "plt.show()\n",
        "\n"
      ],
      "execution_count": 0,
      "outputs": [
        {
          "output_type": "stream",
          "text": [
            "shape: (10000,), dimension: 1, dtype:float64\n",
            "[ 1.2014972  -0.30631398  0.78337774 ...  0.64233238  0.75219124\n",
            " -0.29619239]\n"
          ],
          "name": "stdout"
        },
        {
          "output_type": "display_data",
          "data": {
            "image/png": "[encoded data removed]",
            "text/plain": [
              "<Figure size 432x288 with 1 Axes>"
            ]
          },
          "metadata": {
            "tags": []
          }
        }
      ]
    },
    {
      "cell_type": "code",
      "metadata": {
        "id": "U7qM68073Vhs",
        "colab_type": "code",
        "outputId": "504a8d0f-3ce6-433d-ea98-ae45fa8e86e5",
        "colab": {
          "base_uri": "https://localhost:8080/",
          "height": 141
        }
      },
      "source": [
        "a = np.ones( (100,200) )\n",
        "print(a)"
      ],
      "execution_count": 0,
      "outputs": [
        {
          "output_type": "stream",
          "text": [
            "[[1. 1. 1. ... 1. 1. 1.]\n",
            " [1. 1. 1. ... 1. 1. 1.]\n",
            " [1. 1. 1. ... 1. 1. 1.]\n",
            " ...\n",
            " [1. 1. 1. ... 1. 1. 1.]\n",
            " [1. 1. 1. ... 1. 1. 1.]\n",
            " [1. 1. 1. ... 1. 1. 1.]]\n"
          ],
          "name": "stdout"
        }
      ]
    },
    {
      "cell_type": "code",
      "metadata": {
        "id": "HvG4qDws3rQQ",
        "colab_type": "code",
        "outputId": "e6094871-5ed2-4f89-9f30-0c2f086d10ff",
        "colab": {
          "base_uri": "https://localhost:8080/",
          "height": 1000
        }
      },
      "source": [
        "# 사이즈가 (3,4,2)이고 전부 0으로 채워진 어레이 생성\n",
        "\n",
        "# 사이즈가 (5,6,7)이고 정규 분포(평균 0, 표준편차 1)의 랜덤한 값으로 채워진 어레이 생성\n",
        "\n",
        "a = np.ones((3,4,2))\n",
        "pprint(a)\n",
        "\n",
        "a = np.random.normal(0, 1, (5,6,7))\n",
        "pprint(a)\n",
        "\n",
        "\n"
      ],
      "execution_count": 0,
      "outputs": [
        {
          "output_type": "stream",
          "text": [
            "shape: (3, 4, 2), dimension: 3, dtype:float64\n",
            "[[[1. 1.]\n",
            "  [1. 1.]\n",
            "  [1. 1.]\n",
            "  [1. 1.]]\n",
            "\n",
            " [[1. 1.]\n",
            "  [1. 1.]\n",
            "  [1. 1.]\n",
            "  [1. 1.]]\n",
            "\n",
            " [[1. 1.]\n",
            "  [1. 1.]\n",
            "  [1. 1.]\n",
            "  [1. 1.]]]\n",
            "shape: (5, 6, 7), dimension: 3, dtype:float64\n",
            "[[[ 9.69543049e-01 -4.15363294e-02  3.95056201e-01 -1.71916368e+00\n",
            "   -1.55539511e+00  5.95208989e-02  7.45325429e-01]\n",
            "  [-1.41678575e+00 -1.91991605e+00  5.04267226e-01 -4.21727282e-01\n",
            "    1.93790119e-01  8.05314947e-01  7.35282266e-01]\n",
            "  [ 1.37482081e+00  2.36788812e-01 -1.41841622e+00 -8.13857588e-01\n",
            "   -8.85073828e-01  9.12850509e-01 -2.79830575e-01]\n",
            "  [-1.96824238e+00  6.86494937e-01  4.16229938e-02 -1.87710048e-01\n",
            "    7.87043986e-01 -1.42742277e+00 -3.39566299e-01]\n",
            "  [-7.01938903e-01  1.10440685e+00  2.14196900e+00 -1.21752357e-01\n",
            "    1.61773318e+00  1.18313066e+00 -4.37060526e-02]\n",
            "  [ 5.16230459e-01  6.80945558e-01  2.84727781e-01  4.87166215e-01\n",
            "   -6.86578254e-01 -1.74668336e-01 -9.28135508e-01]]\n",
            "\n",
            " [[-7.21703636e-01 -3.38975717e-01  4.76549886e-01 -2.29526890e+00\n",
            "   -8.24361132e-01  1.78702556e+00 -7.04505294e-01]\n",
            "  [-3.05462403e-01 -1.60699828e+00 -6.45412972e-01  1.26756138e+00\n",
            "   -5.22797135e-01  7.62088335e-01 -8.16183943e-01]\n",
            "  [-4.68507574e-01 -1.79854363e+00  1.48764686e+00 -6.15333693e-01\n",
            "    6.62581471e-02  3.28941638e-01  7.68605381e-01]\n",
            "  [ 1.65749160e-01 -7.28612179e-02  1.66070548e+00 -1.12085436e+00\n",
            "    1.51571247e-02 -5.73033294e-04 -1.36347948e+00]\n",
            "  [ 9.11549439e-01 -5.32784901e-01 -6.90015973e-01  1.77167243e+00\n",
            "   -1.46669697e+00 -3.62277890e-01 -4.95588196e-01]\n",
            "  [ 1.47799733e+00  2.69980965e-01  4.27088556e-01  1.02859445e+00\n",
            "   -3.12223976e-01 -3.56620212e-01 -2.01405411e+00]]\n",
            "\n",
            " [[-1.59281889e-02  8.53581171e-02  2.03916828e-01 -4.87341067e-01\n",
            "    6.29511735e-01 -2.66273160e-01 -1.11824897e+00]\n",
            "  [ 1.31355324e+00 -9.66480824e-01  1.23388232e-01 -6.45295891e-01\n",
            "   -2.73216722e-01  1.62314610e+00 -8.49349904e-01]\n",
            "  [-2.38603910e-01 -1.56172331e-01 -1.09761100e-01 -5.40047037e-02\n",
            "   -3.21827201e-01 -8.52126786e-01 -2.98507874e-01]\n",
            "  [ 2.99938117e-01  2.10771416e+00  1.01127849e+00  2.03271525e+00\n",
            "    1.23444911e+00  6.24205603e-01  1.55860653e+00]\n",
            "  [-7.54336230e-01 -1.27782081e+00 -7.91453222e-02 -9.78508151e-01\n",
            "   -1.16356039e+00 -1.35332733e+00 -9.06324854e-01]\n",
            "  [-1.80511768e+00 -2.01988658e+00  1.13271692e+00 -1.82291391e+00\n",
            "   -1.72419771e+00 -7.28167512e-01  3.87574400e-01]]\n",
            "\n",
            " [[-4.68972260e-01 -9.73399046e-01 -2.55467802e-01 -2.47432244e-01\n",
            "   -1.40309018e+00  2.89683289e-01  4.43302007e-01]\n",
            "  [ 1.20521079e+00  5.85687291e-01  9.19276278e-01 -1.23404933e-02\n",
            "    1.56321650e+00 -2.10122884e-01 -1.69167288e+00]\n",
            "  [ 9.86423146e-01  2.57368164e-01  1.96785724e+00 -1.53833003e+00\n",
            "    8.79773974e-01 -7.99815342e-01 -3.30731525e-01]\n",
            "  [ 1.66766735e+00  1.12638422e+00 -9.42364318e-01  2.52096109e-01\n",
            "    7.51944837e-01  5.03891363e-01  1.16233115e+00]\n",
            "  [-2.23574788e-01 -3.75700475e-01 -7.22960235e-01  7.37907570e-01\n",
            "    1.76316504e+00  8.02671752e-01  2.23834850e+00]\n",
            "  [ 6.14902193e-01 -1.57829560e+00 -7.82745251e-01  1.63273271e+00\n",
            "    4.16348352e-01  1.01522355e+00  1.23713077e-01]]\n",
            "\n",
            " [[-9.18532057e-01 -8.48566463e-01  6.72998388e-01  1.17532198e+00\n",
            "   -2.30334736e+00 -1.03211430e-01  1.31626703e+00]\n",
            "  [ 5.98562654e-01  3.60439266e-01  1.88865750e+00  1.67188727e-01\n",
            "    1.14691335e+00 -2.30743301e-01 -3.68317168e-01]\n",
            "  [ 9.88836984e-01  4.70425047e-01  8.12533159e-02 -4.46474487e-01\n",
            "    8.04228475e-01  3.99729810e-01 -3.64235495e-01]\n",
            "  [ 7.29627775e-01  1.13942056e+00  7.32071497e-01  1.91879905e+00\n",
            "   -5.28972431e-01  3.76729438e-01  1.32994004e+00]\n",
            "  [-1.46345973e+00 -7.05452527e-02  9.42006220e-02 -2.21277058e-01\n",
            "    1.83019944e+00 -8.25828813e-01 -7.18736492e-02]\n",
            "  [ 8.54349098e-01 -8.45675009e-02 -1.84177775e+00 -4.09766483e-01\n",
            "    2.03940364e-01 -1.08487098e+00  1.20486790e-01]]]\n"
          ],
          "name": "stdout"
        }
      ]
    },
    {
      "cell_type": "code",
      "metadata": {
        "id": "Kz_naZgb6uQN",
        "colab_type": "code",
        "outputId": "adefc873-70a4-4909-a904-3a7bb7f856ac",
        "colab": {
          "base_uri": "https://localhost:8080/",
          "height": 106
        }
      },
      "source": [
        "arr = [[1,2,3,], [4,5,6]]\n",
        "a = np.array(arr)\n",
        "pprint(a)\n",
        "\n",
        "np.savetxt(\"data1.csv\", a, delimiter=',')\n",
        "#!ls -al\n",
        "!cat data1.csv"
      ],
      "execution_count": 0,
      "outputs": [
        {
          "output_type": "stream",
          "text": [
            "shape: (2, 3), dimension: 2, dtype:int64\n",
            "[[1 2 3]\n",
            " [4 5 6]]\n",
            "1.000000000000000000e+00,2.000000000000000000e+00,3.000000000000000000e+00\n",
            "4.000000000000000000e+00,5.000000000000000000e+00,6.000000000000000000e+00\n"
          ],
          "name": "stdout"
        }
      ]
    },
    {
      "cell_type": "code",
      "metadata": {
        "id": "vcjFdJul7VsG",
        "colab_type": "code",
        "outputId": "1a350f31-6240-49cd-beb6-ecb023b17120",
        "colab": {
          "base_uri": "https://localhost:8080/",
          "height": 70
        }
      },
      "source": [
        "b = np.loadtxt(\"data1.csv\", delimiter=\",\")\n",
        "pprint(b)"
      ],
      "execution_count": 0,
      "outputs": [
        {
          "output_type": "stream",
          "text": [
            "shape: (2, 3), dimension: 2, dtype:float64\n",
            "[[1. 2. 3.]\n",
            " [4. 5. 6.]]\n"
          ],
          "name": "stdout"
        }
      ]
    },
    {
      "cell_type": "code",
      "metadata": {
        "id": "WARC_nd171DN",
        "colab_type": "code",
        "outputId": "a99b66d7-6a5e-4eb7-addf-cd555a17ed22",
        "colab": {
          "base_uri": "https://localhost:8080/",
          "height": 88
        }
      },
      "source": [
        "f = open(\"data2.csv\", \"w\")\n",
        "f.write(\"a,b,c\\n\")\n",
        "f.write(\"1,2,3\\n\")\n",
        "f.write(\"4,5,6\\n\")\n",
        "f.write(\"7,8,9\\n\")\n",
        "f.close()\n",
        "\n",
        "!cat data2.csv"
      ],
      "execution_count": 0,
      "outputs": [
        {
          "output_type": "stream",
          "text": [
            "a,b,c\n",
            "1,2,3\n",
            "4,5,6\n",
            "7,8,9\n"
          ],
          "name": "stdout"
        }
      ]
    },
    {
      "cell_type": "code",
      "metadata": {
        "id": "9Kde-a3W8NWU",
        "colab_type": "code",
        "outputId": "8fa7c8bc-5409-45b1-a04b-4aeb02718395",
        "colab": {
          "base_uri": "https://localhost:8080/",
          "height": 88
        }
      },
      "source": [
        "b = np.loadtxt(\"data2.csv\", skiprows=1, delimiter=',')\n",
        "pprint(b)"
      ],
      "execution_count": 0,
      "outputs": [
        {
          "output_type": "stream",
          "text": [
            "shape: (3, 3), dimension: 2, dtype:float64\n",
            "[[1. 2. 3.]\n",
            " [4. 5. 6.]\n",
            " [7. 8. 9.]]\n"
          ],
          "name": "stdout"
        }
      ]
    },
    {
      "cell_type": "code",
      "metadata": {
        "id": "yG6V_WjP89X-",
        "colab_type": "code",
        "outputId": "3d698222-6b4a-4ef9-fc47-9fd0b0cfa8ae",
        "colab": {
          "base_uri": "https://localhost:8080/",
          "height": 106
        }
      },
      "source": [
        "a = np.random.random( (5,2,3) )\n",
        "\n",
        "print(\"shape=\", a.shape)\n",
        "print(\"len=\", len(a))\n",
        "print(\"ndim=\", a.ndim)\n",
        "print(\"size=\", a.size)\n",
        "print(\"dtype=\", a.dtype)\n"
      ],
      "execution_count": 0,
      "outputs": [
        {
          "output_type": "stream",
          "text": [
            "shape= (5, 2, 3)\n",
            "len= 5\n",
            "ndim= 3\n",
            "size= 30\n",
            "dtype= float64\n"
          ],
          "name": "stdout"
        }
      ]
    },
    {
      "cell_type": "code",
      "metadata": {
        "id": "M0PNTshx9wok",
        "colab_type": "code",
        "outputId": "7ae5ccc1-3925-452d-cf69-6e87398ffaeb",
        "colab": {
          "base_uri": "https://localhost:8080/",
          "height": 88
        }
      },
      "source": [
        "\n",
        "a = np.array([\n",
        "    [\n",
        "        [ 111, 112 ],\n",
        "        [ 121, 122 ],\n",
        "        [ 131, 132 ],\n",
        "        [ 141, 142 ]\n",
        "    ],\n",
        "    [\n",
        "        [ 211, 212 ],\n",
        "        [ 221, 222 ],\n",
        "        [ 231, 232 ],\n",
        "        [ 241, 242 ]\n",
        "    ],\n",
        "    [\n",
        "        [ 311, 312 ],\n",
        "        [ 321, 322 ],\n",
        "        [ 331, 332 ],\n",
        "        [ 341, 342 ]\n",
        "    ]\n",
        "])\n",
        "\n",
        "#print(a)\n",
        "#print(a[0])\n",
        "# print(a[0][0])\n",
        "# print(a[0][0][0])\n",
        "\n",
        "#print(a[2][3][1])\n",
        "#print(a[2,3,1])\n",
        "print(a[0,0,1])\n",
        "\n"
      ],
      "execution_count": 0,
      "outputs": [
        {
          "output_type": "stream",
          "text": [
            "112\n",
            "[[112 122 132 142]\n",
            " [212 222 232 242]\n",
            " [312 322 332 342]]\n"
          ],
          "name": "stdout"
        }
      ]
    },
    {
      "cell_type": "code",
      "metadata": {
        "id": "v6pNe8t--8Ft",
        "colab_type": "code",
        "outputId": "34666520-e453-4a04-f53b-1c792c6ae758",
        "colab": {
          "base_uri": "https://localhost:8080/",
          "height": 70
        }
      },
      "source": [
        "arr = [0,1,2,3,4,5]\n",
        "\n",
        "# print(arr[1:4])\n",
        "\n",
        "\n",
        "a = np.array([\n",
        "    [ 1,  2,  3,  4,  5],\n",
        "    [ 6,  7,  8,  9, 10],\n",
        "    [11, 12, 13, 14, 15],\n",
        "    [16, 17, 18, 19, 20]\n",
        "])\n",
        "\n",
        "# print(a)\n",
        "# print(a[:])\n",
        "# print(a[:2])\n",
        "# print(a[1:])\n",
        "print(a[0:3])\n"
      ],
      "execution_count": 0,
      "outputs": [
        {
          "output_type": "stream",
          "text": [
            "[[ 1  2  3  4  5]\n",
            " [ 6  7  8  9 10]\n",
            " [11 12 13 14 15]]\n"
          ],
          "name": "stdout"
        }
      ]
    },
    {
      "cell_type": "code",
      "metadata": {
        "id": "m2ufib4X_LSm",
        "colab_type": "code",
        "outputId": "5ead39ad-9bea-443a-9f82-f79cbf06f0a2",
        "colab": {
          "base_uri": "https://localhost:8080/",
          "height": 88
        }
      },
      "source": [
        "a = np.array([\n",
        "    [ 1,  2,  3,  4,  5],\n",
        "    [ 6,  7,  8,  9, 10],\n",
        "    [11, 12, 13, 14, 15],\n",
        "    [16, 17, 18, 19, 20]\n",
        "])\n",
        "\n",
        "#print(a[:][:])\n",
        "# print(a[:,:])\n",
        "print(a[1:3,:])\n",
        "print(a[1:3,1:4])\n"
      ],
      "execution_count": 0,
      "outputs": [
        {
          "output_type": "stream",
          "text": [
            "[[ 6  7  8  9 10]\n",
            " [11 12 13 14 15]]\n",
            "[[ 7  8  9]\n",
            " [12 13 14]]\n"
          ],
          "name": "stdout"
        }
      ]
    },
    {
      "cell_type": "code",
      "metadata": {
        "id": "Hk4LTirBA3Z1",
        "colab_type": "code",
        "outputId": "ae62218d-e9cc-406a-995c-b5527e5c4e52",
        "colab": {
          "base_uri": "https://localhost:8080/",
          "height": 283
        }
      },
      "source": [
        "a = np.array([\n",
        "    [ 1,  2,  3,  4,  5],\n",
        "    [ 6,  7,  8,  9, 10],\n",
        "    [11, 12, 13, 14, 15],\n",
        "    [16, 17, 18, 19, 20]\n",
        "])\n",
        "\n",
        "print(a)\n",
        "\n",
        "print(a[1,2])\n",
        "a[1,2] = 999\n",
        "print(a)\n",
        "\n",
        "print(a[1:3, 1:4])\n",
        "a[1:3, 1:4] = 888\n",
        "print(a)\n"
      ],
      "execution_count": 0,
      "outputs": [
        {
          "output_type": "stream",
          "text": [
            "[[ 1  2  3  4  5]\n",
            " [ 6  7  8  9 10]\n",
            " [11 12 13 14 15]\n",
            " [16 17 18 19 20]]\n",
            "8\n",
            "[[  1   2   3   4   5]\n",
            " [  6   7 999   9  10]\n",
            " [ 11  12  13  14  15]\n",
            " [ 16  17  18  19  20]]\n",
            "[[  7 999   9]\n",
            " [ 12  13  14]]\n",
            "[[  1   2   3   4   5]\n",
            " [  6 888 888 888  10]\n",
            " [ 11 888 888 888  15]\n",
            " [ 16  17  18  19  20]]\n"
          ],
          "name": "stdout"
        }
      ]
    },
    {
      "cell_type": "code",
      "metadata": {
        "id": "r1bH3Mq6BfJg",
        "colab_type": "code",
        "outputId": "23e9e8f7-c703-441e-d8f5-b147af20c892",
        "colab": {
          "base_uri": "https://localhost:8080/",
          "height": 247
        }
      },
      "source": [
        "a = np.arange(1,13)\n",
        "pprint(a)\n",
        "\n",
        "b = a.reshape(3,4)\n",
        "pprint(b)\n",
        "\n",
        "c = b.reshape(6,2)\n",
        "pprint(c)\n"
      ],
      "execution_count": 0,
      "outputs": [
        {
          "output_type": "stream",
          "text": [
            "shape: (12,), dimension: 1, dtype:int64\n",
            "[ 1  2  3  4  5  6  7  8  9 10 11 12]\n",
            "shape: (3, 4), dimension: 2, dtype:int64\n",
            "[[ 1  2  3  4]\n",
            " [ 5  6  7  8]\n",
            " [ 9 10 11 12]]\n",
            "shape: (6, 2), dimension: 2, dtype:int64\n",
            "[[ 1  2]\n",
            " [ 3  4]\n",
            " [ 5  6]\n",
            " [ 7  8]\n",
            " [ 9 10]\n",
            " [11 12]]\n"
          ],
          "name": "stdout"
        }
      ]
    },
    {
      "cell_type": "code",
      "metadata": {
        "id": "sB1i57gwCcYX",
        "colab_type": "code",
        "outputId": "23bd6c9a-af0c-4f37-99c6-c5a8320077a4",
        "colab": {
          "base_uri": "https://localhost:8080/",
          "height": 143
        }
      },
      "source": [
        "\n",
        "a = np.array([\n",
        "    [ 0,  0,  0],\n",
        "    [10, 10, 10],\n",
        "    [20, 20, 20],\n",
        "    [30, 30, 30]\n",
        "])\n",
        "b = np.array([\n",
        "    [ 0,  1,  2],\n",
        "    [ 0,  1,  2],\n",
        "    [ 0,  1,  2],\n",
        "    [ 0,  1,  2]    \n",
        "])\n",
        "\n",
        "# print(a+b)\n",
        "# print(a-b)\n",
        "# print(a*b)\n",
        "# print(a/b)"
      ],
      "execution_count": 0,
      "outputs": [
        {
          "output_type": "stream",
          "text": [
            "[[nan  0.  0.]\n",
            " [inf 10.  5.]\n",
            " [inf 20. 10.]\n",
            " [inf 30. 15.]]\n"
          ],
          "name": "stdout"
        },
        {
          "output_type": "stream",
          "text": [
            "/usr/local/lib/python3.6/dist-packages/ipykernel_launcher.py:18: RuntimeWarning: divide by zero encountered in true_divide\n",
            "/usr/local/lib/python3.6/dist-packages/ipykernel_launcher.py:18: RuntimeWarning: invalid value encountered in true_divide\n"
          ],
          "name": "stderr"
        }
      ]
    },
    {
      "cell_type": "code",
      "metadata": {
        "id": "yGHurYjnC9al",
        "colab_type": "code",
        "outputId": "bd73f95e-446e-447a-da3d-8f3cc3341495",
        "colab": {
          "base_uri": "https://localhost:8080/",
          "height": 88
        }
      },
      "source": [
        "a = np.array([\n",
        "    [ 0,  0,  0],\n",
        "    [10, 10, 10],\n",
        "    [20, 20, 20],\n",
        "    [30, 30, 30]\n",
        "])\n",
        "b = np.array([\n",
        "    [ 0,  1,  2],\n",
        "])\n",
        "\n",
        "print(a+b)"
      ],
      "execution_count": 0,
      "outputs": [
        {
          "output_type": "stream",
          "text": [
            "[[ 0  1  2]\n",
            " [10 11 12]\n",
            " [20 21 22]\n",
            " [30 31 32]]\n"
          ],
          "name": "stdout"
        }
      ]
    },
    {
      "cell_type": "code",
      "metadata": {
        "id": "YLd_y3Q9Dvo2",
        "colab_type": "code",
        "outputId": "9fe697f9-435b-4994-f269-f056e0778b22",
        "colab": {
          "base_uri": "https://localhost:8080/",
          "height": 88
        }
      },
      "source": [
        "a = np.array([\n",
        "    [ 0],\n",
        "    [10],\n",
        "    [20],\n",
        "    [30]\n",
        "])\n",
        "\n",
        "b = np.array([\n",
        "    [ 0,  1,  2],\n",
        "    [ 0,  1,  2],\n",
        "    [ 0,  1,  2],\n",
        "    [ 0,  1,  2]    \n",
        "])\n",
        "\n",
        "print(a+b)"
      ],
      "execution_count": 0,
      "outputs": [
        {
          "output_type": "stream",
          "text": [
            "[[ 0  1  2]\n",
            " [10 11 12]\n",
            " [20 21 22]\n",
            " [30 31 32]]\n"
          ],
          "name": "stdout"
        }
      ]
    },
    {
      "cell_type": "code",
      "metadata": {
        "id": "UKoiLuxLEFSV",
        "colab_type": "code",
        "outputId": "1bfc6a4a-8b34-4687-9faa-5b4180cd9a9d",
        "colab": {
          "base_uri": "https://localhost:8080/",
          "height": 88
        }
      },
      "source": [
        "a = np.array([\n",
        "    [ 0],\n",
        "    [10],\n",
        "    [20],\n",
        "    [30]\n",
        "])\n",
        "\n",
        "b = np.array([\n",
        "    [ 0,  1,  2],\n",
        "])\n",
        "\n",
        "print(a+b)\n",
        "# print(a*b)"
      ],
      "execution_count": 0,
      "outputs": [
        {
          "output_type": "stream",
          "text": [
            "[[ 0  0  0]\n",
            " [ 0 10 20]\n",
            " [ 0 20 40]\n",
            " [ 0 30 60]]\n"
          ],
          "name": "stdout"
        }
      ]
    },
    {
      "cell_type": "code",
      "metadata": {
        "id": "ygY3ga4iV7GW",
        "colab_type": "code",
        "outputId": "5ea3ef96-7860-4977-8af4-d2804da0d17c",
        "colab": {
          "base_uri": "https://localhost:8080/",
          "height": 89
        }
      },
      "source": [
        "# Quiz. # 4~15의 값을 갖는 4x3 어레이 생성\n",
        "\n",
        "a = np.arange(4,16).reshape(4,3)\n",
        "print(a)\n"
      ],
      "execution_count": 0,
      "outputs": [
        {
          "output_type": "stream",
          "text": [
            "[[ 4  5  6]\n",
            " [ 7  8  9]\n",
            " [10 11 12]\n",
            " [13 14 15]]\n"
          ],
          "name": "stdout"
        }
      ]
    },
    {
      "cell_type": "code",
      "metadata": {
        "id": "O_8DPvpyV-98",
        "colab_type": "code",
        "outputId": "032b2453-678a-44fc-a3cd-27e7581db31c",
        "colab": {
          "base_uri": "https://localhost:8080/",
          "height": 89
        }
      },
      "source": [
        "# Quiz.전부 0인 4x3 어레이 중 가운제 2개만 1인 어레이\n",
        "# 0 0 0\n",
        "# 0 1 0\n",
        "# 0 1 0\n",
        "# 0 0 0\n",
        "\n",
        "a = np.zeros((4,3))\n",
        "a[1,1] = 1\n",
        "a[2,1] = 1\n",
        "print(a)\n"
      ],
      "execution_count": 0,
      "outputs": [
        {
          "output_type": "stream",
          "text": [
            "[[0. 0. 0.]\n",
            " [0. 1. 0.]\n",
            " [0. 1. 0.]\n",
            " [0. 0. 0.]]\n"
          ],
          "name": "stdout"
        }
      ]
    },
    {
      "cell_type": "code",
      "metadata": {
        "id": "RrrCB0ZWWFZH",
        "colab_type": "code",
        "outputId": "68961d09-d6d3-4d6b-d5f3-21cbbb16743e",
        "colab": {
          "base_uri": "https://localhost:8080/",
          "height": 107
        }
      },
      "source": [
        "# Quiz\n",
        "# [ 1. 1. 1. 1. 1.] \n",
        "# [ 1. 1. 1. 1. 1.] \n",
        "# [ 1. 1. 1. 1. 1.] \n",
        "# [ 1. 1. 1. 1. 1.] \n",
        "# [ 1. 1. 1. 1. 1.]\n",
        "# 를 다음으로 변환\n",
        "# [ 1. 1. 1. 1. 1.] \n",
        "# [ 1. 0. 0. 0. 1.] \n",
        "# [ 1. 0. 0. 0. 1.] \n",
        "# [ 1. 0. 0. 0. 1.] \n",
        "# [ 1. 1. 1. 1. 1.]\n",
        "\n",
        "a = np.ones((5,5))\n",
        "a[1:4,1:4] = 0\n",
        "\n",
        "print(a)\n"
      ],
      "execution_count": 0,
      "outputs": [
        {
          "output_type": "stream",
          "text": [
            "[[1. 1. 1. 1. 1.]\n",
            " [1. 0. 0. 0. 1.]\n",
            " [1. 0. 0. 0. 1.]\n",
            " [1. 0. 0. 0. 1.]\n",
            " [1. 1. 1. 1. 1.]]\n"
          ],
          "name": "stdout"
        }
      ]
    },
    {
      "cell_type": "code",
      "metadata": {
        "id": "yzzWdfM_WIc6",
        "colab_type": "code",
        "outputId": "6c590f3c-c5cc-4611-bbc0-f33aee4bc8d3",
        "colab": {
          "base_uri": "https://localhost:8080/",
          "height": 35
        }
      },
      "source": [
        "# Quiz\n",
        "# [0 1 0 1 0 1 0 1] 생성\n",
        "\n",
        "a = np.zeros(8, dtype=int)\n",
        "a[1::2] = 1\n",
        "print(a)"
      ],
      "execution_count": 0,
      "outputs": [
        {
          "output_type": "stream",
          "text": [
            "[0 1 0 1 0 1 0 1]\n"
          ],
          "name": "stdout"
        }
      ]
    },
    {
      "cell_type": "code",
      "metadata": {
        "id": "8y2flROXWMDi",
        "colab_type": "code",
        "outputId": "cee19f19-8cac-45bc-c2a8-f22d3a166b7c",
        "colab": {
          "base_uri": "https://localhost:8080/",
          "height": 233
        }
      },
      "source": [
        "# Quiz\n",
        "\n",
        "# [0 1 0 1 0 1 0 1]\n",
        "# [1 0 1 0 1 0 1 0]\n",
        "# [0 1 0 1 0 1 0 1]\n",
        "# [1 0 1 0 1 0 1 0]생성\n",
        "\n",
        "a = np.zeros((4,8), dtype=int)\n",
        "print(a)\n",
        "a[::2,1::2] = 1\n",
        "print(a)\n",
        "a[1::2,::2] = 1\n",
        "print(a)"
      ],
      "execution_count": 0,
      "outputs": [
        {
          "output_type": "stream",
          "text": [
            "[[0 0 0 0 0 0 0 0]\n",
            " [0 0 0 0 0 0 0 0]\n",
            " [0 0 0 0 0 0 0 0]\n",
            " [0 0 0 0 0 0 0 0]]\n",
            "[[0 1 0 1 0 1 0 1]\n",
            " [0 0 0 0 0 0 0 0]\n",
            " [0 1 0 1 0 1 0 1]\n",
            " [0 0 0 0 0 0 0 0]]\n",
            "[[0 1 0 1 0 1 0 1]\n",
            " [1 0 1 0 1 0 1 0]\n",
            " [0 1 0 1 0 1 0 1]\n",
            " [1 0 1 0 1 0 1 0]]\n"
          ],
          "name": "stdout"
        }
      ]
    },
    {
      "cell_type": "code",
      "metadata": {
        "id": "MQbAS5oIYtKo",
        "colab_type": "code",
        "outputId": "1a330f1c-8573-4d16-c7e6-6f40b0175bc0",
        "colab": {
          "base_uri": "https://localhost:8080/",
          "height": 305
        }
      },
      "source": [
        "a = np.arange(20).reshape(5,4)\n",
        "print(a)\n",
        "print()\n",
        "print(a[0:4])\n",
        "\n",
        "\n",
        "print(a[0:4][1:3])\n",
        "print(a[0:4,1:3])"
      ],
      "execution_count": 0,
      "outputs": [
        {
          "output_type": "stream",
          "text": [
            "[[ 0  1  2  3]\n",
            " [ 4  5  6  7]\n",
            " [ 8  9 10 11]\n",
            " [12 13 14 15]\n",
            " [16 17 18 19]]\n",
            "\n",
            "[[ 0  1  2  3]\n",
            " [ 4  5  6  7]\n",
            " [ 8  9 10 11]\n",
            " [12 13 14 15]]\n",
            "[[ 4  5  6  7]\n",
            " [ 8  9 10 11]]\n",
            "[[ 1  2]\n",
            " [ 5  6]\n",
            " [ 9 10]\n",
            " [13 14]]\n"
          ],
          "name": "stdout"
        }
      ]
    },
    {
      "cell_type": "code",
      "metadata": {
        "id": "s6qNrpuDZbtk",
        "colab_type": "code",
        "outputId": "37da00c1-e574-49fa-fe9c-5bb112647f71",
        "colab": {
          "base_uri": "https://localhost:8080/",
          "height": 161
        }
      },
      "source": [
        "a = np.arange(12).reshape(4,3)\n",
        "print(a)\n",
        "# print(a+2)\n",
        "b = a+2\n",
        "print(b)"
      ],
      "execution_count": 0,
      "outputs": [
        {
          "output_type": "stream",
          "text": [
            "[[ 0  1  2]\n",
            " [ 3  4  5]\n",
            " [ 6  7  8]\n",
            " [ 9 10 11]]\n",
            "[[ 2  3  4]\n",
            " [ 5  6  7]\n",
            " [ 8  9 10]\n",
            " [11 12 13]]\n"
          ],
          "name": "stdout"
        }
      ]
    },
    {
      "cell_type": "code",
      "metadata": {
        "id": "7TWEZ6Q5Zvy9",
        "colab_type": "code",
        "outputId": "1039cb6f-3687-4834-eb14-e48774fe48fd",
        "colab": {
          "base_uri": "https://localhost:8080/",
          "height": 89
        }
      },
      "source": [
        "a = np.arange(12).reshape(4,3)\n",
        "print(a-2)"
      ],
      "execution_count": 0,
      "outputs": [
        {
          "output_type": "stream",
          "text": [
            "[[-2 -1  0]\n",
            " [ 1  2  3]\n",
            " [ 4  5  6]\n",
            " [ 7  8  9]]\n"
          ],
          "name": "stdout"
        }
      ]
    },
    {
      "cell_type": "code",
      "metadata": {
        "id": "iJnj7R4nZzq3",
        "colab_type": "code",
        "outputId": "080d1c0f-9584-4a4a-edd5-7c94efe197ae",
        "colab": {
          "base_uri": "https://localhost:8080/",
          "height": 89
        }
      },
      "source": [
        "a = np.arange(12).reshape(4,3)\n",
        "print(a*2)"
      ],
      "execution_count": 0,
      "outputs": [
        {
          "output_type": "stream",
          "text": [
            "[[ 0  2  4]\n",
            " [ 6  8 10]\n",
            " [12 14 16]\n",
            " [18 20 22]]\n"
          ],
          "name": "stdout"
        }
      ]
    },
    {
      "cell_type": "code",
      "metadata": {
        "id": "-d4UbHdcZ1n8",
        "colab_type": "code",
        "outputId": "1ff0b07d-fe09-4386-c3c0-086a7430ec59",
        "colab": {
          "base_uri": "https://localhost:8080/",
          "height": 89
        }
      },
      "source": [
        "a = np.arange(12).reshape(4,3)\n",
        "print(a/2)"
      ],
      "execution_count": 0,
      "outputs": [
        {
          "output_type": "stream",
          "text": [
            "[[0.  0.5 1. ]\n",
            " [1.5 2.  2.5]\n",
            " [3.  3.5 4. ]\n",
            " [4.5 5.  5.5]]\n"
          ],
          "name": "stdout"
        }
      ]
    },
    {
      "cell_type": "code",
      "metadata": {
        "id": "3qDfem9GZ52k",
        "colab_type": "code",
        "outputId": "08b816f0-d286-40c4-99bb-25e17e85ed56",
        "colab": {
          "base_uri": "https://localhost:8080/",
          "height": 89
        }
      },
      "source": [
        "a = np.arange(12).reshape(4,3)\n",
        "print(a//2)"
      ],
      "execution_count": 0,
      "outputs": [
        {
          "output_type": "stream",
          "text": [
            "[[0 0 1]\n",
            " [1 2 2]\n",
            " [3 3 4]\n",
            " [4 5 5]]\n"
          ],
          "name": "stdout"
        }
      ]
    },
    {
      "cell_type": "code",
      "metadata": {
        "id": "YWB_9ekzZ6A6",
        "colab_type": "code",
        "outputId": "31c7c8fc-eb1a-428d-f94f-cdf8cb0c474d",
        "colab": {
          "base_uri": "https://localhost:8080/",
          "height": 89
        }
      },
      "source": [
        "a = np.arange(12).reshape(4,3)\n",
        "print(a%2)"
      ],
      "execution_count": 0,
      "outputs": [
        {
          "output_type": "stream",
          "text": [
            "[[0 1 0]\n",
            " [1 0 1]\n",
            " [0 1 0]\n",
            " [1 0 1]]\n"
          ],
          "name": "stdout"
        }
      ]
    },
    {
      "cell_type": "code",
      "metadata": {
        "id": "-kYAiD90Z6Da",
        "colab_type": "code",
        "outputId": "2ba35cd1-7132-4e59-c4e2-721075daaf9e",
        "colab": {
          "base_uri": "https://localhost:8080/",
          "height": 161
        }
      },
      "source": [
        "a = np.arange(12).reshape(4,3)\n",
        "b = a%2\n",
        "print(b)\n",
        "print(b==1)"
      ],
      "execution_count": 0,
      "outputs": [
        {
          "output_type": "stream",
          "text": [
            "[[0 1 0]\n",
            " [1 0 1]\n",
            " [0 1 0]\n",
            " [1 0 1]]\n",
            "[[False  True False]\n",
            " [ True False  True]\n",
            " [False  True False]\n",
            " [ True False  True]]\n"
          ],
          "name": "stdout"
        }
      ]
    },
    {
      "cell_type": "code",
      "metadata": {
        "id": "YNoI0OwPbRUn",
        "colab_type": "code",
        "outputId": "6945b2f2-28f9-4ecd-a861-95c2bc14ba28",
        "colab": {
          "base_uri": "https://localhost:8080/",
          "height": 179
        }
      },
      "source": [
        "a = np.arange(12).reshape(3,4)\n",
        "b = np.array([\n",
        "    [3,3,3,3],\n",
        "    [4,4,4,4],\n",
        "    [5,5,5,5]\n",
        "])\n",
        "print(a)\n",
        "print(b)\n",
        "print(a==b)"
      ],
      "execution_count": 0,
      "outputs": [
        {
          "output_type": "stream",
          "text": [
            "[[ 0  1  2  3]\n",
            " [ 4  5  6  7]\n",
            " [ 8  9 10 11]]\n",
            "[[3 3 3 3]\n",
            " [4 4 4 4]\n",
            " [5 5 5 5]]\n",
            "[[False False False  True]\n",
            " [ True False False False]\n",
            " [False False False False]]\n"
          ],
          "name": "stdout"
        }
      ]
    },
    {
      "cell_type": "code",
      "metadata": {
        "id": "BCm8JWA9b7us",
        "colab_type": "code",
        "outputId": "6177e992-2b33-41c2-a386-3395ee079bc5",
        "colab": {
          "base_uri": "https://localhost:8080/",
          "height": 71
        }
      },
      "source": [
        "print(a>b)"
      ],
      "execution_count": 0,
      "outputs": [
        {
          "output_type": "stream",
          "text": [
            "[[False False False False]\n",
            " [False  True  True  True]\n",
            " [ True  True  True  True]]\n"
          ],
          "name": "stdout"
        }
      ]
    },
    {
      "cell_type": "code",
      "metadata": {
        "id": "zar8WIJ8cDAk",
        "colab_type": "code",
        "outputId": "1fadce53-91f3-4e3e-c8e7-1b0b8683af4e",
        "colab": {
          "base_uri": "https://localhost:8080/",
          "height": 143
        }
      },
      "source": [
        "print(a==b)\n",
        "print(np.equal(a,b))\n",
        "print(np.array_equal(a,b))"
      ],
      "execution_count": 0,
      "outputs": [
        {
          "output_type": "stream",
          "text": [
            "[[False False False  True]\n",
            " [ True False False False]\n",
            " [False False False False]]\n",
            "[[False False False  True]\n",
            " [ True False False False]\n",
            " [False False False False]]\n",
            "False\n"
          ],
          "name": "stdout"
        }
      ]
    },
    {
      "cell_type": "code",
      "metadata": {
        "id": "xuoYcFBlcf8K",
        "colab_type": "code",
        "outputId": "92d42cfc-bf75-4ab5-91ca-190e37b4715e",
        "colab": {
          "base_uri": "https://localhost:8080/",
          "height": 143
        }
      },
      "source": [
        "print(a)\n",
        "print(b)\n",
        "# e = (a==b)\n",
        "# print(e)\n",
        "# print(a[e])\n",
        "print(a[a==b])"
      ],
      "execution_count": 0,
      "outputs": [
        {
          "output_type": "stream",
          "text": [
            "[[ 0  1  2  3]\n",
            " [ 4  5  6  7]\n",
            " [ 8  9 10 11]]\n",
            "[[3 3 3 3]\n",
            " [4 4 4 4]\n",
            " [5 5 5 5]]\n",
            "<class 'numpy.ndarray'>\n"
          ],
          "name": "stdout"
        }
      ]
    },
    {
      "cell_type": "code",
      "metadata": {
        "id": "vwj1aSOSdDj1",
        "colab_type": "code",
        "outputId": "942a02ce-c15d-42d0-91f1-d694bfe16873",
        "colab": {
          "base_uri": "https://localhost:8080/",
          "height": 161
        }
      },
      "source": [
        "# Quiz\n",
        "# 짝수 들의 합\n",
        "a = np.arange(12).reshape(3,4)\n",
        "print(a)\n",
        "print(a%2==0)\n",
        "print(a[a%2==0])\n",
        "np.sum(a[a%2==0])\n",
        "\n",
        "# l = list(range(12))\n",
        "# sum([x for x in l if x%2==0])\n",
        "\n",
        "\n",
        "\n"
      ],
      "execution_count": 0,
      "outputs": [
        {
          "output_type": "stream",
          "text": [
            "[[ 0  1  2  3]\n",
            " [ 4  5  6  7]\n",
            " [ 8  9 10 11]]\n",
            "[[ True False  True False]\n",
            " [ True False  True False]\n",
            " [ True False  True False]]\n",
            "[ 0  2  4  6  8 10]\n"
          ],
          "name": "stdout"
        },
        {
          "output_type": "execute_result",
          "data": {
            "text/plain": [
              "30"
            ]
          },
          "metadata": {
            "tags": []
          },
          "execution_count": 166
        }
      ]
    },
    {
      "cell_type": "code",
      "metadata": {
        "id": "rVxeJhkvfAyV",
        "colab_type": "code",
        "outputId": "fd1e91d4-be48-4010-a767-6d3c8b21b107",
        "colab": {
          "base_uri": "https://localhost:8080/",
          "height": 136
        }
      },
      "source": [
        "# Quiz.\n",
        "\n",
        " 1  2  3  4  5\n",
        " 6  7  8  9  10\n",
        "11 12 13 ...\n",
        "..\n",
        "21 22 23 24 25\n",
        "\n",
        "\n",
        "1 + 7 + 13 + .. + 25\n",
        "\n",
        "\n",
        "create array\n",
        "1 0 0 0 0\n",
        "0 1 0 0 0\n",
        "0 0 1 0 0\n",
        "0 0 0 1 0\n",
        "0 0 0 0 1\n",
        "\n",
        "create boolean array\n",
        "T F F F F\n",
        "F T F F F\n",
        "\n",
        "sum(a(Booean Array))\n",
        "\n"
      ],
      "execution_count": 0,
      "outputs": [
        {
          "output_type": "error",
          "ename": "IndentationError",
          "evalue": "ignored",
          "traceback": [
            "\u001b[0;36m  File \u001b[0;32m\"<ipython-input-164-c5314e2858bf>\"\u001b[0;36m, line \u001b[0;32m2\u001b[0m\n\u001b[0;31m    1  2  3  4  5\u001b[0m\n\u001b[0m    ^\u001b[0m\n\u001b[0;31mIndentationError\u001b[0m\u001b[0;31m:\u001b[0m unexpected indent\n"
          ]
        }
      ]
    },
    {
      "cell_type": "code",
      "metadata": {
        "id": "z_9pRfBjlfBv",
        "colab_type": "code",
        "outputId": "0b25e6d6-966a-42a3-b8dd-210a7c75f9ff",
        "colab": {
          "base_uri": "https://localhost:8080/",
          "height": 233
        }
      },
      "source": [
        "a = np.arange(1, 26).reshape(5,5)\n",
        "print(a)\n",
        "\n",
        "f = np.eye(5)==1\n",
        "print(f)\n",
        "\n",
        "even = a[f]\n",
        "print(even)\n",
        "\n",
        "print(np.sum(even))"
      ],
      "execution_count": 0,
      "outputs": [
        {
          "output_type": "stream",
          "text": [
            "[[ 1  2  3  4  5]\n",
            " [ 6  7  8  9 10]\n",
            " [11 12 13 14 15]\n",
            " [16 17 18 19 20]\n",
            " [21 22 23 24 25]]\n",
            "[[ True False False False False]\n",
            " [False  True False False False]\n",
            " [False False  True False False]\n",
            " [False False False  True False]\n",
            " [False False False False  True]]\n",
            "[ 1  7 13 19 25]\n",
            "65\n"
          ],
          "name": "stdout"
        }
      ]
    },
    {
      "cell_type": "code",
      "metadata": {
        "id": "OVySP59SgXrr",
        "colab_type": "code",
        "outputId": "af42c2b7-614a-4f3b-81f2-0241c4521808",
        "colab": {
          "base_uri": "https://localhost:8080/",
          "height": 485
        }
      },
      "source": [
        "a = np.arange(12)\n",
        "\n",
        "print(a.reshape(12,))\n",
        "print(a.reshape(12,).shape)\n",
        "print(a.reshape(12,1))\n",
        "print(a.reshape(12,1).shape)\n",
        "\n",
        "\n",
        "print(a.reshape(6,2))\n",
        "print(a.reshape(4,3))\n",
        "print(a.reshape(1,12))\n",
        "\n",
        "# print(a.reshape(12))"
      ],
      "execution_count": 0,
      "outputs": [
        {
          "output_type": "stream",
          "text": [
            "[ 0  1  2  3  4  5  6  7  8  9 10 11]\n",
            "(12,)\n",
            "[[ 0]\n",
            " [ 1]\n",
            " [ 2]\n",
            " [ 3]\n",
            " [ 4]\n",
            " [ 5]\n",
            " [ 6]\n",
            " [ 7]\n",
            " [ 8]\n",
            " [ 9]\n",
            " [10]\n",
            " [11]]\n",
            "(12, 1)\n",
            "[[ 0  1]\n",
            " [ 2  3]\n",
            " [ 4  5]\n",
            " [ 6  7]\n",
            " [ 8  9]\n",
            " [10 11]]\n",
            "[[ 0  1  2]\n",
            " [ 3  4  5]\n",
            " [ 6  7  8]\n",
            " [ 9 10 11]]\n",
            "[[ 0  1  2  3  4  5  6  7  8  9 10 11]]\n"
          ],
          "name": "stdout"
        }
      ]
    },
    {
      "cell_type": "code",
      "metadata": {
        "id": "chzUazFHnYx7",
        "colab_type": "code",
        "outputId": "406d111d-156c-4d60-8264-c49a3cda998a",
        "colab": {
          "base_uri": "https://localhost:8080/",
          "height": 269
        }
      },
      "source": [
        "a = np.arange(24).reshape(3,4,2)\n",
        "print(a)"
      ],
      "execution_count": 0,
      "outputs": [
        {
          "output_type": "stream",
          "text": [
            "[[[ 0  1]\n",
            "  [ 2  3]\n",
            "  [ 4  5]\n",
            "  [ 6  7]]\n",
            "\n",
            " [[ 8  9]\n",
            "  [10 11]\n",
            "  [12 13]\n",
            "  [14 15]]\n",
            "\n",
            " [[16 17]\n",
            "  [18 19]\n",
            "  [20 21]\n",
            "  [22 23]]]\n"
          ],
          "name": "stdout"
        }
      ]
    },
    {
      "cell_type": "code",
      "metadata": {
        "id": "1H_QpLCBooX9",
        "colab_type": "code",
        "outputId": "06decd7d-0c89-4daa-9f7a-57235b1bcd7d",
        "colab": {
          "base_uri": "https://localhost:8080/",
          "height": 143
        }
      },
      "source": [
        "a = np.arange(12).reshape(3,4)\n",
        "print(a)\n",
        "print(a.T)"
      ],
      "execution_count": 0,
      "outputs": [
        {
          "output_type": "stream",
          "text": [
            "[[ 0  1  2  3]\n",
            " [ 4  5  6  7]\n",
            " [ 8  9 10 11]]\n",
            "[[ 0  4  8]\n",
            " [ 1  5  9]\n",
            " [ 2  6 10]\n",
            " [ 3  7 11]]\n"
          ],
          "name": "stdout"
        }
      ]
    },
    {
      "cell_type": "code",
      "metadata": {
        "id": "bcKe_uDJpAcu",
        "colab_type": "code",
        "outputId": "6f6bc47b-e5fa-4b9c-df5a-c7df1191c545",
        "colab": {
          "base_uri": "https://localhost:8080/",
          "height": 305
        }
      },
      "source": [
        "a = np.ones((3,4,2), dtype=int)\n",
        "pprint(a)\n",
        "\n",
        "print(np.sum(a))\n"
      ],
      "execution_count": 0,
      "outputs": [
        {
          "output_type": "stream",
          "text": [
            "shape: (3, 4, 2), dimension: 3, dtype:int64\n",
            "[[[1 1]\n",
            "  [1 1]\n",
            "  [1 1]\n",
            "  [1 1]]\n",
            "\n",
            " [[1 1]\n",
            "  [1 1]\n",
            "  [1 1]\n",
            "  [1 1]]\n",
            "\n",
            " [[1 1]\n",
            "  [1 1]\n",
            "  [1 1]\n",
            "  [1 1]]]\n",
            "24\n"
          ],
          "name": "stdout"
        }
      ]
    },
    {
      "cell_type": "code",
      "metadata": {
        "id": "cnlVH_-iq3Kz",
        "colab_type": "code",
        "outputId": "e867a07b-2ef4-40db-aa52-1a9c6c8f5109",
        "colab": {
          "base_uri": "https://localhost:8080/",
          "height": 305
        }
      },
      "source": [
        "sum = np.sum(a, axis=0)\n",
        "print(\"axis=0\")\n",
        "pprint(sum)\n",
        "# old shape (3, 4, 2)\n",
        "# axis =     0  \n",
        "# new shape (   4, 2)\n",
        "\n",
        "sum = np.sum(a, axis=1)\n",
        "print(\"axis=0\")\n",
        "pprint(sum)\n",
        "\n",
        "sum = np.sum(a, axis=2)\n",
        "print(\"axis=0\")\n",
        "pprint(sum)"
      ],
      "execution_count": 0,
      "outputs": [
        {
          "output_type": "stream",
          "text": [
            "axis=0\n",
            "shape: (4, 2), dimension: 2, dtype:int64\n",
            "[[3 3]\n",
            " [3 3]\n",
            " [3 3]\n",
            " [3 3]]\n",
            "axis=0\n",
            "shape: (3, 2), dimension: 2, dtype:int64\n",
            "[[4 4]\n",
            " [4 4]\n",
            " [4 4]]\n",
            "axis=0\n",
            "shape: (3, 4), dimension: 2, dtype:int64\n",
            "[[2 2 2 2]\n",
            " [2 2 2 2]\n",
            " [2 2 2 2]]\n"
          ],
          "name": "stdout"
        }
      ]
    },
    {
      "cell_type": "code",
      "metadata": {
        "id": "Oz_qyvrHsxDY",
        "colab_type": "code",
        "outputId": "432d7767-b786-47df-e3b6-00477a7f49ca",
        "colab": {
          "base_uri": "https://localhost:8080/",
          "height": 269
        }
      },
      "source": [
        "\n",
        "a = np.array([\n",
        "    [\n",
        "        [ 10111, 20112 ],\n",
        "        [ 10121, 20122 ],\n",
        "        [ 20131, 10132 ],\n",
        "        [ 20141, 10142 ]\n",
        "    ],\n",
        "    [\n",
        "        [ 20211, 10212 ],\n",
        "        [ 20221, 10222 ],\n",
        "        [ 10231, 20232 ],\n",
        "        [ 10241, 20242 ]\n",
        "    ],\n",
        "    [\n",
        "        [ 10311, 20312 ],\n",
        "        [ 20321, 10322 ],\n",
        "        [ 10331, 20332 ],\n",
        "        [ 20341, 10342 ]\n",
        "    ]\n",
        "])\n",
        "\n",
        "print(np.sort(a, axis=0))"
      ],
      "execution_count": 0,
      "outputs": [
        {
          "output_type": "stream",
          "text": [
            "[[[10111 10212]\n",
            "  [10121 10222]\n",
            "  [10231 10132]\n",
            "  [10241 10142]]\n",
            "\n",
            " [[10311 20112]\n",
            "  [20221 10322]\n",
            "  [10331 20232]\n",
            "  [20141 10342]]\n",
            "\n",
            " [[20211 20312]\n",
            "  [20321 20122]\n",
            "  [20131 20332]\n",
            "  [20341 20242]]]\n"
          ],
          "name": "stdout"
        }
      ]
    },
    {
      "cell_type": "code",
      "metadata": {
        "id": "OEe9tYOWvT5A",
        "colab_type": "code",
        "outputId": "62f609f3-638c-4551-8d47-4a71d8f2cca6",
        "colab": {
          "base_uri": "https://localhost:8080/",
          "height": 269
        }
      },
      "source": [
        "a = np.array([\n",
        "    [\n",
        "        [ 10111, 20112 ],\n",
        "        [ 10121, 20122 ],\n",
        "        [ 20131, 10132 ],\n",
        "        [ 20141, 10142 ]\n",
        "    ],\n",
        "    [\n",
        "        [ 20211, 10212 ],\n",
        "        [ 20221, 10222 ],\n",
        "        [ 10231, 20232 ],\n",
        "        [ 10241, 20242 ]\n",
        "    ],\n",
        "    [\n",
        "        [ 10311, 20312 ],\n",
        "        [ 20321, 10322 ],\n",
        "        [ 10331, 20332 ],\n",
        "        [ 20341, 10342 ]\n",
        "    ]\n",
        "])\n",
        "# 3,4,2   axis 1   sum : 3,   2\n",
        "print(np.sort(a, axis=1))"
      ],
      "execution_count": 0,
      "outputs": [
        {
          "output_type": "stream",
          "text": [
            "[[[10111 10132]\n",
            "  [10121 10142]\n",
            "  [20131 20112]\n",
            "  [20141 20122]]\n",
            "\n",
            " [[10231 10212]\n",
            "  [10241 10222]\n",
            "  [20211 20232]\n",
            "  [20221 20242]]\n",
            "\n",
            " [[10311 10322]\n",
            "  [10331 10342]\n",
            "  [20321 20312]\n",
            "  [20341 20332]]]\n"
          ],
          "name": "stdout"
        }
      ]
    },
    {
      "cell_type": "code",
      "metadata": {
        "id": "tV9dhoeWxEbp",
        "colab_type": "code",
        "outputId": "f5db0606-b040-4822-d5f3-f07d7bccf059",
        "colab": {
          "base_uri": "https://localhost:8080/",
          "height": 611
        }
      },
      "source": [
        "# Quiz\n",
        "# 다음 행렬을 출력했을 때 13이 포함된 행의 모든 숫자는?\n",
        "a = np.arange(3*4*5).reshape(3,4,5)\n",
        "print(a)\n",
        "\n",
        "# 다음 행렬을 출력했을 때 13이 포함된 행의 모든 숫자는?\n",
        "b = a.reshape(5*3*4).reshape(5,3,4)\n",
        "print(b)\n",
        "\n"
      ],
      "execution_count": 0,
      "outputs": [
        {
          "output_type": "stream",
          "text": [
            "[[[ 0  1  2  3  4]\n",
            "  [ 5  6  7  8  9]\n",
            "  [10 11 12 13 14]\n",
            "  [15 16 17 18 19]]\n",
            "\n",
            " [[20 21 22 23 24]\n",
            "  [25 26 27 28 29]\n",
            "  [30 31 32 33 34]\n",
            "  [35 36 37 38 39]]\n",
            "\n",
            " [[40 41 42 43 44]\n",
            "  [45 46 47 48 49]\n",
            "  [50 51 52 53 54]\n",
            "  [55 56 57 58 59]]]\n",
            "[[[ 0  1  2  3]\n",
            "  [ 4  5  6  7]\n",
            "  [ 8  9 10 11]]\n",
            "\n",
            " [[12 13 14 15]\n",
            "  [16 17 18 19]\n",
            "  [20 21 22 23]]\n",
            "\n",
            " [[24 25 26 27]\n",
            "  [28 29 30 31]\n",
            "  [32 33 34 35]]\n",
            "\n",
            " [[36 37 38 39]\n",
            "  [40 41 42 43]\n",
            "  [44 45 46 47]]\n",
            "\n",
            " [[48 49 50 51]\n",
            "  [52 53 54 55]\n",
            "  [56 57 58 59]]]\n"
          ],
          "name": "stdout"
        }
      ]
    },
    {
      "cell_type": "code",
      "metadata": {
        "id": "vBEPx9dEy7Hb",
        "colab_type": "code",
        "outputId": "d366e50c-75b1-406d-e0f9-7ba858be4afc",
        "colab": {
          "base_uri": "https://localhost:8080/",
          "height": 53
        }
      },
      "source": [
        "# Quiz\n",
        "# 다음 연산의 결과는\n",
        "a = np.array([\n",
        "    [0, 1, 2],\n",
        "    [3, 4, 5]\n",
        "])\n",
        "print(np.sum(a, axis=0))\n",
        "\n",
        "print(np.sum(a, axis=1))"
      ],
      "execution_count": 0,
      "outputs": [
        {
          "output_type": "stream",
          "text": [
            "[3 5 7]\n",
            "[ 3 12]\n"
          ],
          "name": "stdout"
        }
      ]
    },
    {
      "cell_type": "code",
      "metadata": {
        "id": "Ffevfw3j2d1f",
        "colab_type": "code",
        "outputId": "59bf7046-beaf-445e-fc44-3d4c03802e16",
        "colab": {
          "base_uri": "https://localhost:8080/",
          "height": 305
        }
      },
      "source": [
        "a = np.ones((5,6,7))\n",
        "\n",
        "# 다음의 shape와 각 동일한 값은\n",
        "print(np.sum(a, axis=0))\n",
        "\n",
        "print(np.sum(a, axis=1))\n",
        "\n",
        "print(np.sum(a, axis=2))\n",
        "\n"
      ],
      "execution_count": 0,
      "outputs": [
        {
          "output_type": "stream",
          "text": [
            "[[5. 5. 5. 5. 5. 5. 5.]\n",
            " [5. 5. 5. 5. 5. 5. 5.]\n",
            " [5. 5. 5. 5. 5. 5. 5.]\n",
            " [5. 5. 5. 5. 5. 5. 5.]\n",
            " [5. 5. 5. 5. 5. 5. 5.]\n",
            " [5. 5. 5. 5. 5. 5. 5.]]\n",
            "[[6. 6. 6. 6. 6. 6. 6.]\n",
            " [6. 6. 6. 6. 6. 6. 6.]\n",
            " [6. 6. 6. 6. 6. 6. 6.]\n",
            " [6. 6. 6. 6. 6. 6. 6.]\n",
            " [6. 6. 6. 6. 6. 6. 6.]]\n",
            "[[7. 7. 7. 7. 7. 7.]\n",
            " [7. 7. 7. 7. 7. 7.]\n",
            " [7. 7. 7. 7. 7. 7.]\n",
            " [7. 7. 7. 7. 7. 7.]\n",
            " [7. 7. 7. 7. 7. 7.]]\n"
          ],
          "name": "stdout"
        }
      ]
    },
    {
      "cell_type": "code",
      "metadata": {
        "id": "5pmYzZdizNps",
        "colab_type": "code",
        "outputId": "41c6d8ad-d872-4e55-d1d3-fbdf31b0f3f2",
        "colab": {
          "base_uri": "https://localhost:8080/",
          "height": 53
        }
      },
      "source": [
        "# Quiz\n",
        "# 다음 연산의 결과는\n",
        "a = np.array([\n",
        "    [0, 1, 2],\n",
        "    [3, 4, 5]\n",
        "])\n",
        "print(np.mean(a, axis=0))\n",
        "\n",
        "print(np.mean(a, axis=1))\n"
      ],
      "execution_count": 0,
      "outputs": [
        {
          "output_type": "stream",
          "text": [
            "[1.5 2.5 3.5]\n",
            "[1. 4.]\n"
          ],
          "name": "stdout"
        }
      ]
    },
    {
      "cell_type": "code",
      "metadata": {
        "id": "NzhTeBjAyQ9w",
        "colab_type": "code",
        "outputId": "7511a9b3-e3e8-4250-88b6-af1253a477b0",
        "colab": {
          "base_uri": "https://localhost:8080/",
          "height": 407
        }
      },
      "source": [
        "# Quiz\n",
        "# 다음 csv의 데이터의 각 속성별 평균은?\n",
        "# https://pynative.com/wp-content/uploads/2019/01/company_sales_data.csv\n",
        "\n",
        "!wget https://pynative.com/wp-content/uploads/2019/01/company_sales_data.csv\n",
        "\n",
        "import pandas as pd\n",
        "\n",
        "df = pd.read_csv(\"company_sales_data.csv\")\n",
        "df.head()"
      ],
      "execution_count": 0,
      "outputs": [
        {
          "output_type": "stream",
          "text": [
            "--2019-07-18 07:07:37--  https://pynative.com/wp-content/uploads/2019/01/company_sales_data.csv\n",
            "Resolving pynative.com (pynative.com)... 35.239.11.185\n",
            "Connecting to pynative.com (pynative.com)|35.239.11.185|:443... connected.\n",
            "HTTP request sent, awaiting response... 200 OK\n",
            "Length: 659 [text/csv]\n",
            "Saving to: ‘company_sales_data.csv.2’\n",
            "\n",
            "\rcompany_sales_data.   0%[                    ]       0  --.-KB/s               \rcompany_sales_data. 100%[===================>]     659  --.-KB/s    in 0s      \n",
            "\n",
            "2019-07-18 07:07:37 (62.6 MB/s) - ‘company_sales_data.csv.2’ saved [659/659]\n",
            "\n"
          ],
          "name": "stdout"
        },
        {
          "output_type": "execute_result",
          "data": {
            "text/html": [
              "<div>\n",
              "<style scoped>\n",
              "    .dataframe tbody tr th:only-of-type {\n",
              "        vertical-align: middle;\n",
              "    }\n",
              "\n",
              "    .dataframe tbody tr th {\n",
              "        vertical-align: top;\n",
              "    }\n",
              "\n",
              "    .dataframe thead th {\n",
              "        text-align: right;\n",
              "    }\n",
              "</style>\n",
              "<table border=\"1\" class=\"dataframe\">\n",
              "  <thead>\n",
              "    <tr style=\"text-align: right;\">\n",
              "      <th></th>\n",
              "      <th>month_number</th>\n",
              "      <th>facecream</th>\n",
              "      <th>facewash</th>\n",
              "      <th>toothpaste</th>\n",
              "      <th>bathingsoap</th>\n",
              "      <th>shampoo</th>\n",
              "      <th>moisturizer</th>\n",
              "      <th>total_units</th>\n",
              "      <th>total_profit</th>\n",
              "    </tr>\n",
              "  </thead>\n",
              "  <tbody>\n",
              "    <tr>\n",
              "      <th>0</th>\n",
              "      <td>1</td>\n",
              "      <td>2500</td>\n",
              "      <td>1500</td>\n",
              "      <td>5200</td>\n",
              "      <td>9200</td>\n",
              "      <td>1200</td>\n",
              "      <td>1500</td>\n",
              "      <td>21100</td>\n",
              "      <td>211000</td>\n",
              "    </tr>\n",
              "    <tr>\n",
              "      <th>1</th>\n",
              "      <td>2</td>\n",
              "      <td>2630</td>\n",
              "      <td>1200</td>\n",
              "      <td>5100</td>\n",
              "      <td>6100</td>\n",
              "      <td>2100</td>\n",
              "      <td>1200</td>\n",
              "      <td>18330</td>\n",
              "      <td>183300</td>\n",
              "    </tr>\n",
              "    <tr>\n",
              "      <th>2</th>\n",
              "      <td>3</td>\n",
              "      <td>2140</td>\n",
              "      <td>1340</td>\n",
              "      <td>4550</td>\n",
              "      <td>9550</td>\n",
              "      <td>3550</td>\n",
              "      <td>1340</td>\n",
              "      <td>22470</td>\n",
              "      <td>224700</td>\n",
              "    </tr>\n",
              "    <tr>\n",
              "      <th>3</th>\n",
              "      <td>4</td>\n",
              "      <td>3400</td>\n",
              "      <td>1130</td>\n",
              "      <td>5870</td>\n",
              "      <td>8870</td>\n",
              "      <td>1870</td>\n",
              "      <td>1130</td>\n",
              "      <td>22270</td>\n",
              "      <td>222700</td>\n",
              "    </tr>\n",
              "    <tr>\n",
              "      <th>4</th>\n",
              "      <td>5</td>\n",
              "      <td>3600</td>\n",
              "      <td>1740</td>\n",
              "      <td>4560</td>\n",
              "      <td>7760</td>\n",
              "      <td>1560</td>\n",
              "      <td>1740</td>\n",
              "      <td>20960</td>\n",
              "      <td>209600</td>\n",
              "    </tr>\n",
              "  </tbody>\n",
              "</table>\n",
              "</div>"
            ],
            "text/plain": [
              "   month_number  facecream  facewash  ...  moisturizer  total_units  total_profit\n",
              "0             1       2500      1500  ...         1500        21100        211000\n",
              "1             2       2630      1200  ...         1200        18330        183300\n",
              "2             3       2140      1340  ...         1340        22470        224700\n",
              "3             4       3400      1130  ...         1130        22270        222700\n",
              "4             5       3600      1740  ...         1740        20960        209600\n",
              "\n",
              "[5 rows x 9 columns]"
            ]
          },
          "metadata": {
            "tags": []
          },
          "execution_count": 196
        }
      ]
    },
    {
      "cell_type": "code",
      "metadata": {
        "id": "wGZWaFBG6A2B",
        "colab_type": "code",
        "outputId": "0c424cab-4a33-4388-8a61-09f4a885ff15",
        "colab": {
          "base_uri": "https://localhost:8080/",
          "height": 260
        }
      },
      "source": [
        "a = df.to_numpy()\n",
        "print(a)\n",
        "print(a.shape)"
      ],
      "execution_count": 0,
      "outputs": [
        {
          "output_type": "stream",
          "text": [
            "[[     1   2500   1500   5200   9200   1200   1500  21100 211000]\n",
            " [     2   2630   1200   5100   6100   2100   1200  18330 183300]\n",
            " [     3   2140   1340   4550   9550   3550   1340  22470 224700]\n",
            " [     4   3400   1130   5870   8870   1870   1130  22270 222700]\n",
            " [     5   3600   1740   4560   7760   1560   1740  20960 209600]\n",
            " [     6   2760   1555   4890   7490   1890   1555  20140 201400]\n",
            " [     7   2980   1120   4780   8980   1780   1120  29550 295500]\n",
            " [     8   3700   1400   5860   9960   2860   1400  36140 361400]\n",
            " [     9   3540   1780   6100   8100   2100   1780  23400 234000]\n",
            " [    10   1990   1890   8300  10300   2300   1890  26670 266700]\n",
            " [    11   2340   2100   7300  13300   2400   2100  41280 412800]\n",
            " [    12   2900   1760   7400  14400   1800   1760  30020 300200]]\n",
            "(12, 9)\n"
          ],
          "name": "stdout"
        }
      ]
    },
    {
      "cell_type": "code",
      "metadata": {
        "id": "O7BaKKHT6etS",
        "colab_type": "code",
        "outputId": "e33ea77c-45ed-4098-f295-ee4f9a156cbd",
        "colab": {
          "base_uri": "https://localhost:8080/",
          "height": 73
        }
      },
      "source": [
        "m = np.mean(a, axis=0)\n",
        "print(m)"
      ],
      "execution_count": 0,
      "outputs": [
        {
          "output_type": "stream",
          "text": [
            "[6.50000000e+00 2.87333333e+03 1.54291667e+03 5.82583333e+03\n",
            " 9.50083333e+03 2.11750000e+03 1.54291667e+03 2.60275000e+04\n",
            " 2.60275000e+05]\n"
          ],
          "name": "stdout"
        }
      ]
    },
    {
      "cell_type": "code",
      "metadata": {
        "id": "SGYCDzgi7Vi6",
        "colab_type": "code",
        "outputId": "69657101-c2a4-4801-c0d8-8b2bb2c05d5f",
        "colab": {
          "base_uri": "https://localhost:8080/",
          "height": 36
        }
      },
      "source": [
        "w = np.array([0,1,2,3,4,5])\n",
        "x = np.array([1,1,2,2,3,3])\n",
        "\n",
        "p = np.dot(w, x.T)\n",
        "print(p)"
      ],
      "execution_count": 0,
      "outputs": [
        {
          "output_type": "stream",
          "text": [
            "38\n"
          ],
          "name": "stdout"
        }
      ]
    },
    {
      "cell_type": "code",
      "metadata": {
        "id": "WkWOB71U8xS0",
        "colab_type": "code",
        "outputId": "e3ac5f32-d85a-4038-e6d5-2729a0eb648b",
        "colab": {
          "base_uri": "https://localhost:8080/",
          "height": 55
        }
      },
      "source": [
        "w = np.arange(6).reshape(2,3)\n",
        "x = np.arange(6).reshape(2,3)\n",
        "\n",
        "p = np.dot(w, x.T)\n",
        "print(p)"
      ],
      "execution_count": 0,
      "outputs": [
        {
          "output_type": "stream",
          "text": [
            "[[ 5 14]\n",
            " [14 50]]\n"
          ],
          "name": "stdout"
        }
      ]
    }
  ]
}