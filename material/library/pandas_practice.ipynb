{
  "nbformat": 4,
  "nbformat_minor": 0,
  "metadata": {
    "colab": {
      "name": "panda_practice.ipynb",
      "version": "0.3.2",
      "provenance": [],
      "collapsed_sections": []
    },
    "kernelspec": {
      "name": "python3",
      "display_name": "Python 3"
    }
  },
  "cells": [
    {
      "cell_type": "code",
      "metadata": {
        "id": "9EYpp_L9NjSD",
        "colab_type": "code",
        "outputId": "9fa519b4-2838-49b8-b96b-1310e6b31126",
        "colab": {
          "base_uri": "https://localhost:8080/",
          "height": 35
        }
      },
      "source": [
        "print(\"hello\")"
      ],
      "execution_count": 0,
      "outputs": [
        {
          "output_type": "stream",
          "text": [
            "hello\n"
          ],
          "name": "stdout"
        }
      ]
    },
    {
      "cell_type": "markdown",
      "metadata": {
        "id": "1gr3U65ZYslm",
        "colab_type": "text"
      },
      "source": [
        "import numpy\n",
        "\n",
        "\n",
        "dir(numpy)\n",
        "\n",
        "\n",
        "__ version__, _name, sum, \n"
      ]
    },
    {
      "cell_type": "code",
      "metadata": {
        "id": "jVgJ-Rc9aDjK",
        "colab_type": "code",
        "outputId": "eb425e5e-5d7d-471e-85b6-631d4f72cbfd",
        "colab": {
          "base_uri": "https://localhost:8080/",
          "height": 73
        }
      },
      "source": [
        "import os\n",
        "import string\n",
        "\n",
        "l = dir(os)\n",
        "print(l)\n",
        "\n",
        "\n",
        "# result = []\n",
        "\n",
        "# for i in l:\n",
        "#   if i[0] in string.ascii_lowercase:\n",
        "#     result.append(i)\n",
        "\n",
        "result = [ i  for i in l if i[0] in string.ascii_lowercase ]    \n",
        "    \n",
        "print(result)    \n",
        "  "
      ],
      "execution_count": 0,
      "outputs": [
        {
          "output_type": "stream",
          "text": [
            "['CLD_CONTINUED', 'CLD_DUMPED', 'CLD_EXITED', 'CLD_TRAPPED', 'DirEntry', 'EX_CANTCREAT', 'EX_CONFIG', 'EX_DATAERR', 'EX_IOERR', 'EX_NOHOST', 'EX_NOINPUT', 'EX_NOPERM', 'EX_NOUSER', 'EX_OK', 'EX_OSERR', 'EX_OSFILE', 'EX_PROTOCOL', 'EX_SOFTWARE', 'EX_TEMPFAIL', 'EX_UNAVAILABLE', 'EX_USAGE', 'F_LOCK', 'F_OK', 'F_TEST', 'F_TLOCK', 'F_ULOCK', 'GRND_NONBLOCK', 'GRND_RANDOM', 'MutableMapping', 'NGROUPS_MAX', 'O_ACCMODE', 'O_APPEND', 'O_ASYNC', 'O_CLOEXEC', 'O_CREAT', 'O_DIRECT', 'O_DIRECTORY', 'O_DSYNC', 'O_EXCL', 'O_LARGEFILE', 'O_NDELAY', 'O_NOATIME', 'O_NOCTTY', 'O_NOFOLLOW', 'O_NONBLOCK', 'O_PATH', 'O_RDONLY', 'O_RDWR', 'O_RSYNC', 'O_SYNC', 'O_TMPFILE', 'O_TRUNC', 'O_WRONLY', 'POSIX_FADV_DONTNEED', 'POSIX_FADV_NOREUSE', 'POSIX_FADV_NORMAL', 'POSIX_FADV_RANDOM', 'POSIX_FADV_SEQUENTIAL', 'POSIX_FADV_WILLNEED', 'PRIO_PGRP', 'PRIO_PROCESS', 'PRIO_USER', 'P_ALL', 'P_NOWAIT', 'P_NOWAITO', 'P_PGID', 'P_PID', 'P_WAIT', 'PathLike', 'RTLD_DEEPBIND', 'RTLD_GLOBAL', 'RTLD_LAZY', 'RTLD_LOCAL', 'RTLD_NODELETE', 'RTLD_NOLOAD', 'RTLD_NOW', 'R_OK', 'SCHED_BATCH', 'SCHED_FIFO', 'SCHED_IDLE', 'SCHED_OTHER', 'SCHED_RESET_ON_FORK', 'SCHED_RR', 'SEEK_CUR', 'SEEK_DATA', 'SEEK_END', 'SEEK_HOLE', 'SEEK_SET', 'ST_APPEND', 'ST_MANDLOCK', 'ST_NOATIME', 'ST_NODEV', 'ST_NODIRATIME', 'ST_NOEXEC', 'ST_NOSUID', 'ST_RDONLY', 'ST_RELATIME', 'ST_SYNCHRONOUS', 'ST_WRITE', 'TMP_MAX', 'WCONTINUED', 'WCOREDUMP', 'WEXITED', 'WEXITSTATUS', 'WIFCONTINUED', 'WIFEXITED', 'WIFSIGNALED', 'WIFSTOPPED', 'WNOHANG', 'WNOWAIT', 'WSTOPPED', 'WSTOPSIG', 'WTERMSIG', 'WUNTRACED', 'W_OK', 'XATTR_CREATE', 'XATTR_REPLACE', 'XATTR_SIZE_MAX', 'X_OK', '_Environ', '__all__', '__builtins__', '__cached__', '__doc__', '__file__', '__loader__', '__name__', '__package__', '__spec__', '_execvpe', '_exists', '_exit', '_fspath', '_fwalk', '_get_exports_list', '_putenv', '_spawnvef', '_unsetenv', '_wrap_close', 'abc', 'abort', 'access', 'altsep', 'chdir', 'chmod', 'chown', 'chroot', 'close', 'closerange', 'confstr', 'confstr_names', 'cpu_count', 'ctermid', 'curdir', 'defpath', 'device_encoding', 'devnull', 'dup', 'dup2', 'environ', 'environb', 'errno', 'error', 'execl', 'execle', 'execlp', 'execlpe', 'execv', 'execve', 'execvp', 'execvpe', 'extsep', 'fchdir', 'fchmod', 'fchown', 'fdatasync', 'fdopen', 'fork', 'forkpty', 'fpathconf', 'fsdecode', 'fsencode', 'fspath', 'fstat', 'fstatvfs', 'fsync', 'ftruncate', 'fwalk', 'get_blocking', 'get_exec_path', 'get_inheritable', 'get_terminal_size', 'getcwd', 'getcwdb', 'getegid', 'getenv', 'getenvb', 'geteuid', 'getgid', 'getgrouplist', 'getgroups', 'getloadavg', 'getlogin', 'getpgid', 'getpgrp', 'getpid', 'getppid', 'getpriority', 'getrandom', 'getresgid', 'getresuid', 'getsid', 'getuid', 'getxattr', 'initgroups', 'isatty', 'kill', 'killpg', 'lchown', 'linesep', 'link', 'listdir', 'listxattr', 'lockf', 'lseek', 'lstat', 'major', 'makedev', 'makedirs', 'minor', 'mkdir', 'mkfifo', 'mknod', 'name', 'nice', 'open', 'openpty', 'pardir', 'path', 'pathconf', 'pathconf_names', 'pathsep', 'pipe', 'pipe2', 'popen', 'posix_fadvise', 'posix_fallocate', 'pread', 'putenv', 'pwrite', 'read', 'readlink', 'readv', 'remove', 'removedirs', 'removexattr', 'rename', 'renames', 'replace', 'rmdir', 'scandir', 'sched_get_priority_max', 'sched_get_priority_min', 'sched_getaffinity', 'sched_getparam', 'sched_getscheduler', 'sched_param', 'sched_rr_get_interval', 'sched_setaffinity', 'sched_setparam', 'sched_setscheduler', 'sched_yield', 'sendfile', 'sep', 'set_blocking', 'set_inheritable', 'setegid', 'seteuid', 'setgid', 'setgroups', 'setpgid', 'setpgrp', 'setpriority', 'setregid', 'setresgid', 'setresuid', 'setreuid', 'setsid', 'setuid', 'setxattr', 'spawnl', 'spawnle', 'spawnlp', 'spawnlpe', 'spawnv', 'spawnve', 'spawnvp', 'spawnvpe', 'st', 'stat', 'stat_float_times', 'stat_result', 'statvfs', 'statvfs_result', 'strerror', 'supports_bytes_environ', 'supports_dir_fd', 'supports_effective_ids', 'supports_fd', 'supports_follow_symlinks', 'symlink', 'sync', 'sys', 'sysconf', 'sysconf_names', 'system', 'tcgetpgrp', 'tcsetpgrp', 'terminal_size', 'times', 'times_result', 'truncate', 'ttyname', 'umask', 'uname', 'uname_result', 'unlink', 'unsetenv', 'urandom', 'utime', 'wait', 'wait3', 'wait4', 'waitid', 'waitid_result', 'waitpid', 'walk', 'write', 'writev']\n",
            "['abc', 'abort', 'access', 'altsep', 'chdir', 'chmod', 'chown', 'chroot', 'close', 'closerange', 'confstr', 'confstr_names', 'cpu_count', 'ctermid', 'curdir', 'defpath', 'device_encoding', 'devnull', 'dup', 'dup2', 'environ', 'environb', 'errno', 'error', 'execl', 'execle', 'execlp', 'execlpe', 'execv', 'execve', 'execvp', 'execvpe', 'extsep', 'fchdir', 'fchmod', 'fchown', 'fdatasync', 'fdopen', 'fork', 'forkpty', 'fpathconf', 'fsdecode', 'fsencode', 'fspath', 'fstat', 'fstatvfs', 'fsync', 'ftruncate', 'fwalk', 'get_blocking', 'get_exec_path', 'get_inheritable', 'get_terminal_size', 'getcwd', 'getcwdb', 'getegid', 'getenv', 'getenvb', 'geteuid', 'getgid', 'getgrouplist', 'getgroups', 'getloadavg', 'getlogin', 'getpgid', 'getpgrp', 'getpid', 'getppid', 'getpriority', 'getrandom', 'getresgid', 'getresuid', 'getsid', 'getuid', 'getxattr', 'initgroups', 'isatty', 'kill', 'killpg', 'lchown', 'linesep', 'link', 'listdir', 'listxattr', 'lockf', 'lseek', 'lstat', 'major', 'makedev', 'makedirs', 'minor', 'mkdir', 'mkfifo', 'mknod', 'name', 'nice', 'open', 'openpty', 'pardir', 'path', 'pathconf', 'pathconf_names', 'pathsep', 'pipe', 'pipe2', 'popen', 'posix_fadvise', 'posix_fallocate', 'pread', 'putenv', 'pwrite', 'read', 'readlink', 'readv', 'remove', 'removedirs', 'removexattr', 'rename', 'renames', 'replace', 'rmdir', 'scandir', 'sched_get_priority_max', 'sched_get_priority_min', 'sched_getaffinity', 'sched_getparam', 'sched_getscheduler', 'sched_param', 'sched_rr_get_interval', 'sched_setaffinity', 'sched_setparam', 'sched_setscheduler', 'sched_yield', 'sendfile', 'sep', 'set_blocking', 'set_inheritable', 'setegid', 'seteuid', 'setgid', 'setgroups', 'setpgid', 'setpgrp', 'setpriority', 'setregid', 'setresgid', 'setresuid', 'setreuid', 'setsid', 'setuid', 'setxattr', 'spawnl', 'spawnle', 'spawnlp', 'spawnlpe', 'spawnv', 'spawnve', 'spawnvp', 'spawnvpe', 'st', 'stat', 'stat_float_times', 'stat_result', 'statvfs', 'statvfs_result', 'strerror', 'supports_bytes_environ', 'supports_dir_fd', 'supports_effective_ids', 'supports_fd', 'supports_follow_symlinks', 'symlink', 'sync', 'sys', 'sysconf', 'sysconf_names', 'system', 'tcgetpgrp', 'tcsetpgrp', 'terminal_size', 'times', 'times_result', 'truncate', 'ttyname', 'umask', 'uname', 'uname_result', 'unlink', 'unsetenv', 'urandom', 'utime', 'wait', 'wait3', 'wait4', 'waitid', 'waitid_result', 'waitpid', 'walk', 'write', 'writev']\n"
          ],
          "name": "stdout"
        }
      ]
    },
    {
      "cell_type": "code",
      "metadata": {
        "id": "cieDs_eWcUmE",
        "colab_type": "code",
        "outputId": "cfe72cb4-9db4-4ca7-c6b4-bb9d3381dff6",
        "colab": {
          "base_uri": "https://localhost:8080/",
          "height": 127
        }
      },
      "source": [
        "!pip install pandas"
      ],
      "execution_count": 0,
      "outputs": [
        {
          "output_type": "stream",
          "text": [
            "Requirement already satisfied: pandas in /usr/local/lib/python3.6/dist-packages (0.24.2)\n",
            "Requirement already satisfied: numpy>=1.12.0 in /usr/local/lib/python3.6/dist-packages (from pandas) (1.16.4)\n",
            "Requirement already satisfied: python-dateutil>=2.5.0 in /usr/local/lib/python3.6/dist-packages (from pandas) (2.5.3)\n",
            "Requirement already satisfied: pytz>=2011k in /usr/local/lib/python3.6/dist-packages (from pandas) (2018.9)\n",
            "Requirement already satisfied: six>=1.5 in /usr/local/lib/python3.6/dist-packages (from python-dateutil>=2.5.0->pandas) (1.12.0)\n"
          ],
          "name": "stdout"
        }
      ]
    },
    {
      "cell_type": "code",
      "metadata": {
        "id": "iNijEaCucXeU",
        "colab_type": "code",
        "outputId": "dd8b3e4e-aa54-467c-f953-a4bf71ba48b2",
        "colab": {
          "base_uri": "https://localhost:8080/",
          "height": 35
        }
      },
      "source": [
        "import pandas as pd\n",
        "\n",
        "print(pd.__version__)"
      ],
      "execution_count": 0,
      "outputs": [
        {
          "output_type": "stream",
          "text": [
            "0.24.2\n"
          ],
          "name": "stdout"
        }
      ]
    },
    {
      "cell_type": "code",
      "metadata": {
        "id": "7b4kKzi8cdMX",
        "colab_type": "code",
        "outputId": "58835466-2fed-4ebc-b3f4-9fb1b1dfc920",
        "colab": {
          "base_uri": "https://localhost:8080/",
          "height": 325
        }
      },
      "source": [
        "!wget https://bit.ly/2XJwYvq"
      ],
      "execution_count": 0,
      "outputs": [
        {
          "output_type": "stream",
          "text": [
            "--2019-07-17 02:09:37--  https://bit.ly/2XJwYvq\n",
            "Resolving bit.ly (bit.ly)... 67.199.248.10, 67.199.248.11\n",
            "Connecting to bit.ly (bit.ly)|67.199.248.10|:443... connected.\n",
            "HTTP request sent, awaiting response... 301 Moved Permanently\n",
            "Location: https://raw.githubusercontent.com/adeshpande3/Pandas-Tutorial/master/RegularSeasonCompactResults.csv [following]\n",
            "--2019-07-17 02:09:38--  https://raw.githubusercontent.com/adeshpande3/Pandas-Tutorial/master/RegularSeasonCompactResults.csv\n",
            "Resolving raw.githubusercontent.com (raw.githubusercontent.com)... 151.101.0.133, 151.101.64.133, 151.101.128.133, ...\n",
            "Connecting to raw.githubusercontent.com (raw.githubusercontent.com)|151.101.0.133|:443... connected.\n",
            "HTTP request sent, awaiting response... 200 OK\n",
            "Length: 4115852 (3.9M) [text/plain]\n",
            "Saving to: ‘2XJwYvq’\n",
            "\n",
            "\r2XJwYvq               0%[                    ]       0  --.-KB/s               \r2XJwYvq             100%[===================>]   3.92M  --.-KB/s    in 0.1s    \n",
            "\n",
            "2019-07-17 02:09:38 (34.9 MB/s) - ‘2XJwYvq’ saved [4115852/4115852]\n",
            "\n"
          ],
          "name": "stdout"
        }
      ]
    },
    {
      "cell_type": "code",
      "metadata": {
        "id": "Z2Zno_hodCK6",
        "colab_type": "code",
        "outputId": "1754f1b5-4d6b-4a69-b028-a67fa7d874f0",
        "colab": {
          "base_uri": "https://localhost:8080/",
          "height": 631
        }
      },
      "source": [
        "!wget https://bit.ly/2XJwYvq\n",
        "  \n",
        "!ls -al\n",
        "!head -10 2XJwYvq\n",
        "!mv 2XJwYvq mydata.csv"
      ],
      "execution_count": 0,
      "outputs": [
        {
          "output_type": "stream",
          "text": [
            "--2019-07-17 02:09:40--  https://bit.ly/2XJwYvq\n",
            "Resolving bit.ly (bit.ly)... 67.199.248.10, 67.199.248.11\n",
            "Connecting to bit.ly (bit.ly)|67.199.248.10|:443... connected.\n",
            "HTTP request sent, awaiting response... 301 Moved Permanently\n",
            "Location: https://raw.githubusercontent.com/adeshpande3/Pandas-Tutorial/master/RegularSeasonCompactResults.csv [following]\n",
            "--2019-07-17 02:09:40--  https://raw.githubusercontent.com/adeshpande3/Pandas-Tutorial/master/RegularSeasonCompactResults.csv\n",
            "Resolving raw.githubusercontent.com (raw.githubusercontent.com)... 151.101.0.133, 151.101.64.133, 151.101.128.133, ...\n",
            "Connecting to raw.githubusercontent.com (raw.githubusercontent.com)|151.101.0.133|:443... connected.\n",
            "HTTP request sent, awaiting response... 200 OK\n",
            "Length: 4115852 (3.9M) [text/plain]\n",
            "Saving to: ‘2XJwYvq.1’\n",
            "\n",
            "\r2XJwYvq.1             0%[                    ]       0  --.-KB/s               \r2XJwYvq.1           100%[===================>]   3.92M  --.-KB/s    in 0.1s    \n",
            "\n",
            "2019-07-17 02:09:40 (38.6 MB/s) - ‘2XJwYvq.1’ saved [4115852/4115852]\n",
            "\n",
            "total 8056\n",
            "drwxr-xr-x 1 root root    4096 Jul 17 02:09 .\n",
            "drwxr-xr-x 1 root root    4096 Jul 17 02:00 ..\n",
            "-rw-r--r-- 1 root root 4115852 Jul 17 02:09 2XJwYvq\n",
            "-rw-r--r-- 1 root root 4115852 Jul 17 02:09 2XJwYvq.1\n",
            "drwxr-xr-x 1 root root    4096 Jul 11 16:05 .config\n",
            "drwxr-xr-x 1 root root    4096 Jul  3 16:14 sample_data\n",
            "Season,Daynum,Wteam,Wscore,Lteam,Lscore,Wloc,Numot\n",
            "1985,20,1228,81,1328,64,N,0\n",
            "1985,25,1106,77,1354,70,H,0\n",
            "1985,25,1112,63,1223,56,H,0\n",
            "1985,25,1165,70,1432,54,H,0\n",
            "1985,25,1192,86,1447,74,H,0\n",
            "1985,25,1218,79,1337,78,H,0\n",
            "1985,25,1228,64,1226,44,N,0\n",
            "1985,25,1242,58,1268,56,N,0\n",
            "1985,25,1260,98,1133,80,H,0\n"
          ],
          "name": "stdout"
        }
      ]
    },
    {
      "cell_type": "code",
      "metadata": {
        "id": "LHDZnY9LeuA3",
        "colab_type": "code",
        "colab": {}
      },
      "source": [
        "df = pd.read_csv('mydata.csv')"
      ],
      "execution_count": 0,
      "outputs": []
    },
    {
      "cell_type": "code",
      "metadata": {
        "id": "EHfYoJ9Fez5v",
        "colab_type": "code",
        "outputId": "8d145a28-fe0d-4f45-c2df-471ba6e7094e",
        "colab": {
          "base_uri": "https://localhost:8080/",
          "height": 1000
        }
      },
      "source": [
        "print(type(df))\n",
        "df"
      ],
      "execution_count": 0,
      "outputs": [
        {
          "output_type": "stream",
          "text": [
            "<class 'pandas.core.frame.DataFrame'>\n"
          ],
          "name": "stdout"
        },
        {
          "output_type": "execute_result",
          "data": {
            "text/html": [
              "<div>\n",
              "<style scoped>\n",
              "    .dataframe tbody tr th:only-of-type {\n",
              "        vertical-align: middle;\n",
              "    }\n",
              "\n",
              "    .dataframe tbody tr th {\n",
              "        vertical-align: top;\n",
              "    }\n",
              "\n",
              "    .dataframe thead th {\n",
              "        text-align: right;\n",
              "    }\n",
              "</style>\n",
              "<table border=\"1\" class=\"dataframe\">\n",
              "  <thead>\n",
              "    <tr style=\"text-align: right;\">\n",
              "      <th></th>\n",
              "      <th>Season</th>\n",
              "      <th>Daynum</th>\n",
              "      <th>Wteam</th>\n",
              "      <th>Wscore</th>\n",
              "      <th>Lteam</th>\n",
              "      <th>Lscore</th>\n",
              "      <th>Wloc</th>\n",
              "      <th>Numot</th>\n",
              "    </tr>\n",
              "  </thead>\n",
              "  <tbody>\n",
              "    <tr>\n",
              "      <th>0</th>\n",
              "      <td>1985</td>\n",
              "      <td>20</td>\n",
              "      <td>1228</td>\n",
              "      <td>81</td>\n",
              "      <td>1328</td>\n",
              "      <td>64</td>\n",
              "      <td>N</td>\n",
              "      <td>0</td>\n",
              "    </tr>\n",
              "    <tr>\n",
              "      <th>1</th>\n",
              "      <td>1985</td>\n",
              "      <td>25</td>\n",
              "      <td>1106</td>\n",
              "      <td>77</td>\n",
              "      <td>1354</td>\n",
              "      <td>70</td>\n",
              "      <td>H</td>\n",
              "      <td>0</td>\n",
              "    </tr>\n",
              "    <tr>\n",
              "      <th>2</th>\n",
              "      <td>1985</td>\n",
              "      <td>25</td>\n",
              "      <td>1112</td>\n",
              "      <td>63</td>\n",
              "      <td>1223</td>\n",
              "      <td>56</td>\n",
              "      <td>H</td>\n",
              "      <td>0</td>\n",
              "    </tr>\n",
              "    <tr>\n",
              "      <th>3</th>\n",
              "      <td>1985</td>\n",
              "      <td>25</td>\n",
              "      <td>1165</td>\n",
              "      <td>70</td>\n",
              "      <td>1432</td>\n",
              "      <td>54</td>\n",
              "      <td>H</td>\n",
              "      <td>0</td>\n",
              "    </tr>\n",
              "    <tr>\n",
              "      <th>4</th>\n",
              "      <td>1985</td>\n",
              "      <td>25</td>\n",
              "      <td>1192</td>\n",
              "      <td>86</td>\n",
              "      <td>1447</td>\n",
              "      <td>74</td>\n",
              "      <td>H</td>\n",
              "      <td>0</td>\n",
              "    </tr>\n",
              "    <tr>\n",
              "      <th>5</th>\n",
              "      <td>1985</td>\n",
              "      <td>25</td>\n",
              "      <td>1218</td>\n",
              "      <td>79</td>\n",
              "      <td>1337</td>\n",
              "      <td>78</td>\n",
              "      <td>H</td>\n",
              "      <td>0</td>\n",
              "    </tr>\n",
              "    <tr>\n",
              "      <th>6</th>\n",
              "      <td>1985</td>\n",
              "      <td>25</td>\n",
              "      <td>1228</td>\n",
              "      <td>64</td>\n",
              "      <td>1226</td>\n",
              "      <td>44</td>\n",
              "      <td>N</td>\n",
              "      <td>0</td>\n",
              "    </tr>\n",
              "    <tr>\n",
              "      <th>7</th>\n",
              "      <td>1985</td>\n",
              "      <td>25</td>\n",
              "      <td>1242</td>\n",
              "      <td>58</td>\n",
              "      <td>1268</td>\n",
              "      <td>56</td>\n",
              "      <td>N</td>\n",
              "      <td>0</td>\n",
              "    </tr>\n",
              "    <tr>\n",
              "      <th>8</th>\n",
              "      <td>1985</td>\n",
              "      <td>25</td>\n",
              "      <td>1260</td>\n",
              "      <td>98</td>\n",
              "      <td>1133</td>\n",
              "      <td>80</td>\n",
              "      <td>H</td>\n",
              "      <td>0</td>\n",
              "    </tr>\n",
              "    <tr>\n",
              "      <th>9</th>\n",
              "      <td>1985</td>\n",
              "      <td>25</td>\n",
              "      <td>1305</td>\n",
              "      <td>97</td>\n",
              "      <td>1424</td>\n",
              "      <td>89</td>\n",
              "      <td>H</td>\n",
              "      <td>0</td>\n",
              "    </tr>\n",
              "    <tr>\n",
              "      <th>10</th>\n",
              "      <td>1985</td>\n",
              "      <td>25</td>\n",
              "      <td>1307</td>\n",
              "      <td>103</td>\n",
              "      <td>1288</td>\n",
              "      <td>71</td>\n",
              "      <td>H</td>\n",
              "      <td>0</td>\n",
              "    </tr>\n",
              "    <tr>\n",
              "      <th>11</th>\n",
              "      <td>1985</td>\n",
              "      <td>25</td>\n",
              "      <td>1344</td>\n",
              "      <td>75</td>\n",
              "      <td>1438</td>\n",
              "      <td>71</td>\n",
              "      <td>N</td>\n",
              "      <td>0</td>\n",
              "    </tr>\n",
              "    <tr>\n",
              "      <th>12</th>\n",
              "      <td>1985</td>\n",
              "      <td>25</td>\n",
              "      <td>1374</td>\n",
              "      <td>91</td>\n",
              "      <td>1411</td>\n",
              "      <td>72</td>\n",
              "      <td>H</td>\n",
              "      <td>0</td>\n",
              "    </tr>\n",
              "    <tr>\n",
              "      <th>13</th>\n",
              "      <td>1985</td>\n",
              "      <td>25</td>\n",
              "      <td>1412</td>\n",
              "      <td>70</td>\n",
              "      <td>1397</td>\n",
              "      <td>65</td>\n",
              "      <td>N</td>\n",
              "      <td>0</td>\n",
              "    </tr>\n",
              "    <tr>\n",
              "      <th>14</th>\n",
              "      <td>1985</td>\n",
              "      <td>25</td>\n",
              "      <td>1417</td>\n",
              "      <td>87</td>\n",
              "      <td>1225</td>\n",
              "      <td>58</td>\n",
              "      <td>H</td>\n",
              "      <td>0</td>\n",
              "    </tr>\n",
              "    <tr>\n",
              "      <th>15</th>\n",
              "      <td>1985</td>\n",
              "      <td>26</td>\n",
              "      <td>1116</td>\n",
              "      <td>65</td>\n",
              "      <td>1368</td>\n",
              "      <td>62</td>\n",
              "      <td>H</td>\n",
              "      <td>0</td>\n",
              "    </tr>\n",
              "    <tr>\n",
              "      <th>16</th>\n",
              "      <td>1985</td>\n",
              "      <td>26</td>\n",
              "      <td>1120</td>\n",
              "      <td>92</td>\n",
              "      <td>1391</td>\n",
              "      <td>50</td>\n",
              "      <td>H</td>\n",
              "      <td>0</td>\n",
              "    </tr>\n",
              "    <tr>\n",
              "      <th>17</th>\n",
              "      <td>1985</td>\n",
              "      <td>26</td>\n",
              "      <td>1135</td>\n",
              "      <td>65</td>\n",
              "      <td>1306</td>\n",
              "      <td>60</td>\n",
              "      <td>A</td>\n",
              "      <td>0</td>\n",
              "    </tr>\n",
              "    <tr>\n",
              "      <th>18</th>\n",
              "      <td>1985</td>\n",
              "      <td>26</td>\n",
              "      <td>1143</td>\n",
              "      <td>58</td>\n",
              "      <td>1388</td>\n",
              "      <td>53</td>\n",
              "      <td>H</td>\n",
              "      <td>0</td>\n",
              "    </tr>\n",
              "    <tr>\n",
              "      <th>19</th>\n",
              "      <td>1985</td>\n",
              "      <td>26</td>\n",
              "      <td>1153</td>\n",
              "      <td>50</td>\n",
              "      <td>1184</td>\n",
              "      <td>48</td>\n",
              "      <td>H</td>\n",
              "      <td>0</td>\n",
              "    </tr>\n",
              "    <tr>\n",
              "      <th>20</th>\n",
              "      <td>1985</td>\n",
              "      <td>26</td>\n",
              "      <td>1165</td>\n",
              "      <td>47</td>\n",
              "      <td>1159</td>\n",
              "      <td>40</td>\n",
              "      <td>A</td>\n",
              "      <td>0</td>\n",
              "    </tr>\n",
              "    <tr>\n",
              "      <th>21</th>\n",
              "      <td>1985</td>\n",
              "      <td>26</td>\n",
              "      <td>1171</td>\n",
              "      <td>55</td>\n",
              "      <td>1216</td>\n",
              "      <td>52</td>\n",
              "      <td>H</td>\n",
              "      <td>0</td>\n",
              "    </tr>\n",
              "    <tr>\n",
              "      <th>22</th>\n",
              "      <td>1985</td>\n",
              "      <td>26</td>\n",
              "      <td>1173</td>\n",
              "      <td>76</td>\n",
              "      <td>1134</td>\n",
              "      <td>56</td>\n",
              "      <td>H</td>\n",
              "      <td>0</td>\n",
              "    </tr>\n",
              "    <tr>\n",
              "      <th>23</th>\n",
              "      <td>1985</td>\n",
              "      <td>26</td>\n",
              "      <td>1177</td>\n",
              "      <td>59</td>\n",
              "      <td>1296</td>\n",
              "      <td>58</td>\n",
              "      <td>H</td>\n",
              "      <td>0</td>\n",
              "    </tr>\n",
              "    <tr>\n",
              "      <th>24</th>\n",
              "      <td>1985</td>\n",
              "      <td>26</td>\n",
              "      <td>1193</td>\n",
              "      <td>79</td>\n",
              "      <td>1265</td>\n",
              "      <td>76</td>\n",
              "      <td>A</td>\n",
              "      <td>0</td>\n",
              "    </tr>\n",
              "    <tr>\n",
              "      <th>25</th>\n",
              "      <td>1985</td>\n",
              "      <td>26</td>\n",
              "      <td>1196</td>\n",
              "      <td>106</td>\n",
              "      <td>1416</td>\n",
              "      <td>55</td>\n",
              "      <td>H</td>\n",
              "      <td>0</td>\n",
              "    </tr>\n",
              "    <tr>\n",
              "      <th>26</th>\n",
              "      <td>1985</td>\n",
              "      <td>26</td>\n",
              "      <td>1206</td>\n",
              "      <td>95</td>\n",
              "      <td>1137</td>\n",
              "      <td>77</td>\n",
              "      <td>H</td>\n",
              "      <td>0</td>\n",
              "    </tr>\n",
              "    <tr>\n",
              "      <th>27</th>\n",
              "      <td>1985</td>\n",
              "      <td>26</td>\n",
              "      <td>1210</td>\n",
              "      <td>79</td>\n",
              "      <td>1149</td>\n",
              "      <td>66</td>\n",
              "      <td>H</td>\n",
              "      <td>0</td>\n",
              "    </tr>\n",
              "    <tr>\n",
              "      <th>28</th>\n",
              "      <td>1985</td>\n",
              "      <td>26</td>\n",
              "      <td>1211</td>\n",
              "      <td>64</td>\n",
              "      <td>1102</td>\n",
              "      <td>59</td>\n",
              "      <td>A</td>\n",
              "      <td>0</td>\n",
              "    </tr>\n",
              "    <tr>\n",
              "      <th>29</th>\n",
              "      <td>1985</td>\n",
              "      <td>26</td>\n",
              "      <td>1234</td>\n",
              "      <td>76</td>\n",
              "      <td>1114</td>\n",
              "      <td>47</td>\n",
              "      <td>H</td>\n",
              "      <td>0</td>\n",
              "    </tr>\n",
              "    <tr>\n",
              "      <th>...</th>\n",
              "      <td>...</td>\n",
              "      <td>...</td>\n",
              "      <td>...</td>\n",
              "      <td>...</td>\n",
              "      <td>...</td>\n",
              "      <td>...</td>\n",
              "      <td>...</td>\n",
              "      <td>...</td>\n",
              "    </tr>\n",
              "    <tr>\n",
              "      <th>145259</th>\n",
              "      <td>2016</td>\n",
              "      <td>130</td>\n",
              "      <td>1452</td>\n",
              "      <td>69</td>\n",
              "      <td>1328</td>\n",
              "      <td>67</td>\n",
              "      <td>N</td>\n",
              "      <td>0</td>\n",
              "    </tr>\n",
              "    <tr>\n",
              "      <th>145260</th>\n",
              "      <td>2016</td>\n",
              "      <td>131</td>\n",
              "      <td>1114</td>\n",
              "      <td>72</td>\n",
              "      <td>1418</td>\n",
              "      <td>65</td>\n",
              "      <td>N</td>\n",
              "      <td>0</td>\n",
              "    </tr>\n",
              "    <tr>\n",
              "      <th>145261</th>\n",
              "      <td>2016</td>\n",
              "      <td>131</td>\n",
              "      <td>1138</td>\n",
              "      <td>64</td>\n",
              "      <td>1103</td>\n",
              "      <td>61</td>\n",
              "      <td>N</td>\n",
              "      <td>0</td>\n",
              "    </tr>\n",
              "    <tr>\n",
              "      <th>145262</th>\n",
              "      <td>2016</td>\n",
              "      <td>131</td>\n",
              "      <td>1163</td>\n",
              "      <td>77</td>\n",
              "      <td>1396</td>\n",
              "      <td>62</td>\n",
              "      <td>N</td>\n",
              "      <td>0</td>\n",
              "    </tr>\n",
              "    <tr>\n",
              "      <th>145263</th>\n",
              "      <td>2016</td>\n",
              "      <td>131</td>\n",
              "      <td>1167</td>\n",
              "      <td>57</td>\n",
              "      <td>1308</td>\n",
              "      <td>54</td>\n",
              "      <td>N</td>\n",
              "      <td>0</td>\n",
              "    </tr>\n",
              "    <tr>\n",
              "      <th>145264</th>\n",
              "      <td>2016</td>\n",
              "      <td>131</td>\n",
              "      <td>1201</td>\n",
              "      <td>68</td>\n",
              "      <td>1361</td>\n",
              "      <td>63</td>\n",
              "      <td>N</td>\n",
              "      <td>0</td>\n",
              "    </tr>\n",
              "    <tr>\n",
              "      <th>145265</th>\n",
              "      <td>2016</td>\n",
              "      <td>131</td>\n",
              "      <td>1214</td>\n",
              "      <td>81</td>\n",
              "      <td>1354</td>\n",
              "      <td>69</td>\n",
              "      <td>N</td>\n",
              "      <td>0</td>\n",
              "    </tr>\n",
              "    <tr>\n",
              "      <th>145266</th>\n",
              "      <td>2016</td>\n",
              "      <td>131</td>\n",
              "      <td>1218</td>\n",
              "      <td>64</td>\n",
              "      <td>1253</td>\n",
              "      <td>60</td>\n",
              "      <td>N</td>\n",
              "      <td>0</td>\n",
              "    </tr>\n",
              "    <tr>\n",
              "      <th>145267</th>\n",
              "      <td>2016</td>\n",
              "      <td>131</td>\n",
              "      <td>1242</td>\n",
              "      <td>81</td>\n",
              "      <td>1452</td>\n",
              "      <td>71</td>\n",
              "      <td>N</td>\n",
              "      <td>0</td>\n",
              "    </tr>\n",
              "    <tr>\n",
              "      <th>145268</th>\n",
              "      <td>2016</td>\n",
              "      <td>131</td>\n",
              "      <td>1246</td>\n",
              "      <td>93</td>\n",
              "      <td>1208</td>\n",
              "      <td>80</td>\n",
              "      <td>N</td>\n",
              "      <td>0</td>\n",
              "    </tr>\n",
              "    <tr>\n",
              "      <th>145269</th>\n",
              "      <td>2016</td>\n",
              "      <td>131</td>\n",
              "      <td>1272</td>\n",
              "      <td>74</td>\n",
              "      <td>1408</td>\n",
              "      <td>54</td>\n",
              "      <td>N</td>\n",
              "      <td>0</td>\n",
              "    </tr>\n",
              "    <tr>\n",
              "      <th>145270</th>\n",
              "      <td>2016</td>\n",
              "      <td>131</td>\n",
              "      <td>1277</td>\n",
              "      <td>64</td>\n",
              "      <td>1268</td>\n",
              "      <td>61</td>\n",
              "      <td>N</td>\n",
              "      <td>0</td>\n",
              "    </tr>\n",
              "    <tr>\n",
              "      <th>145271</th>\n",
              "      <td>2016</td>\n",
              "      <td>131</td>\n",
              "      <td>1292</td>\n",
              "      <td>55</td>\n",
              "      <td>1330</td>\n",
              "      <td>53</td>\n",
              "      <td>N</td>\n",
              "      <td>0</td>\n",
              "    </tr>\n",
              "    <tr>\n",
              "      <th>145272</th>\n",
              "      <td>2016</td>\n",
              "      <td>131</td>\n",
              "      <td>1314</td>\n",
              "      <td>61</td>\n",
              "      <td>1438</td>\n",
              "      <td>57</td>\n",
              "      <td>N</td>\n",
              "      <td>0</td>\n",
              "    </tr>\n",
              "    <tr>\n",
              "      <th>145273</th>\n",
              "      <td>2016</td>\n",
              "      <td>131</td>\n",
              "      <td>1332</td>\n",
              "      <td>88</td>\n",
              "      <td>1428</td>\n",
              "      <td>57</td>\n",
              "      <td>N</td>\n",
              "      <td>0</td>\n",
              "    </tr>\n",
              "    <tr>\n",
              "      <th>145274</th>\n",
              "      <td>2016</td>\n",
              "      <td>131</td>\n",
              "      <td>1345</td>\n",
              "      <td>76</td>\n",
              "      <td>1276</td>\n",
              "      <td>59</td>\n",
              "      <td>N</td>\n",
              "      <td>0</td>\n",
              "    </tr>\n",
              "    <tr>\n",
              "      <th>145275</th>\n",
              "      <td>2016</td>\n",
              "      <td>131</td>\n",
              "      <td>1371</td>\n",
              "      <td>69</td>\n",
              "      <td>1437</td>\n",
              "      <td>67</td>\n",
              "      <td>N</td>\n",
              "      <td>0</td>\n",
              "    </tr>\n",
              "    <tr>\n",
              "      <th>145276</th>\n",
              "      <td>2016</td>\n",
              "      <td>131</td>\n",
              "      <td>1372</td>\n",
              "      <td>82</td>\n",
              "      <td>1394</td>\n",
              "      <td>60</td>\n",
              "      <td>N</td>\n",
              "      <td>0</td>\n",
              "    </tr>\n",
              "    <tr>\n",
              "      <th>145277</th>\n",
              "      <td>2016</td>\n",
              "      <td>131</td>\n",
              "      <td>1380</td>\n",
              "      <td>54</td>\n",
              "      <td>1238</td>\n",
              "      <td>53</td>\n",
              "      <td>N</td>\n",
              "      <td>0</td>\n",
              "    </tr>\n",
              "    <tr>\n",
              "      <th>145278</th>\n",
              "      <td>2016</td>\n",
              "      <td>131</td>\n",
              "      <td>1386</td>\n",
              "      <td>82</td>\n",
              "      <td>1173</td>\n",
              "      <td>79</td>\n",
              "      <td>N</td>\n",
              "      <td>0</td>\n",
              "    </tr>\n",
              "    <tr>\n",
              "      <th>145279</th>\n",
              "      <td>2016</td>\n",
              "      <td>131</td>\n",
              "      <td>1392</td>\n",
              "      <td>80</td>\n",
              "      <td>1436</td>\n",
              "      <td>74</td>\n",
              "      <td>H</td>\n",
              "      <td>0</td>\n",
              "    </tr>\n",
              "    <tr>\n",
              "      <th>145280</th>\n",
              "      <td>2016</td>\n",
              "      <td>131</td>\n",
              "      <td>1401</td>\n",
              "      <td>71</td>\n",
              "      <td>1261</td>\n",
              "      <td>38</td>\n",
              "      <td>N</td>\n",
              "      <td>0</td>\n",
              "    </tr>\n",
              "    <tr>\n",
              "      <th>145281</th>\n",
              "      <td>2016</td>\n",
              "      <td>131</td>\n",
              "      <td>1419</td>\n",
              "      <td>82</td>\n",
              "      <td>1426</td>\n",
              "      <td>71</td>\n",
              "      <td>N</td>\n",
              "      <td>0</td>\n",
              "    </tr>\n",
              "    <tr>\n",
              "      <th>145282</th>\n",
              "      <td>2016</td>\n",
              "      <td>131</td>\n",
              "      <td>1433</td>\n",
              "      <td>76</td>\n",
              "      <td>1172</td>\n",
              "      <td>54</td>\n",
              "      <td>N</td>\n",
              "      <td>0</td>\n",
              "    </tr>\n",
              "    <tr>\n",
              "      <th>145283</th>\n",
              "      <td>2016</td>\n",
              "      <td>131</td>\n",
              "      <td>1451</td>\n",
              "      <td>62</td>\n",
              "      <td>1285</td>\n",
              "      <td>59</td>\n",
              "      <td>N</td>\n",
              "      <td>0</td>\n",
              "    </tr>\n",
              "    <tr>\n",
              "      <th>145284</th>\n",
              "      <td>2016</td>\n",
              "      <td>132</td>\n",
              "      <td>1114</td>\n",
              "      <td>70</td>\n",
              "      <td>1419</td>\n",
              "      <td>50</td>\n",
              "      <td>N</td>\n",
              "      <td>0</td>\n",
              "    </tr>\n",
              "    <tr>\n",
              "      <th>145285</th>\n",
              "      <td>2016</td>\n",
              "      <td>132</td>\n",
              "      <td>1163</td>\n",
              "      <td>72</td>\n",
              "      <td>1272</td>\n",
              "      <td>58</td>\n",
              "      <td>N</td>\n",
              "      <td>0</td>\n",
              "    </tr>\n",
              "    <tr>\n",
              "      <th>145286</th>\n",
              "      <td>2016</td>\n",
              "      <td>132</td>\n",
              "      <td>1246</td>\n",
              "      <td>82</td>\n",
              "      <td>1401</td>\n",
              "      <td>77</td>\n",
              "      <td>N</td>\n",
              "      <td>1</td>\n",
              "    </tr>\n",
              "    <tr>\n",
              "      <th>145287</th>\n",
              "      <td>2016</td>\n",
              "      <td>132</td>\n",
              "      <td>1277</td>\n",
              "      <td>66</td>\n",
              "      <td>1345</td>\n",
              "      <td>62</td>\n",
              "      <td>N</td>\n",
              "      <td>0</td>\n",
              "    </tr>\n",
              "    <tr>\n",
              "      <th>145288</th>\n",
              "      <td>2016</td>\n",
              "      <td>132</td>\n",
              "      <td>1386</td>\n",
              "      <td>87</td>\n",
              "      <td>1433</td>\n",
              "      <td>74</td>\n",
              "      <td>N</td>\n",
              "      <td>0</td>\n",
              "    </tr>\n",
              "  </tbody>\n",
              "</table>\n",
              "<p>145289 rows × 8 columns</p>\n",
              "</div>"
            ],
            "text/plain": [
              "        Season  Daynum  Wteam  Wscore  Lteam  Lscore Wloc  Numot\n",
              "0         1985      20   1228      81   1328      64    N      0\n",
              "1         1985      25   1106      77   1354      70    H      0\n",
              "2         1985      25   1112      63   1223      56    H      0\n",
              "3         1985      25   1165      70   1432      54    H      0\n",
              "4         1985      25   1192      86   1447      74    H      0\n",
              "5         1985      25   1218      79   1337      78    H      0\n",
              "6         1985      25   1228      64   1226      44    N      0\n",
              "7         1985      25   1242      58   1268      56    N      0\n",
              "8         1985      25   1260      98   1133      80    H      0\n",
              "9         1985      25   1305      97   1424      89    H      0\n",
              "10        1985      25   1307     103   1288      71    H      0\n",
              "11        1985      25   1344      75   1438      71    N      0\n",
              "12        1985      25   1374      91   1411      72    H      0\n",
              "13        1985      25   1412      70   1397      65    N      0\n",
              "14        1985      25   1417      87   1225      58    H      0\n",
              "15        1985      26   1116      65   1368      62    H      0\n",
              "16        1985      26   1120      92   1391      50    H      0\n",
              "17        1985      26   1135      65   1306      60    A      0\n",
              "18        1985      26   1143      58   1388      53    H      0\n",
              "19        1985      26   1153      50   1184      48    H      0\n",
              "20        1985      26   1165      47   1159      40    A      0\n",
              "21        1985      26   1171      55   1216      52    H      0\n",
              "22        1985      26   1173      76   1134      56    H      0\n",
              "23        1985      26   1177      59   1296      58    H      0\n",
              "24        1985      26   1193      79   1265      76    A      0\n",
              "25        1985      26   1196     106   1416      55    H      0\n",
              "26        1985      26   1206      95   1137      77    H      0\n",
              "27        1985      26   1210      79   1149      66    H      0\n",
              "28        1985      26   1211      64   1102      59    A      0\n",
              "29        1985      26   1234      76   1114      47    H      0\n",
              "...        ...     ...    ...     ...    ...     ...  ...    ...\n",
              "145259    2016     130   1452      69   1328      67    N      0\n",
              "145260    2016     131   1114      72   1418      65    N      0\n",
              "145261    2016     131   1138      64   1103      61    N      0\n",
              "145262    2016     131   1163      77   1396      62    N      0\n",
              "145263    2016     131   1167      57   1308      54    N      0\n",
              "145264    2016     131   1201      68   1361      63    N      0\n",
              "145265    2016     131   1214      81   1354      69    N      0\n",
              "145266    2016     131   1218      64   1253      60    N      0\n",
              "145267    2016     131   1242      81   1452      71    N      0\n",
              "145268    2016     131   1246      93   1208      80    N      0\n",
              "145269    2016     131   1272      74   1408      54    N      0\n",
              "145270    2016     131   1277      64   1268      61    N      0\n",
              "145271    2016     131   1292      55   1330      53    N      0\n",
              "145272    2016     131   1314      61   1438      57    N      0\n",
              "145273    2016     131   1332      88   1428      57    N      0\n",
              "145274    2016     131   1345      76   1276      59    N      0\n",
              "145275    2016     131   1371      69   1437      67    N      0\n",
              "145276    2016     131   1372      82   1394      60    N      0\n",
              "145277    2016     131   1380      54   1238      53    N      0\n",
              "145278    2016     131   1386      82   1173      79    N      0\n",
              "145279    2016     131   1392      80   1436      74    H      0\n",
              "145280    2016     131   1401      71   1261      38    N      0\n",
              "145281    2016     131   1419      82   1426      71    N      0\n",
              "145282    2016     131   1433      76   1172      54    N      0\n",
              "145283    2016     131   1451      62   1285      59    N      0\n",
              "145284    2016     132   1114      70   1419      50    N      0\n",
              "145285    2016     132   1163      72   1272      58    N      0\n",
              "145286    2016     132   1246      82   1401      77    N      1\n",
              "145287    2016     132   1277      66   1345      62    N      0\n",
              "145288    2016     132   1386      87   1433      74    N      0\n",
              "\n",
              "[145289 rows x 8 columns]"
            ]
          },
          "metadata": {
            "tags": []
          },
          "execution_count": 10
        }
      ]
    },
    {
      "cell_type": "code",
      "metadata": {
        "id": "41VmvdTjf7WE",
        "colab_type": "code",
        "outputId": "b8d98b43-784c-4d78-882f-a64ebb10a0a3",
        "colab": {
          "base_uri": "https://localhost:8080/",
          "height": 203
        }
      },
      "source": [
        "df.head()"
      ],
      "execution_count": 0,
      "outputs": [
        {
          "output_type": "execute_result",
          "data": {
            "text/html": [
              "<div>\n",
              "<style scoped>\n",
              "    .dataframe tbody tr th:only-of-type {\n",
              "        vertical-align: middle;\n",
              "    }\n",
              "\n",
              "    .dataframe tbody tr th {\n",
              "        vertical-align: top;\n",
              "    }\n",
              "\n",
              "    .dataframe thead th {\n",
              "        text-align: right;\n",
              "    }\n",
              "</style>\n",
              "<table border=\"1\" class=\"dataframe\">\n",
              "  <thead>\n",
              "    <tr style=\"text-align: right;\">\n",
              "      <th></th>\n",
              "      <th>Season</th>\n",
              "      <th>Daynum</th>\n",
              "      <th>Wteam</th>\n",
              "      <th>Wscore</th>\n",
              "      <th>Lteam</th>\n",
              "      <th>Lscore</th>\n",
              "      <th>Wloc</th>\n",
              "      <th>Numot</th>\n",
              "    </tr>\n",
              "  </thead>\n",
              "  <tbody>\n",
              "    <tr>\n",
              "      <th>0</th>\n",
              "      <td>1985</td>\n",
              "      <td>20</td>\n",
              "      <td>1228</td>\n",
              "      <td>81</td>\n",
              "      <td>1328</td>\n",
              "      <td>64</td>\n",
              "      <td>N</td>\n",
              "      <td>0</td>\n",
              "    </tr>\n",
              "    <tr>\n",
              "      <th>1</th>\n",
              "      <td>1985</td>\n",
              "      <td>25</td>\n",
              "      <td>1106</td>\n",
              "      <td>77</td>\n",
              "      <td>1354</td>\n",
              "      <td>70</td>\n",
              "      <td>H</td>\n",
              "      <td>0</td>\n",
              "    </tr>\n",
              "    <tr>\n",
              "      <th>2</th>\n",
              "      <td>1985</td>\n",
              "      <td>25</td>\n",
              "      <td>1112</td>\n",
              "      <td>63</td>\n",
              "      <td>1223</td>\n",
              "      <td>56</td>\n",
              "      <td>H</td>\n",
              "      <td>0</td>\n",
              "    </tr>\n",
              "    <tr>\n",
              "      <th>3</th>\n",
              "      <td>1985</td>\n",
              "      <td>25</td>\n",
              "      <td>1165</td>\n",
              "      <td>70</td>\n",
              "      <td>1432</td>\n",
              "      <td>54</td>\n",
              "      <td>H</td>\n",
              "      <td>0</td>\n",
              "    </tr>\n",
              "    <tr>\n",
              "      <th>4</th>\n",
              "      <td>1985</td>\n",
              "      <td>25</td>\n",
              "      <td>1192</td>\n",
              "      <td>86</td>\n",
              "      <td>1447</td>\n",
              "      <td>74</td>\n",
              "      <td>H</td>\n",
              "      <td>0</td>\n",
              "    </tr>\n",
              "  </tbody>\n",
              "</table>\n",
              "</div>"
            ],
            "text/plain": [
              "   Season  Daynum  Wteam  Wscore  Lteam  Lscore Wloc  Numot\n",
              "0    1985      20   1228      81   1328      64    N      0\n",
              "1    1985      25   1106      77   1354      70    H      0\n",
              "2    1985      25   1112      63   1223      56    H      0\n",
              "3    1985      25   1165      70   1432      54    H      0\n",
              "4    1985      25   1192      86   1447      74    H      0"
            ]
          },
          "metadata": {
            "tags": []
          },
          "execution_count": 11
        }
      ]
    },
    {
      "cell_type": "code",
      "metadata": {
        "id": "u98tim1ef_mq",
        "colab_type": "code",
        "outputId": "b68be56a-7dd3-4476-c190-9ec5c8c62b7c",
        "colab": {
          "base_uri": "https://localhost:8080/",
          "height": 203
        }
      },
      "source": [
        "df.tail()"
      ],
      "execution_count": 0,
      "outputs": [
        {
          "output_type": "execute_result",
          "data": {
            "text/html": [
              "<div>\n",
              "<style scoped>\n",
              "    .dataframe tbody tr th:only-of-type {\n",
              "        vertical-align: middle;\n",
              "    }\n",
              "\n",
              "    .dataframe tbody tr th {\n",
              "        vertical-align: top;\n",
              "    }\n",
              "\n",
              "    .dataframe thead th {\n",
              "        text-align: right;\n",
              "    }\n",
              "</style>\n",
              "<table border=\"1\" class=\"dataframe\">\n",
              "  <thead>\n",
              "    <tr style=\"text-align: right;\">\n",
              "      <th></th>\n",
              "      <th>Season</th>\n",
              "      <th>Daynum</th>\n",
              "      <th>Wteam</th>\n",
              "      <th>Wscore</th>\n",
              "      <th>Lteam</th>\n",
              "      <th>Lscore</th>\n",
              "      <th>Wloc</th>\n",
              "      <th>Numot</th>\n",
              "    </tr>\n",
              "  </thead>\n",
              "  <tbody>\n",
              "    <tr>\n",
              "      <th>145284</th>\n",
              "      <td>2016</td>\n",
              "      <td>132</td>\n",
              "      <td>1114</td>\n",
              "      <td>70</td>\n",
              "      <td>1419</td>\n",
              "      <td>50</td>\n",
              "      <td>N</td>\n",
              "      <td>0</td>\n",
              "    </tr>\n",
              "    <tr>\n",
              "      <th>145285</th>\n",
              "      <td>2016</td>\n",
              "      <td>132</td>\n",
              "      <td>1163</td>\n",
              "      <td>72</td>\n",
              "      <td>1272</td>\n",
              "      <td>58</td>\n",
              "      <td>N</td>\n",
              "      <td>0</td>\n",
              "    </tr>\n",
              "    <tr>\n",
              "      <th>145286</th>\n",
              "      <td>2016</td>\n",
              "      <td>132</td>\n",
              "      <td>1246</td>\n",
              "      <td>82</td>\n",
              "      <td>1401</td>\n",
              "      <td>77</td>\n",
              "      <td>N</td>\n",
              "      <td>1</td>\n",
              "    </tr>\n",
              "    <tr>\n",
              "      <th>145287</th>\n",
              "      <td>2016</td>\n",
              "      <td>132</td>\n",
              "      <td>1277</td>\n",
              "      <td>66</td>\n",
              "      <td>1345</td>\n",
              "      <td>62</td>\n",
              "      <td>N</td>\n",
              "      <td>0</td>\n",
              "    </tr>\n",
              "    <tr>\n",
              "      <th>145288</th>\n",
              "      <td>2016</td>\n",
              "      <td>132</td>\n",
              "      <td>1386</td>\n",
              "      <td>87</td>\n",
              "      <td>1433</td>\n",
              "      <td>74</td>\n",
              "      <td>N</td>\n",
              "      <td>0</td>\n",
              "    </tr>\n",
              "  </tbody>\n",
              "</table>\n",
              "</div>"
            ],
            "text/plain": [
              "        Season  Daynum  Wteam  Wscore  Lteam  Lscore Wloc  Numot\n",
              "145284    2016     132   1114      70   1419      50    N      0\n",
              "145285    2016     132   1163      72   1272      58    N      0\n",
              "145286    2016     132   1246      82   1401      77    N      1\n",
              "145287    2016     132   1277      66   1345      62    N      0\n",
              "145288    2016     132   1386      87   1433      74    N      0"
            ]
          },
          "metadata": {
            "tags": []
          },
          "execution_count": 12
        }
      ]
    },
    {
      "cell_type": "code",
      "metadata": {
        "id": "LSZ2xYGLgAe4",
        "colab_type": "code",
        "outputId": "fbf728d5-3185-40ad-8e8e-5bb212c11b0d",
        "colab": {
          "base_uri": "https://localhost:8080/",
          "height": 35
        }
      },
      "source": [
        "df.shape"
      ],
      "execution_count": 0,
      "outputs": [
        {
          "output_type": "execute_result",
          "data": {
            "text/plain": [
              "(145289, 8)"
            ]
          },
          "metadata": {
            "tags": []
          },
          "execution_count": 13
        }
      ]
    },
    {
      "cell_type": "code",
      "metadata": {
        "id": "OQzeM2jVgF_w",
        "colab_type": "code",
        "outputId": "966fd639-c466-48f2-8ad8-5d106040cbd1",
        "colab": {
          "base_uri": "https://localhost:8080/",
          "height": 35
        }
      },
      "source": [
        "df.index"
      ],
      "execution_count": 0,
      "outputs": [
        {
          "output_type": "execute_result",
          "data": {
            "text/plain": [
              "RangeIndex(start=0, stop=145289, step=1)"
            ]
          },
          "metadata": {
            "tags": []
          },
          "execution_count": 14
        }
      ]
    },
    {
      "cell_type": "code",
      "metadata": {
        "id": "Kp6P06QZgoZ4",
        "colab_type": "code",
        "outputId": "97e6b540-750d-42bf-ca38-753972addff0",
        "colab": {
          "base_uri": "https://localhost:8080/",
          "height": 35
        }
      },
      "source": [
        "df.columns.tolist()"
      ],
      "execution_count": 0,
      "outputs": [
        {
          "output_type": "execute_result",
          "data": {
            "text/plain": [
              "['Season', 'Daynum', 'Wteam', 'Wscore', 'Lteam', 'Lscore', 'Wloc', 'Numot']"
            ]
          },
          "metadata": {
            "tags": []
          },
          "execution_count": 15
        }
      ]
    },
    {
      "cell_type": "code",
      "metadata": {
        "id": "7EmakuP1g8bv",
        "colab_type": "code",
        "outputId": "8e2b5c7a-0b91-42aa-e948-2c7167840bc1",
        "colab": {
          "base_uri": "https://localhost:8080/",
          "height": 251
        }
      },
      "source": [
        "df.info()"
      ],
      "execution_count": 0,
      "outputs": [
        {
          "output_type": "stream",
          "text": [
            "<class 'pandas.core.frame.DataFrame'>\n",
            "RangeIndex: 145289 entries, 0 to 145288\n",
            "Data columns (total 8 columns):\n",
            "Season    145289 non-null int64\n",
            "Daynum    145289 non-null int64\n",
            "Wteam     145289 non-null int64\n",
            "Wscore    145289 non-null int64\n",
            "Lteam     145289 non-null int64\n",
            "Lscore    145289 non-null int64\n",
            "Wloc      145289 non-null object\n",
            "Numot     145289 non-null int64\n",
            "dtypes: int64(7), object(1)\n",
            "memory usage: 8.9+ MB\n"
          ],
          "name": "stdout"
        }
      ]
    },
    {
      "cell_type": "code",
      "metadata": {
        "id": "8HyOtzRzhAUA",
        "colab_type": "code",
        "outputId": "f36ca3d2-71f3-414c-bd12-deabdf09acc3",
        "colab": {
          "base_uri": "https://localhost:8080/",
          "height": 315
        }
      },
      "source": [
        "df.describe()"
      ],
      "execution_count": 0,
      "outputs": [
        {
          "output_type": "execute_result",
          "data": {
            "text/html": [
              "<div>\n",
              "<style scoped>\n",
              "    .dataframe tbody tr th:only-of-type {\n",
              "        vertical-align: middle;\n",
              "    }\n",
              "\n",
              "    .dataframe tbody tr th {\n",
              "        vertical-align: top;\n",
              "    }\n",
              "\n",
              "    .dataframe thead th {\n",
              "        text-align: right;\n",
              "    }\n",
              "</style>\n",
              "<table border=\"1\" class=\"dataframe\">\n",
              "  <thead>\n",
              "    <tr style=\"text-align: right;\">\n",
              "      <th></th>\n",
              "      <th>Season</th>\n",
              "      <th>Daynum</th>\n",
              "      <th>Wteam</th>\n",
              "      <th>Wscore</th>\n",
              "      <th>Lteam</th>\n",
              "      <th>Lscore</th>\n",
              "      <th>Numot</th>\n",
              "    </tr>\n",
              "  </thead>\n",
              "  <tbody>\n",
              "    <tr>\n",
              "      <th>count</th>\n",
              "      <td>145289.000000</td>\n",
              "      <td>145289.000000</td>\n",
              "      <td>145289.000000</td>\n",
              "      <td>145289.000000</td>\n",
              "      <td>145289.000000</td>\n",
              "      <td>145289.000000</td>\n",
              "      <td>145289.000000</td>\n",
              "    </tr>\n",
              "    <tr>\n",
              "      <th>mean</th>\n",
              "      <td>2001.574834</td>\n",
              "      <td>75.223816</td>\n",
              "      <td>1286.720646</td>\n",
              "      <td>76.600321</td>\n",
              "      <td>1282.864064</td>\n",
              "      <td>64.497009</td>\n",
              "      <td>0.044387</td>\n",
              "    </tr>\n",
              "    <tr>\n",
              "      <th>std</th>\n",
              "      <td>9.233342</td>\n",
              "      <td>33.287418</td>\n",
              "      <td>104.570275</td>\n",
              "      <td>12.173033</td>\n",
              "      <td>104.829234</td>\n",
              "      <td>11.380625</td>\n",
              "      <td>0.247819</td>\n",
              "    </tr>\n",
              "    <tr>\n",
              "      <th>min</th>\n",
              "      <td>1985.000000</td>\n",
              "      <td>0.000000</td>\n",
              "      <td>1101.000000</td>\n",
              "      <td>34.000000</td>\n",
              "      <td>1101.000000</td>\n",
              "      <td>20.000000</td>\n",
              "      <td>0.000000</td>\n",
              "    </tr>\n",
              "    <tr>\n",
              "      <th>25%</th>\n",
              "      <td>1994.000000</td>\n",
              "      <td>47.000000</td>\n",
              "      <td>1198.000000</td>\n",
              "      <td>68.000000</td>\n",
              "      <td>1191.000000</td>\n",
              "      <td>57.000000</td>\n",
              "      <td>0.000000</td>\n",
              "    </tr>\n",
              "    <tr>\n",
              "      <th>50%</th>\n",
              "      <td>2002.000000</td>\n",
              "      <td>78.000000</td>\n",
              "      <td>1284.000000</td>\n",
              "      <td>76.000000</td>\n",
              "      <td>1280.000000</td>\n",
              "      <td>64.000000</td>\n",
              "      <td>0.000000</td>\n",
              "    </tr>\n",
              "    <tr>\n",
              "      <th>75%</th>\n",
              "      <td>2010.000000</td>\n",
              "      <td>103.000000</td>\n",
              "      <td>1379.000000</td>\n",
              "      <td>84.000000</td>\n",
              "      <td>1375.000000</td>\n",
              "      <td>72.000000</td>\n",
              "      <td>0.000000</td>\n",
              "    </tr>\n",
              "    <tr>\n",
              "      <th>max</th>\n",
              "      <td>2016.000000</td>\n",
              "      <td>132.000000</td>\n",
              "      <td>1464.000000</td>\n",
              "      <td>186.000000</td>\n",
              "      <td>1464.000000</td>\n",
              "      <td>150.000000</td>\n",
              "      <td>6.000000</td>\n",
              "    </tr>\n",
              "  </tbody>\n",
              "</table>\n",
              "</div>"
            ],
            "text/plain": [
              "              Season         Daynum  ...         Lscore          Numot\n",
              "count  145289.000000  145289.000000  ...  145289.000000  145289.000000\n",
              "mean     2001.574834      75.223816  ...      64.497009       0.044387\n",
              "std         9.233342      33.287418  ...      11.380625       0.247819\n",
              "min      1985.000000       0.000000  ...      20.000000       0.000000\n",
              "25%      1994.000000      47.000000  ...      57.000000       0.000000\n",
              "50%      2002.000000      78.000000  ...      64.000000       0.000000\n",
              "75%      2010.000000     103.000000  ...      72.000000       0.000000\n",
              "max      2016.000000     132.000000  ...     150.000000       6.000000\n",
              "\n",
              "[8 rows x 7 columns]"
            ]
          },
          "metadata": {
            "tags": []
          },
          "execution_count": 17
        }
      ]
    },
    {
      "cell_type": "code",
      "metadata": {
        "id": "zsi-nbRohklw",
        "colab_type": "code",
        "outputId": "869f1c31-5c8c-40ca-d247-7349abcdabbc",
        "colab": {
          "base_uri": "https://localhost:8080/",
          "height": 179
        }
      },
      "source": [
        "df.max()"
      ],
      "execution_count": 0,
      "outputs": [
        {
          "output_type": "execute_result",
          "data": {
            "text/plain": [
              "Season    2016\n",
              "Daynum     132\n",
              "Wteam     1464\n",
              "Wscore     186\n",
              "Lteam     1464\n",
              "Lscore     150\n",
              "Wloc         N\n",
              "Numot        6\n",
              "dtype: object"
            ]
          },
          "metadata": {
            "tags": []
          },
          "execution_count": 18
        }
      ]
    },
    {
      "cell_type": "code",
      "metadata": {
        "id": "3qRUaTNqiL8A",
        "colab_type": "code",
        "outputId": "9daea85b-68d2-47dd-82db-414046390e7a",
        "colab": {
          "base_uri": "https://localhost:8080/",
          "height": 179
        }
      },
      "source": [
        "df.min()"
      ],
      "execution_count": 0,
      "outputs": [
        {
          "output_type": "execute_result",
          "data": {
            "text/plain": [
              "Season    1985\n",
              "Daynum       0\n",
              "Wteam     1101\n",
              "Wscore      34\n",
              "Lteam     1101\n",
              "Lscore      20\n",
              "Wloc         A\n",
              "Numot        0\n",
              "dtype: object"
            ]
          },
          "metadata": {
            "tags": []
          },
          "execution_count": 19
        }
      ]
    },
    {
      "cell_type": "code",
      "metadata": {
        "id": "E3qxKFbZiZfA",
        "colab_type": "code",
        "outputId": "5336797c-4236-41ca-a01a-d16965c24d1d",
        "colab": {
          "base_uri": "https://localhost:8080/",
          "height": 1000
        }
      },
      "source": [
        "df['Wteam']"
      ],
      "execution_count": 0,
      "outputs": [
        {
          "output_type": "execute_result",
          "data": {
            "text/plain": [
              "0         1228\n",
              "1         1106\n",
              "2         1112\n",
              "3         1165\n",
              "4         1192\n",
              "5         1218\n",
              "6         1228\n",
              "7         1242\n",
              "8         1260\n",
              "9         1305\n",
              "10        1307\n",
              "11        1344\n",
              "12        1374\n",
              "13        1412\n",
              "14        1417\n",
              "15        1116\n",
              "16        1120\n",
              "17        1135\n",
              "18        1143\n",
              "19        1153\n",
              "20        1165\n",
              "21        1171\n",
              "22        1173\n",
              "23        1177\n",
              "24        1193\n",
              "25        1196\n",
              "26        1206\n",
              "27        1210\n",
              "28        1211\n",
              "29        1234\n",
              "          ... \n",
              "145259    1452\n",
              "145260    1114\n",
              "145261    1138\n",
              "145262    1163\n",
              "145263    1167\n",
              "145264    1201\n",
              "145265    1214\n",
              "145266    1218\n",
              "145267    1242\n",
              "145268    1246\n",
              "145269    1272\n",
              "145270    1277\n",
              "145271    1292\n",
              "145272    1314\n",
              "145273    1332\n",
              "145274    1345\n",
              "145275    1371\n",
              "145276    1372\n",
              "145277    1380\n",
              "145278    1386\n",
              "145279    1392\n",
              "145280    1401\n",
              "145281    1419\n",
              "145282    1433\n",
              "145283    1451\n",
              "145284    1114\n",
              "145285    1163\n",
              "145286    1246\n",
              "145287    1277\n",
              "145288    1386\n",
              "Name: Wteam, Length: 145289, dtype: int64"
            ]
          },
          "metadata": {
            "tags": []
          },
          "execution_count": 20
        }
      ]
    },
    {
      "cell_type": "code",
      "metadata": {
        "id": "lbp0keBzigA3",
        "colab_type": "code",
        "outputId": "adf97843-d11a-47ae-81fb-57bbed3ecc5b",
        "colab": {
          "base_uri": "https://localhost:8080/",
          "height": 35
        }
      },
      "source": [
        "df['Wteam'].max()"
      ],
      "execution_count": 0,
      "outputs": [
        {
          "output_type": "execute_result",
          "data": {
            "text/plain": [
              "1464"
            ]
          },
          "metadata": {
            "tags": []
          },
          "execution_count": 21
        }
      ]
    },
    {
      "cell_type": "code",
      "metadata": {
        "id": "up3j1U01iu-Y",
        "colab_type": "code",
        "outputId": "d24e2915-f238-4442-ee43-dc10984a7734",
        "colab": {
          "base_uri": "https://localhost:8080/",
          "height": 35
        }
      },
      "source": [
        "df['Wteam'].min()"
      ],
      "execution_count": 0,
      "outputs": [
        {
          "output_type": "execute_result",
          "data": {
            "text/plain": [
              "1101"
            ]
          },
          "metadata": {
            "tags": []
          },
          "execution_count": 22
        }
      ]
    },
    {
      "cell_type": "code",
      "metadata": {
        "id": "RWZHchHwi0rQ",
        "colab_type": "code",
        "outputId": "bb1743ec-fdf9-4ddf-acbe-d3c422e35da9",
        "colab": {
          "base_uri": "https://localhost:8080/",
          "height": 35
        }
      },
      "source": [
        "df['Wteam'].mean()"
      ],
      "execution_count": 0,
      "outputs": [
        {
          "output_type": "execute_result",
          "data": {
            "text/plain": [
              "1286.7206464357246"
            ]
          },
          "metadata": {
            "tags": []
          },
          "execution_count": 23
        }
      ]
    },
    {
      "cell_type": "code",
      "metadata": {
        "id": "7mziyytdi2fB",
        "colab_type": "code",
        "outputId": "dc9c8498-cfaf-4d1b-e85b-31c309618dfb",
        "colab": {
          "base_uri": "https://localhost:8080/",
          "height": 73
        }
      },
      "source": [
        "wteam = df['Wteam']\n",
        "print(type(wteam))\n",
        "print(dir(type(wteam)))"
      ],
      "execution_count": 0,
      "outputs": [
        {
          "output_type": "stream",
          "text": [
            "<class 'pandas.core.series.Series'>\n",
            "['T', '_AXIS_ALIASES', '_AXIS_IALIASES', '_AXIS_LEN', '_AXIS_NAMES', '_AXIS_NUMBERS', '_AXIS_ORDERS', '_AXIS_REVERSED', '_AXIS_SLICEMAP', '__abs__', '__add__', '__and__', '__array__', '__array_prepare__', '__array_priority__', '__array_wrap__', '__bool__', '__bytes__', '__class__', '__contains__', '__copy__', '__deepcopy__', '__delattr__', '__delitem__', '__dict__', '__dir__', '__div__', '__divmod__', '__doc__', '__eq__', '__finalize__', '__float__', '__floordiv__', '__format__', '__ge__', '__getattr__', '__getattribute__', '__getitem__', '__getstate__', '__gt__', '__hash__', '__iadd__', '__iand__', '__ifloordiv__', '__imod__', '__imul__', '__init__', '__init_subclass__', '__int__', '__invert__', '__ior__', '__ipow__', '__isub__', '__iter__', '__itruediv__', '__ixor__', '__le__', '__len__', '__long__', '__lt__', '__matmul__', '__mod__', '__module__', '__mul__', '__ne__', '__neg__', '__new__', '__nonzero__', '__or__', '__pos__', '__pow__', '__radd__', '__rand__', '__rdiv__', '__rdivmod__', '__reduce__', '__reduce_ex__', '__repr__', '__rfloordiv__', '__rmatmul__', '__rmod__', '__rmul__', '__ror__', '__round__', '__rpow__', '__rsub__', '__rtruediv__', '__rxor__', '__setattr__', '__setitem__', '__setstate__', '__sizeof__', '__str__', '__sub__', '__subclasshook__', '__truediv__', '__unicode__', '__weakref__', '__xor__', '_accessors', '_add_numeric_operations', '_add_series_only_operations', '_add_series_or_dataframe_operations', '_agg_by_level', '_agg_examples_doc', '_agg_see_also_doc', '_aggregate', '_aggregate_multiple_funcs', '_align_frame', '_align_series', '_binop', '_box_item_values', '_builtin_table', '_can_hold_na', '_check_inplace_setting', '_check_is_chained_assignment_possible', '_check_label_or_level_ambiguity', '_check_percentile', '_check_setitem_copy', '_clear_item_cache', '_clip_with_one_bound', '_clip_with_scalar', '_consolidate', '_consolidate_inplace', '_construct_axes_dict', '_construct_axes_dict_for_slice', '_construct_axes_dict_from', '_construct_axes_from_arguments', '_constructor', '_constructor_expanddim', '_constructor_sliced', '_convert', '_create_indexer', '_cython_table', '_deprecations', '_dir_additions', '_dir_deletions', '_drop_axis', '_drop_labels_or_levels', '_expand_axes', '_find_valid_index', '_formatting_values', '_from_axes', '_get_axis', '_get_axis_name', '_get_axis_number', '_get_axis_resolvers', '_get_block_manager_axis', '_get_bool_data', '_get_cacher', '_get_index_resolvers', '_get_item_cache', '_get_label_or_level_values', '_get_numeric_data', '_get_value', '_get_values', '_get_values_tuple', '_get_with', '_gotitem', '_iget_item_cache', '_index', '_indexed_same', '_info_axis', '_info_axis_name', '_info_axis_number', '_init_dict', '_init_mgr', '_internal_names', '_internal_names_set', '_is_builtin_func', '_is_cached', '_is_copy', '_is_cython_func', '_is_datelike_mixed_type', '_is_homogeneous_type', '_is_label_or_level_reference', '_is_label_reference', '_is_level_reference', '_is_mixed_type', '_is_numeric_mixed_type', '_is_view', '_ix', '_ixs', '_map_values', '_maybe_cache_changed', '_maybe_update_cacher', '_metadata', '_ndarray_values', '_needs_reindex_multi', '_obj_with_exclusions', '_protect_consolidate', '_reduce', '_reindex_axes', '_reindex_indexer', '_reindex_multi', '_reindex_with_indexers', '_repr_data_resource_', '_repr_latex_', '_reset_cache', '_reset_cacher', '_selected_obj', '_selection', '_selection_list', '_selection_name', '_set_as_cached', '_set_axis', '_set_axis_name', '_set_is_copy', '_set_item', '_set_labels', '_set_name', '_set_subtyp', '_set_value', '_set_values', '_set_with', '_set_with_engine', '_setup_axes', '_shallow_copy', '_slice', '_stat_axis', '_stat_axis_name', '_stat_axis_number', '_take', '_to_dict_of_blocks', '_try_aggregate_string_function', '_typ', '_unpickle_series_compat', '_update_inplace', '_validate_dtype', '_values', '_where', '_xs', 'abs', 'add', 'add_prefix', 'add_suffix', 'agg', 'aggregate', 'align', 'all', 'any', 'append', 'apply', 'argmax', 'argmin', 'argsort', 'array', 'as_blocks', 'as_matrix', 'asfreq', 'asobject', 'asof', 'astype', 'at', 'at_time', 'autocorr', 'axes', 'base', 'between', 'between_time', 'bfill', 'blocks', 'bool', 'cat', 'clip', 'clip_lower', 'clip_upper', 'combine', 'combine_first', 'compound', 'compress', 'convert_objects', 'copy', 'corr', 'count', 'cov', 'cummax', 'cummin', 'cumprod', 'cumsum', 'data', 'describe', 'diff', 'div', 'divide', 'divmod', 'dot', 'drop', 'drop_duplicates', 'droplevel', 'dropna', 'dt', 'dtype', 'dtypes', 'duplicated', 'empty', 'eq', 'equals', 'ewm', 'expanding', 'factorize', 'ffill', 'fillna', 'filter', 'first', 'first_valid_index', 'flags', 'floordiv', 'from_array', 'from_csv', 'ftype', 'ftypes', 'ge', 'get', 'get_dtype_counts', 'get_ftype_counts', 'get_value', 'get_values', 'groupby', 'gt', 'hasnans', 'head', 'hist', 'iat', 'idxmax', 'idxmin', 'iloc', 'imag', 'index', 'infer_objects', 'interpolate', 'is_copy', 'is_monotonic', 'is_monotonic_decreasing', 'is_monotonic_increasing', 'is_unique', 'isin', 'isna', 'isnull', 'item', 'items', 'itemsize', 'iteritems', 'ix', 'keys', 'kurt', 'kurtosis', 'last', 'last_valid_index', 'le', 'loc', 'lt', 'mad', 'map', 'mask', 'max', 'mean', 'median', 'memory_usage', 'min', 'mod', 'mode', 'mul', 'multiply', 'name', 'nbytes', 'ndim', 'ne', 'nlargest', 'nonzero', 'notna', 'notnull', 'nsmallest', 'nunique', 'pct_change', 'pipe', 'plot', 'pop', 'pow', 'prod', 'product', 'ptp', 'put', 'quantile', 'radd', 'rank', 'ravel', 'rdiv', 'rdivmod', 'real', 'reindex', 'reindex_axis', 'reindex_like', 'rename', 'rename_axis', 'reorder_levels', 'repeat', 'replace', 'resample', 'reset_index', 'rfloordiv', 'rmod', 'rmul', 'rolling', 'round', 'rpow', 'rsub', 'rtruediv', 'sample', 'searchsorted', 'select', 'sem', 'set_axis', 'set_value', 'shape', 'shift', 'size', 'skew', 'slice_shift', 'sort_index', 'sort_values', 'sparse', 'squeeze', 'std', 'str', 'strides', 'sub', 'subtract', 'sum', 'swapaxes', 'swaplevel', 'tail', 'take', 'timetuple', 'to_clipboard', 'to_csv', 'to_dense', 'to_dict', 'to_excel', 'to_frame', 'to_hdf', 'to_json', 'to_latex', 'to_list', 'to_msgpack', 'to_numpy', 'to_period', 'to_pickle', 'to_sparse', 'to_sql', 'to_string', 'to_timestamp', 'to_xarray', 'tolist', 'transform', 'transpose', 'truediv', 'truncate', 'tshift', 'tz_convert', 'tz_localize', 'unique', 'unstack', 'update', 'valid', 'value_counts', 'values', 'var', 'view', 'where', 'xs']\n"
          ],
          "name": "stdout"
        }
      ]
    },
    {
      "cell_type": "code",
      "metadata": {
        "id": "a5qphW13jDk2",
        "colab_type": "code",
        "outputId": "d81f8ca9-f74a-4572-ffc2-8b1c69e4f730",
        "colab": {
          "base_uri": "https://localhost:8080/",
          "height": 35
        }
      },
      "source": [
        "wteam.max()"
      ],
      "execution_count": 0,
      "outputs": [
        {
          "output_type": "execute_result",
          "data": {
            "text/plain": [
              "1464"
            ]
          },
          "metadata": {
            "tags": []
          },
          "execution_count": 25
        }
      ]
    },
    {
      "cell_type": "code",
      "metadata": {
        "id": "3vmfPByRjZ7x",
        "colab_type": "code",
        "outputId": "8796428c-0721-46f4-9593-985caa89e813",
        "colab": {
          "base_uri": "https://localhost:8080/",
          "height": 35
        }
      },
      "source": [
        "wteam.idxmax()"
      ],
      "execution_count": 0,
      "outputs": [
        {
          "output_type": "execute_result",
          "data": {
            "text/plain": [
              "82"
            ]
          },
          "metadata": {
            "tags": []
          },
          "execution_count": 26
        }
      ]
    },
    {
      "cell_type": "code",
      "metadata": {
        "id": "0FkwoQG1jcs4",
        "colab_type": "code",
        "outputId": "128ba1df-741f-4759-c84d-a58fe235afff",
        "colab": {
          "base_uri": "https://localhost:8080/",
          "height": 172
        }
      },
      "source": [
        "df[80:84]"
      ],
      "execution_count": 0,
      "outputs": [
        {
          "output_type": "execute_result",
          "data": {
            "text/html": [
              "<div>\n",
              "<style scoped>\n",
              "    .dataframe tbody tr th:only-of-type {\n",
              "        vertical-align: middle;\n",
              "    }\n",
              "\n",
              "    .dataframe tbody tr th {\n",
              "        vertical-align: top;\n",
              "    }\n",
              "\n",
              "    .dataframe thead th {\n",
              "        text-align: right;\n",
              "    }\n",
              "</style>\n",
              "<table border=\"1\" class=\"dataframe\">\n",
              "  <thead>\n",
              "    <tr style=\"text-align: right;\">\n",
              "      <th></th>\n",
              "      <th>Season</th>\n",
              "      <th>Daynum</th>\n",
              "      <th>Wteam</th>\n",
              "      <th>Wscore</th>\n",
              "      <th>Lteam</th>\n",
              "      <th>Lscore</th>\n",
              "      <th>Wloc</th>\n",
              "      <th>Numot</th>\n",
              "    </tr>\n",
              "  </thead>\n",
              "  <tbody>\n",
              "    <tr>\n",
              "      <th>80</th>\n",
              "      <td>1985</td>\n",
              "      <td>28</td>\n",
              "      <td>1428</td>\n",
              "      <td>89</td>\n",
              "      <td>1258</td>\n",
              "      <td>85</td>\n",
              "      <td>H</td>\n",
              "      <td>0</td>\n",
              "    </tr>\n",
              "    <tr>\n",
              "      <th>81</th>\n",
              "      <td>1985</td>\n",
              "      <td>28</td>\n",
              "      <td>1448</td>\n",
              "      <td>81</td>\n",
              "      <td>1192</td>\n",
              "      <td>67</td>\n",
              "      <td>H</td>\n",
              "      <td>0</td>\n",
              "    </tr>\n",
              "    <tr>\n",
              "      <th>82</th>\n",
              "      <td>1985</td>\n",
              "      <td>28</td>\n",
              "      <td>1464</td>\n",
              "      <td>71</td>\n",
              "      <td>1134</td>\n",
              "      <td>58</td>\n",
              "      <td>H</td>\n",
              "      <td>0</td>\n",
              "    </tr>\n",
              "    <tr>\n",
              "      <th>83</th>\n",
              "      <td>1985</td>\n",
              "      <td>29</td>\n",
              "      <td>1116</td>\n",
              "      <td>59</td>\n",
              "      <td>1416</td>\n",
              "      <td>45</td>\n",
              "      <td>N</td>\n",
              "      <td>0</td>\n",
              "    </tr>\n",
              "  </tbody>\n",
              "</table>\n",
              "</div>"
            ],
            "text/plain": [
              "    Season  Daynum  Wteam  Wscore  Lteam  Lscore Wloc  Numot\n",
              "80    1985      28   1428      89   1258      85    H      0\n",
              "81    1985      28   1448      81   1192      67    H      0\n",
              "82    1985      28   1464      71   1134      58    H      0\n",
              "83    1985      29   1116      59   1416      45    N      0"
            ]
          },
          "metadata": {
            "tags": []
          },
          "execution_count": 27
        }
      ]
    },
    {
      "cell_type": "code",
      "metadata": {
        "id": "kOdnjp1Sjh-5",
        "colab_type": "code",
        "outputId": "d4cd927e-67f0-41c7-cd5a-f1274f91353b",
        "colab": {
          "base_uri": "https://localhost:8080/",
          "height": 179
        }
      },
      "source": [
        "df.iloc[82]"
      ],
      "execution_count": 0,
      "outputs": [
        {
          "output_type": "execute_result",
          "data": {
            "text/plain": [
              "Season    1985\n",
              "Daynum      28\n",
              "Wteam     1464\n",
              "Wscore      71\n",
              "Lteam     1134\n",
              "Lscore      58\n",
              "Wloc         H\n",
              "Numot        0\n",
              "Name: 82, dtype: object"
            ]
          },
          "metadata": {
            "tags": []
          },
          "execution_count": 28
        }
      ]
    },
    {
      "cell_type": "code",
      "metadata": {
        "id": "Lx0iSAoejsrQ",
        "colab_type": "code",
        "outputId": "9b1330eb-9968-45ed-c1ba-ca48e9329752",
        "colab": {
          "base_uri": "https://localhost:8080/",
          "height": 35
        }
      },
      "source": [
        "df.iloc[82]['Wteam']"
      ],
      "execution_count": 0,
      "outputs": [
        {
          "output_type": "execute_result",
          "data": {
            "text/plain": [
              "1464"
            ]
          },
          "metadata": {
            "tags": []
          },
          "execution_count": 29
        }
      ]
    },
    {
      "cell_type": "code",
      "metadata": {
        "id": "AD5tHq1Mj7-Y",
        "colab_type": "code",
        "outputId": "93db1311-a21f-4480-df55-52b3ed6536dc",
        "colab": {
          "base_uri": "https://localhost:8080/",
          "height": 35
        }
      },
      "source": [
        "df['Wteam'][82]"
      ],
      "execution_count": 0,
      "outputs": [
        {
          "output_type": "execute_result",
          "data": {
            "text/plain": [
              "1464"
            ]
          },
          "metadata": {
            "tags": []
          },
          "execution_count": 30
        }
      ]
    },
    {
      "cell_type": "code",
      "metadata": {
        "id": "_tL_ao5WkFEK",
        "colab_type": "code",
        "outputId": "88bd3362-3245-41a8-ca9f-64fe844b0d96",
        "colab": {
          "base_uri": "https://localhost:8080/",
          "height": 1000
        }
      },
      "source": [
        "wteam.value_counts()"
      ],
      "execution_count": 0,
      "outputs": [
        {
          "output_type": "execute_result",
          "data": {
            "text/plain": [
              "1181    819\n",
              "1242    804\n",
              "1246    765\n",
              "1314    761\n",
              "1112    746\n",
              "1393    738\n",
              "1272    692\n",
              "1424    685\n",
              "1257    682\n",
              "1462    681\n",
              "1163    679\n",
              "1328    673\n",
              "1277    667\n",
              "1211    663\n",
              "1228    660\n",
              "1396    656\n",
              "1417    655\n",
              "1400    652\n",
              "1153    652\n",
              "1196    644\n",
              "1307    637\n",
              "1231    631\n",
              "1345    630\n",
              "1437    629\n",
              "1140    627\n",
              "1116    625\n",
              "1326    622\n",
              "1338    618\n",
              "1281    613\n",
              "1433    612\n",
              "       ... \n",
              "1367    101\n",
              "1167    101\n",
              "1370     95\n",
              "1377     89\n",
              "1315     88\n",
              "1312     86\n",
              "1255     83\n",
              "1244     82\n",
              "1136     78\n",
              "1128     67\n",
              "1342     67\n",
              "1302     62\n",
              "1146     62\n",
              "1215     54\n",
              "1188     51\n",
              "1303     51\n",
              "1134     50\n",
              "1213     50\n",
              "1121     48\n",
              "1109     42\n",
              "1297     38\n",
              "1230     37\n",
              "1262     30\n",
              "1432     28\n",
              "1445     26\n",
              "1101     18\n",
              "1446     14\n",
              "1118      6\n",
              "1289      6\n",
              "1327      3\n",
              "Name: Wteam, Length: 364, dtype: int64"
            ]
          },
          "metadata": {
            "tags": []
          },
          "execution_count": 31
        }
      ]
    },
    {
      "cell_type": "code",
      "metadata": {
        "id": "GvldXR3MkS1R",
        "colab_type": "code",
        "colab": {}
      },
      "source": [
        "import numpy as np"
      ],
      "execution_count": 0,
      "outputs": []
    },
    {
      "cell_type": "code",
      "metadata": {
        "id": "ujaUEFnvkiHB",
        "colab_type": "code",
        "colab": {}
      },
      "source": [
        "n = df.to_numpy()"
      ],
      "execution_count": 0,
      "outputs": []
    },
    {
      "cell_type": "code",
      "metadata": {
        "id": "cP8uu_H6klkx",
        "colab_type": "code",
        "outputId": "4e93a65f-844d-45a1-cb12-2238a52fa10b",
        "colab": {
          "base_uri": "https://localhost:8080/",
          "height": 143
        }
      },
      "source": [
        "print(n)"
      ],
      "execution_count": 0,
      "outputs": [
        {
          "output_type": "stream",
          "text": [
            "[[1985 20 1228 ... 64 'N' 0]\n",
            " [1985 25 1106 ... 70 'H' 0]\n",
            " [1985 25 1112 ... 56 'H' 0]\n",
            " ...\n",
            " [2016 132 1246 ... 77 'N' 1]\n",
            " [2016 132 1277 ... 62 'N' 0]\n",
            " [2016 132 1386 ... 74 'N' 0]]\n"
          ],
          "name": "stdout"
        }
      ]
    },
    {
      "cell_type": "code",
      "metadata": {
        "id": "6PTzfMHOkmrB",
        "colab_type": "code",
        "outputId": "8d638228-9f1e-4019-cee6-e40f8b4d836a",
        "colab": {
          "base_uri": "https://localhost:8080/",
          "height": 161
        }
      },
      "source": [
        "#df.to_csv('mydata2.csv')\n",
        "df.to_csv('mydata2.csv', index=False)\n",
        "\n",
        "!ls -al "
      ],
      "execution_count": 0,
      "outputs": [
        {
          "output_type": "stream",
          "text": [
            "total 12076\n",
            "drwxr-xr-x 1 root root    4096 Jul 17 02:09 .\n",
            "drwxr-xr-x 1 root root    4096 Jul 17 02:00 ..\n",
            "-rw-r--r-- 1 root root 4115852 Jul 17 02:09 2XJwYvq.1\n",
            "drwxr-xr-x 1 root root    4096 Jul 11 16:05 .config\n",
            "-rw-r--r-- 1 root root 4115852 Jul 17 02:09 mydata2.csv\n",
            "-rw-r--r-- 1 root root 4115852 Jul 17 02:09 mydata.csv\n",
            "drwxr-xr-x 1 root root    4096 Jul  3 16:14 sample_data\n"
          ],
          "name": "stdout"
        }
      ]
    },
    {
      "cell_type": "code",
      "metadata": {
        "id": "QwWwGg9PlIEZ",
        "colab_type": "code",
        "outputId": "3326dac9-35e7-41cf-e464-87ede5308435",
        "colab": {
          "base_uri": "https://localhost:8080/",
          "height": 197
        }
      },
      "source": [
        "!head -10 mydata.csv"
      ],
      "execution_count": 0,
      "outputs": [
        {
          "output_type": "stream",
          "text": [
            "Season,Daynum,Wteam,Wscore,Lteam,Lscore,Wloc,Numot\n",
            "1985,20,1228,81,1328,64,N,0\n",
            "1985,25,1106,77,1354,70,H,0\n",
            "1985,25,1112,63,1223,56,H,0\n",
            "1985,25,1165,70,1432,54,H,0\n",
            "1985,25,1192,86,1447,74,H,0\n",
            "1985,25,1218,79,1337,78,H,0\n",
            "1985,25,1228,64,1226,44,N,0\n",
            "1985,25,1242,58,1268,56,N,0\n",
            "1985,25,1260,98,1133,80,H,0\n"
          ],
          "name": "stdout"
        }
      ]
    },
    {
      "cell_type": "code",
      "metadata": {
        "id": "WHTEvD2llNTx",
        "colab_type": "code",
        "colab": {}
      },
      "source": [
        "df2 = pd.read_csv(\"mydata2.csv\")"
      ],
      "execution_count": 0,
      "outputs": []
    },
    {
      "cell_type": "code",
      "metadata": {
        "id": "aINQEgBuloPy",
        "colab_type": "code",
        "outputId": "5b8780b2-699c-4167-fc0d-ef2bf6238f72",
        "colab": {
          "base_uri": "https://localhost:8080/",
          "height": 203
        }
      },
      "source": [
        "df2.head()"
      ],
      "execution_count": 0,
      "outputs": [
        {
          "output_type": "execute_result",
          "data": {
            "text/html": [
              "<div>\n",
              "<style scoped>\n",
              "    .dataframe tbody tr th:only-of-type {\n",
              "        vertical-align: middle;\n",
              "    }\n",
              "\n",
              "    .dataframe tbody tr th {\n",
              "        vertical-align: top;\n",
              "    }\n",
              "\n",
              "    .dataframe thead th {\n",
              "        text-align: right;\n",
              "    }\n",
              "</style>\n",
              "<table border=\"1\" class=\"dataframe\">\n",
              "  <thead>\n",
              "    <tr style=\"text-align: right;\">\n",
              "      <th></th>\n",
              "      <th>Season</th>\n",
              "      <th>Daynum</th>\n",
              "      <th>Wteam</th>\n",
              "      <th>Wscore</th>\n",
              "      <th>Lteam</th>\n",
              "      <th>Lscore</th>\n",
              "      <th>Wloc</th>\n",
              "      <th>Numot</th>\n",
              "    </tr>\n",
              "  </thead>\n",
              "  <tbody>\n",
              "    <tr>\n",
              "      <th>0</th>\n",
              "      <td>1985</td>\n",
              "      <td>20</td>\n",
              "      <td>1228</td>\n",
              "      <td>81</td>\n",
              "      <td>1328</td>\n",
              "      <td>64</td>\n",
              "      <td>N</td>\n",
              "      <td>0</td>\n",
              "    </tr>\n",
              "    <tr>\n",
              "      <th>1</th>\n",
              "      <td>1985</td>\n",
              "      <td>25</td>\n",
              "      <td>1106</td>\n",
              "      <td>77</td>\n",
              "      <td>1354</td>\n",
              "      <td>70</td>\n",
              "      <td>H</td>\n",
              "      <td>0</td>\n",
              "    </tr>\n",
              "    <tr>\n",
              "      <th>2</th>\n",
              "      <td>1985</td>\n",
              "      <td>25</td>\n",
              "      <td>1112</td>\n",
              "      <td>63</td>\n",
              "      <td>1223</td>\n",
              "      <td>56</td>\n",
              "      <td>H</td>\n",
              "      <td>0</td>\n",
              "    </tr>\n",
              "    <tr>\n",
              "      <th>3</th>\n",
              "      <td>1985</td>\n",
              "      <td>25</td>\n",
              "      <td>1165</td>\n",
              "      <td>70</td>\n",
              "      <td>1432</td>\n",
              "      <td>54</td>\n",
              "      <td>H</td>\n",
              "      <td>0</td>\n",
              "    </tr>\n",
              "    <tr>\n",
              "      <th>4</th>\n",
              "      <td>1985</td>\n",
              "      <td>25</td>\n",
              "      <td>1192</td>\n",
              "      <td>86</td>\n",
              "      <td>1447</td>\n",
              "      <td>74</td>\n",
              "      <td>H</td>\n",
              "      <td>0</td>\n",
              "    </tr>\n",
              "  </tbody>\n",
              "</table>\n",
              "</div>"
            ],
            "text/plain": [
              "   Season  Daynum  Wteam  Wscore  Lteam  Lscore Wloc  Numot\n",
              "0    1985      20   1228      81   1328      64    N      0\n",
              "1    1985      25   1106      77   1354      70    H      0\n",
              "2    1985      25   1112      63   1223      56    H      0\n",
              "3    1985      25   1165      70   1432      54    H      0\n",
              "4    1985      25   1192      86   1447      74    H      0"
            ]
          },
          "metadata": {
            "tags": []
          },
          "execution_count": 38
        }
      ]
    },
    {
      "cell_type": "code",
      "metadata": {
        "id": "XBI2IUl8lviq",
        "colab_type": "code",
        "outputId": "5802d031-fc77-4eae-e431-5c75d98b462a",
        "colab": {
          "base_uri": "https://localhost:8080/",
          "height": 190
        }
      },
      "source": [
        "#df.to_excel(\"mydata.xlsx\")\n",
        "df.to_excel(\"mydata.xlsx\", index=Falss)\n",
        "!ls -al"
      ],
      "execution_count": 0,
      "outputs": [
        {
          "output_type": "error",
          "ename": "NameError",
          "evalue": "ignored",
          "traceback": [
            "\u001b[0;31m---------------------------------------------------------------------------\u001b[0m",
            "\u001b[0;31mNameError\u001b[0m                                 Traceback (most recent call last)",
            "\u001b[0;32m<ipython-input-39-fcb28f4e5c91>\u001b[0m in \u001b[0;36m<module>\u001b[0;34m()\u001b[0m\n\u001b[0;32m----> 1\u001b[0;31m \u001b[0mdf\u001b[0m\u001b[0;34m.\u001b[0m\u001b[0mto_excel\u001b[0m\u001b[0;34m(\u001b[0m\u001b[0;34m\"mydata.xlsx\"\u001b[0m\u001b[0;34m,\u001b[0m \u001b[0mindex\u001b[0m\u001b[0;34m=\u001b[0m\u001b[0mFalss\u001b[0m\u001b[0;34m)\u001b[0m\u001b[0;34m\u001b[0m\u001b[0;34m\u001b[0m\u001b[0m\n\u001b[0m\u001b[1;32m      2\u001b[0m \u001b[0mget_ipython\u001b[0m\u001b[0;34m(\u001b[0m\u001b[0;34m)\u001b[0m\u001b[0;34m.\u001b[0m\u001b[0msystem\u001b[0m\u001b[0;34m(\u001b[0m\u001b[0;34m'ls -al'\u001b[0m\u001b[0;34m)\u001b[0m\u001b[0;34m\u001b[0m\u001b[0;34m\u001b[0m\u001b[0m\n",
            "\u001b[0;31mNameError\u001b[0m: name 'Falss' is not defined"
          ]
        }
      ]
    },
    {
      "cell_type": "code",
      "metadata": {
        "id": "CJ6MSe68mGqJ",
        "colab_type": "code",
        "colab": {}
      },
      "source": [
        "xlsx = pd.ExcelFile('mydata.xlsx')\n",
        "df3 = pd.read_excel(xlsx)\n",
        "df3.head()"
      ],
      "execution_count": 0,
      "outputs": []
    },
    {
      "cell_type": "code",
      "metadata": {
        "id": "ni4Y1vyqma0I",
        "colab_type": "code",
        "colab": {}
      },
      "source": [
        "from google.colab import files\n",
        "files.download('mydata.xlsx')"
      ],
      "execution_count": 0,
      "outputs": []
    },
    {
      "cell_type": "code",
      "metadata": {
        "id": "RDJcXZWamuzL",
        "colab_type": "code",
        "outputId": "87620a10-9507-4a2a-f7e0-a6350de2d005",
        "colab": {
          "resources": {
            "http://localhost:8080/nbextensions/google.colab/files.js": {
              "data": "Ly8gQ29weXJpZ2h0IDIwMTcgR29vZ2xlIExMQwovLwovLyBMaWNlbnNlZCB1bmRlciB0aGUgQXBhY2hlIExpY2Vuc2UsIFZlcnNpb24gMi4wICh0aGUgIkxpY2Vuc2UiKTsKLy8geW91IG1heSBub3QgdXNlIHRoaXMgZmlsZSBleGNlcHQgaW4gY29tcGxpYW5jZSB3aXRoIHRoZSBMaWNlbnNlLgovLyBZb3UgbWF5IG9idGFpbiBhIGNvcHkgb2YgdGhlIExpY2Vuc2UgYXQKLy8KLy8gICAgICBodHRwOi8vd3d3LmFwYWNoZS5vcmcvbGljZW5zZXMvTElDRU5TRS0yLjAKLy8KLy8gVW5sZXNzIHJlcXVpcmVkIGJ5IGFwcGxpY2FibGUgbGF3IG9yIGFncmVlZCB0byBpbiB3cml0aW5nLCBzb2Z0d2FyZQovLyBkaXN0cmlidXRlZCB1bmRlciB0aGUgTGljZW5zZSBpcyBkaXN0cmlidXRlZCBvbiBhbiAiQVMgSVMiIEJBU0lTLAovLyBXSVRIT1VUIFdBUlJBTlRJRVMgT1IgQ09ORElUSU9OUyBPRiBBTlkgS0lORCwgZWl0aGVyIGV4cHJlc3Mgb3IgaW1wbGllZC4KLy8gU2VlIHRoZSBMaWNlbnNlIGZvciB0aGUgc3BlY2lmaWMgbGFuZ3VhZ2UgZ292ZXJuaW5nIHBlcm1pc3Npb25zIGFuZAovLyBsaW1pdGF0aW9ucyB1bmRlciB0aGUgTGljZW5zZS4KCi8qKgogKiBAZmlsZW92ZXJ2aWV3IEhlbHBlcnMgZm9yIGdvb2dsZS5jb2xhYiBQeXRob24gbW9kdWxlLgogKi8KKGZ1bmN0aW9uKHNjb3BlKSB7CmZ1bmN0aW9uIHNwYW4odGV4dCwgc3R5bGVBdHRyaWJ1dGVzID0ge30pIHsKICBjb25zdCBlbGVtZW50ID0gZG9jdW1lbnQuY3JlYXRlRWxlbWVudCgnc3BhbicpOwogIGVsZW1lbnQudGV4dENvbnRlbnQgPSB0ZXh0OwogIGZvciAoY29uc3Qga2V5IG9mIE9iamVjdC5rZXlzKHN0eWxlQXR0cmlidXRlcykpIHsKICAgIGVsZW1lbnQuc3R5bGVba2V5XSA9IHN0eWxlQXR0cmlidXRlc1trZXldOwogIH0KICByZXR1cm4gZWxlbWVudDsKfQoKLy8gTWF4IG51bWJlciBvZiBieXRlcyB3aGljaCB3aWxsIGJlIHVwbG9hZGVkIGF0IGEgdGltZS4KY29uc3QgTUFYX1BBWUxPQURfU0laRSA9IDEwMCAqIDEwMjQ7Ci8vIE1heCBhbW91bnQgb2YgdGltZSB0byBibG9jayB3YWl0aW5nIGZvciB0aGUgdXNlci4KY29uc3QgRklMRV9DSEFOR0VfVElNRU9VVF9NUyA9IDMwICogMTAwMDsKCmZ1bmN0aW9uIF91cGxvYWRGaWxlcyhpbnB1dElkLCBvdXRwdXRJZCkgewogIGNvbnN0IHN0ZXBzID0gdXBsb2FkRmlsZXNTdGVwKGlucHV0SWQsIG91dHB1dElkKTsKICBjb25zdCBvdXRwdXRFbGVtZW50ID0gZG9jdW1lbnQuZ2V0RWxlbWVudEJ5SWQob3V0cHV0SWQpOwogIC8vIENhY2hlIHN0ZXBzIG9uIHRoZSBvdXRwdXRFbGVtZW50IHRvIG1ha2UgaXQgYXZhaWxhYmxlIGZvciB0aGUgbmV4dCBjYWxsCiAgLy8gdG8gdXBsb2FkRmlsZXNDb250aW51ZSBmcm9tIFB5dGhvbi4KICBvdXRwdXRFbGVtZW50LnN0ZXBzID0gc3RlcHM7CgogIHJldHVybiBfdXBsb2FkRmlsZXNDb250aW51ZShvdXRwdXRJZCk7Cn0KCi8vIFRoaXMgaXMgcm91Z2hseSBhbiBhc3luYyBnZW5lcmF0b3IgKG5vdCBzdXBwb3J0ZWQgaW4gdGhlIGJyb3dzZXIgeWV0KSwKLy8gd2hlcmUgdGhlcmUgYXJlIG11bHRpcGxlIGFzeW5jaHJvbm91cyBzdGVwcyBhbmQgdGhlIFB5dGhvbiBzaWRlIGlzIGdvaW5nCi8vIHRvIHBvbGwgZm9yIGNvbXBsZXRpb24gb2YgZWFjaCBzdGVwLgovLyBUaGlzIHVzZXMgYSBQcm9taXNlIHRvIGJsb2NrIHRoZSBweXRob24gc2lkZSBvbiBjb21wbGV0aW9uIG9mIGVhY2ggc3RlcCwKLy8gdGhlbiBwYXNzZXMgdGhlIHJlc3VsdCBvZiB0aGUgcHJldmlvdXMgc3RlcCBhcyB0aGUgaW5wdXQgdG8gdGhlIG5leHQgc3RlcC4KZnVuY3Rpb24gX3VwbG9hZEZpbGVzQ29udGludWUob3V0cHV0SWQpIHsKICBjb25zdCBvdXRwdXRFbGVtZW50ID0gZG9jdW1lbnQuZ2V0RWxlbWVudEJ5SWQob3V0cHV0SWQpOwogIGNvbnN0IHN0ZXBzID0gb3V0cHV0RWxlbWVudC5zdGVwczsKCiAgY29uc3QgbmV4dCA9IHN0ZXBzLm5leHQob3V0cHV0RWxlbWVudC5sYXN0UHJvbWlzZVZhbHVlKTsKICByZXR1cm4gUHJvbWlzZS5yZXNvbHZlKG5leHQudmFsdWUucHJvbWlzZSkudGhlbigodmFsdWUpID0+IHsKICAgIC8vIENhY2hlIHRoZSBsYXN0IHByb21pc2UgdmFsdWUgdG8gbWFrZSBpdCBhdmFpbGFibGUgdG8gdGhlIG5leHQKICAgIC8vIHN0ZXAgb2YgdGhlIGdlbmVyYXRvci4KICAgIG91dHB1dEVsZW1lbnQubGFzdFByb21pc2VWYWx1ZSA9IHZhbHVlOwogICAgcmV0dXJuIG5leHQudmFsdWUucmVzcG9uc2U7CiAgfSk7Cn0KCi8qKgogKiBHZW5lcmF0b3IgZnVuY3Rpb24gd2hpY2ggaXMgY2FsbGVkIGJldHdlZW4gZWFjaCBhc3luYyBzdGVwIG9mIHRoZSB1cGxvYWQKICogcHJvY2Vzcy4KICogQHBhcmFtIHtzdHJpbmd9IGlucHV0SWQgRWxlbWVudCBJRCBvZiB0aGUgaW5wdXQgZmlsZSBwaWNrZXIgZWxlbWVudC4KICogQHBhcmFtIHtzdHJpbmd9IG91dHB1dElkIEVsZW1lbnQgSUQgb2YgdGhlIG91dHB1dCBkaXNwbGF5LgogKiBAcmV0dXJuIHshSXRlcmFibGU8IU9iamVjdD59IEl0ZXJhYmxlIG9mIG5leHQgc3RlcHMuCiAqLwpmdW5jdGlvbiogdXBsb2FkRmlsZXNTdGVwKGlucHV0SWQsIG91dHB1dElkKSB7CiAgY29uc3QgaW5wdXRFbGVtZW50ID0gZG9jdW1lbnQuZ2V0RWxlbWVudEJ5SWQoaW5wdXRJZCk7CiAgaW5wdXRFbGVtZW50LmRpc2FibGVkID0gZmFsc2U7CgogIGNvbnN0IG91dHB1dEVsZW1lbnQgPSBkb2N1bWVudC5nZXRFbGVtZW50QnlJZChvdXRwdXRJZCk7CiAgb3V0cHV0RWxlbWVudC5pbm5lckhUTUwgPSAnJzsKCiAgY29uc3QgcGlja2VkUHJvbWlzZSA9IG5ldyBQcm9taXNlKChyZXNvbHZlKSA9PiB7CiAgICBpbnB1dEVsZW1lbnQuYWRkRXZlbnRMaXN0ZW5lcignY2hhbmdlJywgKGUpID0+IHsKICAgICAgcmVzb2x2ZShlLnRhcmdldC5maWxlcyk7CiAgICB9KTsKICB9KTsKCiAgY29uc3QgY2FuY2VsID0gZG9jdW1lbnQuY3JlYXRlRWxlbWVudCgnYnV0dG9uJyk7CiAgaW5wdXRFbGVtZW50LnBhcmVudEVsZW1lbnQuYXBwZW5kQ2hpbGQoY2FuY2VsKTsKICBjYW5jZWwudGV4dENvbnRlbnQgPSAnQ2FuY2VsIHVwbG9hZCc7CiAgY29uc3QgY2FuY2VsUHJvbWlzZSA9IG5ldyBQcm9taXNlKChyZXNvbHZlKSA9PiB7CiAgICBjYW5jZWwub25jbGljayA9ICgpID0+IHsKICAgICAgcmVzb2x2ZShudWxsKTsKICAgIH07CiAgfSk7CgogIC8vIENhbmNlbCB1cGxvYWQgaWYgdXNlciBoYXNuJ3QgcGlja2VkIGFueXRoaW5nIGluIHRpbWVvdXQuCiAgY29uc3QgdGltZW91dFByb21pc2UgPSBuZXcgUHJvbWlzZSgocmVzb2x2ZSkgPT4gewogICAgc2V0VGltZW91dCgoKSA9PiB7CiAgICAgIHJlc29sdmUobnVsbCk7CiAgICB9LCBGSUxFX0NIQU5HRV9USU1FT1VUX01TKTsKICB9KTsKCiAgLy8gV2FpdCBmb3IgdGhlIHVzZXIgdG8gcGljayB0aGUgZmlsZXMuCiAgY29uc3QgZmlsZXMgPSB5aWVsZCB7CiAgICBwcm9taXNlOiBQcm9taXNlLnJhY2UoW3BpY2tlZFByb21pc2UsIHRpbWVvdXRQcm9taXNlLCBjYW5jZWxQcm9taXNlXSksCiAgICByZXNwb25zZTogewogICAgICBhY3Rpb246ICdzdGFydGluZycsCiAgICB9CiAgfTsKCiAgaWYgKCFmaWxlcykgewogICAgcmV0dXJuIHsKICAgICAgcmVzcG9uc2U6IHsKICAgICAgICBhY3Rpb246ICdjb21wbGV0ZScsCiAgICAgIH0KICAgIH07CiAgfQoKICBjYW5jZWwucmVtb3ZlKCk7CgogIC8vIERpc2FibGUgdGhlIGlucHV0IGVsZW1lbnQgc2luY2UgZnVydGhlciBwaWNrcyBhcmUgbm90IGFsbG93ZWQuCiAgaW5wdXRFbGVtZW50LmRpc2FibGVkID0gdHJ1ZTsKCiAgZm9yIChjb25zdCBmaWxlIG9mIGZpbGVzKSB7CiAgICBjb25zdCBsaSA9IGRvY3VtZW50LmNyZWF0ZUVsZW1lbnQoJ2xpJyk7CiAgICBsaS5hcHBlbmQoc3BhbihmaWxlLm5hbWUsIHtmb250V2VpZ2h0OiAnYm9sZCd9KSk7CiAgICBsaS5hcHBlbmQoc3BhbigKICAgICAgICBgKCR7ZmlsZS50eXBlIHx8ICduL2EnfSkgLSAke2ZpbGUuc2l6ZX0gYnl0ZXMsIGAgKwogICAgICAgIGBsYXN0IG1vZGlmaWVkOiAkewogICAgICAgICAgICBmaWxlLmxhc3RNb2RpZmllZERhdGUgPyBmaWxlLmxhc3RNb2RpZmllZERhdGUudG9Mb2NhbGVEYXRlU3RyaW5nKCkgOgogICAgICAgICAgICAgICAgICAgICAgICAgICAgICAgICAgICAnbi9hJ30gLSBgKSk7CiAgICBjb25zdCBwZXJjZW50ID0gc3BhbignMCUgZG9uZScpOwogICAgbGkuYXBwZW5kQ2hpbGQocGVyY2VudCk7CgogICAgb3V0cHV0RWxlbWVudC5hcHBlbmRDaGlsZChsaSk7CgogICAgY29uc3QgZmlsZURhdGFQcm9taXNlID0gbmV3IFByb21pc2UoKHJlc29sdmUpID0+IHsKICAgICAgY29uc3QgcmVhZGVyID0gbmV3IEZpbGVSZWFkZXIoKTsKICAgICAgcmVhZGVyLm9ubG9hZCA9IChlKSA9PiB7CiAgICAgICAgcmVzb2x2ZShlLnRhcmdldC5yZXN1bHQpOwogICAgICB9OwogICAgICByZWFkZXIucmVhZEFzQXJyYXlCdWZmZXIoZmlsZSk7CiAgICB9KTsKICAgIC8vIFdhaXQgZm9yIHRoZSBkYXRhIHRvIGJlIHJlYWR5LgogICAgbGV0IGZpbGVEYXRhID0geWllbGQgewogICAgICBwcm9taXNlOiBmaWxlRGF0YVByb21pc2UsCiAgICAgIHJlc3BvbnNlOiB7CiAgICAgICAgYWN0aW9uOiAnY29udGludWUnLAogICAgICB9CiAgICB9OwoKICAgIC8vIFVzZSBhIGNodW5rZWQgc2VuZGluZyB0byBhdm9pZCBtZXNzYWdlIHNpemUgbGltaXRzLiBTZWUgYi82MjExNTY2MC4KICAgIGxldCBwb3NpdGlvbiA9IDA7CiAgICB3aGlsZSAocG9zaXRpb24gPCBmaWxlRGF0YS5ieXRlTGVuZ3RoKSB7CiAgICAgIGNvbnN0IGxlbmd0aCA9IE1hdGgubWluKGZpbGVEYXRhLmJ5dGVMZW5ndGggLSBwb3NpdGlvbiwgTUFYX1BBWUxPQURfU0laRSk7CiAgICAgIGNvbnN0IGNodW5rID0gbmV3IFVpbnQ4QXJyYXkoZmlsZURhdGEsIHBvc2l0aW9uLCBsZW5ndGgpOwogICAgICBwb3NpdGlvbiArPSBsZW5ndGg7CgogICAgICBjb25zdCBiYXNlNjQgPSBidG9hKFN0cmluZy5mcm9tQ2hhckNvZGUuYXBwbHkobnVsbCwgY2h1bmspKTsKICAgICAgeWllbGQgewogICAgICAgIHJlc3BvbnNlOiB7CiAgICAgICAgICBhY3Rpb246ICdhcHBlbmQnLAogICAgICAgICAgZmlsZTogZmlsZS5uYW1lLAogICAgICAgICAgZGF0YTogYmFzZTY0LAogICAgICAgIH0sCiAgICAgIH07CiAgICAgIHBlcmNlbnQudGV4dENvbnRlbnQgPQogICAgICAgICAgYCR7TWF0aC5yb3VuZCgocG9zaXRpb24gLyBmaWxlRGF0YS5ieXRlTGVuZ3RoKSAqIDEwMCl9JSBkb25lYDsKICAgIH0KICB9CgogIC8vIEFsbCBkb25lLgogIHlpZWxkIHsKICAgIHJlc3BvbnNlOiB7CiAgICAgIGFjdGlvbjogJ2NvbXBsZXRlJywKICAgIH0KICB9Owp9CgpzY29wZS5nb29nbGUgPSBzY29wZS5nb29nbGUgfHwge307CnNjb3BlLmdvb2dsZS5jb2xhYiA9IHNjb3BlLmdvb2dsZS5jb2xhYiB8fCB7fTsKc2NvcGUuZ29vZ2xlLmNvbGFiLl9maWxlcyA9IHsKICBfdXBsb2FkRmlsZXMsCiAgX3VwbG9hZEZpbGVzQ29udGludWUsCn07Cn0pKHNlbGYpOwo=",
              "ok": true,
              "headers": [
                [
                  "content-type",
                  "application/javascript"
                ]
              ],
              "status": 200,
              "status_text": ""
            }
          },
          "base_uri": "https://localhost:8080/",
          "height": 95
        }
      },
      "source": [
        "uploaded = files.upload()"
      ],
      "execution_count": 0,
      "outputs": [
        {
          "output_type": "display_data",
          "data": {
            "text/html": [
              "\n",
              "     <input type=\"file\" id=\"files-3c7e8166-f964-454f-a1b2-0e303864485a\" name=\"files[]\" multiple disabled />\n",
              "     <output id=\"result-3c7e8166-f964-454f-a1b2-0e303864485a\">\n",
              "      Upload widget is only available when the cell has been executed in the\n",
              "      current browser session. Please rerun this cell to enable.\n",
              "      </output>\n",
              "      <script src=\"/nbextensions/google.colab/files.js\"></script> "
            ],
            "text/plain": [
              "<IPython.core.display.HTML object>"
            ]
          },
          "metadata": {
            "tags": []
          }
        },
        {
          "output_type": "stream",
          "text": [
            "Saving mydata3.xlsx to mydata3.xlsx\n"
          ],
          "name": "stdout"
        }
      ]
    },
    {
      "cell_type": "code",
      "metadata": {
        "id": "O1bC-MABnTB6",
        "colab_type": "code",
        "outputId": "e5408181-1314-467a-82d5-eca0511b82d4",
        "colab": {
          "base_uri": "https://localhost:8080/",
          "height": 197
        }
      },
      "source": [
        "!ls -al"
      ],
      "execution_count": 0,
      "outputs": [
        {
          "output_type": "stream",
          "text": [
            "total 28732\n",
            "drwxr-xr-x 1 root root    4096 Jul 17 01:54  .\n",
            "drwxr-xr-x 1 root root    4096 Jul 17 00:45  ..\n",
            "drwxr-xr-x 1 root root    4096 Jul 11 16:05  .config\n",
            "-rw-r--r-- 1 root root 7266376 Jul 17 01:49 'mydata (1).xlsx'\n",
            "-rw-r--r-- 1 root root 5021766 Jul 17 01:37  mydata2.csv\n",
            "-rw-r--r-- 1 root root 7266376 Jul 17 01:55  mydata3.xlsx\n",
            "-rw-r--r-- 1 root root 4115852 Jul 17 01:02  mydata.csv\n",
            "-rw-r--r-- 1 root root 5715985 Jul 17 01:43  mydata.xlsx\n",
            "drwxr-xr-x 1 root root    4096 Jul  3 16:14  sample_data\n"
          ],
          "name": "stdout"
        }
      ]
    },
    {
      "cell_type": "code",
      "metadata": {
        "id": "7mOww4Bdn0nT",
        "colab_type": "code",
        "outputId": "94b0a947-b68e-4124-9d66-f166c5e7277e",
        "colab": {
          "base_uri": "https://localhost:8080/",
          "height": 197
        }
      },
      "source": [
        "!mv \"'mydata (1).xlsx'\" mydata2.xlsx\n",
        "!ls -al"
      ],
      "execution_count": 0,
      "outputs": [
        {
          "output_type": "stream",
          "text": [
            "mv: cannot stat ''\\''mydata (1).xlsx'\\''': No such file or directory\n",
            "total 21632\n",
            "drwxr-xr-x 1 root root    4096 Jul 17 01:48  .\n",
            "drwxr-xr-x 1 root root    4096 Jul 17 00:45  ..\n",
            "drwxr-xr-x 1 root root    4096 Jul 11 16:05  .config\n",
            "-rw-r--r-- 1 root root 7266376 Jul 17 01:49 'mydata (1).xlsx'\n",
            "-rw-r--r-- 1 root root 5021766 Jul 17 01:37  mydata2.csv\n",
            "-rw-r--r-- 1 root root 4115852 Jul 17 01:02  mydata.csv\n",
            "-rw-r--r-- 1 root root 5715985 Jul 17 01:43  mydata.xlsx\n",
            "drwxr-xr-x 1 root root    4096 Jul  3 16:14  sample_data\n"
          ],
          "name": "stdout"
        }
      ]
    },
    {
      "cell_type": "code",
      "metadata": {
        "id": "JWxq80rPoDja",
        "colab_type": "code",
        "outputId": "e8b81d6d-0ef8-46ad-f61c-f6e5caad44a4",
        "colab": {
          "base_uri": "https://localhost:8080/",
          "height": 203
        }
      },
      "source": [
        "df4 = pd.read_excel(pd.ExcelFile('mydata3.xlsx'))\n",
        "df4.head()"
      ],
      "execution_count": 0,
      "outputs": [
        {
          "output_type": "execute_result",
          "data": {
            "text/html": [
              "<div>\n",
              "<style scoped>\n",
              "    .dataframe tbody tr th:only-of-type {\n",
              "        vertical-align: middle;\n",
              "    }\n",
              "\n",
              "    .dataframe tbody tr th {\n",
              "        vertical-align: top;\n",
              "    }\n",
              "\n",
              "    .dataframe thead th {\n",
              "        text-align: right;\n",
              "    }\n",
              "</style>\n",
              "<table border=\"1\" class=\"dataframe\">\n",
              "  <thead>\n",
              "    <tr style=\"text-align: right;\">\n",
              "      <th></th>\n",
              "      <th>Unnamed: 0</th>\n",
              "      <th>Season</th>\n",
              "      <th>Daynum</th>\n",
              "      <th>Wteam</th>\n",
              "      <th>Wscore</th>\n",
              "      <th>Lteam</th>\n",
              "      <th>Lscore</th>\n",
              "      <th>Wloc</th>\n",
              "      <th>Numot</th>\n",
              "    </tr>\n",
              "  </thead>\n",
              "  <tbody>\n",
              "    <tr>\n",
              "      <th>0</th>\n",
              "      <td>0</td>\n",
              "      <td>91985</td>\n",
              "      <td>20</td>\n",
              "      <td>1228</td>\n",
              "      <td>81</td>\n",
              "      <td>1328</td>\n",
              "      <td>64</td>\n",
              "      <td>N</td>\n",
              "      <td>0</td>\n",
              "    </tr>\n",
              "    <tr>\n",
              "      <th>1</th>\n",
              "      <td>1</td>\n",
              "      <td>1985</td>\n",
              "      <td>25</td>\n",
              "      <td>1106</td>\n",
              "      <td>77</td>\n",
              "      <td>1354</td>\n",
              "      <td>70</td>\n",
              "      <td>H</td>\n",
              "      <td>0</td>\n",
              "    </tr>\n",
              "    <tr>\n",
              "      <th>2</th>\n",
              "      <td>2</td>\n",
              "      <td>1985</td>\n",
              "      <td>25</td>\n",
              "      <td>1112</td>\n",
              "      <td>63</td>\n",
              "      <td>1223</td>\n",
              "      <td>56</td>\n",
              "      <td>H</td>\n",
              "      <td>0</td>\n",
              "    </tr>\n",
              "    <tr>\n",
              "      <th>3</th>\n",
              "      <td>3</td>\n",
              "      <td>1985</td>\n",
              "      <td>25</td>\n",
              "      <td>1165</td>\n",
              "      <td>70</td>\n",
              "      <td>1432</td>\n",
              "      <td>54</td>\n",
              "      <td>H</td>\n",
              "      <td>0</td>\n",
              "    </tr>\n",
              "    <tr>\n",
              "      <th>4</th>\n",
              "      <td>4</td>\n",
              "      <td>1985</td>\n",
              "      <td>25</td>\n",
              "      <td>1192</td>\n",
              "      <td>86</td>\n",
              "      <td>1447</td>\n",
              "      <td>74</td>\n",
              "      <td>H</td>\n",
              "      <td>0</td>\n",
              "    </tr>\n",
              "  </tbody>\n",
              "</table>\n",
              "</div>"
            ],
            "text/plain": [
              "   Unnamed: 0  Season  Daynum  Wteam  Wscore  Lteam  Lscore Wloc  Numot\n",
              "0           0   91985      20   1228      81   1328      64    N      0\n",
              "1           1    1985      25   1106      77   1354      70    H      0\n",
              "2           2    1985      25   1112      63   1223      56    H      0\n",
              "3           3    1985      25   1165      70   1432      54    H      0\n",
              "4           4    1985      25   1192      86   1447      74    H      0"
            ]
          },
          "metadata": {
            "tags": []
          },
          "execution_count": 72
        }
      ]
    },
    {
      "cell_type": "code",
      "metadata": {
        "id": "AE3Q2WXJpT3m",
        "colab_type": "code",
        "outputId": "3caec7fd-412e-44cb-8528-312d12de6a49",
        "colab": {
          "base_uri": "https://localhost:8080/",
          "height": 287
        }
      },
      "source": [
        "wteam2 = df['Wteam'][:100]\n",
        "wteam2.plot()\n"
      ],
      "execution_count": 0,
      "outputs": [
        {
          "output_type": "execute_result",
          "data": {
            "text/plain": [
              "<matplotlib.axes._subplots.AxesSubplot at 0x7ff7f3af8240>"
            ]
          },
          "metadata": {
            "tags": []
          },
          "execution_count": 45
        },
        {
          "output_type": "display_data",
          "data": {
            "image/png": "[encoded data removed]",
            "text/plain": [
              "<Figure size 432x288 with 1 Axes>"
            ]
          },
          "metadata": {
            "tags": []
          }
        }
      ]
    },
    {
      "cell_type": "code",
      "metadata": {
        "id": "-QFGEFAfvXe6",
        "colab_type": "code",
        "outputId": "b8c8c3a1-29f1-452c-a219-105066dc9ff0",
        "colab": {
          "base_uri": "https://localhost:8080/",
          "height": 287
        }
      },
      "source": [
        "df.plot()"
      ],
      "execution_count": 0,
      "outputs": [
        {
          "output_type": "execute_result",
          "data": {
            "text/plain": [
              "<matplotlib.axes._subplots.AxesSubplot at 0x7ff7f3ac2fd0>"
            ]
          },
          "metadata": {
            "tags": []
          },
          "execution_count": 46
        },
        {
          "output_type": "display_data",
          "data": {
            "image/png": "[encoded data removed]",
            "text/plain": [
              "<Figure size 432x288 with 1 Axes>"
            ]
          },
          "metadata": {
            "tags": []
          }
        }
      ]
    },
    {
      "cell_type": "code",
      "metadata": {
        "id": "IJML0K5wuI_D",
        "colab_type": "code",
        "outputId": "79aa1975-43f6-4549-a1b2-e0cbc721dbb3",
        "colab": {
          "base_uri": "https://localhost:8080/",
          "height": 287
        }
      },
      "source": [
        "df[:100].plot()\n"
      ],
      "execution_count": 0,
      "outputs": [
        {
          "output_type": "execute_result",
          "data": {
            "text/plain": [
              "<matplotlib.axes._subplots.AxesSubplot at 0x7ff7f39ba128>"
            ]
          },
          "metadata": {
            "tags": []
          },
          "execution_count": 48
        },
        {
          "output_type": "display_data",
          "data": {
            "image/png": "[encoded data removed]",
            "text/plain": [
              "<Figure size 432x288 with 1 Axes>"
            ]
          },
          "metadata": {
            "tags": []
          }
        }
      ]
    },
    {
      "cell_type": "code",
      "metadata": {
        "id": "vrXjHDlCvmCv",
        "colab_type": "code",
        "outputId": "74226e1b-7029-4c39-c3a3-b5cb8de7c926",
        "colab": {
          "base_uri": "https://localhost:8080/",
          "height": 287
        }
      },
      "source": [
        "df[:100]['Wteam'].plot()"
      ],
      "execution_count": 0,
      "outputs": [
        {
          "output_type": "execute_result",
          "data": {
            "text/plain": [
              "<matplotlib.axes._subplots.AxesSubplot at 0x7ff7f38e65f8>"
            ]
          },
          "metadata": {
            "tags": []
          },
          "execution_count": 50
        },
        {
          "output_type": "display_data",
          "data": {
            "image/png": "[encoded data removed]",
            "text/plain": [
              "<Figure size 432x288 with 1 Axes>"
            ]
          },
          "metadata": {
            "tags": []
          }
        }
      ]
    },
    {
      "cell_type": "code",
      "metadata": {
        "id": "_Im1Xasyv6Rk",
        "colab_type": "code",
        "colab": {}
      },
      "source": [
        ""
      ],
      "execution_count": 0,
      "outputs": []
    }
  ]
}