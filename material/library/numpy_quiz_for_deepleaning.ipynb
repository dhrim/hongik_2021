{
  "nbformat": 4,
  "nbformat_minor": 0,
  "metadata": {
    "colab": {
      "name": "numpy_quiz_for_deepleaning.ipynb",
      "provenance": [],
      "collapsed_sections": []
    },
    "kernelspec": {
      "name": "python3",
      "display_name": "Python 3"
    }
  },
  "cells": [
    {
      "cell_type": "markdown",
      "metadata": {
        "id": "f6jBj42254qW"
      },
      "source": [
        "# Quiz.\n",
        "```\n",
        "[ 0 1 2 0 1 2 0 1 2] 배열을\n",
        "\n",
        "[ 1 0 0 ]\n",
        "[ 0 1 0 ]\n",
        "[ 0 0 1 ]\n",
        "[ 1 0 0 ]\n",
        "[ 0 1 0 ]\n",
        "[ 0 0 1 ]\n",
        "[ 1 0 0 ]\n",
        "[ 0 1 0 ]\n",
        "[ 0 0 1 ]\n",
        "배열로 변환\n",
        "```\n"
      ]
    },
    {
      "cell_type": "code",
      "metadata": {
        "id": "ORYclVVbxTkW",
        "colab": {
          "base_uri": "https://localhost:8080/",
          "height": 168
        },
        "outputId": "867586b2-a7e7-4bd5-8d61-a024772b2f6f"
      },
      "source": [
        "import numpy as np\n",
        "\n",
        "a = np.array([0,1,2,0,1,2,0,1,2])\n",
        "b = np.zeros((a.shape[0],3))\n",
        "\n",
        "# b[:,0] = (a==0)*1.0\n",
        "# b[:,1] = (a==1)*1.0\n",
        "# b[:,2] = (a==2)*1.0\n",
        "for i in range(3):\n",
        "  b[:,i] = (a==i)*1.0\n",
        "  \n",
        "print(b)"
      ],
      "execution_count": null,
      "outputs": [
        {
          "output_type": "stream",
          "text": [
            "[[1. 0. 0.]\n",
            " [0. 1. 0.]\n",
            " [0. 0. 1.]\n",
            " [1. 0. 0.]\n",
            " [0. 1. 0.]\n",
            " [0. 0. 1.]\n",
            " [1. 0. 0.]\n",
            " [0. 1. 0.]\n",
            " [0. 0. 1.]]\n"
          ],
          "name": "stdout"
        }
      ]
    },
    {
      "cell_type": "code",
      "metadata": {
        "id": "S2Q2I4u96gqc",
        "colab": {
          "base_uri": "https://localhost:8080/",
          "height": 168
        },
        "outputId": "ec59a8bc-91c1-45f3-cf5c-8061f41f2cde"
      },
      "source": [
        "import tensorflow.keras.utils\n",
        "\n",
        "a = np.array([0,1,2,0,1,2,0,1,2])\n",
        "b = tensorflow.keras.utils.to_categorical(a)\n",
        "\n",
        "print(b)"
      ],
      "execution_count": null,
      "outputs": [
        {
          "output_type": "stream",
          "text": [
            "[[1. 0. 0.]\n",
            " [0. 1. 0.]\n",
            " [0. 0. 1.]\n",
            " [1. 0. 0.]\n",
            " [0. 1. 0.]\n",
            " [0. 0. 1.]\n",
            " [1. 0. 0.]\n",
            " [0. 1. 0.]\n",
            " [0. 0. 1.]]\n"
          ],
          "name": "stdout"
        }
      ]
    },
    {
      "cell_type": "code",
      "metadata": {
        "id": "lqmnYSId1A_D",
        "outputId": "2d258173-73da-437f-d7e2-f06a3829a790",
        "colab": {
          "base_uri": "https://localhost:8080/"
        }
      },
      "source": [
        "a = np.array([0,1,2,0,1,2,0,1,2])\n",
        "\n",
        "categories = np.unique(a)\n",
        "print(categories)\n",
        "\n",
        "eye = np.eye(len(categories))\n",
        "b = eye[a]\n",
        "\n",
        "print(b)\n"
      ],
      "execution_count": 11,
      "outputs": [
        {
          "output_type": "stream",
          "text": [
            "[0 1 2]\n",
            "[[1. 0. 0.]\n",
            " [0. 1. 0.]\n",
            " [0. 0. 1.]\n",
            " [1. 0. 0.]\n",
            " [0. 1. 0.]\n",
            " [0. 0. 1.]\n",
            " [1. 0. 0.]\n",
            " [0. 1. 0.]\n",
            " [0. 0. 1.]]\n"
          ],
          "name": "stdout"
        }
      ]
    },
    {
      "cell_type": "markdown",
      "metadata": {
        "id": "Aq9Ake0uIdFf"
      },
      "source": [
        "# Quiz\n",
        "\n",
        "# Quiz.\n",
        "```\n",
        "[ 1 0 0 ]\n",
        "[ 0 1 0 ]\n",
        "[ 0 0 1 ]\n",
        "[ 1 0 0 ]\n",
        "[ 0 1 0 ]\n",
        "[ 0 0 1 ]\n",
        "[ 1 0 0 ]\n",
        "[ 0 1 0 ]\n",
        "[ 0 0 1 ]\n",
        "[ 0 0 0 ]\n",
        "배열을\n",
        "\n",
        "[ 0 1 2 0 1 2 0 1 2] \n",
        "배열로 변환\n",
        "```\n"
      ]
    },
    {
      "cell_type": "code",
      "metadata": {
        "id": "mk_kOrh4Ismd",
        "colab": {
          "base_uri": "https://localhost:8080/",
          "height": 34
        },
        "outputId": "b5681270-94b4-4bd7-885b-5390734d9f83"
      },
      "source": [
        "import numpy as np\n",
        "\n",
        "a = np.array([\n",
        "    [1,0,0],\n",
        "    [0,1,0],\n",
        "    [0,0,1],\n",
        "    [1,0,0],\n",
        "    [0,1,0],\n",
        "    [0,0,1],\n",
        "    [1,0,0],\n",
        "    [0,1,0],\n",
        "    [0,0,1]    \n",
        "])\n",
        "\n",
        "b = np.argmax(a, axis=1)\n",
        "\n",
        "print(b)"
      ],
      "execution_count": null,
      "outputs": [
        {
          "output_type": "stream",
          "text": [
            "[0 1 2 0 1 2 0 1 2]\n"
          ],
          "name": "stdout"
        }
      ]
    },
    {
      "cell_type": "markdown",
      "metadata": {
        "id": "I99BgXOd6FGU"
      },
      "source": [
        "# Quiz. \n",
        "\n",
        "임의의 데이터를 6:4로 나눈다.\n",
        "\n",
        "[1 2 3 4 ... 9 0]을\n",
        "[ 1 2 .. 6], [ 7 8 .. 0]으로 나눈다.\n"
      ]
    },
    {
      "cell_type": "code",
      "metadata": {
        "id": "4Xl9YJrqxdqL",
        "colab": {
          "base_uri": "https://localhost:8080/",
          "height": 50
        },
        "outputId": "03459560-14d0-42b3-f542-b78cbb2be903"
      },
      "source": [
        "a = np.array([1,2,3,4,5,6,7,8,9,0])\n",
        "\n",
        "split_index = int(a.shape[0]*0.6)\n",
        "\n",
        "b1 = a[0:split_index]\n",
        "b2 = a[split_index:]\n",
        "\n",
        "print(b1)\n",
        "print(b2)"
      ],
      "execution_count": null,
      "outputs": [
        {
          "output_type": "stream",
          "text": [
            "[1 2 3 4 5 6]\n",
            "[7 8 9 0]\n"
          ],
          "name": "stdout"
        }
      ]
    },
    {
      "cell_type": "markdown",
      "metadata": {
        "id": "7vA35nRD6MN3"
      },
      "source": [
        "# Quiz. \n",
        "\n",
        "임의의 데이터를 6:4로 나눈다.\n",
        "```\n",
        "[ 1 0 0 ]\n",
        "[ 2 0 0 ]\n",
        "...\n",
        "[ 0 0 0 ]를\n",
        "\n",
        "[ 1 0 0 ]\n",
        "...\n",
        "[ 6 0 0 ]와\n",
        "\n",
        "[ 7 0 0 ]\n",
        "...\n",
        "[ 0 0 0 ]\n",
        "```"
      ]
    },
    {
      "cell_type": "code",
      "metadata": {
        "id": "eOlldWIkxjJY",
        "colab": {
          "base_uri": "https://localhost:8080/",
          "height": 185
        },
        "outputId": "30489708-f2c3-404d-a404-cc45f540d47d"
      },
      "source": [
        "a = np.zeros((10,3))\n",
        "a[:,0] = [1,2,3,4,5,6,7,8,9,0]\n",
        "\n",
        "\n",
        "split_index = int(a.shape[0]*0.6)\n",
        "\n",
        "b1 = a[0:split_index]\n",
        "b2 = a[split_index:]\n",
        "\n",
        "print(b1)\n",
        "print(b2)\n"
      ],
      "execution_count": null,
      "outputs": [
        {
          "output_type": "stream",
          "text": [
            "[[1. 0. 0.]\n",
            " [2. 0. 0.]\n",
            " [3. 0. 0.]\n",
            " [4. 0. 0.]\n",
            " [5. 0. 0.]\n",
            " [6. 0. 0.]]\n",
            "[[7. 0. 0.]\n",
            " [8. 0. 0.]\n",
            " [9. 0. 0.]\n",
            " [0. 0. 0.]]\n"
          ],
          "name": "stdout"
        }
      ]
    },
    {
      "cell_type": "markdown",
      "metadata": {
        "id": "GD7_KvemJcOl"
      },
      "source": [
        "# Quiz\n",
        "\n",
        "```\n",
        "a = [0,1,2,3,4,5]\n",
        "b = [0,2,4,6,8,10]\n",
        "```\n",
        "\n",
        "a와 b를 동시에 섞는다.\n",
        "```\n",
        "[3 5  1  0 4 2]\n",
        "[6 10 2 0 8 4]\n",
        "```\n"
      ]
    },
    {
      "cell_type": "code",
      "metadata": {
        "id": "d6f7vWWbJgYW",
        "colab": {
          "base_uri": "https://localhost:8080/",
          "height": 50
        },
        "outputId": "d76a2aa4-e466-4425-b359-cf69122dcc37"
      },
      "source": [
        "a = np.arange(10)\n",
        "b = np.arange(10)*2\n",
        "\n",
        "i = np.arange(10)\n",
        "np.random.shuffle(i)\n",
        "\n",
        "a = a[i]\n",
        "b = b[i]\n",
        "print(a)\n",
        "print(b)"
      ],
      "execution_count": null,
      "outputs": [
        {
          "output_type": "stream",
          "text": [
            "[1 6 2 9 4 7 3 5 8 0]\n",
            "[ 2 12  4 18  8 14  6 10 16  0]\n"
          ],
          "name": "stdout"
        }
      ]
    },
    {
      "cell_type": "markdown",
      "metadata": {
        "id": "VVR0csJHMvG4"
      },
      "source": [
        "# Quiz\n",
        "\n",
        "다음과 클래스 이름 어레이로 클래스 인덱스 어레이 생성\n",
        "```\n",
        "[\"cat\", \"cat\", \"dog\", \"cat\", \"horse\", \"horse\", \"dog\", \"cat\"]\n",
        "\n",
        "cat : 0\n",
        "dog : 1\n",
        "horse : 2\n",
        "\n",
        "[0 0 1 0 2 2 1 0]\n",
        "```"
      ]
    },
    {
      "cell_type": "code",
      "metadata": {
        "id": "xvEbQjWMJjs-",
        "colab": {
          "base_uri": "https://localhost:8080/",
          "height": 50
        },
        "outputId": "e75e1bb3-425b-4db0-bae8-e2ecdd9a38d1"
      },
      "source": [
        "import numpy as np\n",
        "\n",
        "category_names = np.array(\n",
        "    [\"cat\", \"cat\", \"dog\", \"cat\", \"horse\", \"horse\", \"dog\", \"cat\"]\n",
        ")\n",
        "\n",
        "labels, indexes = np.unique(category_names, return_inverse=True)  \n",
        "print(labels)\n",
        "print(indexes)"
      ],
      "execution_count": null,
      "outputs": [
        {
          "output_type": "stream",
          "text": [
            "['cat' 'dog' 'horse']\n",
            "[0 0 1 0 2 2 1 0]\n"
          ],
          "name": "stdout"
        }
      ]
    }
  ]
}