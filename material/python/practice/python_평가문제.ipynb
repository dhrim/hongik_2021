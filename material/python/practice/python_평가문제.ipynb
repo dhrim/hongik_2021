{
  "nbformat": 4,
  "nbformat_minor": 0,
  "metadata": {
    "colab": {
      "name": "python_평가문제.ipynb",
      "provenance": []
    },
    "kernelspec": {
      "name": "python3",
      "display_name": "Python 3"
    },
    "language_info": {
      "name": "python"
    }
  },
  "cells": [
    {
      "cell_type": "markdown",
      "metadata": {
        "id": "rLG2cS-u5uqc"
      },
      "source": [
        "# Python 과정 평가문제"
      ]
    },
    {
      "cell_type": "markdown",
      "metadata": {
        "id": "DNBbUj21FqJM"
      },
      "source": [
        "# 제출자 이름 : XXXX\n",
        "\n",
        "위 XXXX를 제출자 이름으로 변경해 주세요.\n",
        "\n",
        "<br>\n",
        "\n",
        "문제에 대한 풀이 코드를 작성하고 실행된 결과를 포함된 ipynb파일을 메일로 제출해 주세요.\n",
        "\n",
        "dh-rim@hanmail.net으로 다음 제목으로 보내주세요.\n",
        "```\n",
        "python 과정 평가 - 제출자이름\n",
        "```\n"
      ]
    },
    {
      "cell_type": "code",
      "metadata": {
        "id": "6A8VwJUZFx8I"
      },
      "source": [
        ""
      ],
      "execution_count": null,
      "outputs": []
    },
    {
      "cell_type": "code",
      "metadata": {
        "id": "rkpK5zfNFx4C"
      },
      "source": [
        ""
      ],
      "execution_count": null,
      "outputs": []
    },
    {
      "cell_type": "code",
      "metadata": {
        "id": "YXwlXiXmFxzR"
      },
      "source": [
        ""
      ],
      "execution_count": null,
      "outputs": []
    },
    {
      "cell_type": "markdown",
      "metadata": {
        "id": "lvkWqdnd5yAb"
      },
      "source": [
        "# Quiz.1\n",
        "사용자 입력을 자연수로 받아 그 숫자 만큼의 줄수로 다음과 같은 삼각형을 출력.\n",
        "print()문을 1개만 사용한다.\n",
        "\n",
        "```\n",
        "줄수 : 5\n",
        "1\n",
        "21\n",
        "321\n",
        "4321\n",
        "54321\n",
        "```"
      ]
    },
    {
      "cell_type": "code",
      "metadata": {
        "id": "xRgr_05NF9n6"
      },
      "source": [
        ""
      ],
      "execution_count": null,
      "outputs": []
    },
    {
      "cell_type": "code",
      "metadata": {
        "id": "0_vGClvIF9eW"
      },
      "source": [
        ""
      ],
      "execution_count": null,
      "outputs": []
    },
    {
      "cell_type": "code",
      "metadata": {
        "id": "00z30EjQ5n20"
      },
      "source": [
        ""
      ],
      "execution_count": null,
      "outputs": []
    },
    {
      "cell_type": "markdown",
      "metadata": {
        "id": "QUrmSh0B7Xc8"
      },
      "source": [
        "# Quiz.2\n",
        "다음과 같은 사용자 입력을 받아 계산하고 그 결과를 출력.\n",
        "\n",
        "```\n",
        "사용자 입력 : 1+2\n",
        "```\n",
        "출력\n",
        "```\n",
        "1+2=3\n",
        "```\n",
        "\n",
        "사용자 입력은 숫자와 '+' 혹은 '-' 그리고 숫자로 구성된다.\n",
        "\n",
        "숫자의 길이는 5글자를 넘지 않는다. \n",
        "\n",
        "사용자 입력에 숫자와 '.', '+', '-'를 제외한 다른 문자는 포함되지 않는다.\n",
        "\n",
        "다음은 입력 가능한 예 들이다.\n",
        "\n",
        "```\n",
        "1+2\n",
        "123+1.23\n",
        "3.21-2.34\n",
        "12345+1.234\n",
        "```\n",
        "\n",
        "\n"
      ]
    },
    {
      "cell_type": "code",
      "metadata": {
        "id": "vuGMEmL4F-z1"
      },
      "source": [
        ""
      ],
      "execution_count": null,
      "outputs": []
    },
    {
      "cell_type": "code",
      "metadata": {
        "id": "PMU1irMCF-sQ"
      },
      "source": [
        ""
      ],
      "execution_count": null,
      "outputs": []
    },
    {
      "cell_type": "code",
      "metadata": {
        "id": "ys2zL-s27Z5i"
      },
      "source": [
        ""
      ],
      "execution_count": null,
      "outputs": []
    },
    {
      "cell_type": "markdown",
      "metadata": {
        "id": "1VaU9tRF811V"
      },
      "source": [
        "# Quiz.3\n",
        "\n",
        "raw_data는 다음과 같다.\n",
        "\n",
        "```\n",
        "0,170,강서구,23,B\n",
        "1,165,서초구,22,A\n",
        "2,177,,25,O\n",
        "3,172,강서구,,B\n",
        "4,166,마포구,26,AB\n",
        "```\n",
        "\n",
        "데이터가 5개 있고, 각 컬럼은 데이터 인덱스, 키, 거주지, 나이, 혈액형 이다.\n",
        "\n",
        "나이의 경우 값이 없는 경우도 있다.\n",
        "\n",
        "위의 데이터에 대한 키의 평균과 나이의 평균을 출력한다.\n",
        "\n",
        "```\n",
        "나이 평균 = xxx.xxx\n",
        "키 평균 = xxx.xxx\n",
        "```\n",
        "키의 값이 없는 경우 평균 계산에서 제외한다.\n",
        "\n",
        "<br>\n",
        "\n",
        "그리고 사는 거주지 전체의 리스트를 출력한다.\n",
        "\n",
        "위 데이터의 경우 다음과 같다. 리스트 값들의 순서는 무시한다. 값이 없는 경우는 무시한다.\n",
        "```\n",
        "[ '서초구', '마포구', '강서구' ]\n",
        "```\n",
        "\n"
      ]
    },
    {
      "cell_type": "code",
      "metadata": {
        "id": "BGm7CM877bAQ"
      },
      "source": [
        "raw_data=\"\"\"0,170,강서구,23,B\n",
        "1,165,서초구,22,A\n",
        "2,177,,25,O\n",
        "3,172,강서구,,B\n",
        "4,166,마포구,26,AB\"\"\""
      ],
      "execution_count": null,
      "outputs": []
    },
    {
      "cell_type": "code",
      "metadata": {
        "id": "4reKkwrnGAZD"
      },
      "source": [
        ""
      ],
      "execution_count": null,
      "outputs": []
    },
    {
      "cell_type": "code",
      "metadata": {
        "id": "okwV_RMCGAQd"
      },
      "source": [
        ""
      ],
      "execution_count": null,
      "outputs": []
    },
    {
      "cell_type": "markdown",
      "metadata": {
        "id": "pY-eaE0dBGg-"
      },
      "source": [
        "# Quiz.4\n",
        "\n",
        "이름과 나이가 dict에 담겨 있다.\n",
        "```\n",
        "d = { \"tom\":32, \"jerry\":25, \"철수\":26, \"영희\":27 }\n",
        "```\n",
        "나이 가 적은 순으로다음을 출력한다.\n",
        "```\n",
        "25살 jerry\n",
        "26살 철수\n",
        "27살 영희\n",
        "32살 tom\n",
        "```\n",
        "\n",
        "Hint. 주어딘 d는 이름이 키이고 나이가 값이다. 나이가 키이고 이름이 값인 dict을 만들어서 이를 가지고 어떻게 할지 고민해 보자.\n"
      ]
    },
    {
      "cell_type": "code",
      "metadata": {
        "id": "RYyryuN37a3O"
      },
      "source": [
        ""
      ],
      "execution_count": null,
      "outputs": []
    },
    {
      "cell_type": "code",
      "metadata": {
        "id": "DYZnwXWyGBX1"
      },
      "source": [
        ""
      ],
      "execution_count": null,
      "outputs": []
    },
    {
      "cell_type": "code",
      "metadata": {
        "id": "YF00h4BOGBSl"
      },
      "source": [
        ""
      ],
      "execution_count": null,
      "outputs": []
    },
    {
      "cell_type": "markdown",
      "metadata": {
        "id": "X-9PRumpCeqo"
      },
      "source": [
        "# Quiz.5\n",
        "\n",
        "다음의 코드를 정리해서\n",
        "```\n",
        "print(\"length=5, symbol=* : *****\")\n",
        "print(\"length=3, symbol=+ : +++\")\n",
        "print(\"length=6, symbol=$ : $$$$$$\")\n",
        "print(\"length=2, symbol=# : ##\")\n",
        "```\n",
        "다음의 코드로 정리하고 싶다.\n",
        "```\n",
        "# symbol과 length를 받아서 length길이의 symbol로 구성된 문자열을 반환한다.\n",
        "# build_symbol_of_length(\"*\", 3)으로 호출하면 \"***\" 반환\n",
        "# build_symbol_of_length(\"$\", 7)으로 호출하면 \"$$$$$$$\" 반환\n",
        "# build_symbol_of_length(\"!\", 5)으로 호출하면 \"!!!!!\" 반환\n",
        "def build_symbol_of_length(symbol, length):\n",
        "  ...\n",
        "\n",
        "# symbol과 length를 받아서 특정 포멧의 1줄을 출력.\n",
        "# draw_symbol_of_length(\"*\", 3)으로 호출하면 'length=3, symbol=* : ***'을 출력\n",
        "# draw_symbol_of_length(\"$\", 7)으로 호출하면 'length=7, symbol=$ : $$$$$$$'을 출력\n",
        "# draw_symbol_of_length(\"!\", 5)으로 호출하면 'length=5, symbol=! : !!!!!'을 출력\n",
        "def draw_symbol_of_length(symbol, length):\n",
        "  ...\n",
        "\n",
        "symbol_length_dic = { \"*\":5, \"+\":3, \"$\":6, \"#\":2 }\n",
        "\n",
        "for symbol, length in symbol_length_dic.items():\n",
        "  draw_symbol_of_length(symbol, length)\n",
        "```\n",
        "함수 xxx를 채워 넣는다."
      ]
    },
    {
      "cell_type": "code",
      "metadata": {
        "colab": {
          "base_uri": "https://localhost:8080/"
        },
        "id": "5Gsvg-PD7azo",
        "outputId": "849b572f-625b-410b-bf98-0ed68ea89d54"
      },
      "source": [
        "print(\"length=5, symbol=* : *****\")\n",
        "print(\"length=3, symbol=+ : +++\")\n",
        "print(\"length=6, symbol=$ : $$$$$$\")\n",
        "print(\"length=2, symbol=# : ##\")"
      ],
      "execution_count": null,
      "outputs": [
        {
          "output_type": "stream",
          "text": [
            "length=5, symbol=* : *****\n",
            "length=3, symbol=+ : +++\n",
            "length=6, symbol=$ : $$$$$$\n",
            "length=2, symbol=# : ##\n"
          ],
          "name": "stdout"
        }
      ]
    },
    {
      "cell_type": "code",
      "metadata": {
        "id": "CTeUPEi3Dg3P"
      },
      "source": [
        "# symbol과 length를 받아서 length길이의 symbol로 구성된 문자열을 반환한다.\n",
        "# build_symbol_of_length(\"*\", 3)으로 호출하면 \"***\" 반환\n",
        "# build_symbol_of_length(\"$\", 7)으로 호출하면 \"$$$$$$$\" 반환\n",
        "# build_symbol_of_length(\"!\", 5)으로 호출하면 \"!!!!!\" 반환\n",
        "def build_symbol_of_length(symbol, length):\n",
        "  ...\n",
        " \n",
        "# symbol과 length를 받아서 특정 포멧의 1줄을 출력.\n",
        "# draw_symbol_of_length(\"*\", 3)으로 호출하면 'length=3, symbol=* : ***'을 출력\n",
        "# draw_symbol_of_length(\"$\", 7)으로 호출하면 'length=7, symbol=$ : $$$$$$$'을 출력\n",
        "# draw_symbol_of_length(\"!\", 5)으로 호출하면 'length=5, symbol=! : !!!!!'을 출력\n",
        "def draw_symbol_of_length(symbol, length):\n",
        "  ...\n",
        " \n",
        "symbol_length_dic = { \"*\":5, \"+\":3, \"$\":6, \"#\":2 }\n",
        " \n",
        "for symbol, length in symbol_length_dic.items():\n",
        "  draw_symbol_of_length(symbol, length)"
      ],
      "execution_count": null,
      "outputs": []
    },
    {
      "cell_type": "code",
      "metadata": {
        "id": "aJOIw09-uRTd"
      },
      "source": [
        ""
      ],
      "execution_count": null,
      "outputs": []
    },
    {
      "cell_type": "code",
      "metadata": {
        "id": "PGgB4AXIuRPF"
      },
      "source": [
        ""
      ],
      "execution_count": null,
      "outputs": []
    },
    {
      "cell_type": "code",
      "metadata": {
        "id": "jd8QU1beuRKr"
      },
      "source": [
        ""
      ],
      "execution_count": null,
      "outputs": []
    },
    {
      "cell_type": "markdown",
      "metadata": {
        "id": "_ZfEIrYuuT0I"
      },
      "source": [
        "# Quiz. 6\n",
        "\n",
        "다음 코드는 2의배수만 추려서 절대값을 구하고 2배하고 이를 소팅한 코드이다.\n",
        "\n",
        "리스트 표현식을 사용하여 for 구문 없이 같은 출력을 내도록 한다."
      ]
    },
    {
      "cell_type": "code",
      "metadata": {
        "id": "mD5GukHOudt5",
        "colab": {
          "base_uri": "https://localhost:8080/"
        },
        "outputId": "f0375cf6-9277-42ba-9e95-1034270fedf9"
      },
      "source": [
        "l = [4, -2, -3, 6, 4, -8, 9, 10]\n",
        "\n",
        "l2 = []\n",
        "for i in l:\n",
        "  if i%2==0:\n",
        "    l2.append(abs(i)*2)\n",
        "l2.sort()\n",
        "print(l2)\n",
        "    "
      ],
      "execution_count": null,
      "outputs": [
        {
          "output_type": "stream",
          "text": [
            "[4, 8, 8, 12, 16, 20]\n"
          ],
          "name": "stdout"
        }
      ]
    },
    {
      "cell_type": "code",
      "metadata": {
        "id": "hFwS05LLvQKD"
      },
      "source": [
        ""
      ],
      "execution_count": null,
      "outputs": []
    },
    {
      "cell_type": "code",
      "metadata": {
        "id": "NCMND0BivQB9"
      },
      "source": [
        ""
      ],
      "execution_count": null,
      "outputs": []
    },
    {
      "cell_type": "code",
      "metadata": {
        "id": "OIJslExYvP47"
      },
      "source": [
        ""
      ],
      "execution_count": null,
      "outputs": []
    }
  ]
}