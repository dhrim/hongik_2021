{
  "nbformat": 4,
  "nbformat_minor": 0,
  "metadata": {
    "colab": {
      "name": "2021_05_11_실습내용.ipynb",
      "provenance": [],
      "collapsed_sections": []
    },
    "kernelspec": {
      "name": "python3",
      "display_name": "Python 3"
    },
    "language_info": {
      "name": "python"
    }
  },
  "cells": [
    {
      "cell_type": "markdown",
      "metadata": {
        "id": "akw5UEnlucu1"
      },
      "source": [
        "# 딕션너리"
      ]
    },
    {
      "cell_type": "code",
      "metadata": {
        "id": "s1AVPT-6sron"
      },
      "source": [
        "name_and_age = { \"tom\":30, \"jerry\":32, \"철수\":25, \"영희\":27 }"
      ],
      "execution_count": 1,
      "outputs": []
    },
    {
      "cell_type": "code",
      "metadata": {
        "colab": {
          "base_uri": "https://localhost:8080/"
        },
        "id": "guZWC2rDunEx",
        "outputId": "76e4f7c3-cd87-412b-a5ee-4514cd2cea70"
      },
      "source": [
        "print(name_and_age)"
      ],
      "execution_count": 2,
      "outputs": [
        {
          "output_type": "stream",
          "text": [
            "{'tom': 30, 'jerry': 32, '철수': 25, '영희': 27}\n"
          ],
          "name": "stdout"
        }
      ]
    },
    {
      "cell_type": "code",
      "metadata": {
        "colab": {
          "base_uri": "https://localhost:8080/"
        },
        "id": "Z2Fpvj2Du714",
        "outputId": "04b3c39b-650e-42d3-a978-984b53558ba9"
      },
      "source": [
        "print(name_and_age[\"tom\"])\n",
        "print(name_and_age[\"철수\"])"
      ],
      "execution_count": 4,
      "outputs": [
        {
          "output_type": "stream",
          "text": [
            "30\n",
            "25\n"
          ],
          "name": "stdout"
        }
      ]
    },
    {
      "cell_type": "code",
      "metadata": {
        "id": "95pLmzm8u_cp"
      },
      "source": [
        "d = { \n",
        "      \"tom\":30, \n",
        "      \"jerry\":32, \n",
        "      \"철수\":25, \n",
        "      \"영희\":27 \n",
        "     }"
      ],
      "execution_count": 5,
      "outputs": []
    },
    {
      "cell_type": "code",
      "metadata": {
        "colab": {
          "base_uri": "https://localhost:8080/"
        },
        "id": "FsYedkmtwG1T",
        "outputId": "45af244e-ec47-423f-ba59-5d74d6cd4310"
      },
      "source": [
        "d[\"bob\"] = 33\n",
        "print(d)"
      ],
      "execution_count": 8,
      "outputs": [
        {
          "output_type": "stream",
          "text": [
            "{'tom': 30, 'jerry': 32, '철수': 25, '영희': 27, 'bob': 33}\n"
          ],
          "name": "stdout"
        }
      ]
    },
    {
      "cell_type": "code",
      "metadata": {
        "colab": {
          "base_uri": "https://localhost:8080/"
        },
        "id": "OSlnxWVDwLmQ",
        "outputId": "28afe50d-24c5-47a8-efef-4b80b52f78f2"
      },
      "source": [
        "print(d.keys())\n"
      ],
      "execution_count": 9,
      "outputs": [
        {
          "output_type": "stream",
          "text": [
            "dict_keys(['tom', 'jerry', '철수', '영희', 'bob'])\n"
          ],
          "name": "stdout"
        }
      ]
    },
    {
      "cell_type": "code",
      "metadata": {
        "colab": {
          "base_uri": "https://localhost:8080/"
        },
        "id": "6AV0UWmVwKi5",
        "outputId": "81db3b99-a2fe-423e-b4c0-f0ddbc245074"
      },
      "source": [
        "print(d.values())"
      ],
      "execution_count": 10,
      "outputs": [
        {
          "output_type": "stream",
          "text": [
            "dict_values([30, 32, 25, 27, 33])\n"
          ],
          "name": "stdout"
        }
      ]
    },
    {
      "cell_type": "code",
      "metadata": {
        "colab": {
          "base_uri": "https://localhost:8080/"
        },
        "id": "4qIiaXGFwJvA",
        "outputId": "462d8fdc-37db-46d8-b094-cfdb3b9336d9"
      },
      "source": [
        "print(d.items())"
      ],
      "execution_count": 11,
      "outputs": [
        {
          "output_type": "stream",
          "text": [
            "dict_items([('tom', 30), ('jerry', 32), ('철수', 25), ('영희', 27), ('bob', 33)])\n"
          ],
          "name": "stdout"
        }
      ]
    },
    {
      "cell_type": "code",
      "metadata": {
        "colab": {
          "base_uri": "https://localhost:8080/"
        },
        "id": "AR3OQdAnwILT",
        "outputId": "cb7013d5-5de3-489f-9a3f-c6aa064d0ddd"
      },
      "source": [
        "for k in d.keys():\n",
        "  print(k)"
      ],
      "execution_count": 13,
      "outputs": [
        {
          "output_type": "stream",
          "text": [
            "tom\n",
            "jerry\n",
            "철수\n",
            "영희\n",
            "bob\n"
          ],
          "name": "stdout"
        }
      ]
    },
    {
      "cell_type": "code",
      "metadata": {
        "colab": {
          "base_uri": "https://localhost:8080/"
        },
        "id": "5oLRPTwBxyKg",
        "outputId": "0ce1b179-4391-4911-be11-8cda181df0a7"
      },
      "source": [
        "l = []\n",
        "for v in d.values():\n",
        "  print(v)\n",
        "  l.append(v)\n",
        "print(l)"
      ],
      "execution_count": 15,
      "outputs": [
        {
          "output_type": "stream",
          "text": [
            "30\n",
            "32\n",
            "25\n",
            "27\n",
            "33\n",
            "[30, 32, 25, 27, 33]\n"
          ],
          "name": "stdout"
        }
      ]
    },
    {
      "cell_type": "code",
      "metadata": {
        "colab": {
          "base_uri": "https://localhost:8080/"
        },
        "id": "3N48dlw3x5sf",
        "outputId": "0b51f9ed-e6c0-4192-fb64-074edef97677"
      },
      "source": [
        "for k, v in d.items():\n",
        "  print(\"{}의 나이는 {}입니다.\".format(k, v))"
      ],
      "execution_count": 17,
      "outputs": [
        {
          "output_type": "stream",
          "text": [
            "tom의 나이는 30입니다.\n",
            "jerry의 나이는 32입니다.\n",
            "철수의 나이는 25입니다.\n",
            "영희의 나이는 27입니다.\n",
            "bob의 나이는 33입니다.\n"
          ],
          "name": "stdout"
        }
      ]
    },
    {
      "cell_type": "code",
      "metadata": {
        "colab": {
          "base_uri": "https://localhost:8080/"
        },
        "id": "CiRV47FjyQ_l",
        "outputId": "3357589c-e7b4-4038-85e7-e936376b6179"
      },
      "source": [
        "for k in d.keys():\n",
        "  print(\"{}의 나이는 {}입니다.\".format(k, d[k]))"
      ],
      "execution_count": 18,
      "outputs": [
        {
          "output_type": "stream",
          "text": [
            "tom의 나이는 30입니다.\n",
            "jerry의 나이는 32입니다.\n",
            "철수의 나이는 25입니다.\n",
            "영희의 나이는 27입니다.\n",
            "bob의 나이는 33입니다.\n"
          ],
          "name": "stdout"
        }
      ]
    },
    {
      "cell_type": "code",
      "metadata": {
        "colab": {
          "base_uri": "https://localhost:8080/"
        },
        "id": "JgfeL6FCzEfs",
        "outputId": "d2f9738c-23f7-4132-ca97-075088b23d97"
      },
      "source": [
        "d = { \n",
        "      \"tom\":30, \n",
        "      \"jerry\":32, \n",
        "      \"철수\":25, \n",
        "      \"영희\":27 \n",
        "     }\n",
        "\n",
        "names = [\"tom\", \"철수\"]\n",
        "ages = []  # [ 30, 20 ]     \n",
        "\n",
        "# ```\n",
        "# 이름 : tom, 나이 : 30\n",
        "# 이름 : 철수, 나이 : 20\n",
        "# ```\n",
        "\n",
        "for name in names:\n",
        "  age = d[name]\n",
        "  ages.append(age)\n",
        "\n",
        "for i in range(len(names)):\n",
        "  print(\"이름 : {}, 나이 : {}\".format(names[i], ages[i]))"
      ],
      "execution_count": 21,
      "outputs": [
        {
          "output_type": "stream",
          "text": [
            "이름 : tom, 나이 : 30\n",
            "이름 : 철수, 나이 : 25\n"
          ],
          "name": "stdout"
        }
      ]
    },
    {
      "cell_type": "code",
      "metadata": {
        "colab": {
          "base_uri": "https://localhost:8080/",
          "height": 244
        },
        "id": "_O8xEEsxyP8z",
        "outputId": "fc244ce1-bccd-4385-a7e6-01e4185e7d00"
      },
      "source": [
        "d = { \n",
        "      \"tom\":30, \n",
        "      \"jerry\":32, \n",
        "      \"철수\":25, \n",
        "      \"영희\":27 \n",
        "     }\n",
        "\n",
        "names = [\"Tom\", \"철수\"]\n",
        "ages = []  # [ 30, 20 ]     \n",
        "\n",
        "# ```\n",
        "# 이름 : Tom, 나이 : 30\n",
        "# 이름 : 철수, 나이 : 20\n",
        "# ```\n",
        "\n",
        "for name in names:\n",
        "  age = d[name.lower()]\n",
        "  ages.append(age)\n",
        "\n",
        "for i in range(len(names)):\n",
        "  print(\"이름 : {}, 나이 : {}\".format(names[i], ages[i]))"
      ],
      "execution_count": 23,
      "outputs": [
        {
          "output_type": "error",
          "ename": "KeyError",
          "evalue": "ignored",
          "traceback": [
            "\u001b[0;31m---------------------------------------------------------------------------\u001b[0m",
            "\u001b[0;31mKeyError\u001b[0m                                  Traceback (most recent call last)",
            "\u001b[0;32m<ipython-input-23-9d264616b623>\u001b[0m in \u001b[0;36m<module>\u001b[0;34m()\u001b[0m\n\u001b[1;32m     15\u001b[0m \u001b[0;34m\u001b[0m\u001b[0m\n\u001b[1;32m     16\u001b[0m \u001b[0;32mfor\u001b[0m \u001b[0mname\u001b[0m \u001b[0;32min\u001b[0m \u001b[0mnames\u001b[0m\u001b[0;34m:\u001b[0m\u001b[0;34m\u001b[0m\u001b[0;34m\u001b[0m\u001b[0m\n\u001b[0;32m---> 17\u001b[0;31m   \u001b[0mage\u001b[0m \u001b[0;34m=\u001b[0m \u001b[0md\u001b[0m\u001b[0;34m[\u001b[0m\u001b[0mname\u001b[0m\u001b[0;34m.\u001b[0m\u001b[0mlower\u001b[0m\u001b[0;34m(\u001b[0m\u001b[0;34m)\u001b[0m\u001b[0;34m]\u001b[0m\u001b[0;34m\u001b[0m\u001b[0;34m\u001b[0m\u001b[0m\n\u001b[0m\u001b[1;32m     18\u001b[0m   \u001b[0mages\u001b[0m\u001b[0;34m.\u001b[0m\u001b[0mappend\u001b[0m\u001b[0;34m(\u001b[0m\u001b[0mage\u001b[0m\u001b[0;34m)\u001b[0m\u001b[0;34m\u001b[0m\u001b[0;34m\u001b[0m\u001b[0m\n\u001b[1;32m     19\u001b[0m \u001b[0;34m\u001b[0m\u001b[0m\n",
            "\u001b[0;31mKeyError\u001b[0m: 'tom'"
          ]
        }
      ]
    },
    {
      "cell_type": "code",
      "metadata": {
        "colab": {
          "base_uri": "https://localhost:8080/"
        },
        "id": "cmumyj5qx0vz",
        "outputId": "ad3135d9-4462-4237-f9f5-86909256194f"
      },
      "source": [
        "d = { \n",
        "      \" Tom\":30, \n",
        "      \"JERRY\":32, \n",
        "      \"철수 \":25, \n",
        "      \"영희\":27 \n",
        "     }\n",
        "\n",
        "clean_d = {}\n",
        "\n",
        "for name, age in d.items():\n",
        "  cleaned_name = name.strip().lower()\n",
        "  clean_d[cleaned_name] = age\n",
        "\n",
        "names = [\"tom\", \"철수\"]\n",
        "\n",
        "for name in names:\n",
        "  age = clean_d[name]\n",
        "  ages.append(age)\n",
        "\n",
        "for i in range(len(names)):\n",
        "  print(\"이름 : {}, 나이 : {}\".format(names[i], ages[i]))"
      ],
      "execution_count": 24,
      "outputs": [
        {
          "output_type": "stream",
          "text": [
            "이름 : tom, 나이 : 30\n",
            "이름 : 철수, 나이 : 25\n"
          ],
          "name": "stdout"
        }
      ]
    },
    {
      "cell_type": "code",
      "metadata": {
        "colab": {
          "base_uri": "https://localhost:8080/"
        },
        "id": "X8Mt4WtK87Yh",
        "outputId": "6cfa3485-e299-42fa-b8ca-44a1c805a4fd"
      },
      "source": [
        "d = { \n",
        "      \" Tom\":30, \n",
        "      \"JERRY\":32, \n",
        "      \"철수 \":25, \n",
        "      \"영희\":27 \n",
        "     }\n",
        "\n",
        "for name, age in d.items():\n",
        "  cleaned_name = name.strip()\n",
        "  print(\"'\"+name+\"'\", \"'\"+cleaned_name+\"'\")\n"
      ],
      "execution_count": 26,
      "outputs": [
        {
          "output_type": "stream",
          "text": [
            "' Tom' 'Tom'\n",
            "'JERRY' 'JERRY'\n",
            "'철수 ' '철수'\n",
            "'영희' '영희'\n"
          ],
          "name": "stdout"
        }
      ]
    },
    {
      "cell_type": "code",
      "metadata": {
        "colab": {
          "base_uri": "https://localhost:8080/"
        },
        "id": "v1wZXeRI9Mvf",
        "outputId": "0f572a92-15c3-4cc9-9734-fa67e79067d1"
      },
      "source": [
        "'_tom' == 'tom'"
      ],
      "execution_count": 28,
      "outputs": [
        {
          "output_type": "execute_result",
          "data": {
            "text/plain": [
              "False"
            ]
          },
          "metadata": {
            "tags": []
          },
          "execution_count": 28
        }
      ]
    },
    {
      "cell_type": "markdown",
      "metadata": {
        "id": "cb2rfHh09gn3"
      },
      "source": [
        "```\n",
        "푸른 하늘\n",
        "좋은_날씨\n",
        "맑은+하늘\n",
        "\n",
        "푸른 하늘\n",
        "좋은 날씨\n",
        "맑은 하늘\n",
        "\n",
        "좋은 날씨\n",
        "``\n"
      ]
    },
    {
      "cell_type": "code",
      "metadata": {
        "colab": {
          "base_uri": "https://localhost:8080/"
        },
        "id": "LOwQyaud-ZQ0",
        "outputId": "1b833b15-4dce-4f42-be68-fb7de984a63f"
      },
      "source": [
        "d = { \n",
        "      \"tom\":30, \n",
        "      \"jerry\":32, \n",
        "      \"철수\":25, \n",
        "      \"영희\":27 \n",
        "     }\n",
        "\n",
        " # [ \"tom\", \"jerry\" ]    \n",
        "\n",
        "l = []\n",
        "for k, v in d.items():\n",
        "  if v>=30:\n",
        "    l.append(k)\n",
        "\n",
        "print(l)"
      ],
      "execution_count": 30,
      "outputs": [
        {
          "output_type": "stream",
          "text": [
            "['tom', 'jerry']\n"
          ],
          "name": "stdout"
        }
      ]
    },
    {
      "cell_type": "markdown",
      "metadata": {
        "id": "2lo8kbN5_3zo"
      },
      "source": [
        "# Set"
      ]
    },
    {
      "cell_type": "code",
      "metadata": {
        "colab": {
          "base_uri": "https://localhost:8080/"
        },
        "id": "rBoJIQ4C_V-a",
        "outputId": "6577257e-a901-4b23-db96-5fb111624680"
      },
      "source": [
        "s = { 1, 2, 3  }\n",
        "print(s)\n",
        "print(len(s))\n",
        "\n",
        "s = { 1, 2, 3, 1, 2, 3 }\n",
        "print(s)\n",
        "print(len(s))"
      ],
      "execution_count": 33,
      "outputs": [
        {
          "output_type": "stream",
          "text": [
            "{1, 2, 3}\n",
            "3\n",
            "{1, 2, 3}\n",
            "3\n"
          ],
          "name": "stdout"
        }
      ]
    },
    {
      "cell_type": "code",
      "metadata": {
        "colab": {
          "base_uri": "https://localhost:8080/"
        },
        "id": "Y32QewLIAYW1",
        "outputId": "ae811402-4304-4dc0-e795-d7813a76d7dc"
      },
      "source": [
        "l = [ 1, 2, 3  ]\n",
        "print(l)\n",
        "print(len(l))\n",
        "\n",
        "l = [ 1, 2, 3, 1, 2, 3 ]\n",
        "print(l)\n",
        "print(len(l))"
      ],
      "execution_count": 35,
      "outputs": [
        {
          "output_type": "stream",
          "text": [
            "[1, 2, 3]\n",
            "3\n",
            "[1, 2, 3, 1, 2, 3]\n",
            "6\n"
          ],
          "name": "stdout"
        }
      ]
    },
    {
      "cell_type": "code",
      "metadata": {
        "colab": {
          "base_uri": "https://localhost:8080/"
        },
        "id": "_kyIv5sYA1eO",
        "outputId": "e7406fb8-c963-4c0b-ace6-360d0aff56c3"
      },
      "source": [
        "l = [ 1, 2, 3, 1, 2, 3 ]\n",
        "l2 = []\n",
        "\n",
        "def contains(l, target):\n",
        "  for i in range(len(l)):\n",
        "    if l[i]==target: return True\n",
        "  return False\n",
        "\n",
        "for i in range(len(l)):\n",
        "  if contains(l2, l[i]): continue\n",
        "  l2.append(l[i])\n",
        "\n",
        "print(l2)"
      ],
      "execution_count": 39,
      "outputs": [
        {
          "output_type": "stream",
          "text": [
            "[1, 2, 3]\n"
          ],
          "name": "stdout"
        }
      ]
    },
    {
      "cell_type": "code",
      "metadata": {
        "colab": {
          "base_uri": "https://localhost:8080/"
        },
        "id": "HilpU34YCJcI",
        "outputId": "38b40fe9-d77b-4ad6-ffa9-45a36aeb584d"
      },
      "source": [
        "s = { 1, 2, 3 }\n",
        "\n",
        "s.add(1)\n",
        "print(s)\n",
        "\n",
        "s.add(2)\n",
        "print(s)\n",
        "\n",
        "s.add(4)\n",
        "print(s)\n",
        "\n",
        "s.add(5)\n",
        "print(s)"
      ],
      "execution_count": 41,
      "outputs": [
        {
          "output_type": "stream",
          "text": [
            "{1, 2, 3}\n",
            "{1, 2, 3}\n",
            "{1, 2, 3, 4}\n",
            "{1, 2, 3, 4, 5}\n"
          ],
          "name": "stdout"
        }
      ]
    },
    {
      "cell_type": "code",
      "metadata": {
        "colab": {
          "base_uri": "https://localhost:8080/"
        },
        "id": "yLSkCwanDx8o",
        "outputId": "39c615b6-df64-4fe9-b0d2-cdec00cb9705"
      },
      "source": [
        "s = { 1, 2, 3 }\n",
        "\n",
        "s.discard(1)\n",
        "print(s)\n",
        "\n",
        "s.discard(2)\n",
        "print(s)"
      ],
      "execution_count": 42,
      "outputs": [
        {
          "output_type": "stream",
          "text": [
            "{2, 3}\n",
            "{3}\n"
          ],
          "name": "stdout"
        }
      ]
    },
    {
      "cell_type": "code",
      "metadata": {
        "colab": {
          "base_uri": "https://localhost:8080/"
        },
        "id": "LTLXU8mwD1-L",
        "outputId": "9041311b-5615-4a14-8b57-8709ecfb1776"
      },
      "source": [
        "s = { 1, 2, 3 }\n",
        "l = list(s)\n",
        "print(l)\n",
        "\n",
        "l = [ 5, 6, 7 ]\n",
        "s = set(l)\n",
        "print(s)"
      ],
      "execution_count": 45,
      "outputs": [
        {
          "output_type": "stream",
          "text": [
            "[1, 2, 3]\n",
            "{5, 6, 7}\n"
          ],
          "name": "stdout"
        }
      ]
    },
    {
      "cell_type": "code",
      "metadata": {
        "colab": {
          "base_uri": "https://localhost:8080/"
        },
        "id": "VONnusDHEVf7",
        "outputId": "1b877323-a09a-4fc1-a2f0-3cb7c4d2c0ea"
      },
      "source": [
        "l = [ 1, 2, 3, 1, 2, 3 ]\n",
        "# l2 = [ 1, 2, 3 ]\n",
        "\n",
        "s = set(l)\n",
        "l2 = list(s)\n",
        "\n",
        "print(l2)"
      ],
      "execution_count": 46,
      "outputs": [
        {
          "output_type": "stream",
          "text": [
            "[1, 2, 3]\n"
          ],
          "name": "stdout"
        }
      ]
    },
    {
      "cell_type": "code",
      "metadata": {
        "colab": {
          "base_uri": "https://localhost:8080/"
        },
        "id": "QGtbxrokHqiF",
        "outputId": "ffe3f888-781d-451c-e263-d26cfb9d7d3c"
      },
      "source": [
        "s1 = { 1, 2, 3 }\n",
        "s2 = { 3, 4, 5 }\n",
        "\n",
        "s = s1|s2\n",
        "print(s)\n",
        "\n",
        "s = s1&s2\n",
        "print(s)"
      ],
      "execution_count": 50,
      "outputs": [
        {
          "output_type": "stream",
          "text": [
            "{1, 2, 3, 4, 5}\n",
            "{3}\n",
            "{1, 2, 3}\n",
            "{3, 4, 5}\n"
          ],
          "name": "stdout"
        }
      ]
    },
    {
      "cell_type": "code",
      "metadata": {
        "colab": {
          "base_uri": "https://localhost:8080/"
        },
        "id": "dFA7qYVDH8Ya",
        "outputId": "9209a241-fd42-454b-f7a9-8c2676395bf8"
      },
      "source": [
        "l1 = [ 1, 2, 3 ]\n",
        "l2 = [ 3, 4, 5 ]\n",
        "\n",
        "s1 = set(l1)\n",
        "s2 = set(l2)\n",
        "u_s = s1 | s2\n",
        "u = list(u_s)\n",
        "\n",
        "u = list( set(l1) | set(l2) )\n",
        "print(u)\n",
        "i = list( set(l1) & set(l2) )\n",
        "print(i)"
      ],
      "execution_count": 52,
      "outputs": [
        {
          "output_type": "stream",
          "text": [
            "[1, 2, 3, 4, 5]\n",
            "[3]\n"
          ],
          "name": "stdout"
        }
      ]
    },
    {
      "cell_type": "markdown",
      "metadata": {
        "id": "E20CBzvEJ9l3"
      },
      "source": [
        "# Quiz.\n",
        "\n",
        "```\n",
        "d1 = { 'tom': 30, 'jerry': 32, '철수': 25, '영희': 27 }\n",
        "d2 = { 'tom': 30, '철수': 25, 'bob': 33 }\n",
        "d = { 'tom': 30, 'jerry': 32, '철수': 25, '영희': 27, 'bob': 33 }\n",
        "```"
      ]
    },
    {
      "cell_type": "code",
      "metadata": {
        "colab": {
          "base_uri": "https://localhost:8080/"
        },
        "id": "E5xcEm98H6Ot",
        "outputId": "1bb932b4-d5fd-4a23-be4d-9dc70704cba4"
      },
      "source": [
        "d1 = { 'tom': 30, 'jerry': 32, '철수': 25, '영희': 27 }\n",
        "\n",
        "print(\"tom\" in d1)\n",
        "print(\"bob\" in d1)"
      ],
      "execution_count": 55,
      "outputs": [
        {
          "output_type": "stream",
          "text": [
            "True\n",
            "False\n"
          ],
          "name": "stdout"
        }
      ]
    },
    {
      "cell_type": "code",
      "metadata": {
        "colab": {
          "base_uri": "https://localhost:8080/"
        },
        "id": "lbYqOTOcHxdZ",
        "outputId": "f3737189-0dab-41d6-efb9-441b3fb15094"
      },
      "source": [
        "d1 = { 'tom': 30, 'jerry': 32, '철수': 25, '영희': 27 }\n",
        "d2 = { 'tom': 30, '철수': 25, 'bob': 33 }\n",
        "\n",
        "d1_names = set(d1.keys())\n",
        "d2_names = set(d2.keys())\n",
        "all_names = list(d1_names | d2_names)\n",
        "\n",
        "d = {}\n",
        "for name in all_names:\n",
        "  if name in d1:\n",
        "    d[name] = d1[name]\n",
        "    continue\n",
        "  if name in d2:\n",
        "    d[name] = d2[name]\n",
        "    continue\n",
        "\n",
        "print(d)"
      ],
      "execution_count": 60,
      "outputs": [
        {
          "output_type": "stream",
          "text": [
            "{'bob': 33, '영희': 27, 'tom': 30, 'jerry': 32, '철수': 25}\n"
          ],
          "name": "stdout"
        }
      ]
    },
    {
      "cell_type": "code",
      "metadata": {
        "colab": {
          "base_uri": "https://localhost:8080/"
        },
        "id": "FLvR0ShQMURi",
        "outputId": "17adaba6-9d4c-4f0d-a339-c38fb64aabae"
      },
      "source": [
        "d1 = { 'tom': 30, 'jerry': 32, '철수': 25, '영희': 27 }\n",
        "d2 = { 'tom': 30, '철수': 25, 'bob': 33 }\n",
        "\n",
        "d1_names = set(d1.keys())\n",
        "d2_names = set(d2.keys())\n",
        "all_names = list(d1_names | d2_names)\n",
        "\n",
        "def find_value(d1, d2, key):\n",
        "  if key in d1: return d1[key]\n",
        "  if key in d2: return d2[key]\n",
        "  return None\n",
        "\n",
        "d = {}\n",
        "for name in all_names:\n",
        "  d[name] = find_value(d1, d2, name)\n",
        "print(d)"
      ],
      "execution_count": 61,
      "outputs": [
        {
          "output_type": "stream",
          "text": [
            "{'bob': 33, '영희': 27, 'tom': 30, 'jerry': 32, '철수': 25}\n"
          ],
          "name": "stdout"
        }
      ]
    },
    {
      "cell_type": "code",
      "metadata": {
        "colab": {
          "base_uri": "https://localhost:8080/"
        },
        "id": "vzpsYRWDHvS6",
        "outputId": "59701b01-c4eb-405f-c967-922b775515db"
      },
      "source": [
        "l = [ 2, 1, 1, 4, 2, 2, 3, 5, 4, 3, 4, 5 ]\n",
        "\n",
        "# 1 : 2\n",
        "# 2 : 3\n",
        "# 3 : 2\n",
        "# 4 : 3\n",
        "# 5 : 2\n",
        "\n",
        "count_map = { }\n",
        "\n",
        "for i in l:\n",
        "  if i in count_map:\n",
        "    count = count_map[i]\n",
        "  else:\n",
        "    count = 0\n",
        "  count += 1\n",
        "  count_map[i] = count\n",
        "\n",
        "# print(count_map)\n",
        "\n",
        "keys = list(count_map.keys())\n",
        "# print(keys)\n",
        "\n",
        "keys.sort()\n",
        "# print(keys)\n",
        "\n",
        "for i in keys:\n",
        "  print(\"{} : {}\".format(i, count_map[i]))\n"
      ],
      "execution_count": 72,
      "outputs": [
        {
          "output_type": "stream",
          "text": [
            "1 : 2\n",
            "2 : 3\n",
            "3 : 2\n",
            "4 : 3\n",
            "5 : 2\n"
          ],
          "name": "stdout"
        }
      ]
    },
    {
      "cell_type": "markdown",
      "metadata": {
        "id": "8ju5uSXXoexk"
      },
      "source": [
        "# File IO"
      ]
    },
    {
      "cell_type": "code",
      "metadata": {
        "id": "msYhWdphnrXK"
      },
      "source": [
        "f = open(\"greeting.txt\", \"w\")\n",
        "f.write(\"hello\\n\")\n",
        "f.write(\"hi\\n\")\n",
        "f.write(\"halo\\n\")\n",
        "f.close()"
      ],
      "execution_count": 78,
      "outputs": []
    },
    {
      "cell_type": "code",
      "metadata": {
        "colab": {
          "base_uri": "https://localhost:8080/"
        },
        "id": "AmjVJWh0npab",
        "outputId": "150cf46f-9f97-45d4-8539-cf0af2f788e5"
      },
      "source": [
        "!ls -al"
      ],
      "execution_count": 79,
      "outputs": [
        {
          "output_type": "stream",
          "text": [
            "total 20\n",
            "drwxr-xr-x 1 root root 4096 May 11 04:22 .\n",
            "drwxr-xr-x 1 root root 4096 May 11 00:00 ..\n",
            "drwxr-xr-x 4 root root 4096 May  6 13:43 .config\n",
            "-rw-r--r-- 1 root root   14 May 11 04:22 greeting.txt\n",
            "drwxr-xr-x 1 root root 4096 May  6 13:44 sample_data\n"
          ],
          "name": "stdout"
        }
      ]
    },
    {
      "cell_type": "code",
      "metadata": {
        "id": "4OSGmnSKqJac"
      },
      "source": [
        "hello\n",
        "hi\n",
        "halo"
      ],
      "execution_count": null,
      "outputs": []
    },
    {
      "cell_type": "code",
      "metadata": {
        "id": "p6FtnfGOrDcb"
      },
      "source": [
        "f1 = open(\"doc1.txt\")\n",
        "f2 = open(\"doc2.txt\")\n",
        "f3 = open(\"doc3.txt\")"
      ],
      "execution_count": null,
      "outputs": []
    },
    {
      "cell_type": "code",
      "metadata": {
        "colab": {
          "base_uri": "https://localhost:8080/"
        },
        "id": "hAiIm4wzr_0O",
        "outputId": "351beea1-17b6-4952-8599-68a810bc1eb8"
      },
      "source": [
        "f = open(\"greeting.txt\", \"r\")\n",
        "line = f.readline()\n",
        "f.close()\n",
        "print(line)"
      ],
      "execution_count": 80,
      "outputs": [
        {
          "output_type": "stream",
          "text": [
            "hello\n",
            "\n"
          ],
          "name": "stdout"
        }
      ]
    },
    {
      "cell_type": "code",
      "metadata": {
        "colab": {
          "base_uri": "https://localhost:8080/"
        },
        "id": "pWtst-3MtXDz",
        "outputId": "1ebc48fd-9544-41a7-be30-5722f3b6c285"
      },
      "source": [
        "f = open(\"greeting.txt\", \"r\")\n",
        "lines = f.readlines()\n",
        "f.close()\n",
        "print(lines)"
      ],
      "execution_count": 1,
      "outputs": [
        {
          "output_type": "stream",
          "text": [
            "['hello\\n', 'hi\\n', 'halo\\n']\n"
          ],
          "name": "stdout"
        }
      ]
    },
    {
      "cell_type": "code",
      "metadata": {
        "id": "U4IwmM3UtoVm"
      },
      "source": [
        "names = [ \"tom\", \"jerry\", \"철수\", \"영희\" ]\n",
        "# name.txt\n",
        "f = open(\"name.txt\", \"w\")\n",
        "for name in names:\n",
        "  f.write(name+\"\\n\")\n",
        "f.close()"
      ],
      "execution_count": 4,
      "outputs": []
    },
    {
      "cell_type": "code",
      "metadata": {
        "colab": {
          "base_uri": "https://localhost:8080/"
        },
        "id": "HCbfc7lGt_O-",
        "outputId": "41446ae6-333b-4028-fbd8-a1e9ee5279e8"
      },
      "source": [
        "f = open(\"name.txt\", \"r\")\n",
        "raw_lines = f.readlines()\n",
        "f.close()\n",
        "\n",
        "print(raw_lines)\n",
        "names = []\n",
        "for line in raw_lines:\n",
        "  names.append(line[:-1])\n",
        "print(names)"
      ],
      "execution_count": 9,
      "outputs": [
        {
          "output_type": "stream",
          "text": [
            "['tom\\n', 'jerry\\n', '철수\\n', '영희\\n']\n",
            "['tom', 'jerry', '철수', '영희']\n"
          ],
          "name": "stdout"
        }
      ]
    },
    {
      "cell_type": "code",
      "metadata": {
        "id": "MQtOtyTow5k4"
      },
      "source": [
        "names = [ \"tom\", \"jerry\", \"철수\", \"영희\" ]\n",
        "# name.txt\n",
        "\n",
        "line = \",\".join(names)\n",
        "f = open(\"name.txt\", \"w\")\n",
        "f.write(line)\n",
        "f.close()"
      ],
      "execution_count": 10,
      "outputs": []
    },
    {
      "cell_type": "code",
      "metadata": {
        "colab": {
          "base_uri": "https://localhost:8080/"
        },
        "id": "g0cRjwVsxFv4",
        "outputId": "38217242-3da2-4b35-99cd-9f968c14732c"
      },
      "source": [
        "f = open(\"name.txt\", \"r\")\n",
        "raw_lines = f.readlines()\n",
        "f.close()\n",
        "\n",
        "print(raw_lines)\n",
        "names = raw_lines[0].split(\",\")\n",
        "print(names)"
      ],
      "execution_count": 12,
      "outputs": [
        {
          "output_type": "stream",
          "text": [
            "['tom,jerry,철수,영희']\n",
            "['tom', 'jerry', '철수', '영희']\n"
          ],
          "name": "stdout"
        }
      ]
    },
    {
      "cell_type": "markdown",
      "metadata": {
        "id": "_hiBX1f91gFE"
      },
      "source": [
        "# 파일에 추가"
      ]
    },
    {
      "cell_type": "code",
      "metadata": {
        "id": "duw_x2ks1heN"
      },
      "source": [
        "f = open(\"name.txt\", \"w\")\n",
        "f.write(\"tom\\n\")\n",
        "f.close()"
      ],
      "execution_count": 19,
      "outputs": []
    },
    {
      "cell_type": "code",
      "metadata": {
        "colab": {
          "base_uri": "https://localhost:8080/"
        },
        "id": "1At_L4vv1sDv",
        "outputId": "310c5bec-bc44-42d4-bbaa-63e44e65d5be"
      },
      "source": [
        "!cat name.txt"
      ],
      "execution_count": 20,
      "outputs": [
        {
          "output_type": "stream",
          "text": [
            "tom\n"
          ],
          "name": "stdout"
        }
      ]
    },
    {
      "cell_type": "code",
      "metadata": {
        "id": "yBdPxZwh13c-"
      },
      "source": [
        "f = open(\"name.txt\", \"a\")\n",
        "f.write(\"jerry\\n\")\n",
        "f.close()"
      ],
      "execution_count": 21,
      "outputs": []
    },
    {
      "cell_type": "code",
      "metadata": {
        "colab": {
          "base_uri": "https://localhost:8080/"
        },
        "id": "tFQ39snf184i",
        "outputId": "9067efc8-c156-4097-f013-d3c35245d030"
      },
      "source": [
        "!cat name.txt"
      ],
      "execution_count": 22,
      "outputs": [
        {
          "output_type": "stream",
          "text": [
            "tom\n",
            "jerry\n"
          ],
          "name": "stdout"
        }
      ]
    },
    {
      "cell_type": "markdown",
      "metadata": {
        "id": "7O938CW94Hv0"
      },
      "source": [
        "# 파일이름을 받아 전부 출력하는 함수"
      ]
    },
    {
      "cell_type": "code",
      "metadata": {
        "colab": {
          "base_uri": "https://localhost:8080/"
        },
        "id": "jrnh0Cpk2BQy",
        "outputId": "3aaa2fcf-9262-4549-9a79-24beae915802"
      },
      "source": [
        "def show_file(file_name):\n",
        "  f = open(file_name, \"r\")\n",
        "  lines = f.readlines()\n",
        "  f.close()\n",
        "  for line in lines:\n",
        "    print(line, end=\"\")\n",
        "\n",
        "show_file(\"name.txt\")"
      ],
      "execution_count": 25,
      "outputs": [
        {
          "output_type": "stream",
          "text": [
            "tom\n",
            "jerry\n"
          ],
          "name": "stdout"
        }
      ]
    },
    {
      "cell_type": "markdown",
      "metadata": {
        "id": "RG0XYfM13wSC"
      },
      "source": [
        "# Quiz. name.txt를 읽어 대문자로 변환 출력"
      ]
    },
    {
      "cell_type": "code",
      "metadata": {
        "colab": {
          "base_uri": "https://localhost:8080/"
        },
        "id": "19GIWV8K30ph",
        "outputId": "4a73cedd-c26b-4008-b889-ded34eb712b7"
      },
      "source": [
        "def show_file(file_name):\n",
        "  f = open(file_name, \"r\")\n",
        "  lines = f.readlines()\n",
        "  f.close()\n",
        "  for line in lines:\n",
        "    print(line.upper(), end=\"\")\n",
        "\n",
        "show_file(\"name.txt\")"
      ],
      "execution_count": 26,
      "outputs": [
        {
          "output_type": "stream",
          "text": [
            "TOM\n",
            "JERRY\n"
          ],
          "name": "stdout"
        }
      ]
    },
    {
      "cell_type": "markdown",
      "metadata": {
        "id": "barKw8nr4Wif"
      },
      "source": [
        "# Quiz. 사용자 입력을 2개 받아 name.txt 파일에 저장. 그리고 파일 내용 출력하여 확인"
      ]
    },
    {
      "cell_type": "code",
      "metadata": {
        "colab": {
          "base_uri": "https://localhost:8080/"
        },
        "id": "edXrE2h37n24",
        "outputId": "ca16001d-a2b3-4e4c-b9a0-3c3865f4755b"
      },
      "source": [
        "def show_file(file_name):\n",
        "  f = open(file_name, \"r\")\n",
        "  lines = f.readlines()\n",
        "  f.close()\n",
        "  for line in lines:\n",
        "    print(line, end=\"\")\n",
        "\n",
        "name = input()\n",
        "f = open(\"name.txt\", \"w\")\n",
        "f.write(name+\"\\n\")\n",
        "f.close()\n",
        "\n",
        "name = input()\n",
        "f = open(\"name.txt\", \"a\")\n",
        "f.write(name+\"\\n\")\n",
        "f.close()\n",
        "\n",
        "show_file(\"name.txt\")"
      ],
      "execution_count": 29,
      "outputs": [
        {
          "output_type": "stream",
          "text": [
            "tom\n",
            "jerry\n",
            "tom\n",
            "jerry\n"
          ],
          "name": "stdout"
        }
      ]
    },
    {
      "cell_type": "code",
      "metadata": {
        "id": "xP-yBL694dUD"
      },
      "source": [
        "import kakaotalk\n",
        "\n",
        "f = kakotalk.open(\"dhrim\", \"password\")\n",
        "while True:\n",
        "  f.send_message(\"hi\")\n",
        "  line = f.read()\n",
        "  print(line)\n",
        "f.close()"
      ],
      "execution_count": null,
      "outputs": []
    },
    {
      "cell_type": "markdown",
      "metadata": {
        "id": "TScFhusF8jK_"
      },
      "source": [
        "# Quiz. 이름을 입력하고 name.txt에 추가. 그리고 파일 내용 확인. 이를 계속 반복. exit 입력되면 종료"
      ]
    },
    {
      "cell_type": "code",
      "metadata": {
        "id": "oOnHZtZ38ibN"
      },
      "source": [
        "# input = \"hi\"\n",
        "# name = input()"
      ],
      "execution_count": null,
      "outputs": []
    },
    {
      "cell_type": "code",
      "metadata": {
        "colab": {
          "base_uri": "https://localhost:8080/"
        },
        "id": "4gNNIGoUA7Cm",
        "outputId": "29ba7f91-d153-48da-d9c6-29ebd9d12c67"
      },
      "source": [
        "def show_file(file_name):\n",
        "  f = open(file_name, \"r\")\n",
        "  lines = f.readlines()\n",
        "  f.close()\n",
        "  for line in lines:\n",
        "    print(line, end=\"\")\n",
        "\n",
        "def write_to_file(file_name, value):\n",
        "  f = open(file_name, \"a\")\n",
        "  f.write(value+\"\\n\")\n",
        "  f.close()\n",
        "\n",
        "FILE_NAME = \"name.txt\"\n",
        "while True:\n",
        "  i = input(\"이름을 입력하세요 : \")\n",
        "  if i == \"exit\": break\n",
        "  write_to_file(FILE_NAME, i)\n",
        "  show_file(FILE_NAME)"
      ],
      "execution_count": 33,
      "outputs": [
        {
          "output_type": "stream",
          "text": [
            "이름을 입력하세요 : tom\n",
            "keny\n",
            "tom\n",
            "이름을 입력하세요 : jerry\n",
            "keny\n",
            "tom\n",
            "jerry\n",
            "이름을 입력하세요 : exit\n"
          ],
          "name": "stdout"
        }
      ]
    },
    {
      "cell_type": "code",
      "metadata": {
        "id": "POAYUXbUBe9Z"
      },
      "source": [
        "\n",
        "while True:\n",
        "  i = input()\n",
        "  if i == \"exit\": break\n",
        "  \n",
        "  f = open(file_name, \"a\")\n",
        "  f.write(value+\"\\n\")\n",
        "  f.close()\n",
        "\n",
        "  f = open(file_name, \"r\")\n",
        "  lines = f.readlines()\n",
        "  f.close()\n",
        "  for line in lines:\n",
        "    print(line, end=\"\")"
      ],
      "execution_count": null,
      "outputs": []
    },
    {
      "cell_type": "markdown",
      "metadata": {
        "id": "p2BDRX4FEdUj"
      },
      "source": [
        "# Quiz.\n",
        "```\n",
        "source.txt\n",
        "2,3\n",
        "4,5\n",
        "7,1\n",
        "```\n",
        "\n",
        "```\n",
        "sum.txt\n",
        "2,3,5\n",
        "4,5,9\n",
        "7,1,8\n",
        "```"
      ]
    },
    {
      "cell_type": "code",
      "metadata": {
        "colab": {
          "base_uri": "https://localhost:8080/"
        },
        "id": "rpBG-M0IEpmN",
        "outputId": "12b537c1-7c1a-4b3a-c30b-2869f89c965f"
      },
      "source": [
        "def show_file(file_name):\n",
        "  f = open(file_name, \"r\")\n",
        "  lines = f.readlines()\n",
        "  f.close()\n",
        "  for line in lines:\n",
        "    print(line, end=\"\")\n",
        "\n",
        "f = open(\"source.txt\", \"w\")\n",
        "f.write(\"\"\"2,3\n",
        "4,5\n",
        "7,1\"\"\")\n",
        "f.close()\n",
        "\n",
        "show_file(\"source.txt\")\n",
        "print()\n",
        "\n",
        "\n",
        "\n",
        "f = open(\"source.txt\", \"r\")\n",
        "lines = f.readlines()\n",
        "f.close()\n",
        "\n",
        "new_lines = []\n",
        "for line in lines:\n",
        "  if line.endswith(\"\\n\"):\n",
        "    line = line[:-1]\n",
        "  print(line)\n",
        "  \n",
        "  values = line.split(\",\")\n",
        "  answer = int(values[0]) + int(values[1])\n",
        "  new_line = \",\".join([values[0], values[1], str(answer)])\n",
        "  new_lines.append(new_line)\n",
        "\n",
        "print(new_lines)\n",
        "\n",
        "f = open(\"sum.txt\", \"w\")\n",
        "for line in new_lines:\n",
        "  f.write(line+\"\\n\")\n",
        "f.close()\n",
        "\n",
        "show_file(\"sum.txt\")\n",
        "\n",
        "\n"
      ],
      "execution_count": 45,
      "outputs": [
        {
          "output_type": "stream",
          "text": [
            "2,3\n",
            "4,5\n",
            "7,1\n",
            "2,3\n",
            "4,5\n",
            "7,1\n",
            "['2,3,5', '4,5,9', '7,1,8']\n",
            "2,3,5\n",
            "4,5,9\n",
            "7,1,8\n"
          ],
          "name": "stdout"
        }
      ]
    },
    {
      "cell_type": "code",
      "metadata": {
        "colab": {
          "base_uri": "https://localhost:8080/"
        },
        "id": "I1y2i9naGwC9",
        "outputId": "387c9ddb-0c49-47a7-9111-5d75411efbd3"
      },
      "source": [
        "def show_file(file_name):\n",
        "  f = open(file_name, \"r\")\n",
        "  lines = f.readlines()\n",
        "  f.close()\n",
        "  for line in lines:\n",
        "    print(line, end=\"\")\n",
        "\n",
        "f = open(\"source.txt\", \"w\")\n",
        "f.write(\"\"\"2,3\n",
        "4,5\n",
        "7,1\"\"\")\n",
        "f.close()\n",
        "\n",
        "show_file(\"source.txt\")\n",
        "print()\n",
        "\n",
        "\n",
        "\n",
        "\n",
        "def clean_line(line):\n",
        "  if line.endswith(\"\\n\"):\n",
        "    line = line[:-1]\n",
        "  return line\n",
        "\n",
        "def calculate_line(line):\n",
        "  values = line.split(\",\")\n",
        "  v1, v2 = int(values[0]), int(values[1])\n",
        "  answer = v1+v2\n",
        "  new_values = [ str(v1), str(v2), str(answer) ]\n",
        "  new_line = \",\".join(new_values)\n",
        "  return new_line\n",
        "\n",
        "\n",
        "def read_source(file_name):\n",
        "  f = open(file_name, \"r\")\n",
        "  lines = f.readlines()\n",
        "  f.close()\n",
        "  return lines\n",
        "\n",
        "def calculate_lines(lines):\n",
        "  new_lines = []\n",
        "  for line in lines:\n",
        "    line = clean_line(line)\n",
        "    new_line = calculate_line(line)\n",
        "    new_lines.append(new_line)\n",
        "  return new_lines\n",
        "\n",
        "\n",
        "def write_to_file(file_name, new_lines):\n",
        "  f = open(file_name, \"w\")\n",
        "  for line in new_lines:\n",
        "    f.write(line+\"\\n\")\n",
        "  f.close()\n",
        "\n",
        "\n",
        "\n",
        "\n",
        "lines = read_source(\"source.txt\")\n",
        "# lines = ['2,3\\n', '4,5\\n', '7,1']\n",
        "\n",
        "new_lines = calculate_lines(lines)\n",
        "# new_lines = ['2,3,5', '4,5,9', '7,1,8']\n",
        "\n",
        "write_to_file(\"some.txt\", new_lines)\n",
        "\n",
        "show_file(\"sum.txt\")\n",
        "\n",
        "\n"
      ],
      "execution_count": 51,
      "outputs": [
        {
          "output_type": "stream",
          "text": [
            "2,3\n",
            "4,5\n",
            "7,1\n",
            "lines :  ['2,3\\n', '4,5\\n', '7,1']\n",
            "new_lines : ['2,3,5', '4,5,9', '7,1,8']\n",
            "2,3,5\n",
            "4,5,9\n",
            "7,1,8\n"
          ],
          "name": "stdout"
        }
      ]
    },
    {
      "cell_type": "code",
      "metadata": {
        "id": "Ln6hO4oUMCCS"
      },
      "source": [
        "# 파일을 줄단위로 읽어서 리스트를 얻는다.\n",
        "lines = read_line(\"source.txt\")\n",
        "\n",
        "# 줄단위로 계산해서 리스트를 얻는다.\n",
        "calculated_lines = calculate_lines(lines)\n",
        "\n",
        "# 리스트를 파일로 저장한다.\n",
        "write_to_file(\"sum.txt\", calculated_lines)\n",
        "\n",
        "# 파일 내용을 출력한다.\n",
        "show_file(\"sum.txt\")"
      ],
      "execution_count": null,
      "outputs": []
    },
    {
      "cell_type": "code",
      "metadata": {
        "id": "7tpN9CNdT2hS"
      },
      "source": [
        ""
      ],
      "execution_count": null,
      "outputs": []
    },
    {
      "cell_type": "markdown",
      "metadata": {
        "id": "Q2BIHcoeT3Af"
      },
      "source": [
        "# Quiz.\n",
        "source.txt\n",
        "```\n",
        "Tom\n",
        "Jerry\n",
        "철수\n",
        "영희\n",
        "```\n",
        "\n",
        "```\n",
        "\"Tom의 나이는? \" 30\n",
        "\"Jerry의 나이는? \" 33\n",
        "\n",
        "```\n",
        "\n",
        "화면에 출력\n",
        "```\n",
        "Tom,30\n",
        "Jerry,33\n",
        "철수,25\n",
        "영희,23\n",
        "```\n",
        "\n",
        "\n",
        "\n"
      ]
    },
    {
      "cell_type": "code",
      "metadata": {
        "id": "Mdx9VWz7cRwO"
      },
      "source": [
        "\"name_and_age.txt\""
      ],
      "execution_count": null,
      "outputs": []
    },
    {
      "cell_type": "code",
      "metadata": {
        "id": "GeGCeYzqUPrF"
      },
      "source": [
        "# task.0 source.txt 파일을 만들어 둔다.\n",
        "\n",
        "# task.1 source.txt에서 파일을 읽어서 다음 리스트를 구하기\n",
        "names = [ \"Tom\", \"Jerry\", \"철수\", \"영희\"]\n",
        "\n",
        "# task.2 for 루프를 돌면서 input으로 age를 받고 다음 dict를 만들기\n",
        "age_map = { \"Tom\":30, \"Jerry\":33, \"철수\":25, \"영희\":23 }\n",
        "\n",
        "# task.3 for 루프를 돌면서 다음 문자열을 만들기\n",
        "out_lines = [ \"Tom,30\", \"Jerry,33\", \"철수,25\", \"영희,23\" ]\n",
        "\n",
        "# task.4 for 루프를 돌면서 리스트 항목을 출력하기\n",
        "\n",
        "# task.4-2 for 루프를 돌면서 리스트를 name_and_age.txt에 출력하기"
      ],
      "execution_count": null,
      "outputs": []
    },
    {
      "cell_type": "code",
      "metadata": {
        "id": "gHHlUBPxY0oG"
      },
      "source": [
        "# task.0\n",
        "f = open(\"source.txt\", \"w\")\n",
        "f.write(\"\"\"Tom\n",
        "Jerry\n",
        "철수\n",
        "영희\n",
        "\"\"\")\n",
        "f.close()"
      ],
      "execution_count": 68,
      "outputs": []
    },
    {
      "cell_type": "code",
      "metadata": {
        "colab": {
          "base_uri": "https://localhost:8080/"
        },
        "id": "acVQEkUDYnLi",
        "outputId": "bf917ebf-7b71-475c-fa44-62d7f5152ebb"
      },
      "source": [
        "# task.1\n",
        "f = open(\"source.txt\", \"r\")\n",
        "lines = f.readlines()\n",
        "f.close()\n",
        "\n",
        "names = []\n",
        "for line in lines:\n",
        "  names.append(line[:-1])\n",
        "\n",
        "print(names)"
      ],
      "execution_count": 61,
      "outputs": [
        {
          "output_type": "stream",
          "text": [
            "['Tom', 'Jerry', '철수', '영희']\n"
          ],
          "name": "stdout"
        }
      ]
    },
    {
      "cell_type": "code",
      "metadata": {
        "colab": {
          "base_uri": "https://localhost:8080/"
        },
        "id": "noX1FkOVYG-U",
        "outputId": "91ad85a1-5165-449c-f1ef-1c391933e67b"
      },
      "source": [
        "# task.2\n",
        "names = [ \"Tom\", \"Jerry\", \"철수\", \"영희\"]\n",
        "# age_map = { \"Tom\":30, \"Jerry\":33, \"철수\":25, \"영희\":23 }\n",
        "\n",
        "age_map = {}\n",
        "for name in names:\n",
        "  age = input(\"{}의 나이는? \".format(name))\n",
        "  age = int(age)\n",
        "  age_map[name] = age\n",
        "\n",
        "print(age_map)"
      ],
      "execution_count": 55,
      "outputs": [
        {
          "output_type": "stream",
          "text": [
            "Tom의 나이는? 30\n",
            "Jerry의 나이는? 33\n",
            "철수의 나이는? 25\n",
            "영희의 나이는? 23\n",
            "{'Tom': 30, 'Jerry': 33, '철수': 25, '영희': 23}\n"
          ],
          "name": "stdout"
        }
      ]
    },
    {
      "cell_type": "code",
      "metadata": {
        "colab": {
          "base_uri": "https://localhost:8080/"
        },
        "id": "j2VuMmMnXWOE",
        "outputId": "6073a4a3-ef5c-4d7b-c79d-67508dbc8877"
      },
      "source": [
        "# task.3\n",
        "age_map = { \"Tom\":30, \"Jerry\":33, \"철수\":25, \"영희\":23 }\n",
        "# out_lines = [ \"Tom,30\", \"Jerry,33\", \"철수,25\", \"영희,23\" ]\n",
        "\n",
        "out_lines = []\n",
        "for key, value in age_map.items():\n",
        "  out_lines.append(\"{},{}\".format(key,value))\n",
        "\n",
        "print(out_lines)"
      ],
      "execution_count": 53,
      "outputs": [
        {
          "output_type": "stream",
          "text": [
            "['Tom,30', 'Jerry,33', '철수,25', '영희,23']\n"
          ],
          "name": "stdout"
        }
      ]
    },
    {
      "cell_type": "code",
      "metadata": {
        "colab": {
          "base_uri": "https://localhost:8080/"
        },
        "id": "omhQSCmIXMOl",
        "outputId": "97fc4a7e-9bf1-459a-ec8d-294702a436f5"
      },
      "source": [
        "# task.4\n",
        "out_lines = [ \"Tom,30\", \"Jerry,33\", \"철수,25\", \"영희,23\" ]\n",
        "\n",
        "for a_line in out_lines:\n",
        "  print(a_line)"
      ],
      "execution_count": 52,
      "outputs": [
        {
          "output_type": "stream",
          "text": [
            "Tom,30\n",
            "Jerry,33\n",
            "철수,25\n",
            "영희,23\n"
          ],
          "name": "stdout"
        }
      ]
    },
    {
      "cell_type": "code",
      "metadata": {
        "colab": {
          "base_uri": "https://localhost:8080/"
        },
        "id": "WRYhI7tbd-Iu",
        "outputId": "313435b6-49bf-4093-8280-a7c313ea87c6"
      },
      "source": [
        "# task.4-2\n",
        "out_lines = [ \"Tom,30\", \"Jerry,33\", \"철수,25\", \"영희,23\" ]\n",
        "\n",
        "f = open(\"name_and_age.txt\", \"w\")\n",
        "for a_line in out_lines:\n",
        "  f.write(a_line+\"\\n\")\n",
        "f.close()\n",
        "\n",
        "show_file(\"name_and_age.txt\")"
      ],
      "execution_count": 71,
      "outputs": [
        {
          "output_type": "stream",
          "text": [
            "Tom,30\n",
            "Jerry,33\n",
            "철수,25\n",
            "영희,23\n"
          ],
          "name": "stdout"
        }
      ]
    },
    {
      "cell_type": "code",
      "metadata": {
        "colab": {
          "base_uri": "https://localhost:8080/"
        },
        "id": "Ntu5k2ECZvD_",
        "outputId": "272d9185-6881-4dab-9b19-8f353310d89a"
      },
      "source": [
        "# task.1\n",
        "f = open(\"source.txt\", \"r\")\n",
        "lines = f.readlines()\n",
        "f.close()\n",
        "\n",
        "names = []\n",
        "for line in lines:\n",
        "  names.append(line[:-1])\n",
        "\n",
        "# print(names)\n",
        "\n",
        "# task.2\n",
        "# names = [ \"Tom\", \"Jerry\", \"철수\", \"영희\"]\n",
        "# age_map = { \"Tom\":30, \"Jerry\":33, \"철수\":25, \"영희\":23 }\n",
        "\n",
        "age_map = {}\n",
        "for name in names:\n",
        "  age = input(\"{}의 나이는? \".format(name))\n",
        "  age = int(age)\n",
        "  age_map[name] = age\n",
        "\n",
        "# print(age_map)\n",
        "\n",
        "# task.3\n",
        "# age_map = { \"Tom\":30, \"Jerry\":33, \"철수\":25, \"영희\":23 }\n",
        "# out_lines = [ \"Tom,30\", \"Jerry,33\", \"철수,25\", \"영희,23\" ]\n",
        "\n",
        "out_lines = []\n",
        "for key, value in age_map.items():\n",
        "  out_lines.append(\"{},{}\".format(key,value))\n",
        "\n",
        "# print(out_lines)\n",
        "\n",
        "# task.4\n",
        "# out_lines = [ \"Tom,30\", \"Jerry,33\", \"철수,25\", \"영희,23\" ]\n",
        "\n",
        "for a_line in out_lines:\n",
        "  print(a_line)\n",
        "\n",
        "# task.4-2\n",
        "# out_lines = [ \"Tom,30\", \"Jerry,33\", \"철수,25\", \"영희,23\" ]\n",
        "\n",
        "f = open(\"name_and_age.txt\", \"w\")\n",
        "for a_line in out_lines:\n",
        "  f.write(a_line+\"\\n\")\n",
        "f.close()\n",
        "\n",
        "show_file(\"name_and_age.txt\")  "
      ],
      "execution_count": 72,
      "outputs": [
        {
          "output_type": "stream",
          "text": [
            "Tom의 나이는? 30\n",
            "Jerry의 나이는? 33\n",
            "철수의 나이는? 25\n",
            "영희의 나이는? 23\n",
            "Tom,30\n",
            "Jerry,33\n",
            "철수,25\n",
            "영희,23\n",
            "Tom,30\n",
            "Jerry,33\n",
            "철수,25\n",
            "영희,23\n"
          ],
          "name": "stdout"
        }
      ]
    },
    {
      "cell_type": "code",
      "metadata": {
        "colab": {
          "base_uri": "https://localhost:8080/",
          "height": 35
        },
        "id": "meU6Pu1-aZwJ",
        "outputId": "cfbf7176-7bb7-4e9e-c914-a3cbf232b8ad"
      },
      "source": [
        "# \"Tom\"+\",\"+33\n",
        "\n",
        "\"{},{}\".format(\"Tom\", 33)"
      ],
      "execution_count": 67,
      "outputs": [
        {
          "output_type": "execute_result",
          "data": {
            "application/vnd.google.colaboratory.intrinsic+json": {
              "type": "string"
            },
            "text/plain": [
              "'Tom,33'"
            ]
          },
          "metadata": {
            "tags": []
          },
          "execution_count": 67
        }
      ]
    },
    {
      "cell_type": "markdown",
      "metadata": {
        "id": "godqRuGdfSBS"
      },
      "source": [
        "# 내장 함수"
      ]
    },
    {
      "cell_type": "code",
      "metadata": {
        "colab": {
          "base_uri": "https://localhost:8080/"
        },
        "id": "k-uZAbz0fTTg",
        "outputId": "f654708d-6742-4555-83c7-cf53002f3175"
      },
      "source": [
        "l = [ 1, 2, 3, 4, 5 ]\n",
        "s = sum(l)\n",
        "print(s)\n",
        "\n",
        "t = ( 1, 2, 3 )\n",
        "print(sum(t))\n",
        "\n",
        "s = { 1, 2, 3 }\n",
        "print(sum(s))\n",
        "\n",
        "# d = { \"tom\":1 }\n",
        "# print(sum(t))"
      ],
      "execution_count": 1,
      "outputs": [
        {
          "output_type": "stream",
          "text": [
            "15\n",
            "6\n",
            "6\n"
          ],
          "name": "stdout"
        }
      ]
    },
    {
      "cell_type": "code",
      "metadata": {
        "colab": {
          "base_uri": "https://localhost:8080/",
          "height": 220
        },
        "id": "Dxb6EUTRfhwn",
        "outputId": "27fdad5b-b17b-4556-86a6-fda6015ecc0d"
      },
      "source": [
        "# l = [ 1, 2, 3, 4 ]\n",
        "# sum = sum(l)\n",
        "# print(l)\n",
        "\n",
        "# print(sum([3,4,5]))"
      ],
      "execution_count": 77,
      "outputs": [
        {
          "output_type": "stream",
          "text": [
            "[1, 2, 3, 4]\n"
          ],
          "name": "stdout"
        },
        {
          "output_type": "error",
          "ename": "TypeError",
          "evalue": "ignored",
          "traceback": [
            "\u001b[0;31m---------------------------------------------------------------------------\u001b[0m",
            "\u001b[0;31mTypeError\u001b[0m                                 Traceback (most recent call last)",
            "\u001b[0;32m<ipython-input-77-04834e3dc00a>\u001b[0m in \u001b[0;36m<module>\u001b[0;34m()\u001b[0m\n\u001b[1;32m      3\u001b[0m \u001b[0mprint\u001b[0m\u001b[0;34m(\u001b[0m\u001b[0ml\u001b[0m\u001b[0;34m)\u001b[0m\u001b[0;34m\u001b[0m\u001b[0;34m\u001b[0m\u001b[0m\n\u001b[1;32m      4\u001b[0m \u001b[0;34m\u001b[0m\u001b[0m\n\u001b[0;32m----> 5\u001b[0;31m \u001b[0mprint\u001b[0m\u001b[0;34m(\u001b[0m\u001b[0msum\u001b[0m\u001b[0;34m(\u001b[0m\u001b[0;34m[\u001b[0m\u001b[0;36m3\u001b[0m\u001b[0;34m,\u001b[0m\u001b[0;36m4\u001b[0m\u001b[0;34m,\u001b[0m\u001b[0;36m5\u001b[0m\u001b[0;34m]\u001b[0m\u001b[0;34m)\u001b[0m\u001b[0;34m)\u001b[0m\u001b[0;34m\u001b[0m\u001b[0;34m\u001b[0m\u001b[0m\n\u001b[0m",
            "\u001b[0;31mTypeError\u001b[0m: 'int' object is not callable"
          ]
        }
      ]
    },
    {
      "cell_type": "code",
      "metadata": {
        "colab": {
          "base_uri": "https://localhost:8080/"
        },
        "id": "kftQIvW2fwXc",
        "outputId": "71413f99-c84c-45f6-8a6a-91c106f3d8b8"
      },
      "source": [
        "print(min([1,2,3,4]))\n",
        "print(max([1,2,3,4]))\n",
        "\n",
        "ages = [ 30, 25, 22, 28 ]\n",
        "print(max(ages))"
      ],
      "execution_count": 4,
      "outputs": [
        {
          "output_type": "stream",
          "text": [
            "1\n",
            "4\n",
            "30\n"
          ],
          "name": "stdout"
        }
      ]
    },
    {
      "cell_type": "code",
      "metadata": {
        "colab": {
          "base_uri": "https://localhost:8080/"
        },
        "id": "8Uy4QMFyfe8s",
        "outputId": "16cbf2ec-3bec-4645-a3a5-c2172ebf6526"
      },
      "source": [
        "age = 30\n",
        "min_age = 20\n",
        "final_age = max(age, min_age)\n",
        "print(final_age)"
      ],
      "execution_count": 5,
      "outputs": [
        {
          "output_type": "stream",
          "text": [
            "30\n"
          ],
          "name": "stdout"
        }
      ]
    },
    {
      "cell_type": "code",
      "metadata": {
        "id": "otLbRKZQfWNA"
      },
      "source": [
        ""
      ],
      "execution_count": null,
      "outputs": []
    }
  ]
}