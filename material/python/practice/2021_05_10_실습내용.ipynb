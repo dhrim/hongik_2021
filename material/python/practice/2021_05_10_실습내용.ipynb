{
  "nbformat": 4,
  "nbformat_minor": 0,
  "metadata": {
    "colab": {
      "name": "2021_05_10_실습내용.ipynb",
      "provenance": [],
      "collapsed_sections": []
    },
    "kernelspec": {
      "name": "python3",
      "display_name": "Python 3"
    },
    "language_info": {
      "name": "python"
    }
  },
  "cells": [
    {
      "cell_type": "markdown",
      "metadata": {
        "id": "hauOieZ_leGg"
      },
      "source": [
        "# Quiz. 다음을 출력\n",
        "\n",
        "```\n",
        "3 x 2 = 6\n",
        "3 x 3 = 9\n",
        "3 x 4 = 12\n",
        "...\n",
        "3 x 9 = 27\n",
        "```"
      ]
    },
    {
      "cell_type": "code",
      "metadata": {
        "colab": {
          "base_uri": "https://localhost:8080/"
        },
        "id": "u9M2iW8jk42_",
        "outputId": "a83ef838-feb4-43f6-e7fd-f826ee7dcd84"
      },
      "source": [
        "for i in range(2, 10):\n",
        "  print(\"3 x {} = {}\".format(i, 3*i))\n"
      ],
      "execution_count": null,
      "outputs": [
        {
          "output_type": "stream",
          "text": [
            "3 x 2 = 6\n",
            "3 x 3 = 9\n",
            "3 x 4 = 12\n",
            "3 x 5 = 15\n",
            "3 x 6 = 18\n",
            "3 x 7 = 21\n",
            "3 x 8 = 24\n",
            "3 x 9 = 27\n"
          ],
          "name": "stdout"
        }
      ]
    },
    {
      "cell_type": "markdown",
      "metadata": {
        "id": "3qVhIcV1mjNA"
      },
      "source": [
        "Quiz. 다음을 출력\n",
        "\n",
        "```\n",
        "2 x 2 = 4\n",
        "2 x 3 = 6\n",
        "2 x 4 = 18\n",
        "...\n",
        "2 x 9 = 18\n",
        "\n",
        "3 x 2 = 6\n",
        "3 x 3 = 9\n",
        "3 x 4 = 12\n",
        "...\n",
        "3 x 9 = 27\n",
        "\n",
        "4 x 2 = 8\n",
        "4 x 3 = 12\n",
        "4 x 4 = 16\n",
        "...\n",
        "4 x 9 = 36\n",
        "\n",
        "...\n",
        "\n",
        "9 x 2 = 18\n",
        "9 x 3 = 27\n",
        "9 x 4 = 136\n",
        "...\n",
        "9 x 9 = 81\n",
        "\n",
        "\n",
        "```"
      ]
    },
    {
      "cell_type": "code",
      "metadata": {
        "colab": {
          "base_uri": "https://localhost:8080/"
        },
        "id": "yayQbEaRouq4",
        "outputId": "42f380cb-2990-4e6a-a658-4636cd9a1be1"
      },
      "source": [
        "for i in range(2,10):\n",
        "  for j in range(2, 10):\n",
        "    print(\"{} x {} = {}\".format(i, j, i*j))\n",
        "  print()"
      ],
      "execution_count": null,
      "outputs": [
        {
          "output_type": "stream",
          "text": [
            "2 x 2 = 4\n",
            "2 x 3 = 6\n",
            "2 x 4 = 8\n",
            "2 x 5 = 10\n",
            "2 x 6 = 12\n",
            "2 x 7 = 14\n",
            "2 x 8 = 16\n",
            "2 x 9 = 18\n",
            "\n",
            "3 x 2 = 6\n",
            "3 x 3 = 9\n",
            "3 x 4 = 12\n",
            "3 x 5 = 15\n",
            "3 x 6 = 18\n",
            "3 x 7 = 21\n",
            "3 x 8 = 24\n",
            "3 x 9 = 27\n",
            "\n",
            "4 x 2 = 8\n",
            "4 x 3 = 12\n",
            "4 x 4 = 16\n",
            "4 x 5 = 20\n",
            "4 x 6 = 24\n",
            "4 x 7 = 28\n",
            "4 x 8 = 32\n",
            "4 x 9 = 36\n",
            "\n",
            "5 x 2 = 10\n",
            "5 x 3 = 15\n",
            "5 x 4 = 20\n",
            "5 x 5 = 25\n",
            "5 x 6 = 30\n",
            "5 x 7 = 35\n",
            "5 x 8 = 40\n",
            "5 x 9 = 45\n",
            "\n",
            "6 x 2 = 12\n",
            "6 x 3 = 18\n",
            "6 x 4 = 24\n",
            "6 x 5 = 30\n",
            "6 x 6 = 36\n",
            "6 x 7 = 42\n",
            "6 x 8 = 48\n",
            "6 x 9 = 54\n",
            "\n",
            "7 x 2 = 14\n",
            "7 x 3 = 21\n",
            "7 x 4 = 28\n",
            "7 x 5 = 35\n",
            "7 x 6 = 42\n",
            "7 x 7 = 49\n",
            "7 x 8 = 56\n",
            "7 x 9 = 63\n",
            "\n",
            "8 x 2 = 16\n",
            "8 x 3 = 24\n",
            "8 x 4 = 32\n",
            "8 x 5 = 40\n",
            "8 x 6 = 48\n",
            "8 x 7 = 56\n",
            "8 x 8 = 64\n",
            "8 x 9 = 72\n",
            "\n",
            "9 x 2 = 18\n",
            "9 x 3 = 27\n",
            "9 x 4 = 36\n",
            "9 x 5 = 45\n",
            "9 x 6 = 54\n",
            "9 x 7 = 63\n",
            "9 x 8 = 72\n",
            "9 x 9 = 81\n",
            "\n"
          ],
          "name": "stdout"
        }
      ]
    },
    {
      "cell_type": "code",
      "metadata": {
        "colab": {
          "base_uri": "https://localhost:8080/"
        },
        "id": "tcRk494Zm8rF",
        "outputId": "4db0b8a5-6a1e-413d-9588-3d50239fc8dd"
      },
      "source": [
        "def print_dan(i):\n",
        "  for j in range(2, 10):\n",
        "    print(\"{} x {} = {}\".format(i, j, i*j))\n",
        "\n",
        "for i in range(2,10):\n",
        "  print_dan(i)\n",
        "  print()"
      ],
      "execution_count": null,
      "outputs": [
        {
          "output_type": "stream",
          "text": [
            "2 x 2 = 4\n",
            "2 x 3 = 6\n",
            "2 x 4 = 8\n",
            "2 x 5 = 10\n",
            "2 x 6 = 12\n",
            "2 x 7 = 14\n",
            "2 x 8 = 16\n",
            "2 x 9 = 18\n",
            "\n",
            "3 x 2 = 6\n",
            "3 x 3 = 9\n",
            "3 x 4 = 12\n",
            "3 x 5 = 15\n",
            "3 x 6 = 18\n",
            "3 x 7 = 21\n",
            "3 x 8 = 24\n",
            "3 x 9 = 27\n",
            "\n",
            "4 x 2 = 8\n",
            "4 x 3 = 12\n",
            "4 x 4 = 16\n",
            "4 x 5 = 20\n",
            "4 x 6 = 24\n",
            "4 x 7 = 28\n",
            "4 x 8 = 32\n",
            "4 x 9 = 36\n",
            "\n",
            "5 x 2 = 10\n",
            "5 x 3 = 15\n",
            "5 x 4 = 20\n",
            "5 x 5 = 25\n",
            "5 x 6 = 30\n",
            "5 x 7 = 35\n",
            "5 x 8 = 40\n",
            "5 x 9 = 45\n",
            "\n",
            "6 x 2 = 12\n",
            "6 x 3 = 18\n",
            "6 x 4 = 24\n",
            "6 x 5 = 30\n",
            "6 x 6 = 36\n",
            "6 x 7 = 42\n",
            "6 x 8 = 48\n",
            "6 x 9 = 54\n",
            "\n",
            "7 x 2 = 14\n",
            "7 x 3 = 21\n",
            "7 x 4 = 28\n",
            "7 x 5 = 35\n",
            "7 x 6 = 42\n",
            "7 x 7 = 49\n",
            "7 x 8 = 56\n",
            "7 x 9 = 63\n",
            "\n",
            "8 x 2 = 16\n",
            "8 x 3 = 24\n",
            "8 x 4 = 32\n",
            "8 x 5 = 40\n",
            "8 x 6 = 48\n",
            "8 x 7 = 56\n",
            "8 x 8 = 64\n",
            "8 x 9 = 72\n",
            "\n",
            "9 x 2 = 18\n",
            "9 x 3 = 27\n",
            "9 x 4 = 36\n",
            "9 x 5 = 45\n",
            "9 x 6 = 54\n",
            "9 x 7 = 63\n",
            "9 x 8 = 72\n",
            "9 x 9 = 81\n",
            "\n"
          ],
          "name": "stdout"
        }
      ]
    },
    {
      "cell_type": "markdown",
      "metadata": {
        "id": "kzg415O8ozaM"
      },
      "source": [
        "# Quiz.\n",
        "```\n",
        "*\n",
        "**\n",
        "***\n",
        "****\n",
        "*****\n",
        "```"
      ]
    },
    {
      "cell_type": "code",
      "metadata": {
        "colab": {
          "base_uri": "https://localhost:8080/"
        },
        "id": "to4lleI7m1tN",
        "outputId": "25598ef5-9177-40ab-c0b0-cab3d26af2c9"
      },
      "source": [
        "for i in range(5):\n",
        "  star = \"\"\n",
        "  for j in range(i+1):\n",
        "    star += \"*\"\n",
        "  print(star)"
      ],
      "execution_count": null,
      "outputs": [
        {
          "output_type": "stream",
          "text": [
            "*\n",
            "**\n",
            "***\n",
            "****\n",
            "*****\n"
          ],
          "name": "stdout"
        }
      ]
    },
    {
      "cell_type": "code",
      "metadata": {
        "colab": {
          "base_uri": "https://localhost:8080/"
        },
        "id": "Q20fp3rkpxJP",
        "outputId": "a6cd5a54-0562-4e08-94ec-7c0c6151631a"
      },
      "source": [
        "for i in range(5):\n",
        "  for j in range(i+1):\n",
        "    print(\"*\", end=\"\")\n",
        "  print()"
      ],
      "execution_count": null,
      "outputs": [
        {
          "output_type": "stream",
          "text": [
            "*\n",
            "**\n",
            "***\n",
            "****\n",
            "*****\n"
          ],
          "name": "stdout"
        }
      ]
    },
    {
      "cell_type": "markdown",
      "metadata": {
        "id": "PBue5JxgqefB"
      },
      "source": [
        "# Quiz.\n",
        "```\n",
        "    *\n",
        "   **\n",
        "  ***\n",
        " ****\n",
        "*****\n",
        "```"
      ]
    },
    {
      "cell_type": "code",
      "metadata": {
        "colab": {
          "base_uri": "https://localhost:8080/"
        },
        "id": "zXIJD_jKtMu_",
        "outputId": "c1c03d2d-152d-403d-a7b5-b4fb7c13d884"
      },
      "source": [
        "for i in range(5):\n",
        "  for j in range(4-i):\n",
        "    print(\" \", end=\"\")\n",
        "  for j in range(i+1):\n",
        "    print(\"*\", end=\"\")\n",
        "  print()"
      ],
      "execution_count": null,
      "outputs": [
        {
          "output_type": "stream",
          "text": [
            "    *\n",
            "   **\n",
            "  ***\n",
            " ****\n",
            "*****\n"
          ],
          "name": "stdout"
        }
      ]
    },
    {
      "cell_type": "code",
      "metadata": {
        "id": "sR1jDN4ZthiB"
      },
      "source": [
        "def print_space_of_lenth(length):\n",
        "  for j in range(length):\n",
        "    print(\" \", end=\"\") \n",
        "\n",
        "def print_star_of_length(length):\n",
        "  for j in range(length):\n",
        "    print(\"*\", end=\"\")\n",
        "\n",
        "for i in range(5):\n",
        "  print_space_of_lenth(4-i)\n",
        "  print_star_of_length(i+1)\n",
        "  print()"
      ],
      "execution_count": null,
      "outputs": []
    },
    {
      "cell_type": "code",
      "metadata": {
        "colab": {
          "base_uri": "https://localhost:8080/"
        },
        "id": "-g0F-_OJuKpy",
        "outputId": "1b3be2ff-3d6e-47ea-b2a5-c05a85acc6d9"
      },
      "source": [
        "def print_of_length(symbol, length):\n",
        "  for j in range(length):\n",
        "    print(symbol, end=\"\") \n",
        "\n",
        "for i in range(5):\n",
        "  print_of_length(\" \", 4-i)\n",
        "  print_of_length(\"*\", i+1)\n",
        "  print()"
      ],
      "execution_count": null,
      "outputs": [
        {
          "output_type": "stream",
          "text": [
            "    *\n",
            "   **\n",
            "  ***\n",
            " ****\n",
            "*****\n"
          ],
          "name": "stdout"
        }
      ]
    },
    {
      "cell_type": "markdown",
      "metadata": {
        "id": "_fSFwIPnsDW_"
      },
      "source": [
        "```\n",
        "         i    A를     *를\n",
        "AAAA*    0    4=4-0   1=0+1\n",
        "AAA**    1    3=4-1   2=1+1\n",
        "AA***    2    2=4-2   3=2+1\n",
        "A****    3    1=4-3   4=3+1\n",
        "*****    4    0=4-4   5=4+1\n",
        "```"
      ]
    },
    {
      "cell_type": "code",
      "metadata": {
        "colab": {
          "base_uri": "https://localhost:8080/"
        },
        "id": "ly2iSpchsUhd",
        "outputId": "fd8097e5-7f97-42ae-8324-1909786aea3d"
      },
      "source": [
        "for i in range(5):\n",
        "  for j in range(4-i):\n",
        "    print(\"A\", end=\"\")\n",
        "  for j in range(i+1):\n",
        "    print(\"*\", end=\"\")\n",
        "  print()"
      ],
      "execution_count": null,
      "outputs": [
        {
          "output_type": "stream",
          "text": [
            "AAAA*\n",
            "AAA**\n",
            "AA***\n",
            "A****\n",
            "*****\n"
          ],
          "name": "stdout"
        }
      ]
    },
    {
      "cell_type": "code",
      "metadata": {
        "colab": {
          "base_uri": "https://localhost:8080/"
        },
        "id": "XYxCO--ir14f",
        "outputId": "a04617d6-b85c-4429-87ee-a0cebda50f23"
      },
      "source": [
        "print(\"   **\")"
      ],
      "execution_count": null,
      "outputs": [
        {
          "output_type": "stream",
          "text": [
            "   **\n"
          ],
          "name": "stdout"
        }
      ]
    },
    {
      "cell_type": "code",
      "metadata": {
        "colab": {
          "base_uri": "https://localhost:8080/"
        },
        "id": "HDN7L05eprXV",
        "outputId": "01402aca-3364-4a2d-eac5-907d450ff664"
      },
      "source": [
        "print(\"hi\")\n",
        "print(\"hello\")\n",
        "print(\"tom\")\n",
        "\n",
        "print(\"hi\\nhello\\ntom\")"
      ],
      "execution_count": null,
      "outputs": [
        {
          "output_type": "stream",
          "text": [
            "hi\n",
            "hello\n",
            "tom\n",
            "hi\n",
            "hello\n",
            "tom\n"
          ],
          "name": "stdout"
        }
      ]
    },
    {
      "cell_type": "markdown",
      "metadata": {
        "id": "PGiaXYCGuwLK"
      },
      "source": [
        "# Quiz\n",
        "\n",
        "```\n",
        "                i    space     star\n",
        "    *           0    4=4-0=4-i 1=0*2+1=i*2+1\n",
        "   ***          1    3=4-1=4-i 3=1*2+1\n",
        "  *****         2    2=4-2=4-i 5=2*2+1\n",
        " *******        3    1=4-3=4-i 7=3*2+1\n",
        "*********       4    0=4-4=4-i 9=4*2+1\n",
        "```"
      ]
    },
    {
      "cell_type": "code",
      "metadata": {
        "colab": {
          "base_uri": "https://localhost:8080/"
        },
        "id": "KC9rBOH1zXjC",
        "outputId": "171fb916-cbb3-4bdb-aeea-74e9e7f9fbc6"
      },
      "source": [
        "print(\"\"\"                i    space     star\n",
        "    *           0    4=4-0=4-i 1=0*2+1=i*2+1\n",
        "   ***          1    3=4-1=4-i 3=1*2+1\n",
        "  *****         2    2=4-2=4-i 5=2*2+1\n",
        " *******        3    1=4-3=4-i 7=3*2+1\n",
        "*********       4    0=4-4=4-i 9=4*2+1\"\"\")"
      ],
      "execution_count": null,
      "outputs": [
        {
          "output_type": "stream",
          "text": [
            "                i    space     star\n",
            "    *           0    4=4-0=4-i 1=0*2+1=i*2+1\n",
            "   ***          1    3=4-1=4-i 3=1*2+1\n",
            "  *****         2    2=4-2=4-i 5=2*2+1\n",
            " *******        3    1=4-3=4-i 7=3*2+1\n",
            "*********       4    0=4-4=4-i 9=4*2+1\n"
          ],
          "name": "stdout"
        }
      ]
    },
    {
      "cell_type": "code",
      "metadata": {
        "colab": {
          "base_uri": "https://localhost:8080/"
        },
        "id": "hNUm1y8gzdHl",
        "outputId": "edb445d3-89c3-4e45-fc38-c1be8140252d"
      },
      "source": [
        "def print_of_length(symbol, length):\n",
        "  for j in range(length):\n",
        "    print(symbol, end=\"\") \n",
        "\n",
        "for i in range(5):\n",
        "  print_of_length(\" \", 4-i)\n",
        "  print_of_length(\"*\", i*2+1)\n",
        "  print()"
      ],
      "execution_count": null,
      "outputs": [
        {
          "output_type": "stream",
          "text": [
            "    *\n",
            "   ***\n",
            "  *****\n",
            " *******\n",
            "*********\n"
          ],
          "name": "stdout"
        }
      ]
    },
    {
      "cell_type": "markdown",
      "metadata": {
        "id": "fTtX-ctLz9Zh"
      },
      "source": [
        "# Quiz.\n",
        "```\n",
        "                i    space     star\n",
        "    *           0    4=4-0=4-i 1=0*2+1=i*2+1\n",
        "   ***          1    3=4-1=4-i 3=1*2+1\n",
        "  *****         2    2=4-2=4-i 5=2*2+1\n",
        " *******        3    1=4-3=4-i 7=3*2+1\n",
        "*********       4    0=4-4=4-i 9=4*2+1\n",
        " *******\n",
        "  *****\n",
        "   ***\n",
        "    *\n",
        "```\n",
        "```\n",
        "1\n",
        "2\n",
        "3\n",
        "4\n",
        "5\n",
        "4\n",
        "3\n",
        "2\n",
        "1\n",
        "```\n"
      ]
    },
    {
      "cell_type": "code",
      "metadata": {
        "colab": {
          "base_uri": "https://localhost:8080/"
        },
        "id": "3WIeDR2G1P3R",
        "outputId": "197ad126-e686-42f7-8452-bd7be8ff021c"
      },
      "source": [
        "for i in range(1,6):\n",
        "  print(i)\n",
        "for i in range(4,0,-1):\n",
        "  print(i)"
      ],
      "execution_count": null,
      "outputs": [
        {
          "output_type": "stream",
          "text": [
            "1\n",
            "2\n",
            "3\n",
            "4\n",
            "5\n",
            "4\n",
            "3\n",
            "2\n",
            "1\n"
          ],
          "name": "stdout"
        }
      ]
    },
    {
      "cell_type": "code",
      "metadata": {
        "id": "cXJBMd9P1VKQ"
      },
      "source": [
        "def print_of_length(symbol, length):\n",
        "  for j in range(length):\n",
        "    print(symbol, end=\"\") \n",
        "\n",
        "for i in range(5):\n",
        "  print_of_length(\" \", 4-i)\n",
        "  print_of_length(\"*\", i*2+1)\n",
        "  print()"
      ],
      "execution_count": null,
      "outputs": []
    },
    {
      "cell_type": "code",
      "metadata": {
        "colab": {
          "base_uri": "https://localhost:8080/"
        },
        "id": "nC_Bo_Rl2wP_",
        "outputId": "3d765ce8-5056-45e2-c809-7d131f67c705"
      },
      "source": [
        "for i in range(5):\n",
        "  print(4-i, i*2+1)\n",
        "\n",
        "for i in range(4,0,-1):\n",
        "  print(5-i, i*2-1)"
      ],
      "execution_count": null,
      "outputs": [
        {
          "output_type": "stream",
          "text": [
            "4 1\n",
            "3 3\n",
            "2 5\n",
            "1 7\n",
            "0 9\n",
            "1 7\n",
            "2 5\n",
            "3 3\n",
            "4 1\n"
          ],
          "name": "stdout"
        }
      ]
    },
    {
      "cell_type": "code",
      "metadata": {
        "colab": {
          "base_uri": "https://localhost:8080/"
        },
        "id": "EOODX79n0C38",
        "outputId": "641a942d-d99d-4b1b-cb8c-c09eb61e895c"
      },
      "source": [
        "def print_of_length(symbol, length):\n",
        "  for j in range(length):\n",
        "    print(symbol, end=\"\") \n",
        "\n",
        "for i in range(5):\n",
        "  print_of_length(\" \", 4-i)\n",
        "  print_of_length(\"*\", i*2+1)\n",
        "  # print(4-i, i*2+1)\n",
        "  print()\n",
        "\n",
        "for i in range(4,0,-1):\n",
        "  print_of_length(\" \", 5-i)\n",
        "  print_of_length(\"*\", i*2-1)  \n",
        "  # print(5-i, i*2-1)\n",
        "  print()\n",
        "\n"
      ],
      "execution_count": null,
      "outputs": [
        {
          "output_type": "stream",
          "text": [
            "    *\n",
            "   ***\n",
            "  *****\n",
            " *******\n",
            "*********\n",
            " *******\n",
            "  *****\n",
            "   ***\n",
            "    *\n"
          ],
          "name": "stdout"
        }
      ]
    },
    {
      "cell_type": "markdown",
      "metadata": {
        "id": "8grJj4Iw8QPd"
      },
      "source": [
        "# while 루프"
      ]
    },
    {
      "cell_type": "code",
      "metadata": {
        "colab": {
          "base_uri": "https://localhost:8080/"
        },
        "id": "PU_d-4fu3H-B",
        "outputId": "316dac85-c116-44b6-fc37-3b59c0838587"
      },
      "source": [
        "count = 0\n",
        "while True:\n",
        "  print(count)\n",
        "  count += 1\n",
        "  if count >=5:\n",
        "    break"
      ],
      "execution_count": null,
      "outputs": [
        {
          "output_type": "stream",
          "text": [
            "0\n",
            "1\n",
            "2\n",
            "3\n",
            "4\n"
          ],
          "name": "stdout"
        }
      ]
    },
    {
      "cell_type": "code",
      "metadata": {
        "colab": {
          "base_uri": "https://localhost:8080/"
        },
        "id": "U2A7VK2M4JwH",
        "outputId": "ca5db1a7-b4ed-42a6-b68b-c89f732bc53d"
      },
      "source": [
        "for i in range(5):\n",
        "  print(i)"
      ],
      "execution_count": null,
      "outputs": [
        {
          "output_type": "stream",
          "text": [
            "0\n",
            "1\n",
            "2\n",
            "3\n",
            "4\n"
          ],
          "name": "stdout"
        }
      ]
    },
    {
      "cell_type": "markdown",
      "metadata": {
        "id": "NDtPiX308PA0"
      },
      "source": [
        "# Quiz. 다음 for를 while문으로 변경"
      ]
    },
    {
      "cell_type": "code",
      "metadata": {
        "colab": {
          "base_uri": "https://localhost:8080/"
        },
        "id": "PJsoPCtM4Nen",
        "outputId": "239592a2-873c-4db4-9752-4e1544ef40fe"
      },
      "source": [
        "for i in range(1,5):\n",
        "  print(i)"
      ],
      "execution_count": null,
      "outputs": [
        {
          "output_type": "stream",
          "text": [
            "1\n",
            "2\n",
            "3\n",
            "4\n"
          ],
          "name": "stdout"
        }
      ]
    },
    {
      "cell_type": "code",
      "metadata": {
        "colab": {
          "base_uri": "https://localhost:8080/"
        },
        "id": "KPU6N17h5H20",
        "outputId": "db068f54-f2b6-4925-c4f6-211bcd5ef5a5"
      },
      "source": [
        "count = 1\n",
        "while True:\n",
        "  print(count)\n",
        "  count += 1\n",
        "  if count >=5:\n",
        "    break"
      ],
      "execution_count": null,
      "outputs": [
        {
          "output_type": "stream",
          "text": [
            "1\n",
            "2\n",
            "3\n",
            "4\n"
          ],
          "name": "stdout"
        }
      ]
    },
    {
      "cell_type": "markdown",
      "metadata": {
        "id": "cPq8J0Ht8OIP"
      },
      "source": [
        "# Quiz. 다음 for를 while문으로 변경"
      ]
    },
    {
      "cell_type": "code",
      "metadata": {
        "colab": {
          "base_uri": "https://localhost:8080/"
        },
        "id": "1vyyUf2e5Kzw",
        "outputId": "e5844ca9-ca3e-4c63-b7bb-22bb7cef6b48"
      },
      "source": [
        "for i in range(1,5):\n",
        "  print(\"hello\", i)"
      ],
      "execution_count": null,
      "outputs": [
        {
          "output_type": "stream",
          "text": [
            "hello 1\n",
            "hello 2\n",
            "hello 3\n",
            "hello 4\n"
          ],
          "name": "stdout"
        }
      ]
    },
    {
      "cell_type": "code",
      "metadata": {
        "colab": {
          "base_uri": "https://localhost:8080/"
        },
        "id": "1arW_kzw5T7c",
        "outputId": "3debd0e9-ee66-4c40-951d-eed432d69c12"
      },
      "source": [
        "count = 1\n",
        "while True:\n",
        "  print(\"hello\", count)\n",
        "  count += 1\n",
        "  if count>=5:\n",
        "    break"
      ],
      "execution_count": null,
      "outputs": [
        {
          "output_type": "stream",
          "text": [
            "hello 1\n",
            "hello 2\n",
            "hello 3\n",
            "hello 4\n"
          ],
          "name": "stdout"
        }
      ]
    },
    {
      "cell_type": "markdown",
      "metadata": {
        "id": "EWMgfdeK8NUj"
      },
      "source": [
        "# Quiz. 다음 for를 while문으로 변경"
      ]
    },
    {
      "cell_type": "code",
      "metadata": {
        "id": "h3HMMNEC8NKV"
      },
      "source": [
        ""
      ],
      "execution_count": null,
      "outputs": []
    },
    {
      "cell_type": "code",
      "metadata": {
        "colab": {
          "base_uri": "https://localhost:8080/"
        },
        "id": "bGbqwPYs5bxW",
        "outputId": "6496687b-8b0c-417e-9645-f0f9fd831e91"
      },
      "source": [
        "for i in range(1,5,2):\n",
        "  print(\"hello\", i)"
      ],
      "execution_count": null,
      "outputs": [
        {
          "output_type": "stream",
          "text": [
            "hello 1\n",
            "hello 3\n"
          ],
          "name": "stdout"
        }
      ]
    },
    {
      "cell_type": "code",
      "metadata": {
        "colab": {
          "base_uri": "https://localhost:8080/"
        },
        "id": "PcqIN8mE5o4O",
        "outputId": "22b692cc-791a-46be-c3d0-35144c6aa9ec"
      },
      "source": [
        "count = 1\n",
        "while True:\n",
        "  print(\"hello\", count)\n",
        "  count += 2\n",
        "  if count>=5:\n",
        "    break"
      ],
      "execution_count": null,
      "outputs": [
        {
          "output_type": "stream",
          "text": [
            "hello 1\n",
            "hello 3\n"
          ],
          "name": "stdout"
        }
      ]
    },
    {
      "cell_type": "code",
      "metadata": {
        "colab": {
          "base_uri": "https://localhost:8080/"
        },
        "id": "42MI8Kvt51Ti",
        "outputId": "acd7414e-073f-4049-9171-aa309db3d611"
      },
      "source": [
        "START= 1\n",
        "END = 5\n",
        "STEP = 2\n",
        "\n",
        "for i in range(START, END, STEP):\n",
        "  print(\"hello\", i)"
      ],
      "execution_count": null,
      "outputs": [
        {
          "output_type": "stream",
          "text": [
            "hello 1\n",
            "hello 3\n"
          ],
          "name": "stdout"
        }
      ]
    },
    {
      "cell_type": "code",
      "metadata": {
        "colab": {
          "base_uri": "https://localhost:8080/"
        },
        "id": "yqlffqof59bQ",
        "outputId": "3036970f-b3c5-4d78-a0aa-458007a79e4e"
      },
      "source": [
        "START= 1\n",
        "END = 5\n",
        "STEP = 2\n",
        "\n",
        "\n",
        "count = START\n",
        "while True:\n",
        "  print(\"hello\", count)\n",
        "  count += STEP\n",
        "  if count>=END:\n",
        "    break\n",
        "\n",
        "for i in range(START, END, STEP):\n",
        "  print(\"hello\", i)    "
      ],
      "execution_count": null,
      "outputs": [
        {
          "output_type": "stream",
          "text": [
            "hello 1\n",
            "hello 3\n",
            "hello 1\n",
            "hello 3\n"
          ],
          "name": "stdout"
        }
      ]
    },
    {
      "cell_type": "code",
      "metadata": {
        "colab": {
          "base_uri": "https://localhost:8080/"
        },
        "id": "VKI-X85767q3",
        "outputId": "4213127b-519a-4bc1-daa8-15210023191c"
      },
      "source": [
        "START= 1\n",
        "END = 5\n",
        "STEP = 2\n",
        "\n",
        "count = START\n",
        "while count < END:\n",
        "  print(\"hello\", count)\n",
        "  count += STEP\n"
      ],
      "execution_count": null,
      "outputs": [
        {
          "output_type": "stream",
          "text": [
            "hello 1\n",
            "hello 3\n"
          ],
          "name": "stdout"
        }
      ]
    },
    {
      "cell_type": "markdown",
      "metadata": {
        "id": "ch1g-7sS8Ee3"
      },
      "source": [
        "# Quiz. 다음 for를 while문으로 변경"
      ]
    },
    {
      "cell_type": "code",
      "metadata": {
        "id": "5LbZ2q2f7n5e"
      },
      "source": [
        "for i in range(5, 1, -1):\n",
        "  print(\"hello\", i)"
      ],
      "execution_count": null,
      "outputs": []
    },
    {
      "cell_type": "code",
      "metadata": {
        "colab": {
          "base_uri": "https://localhost:8080/"
        },
        "id": "gy1aAGZN7uLA",
        "outputId": "b7b29138-6297-477a-9794-dc1c5f1f4763"
      },
      "source": [
        "count = 5\n",
        "while True:\n",
        "  print(\"hello\", count)\n",
        "  count -= 1\n",
        "  if count<=1:\n",
        "    break"
      ],
      "execution_count": null,
      "outputs": [
        {
          "output_type": "stream",
          "text": [
            "hello 5\n",
            "hello 4\n",
            "hello 3\n",
            "hello 2\n"
          ],
          "name": "stdout"
        }
      ]
    },
    {
      "cell_type": "code",
      "metadata": {
        "colab": {
          "base_uri": "https://localhost:8080/"
        },
        "id": "7W7ILnKG7vwN",
        "outputId": "1b40d02f-9d50-45c7-c520-250c60fb9886"
      },
      "source": [
        "START= 5\n",
        "END = 1\n",
        "STEP = -1\n",
        "\n",
        "count = START\n",
        "while count > END:\n",
        "  print(\"hello\", count)\n",
        "  count += STEP\n"
      ],
      "execution_count": null,
      "outputs": [
        {
          "output_type": "stream",
          "text": [
            "hello 5\n",
            "hello 4\n",
            "hello 3\n",
            "hello 2\n"
          ],
          "name": "stdout"
        }
      ]
    },
    {
      "cell_type": "markdown",
      "metadata": {
        "id": "VIS_gJVR82li"
      },
      "source": [
        "# try except"
      ]
    },
    {
      "cell_type": "code",
      "metadata": {
        "colab": {
          "base_uri": "https://localhost:8080/"
        },
        "id": "3VTqdJFk84jO",
        "outputId": "179a46db-7f20-4cb9-8660-addf95b87c5d"
      },
      "source": [
        "print(int(3.1))\n",
        "try:\n",
        "  print(int(\"3.1\"))\n",
        "except:\n",
        "  pass\n",
        "print(\"hello\")"
      ],
      "execution_count": null,
      "outputs": [
        {
          "output_type": "stream",
          "text": [
            "3\n",
            "hello\n"
          ],
          "name": "stdout"
        }
      ]
    },
    {
      "cell_type": "markdown",
      "metadata": {
        "id": "eCLNt1Jz-Isg"
      },
      "source": [
        "# Quiz. 사용자 입력을 받아서 그 줄수만큼 삼각형 그리기. 잘못된 줄수가 들어오면 무시하고 다시 입력 받는다. 이를 무한 반복\n",
        "```\n",
        "hi\n",
        "3\n",
        "*\n",
        "**\n",
        "***\n",
        "3.1\n",
        "5\n",
        "*\n",
        "**\n",
        "***\n",
        "****\n",
        "*****\n",
        "```"
      ]
    },
    {
      "cell_type": "code",
      "metadata": {
        "colab": {
          "base_uri": "https://localhost:8080/"
        },
        "id": "WvRCby5S-Hky",
        "outputId": "81ab9ee2-3f63-41c4-aacd-4abdf5f47f3e"
      },
      "source": [
        "i = input(\"정수를 입력하세요.\")\n",
        "i = int(i)\n",
        "\n",
        "print(\"hello\", i)"
      ],
      "execution_count": null,
      "outputs": [
        {
          "output_type": "stream",
          "text": [
            "정수를 입력하세요.3\n",
            "hello 3\n"
          ],
          "name": "stdout"
        }
      ]
    },
    {
      "cell_type": "code",
      "metadata": {
        "colab": {
          "base_uri": "https://localhost:8080/",
          "height": 804
        },
        "id": "v09k9wVn_7Yx",
        "outputId": "e1c48dca-d437-4a81-d58d-4b424746cf7b"
      },
      "source": [
        "def get_input():\n",
        "  while True:\n",
        "    i = input()\n",
        "    try:\n",
        "      size = int(i)\n",
        "      break\n",
        "    except:\n",
        "      pass\n",
        "  return size\n",
        "def print_of_length(symbol, length):\n",
        "  for j in range(length):\n",
        "    print(symbol, end=\"\") \n",
        "def draw_triangle(size):\n",
        "  for i in range(size):\n",
        "    print_of_length(\"*\", i+1)\n",
        "    print()\n",
        "while True:\n",
        "  size = get_input()\n",
        "  draw_triangle(size)"
      ],
      "execution_count": null,
      "outputs": [
        {
          "output_type": "stream",
          "text": [
            "hi\n",
            "3\n",
            "*\n",
            "**\n",
            "***\n",
            "3.1\n",
            "5\n",
            "*\n",
            "**\n",
            "***\n",
            "****\n",
            "*****\n"
          ],
          "name": "stdout"
        },
        {
          "output_type": "error",
          "ename": "KeyboardInterrupt",
          "evalue": "ignored",
          "traceback": [
            "\u001b[0;31m---------------------------------------------------------------------------\u001b[0m",
            "\u001b[0;31mKeyboardInterrupt\u001b[0m                         Traceback (most recent call last)",
            "\u001b[0;32m/usr/local/lib/python3.7/dist-packages/ipykernel/kernelbase.py\u001b[0m in \u001b[0;36m_input_request\u001b[0;34m(self, prompt, ident, parent, password)\u001b[0m\n\u001b[1;32m    728\u001b[0m             \u001b[0;32mtry\u001b[0m\u001b[0;34m:\u001b[0m\u001b[0;34m\u001b[0m\u001b[0;34m\u001b[0m\u001b[0m\n\u001b[0;32m--> 729\u001b[0;31m                 \u001b[0mident\u001b[0m\u001b[0;34m,\u001b[0m \u001b[0mreply\u001b[0m \u001b[0;34m=\u001b[0m \u001b[0mself\u001b[0m\u001b[0;34m.\u001b[0m\u001b[0msession\u001b[0m\u001b[0;34m.\u001b[0m\u001b[0mrecv\u001b[0m\u001b[0;34m(\u001b[0m\u001b[0mself\u001b[0m\u001b[0;34m.\u001b[0m\u001b[0mstdin_socket\u001b[0m\u001b[0;34m,\u001b[0m \u001b[0;36m0\u001b[0m\u001b[0;34m)\u001b[0m\u001b[0;34m\u001b[0m\u001b[0;34m\u001b[0m\u001b[0m\n\u001b[0m\u001b[1;32m    730\u001b[0m             \u001b[0;32mexcept\u001b[0m \u001b[0mException\u001b[0m\u001b[0;34m:\u001b[0m\u001b[0;34m\u001b[0m\u001b[0;34m\u001b[0m\u001b[0m\n",
            "\u001b[0;32m/usr/local/lib/python3.7/dist-packages/jupyter_client/session.py\u001b[0m in \u001b[0;36mrecv\u001b[0;34m(self, socket, mode, content, copy)\u001b[0m\n\u001b[1;32m    802\u001b[0m         \u001b[0;32mtry\u001b[0m\u001b[0;34m:\u001b[0m\u001b[0;34m\u001b[0m\u001b[0;34m\u001b[0m\u001b[0m\n\u001b[0;32m--> 803\u001b[0;31m             \u001b[0mmsg_list\u001b[0m \u001b[0;34m=\u001b[0m \u001b[0msocket\u001b[0m\u001b[0;34m.\u001b[0m\u001b[0mrecv_multipart\u001b[0m\u001b[0;34m(\u001b[0m\u001b[0mmode\u001b[0m\u001b[0;34m,\u001b[0m \u001b[0mcopy\u001b[0m\u001b[0;34m=\u001b[0m\u001b[0mcopy\u001b[0m\u001b[0;34m)\u001b[0m\u001b[0;34m\u001b[0m\u001b[0;34m\u001b[0m\u001b[0m\n\u001b[0m\u001b[1;32m    804\u001b[0m         \u001b[0;32mexcept\u001b[0m \u001b[0mzmq\u001b[0m\u001b[0;34m.\u001b[0m\u001b[0mZMQError\u001b[0m \u001b[0;32mas\u001b[0m \u001b[0me\u001b[0m\u001b[0;34m:\u001b[0m\u001b[0;34m\u001b[0m\u001b[0;34m\u001b[0m\u001b[0m\n",
            "\u001b[0;32m/usr/local/lib/python3.7/dist-packages/zmq/sugar/socket.py\u001b[0m in \u001b[0;36mrecv_multipart\u001b[0;34m(self, flags, copy, track)\u001b[0m\n\u001b[1;32m    582\u001b[0m         \"\"\"\n\u001b[0;32m--> 583\u001b[0;31m         \u001b[0mparts\u001b[0m \u001b[0;34m=\u001b[0m \u001b[0;34m[\u001b[0m\u001b[0mself\u001b[0m\u001b[0;34m.\u001b[0m\u001b[0mrecv\u001b[0m\u001b[0;34m(\u001b[0m\u001b[0mflags\u001b[0m\u001b[0;34m,\u001b[0m \u001b[0mcopy\u001b[0m\u001b[0;34m=\u001b[0m\u001b[0mcopy\u001b[0m\u001b[0;34m,\u001b[0m \u001b[0mtrack\u001b[0m\u001b[0;34m=\u001b[0m\u001b[0mtrack\u001b[0m\u001b[0;34m)\u001b[0m\u001b[0;34m]\u001b[0m\u001b[0;34m\u001b[0m\u001b[0;34m\u001b[0m\u001b[0m\n\u001b[0m\u001b[1;32m    584\u001b[0m         \u001b[0;31m# have first part already, only loop while more to receive\u001b[0m\u001b[0;34m\u001b[0m\u001b[0;34m\u001b[0m\u001b[0;34m\u001b[0m\u001b[0m\n",
            "\u001b[0;32mzmq/backend/cython/socket.pyx\u001b[0m in \u001b[0;36mzmq.backend.cython.socket.Socket.recv\u001b[0;34m()\u001b[0m\n",
            "\u001b[0;32mzmq/backend/cython/socket.pyx\u001b[0m in \u001b[0;36mzmq.backend.cython.socket.Socket.recv\u001b[0;34m()\u001b[0m\n",
            "\u001b[0;32mzmq/backend/cython/socket.pyx\u001b[0m in \u001b[0;36mzmq.backend.cython.socket._recv_copy\u001b[0;34m()\u001b[0m\n",
            "\u001b[0;32m/usr/local/lib/python3.7/dist-packages/zmq/backend/cython/checkrc.pxd\u001b[0m in \u001b[0;36mzmq.backend.cython.checkrc._check_rc\u001b[0;34m()\u001b[0m\n",
            "\u001b[0;31mKeyboardInterrupt\u001b[0m: ",
            "\nDuring handling of the above exception, another exception occurred:\n",
            "\u001b[0;31mKeyboardInterrupt\u001b[0m                         Traceback (most recent call last)",
            "\u001b[0;32m<ipython-input-71-926e7fbda9d1>\u001b[0m in \u001b[0;36m<module>\u001b[0;34m()\u001b[0m\n\u001b[1;32m     21\u001b[0m \u001b[0;34m\u001b[0m\u001b[0m\n\u001b[1;32m     22\u001b[0m \u001b[0;32mwhile\u001b[0m \u001b[0;32mTrue\u001b[0m\u001b[0;34m:\u001b[0m\u001b[0;34m\u001b[0m\u001b[0;34m\u001b[0m\u001b[0m\n\u001b[0;32m---> 23\u001b[0;31m   \u001b[0msize\u001b[0m \u001b[0;34m=\u001b[0m \u001b[0mget_input\u001b[0m\u001b[0;34m(\u001b[0m\u001b[0;34m)\u001b[0m\u001b[0;34m\u001b[0m\u001b[0;34m\u001b[0m\u001b[0m\n\u001b[0m\u001b[1;32m     24\u001b[0m   \u001b[0mdraw_triangle\u001b[0m\u001b[0;34m(\u001b[0m\u001b[0msize\u001b[0m\u001b[0;34m)\u001b[0m\u001b[0;34m\u001b[0m\u001b[0;34m\u001b[0m\u001b[0m\n",
            "\u001b[0;32m<ipython-input-71-926e7fbda9d1>\u001b[0m in \u001b[0;36mget_input\u001b[0;34m()\u001b[0m\n\u001b[1;32m      2\u001b[0m \u001b[0;34m\u001b[0m\u001b[0m\n\u001b[1;32m      3\u001b[0m   \u001b[0;32mwhile\u001b[0m \u001b[0;32mTrue\u001b[0m\u001b[0;34m:\u001b[0m\u001b[0;34m\u001b[0m\u001b[0;34m\u001b[0m\u001b[0m\n\u001b[0;32m----> 4\u001b[0;31m     \u001b[0mi\u001b[0m \u001b[0;34m=\u001b[0m \u001b[0minput\u001b[0m\u001b[0;34m(\u001b[0m\u001b[0;34m)\u001b[0m\u001b[0;34m\u001b[0m\u001b[0;34m\u001b[0m\u001b[0m\n\u001b[0m\u001b[1;32m      5\u001b[0m     \u001b[0;32mtry\u001b[0m\u001b[0;34m:\u001b[0m\u001b[0;34m\u001b[0m\u001b[0;34m\u001b[0m\u001b[0m\n\u001b[1;32m      6\u001b[0m       \u001b[0msize\u001b[0m \u001b[0;34m=\u001b[0m \u001b[0mint\u001b[0m\u001b[0;34m(\u001b[0m\u001b[0mi\u001b[0m\u001b[0;34m)\u001b[0m\u001b[0;34m\u001b[0m\u001b[0;34m\u001b[0m\u001b[0m\n",
            "\u001b[0;32m/usr/local/lib/python3.7/dist-packages/ipykernel/kernelbase.py\u001b[0m in \u001b[0;36mraw_input\u001b[0;34m(self, prompt)\u001b[0m\n\u001b[1;32m    702\u001b[0m             \u001b[0mself\u001b[0m\u001b[0;34m.\u001b[0m\u001b[0m_parent_ident\u001b[0m\u001b[0;34m,\u001b[0m\u001b[0;34m\u001b[0m\u001b[0;34m\u001b[0m\u001b[0m\n\u001b[1;32m    703\u001b[0m             \u001b[0mself\u001b[0m\u001b[0;34m.\u001b[0m\u001b[0m_parent_header\u001b[0m\u001b[0;34m,\u001b[0m\u001b[0;34m\u001b[0m\u001b[0;34m\u001b[0m\u001b[0m\n\u001b[0;32m--> 704\u001b[0;31m             \u001b[0mpassword\u001b[0m\u001b[0;34m=\u001b[0m\u001b[0;32mFalse\u001b[0m\u001b[0;34m,\u001b[0m\u001b[0;34m\u001b[0m\u001b[0;34m\u001b[0m\u001b[0m\n\u001b[0m\u001b[1;32m    705\u001b[0m         )\n\u001b[1;32m    706\u001b[0m \u001b[0;34m\u001b[0m\u001b[0m\n",
            "\u001b[0;32m/usr/local/lib/python3.7/dist-packages/ipykernel/kernelbase.py\u001b[0m in \u001b[0;36m_input_request\u001b[0;34m(self, prompt, ident, parent, password)\u001b[0m\n\u001b[1;32m    732\u001b[0m             \u001b[0;32mexcept\u001b[0m \u001b[0mKeyboardInterrupt\u001b[0m\u001b[0;34m:\u001b[0m\u001b[0;34m\u001b[0m\u001b[0;34m\u001b[0m\u001b[0m\n\u001b[1;32m    733\u001b[0m                 \u001b[0;31m# re-raise KeyboardInterrupt, to truncate traceback\u001b[0m\u001b[0;34m\u001b[0m\u001b[0;34m\u001b[0m\u001b[0;34m\u001b[0m\u001b[0m\n\u001b[0;32m--> 734\u001b[0;31m                 \u001b[0;32mraise\u001b[0m \u001b[0mKeyboardInterrupt\u001b[0m\u001b[0;34m\u001b[0m\u001b[0;34m\u001b[0m\u001b[0m\n\u001b[0m\u001b[1;32m    735\u001b[0m             \u001b[0;32melse\u001b[0m\u001b[0;34m:\u001b[0m\u001b[0;34m\u001b[0m\u001b[0;34m\u001b[0m\u001b[0m\n\u001b[1;32m    736\u001b[0m                 \u001b[0;32mbreak\u001b[0m\u001b[0;34m\u001b[0m\u001b[0;34m\u001b[0m\u001b[0m\n",
            "\u001b[0;31mKeyboardInterrupt\u001b[0m: "
          ]
        }
      ]
    },
    {
      "cell_type": "markdown",
      "metadata": {
        "id": "Rct0y7aRB67o"
      },
      "source": [
        "# Quiz. 사용자가 'exit'를 입력하면 실행 중지"
      ]
    },
    {
      "cell_type": "code",
      "metadata": {
        "colab": {
          "base_uri": "https://localhost:8080/"
        },
        "id": "2hY1assCB-_u",
        "outputId": "68ee3e4c-8cc2-4a25-c8b9-91214ddace3b"
      },
      "source": [
        "def get_input():\n",
        "  while True:\n",
        "    i = input()\n",
        "    if i == \"exit\":\n",
        "      return -1\n",
        "    try:\n",
        "      size = int(i)\n",
        "      break\n",
        "    except:\n",
        "      pass\n",
        "  return size\n",
        "def print_of_length(symbol, length):\n",
        "  for j in range(length):\n",
        "    print(symbol, end=\"\") \n",
        "def draw_triangle(size):\n",
        "  for i in range(size):\n",
        "    print_of_length(\"*\", i+1)\n",
        "    print()\n",
        "while True:\n",
        "  size = get_input()\n",
        "  if size==-1:\n",
        "    break\n",
        "  draw_triangle(size)"
      ],
      "execution_count": null,
      "outputs": [
        {
          "output_type": "stream",
          "text": [
            "3\n",
            "*\n",
            "**\n",
            "***\n",
            "exit\n"
          ],
          "name": "stdout"
        }
      ]
    },
    {
      "cell_type": "markdown",
      "metadata": {
        "id": "i45MSU8VDkD6"
      },
      "source": [
        "# Quiz. 입력을 받아 2배 출력. 무한 반복. exit 입력 시 중지\n",
        "\n",
        "```\n",
        "1\n",
        "2.0\n",
        "-1\n",
        "-2.0\n",
        "3.1\n",
        "6.2\n",
        "exit\n",
        "```"
      ]
    },
    {
      "cell_type": "code",
      "metadata": {
        "colab": {
          "base_uri": "https://localhost:8080/"
        },
        "id": "458HUNOsDqya",
        "outputId": "2e9362ee-3d94-4e44-b53a-ff3c28ba2d3e"
      },
      "source": [
        "while True:\n",
        "  i = input()\n",
        "  if i == \"exit\":\n",
        "    break\n",
        "  try:\n",
        "    n = float(i)\n",
        "  except:\n",
        "    pass\n",
        "  print(n*2)"
      ],
      "execution_count": null,
      "outputs": [
        {
          "output_type": "stream",
          "text": [
            "2\n",
            "4.0\n",
            "3.1\n",
            "6.2\n",
            "-3\n",
            "-6.0\n",
            "exit\n"
          ],
          "name": "stdout"
        }
      ]
    },
    {
      "cell_type": "markdown",
      "metadata": {
        "id": "DcbfB4zrb9Ni"
      },
      "source": [
        "# 리스트"
      ]
    },
    {
      "cell_type": "code",
      "metadata": {
        "colab": {
          "base_uri": "https://localhost:8080/"
        },
        "id": "QsAv5avEcEkS",
        "outputId": "c15cf1fa-ebe1-4d57-9d9d-890657d0e547"
      },
      "source": [
        "l = [ 0, 1, 2, 3, 4 ]\n",
        "print(l)"
      ],
      "execution_count": null,
      "outputs": [
        {
          "output_type": "stream",
          "text": [
            "[0, 1, 2, 3, 4]\n"
          ],
          "name": "stdout"
        }
      ]
    },
    {
      "cell_type": "code",
      "metadata": {
        "colab": {
          "base_uri": "https://localhost:8080/"
        },
        "id": "G-qzsoDvcJx0",
        "outputId": "6cfacd57-2f7c-4153-ce98-be7dde8ca0e4"
      },
      "source": [
        "names = [ \"tom\", \"jerry\", \"철수\", \"영희\" ]\n",
        "print(names)"
      ],
      "execution_count": null,
      "outputs": [
        {
          "output_type": "stream",
          "text": [
            "['tom', 'jerry', '철수', '영희']\n"
          ],
          "name": "stdout"
        }
      ]
    },
    {
      "cell_type": "markdown",
      "metadata": {
        "id": "FfhlsVGFcc8c"
      },
      "source": [
        "```\n",
        "hi tom\n",
        "hi jerry\n",
        "hi 철수\n",
        "hi 영희\n",
        "```"
      ]
    },
    {
      "cell_type": "code",
      "metadata": {
        "colab": {
          "base_uri": "https://localhost:8080/"
        },
        "id": "Yo5twTTycUIY",
        "outputId": "fc4e49a3-3b05-4f01-a855-2090229e3866"
      },
      "source": [
        "name1 = \"tom\"\n",
        "name2 = \"jerry\"\n",
        "name3 = \"철수\"\n",
        "name4 = \"영희\"\n",
        "\n",
        "print(\"hi {}\".format(name1))\n",
        "print(\"hi {}\".format(name2))\n",
        "print(\"hi {}\".format(name3))\n",
        "print(\"hi {}\".format(name4))\n"
      ],
      "execution_count": null,
      "outputs": [
        {
          "output_type": "stream",
          "text": [
            "hi tom\n",
            "hi jerry\n",
            "hi 철수\n",
            "hi 영희\n"
          ],
          "name": "stdout"
        }
      ]
    },
    {
      "cell_type": "code",
      "metadata": {
        "colab": {
          "base_uri": "https://localhost:8080/"
        },
        "id": "Krxz_rq1cRHI",
        "outputId": "fe19efb7-3aba-4498-ce89-e813c5247baf"
      },
      "source": [
        "names = [ \"tom\", \"jerry\", \"철수\", \"영희\" ]\n",
        "\n",
        "for name in names:\n",
        "  print(\"hi {}\".format(name))"
      ],
      "execution_count": null,
      "outputs": [
        {
          "output_type": "stream",
          "text": [
            "hi tom\n",
            "hi jerry\n",
            "hi 철수\n",
            "hi 영희\n"
          ],
          "name": "stdout"
        }
      ]
    },
    {
      "cell_type": "code",
      "metadata": {
        "colab": {
          "base_uri": "https://localhost:8080/"
        },
        "id": "tuC3LfoVdcsl",
        "outputId": "8cded589-04a2-4152-ac36-d750a8b934e4"
      },
      "source": [
        "numbers = [ 0, 1, 2, 3, 4, 5, 6, 7, 8, 9 ]\n",
        "print(numbers)"
      ],
      "execution_count": null,
      "outputs": [
        {
          "output_type": "stream",
          "text": [
            "[0, 1, 2, 3, 4, 5, 6, 7, 8, 9]\n"
          ],
          "name": "stdout"
        }
      ]
    },
    {
      "cell_type": "code",
      "metadata": {
        "colab": {
          "base_uri": "https://localhost:8080/"
        },
        "id": "lj0gM1zldfxD",
        "outputId": "b4749eaa-3529-4bd4-abc6-0d466462e1e1"
      },
      "source": [
        "print(len(numbers))"
      ],
      "execution_count": null,
      "outputs": [
        {
          "output_type": "stream",
          "text": [
            "10\n"
          ],
          "name": "stdout"
        }
      ]
    },
    {
      "cell_type": "markdown",
      "metadata": {
        "id": "rdzikNdmd_Gl"
      },
      "source": [
        "```\n",
        "첫번째 -> 인덱스가 0\n",
        "두번재 -> 인덱스가 1\n",
        "10번재 -> 인덱스가 9\n",
        "```"
      ]
    },
    {
      "cell_type": "code",
      "metadata": {
        "colab": {
          "base_uri": "https://localhost:8080/"
        },
        "id": "vfzVQdGQdiFn",
        "outputId": "9e5779e3-eaa8-4865-e271-c43217231049"
      },
      "source": [
        "names = [ \"tom\", \"jerry\", \"철수\", \"영희\" ]\n",
        "print(names[0])\n",
        "print(names[1])\n",
        "print(names[2])\n",
        "print(names[3])"
      ],
      "execution_count": null,
      "outputs": [
        {
          "output_type": "stream",
          "text": [
            "tom\n",
            "jerry\n",
            "철수\n",
            "영희\n"
          ],
          "name": "stdout"
        }
      ]
    },
    {
      "cell_type": "markdown",
      "metadata": {
        "id": "62QGH2zheS9k"
      },
      "source": [
        "# Quiz.\n",
        "```\n",
        "0 : tom\n",
        "1 : jerry\n",
        "2 : 철수\n",
        "3 : 영희\n",
        "```"
      ]
    },
    {
      "cell_type": "code",
      "metadata": {
        "id": "HqyUhVvHeR4V"
      },
      "source": [
        ""
      ],
      "execution_count": null,
      "outputs": []
    },
    {
      "cell_type": "code",
      "metadata": {
        "colab": {
          "base_uri": "https://localhost:8080/"
        },
        "id": "h-X4Pe0WfAc6",
        "outputId": "08d6e673-fc84-419e-8e21-6f9f6e479aaa"
      },
      "source": [
        "names = [ \"tom\", \"jerry\", \"철수\", \"영희\", \"Bob\" ]\n",
        "for i in range(len(names)):\n",
        "  print(\"{} : {}\".format(i, names[i]))"
      ],
      "execution_count": null,
      "outputs": [
        {
          "output_type": "stream",
          "text": [
            "0 : tom\n",
            "1 : jerry\n",
            "2 : 철수\n",
            "3 : 영희\n",
            "4 : Bob\n"
          ],
          "name": "stdout"
        }
      ]
    },
    {
      "cell_type": "code",
      "metadata": {
        "colab": {
          "base_uri": "https://localhost:8080/",
          "height": 188
        },
        "id": "577c_cipfD2H",
        "outputId": "f6e4483d-69a3-4fab-92e4-2a15ee315ff4"
      },
      "source": [
        "names = [ \"tom\", \"jerry\", \"철수\", \"영희\", \"Bob\" ]\n",
        "print(names[5])"
      ],
      "execution_count": null,
      "outputs": [
        {
          "output_type": "error",
          "ename": "IndexError",
          "evalue": "ignored",
          "traceback": [
            "\u001b[0;31m---------------------------------------------------------------------------\u001b[0m",
            "\u001b[0;31mIndexError\u001b[0m                                Traceback (most recent call last)",
            "\u001b[0;32m<ipython-input-89-e601fc18c031>\u001b[0m in \u001b[0;36m<module>\u001b[0;34m()\u001b[0m\n\u001b[1;32m      1\u001b[0m \u001b[0mnames\u001b[0m \u001b[0;34m=\u001b[0m \u001b[0;34m[\u001b[0m \u001b[0;34m\"tom\"\u001b[0m\u001b[0;34m,\u001b[0m \u001b[0;34m\"jerry\"\u001b[0m\u001b[0;34m,\u001b[0m \u001b[0;34m\"철수\"\u001b[0m\u001b[0;34m,\u001b[0m \u001b[0;34m\"영희\"\u001b[0m\u001b[0;34m,\u001b[0m \u001b[0;34m\"Bob\"\u001b[0m \u001b[0;34m]\u001b[0m\u001b[0;34m\u001b[0m\u001b[0;34m\u001b[0m\u001b[0m\n\u001b[0;32m----> 2\u001b[0;31m \u001b[0mprint\u001b[0m\u001b[0;34m(\u001b[0m\u001b[0mnames\u001b[0m\u001b[0;34m[\u001b[0m\u001b[0;36m5\u001b[0m\u001b[0;34m]\u001b[0m\u001b[0;34m)\u001b[0m\u001b[0;34m\u001b[0m\u001b[0;34m\u001b[0m\u001b[0m\n\u001b[0m",
            "\u001b[0;31mIndexError\u001b[0m: list index out of range"
          ]
        }
      ]
    },
    {
      "cell_type": "code",
      "metadata": {
        "colab": {
          "base_uri": "https://localhost:8080/",
          "height": 332
        },
        "id": "mv8ar_1agAv8",
        "outputId": "98a99768-0a9c-403a-b7a4-b97f13ea5133"
      },
      "source": [
        "names = [ \"tom\", \"jerry\", \"철수\", \"영희\", \"Bob\" ]\n",
        "print(names[len(names)-1])\n",
        "print(names[-1])\n",
        "print(names[-2])\n",
        "print(names[-3])\n",
        "print(names[-4])\n",
        "print(names[-5])\n",
        "print(names[-6])\n",
        "\n"
      ],
      "execution_count": null,
      "outputs": [
        {
          "output_type": "stream",
          "text": [
            "Bob\n",
            "Bob\n",
            "영희\n",
            "철수\n",
            "jerry\n",
            "tom\n"
          ],
          "name": "stdout"
        },
        {
          "output_type": "error",
          "ename": "IndexError",
          "evalue": "ignored",
          "traceback": [
            "\u001b[0;31m---------------------------------------------------------------------------\u001b[0m",
            "\u001b[0;31mIndexError\u001b[0m                                Traceback (most recent call last)",
            "\u001b[0;32m<ipython-input-94-2ca82b4ac80b>\u001b[0m in \u001b[0;36m<module>\u001b[0;34m()\u001b[0m\n\u001b[1;32m      6\u001b[0m \u001b[0mprint\u001b[0m\u001b[0;34m(\u001b[0m\u001b[0mnames\u001b[0m\u001b[0;34m[\u001b[0m\u001b[0;34m-\u001b[0m\u001b[0;36m4\u001b[0m\u001b[0;34m]\u001b[0m\u001b[0;34m)\u001b[0m\u001b[0;34m\u001b[0m\u001b[0;34m\u001b[0m\u001b[0m\n\u001b[1;32m      7\u001b[0m \u001b[0mprint\u001b[0m\u001b[0;34m(\u001b[0m\u001b[0mnames\u001b[0m\u001b[0;34m[\u001b[0m\u001b[0;34m-\u001b[0m\u001b[0;36m5\u001b[0m\u001b[0;34m]\u001b[0m\u001b[0;34m)\u001b[0m\u001b[0;34m\u001b[0m\u001b[0;34m\u001b[0m\u001b[0m\n\u001b[0;32m----> 8\u001b[0;31m \u001b[0mprint\u001b[0m\u001b[0;34m(\u001b[0m\u001b[0mnames\u001b[0m\u001b[0;34m[\u001b[0m\u001b[0;34m-\u001b[0m\u001b[0;36m6\u001b[0m\u001b[0;34m]\u001b[0m\u001b[0;34m)\u001b[0m\u001b[0;34m\u001b[0m\u001b[0;34m\u001b[0m\u001b[0m\n\u001b[0m\u001b[1;32m      9\u001b[0m \u001b[0;34m\u001b[0m\u001b[0m\n",
            "\u001b[0;31mIndexError\u001b[0m: list index out of range"
          ]
        }
      ]
    },
    {
      "cell_type": "code",
      "metadata": {
        "colab": {
          "base_uri": "https://localhost:8080/"
        },
        "id": "pqGBb9Trij1Y",
        "outputId": "415849c8-22df-4881-85df-c59ad82ba4a0"
      },
      "source": [
        "names = [ \"tom\", \"jerry\", \"철수\", \"영희\", \"Bob\" ]\n",
        "for i in range(len(names)):\n",
        "  print(names[i])\n",
        "\n",
        "print()\n",
        "\n",
        "for name in names:\n",
        "  print(name)"
      ],
      "execution_count": null,
      "outputs": [
        {
          "output_type": "stream",
          "text": [
            "tom\n",
            "jerry\n",
            "철수\n",
            "영희\n",
            "Bob\n",
            "\n",
            "tom\n",
            "jerry\n",
            "철수\n",
            "영희\n",
            "Bob\n"
          ],
          "name": "stdout"
        }
      ]
    },
    {
      "cell_type": "markdown",
      "metadata": {
        "id": "DX4bJQrMi1o5"
      },
      "source": [
        "```\n",
        "tom : 30\n",
        "jerry : 33\n",
        "철수 : 35\n",
        "영희 : 32\n",
        "Bob : 15\n",
        "```"
      ]
    },
    {
      "cell_type": "code",
      "metadata": {
        "colab": {
          "base_uri": "https://localhost:8080/"
        },
        "id": "0LPoO5ALixZO",
        "outputId": "d7ce1e60-9020-44e1-c0bb-26d52f823626"
      },
      "source": [
        "names = [ \"tom\", \"jerry\", \"철수\", \"영희\", \"Bob\" ]\n",
        "ages = [ 30, 33, 35, 32, 15 ]\n",
        "\n",
        "for i in range(len(names)):\n",
        "  print(\"{} : {}\".format(names[i], ages[i]))"
      ],
      "execution_count": null,
      "outputs": [
        {
          "output_type": "stream",
          "text": [
            "tom : 30\n",
            "jerry : 33\n",
            "철수 : 35\n",
            "영희 : 32\n",
            "Bob : 15\n"
          ],
          "name": "stdout"
        }
      ]
    },
    {
      "cell_type": "code",
      "metadata": {
        "colab": {
          "base_uri": "https://localhost:8080/"
        },
        "id": "gvfZ22T9j5zk",
        "outputId": "3fa5cd87-de8f-4543-e2e5-1014dea39b5e"
      },
      "source": [
        "l = [ 10, 20, 30, 40, 50, 60 ]\n",
        "s = 0\n",
        "\n",
        "size = len(l)\n",
        "for i in range(size):\n",
        "  s += l[i]\n",
        "m = s / size\n",
        "\n",
        "print(s, m)"
      ],
      "execution_count": null,
      "outputs": [
        {
          "output_type": "stream",
          "text": [
            "210 35.0\n"
          ],
          "name": "stdout"
        }
      ]
    },
    {
      "cell_type": "markdown",
      "metadata": {
        "id": "ioAGCf2EkyFY"
      },
      "source": [
        "# list slicing"
      ]
    },
    {
      "cell_type": "code",
      "metadata": {
        "colab": {
          "base_uri": "https://localhost:8080/"
        },
        "id": "39yncC9ukzE5",
        "outputId": "2e2603d2-0eb3-4b6b-a167-826e3893b7be"
      },
      "source": [
        "l = [ 0, 1, 2, 3, 4, 5, 6, 7, 8 ]\n",
        "\n",
        "l2 = [ 2, 3, 4 ] # l의 3번째 부터 5번째 까지를 복사\n",
        "\n",
        "l2 = [ l[2], l[3], l[4] ]\n",
        "print(l2)\n",
        "\n",
        "l2 = l[2:5]\n",
        "print(l2)\n",
        "\n",
        "l2 = l[:5]\n",
        "print(l2)\n",
        "\n",
        "l2 = l[2:]\n",
        "print(l2)\n",
        "\n",
        "l2 = l[:]\n",
        "print(l2)"
      ],
      "execution_count": null,
      "outputs": [
        {
          "output_type": "stream",
          "text": [
            "[2, 3, 4]\n",
            "[2, 3, 4]\n",
            "[0, 1, 2, 3, 4]\n",
            "[2, 3, 4, 5, 6, 7, 8]\n",
            "[0, 1, 2, 3, 4, 5, 6, 7, 8]\n"
          ],
          "name": "stdout"
        }
      ]
    },
    {
      "cell_type": "code",
      "metadata": {
        "colab": {
          "base_uri": "https://localhost:8080/"
        },
        "id": "X9KbBhlUmEll",
        "outputId": "a57c190f-2c82-409d-b49f-a974de495905"
      },
      "source": [
        "l = [ 0, 1, 2, 3, 4, 5, 6, 7, 8 ]\n",
        "# l2 = [ 0, 2, 4, 6, 8]\n",
        "\n",
        "l2 = l[::2]\n",
        "print(l2)\n",
        "\n",
        "l2 = l[::-1]\n",
        "print(l2)"
      ],
      "execution_count": null,
      "outputs": [
        {
          "output_type": "stream",
          "text": [
            "[0, 2, 4, 6, 8]\n",
            "[8, 7, 6, 5, 4, 3, 2, 1, 0]\n"
          ],
          "name": "stdout"
        }
      ]
    },
    {
      "cell_type": "markdown",
      "metadata": {
        "id": "D50z3FTNmyOx"
      },
      "source": [
        "# "
      ]
    },
    {
      "cell_type": "markdown",
      "metadata": {
        "id": "DrG2ZbsCmSI7"
      },
      "source": [
        "```\n",
        "names[start:end:step]\n",
        "```"
      ]
    },
    {
      "cell_type": "code",
      "metadata": {
        "colab": {
          "base_uri": "https://localhost:8080/"
        },
        "id": "afRrX5-FqAwY",
        "outputId": "1a757a34-e4be-4553-d973-b46ff87cbd11"
      },
      "source": [
        "l = [0,1,2,3,4,5]\n",
        "l.append(9)\n",
        "print(l)"
      ],
      "execution_count": null,
      "outputs": [
        {
          "output_type": "stream",
          "text": [
            "[0, 1, 2, 3, 4, 5, 9]\n"
          ],
          "name": "stdout"
        }
      ]
    },
    {
      "cell_type": "markdown",
      "metadata": {
        "id": "5sTJ9Ajep0zn"
      },
      "source": [
        "# Quiz. 1~20 까지 홀수만 리스트에 담기"
      ]
    },
    {
      "cell_type": "code",
      "metadata": {
        "colab": {
          "base_uri": "https://localhost:8080/"
        },
        "id": "r5bHUKUTmVqX",
        "outputId": "025b291c-5492-4cf6-b170-096e0ea0189f"
      },
      "source": [
        "l = []\n",
        "for i in range(1,21):\n",
        "  if not i%2==0:\n",
        "    l.append(i)\n",
        "print(l)"
      ],
      "execution_count": null,
      "outputs": [
        {
          "output_type": "stream",
          "text": [
            "[1, 3, 5, 7, 9, 11, 13, 15, 17, 19]\n"
          ],
          "name": "stdout"
        }
      ]
    },
    {
      "cell_type": "markdown",
      "metadata": {
        "id": "90op4Wx6q7xN"
      },
      "source": [
        "Quiz. [1,2,3,4,5,6,7,8,9,10]에서 홀수만 리스트에 담기"
      ]
    },
    {
      "cell_type": "code",
      "metadata": {
        "colab": {
          "base_uri": "https://localhost:8080/"
        },
        "id": "YbXVFHLSrBYe",
        "outputId": "0b78f7d3-a6f2-4fa0-d385-776fb03313f6"
      },
      "source": [
        "l = [1,2,3,4,5,6,7,8,9,10]\n",
        "l2 = []\n",
        "for i in l:\n",
        "  if not i%2==0:\n",
        "    l2.append(i)\n",
        "print(l2)"
      ],
      "execution_count": null,
      "outputs": [
        {
          "output_type": "stream",
          "text": [
            "[1, 3, 5, 7, 9]\n"
          ],
          "name": "stdout"
        }
      ]
    },
    {
      "cell_type": "code",
      "metadata": {
        "colab": {
          "base_uri": "https://localhost:8080/"
        },
        "id": "B4zfB0KJrtrk",
        "outputId": "0c72cab5-4638-4691-852a-a01b0720ff1b"
      },
      "source": [
        "l = list(range(1,11))\n",
        "l2 = []\n",
        "for i in l:\n",
        "  if not i%2==0: # if not even\n",
        "    l2.append(i)\n",
        "print(l2)"
      ],
      "execution_count": null,
      "outputs": [
        {
          "output_type": "stream",
          "text": [
            "[1, 3, 5, 7, 9]\n"
          ],
          "name": "stdout"
        }
      ]
    },
    {
      "cell_type": "code",
      "metadata": {
        "colab": {
          "base_uri": "https://localhost:8080/"
        },
        "id": "9fXYQq1GsIP-",
        "outputId": "504ca3d4-8a0c-4530-94cb-7f90a64947dc"
      },
      "source": [
        "def is_even(v):\n",
        "  return v%2==0\n",
        "\n",
        "l = list(range(1,11))\n",
        "l2 = []\n",
        "for i in l:\n",
        "  if not is_even(i):\n",
        "    l2.append(i)\n",
        "print(l2)"
      ],
      "execution_count": null,
      "outputs": [
        {
          "output_type": "stream",
          "text": [
            "[1, 3, 5, 7, 9]\n"
          ],
          "name": "stdout"
        }
      ]
    },
    {
      "cell_type": "code",
      "metadata": {
        "colab": {
          "base_uri": "https://localhost:8080/"
        },
        "id": "n_0QtdDZsdjY",
        "outputId": "c634f624-289b-48d9-8513-4c1534bdd356"
      },
      "source": [
        "l = [0,1,2]\n",
        "l.append(9)\n",
        "print(l)\n",
        "l.append(99)\n",
        "print(l)"
      ],
      "execution_count": null,
      "outputs": [
        {
          "output_type": "stream",
          "text": [
            "[0, 1, 2, 9]\n",
            "[0, 1, 2, 9, 99]\n"
          ],
          "name": "stdout"
        }
      ]
    },
    {
      "cell_type": "code",
      "metadata": {
        "colab": {
          "base_uri": "https://localhost:8080/"
        },
        "id": "uSAO778fskOq",
        "outputId": "3022d184-75da-4eb5-d07b-516cc9b177ee"
      },
      "source": [
        "l = [ 0, 1, 2, 3 ]\n",
        "l.insert(2, 9)\n",
        "print(l)\n",
        "l.insert(1,88)\n",
        "print(l)"
      ],
      "execution_count": null,
      "outputs": [
        {
          "output_type": "stream",
          "text": [
            "[0, 1, 9, 2, 3]\n",
            "[0, 88, 1, 9, 2, 3]\n"
          ],
          "name": "stdout"
        }
      ]
    },
    {
      "cell_type": "code",
      "metadata": {
        "colab": {
          "base_uri": "https://localhost:8080/"
        },
        "id": "NPVplhW2s25s",
        "outputId": "f2fa61c4-9288-4e5f-8c5b-f05116de4f6e"
      },
      "source": [
        "l = [ 0, 1, 2, 3, 4 ]\n",
        "l.pop(2)\n",
        "print(l)\n",
        "l.pop(1)\n",
        "print(l)"
      ],
      "execution_count": null,
      "outputs": [
        {
          "output_type": "stream",
          "text": [
            "[0, 1, 3, 4]\n",
            "[0, 3, 4]\n"
          ],
          "name": "stdout"
        }
      ]
    },
    {
      "cell_type": "code",
      "metadata": {
        "colab": {
          "base_uri": "https://localhost:8080/"
        },
        "id": "2k1I66Y4tbfK",
        "outputId": "89307b42-bd52-4290-8105-068eb0f57f28"
      },
      "source": [
        "l = [ 2, 3, 4, 5, 6 ]\n",
        "l.remove(2)\n",
        "print(l)"
      ],
      "execution_count": null,
      "outputs": [
        {
          "output_type": "stream",
          "text": [
            "[3, 4, 5, 6]\n"
          ],
          "name": "stdout"
        }
      ]
    },
    {
      "cell_type": "code",
      "metadata": {
        "colab": {
          "base_uri": "https://localhost:8080/"
        },
        "id": "US7b-5Wutu3u",
        "outputId": "99140963-d35b-4592-e374-d87292948b81"
      },
      "source": [
        "l = [ 0, 1, 2, 3, 4 ]\n",
        "l.reverse()\n",
        "print(l)"
      ],
      "execution_count": null,
      "outputs": [
        {
          "output_type": "stream",
          "text": [
            "[4, 3, 2, 1, 0]\n"
          ],
          "name": "stdout"
        }
      ]
    },
    {
      "cell_type": "code",
      "metadata": {
        "colab": {
          "base_uri": "https://localhost:8080/"
        },
        "id": "Vsmoei52t0qY",
        "outputId": "fb03c983-95be-4607-84e6-aafdaad16d6d"
      },
      "source": [
        "l = [ 3, 1, 2, 4, 0 ]\n",
        "l.sort()\n",
        "print(l)"
      ],
      "execution_count": null,
      "outputs": [
        {
          "output_type": "stream",
          "text": [
            "[0, 1, 2, 3, 4]\n"
          ],
          "name": "stdout"
        }
      ]
    },
    {
      "cell_type": "code",
      "metadata": {
        "colab": {
          "base_uri": "https://localhost:8080/"
        },
        "id": "CFqECPOLuA1O",
        "outputId": "db56dac5-6f6c-4eee-995f-6717f19572a9"
      },
      "source": [
        "l = [ 0, 1, 2, 3, 4 ]\n",
        "print(type(l))\n",
        "print(dir(l))"
      ],
      "execution_count": null,
      "outputs": [
        {
          "output_type": "stream",
          "text": [
            "<class 'list'>\n",
            "['__add__', '__class__', '__contains__', '__delattr__', '__delitem__', '__dir__', '__doc__', '__eq__', '__format__', '__ge__', '__getattribute__', '__getitem__', '__gt__', '__hash__', '__iadd__', '__imul__', '__init__', '__init_subclass__', '__iter__', '__le__', '__len__', '__lt__', '__mul__', '__ne__', '__new__', '__reduce__', '__reduce_ex__', '__repr__', '__reversed__', '__rmul__', '__setattr__', '__setitem__', '__sizeof__', '__str__', '__subclasshook__', 'append', 'clear', 'copy', 'count', 'extend', 'index', 'insert', 'pop', 'remove', 'reverse', 'sort']\n"
          ],
          "name": "stdout"
        }
      ]
    },
    {
      "cell_type": "markdown",
      "metadata": {
        "id": "oDsTa5RmuqxP"
      },
      "source": [
        "# quiz. 사용자가 입력한 값 중에 3의 배수만 추려서 총합과 평균 출력. 'exit'입력하면 중지\n",
        "```\n",
        "6\n",
        "2\n",
        "5\n",
        "3\n",
        "8\n",
        "9\n",
        "exit\n",
        "18, 6\n",
        "```"
      ]
    },
    {
      "cell_type": "code",
      "metadata": {
        "colab": {
          "base_uri": "https://localhost:8080/"
        },
        "id": "wSgTf7OOuxFC",
        "outputId": "b9789dcc-5aa2-40a0-f7d9-5ebab5644468"
      },
      "source": [
        "s = 0\n",
        "count = 0\n",
        "while True:\n",
        "  i = input()\n",
        "  if i==\"exit\": break\n",
        "  try:\n",
        "    i = int(i)\n",
        "    if i%3==0:\n",
        "      s += i\n",
        "      count += 1\n",
        "  except:\n",
        "    pass\n",
        "\n",
        "m = s/count\n",
        "print(s, m)\n"
      ],
      "execution_count": null,
      "outputs": [
        {
          "output_type": "stream",
          "text": [
            "6\n",
            "2\n",
            "5\n",
            "3\n",
            "8\n",
            "9\n",
            "exit\n",
            "18 6.0\n"
          ],
          "name": "stdout"
        }
      ]
    },
    {
      "cell_type": "code",
      "metadata": {
        "colab": {
          "base_uri": "https://localhost:8080/"
        },
        "id": "uKI-2Xcjwr9R",
        "outputId": "8a6b4495-0883-4559-d180-9354fca92e79"
      },
      "source": [
        "l = []\n",
        "while True:\n",
        "  i = input()\n",
        "  if i==\"exit\": break\n",
        "  try:\n",
        "    i = int(i)\n",
        "    l.append(i)\n",
        "  except:\n",
        "    pass\n",
        "\n",
        "s = 0\n",
        "count = 0\n",
        "for i in l:\n",
        "  if i%3==0:\n",
        "    s += i\n",
        "    count += 1\n",
        "\n",
        "m = s / count\n",
        "print(s, m)"
      ],
      "execution_count": null,
      "outputs": [
        {
          "output_type": "stream",
          "text": [
            "6\n",
            "2\n",
            "5\n",
            "3\n",
            "8\n",
            "9\n",
            "exit\n",
            "18 6.0\n"
          ],
          "name": "stdout"
        }
      ]
    },
    {
      "cell_type": "markdown",
      "metadata": {
        "id": "OsZqaddbxwim"
      },
      "source": [
        "# Quiz. 최대 5개만 입력 받을 수 있도록"
      ]
    },
    {
      "cell_type": "code",
      "metadata": {
        "colab": {
          "base_uri": "https://localhost:8080/"
        },
        "id": "uzPc4jvvyXzE",
        "outputId": "18e84fb1-7fa1-4a2b-a658-d1faac90f7d1"
      },
      "source": [
        "l = []\n",
        "while True:\n",
        "  i = input()\n",
        "  if i==\"exit\": break\n",
        "  try:\n",
        "    i = int(i)\n",
        "    l.append(i)\n",
        "    if len(l)>=5: break\n",
        "  except:\n",
        "    pass\n",
        "\n",
        "s = 0\n",
        "count = 0\n",
        "for i in l:\n",
        "  if i%3==0:\n",
        "    s += i\n",
        "    count += 1\n",
        "\n",
        "m = s / count\n",
        "print(s, m)"
      ],
      "execution_count": null,
      "outputs": [
        {
          "output_type": "stream",
          "text": [
            "1\n",
            "2\n",
            "3\n",
            "4\n",
            "5\n",
            "3 3.0\n"
          ],
          "name": "stdout"
        }
      ]
    },
    {
      "cell_type": "markdown",
      "metadata": {
        "id": "Slp8Vu6I3hfW"
      },
      "source": [
        "# Quiz. 작은순 5개 합은?\n",
        "```\n",
        "l = [ 3, 5, 1, 6, 4, 2, 7, 4 ]\n",
        "```\n"
      ]
    },
    {
      "cell_type": "code",
      "metadata": {
        "colab": {
          "base_uri": "https://localhost:8080/"
        },
        "id": "vgKbR2Q83nxS",
        "outputId": "0eb00713-00f7-4785-87b6-223f5863667b"
      },
      "source": [
        "l = [ 3, 5, 1, 6, 4, 2, 7, 4 ]\n",
        "l.sort()\n",
        "\n",
        "s = 0\n",
        "for i in range(5):\n",
        "  s += l[i]\n",
        "\n",
        "print(s)"
      ],
      "execution_count": null,
      "outputs": [
        {
          "output_type": "stream",
          "text": [
            "14\n"
          ],
          "name": "stdout"
        }
      ]
    },
    {
      "cell_type": "code",
      "metadata": {
        "colab": {
          "base_uri": "https://localhost:8080/"
        },
        "id": "YqGvCXhG412M",
        "outputId": "1376da3f-874c-4acf-f1c1-f6d8d930cd54"
      },
      "source": [
        "l = [ 3, 5, 1, 6, 4, 2, 7, 4 ]\n",
        "l.sort()\n",
        "\n",
        "s = 0\n",
        "# c = 10\n",
        "# if len(l)<c : c = len(l)\n",
        "c = min(10, len(l))\n",
        "for i in range(c):\n",
        "  s += l[i]\n",
        "\n",
        "print(s)"
      ],
      "execution_count": null,
      "outputs": [
        {
          "output_type": "stream",
          "text": [
            "32\n"
          ],
          "name": "stdout"
        }
      ]
    },
    {
      "cell_type": "code",
      "metadata": {
        "colab": {
          "base_uri": "https://localhost:8080/"
        },
        "id": "QAX2uO2a5pd0",
        "outputId": "e73c100f-9252-40b5-b0a9-1d42b8427f0a"
      },
      "source": [
        "i = input()\n",
        "org = i\n",
        "i = int(i)\n",
        "\n",
        "# 2, 3, 6, 8 중의 가장 큰 배수를 찾아라.\n",
        "\n",
        "base = None\n",
        "if i%8==0:\n",
        "  base = 8\n",
        "elif i%6==0:\n",
        "  base = 6\n",
        "elif i%3==0:\n",
        "  base = 3\n",
        "elif i%2==0:\n",
        "  base = 2\n",
        "\n",
        "if base!=None:\n",
        "  print(\"입력한 {}은 {}의 배수입니다.\".format(org, base))\n"
      ],
      "execution_count": null,
      "outputs": [
        {
          "output_type": "stream",
          "text": [
            "6\n",
            "입력한 6은 6의 배수입니다.\n"
          ],
          "name": "stdout"
        }
      ]
    },
    {
      "cell_type": "code",
      "metadata": {
        "colab": {
          "base_uri": "https://localhost:8080/"
        },
        "id": "Umo3cAH260XT",
        "outputId": "1d391a66-eec9-495d-bf8b-cd0e47cd4ce1"
      },
      "source": [
        "i = input()\n",
        "org = i\n",
        "i = int(i)\n",
        "\n",
        "# 2, 3, 6, 8 중의 가장 큰 배수를 찾아라.\n",
        "\n",
        "base = None\n",
        "bases = [ 2, 3, 6, 8 ]\n",
        "bases.sort(reverse=True)\n",
        "for b in bases:\n",
        "  if i%b==0:\n",
        "    base = b\n",
        "    break\n",
        "\n",
        "if base!=None:\n",
        "  print(\"입력한 {}은 {}의 배수입니다.\".format(org, base))\n"
      ],
      "execution_count": null,
      "outputs": [
        {
          "output_type": "stream",
          "text": [
            "12\n",
            "입력한 12은 6의 배수입니다.\n"
          ],
          "name": "stdout"
        }
      ]
    },
    {
      "cell_type": "markdown",
      "metadata": {
        "id": "DFx2liIv8xpS"
      },
      "source": [
        "# 2차원 배열"
      ]
    },
    {
      "cell_type": "code",
      "metadata": {
        "colab": {
          "base_uri": "https://localhost:8080/"
        },
        "id": "M8RFBjv78zS4",
        "outputId": "3d82ff80-7b79-4583-9a31-57ddee97b500"
      },
      "source": [
        "l = [\n",
        "     [0,1,2,3],\n",
        "     [4,5,6,7],\n",
        "     [8,9,10,11]\n",
        "]\n",
        "\n",
        "print(l)\n",
        "print(l[1])\n",
        "print(l[1][2])\n",
        "\n",
        "print(len(l))\n",
        "print(len(l[1]))"
      ],
      "execution_count": null,
      "outputs": [
        {
          "output_type": "stream",
          "text": [
            "[[0, 1, 2, 3], [4, 5, 6, 7], [8, 9, 10, 11]]\n",
            "[4, 5, 6, 7]\n",
            "6\n",
            "3\n",
            "4\n"
          ],
          "name": "stdout"
        }
      ]
    },
    {
      "cell_type": "code",
      "metadata": {
        "colab": {
          "base_uri": "https://localhost:8080/"
        },
        "id": "kv7PoLRW9qrx",
        "outputId": "23bee137-9273-41f5-c2ef-176adce47534"
      },
      "source": [
        "l = []\n",
        "c = 0\n",
        "for i in range(3):\n",
        "  sub_l = []\n",
        "  for j in range(4):\n",
        "    sub_l.append(c)\n",
        "    c += 1\n",
        "  l.append(sub_l)\n",
        "\n",
        "print(l)"
      ],
      "execution_count": null,
      "outputs": [
        {
          "output_type": "stream",
          "text": [
            "[[0, 1, 2, 3], [4, 5, 6, 7], [8, 9, 10, 11]]\n"
          ],
          "name": "stdout"
        }
      ]
    },
    {
      "cell_type": "code",
      "metadata": {
        "colab": {
          "base_uri": "https://localhost:8080/"
        },
        "id": "dmCi8mBt96_l",
        "outputId": "c6e0f1d3-0cd8-4a0a-9126-ad7f692a5f8a"
      },
      "source": [
        "\n",
        "l = []\n",
        "c = 0\n",
        "for i in range(4):\n",
        "  l.append(c)\n",
        "  c += 1\n",
        "print(l)"
      ],
      "execution_count": null,
      "outputs": [
        {
          "output_type": "stream",
          "text": [
            "[0, 1, 2, 3]\n"
          ],
          "name": "stdout"
        }
      ]
    },
    {
      "cell_type": "markdown",
      "metadata": {
        "id": "ePqYSS75_XUJ"
      },
      "source": [
        "# Quiz. 다음 데이터의 압력의 평균\n",
        "```\n",
        "l = [ #무게, 압력, 진동, 밝기\n",
        "     [0,1,2,3],\n",
        "     [4,5,6,7],\n",
        "     [8,9,10,11]\n",
        "]\n",
        "```"
      ]
    },
    {
      "cell_type": "code",
      "metadata": {
        "colab": {
          "base_uri": "https://localhost:8080/"
        },
        "id": "xZg6uyBN_0x7",
        "outputId": "76ba7762-6030-410f-f6ce-19ad233da57a"
      },
      "source": [
        "l = [ #무게, 압력, 진동, 밝기\n",
        "     [0,1,2,3],\n",
        "     [4,5,6,7],\n",
        "     [8,9,10,11]\n",
        "]\n",
        "\n",
        "# l[0][1] + l[1][1] + l[2][1]\n",
        "\n",
        "s = 0\n",
        "for i in range(len(l)):\n",
        "  s += l[i][1]\n",
        "\n",
        "m = s / len(l)\n",
        "print(s, m)"
      ],
      "execution_count": null,
      "outputs": [
        {
          "output_type": "stream",
          "text": [
            "15 5.0\n"
          ],
          "name": "stdout"
        }
      ]
    },
    {
      "cell_type": "code",
      "metadata": {
        "colab": {
          "base_uri": "https://localhost:8080/"
        },
        "id": "gtgJKtf2AD_p",
        "outputId": "2f1e948e-8a7e-4050-aa2d-336afa0822a2"
      },
      "source": [
        "import numpy as np\n",
        "\n",
        "l = np.array(l)\n",
        "s = np.sum(l[:,1])\n",
        "print(s)"
      ],
      "execution_count": null,
      "outputs": [
        {
          "output_type": "stream",
          "text": [
            "15\n"
          ],
          "name": "stdout"
        }
      ]
    },
    {
      "cell_type": "markdown",
      "metadata": {
        "id": "KRKxN8diD0iA"
      },
      "source": [
        "# 스트링"
      ]
    },
    {
      "cell_type": "code",
      "metadata": {
        "colab": {
          "base_uri": "https://localhost:8080/"
        },
        "id": "cu8pusxoBiu0",
        "outputId": "232f9330-a129-43ac-ff04-0e601f14be0c"
      },
      "source": [
        "s = \"abcdefghijk\"\n",
        "print(s)"
      ],
      "execution_count": null,
      "outputs": [
        {
          "output_type": "stream",
          "text": [
            "abcdefghijk\n"
          ],
          "name": "stdout"
        }
      ]
    },
    {
      "cell_type": "code",
      "metadata": {
        "colab": {
          "base_uri": "https://localhost:8080/"
        },
        "id": "xcV9_bElFCAj",
        "outputId": "19994d63-b616-44d7-cfad-bc31dee7cab2"
      },
      "source": [
        "print(len(s))"
      ],
      "execution_count": null,
      "outputs": [
        {
          "output_type": "stream",
          "text": [
            "11\n"
          ],
          "name": "stdout"
        }
      ]
    },
    {
      "cell_type": "code",
      "metadata": {
        "colab": {
          "base_uri": "https://localhost:8080/"
        },
        "id": "e0lMlDcSFD_b",
        "outputId": "317a8775-b0be-48a8-c967-953ebf217398"
      },
      "source": [
        "print(s[0])"
      ],
      "execution_count": null,
      "outputs": [
        {
          "output_type": "stream",
          "text": [
            "a\n"
          ],
          "name": "stdout"
        }
      ]
    },
    {
      "cell_type": "code",
      "metadata": {
        "colab": {
          "base_uri": "https://localhost:8080/"
        },
        "id": "uuEupac2F__x",
        "outputId": "8026b083-2ad7-4356-dde8-f2cc473ee382"
      },
      "source": [
        "s = \"abcdefghijk\"\n",
        "print(s[-1])\n",
        "print(s[3:6])"
      ],
      "execution_count": null,
      "outputs": [
        {
          "output_type": "stream",
          "text": [
            "k\n",
            "def\n"
          ],
          "name": "stdout"
        }
      ]
    },
    {
      "cell_type": "code",
      "metadata": {
        "colab": {
          "base_uri": "https://localhost:8080/"
        },
        "id": "n9JpB9xOFHk-",
        "outputId": "93a8e944-959e-4259-9113-e0f1deeaffd7"
      },
      "source": [
        "for i in range(len(s)):\n",
        "  print(s[i])"
      ],
      "execution_count": null,
      "outputs": [
        {
          "output_type": "stream",
          "text": [
            "a\n",
            "b\n",
            "c\n",
            "d\n",
            "e\n",
            "f\n",
            "g\n",
            "h\n",
            "i\n",
            "j\n",
            "k\n"
          ],
          "name": "stdout"
        }
      ]
    },
    {
      "cell_type": "code",
      "metadata": {
        "colab": {
          "base_uri": "https://localhost:8080/"
        },
        "id": "dfoXdhajFPJ5",
        "outputId": "1b3c6484-2b2f-471f-cac6-9c3ee70cab9c"
      },
      "source": [
        "l = [0,1,2,3,4,5]\n",
        "for i in range(len(l)):\n",
        "  print(l[i])"
      ],
      "execution_count": null,
      "outputs": [
        {
          "output_type": "stream",
          "text": [
            "0\n",
            "1\n",
            "2\n",
            "3\n",
            "4\n",
            "5\n"
          ],
          "name": "stdout"
        }
      ]
    },
    {
      "cell_type": "code",
      "metadata": {
        "id": "QXwSDHpdFcV-"
      },
      "source": [
        "s = [ \"a\", \"b\", \"c\", \"d\"]\n",
        "s = \"abcde...\""
      ],
      "execution_count": null,
      "outputs": []
    },
    {
      "cell_type": "code",
      "metadata": {
        "colab": {
          "base_uri": "https://localhost:8080/"
        },
        "id": "laXGDC6pFeJn",
        "outputId": "66286077-8daf-472a-9656-b3e045719151"
      },
      "source": [
        "print(dir(\"abcde\"))"
      ],
      "execution_count": null,
      "outputs": [
        {
          "output_type": "stream",
          "text": [
            "['__add__', '__class__', '__contains__', '__delattr__', '__dir__', '__doc__', '__eq__', '__format__', '__ge__', '__getattribute__', '__getitem__', '__getnewargs__', '__gt__', '__hash__', '__init__', '__init_subclass__', '__iter__', '__le__', '__len__', '__lt__', '__mod__', '__mul__', '__ne__', '__new__', '__reduce__', '__reduce_ex__', '__repr__', '__rmod__', '__rmul__', '__setattr__', '__sizeof__', '__str__', '__subclasshook__', 'capitalize', 'casefold', 'center', 'count', 'encode', 'endswith', 'expandtabs', 'find', 'format', 'format_map', 'index', 'isalnum', 'isalpha', 'isascii', 'isdecimal', 'isdigit', 'isidentifier', 'islower', 'isnumeric', 'isprintable', 'isspace', 'istitle', 'isupper', 'join', 'ljust', 'lower', 'lstrip', 'maketrans', 'partition', 'replace', 'rfind', 'rindex', 'rjust', 'rpartition', 'rsplit', 'rstrip', 'split', 'splitlines', 'startswith', 'strip', 'swapcase', 'title', 'translate', 'upper', 'zfill']\n"
          ],
          "name": "stdout"
        }
      ]
    },
    {
      "cell_type": "markdown",
      "metadata": {
        "id": "t07sKJtSF1E9"
      },
      "source": [
        "```\n",
        "split()\n",
        "join()\n",
        "replace()\n",
        "strip()\n",
        "format()\n",
        "```"
      ]
    },
    {
      "cell_type": "code",
      "metadata": {
        "colab": {
          "base_uri": "https://localhost:8080/"
        },
        "id": "NItw8ovjGLma",
        "outputId": "8be87d47-70fd-4a7b-fc63-f6a1717ae6e5"
      },
      "source": [
        "s = \"Hi Tom, Hello Jerry.\"\n",
        "print(s.upper())\n"
      ],
      "execution_count": null,
      "outputs": [
        {
          "output_type": "stream",
          "text": [
            "HI TOM, HELLO JERRY.\n"
          ],
          "name": "stdout"
        }
      ]
    },
    {
      "cell_type": "code",
      "metadata": {
        "colab": {
          "base_uri": "https://localhost:8080/"
        },
        "id": "gLSrMGTYGTaY",
        "outputId": "ca068080-81f9-446a-ec62-5acdb4682523"
      },
      "source": [
        "s = \"Hi Tom, Hello Jerry.\"\n",
        "print(s.lower())"
      ],
      "execution_count": null,
      "outputs": [
        {
          "output_type": "stream",
          "text": [
            "hi tom, hello jerry.\n"
          ],
          "name": "stdout"
        }
      ]
    },
    {
      "cell_type": "code",
      "metadata": {
        "colab": {
          "base_uri": "https://localhost:8080/"
        },
        "id": "MCUvKWp0GYJ8",
        "outputId": "8d8eb147-d2cf-4bc8-d187-a2cb832a21e4"
      },
      "source": [
        "s = \"Hi Tom, Hello Jerry.\"\n",
        "words = s.split(\" \")\n",
        "print(words)"
      ],
      "execution_count": null,
      "outputs": [
        {
          "output_type": "stream",
          "text": [
            "['Hi', 'Tom,', 'Hello', 'Jerry.']\n"
          ],
          "name": "stdout"
        }
      ]
    },
    {
      "cell_type": "code",
      "metadata": {
        "colab": {
          "base_uri": "https://localhost:8080/"
        },
        "id": "bVk24HLGHg5t",
        "outputId": "94ba4528-62a4-4a15-bd0e-d8e956505d62"
      },
      "source": [
        "a_line = \"3,5,12,tom,234,543\"\n",
        "columns = a_line.split(\",\")\n",
        "print(columns)\n"
      ],
      "execution_count": null,
      "outputs": [
        {
          "output_type": "stream",
          "text": [
            "['3', '5', '12', 'tom', '234', '543']\n"
          ],
          "name": "stdout"
        }
      ]
    },
    {
      "cell_type": "code",
      "metadata": {
        "colab": {
          "base_uri": "https://localhost:8080/"
        },
        "id": "kTKv0ZU1IDDL",
        "outputId": "38ca9d2d-546f-4b94-df7d-a0f60311e49c"
      },
      "source": [
        "a_line = \"3|5|12|tom|234|543\"\n",
        "columns = a_line.split(\"|\")\n",
        "print(columns)"
      ],
      "execution_count": null,
      "outputs": [
        {
          "output_type": "stream",
          "text": [
            "['3', '5', '12', 'tom', '234', '543']\n"
          ],
          "name": "stdout"
        }
      ]
    },
    {
      "cell_type": "code",
      "metadata": {
        "colab": {
          "base_uri": "https://localhost:8080/"
        },
        "id": "1GF1y1RBItrT",
        "outputId": "b9eaaad4-da28-4ce4-f93b-f979636a0534"
      },
      "source": [
        "a_line = \"3,5,12,tom,234,543\"\n",
        "columns = a_line.split(\",\")\n",
        "\n",
        "new_line = \"|\".join(columns)\n",
        "print(new_line)"
      ],
      "execution_count": null,
      "outputs": [
        {
          "output_type": "stream",
          "text": [
            "3|5|12|tom|234|543\n"
          ],
          "name": "stdout"
        }
      ]
    },
    {
      "cell_type": "code",
      "metadata": {
        "colab": {
          "base_uri": "https://localhost:8080/"
        },
        "id": "PZIxQDVJJCcz",
        "outputId": "8037b694-8a14-4712-a5d2-1b5b7a10be3b"
      },
      "source": [
        "path = \"/some/path/to/my/data\"\n",
        "#new_path = \"/some/path/backup/my/data\" \n",
        "\n",
        "pathes = path.split(\"/\")\n",
        "print(pathes)\n",
        "\n",
        "pathes[3] = \"backup\"\n",
        "\n",
        "print(pathes)\n",
        "\n",
        "new_path = \"/\".join(pathes)\n",
        "print(new_path)"
      ],
      "execution_count": null,
      "outputs": [
        {
          "output_type": "stream",
          "text": [
            "['', 'some', 'path', 'to', 'my', 'data']\n",
            "['', 'some', 'path', 'backup', 'my', 'data']\n",
            "/some/path/backup/my/data\n"
          ],
          "name": "stdout"
        }
      ]
    },
    {
      "cell_type": "code",
      "metadata": {
        "colab": {
          "base_uri": "https://localhost:8080/"
        },
        "id": "G-49Eu5-KSYw",
        "outputId": "0d97c318-23be-4fe8-c698-38b47c31f1bc"
      },
      "source": [
        "s = \" hello Tom. hello Jerry.     \"\n",
        "s = s.strip()\n",
        "print(\"'\"+s+\"'\")\n",
        "words = s.split(\" \")\n",
        "new_s = \"_\".join(words)\n",
        "print(new_s)\n",
        "#s = \"hello Tom. hello Jerry.\"\n",
        "# \"hello_Tom._hello_Jerry\""
      ],
      "execution_count": null,
      "outputs": [
        {
          "output_type": "stream",
          "text": [
            "'hello Tom. hello Jerry.'\n",
            "hello_Tom._hello_Jerry.\n"
          ],
          "name": "stdout"
        }
      ]
    },
    {
      "cell_type": "code",
      "metadata": {
        "colab": {
          "base_uri": "https://localhost:8080/"
        },
        "id": "Nanil8QuLWVn",
        "outputId": "f7f068c8-e0e5-42e5-9929-5913fb86e8ce"
      },
      "source": [
        "s = 'hello Tom. hello Jerry.'\n",
        "s = s.replace(\" \", \"_\")\n",
        "print(s)"
      ],
      "execution_count": null,
      "outputs": [
        {
          "output_type": "stream",
          "text": [
            "hello_Tom._hello_Jerry.\n"
          ],
          "name": "stdout"
        }
      ]
    },
    {
      "cell_type": "code",
      "metadata": {
        "colab": {
          "base_uri": "https://localhost:8080/"
        },
        "id": "3mthVDTFLtzR",
        "outputId": "616889cc-5c17-4dbf-953e-c619927623e5"
      },
      "source": [
        "v = \"+1\"\n",
        "print(v.startswith(\"+\"))\n",
        "print(v.find(\"+\"))\n",
        "print(v.find(\"1\"))\n"
      ],
      "execution_count": null,
      "outputs": [
        {
          "output_type": "stream",
          "text": [
            "True\n",
            "0\n",
            "1\n"
          ],
          "name": "stdout"
        }
      ]
    },
    {
      "cell_type": "markdown",
      "metadata": {
        "id": "TgRXA3i8MPKE"
      },
      "source": [
        "# Quiz. 입력한 문자열을 파싱하여 짝수의 합만 구하기\n",
        "```\n",
        "'3 8 2 tom hi 2 5'\n",
        "```"
      ]
    },
    {
      "cell_type": "code",
      "metadata": {
        "id": "MhXQxixwNLsA"
      },
      "source": [
        "s = \"\"\n",
        "s.isnumeric"
      ],
      "execution_count": null,
      "outputs": []
    },
    {
      "cell_type": "code",
      "metadata": {
        "colab": {
          "base_uri": "https://localhost:8080/"
        },
        "id": "rVpE--SbMOht",
        "outputId": "4797b95b-7309-436d-cb9c-0a1c5377cb1d"
      },
      "source": [
        "i = input()\n",
        "words = i.split(\" \")\n",
        "s = 0\n",
        "for word in words:\n",
        "  if word.isnumeric():\n",
        "    v = float(word)\n",
        "    if v%2==0:\n",
        "      s += v\n",
        "print(s)"
      ],
      "execution_count": null,
      "outputs": [
        {
          "output_type": "stream",
          "text": [
            "3 8 tom 2 5 4\n",
            "14.0\n"
          ],
          "name": "stdout"
        }
      ]
    },
    {
      "cell_type": "code",
      "metadata": {
        "colab": {
          "base_uri": "https://localhost:8080/"
        },
        "id": "NUMVZS1hOE6_",
        "outputId": "9c542d3e-54fb-4fd0-f9ac-aac96a52f64a"
      },
      "source": [
        "i = input()\n",
        "words = i.split(\" \")\n",
        "s = 0\n",
        "for word in words:\n",
        "  if not word.isnumeric(): continue\n",
        "  v = float(word)\n",
        "  if v%2==0:\n",
        "    s += v\n",
        "print(s)"
      ],
      "execution_count": null,
      "outputs": [
        {
          "output_type": "stream",
          "text": [
            "3 8 tom 2 5 4\n",
            "14.0\n"
          ],
          "name": "stdout"
        }
      ]
    },
    {
      "cell_type": "markdown",
      "metadata": {
        "id": "Yd12d1dMO6Ch"
      },
      "source": [
        "# Quiz. 입력을 받아 2배 출력. 숫자가 아니면 '입력값 xxx는 숫자가 아닙니다' 출력"
      ]
    },
    {
      "cell_type": "code",
      "metadata": {
        "colab": {
          "base_uri": "https://localhost:8080/",
          "height": 592
        },
        "id": "Sf67uzQkNafE",
        "outputId": "90a90263-4910-4d9a-ebb3-4430001ff30c"
      },
      "source": [
        "# isdigit()나 isnumeric()을 사용하지 말고 try-except 사용을 권장.\n",
        "i = input()\n",
        "if i.isdigit():\n",
        "  v = float(i)\n",
        "  print(v*2)\n",
        "else:\n",
        "  print(\"입력값 {}는 숫자가 아닙니다\".format(i))"
      ],
      "execution_count": null,
      "outputs": [
        {
          "output_type": "error",
          "ename": "KeyboardInterrupt",
          "evalue": "ignored",
          "traceback": [
            "\u001b[0;31m---------------------------------------------------------------------------\u001b[0m",
            "\u001b[0;31mKeyboardInterrupt\u001b[0m                         Traceback (most recent call last)",
            "\u001b[0;32m/usr/local/lib/python3.7/dist-packages/ipykernel/kernelbase.py\u001b[0m in \u001b[0;36m_input_request\u001b[0;34m(self, prompt, ident, parent, password)\u001b[0m\n\u001b[1;32m    728\u001b[0m             \u001b[0;32mtry\u001b[0m\u001b[0;34m:\u001b[0m\u001b[0;34m\u001b[0m\u001b[0;34m\u001b[0m\u001b[0m\n\u001b[0;32m--> 729\u001b[0;31m                 \u001b[0mident\u001b[0m\u001b[0;34m,\u001b[0m \u001b[0mreply\u001b[0m \u001b[0;34m=\u001b[0m \u001b[0mself\u001b[0m\u001b[0;34m.\u001b[0m\u001b[0msession\u001b[0m\u001b[0;34m.\u001b[0m\u001b[0mrecv\u001b[0m\u001b[0;34m(\u001b[0m\u001b[0mself\u001b[0m\u001b[0;34m.\u001b[0m\u001b[0mstdin_socket\u001b[0m\u001b[0;34m,\u001b[0m \u001b[0;36m0\u001b[0m\u001b[0;34m)\u001b[0m\u001b[0;34m\u001b[0m\u001b[0;34m\u001b[0m\u001b[0m\n\u001b[0m\u001b[1;32m    730\u001b[0m             \u001b[0;32mexcept\u001b[0m \u001b[0mException\u001b[0m\u001b[0;34m:\u001b[0m\u001b[0;34m\u001b[0m\u001b[0;34m\u001b[0m\u001b[0m\n",
            "\u001b[0;32m/usr/local/lib/python3.7/dist-packages/jupyter_client/session.py\u001b[0m in \u001b[0;36mrecv\u001b[0;34m(self, socket, mode, content, copy)\u001b[0m\n\u001b[1;32m    802\u001b[0m         \u001b[0;32mtry\u001b[0m\u001b[0;34m:\u001b[0m\u001b[0;34m\u001b[0m\u001b[0;34m\u001b[0m\u001b[0m\n\u001b[0;32m--> 803\u001b[0;31m             \u001b[0mmsg_list\u001b[0m \u001b[0;34m=\u001b[0m \u001b[0msocket\u001b[0m\u001b[0;34m.\u001b[0m\u001b[0mrecv_multipart\u001b[0m\u001b[0;34m(\u001b[0m\u001b[0mmode\u001b[0m\u001b[0;34m,\u001b[0m \u001b[0mcopy\u001b[0m\u001b[0;34m=\u001b[0m\u001b[0mcopy\u001b[0m\u001b[0;34m)\u001b[0m\u001b[0;34m\u001b[0m\u001b[0;34m\u001b[0m\u001b[0m\n\u001b[0m\u001b[1;32m    804\u001b[0m         \u001b[0;32mexcept\u001b[0m \u001b[0mzmq\u001b[0m\u001b[0;34m.\u001b[0m\u001b[0mZMQError\u001b[0m \u001b[0;32mas\u001b[0m \u001b[0me\u001b[0m\u001b[0;34m:\u001b[0m\u001b[0;34m\u001b[0m\u001b[0;34m\u001b[0m\u001b[0m\n",
            "\u001b[0;32m/usr/local/lib/python3.7/dist-packages/zmq/sugar/socket.py\u001b[0m in \u001b[0;36mrecv_multipart\u001b[0;34m(self, flags, copy, track)\u001b[0m\n\u001b[1;32m    582\u001b[0m         \"\"\"\n\u001b[0;32m--> 583\u001b[0;31m         \u001b[0mparts\u001b[0m \u001b[0;34m=\u001b[0m \u001b[0;34m[\u001b[0m\u001b[0mself\u001b[0m\u001b[0;34m.\u001b[0m\u001b[0mrecv\u001b[0m\u001b[0;34m(\u001b[0m\u001b[0mflags\u001b[0m\u001b[0;34m,\u001b[0m \u001b[0mcopy\u001b[0m\u001b[0;34m=\u001b[0m\u001b[0mcopy\u001b[0m\u001b[0;34m,\u001b[0m \u001b[0mtrack\u001b[0m\u001b[0;34m=\u001b[0m\u001b[0mtrack\u001b[0m\u001b[0;34m)\u001b[0m\u001b[0;34m]\u001b[0m\u001b[0;34m\u001b[0m\u001b[0;34m\u001b[0m\u001b[0m\n\u001b[0m\u001b[1;32m    584\u001b[0m         \u001b[0;31m# have first part already, only loop while more to receive\u001b[0m\u001b[0;34m\u001b[0m\u001b[0;34m\u001b[0m\u001b[0;34m\u001b[0m\u001b[0m\n",
            "\u001b[0;32mzmq/backend/cython/socket.pyx\u001b[0m in \u001b[0;36mzmq.backend.cython.socket.Socket.recv\u001b[0;34m()\u001b[0m\n",
            "\u001b[0;32mzmq/backend/cython/socket.pyx\u001b[0m in \u001b[0;36mzmq.backend.cython.socket.Socket.recv\u001b[0;34m()\u001b[0m\n",
            "\u001b[0;32mzmq/backend/cython/socket.pyx\u001b[0m in \u001b[0;36mzmq.backend.cython.socket._recv_copy\u001b[0;34m()\u001b[0m\n",
            "\u001b[0;32m/usr/local/lib/python3.7/dist-packages/zmq/backend/cython/checkrc.pxd\u001b[0m in \u001b[0;36mzmq.backend.cython.checkrc._check_rc\u001b[0;34m()\u001b[0m\n",
            "\u001b[0;31mKeyboardInterrupt\u001b[0m: ",
            "\nDuring handling of the above exception, another exception occurred:\n",
            "\u001b[0;31mKeyboardInterrupt\u001b[0m                         Traceback (most recent call last)",
            "\u001b[0;32m<ipython-input-213-a93436f2dfe4>\u001b[0m in \u001b[0;36m<module>\u001b[0;34m()\u001b[0m\n\u001b[1;32m      1\u001b[0m \u001b[0;31m# isdigit()나 isnumeric()을 사용하지 말고 try-except 사용을 권장.\u001b[0m\u001b[0;34m\u001b[0m\u001b[0;34m\u001b[0m\u001b[0;34m\u001b[0m\u001b[0m\n\u001b[0;32m----> 2\u001b[0;31m \u001b[0mi\u001b[0m \u001b[0;34m=\u001b[0m \u001b[0minput\u001b[0m\u001b[0;34m(\u001b[0m\u001b[0;34m)\u001b[0m\u001b[0;34m\u001b[0m\u001b[0;34m\u001b[0m\u001b[0m\n\u001b[0m\u001b[1;32m      3\u001b[0m \u001b[0;32mif\u001b[0m \u001b[0mi\u001b[0m\u001b[0;34m.\u001b[0m\u001b[0misdigit\u001b[0m\u001b[0;34m(\u001b[0m\u001b[0;34m)\u001b[0m\u001b[0;34m:\u001b[0m\u001b[0;34m\u001b[0m\u001b[0;34m\u001b[0m\u001b[0m\n\u001b[1;32m      4\u001b[0m   \u001b[0mv\u001b[0m \u001b[0;34m=\u001b[0m \u001b[0mfloat\u001b[0m\u001b[0;34m(\u001b[0m\u001b[0mi\u001b[0m\u001b[0;34m)\u001b[0m\u001b[0;34m\u001b[0m\u001b[0;34m\u001b[0m\u001b[0m\n\u001b[1;32m      5\u001b[0m   \u001b[0mprint\u001b[0m\u001b[0;34m(\u001b[0m\u001b[0mv\u001b[0m\u001b[0;34m*\u001b[0m\u001b[0;36m2\u001b[0m\u001b[0;34m)\u001b[0m\u001b[0;34m\u001b[0m\u001b[0;34m\u001b[0m\u001b[0m\n",
            "\u001b[0;32m/usr/local/lib/python3.7/dist-packages/ipykernel/kernelbase.py\u001b[0m in \u001b[0;36mraw_input\u001b[0;34m(self, prompt)\u001b[0m\n\u001b[1;32m    702\u001b[0m             \u001b[0mself\u001b[0m\u001b[0;34m.\u001b[0m\u001b[0m_parent_ident\u001b[0m\u001b[0;34m,\u001b[0m\u001b[0;34m\u001b[0m\u001b[0;34m\u001b[0m\u001b[0m\n\u001b[1;32m    703\u001b[0m             \u001b[0mself\u001b[0m\u001b[0;34m.\u001b[0m\u001b[0m_parent_header\u001b[0m\u001b[0;34m,\u001b[0m\u001b[0;34m\u001b[0m\u001b[0;34m\u001b[0m\u001b[0m\n\u001b[0;32m--> 704\u001b[0;31m             \u001b[0mpassword\u001b[0m\u001b[0;34m=\u001b[0m\u001b[0;32mFalse\u001b[0m\u001b[0;34m,\u001b[0m\u001b[0;34m\u001b[0m\u001b[0;34m\u001b[0m\u001b[0m\n\u001b[0m\u001b[1;32m    705\u001b[0m         )\n\u001b[1;32m    706\u001b[0m \u001b[0;34m\u001b[0m\u001b[0m\n",
            "\u001b[0;32m/usr/local/lib/python3.7/dist-packages/ipykernel/kernelbase.py\u001b[0m in \u001b[0;36m_input_request\u001b[0;34m(self, prompt, ident, parent, password)\u001b[0m\n\u001b[1;32m    732\u001b[0m             \u001b[0;32mexcept\u001b[0m \u001b[0mKeyboardInterrupt\u001b[0m\u001b[0;34m:\u001b[0m\u001b[0;34m\u001b[0m\u001b[0;34m\u001b[0m\u001b[0m\n\u001b[1;32m    733\u001b[0m                 \u001b[0;31m# re-raise KeyboardInterrupt, to truncate traceback\u001b[0m\u001b[0;34m\u001b[0m\u001b[0;34m\u001b[0m\u001b[0;34m\u001b[0m\u001b[0m\n\u001b[0;32m--> 734\u001b[0;31m                 \u001b[0;32mraise\u001b[0m \u001b[0mKeyboardInterrupt\u001b[0m\u001b[0;34m\u001b[0m\u001b[0;34m\u001b[0m\u001b[0m\n\u001b[0m\u001b[1;32m    735\u001b[0m             \u001b[0;32melse\u001b[0m\u001b[0;34m:\u001b[0m\u001b[0;34m\u001b[0m\u001b[0;34m\u001b[0m\u001b[0m\n\u001b[1;32m    736\u001b[0m                 \u001b[0;32mbreak\u001b[0m\u001b[0;34m\u001b[0m\u001b[0;34m\u001b[0m\u001b[0m\n",
            "\u001b[0;31mKeyboardInterrupt\u001b[0m: "
          ]
        }
      ]
    },
    {
      "cell_type": "markdown",
      "metadata": {
        "id": "8iAQGz83S0Q_"
      },
      "source": [
        "```\n",
        "str\n",
        "list\n",
        "tuple\n",
        "dic\n",
        "set\n",
        "```"
      ]
    },
    {
      "cell_type": "markdown",
      "metadata": {
        "id": "3zUUmXUm0ZoG"
      },
      "source": [
        "# Tuple"
      ]
    },
    {
      "cell_type": "code",
      "metadata": {
        "colab": {
          "base_uri": "https://localhost:8080/"
        },
        "id": "rJ9a_SyZS3rA",
        "outputId": "ba7752e3-a3af-4056-945b-b864f627dd28"
      },
      "source": [
        "l = [ 0, 1, 2, 3 ]\n",
        "t = ( 0, 1, 2, 3 )\n",
        "print(l)\n",
        "print(type(l))\n",
        "print(t)\n",
        "print(type(t))\n",
        "\n",
        "print(len(l))\n",
        "print(len(t))\n",
        "\n",
        "print(l[0])\n",
        "print(t[0])"
      ],
      "execution_count": null,
      "outputs": [
        {
          "output_type": "stream",
          "text": [
            "[0, 1, 2, 3]\n",
            "<class 'list'>\n",
            "(0, 1, 2, 3)\n",
            "<class 'tuple'>\n",
            "4\n",
            "4\n",
            "0\n",
            "0\n"
          ],
          "name": "stdout"
        }
      ]
    },
    {
      "cell_type": "code",
      "metadata": {
        "colab": {
          "base_uri": "https://localhost:8080/"
        },
        "id": "AAnk6NS4Td55",
        "outputId": "2c070b0a-9792-428b-c908-8fe7a51fb713"
      },
      "source": [
        "def div_and_mod(a, b):\n",
        "  return 1, 2\n",
        "\n",
        "div, mod = div_and_mod(9, 4)\n",
        "print(div, mod)\n",
        "\n",
        "t = div_and_mod(9, 4)\n",
        "print(t)\n",
        "print(type(t))\n",
        "print(t[0], t[1])"
      ],
      "execution_count": null,
      "outputs": [
        {
          "output_type": "stream",
          "text": [
            "1 2\n",
            "(1, 2)\n",
            "<class 'tuple'>\n",
            "1 2\n"
          ],
          "name": "stdout"
        }
      ]
    },
    {
      "cell_type": "code",
      "metadata": {
        "colab": {
          "base_uri": "https://localhost:8080/"
        },
        "id": "THPrKAU_UObt",
        "outputId": "8f659f25-7b74-413c-f43a-a60e2c5fead5"
      },
      "source": [
        "import numpy as np\n",
        "\n",
        "a = np.arange(12).reshape((3,4))\n",
        "a = np.arange(12).reshape((3,4,5,6,7))\n",
        "\n",
        "\n",
        "print(a)\n",
        "shape = a.shape\n",
        "print(shape)\n",
        "print(type(shape))\n",
        "print(shape[0])\n",
        "print(shape[1])\n"
      ],
      "execution_count": null,
      "outputs": [
        {
          "output_type": "stream",
          "text": [
            "[[ 0  1  2  3]\n",
            " [ 4  5  6  7]\n",
            " [ 8  9 10 11]]\n",
            "(3, 4)\n",
            "<class 'tuple'>\n",
            "3\n",
            "4\n"
          ],
          "name": "stdout"
        }
      ]
    },
    {
      "cell_type": "code",
      "metadata": {
        "colab": {
          "base_uri": "https://localhost:8080/"
        },
        "id": "fOxLlz3zVRSl",
        "outputId": "f1292f8c-ec2d-4b80-c48c-428095206da2"
      },
      "source": [
        "l = [ 0, 1, 2, 3 ]\n",
        "print(l)\n",
        "l[1] = 11\n",
        "print(l)"
      ],
      "execution_count": null,
      "outputs": [
        {
          "output_type": "stream",
          "text": [
            "[0, 1, 2, 3]\n",
            "[0, 11, 2, 3]\n"
          ],
          "name": "stdout"
        }
      ]
    },
    {
      "cell_type": "code",
      "metadata": {
        "colab": {
          "base_uri": "https://localhost:8080/",
          "height": 226
        },
        "id": "nKU5VLN3VWbW",
        "outputId": "3f3d506f-cf37-4329-8716-9b78bde25fee"
      },
      "source": [
        "t = ( 0, 1, 2, 3 )\n",
        "print(t)\n",
        "t[1] = 11"
      ],
      "execution_count": null,
      "outputs": [
        {
          "output_type": "stream",
          "text": [
            "(0, 1, 2, 3)\n"
          ],
          "name": "stdout"
        },
        {
          "output_type": "error",
          "ename": "TypeError",
          "evalue": "ignored",
          "traceback": [
            "\u001b[0;31m---------------------------------------------------------------------------\u001b[0m",
            "\u001b[0;31mTypeError\u001b[0m                                 Traceback (most recent call last)",
            "\u001b[0;32m<ipython-input-224-0e706457610f>\u001b[0m in \u001b[0;36m<module>\u001b[0;34m()\u001b[0m\n\u001b[1;32m      1\u001b[0m \u001b[0mt\u001b[0m \u001b[0;34m=\u001b[0m \u001b[0;34m(\u001b[0m \u001b[0;36m0\u001b[0m\u001b[0;34m,\u001b[0m \u001b[0;36m1\u001b[0m\u001b[0;34m,\u001b[0m \u001b[0;36m2\u001b[0m\u001b[0;34m,\u001b[0m \u001b[0;36m3\u001b[0m \u001b[0;34m)\u001b[0m\u001b[0;34m\u001b[0m\u001b[0;34m\u001b[0m\u001b[0m\n\u001b[1;32m      2\u001b[0m \u001b[0mprint\u001b[0m\u001b[0;34m(\u001b[0m\u001b[0mt\u001b[0m\u001b[0;34m)\u001b[0m\u001b[0;34m\u001b[0m\u001b[0;34m\u001b[0m\u001b[0m\n\u001b[0;32m----> 3\u001b[0;31m \u001b[0mt\u001b[0m\u001b[0;34m[\u001b[0m\u001b[0;36m1\u001b[0m\u001b[0;34m]\u001b[0m \u001b[0;34m=\u001b[0m \u001b[0;36m11\u001b[0m\u001b[0;34m\u001b[0m\u001b[0;34m\u001b[0m\u001b[0m\n\u001b[0m",
            "\u001b[0;31mTypeError\u001b[0m: 'tuple' object does not support item assignment"
          ]
        }
      ]
    },
    {
      "cell_type": "code",
      "metadata": {
        "colab": {
          "base_uri": "https://localhost:8080/"
        },
        "id": "KoU3wqK5Vmec",
        "outputId": "2770872e-62b4-4ff8-f97b-f0388add08ca"
      },
      "source": [
        "t = (1,2,3)\n",
        "print(t)\n",
        "print(type(t))\n",
        "\n",
        "t = (1,2)\n",
        "print(t)\n",
        "print(type(t))\n",
        "\n",
        "t = (1,)\n",
        "print(t)\n",
        "print(type(t))\n",
        "\n",
        "t = (1)\n",
        "print(t)\n",
        "print(type(t))\n"
      ],
      "execution_count": null,
      "outputs": [
        {
          "output_type": "stream",
          "text": [
            "(1, 2, 3)\n",
            "<class 'tuple'>\n",
            "(1, 2)\n",
            "<class 'tuple'>\n",
            "(1,)\n",
            "<class 'tuple'>\n",
            "1\n",
            "<class 'int'>\n"
          ],
          "name": "stdout"
        }
      ]
    },
    {
      "cell_type": "code",
      "metadata": {
        "id": "ZQg0nGHgVpJi"
      },
      "source": [
        "a = (1+2)*3\n",
        "\n",
        "a = (1+2)\n",
        "\n",
        "a = (3)"
      ],
      "execution_count": null,
      "outputs": []
    },
    {
      "cell_type": "code",
      "metadata": {
        "id": "7CYhDChgWR5-"
      },
      "source": [
        "a = { \"a\":1, \"b\":2 }"
      ],
      "execution_count": null,
      "outputs": []
    },
    {
      "cell_type": "code",
      "metadata": {
        "colab": {
          "base_uri": "https://localhost:8080/"
        },
        "id": "k1ybPIsfWyWY",
        "outputId": "f2d1bce5-8548-493e-c7e3-fffcbef88596"
      },
      "source": [
        "def div_and_mod(a, b):\n",
        "  return 1, 2\n",
        "\n",
        "d, m = div_and_mod(9, 4)\n",
        "print(d, m)\n",
        "\n",
        "t = div_and_mod(9, 4)\n",
        "print(t)\n",
        "(d, m) = t\n",
        "print(d, m)\n",
        "\n",
        "d, m = t\n",
        "print(d, m)\n",
        "\n",
        "d, m = t[0], t[1]\n",
        "print(d, m)"
      ],
      "execution_count": null,
      "outputs": [
        {
          "output_type": "stream",
          "text": [
            "1 2\n",
            "(1, 2)\n",
            "1 2\n",
            "1 2\n",
            "1 2\n"
          ],
          "name": "stdout"
        }
      ]
    },
    {
      "cell_type": "markdown",
      "metadata": {
        "id": "JEt55GUyXzkG"
      },
      "source": [
        "# 클래스"
      ]
    },
    {
      "cell_type": "code",
      "metadata": {
        "colab": {
          "base_uri": "https://localhost:8080/"
        },
        "id": "6R56Q4BNX06a",
        "outputId": "6b64088a-ff46-486c-a7f3-2dc729447841"
      },
      "source": [
        "class MyCalculator:\n",
        "  def __init__(self):\n",
        "    self.value = 0\n",
        "\n",
        "  def plus(self, v):\n",
        "    self.value += v\n",
        "    print(self.value)\n",
        "\n",
        "  def minus(self, v):\n",
        "    self.value -= v\n",
        "    print(self.value)\n",
        "  \n",
        "cal = MyCalculator()\n",
        "cal.plus(3)\n",
        "cal.minus(1)\n",
        "cal.plus(-1)\n",
        "cal.minus(2)\n",
        "cal.plus(5)\n",
        "\n"
      ],
      "execution_count": null,
      "outputs": [
        {
          "output_type": "stream",
          "text": [
            "3\n",
            "2\n",
            "1\n",
            "-1\n",
            "4\n"
          ],
          "name": "stdout"
        }
      ]
    },
    {
      "cell_type": "markdown",
      "metadata": {
        "id": "HWxKIqOVclp_"
      },
      "source": [
        "```\n",
        "created.\n",
        "0 + 3 = 3\n",
        "3 - 1 = 2\n",
        "2 + -1 = 1\n",
        "1 - 2 =-1\n",
        "-1 + 5 = 4\n",
        "```"
      ]
    },
    {
      "cell_type": "code",
      "metadata": {
        "id": "S75bySupchMR"
      },
      "source": [
        "created."
      ],
      "execution_count": null,
      "outputs": []
    },
    {
      "cell_type": "code",
      "metadata": {
        "id": "m7n8282mZxj8"
      },
      "source": [
        "s = \"abc\"\n",
        "s."
      ],
      "execution_count": null,
      "outputs": []
    },
    {
      "cell_type": "code",
      "metadata": {
        "id": "b9B8aU_8ZyOy"
      },
      "source": [
        ""
      ],
      "execution_count": null,
      "outputs": []
    }
  ]
}