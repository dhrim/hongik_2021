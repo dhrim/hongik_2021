{
  "nbformat": 4,
  "nbformat_minor": 0,
  "metadata": {
    "colab": {
      "name": "2021.05.06_실습내용.ipynb",
      "provenance": [],
      "collapsed_sections": []
    },
    "kernelspec": {
      "name": "python3",
      "display_name": "Python 3"
    },
    "language_info": {
      "name": "python"
    }
  },
  "cells": [
    {
      "cell_type": "code",
      "metadata": {
        "colab": {
          "base_uri": "https://localhost:8080/"
        },
        "id": "624B4o01O9Na",
        "outputId": "ca7043d7-f883-488b-b3b8-cb90d6dfe309"
      },
      "source": [
        "print(\"hello\")"
      ],
      "execution_count": null,
      "outputs": [
        {
          "output_type": "stream",
          "text": [
            "hello\n"
          ],
          "name": "stdout"
        }
      ]
    },
    {
      "cell_type": "code",
      "metadata": {
        "colab": {
          "base_uri": "https://localhost:8080/"
        },
        "id": "5MLq2qpoRoeJ",
        "outputId": "9d1bedea-d530-4787-8cde-3a9daa9d8df0"
      },
      "source": [
        "print(1)"
      ],
      "execution_count": null,
      "outputs": [
        {
          "output_type": "stream",
          "text": [
            "1\n"
          ],
          "name": "stdout"
        }
      ]
    },
    {
      "cell_type": "markdown",
      "metadata": {
        "id": "GSJgPc5_Rx6w"
      },
      "source": [
        "# 제목 1\n",
        "여기는 문서를 작성하는 셀입니다\n",
        "\n",
        "## 제목 2\n",
        "제목2의 내용\n",
        "\n",
        "### 제목 3\n",
        "제목3의 내용\n",
        "\n",
        "- 항목1\n",
        "- 항목2\n",
        "- 항목3"
      ]
    },
    {
      "cell_type": "code",
      "metadata": {
        "id": "6q5BtXYE13GJ"
      },
      "source": [
        "1 + 2 * 3"
      ],
      "execution_count": null,
      "outputs": []
    },
    {
      "cell_type": "code",
      "metadata": {
        "id": "VonrMOW0R07q",
        "colab": {
          "base_uri": "https://localhost:8080/"
        },
        "outputId": "362b6092-85c0-458c-cbb4-cd9160467e9c"
      },
      "source": [
        "# is_equals = 1 == 1\n",
        "\n",
        "is_equal = (1 == 1) # 주석....\n",
        "print(is_equal)"
      ],
      "execution_count": null,
      "outputs": [
        {
          "output_type": "stream",
          "text": [
            "True\n"
          ],
          "name": "stdout"
        }
      ]
    },
    {
      "cell_type": "code",
      "metadata": {
        "colab": {
          "base_uri": "https://localhost:8080/"
        },
        "id": "n2TbTTJZ10qS",
        "outputId": "ac4812ac-6039-4c60-965c-c7eae14a3fcd"
      },
      "source": [
        "is_equal = ( 1==2 )\n",
        "print(is_equal)"
      ],
      "execution_count": null,
      "outputs": [
        {
          "output_type": "stream",
          "text": [
            "False\n"
          ],
          "name": "stdout"
        }
      ]
    },
    {
      "cell_type": "markdown",
      "metadata": {
        "id": "cXzl1xD-2ZuG"
      },
      "source": [
        "```\n",
        "int\n",
        "float\n",
        "str\n",
        "bool\n",
        "\n",
        "```"
      ]
    },
    {
      "cell_type": "code",
      "metadata": {
        "colab": {
          "base_uri": "https://localhost:8080/"
        },
        "id": "NlV28MgU2V3c",
        "outputId": "9809f53c-1e89-4931-af0a-01e6dea1db16"
      },
      "source": [
        "print(3)"
      ],
      "execution_count": null,
      "outputs": [
        {
          "output_type": "stream",
          "text": [
            "3\n"
          ],
          "name": "stdout"
        }
      ]
    },
    {
      "cell_type": "code",
      "metadata": {
        "colab": {
          "base_uri": "https://localhost:8080/"
        },
        "id": "DynuUDbJ2mLs",
        "outputId": "37a7d406-f17e-4f48-a7d1-8b9479687192"
      },
      "source": [
        "print(3.0)"
      ],
      "execution_count": null,
      "outputs": [
        {
          "output_type": "stream",
          "text": [
            "3.0\n"
          ],
          "name": "stdout"
        }
      ]
    },
    {
      "cell_type": "code",
      "metadata": {
        "colab": {
          "base_uri": "https://localhost:8080/"
        },
        "id": "2cnc1inP2m9k",
        "outputId": "130b5064-e9d4-4512-b326-01a31acb3253"
      },
      "source": [
        "print(3.)"
      ],
      "execution_count": null,
      "outputs": [
        {
          "output_type": "stream",
          "text": [
            "3.0\n"
          ],
          "name": "stdout"
        }
      ]
    },
    {
      "cell_type": "code",
      "metadata": {
        "colab": {
          "base_uri": "https://localhost:8080/"
        },
        "id": "lhVNFBIc2nmE",
        "outputId": "834b88fd-7604-4152-e006-282073ab29cd"
      },
      "source": [
        "print(float(3))"
      ],
      "execution_count": null,
      "outputs": [
        {
          "output_type": "stream",
          "text": [
            "3.0\n"
          ],
          "name": "stdout"
        }
      ]
    },
    {
      "cell_type": "code",
      "metadata": {
        "colab": {
          "base_uri": "https://localhost:8080/"
        },
        "id": "S-NEwHAC23cT",
        "outputId": "7cad7635-10bb-4b69-bbe3-9494ed05811e"
      },
      "source": [
        "print(int(3.0))"
      ],
      "execution_count": null,
      "outputs": [
        {
          "output_type": "stream",
          "text": [
            "3\n"
          ],
          "name": "stdout"
        }
      ]
    },
    {
      "cell_type": "code",
      "metadata": {
        "colab": {
          "base_uri": "https://localhost:8080/"
        },
        "id": "tH6ZUFYK25Jj",
        "outputId": "1d6d1be8-b0ed-48d7-9eda-8108a75e6fe8"
      },
      "source": [
        "print(int(3.1))\n",
        "print(int(3.4))\n",
        "print(int(3.5))\n",
        "print(int(3.6))\n",
        "print(int(3.9))\n",
        "print(int(4.0))"
      ],
      "execution_count": null,
      "outputs": [
        {
          "output_type": "stream",
          "text": [
            "3\n",
            "3\n",
            "3\n",
            "3\n",
            "3\n",
            "4\n"
          ],
          "name": "stdout"
        }
      ]
    },
    {
      "cell_type": "code",
      "metadata": {
        "id": "ZZs9hBRI26Df"
      },
      "source": [
        "print(), float(), int()\n",
        "+ - * / = == "
      ],
      "execution_count": null,
      "outputs": []
    },
    {
      "cell_type": "code",
      "metadata": {
        "colab": {
          "base_uri": "https://localhost:8080/"
        },
        "id": "QJgCnddM3o9O",
        "outputId": "01a54cfa-7cd3-4a3c-9ef3-b60a9d0e2e7a"
      },
      "source": [
        "print(type(3))"
      ],
      "execution_count": null,
      "outputs": [
        {
          "output_type": "stream",
          "text": [
            "<class 'int'>\n"
          ],
          "name": "stdout"
        }
      ]
    },
    {
      "cell_type": "code",
      "metadata": {
        "colab": {
          "base_uri": "https://localhost:8080/"
        },
        "id": "lNs1qlmg3qLc",
        "outputId": "6a476fc6-961b-4972-d64f-19c9050357b5"
      },
      "source": [
        "print(type(3.1))"
      ],
      "execution_count": null,
      "outputs": [
        {
          "output_type": "stream",
          "text": [
            "<class 'float'>\n"
          ],
          "name": "stdout"
        }
      ]
    },
    {
      "cell_type": "code",
      "metadata": {
        "colab": {
          "base_uri": "https://localhost:8080/"
        },
        "id": "xvYUQYLb3r1A",
        "outputId": "66d57436-57b0-44d1-ac08-fda519ea12da"
      },
      "source": [
        "print(type(\"tom\"))"
      ],
      "execution_count": null,
      "outputs": [
        {
          "output_type": "stream",
          "text": [
            "<class 'str'>\n"
          ],
          "name": "stdout"
        }
      ]
    },
    {
      "cell_type": "code",
      "metadata": {
        "colab": {
          "base_uri": "https://localhost:8080/"
        },
        "id": "FlnExmIt3uGU",
        "outputId": "ab1d218f-a326-4feb-e950-660b5b3042b8"
      },
      "source": [
        "print(type(True))"
      ],
      "execution_count": null,
      "outputs": [
        {
          "output_type": "stream",
          "text": [
            "<class 'bool'>\n"
          ],
          "name": "stdout"
        }
      ]
    },
    {
      "cell_type": "code",
      "metadata": {
        "colab": {
          "base_uri": "https://localhost:8080/"
        },
        "id": "W6TVTrMz4MG1",
        "outputId": "ebc92d39-bba9-48a6-98c6-6d7a9566eff8"
      },
      "source": [
        "print(1+2.)"
      ],
      "execution_count": null,
      "outputs": [
        {
          "output_type": "stream",
          "text": [
            "3.0\n"
          ],
          "name": "stdout"
        }
      ]
    },
    {
      "cell_type": "code",
      "metadata": {
        "colab": {
          "base_uri": "https://localhost:8080/"
        },
        "id": "AxW80uVp4O6j",
        "outputId": "87c53efb-66f6-4c4a-bec9-1fce63416885"
      },
      "source": [
        "print(float(1)+2.)"
      ],
      "execution_count": null,
      "outputs": [
        {
          "output_type": "stream",
          "text": [
            "3.0\n"
          ],
          "name": "stdout"
        }
      ]
    },
    {
      "cell_type": "code",
      "metadata": {
        "colab": {
          "base_uri": "https://localhost:8080/",
          "height": 172
        },
        "id": "OyXpqkeY4YIA",
        "outputId": "8125b1ce-5dc3-4a46-c9f4-6d480255eac9"
      },
      "source": [
        "print(1+\"2\")"
      ],
      "execution_count": null,
      "outputs": [
        {
          "output_type": "error",
          "ename": "TypeError",
          "evalue": "ignored",
          "traceback": [
            "\u001b[0;31m---------------------------------------------------------------------------\u001b[0m",
            "\u001b[0;31mTypeError\u001b[0m                                 Traceback (most recent call last)",
            "\u001b[0;32m<ipython-input-18-c95492883789>\u001b[0m in \u001b[0;36m<module>\u001b[0;34m()\u001b[0m\n\u001b[0;32m----> 1\u001b[0;31m \u001b[0mprint\u001b[0m\u001b[0;34m(\u001b[0m\u001b[0;36m1\u001b[0m\u001b[0;34m+\u001b[0m\u001b[0;34m\"2\"\u001b[0m\u001b[0;34m)\u001b[0m\u001b[0;34m\u001b[0m\u001b[0;34m\u001b[0m\u001b[0m\n\u001b[0m",
            "\u001b[0;31mTypeError\u001b[0m: unsupported operand type(s) for +: 'int' and 'str'"
          ]
        }
      ]
    },
    {
      "cell_type": "code",
      "metadata": {
        "colab": {
          "base_uri": "https://localhost:8080/"
        },
        "id": "0tC9Kg-S4cus",
        "outputId": "dabff9ba-6ccc-4f66-c9d9-230ff78d9af2"
      },
      "source": [
        "print(1+int(\"2\"))"
      ],
      "execution_count": null,
      "outputs": [
        {
          "output_type": "stream",
          "text": [
            "3\n"
          ],
          "name": "stdout"
        }
      ]
    },
    {
      "cell_type": "code",
      "metadata": {
        "colab": {
          "base_uri": "https://localhost:8080/"
        },
        "id": "ERIUNdqu4jn_",
        "outputId": "a1bf5d21-0ea4-4674-9543-1e9ad2dc64b7"
      },
      "source": [
        "print(1+float(\"2\"))"
      ],
      "execution_count": null,
      "outputs": [
        {
          "output_type": "stream",
          "text": [
            "3.0\n"
          ],
          "name": "stdout"
        }
      ]
    },
    {
      "cell_type": "code",
      "metadata": {
        "colab": {
          "base_uri": "https://localhost:8080/",
          "height": 172
        },
        "id": "whvD_yqt4lkr",
        "outputId": "4d587363-c4a8-4e4a-c5fc-ee2f3ed58eb8"
      },
      "source": [
        "\"tom\" + 1"
      ],
      "execution_count": null,
      "outputs": [
        {
          "output_type": "error",
          "ename": "TypeError",
          "evalue": "ignored",
          "traceback": [
            "\u001b[0;31m---------------------------------------------------------------------------\u001b[0m",
            "\u001b[0;31mTypeError\u001b[0m                                 Traceback (most recent call last)",
            "\u001b[0;32m<ipython-input-21-b03cb11e29a7>\u001b[0m in \u001b[0;36m<module>\u001b[0;34m()\u001b[0m\n\u001b[0;32m----> 1\u001b[0;31m \u001b[0;34m\"tom\"\u001b[0m \u001b[0;34m+\u001b[0m \u001b[0;36m1\u001b[0m\u001b[0;34m\u001b[0m\u001b[0;34m\u001b[0m\u001b[0m\n\u001b[0m",
            "\u001b[0;31mTypeError\u001b[0m: can only concatenate str (not \"int\") to str"
          ]
        }
      ]
    },
    {
      "cell_type": "code",
      "metadata": {
        "colab": {
          "base_uri": "https://localhost:8080/"
        },
        "id": "A2beYNTr46L7",
        "outputId": "e3cc9486-d6aa-4f0e-e8a5-65e630b31b7b"
      },
      "source": [
        "print(\"tom\" * 2)"
      ],
      "execution_count": null,
      "outputs": [
        {
          "output_type": "stream",
          "text": [
            "tomtom\n"
          ],
          "name": "stdout"
        }
      ]
    },
    {
      "cell_type": "code",
      "metadata": {
        "colab": {
          "base_uri": "https://localhost:8080/"
        },
        "id": "uHu6K0S74798",
        "outputId": "945e0b2f-60a8-468f-b269-53f70d2ebad6"
      },
      "source": [
        "print(\"tom\"*10)"
      ],
      "execution_count": null,
      "outputs": [
        {
          "output_type": "stream",
          "text": [
            "tomtomtomtomtomtomtomtomtomtom\n"
          ],
          "name": "stdout"
        }
      ]
    },
    {
      "cell_type": "code",
      "metadata": {
        "colab": {
          "base_uri": "https://localhost:8080/",
          "height": 172
        },
        "id": "GSC50zEx5B1I",
        "outputId": "4c3ddbd1-7b36-45ec-d6ed-3d6d5e2d00e9"
      },
      "source": [
        "print(\"tom\"*10.)"
      ],
      "execution_count": null,
      "outputs": [
        {
          "output_type": "error",
          "ename": "TypeError",
          "evalue": "ignored",
          "traceback": [
            "\u001b[0;31m---------------------------------------------------------------------------\u001b[0m",
            "\u001b[0;31mTypeError\u001b[0m                                 Traceback (most recent call last)",
            "\u001b[0;32m<ipython-input-25-5a6ca1a1c941>\u001b[0m in \u001b[0;36m<module>\u001b[0;34m()\u001b[0m\n\u001b[0;32m----> 1\u001b[0;31m \u001b[0mprint\u001b[0m\u001b[0;34m(\u001b[0m\u001b[0;34m\"tom\"\u001b[0m\u001b[0;34m*\u001b[0m\u001b[0;36m10.\u001b[0m\u001b[0;34m)\u001b[0m\u001b[0;34m\u001b[0m\u001b[0;34m\u001b[0m\u001b[0m\n\u001b[0m",
            "\u001b[0;31mTypeError\u001b[0m: can't multiply sequence by non-int of type 'float'"
          ]
        }
      ]
    },
    {
      "cell_type": "code",
      "metadata": {
        "colab": {
          "base_uri": "https://localhost:8080/",
          "height": 172
        },
        "id": "lUwoSfuJ5Lc0",
        "outputId": "53b72d86-43ce-4c92-f0f4-d0af64d6476a"
      },
      "source": [
        "print(\"tom\"*\"jerry\")"
      ],
      "execution_count": null,
      "outputs": [
        {
          "output_type": "error",
          "ename": "TypeError",
          "evalue": "ignored",
          "traceback": [
            "\u001b[0;31m---------------------------------------------------------------------------\u001b[0m",
            "\u001b[0;31mTypeError\u001b[0m                                 Traceback (most recent call last)",
            "\u001b[0;32m<ipython-input-26-895a6b70c8d1>\u001b[0m in \u001b[0;36m<module>\u001b[0;34m()\u001b[0m\n\u001b[0;32m----> 1\u001b[0;31m \u001b[0mprint\u001b[0m\u001b[0;34m(\u001b[0m\u001b[0;34m\"tom\"\u001b[0m\u001b[0;34m*\u001b[0m\u001b[0;34m\"jerry\"\u001b[0m\u001b[0;34m)\u001b[0m\u001b[0;34m\u001b[0m\u001b[0;34m\u001b[0m\u001b[0m\n\u001b[0m",
            "\u001b[0;31mTypeError\u001b[0m: can't multiply sequence by non-int of type 'str'"
          ]
        }
      ]
    },
    {
      "cell_type": "code",
      "metadata": {
        "colab": {
          "base_uri": "https://localhost:8080/"
        },
        "id": "3ugiGmyr5O_f",
        "outputId": "2f7a03c4-6e67-4389-95a2-16705c8a82e5"
      },
      "source": [
        "print(True)"
      ],
      "execution_count": null,
      "outputs": [
        {
          "output_type": "stream",
          "text": [
            "True\n"
          ],
          "name": "stdout"
        }
      ]
    },
    {
      "cell_type": "code",
      "metadata": {
        "colab": {
          "base_uri": "https://localhost:8080/"
        },
        "id": "vcIJQ36t5bXn",
        "outputId": "124dc176-bcb0-47a7-c4d2-4d22799ce8ae"
      },
      "source": [
        "print(int(True))"
      ],
      "execution_count": null,
      "outputs": [
        {
          "output_type": "stream",
          "text": [
            "1\n"
          ],
          "name": "stdout"
        }
      ]
    },
    {
      "cell_type": "code",
      "metadata": {
        "colab": {
          "base_uri": "https://localhost:8080/"
        },
        "id": "nKDlj5kv5cwj",
        "outputId": "26391462-b90f-4b88-f5a2-e2c11fc32909"
      },
      "source": [
        "print(int(False))"
      ],
      "execution_count": null,
      "outputs": [
        {
          "output_type": "stream",
          "text": [
            "0\n"
          ],
          "name": "stdout"
        }
      ]
    },
    {
      "cell_type": "code",
      "metadata": {
        "colab": {
          "base_uri": "https://localhost:8080/"
        },
        "id": "B5Rfpi8c5egv",
        "outputId": "9071cd7d-d53f-4415-d3be-9159939a7887"
      },
      "source": [
        "print(2*True)"
      ],
      "execution_count": null,
      "outputs": [
        {
          "output_type": "stream",
          "text": [
            "2\n"
          ],
          "name": "stdout"
        }
      ]
    },
    {
      "cell_type": "code",
      "metadata": {
        "colab": {
          "base_uri": "https://localhost:8080/"
        },
        "id": "TCIcP-9G5jwj",
        "outputId": "05e394c1-09f4-4bb9-c179-78b4b3980d00"
      },
      "source": [
        "print(2.1*True)"
      ],
      "execution_count": null,
      "outputs": [
        {
          "output_type": "stream",
          "text": [
            "2.1\n"
          ],
          "name": "stdout"
        }
      ]
    },
    {
      "cell_type": "code",
      "metadata": {
        "colab": {
          "base_uri": "https://localhost:8080/"
        },
        "id": "5RKsZlcO5ksu",
        "outputId": "5caced26-3878-4a20-8921-b67c13412d01"
      },
      "source": [
        "print(True*True)"
      ],
      "execution_count": null,
      "outputs": [
        {
          "output_type": "stream",
          "text": [
            "1\n"
          ],
          "name": "stdout"
        }
      ]
    },
    {
      "cell_type": "code",
      "metadata": {
        "colab": {
          "base_uri": "https://localhost:8080/"
        },
        "id": "XC-AK_SK5pF7",
        "outputId": "ab179de6-47f8-4350-e216-cc5122ff4ea5"
      },
      "source": [
        "print(bool(True*True))"
      ],
      "execution_count": null,
      "outputs": [
        {
          "output_type": "stream",
          "text": [
            "True\n"
          ],
          "name": "stdout"
        }
      ]
    },
    {
      "cell_type": "markdown",
      "metadata": {
        "id": "I5ICAtmE5xye"
      },
      "source": [
        "```\n",
        "int()\n",
        "float()\n",
        "str()\n",
        "bool()\n",
        "```"
      ]
    },
    {
      "cell_type": "code",
      "metadata": {
        "colab": {
          "base_uri": "https://localhost:8080/"
        },
        "id": "uJ5-0XIZ5reo",
        "outputId": "1c31b96c-28cc-4659-81a5-11d3edd1c1bf"
      },
      "source": [
        "print(int(3.1))\n",
        "print(int(\"3\"))\n",
        "# print(int(\"3.1\")) # ERROR\n",
        "print(int(True))"
      ],
      "execution_count": null,
      "outputs": [
        {
          "output_type": "stream",
          "text": [
            "3\n",
            "3\n",
            "1\n"
          ],
          "name": "stdout"
        }
      ]
    },
    {
      "cell_type": "code",
      "metadata": {
        "colab": {
          "base_uri": "https://localhost:8080/"
        },
        "id": "BYq9jLyr59U2",
        "outputId": "8b55c79e-b638-44f2-a849-efcd5bd1ca52"
      },
      "source": [
        "print(float(3))\n",
        "print(float(\"3.1\"))\n",
        "print(float(True))"
      ],
      "execution_count": null,
      "outputs": [
        {
          "output_type": "stream",
          "text": [
            "3.0\n",
            "3.1\n",
            "1.0\n"
          ],
          "name": "stdout"
        }
      ]
    },
    {
      "cell_type": "code",
      "metadata": {
        "colab": {
          "base_uri": "https://localhost:8080/"
        },
        "id": "7c_OM1aj6DIA",
        "outputId": "619fbfea-29b2-4970-a154-2726186a05fb"
      },
      "source": [
        "print(str(3))\n",
        "print(str(3.1))\n",
        "print(str(True))"
      ],
      "execution_count": null,
      "outputs": [
        {
          "output_type": "stream",
          "text": [
            "3\n",
            "3.1\n",
            "True\n"
          ],
          "name": "stdout"
        }
      ]
    },
    {
      "cell_type": "code",
      "metadata": {
        "colab": {
          "base_uri": "https://localhost:8080/"
        },
        "id": "ZHJDKGYe6He4",
        "outputId": "7562e64b-c86f-4659-ccba-3a3a81c0619b"
      },
      "source": [
        "print(bool(3))\n",
        "print(bool(3.1))\n",
        "print(bool(\"True\"))\n",
        "print(bool(\"true\"))\n",
        "print(bool(\"False\"))\n",
        "print(bool(1))\n",
        "print(bool(0))\n",
        "print(bool(None))"
      ],
      "execution_count": null,
      "outputs": [
        {
          "output_type": "stream",
          "text": [
            "True\n",
            "True\n",
            "True\n",
            "True\n",
            "True\n",
            "True\n",
            "False\n",
            "False\n"
          ],
          "name": "stdout"
        }
      ]
    },
    {
      "cell_type": "code",
      "metadata": {
        "colab": {
          "base_uri": "https://localhost:8080/"
        },
        "id": "ht7U_M9h6OZv",
        "outputId": "359ea9de-73cb-4091-9bb5-02ccac92daa7"
      },
      "source": [
        "# print(\"3\"+1)  # 4\n",
        "print(int(\"3\")+1)"
      ],
      "execution_count": null,
      "outputs": [
        {
          "output_type": "stream",
          "text": [
            "4\n"
          ],
          "name": "stdout"
        }
      ]
    },
    {
      "cell_type": "code",
      "metadata": {
        "colab": {
          "base_uri": "https://localhost:8080/"
        },
        "id": "f7CjfUwC7kRS",
        "outputId": "ab1de058-7f06-453a-96d6-d85f6ac149a7"
      },
      "source": [
        "# print(\"3\"+1)  # 4.0\n",
        "print(float(\"3\")+1)"
      ],
      "execution_count": null,
      "outputs": [
        {
          "output_type": "stream",
          "text": [
            "4.0\n"
          ],
          "name": "stdout"
        }
      ]
    },
    {
      "cell_type": "code",
      "metadata": {
        "colab": {
          "base_uri": "https://localhost:8080/"
        },
        "id": "WgsXpb6y7TiI",
        "outputId": "dd4ea604-cc9c-4526-9cc5-fa418e89c221"
      },
      "source": [
        "# print(\"3.1\"+1) # 4.1\n",
        "print(float(\"3.1\")+1)"
      ],
      "execution_count": null,
      "outputs": [
        {
          "output_type": "stream",
          "text": [
            "4.1\n"
          ],
          "name": "stdout"
        }
      ]
    },
    {
      "cell_type": "code",
      "metadata": {
        "colab": {
          "base_uri": "https://localhost:8080/"
        },
        "id": "rGH07Wea7VQl",
        "outputId": "ee0943bc-bcab-4509-acaa-97868c7fcab7"
      },
      "source": [
        "# print(\"3.1\"+\"1\")  # 4.1\n",
        "print(float(\"3.1\")+float(\"1\"))  # 4.1"
      ],
      "execution_count": null,
      "outputs": [
        {
          "output_type": "stream",
          "text": [
            "4.1\n"
          ],
          "name": "stdout"
        }
      ]
    },
    {
      "cell_type": "markdown",
      "metadata": {
        "id": "_gHMXc4V84yz"
      },
      "source": [
        "```\n",
        "int() : 버림. math.truc() 같다\n",
        "round() : 반올림/반내림\n",
        "math.floor() : 원값보다 바로 작은 정수\n",
        "math.ceil() : 원값보다 바로 큰 정수\n",
        "math.truc() : 소수전 아래 버리기. \n",
        "```"
      ]
    },
    {
      "cell_type": "code",
      "metadata": {
        "colab": {
          "base_uri": "https://localhost:8080/"
        },
        "id": "sv59oIg38Upd",
        "outputId": "e18896ae-76e9-49a0-da88-5fe08aac386a"
      },
      "source": [
        "print(int(3.0))\n",
        "print(int(3.1))\n",
        "print(int(3.4))\n",
        "print(int(3.5))\n",
        "print(int(3.9))\n",
        "print(int(4.0))"
      ],
      "execution_count": null,
      "outputs": [
        {
          "output_type": "stream",
          "text": [
            "3\n",
            "3\n",
            "3\n",
            "3\n",
            "3\n",
            "4\n"
          ],
          "name": "stdout"
        }
      ]
    },
    {
      "cell_type": "code",
      "metadata": {
        "colab": {
          "base_uri": "https://localhost:8080/"
        },
        "id": "IPbpWNEZ9TzU",
        "outputId": "0cc1b702-7f0c-4a1d-8ace-81a8358c4c9e"
      },
      "source": [
        "print(round(3.0))\n",
        "print(round(3.1))\n",
        "print(round(3.4))\n",
        "print(round(3.5))\n",
        "print(round(3.9))\n",
        "print(round(4.0))"
      ],
      "execution_count": null,
      "outputs": [
        {
          "output_type": "stream",
          "text": [
            "3\n",
            "3\n",
            "3\n",
            "4\n",
            "4\n",
            "4\n"
          ],
          "name": "stdout"
        }
      ]
    },
    {
      "cell_type": "code",
      "metadata": {
        "colab": {
          "base_uri": "https://localhost:8080/"
        },
        "id": "be4pdNCS97CU",
        "outputId": "77e867fb-c0ab-4c9d-dd52-2230fad815d4"
      },
      "source": [
        "import math\n",
        "\n",
        "print(math.floor(3.0))\n",
        "print(math.floor(3.1))\n",
        "print(math.floor(3.4))\n",
        "print(math.floor(3.5))\n",
        "print(math.floor(3.9))\n",
        "print(math.floor(4.0))"
      ],
      "execution_count": null,
      "outputs": [
        {
          "output_type": "stream",
          "text": [
            "3\n",
            "3\n",
            "3\n",
            "3\n",
            "3\n",
            "4\n"
          ],
          "name": "stdout"
        }
      ]
    },
    {
      "cell_type": "code",
      "metadata": {
        "colab": {
          "base_uri": "https://localhost:8080/"
        },
        "id": "E-rE5Cfw-FvT",
        "outputId": "36775252-dd8c-42ee-93bc-f8ccc5e9c2a0"
      },
      "source": [
        "import math\n",
        "\n",
        "print(math.ceil(3.0))\n",
        "print(math.ceil(3.1))\n",
        "print(math.ceil(3.4))\n",
        "print(math.ceil(3.5))\n",
        "print(math.ceil(3.9))\n",
        "print(math.ceil(4.0))"
      ],
      "execution_count": null,
      "outputs": [
        {
          "output_type": "stream",
          "text": [
            "3\n",
            "4\n",
            "4\n",
            "4\n",
            "4\n",
            "4\n"
          ],
          "name": "stdout"
        }
      ]
    },
    {
      "cell_type": "code",
      "metadata": {
        "colab": {
          "base_uri": "https://localhost:8080/"
        },
        "id": "_VnmT8RZ-lDs",
        "outputId": "167f0683-b311-49d4-9c5d-8b5cc981e015"
      },
      "source": [
        "import math\n",
        "\n",
        "print(math.trunc(3.0))\n",
        "print(math.trunc(3.1))\n",
        "print(math.trunc(3.4))\n",
        "print(math.trunc(3.5))\n",
        "print(math.trunc(3.9))\n",
        "print(math.trunc(4.0))\n",
        "\n",
        "\n"
      ],
      "execution_count": null,
      "outputs": [
        {
          "output_type": "stream",
          "text": [
            "3\n",
            "3\n",
            "3\n",
            "3\n",
            "3\n",
            "4\n",
            "-3\n",
            "-3\n",
            "-3\n",
            "-3\n",
            "-3\n",
            "-4\n"
          ],
          "name": "stdout"
        }
      ]
    },
    {
      "cell_type": "code",
      "metadata": {
        "colab": {
          "base_uri": "https://localhost:8080/"
        },
        "id": "pHECfY0x-vZL",
        "outputId": "070f8b88-edc4-45fc-c03a-6a1c14d08114"
      },
      "source": [
        "print(\"floor\")\n",
        "print(math.floor(-3.0))\n",
        "print(math.floor(-3.1))\n",
        "print(math.floor(-3.4))\n",
        "print(math.floor(-3.5))\n",
        "print(math.floor(-3.9))\n",
        "print(math.floor(-4.0))\n",
        "\n",
        "print(\"truc\")\n",
        "print(math.trunc(-3.0))\n",
        "print(math.trunc(-3.1))\n",
        "print(math.trunc(-3.4))\n",
        "print(math.trunc(-3.5))\n",
        "print(math.trunc(-3.9))\n",
        "print(math.trunc(-4.0))"
      ],
      "execution_count": null,
      "outputs": [
        {
          "output_type": "stream",
          "text": [
            "floor\n",
            "-3\n",
            "-4\n",
            "-4\n",
            "-4\n",
            "-4\n",
            "-4\n",
            "truc\n",
            "-3\n",
            "-3\n",
            "-3\n",
            "-3\n",
            "-3\n",
            "-4\n"
          ],
          "name": "stdout"
        }
      ]
    },
    {
      "cell_type": "code",
      "metadata": {
        "colab": {
          "base_uri": "https://localhost:8080/"
        },
        "id": "trbPjIsd_U9s",
        "outputId": "8c256b79-073b-40c5-cc20-33eb068085aa"
      },
      "source": [
        "1+2\n",
        "2+3"
      ],
      "execution_count": null,
      "outputs": [
        {
          "output_type": "execute_result",
          "data": {
            "text/plain": [
              "5"
            ]
          },
          "metadata": {
            "tags": []
          },
          "execution_count": 65
        }
      ]
    },
    {
      "cell_type": "code",
      "metadata": {
        "colab": {
          "base_uri": "https://localhost:8080/"
        },
        "id": "g5_Xd7e8AHrn",
        "outputId": "6afad2dd-a922-447c-92be-026458521eb2"
      },
      "source": [
        "print(1+2)\n",
        "print(2+3)"
      ],
      "execution_count": null,
      "outputs": [
        {
          "output_type": "stream",
          "text": [
            "3\n",
            "5\n"
          ],
          "name": "stdout"
        }
      ]
    },
    {
      "cell_type": "code",
      "metadata": {
        "id": "jh0GaOXwAJ31"
      },
      "source": [
        "print(\"hello\")\n",
        "print(1+2)"
      ],
      "execution_count": null,
      "outputs": []
    },
    {
      "cell_type": "code",
      "metadata": {
        "colab": {
          "base_uri": "https://localhost:8080/"
        },
        "id": "JRZz1aDiFjXk",
        "outputId": "daa41dbb-7585-496b-e06c-a39fd48b8c92"
      },
      "source": [
        "print(9/4)"
      ],
      "execution_count": null,
      "outputs": [
        {
          "output_type": "stream",
          "text": [
            "2.25\n"
          ],
          "name": "stdout"
        }
      ]
    },
    {
      "cell_type": "code",
      "metadata": {
        "colab": {
          "base_uri": "https://localhost:8080/"
        },
        "id": "31Ao9j5VFmfD",
        "outputId": "2aa58964-fcb4-47b9-c048-34c8005707af"
      },
      "source": [
        "print(9//4)"
      ],
      "execution_count": null,
      "outputs": [
        {
          "output_type": "stream",
          "text": [
            "2\n"
          ],
          "name": "stdout"
        }
      ]
    },
    {
      "cell_type": "code",
      "metadata": {
        "colab": {
          "base_uri": "https://localhost:8080/"
        },
        "id": "UzP8oxe_FoFT",
        "outputId": "050edad0-51d7-404a-80e0-d66ee54a6cf6"
      },
      "source": [
        "print(9%4)"
      ],
      "execution_count": null,
      "outputs": [
        {
          "output_type": "stream",
          "text": [
            "1\n"
          ],
          "name": "stdout"
        }
      ]
    },
    {
      "cell_type": "code",
      "metadata": {
        "colab": {
          "base_uri": "https://localhost:8080/"
        },
        "id": "csOA5q_fFpIn",
        "outputId": "da0d9f6f-0891-47d6-b952-ea00c5a1ba0e"
      },
      "source": [
        "print(1<4)"
      ],
      "execution_count": null,
      "outputs": [
        {
          "output_type": "stream",
          "text": [
            "True\n"
          ],
          "name": "stdout"
        }
      ]
    },
    {
      "cell_type": "code",
      "metadata": {
        "colab": {
          "base_uri": "https://localhost:8080/"
        },
        "id": "eXTW3MIaF1cP",
        "outputId": "851948d3-7ade-4953-f082-bfe8d37277c5"
      },
      "source": [
        "print(5<4)"
      ],
      "execution_count": null,
      "outputs": [
        {
          "output_type": "stream",
          "text": [
            "False\n"
          ],
          "name": "stdout"
        }
      ]
    },
    {
      "cell_type": "code",
      "metadata": {
        "colab": {
          "base_uri": "https://localhost:8080/"
        },
        "id": "ihuf2Q5xF2yK",
        "outputId": "26ff4aa8-a342-49c9-9db7-1d191ed8ae8f"
      },
      "source": [
        "print(4>3)"
      ],
      "execution_count": null,
      "outputs": [
        {
          "output_type": "stream",
          "text": [
            "True\n"
          ],
          "name": "stdout"
        }
      ]
    },
    {
      "cell_type": "code",
      "metadata": {
        "colab": {
          "base_uri": "https://localhost:8080/"
        },
        "id": "LDMCWDsvF5Pb",
        "outputId": "4bb19c0a-edff-428b-8ff6-7bef2f14562c"
      },
      "source": [
        "print(2>3)"
      ],
      "execution_count": null,
      "outputs": [
        {
          "output_type": "stream",
          "text": [
            "False\n"
          ],
          "name": "stdout"
        }
      ]
    },
    {
      "cell_type": "code",
      "metadata": {
        "colab": {
          "base_uri": "https://localhost:8080/"
        },
        "id": "JSC9-wRoF6Tm",
        "outputId": "44aa2581-033b-4665-d9ff-5a4d5e618274"
      },
      "source": [
        "print(3<=4)\n",
        "print(4<=4)\n",
        "print(5<=4)"
      ],
      "execution_count": null,
      "outputs": [
        {
          "output_type": "stream",
          "text": [
            "True\n",
            "True\n",
            "False\n"
          ],
          "name": "stdout"
        }
      ]
    },
    {
      "cell_type": "code",
      "metadata": {
        "colab": {
          "base_uri": "https://localhost:8080/",
          "height": 136
        },
        "id": "I4brJvmqF-fi",
        "outputId": "0cd966cf-6581-441d-f5cc-efac708432b3"
      },
      "source": [
        "print(3=<4)"
      ],
      "execution_count": null,
      "outputs": [
        {
          "output_type": "error",
          "ename": "SyntaxError",
          "evalue": "ignored",
          "traceback": [
            "\u001b[0;36m  File \u001b[0;32m\"<ipython-input-76-a588c3e35191>\"\u001b[0;36m, line \u001b[0;32m1\u001b[0m\n\u001b[0;31m    print(3=<4)\u001b[0m\n\u001b[0m            ^\u001b[0m\n\u001b[0;31mSyntaxError\u001b[0m\u001b[0;31m:\u001b[0m invalid syntax\n"
          ]
        }
      ]
    },
    {
      "cell_type": "code",
      "metadata": {
        "colab": {
          "base_uri": "https://localhost:8080/"
        },
        "id": "tyCh2kBEGBs-",
        "outputId": "067a7043-c2cb-4f4e-cc6b-dc0fd0dc33e8"
      },
      "source": [
        "print(3>=4)\n",
        "print(4>=4)\n",
        "print(5>=4)"
      ],
      "execution_count": null,
      "outputs": [
        {
          "output_type": "stream",
          "text": [
            "False\n",
            "True\n",
            "True\n"
          ],
          "name": "stdout"
        }
      ]
    },
    {
      "cell_type": "code",
      "metadata": {
        "colab": {
          "base_uri": "https://localhost:8080/",
          "height": 136
        },
        "id": "IZK7VpH7GSnX",
        "outputId": "2698afb4-26a6-4508-fb29-b99432e80e48"
      },
      "source": [
        "print(5=>4)"
      ],
      "execution_count": null,
      "outputs": [
        {
          "output_type": "error",
          "ename": "SyntaxError",
          "evalue": "ignored",
          "traceback": [
            "\u001b[0;36m  File \u001b[0;32m\"<ipython-input-79-905c3a6abfd6>\"\u001b[0;36m, line \u001b[0;32m1\u001b[0m\n\u001b[0;31m    print(5=>4)\u001b[0m\n\u001b[0m            ^\u001b[0m\n\u001b[0;31mSyntaxError\u001b[0m\u001b[0;31m:\u001b[0m invalid syntax\n"
          ]
        }
      ]
    },
    {
      "cell_type": "code",
      "metadata": {
        "colab": {
          "base_uri": "https://localhost:8080/"
        },
        "id": "RIq4zyXaGVAL",
        "outputId": "38bb90f2-9751-49fd-b35c-09aee2762619"
      },
      "source": [
        "a = 3\n",
        "print(a==3)\n",
        "print(a==4)"
      ],
      "execution_count": null,
      "outputs": [
        {
          "output_type": "stream",
          "text": [
            "True\n",
            "False\n"
          ],
          "name": "stdout"
        }
      ]
    },
    {
      "cell_type": "code",
      "metadata": {
        "colab": {
          "base_uri": "https://localhost:8080/"
        },
        "id": "kr-bTQMOGd7I",
        "outputId": "22993137-d476-4620-b345-19bc475dddf0"
      },
      "source": [
        "a = 3\n",
        "print(a!=3)\n",
        "print(a!=4)"
      ],
      "execution_count": null,
      "outputs": [
        {
          "output_type": "stream",
          "text": [
            "False\n",
            "True\n"
          ],
          "name": "stdout"
        }
      ]
    },
    {
      "cell_type": "code",
      "metadata": {
        "colab": {
          "base_uri": "https://localhost:8080/"
        },
        "id": "wRX30hm9Gio3",
        "outputId": "175b6d6d-5de7-4b80-d408-e4ffcad7a630"
      },
      "source": [
        "is_summer = True\n",
        "is_rainy = True\n",
        "print(is_summer and is_rainy)"
      ],
      "execution_count": null,
      "outputs": [
        {
          "output_type": "stream",
          "text": [
            "True\n"
          ],
          "name": "stdout"
        }
      ]
    },
    {
      "cell_type": "code",
      "metadata": {
        "colab": {
          "base_uri": "https://localhost:8080/"
        },
        "id": "6SK4KvRkGuCY",
        "outputId": "d89729cb-1d1d-4273-c616-23746780723f"
      },
      "source": [
        "is_summer = True\n",
        "is_rainy = False\n",
        "print(is_summer or is_raniny)"
      ],
      "execution_count": null,
      "outputs": [
        {
          "output_type": "stream",
          "text": [
            "True\n"
          ],
          "name": "stdout"
        }
      ]
    },
    {
      "cell_type": "code",
      "metadata": {
        "colab": {
          "base_uri": "https://localhost:8080/"
        },
        "id": "5WixDsHMG1Nz",
        "outputId": "54f37c30-8154-461d-f1d9-fda20e803eee"
      },
      "source": [
        "a = 3\n",
        "# a가 0보다 크고 5보다 작은지 여부를 True/False로 출력\n",
        "print( (0<a) and (a<5) )\n",
        "print( 0<a and a<5 )"
      ],
      "execution_count": null,
      "outputs": [
        {
          "output_type": "stream",
          "text": [
            "True\n",
            "True\n"
          ],
          "name": "stdout"
        }
      ]
    },
    {
      "cell_type": "code",
      "metadata": {
        "colab": {
          "base_uri": "https://localhost:8080/"
        },
        "id": "vhTtTF3jHV1q",
        "outputId": "05dd5b6e-81d8-4243-f4b8-32b01a5c9499"
      },
      "source": [
        "a = 11\n",
        "# a가 짝수 여부를 출력\n",
        "print(a%2 == 0) "
      ],
      "execution_count": null,
      "outputs": [
        {
          "output_type": "stream",
          "text": [
            "False\n"
          ],
          "name": "stdout"
        }
      ]
    },
    {
      "cell_type": "code",
      "metadata": {
        "colab": {
          "base_uri": "https://localhost:8080/"
        },
        "id": "2_dYhia1Iekj",
        "outputId": "82c9f3b0-abde-43e6-b3fa-d6093f917360"
      },
      "source": [
        "a = 14\n",
        "# a가 짝수이고 3의 배수인지 출력\n",
        "#      짝수       3의배수\n",
        "print( a%2==0 and a%3==0 )"
      ],
      "execution_count": null,
      "outputs": [
        {
          "output_type": "stream",
          "text": [
            "False\n"
          ],
          "name": "stdout"
        }
      ]
    },
    {
      "cell_type": "code",
      "metadata": {
        "colab": {
          "base_uri": "https://localhost:8080/"
        },
        "id": "Wd5Shis1I2EP",
        "outputId": "0dde6ed9-42c0-475b-a4f6-b9e6c322d5a9"
      },
      "source": [
        "a = 14\n",
        "is_even = a%2 == 0\n",
        "is_3_multi = a%3 == 0\n",
        "\n",
        "print( is_even and is_3_multi )\n",
        "\n"
      ],
      "execution_count": null,
      "outputs": [
        {
          "output_type": "stream",
          "text": [
            "False\n"
          ],
          "name": "stdout"
        }
      ]
    },
    {
      "cell_type": "code",
      "metadata": {
        "colab": {
          "base_uri": "https://localhost:8080/"
        },
        "id": "tIKiQUG0JCEW",
        "outputId": "71d53dd7-a5c1-417d-9fb2-19b5966f058d"
      },
      "source": [
        "name = input()\n",
        "print(name)"
      ],
      "execution_count": null,
      "outputs": [
        {
          "output_type": "stream",
          "text": [
            "tom\n",
            "tom\n"
          ],
          "name": "stdout"
        }
      ]
    },
    {
      "cell_type": "code",
      "metadata": {
        "colab": {
          "base_uri": "https://localhost:8080/"
        },
        "id": "i-bMK56DJsN5",
        "outputId": "72c46280-3477-4ef1-825b-ef668ddd144e"
      },
      "source": [
        "name = input(\"이름 :\")\n",
        "print(name)"
      ],
      "execution_count": null,
      "outputs": [
        {
          "output_type": "stream",
          "text": [
            "이름 :tom\n",
            "tom\n"
          ],
          "name": "stdout"
        }
      ]
    },
    {
      "cell_type": "code",
      "metadata": {
        "colab": {
          "base_uri": "https://localhost:8080/"
        },
        "id": "JumnAExxJ6Cq",
        "outputId": "49dad347-bdfa-4121-88a1-fc11f220f782"
      },
      "source": [
        "name = input(\"이름 :\")\n",
        "print(\"name =\", name)"
      ],
      "execution_count": null,
      "outputs": [
        {
          "output_type": "stream",
          "text": [
            "이름 :111\n",
            "name = 111\n"
          ],
          "name": "stdout"
        }
      ]
    },
    {
      "cell_type": "code",
      "metadata": {
        "colab": {
          "base_uri": "https://localhost:8080/"
        },
        "id": "L0ylx01zKIlk",
        "outputId": "a191d50c-da6b-4897-d816-d3a73de745a7"
      },
      "source": [
        "# 나이를 입력 받아서 '나이는 30 입니다.'를 출력\n",
        "age = input(\"나이 :\")\n",
        "print(\"나이는\", age, \"입니다.\")"
      ],
      "execution_count": null,
      "outputs": [
        {
          "output_type": "stream",
          "text": [
            "나이 :30\n",
            "나이는 30 입니다.\n"
          ],
          "name": "stdout"
        }
      ]
    },
    {
      "cell_type": "code",
      "metadata": {
        "colab": {
          "base_uri": "https://localhost:8080/"
        },
        "id": "T2ju2z_cKOzE",
        "outputId": "68bbb4cf-0ca0-4166-dbc9-3497c00c37bf"
      },
      "source": [
        "print(1,2,3,4,\"tom\",\"jerry\")"
      ],
      "execution_count": null,
      "outputs": [
        {
          "output_type": "stream",
          "text": [
            "1 2 3 4 tom jerry\n"
          ],
          "name": "stdout"
        }
      ]
    },
    {
      "cell_type": "code",
      "metadata": {
        "colab": {
          "base_uri": "https://localhost:8080/"
        },
        "id": "RMJe8c70Ktlv",
        "outputId": "d47d397e-81f9-4f66-f86f-7fa4973b12b1"
      },
      "source": [
        "# 나이를 입력 받아서 '나이는 30입니다.'를 출력\n",
        "age = input(\"나이 :\")\n",
        "print(\"나이는 \", age, \"입니다.\", sep=\"\")"
      ],
      "execution_count": null,
      "outputs": [
        {
          "output_type": "stream",
          "text": [
            "나이 :30\n",
            "나이는 30입니다.\n"
          ],
          "name": "stdout"
        }
      ]
    },
    {
      "cell_type": "code",
      "metadata": {
        "colab": {
          "base_uri": "https://localhost:8080/"
        },
        "id": "bB23ZqboK35P",
        "outputId": "db5eaf73-6993-4180-a7ab-4e8495ee7e56"
      },
      "source": [
        "# Quiz. 사용자가 입력한 값의 2배를 출력\n",
        "i = input()\n",
        "i = float(i)\n",
        "print(i*2)"
      ],
      "execution_count": null,
      "outputs": [
        {
          "output_type": "stream",
          "text": [
            "123.4\n",
            "246.8\n"
          ],
          "name": "stdout"
        }
      ]
    },
    {
      "cell_type": "code",
      "metadata": {
        "colab": {
          "base_uri": "https://localhost:8080/"
        },
        "id": "pAWHvki7LJ2L",
        "outputId": "23ffd447-45fa-4541-a9dc-1e6b8e892ac4"
      },
      "source": [
        "# Quiz. 사용자가 입력한 값을 2로 나우었을 때의 몫과 나머지를 출력\n",
        "i = input()\n",
        "i = float(i)\n",
        "div = i//2\n",
        "mod = i%2\n",
        "print(div, mod)"
      ],
      "execution_count": null,
      "outputs": [
        {
          "output_type": "stream",
          "text": [
            "123.3\n",
            "61.0 1.2999999999999972\n"
          ],
          "name": "stdout"
        }
      ]
    },
    {
      "cell_type": "code",
      "metadata": {
        "colab": {
          "base_uri": "https://localhost:8080/"
        },
        "id": "5ZPefqsdMF0Z",
        "outputId": "a9cd6143-37cb-4adb-db50-036b9248a479"
      },
      "source": [
        "# Quiz. 2개의 값을 받아 두번째 값으로 첫번째 값을 나눈 몫과 나머지를 출력\n",
        "i1 = input()\n",
        "i2 = input()\n",
        "\n",
        "i1 = float(i1)\n",
        "i2 = float(i2)\n",
        "\n",
        "div = i1//i2\n",
        "mod = i1%i2\n",
        "print(div, mod)\n"
      ],
      "execution_count": null,
      "outputs": [
        {
          "output_type": "stream",
          "text": [
            "9\n",
            "4\n",
            "2.0 1.0\n"
          ],
          "name": "stdout"
        }
      ]
    },
    {
      "cell_type": "code",
      "metadata": {
        "colab": {
          "base_uri": "https://localhost:8080/"
        },
        "id": "opVkCKkxNDHD",
        "outputId": "36982411-22e6-476a-a65c-974309499dbb"
      },
      "source": [
        "# Quiz. 입력 받아서 짝수 여부를 출력\n",
        "i = input()\n",
        "i = float(i)\n",
        "print(i%2==0)"
      ],
      "execution_count": null,
      "outputs": [
        {
          "output_type": "stream",
          "text": [
            "-2\n",
            "True\n"
          ],
          "name": "stdout"
        }
      ]
    },
    {
      "cell_type": "code",
      "metadata": {
        "colab": {
          "base_uri": "https://localhost:8080/"
        },
        "id": "ESFVnYaER-CP",
        "outputId": "0f9217f2-c1ee-4d9b-bf0e-5a0a88fb0714"
      },
      "source": [
        "l = [1,2,3,4]\n",
        "\n",
        "f = [float(i) for i in l]\n",
        "print(f)"
      ],
      "execution_count": null,
      "outputs": [
        {
          "output_type": "stream",
          "text": [
            "[1.0, 2.0, 3.0, 4.0]\n"
          ],
          "name": "stdout"
        }
      ]
    },
    {
      "cell_type": "code",
      "metadata": {
        "colab": {
          "base_uri": "https://localhost:8080/"
        },
        "id": "OmLKmb58SIR0",
        "outputId": "7491c354-309b-4162-f2c8-f5a325097394"
      },
      "source": [
        "name = \"tom\"\n",
        "age = 30\n",
        "print(name, age)"
      ],
      "execution_count": null,
      "outputs": [
        {
          "output_type": "stream",
          "text": [
            "tom 30\n"
          ],
          "name": "stdout"
        }
      ]
    },
    {
      "cell_type": "code",
      "metadata": {
        "colab": {
          "base_uri": "https://localhost:8080/"
        },
        "id": "aGoDmPVJShN2",
        "outputId": "33b38a91-dc43-49d2-88de-684d8e89a9cb"
      },
      "source": [
        "name = \"tom\"\n",
        "age = 30\n",
        "print(\"name :\", name, \", age :\", age)"
      ],
      "execution_count": null,
      "outputs": [
        {
          "output_type": "stream",
          "text": [
            "name : tom , age : 30\n"
          ],
          "name": "stdout"
        }
      ]
    },
    {
      "cell_type": "code",
      "metadata": {
        "colab": {
          "base_uri": "https://localhost:8080/"
        },
        "id": "xhhOKZOqTaYv",
        "outputId": "4b7f465e-b555-49eb-e04f-41d1a0d0c658"
      },
      "source": [
        "name = \"tom\"\n",
        "age = 30\n",
        "print(\"name : {}, age : {}\".format(name, age))"
      ],
      "execution_count": null,
      "outputs": [
        {
          "output_type": "stream",
          "text": [
            "name : tom, age : 30\n"
          ],
          "name": "stdout"
        }
      ]
    },
    {
      "cell_type": "code",
      "metadata": {
        "colab": {
          "base_uri": "https://localhost:8080/"
        },
        "id": "gJKc5VpHT7Ay",
        "outputId": "59d6b562-3ba4-4b56-f7fe-f8b5b913f08f"
      },
      "source": [
        "# \"이름은 tom이고 나이는 30입니다.\"\n",
        "name = \"tom\"\n",
        "age = 30\n",
        "print(\"이름은 {}이고 나이는 {}입니다.\".format(name, age))"
      ],
      "execution_count": null,
      "outputs": [
        {
          "output_type": "stream",
          "text": [
            "이름은 tom이고 나이는 30입니다.\n"
          ],
          "name": "stdout"
        }
      ]
    },
    {
      "cell_type": "code",
      "metadata": {
        "colab": {
          "base_uri": "https://localhost:8080/"
        },
        "id": "xLTEMT30Uw5a",
        "outputId": "eba313a4-c7fe-4622-a583-5be44a6865f9"
      },
      "source": [
        "# \"이름은 tom이고 나이는 30입니다. age=30.\"\n",
        "\n",
        "name = \"tom\"\n",
        "age = 30\n",
        "print(\"이름은 {}이고 나이는 {}입니다. age={}.\".format(name, age, age))"
      ],
      "execution_count": null,
      "outputs": [
        {
          "output_type": "stream",
          "text": [
            "이름은 tom이고 나이는 30입니다. age=30.\n"
          ],
          "name": "stdout"
        }
      ]
    },
    {
      "cell_type": "code",
      "metadata": {
        "colab": {
          "base_uri": "https://localhost:8080/"
        },
        "id": "FiXMwcH6W9Sv",
        "outputId": "a6e00981-9928-48c4-cb14-7badd70c7c25"
      },
      "source": [
        "# \"이름은 tom이고 나이는 30입니다. age=30.\"\n",
        "\n",
        "name = \"tom\"\n",
        "age = 30\n",
        "print(\"이름은 {0}이고 나이는 {1}입니다. age={1}.\".format(name, age))"
      ],
      "execution_count": null,
      "outputs": [
        {
          "output_type": "stream",
          "text": [
            "이름은 tom이고 나이는 30입니다. age=30.\n"
          ],
          "name": "stdout"
        }
      ]
    },
    {
      "cell_type": "code",
      "metadata": {
        "colab": {
          "base_uri": "https://localhost:8080/"
        },
        "id": "DqXiFYGpXT_0",
        "outputId": "2115c2e3-b6ad-43ec-b728-5cb4800adc61"
      },
      "source": [
        "# \"이름은 tom이고 나이는 30입니다. name='tom', age=30.\"\n",
        "\n",
        "name = \"tom\"\n",
        "age = 30\n",
        "print(\"이름은 {0}이고 나이는 {1}입니다. name='{0}', age={1}.\".format(name, age))"
      ],
      "execution_count": null,
      "outputs": [
        {
          "output_type": "stream",
          "text": [
            "이름은 tom이고 나이는 30입니다. name='tom', age=30.\n"
          ],
          "name": "stdout"
        }
      ]
    },
    {
      "cell_type": "code",
      "metadata": {
        "colab": {
          "base_uri": "https://localhost:8080/"
        },
        "id": "wQmPyXp7haBT",
        "outputId": "2514d134-50eb-4e79-cedf-43633e301281"
      },
      "source": [
        "# \"이름은 tom이고 나이는 30입니다. name=\"tom\", age=30.\"\n",
        "\n",
        "name = \"tom\"\n",
        "age = 30\n",
        "print(\"이름은 {0}이고 나이는 {1}입니다. name=\\\"{0}\\\", age={1}.\".format(name, age))"
      ],
      "execution_count": null,
      "outputs": [
        {
          "output_type": "stream",
          "text": [
            "이름은 tom이고 나이는 30입니다. name=\"tom\", age=30.\n"
          ],
          "name": "stdout"
        }
      ]
    },
    {
      "cell_type": "code",
      "metadata": {
        "id": "KXaSXxAoWKqJ"
      },
      "source": [
        "a = 1\n",
        "b = 2\n",
        "c = a + b\n",
        "d = int(c)\n",
        "print(d)\n",
        "\n",
        "\n",
        "\"tom\".format()\n",
        "\n",
        "upper(\"tom\") # \"TOM\"\n",
        "\"tom\".upper() # \"TOM\"\n",
        "\n",
        "\n",
        "\"..{}    {}     {}.......\".format(a,b,c)\n",
        "\n",
        "\n",
        "\n"
      ],
      "execution_count": null,
      "outputs": []
    },
    {
      "cell_type": "code",
      "metadata": {
        "colab": {
          "base_uri": "https://localhost:8080/"
        },
        "id": "S9z72VwIiGRr",
        "outputId": "2dd36bdf-376b-4c0c-ba6f-8584396764cc"
      },
      "source": [
        "value = 123.45678\n",
        "\n",
        "print(\"value = {0:0.2f}\".format(value))\n",
        "print(\"value = {0:.2f}\".format(value))\n",
        "print(\"value = {0:10.2f}\".format(value))\n",
        "print(\"value = {0:10.2f}\".format(10.25))\n",
        "print(\"value = {0:10.2f}\".format(123145.25))\n",
        "print(\"value = {0:10.2f}\".format(10.2))\n",
        "print(\"value = {0:10.2f}\".format(10000.25))\n",
        "print(\"value = {0:10.2f}\".format(100000.25))\n",
        "\n",
        "print(\"value = {}\".format(value))\n",
        "print(\"value = {}\".format(10.25))\n",
        "print(\"value = {}\".format(123145.25))\n",
        "print(\"value = {}\".format(10.2))\n",
        "print(\"value = {}\".format(10000.25))\n",
        "print(\"value = {}\".format(100000.25))\n"
      ],
      "execution_count": null,
      "outputs": [
        {
          "output_type": "stream",
          "text": [
            "value = 123.46\n",
            "value = 123.46\n",
            "value =     123.46\n",
            "value =      10.25\n",
            "value =  123145.25\n",
            "value =      10.20\n",
            "value =   10000.25\n",
            "value =  100000.25\n",
            "value = 123.45678\n",
            "value = 10.25\n",
            "value = 123145.25\n",
            "value = 10.2\n",
            "value = 10000.25\n",
            "value = 100000.25\n"
          ],
          "name": "stdout"
        }
      ]
    },
    {
      "cell_type": "code",
      "metadata": {
        "colab": {
          "base_uri": "https://localhost:8080/"
        },
        "id": "5j2Yg_Vdj7ON",
        "outputId": "d40f1c8d-b0a1-4193-c77b-b65bdfb77e8d"
      },
      "source": [
        "temp = 30\n",
        "print(\"온도가 {}도입니다. 더워요.\".format(temp))"
      ],
      "execution_count": null,
      "outputs": [
        {
          "output_type": "stream",
          "text": [
            "온도가 30도입니다. 더워요.\n"
          ],
          "name": "stdout"
        }
      ]
    },
    {
      "cell_type": "code",
      "metadata": {
        "colab": {
          "base_uri": "https://localhost:8080/"
        },
        "id": "dFJo_JMqkfxv",
        "outputId": "6d5c6038-94f6-4ca9-fbf3-8726c71c8030"
      },
      "source": [
        "temp = 30\n",
        "if temp>18:\n",
        "  print(\"온도가 {}도입니다. 더워요.\".format(temp))\n",
        "  print(\"hi\")\n",
        "  print(\"hello\")"
      ],
      "execution_count": null,
      "outputs": [
        {
          "output_type": "stream",
          "text": [
            "온도가 30도입니다. 더워요.\n",
            "hi\n",
            "hello\n"
          ],
          "name": "stdout"
        }
      ]
    },
    {
      "cell_type": "code",
      "metadata": {
        "colab": {
          "base_uri": "https://localhost:8080/"
        },
        "id": "TmOvjNyAk35A",
        "outputId": "1eb62609-2424-4080-e11d-4381022f8772"
      },
      "source": [
        "temp = 30\n",
        "if temp>18:\n",
        "  print(\"온도가 {}도입니다. 더워요.\".format(temp))\n",
        "print(\"hi\")\n",
        "print(\"hello\")"
      ],
      "execution_count": null,
      "outputs": [
        {
          "output_type": "stream",
          "text": [
            "온도가 30도입니다. 더워요.\n",
            "hi\n",
            "hello\n"
          ],
          "name": "stdout"
        }
      ]
    },
    {
      "cell_type": "code",
      "metadata": {
        "id": "1jjX1W5ikphe"
      },
      "source": [
        "temp = 15\n",
        "if temp>18:\n",
        "  print(\"온도가 {}도입니다. 더워요.\".format(temp))\n",
        "  print(\"hi\")\n",
        "  print(\"hello\")  "
      ],
      "execution_count": null,
      "outputs": []
    },
    {
      "cell_type": "code",
      "metadata": {
        "colab": {
          "base_uri": "https://localhost:8080/"
        },
        "id": "_9xlb4pokr3S",
        "outputId": "da9b48e4-a666-42eb-c22e-ddebbac26db4"
      },
      "source": [
        "temp = 15\n",
        "if temp>18:\n",
        "  print(\"온도가 {}도입니다. 더워요.\".format(temp))\n",
        "print(\"hi\")\n",
        "print(\"hello\")  "
      ],
      "execution_count": null,
      "outputs": [
        {
          "output_type": "stream",
          "text": [
            "hi\n",
            "hello\n"
          ],
          "name": "stdout"
        }
      ]
    },
    {
      "cell_type": "code",
      "metadata": {
        "colab": {
          "base_uri": "https://localhost:8080/"
        },
        "id": "BOhazblXlmMI",
        "outputId": "840e4d60-68b1-482e-c80d-36a4fb2ed00e"
      },
      "source": [
        "temp = 30\n",
        "if temp>18:\n",
        "  print(\"온도가 {}도 입니다. 더워요.\".format(temp))\n",
        "else:\n",
        "  print(\"온도가 {}도 입니다. 추워요.\".format(temp))"
      ],
      "execution_count": null,
      "outputs": [
        {
          "output_type": "stream",
          "text": [
            "온도가 30도 입니다. 더워요.\n"
          ],
          "name": "stdout"
        }
      ]
    },
    {
      "cell_type": "code",
      "metadata": {
        "colab": {
          "base_uri": "https://localhost:8080/"
        },
        "id": "3cC6KSf5l-CG",
        "outputId": "701e911b-b123-4e08-b2dc-a57fc9c15b83"
      },
      "source": [
        "temp = 15\n",
        "if temp>18:\n",
        "  print(\"온도가 {}도 입니다. 더워요.\".format(temp))\n",
        "else:\n",
        "  print(\"온도가 {}도 입니다. 추워요.\".format(temp))"
      ],
      "execution_count": null,
      "outputs": [
        {
          "output_type": "stream",
          "text": [
            "온도가 15도 입니다. 추워요.\n"
          ],
          "name": "stdout"
        }
      ]
    },
    {
      "cell_type": "code",
      "metadata": {
        "colab": {
          "base_uri": "https://localhost:8080/"
        },
        "id": "VChwTLdomCf6",
        "outputId": "00aa21f7-6aa7-451e-ece0-96bff95bc1c9"
      },
      "source": [
        "# Quiz. 입력받은 수가 짝수이면 \"짝수입니다.\" 홀수이면 \"홀수입니다.\"를 출력\n",
        "\n",
        "i = input()\n",
        "i = float(i)\n",
        "\n",
        "if i%2==0:\n",
        "  print(\"짝수입니다.\")\n",
        "else:\n",
        "  print(\"홀수입니다.\")"
      ],
      "execution_count": null,
      "outputs": [
        {
          "output_type": "stream",
          "text": [
            "5\n",
            "홀수입니다.\n"
          ],
          "name": "stdout"
        }
      ]
    },
    {
      "cell_type": "code",
      "metadata": {
        "colab": {
          "base_uri": "https://localhost:8080/"
        },
        "id": "RNW3x_ecm_nv",
        "outputId": "344bb53a-6bf5-4c39-c161-a6147cb84550"
      },
      "source": [
        "# Quiz. 25도 이상이면 \"더워요.\", 25도 미만과 15도 이상이면 \"좋아요.\"\" 15도 미만이면 \"추워요.\" 출력\n",
        "\n",
        "temp = 14\n",
        "if temp>=25:\n",
        "  print(\"더워요.\")\n",
        "elif temp>=15:\n",
        "  print(\"좋아요.\")\n",
        "else:\n",
        "  print(\"추워요.\")\n"
      ],
      "execution_count": null,
      "outputs": [
        {
          "output_type": "stream",
          "text": [
            "추워요.\n"
          ],
          "name": "stdout"
        }
      ]
    },
    {
      "cell_type": "code",
      "metadata": {
        "id": "EmMTxye0oFQm"
      },
      "source": [
        "1,2,3,4,5\n",
        "1,2,,4,5\n",
        "1,2,3,,5\n",
        "\n",
        "1,2,3,4,5\n",
        "1,2,0,4,5\n",
        "1,2,3,0,5\n"
      ],
      "execution_count": null,
      "outputs": []
    },
    {
      "cell_type": "code",
      "metadata": {
        "colab": {
          "base_uri": "https://localhost:8080/"
        },
        "id": "aBezVSspsP0k",
        "outputId": "72d7bc07-0ea9-4abb-9179-cc7e46849013"
      },
      "source": [
        "# Quiz. 입력을 받아서 \n",
        "# 6의 배수이면 \"6의 배수입니다.\" 만 출력하고 \n",
        "# 3의 배수이면 \"3의 배수입니다.\" 만 출력하고\n",
        "# 2의 배수이면 \"2의 배수입니다.\" 만 출력한다.\n",
        "\n",
        "i = input()\n",
        "i = float(i)\n",
        "\n",
        "if i%6==0:\n",
        "  print(\"6의 배수입니다.\")\n",
        "elif i%3==0:\n",
        "  print(\"3의 배수입니다.\")\n",
        "elif i%2==0:\n",
        "  print(\"2의 배수입니다.\")\n",
        "\n"
      ],
      "execution_count": null,
      "outputs": [
        {
          "output_type": "stream",
          "text": [
            "5\n"
          ],
          "name": "stdout"
        }
      ]
    },
    {
      "cell_type": "code",
      "metadata": {
        "colab": {
          "base_uri": "https://localhost:8080/"
        },
        "id": "gGbiuPNTtgcf",
        "outputId": "c4e3f07a-5772-406e-a59e-05398479a9b5"
      },
      "source": [
        "# Quiz. 입력을 받아서 \n",
        "# 8의 배수이면 \"입력칸 xxx값은 8의 배수입니다.\" 만 출력하고 \n",
        "# 6의 배수이면 \"입력칸 xxx값은 6의 배수입니다.\" 만 출력하고 \n",
        "# 3의 배수이면 \"입력칸 xxx값은 3의 배수입니다.\" 만 출력하고\n",
        "# 2의 배수이면 \"입력칸 xxx값은 2의 배수입니다.\" 만 출력한다.\n",
        "\n",
        "\n",
        "i = input()\n",
        "org = i\n",
        "i = float(i)\n",
        "\n",
        "if i%8==0:\n",
        "  print(\"입력칸 {}값은 8의 배수입니다.\".format(org))\n",
        "elif i%6==0:\n",
        "  print(\"입력칸 {}값은 6의 배수입니다.\".format(org))\n",
        "elif i%3==0:\n",
        "  print(\"입력칸 {}값은 3의 배수입니다.\".format(org))\n",
        "elif i%2==0:\n",
        "  print(\"입력칸 {}값은 2의 배수입니다.\".format(org))"
      ],
      "execution_count": null,
      "outputs": [
        {
          "output_type": "stream",
          "text": [
            "12\n",
            "입력칸 12값은 6의 배수입니다.\n"
          ],
          "name": "stdout"
        }
      ]
    },
    {
      "cell_type": "code",
      "metadata": {
        "colab": {
          "base_uri": "https://localhost:8080/"
        },
        "id": "Lwti3M4DwD7p",
        "outputId": "b81c7a17-2857-4795-e857-4cd5d550bfee"
      },
      "source": [
        "# Quiz. 입력을 받아서 \n",
        "# 8의 배수이면 \"입력한 xxx값은 8의 배수입니다. 놀기좋은 5월입니다.\" 만 출력하고 \n",
        "# 6의 배수이면 \"입력한 xxx값은 6의 배수입니다. 놀기좋은 5월입니다.\" 만 출력하고 \n",
        "# 3의 배수이면 \"입력한 xxx값은 3의 배수입니다. 놀기좋은 5월입니다.\" 만 출력하고\n",
        "# 2의 배수이면 \"입력한 xxx값은 2의 배수입니다. 놀기좋은 5월입니다.\" 만 출력한다.\n",
        "\n",
        "i = input()\n",
        "org = i\n",
        "i = float(i)\n",
        "\n",
        "if i%8==0:\n",
        "  print(\"입력한 {}값은 8의 배수입니다. 놀기좋은 5월입니다.\".format(org))\n",
        "elif i%6==0:\n",
        "  print(\"입력한 {}값은 6의 배수입니다. 놀기좋은 5월입니다.\".format(org))\n",
        "elif i%3==0:\n",
        "  print(\"입력한 {}값은 3의 배수입니다. 놀기좋은 5월입니다.\".format(org))\n",
        "elif i%2==0:\n",
        "  print(\"입력한 {}값은 2의 배수입니다. 놀기좋은 5월입니다.\".format(org))"
      ],
      "execution_count": null,
      "outputs": [
        {
          "output_type": "stream",
          "text": [
            "12\n",
            "입력한 12값은 6의 배수입니다. 놀기좋은 5월입니다.\n"
          ],
          "name": "stdout"
        }
      ]
    },
    {
      "cell_type": "code",
      "metadata": {
        "colab": {
          "base_uri": "https://localhost:8080/"
        },
        "id": "vIVIeeghxDaG",
        "outputId": "dab93597-b156-4af1-fa1e-1a2815148af2"
      },
      "source": [
        "i = input()\n",
        "org = i\n",
        "i = float(i)\n",
        "\n",
        "base = None\n",
        "if i%8==0:\n",
        "  base = 8\n",
        "elif i%6==0:\n",
        "  base = 6\n",
        "elif i%3==0:\n",
        "  base = 3\n",
        "elif i%2==0:\n",
        "  base = 2\n",
        "\n",
        "if base!=None:\n",
        "  print(\"입력한 {}값은 {}의 배수입니다. 놀기좋은 5월입니다.\".format(org, base))\n"
      ],
      "execution_count": null,
      "outputs": [
        {
          "output_type": "stream",
          "text": [
            "5\n"
          ],
          "name": "stdout"
        }
      ]
    },
    {
      "cell_type": "code",
      "metadata": {
        "colab": {
          "base_uri": "https://localhost:8080/"
        },
        "id": "oK7QDucBxRbR",
        "outputId": "77229e63-1595-4f66-88b6-2fb803302f74"
      },
      "source": [
        "i = input()\n",
        "org = i\n",
        "i = float(i)\n",
        "\n",
        "base = None\n",
        "for b in [8,6,3,2]:\n",
        "  if i%b==0:\n",
        "    base = b\n",
        "    # break\n",
        "\n",
        "if base!=None:\n",
        "  print(\"입력한 {}값은 {}의 배수입니다. 놀기좋은 5월입니다.\".format(org, base))\n"
      ],
      "execution_count": null,
      "outputs": [
        {
          "output_type": "stream",
          "text": [
            "8\n",
            "입력한 8값은 2의 배수입니다. 놀기좋은 5월입니다.\n"
          ],
          "name": "stdout"
        }
      ]
    },
    {
      "cell_type": "code",
      "metadata": {
        "colab": {
          "base_uri": "https://localhost:8080/"
        },
        "id": "MlMPrngGyC26",
        "outputId": "97e6e2c7-73fc-42f5-dddb-1fb95b034884"
      },
      "source": [
        "i = input()\n",
        "org = i\n",
        "i = float(i)\n",
        "\n",
        "for b in [8,6,3,2]:\n",
        "  if i%b==0:\n",
        "    base = b\n",
        "    break;\n",
        "\n",
        "print(\"입력한 {}값은 {}의 배수입니다. 놀기좋은 5월입니다.\".format(org, base))\n"
      ],
      "execution_count": null,
      "outputs": [
        {
          "output_type": "stream",
          "text": [
            "5\n",
            "입력한 5값은 None의 배수입니다. 놀기좋은 5월입니다.\n"
          ],
          "name": "stdout"
        }
      ]
    },
    {
      "cell_type": "code",
      "metadata": {
        "colab": {
          "base_uri": "https://localhost:8080/"
        },
        "id": "hsVoIL6czD4n",
        "outputId": "3567a2cb-3ff6-4f3f-8b35-ddf4e583e807"
      },
      "source": [
        "i = input()\n",
        "i = float(i)\n",
        "\n",
        "if i%8==0:\n",
        "  print(\"입력칸 {}값은 8의 배수입니다.\".format(int(i)))\n",
        "elif i%6==0:\n",
        "  print(\"입력칸 {}값은 6의 배수입니다.\".format(int(i)))\n",
        "elif i%3==0:\n",
        "  print(\"입력칸 {}값은 3의 배수입니다.\".format(int(i)))\n",
        "elif i%2==0:\n",
        "  print(\"입력칸 {}값은 2의 배수입니다.\".format(int(i)))"
      ],
      "execution_count": null,
      "outputs": [
        {
          "output_type": "stream",
          "text": [
            "12.0\n",
            "입력칸 12값은 6의 배수입니다.\n"
          ],
          "name": "stdout"
        }
      ]
    }
  ]
}