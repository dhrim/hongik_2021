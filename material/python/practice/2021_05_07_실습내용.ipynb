{
  "nbformat": 4,
  "nbformat_minor": 0,
  "metadata": {
    "colab": {
      "name": "2021_05_07_실습내용.ipynb",
      "provenance": [],
      "collapsed_sections": []
    },
    "kernelspec": {
      "name": "python3",
      "display_name": "Python 3"
    },
    "language_info": {
      "name": "python"
    }
  },
  "cells": [
    {
      "cell_type": "code",
      "metadata": {
        "colab": {
          "base_uri": "https://localhost:8080/"
        },
        "id": "EeY6KZ1CK4Mn",
        "outputId": "8b017dd8-98ac-44fd-d655-2228307c6ffa"
      },
      "source": [
        "temp = 30\n",
        "\n",
        "if temp>25:\n",
        "  weather = \"더워요.\"\n",
        "else:\n",
        "  weather = \"추워요.\"\n",
        "\n",
        "print(weather)\n",
        "print(1,2,3,4, weather)"
      ],
      "execution_count": null,
      "outputs": [
        {
          "output_type": "stream",
          "text": [
            "더워요.\n",
            "1 2 3 4 더워요.\n"
          ],
          "name": "stdout"
        }
      ]
    },
    {
      "cell_type": "code",
      "metadata": {
        "colab": {
          "base_uri": "https://localhost:8080/"
        },
        "id": "3dDPWoIqLMh-",
        "outputId": "4e01f747-f097-4cc0-93f5-d3f08626e87a"
      },
      "source": [
        "temp = 30\n",
        "weather = \"더워요.\" if temp>25 else \"추워요.\"\n",
        "\n",
        "print(weather)\n",
        "\n",
        "print(1,2,3,4, \"더워요.\" if temp>25 else \"추워요.\")"
      ],
      "execution_count": null,
      "outputs": [
        {
          "output_type": "stream",
          "text": [
            "더워요.\n",
            "1 2 3 4 더워요.\n"
          ],
          "name": "stdout"
        }
      ]
    },
    {
      "cell_type": "markdown",
      "metadata": {
        "id": "6Xg8_fG5MrqJ"
      },
      "source": [
        "```\n",
        "tom, 30\n",
        "jerry, 33\n",
        "철수, 35\n",
        "영희, 32\n",
        "```\n",
        "\n",
        "```\n",
        "이름 : tom, 나이 : 30\n",
        "이름 : jerry, 나이 : 33 \n",
        "이름 : 철수, 나이 : 35\n",
        "이름 : 영희, 나이 : 32 \n",
        "```"
      ]
    },
    {
      "cell_type": "code",
      "metadata": {
        "colab": {
          "base_uri": "https://localhost:8080/"
        },
        "id": "lmJu6H_CLkTF",
        "outputId": "84a06ce4-ca30-47af-c35a-64c5becb64df"
      },
      "source": [
        "print(\"이름 : {}, 나이 : {}\".format( \"tom\", 30))\n",
        "print(\"이름 : {}, 나이 : {}\".format( \"jerry\", 33))\n",
        "print(\"이름 : {}, 나이 : {}\".format( \"철수\", 35))\n",
        "print(\"이름 : {}, 나이 : {}\".format( \"영희\", 32))"
      ],
      "execution_count": null,
      "outputs": [
        {
          "output_type": "stream",
          "text": [
            "이름 : tom, 나이 : 30\n",
            "이름 : jerry, 나이 : 33\n",
            "이름 : 철수, 나이 : 35\n",
            "이름 : 영희, 나이 : 32\n"
          ],
          "name": "stdout"
        }
      ]
    },
    {
      "cell_type": "markdown",
      "metadata": {
        "id": "iOZ-dDtiNu3R"
      },
      "source": [
        "```\n",
        "이름 = tom, 나이 = 30\n",
        "이름 = jerry, 나이 = 33 \n",
        "이름 = 철수, 나이 = 35\n",
        "이름 = 영희, 나이 = 32 \n",
        "```"
      ]
    },
    {
      "cell_type": "code",
      "metadata": {
        "id": "7TcYEyIXNgb3"
      },
      "source": [
        "print(\"이름 = {}, 나이 = {}\".format( \"tom\", 30))\n",
        "print(\"이름 = {}, 나이 = {}\".format( \"jerry\", 33))\n",
        "print(\"이름 = {}, 나이 = {}\".format( \"철수\", 35))\n",
        "print(\"이름 = {}, 나이 = {}\".format( \"영희\", 32))"
      ],
      "execution_count": null,
      "outputs": []
    },
    {
      "cell_type": "code",
      "metadata": {
        "colab": {
          "base_uri": "https://localhost:8080/"
        },
        "id": "f23LGk4kOPG9",
        "outputId": "2f5eca16-06fb-4b87-bf0e-c091e3177185"
      },
      "source": [
        "def print_name_and_age(name, age):\n",
        "  print(\"이름 = {}, 나이 = {}\".format( name, age ))\n",
        "\n",
        "print_name_and_age(\"tom\", 30)\n",
        "print_name_and_age(\"jerry\", 33)\n",
        "print_name_and_age(\"철수\", 35)\n",
        "print_name_and_age(\"영희\", 32)"
      ],
      "execution_count": null,
      "outputs": [
        {
          "output_type": "stream",
          "text": [
            "이름 = tom, 나이 = 30\n",
            "이름 = jerry, 나이 = 33\n",
            "이름 = 철수, 나이 = 35\n",
            "이름 = 영희, 나이 = 32\n"
          ],
          "name": "stdout"
        }
      ]
    },
    {
      "cell_type": "markdown",
      "metadata": {
        "id": "93hmPf29PSiH"
      },
      "source": [
        "```\n",
        "이름 : tom, 나이 : 30\n",
        "이름 : jerry, 나이 : 33 \n",
        "이름 : 철수, 나이 : 35\n",
        "이름 : 영희, 나이 : 32 \n",
        "```"
      ]
    },
    {
      "cell_type": "code",
      "metadata": {
        "colab": {
          "base_uri": "https://localhost:8080/"
        },
        "id": "OVHGOHj7OdmF",
        "outputId": "e1068977-3c6a-4377-a082-99e369b2c121"
      },
      "source": [
        "def print_name_and_age(name, age):\n",
        "  print(\"이름 : {}, 나이 ; {}\".format( name, age ))\n",
        "\n",
        "print_name_and_age(\"tom\", 30)\n",
        "print_name_and_age(\"jerry\", 33)\n",
        "print_name_and_age(\"철수\", 35)\n",
        "print_name_and_age(\"영희\", 32)"
      ],
      "execution_count": null,
      "outputs": [
        {
          "output_type": "stream",
          "text": [
            "이름 : tom, 나이 ; 30\n",
            "이름 : jerry, 나이 ; 33\n",
            "이름 : 철수, 나이 ; 35\n",
            "이름 : 영희, 나이 ; 32\n"
          ],
          "name": "stdout"
        }
      ]
    },
    {
      "cell_type": "code",
      "metadata": {
        "colab": {
          "base_uri": "https://localhost:8080/",
          "height": 135
        },
        "id": "pxU6Pr67Pb4z",
        "outputId": "631a8cf2-0ff0-441b-84fb-9c8ee37b9ec7"
      },
      "source": [
        "def print_name_and_age(name, age):\n",
        "  print(\"이름과 나이를 출력합니다.\")\n",
        "  print(\"이름 : {}, 나이 ; {}\".format( name, age ))\n",
        "\n",
        "\n",
        "\n",
        "\n",
        "\n",
        "\n",
        "  print(\"========================\")\n",
        "  \n",
        "print_name_and_age(\"tom\", 30)\n",
        "print_name_and_age(\"jerry\", 33)\n",
        "print_name_and_age(\"철수\", 35)\n",
        "print_name_and_age(\"영희\", 32)"
      ],
      "execution_count": null,
      "outputs": [
        {
          "output_type": "error",
          "ename": "IndentationError",
          "evalue": "ignored",
          "traceback": [
            "\u001b[0;36m  File \u001b[0;32m\"<ipython-input-16-378b31aefea8>\"\u001b[0;36m, line \u001b[0;32m2\u001b[0m\n\u001b[0;31m    print(\"이름과 나이를 출력합니다.\")\u001b[0m\n\u001b[0m        ^\u001b[0m\n\u001b[0;31mIndentationError\u001b[0m\u001b[0;31m:\u001b[0m expected an indented block\n"
          ]
        }
      ]
    },
    {
      "cell_type": "code",
      "metadata": {
        "colab": {
          "base_uri": "https://localhost:8080/",
          "height": 135
        },
        "id": "ISU20swKRFt0",
        "outputId": "dd38805a-4caa-4d49-b60a-3b73714ace44"
      },
      "source": [
        "def my_print(name):\n",
        "  print(\"name=\", name)\n",
        "  print(\"hi\")\n",
        "  \n",
        "my_print(\"tom\")\n",
        "my_print(\"jerry\")"
      ],
      "execution_count": null,
      "outputs": [
        {
          "output_type": "error",
          "ename": "IndentationError",
          "evalue": "ignored",
          "traceback": [
            "\u001b[0;36m  File \u001b[0;32m\"<ipython-input-21-6faa837ff8ea>\"\u001b[0;36m, line \u001b[0;32m3\u001b[0m\n\u001b[0;31m    print(\"hi\")\u001b[0m\n\u001b[0m               ^\u001b[0m\n\u001b[0;31mIndentationError\u001b[0m\u001b[0;31m:\u001b[0m unindent does not match any outer indentation level\n"
          ]
        }
      ]
    },
    {
      "cell_type": "code",
      "metadata": {
        "colab": {
          "base_uri": "https://localhost:8080/"
        },
        "id": "p9di_jx6Prxp",
        "outputId": "03941ad2-bece-4819-dd0d-c9176574efc7"
      },
      "source": [
        "def my_sum(a,b):\n",
        "  a = float(a)\n",
        "  b = float(b)\n",
        "  print(\"합 : \", a+b )\n",
        "\n",
        "my_sum(1,2)\n",
        "my_sum(3,-5)\n",
        "my_sum(5,2)\n",
        "my_sum(3.3, 1.2)\n",
        "my_sum(\"1\", 2)\n",
        "my_sum(1, \"2.1\")"
      ],
      "execution_count": null,
      "outputs": [
        {
          "output_type": "stream",
          "text": [
            "합 :  3.0\n",
            "합 :  -2.0\n",
            "합 :  7.0\n",
            "합 :  4.5\n",
            "합 :  3.0\n",
            "합 :  3.1\n"
          ],
          "name": "stdout"
        }
      ]
    },
    {
      "cell_type": "code",
      "metadata": {
        "colab": {
          "base_uri": "https://localhost:8080/"
        },
        "id": "QdxcX921WsfG",
        "outputId": "353666b2-8dca-4d2f-c47b-c6b22f492e36"
      },
      "source": [
        "def my_sum(a,b):\n",
        "  a = float(a)\n",
        "  b = float(b)\n",
        "  return a+b\n",
        "\n",
        "s = my_sum(1,2)\n",
        "print(s)"
      ],
      "execution_count": null,
      "outputs": [
        {
          "output_type": "stream",
          "text": [
            "3.0\n"
          ],
          "name": "stdout"
        }
      ]
    },
    {
      "cell_type": "code",
      "metadata": {
        "colab": {
          "base_uri": "https://localhost:8080/"
        },
        "id": "s7Fe4sqzX3Ei",
        "outputId": "42b82629-0bdb-4aff-c8d4-6b71d8721ee0"
      },
      "source": [
        "\n",
        "def div(a,b):\n",
        "  r = a / b\n",
        "  d = int(r)\n",
        "  return d\n",
        "  # a 나누기 b 몫을 반환\n",
        "\n",
        "def mod(a,b):\n",
        "  # a 나누기 b 한 나머지를 반환\n",
        "  d = div(a,b)\n",
        "  m = a - b*d\n",
        "  return m\n",
        "\n",
        "a = 9\n",
        "b = 4\n",
        "print(\"{} 나누기 {}의 몫은 {}이고 나머지는 {}입니다.\".format(a,b,div(a,b), mod(a,b)))\n"
      ],
      "execution_count": null,
      "outputs": [
        {
          "output_type": "stream",
          "text": [
            "9 나누기 4의 몫은 2이고 나머지는 1입니다.\n"
          ],
          "name": "stdout"
        }
      ]
    },
    {
      "cell_type": "code",
      "metadata": {
        "colab": {
          "base_uri": "https://localhost:8080/"
        },
        "id": "-KosJriHZjjT",
        "outputId": "71a3b303-52b8-49cc-e8f0-df823e436187"
      },
      "source": [
        "def div_and_mod(a, b):\n",
        "  r = a / b\n",
        "  d = int(r)\n",
        "  m = a - b*d\n",
        "  return d, m\n",
        "\n",
        "\n",
        "a = 9\n",
        "b = 4\n",
        "div, mod = div_and_mod(a, b)\n",
        "\n",
        "print(\"{} 나누기 {}의 몫은 {}이고 나머지는 {}입니다.\".format(a,b, div, mod))"
      ],
      "execution_count": null,
      "outputs": [
        {
          "output_type": "stream",
          "text": [
            "9 나누기 4의 몫은 2이고 나머지는 1입니다.\n"
          ],
          "name": "stdout"
        }
      ]
    },
    {
      "cell_type": "code",
      "metadata": {
        "colab": {
          "base_uri": "https://localhost:8080/"
        },
        "id": "8WBxPl6ibh8d",
        "outputId": "ddb402a2-f3ac-42df-a8fe-9c84b3f6639f"
      },
      "source": [
        "def div_and_mod(a, b):\n",
        "  r = a / b\n",
        "  d = int(r)\n",
        "  m = a - b*d\n",
        "  return d, m\n",
        "  \n",
        "def print_div_and_mod(a,b):\n",
        "  div, mod = div_and_mod(a, b)\n",
        "  print(\"{} 나누기 {}의 몫은 {}이고 나머지는 {}입니다.\".format(a,b, div, mod))\n",
        "\n",
        "print_div_and_mod(9,4)\n",
        "print_div_and_mod(5,6)\n",
        "print_div_and_mod(12,3)\n",
        "print_div_and_mod(11,4)\n"
      ],
      "execution_count": null,
      "outputs": [
        {
          "output_type": "stream",
          "text": [
            "9 나누기 4의 몫은 2이고 나머지는 1입니다.\n",
            "5 나누기 6의 몫은 0이고 나머지는 5입니다.\n",
            "12 나누기 3의 몫은 4이고 나머지는 0입니다.\n",
            "11 나누기 4의 몫은 2이고 나머지는 3입니다.\n"
          ],
          "name": "stdout"
        }
      ]
    },
    {
      "cell_type": "code",
      "metadata": {
        "colab": {
          "base_uri": "https://localhost:8080/"
        },
        "id": "x8CT_j-wcyoc",
        "outputId": "187c17e9-608c-47bc-b4f2-4f5b31999b41"
      },
      "source": [
        "def div_and_mod(a, b):\n",
        "  a = float(a)\n",
        "  b = float(b)\n",
        "  r = a / b\n",
        "  d = int(r)\n",
        "  m = a - b*d\n",
        "  return d, m\n",
        "  \n",
        "def print_div_and_mod(a,b):\n",
        "  div, mod = div_and_mod(a, b)\n",
        "  print(\"{} 나누기 {}의 몫은 {}이고 나머지는 {}입니다.\".format(a,b, div, mod))\n",
        "\n",
        "print_div_and_mod(9,4)\n",
        "print_div_and_mod(5,6)\n",
        "print_div_and_mod(12,3)\n",
        "print_div_and_mod(11,4)\n",
        "print_div_and_mod(\"11\",4)\n",
        "\n"
      ],
      "execution_count": null,
      "outputs": [
        {
          "output_type": "stream",
          "text": [
            "9 나누기 4의 몫은 2이고 나머지는 1.0입니다.\n",
            "5 나누기 6의 몫은 0이고 나머지는 5.0입니다.\n",
            "12 나누기 3의 몫은 4이고 나머지는 0.0입니다.\n",
            "11 나누기 4의 몫은 2이고 나머지는 3.0입니다.\n",
            "11 나누기 4의 몫은 2이고 나머지는 3.0입니다.\n"
          ],
          "name": "stdout"
        }
      ]
    },
    {
      "cell_type": "code",
      "metadata": {
        "colab": {
          "base_uri": "https://localhost:8080/"
        },
        "id": "AtUQZ0oKg78N",
        "outputId": "cd348122-d547-4a76-c908-3888c309b911"
      },
      "source": [
        "\n",
        "# \"2는 짝수입니다.\"\n",
        "# \"1은 홀수입니다.\"\n",
        "def is_even(a):\n",
        "  return a%2==0\n",
        "\n",
        "def find_number_type(a):\n",
        "  if is_even(a):\n",
        "    number_type = \"짝수\"\n",
        "  else:\n",
        "    number_type = \"홀수\"\n",
        "  return number_type\n",
        "\n",
        "\n",
        "a = 2\n",
        "number_type = find_number_type(a)\n",
        "print(\"{}는 {}입니다.\".format(a, number_type))\n",
        "\n",
        "a = 1\n",
        "number_type = find_number_type(a)\n",
        "print(\"{}는 {}입니다.\".format(a, number_type))\n"
      ],
      "execution_count": null,
      "outputs": [
        {
          "output_type": "stream",
          "text": [
            "2는 짝수입니다.\n",
            "1는 홀수입니다.\n"
          ],
          "name": "stdout"
        }
      ]
    },
    {
      "cell_type": "code",
      "metadata": {
        "id": "PVaxoOaFjGOP"
      },
      "source": [
        "weather = \"A\" if temp>25 else \"B\""
      ],
      "execution_count": null,
      "outputs": []
    },
    {
      "cell_type": "code",
      "metadata": {
        "colab": {
          "base_uri": "https://localhost:8080/"
        },
        "id": "KzLdMtWciYh6",
        "outputId": "342470f0-b731-4eed-9757-e4f3bca8e69b"
      },
      "source": [
        "\n",
        "# \"2는 짝수입니다.\"\n",
        "# \"1은 홀수입니다.\"\n",
        "def is_even(a):\n",
        "  return a%2==0\n",
        "\n",
        "def find_number_type(a):\n",
        "  return \"짝수\" if is_even(a) else \"홀수\"\n",
        "\n",
        "a = 2\n",
        "number_type = find_number_type(a)\n",
        "print(\"{}는 {}입니다.\".format(a, number_type))\n",
        "\n",
        "a = 1\n",
        "number_type = find_number_type(a)\n",
        "print(\"{}는 {}입니다.\".format(a, number_type))\n"
      ],
      "execution_count": null,
      "outputs": [
        {
          "output_type": "stream",
          "text": [
            "2는 짝수입니다.\n",
            "1는 홀수입니다.\n"
          ],
          "name": "stdout"
        }
      ]
    },
    {
      "cell_type": "code",
      "metadata": {
        "colab": {
          "base_uri": "https://localhost:8080/"
        },
        "id": "tzZ2Rpw3jmFm",
        "outputId": "8bfd2230-b729-403b-9861-82b93f9c1c9b"
      },
      "source": [
        "def is_even(a):\n",
        "  return a%2==0\n",
        "\n",
        "def find_number_type(a):\n",
        "  return \"짝수\" if is_even(a) else \"홀수\"\n",
        "\n",
        "def print_number_type(a):\n",
        "  number_type = find_number_type(a)\n",
        "  print(\"{}는 {}입니다.\".format(a, number_type))\n",
        "\n",
        "\n",
        "print_number_type(2)\n",
        "print_number_type(1)\n"
      ],
      "execution_count": null,
      "outputs": [
        {
          "output_type": "stream",
          "text": [
            "2는 짝수입니다.\n",
            "1는 홀수입니다.\n"
          ],
          "name": "stdout"
        }
      ]
    },
    {
      "cell_type": "code",
      "metadata": {
        "colab": {
          "base_uri": "https://localhost:8080/"
        },
        "id": "X0q5FwVelv2X",
        "outputId": "61a28dc9-d1a4-44f8-ba5e-102ad6dfed92"
      },
      "source": [
        "def div(a,b):\n",
        "  r = a / b\n",
        "  d = int(r)\n",
        "  return d\n",
        "\n",
        "def assert_div(a,b, expected):\n",
        "  d = div(a,b)\n",
        "  if d==expected:\n",
        "    pass\n",
        "  else:\n",
        "    print(\"틀렸습니다.\")\n",
        "\n",
        "assert_div(9,4,2)\n",
        "assert_div(7,4,1)\n",
        "assert_div(8,2,4)\n",
        "assert_div(8,2,3) # 틀렸습니다.\"\"\n"
      ],
      "execution_count": null,
      "outputs": [
        {
          "output_type": "stream",
          "text": [
            "틀렸습니다.\n"
          ],
          "name": "stdout"
        }
      ]
    },
    {
      "cell_type": "code",
      "metadata": {
        "id": "MUMfWgFZ_eY4"
      },
      "source": [
        "def div(a,b):\n",
        "  r = a / b\n",
        "  d = int(r)\n",
        "  return d\n",
        "\n",
        "def mod(a,b):\n",
        "  # a 나누기 b 한 나머지를 반환\n",
        "  d = div(a,b)\n",
        "  m = a - b*d\n",
        "  return m\n",
        "\n",
        "def assert_equals(actual, expected):\n",
        "  if actual==expected:\n",
        "    pass\n",
        "  else:\n",
        "    print(\"결과값이 다릅니다. {}을 기대했는데 {}입니다.\".format(expected, actual))\n",
        "\n",
        "assert_equals(div(9,4), 2)\n",
        "assert_equals(div(7,4), 1)\n",
        "assert_equals(div(8,2), 4)\n",
        "# assert_equals(div(8,2), 3) # \"결과값이 다릅니다. 3을 기대했는데 2입니다.\"\n",
        "\n",
        "assert_equals(mod(9,4), 1)\n",
        "assert_equals(mod(7,4), 3)\n",
        "assert_equals(mod(8,2), 0)\n",
        "\n",
        "\n"
      ],
      "execution_count": null,
      "outputs": []
    },
    {
      "cell_type": "code",
      "metadata": {
        "id": "LeaVP2ZhDClw"
      },
      "source": [
        "import math\n",
        "\n",
        "print(math.trunc(3.0))\n",
        "print(math.trunc(3.1))\n",
        "print(math.trunc(3.4))\n",
        "print(math.trunc(3.5))\n",
        "print(math.trunc(3.9))\n",
        "print(math.trunc(4.0))\n",
        "\n",
        "print(math.trunc(-3.0))\n",
        "print(math.trunc(-3.1))\n",
        "print(math.trunc(-3.4))\n",
        "print(math.trunc(-3.5))\n",
        "print(math.trunc(-3.9))\n",
        "print(math.trunc(-4.0))"
      ],
      "execution_count": null,
      "outputs": []
    },
    {
      "cell_type": "code",
      "metadata": {
        "id": "oxXISPTEDH1Q"
      },
      "source": [
        "def assert_equals(actual, expected):\n",
        "  if actual==expected:\n",
        "    pass\n",
        "  else:\n",
        "    print(\"결과값이 다릅니다. {}을 기대했는데 {}입니다.\".format(expected, actual))\n",
        "\n",
        "def my_trunc(a):\n",
        "  mul = 1 if a>0 else -1\n",
        "  abs_a = abs(a)\n",
        "  r = int(abs_a)\n",
        "  r = r*mul\n",
        "\n",
        "  return r\n",
        "\n",
        "assert_equals(my_trunc(3.0), 3.0)\n",
        "assert_equals(my_trunc(3.1), 3.0)\n",
        "assert_equals(my_trunc(3.4), 3.0)\n",
        "assert_equals(my_trunc(3.5), 3.0)\n",
        "assert_equals(my_trunc(3.9), 3.0)\n",
        "assert_equals(my_trunc(4.0), 4.0)\n",
        "assert_equals(my_trunc(-3.0), -3.0)\n",
        "assert_equals(my_trunc(-3.1), -3.0)\n",
        "assert_equals(my_trunc(-3.4), -3.0)\n",
        "assert_equals(my_trunc(-3.5), -3.0)\n",
        "assert_equals(my_trunc(-3.9), -3.0)\n",
        "assert_equals(my_trunc(-4.0), -4.0)\n"
      ],
      "execution_count": null,
      "outputs": []
    },
    {
      "cell_type": "code",
      "metadata": {
        "colab": {
          "base_uri": "https://localhost:8080/",
          "height": 331
        },
        "id": "yFWweRlyOHee",
        "outputId": "db2da62e-6aea-4345-e7d0-b6de95d5d302"
      },
      "source": [
        "def my_trunc(a):\n",
        "  mul = 1 if a>0 else -1\n",
        "  abs_a = abs(a)\n",
        "  r = int(abs_a)\n",
        "  r = r*mul\n",
        "\n",
        "  return r\n",
        "\n",
        "# assert_equals(my_trunc(3.0), 3.0)\n",
        "assert my_trunc(3.0) == 3.0\n",
        "assert my_trunc(3.1) == 3.0\n",
        "assert my_trunc(3.4) == 3.0\n",
        "assert my_trunc(3.5) == 3.0\n",
        "assert my_trunc(3.9) == 3.0\n",
        "assert my_trunc(4.0) == 4.0\n",
        "assert my_trunc(-3.0) == -3.0\n",
        "assert my_trunc(-3.1) == -3.0\n",
        "assert my_trunc(-3.4) == -3.0\n",
        "assert my_trunc(-3.5) == -3.0\n",
        "assert my_trunc(-3.9) == -3.0\n",
        "assert my_trunc(-4.0) == -4.0"
      ],
      "execution_count": null,
      "outputs": [
        {
          "output_type": "error",
          "ename": "TypeError",
          "evalue": "ignored",
          "traceback": [
            "\u001b[0;31m---------------------------------------------------------------------------\u001b[0m",
            "\u001b[0;31mTypeError\u001b[0m                                 Traceback (most recent call last)",
            "\u001b[0;32m<ipython-input-40-831957850e3f>\u001b[0m in \u001b[0;36m<module>\u001b[0;34m()\u001b[0m\n\u001b[1;32m     20\u001b[0m \u001b[0;32massert\u001b[0m \u001b[0mmy_trunc\u001b[0m\u001b[0;34m(\u001b[0m\u001b[0;34m-\u001b[0m\u001b[0;36m3.9\u001b[0m\u001b[0;34m)\u001b[0m \u001b[0;34m==\u001b[0m \u001b[0;34m-\u001b[0m\u001b[0;36m3.0\u001b[0m\u001b[0;34m\u001b[0m\u001b[0;34m\u001b[0m\u001b[0m\n\u001b[1;32m     21\u001b[0m \u001b[0;32massert\u001b[0m \u001b[0mmy_trunc\u001b[0m\u001b[0;34m(\u001b[0m\u001b[0;34m-\u001b[0m\u001b[0;36m4.0\u001b[0m\u001b[0;34m)\u001b[0m \u001b[0;34m==\u001b[0m \u001b[0;34m-\u001b[0m\u001b[0;36m4.0\u001b[0m\u001b[0;34m\u001b[0m\u001b[0;34m\u001b[0m\u001b[0m\n\u001b[0;32m---> 22\u001b[0;31m \u001b[0;32massert\u001b[0m \u001b[0mmy_trunc\u001b[0m\u001b[0;34m(\u001b[0m\u001b[0;34m\"-4.0\"\u001b[0m\u001b[0;34m)\u001b[0m \u001b[0;34m==\u001b[0m \u001b[0;34m-\u001b[0m\u001b[0;36m4.0\u001b[0m\u001b[0;34m\u001b[0m\u001b[0;34m\u001b[0m\u001b[0m\n\u001b[0m",
            "\u001b[0;32m<ipython-input-40-831957850e3f>\u001b[0m in \u001b[0;36mmy_trunc\u001b[0;34m(a)\u001b[0m\n\u001b[1;32m      1\u001b[0m \u001b[0;32mdef\u001b[0m \u001b[0mmy_trunc\u001b[0m\u001b[0;34m(\u001b[0m\u001b[0ma\u001b[0m\u001b[0;34m)\u001b[0m\u001b[0;34m:\u001b[0m\u001b[0;34m\u001b[0m\u001b[0;34m\u001b[0m\u001b[0m\n\u001b[0;32m----> 2\u001b[0;31m   \u001b[0mmul\u001b[0m \u001b[0;34m=\u001b[0m \u001b[0;36m1\u001b[0m \u001b[0;32mif\u001b[0m \u001b[0ma\u001b[0m\u001b[0;34m>\u001b[0m\u001b[0;36m0\u001b[0m \u001b[0;32melse\u001b[0m \u001b[0;34m-\u001b[0m\u001b[0;36m1\u001b[0m\u001b[0;34m\u001b[0m\u001b[0;34m\u001b[0m\u001b[0m\n\u001b[0m\u001b[1;32m      3\u001b[0m   \u001b[0mabs_a\u001b[0m \u001b[0;34m=\u001b[0m \u001b[0mabs\u001b[0m\u001b[0;34m(\u001b[0m\u001b[0ma\u001b[0m\u001b[0;34m)\u001b[0m\u001b[0;34m\u001b[0m\u001b[0;34m\u001b[0m\u001b[0m\n\u001b[1;32m      4\u001b[0m   \u001b[0mr\u001b[0m \u001b[0;34m=\u001b[0m \u001b[0mint\u001b[0m\u001b[0;34m(\u001b[0m\u001b[0mabs_a\u001b[0m\u001b[0;34m)\u001b[0m\u001b[0;34m\u001b[0m\u001b[0;34m\u001b[0m\u001b[0m\n\u001b[1;32m      5\u001b[0m   \u001b[0mr\u001b[0m \u001b[0;34m=\u001b[0m \u001b[0mr\u001b[0m\u001b[0;34m*\u001b[0m\u001b[0mmul\u001b[0m\u001b[0;34m\u001b[0m\u001b[0;34m\u001b[0m\u001b[0m\n",
            "\u001b[0;31mTypeError\u001b[0m: '>' not supported between instances of 'str' and 'int'"
          ]
        }
      ]
    },
    {
      "cell_type": "code",
      "metadata": {
        "colab": {
          "base_uri": "https://localhost:8080/"
        },
        "id": "1rzdUfvsRUUl",
        "outputId": "3ff5a2d7-f269-46d9-e2a7-6f9f59035ace"
      },
      "source": [
        "\n",
        "\n",
        "def some(a, b):\n",
        "  r = a+b\n",
        "  return -1\n",
        "\n",
        "def other(a,b):\n",
        "  r = some(a,b)\n",
        "  return a-b\n",
        "\n",
        "\n",
        "r2 = 1\n",
        "c = other(1,2)\n",
        "print(r)\n"
      ],
      "execution_count": null,
      "outputs": [
        {
          "output_type": "stream",
          "text": [
            "1\n"
          ],
          "name": "stdout"
        }
      ]
    },
    {
      "cell_type": "code",
      "metadata": {
        "colab": {
          "base_uri": "https://localhost:8080/"
        },
        "id": "iy_2LGU_UxwZ",
        "outputId": "852eb578-a029-49c1-8814-494f21e93c3b"
      },
      "source": [
        "# 오늘은 7일입니다.\n",
        "# today is 7th.\n",
        "\n",
        "def print_day(day, language='korean'):\n",
        "  if language==\"korean\":\n",
        "    print(\"오늘은 {}일입니다.\".format(day))\n",
        "  else:\n",
        "    print(\"today is {}th.\".format(day))\n",
        "\n",
        "print_day(7, \"korean\")\n",
        "print_day(7, \"english\")\n",
        "print_day(13)\n",
        "print_day(11)\n",
        "print_day(5)\n",
        "print_day(14)\n",
        "print_day(22)\n"
      ],
      "execution_count": null,
      "outputs": [
        {
          "output_type": "stream",
          "text": [
            "오늘은 7일입니다.\n",
            "today is 7th.\n",
            "오늘은 13일입니다.\n",
            "오늘은 11일입니다.\n",
            "오늘은 5일입니다.\n",
            "오늘은 14일입니다.\n",
            "오늘은 22일입니다.\n"
          ],
          "name": "stdout"
        }
      ]
    },
    {
      "cell_type": "code",
      "metadata": {
        "colab": {
          "base_uri": "https://localhost:8080/"
        },
        "id": "s-cz7cTdXQMP",
        "outputId": "7f511b50-66f6-49f5-b323-7928224ce65a"
      },
      "source": [
        "def div(a,b=1):\n",
        "  r = a / b\n",
        "  d = int(r)\n",
        "  return d\n",
        "\n",
        "print(div(5))"
      ],
      "execution_count": null,
      "outputs": [
        {
          "output_type": "stream",
          "text": [
            "5\n"
          ],
          "name": "stdout"
        }
      ]
    },
    {
      "cell_type": "code",
      "metadata": {
        "colab": {
          "base_uri": "https://localhost:8080/"
        },
        "id": "pCh94q_Yal11",
        "outputId": "47463770-1b33-4f83-e0ac-3f612e489a7c"
      },
      "source": [
        "print(\"hello, I'm Tom.\")"
      ],
      "execution_count": null,
      "outputs": [
        {
          "output_type": "stream",
          "text": [
            "hello, I'm Tom.\n"
          ],
          "name": "stdout"
        }
      ]
    },
    {
      "cell_type": "code",
      "metadata": {
        "colab": {
          "base_uri": "https://localhost:8080/"
        },
        "id": "3a0tXzPjauLd",
        "outputId": "d2e7276c-748b-4feb-a73f-b6cfb6e45451"
      },
      "source": [
        "print('hello')"
      ],
      "execution_count": null,
      "outputs": [
        {
          "output_type": "stream",
          "text": [
            "hello\n"
          ],
          "name": "stdout"
        }
      ]
    },
    {
      "cell_type": "code",
      "metadata": {
        "colab": {
          "base_uri": "https://localhost:8080/",
          "height": 135
        },
        "id": "4sTGnRghaot5",
        "outputId": "58615da8-2421-49fb-8d73-54f373da7f9b"
      },
      "source": [
        "print('hello, I'm Tom.')"
      ],
      "execution_count": null,
      "outputs": [
        {
          "output_type": "error",
          "ename": "SyntaxError",
          "evalue": "ignored",
          "traceback": [
            "\u001b[0;36m  File \u001b[0;32m\"<ipython-input-58-4738bb172881>\"\u001b[0;36m, line \u001b[0;32m1\u001b[0m\n\u001b[0;31m    print('hello, I'm Tom.')\u001b[0m\n\u001b[0m                    ^\u001b[0m\n\u001b[0;31mSyntaxError\u001b[0m\u001b[0;31m:\u001b[0m invalid syntax\n"
          ]
        }
      ]
    },
    {
      "cell_type": "code",
      "metadata": {
        "colab": {
          "base_uri": "https://localhost:8080/"
        },
        "id": "fRJiVG-Oassf",
        "outputId": "a6df6d50-43ed-4937-c5ce-faa5ee9bff05"
      },
      "source": [
        "print('He said, \"Hi\"')"
      ],
      "execution_count": null,
      "outputs": [
        {
          "output_type": "stream",
          "text": [
            "He said, \"Hi\"\n"
          ],
          "name": "stdout"
        }
      ]
    },
    {
      "cell_type": "code",
      "metadata": {
        "colab": {
          "base_uri": "https://localhost:8080/"
        },
        "id": "0j9569oqbKL7",
        "outputId": "9812ba2d-f51f-46cf-9122-2ef7e165a41c"
      },
      "source": [
        "print(\"He said, \\\"Hi\\\"\")"
      ],
      "execution_count": null,
      "outputs": [
        {
          "output_type": "stream",
          "text": [
            "He said, \"Hi\"\n"
          ],
          "name": "stdout"
        }
      ]
    },
    {
      "cell_type": "code",
      "metadata": {
        "colab": {
          "base_uri": "https://localhost:8080/"
        },
        "id": "KBTaqZdua6Xu",
        "outputId": "b3089750-a733-4b68-d5fd-4f29ec98330c"
      },
      "source": [
        "print(\"He said, 'Hi'\")"
      ],
      "execution_count": null,
      "outputs": [
        {
          "output_type": "stream",
          "text": [
            "He said, 'Hi'\n"
          ],
          "name": "stdout"
        }
      ]
    },
    {
      "cell_type": "code",
      "metadata": {
        "colab": {
          "base_uri": "https://localhost:8080/"
        },
        "id": "K9-DVatJbkk7",
        "outputId": "d2f0b9b7-8ee8-4593-c3eb-dff136298caa"
      },
      "source": [
        "def my_func(a,b=1,c=2,d=3):\n",
        "  print(\"{}, {}, {}, {}\".format(a,b,c,d))\n",
        "\n",
        "my_func(11)\n",
        "my_func(11,22)\n",
        "my_func(11,22,33)\n",
        "my_func(11,22,33,444)\n",
        "\n",
        "my_func(11, c=22)"
      ],
      "execution_count": null,
      "outputs": [
        {
          "output_type": "stream",
          "text": [
            "11, 1, 2, 3\n",
            "11, 22, 2, 3\n",
            "11, 22, 33, 3\n",
            "11, 22, 33, 444\n",
            "11, 1, 22, 3\n"
          ],
          "name": "stdout"
        }
      ]
    },
    {
      "cell_type": "code",
      "metadata": {
        "colab": {
          "base_uri": "https://localhost:8080/"
        },
        "id": "TgLqyhfLcq7W",
        "outputId": "3d1da571-6c24-4515-b53b-0b3513997322"
      },
      "source": [
        "for i in range(10):\n",
        "  print(i)\n",
        "  print(\"hello\")"
      ],
      "execution_count": null,
      "outputs": [
        {
          "output_type": "stream",
          "text": [
            "0\n",
            "hello\n",
            "1\n",
            "hello\n",
            "2\n",
            "hello\n",
            "3\n",
            "hello\n",
            "4\n",
            "hello\n",
            "5\n",
            "hello\n",
            "6\n",
            "hello\n",
            "7\n",
            "hello\n",
            "8\n",
            "hello\n",
            "9\n",
            "hello\n"
          ],
          "name": "stdout"
        }
      ]
    },
    {
      "cell_type": "code",
      "metadata": {
        "colab": {
          "base_uri": "https://localhost:8080/"
        },
        "id": "nNR9eXdTewIm",
        "outputId": "548c8026-87d7-468d-a791-eb3e548099bd"
      },
      "source": [
        "print(\"hello. HI\")\n",
        "print(\"hello. HI\")\n",
        "print(\"hello. HI\")\n",
        "print(\"hello. HI\")\n",
        "print(\"hello. HI\")\n",
        "print(\"hello. HI\")\n",
        "print(\"hello. HI\")\n",
        "print(\"hello. HI\")\n",
        "print(\"hello. HI\")\n"
      ],
      "execution_count": null,
      "outputs": [
        {
          "output_type": "stream",
          "text": [
            "hello. HI\n",
            "hello. HI\n",
            "hello. HI\n",
            "hello. HI\n",
            "hello. HI\n",
            "hello. HI\n",
            "hello. HI\n",
            "hello. HI\n",
            "hello. HI\n"
          ],
          "name": "stdout"
        }
      ]
    },
    {
      "cell_type": "code",
      "metadata": {
        "colab": {
          "base_uri": "https://localhost:8080/"
        },
        "id": "PYVqj-nce4SK",
        "outputId": "3cb8f931-7e8e-4c1e-f4a0-02c6459cdb03"
      },
      "source": [
        "for i in range(10):\n",
        "  print(\"hello. HI\")"
      ],
      "execution_count": null,
      "outputs": [
        {
          "output_type": "stream",
          "text": [
            "hello. HI\n",
            "hello. HI\n",
            "hello. HI\n",
            "hello. HI\n",
            "hello. HI\n",
            "hello. HI\n",
            "hello. HI\n",
            "hello. HI\n",
            "hello. HI\n",
            "hello. HI\n"
          ],
          "name": "stdout"
        }
      ]
    },
    {
      "cell_type": "code",
      "metadata": {
        "colab": {
          "base_uri": "https://localhost:8080/"
        },
        "id": "c9nGcN_peTq3",
        "outputId": "884554b2-5d6e-499e-986d-32fe5fe7c83e"
      },
      "source": [
        "print(\"i=\", 0)\n",
        "print(\"i=\", 1)\n",
        "print(\"i=\", 2)\n",
        "print(\"i=\", 3)\n",
        "print(\"i=\", 4)\n",
        "print(\"i=\", 5)\n",
        "print(\"i=\", 6)\n",
        "print(\"i=\", 7)\n",
        "print(\"i=\", 8)\n",
        "print(\"i=\", 9)\n"
      ],
      "execution_count": null,
      "outputs": [
        {
          "output_type": "stream",
          "text": [
            "i= 0\n",
            "i= 1\n",
            "i= 2\n",
            "i= 3\n",
            "i= 4\n",
            "i= 5\n",
            "i= 6\n",
            "i= 7\n",
            "i= 8\n",
            "i= 9\n"
          ],
          "name": "stdout"
        }
      ]
    },
    {
      "cell_type": "code",
      "metadata": {
        "colab": {
          "base_uri": "https://localhost:8080/"
        },
        "id": "Q1m9zJt_fhbu",
        "outputId": "0d639de3-0213-430d-a253-ee3c0e690459"
      },
      "source": [
        "for i in range(10):\n",
        "  print(\"i=\", i)"
      ],
      "execution_count": null,
      "outputs": [
        {
          "output_type": "stream",
          "text": [
            "i= 0\n",
            "i= 1\n",
            "i= 2\n",
            "i= 3\n",
            "i= 4\n",
            "i= 5\n",
            "i= 6\n",
            "i= 7\n",
            "i= 8\n",
            "i= 9\n"
          ],
          "name": "stdout"
        }
      ]
    },
    {
      "cell_type": "code",
      "metadata": {
        "colab": {
          "base_uri": "https://localhost:8080/"
        },
        "id": "yuhzphI0fwl2",
        "outputId": "2736c234-ef05-49d8-9b53-5c5630918f62"
      },
      "source": [
        "for j in range(10):\n",
        "  print(\"i=\", j)"
      ],
      "execution_count": null,
      "outputs": [
        {
          "output_type": "stream",
          "text": [
            "i= 0\n",
            "i= 1\n",
            "i= 2\n",
            "i= 3\n",
            "i= 4\n",
            "i= 5\n",
            "i= 6\n",
            "i= 7\n",
            "i= 8\n",
            "i= 9\n"
          ],
          "name": "stdout"
        }
      ]
    },
    {
      "cell_type": "code",
      "metadata": {
        "colab": {
          "base_uri": "https://localhost:8080/"
        },
        "id": "Dsi6SjNzgQ1m",
        "outputId": "dc032bf1-89ba-4853-9338-117518784496"
      },
      "source": [
        "for i in [2,4,6,7]:\n",
        "  print(\"i=\", i)"
      ],
      "execution_count": null,
      "outputs": [
        {
          "output_type": "stream",
          "text": [
            "i= 2\n",
            "i= 4\n",
            "i= 6\n",
            "i= 7\n"
          ],
          "name": "stdout"
        }
      ]
    },
    {
      "cell_type": "code",
      "metadata": {
        "id": "Ze79Z_Gngxf8"
      },
      "source": [
        "```\n",
        "0\n",
        "2\n",
        "4\n",
        "6\n",
        "8\n",
        "10\n",
        "...\n",
        "98\n",
        "```"
      ],
      "execution_count": null,
      "outputs": []
    },
    {
      "cell_type": "code",
      "metadata": {
        "id": "X8aUxzZXhbEk"
      },
      "source": [
        "print(0)\n",
        "print(2)\n",
        "print(4)\n",
        "...\n",
        "print(98)\n"
      ],
      "execution_count": null,
      "outputs": []
    },
    {
      "cell_type": "code",
      "metadata": {
        "colab": {
          "base_uri": "https://localhost:8080/"
        },
        "id": "3gj_DW84hgdD",
        "outputId": "8c8d2908-dc0d-414a-c10f-1b582af98663"
      },
      "source": [
        "for i in range(50):\n",
        "  print(i*2)"
      ],
      "execution_count": null,
      "outputs": [
        {
          "output_type": "stream",
          "text": [
            "0\n",
            "2\n",
            "4\n",
            "6\n",
            "8\n",
            "10\n",
            "12\n",
            "14\n",
            "16\n",
            "18\n",
            "20\n",
            "22\n",
            "24\n",
            "26\n",
            "28\n",
            "30\n",
            "32\n",
            "34\n",
            "36\n",
            "38\n",
            "40\n",
            "42\n",
            "44\n",
            "46\n",
            "48\n",
            "50\n",
            "52\n",
            "54\n",
            "56\n",
            "58\n",
            "60\n",
            "62\n",
            "64\n",
            "66\n",
            "68\n",
            "70\n",
            "72\n",
            "74\n",
            "76\n",
            "78\n",
            "80\n",
            "82\n",
            "84\n",
            "86\n",
            "88\n",
            "90\n",
            "92\n",
            "94\n",
            "96\n",
            "98\n"
          ],
          "name": "stdout"
        }
      ]
    },
    {
      "cell_type": "code",
      "metadata": {
        "colab": {
          "base_uri": "https://localhost:8080/"
        },
        "id": "OU_7e3pch-Ks",
        "outputId": "d57086a7-52f6-4d43-c545-be3316776b5a"
      },
      "source": [
        "def div_and_mod(a, b):\n",
        "  r = a / b\n",
        "  d = int(r)\n",
        "  m = a - b*d\n",
        "  return d, m\n",
        "\n",
        "\n",
        "# 99 / 1 : 99, 0\n",
        "# 99 / 2 : 49, 1\n",
        "# ..\n",
        "# 99/ 10 : 9, 9\n",
        "\n",
        "div, mod = div_and_mod(99, 1)\n",
        "print(\"{} / {} : {}, {}\".format(99, 1, div, mod))\n",
        "div, mod = div_and_mod(99, 2)\n",
        "print(\"{} / {} : {}, {}\".format(99, 2, div, mod))\n",
        "div, mod = div_and_mod(99, 3)\n",
        "print(\"{} / {} : {}, {}\".format(99, 3, div, mod))\n",
        "div, mod = div_and_mod(99, 4)\n",
        "print(\"{} / {} : {}, {}\".format(99, 4, div, mod))\n",
        "div, mod = div_and_mod(99, 5)\n",
        "print(\"{} / {} : {}, {}\".format(99, 5, div, mod))\n",
        "div, mod = div_and_mod(99, 6)\n",
        "print(\"{} / {} : {}, {}\".format(99, 6, div, mod))\n",
        "div, mod = div_and_mod(99, 7)\n",
        "print(\"{} / {} : {}, {}\".format(99, 7, div, mod))\n",
        "div, mod = div_and_mod(99, 8)\n",
        "print(\"{} / {} : {}, {}\".format(99, 8, div, mod))\n",
        "div, mod = div_and_mod(99, 9)\n",
        "print(\"{} / {} : {}, {}\".format(99, 9, div, mod))"
      ],
      "execution_count": null,
      "outputs": [
        {
          "output_type": "stream",
          "text": [
            "99 / 1 : 99, 0\n",
            "99 / 2 : 49, 1\n",
            "99 / 3 : 33, 0\n",
            "99 / 4 : 24, 3\n",
            "99 / 5 : 19, 4\n",
            "99 / 6 : 16, 3\n",
            "99 / 7 : 14, 1\n",
            "99 / 8 : 12, 3\n",
            "99 / 9 : 11, 0\n"
          ],
          "name": "stdout"
        }
      ]
    },
    {
      "cell_type": "code",
      "metadata": {
        "colab": {
          "base_uri": "https://localhost:8080/"
        },
        "id": "ch1PbJatkHEE",
        "outputId": "2e62724c-627a-46cc-f64e-73bcd39fc9eb"
      },
      "source": [
        "for i in range(10):\n",
        "  div, mod = div_and_mod(99, i+1)\n",
        "  print(\"{} / {} : {}, {}\".format(99, i+1, div, mod))"
      ],
      "execution_count": null,
      "outputs": [
        {
          "output_type": "stream",
          "text": [
            "99 / 1 : 99, 0\n",
            "99 / 2 : 49, 1\n",
            "99 / 3 : 33, 0\n",
            "99 / 4 : 24, 3\n",
            "99 / 5 : 19, 4\n",
            "99 / 6 : 16, 3\n",
            "99 / 7 : 14, 1\n",
            "99 / 8 : 12, 3\n",
            "99 / 9 : 11, 0\n",
            "99 / 10 : 9, 9\n"
          ],
          "name": "stdout"
        }
      ]
    },
    {
      "cell_type": "code",
      "metadata": {
        "id": "sUwKGpQAki2b"
      },
      "source": [
        "1\n",
        "3\n",
        "5\n",
        "..\n",
        "29"
      ],
      "execution_count": null,
      "outputs": []
    },
    {
      "cell_type": "code",
      "metadata": {
        "colab": {
          "base_uri": "https://localhost:8080/"
        },
        "id": "OsW2TKm1pxRh",
        "outputId": "4aa0a891-4cda-4a7e-fc61-b879bb0bc4a7"
      },
      "source": [
        "for i in range(15):\n",
        "  print(i*2+1)"
      ],
      "execution_count": null,
      "outputs": [
        {
          "output_type": "stream",
          "text": [
            "1\n",
            "3\n",
            "5\n",
            "7\n",
            "9\n",
            "11\n",
            "13\n",
            "15\n",
            "17\n",
            "19\n",
            "21\n",
            "23\n",
            "25\n",
            "27\n",
            "29\n"
          ],
          "name": "stdout"
        }
      ]
    },
    {
      "cell_type": "code",
      "metadata": {
        "id": "lDmU833Xqmyt"
      },
      "source": [
        "# 1+2+3+ ... +99\n",
        "\n",
        "s = 0\n",
        "\n",
        "s = s + 1\n",
        "s = s + 2\n",
        "...\n",
        "s = s + 99\n",
        "\n",
        "print(s)\n",
        "\n"
      ],
      "execution_count": null,
      "outputs": []
    },
    {
      "cell_type": "code",
      "metadata": {
        "colab": {
          "base_uri": "https://localhost:8080/"
        },
        "id": "H-wJhbiCtuCQ",
        "outputId": "77db5cfa-598e-4a2a-aab0-1840cdd08f33"
      },
      "source": [
        "s = 0\n",
        "for i in range(99):\n",
        "  s = s + (i+1)\n",
        "print(s)"
      ],
      "execution_count": null,
      "outputs": [
        {
          "output_type": "stream",
          "text": [
            "4950\n"
          ],
          "name": "stdout"
        }
      ]
    },
    {
      "cell_type": "code",
      "metadata": {
        "id": "fEN4btemuKn2"
      },
      "source": [
        "# 0+1+2+3+ ... +99\n",
        "\n",
        "s = 0\n",
        "\n",
        "s = s + 0\n",
        "s = s + 1\n",
        "s = s + 2\n",
        "...\n",
        "s = s + 99"
      ],
      "execution_count": null,
      "outputs": []
    },
    {
      "cell_type": "code",
      "metadata": {
        "colab": {
          "base_uri": "https://localhost:8080/"
        },
        "id": "hwPU2yfWuwFZ",
        "outputId": "9870feff-3d5b-4da7-e4f2-cabb2decdfc9"
      },
      "source": [
        "s = 0\n",
        "for i in range(100):\n",
        "  s = s + (i)\n",
        "print(s)"
      ],
      "execution_count": null,
      "outputs": [
        {
          "output_type": "stream",
          "text": [
            "4950\n"
          ],
          "name": "stdout"
        }
      ]
    },
    {
      "cell_type": "code",
      "metadata": {
        "colab": {
          "base_uri": "https://localhost:8080/"
        },
        "id": "AIML769Hu5NV",
        "outputId": "8b04c4a4-30af-49f6-b145-0f90a675f21d"
      },
      "source": [
        "#2+4+8+...+98\n",
        "s = 0\n",
        "for i in range(50):\n",
        "  s = s + i*2\n",
        "print(s)"
      ],
      "execution_count": null,
      "outputs": [
        {
          "output_type": "stream",
          "text": [
            "2450\n"
          ],
          "name": "stdout"
        }
      ]
    },
    {
      "cell_type": "code",
      "metadata": {
        "colab": {
          "base_uri": "https://localhost:8080/"
        },
        "id": "c1ndSmA7vGiJ",
        "outputId": "28519598-aa85-4b3b-b36a-e786b0a4ffe6"
      },
      "source": [
        "s = 0\n",
        "for i in range(2,99,2):\n",
        "  s = s + i\n",
        "print(s)"
      ],
      "execution_count": null,
      "outputs": [
        {
          "output_type": "stream",
          "text": [
            "2450\n"
          ],
          "name": "stdout"
        }
      ]
    },
    {
      "cell_type": "code",
      "metadata": {
        "colab": {
          "base_uri": "https://localhost:8080/"
        },
        "id": "93CRRV2yvNby",
        "outputId": "cfa21f4a-0b13-4c56-ea3d-51b76fc862ab"
      },
      "source": [
        "# 4 + 7 + 10 + 13 + ... + 1000\n",
        "\n",
        "s = 0\n",
        "for i in range(4,1001,3):\n",
        "  s = s + i\n",
        "print(s)"
      ],
      "execution_count": null,
      "outputs": [
        {
          "output_type": "stream",
          "text": [
            "167166\n"
          ],
          "name": "stdout"
        }
      ]
    },
    {
      "cell_type": "code",
      "metadata": {
        "id": "LoUOnEebxZIJ"
      },
      "source": [
        "# 2,3,4,...9\n",
        "for i in range(10):\n",
        "\n",
        "for i in range(2, 10)\n",
        "\n",
        "for i in range(2, 10, 2)\n"
      ],
      "execution_count": null,
      "outputs": []
    },
    {
      "cell_type": "code",
      "metadata": {
        "colab": {
          "base_uri": "https://localhost:8080/"
        },
        "id": "UB7TW4DkxzKs",
        "outputId": "288a1bb6-838f-4f79-afde-05cba7ceaaf6"
      },
      "source": [
        "# 13 ~ 127 까지 홀수의 총 합은?\n",
        "s = 0\n",
        "for i in range(13,128,2):\n",
        "  s = s + i\n",
        "print(s)"
      ],
      "execution_count": null,
      "outputs": [
        {
          "output_type": "stream",
          "text": [
            "4060\n"
          ],
          "name": "stdout"
        }
      ]
    },
    {
      "cell_type": "code",
      "metadata": {
        "colab": {
          "base_uri": "https://localhost:8080/"
        },
        "id": "LkXTASUDyEfz",
        "outputId": "f920a9a3-d9f2-4d5a-9a53-05ccaa906571"
      },
      "source": [
        "# 12 ~ 127 까지 홀수의 총 합은?\n",
        "s = 0\n",
        "for i in range(12, 128, 2):\n",
        "  s = s + (i+1)\n",
        "print(s)"
      ],
      "execution_count": null,
      "outputs": [
        {
          "output_type": "stream",
          "text": [
            "4060\n"
          ],
          "name": "stdout"
        }
      ]
    },
    {
      "cell_type": "code",
      "metadata": {
        "colab": {
          "base_uri": "https://localhost:8080/"
        },
        "id": "HNWv_K0oyaY2",
        "outputId": "1f74ce68-3c2f-42be-dc52-56998c53113c"
      },
      "source": [
        "# 12 ~ 127까지 홀수의 총 합과 3의 배수의 총합은?\n",
        "\n",
        "# 12 ~ 19\n",
        "# 13 15 17 19 : 45\n",
        "# 12 15 18 : 45\n",
        "\n",
        "odd_sum = 0\n",
        "three_multi_sum = 0\n",
        "\n",
        "for i in range(12, 128, 2):\n",
        "  odd_sum = odd_sum + (i+1)\n",
        "\n",
        "for i in range(12,128, 3):\n",
        "  three_multi_sum = three_multi_sum + i \n",
        "  ...\n",
        "\n",
        "print(odd_sum)\n",
        "print(three_multi_sum)\n"
      ],
      "execution_count": null,
      "outputs": [
        {
          "output_type": "stream",
          "text": [
            "4060\n",
            "2691\n"
          ],
          "name": "stdout"
        }
      ]
    },
    {
      "cell_type": "code",
      "metadata": {
        "colab": {
          "base_uri": "https://localhost:8080/"
        },
        "id": "c3TuXiwn2w6x",
        "outputId": "8ce40227-f4f3-4cc5-94ad-5f6be7ff0013"
      },
      "source": [
        "odd_sum = 0\n",
        "three_multi_sum = 0\n",
        "\n",
        "for i in range(12, 128):\n",
        "  if i%2==1:\n",
        "    odd_sum = odd_sum + i\n",
        "  if i%3==0:\n",
        "    three_multi_sum = three_multi_sum + i\n",
        "    \n",
        "print(odd_sum)\n",
        "print(three_multi_sum)"
      ],
      "execution_count": null,
      "outputs": [
        {
          "output_type": "stream",
          "text": [
            "4060\n",
            "2691\n"
          ],
          "name": "stdout"
        }
      ]
    },
    {
      "cell_type": "code",
      "metadata": {
        "colab": {
          "base_uri": "https://localhost:8080/"
        },
        "id": "PEClrxtB3Lwp",
        "outputId": "3421d0a5-3953-4d64-b853-3c010747a137"
      },
      "source": [
        "odd_sum = 0\n",
        "three_multi_sum = 0\n",
        "\n",
        "for i in range(12, 128):\n",
        "  if i%2==1:\n",
        "    odd_sum += i\n",
        "  if i%3==0:\n",
        "    three_multi_sum += i\n",
        "    \n",
        "print(odd_sum)\n",
        "print(three_multi_sum)"
      ],
      "execution_count": null,
      "outputs": [
        {
          "output_type": "stream",
          "text": [
            "4060\n",
            "2691\n"
          ],
          "name": "stdout"
        }
      ]
    },
    {
      "cell_type": "code",
      "metadata": {
        "colab": {
          "base_uri": "https://localhost:8080/"
        },
        "id": "Xi6xncsE3fti",
        "outputId": "76aaa925-683b-4f48-b392-4f45e1b86b9e"
      },
      "source": [
        "a = 3\n",
        "# \"a=3 : ***\"\n",
        "\n",
        "\n",
        "s = \"\"\n",
        "s = s+\"*\"\n",
        "print(s)\n"
      ],
      "execution_count": null,
      "outputs": [
        {
          "output_type": "stream",
          "text": [
            "*\n"
          ],
          "name": "stdout"
        }
      ]
    },
    {
      "cell_type": "code",
      "metadata": {
        "colab": {
          "base_uri": "https://localhost:8080/"
        },
        "id": "0fAzp63L4P6K",
        "outputId": "2e79f284-f9c5-493e-ce38-95cb58ba27d6"
      },
      "source": [
        "a = 3\n",
        "s = \"\"\n",
        "for i in range(a):\n",
        "  s = s+\"*\"\n",
        "print(\"a={} : {}\".format(a, s))"
      ],
      "execution_count": null,
      "outputs": [
        {
          "output_type": "stream",
          "text": [
            "a=3 : ***\n"
          ],
          "name": "stdout"
        }
      ]
    },
    {
      "cell_type": "code",
      "metadata": {
        "colab": {
          "base_uri": "https://localhost:8080/"
        },
        "id": "HQjPHuXj5qlE",
        "outputId": "46c629c2-935f-45b7-8d23-93ba880c43bc"
      },
      "source": [
        "a = 5\n",
        "s = \"\"\n",
        "for i in range(a):\n",
        "  s = s+\"*\"\n",
        "print(\"a={} : {}\".format(a, s))"
      ],
      "execution_count": null,
      "outputs": [
        {
          "output_type": "stream",
          "text": [
            "a=5 : *****\n"
          ],
          "name": "stdout"
        }
      ]
    },
    {
      "cell_type": "code",
      "metadata": {
        "id": "07hFreKh4j2p"
      },
      "source": [
        "a=1 : *\n",
        "a=2 : **\n",
        "a=3 : ***\n",
        "...\n",
        "a=9 : *********"
      ],
      "execution_count": null,
      "outputs": []
    },
    {
      "cell_type": "code",
      "metadata": {
        "colab": {
          "base_uri": "https://localhost:8080/"
        },
        "id": "DgUKoQEZ6BwX",
        "outputId": "918e3144-04fa-4a72-a833-51493139200d"
      },
      "source": [
        "for i in range(1,10):\n",
        "  a = i\n",
        "  s = \"\"\n",
        "  for i in range(a):\n",
        "    s = s+\"*\"\n",
        "  print(\"a={} : {}\".format(a, s))"
      ],
      "execution_count": null,
      "outputs": [
        {
          "output_type": "stream",
          "text": [
            "a=1 : *\n",
            "a=2 : **\n",
            "a=3 : ***\n",
            "a=4 : ****\n",
            "a=5 : *****\n",
            "a=6 : ******\n",
            "a=7 : *******\n",
            "a=8 : ********\n",
            "a=9 : *********\n"
          ],
          "name": "stdout"
        }
      ]
    },
    {
      "cell_type": "code",
      "metadata": {
        "colab": {
          "base_uri": "https://localhost:8080/"
        },
        "id": "lTGi7Gxc7lou",
        "outputId": "7f0b6cdc-c678-40a7-e589-33f01698e2ec"
      },
      "source": [
        "for i in range(1,10):\n",
        "  length = i\n",
        "  s = \"\"\n",
        "  for j in range(length):\n",
        "    s = s+\"*\"\n",
        "  print(s)"
      ],
      "execution_count": null,
      "outputs": [
        {
          "output_type": "stream",
          "text": [
            "*\n",
            "**\n",
            "***\n",
            "****\n",
            "*****\n",
            "******\n",
            "*******\n",
            "********\n",
            "*********\n"
          ],
          "name": "stdout"
        }
      ]
    },
    {
      "cell_type": "code",
      "metadata": {
        "colab": {
          "base_uri": "https://localhost:8080/"
        },
        "id": "DISKGkVl9yRI",
        "outputId": "5deb4c12-0034-4c41-d53a-c7a713802719"
      },
      "source": [
        "for i in range(1,10):\n",
        "  s = \"\"\n",
        "  for j in range(i):\n",
        "    s = s+\"*\"\n",
        "  print(s)"
      ],
      "execution_count": null,
      "outputs": [
        {
          "output_type": "stream",
          "text": [
            "*\n",
            "**\n",
            "***\n",
            "****\n",
            "*****\n",
            "******\n",
            "*******\n",
            "********\n",
            "*********\n"
          ],
          "name": "stdout"
        }
      ]
    },
    {
      "cell_type": "code",
      "metadata": {
        "colab": {
          "base_uri": "https://localhost:8080/"
        },
        "id": "mceuW1ON-FmO",
        "outputId": "2096d193-ce57-4377-ea0b-b03e50f2e254"
      },
      "source": [
        "# 아래 코드는 루프 하나로 구현했다. 우연히 결과가 똑같다.\n",
        "s = \"\"\n",
        "for i in range(10):\n",
        "  s = s+\"*\"\n",
        "  print(s)"
      ],
      "execution_count": null,
      "outputs": [
        {
          "output_type": "stream",
          "text": [
            "*\n",
            "**\n",
            "***\n",
            "****\n",
            "*****\n",
            "******\n",
            "*******\n",
            "********\n",
            "*********\n",
            "**********\n"
          ],
          "name": "stdout"
        }
      ]
    },
    {
      "cell_type": "code",
      "metadata": {
        "colab": {
          "base_uri": "https://localhost:8080/"
        },
        "id": "BFi_YLQr8Me7",
        "outputId": "87ca16b2-3bbe-4924-c7e4-df644634ea47"
      },
      "source": [
        "for i in range(10, 0, -1):\n",
        "  print(i)"
      ],
      "execution_count": null,
      "outputs": [
        {
          "output_type": "stream",
          "text": [
            "10\n",
            "9\n",
            "8\n",
            "7\n",
            "6\n",
            "5\n",
            "4\n",
            "3\n",
            "2\n",
            "1\n"
          ],
          "name": "stdout"
        }
      ]
    },
    {
      "cell_type": "code",
      "metadata": {
        "id": "xNMiGhQk8Kmg"
      },
      "source": [
        "*****\n",
        "****\n",
        "***\n",
        "**\n",
        "*"
      ],
      "execution_count": null,
      "outputs": []
    },
    {
      "cell_type": "code",
      "metadata": {
        "colab": {
          "base_uri": "https://localhost:8080/"
        },
        "id": "nvkKmanx-dRQ",
        "outputId": "119fffeb-4c9d-4602-d6ad-a9ac922cd2a6"
      },
      "source": [
        "for i in range(5, 0, -1):\n",
        "  s = \"\"\n",
        "  for j in range(i):\n",
        "    s = s+\"*\"\n",
        "  print(s)"
      ],
      "execution_count": null,
      "outputs": [
        {
          "output_type": "stream",
          "text": [
            "*****\n",
            "****\n",
            "***\n",
            "**\n",
            "*\n"
          ],
          "name": "stdout"
        }
      ]
    },
    {
      "cell_type": "code",
      "metadata": {
        "colab": {
          "base_uri": "https://localhost:8080/"
        },
        "id": "MYZfnNy2_acO",
        "outputId": "e7684139-69fa-49e9-914d-c53b6cc12b1a"
      },
      "source": [
        "def print_star_of_length(length):\n",
        "  s = \"\"\n",
        "  for j in range(length):\n",
        "    s = s+\"*\"\n",
        "  print(s)\n",
        "\n",
        "for i in range(5,0,-1):\n",
        "  print_star_of_length(i)"
      ],
      "execution_count": null,
      "outputs": [
        {
          "output_type": "stream",
          "text": [
            "*****\n",
            "****\n",
            "***\n",
            "**\n",
            "*\n"
          ],
          "name": "stdout"
        }
      ]
    }
  ]
}