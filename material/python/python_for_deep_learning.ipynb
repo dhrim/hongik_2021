{
  "nbformat": 4,
  "nbformat_minor": 0,
  "metadata": {
    "colab": {
      "name": "python_for_deep_learning.ipynb",
      "provenance": [],
      "collapsed_sections": [],
      "toc_visible": true
    },
    "kernelspec": {
      "name": "python3",
      "display_name": "Python 3"
    }
  },
  "cells": [
    {
      "cell_type": "markdown",
      "metadata": {
        "id": "ol2Gs9Nikg01"
      },
      "source": [
        "# Python for Deep Learning"
      ]
    },
    {
      "cell_type": "markdown",
      "metadata": {
        "id": "Ci7Sp3BUkGH7"
      },
      "source": [
        "# 첫 파이썬 코드 - hello"
      ]
    },
    {
      "cell_type": "code",
      "metadata": {
        "id": "-Il3jz7qj_QD",
        "colab": {
          "base_uri": "https://localhost:8080/"
        },
        "outputId": "1acc28f6-b5b7-4f8b-834e-9f7db8917fbf"
      },
      "source": [
        "print(\"hello\")"
      ],
      "execution_count": null,
      "outputs": [
        {
          "output_type": "stream",
          "text": [
            "hello\n"
          ],
          "name": "stdout"
        }
      ]
    },
    {
      "cell_type": "code",
      "metadata": {
        "id": "8u7c8aHzkErf",
        "colab": {
          "base_uri": "https://localhost:8080/",
          "height": 35
        },
        "outputId": "5c9a1ff3-e3bd-4a6e-8c1f-93c35011c9f6"
      },
      "source": [
        "print(1)"
      ],
      "execution_count": null,
      "outputs": [
        {
          "output_type": "stream",
          "text": [
            "1\n"
          ],
          "name": "stdout"
        }
      ]
    },
    {
      "cell_type": "markdown",
      "metadata": {
        "id": "RwCU2piKkhQn"
      },
      "source": [
        "print()는 대상을 출력하라는 python 명령어"
      ]
    },
    {
      "cell_type": "code",
      "metadata": {
        "id": "FDiCFcR9kN2R",
        "colab": {
          "base_uri": "https://localhost:8080/",
          "height": 35
        },
        "outputId": "d22ec76c-67e5-46d2-9cd9-0a000c10b6c8"
      },
      "source": [
        "print(\"1\")"
      ],
      "execution_count": null,
      "outputs": [
        {
          "output_type": "stream",
          "text": [
            "1\n"
          ],
          "name": "stdout"
        }
      ]
    },
    {
      "cell_type": "code",
      "metadata": {
        "id": "Wme-S2YqkPxE",
        "colab": {
          "base_uri": "https://localhost:8080/",
          "height": 165
        },
        "outputId": "da7b3ca2-2c77-48ec-80c5-2cf4eea9650c"
      },
      "source": [
        "print(hello)"
      ],
      "execution_count": null,
      "outputs": [
        {
          "output_type": "error",
          "ename": "NameError",
          "evalue": "ignored",
          "traceback": [
            "\u001b[0;31m---------------------------------------------------------------------------\u001b[0m",
            "\u001b[0;31mNameError\u001b[0m                                 Traceback (most recent call last)",
            "\u001b[0;32m<ipython-input-4-1cd80308eb4c>\u001b[0m in \u001b[0;36m<module>\u001b[0;34m()\u001b[0m\n\u001b[0;32m----> 1\u001b[0;31m \u001b[0mprint\u001b[0m\u001b[0;34m(\u001b[0m\u001b[0mhello\u001b[0m\u001b[0;34m)\u001b[0m\u001b[0;34m\u001b[0m\u001b[0;34m\u001b[0m\u001b[0m\n\u001b[0m",
            "\u001b[0;31mNameError\u001b[0m: name 'hello' is not defined"
          ]
        }
      ]
    },
    {
      "cell_type": "markdown",
      "metadata": {
        "id": "y_KaN2eld41m"
      },
      "source": [
        "# 변수와 연산자"
      ]
    },
    {
      "cell_type": "markdown",
      "metadata": {
        "id": "we_h-M3kvc5u"
      },
      "source": [
        "## 연산"
      ]
    },
    {
      "cell_type": "code",
      "metadata": {
        "id": "IKLvzOA6visR",
        "colab": {
          "base_uri": "https://localhost:8080/",
          "height": 35
        },
        "outputId": "5cd70568-f7b9-4c1b-d5f1-11d9b33d14ff"
      },
      "source": [
        "1+2"
      ],
      "execution_count": null,
      "outputs": [
        {
          "output_type": "execute_result",
          "data": {
            "text/plain": [
              "3"
            ]
          },
          "metadata": {
            "tags": []
          },
          "execution_count": 50
        }
      ]
    },
    {
      "cell_type": "code",
      "metadata": {
        "id": "75wM8dntviqF",
        "colab": {
          "base_uri": "https://localhost:8080/",
          "height": 35
        },
        "outputId": "68cb6533-726d-4df9-b80c-d78741226a66"
      },
      "source": [
        "1+2+3"
      ],
      "execution_count": null,
      "outputs": [
        {
          "output_type": "execute_result",
          "data": {
            "text/plain": [
              "6"
            ]
          },
          "metadata": {
            "tags": []
          },
          "execution_count": 51
        }
      ]
    },
    {
      "cell_type": "code",
      "metadata": {
        "id": "XgbCUUZsvimC",
        "colab": {
          "base_uri": "https://localhost:8080/",
          "height": 35
        },
        "outputId": "00da6dc5-e996-4a14-d219-7eccefb0e23f"
      },
      "source": [
        "(1+2)*3"
      ],
      "execution_count": null,
      "outputs": [
        {
          "output_type": "execute_result",
          "data": {
            "text/plain": [
              "9"
            ]
          },
          "metadata": {
            "tags": []
          },
          "execution_count": 52
        }
      ]
    },
    {
      "cell_type": "code",
      "metadata": {
        "id": "WAttN4FbviT0",
        "colab": {
          "base_uri": "https://localhost:8080/",
          "height": 35
        },
        "outputId": "c3d93510-f755-40f2-9475-49d1925abc92"
      },
      "source": [
        "1+(2*3)"
      ],
      "execution_count": null,
      "outputs": [
        {
          "output_type": "execute_result",
          "data": {
            "text/plain": [
              "7"
            ]
          },
          "metadata": {
            "tags": []
          },
          "execution_count": 53
        }
      ]
    },
    {
      "cell_type": "markdown",
      "metadata": {
        "id": "DXoN9VhlkS8E"
      },
      "source": [
        "## 변수"
      ]
    },
    {
      "cell_type": "code",
      "metadata": {
        "id": "lbyHeVEKkWqd",
        "colab": {
          "base_uri": "https://localhost:8080/",
          "height": 35
        },
        "outputId": "5d5aca86-5c15-4544-93c5-a6f0b442a381"
      },
      "source": [
        "print(\"tom\")"
      ],
      "execution_count": null,
      "outputs": [
        {
          "output_type": "stream",
          "text": [
            "tom\n"
          ],
          "name": "stdout"
        }
      ]
    },
    {
      "cell_type": "code",
      "metadata": {
        "id": "0oiNnoCikQ08",
        "colab": {
          "base_uri": "https://localhost:8080/",
          "height": 35
        },
        "outputId": "b09940ab-bcf6-43ec-be77-7f832f250cd6"
      },
      "source": [
        "name = \"tom\"\n",
        "print(name)"
      ],
      "execution_count": null,
      "outputs": [
        {
          "output_type": "stream",
          "text": [
            "tom\n"
          ],
          "name": "stdout"
        }
      ]
    },
    {
      "cell_type": "markdown",
      "metadata": {
        "id": "_4Bso17ukm0q"
      },
      "source": [
        "모든 데이터는 변수에 담아서 사용한다\n",
        "\n",
        "변수에 담을 때는 다음과 같이 '='를 사용한다\n",
        "```\n",
        "변수명 = 값\n",
        "```\n",
        "\n",
        "\n",
        "<br>\n",
        "\n",
        "print() 명령은 전달된 것이 \n",
        "\n",
        "변수이면 변수에 담긴 값을 출력하고\n",
        "\n",
        "값이면 그 값을 출력한다."
      ]
    },
    {
      "cell_type": "code",
      "metadata": {
        "id": "MmTbcxeJkY6d",
        "colab": {
          "base_uri": "https://localhost:8080/",
          "height": 35
        },
        "outputId": "88cf7ed7-c878-4594-cd3c-c6105a895765"
      },
      "source": [
        "age = 20\n",
        "print(age)"
      ],
      "execution_count": null,
      "outputs": [
        {
          "output_type": "stream",
          "text": [
            "20\n"
          ],
          "name": "stdout"
        }
      ]
    },
    {
      "cell_type": "code",
      "metadata": {
        "id": "7WOe_P_AkcSG",
        "colab": {
          "base_uri": "https://localhost:8080/",
          "height": 35
        },
        "outputId": "fdb12128-90e2-4dc2-b101-9359a351aa70"
      },
      "source": [
        "print(20)"
      ],
      "execution_count": null,
      "outputs": [
        {
          "output_type": "stream",
          "text": [
            "20\n"
          ],
          "name": "stdout"
        }
      ]
    },
    {
      "cell_type": "markdown",
      "metadata": {
        "id": "eHYLDsM_lJ0L"
      },
      "source": [
        "## 사칙 연산"
      ]
    },
    {
      "cell_type": "code",
      "metadata": {
        "id": "Q7ja_XnMkdRf",
        "colab": {
          "base_uri": "https://localhost:8080/",
          "height": 35
        },
        "outputId": "4d9696b2-f4df-4e36-91cf-e95c0c158cd9"
      },
      "source": [
        "print(2+3)"
      ],
      "execution_count": null,
      "outputs": [
        {
          "output_type": "stream",
          "text": [
            "5\n"
          ],
          "name": "stdout"
        }
      ]
    },
    {
      "cell_type": "code",
      "metadata": {
        "id": "7MaXfRIClOyL",
        "colab": {
          "base_uri": "https://localhost:8080/",
          "height": 35
        },
        "outputId": "f6654951-9965-4c80-dd34-ff7c41557bd5"
      },
      "source": [
        "print(2-3)"
      ],
      "execution_count": null,
      "outputs": [
        {
          "output_type": "stream",
          "text": [
            "-1\n"
          ],
          "name": "stdout"
        }
      ]
    },
    {
      "cell_type": "code",
      "metadata": {
        "id": "CXi4rh3mlPca",
        "colab": {
          "base_uri": "https://localhost:8080/",
          "height": 35
        },
        "outputId": "45b6b726-141b-4feb-dc20-b09f7e0a3eaa"
      },
      "source": [
        "print(2*3)"
      ],
      "execution_count": null,
      "outputs": [
        {
          "output_type": "stream",
          "text": [
            "6\n"
          ],
          "name": "stdout"
        }
      ]
    },
    {
      "cell_type": "code",
      "metadata": {
        "id": "S1WMDczSlRTq",
        "colab": {
          "base_uri": "https://localhost:8080/",
          "height": 35
        },
        "outputId": "61202137-be40-4356-c5ca-28f865d7f1e5"
      },
      "source": [
        "print(2/3)"
      ],
      "execution_count": null,
      "outputs": [
        {
          "output_type": "stream",
          "text": [
            "0.6666666666666666\n"
          ],
          "name": "stdout"
        }
      ]
    },
    {
      "cell_type": "markdown",
      "metadata": {
        "id": "dx-xLgQ2lYTr"
      },
      "source": [
        "기본적인 사칙연산을 제공한다"
      ]
    },
    {
      "cell_type": "code",
      "metadata": {
        "id": "uD5baliDlU-p"
      },
      "source": [
        "a = 2\n",
        "b = 3"
      ],
      "execution_count": null,
      "outputs": []
    },
    {
      "cell_type": "code",
      "metadata": {
        "id": "rEQU3GAZleVy",
        "colab": {
          "base_uri": "https://localhost:8080/",
          "height": 35
        },
        "outputId": "25b51529-f3bb-4612-b2a2-7dac7b03771b"
      },
      "source": [
        "print(a+b)"
      ],
      "execution_count": null,
      "outputs": [
        {
          "output_type": "stream",
          "text": [
            "5\n"
          ],
          "name": "stdout"
        }
      ]
    },
    {
      "cell_type": "code",
      "metadata": {
        "id": "eb-B9YyNlfqn",
        "colab": {
          "base_uri": "https://localhost:8080/",
          "height": 35
        },
        "outputId": "ee9e6fea-661e-4440-818e-ee84111e9648"
      },
      "source": [
        "print(a-b)"
      ],
      "execution_count": null,
      "outputs": [
        {
          "output_type": "stream",
          "text": [
            "-1\n"
          ],
          "name": "stdout"
        }
      ]
    },
    {
      "cell_type": "code",
      "metadata": {
        "id": "H3BZZ_ZRlgmR",
        "colab": {
          "base_uri": "https://localhost:8080/",
          "height": 35
        },
        "outputId": "6d73fb80-7b53-413b-fbb5-de9d823a11c7"
      },
      "source": [
        "print(a*b)"
      ],
      "execution_count": null,
      "outputs": [
        {
          "output_type": "stream",
          "text": [
            "6\n"
          ],
          "name": "stdout"
        }
      ]
    },
    {
      "cell_type": "code",
      "metadata": {
        "id": "4xxy6y5Rlimz",
        "colab": {
          "base_uri": "https://localhost:8080/",
          "height": 35
        },
        "outputId": "7085315f-7161-4405-8ee4-29d293b42495"
      },
      "source": [
        "print(a/b)"
      ],
      "execution_count": null,
      "outputs": [
        {
          "output_type": "stream",
          "text": [
            "0.6666666666666666\n"
          ],
          "name": "stdout"
        }
      ]
    },
    {
      "cell_type": "markdown",
      "metadata": {
        "id": "0bR2OWbqlllC"
      },
      "source": [
        "연산에 사용된 것이 변수이면 변수의 값을,\n",
        "\n",
        "값이면 값 자체를 사용한다."
      ]
    },
    {
      "cell_type": "markdown",
      "metadata": {
        "id": "h6VHS35emNA_"
      },
      "source": [
        "## 변수에 값 할당"
      ]
    },
    {
      "cell_type": "code",
      "metadata": {
        "id": "MeobJBhhljby",
        "colab": {
          "base_uri": "https://localhost:8080/",
          "height": 35
        },
        "outputId": "d205b5c9-6e3e-4d05-cb48-b27689d5f394"
      },
      "source": [
        "c = a+b\n",
        "print(c)"
      ],
      "execution_count": null,
      "outputs": [
        {
          "output_type": "stream",
          "text": [
            "5\n"
          ],
          "name": "stdout"
        }
      ]
    },
    {
      "cell_type": "code",
      "metadata": {
        "id": "n91mrtzDlufR",
        "colab": {
          "base_uri": "https://localhost:8080/",
          "height": 35
        },
        "outputId": "3a4361ab-f159-4382-cfee-92721253e048"
      },
      "source": [
        "c = a-b\n",
        "print(c)"
      ],
      "execution_count": null,
      "outputs": [
        {
          "output_type": "stream",
          "text": [
            "-1\n"
          ],
          "name": "stdout"
        }
      ]
    },
    {
      "cell_type": "code",
      "metadata": {
        "id": "lhelb8Mplvdp",
        "colab": {
          "base_uri": "https://localhost:8080/",
          "height": 35
        },
        "outputId": "ec618ec4-9785-48c5-fe4e-8e90e7bde70f"
      },
      "source": [
        "c = a*b\n",
        "print(c)"
      ],
      "execution_count": null,
      "outputs": [
        {
          "output_type": "stream",
          "text": [
            "6\n"
          ],
          "name": "stdout"
        }
      ]
    },
    {
      "cell_type": "code",
      "metadata": {
        "id": "iPKZQ0nglw84",
        "colab": {
          "base_uri": "https://localhost:8080/",
          "height": 35
        },
        "outputId": "7616790b-b650-418a-95cd-485b7889fcce"
      },
      "source": [
        "c = a/b\n",
        "print(c)"
      ],
      "execution_count": null,
      "outputs": [
        {
          "output_type": "stream",
          "text": [
            "0.6666666666666666\n"
          ],
          "name": "stdout"
        }
      ]
    },
    {
      "cell_type": "markdown",
      "metadata": {
        "id": "xSC-zsNclzLl"
      },
      "source": [
        "연산된 결과를 다른 변수에 담을 수 있다.\n",
        "\n",
        "담는 방법은 역시 위에서 언급한 '='를 사용한다.\n",
        "\n",
        "\n",
        "<br>\n",
        "\n",
        "'='는 같다라는 의미가 아니라 우측의 결과값을 좌측의 변수에 담으라는 일종의 명령어, 정확히는 연산자이다."
      ]
    },
    {
      "cell_type": "markdown",
      "metadata": {
        "id": "LEpZdgkIv1J3"
      },
      "source": [
        "대신 같음을 비교하는 비교 연산자는 '==' 이다."
      ]
    },
    {
      "cell_type": "code",
      "metadata": {
        "id": "UBrE4gyZv-SV",
        "colab": {
          "base_uri": "https://localhost:8080/",
          "height": 35
        },
        "outputId": "49bf36df-f13a-4ea3-d0cb-8db58327b64f"
      },
      "source": [
        "1==1"
      ],
      "execution_count": null,
      "outputs": [
        {
          "output_type": "execute_result",
          "data": {
            "text/plain": [
              "True"
            ]
          },
          "metadata": {
            "tags": []
          },
          "execution_count": 55
        }
      ]
    },
    {
      "cell_type": "code",
      "metadata": {
        "id": "nM5mZAJivyOh",
        "colab": {
          "base_uri": "https://localhost:8080/",
          "height": 35
        },
        "outputId": "31324479-4eb3-405b-a330-014cad2bdcd4"
      },
      "source": [
        "1==2"
      ],
      "execution_count": null,
      "outputs": [
        {
          "output_type": "execute_result",
          "data": {
            "text/plain": [
              "False"
            ]
          },
          "metadata": {
            "tags": []
          },
          "execution_count": 54
        }
      ]
    },
    {
      "cell_type": "code",
      "metadata": {
        "id": "NGox4BXwv_zm",
        "colab": {
          "base_uri": "https://localhost:8080/",
          "height": 35
        },
        "outputId": "a5c846ff-0f67-4fa6-99da-5c9f4357052a"
      },
      "source": [
        "a = 3\n",
        "a==3"
      ],
      "execution_count": null,
      "outputs": [
        {
          "output_type": "execute_result",
          "data": {
            "text/plain": [
              "True"
            ]
          },
          "metadata": {
            "tags": []
          },
          "execution_count": 56
        }
      ]
    },
    {
      "cell_type": "code",
      "metadata": {
        "id": "1FBYfZp3v_w1",
        "colab": {
          "base_uri": "https://localhost:8080/",
          "height": 35
        },
        "outputId": "b367d437-724a-4085-9733-dffb1f93ea03"
      },
      "source": [
        "a = 4\n",
        "a==4"
      ],
      "execution_count": null,
      "outputs": [
        {
          "output_type": "execute_result",
          "data": {
            "text/plain": [
              "True"
            ]
          },
          "metadata": {
            "tags": []
          },
          "execution_count": 57
        }
      ]
    },
    {
      "cell_type": "code",
      "metadata": {
        "id": "YrXPcTThv_uG",
        "colab": {
          "base_uri": "https://localhost:8080/",
          "height": 35
        },
        "outputId": "0a4cfc7d-86e9-4d85-dfb8-435db8dcc3f1"
      },
      "source": [
        "a = 3\n",
        "b = 3\n",
        "a==b"
      ],
      "execution_count": null,
      "outputs": [
        {
          "output_type": "execute_result",
          "data": {
            "text/plain": [
              "True"
            ]
          },
          "metadata": {
            "tags": []
          },
          "execution_count": 58
        }
      ]
    },
    {
      "cell_type": "code",
      "metadata": {
        "id": "IZF66Pj9wIhw",
        "colab": {
          "base_uri": "https://localhost:8080/",
          "height": 35
        },
        "outputId": "3cc9dc1c-0c45-43cd-d41c-8db6d3fce83d"
      },
      "source": [
        "a = 2\n",
        "a = 3\n",
        "a==b"
      ],
      "execution_count": null,
      "outputs": [
        {
          "output_type": "execute_result",
          "data": {
            "text/plain": [
              "True"
            ]
          },
          "metadata": {
            "tags": []
          },
          "execution_count": 59
        }
      ]
    },
    {
      "cell_type": "code",
      "metadata": {
        "id": "5-9Mux_7wIey",
        "colab": {
          "base_uri": "https://localhost:8080/",
          "height": 35
        },
        "outputId": "5af138e7-e393-4bba-878a-84367bd99f6c"
      },
      "source": [
        "name = \"tom\"\n",
        "name==\"tom\""
      ],
      "execution_count": null,
      "outputs": [
        {
          "output_type": "execute_result",
          "data": {
            "text/plain": [
              "True"
            ]
          },
          "metadata": {
            "tags": []
          },
          "execution_count": 60
        }
      ]
    },
    {
      "cell_type": "code",
      "metadata": {
        "id": "NFx2UthSwIZM",
        "colab": {
          "base_uri": "https://localhost:8080/",
          "height": 35
        },
        "outputId": "d27dc089-2c55-4e92-ab61-bb7c2170d353"
      },
      "source": [
        "name = \"jerry\"\n",
        "name==\"tom\""
      ],
      "execution_count": null,
      "outputs": [
        {
          "output_type": "execute_result",
          "data": {
            "text/plain": [
              "False"
            ]
          },
          "metadata": {
            "tags": []
          },
          "execution_count": 62
        }
      ]
    },
    {
      "cell_type": "markdown",
      "metadata": {
        "id": "LJ0mdOQKeCue"
      },
      "source": [
        "# 데이터 타입"
      ]
    },
    {
      "cell_type": "markdown",
      "metadata": {
        "id": "PfH460rCO4Im"
      },
      "source": [
        "## Boolean 타입\n",
        "True와 False의 값을 갖는 데이터 타입"
      ]
    },
    {
      "cell_type": "code",
      "metadata": {
        "id": "FihV1PwtO81F",
        "colab": {
          "base_uri": "https://localhost:8080/",
          "height": 35
        },
        "outputId": "2cc87b4e-72ea-4fe3-cd7d-ac3d5e3d0c97"
      },
      "source": [
        "is_equal = (1==1)\n",
        "print(is_equal)"
      ],
      "execution_count": null,
      "outputs": [
        {
          "output_type": "stream",
          "text": [
            "True\n"
          ],
          "name": "stdout"
        }
      ]
    },
    {
      "cell_type": "code",
      "metadata": {
        "id": "J4HF88H8PABP",
        "colab": {
          "base_uri": "https://localhost:8080/",
          "height": 35
        },
        "outputId": "e0a58c40-4920-4392-bae6-3eb6c9699abe"
      },
      "source": [
        "is_euqal = (1==2)\n",
        "print(is_equal)"
      ],
      "execution_count": null,
      "outputs": [
        {
          "output_type": "stream",
          "text": [
            "True\n"
          ],
          "name": "stdout"
        }
      ]
    },
    {
      "cell_type": "markdown",
      "metadata": {
        "id": "oxBwljLnOnZ1"
      },
      "source": [
        "## 데이터 타입 들\n",
        "- int : 정수. integer의 약자.\n",
        "- float : 실수. floating의 약자\n",
        "- str : 문자열. string의 약자\n",
        "- bool : boolean. True/False"
      ]
    },
    {
      "cell_type": "code",
      "metadata": {
        "id": "vUDe4EI8lyHH",
        "colab": {
          "base_uri": "https://localhost:8080/",
          "height": 35
        },
        "outputId": "009ca27f-0a4d-4d0f-8a48-68a744779943"
      },
      "source": [
        "print(3)"
      ],
      "execution_count": null,
      "outputs": [
        {
          "output_type": "stream",
          "text": [
            "3\n"
          ],
          "name": "stdout"
        }
      ]
    },
    {
      "cell_type": "code",
      "metadata": {
        "id": "J2zSdnBYmaxU",
        "colab": {
          "base_uri": "https://localhost:8080/",
          "height": 35
        },
        "outputId": "7cf5f864-6bdb-4c6c-9d0c-45727c12f8e7"
      },
      "source": [
        "print(3.0)"
      ],
      "execution_count": null,
      "outputs": [
        {
          "output_type": "stream",
          "text": [
            "3.0\n"
          ],
          "name": "stdout"
        }
      ]
    },
    {
      "cell_type": "code",
      "metadata": {
        "id": "pnRCCPMCmbwd",
        "colab": {
          "base_uri": "https://localhost:8080/",
          "height": 35
        },
        "outputId": "3bdaeda3-019f-4a30-955a-8e8a5c13d5e5"
      },
      "source": [
        "print(3.)"
      ],
      "execution_count": null,
      "outputs": [
        {
          "output_type": "stream",
          "text": [
            "3.0\n"
          ],
          "name": "stdout"
        }
      ]
    },
    {
      "cell_type": "code",
      "metadata": {
        "id": "9cOvQKwFmcf0",
        "colab": {
          "base_uri": "https://localhost:8080/",
          "height": 35
        },
        "outputId": "e703b33e-837e-47d6-9a0f-2325cb7c2934"
      },
      "source": [
        "print(\"hello\")"
      ],
      "execution_count": null,
      "outputs": [
        {
          "output_type": "stream",
          "text": [
            "hello\n"
          ],
          "name": "stdout"
        }
      ]
    },
    {
      "cell_type": "markdown",
      "metadata": {
        "id": "RBnKwfRVmn9n"
      },
      "source": [
        "정수와 실수 그리고 문자열로 구분된다.(이외에도 몇가지 더 있다.)\n",
        "\n",
        "정수와 실수의 구분은 메모리 사용과 관련되어 있다.\n",
        "\n",
        "각각 int, float라 부른다. integer의 약자. 소수점이 떠 다닌다 해서 floating.\n",
        "\n",
        "\n",
        "<br>\n",
        "\n",
        "그리고 문자열은 단순 값 1개가 아니라 여러개의 값들로 처리하는 내부적인 처리방식 때문에 별개로 처리한다.\n",
        "\n",
        "문자열은 string이라 불린다. 각 문자들의 연결이라는 의미이다."
      ]
    },
    {
      "cell_type": "code",
      "metadata": {
        "id": "zkznK-Mgmmcz",
        "colab": {
          "base_uri": "https://localhost:8080/"
        },
        "outputId": "59275d24-df66-43e6-fb7d-dd9b71a26a97"
      },
      "source": [
        "print(3)"
      ],
      "execution_count": null,
      "outputs": [
        {
          "output_type": "stream",
          "text": [
            "3\n"
          ],
          "name": "stdout"
        }
      ]
    },
    {
      "cell_type": "code",
      "metadata": {
        "id": "bv5ghczNm_6T",
        "colab": {
          "base_uri": "https://localhost:8080/",
          "height": 35
        },
        "outputId": "ec9bbfe5-23f6-4537-e0da-324b38b494d3"
      },
      "source": [
        "print(float(3))"
      ],
      "execution_count": null,
      "outputs": [
        {
          "output_type": "stream",
          "text": [
            "3.0\n"
          ],
          "name": "stdout"
        }
      ]
    },
    {
      "cell_type": "code",
      "metadata": {
        "id": "s0TxSDw-nA7X",
        "colab": {
          "base_uri": "https://localhost:8080/",
          "height": 35
        },
        "outputId": "3f51bf3b-1413-48aa-9bef-a48c690c3bcc"
      },
      "source": [
        "print(3.1)"
      ],
      "execution_count": null,
      "outputs": [
        {
          "output_type": "stream",
          "text": [
            "3.1\n"
          ],
          "name": "stdout"
        }
      ]
    },
    {
      "cell_type": "code",
      "metadata": {
        "id": "JjF3tdhKnWN3",
        "colab": {
          "base_uri": "https://localhost:8080/",
          "height": 35
        },
        "outputId": "c4883bbb-81b3-47db-bfb1-bfb1384a9f16"
      },
      "source": [
        "print(int(3.1))"
      ],
      "execution_count": null,
      "outputs": [
        {
          "output_type": "stream",
          "text": [
            "3\n"
          ],
          "name": "stdout"
        }
      ]
    },
    {
      "cell_type": "markdown",
      "metadata": {
        "id": "RNIksKuqnZz0"
      },
      "source": [
        "서로 간에 변환할 때는 int(), float()라는 함수를 사용한다.\n",
        "\n",
        "float를 int로 변환할 때는 정보의 손실이 발생한다.\n",
        "\n",
        "<br>\n",
        "\n",
        "+, -, *, /, = 등을 연산자라 하고 \n",
        "\n",
        "print(), int(), float() 처럼 괄호가 있어서 값을 전달하는 것을 함수라 부른다.\n"
      ]
    },
    {
      "cell_type": "markdown",
      "metadata": {
        "id": "gNgTtwaoXTar"
      },
      "source": [
        "## 타입 보기"
      ]
    },
    {
      "cell_type": "code",
      "metadata": {
        "id": "5Bu0wz4HXVuP",
        "colab": {
          "base_uri": "https://localhost:8080/"
        },
        "outputId": "18cce419-68d9-4e5f-b87f-6948ea3c1279"
      },
      "source": [
        "print(type(3))"
      ],
      "execution_count": null,
      "outputs": [
        {
          "output_type": "stream",
          "text": [
            "<class 'int'>\n"
          ],
          "name": "stdout"
        }
      ]
    },
    {
      "cell_type": "code",
      "metadata": {
        "id": "blPnYG4JXXuV",
        "colab": {
          "base_uri": "https://localhost:8080/"
        },
        "outputId": "a8ef0937-8a71-4be9-e02c-04acec9324f9"
      },
      "source": [
        "print(type(3.1))"
      ],
      "execution_count": null,
      "outputs": [
        {
          "output_type": "stream",
          "text": [
            "<class 'float'>\n"
          ],
          "name": "stdout"
        }
      ]
    },
    {
      "cell_type": "code",
      "metadata": {
        "id": "vC47r-Y5XXqq",
        "colab": {
          "base_uri": "https://localhost:8080/"
        },
        "outputId": "aa657ed5-866e-487b-bfc7-ee855a28d097"
      },
      "source": [
        "print(type(\"tom\"))"
      ],
      "execution_count": null,
      "outputs": [
        {
          "output_type": "stream",
          "text": [
            "<class 'str'>\n"
          ],
          "name": "stdout"
        }
      ]
    },
    {
      "cell_type": "code",
      "metadata": {
        "colab": {
          "base_uri": "https://localhost:8080/"
        },
        "id": "dVAtGZTa67I-",
        "outputId": "f23d2365-4b29-4e02-9dd6-fdce09fc14b8"
      },
      "source": [
        "print(type(\"3\"))"
      ],
      "execution_count": null,
      "outputs": [
        {
          "output_type": "stream",
          "text": [
            "<class 'str'>\n"
          ],
          "name": "stdout"
        }
      ]
    },
    {
      "cell_type": "code",
      "metadata": {
        "colab": {
          "base_uri": "https://localhost:8080/"
        },
        "id": "RwAprSMb68-T",
        "outputId": "11cbdfa7-fe21-4fdc-f10b-240aae902502"
      },
      "source": [
        "print(type(\"3.1\"))"
      ],
      "execution_count": null,
      "outputs": [
        {
          "output_type": "stream",
          "text": [
            "<class 'str'>\n"
          ],
          "name": "stdout"
        }
      ]
    },
    {
      "cell_type": "code",
      "metadata": {
        "id": "4tt0af00XXnB",
        "colab": {
          "base_uri": "https://localhost:8080/"
        },
        "outputId": "451216b0-d929-40e9-c966-9365d01c2291"
      },
      "source": [
        "print(type(True))"
      ],
      "execution_count": null,
      "outputs": [
        {
          "output_type": "stream",
          "text": [
            "<class 'bool'>\n"
          ],
          "name": "stdout"
        }
      ]
    },
    {
      "cell_type": "code",
      "metadata": {
        "colab": {
          "base_uri": "https://localhost:8080/"
        },
        "id": "-1eBxCA863_6",
        "outputId": "7122467b-7609-40b4-f6ec-59916fac61f5"
      },
      "source": [
        "print(type(False))"
      ],
      "execution_count": null,
      "outputs": [
        {
          "output_type": "stream",
          "text": [
            "<class 'bool'>\n"
          ],
          "name": "stdout"
        }
      ]
    },
    {
      "cell_type": "code",
      "metadata": {
        "id": "V-KAKS_lXXjQ",
        "colab": {
          "base_uri": "https://localhost:8080/",
          "height": 166
        },
        "outputId": "454e98f5-c20d-4f1e-b6de-a465f59bdc15"
      },
      "source": [
        "print(type(true))"
      ],
      "execution_count": null,
      "outputs": [
        {
          "output_type": "error",
          "ename": "NameError",
          "evalue": "ignored",
          "traceback": [
            "\u001b[0;31m---------------------------------------------------------------------------\u001b[0m",
            "\u001b[0;31mNameError\u001b[0m                                 Traceback (most recent call last)",
            "\u001b[0;32m<ipython-input-12-1c2838cf1bc6>\u001b[0m in \u001b[0;36m<module>\u001b[0;34m()\u001b[0m\n\u001b[0;32m----> 1\u001b[0;31m \u001b[0mprint\u001b[0m\u001b[0;34m(\u001b[0m\u001b[0mtype\u001b[0m\u001b[0;34m(\u001b[0m\u001b[0mtrue\u001b[0m\u001b[0;34m)\u001b[0m\u001b[0;34m)\u001b[0m\u001b[0;34m\u001b[0m\u001b[0;34m\u001b[0m\u001b[0m\n\u001b[0m",
            "\u001b[0;31mNameError\u001b[0m: name 'true' is not defined"
          ]
        }
      ]
    },
    {
      "cell_type": "markdown",
      "metadata": {
        "id": "LZKATAHn9Dlt"
      },
      "source": [
        "## 다른 타입 간의 연산"
      ]
    },
    {
      "cell_type": "code",
      "metadata": {
        "colab": {
          "base_uri": "https://localhost:8080/"
        },
        "id": "Ybc9aTYh9IAm",
        "outputId": "a34fabf4-838c-4f52-e6a4-48db4d39fe96"
      },
      "source": [
        "print(1 + 3) "
      ],
      "execution_count": null,
      "outputs": [
        {
          "output_type": "stream",
          "text": [
            "4\n"
          ],
          "name": "stdout"
        }
      ]
    },
    {
      "cell_type": "code",
      "metadata": {
        "colab": {
          "base_uri": "https://localhost:8080/"
        },
        "id": "W-Opal4v9LAs",
        "outputId": "9332e6f5-0db7-45c6-e1f8-531fabc92b4b"
      },
      "source": [
        "print(1 + 3.0)"
      ],
      "execution_count": null,
      "outputs": [
        {
          "output_type": "stream",
          "text": [
            "4.0\n"
          ],
          "name": "stdout"
        }
      ]
    },
    {
      "cell_type": "markdown",
      "metadata": {
        "id": "psdk-hXz9xDS"
      },
      "source": [
        "### 문자열과 다른 타입 간의 연산"
      ]
    },
    {
      "cell_type": "code",
      "metadata": {
        "colab": {
          "base_uri": "https://localhost:8080/",
          "height": 166
        },
        "id": "pogsunzR9N10",
        "outputId": "ab5773af-a12f-4a94-d859-2f8faa697b98"
      },
      "source": [
        "print(1 + \"3\")"
      ],
      "execution_count": null,
      "outputs": [
        {
          "output_type": "error",
          "ename": "TypeError",
          "evalue": "ignored",
          "traceback": [
            "\u001b[0;31m---------------------------------------------------------------------------\u001b[0m",
            "\u001b[0;31mTypeError\u001b[0m                                 Traceback (most recent call last)",
            "\u001b[0;32m<ipython-input-26-b9672cc2d971>\u001b[0m in \u001b[0;36m<module>\u001b[0;34m()\u001b[0m\n\u001b[0;32m----> 1\u001b[0;31m \u001b[0mprint\u001b[0m\u001b[0;34m(\u001b[0m\u001b[0;36m1\u001b[0m \u001b[0;34m+\u001b[0m \u001b[0;34m\"3\"\u001b[0m\u001b[0;34m)\u001b[0m\u001b[0;34m\u001b[0m\u001b[0;34m\u001b[0m\u001b[0m\n\u001b[0m",
            "\u001b[0;31mTypeError\u001b[0m: unsupported operand type(s) for +: 'int' and 'str'"
          ]
        }
      ]
    },
    {
      "cell_type": "markdown",
      "metadata": {
        "id": "DD8Wk7Jv-GVg"
      },
      "source": [
        "원칙적으로 연산 불가하다."
      ]
    },
    {
      "cell_type": "code",
      "metadata": {
        "colab": {
          "base_uri": "https://localhost:8080/"
        },
        "id": "WbT0lFPu9S44",
        "outputId": "7c9e13be-803a-4f3c-8e39-42cc49fdef05"
      },
      "source": [
        "print(1*\"3\")"
      ],
      "execution_count": null,
      "outputs": [
        {
          "output_type": "stream",
          "text": [
            "3\n"
          ],
          "name": "stdout"
        }
      ]
    },
    {
      "cell_type": "code",
      "metadata": {
        "colab": {
          "base_uri": "https://localhost:8080/"
        },
        "id": "W4Ho2ocf9VTl",
        "outputId": "1ac06e17-2441-419b-e954-b8ed4a98b6b2"
      },
      "source": [
        "print(1*\"tom\")"
      ],
      "execution_count": null,
      "outputs": [
        {
          "output_type": "stream",
          "text": [
            "tom\n"
          ],
          "name": "stdout"
        }
      ]
    },
    {
      "cell_type": "code",
      "metadata": {
        "colab": {
          "base_uri": "https://localhost:8080/"
        },
        "id": "UA3Op8Rt9XqQ",
        "outputId": "81e974b4-1901-4b5c-fcf8-abba6370031a"
      },
      "source": [
        "print(2*\"tom\")"
      ],
      "execution_count": null,
      "outputs": [
        {
          "output_type": "stream",
          "text": [
            "tomtom\n"
          ],
          "name": "stdout"
        }
      ]
    },
    {
      "cell_type": "markdown",
      "metadata": {
        "id": "XFmUtZm5-LKt"
      },
      "source": [
        "다만 정수와의 곱셈 연산은 반복의 의미로 사용된다."
      ]
    },
    {
      "cell_type": "code",
      "metadata": {
        "colab": {
          "base_uri": "https://localhost:8080/"
        },
        "id": "wmUR3Gp0-Rwm",
        "outputId": "1504f9b0-0f22-45a8-c4ef-706a4969b12b"
      },
      "source": [
        "print(10*\"tom\")"
      ],
      "execution_count": null,
      "outputs": [
        {
          "output_type": "stream",
          "text": [
            "tomtomtomtomtomtomtomtomtomtom\n"
          ],
          "name": "stdout"
        }
      ]
    },
    {
      "cell_type": "code",
      "metadata": {
        "colab": {
          "base_uri": "https://localhost:8080/",
          "height": 166
        },
        "id": "F0WtPB149oMU",
        "outputId": "a3e386ad-438d-4011-e05a-085932829164"
      },
      "source": [
        "print(2.0*\"tom\")"
      ],
      "execution_count": null,
      "outputs": [
        {
          "output_type": "error",
          "ename": "TypeError",
          "evalue": "ignored",
          "traceback": [
            "\u001b[0;31m---------------------------------------------------------------------------\u001b[0m",
            "\u001b[0;31mTypeError\u001b[0m                                 Traceback (most recent call last)",
            "\u001b[0;32m<ipython-input-21-fd20b2a4c8b8>\u001b[0m in \u001b[0;36m<module>\u001b[0;34m()\u001b[0m\n\u001b[0;32m----> 1\u001b[0;31m \u001b[0mprint\u001b[0m\u001b[0;34m(\u001b[0m\u001b[0;36m2.0\u001b[0m\u001b[0;34m*\u001b[0m\u001b[0;34m\"tom\"\u001b[0m\u001b[0;34m)\u001b[0m\u001b[0;34m\u001b[0m\u001b[0;34m\u001b[0m\u001b[0m\n\u001b[0m",
            "\u001b[0;31mTypeError\u001b[0m: can't multiply sequence by non-int of type 'float'"
          ]
        }
      ]
    },
    {
      "cell_type": "code",
      "metadata": {
        "colab": {
          "base_uri": "https://localhost:8080/",
          "height": 166
        },
        "id": "iF7Q6ujn9Zca",
        "outputId": "12cb3e49-5f1b-4de7-997e-3c0f0efa7cba"
      },
      "source": [
        "print(\"tom\"*\"jerry\")"
      ],
      "execution_count": null,
      "outputs": [
        {
          "output_type": "error",
          "ename": "TypeError",
          "evalue": "ignored",
          "traceback": [
            "\u001b[0;31m---------------------------------------------------------------------------\u001b[0m",
            "\u001b[0;31mTypeError\u001b[0m                                 Traceback (most recent call last)",
            "\u001b[0;32m<ipython-input-20-895a6b70c8d1>\u001b[0m in \u001b[0;36m<module>\u001b[0;34m()\u001b[0m\n\u001b[0;32m----> 1\u001b[0;31m \u001b[0mprint\u001b[0m\u001b[0;34m(\u001b[0m\u001b[0;34m\"tom\"\u001b[0m\u001b[0;34m*\u001b[0m\u001b[0;34m\"jerry\"\u001b[0m\u001b[0;34m)\u001b[0m\u001b[0;34m\u001b[0m\u001b[0;34m\u001b[0m\u001b[0m\n\u001b[0m",
            "\u001b[0;31mTypeError\u001b[0m: can't multiply sequence by non-int of type 'str'"
          ]
        }
      ]
    },
    {
      "cell_type": "markdown",
      "metadata": {
        "id": "aAfn7H_K_KFG"
      },
      "source": [
        "### boolean과 다른 타입 간의 연산"
      ]
    },
    {
      "cell_type": "code",
      "metadata": {
        "colab": {
          "base_uri": "https://localhost:8080/"
        },
        "id": "HiQeu6D0_Eo0",
        "outputId": "c18e2eed-5bc5-4a94-eef6-f7cc03c488e5"
      },
      "source": [
        "print(2*True)"
      ],
      "execution_count": null,
      "outputs": [
        {
          "output_type": "stream",
          "text": [
            "2\n"
          ],
          "name": "stdout"
        }
      ]
    },
    {
      "cell_type": "code",
      "metadata": {
        "colab": {
          "base_uri": "https://localhost:8080/"
        },
        "id": "sfqtXCRn_IIR",
        "outputId": "ff41cdeb-e82e-4886-abec-a009db735685"
      },
      "source": [
        "print(2*False)"
      ],
      "execution_count": null,
      "outputs": [
        {
          "output_type": "stream",
          "text": [
            "0\n"
          ],
          "name": "stdout"
        }
      ]
    },
    {
      "cell_type": "code",
      "metadata": {
        "colab": {
          "base_uri": "https://localhost:8080/"
        },
        "id": "h9Q_9ZCD_ZUU",
        "outputId": "90119faf-2c65-4d3a-b587-b69d11ad7d98"
      },
      "source": [
        "print(2.1*True)"
      ],
      "execution_count": null,
      "outputs": [
        {
          "output_type": "stream",
          "text": [
            "2.1\n"
          ],
          "name": "stdout"
        }
      ]
    },
    {
      "cell_type": "code",
      "metadata": {
        "colab": {
          "base_uri": "https://localhost:8080/"
        },
        "id": "__oystj1_cEN",
        "outputId": "dde66cf8-810d-4223-ae32-86ec4e9daee1"
      },
      "source": [
        "print(2.1*False)"
      ],
      "execution_count": null,
      "outputs": [
        {
          "output_type": "stream",
          "text": [
            "0.0\n"
          ],
          "name": "stdout"
        }
      ]
    },
    {
      "cell_type": "code",
      "metadata": {
        "colab": {
          "base_uri": "https://localhost:8080/"
        },
        "id": "n-3RKl-J_ePD",
        "outputId": "08e034c6-3762-4a60-8465-1782f409fad6"
      },
      "source": [
        "print(\"tom\"*True)"
      ],
      "execution_count": null,
      "outputs": [
        {
          "output_type": "stream",
          "text": [
            "tom\n"
          ],
          "name": "stdout"
        }
      ]
    },
    {
      "cell_type": "code",
      "metadata": {
        "colab": {
          "base_uri": "https://localhost:8080/"
        },
        "id": "GftSo7fd_hT-",
        "outputId": "17fb4ff0-db20-458f-cf1d-de42f6b47bcd"
      },
      "source": [
        "print(\"tom\"*False)"
      ],
      "execution_count": null,
      "outputs": [
        {
          "output_type": "stream",
          "text": [
            "\n"
          ],
          "name": "stdout"
        }
      ]
    },
    {
      "cell_type": "code",
      "metadata": {
        "colab": {
          "base_uri": "https://localhost:8080/"
        },
        "id": "gxV7SP2k_mnb",
        "outputId": "2be76755-69a2-4086-cd86-d32ba1fcb3bd"
      },
      "source": [
        "print(\"tom\"*0)"
      ],
      "execution_count": null,
      "outputs": [
        {
          "output_type": "stream",
          "text": [
            "\n"
          ],
          "name": "stdout"
        }
      ]
    },
    {
      "cell_type": "markdown",
      "metadata": {
        "id": "E16lGm6C_4Mu"
      },
      "source": [
        "True는 정수 1로 False는 정수 0으로 처리된다."
      ]
    },
    {
      "cell_type": "markdown",
      "metadata": {
        "id": "9jLyMp9UPIcG"
      },
      "source": [
        "## 데이터 타입 변환\n",
        "\n",
        "- int() : int 타입으로\n",
        "- float() : float 타입으로\n",
        "- str() : string 타입으로\n",
        "- bool() : boolean 타입으로"
      ]
    },
    {
      "cell_type": "code",
      "metadata": {
        "id": "Otg0ArN_PlUN"
      },
      "source": [
        "i = 3\n",
        "f = 3.1\n",
        "s = \"3.1\"\n",
        "b = True"
      ],
      "execution_count": null,
      "outputs": []
    },
    {
      "cell_type": "markdown",
      "metadata": {
        "id": "BBZFoL1wQDT-"
      },
      "source": [
        "### int()"
      ]
    },
    {
      "cell_type": "code",
      "metadata": {
        "id": "r0Xw2Hy0PaTC",
        "colab": {
          "base_uri": "https://localhost:8080/",
          "height": 35
        },
        "outputId": "4a20013e-71f6-4b3f-90dd-3fbbd7015f4c"
      },
      "source": [
        "print((int(3.0)))"
      ],
      "execution_count": null,
      "outputs": [
        {
          "output_type": "stream",
          "text": [
            "3\n"
          ],
          "name": "stdout"
        }
      ]
    },
    {
      "cell_type": "code",
      "metadata": {
        "id": "sJhHGx2ZPWfr",
        "colab": {
          "base_uri": "https://localhost:8080/",
          "height": 35
        },
        "outputId": "54311127-729a-4d77-e3f3-6f5b315486a3"
      },
      "source": [
        "print(int(3.1))"
      ],
      "execution_count": null,
      "outputs": [
        {
          "output_type": "stream",
          "text": [
            "3\n"
          ],
          "name": "stdout"
        }
      ]
    },
    {
      "cell_type": "markdown",
      "metadata": {
        "id": "tbUtmdABPxZ6"
      },
      "source": [
        "소수점 아래는 버려진다"
      ]
    },
    {
      "cell_type": "code",
      "metadata": {
        "id": "P2AlSKspP0aO",
        "colab": {
          "base_uri": "https://localhost:8080/",
          "height": 35
        },
        "outputId": "35aa3ea5-4c6b-4904-e19b-6087f0cc5252"
      },
      "source": [
        "print(int(\"3\"))"
      ],
      "execution_count": null,
      "outputs": [
        {
          "output_type": "stream",
          "text": [
            "3\n"
          ],
          "name": "stdout"
        }
      ]
    },
    {
      "cell_type": "code",
      "metadata": {
        "id": "d5mrRRGqP672",
        "colab": {
          "base_uri": "https://localhost:8080/",
          "height": 165
        },
        "outputId": "19b1de96-e45d-4067-e31a-22d254c3b4a1"
      },
      "source": [
        "print(int(\"3.1\"))"
      ],
      "execution_count": null,
      "outputs": [
        {
          "output_type": "error",
          "ename": "ValueError",
          "evalue": "ignored",
          "traceback": [
            "\u001b[0;31m---------------------------------------------------------------------------\u001b[0m",
            "\u001b[0;31mValueError\u001b[0m                                Traceback (most recent call last)",
            "\u001b[0;32m<ipython-input-15-8a9ca0e55031>\u001b[0m in \u001b[0;36m<module>\u001b[0;34m()\u001b[0m\n\u001b[0;32m----> 1\u001b[0;31m \u001b[0mprint\u001b[0m\u001b[0;34m(\u001b[0m\u001b[0mint\u001b[0m\u001b[0;34m(\u001b[0m\u001b[0;34m\"3.1\"\u001b[0m\u001b[0;34m)\u001b[0m\u001b[0;34m)\u001b[0m\u001b[0;34m\u001b[0m\u001b[0;34m\u001b[0m\u001b[0m\n\u001b[0m",
            "\u001b[0;31mValueError\u001b[0m: invalid literal for int() with base 10: '3.1'"
          ]
        }
      ]
    },
    {
      "cell_type": "code",
      "metadata": {
        "id": "17rKRkgERIl-",
        "colab": {
          "base_uri": "https://localhost:8080/",
          "height": 165
        },
        "outputId": "4f07826e-c76c-4ed0-da70-867605eec2a3"
      },
      "source": [
        "print(int(\"tom\"))"
      ],
      "execution_count": null,
      "outputs": [
        {
          "output_type": "error",
          "ename": "ValueError",
          "evalue": "ignored",
          "traceback": [
            "\u001b[0;31m---------------------------------------------------------------------------\u001b[0m",
            "\u001b[0;31mValueError\u001b[0m                                Traceback (most recent call last)",
            "\u001b[0;32m<ipython-input-24-9999c5e4166f>\u001b[0m in \u001b[0;36m<module>\u001b[0;34m()\u001b[0m\n\u001b[0;32m----> 1\u001b[0;31m \u001b[0mprint\u001b[0m\u001b[0;34m(\u001b[0m\u001b[0mint\u001b[0m\u001b[0;34m(\u001b[0m\u001b[0;34m\"tom\"\u001b[0m\u001b[0;34m)\u001b[0m\u001b[0;34m)\u001b[0m\u001b[0;34m\u001b[0m\u001b[0;34m\u001b[0m\u001b[0m\n\u001b[0m",
            "\u001b[0;31mValueError\u001b[0m: invalid literal for int() with base 10: 'tom'"
          ]
        }
      ]
    },
    {
      "cell_type": "code",
      "metadata": {
        "id": "cg0_R2RsP-61",
        "colab": {
          "base_uri": "https://localhost:8080/",
          "height": 35
        },
        "outputId": "c36029ab-3df5-4f02-9c39-315651ba17a5"
      },
      "source": [
        "print(int(float(\"3.1\")))"
      ],
      "execution_count": null,
      "outputs": [
        {
          "output_type": "stream",
          "text": [
            "3\n"
          ],
          "name": "stdout"
        }
      ]
    },
    {
      "cell_type": "code",
      "metadata": {
        "id": "e-HJ0u7WQFtm",
        "colab": {
          "base_uri": "https://localhost:8080/",
          "height": 35
        },
        "outputId": "c8ddb256-e639-4755-f8c2-0b9765f6a6aa"
      },
      "source": [
        "print(int(True))"
      ],
      "execution_count": null,
      "outputs": [
        {
          "output_type": "stream",
          "text": [
            "1\n"
          ],
          "name": "stdout"
        }
      ]
    },
    {
      "cell_type": "code",
      "metadata": {
        "id": "Yz82rY_zQLqp",
        "colab": {
          "base_uri": "https://localhost:8080/",
          "height": 35
        },
        "outputId": "6e9c5c2f-7b19-4b96-d06b-a877fa2e17ab"
      },
      "source": [
        "print(int(False))"
      ],
      "execution_count": null,
      "outputs": [
        {
          "output_type": "stream",
          "text": [
            "0\n"
          ],
          "name": "stdout"
        }
      ]
    },
    {
      "cell_type": "markdown",
      "metadata": {
        "id": "uFDYrscXQOzQ"
      },
      "source": [
        "### float()"
      ]
    },
    {
      "cell_type": "code",
      "metadata": {
        "id": "NkbtrvY0PbAf",
        "colab": {
          "base_uri": "https://localhost:8080/",
          "height": 35
        },
        "outputId": "71d16664-29c6-4971-d788-6e98b1a896f2"
      },
      "source": [
        "print(float(3))"
      ],
      "execution_count": null,
      "outputs": [
        {
          "output_type": "stream",
          "text": [
            "3.0\n"
          ],
          "name": "stdout"
        }
      ]
    },
    {
      "cell_type": "code",
      "metadata": {
        "id": "x0tpDu7EPbQP",
        "colab": {
          "base_uri": "https://localhost:8080/",
          "height": 35
        },
        "outputId": "3e6bfa94-b1e0-44f4-c257-8bc5911455e6"
      },
      "source": [
        "print(float(3.1))"
      ],
      "execution_count": null,
      "outputs": [
        {
          "output_type": "stream",
          "text": [
            "3.1\n"
          ],
          "name": "stdout"
        }
      ]
    },
    {
      "cell_type": "code",
      "metadata": {
        "id": "FEC2VOWwPbM_",
        "colab": {
          "base_uri": "https://localhost:8080/",
          "height": 35
        },
        "outputId": "af60f399-5b48-4ec8-bf47-e8d34df97ade"
      },
      "source": [
        "print(float(\"3\"))"
      ],
      "execution_count": null,
      "outputs": [
        {
          "output_type": "stream",
          "text": [
            "3.0\n"
          ],
          "name": "stdout"
        }
      ]
    },
    {
      "cell_type": "code",
      "metadata": {
        "id": "WIzW6W_UPbKv",
        "colab": {
          "base_uri": "https://localhost:8080/",
          "height": 35
        },
        "outputId": "df866437-b712-4878-a36c-7f00d7c6223f"
      },
      "source": [
        "print(float(\"3.1\"))"
      ],
      "execution_count": null,
      "outputs": [
        {
          "output_type": "stream",
          "text": [
            "3.1\n"
          ],
          "name": "stdout"
        }
      ]
    },
    {
      "cell_type": "code",
      "metadata": {
        "id": "yH3w5I2DQWTZ",
        "colab": {
          "base_uri": "https://localhost:8080/",
          "height": 165
        },
        "outputId": "015a2344-091e-4fc0-8581-b2b3bc5362f7"
      },
      "source": [
        "print(float(\"tom\"))"
      ],
      "execution_count": null,
      "outputs": [
        {
          "output_type": "error",
          "ename": "ValueError",
          "evalue": "ignored",
          "traceback": [
            "\u001b[0;31m---------------------------------------------------------------------------\u001b[0m",
            "\u001b[0;31mValueError\u001b[0m                                Traceback (most recent call last)",
            "\u001b[0;32m<ipython-input-26-60ebaf93df35>\u001b[0m in \u001b[0;36m<module>\u001b[0;34m()\u001b[0m\n\u001b[0;32m----> 1\u001b[0;31m \u001b[0mprint\u001b[0m\u001b[0;34m(\u001b[0m\u001b[0mfloat\u001b[0m\u001b[0;34m(\u001b[0m\u001b[0;34m\"tom\"\u001b[0m\u001b[0;34m)\u001b[0m\u001b[0;34m)\u001b[0m\u001b[0;34m\u001b[0m\u001b[0;34m\u001b[0m\u001b[0m\n\u001b[0m",
            "\u001b[0;31mValueError\u001b[0m: could not convert string to float: 'tom'"
          ]
        }
      ]
    },
    {
      "cell_type": "code",
      "metadata": {
        "id": "j6n2hu-uQWbk",
        "colab": {
          "base_uri": "https://localhost:8080/",
          "height": 35
        },
        "outputId": "aefe0d1f-79fc-451a-bd99-beae06bd2ac8"
      },
      "source": [
        "print(float(\"-3.1\"))"
      ],
      "execution_count": null,
      "outputs": [
        {
          "output_type": "stream",
          "text": [
            "-3.1\n"
          ],
          "name": "stdout"
        }
      ]
    },
    {
      "cell_type": "code",
      "metadata": {
        "id": "pvvu-VgiQWYO",
        "colab": {
          "base_uri": "https://localhost:8080/",
          "height": 35
        },
        "outputId": "ee5dfb54-8f1d-4b50-c7b2-2b78131bd179"
      },
      "source": [
        "print(float(True))"
      ],
      "execution_count": null,
      "outputs": [
        {
          "output_type": "stream",
          "text": [
            "1.0\n"
          ],
          "name": "stdout"
        }
      ]
    },
    {
      "cell_type": "code",
      "metadata": {
        "id": "m9iQPQzRQWQj",
        "colab": {
          "base_uri": "https://localhost:8080/",
          "height": 35
        },
        "outputId": "0c5c2b3e-9f0f-4398-e7be-004a3cdd6571"
      },
      "source": [
        "print(float(False))"
      ],
      "execution_count": null,
      "outputs": [
        {
          "output_type": "stream",
          "text": [
            "0.0\n"
          ],
          "name": "stdout"
        }
      ]
    },
    {
      "cell_type": "markdown",
      "metadata": {
        "id": "2Hc9k8vwRWHh"
      },
      "source": [
        "### str()"
      ]
    },
    {
      "cell_type": "code",
      "metadata": {
        "id": "TXSyiaYfQWOC",
        "colab": {
          "base_uri": "https://localhost:8080/",
          "height": 35
        },
        "outputId": "905c0eb8-733f-4e78-c7de-ad581a6dbc0a"
      },
      "source": [
        "print(str(3))"
      ],
      "execution_count": null,
      "outputs": [
        {
          "output_type": "stream",
          "text": [
            "3\n"
          ],
          "name": "stdout"
        }
      ]
    },
    {
      "cell_type": "code",
      "metadata": {
        "id": "__U2FKAaQWKv",
        "colab": {
          "base_uri": "https://localhost:8080/",
          "height": 35
        },
        "outputId": "b57e990a-ae6b-4db5-c986-cc6e7df55e8c"
      },
      "source": [
        "print(str(3.1))"
      ],
      "execution_count": null,
      "outputs": [
        {
          "output_type": "stream",
          "text": [
            "3.1\n"
          ],
          "name": "stdout"
        }
      ]
    },
    {
      "cell_type": "code",
      "metadata": {
        "id": "tZOGbHNcQWIR",
        "colab": {
          "base_uri": "https://localhost:8080/",
          "height": 35
        },
        "outputId": "4de7c2b8-962b-4bba-e71b-a769a75aedeb"
      },
      "source": [
        "print(str(True))"
      ],
      "execution_count": null,
      "outputs": [
        {
          "output_type": "stream",
          "text": [
            "True\n"
          ],
          "name": "stdout"
        }
      ]
    },
    {
      "cell_type": "markdown",
      "metadata": {
        "id": "XO4emjM1R14b"
      },
      "source": [
        "### bool()\n",
        "\n",
        "값이 \"False\", 0, None 그리고 비었을 때만 False를 반환\n",
        "\n",
        "이외에는 Truefmf qksghks"
      ]
    },
    {
      "cell_type": "code",
      "metadata": {
        "id": "ylLNLc_hQWFd",
        "colab": {
          "base_uri": "https://localhost:8080/",
          "height": 35
        },
        "outputId": "a8d5da24-04e1-4ee1-e160-db8d97770b8d"
      },
      "source": [
        "print(bool(1))"
      ],
      "execution_count": null,
      "outputs": [
        {
          "output_type": "stream",
          "text": [
            "True\n"
          ],
          "name": "stdout"
        }
      ]
    },
    {
      "cell_type": "code",
      "metadata": {
        "id": "Uzja0XGEQWCh",
        "colab": {
          "base_uri": "https://localhost:8080/",
          "height": 35
        },
        "outputId": "223f0b1e-90e7-4a11-d568-e8705f81e576"
      },
      "source": [
        "print(bool(0))"
      ],
      "execution_count": null,
      "outputs": [
        {
          "output_type": "stream",
          "text": [
            "False\n"
          ],
          "name": "stdout"
        }
      ]
    },
    {
      "cell_type": "code",
      "metadata": {
        "id": "_BPH9YL8PbIU",
        "colab": {
          "base_uri": "https://localhost:8080/",
          "height": 35
        },
        "outputId": "ed09acd7-be67-442c-cc4f-0106b965b3aa"
      },
      "source": [
        "print(bool(3))"
      ],
      "execution_count": null,
      "outputs": [
        {
          "output_type": "stream",
          "text": [
            "True\n"
          ],
          "name": "stdout"
        }
      ]
    },
    {
      "cell_type": "code",
      "metadata": {
        "id": "oE8Q5AajPbFq",
        "colab": {
          "base_uri": "https://localhost:8080/",
          "height": 35
        },
        "outputId": "2912c190-3b95-425f-c859-87b8b60929e0"
      },
      "source": [
        "print(bool(-1))"
      ],
      "execution_count": null,
      "outputs": [
        {
          "output_type": "stream",
          "text": [
            "True\n"
          ],
          "name": "stdout"
        }
      ]
    },
    {
      "cell_type": "code",
      "metadata": {
        "id": "8w23k7p8R-IH",
        "colab": {
          "base_uri": "https://localhost:8080/",
          "height": 35
        },
        "outputId": "144aaace-00ea-44a3-9883-7de47fff38d6"
      },
      "source": [
        "print(bool(None))"
      ],
      "execution_count": null,
      "outputs": [
        {
          "output_type": "stream",
          "text": [
            "False\n"
          ],
          "name": "stdout"
        }
      ]
    },
    {
      "cell_type": "code",
      "metadata": {
        "id": "eTTfsQC0R-Qf",
        "colab": {
          "base_uri": "https://localhost:8080/",
          "height": 35
        },
        "outputId": "02e91037-9582-4b81-d366-06fde1ecf9dd"
      },
      "source": [
        "print(bool(\"hi\"))"
      ],
      "execution_count": null,
      "outputs": [
        {
          "output_type": "stream",
          "text": [
            "True\n"
          ],
          "name": "stdout"
        }
      ]
    },
    {
      "cell_type": "code",
      "metadata": {
        "id": "xgbRwjCjR-ZY",
        "colab": {
          "base_uri": "https://localhost:8080/",
          "height": 35
        },
        "outputId": "1267bf1f-8dba-4e9b-a364-c6b07f0ac35d"
      },
      "source": [
        "print(bool(\"\"))"
      ],
      "execution_count": null,
      "outputs": [
        {
          "output_type": "stream",
          "text": [
            "False\n"
          ],
          "name": "stdout"
        }
      ]
    },
    {
      "cell_type": "markdown",
      "metadata": {
        "id": "eN8YkFYORfi9"
      },
      "source": [
        "## Quiz. 문자와 숫자 더하기\n",
        "\n",
        "실패했던 다음을 성공시키려면\n",
        "```\n",
        "print(\"3\"+1) # 3+1의 결과인 4를 출력하고 싶다.\n",
        "```\n"
      ]
    },
    {
      "cell_type": "code",
      "metadata": {
        "id": "yY7Doan4U6UV",
        "colab": {
          "base_uri": "https://localhost:8080/",
          "height": 35
        },
        "outputId": "5040a600-7877-4a20-fa76-95d3320135cb"
      },
      "source": [
        "print(int(\"3\")+1)"
      ],
      "execution_count": null,
      "outputs": [
        {
          "output_type": "stream",
          "text": [
            "4\n"
          ],
          "name": "stdout"
        }
      ]
    },
    {
      "cell_type": "code",
      "metadata": {
        "id": "SKFwGi62VBrd",
        "colab": {
          "base_uri": "https://localhost:8080/",
          "height": 35
        },
        "outputId": "a54764ce-37f6-42f6-c8fa-4757c61b5b19"
      },
      "source": [
        "print(int(\"3\")+int(\"1\"))"
      ],
      "execution_count": null,
      "outputs": [
        {
          "output_type": "stream",
          "text": [
            "4\n"
          ],
          "name": "stdout"
        }
      ]
    },
    {
      "cell_type": "markdown",
      "metadata": {
        "id": "wMzA6-XhVz_M"
      },
      "source": [
        "## 반올림과 유사 방법들\n",
        "\n",
        "4가지 방법이 있다.\n",
        "- int() : 소수점 아래를 버린다. truc()와 동일\n",
        "- round() : 가장 가까운 정수로\n",
        "- math.floor() : 원 값보다 작은 정수로\n",
        "- math.ceil() : 원 값보다 큰 정수로\n",
        "- math.truc() : 소수점 아래를 버린다."
      ]
    },
    {
      "cell_type": "code",
      "metadata": {
        "colab": {
          "base_uri": "https://localhost:8080/"
        },
        "id": "sv59oIg38Upd",
        "outputId": "e18896ae-76e9-49a0-da88-5fe08aac386a"
      },
      "source": [
        "print(int(3.0))\n",
        "print(int(3.1))\n",
        "print(int(3.4))\n",
        "print(int(3.5))\n",
        "print(int(3.9))\n",
        "print(int(4.0))"
      ],
      "execution_count": null,
      "outputs": [
        {
          "output_type": "stream",
          "text": [
            "3\n",
            "3\n",
            "3\n",
            "3\n",
            "3\n",
            "4\n"
          ],
          "name": "stdout"
        }
      ]
    },
    {
      "cell_type": "code",
      "metadata": {
        "colab": {
          "base_uri": "https://localhost:8080/"
        },
        "id": "IPbpWNEZ9TzU",
        "outputId": "0cc1b702-7f0c-4a1d-8ace-81a8358c4c9e"
      },
      "source": [
        "print(round(3.0))\n",
        "print(round(3.1))\n",
        "print(round(3.4))\n",
        "print(round(3.5))\n",
        "print(round(3.9))\n",
        "print(round(4.0))"
      ],
      "execution_count": null,
      "outputs": [
        {
          "output_type": "stream",
          "text": [
            "3\n",
            "3\n",
            "3\n",
            "4\n",
            "4\n",
            "4\n"
          ],
          "name": "stdout"
        }
      ]
    },
    {
      "cell_type": "code",
      "metadata": {
        "colab": {
          "base_uri": "https://localhost:8080/"
        },
        "id": "be4pdNCS97CU",
        "outputId": "77e867fb-c0ab-4c9d-dd52-2230fad815d4"
      },
      "source": [
        "import math\n",
        "\n",
        "print(math.floor(3.0))\n",
        "print(math.floor(3.1))\n",
        "print(math.floor(3.4))\n",
        "print(math.floor(3.5))\n",
        "print(math.floor(3.9))\n",
        "print(math.floor(4.0))"
      ],
      "execution_count": null,
      "outputs": [
        {
          "output_type": "stream",
          "text": [
            "3\n",
            "3\n",
            "3\n",
            "3\n",
            "3\n",
            "4\n"
          ],
          "name": "stdout"
        }
      ]
    },
    {
      "cell_type": "code",
      "metadata": {
        "colab": {
          "base_uri": "https://localhost:8080/"
        },
        "id": "E-rE5Cfw-FvT",
        "outputId": "36775252-dd8c-42ee-93bc-f8ccc5e9c2a0"
      },
      "source": [
        "import math\n",
        "\n",
        "print(math.ceil(3.0))\n",
        "print(math.ceil(3.1))\n",
        "print(math.ceil(3.4))\n",
        "print(math.ceil(3.5))\n",
        "print(math.ceil(3.9))\n",
        "print(math.ceil(4.0))"
      ],
      "execution_count": null,
      "outputs": [
        {
          "output_type": "stream",
          "text": [
            "3\n",
            "4\n",
            "4\n",
            "4\n",
            "4\n",
            "4\n"
          ],
          "name": "stdout"
        }
      ]
    },
    {
      "cell_type": "code",
      "metadata": {
        "colab": {
          "base_uri": "https://localhost:8080/"
        },
        "id": "_VnmT8RZ-lDs",
        "outputId": "167f0683-b311-49d4-9c5d-8b5cc981e015"
      },
      "source": [
        "import math\n",
        "\n",
        "print(math.trunc(3.0))\n",
        "print(math.trunc(3.1))\n",
        "print(math.trunc(3.4))\n",
        "print(math.trunc(3.5))\n",
        "print(math.trunc(3.9))\n",
        "print(math.trunc(4.0))\n",
        "\n",
        "\n"
      ],
      "execution_count": null,
      "outputs": [
        {
          "output_type": "stream",
          "text": [
            "3\n",
            "3\n",
            "3\n",
            "3\n",
            "3\n",
            "4\n",
            "-3\n",
            "-3\n",
            "-3\n",
            "-3\n",
            "-3\n",
            "-4\n"
          ],
          "name": "stdout"
        }
      ]
    },
    {
      "cell_type": "code",
      "metadata": {
        "colab": {
          "base_uri": "https://localhost:8080/"
        },
        "id": "pHECfY0x-vZL",
        "outputId": "070f8b88-edc4-45fc-c03a-6a1c14d08114"
      },
      "source": [
        "print(\"floor\")\n",
        "print(math.floor(-3.0))\n",
        "print(math.floor(-3.1))\n",
        "print(math.floor(-3.4))\n",
        "print(math.floor(-3.5))\n",
        "print(math.floor(-3.9))\n",
        "print(math.floor(-4.0))\n",
        "\n",
        "print(\"truc\")\n",
        "print(math.trunc(-3.0))\n",
        "print(math.trunc(-3.1))\n",
        "print(math.trunc(-3.4))\n",
        "print(math.trunc(-3.5))\n",
        "print(math.trunc(-3.9))\n",
        "print(math.trunc(-4.0))"
      ],
      "execution_count": null,
      "outputs": [
        {
          "output_type": "stream",
          "text": [
            "floor\n",
            "-3\n",
            "-4\n",
            "-4\n",
            "-4\n",
            "-4\n",
            "-4\n",
            "truc\n",
            "-3\n",
            "-3\n",
            "-3\n",
            "-3\n",
            "-3\n",
            "-4\n"
          ],
          "name": "stdout"
        }
      ]
    },
    {
      "cell_type": "markdown",
      "metadata": {
        "id": "TUQp2xA1Abfk"
      },
      "source": [
        "# 연산들\n",
        "```\n",
        "+   더하기\n",
        "-   빼기\n",
        "*   곱하기\n",
        "/   나누기\n",
        "//  나누기의 몫\n",
        "%   나누기의 나머지\n",
        "and 논리 and\n",
        "or  논리 or\n",
        "not 논리 not\n",
        "<   비교\n",
        ">   비교\n",
        "<=  비교\n",
        ">=  비교\n",
        "==  양 쪽의 값이 같은 지\n",
        "!=  양 쪽의 값이 다른 지\n",
        "```"
      ]
    },
    {
      "cell_type": "markdown",
      "metadata": {
        "id": "p_-SnoK-GSjC"
      },
      "source": [
        "## 더하기 +"
      ]
    },
    {
      "cell_type": "code",
      "metadata": {
        "colab": {
          "base_uri": "https://localhost:8080/"
        },
        "id": "7JnhFfs7F6wU",
        "outputId": "959bdb24-a21b-48f1-aab5-d475986fc282"
      },
      "source": [
        "print(1+3)"
      ],
      "execution_count": null,
      "outputs": [
        {
          "output_type": "stream",
          "text": [
            "4\n"
          ],
          "name": "stdout"
        }
      ]
    },
    {
      "cell_type": "code",
      "metadata": {
        "colab": {
          "base_uri": "https://localhost:8080/"
        },
        "id": "UryA2ZtNF6l8",
        "outputId": "36673764-7b5e-4079-c616-243c07958977"
      },
      "source": [
        "print(1+3.1)"
      ],
      "execution_count": null,
      "outputs": [
        {
          "output_type": "stream",
          "text": [
            "4.1\n"
          ],
          "name": "stdout"
        }
      ]
    },
    {
      "cell_type": "code",
      "metadata": {
        "colab": {
          "base_uri": "https://localhost:8080/"
        },
        "id": "rkckF3YvF6Uo",
        "outputId": "e9469197-7e17-4af8-8722-febedbf3c2db"
      },
      "source": [
        "print(\"tom\"+\"jerry\")"
      ],
      "execution_count": null,
      "outputs": [
        {
          "output_type": "stream",
          "text": [
            "tomjerry\n"
          ],
          "name": "stdout"
        }
      ]
    },
    {
      "cell_type": "markdown",
      "metadata": {
        "id": "rnQBF_NFGVjR"
      },
      "source": [
        "## 빼기 -"
      ]
    },
    {
      "cell_type": "code",
      "metadata": {
        "colab": {
          "base_uri": "https://localhost:8080/"
        },
        "id": "6Zdy1lwqF6Li",
        "outputId": "21a27ec0-98eb-4c81-cae3-dedac78de225"
      },
      "source": [
        "print(1-3)"
      ],
      "execution_count": null,
      "outputs": [
        {
          "output_type": "stream",
          "text": [
            "-2\n"
          ],
          "name": "stdout"
        }
      ]
    },
    {
      "cell_type": "code",
      "metadata": {
        "colab": {
          "base_uri": "https://localhost:8080/"
        },
        "id": "-MZYQH21E0SJ",
        "outputId": "ca8c2816-63c3-4a83-80d6-0aa946fa6c23"
      },
      "source": [
        "print(1-3.1)"
      ],
      "execution_count": null,
      "outputs": [
        {
          "output_type": "stream",
          "text": [
            "-2.1\n"
          ],
          "name": "stdout"
        }
      ]
    },
    {
      "cell_type": "code",
      "metadata": {
        "colab": {
          "base_uri": "https://localhost:8080/",
          "height": 166
        },
        "id": "fuU-4ahDHL99",
        "outputId": "7a26f33e-b139-4183-df91-e1caac730820"
      },
      "source": [
        "print(\"tom\" - \"jerry\")"
      ],
      "execution_count": null,
      "outputs": [
        {
          "output_type": "error",
          "ename": "TypeError",
          "evalue": "ignored",
          "traceback": [
            "\u001b[0;31m---------------------------------------------------------------------------\u001b[0m",
            "\u001b[0;31mTypeError\u001b[0m                                 Traceback (most recent call last)",
            "\u001b[0;32m<ipython-input-48-7a769ec290c2>\u001b[0m in \u001b[0;36m<module>\u001b[0;34m()\u001b[0m\n\u001b[0;32m----> 1\u001b[0;31m \u001b[0mprint\u001b[0m\u001b[0;34m(\u001b[0m\u001b[0;34m\"tom\"\u001b[0m \u001b[0;34m-\u001b[0m \u001b[0;34m\"jerry\"\u001b[0m\u001b[0;34m)\u001b[0m\u001b[0;34m\u001b[0m\u001b[0;34m\u001b[0m\u001b[0m\n\u001b[0m",
            "\u001b[0;31mTypeError\u001b[0m: unsupported operand type(s) for -: 'str' and 'str'"
          ]
        }
      ]
    },
    {
      "cell_type": "markdown",
      "metadata": {
        "id": "FOi9bFEtGVbk"
      },
      "source": [
        "## 곱하기 *"
      ]
    },
    {
      "cell_type": "code",
      "metadata": {
        "colab": {
          "base_uri": "https://localhost:8080/"
        },
        "id": "fOSIDT3NHQul",
        "outputId": "4f67989c-ebd2-4ee3-ae4e-69405ccc10d8"
      },
      "source": [
        "print(2*3)"
      ],
      "execution_count": null,
      "outputs": [
        {
          "output_type": "stream",
          "text": [
            "6\n"
          ],
          "name": "stdout"
        }
      ]
    },
    {
      "cell_type": "code",
      "metadata": {
        "colab": {
          "base_uri": "https://localhost:8080/"
        },
        "id": "xoLLSqO3HSlp",
        "outputId": "79b4f909-1813-4801-d6cd-cdc08b4fa245"
      },
      "source": [
        "print(2*3.1)"
      ],
      "execution_count": null,
      "outputs": [
        {
          "output_type": "stream",
          "text": [
            "6.2\n"
          ],
          "name": "stdout"
        }
      ]
    },
    {
      "cell_type": "code",
      "metadata": {
        "colab": {
          "base_uri": "https://localhost:8080/"
        },
        "id": "it0Zpg1WHUJL",
        "outputId": "5e4d470e-5659-4e08-cf70-2ccc48f39700"
      },
      "source": [
        "print(\"tom\"*2)"
      ],
      "execution_count": null,
      "outputs": [
        {
          "output_type": "stream",
          "text": [
            "tomtom\n"
          ],
          "name": "stdout"
        }
      ]
    },
    {
      "cell_type": "code",
      "metadata": {
        "colab": {
          "base_uri": "https://localhost:8080/",
          "height": 166
        },
        "id": "FtkdoycVHWSS",
        "outputId": "00f56396-d99d-482f-9533-50ca35b540c6"
      },
      "source": [
        "print(\"tom\"*2.0)"
      ],
      "execution_count": null,
      "outputs": [
        {
          "output_type": "error",
          "ename": "TypeError",
          "evalue": "ignored",
          "traceback": [
            "\u001b[0;31m---------------------------------------------------------------------------\u001b[0m",
            "\u001b[0;31mTypeError\u001b[0m                                 Traceback (most recent call last)",
            "\u001b[0;32m<ipython-input-52-1dd61febe234>\u001b[0m in \u001b[0;36m<module>\u001b[0;34m()\u001b[0m\n\u001b[0;32m----> 1\u001b[0;31m \u001b[0mprint\u001b[0m\u001b[0;34m(\u001b[0m\u001b[0;34m\"tom\"\u001b[0m\u001b[0;34m*\u001b[0m\u001b[0;36m2.0\u001b[0m\u001b[0;34m)\u001b[0m\u001b[0;34m\u001b[0m\u001b[0;34m\u001b[0m\u001b[0m\n\u001b[0m",
            "\u001b[0;31mTypeError\u001b[0m: can't multiply sequence by non-int of type 'float'"
          ]
        }
      ]
    },
    {
      "cell_type": "markdown",
      "metadata": {
        "id": "rxTj4WqyGVQk"
      },
      "source": [
        "## 나누기 / // *\n",
        "```\n",
        "/  : 나누기. 실수\n",
        "// : 나누기의 몫. 정수\n",
        "%  : 나누기의 나머지. 실수\n",
        "```"
      ]
    },
    {
      "cell_type": "code",
      "metadata": {
        "colab": {
          "base_uri": "https://localhost:8080/"
        },
        "id": "nPe73qAmHjVH",
        "outputId": "3e9812a2-85cc-4df0-9d14-f5424e3165f2"
      },
      "source": [
        "print(9/4)"
      ],
      "execution_count": null,
      "outputs": [
        {
          "output_type": "stream",
          "text": [
            "2.25\n"
          ],
          "name": "stdout"
        }
      ]
    },
    {
      "cell_type": "code",
      "metadata": {
        "colab": {
          "base_uri": "https://localhost:8080/"
        },
        "id": "EioHQgsgHjHe",
        "outputId": "ef05ff8e-22d0-471d-cb66-6d9d2a9593f1"
      },
      "source": [
        "print(9//4)"
      ],
      "execution_count": null,
      "outputs": [
        {
          "output_type": "stream",
          "text": [
            "2\n"
          ],
          "name": "stdout"
        }
      ]
    },
    {
      "cell_type": "code",
      "metadata": {
        "colab": {
          "base_uri": "https://localhost:8080/"
        },
        "id": "bUvMQvdgHmyt",
        "outputId": "59ce75ab-d589-4673-da78-68ed966fc4da"
      },
      "source": [
        "print(9%4)"
      ],
      "execution_count": null,
      "outputs": [
        {
          "output_type": "stream",
          "text": [
            "1\n"
          ],
          "name": "stdout"
        }
      ]
    },
    {
      "cell_type": "markdown",
      "metadata": {
        "id": "0nydD2pcGjou"
      },
      "source": [
        "## 비교 연산자들. < > <= >="
      ]
    },
    {
      "cell_type": "code",
      "metadata": {
        "colab": {
          "base_uri": "https://localhost:8080/"
        },
        "id": "fDryMimOH2an",
        "outputId": "2cab37d1-bd64-4740-f868-6aeb844eeb10"
      },
      "source": [
        "print(1<3)"
      ],
      "execution_count": null,
      "outputs": [
        {
          "output_type": "stream",
          "text": [
            "True\n"
          ],
          "name": "stdout"
        }
      ]
    },
    {
      "cell_type": "code",
      "metadata": {
        "colab": {
          "base_uri": "https://localhost:8080/"
        },
        "id": "m_B3E1-iH6Q-",
        "outputId": "2151d510-4459-43eb-e4b0-0b0bba81a68d"
      },
      "source": [
        "print(2<2)"
      ],
      "execution_count": null,
      "outputs": [
        {
          "output_type": "stream",
          "text": [
            "False\n"
          ],
          "name": "stdout"
        }
      ]
    },
    {
      "cell_type": "code",
      "metadata": {
        "colab": {
          "base_uri": "https://localhost:8080/"
        },
        "id": "pSPPUpJTH76S",
        "outputId": "9ca0eee6-d610-4d9b-c924-708425f158b3"
      },
      "source": [
        "print(2<=2)"
      ],
      "execution_count": null,
      "outputs": [
        {
          "output_type": "stream",
          "text": [
            "True\n"
          ],
          "name": "stdout"
        }
      ]
    },
    {
      "cell_type": "code",
      "metadata": {
        "colab": {
          "base_uri": "https://localhost:8080/"
        },
        "id": "ZTzug8HPIDdH",
        "outputId": "df576cc4-56e1-4b88-ff62-db1f2ee6f021"
      },
      "source": [
        "print(2>=2)"
      ],
      "execution_count": null,
      "outputs": [
        {
          "output_type": "stream",
          "text": [
            "True\n"
          ],
          "name": "stdout"
        }
      ]
    },
    {
      "cell_type": "code",
      "metadata": {
        "colab": {
          "base_uri": "https://localhost:8080/",
          "height": 132
        },
        "id": "40C1cKrOH-BL",
        "outputId": "610307ee-421d-4966-f677-c916c9b6c813"
      },
      "source": [
        "print(2=<2)"
      ],
      "execution_count": null,
      "outputs": [
        {
          "output_type": "error",
          "ename": "SyntaxError",
          "evalue": "ignored",
          "traceback": [
            "\u001b[0;36m  File \u001b[0;32m\"<ipython-input-61-7453053fcc7e>\"\u001b[0;36m, line \u001b[0;32m1\u001b[0m\n\u001b[0;31m    print(2=<2)\u001b[0m\n\u001b[0m            ^\u001b[0m\n\u001b[0;31mSyntaxError\u001b[0m\u001b[0;31m:\u001b[0m invalid syntax\n"
          ]
        }
      ]
    },
    {
      "cell_type": "code",
      "metadata": {
        "colab": {
          "base_uri": "https://localhost:8080/"
        },
        "id": "rSj0piheIAnV",
        "outputId": "adc45ac7-e271-45e2-9ad4-0aaad8d0e4c5"
      },
      "source": [
        "print(2>=2)"
      ],
      "execution_count": null,
      "outputs": [
        {
          "output_type": "stream",
          "text": [
            "True\n"
          ],
          "name": "stdout"
        }
      ]
    },
    {
      "cell_type": "markdown",
      "metadata": {
        "id": "CqYuxoO5GjhO"
      },
      "source": [
        "## 비교 연산자 == !="
      ]
    },
    {
      "cell_type": "code",
      "metadata": {
        "colab": {
          "base_uri": "https://localhost:8080/"
        },
        "id": "jFG6mlN3ILsf",
        "outputId": "54e968a7-b9fb-4113-8c1a-317351084455"
      },
      "source": [
        "print(2==2)"
      ],
      "execution_count": null,
      "outputs": [
        {
          "output_type": "stream",
          "text": [
            "True\n"
          ],
          "name": "stdout"
        }
      ]
    },
    {
      "cell_type": "code",
      "metadata": {
        "colab": {
          "base_uri": "https://localhost:8080/"
        },
        "id": "hwZAnPF2INa3",
        "outputId": "228cbc90-18ff-4c41-826d-7bb0a1c1e55a"
      },
      "source": [
        "print(2!=2)"
      ],
      "execution_count": null,
      "outputs": [
        {
          "output_type": "stream",
          "text": [
            "False\n"
          ],
          "name": "stdout"
        }
      ]
    },
    {
      "cell_type": "code",
      "metadata": {
        "colab": {
          "base_uri": "https://localhost:8080/"
        },
        "id": "vbTaDtK8IP81",
        "outputId": "1d058fbb-4f8e-41c1-9fdd-37c3e16763ca"
      },
      "source": [
        "print(2==2.0)"
      ],
      "execution_count": null,
      "outputs": [
        {
          "output_type": "stream",
          "text": [
            "True\n"
          ],
          "name": "stdout"
        }
      ]
    },
    {
      "cell_type": "code",
      "metadata": {
        "colab": {
          "base_uri": "https://localhost:8080/"
        },
        "id": "VgOcE2o5IP3j",
        "outputId": "553341bc-ac6e-446a-965d-e0df61ce8383"
      },
      "source": [
        "print(1==True)"
      ],
      "execution_count": null,
      "outputs": [
        {
          "output_type": "stream",
          "text": [
            "True\n"
          ],
          "name": "stdout"
        }
      ]
    },
    {
      "cell_type": "code",
      "metadata": {
        "colab": {
          "base_uri": "https://localhost:8080/"
        },
        "id": "0fEINcAPIPsT",
        "outputId": "3024c307-9cdf-4574-f4b9-d57d7ce7ad55"
      },
      "source": [
        "print(\"1\"==True)"
      ],
      "execution_count": null,
      "outputs": [
        {
          "output_type": "stream",
          "text": [
            "False\n"
          ],
          "name": "stdout"
        }
      ]
    },
    {
      "cell_type": "code",
      "metadata": {
        "colab": {
          "base_uri": "https://localhost:8080/"
        },
        "id": "yOliK4roIPoH",
        "outputId": "0c8eb963-0fbf-46d3-e5bf-498526db97dc"
      },
      "source": [
        "print(1==\"1\")"
      ],
      "execution_count": null,
      "outputs": [
        {
          "output_type": "stream",
          "text": [
            "False\n"
          ],
          "name": "stdout"
        }
      ]
    },
    {
      "cell_type": "markdown",
      "metadata": {
        "id": "X66NVCjFGju-"
      },
      "source": [
        "## 논리 연산자들. and or not\n"
      ]
    },
    {
      "cell_type": "code",
      "metadata": {
        "colab": {
          "base_uri": "https://localhost:8080/"
        },
        "id": "8RoFOIKCIlUJ",
        "outputId": "532a2567-4a1f-4a79-993e-b462306a03b8"
      },
      "source": [
        "a = 3\n",
        "print(1<a and a<5)"
      ],
      "execution_count": null,
      "outputs": [
        {
          "output_type": "stream",
          "text": [
            "True\n"
          ],
          "name": "stdout"
        }
      ]
    },
    {
      "cell_type": "code",
      "metadata": {
        "colab": {
          "base_uri": "https://localhost:8080/"
        },
        "id": "_8YmVJPvIrtP",
        "outputId": "429a00d3-a162-431d-999b-da3da483b14f"
      },
      "source": [
        "a = 3\n",
        "print((1<a) and (a<5))"
      ],
      "execution_count": null,
      "outputs": [
        {
          "output_type": "stream",
          "text": [
            "True\n"
          ],
          "name": "stdout"
        }
      ]
    },
    {
      "cell_type": "code",
      "metadata": {
        "colab": {
          "base_uri": "https://localhost:8080/"
        },
        "id": "xv4rYCYVIznx",
        "outputId": "e71fe510-cd4e-430b-d143-d22653a5461a"
      },
      "source": [
        "a = -1\n",
        "print((a<0) or (a>10))"
      ],
      "execution_count": null,
      "outputs": [
        {
          "output_type": "stream",
          "text": [
            "True\n"
          ],
          "name": "stdout"
        }
      ]
    },
    {
      "cell_type": "code",
      "metadata": {
        "colab": {
          "base_uri": "https://localhost:8080/"
        },
        "id": "O-woifDoJAoN",
        "outputId": "764915d2-6a12-46df-c5f4-08c59e995d0d"
      },
      "source": [
        "a = 3\n",
        "is_positive = a>0\n",
        "print(a, \"is_positive :\", is_positive)\n",
        "is_negative = not is_positive\n",
        "print(a, \"is_negative :\", is_negative)"
      ],
      "execution_count": null,
      "outputs": [
        {
          "output_type": "stream",
          "text": [
            "3 is_positive : True\n",
            "3 is_negative : False\n"
          ],
          "name": "stdout"
        }
      ]
    },
    {
      "cell_type": "code",
      "metadata": {
        "colab": {
          "base_uri": "https://localhost:8080/"
        },
        "id": "5WixDsHMG1Nz",
        "outputId": "54f37c30-8154-461d-f1d9-fda20e803eee"
      },
      "source": [
        "a = 3\n",
        "# a가 0보다 크고 5보다 작은지 여부를 True/False로 출력\n",
        "print( (0<a) and (a<5) )\n",
        "print( 0<a and a<5 )"
      ],
      "execution_count": null,
      "outputs": [
        {
          "output_type": "stream",
          "text": [
            "True\n",
            "True\n"
          ],
          "name": "stdout"
        }
      ]
    },
    {
      "cell_type": "code",
      "metadata": {
        "colab": {
          "base_uri": "https://localhost:8080/"
        },
        "id": "vhTtTF3jHV1q",
        "outputId": "05dd5b6e-81d8-4243-f4b8-32b01a5c9499"
      },
      "source": [
        "a = 11\n",
        "# a가 짝수 여부를 출력\n",
        "print(a%2 == 0) "
      ],
      "execution_count": null,
      "outputs": [
        {
          "output_type": "stream",
          "text": [
            "False\n"
          ],
          "name": "stdout"
        }
      ]
    },
    {
      "cell_type": "code",
      "metadata": {
        "colab": {
          "base_uri": "https://localhost:8080/"
        },
        "id": "2_dYhia1Iekj",
        "outputId": "82c9f3b0-abde-43e6-b3fa-d6093f917360"
      },
      "source": [
        "a = 14\n",
        "# a가 짝수이고 3의 배수인지 출력\n",
        "print( a%2==0 and a%3==0 )"
      ],
      "execution_count": null,
      "outputs": [
        {
          "output_type": "stream",
          "text": [
            "False\n"
          ],
          "name": "stdout"
        }
      ]
    },
    {
      "cell_type": "code",
      "metadata": {
        "colab": {
          "base_uri": "https://localhost:8080/"
        },
        "id": "Wd5Shis1I2EP",
        "outputId": "0dde6ed9-42c0-475b-a4f6-b9e6c322d5a9"
      },
      "source": [
        "a = 14\n",
        "is_even = a%2 == 0\n",
        "is_3_multi = a%3 == 0\n",
        "\n",
        "print( is_even and is_3_multi )"
      ],
      "execution_count": null,
      "outputs": [
        {
          "output_type": "stream",
          "text": [
            "False\n"
          ],
          "name": "stdout"
        }
      ]
    },
    {
      "cell_type": "markdown",
      "metadata": {
        "id": "FOr38b65Unbx"
      },
      "source": [
        "# 사용자 입력 input()\n",
        "\n",
        "사용자의 입력을 받는다.\n",
        "받은 값은 str 타입이다"
      ]
    },
    {
      "cell_type": "code",
      "metadata": {
        "id": "ogDTCzQkXqd3",
        "colab": {
          "base_uri": "https://localhost:8080/"
        },
        "outputId": "0c902f83-e184-4cce-8fa9-00889001ec7f"
      },
      "source": [
        "name = input()\n",
        "print(name)"
      ],
      "execution_count": null,
      "outputs": [
        {
          "output_type": "stream",
          "text": [
            "tom\n",
            "tom\n"
          ],
          "name": "stdout"
        }
      ]
    },
    {
      "cell_type": "code",
      "metadata": {
        "id": "k_pErgPLY5va",
        "colab": {
          "base_uri": "https://localhost:8080/",
          "height": 52
        },
        "outputId": "234cc859-5f55-4625-bc14-d3ac62adff17"
      },
      "source": [
        "name = input(\"이름 : \")\n",
        "print(name)"
      ],
      "execution_count": null,
      "outputs": [
        {
          "output_type": "stream",
          "text": [
            "이름 : tom\n",
            "tom\n"
          ],
          "name": "stdout"
        }
      ]
    },
    {
      "cell_type": "code",
      "metadata": {
        "id": "XZq28N0zXuDg",
        "colab": {
          "base_uri": "https://localhost:8080/",
          "height": 52
        },
        "outputId": "425c3c8f-c81e-47f0-83f0-fc7d48eff5aa"
      },
      "source": [
        "name = input(\"이름 : \")\n",
        "print(\"이름은\",name,\"입니다.\")"
      ],
      "execution_count": null,
      "outputs": [
        {
          "output_type": "stream",
          "text": [
            "이름 : tom\n",
            "이름은 tom 입니다.\n"
          ],
          "name": "stdout"
        }
      ]
    },
    {
      "cell_type": "code",
      "metadata": {
        "id": "m1GKwgy5X23O",
        "colab": {
          "base_uri": "https://localhost:8080/",
          "height": 52
        },
        "outputId": "9a8b704f-9dfe-444e-d76a-b3a2d0579a67"
      },
      "source": [
        "age = input(\"나이 : \")\n",
        "print(\"나이는\",age,\"입니다.\")"
      ],
      "execution_count": null,
      "outputs": [
        {
          "output_type": "stream",
          "text": [
            "나이 : 30\n",
            "나이는 30 입니다.\n"
          ],
          "name": "stdout"
        }
      ]
    },
    {
      "cell_type": "code",
      "metadata": {
        "id": "M6QZy4N8adJj",
        "colab": {
          "base_uri": "https://localhost:8080/",
          "height": 52
        },
        "outputId": "e6e4b06e-673f-4162-a68b-fa399b8e4106"
      },
      "source": [
        "age = input(\"나이 : \")\n",
        "print(type(age))"
      ],
      "execution_count": null,
      "outputs": [
        {
          "output_type": "stream",
          "text": [
            "나이 : 33\n",
            "<class 'str'>\n"
          ],
          "name": "stdout"
        }
      ]
    },
    {
      "cell_type": "markdown",
      "metadata": {
        "id": "Nh_YyeKXUwwZ"
      },
      "source": [
        "## Quiz. 사용자가 입력한 값의 2배를 출력"
      ]
    },
    {
      "cell_type": "code",
      "metadata": {
        "id": "TQIdmkB_VJHu",
        "colab": {
          "base_uri": "https://localhost:8080/",
          "height": 52
        },
        "outputId": "5549c447-b09f-4db1-df4f-f626bdc55983"
      },
      "source": [
        "i = input()\n",
        "print(int(i)*2)"
      ],
      "execution_count": null,
      "outputs": [
        {
          "output_type": "stream",
          "text": [
            "3\n",
            "6\n"
          ],
          "name": "stdout"
        }
      ]
    },
    {
      "cell_type": "code",
      "metadata": {
        "id": "znQNzwruaHjP",
        "colab": {
          "base_uri": "https://localhost:8080/",
          "height": 52
        },
        "outputId": "507095bd-8656-4bcf-b4f4-9d8a63b42645"
      },
      "source": [
        "i = input()\n",
        "i = int(i)\n",
        "print(i/2)\n"
      ],
      "execution_count": null,
      "outputs": [
        {
          "output_type": "stream",
          "text": [
            "3\n",
            "1.5\n"
          ],
          "name": "stdout"
        }
      ]
    },
    {
      "cell_type": "markdown",
      "metadata": {
        "id": "3h6D7aTNau8s"
      },
      "source": [
        "## 입력한 값을 2로 나눈 몫"
      ]
    },
    {
      "cell_type": "code",
      "metadata": {
        "id": "3gbA5R_Ga-PX",
        "colab": {
          "base_uri": "https://localhost:8080/",
          "height": 69
        },
        "outputId": "05502f12-7423-4cd5-8052-6e80290a3389"
      },
      "source": [
        "i = input()\n",
        "i = int(i)\n",
        "div = i/2\n",
        "print(div)\n",
        "div = int(div)\n",
        "print(div)\n"
      ],
      "execution_count": null,
      "outputs": [
        {
          "output_type": "stream",
          "text": [
            "3\n",
            "1.5\n",
            "1\n"
          ],
          "name": "stdout"
        }
      ]
    },
    {
      "cell_type": "markdown",
      "metadata": {
        "id": "QE5p3aADbS5W"
      },
      "source": [
        "## Quiz. 입력한 값을 2로 나눈 나머지"
      ]
    },
    {
      "cell_type": "code",
      "metadata": {
        "id": "fX58Z3OSbZSp",
        "colab": {
          "base_uri": "https://localhost:8080/",
          "height": 52
        },
        "outputId": "ec7f9400-7e52-46ae-9e49-c30ee779009e"
      },
      "source": [
        "i = int(input())\n",
        "div = int(i/2)\n",
        "mod = i - (div*2)\n",
        "print(mod)"
      ],
      "execution_count": null,
      "outputs": [
        {
          "output_type": "stream",
          "text": [
            "3\n",
            "1\n"
          ],
          "name": "stdout"
        }
      ]
    },
    {
      "cell_type": "markdown",
      "metadata": {
        "id": "TfdgXXjnepYI"
      },
      "source": [
        "## Quiz. 입력한 값을 2로 나눈 몫과 나머지"
      ]
    },
    {
      "cell_type": "code",
      "metadata": {
        "id": "n3XhjMsfeyTZ",
        "colab": {
          "base_uri": "https://localhost:8080/",
          "height": 52
        },
        "outputId": "129e6616-f9d6-4fa4-9f21-3b7ce6688e27"
      },
      "source": [
        "i = int(input())\n",
        "div = int(i/2)\n",
        "mod = i = (div*2)\n",
        "print(div, mod)"
      ],
      "execution_count": null,
      "outputs": [
        {
          "output_type": "stream",
          "text": [
            "3\n",
            "1 2\n"
          ],
          "name": "stdout"
        }
      ]
    },
    {
      "cell_type": "markdown",
      "metadata": {
        "id": "yVM1JCnVN7CS"
      },
      "source": [
        "## Quiz. 2개의 입력을 받아 곱 계산"
      ]
    },
    {
      "cell_type": "code",
      "metadata": {
        "id": "2ibMapSSN0gB",
        "colab": {
          "base_uri": "https://localhost:8080/",
          "height": 69
        },
        "outputId": "cc704808-61d9-4703-ce45-f1773bda6d40"
      },
      "source": [
        "a = float(input())\n",
        "b = float(input())\n",
        "print(a*b)"
      ],
      "execution_count": null,
      "outputs": [
        {
          "output_type": "stream",
          "text": [
            "2.1\n",
            "4\n",
            "8.4\n"
          ],
          "name": "stdout"
        }
      ]
    },
    {
      "cell_type": "code",
      "metadata": {
        "id": "2dywHzmMN6Fz"
      },
      "source": [
        ""
      ],
      "execution_count": null,
      "outputs": []
    },
    {
      "cell_type": "markdown",
      "metadata": {
        "id": "XlU0szoUe65i"
      },
      "source": [
        "## Quiz. 젯수와 피젯수를 받아 몫과 나머지"
      ]
    },
    {
      "cell_type": "code",
      "metadata": {
        "id": "OSBt_r-CfDZC",
        "colab": {
          "base_uri": "https://localhost:8080/",
          "height": 86
        },
        "outputId": "eeadf522-ef21-4dec-9297-6156427a2607"
      },
      "source": [
        "i1 = int(input(\"젯수 :\"))\n",
        "i2 = int(input(\"피젯수 : \"))\n",
        "div = int(i1/i2)\n",
        "mod = i1 - (div*i2)\n",
        "print(div, mod)\n",
        "print(\"몫 :\",div, \",나머지 :\",mod)"
      ],
      "execution_count": null,
      "outputs": [
        {
          "output_type": "stream",
          "text": [
            "젯수 :5\n",
            "피젯수 : 2\n",
            "2 1\n",
            "몫 : 2 ,나머지 : 1\n"
          ],
          "name": "stdout"
        }
      ]
    },
    {
      "cell_type": "markdown",
      "metadata": {
        "id": "pryodBqkK8WZ"
      },
      "source": [
        "## Quiz. 값을 받아서 짝수 여부를 출력"
      ]
    },
    {
      "cell_type": "code",
      "metadata": {
        "colab": {
          "base_uri": "https://localhost:8080/"
        },
        "id": "tM4rwkX8LAjS",
        "outputId": "6bdfa511-a2b0-4daa-e63a-66f50b02502c"
      },
      "source": [
        "i = int(input())\n",
        "mod = i % 2\n",
        "is_even = (mod == 0)\n",
        "print(i, \"is even :\", is_even)"
      ],
      "execution_count": null,
      "outputs": [
        {
          "output_type": "stream",
          "text": [
            "2\n",
            "2 is even : True\n"
          ],
          "name": "stdout"
        }
      ]
    },
    {
      "cell_type": "markdown",
      "metadata": {
        "id": "Ald7vf3ESxsI"
      },
      "source": [
        "# print() 포멧"
      ]
    },
    {
      "cell_type": "code",
      "metadata": {
        "id": "2sn_DRckS0tE",
        "colab": {
          "base_uri": "https://localhost:8080/",
          "height": 35
        },
        "outputId": "16aae9ed-58c7-4b45-e267-04c6b2d28132"
      },
      "source": [
        "name = \"tom\"\n",
        "age = 30\n",
        "print(name, age)"
      ],
      "execution_count": null,
      "outputs": [
        {
          "output_type": "stream",
          "text": [
            "tom 30\n"
          ],
          "name": "stdout"
        }
      ]
    },
    {
      "cell_type": "code",
      "metadata": {
        "id": "8I53dTTZS6sN",
        "colab": {
          "base_uri": "https://localhost:8080/",
          "height": 35
        },
        "outputId": "ff21660f-d7e4-4238-8641-dbadb6c7836b"
      },
      "source": [
        "name = \"tom\"\n",
        "age = 30\n",
        "print(\"name=\",name, \", age=\",age)"
      ],
      "execution_count": null,
      "outputs": [
        {
          "output_type": "stream",
          "text": [
            "name= tom , age= 30\n"
          ],
          "name": "stdout"
        }
      ]
    },
    {
      "cell_type": "code",
      "metadata": {
        "id": "dCRojv--S7HZ",
        "colab": {
          "base_uri": "https://localhost:8080/",
          "height": 35
        },
        "outputId": "e5aff812-7ac3-4263-8cea-929028e32776"
      },
      "source": [
        "name = \"tom\"\n",
        "age = 30\n",
        "print(\"name={}, age={}\".format(name, age))"
      ],
      "execution_count": null,
      "outputs": [
        {
          "output_type": "stream",
          "text": [
            "name=tom, age=30\n"
          ],
          "name": "stdout"
        }
      ]
    },
    {
      "cell_type": "code",
      "metadata": {
        "id": "pZUwZni7T85G",
        "colab": {
          "base_uri": "https://localhost:8080/",
          "height": 35
        },
        "outputId": "15cf4dd6-c579-44d2-931c-f9b3a65dde27"
      },
      "source": [
        "name = \"tom\"\n",
        "age = 30\n",
        "print(\"name={}, age={}, 이름={}\".format(name, age, name))"
      ],
      "execution_count": null,
      "outputs": [
        {
          "output_type": "stream",
          "text": [
            "name=tom, age=30, 이름=tom\n"
          ],
          "name": "stdout"
        }
      ]
    },
    {
      "cell_type": "code",
      "metadata": {
        "colab": {
          "base_uri": "https://localhost:8080/"
        },
        "id": "DqXiFYGpXT_0",
        "outputId": "2115c2e3-b6ad-43ec-b728-5cb4800adc61"
      },
      "source": [
        "# \"이름은 tom이고 나이는 30입니다. name='tom', age=30.\"\n",
        "\n",
        "name = \"tom\"\n",
        "age = 30\n",
        "print(\"이름은 {0}이고 나이는 {1}입니다. name='{0}', age={1}.\".format(name, age))"
      ],
      "execution_count": null,
      "outputs": [
        {
          "output_type": "stream",
          "text": [
            "이름은 tom이고 나이는 30입니다. name='tom', age=30.\n"
          ],
          "name": "stdout"
        }
      ]
    },
    {
      "cell_type": "code",
      "metadata": {
        "colab": {
          "base_uri": "https://localhost:8080/"
        },
        "id": "wQmPyXp7haBT",
        "outputId": "2514d134-50eb-4e79-cedf-43633e301281"
      },
      "source": [
        "# \"이름은 tom이고 나이는 30입니다. name=\"tom\", age=30.\"\n",
        "\n",
        "name = \"tom\"\n",
        "age = 30\n",
        "print(\"이름은 {0}이고 나이는 {1}입니다. name=\\\"{0}\\\", age={1}.\".format(name, age))"
      ],
      "execution_count": null,
      "outputs": [
        {
          "output_type": "stream",
          "text": [
            "이름은 tom이고 나이는 30입니다. name=\"tom\", age=30.\n"
          ],
          "name": "stdout"
        }
      ]
    },
    {
      "cell_type": "markdown",
      "metadata": {
        "id": "8doRibULL_xK"
      },
      "source": [
        "## 다른 포멧 방법"
      ]
    },
    {
      "cell_type": "code",
      "metadata": {
        "colab": {
          "base_uri": "https://localhost:8080/"
        },
        "id": "EhAwHjrMMC6P",
        "outputId": "f7ae5fd4-cc10-48f8-eb11-09a72d7ce26f"
      },
      "source": [
        "name = \"tom\"\n",
        "age = 30\n",
        "print(\"name=%s, age=%d.\"%(name, age))"
      ],
      "execution_count": null,
      "outputs": [
        {
          "output_type": "stream",
          "text": [
            "name=tom, age=30.\n"
          ],
          "name": "stdout"
        }
      ]
    },
    {
      "cell_type": "code",
      "metadata": {
        "colab": {
          "base_uri": "https://localhost:8080/"
        },
        "id": "eRZq4QgfNUoe",
        "outputId": "7b76f99b-492f-4589-c43f-831c7379280b"
      },
      "source": [
        "print(\"a = %.2f\"%1234.5678)"
      ],
      "execution_count": null,
      "outputs": [
        {
          "output_type": "stream",
          "text": [
            "a = 1234.57\n"
          ],
          "name": "stdout"
        }
      ]
    },
    {
      "cell_type": "code",
      "metadata": {
        "colab": {
          "base_uri": "https://localhost:8080/"
        },
        "id": "-nxmeL9uNoje",
        "outputId": "3c7e189e-be7d-4523-e7bf-6593fa0ab747"
      },
      "source": [
        "print(\"a = %0.2f\"%1234.5678)"
      ],
      "execution_count": null,
      "outputs": [
        {
          "output_type": "stream",
          "text": [
            "a = 1234.57\n"
          ],
          "name": "stdout"
        }
      ]
    },
    {
      "cell_type": "code",
      "metadata": {
        "colab": {
          "base_uri": "https://localhost:8080/"
        },
        "id": "lSJpx7xzNoW-",
        "outputId": "7f884060-1a0f-4cc4-f19a-5c49373ae8db"
      },
      "source": [
        "print(\"a = %10.2f\"%1234.5678)"
      ],
      "execution_count": null,
      "outputs": [
        {
          "output_type": "stream",
          "text": [
            "a =    1234.57\n"
          ],
          "name": "stdout"
        }
      ]
    },
    {
      "cell_type": "code",
      "metadata": {
        "colab": {
          "base_uri": "https://localhost:8080/"
        },
        "id": "UASO9Ni0L_Ws",
        "outputId": "31dd2c85-cc99-4476-b0e7-1c0bcd371181"
      },
      "source": [
        "print(\"a = {0:.2f}\".format(1234.5678))"
      ],
      "execution_count": null,
      "outputs": [
        {
          "output_type": "stream",
          "text": [
            "a = 1234.57\n"
          ],
          "name": "stdout"
        }
      ]
    },
    {
      "cell_type": "code",
      "metadata": {
        "colab": {
          "base_uri": "https://localhost:8080/"
        },
        "id": "kdPNuapjNlek",
        "outputId": "112544cd-7c4b-4ba6-8244-0b5fe3c806b9"
      },
      "source": [
        "print(\"a = {0:0.2f}\".format(1234.5678))"
      ],
      "execution_count": null,
      "outputs": [
        {
          "output_type": "stream",
          "text": [
            "a = 1234.57\n"
          ],
          "name": "stdout"
        }
      ]
    },
    {
      "cell_type": "code",
      "metadata": {
        "colab": {
          "base_uri": "https://localhost:8080/"
        },
        "id": "0MTaeAhgNjhf",
        "outputId": "055a9262-cd37-4fbd-f2f3-b9dab75a27bb"
      },
      "source": [
        "print(\"a = {0:10.2f}\".format(1234.5678))"
      ],
      "execution_count": null,
      "outputs": [
        {
          "output_type": "stream",
          "text": [
            "a =    1234.57\n"
          ],
          "name": "stdout"
        }
      ]
    },
    {
      "cell_type": "code",
      "metadata": {
        "colab": {
          "base_uri": "https://localhost:8080/"
        },
        "id": "S9z72VwIiGRr",
        "outputId": "2dd36bdf-376b-4c0c-ba6f-8584396764cc"
      },
      "source": [
        "value = 123.45678\n",
        "\n",
        "print(\"value = {0:0.2f}\".format(value))\n",
        "print(\"value = {0:.2f}\".format(value))\n",
        "print(\"value = {0:10.2f}\".format(value))\n",
        "print(\"value = {0:10.2f}\".format(10.25))\n",
        "print(\"value = {0:10.2f}\".format(123145.25))\n",
        "print(\"value = {0:10.2f}\".format(10.2))\n",
        "print(\"value = {0:10.2f}\".format(10000.25))\n",
        "print(\"value = {0:10.2f}\".format(100000.25))\n",
        "\n",
        "print(\"value = {}\".format(value))\n",
        "print(\"value = {}\".format(10.25))\n",
        "print(\"value = {}\".format(123145.25))\n",
        "print(\"value = {}\".format(10.2))\n",
        "print(\"value = {}\".format(10000.25))\n",
        "print(\"value = {}\".format(100000.25))\n"
      ],
      "execution_count": null,
      "outputs": [
        {
          "output_type": "stream",
          "text": [
            "value = 123.46\n",
            "value = 123.46\n",
            "value =     123.46\n",
            "value =      10.25\n",
            "value =  123145.25\n",
            "value =      10.20\n",
            "value =   10000.25\n",
            "value =  100000.25\n",
            "value = 123.45678\n",
            "value = 10.25\n",
            "value = 123145.25\n",
            "value = 10.2\n",
            "value = 10000.25\n",
            "value = 100000.25\n"
          ],
          "name": "stdout"
        }
      ]
    },
    {
      "cell_type": "markdown",
      "metadata": {
        "id": "OgDmJb2qnyy5"
      },
      "source": [
        "# 프로그래밍 언어\n",
        "\n",
        "모든 프로그램은 값을 처리하는 것들이다.\n",
        "\n",
        "- 값을 담기 위해 변수와 기타 것들이 있고,\n",
        "- 처리를 하기 위해 연산자, 함수가 있다.\n",
        "\n",
        "\n",
        "<br>\n",
        "\n",
        "특히 값을 담은 변수를 특화한\n",
        "\n",
        "- list, dictionary, map, tuple 이 있다.\n",
        "\n",
        "\n",
        "<br>\n",
        "\n",
        "값에 따라 처리할 내용을 달리 하기 위해\n",
        "\n",
        "- if와 같은 제어문이 있고\n",
        "\n",
        "\n",
        "<br>\n",
        "\n",
        "반복적인 것을 처리하기 위한\n",
        "\n",
        "- for나 while같은 loop 가 있다.\n",
        "\n",
        "\n",
        "<br>\n",
        "\n",
        "효율적, 구조적 으로 처리하기 위해\n",
        "\n",
        "- class라는 것이 있고\n",
        "\n",
        "\n",
        "<br>\n",
        "\n",
        "이미 작성된 코드의 재활용을 위해\n",
        "\n",
        "- module이나 library가 있다.\n",
        "\n",
        "\n",
        "<br>\n",
        "\n",
        "처리할 데이터를 가져오고, 처리한 값을 내보내기 위한 다음과 같은 IO(Input/Output)이 있다.\n",
        "\n",
        "- File I/O\n",
        "- DB Connection\n",
        "- Rest API\n",
        "- HTTP\n",
        "- ...\n",
        "\n",
        "\n"
      ]
    },
    {
      "cell_type": "markdown",
      "metadata": {
        "id": "gEZYPJ5ksw9O"
      },
      "source": [
        "# 제어문 if"
      ]
    },
    {
      "cell_type": "code",
      "metadata": {
        "id": "wgWyz6AAnXRk",
        "colab": {
          "base_uri": "https://localhost:8080/",
          "height": 35
        },
        "outputId": "16051854-4912-47d8-f4d2-85c4c786925c"
      },
      "source": [
        "temp = 35\n",
        "print(temp)"
      ],
      "execution_count": null,
      "outputs": [
        {
          "output_type": "stream",
          "text": [
            "35\n"
          ],
          "name": "stdout"
        }
      ]
    },
    {
      "cell_type": "code",
      "metadata": {
        "id": "zgDO_46Vs2SH",
        "colab": {
          "base_uri": "https://localhost:8080/",
          "height": 35
        },
        "outputId": "54207cfa-5e67-4561-b816-0df587181cef"
      },
      "source": [
        "print(\"더워요. 온도가\",temp,\"도 입니다.\")"
      ],
      "execution_count": null,
      "outputs": [
        {
          "output_type": "stream",
          "text": [
            "더워요. 온도가 35 도 입니다.\n"
          ],
          "name": "stdout"
        }
      ]
    },
    {
      "cell_type": "code",
      "metadata": {
        "id": "HM3ttxt4s_5K",
        "colab": {
          "base_uri": "https://localhost:8080/",
          "height": 35
        },
        "outputId": "2d7cb116-9606-4d71-846f-bee93959a677"
      },
      "source": [
        "temp = 20\n",
        "print(\"시원해요. 온도가\",temp,\"도 입니다.\")"
      ],
      "execution_count": null,
      "outputs": [
        {
          "output_type": "stream",
          "text": [
            "시원해요. 온도가 20 도 입니다.\n"
          ],
          "name": "stdout"
        }
      ]
    },
    {
      "cell_type": "code",
      "metadata": {
        "id": "SOg76ybatODW",
        "colab": {
          "base_uri": "https://localhost:8080/",
          "height": 35
        },
        "outputId": "d5b61713-f5eb-42e5-86ae-9b550e2e4087"
      },
      "source": [
        "temp = 30\n",
        "if temp > 25:\n",
        "  print(\"더워요. 온도가\",temp,\"도 입니다.\")"
      ],
      "execution_count": null,
      "outputs": [
        {
          "output_type": "stream",
          "text": [
            "더워요. 온도가 30 도 입니다.\n"
          ],
          "name": "stdout"
        }
      ]
    },
    {
      "cell_type": "code",
      "metadata": {
        "id": "W60FUoWGtz-x"
      },
      "source": [
        "temp = 20\n",
        "if temp > 25:\n",
        "  print(\"더워요. 온도가\",temp,\"도 입니다.\")"
      ],
      "execution_count": null,
      "outputs": []
    },
    {
      "cell_type": "markdown",
      "metadata": {
        "id": "OqGZnFWMtX4P"
      },
      "source": [
        "조건을 만족할 때만 처리하도록 합니다.\n",
        "\n",
        "다음 약속(syntax)를 따라야 합니다.\n",
        "- if 뒤에는 조건이 오고\n",
        "- 조건 뒤에는 ':'이 와야 하고\n",
        "- 실행 내용은 한칸 들여써야 합니다.\n",
        "\n",
        "\n"
      ]
    },
    {
      "cell_type": "markdown",
      "metadata": {
        "id": "UzEGbGHUvAPI"
      },
      "source": [
        "## else\n",
        "\n",
        "조건을 만족하지 않는 경우에 처리할 내용은 else로 명시합니다."
      ]
    },
    {
      "cell_type": "code",
      "metadata": {
        "id": "rl4hIEsvtV2d",
        "colab": {
          "base_uri": "https://localhost:8080/",
          "height": 35
        },
        "outputId": "0080d42b-3fa9-4a29-8344-390981a548b2"
      },
      "source": [
        "temp = 30\n",
        "if temp > 25:\n",
        "  print(\"더워요. 온도가\",temp,\"도 입니다.\")\n",
        "else:\n",
        "  print(\"시원해요. 온도가\",temp,\"도 입니다.\")    "
      ],
      "execution_count": null,
      "outputs": [
        {
          "output_type": "stream",
          "text": [
            "더워요. 온도가 30 도 입니다.\n"
          ],
          "name": "stdout"
        }
      ]
    },
    {
      "cell_type": "code",
      "metadata": {
        "id": "lDZWqQP9t69f",
        "colab": {
          "base_uri": "https://localhost:8080/",
          "height": 35
        },
        "outputId": "c696d763-8537-4952-856a-cf7b237827d6"
      },
      "source": [
        "temp = 20\n",
        "if temp > 25:\n",
        "  print(\"더워요. 온도가\",temp,\"도 입니다.\")\n",
        "else:\n",
        "  print(\"시원해요. 온도가\",temp,\"도 입니다.\")    "
      ],
      "execution_count": null,
      "outputs": [
        {
          "output_type": "stream",
          "text": [
            "시원해요. 온도가 20 도 입니다.\n"
          ],
          "name": "stdout"
        }
      ]
    },
    {
      "cell_type": "markdown",
      "metadata": {
        "id": "bMXAHUnKt88z"
      },
      "source": [
        "if와 else를 사용하여 조건을 만족할 경우와 만족하지 않을 경우 각각 처리할 내용을 달리 할 수 있습니다.\n",
        "\n",
        "- else와 :이 있고\n",
        "- 역시 한칸 들여 씁니다.\n",
        "\n",
        "\n"
      ]
    },
    {
      "cell_type": "markdown",
      "metadata": {
        "id": "rUr_Df99Zaqp"
      },
      "source": [
        "## Quiz. 짝수 홀수 판단\n",
        "사용자가 입력한 값의 짝수 홀수 판단"
      ]
    },
    {
      "cell_type": "code",
      "metadata": {
        "id": "nnSfSSo_ZqB_",
        "colab": {
          "base_uri": "https://localhost:8080/"
        },
        "outputId": "1d7fe977-6945-43dc-ef61-eb6a6b0c35d6"
      },
      "source": [
        "n = input()\n",
        "i = int(n)\n",
        "if i%2==0:\n",
        "  print(\"짝수\")\n",
        "else:\n",
        "  print(\"홀수\")"
      ],
      "execution_count": null,
      "outputs": [
        {
          "output_type": "stream",
          "text": [
            "4\n",
            "짝수\n"
          ],
          "name": "stdout"
        }
      ]
    },
    {
      "cell_type": "code",
      "metadata": {
        "colab": {
          "base_uri": "https://localhost:8080/"
        },
        "id": "sljxiEiPOA3f",
        "outputId": "8e48db53-cfda-45bf-b919-88a42191adec"
      },
      "source": [
        "n = input()\n",
        "i = int(n)\n",
        "is_even = i%2==0\n",
        "\n",
        "if is_even:\n",
        "  print(\"짝수\")\n",
        "else:\n",
        "  print(\"홀수\")"
      ],
      "execution_count": null,
      "outputs": [
        {
          "output_type": "stream",
          "text": [
            "4\n",
            "짝수\n"
          ],
          "name": "stdout"
        }
      ]
    },
    {
      "cell_type": "markdown",
      "metadata": {
        "id": "G6fCSYi1OTZI"
      },
      "source": [
        "## Quiz. 정수 여부 출력"
      ]
    },
    {
      "cell_type": "code",
      "metadata": {
        "colab": {
          "base_uri": "https://localhost:8080/"
        },
        "id": "AyfcaGSLOS9q",
        "outputId": "ee6569e2-d4a7-4260-e027-58f8c8d6d48b"
      },
      "source": [
        "i = input()\n",
        "f = float(i)\n",
        "\n",
        "if f == int(f):\n",
        "  print(\"정수입니다.\")\n",
        "else:\n",
        "  print(\"실수입니다.\")\n"
      ],
      "execution_count": null,
      "outputs": [
        {
          "output_type": "stream",
          "text": [
            "3.5\n",
            "실수입니다.\n"
          ],
          "name": "stdout"
        }
      ]
    },
    {
      "cell_type": "markdown",
      "metadata": {
        "id": "UE_ANgNLvJPS"
      },
      "source": [
        "## elif"
      ]
    },
    {
      "cell_type": "code",
      "metadata": {
        "id": "pwDo-Bjmt8Cf",
        "colab": {
          "base_uri": "https://localhost:8080/",
          "height": 35
        },
        "outputId": "23fc6d75-7113-4e4a-df2f-923a18d2c772"
      },
      "source": [
        "temp = 20\n",
        "if temp > 25:\n",
        "  print(\"더워요. 온도가\",temp,\"도 입니다.\")\n",
        "elif temp > 15:\n",
        "  print(\"시원해요. 온도가\",temp,\"도 입니다.\")  \n",
        "else:\n",
        "  print(\"추워요. 온도가\",temp,\"도 입니다.\")"
      ],
      "execution_count": null,
      "outputs": [
        {
          "output_type": "stream",
          "text": [
            "시원해요. 온도가 20 도 입니다.\n"
          ],
          "name": "stdout"
        }
      ]
    },
    {
      "cell_type": "code",
      "metadata": {
        "id": "RcNrI1PguhO3",
        "colab": {
          "base_uri": "https://localhost:8080/",
          "height": 35
        },
        "outputId": "59696104-f850-485b-aee3-e5b57ee47379"
      },
      "source": [
        "temp = 10\n",
        "if temp > 25:\n",
        "  print(\"더워요. 온도가\",temp,\"도 입니다.\")\n",
        "elif temp > 15:\n",
        "  print(\"시원해요. 온도가\",temp,\"도 입니다.\")  \n",
        "else:\n",
        "  print(\"추워요. 온도가\",temp,\"도 입니다.\")"
      ],
      "execution_count": null,
      "outputs": [
        {
          "output_type": "stream",
          "text": [
            "추워요. 온도가 10 도 입니다.\n"
          ],
          "name": "stdout"
        }
      ]
    },
    {
      "cell_type": "markdown",
      "metadata": {
        "id": "-pbo7c0RunWF"
      },
      "source": [
        "elif를 사용하여 여러개의 조건을 순차적으로 적용하여 처리가 가능합니다.\n",
        "\n",
        "- elif 뒤에 조건을 명시합니다.\n",
        "- 조건 뒤에 :을 답니다.\n",
        "- 실행할 명령은 역시 한칸 들여 씁니다."
      ]
    },
    {
      "cell_type": "code",
      "metadata": {
        "colab": {
          "base_uri": "https://localhost:8080/"
        },
        "id": "RNW3x_ecm_nv",
        "outputId": "344bb53a-6bf5-4c39-c161-a6147cb84550"
      },
      "source": [
        "# Quiz. 25도 이상이면 \"더워요.\", 25도 미만과 15도 이상이면 \"좋아요.\"\" 15도 미만이면 \"추워요.\" 출력\n",
        "\n",
        "temp = 14\n",
        "if temp>=25:\n",
        "  print(\"더워요.\")\n",
        "elif temp>=15:\n",
        "  print(\"좋아요.\")\n",
        "else:\n",
        "  print(\"추워요.\")\n"
      ],
      "execution_count": null,
      "outputs": [
        {
          "output_type": "stream",
          "text": [
            "추워요.\n"
          ],
          "name": "stdout"
        }
      ]
    },
    {
      "cell_type": "code",
      "metadata": {
        "colab": {
          "base_uri": "https://localhost:8080/"
        },
        "id": "aBezVSspsP0k",
        "outputId": "72d7bc07-0ea9-4abb-9179-cc7e46849013"
      },
      "source": [
        "# Quiz. 입력을 받아서 \n",
        "# 6의 배수이면 \"6의 배수입니다.\" 만 출력하고 \n",
        "# 3의 배수이면 \"3의 배수입니다.\" 만 출력하고\n",
        "# 2의 배수이면 \"2의 배수입니다.\" 만 출력한다.\n",
        "\n",
        "i = input()\n",
        "i = float(i)\n",
        "\n",
        "if i%6==0:\n",
        "  print(\"6의 배수입니다.\")\n",
        "elif i%3==0:\n",
        "  print(\"3의 배수입니다.\")\n",
        "elif i%2==0:\n",
        "  print(\"2의 배수입니다.\")\n",
        "\n"
      ],
      "execution_count": null,
      "outputs": [
        {
          "output_type": "stream",
          "text": [
            "5\n"
          ],
          "name": "stdout"
        }
      ]
    },
    {
      "cell_type": "code",
      "metadata": {
        "colab": {
          "base_uri": "https://localhost:8080/"
        },
        "id": "gGbiuPNTtgcf",
        "outputId": "c4e3f07a-5772-406e-a59e-05398479a9b5"
      },
      "source": [
        "# Quiz. 입력을 받아서 \n",
        "# 8의 배수이면 \"입력칸 xxx값은 8의 배수입니다.\" 만 출력하고 \n",
        "# 6의 배수이면 \"입력칸 xxx값은 6의 배수입니다.\" 만 출력하고 \n",
        "# 3의 배수이면 \"입력칸 xxx값은 3의 배수입니다.\" 만 출력하고\n",
        "# 2의 배수이면 \"입력칸 xxx값은 2의 배수입니다.\" 만 출력한다.\n",
        "\n",
        "\n",
        "i = input()\n",
        "org = i\n",
        "i = float(i)\n",
        "\n",
        "if i%8==0:\n",
        "  print(\"입력칸 {}값은 8의 배수입니다.\".format(org))\n",
        "elif i%6==0:\n",
        "  print(\"입력칸 {}값은 6의 배수입니다.\".format(org))\n",
        "elif i%3==0:\n",
        "  print(\"입력칸 {}값은 3의 배수입니다.\".format(org))\n",
        "elif i%2==0:\n",
        "  print(\"입력칸 {}값은 2의 배수입니다.\".format(org))"
      ],
      "execution_count": null,
      "outputs": [
        {
          "output_type": "stream",
          "text": [
            "12\n",
            "입력칸 12값은 6의 배수입니다.\n"
          ],
          "name": "stdout"
        }
      ]
    },
    {
      "cell_type": "code",
      "metadata": {
        "colab": {
          "base_uri": "https://localhost:8080/"
        },
        "id": "Lwti3M4DwD7p",
        "outputId": "b81c7a17-2857-4795-e857-4cd5d550bfee"
      },
      "source": [
        "# Quiz. 입력을 받아서 \n",
        "# 8의 배수이면 \"입력한 xxx값은 8의 배수입니다. 놀기좋은 5월입니다.\" 만 출력하고 \n",
        "# 6의 배수이면 \"입력한 xxx값은 6의 배수입니다. 놀기좋은 5월입니다.\" 만 출력하고 \n",
        "# 3의 배수이면 \"입력한 xxx값은 3의 배수입니다. 놀기좋은 5월입니다.\" 만 출력하고\n",
        "# 2의 배수이면 \"입력한 xxx값은 2의 배수입니다. 놀기좋은 5월입니다.\" 만 출력한다.\n",
        "\n",
        "i = input()\n",
        "org = i\n",
        "i = float(i)\n",
        "\n",
        "if i%8==0:\n",
        "  print(\"입력한 {}값은 8의 배수입니다. 놀기좋은 5월입니다.\".format(org))\n",
        "elif i%6==0:\n",
        "  print(\"입력한 {}값은 6의 배수입니다. 놀기좋은 5월입니다.\".format(org))\n",
        "elif i%3==0:\n",
        "  print(\"입력한 {}값은 3의 배수입니다. 놀기좋은 5월입니다.\".format(org))\n",
        "elif i%2==0:\n",
        "  print(\"입력한 {}값은 2의 배수입니다. 놀기좋은 5월입니다.\".format(org))"
      ],
      "execution_count": null,
      "outputs": [
        {
          "output_type": "stream",
          "text": [
            "12\n",
            "입력한 12값은 6의 배수입니다. 놀기좋은 5월입니다.\n"
          ],
          "name": "stdout"
        }
      ]
    },
    {
      "cell_type": "code",
      "metadata": {
        "colab": {
          "base_uri": "https://localhost:8080/"
        },
        "id": "vIVIeeghxDaG",
        "outputId": "dab93597-b156-4af1-fa1e-1a2815148af2"
      },
      "source": [
        "i = input()\n",
        "org = i\n",
        "i = float(i)\n",
        "\n",
        "base = None\n",
        "if i%8==0:\n",
        "  base = 8\n",
        "elif i%6==0:\n",
        "  base = 6\n",
        "elif i%3==0:\n",
        "  base = 3\n",
        "elif i%2==0:\n",
        "  base = 2\n",
        "\n",
        "if base!=None:\n",
        "  print(\"입력한 {}값은 {}의 배수입니다. 놀기좋은 5월입니다.\".format(org, base))\n"
      ],
      "execution_count": null,
      "outputs": [
        {
          "output_type": "stream",
          "text": [
            "5\n"
          ],
          "name": "stdout"
        }
      ]
    },
    {
      "cell_type": "markdown",
      "metadata": {
        "id": "sHji-3_NQSx5"
      },
      "source": [
        "## 3항 연산자"
      ]
    },
    {
      "cell_type": "code",
      "metadata": {
        "id": "XeqofNIwQU5M",
        "colab": {
          "base_uri": "https://localhost:8080/"
        },
        "outputId": "7dd5e21d-d4cc-4acd-ee33-30a18df7cc56"
      },
      "source": [
        "temp = 15\n",
        "wheather = \"더워요\" if temp>=25 else \"좋아요\"\n",
        "\n",
        "print(wheather)"
      ],
      "execution_count": null,
      "outputs": [
        {
          "output_type": "stream",
          "text": [
            "좋아요\n"
          ],
          "name": "stdout"
        }
      ]
    },
    {
      "cell_type": "markdown",
      "metadata": {
        "id": "U0zud2P-Uhak"
      },
      "source": [
        "# 함수"
      ]
    },
    {
      "cell_type": "code",
      "metadata": {
        "id": "TZ2pVBWnU5Dy",
        "colab": {
          "base_uri": "https://localhost:8080/",
          "height": 86
        },
        "outputId": "56b9ff17-3fab-4536-c510-946585deb605"
      },
      "source": [
        "print(\"name : {}, age : {}\".format(\"tom\", 30))\n",
        "print(\"name : {}, age : {}\".format(\"jerry\", 33))\n",
        "print(\"name : {}, age : {}\".format(\"철수\", 20))\n",
        "print(\"name : {}, age : {}\".format(\"영희\", 22))"
      ],
      "execution_count": null,
      "outputs": [
        {
          "output_type": "stream",
          "text": [
            "name : tom, age : 30\n",
            "name : jerry, age : 33\n",
            "name : 철수, age : 20\n",
            "name : 영희, age : 22\n"
          ],
          "name": "stdout"
        }
      ]
    },
    {
      "cell_type": "code",
      "metadata": {
        "id": "4e1ICor1VEb1",
        "colab": {
          "base_uri": "https://localhost:8080/",
          "height": 86
        },
        "outputId": "bf19e995-be58-4175-9f23-ccadf478ef27"
      },
      "source": [
        "print(\"name = {}, age = {}\".format(\"tom\", 30))\n",
        "print(\"name = {}, age = {}\".format(\"jerry\", 33))\n",
        "print(\"name = {}, age = {}\".format(\"철수\", 20))\n",
        "print(\"name = {}, age = {}\".format(\"영희\", 22))"
      ],
      "execution_count": null,
      "outputs": [
        {
          "output_type": "stream",
          "text": [
            "name = tom, age = 30\n",
            "name = jerry, age = 33\n",
            "name = 철수, age = 20\n",
            "name = 영희, age = 22\n"
          ],
          "name": "stdout"
        }
      ]
    },
    {
      "cell_type": "code",
      "metadata": {
        "id": "Q6ftcz_CumFp",
        "colab": {
          "base_uri": "https://localhost:8080/",
          "height": 86
        },
        "outputId": "b13e0882-68ed-4f77-8e56-6741e9407761"
      },
      "source": [
        "def print_name_and_age(name, age):\n",
        "  print(\"name : {}, age : {}\".format(name, age))\n",
        "\n",
        "print_name_and_age(\"tom\", 30)\n",
        "print_name_and_age(\"jerry\", 33)\n",
        "print_name_and_age(\"철수\", 20)\n",
        "print_name_and_age(\"영희\", 22)\n"
      ],
      "execution_count": null,
      "outputs": [
        {
          "output_type": "stream",
          "text": [
            "name : tom, age : 30\n",
            "name : jerry, age : 33\n",
            "name : 철수, age : 20\n",
            "name : 영희, age : 22\n"
          ],
          "name": "stdout"
        }
      ]
    },
    {
      "cell_type": "code",
      "metadata": {
        "id": "BE8C8giDU03D",
        "colab": {
          "base_uri": "https://localhost:8080/",
          "height": 86
        },
        "outputId": "0312e946-6b7c-4aa3-9b2d-5df98f53f458"
      },
      "source": [
        "def print_name_and_age(name, age):\n",
        "  print(\"name = {}, age = {}\".format(name, age))\n",
        "\n",
        "print_name_and_age(\"tom\", 30)\n",
        "print_name_and_age(\"jerry\", 33)\n",
        "print_name_and_age(\"철수\", 20)\n",
        "print_name_and_age(\"영희\", 22)\n"
      ],
      "execution_count": null,
      "outputs": [
        {
          "output_type": "stream",
          "text": [
            "name = tom, age = 30\n",
            "name = jerry, age = 33\n",
            "name = 철수, age = 20\n",
            "name = 영희, age = 22\n"
          ],
          "name": "stdout"
        }
      ]
    },
    {
      "cell_type": "markdown",
      "metadata": {
        "id": "jpFPr0xkVYvi"
      },
      "source": [
        "다음의 구문으로 함수를 정의한다.\n",
        "\n",
        "```\n",
        "def 함수이름(파라매터):\n",
        "  함수 내용...\n",
        "```\n",
        "\n",
        "<br>\n",
        "\n",
        "함수 내용에 해당하는 부분(코드 블럭)을 표시하기 위해 들여쓰기를 한다.\n",
        "\n",
        "\n",
        "\n"
      ]
    },
    {
      "cell_type": "code",
      "metadata": {
        "id": "gKWuqn6nVWkv",
        "colab": {
          "base_uri": "https://localhost:8080/",
          "height": 155
        },
        "outputId": "202b98a9-4777-4214-e3bc-d9dc2eda2aa8"
      },
      "source": [
        "def print_name_and_age(name, age):\n",
        "  print(\"name = {}, age = {}\".format(name, age))\n",
        "  print(\"hi\")\n",
        "\n",
        "  \n",
        "print_name_and_age(\"tom\", 30)\n",
        "print_name_and_age(\"jerry\", 33)\n",
        "print_name_and_age(\"철수\", 20)\n",
        "print_name_and_age(\"영희\", 22)"
      ],
      "execution_count": null,
      "outputs": [
        {
          "output_type": "stream",
          "text": [
            "name = tom, age = 30\n",
            "hi\n",
            "name = jerry, age = 33\n",
            "hi\n",
            "name = 철수, age = 20\n",
            "hi\n",
            "name = 영희, age = 22\n",
            "hi\n"
          ],
          "name": "stdout"
        }
      ]
    },
    {
      "cell_type": "code",
      "metadata": {
        "id": "mZy7vc0ZV8D0",
        "colab": {
          "base_uri": "https://localhost:8080/",
          "height": 104
        },
        "outputId": "d0d2c338-463b-4698-f862-139420146d33"
      },
      "source": [
        "def print_name_and_age(name, age):\n",
        "  print(\"name = {}, age = {}\".format(name, age))\n",
        "print(\"hi\")\n",
        "\n",
        "  \n",
        "print_name_and_age(\"tom\", 30)\n",
        "print_name_and_age(\"jerry\", 33)\n",
        "print_name_and_age(\"철수\", 20)\n",
        "print_name_and_age(\"영희\", 22)"
      ],
      "execution_count": null,
      "outputs": [
        {
          "output_type": "stream",
          "text": [
            "hi\n",
            "name = tom, age = 30\n",
            "name = jerry, age = 33\n",
            "name = 철수, age = 20\n",
            "name = 영희, age = 22\n"
          ],
          "name": "stdout"
        }
      ]
    },
    {
      "cell_type": "markdown",
      "metadata": {
        "id": "Nn27HdpJWRaj"
      },
      "source": [
        "## 함수의 반환 값\n",
        "\n",
        "반환하는 값이 있을 경우 return을 사용한다\n",
        "```\n",
        "def 함수이름(파라매터):\n",
        "  ...\n",
        "  return some\n",
        "```"
      ]
    },
    {
      "cell_type": "code",
      "metadata": {
        "id": "tPlX2aVUV-gu",
        "colab": {
          "base_uri": "https://localhost:8080/",
          "height": 86
        },
        "outputId": "dd6b3ec0-d7b6-41ad-be87-69c285d43caf"
      },
      "source": [
        "def div(a,b): # a를 b로 나누어 몫을 반환한다.\n",
        "  div = int(a/b)\n",
        "  return div\n",
        "\n",
        "\n",
        "print(div(3,2))\n",
        "print(div(4,2))\n",
        "print(div(5,2))\n",
        "print(div(6,2))"
      ],
      "execution_count": null,
      "outputs": [
        {
          "output_type": "stream",
          "text": [
            "1\n",
            "2\n",
            "2\n",
            "3\n"
          ],
          "name": "stdout"
        }
      ]
    },
    {
      "cell_type": "code",
      "metadata": {
        "id": "VtUthciPWpGQ",
        "colab": {
          "base_uri": "https://localhost:8080/",
          "height": 86
        },
        "outputId": "f65d0cc4-fa54-4c91-e417-06e8aebca7ed"
      },
      "source": [
        "def mod(a,b): # a를 b로 나누어 나머지를 반환한다.\n",
        "  div = int(a/b)\n",
        "  mod = a - div*b\n",
        "  return mod\n",
        "\n",
        "print(mod(3,2))\n",
        "print(mod(4,2))\n",
        "print(mod(5,2))\n",
        "print(mod(6,2))"
      ],
      "execution_count": null,
      "outputs": [
        {
          "output_type": "stream",
          "text": [
            "1\n",
            "0\n",
            "1\n",
            "0\n"
          ],
          "name": "stdout"
        }
      ]
    },
    {
      "cell_type": "markdown",
      "metadata": {
        "id": "hgImNzqbXLgM"
      },
      "source": [
        "## Quiz. 정수를 받아 짝수 여부를 판단하는 함수"
      ]
    },
    {
      "cell_type": "code",
      "metadata": {
        "id": "7UyMK4i4XU5C",
        "colab": {
          "base_uri": "https://localhost:8080/",
          "height": 104
        },
        "outputId": "5a50f8a0-e076-43af-a7ab-97ebd97b4d22"
      },
      "source": [
        "def is_even(n):\n",
        "  if mod(n,2)==0:\n",
        "    return True\n",
        "  else:\n",
        "    return False\n",
        "\n",
        "\n",
        "print(is_even(1))\n",
        "print(is_even(2))\n",
        "print(is_even(3))\n",
        "print(is_even(4))\n",
        "print(is_even(5))"
      ],
      "execution_count": null,
      "outputs": [
        {
          "output_type": "stream",
          "text": [
            "False\n",
            "True\n",
            "False\n",
            "True\n",
            "False\n"
          ],
          "name": "stdout"
        }
      ]
    },
    {
      "cell_type": "code",
      "metadata": {
        "id": "45SaGyEXXFng",
        "colab": {
          "base_uri": "https://localhost:8080/",
          "height": 104
        },
        "outputId": "8f8ebd5b-2e39-4ab2-a75f-ccd718b7e543"
      },
      "source": [
        "def is_even(n):\n",
        "  is_even = (mod(n,2)==0)\n",
        "  return is_even\n",
        "\n",
        "print(is_even(1))\n",
        "print(is_even(2))\n",
        "print(is_even(3))\n",
        "print(is_even(4))\n",
        "print(is_even(5))"
      ],
      "execution_count": null,
      "outputs": [
        {
          "output_type": "stream",
          "text": [
            "False\n",
            "True\n",
            "False\n",
            "True\n",
            "False\n"
          ],
          "name": "stdout"
        }
      ]
    },
    {
      "cell_type": "code",
      "metadata": {
        "id": "jNcmP-oaXxE-",
        "colab": {
          "base_uri": "https://localhost:8080/",
          "height": 104
        },
        "outputId": "dfe7e6d9-2573-4e59-9076-a1192df721f3"
      },
      "source": [
        "def is_even(n):\n",
        "  return (mod(n,2)==0)\n",
        "\n",
        "print(is_even(1))\n",
        "print(is_even(2))\n",
        "print(is_even(3))\n",
        "print(is_even(4))\n",
        "print(is_even(5))"
      ],
      "execution_count": null,
      "outputs": [
        {
          "output_type": "stream",
          "text": [
            "False\n",
            "True\n",
            "False\n",
            "True\n",
            "False\n"
          ],
          "name": "stdout"
        }
      ]
    },
    {
      "cell_type": "code",
      "metadata": {
        "id": "BRQU5ghldPf-",
        "colab": {
          "base_uri": "https://localhost:8080/",
          "height": 52
        },
        "outputId": "20de54c6-46ed-4141-9e97-213baf644461"
      },
      "source": [
        "n = input()\n",
        "i = int(n)\n",
        "# if int(i/2)*2==i:\n",
        "if is_even(i):\n",
        "  print(\"짝수\")\n",
        "else:\n",
        "  print(\"홀수\")"
      ],
      "execution_count": null,
      "outputs": [
        {
          "output_type": "stream",
          "text": [
            "3\n",
            "홀수\n"
          ],
          "name": "stdout"
        }
      ]
    },
    {
      "cell_type": "markdown",
      "metadata": {
        "id": "Z1XF3w5bX6zH"
      },
      "source": [
        "## 여러개를 반환\n",
        "\n",
        "여러개를 반환할 수 있다.\n"
      ]
    },
    {
      "cell_type": "code",
      "metadata": {
        "id": "ha7f40xCYEVC",
        "colab": {
          "base_uri": "https://localhost:8080/",
          "height": 190
        },
        "outputId": "8277d1e2-d651-47d5-899f-d720692367d2"
      },
      "source": [
        "def div_n_mod(a,b): # a를 b로 나눈 몫과 나머지를 반환\n",
        "  div = int(a/b)\n",
        "  mod = a - div*b\n",
        "  return div, mod\n",
        "\n",
        "print(div_n_mod(0,2))\n",
        "print(div_n_mod(1,2))\n",
        "print(div_n_mod(2,2))\n",
        "print(div_n_mod(3,2))\n",
        "print(div_n_mod(4,2))\n",
        "print(div_n_mod(5,2))\n",
        "print(div_n_mod(6,2))\n",
        "print(div_n_mod(7,2))\n",
        "print(div_n_mod(8,2))\n",
        "print(div_n_mod(9,2))\n"
      ],
      "execution_count": null,
      "outputs": [
        {
          "output_type": "stream",
          "text": [
            "(0, 0)\n",
            "(0, 1)\n",
            "(1, 0)\n",
            "(1, 1)\n",
            "(2, 0)\n",
            "(2, 1)\n",
            "(3, 0)\n",
            "(3, 1)\n",
            "(4, 0)\n",
            "(4, 1)\n"
          ],
          "name": "stdout"
        }
      ]
    },
    {
      "cell_type": "code",
      "metadata": {
        "colab": {
          "base_uri": "https://localhost:8080/"
        },
        "id": "lF4P2b5QWXNk",
        "outputId": "1b02c531-2021-4262-db2a-12bda7b71296"
      },
      "source": [
        "def div_n_mod(a,b): # a를 b로 나눈 몫과 나머지를 반환\n",
        "  div = int(a/b)\n",
        "  mod = a - div*b\n",
        "  return div, mod\n",
        "\n",
        "div, mod = div_n_mod(5,3)\n",
        "print(div, mod)\n"
      ],
      "execution_count": null,
      "outputs": [
        {
          "output_type": "stream",
          "text": [
            "1 2\n"
          ],
          "name": "stdout"
        }
      ]
    },
    {
      "cell_type": "markdown",
      "metadata": {
        "id": "-gNcPCMJVHpa"
      },
      "source": [
        "## 파라매터의 기본값"
      ]
    },
    {
      "cell_type": "code",
      "metadata": {
        "colab": {
          "base_uri": "https://localhost:8080/"
        },
        "id": "hn2W_l1MVKD-",
        "outputId": "374d3a52-4645-4d36-81d1-bf8054046633"
      },
      "source": [
        "def print_age(age, is_korea=False):\n",
        "  if is_korea:\n",
        "    print(\"나이는 {}입니다.\".format(age))\n",
        "  else:\n",
        "    print(\"age is {}.\".format(age))\n",
        "\n",
        "print_age(30)\n",
        "print_age(30, True)\n",
        "print_age(30, is_korea=True)"
      ],
      "execution_count": null,
      "outputs": [
        {
          "output_type": "stream",
          "text": [
            "age is 30.\n",
            "나이는 30입니다.\n",
            "나이는 30입니다.\n",
            "나이는 30입니다.\n"
          ],
          "name": "stdout"
        }
      ]
    },
    {
      "cell_type": "markdown",
      "metadata": {
        "id": "xtjAXdfYdwb5"
      },
      "source": [
        "# 반복문 - for\n",
        "\n",
        "```\n",
        "for 변수 in 범위:\n",
        "  반복할 내용\n",
        "```"
      ]
    },
    {
      "cell_type": "code",
      "metadata": {
        "id": "Ks1RIal_fkQ5",
        "colab": {
          "base_uri": "https://localhost:8080/",
          "height": 190
        },
        "outputId": "b785093c-5d6e-491d-88c1-d8f5a155b14a"
      },
      "source": [
        "print(0)\n",
        "print(1)\n",
        "print(2)\n",
        "print(3)\n",
        "print(4)\n",
        "print(5)\n",
        "print(6)\n",
        "print(7)\n",
        "print(8)\n",
        "print(9)"
      ],
      "execution_count": null,
      "outputs": [
        {
          "output_type": "stream",
          "text": [
            "0\n",
            "1\n",
            "2\n",
            "3\n",
            "4\n",
            "5\n",
            "6\n",
            "7\n",
            "8\n",
            "9\n"
          ],
          "name": "stdout"
        }
      ]
    },
    {
      "cell_type": "code",
      "metadata": {
        "id": "snOCyw_kfkLU",
        "colab": {
          "base_uri": "https://localhost:8080/",
          "height": 190
        },
        "outputId": "a00231ff-afee-49ae-854c-22838944b28b"
      },
      "source": [
        "for i in [0,1,2,3,4,5,6,7,8,9]:\n",
        "  print(i)"
      ],
      "execution_count": null,
      "outputs": [
        {
          "output_type": "stream",
          "text": [
            "0\n",
            "1\n",
            "2\n",
            "3\n",
            "4\n",
            "5\n",
            "6\n",
            "7\n",
            "8\n",
            "9\n"
          ],
          "name": "stdout"
        }
      ]
    },
    {
      "cell_type": "code",
      "metadata": {
        "id": "51CbuRUbfkG4",
        "colab": {
          "base_uri": "https://localhost:8080/",
          "height": 190
        },
        "outputId": "d1eded32-df00-4d28-bd17-327cb48cb640"
      },
      "source": [
        "for i in range(10):\n",
        "  print(i)"
      ],
      "execution_count": null,
      "outputs": [
        {
          "output_type": "stream",
          "text": [
            "0\n",
            "1\n",
            "2\n",
            "3\n",
            "4\n",
            "5\n",
            "6\n",
            "7\n",
            "8\n",
            "9\n"
          ],
          "name": "stdout"
        }
      ]
    },
    {
      "cell_type": "code",
      "metadata": {
        "id": "90ixU_AJX2GS",
        "colab": {
          "base_uri": "https://localhost:8080/",
          "height": 190
        },
        "outputId": "6dd0727f-0347-4abe-82a0-7ef2062b24b4"
      },
      "source": [
        "print(div_n_mod(0,2))\n",
        "print(div_n_mod(1,2))\n",
        "print(div_n_mod(2,2))\n",
        "print(div_n_mod(3,2))\n",
        "print(div_n_mod(4,2))\n",
        "print(div_n_mod(5,2))\n",
        "print(div_n_mod(6,2))\n",
        "print(div_n_mod(7,2))\n",
        "print(div_n_mod(8,2))\n",
        "print(div_n_mod(9,2))"
      ],
      "execution_count": null,
      "outputs": [
        {
          "output_type": "stream",
          "text": [
            "(0, 0)\n",
            "(0, 1)\n",
            "(1, 0)\n",
            "(1, 1)\n",
            "(2, 0)\n",
            "(2, 1)\n",
            "(3, 0)\n",
            "(3, 1)\n",
            "(4, 0)\n",
            "(4, 1)\n"
          ],
          "name": "stdout"
        }
      ]
    },
    {
      "cell_type": "code",
      "metadata": {
        "id": "jluU6tXoducU",
        "colab": {
          "base_uri": "https://localhost:8080/",
          "height": 190
        },
        "outputId": "4534ee33-311e-4e23-a042-5408b121a114"
      },
      "source": [
        "for i in [0,1,2,3,4,5,6,7,8,9]:\n",
        "  print(div_n_mod(i,2))"
      ],
      "execution_count": null,
      "outputs": [
        {
          "output_type": "stream",
          "text": [
            "(0, 0)\n",
            "(0, 1)\n",
            "(1, 0)\n",
            "(1, 1)\n",
            "(2, 0)\n",
            "(2, 1)\n",
            "(3, 0)\n",
            "(3, 1)\n",
            "(4, 0)\n",
            "(4, 1)\n"
          ],
          "name": "stdout"
        }
      ]
    },
    {
      "cell_type": "markdown",
      "metadata": {
        "id": "JSzSaC_deih0"
      },
      "source": [
        "for 구문을 사용하여 반복적으로 실행할 수 있다.\n",
        "\n",
        "```\n",
        "for i in 리스트:\n",
        "  반복할 내용\n",
        "```\n",
        "\n",
        "<br>\n",
        "\n",
        "연속적인 값들의 리스트는 range()를 사용할 수 있다.\n"
      ]
    },
    {
      "cell_type": "code",
      "metadata": {
        "id": "JcjtqAIVduYf",
        "colab": {
          "base_uri": "https://localhost:8080/",
          "height": 190
        },
        "outputId": "987a86db-08fe-49e2-d2d6-0fab4625f67d"
      },
      "source": [
        "for i in range(10):\n",
        "  print(div_n_mod(i,2))"
      ],
      "execution_count": null,
      "outputs": [
        {
          "output_type": "stream",
          "text": [
            "(0, 0)\n",
            "(0, 1)\n",
            "(1, 0)\n",
            "(1, 1)\n",
            "(2, 0)\n",
            "(2, 1)\n",
            "(3, 0)\n",
            "(3, 1)\n",
            "(4, 0)\n",
            "(4, 1)\n"
          ],
          "name": "stdout"
        }
      ]
    },
    {
      "cell_type": "markdown",
      "metadata": {
        "id": "EI8L5-HweyVg"
      },
      "source": [
        "## Quiz. 0+1+2+3을 계산"
      ]
    },
    {
      "cell_type": "code",
      "metadata": {
        "id": "7R2A2USZduU5",
        "colab": {
          "base_uri": "https://localhost:8080/",
          "height": 35
        },
        "outputId": "2951dc6f-bf60-422a-f681-b5f664ce852b"
      },
      "source": [
        "s = 0+1+2+3\n",
        "print(s)"
      ],
      "execution_count": null,
      "outputs": [
        {
          "output_type": "stream",
          "text": [
            "6\n"
          ],
          "name": "stdout"
        }
      ]
    },
    {
      "cell_type": "markdown",
      "metadata": {
        "id": "98R02Uo7e6q5"
      },
      "source": [
        "## Quiz 0+1+2+3+4+5+6+7+8+9 계산"
      ]
    },
    {
      "cell_type": "code",
      "metadata": {
        "id": "ritxPjJKduQv",
        "colab": {
          "base_uri": "https://localhost:8080/",
          "height": 35
        },
        "outputId": "bd85d6b4-ef43-44d4-f94d-33387f381e0f"
      },
      "source": [
        "s = 0+1+2+3+4+5+6+7+8+9\n",
        "print(s2)"
      ],
      "execution_count": null,
      "outputs": [
        {
          "output_type": "stream",
          "text": [
            "45\n"
          ],
          "name": "stdout"
        }
      ]
    },
    {
      "cell_type": "code",
      "metadata": {
        "id": "hePyFB9JduNG",
        "colab": {
          "base_uri": "https://localhost:8080/",
          "height": 35
        },
        "outputId": "48cb0926-58f2-4ff5-d126-b9f0c2504c8a"
      },
      "source": [
        "s = 0\n",
        "s = s + 1\n",
        "s = s + 2\n",
        "s = s + 3\n",
        "s = s + 4\n",
        "s = s + 5\n",
        "s = s + 6\n",
        "s = s + 7\n",
        "s = s + 8\n",
        "s = s + 9\n",
        "print(s)"
      ],
      "execution_count": null,
      "outputs": [
        {
          "output_type": "stream",
          "text": [
            "45\n"
          ],
          "name": "stdout"
        }
      ]
    },
    {
      "cell_type": "code",
      "metadata": {
        "id": "Y3QufhDShh1x",
        "colab": {
          "base_uri": "https://localhost:8080/",
          "height": 35
        },
        "outputId": "8dfc5d32-f6ab-42ec-dd00-b01acbbe9680"
      },
      "source": [
        "s = 0\n",
        "for i in [0,1,2,3,4,5,6,7,8,9]:\n",
        "  s = s + i\n",
        "print(s)"
      ],
      "execution_count": null,
      "outputs": [
        {
          "output_type": "stream",
          "text": [
            "45\n"
          ],
          "name": "stdout"
        }
      ]
    },
    {
      "cell_type": "code",
      "metadata": {
        "id": "eQpY1HKthhoi",
        "colab": {
          "base_uri": "https://localhost:8080/",
          "height": 35
        },
        "outputId": "4ebe40b0-fab6-4d90-fd3b-e30d2b266fb1"
      },
      "source": [
        "s = 0\n",
        "for i in range(10):\n",
        "  s = s + i\n",
        "print(s)  "
      ],
      "execution_count": null,
      "outputs": [
        {
          "output_type": "stream",
          "text": [
            "45\n"
          ],
          "name": "stdout"
        }
      ]
    },
    {
      "cell_type": "markdown",
      "metadata": {
        "id": "I-S8AQy1hCse"
      },
      "source": [
        "## Quiz. 0+1+2+ ... + 99 "
      ]
    },
    {
      "cell_type": "code",
      "metadata": {
        "id": "NK1FNyHZduEO",
        "colab": {
          "base_uri": "https://localhost:8080/",
          "height": 35
        },
        "outputId": "babd38a0-1919-4b48-c2c3-376e1f9195f6"
      },
      "source": [
        "s = 0\n",
        "for i in range(100):\n",
        "  s = s + i\n",
        "print(s)  "
      ],
      "execution_count": null,
      "outputs": [
        {
          "output_type": "stream",
          "text": [
            "4950\n"
          ],
          "name": "stdout"
        }
      ]
    },
    {
      "cell_type": "markdown",
      "metadata": {
        "id": "mjST9AE8f6wv"
      },
      "source": [
        "## range 구문\n",
        "start 부터 시작해서 end 바로 전까지\n",
        "```\n",
        "range(start, end, step)\n",
        "```"
      ]
    },
    {
      "cell_type": "code",
      "metadata": {
        "id": "WKTbiMsBg6G9",
        "colab": {
          "base_uri": "https://localhost:8080/",
          "height": 190
        },
        "outputId": "271338ff-62ab-4386-a015-3da49a0c35bf"
      },
      "source": [
        "for i in range(10):\n",
        "  print(i)"
      ],
      "execution_count": null,
      "outputs": [
        {
          "output_type": "stream",
          "text": [
            "0\n",
            "1\n",
            "2\n",
            "3\n",
            "4\n",
            "5\n",
            "6\n",
            "7\n",
            "8\n",
            "9\n"
          ],
          "name": "stdout"
        }
      ]
    },
    {
      "cell_type": "code",
      "metadata": {
        "id": "LkAp-bcdfkCO",
        "colab": {
          "base_uri": "https://localhost:8080/",
          "height": 138
        },
        "outputId": "ffb803c3-910d-4bde-d7e7-cce4e6ac3001"
      },
      "source": [
        "for i in range(3,10):\n",
        "  print(i)"
      ],
      "execution_count": null,
      "outputs": [
        {
          "output_type": "stream",
          "text": [
            "3\n",
            "4\n",
            "5\n",
            "6\n",
            "7\n",
            "8\n",
            "9\n"
          ],
          "name": "stdout"
        }
      ]
    },
    {
      "cell_type": "code",
      "metadata": {
        "id": "cyD2lpvDf0vf",
        "colab": {
          "base_uri": "https://localhost:8080/",
          "height": 86
        },
        "outputId": "4d07b42a-377c-4d92-dc9a-df12351f550f"
      },
      "source": [
        "for i in range(3,10,2):\n",
        "  print(i)"
      ],
      "execution_count": null,
      "outputs": [
        {
          "output_type": "stream",
          "text": [
            "3\n",
            "5\n",
            "7\n",
            "9\n"
          ],
          "name": "stdout"
        }
      ]
    },
    {
      "cell_type": "markdown",
      "metadata": {
        "id": "mhO61l65h7Of"
      },
      "source": [
        "## Quiz. 0~99까지 홀수의 총합은?\n"
      ]
    },
    {
      "cell_type": "code",
      "metadata": {
        "id": "7EWx7BB4h_Sq",
        "colab": {
          "base_uri": "https://localhost:8080/",
          "height": 35
        },
        "outputId": "5d5b4b29-8aba-4ea3-df15-bc0f22bdf8ac"
      },
      "source": [
        "s = 0\n",
        "for i in range(100):\n",
        "  if is_even(i):\n",
        "    pass\n",
        "  else:\n",
        "    s = s + i\n",
        "print(s)\n"
      ],
      "execution_count": null,
      "outputs": [
        {
          "output_type": "stream",
          "text": [
            "2500\n"
          ],
          "name": "stdout"
        }
      ]
    },
    {
      "cell_type": "code",
      "metadata": {
        "id": "bLR5rpZRiXWu",
        "colab": {
          "base_uri": "https://localhost:8080/",
          "height": 35
        },
        "outputId": "6a1f5517-08cf-48e9-d8f0-4ced8528359a"
      },
      "source": [
        "s = 0\n",
        "for i in range(100):\n",
        "  if not is_even(i):\n",
        "    s = s + i\n",
        "print(s)\n"
      ],
      "execution_count": null,
      "outputs": [
        {
          "output_type": "stream",
          "text": [
            "2500\n"
          ],
          "name": "stdout"
        }
      ]
    },
    {
      "cell_type": "code",
      "metadata": {
        "id": "D-r9_60DifND",
        "colab": {
          "base_uri": "https://localhost:8080/",
          "height": 35
        },
        "outputId": "8e89a743-b0be-466f-cb84-dc3cfed885bc"
      },
      "source": [
        "s = 0\n",
        "for i in range(1,100,2):\n",
        "    s = s + i\n",
        "print(s)"
      ],
      "execution_count": null,
      "outputs": [
        {
          "output_type": "stream",
          "text": [
            "2500\n"
          ],
          "name": "stdout"
        }
      ]
    },
    {
      "cell_type": "markdown",
      "metadata": {
        "id": "IqIcLrIwizZo"
      },
      "source": [
        "## Quiz. 13~123까지 홀수의 갯수는?"
      ]
    },
    {
      "cell_type": "code",
      "metadata": {
        "id": "7cVbMabkipKL",
        "colab": {
          "base_uri": "https://localhost:8080/",
          "height": 35
        },
        "outputId": "52771a60-09bd-420c-f243-2c2c819d1b32"
      },
      "source": [
        "count = 0\n",
        "for i in range(13,124):\n",
        "  if not is_even(i):\n",
        "    count = count + 1\n",
        "print(count)    "
      ],
      "execution_count": null,
      "outputs": [
        {
          "output_type": "stream",
          "text": [
            "56\n"
          ],
          "name": "stdout"
        }
      ]
    },
    {
      "cell_type": "markdown",
      "metadata": {
        "id": "5xaC3GuKzNy_"
      },
      "source": [
        "## Quiz. 별 n개 찍기"
      ]
    },
    {
      "cell_type": "code",
      "metadata": {
        "id": "sLMBiHadzR5w",
        "colab": {
          "base_uri": "https://localhost:8080/",
          "height": 35
        },
        "outputId": "1cec00f8-8ae5-4c6f-917d-11f40ec62c9d"
      },
      "source": [
        "n = 10\n",
        "for i in range(n):\n",
        "  print(\"*\", end=\"\")"
      ],
      "execution_count": null,
      "outputs": [
        {
          "output_type": "stream",
          "text": [
            "**********"
          ],
          "name": "stdout"
        }
      ]
    },
    {
      "cell_type": "code",
      "metadata": {
        "id": "RHGKLEakzmDy",
        "colab": {
          "base_uri": "https://localhost:8080/",
          "height": 35
        },
        "outputId": "ee18c20e-f552-43db-a237-3bab1b73e017"
      },
      "source": [
        "def get_star_of_length(n):\n",
        "  s = \"\"\n",
        "  for i in range(n):\n",
        "    s = s + \"*\"\n",
        "  return s\n",
        "\n",
        "s = get_star_of_length(10)\n",
        "print(s)"
      ],
      "execution_count": null,
      "outputs": [
        {
          "output_type": "stream",
          "text": [
            "**********\n"
          ],
          "name": "stdout"
        }
      ]
    },
    {
      "cell_type": "code",
      "metadata": {
        "id": "8m6Yr_jvz2nt",
        "colab": {
          "base_uri": "https://localhost:8080/",
          "height": 35
        },
        "outputId": "8384de00-c46a-4234-ac80-161fa03f6f0a"
      },
      "source": [
        "def get_star_of_length(n):\n",
        "  return \"*\"*n\n",
        "\n",
        "s = get_star_of_length(10)\n",
        "print(s)"
      ],
      "execution_count": null,
      "outputs": [
        {
          "output_type": "stream",
          "text": [
            "**********\n"
          ],
          "name": "stdout"
        }
      ]
    },
    {
      "cell_type": "markdown",
      "metadata": {
        "id": "FruVqMli0Z1P"
      },
      "source": [
        "## Quiz. 다음을 출력\n",
        "\n",
        "```\n",
        "1\n",
        "2\n",
        "3\n",
        "4\n",
        "5\n",
        "```"
      ]
    },
    {
      "cell_type": "code",
      "metadata": {
        "id": "8qcXd3zJ0kLc",
        "colab": {
          "base_uri": "https://localhost:8080/",
          "height": 104
        },
        "outputId": "6554afd3-3063-41cc-ed8a-84be7ce2d8c8"
      },
      "source": [
        "for i in range(1,6):\n",
        "  print(i)"
      ],
      "execution_count": null,
      "outputs": [
        {
          "output_type": "stream",
          "text": [
            "1\n",
            "2\n",
            "3\n",
            "4\n",
            "5\n"
          ],
          "name": "stdout"
        }
      ]
    },
    {
      "cell_type": "markdown",
      "metadata": {
        "id": "kOjCWvZpz-UO"
      },
      "source": [
        "## Quiz. 다음을 출력\n",
        "\n",
        "```\n",
        "1 *\n",
        "2 **\n",
        "3 ***\n",
        "4 ****\n",
        "5 *****\n",
        "```"
      ]
    },
    {
      "cell_type": "code",
      "metadata": {
        "id": "1CPwzjzIz81c",
        "colab": {
          "base_uri": "https://localhost:8080/",
          "height": 104
        },
        "outputId": "a3ebf723-b890-42b6-c1b4-85a4f361da75"
      },
      "source": [
        "for i in range(1,6):\n",
        "  print(i)"
      ],
      "execution_count": null,
      "outputs": [
        {
          "output_type": "stream",
          "text": [
            "1\n",
            "2\n",
            "3\n",
            "4\n",
            "5\n"
          ],
          "name": "stdout"
        }
      ]
    },
    {
      "cell_type": "code",
      "metadata": {
        "id": "TftoRhw_0NIx",
        "colab": {
          "base_uri": "https://localhost:8080/",
          "height": 104
        },
        "outputId": "f7f3dfc9-1396-40cc-b3a7-54193d13f82e"
      },
      "source": [
        "for i in range(1,6):\n",
        "  print(i, get_star_of_length(i))"
      ],
      "execution_count": null,
      "outputs": [
        {
          "output_type": "stream",
          "text": [
            "1 *\n",
            "2 **\n",
            "3 ***\n",
            "4 ****\n",
            "5 *****\n"
          ],
          "name": "stdout"
        }
      ]
    },
    {
      "cell_type": "markdown",
      "metadata": {
        "id": "Aa3zuSVJ0dc6"
      },
      "source": [
        "## Quiz. 다음을 출력\n",
        "\n",
        "```\n",
        "*\n",
        "**\n",
        "***\n",
        "****\n",
        "*****\n",
        "```"
      ]
    },
    {
      "cell_type": "code",
      "metadata": {
        "id": "0ye9uZF60uuE",
        "colab": {
          "base_uri": "https://localhost:8080/",
          "height": 104
        },
        "outputId": "c9bf4046-4486-4b51-da75-068d94365be9"
      },
      "source": [
        "for i in range(1,6):\n",
        "  print(get_star_of_length(i))"
      ],
      "execution_count": null,
      "outputs": [
        {
          "output_type": "stream",
          "text": [
            "*\n",
            "**\n",
            "***\n",
            "****\n",
            "*****\n"
          ],
          "name": "stdout"
        }
      ]
    },
    {
      "cell_type": "markdown",
      "metadata": {
        "id": "a6p3V5ee0x_8"
      },
      "source": [
        "## Quiz. 구구단 중 3단을 출력"
      ]
    },
    {
      "cell_type": "code",
      "metadata": {
        "id": "dq3nw0Kv03YU",
        "colab": {
          "base_uri": "https://localhost:8080/",
          "height": 173
        },
        "outputId": "47537284-9212-442d-9c42-61fba2dcae7a"
      },
      "source": [
        "for i in range(1,10):\n",
        "  print(\"{} x {} = {}\".format(3, i, (3*i)))"
      ],
      "execution_count": null,
      "outputs": [
        {
          "output_type": "stream",
          "text": [
            "3 x 1 = 3\n",
            "3 x 2 = 6\n",
            "3 x 3 = 9\n",
            "3 x 4 = 12\n",
            "3 x 5 = 15\n",
            "3 x 6 = 18\n",
            "3 x 7 = 21\n",
            "3 x 8 = 24\n",
            "3 x 9 = 27\n"
          ],
          "name": "stdout"
        }
      ]
    },
    {
      "cell_type": "markdown",
      "metadata": {
        "id": "F9zNoApi1BLT"
      },
      "source": [
        "## Quiz. 구구단 전체 출력"
      ]
    },
    {
      "cell_type": "code",
      "metadata": {
        "id": "AGLR0kXn1G3R",
        "colab": {
          "base_uri": "https://localhost:8080/",
          "height": 1000
        },
        "outputId": "2d174b7b-9215-4cd0-97c4-53ec7543b26b"
      },
      "source": [
        "for i in range(2, 10):\n",
        "  for j in range(1, 10):\n",
        "    print(\"{} x {} = {}\".format(i, j, (i*j)))\n",
        "  print()"
      ],
      "execution_count": null,
      "outputs": [
        {
          "output_type": "stream",
          "text": [
            "2 x 1 = 2\n",
            "2 x 2 = 4\n",
            "2 x 3 = 6\n",
            "2 x 4 = 8\n",
            "2 x 5 = 10\n",
            "2 x 6 = 12\n",
            "2 x 7 = 14\n",
            "2 x 8 = 16\n",
            "2 x 9 = 18\n",
            "\n",
            "3 x 1 = 3\n",
            "3 x 2 = 6\n",
            "3 x 3 = 9\n",
            "3 x 4 = 12\n",
            "3 x 5 = 15\n",
            "3 x 6 = 18\n",
            "3 x 7 = 21\n",
            "3 x 8 = 24\n",
            "3 x 9 = 27\n",
            "\n",
            "4 x 1 = 4\n",
            "4 x 2 = 8\n",
            "4 x 3 = 12\n",
            "4 x 4 = 16\n",
            "4 x 5 = 20\n",
            "4 x 6 = 24\n",
            "4 x 7 = 28\n",
            "4 x 8 = 32\n",
            "4 x 9 = 36\n",
            "\n",
            "5 x 1 = 5\n",
            "5 x 2 = 10\n",
            "5 x 3 = 15\n",
            "5 x 4 = 20\n",
            "5 x 5 = 25\n",
            "5 x 6 = 30\n",
            "5 x 7 = 35\n",
            "5 x 8 = 40\n",
            "5 x 9 = 45\n",
            "\n",
            "6 x 1 = 6\n",
            "6 x 2 = 12\n",
            "6 x 3 = 18\n",
            "6 x 4 = 24\n",
            "6 x 5 = 30\n",
            "6 x 6 = 36\n",
            "6 x 7 = 42\n",
            "6 x 8 = 48\n",
            "6 x 9 = 54\n",
            "\n",
            "7 x 1 = 7\n",
            "7 x 2 = 14\n",
            "7 x 3 = 21\n",
            "7 x 4 = 28\n",
            "7 x 5 = 35\n",
            "7 x 6 = 42\n",
            "7 x 7 = 49\n",
            "7 x 8 = 56\n",
            "7 x 9 = 63\n",
            "\n",
            "8 x 1 = 8\n",
            "8 x 2 = 16\n",
            "8 x 3 = 24\n",
            "8 x 4 = 32\n",
            "8 x 5 = 40\n",
            "8 x 6 = 48\n",
            "8 x 7 = 56\n",
            "8 x 8 = 64\n",
            "8 x 9 = 72\n",
            "\n",
            "9 x 1 = 9\n",
            "9 x 2 = 18\n",
            "9 x 3 = 27\n",
            "9 x 4 = 36\n",
            "9 x 5 = 45\n",
            "9 x 6 = 54\n",
            "9 x 7 = 63\n",
            "9 x 8 = 72\n",
            "9 x 9 = 81\n",
            "\n"
          ],
          "name": "stdout"
        }
      ]
    },
    {
      "cell_type": "markdown",
      "metadata": {
        "id": "P9v7JrpebbR6"
      },
      "source": [
        "# 반복문 - while\n",
        "\n",
        "```\n",
        "while 조건:\n",
        "  반복할 내용\n",
        "```"
      ]
    },
    {
      "cell_type": "code",
      "metadata": {
        "id": "d2qA1bUQbsp3",
        "colab": {
          "base_uri": "https://localhost:8080/",
          "height": 104
        },
        "outputId": "f9da84fd-e998-479c-b61c-f8969782cadf"
      },
      "source": [
        "i = 0\n",
        "while i<5:\n",
        "  print(i)\n",
        "  i = i + 1"
      ],
      "execution_count": null,
      "outputs": [
        {
          "output_type": "stream",
          "text": [
            "0\n",
            "1\n",
            "2\n",
            "3\n",
            "4\n"
          ],
          "name": "stdout"
        }
      ]
    },
    {
      "cell_type": "markdown",
      "metadata": {
        "id": "lazxUdqlb6pE"
      },
      "source": [
        "## 루프 탈출 - break"
      ]
    },
    {
      "cell_type": "code",
      "metadata": {
        "id": "OQk7tPgNb-mF",
        "colab": {
          "base_uri": "https://localhost:8080/",
          "height": 104
        },
        "outputId": "bb3c5c90-a26c-4182-f291-df0eebf2b382"
      },
      "source": [
        "i = 0\n",
        "while True:\n",
        "  print(i)\n",
        "  i = i + 1\n",
        "  if i>=5:\n",
        "    break"
      ],
      "execution_count": null,
      "outputs": [
        {
          "output_type": "stream",
          "text": [
            "0\n",
            "1\n",
            "2\n",
            "3\n",
            "4\n"
          ],
          "name": "stdout"
        }
      ]
    },
    {
      "cell_type": "markdown",
      "metadata": {
        "id": "jn0uAVf6Ogdh"
      },
      "source": [
        "# Quiz. 다음을 while로 구현\n",
        "```\n",
        "for i in range(5):\n",
        "  print(\"hello\")\n",
        "```"
      ]
    },
    {
      "cell_type": "code",
      "metadata": {
        "id": "vVFcvxeNMnlA",
        "colab": {
          "base_uri": "https://localhost:8080/"
        },
        "outputId": "6542e59b-e784-4976-db38-c7821e9fdedd"
      },
      "source": [
        "count = 0\n",
        "while True:\n",
        "  print(\"hello\")\n",
        "  count += 1\n",
        "  if count>=5: break\n"
      ],
      "execution_count": null,
      "outputs": [
        {
          "output_type": "stream",
          "text": [
            "hello\n",
            "hello\n",
            "hello\n",
            "hello\n",
            "hello\n"
          ],
          "name": "stdout"
        }
      ]
    },
    {
      "cell_type": "markdown",
      "metadata": {
        "id": "PEjOGnh4O_M1"
      },
      "source": [
        "# Quiz. 다음을 while로 구현\n",
        "```\n",
        "for i in range(5):\n",
        "  print(\"hello\", i)\n",
        "```"
      ]
    },
    {
      "cell_type": "code",
      "metadata": {
        "id": "WyuEA2NgO-re",
        "colab": {
          "base_uri": "https://localhost:8080/"
        },
        "outputId": "8bca8585-4369-4208-c4ab-99319d454ed2"
      },
      "source": [
        "count = 0\n",
        "while True:\n",
        "  print(\"hello\", count)\n",
        "  count += 1\n",
        "  if count>=5: break\n"
      ],
      "execution_count": null,
      "outputs": [
        {
          "output_type": "stream",
          "text": [
            "hello 0\n",
            "hello 1\n",
            "hello 2\n",
            "hello 3\n",
            "hello 4\n"
          ],
          "name": "stdout"
        }
      ]
    },
    {
      "cell_type": "markdown",
      "metadata": {
        "id": "vE9UHsvAPQ3T"
      },
      "source": [
        "# Quiz. 다음을 while로 구현\n",
        "```\n",
        "for i in range(1, 5):\n",
        "  print(\"hello\", i)\n",
        "```"
      ]
    },
    {
      "cell_type": "code",
      "metadata": {
        "id": "NtJznEJUPN5T",
        "colab": {
          "base_uri": "https://localhost:8080/"
        },
        "outputId": "c5fc8c2f-cf4c-47ce-b02d-34f43f842b6d"
      },
      "source": [
        "count = 1\n",
        "while True:\n",
        "  print(\"hello\", count)\n",
        "  count += 1\n",
        "  if count>=5: break\n"
      ],
      "execution_count": null,
      "outputs": [
        {
          "output_type": "stream",
          "text": [
            "hello 1\n",
            "hello 2\n",
            "hello 3\n",
            "hello 4\n"
          ],
          "name": "stdout"
        }
      ]
    },
    {
      "cell_type": "markdown",
      "metadata": {
        "id": "g5jtAaT0PX7w"
      },
      "source": [
        "# Quiz. 다음을 while로 구현\n",
        "```\n",
        "for i in range(1, 5, 2):\n",
        "  print(\"hello\", i)\n",
        "```"
      ]
    },
    {
      "cell_type": "code",
      "metadata": {
        "id": "Ubt0l3NBPNwV",
        "colab": {
          "base_uri": "https://localhost:8080/"
        },
        "outputId": "dae6d776-9b5f-420b-ec18-50a428236d69"
      },
      "source": [
        "count = 1\n",
        "while True:\n",
        "  print(\"hello\", count)\n",
        "  count += 2\n",
        "  if count>=5: break\n"
      ],
      "execution_count": null,
      "outputs": [
        {
          "output_type": "stream",
          "text": [
            "hello 1\n",
            "hello 3\n"
          ],
          "name": "stdout"
        }
      ]
    },
    {
      "cell_type": "code",
      "metadata": {
        "id": "MGzmAnrtPNnY",
        "colab": {
          "base_uri": "https://localhost:8080/"
        },
        "outputId": "2573f96d-6c5f-4d56-f781-f45517e5c5bf"
      },
      "source": [
        "START = 1\n",
        "FINISH = 5\n",
        "STEP = 2\n",
        "\n",
        "count = START\n",
        "while True:\n",
        "  print(\"hello\", count)\n",
        "  count += STEP\n",
        "  if count>=FINISH: break\n"
      ],
      "execution_count": null,
      "outputs": [
        {
          "output_type": "stream",
          "text": [
            "hello 1\n",
            "hello 3\n"
          ],
          "name": "stdout"
        }
      ]
    },
    {
      "cell_type": "markdown",
      "metadata": {
        "id": "bzSAuB4yPr3T"
      },
      "source": [
        "# Quiz. 다음을 while로 구현\n",
        "```\n",
        "for i in range(5, 1, -1):\n",
        "  print(\"hello\", i)\n",
        "```"
      ]
    },
    {
      "cell_type": "code",
      "metadata": {
        "id": "Ydm5lc7fPNdF",
        "colab": {
          "base_uri": "https://localhost:8080/"
        },
        "outputId": "10a68d21-8c21-4827-d0be-3360dee8b79b"
      },
      "source": [
        "START = 5\n",
        "FINISH = 1\n",
        "STEP = -1\n",
        "\n",
        "count = START\n",
        "while True:\n",
        "  print(\"hello\", count)\n",
        "  count += STEP\n",
        "  if count<=FINISH: break\n"
      ],
      "execution_count": null,
      "outputs": [
        {
          "output_type": "stream",
          "text": [
            "hello 5\n",
            "hello 4\n",
            "hello 3\n",
            "hello 2\n"
          ],
          "name": "stdout"
        }
      ]
    },
    {
      "cell_type": "markdown",
      "metadata": {
        "id": "M1N6Zd465Xwc"
      },
      "source": [
        "# Try Catch"
      ]
    },
    {
      "cell_type": "code",
      "metadata": {
        "id": "2iOy0ghD5xtR",
        "colab": {
          "base_uri": "https://localhost:8080/",
          "height": 166
        },
        "outputId": "beb4e411-1151-467f-9128-d11c591ffca8"
      },
      "source": [
        "print(int(\"3.1\"))\n",
        "\n",
        "print(\"hi\")"
      ],
      "execution_count": null,
      "outputs": [
        {
          "output_type": "error",
          "ename": "ValueError",
          "evalue": "ignored",
          "traceback": [
            "\u001b[0;31m---------------------------------------------------------------------------\u001b[0m",
            "\u001b[0;31mValueError\u001b[0m                                Traceback (most recent call last)",
            "\u001b[0;32m<ipython-input-4-8a9ca0e55031>\u001b[0m in \u001b[0;36m<module>\u001b[0;34m()\u001b[0m\n\u001b[0;32m----> 1\u001b[0;31m \u001b[0mprint\u001b[0m\u001b[0;34m(\u001b[0m\u001b[0mint\u001b[0m\u001b[0;34m(\u001b[0m\u001b[0;34m\"3.1\"\u001b[0m\u001b[0;34m)\u001b[0m\u001b[0;34m)\u001b[0m\u001b[0;34m\u001b[0m\u001b[0;34m\u001b[0m\u001b[0m\n\u001b[0m",
            "\u001b[0;31mValueError\u001b[0m: invalid literal for int() with base 10: '3.1'"
          ]
        }
      ]
    },
    {
      "cell_type": "code",
      "metadata": {
        "id": "Fh5qKYEE5Z2r",
        "colab": {
          "base_uri": "https://localhost:8080/"
        },
        "outputId": "54dd4775-dc59-4f55-95d9-2736afc453a4"
      },
      "source": [
        "try:\n",
        "  print(int(\"3.1\"))\n",
        "except:\n",
        "  pass\n",
        "\n",
        "print(\"hi\")  "
      ],
      "execution_count": null,
      "outputs": [
        {
          "output_type": "stream",
          "text": [
            "hi\n"
          ],
          "name": "stdout"
        }
      ]
    },
    {
      "cell_type": "code",
      "metadata": {
        "id": "Pv9fMAGR6CbL",
        "colab": {
          "base_uri": "https://localhost:8080/"
        },
        "outputId": "cd98ec11-f60e-493d-c584-c033a7955154"
      },
      "source": [
        "try:\n",
        "  print(int(\"3.1\"))\n",
        "except ValueError as e:\n",
        "  print(e)\n",
        "\n",
        "print(\"hi\")"
      ],
      "execution_count": null,
      "outputs": [
        {
          "output_type": "stream",
          "text": [
            "invalid literal for int() with base 10: '3.1'\n",
            "hi\n"
          ],
          "name": "stdout"
        }
      ]
    },
    {
      "cell_type": "code",
      "metadata": {
        "id": "PeQm-qxV6WI6",
        "colab": {
          "base_uri": "https://localhost:8080/"
        },
        "outputId": "fddd4421-2eed-45ec-b9f3-8d9b5a497086"
      },
      "source": [
        "user_input = None\n",
        "try:\n",
        "  user_input = int(\"3.1\")\n",
        "except:\n",
        "  pass\n",
        "\n",
        "if user_input:\n",
        "  print(\"입력한 값은 {}입니다.\".format(user_input))  \n",
        "else:\n",
        "  print(\"다시 입력해 주세요\")\n"
      ],
      "execution_count": null,
      "outputs": [
        {
          "output_type": "stream",
          "text": [
            "다시 입력해 주세요\n"
          ],
          "name": "stdout"
        }
      ]
    },
    {
      "cell_type": "markdown",
      "metadata": {
        "id": "aPVkM5oH9bUx"
      },
      "source": [
        "## Quiz. 정수가 입력될때 까지 반복"
      ]
    },
    {
      "cell_type": "code",
      "metadata": {
        "id": "Rrjhf78l9hfq",
        "colab": {
          "base_uri": "https://localhost:8080/"
        },
        "outputId": "a43e2eb8-c2db-4c15-b0c9-e211b14c1b70"
      },
      "source": [
        "while True:\n",
        "  i = input()\n",
        "  try:\n",
        "    i = int(i)\n",
        "    break\n",
        "  except:\n",
        "    pass\n",
        "\n",
        "print(i)"
      ],
      "execution_count": null,
      "outputs": [
        {
          "output_type": "stream",
          "text": [
            "\"3.1\"\n",
            "3.1\n",
            "1\n",
            "1\n"
          ],
          "name": "stdout"
        }
      ]
    },
    {
      "cell_type": "markdown",
      "metadata": {
        "id": "p94UcdhqQDUL"
      },
      "source": [
        "## 1 ~ 10 범위의 정수 입력을 받아서 삼각형 그리기\n",
        "```\n",
        "3\n",
        "*\n",
        "**\n",
        "***\n",
        "```"
      ]
    },
    {
      "cell_type": "code",
      "metadata": {
        "id": "euy3KORfQSCG",
        "colab": {
          "base_uri": "https://localhost:8080/"
        },
        "outputId": "da79700e-73ab-42a5-dc95-93ce62cc473d"
      },
      "source": [
        "while True:\n",
        "  i = input(\"1 ~ 5 사이의 정수를 입력하세요 : \")\n",
        "  try:\n",
        "    size = int(i)\n",
        "    if 1<=size and size<=5: break\n",
        "  except:\n",
        "    pass\n",
        "\n",
        "for i in range(size):\n",
        "  stars = \"*\"\n",
        "  for j in range(i):\n",
        "    stars += \"*\"\n",
        "  print(stars)"
      ],
      "execution_count": null,
      "outputs": [
        {
          "output_type": "stream",
          "text": [
            "1 ~ 5 사이의 정수를 입력하세요 : 3\n",
            "*\n",
            "**\n",
            "***\n"
          ],
          "name": "stdout"
        }
      ]
    },
    {
      "cell_type": "code",
      "metadata": {
        "id": "hvTJ5lMZQ4Jm",
        "colab": {
          "base_uri": "https://localhost:8080/"
        },
        "outputId": "1643d96a-6a2e-4c8d-cb3c-2c8442b4fa33"
      },
      "source": [
        "def input_size():\n",
        "  while True:\n",
        "    i = input(\"1 ~ 5 사이의 정수를 입력하세요 : \")\n",
        "    try:\n",
        "      size = int(i)\n",
        "      if 1<=size and size<=5: break\n",
        "    except:\n",
        "      pass\n",
        "  return size\n",
        "\n",
        "def print_star_of_length(length):\n",
        "  stars = \"*\"\n",
        "  for i in range(length):\n",
        "    stars += \"*\"\n",
        "  print(stars)\n",
        "\n",
        "def draw_triangle_of_size(size):\n",
        "  for i in range(size):\n",
        "    print_star_of_length(i)\n",
        "\n",
        "size = input_size()\n",
        "draw_triangle_of_size(size)\n"
      ],
      "execution_count": null,
      "outputs": [
        {
          "output_type": "stream",
          "text": [
            "1 ~ 5 사이의 정수를 입력하세요 : 3\n",
            "*\n",
            "**\n",
            "***\n"
          ],
          "name": "stdout"
        }
      ]
    },
    {
      "cell_type": "markdown",
      "metadata": {
        "id": "b-Ab6oRtR68E"
      },
      "source": [
        "## Quiz. 계속반복. 만약 \"exit\"가 입력되면 종료"
      ]
    },
    {
      "cell_type": "code",
      "metadata": {
        "id": "oCSvRSa0SC6V",
        "colab": {
          "base_uri": "https://localhost:8080/"
        },
        "outputId": "694c9459-1a28-4a94-df2c-5f5e2abe446d"
      },
      "source": [
        "def input_size():\n",
        "  while True:\n",
        "    i = input(\"1 ~ 5 사이의 정수를 입력하세요 : \")\n",
        "    if i == \"exit\": return 0\n",
        "    try:\n",
        "      size = int(i)\n",
        "      if 1<=size and size<=5: break\n",
        "    except:\n",
        "      pass\n",
        "  return size\n",
        "\n",
        "def print_star_of_length(length):\n",
        "  stars = \"*\"\n",
        "  for i in range(length):\n",
        "    stars += \"*\"\n",
        "  print(stars)\n",
        "\n",
        "def draw_triangle_of_size(size):\n",
        "  for i in range(size):\n",
        "    print_star_of_length(i)\n",
        "\n",
        "while True:\n",
        "  size = input_size()\n",
        "  if size==0: break\n",
        "  draw_triangle_of_size(size)\n"
      ],
      "execution_count": null,
      "outputs": [
        {
          "output_type": "stream",
          "text": [
            "1 ~ 5 사이의 정수를 입력하세요 : 3\n",
            "*\n",
            "**\n",
            "***\n",
            "1 ~ 5 사이의 정수를 입력하세요 : 5\n",
            "*\n",
            "**\n",
            "***\n",
            "****\n",
            "*****\n",
            "1 ~ 5 사이의 정수를 입력하세요 : exit\n"
          ],
          "name": "stdout"
        }
      ]
    },
    {
      "cell_type": "markdown",
      "metadata": {
        "id": "_3Uxw844jnFF"
      },
      "source": [
        "# 자료형\n",
        "\n",
        "다음의 자료형이 있다.\n",
        "- list : []로 생성\n",
        "- dict : dictionay. {}로 생성\n",
        "- set : set()로 생성\n",
        "- tuple : ()로 생성"
      ]
    },
    {
      "cell_type": "markdown",
      "metadata": {
        "id": "-iLayTMqj1Ev"
      },
      "source": [
        "## 리스트"
      ]
    },
    {
      "cell_type": "code",
      "metadata": {
        "id": "0IMyw-7ijBCM",
        "colab": {
          "base_uri": "https://localhost:8080/",
          "height": 35
        },
        "outputId": "5c93b9bd-abed-412a-ce0b-132ee0195054"
      },
      "source": [
        "numbers = [0,1,2,3,4,5,6,7,8,9]\n",
        "print(numbers)"
      ],
      "execution_count": null,
      "outputs": [
        {
          "output_type": "stream",
          "text": [
            "[0, 1, 2, 3, 4, 5, 6, 7, 8, 9]\n"
          ],
          "name": "stdout"
        }
      ]
    },
    {
      "cell_type": "code",
      "metadata": {
        "id": "P8bSQk1qkON7",
        "colab": {
          "base_uri": "https://localhost:8080/"
        },
        "outputId": "3012eea2-197f-42bc-f7f2-2e2dc5051749"
      },
      "source": [
        "numbers = [0,1,2,3,4,5,6,7,8,9]\n",
        "print(len(numbers))"
      ],
      "execution_count": null,
      "outputs": [
        {
          "output_type": "stream",
          "text": [
            "10\n"
          ],
          "name": "stdout"
        }
      ]
    },
    {
      "cell_type": "code",
      "metadata": {
        "id": "UclCO_y4kQxM",
        "colab": {
          "base_uri": "https://localhost:8080/"
        },
        "outputId": "195b58c0-b741-49ba-977c-1d4d1e6a6d09"
      },
      "source": [
        "numbers = [0,1,2,3,4,5,6,7,8,9]\n",
        "print(numbers[3])"
      ],
      "execution_count": null,
      "outputs": [
        {
          "output_type": "stream",
          "text": [
            "3\n"
          ],
          "name": "stdout"
        }
      ]
    },
    {
      "cell_type": "code",
      "metadata": {
        "id": "MUur7ASBkTAW",
        "colab": {
          "base_uri": "https://localhost:8080/"
        },
        "outputId": "5e959103-f661-4695-bdd5-b031b7ea8f49"
      },
      "source": [
        "numbers = [0,1,2,3,4,5,6,7,8,9]\n",
        "print(numbers[9])"
      ],
      "execution_count": null,
      "outputs": [
        {
          "output_type": "stream",
          "text": [
            "9\n"
          ],
          "name": "stdout"
        }
      ]
    },
    {
      "cell_type": "code",
      "metadata": {
        "id": "YQj5qoCNkVCG",
        "colab": {
          "base_uri": "https://localhost:8080/",
          "height": 184
        },
        "outputId": "f5e91dfd-2200-45d7-e60a-1f5b60bb01e2"
      },
      "source": [
        "numbers = [0,1,2,3,4,5,6,7,8,9]\n",
        "print(numbers[10])"
      ],
      "execution_count": null,
      "outputs": [
        {
          "output_type": "error",
          "ename": "IndexError",
          "evalue": "ignored",
          "traceback": [
            "\u001b[0;31m---------------------------------------------------------------------------\u001b[0m",
            "\u001b[0;31mIndexError\u001b[0m                                Traceback (most recent call last)",
            "\u001b[0;32m<ipython-input-123-d09f15d7941d>\u001b[0m in \u001b[0;36m<module>\u001b[0;34m()\u001b[0m\n\u001b[1;32m      1\u001b[0m \u001b[0mnumbers\u001b[0m \u001b[0;34m=\u001b[0m \u001b[0;34m[\u001b[0m\u001b[0;36m0\u001b[0m\u001b[0;34m,\u001b[0m\u001b[0;36m1\u001b[0m\u001b[0;34m,\u001b[0m\u001b[0;36m2\u001b[0m\u001b[0;34m,\u001b[0m\u001b[0;36m3\u001b[0m\u001b[0;34m,\u001b[0m\u001b[0;36m4\u001b[0m\u001b[0;34m,\u001b[0m\u001b[0;36m5\u001b[0m\u001b[0;34m,\u001b[0m\u001b[0;36m6\u001b[0m\u001b[0;34m,\u001b[0m\u001b[0;36m7\u001b[0m\u001b[0;34m,\u001b[0m\u001b[0;36m8\u001b[0m\u001b[0;34m,\u001b[0m\u001b[0;36m9\u001b[0m\u001b[0;34m]\u001b[0m\u001b[0;34m\u001b[0m\u001b[0;34m\u001b[0m\u001b[0m\n\u001b[0;32m----> 2\u001b[0;31m \u001b[0mprint\u001b[0m\u001b[0;34m(\u001b[0m\u001b[0mnumbers\u001b[0m\u001b[0;34m[\u001b[0m\u001b[0;36m10\u001b[0m\u001b[0;34m]\u001b[0m\u001b[0;34m)\u001b[0m\u001b[0;34m\u001b[0m\u001b[0;34m\u001b[0m\u001b[0m\n\u001b[0m",
            "\u001b[0;31mIndexError\u001b[0m: list index out of range"
          ]
        }
      ]
    },
    {
      "cell_type": "code",
      "metadata": {
        "colab": {
          "base_uri": "https://localhost:8080/"
        },
        "id": "qPoeYJj2aAkO",
        "outputId": "2b174361-02d5-47df-c4b8-9be91830fdb9"
      },
      "source": [
        "numbers = [0,1,2,3,4,5,6,7,8,9]\n",
        "print(numbers[-1])"
      ],
      "execution_count": null,
      "outputs": [
        {
          "output_type": "stream",
          "text": [
            "9\n"
          ],
          "name": "stdout"
        }
      ]
    },
    {
      "cell_type": "code",
      "metadata": {
        "colab": {
          "base_uri": "https://localhost:8080/"
        },
        "id": "vdUZt00UaIxo",
        "outputId": "7a2beeb8-9dcd-45c5-9293-39d8cbaa37b2"
      },
      "source": [
        "numbers = [0,1,2,3,4,5,6,7,8,9]\n",
        "print(numbers[-2])"
      ],
      "execution_count": null,
      "outputs": [
        {
          "output_type": "stream",
          "text": [
            "8\n"
          ],
          "name": "stdout"
        }
      ]
    },
    {
      "cell_type": "code",
      "metadata": {
        "id": "-9dq7ODnkWvE",
        "colab": {
          "base_uri": "https://localhost:8080/",
          "height": 86
        },
        "outputId": "6dbd1f23-88a9-4107-c5cc-008477817850"
      },
      "source": [
        "names = [\"tom\", \"jerry\", \"철수\", \"영희\"]\n",
        "print(names[0])\n",
        "print(names[1])\n",
        "print(names[2])\n",
        "print(names[3])"
      ],
      "execution_count": null,
      "outputs": [
        {
          "output_type": "stream",
          "text": [
            "tom\n",
            "jerry\n",
            "철수\n",
            "영희\n"
          ],
          "name": "stdout"
        }
      ]
    },
    {
      "cell_type": "markdown",
      "metadata": {
        "id": "jXvykDQhaeUf"
      },
      "source": [
        "### list로 루프돌기"
      ]
    },
    {
      "cell_type": "code",
      "metadata": {
        "id": "VpJ2osAqknUz",
        "colab": {
          "base_uri": "https://localhost:8080/",
          "height": 86
        },
        "outputId": "3ad41688-a49f-44eb-e644-d636bc9bb254"
      },
      "source": [
        "names = [\"tom\", \"jerry\", \"철수\", \"영희\"]\n",
        "for name in names:\n",
        "  print(name)"
      ],
      "execution_count": null,
      "outputs": [
        {
          "output_type": "stream",
          "text": [
            "tom\n",
            "jerry\n",
            "철수\n",
            "영희\n"
          ],
          "name": "stdout"
        }
      ]
    },
    {
      "cell_type": "code",
      "metadata": {
        "id": "GUTck07Fkvc4",
        "colab": {
          "base_uri": "https://localhost:8080/",
          "height": 86
        },
        "outputId": "a93e6671-623c-4de4-eac0-36bcea85e3fa"
      },
      "source": [
        "ages = [30, 33, 20, 22]\n",
        "for age in ages:\n",
        "  print(age)"
      ],
      "execution_count": null,
      "outputs": [
        {
          "output_type": "stream",
          "text": [
            "30\n",
            "33\n",
            "20\n",
            "22\n"
          ],
          "name": "stdout"
        }
      ]
    },
    {
      "cell_type": "code",
      "metadata": {
        "id": "i5DakBaGlGHt",
        "colab": {
          "base_uri": "https://localhost:8080/",
          "height": 86
        },
        "outputId": "87de59a8-ae2d-42a7-8c09-fdb39082abf8"
      },
      "source": [
        "names = [\"tom\", \"jerry\", \"철수\", \"영희\"]\n",
        "for i in range(4):\n",
        "  print(names[i])"
      ],
      "execution_count": null,
      "outputs": [
        {
          "output_type": "stream",
          "text": [
            "tom\n",
            "jerry\n",
            "철수\n",
            "영희\n"
          ],
          "name": "stdout"
        }
      ]
    },
    {
      "cell_type": "code",
      "metadata": {
        "id": "dyDcPm2alQT1",
        "colab": {
          "base_uri": "https://localhost:8080/",
          "height": 86
        },
        "outputId": "a9bfc685-6be3-49f4-ec71-b8ba36866526"
      },
      "source": [
        "names = [\"tom\", \"jerry\", \"철수\", \"영희\"]\n",
        "size = len(names)\n",
        "for i in range(size):\n",
        "  print(names[i])"
      ],
      "execution_count": null,
      "outputs": [
        {
          "output_type": "stream",
          "text": [
            "tom\n",
            "jerry\n",
            "철수\n",
            "영희\n"
          ],
          "name": "stdout"
        }
      ]
    },
    {
      "cell_type": "code",
      "metadata": {
        "id": "evwOV6GWlWLU",
        "colab": {
          "base_uri": "https://localhost:8080/",
          "height": 86
        },
        "outputId": "bd6069ab-105c-4240-f3d2-4ab8ddb9ada9"
      },
      "source": [
        "names = [\"tom\", \"jerry\", \"철수\", \"영희\"]\n",
        "for i in range(len(names)):\n",
        "  print(names[i])"
      ],
      "execution_count": null,
      "outputs": [
        {
          "output_type": "stream",
          "text": [
            "tom\n",
            "jerry\n",
            "철수\n",
            "영희\n"
          ],
          "name": "stdout"
        }
      ]
    },
    {
      "cell_type": "code",
      "metadata": {
        "colab": {
          "base_uri": "https://localhost:8080/"
        },
        "id": "sfKD7JHGbp2M",
        "outputId": "9c8ed482-40c9-44be-f112-da48b0404eab"
      },
      "source": [
        "for name in names:\n",
        "  print(name)"
      ],
      "execution_count": null,
      "outputs": [
        {
          "output_type": "stream",
          "text": [
            "tom\n",
            "jerry\n",
            "철수\n",
            "영희\n"
          ],
          "name": "stdout"
        }
      ]
    },
    {
      "cell_type": "code",
      "metadata": {
        "id": "3Yk4vY-Ck132",
        "colab": {
          "base_uri": "https://localhost:8080/",
          "height": 86
        },
        "outputId": "d1432705-d159-43ff-9c03-ca8f7dbc9a73"
      },
      "source": [
        "def print_name_and_age(name, age):\n",
        "  print(\"name = {}, age = {}\".format(name, age))\n",
        "\n",
        "for i in range(len(names)):\n",
        "  print_name_and_age(names[i], ages[i])"
      ],
      "execution_count": null,
      "outputs": [
        {
          "output_type": "stream",
          "text": [
            "name = tom, age = 30\n",
            "name = jerry, age = 33\n",
            "name = 철수, age = 20\n",
            "name = 영희, age = 22\n"
          ],
          "name": "stdout"
        }
      ]
    },
    {
      "cell_type": "markdown",
      "metadata": {
        "id": "gtQTkKaBMA6e"
      },
      "source": [
        "### Quiz. 총합과 평균"
      ]
    },
    {
      "cell_type": "code",
      "metadata": {
        "id": "yszHdvC0MF6P",
        "colab": {
          "base_uri": "https://localhost:8080/",
          "height": 69
        },
        "outputId": "39e88865-5fba-4ba8-c256-7a54cac80e46"
      },
      "source": [
        "l = [ 10, 20, 30, 40, 50, 60, 70 ]\n",
        "count = len(l)\n",
        "s = 0\n",
        "for i in l:\n",
        "  s = s + i\n",
        "\n",
        "mean = s / count\n",
        "\n",
        "print(\"s = \",s)\n",
        "print(\"mean = \",mean)"
      ],
      "execution_count": null,
      "outputs": [
        {
          "output_type": "stream",
          "text": [
            "sum =  280\n",
            "count =  7\n",
            "mean =  40.0\n"
          ],
          "name": "stdout"
        }
      ]
    },
    {
      "cell_type": "markdown",
      "metadata": {
        "id": "JCbNrzS8by-g"
      },
      "source": [
        "### 슬라이싱\n",
        "\n",
        "start:end 방식으로 표현한다. \n",
        "\n",
        "start부터 end 이전 까지이다."
      ]
    },
    {
      "cell_type": "code",
      "metadata": {
        "colab": {
          "base_uri": "https://localhost:8080/"
        },
        "id": "I6SxsIZXb3Qn",
        "outputId": "d45df5e5-84a6-4187-c73d-b808822e2b87"
      },
      "source": [
        "a = [0,1,2,3,4,5,6,7,8,9]\n",
        "print(a[3:7])"
      ],
      "execution_count": null,
      "outputs": [
        {
          "output_type": "stream",
          "text": [
            "[3, 4, 5, 6]\n"
          ],
          "name": "stdout"
        }
      ]
    },
    {
      "cell_type": "code",
      "metadata": {
        "colab": {
          "base_uri": "https://localhost:8080/"
        },
        "id": "J3uHim7JcHOc",
        "outputId": "bd55071b-1ab2-4502-9826-223b7e86eaa5"
      },
      "source": [
        "a = [0,1,2,3,4,5,6,7,8,9]\n",
        "print(a[:7])"
      ],
      "execution_count": null,
      "outputs": [
        {
          "output_type": "stream",
          "text": [
            "[0, 1, 2, 3, 4, 5, 6]\n"
          ],
          "name": "stdout"
        }
      ]
    },
    {
      "cell_type": "code",
      "metadata": {
        "colab": {
          "base_uri": "https://localhost:8080/"
        },
        "id": "pJPF6VDMcKSs",
        "outputId": "044eced6-686d-4415-cc54-61388b58a6a0"
      },
      "source": [
        "a = [0,1,2,3,4,5,6,7,8,9]\n",
        "print(a[3:])"
      ],
      "execution_count": null,
      "outputs": [
        {
          "output_type": "stream",
          "text": [
            "[3, 4, 5, 6, 7, 8, 9]\n"
          ],
          "name": "stdout"
        }
      ]
    },
    {
      "cell_type": "code",
      "metadata": {
        "colab": {
          "base_uri": "https://localhost:8080/"
        },
        "id": "lNdqQKSmcMRV",
        "outputId": "66957c43-7611-40a8-e1df-9baf9566510d"
      },
      "source": [
        "a = [0,1,2,3,4,5,6,7,8,9]\n",
        "print(a[:])"
      ],
      "execution_count": null,
      "outputs": [
        {
          "output_type": "stream",
          "text": [
            "[0, 1, 2, 3, 4, 5, 6, 7, 8, 9]\n"
          ],
          "name": "stdout"
        }
      ]
    },
    {
      "cell_type": "markdown",
      "metadata": {
        "id": "8e3WLzBQmnVG"
      },
      "source": [
        "### append()"
      ]
    },
    {
      "cell_type": "code",
      "metadata": {
        "id": "ASNCgRXQmkxA",
        "colab": {
          "base_uri": "https://localhost:8080/",
          "height": 52
        },
        "outputId": "d963875a-e4b1-4225-a99d-6d1656d8a852"
      },
      "source": [
        "l = [0,1,2,3]\n",
        "print(l)\n",
        "l.append(4)\n",
        "print(l)"
      ],
      "execution_count": null,
      "outputs": [
        {
          "output_type": "stream",
          "text": [
            "[0, 1, 2, 3]\n",
            "[0, 1, 2, 3, 4]\n"
          ],
          "name": "stdout"
        }
      ]
    },
    {
      "cell_type": "markdown",
      "metadata": {
        "id": "pzCBtLQdmwE_"
      },
      "source": [
        "### Quiz. 0~20까지 홀수만 리스트에 담기"
      ]
    },
    {
      "cell_type": "code",
      "metadata": {
        "id": "Lol3rT0tm03M",
        "colab": {
          "base_uri": "https://localhost:8080/",
          "height": 35
        },
        "outputId": "e86c2feb-9ce4-4d12-9701-43e425b2ba32"
      },
      "source": [
        "l = []\n",
        "for i in range(21):\n",
        "  if not is_even(i):\n",
        "    l.append(i)\n",
        "print(l)    "
      ],
      "execution_count": null,
      "outputs": [
        {
          "output_type": "stream",
          "text": [
            "[1, 3, 5, 7, 9, 11, 13, 15, 17, 19]\n"
          ],
          "name": "stdout"
        }
      ]
    },
    {
      "cell_type": "markdown",
      "metadata": {
        "id": "X7sWInhNpN-y"
      },
      "source": [
        "### insert()"
      ]
    },
    {
      "cell_type": "code",
      "metadata": {
        "id": "ZJgXxwqdmvhu",
        "colab": {
          "base_uri": "https://localhost:8080/",
          "height": 35
        },
        "outputId": "185dd727-5d8e-4e69-cc0a-1d9e4dd58978"
      },
      "source": [
        "l = [0,1,2,3,4]\n",
        "l.insert(1,9)\n",
        "print(l)"
      ],
      "execution_count": null,
      "outputs": [
        {
          "output_type": "stream",
          "text": [
            "[0, 9, 1, 2, 3, 4]\n"
          ],
          "name": "stdout"
        }
      ]
    },
    {
      "cell_type": "markdown",
      "metadata": {
        "id": "YfyYp1-4qDlB"
      },
      "source": [
        "### remove()"
      ]
    },
    {
      "cell_type": "code",
      "metadata": {
        "id": "EbM3WrY8qJbB",
        "colab": {
          "base_uri": "https://localhost:8080/",
          "height": 35
        },
        "outputId": "c3dab4ed-925b-40c5-f358-2569cf01ac47"
      },
      "source": [
        "l = [0,1,2,3,4]\n",
        "l.remove(1)\n",
        "print(l)"
      ],
      "execution_count": null,
      "outputs": [
        {
          "output_type": "stream",
          "text": [
            "[0, 2, 3, 4]\n"
          ],
          "name": "stdout"
        }
      ]
    },
    {
      "cell_type": "markdown",
      "metadata": {
        "id": "diHfiaPiqYb7"
      },
      "source": [
        "### pop()\n"
      ]
    },
    {
      "cell_type": "code",
      "metadata": {
        "id": "Rx9u1V-wqiz-",
        "colab": {
          "base_uri": "https://localhost:8080/",
          "height": 52
        },
        "outputId": "526d6517-32b5-43af-9070-37cf7f7540a3"
      },
      "source": [
        "l = [0,1,2,3,4]\n",
        "n = l.pop(1)\n",
        "print(n)\n",
        "print(l)"
      ],
      "execution_count": null,
      "outputs": [
        {
          "output_type": "stream",
          "text": [
            "1\n",
            "[0, 2, 3, 4]\n"
          ],
          "name": "stdout"
        }
      ]
    },
    {
      "cell_type": "markdown",
      "metadata": {
        "id": "DjhxZ1CDpe1i"
      },
      "source": [
        "### reverse()"
      ]
    },
    {
      "cell_type": "code",
      "metadata": {
        "id": "-JeE3LhUphFw",
        "colab": {
          "base_uri": "https://localhost:8080/",
          "height": 35
        },
        "outputId": "8390e650-74c0-4ce4-c1ad-ce3f05965d63"
      },
      "source": [
        "l = [0,1,2,3,4]\n",
        "l.reverse()\n",
        "print(l)"
      ],
      "execution_count": null,
      "outputs": [
        {
          "output_type": "stream",
          "text": [
            "[4, 3, 2, 1, 0]\n"
          ],
          "name": "stdout"
        }
      ]
    },
    {
      "cell_type": "markdown",
      "metadata": {
        "id": "ANpwY_aJpmG1"
      },
      "source": [
        "### sort()"
      ]
    },
    {
      "cell_type": "code",
      "metadata": {
        "id": "h2cI4_drpoha",
        "colab": {
          "base_uri": "https://localhost:8080/",
          "height": 35
        },
        "outputId": "6d92038a-4e8d-44ae-9c3b-0ebf6edf05b2"
      },
      "source": [
        "l = [3,1,4,2,0]\n",
        "l.sort()\n",
        "print(l)"
      ],
      "execution_count": null,
      "outputs": [
        {
          "output_type": "stream",
          "text": [
            "[0, 1, 2, 3, 4]\n"
          ],
          "name": "stdout"
        }
      ]
    },
    {
      "cell_type": "markdown",
      "metadata": {
        "id": "16WUmrj9fTlz"
      },
      "source": [
        "### Quiz. 사용자가 입력한 숫자 중, 3의 배수의 총합과 평균\n",
        "\n",
        "- 빈값을 입력하면 입력 종료\n",
        "\n",
        "```\n",
        "while loop\n",
        "  입력 받기\n",
        "  빈문자열이면 break\n",
        "  리스트에 담기\n",
        "  \n",
        "리스트 loop\n",
        "  int 변환\n",
        "  3의 배수 체크\n",
        "    리스트에 담기\n",
        "\n",
        "리스트 loop\n",
        "  총합에 담기\n",
        "평균 구하기\n",
        "```"
      ]
    },
    {
      "cell_type": "code",
      "metadata": {
        "id": "8KJ1nZV-fqaX",
        "colab": {
          "base_uri": "https://localhost:8080/",
          "height": 190
        },
        "outputId": "49401f47-55c0-4de1-a06f-19757f64f7d7"
      },
      "source": [
        "n0 = []\n",
        "while True:\n",
        "  i = input()\n",
        "  if i==\"\":\n",
        "    break\n",
        "  n0.append(int(i))\n",
        "print(n0)\n",
        "\n",
        "n = []\n",
        "for i in n0:\n",
        "  if i%3 == 0:\n",
        "    n.append(i)\n",
        "print(n)\n",
        "\n",
        "s = 0\n",
        "for i in n:\n",
        "  s = s + i\n",
        "mean = s/len(n)\n",
        "print(s, mean)"
      ],
      "execution_count": null,
      "outputs": [
        {
          "output_type": "stream",
          "text": [
            "1\n",
            "2\n",
            "3\n",
            "4\n",
            "5\n",
            "6\n",
            "\n",
            "[1, 2, 3, 4, 5, 6]\n",
            "[3, 6]\n",
            "9 4.5\n"
          ],
          "name": "stdout"
        }
      ]
    },
    {
      "cell_type": "markdown",
      "metadata": {
        "id": "jzk1ADjWffjh"
      },
      "source": [
        "### Quiz. 위 퀴즈에서 입력 개수를 최대 10개로\n",
        "\n",
        "- 받을 수 있는 갯수의 총 개수는 10개가 최대\n",
        "\n"
      ]
    },
    {
      "cell_type": "code",
      "metadata": {
        "id": "quiL3Rwpfxsr",
        "colab": {
          "base_uri": "https://localhost:8080/",
          "height": 242
        },
        "outputId": "c8f3c368-7f68-4c94-b2a3-c852215a9a32"
      },
      "source": [
        "n0 = []\n",
        "while len(n0)<10:\n",
        "  i = input()\n",
        "  if i==\"\":\n",
        "    break\n",
        "  n0.append(int(i))\n",
        "print(n0)\n",
        "\n",
        "n = []\n",
        "for i in n0:\n",
        "  if i%3 == 0:\n",
        "    n.append(i)\n",
        "print(n)\n",
        "\n",
        "s = 0\n",
        "for i in n:\n",
        "  s = s + i\n",
        "mean = s/len(n)\n",
        "print(s, mean)"
      ],
      "execution_count": null,
      "outputs": [
        {
          "output_type": "stream",
          "text": [
            "1\n",
            "2\n",
            "3\n",
            "4\n",
            "5\n",
            "6\n",
            "7\n",
            "8\n",
            "9\n",
            "10\n",
            "[1, 2, 3, 4, 5, 6, 7, 8, 9, 10]\n",
            "[3, 6, 9]\n",
            "18 6.0\n"
          ],
          "name": "stdout"
        }
      ]
    },
    {
      "cell_type": "markdown",
      "metadata": {
        "id": "VAmwMMwjUF72"
      },
      "source": [
        "### Quiz. 작은 순 5개의 합은?\n",
        "```\n",
        "l = [ 3, 5, 1, 2, 9, 6, 2 ]\n",
        "```"
      ]
    },
    {
      "cell_type": "code",
      "metadata": {
        "colab": {
          "base_uri": "https://localhost:8080/"
        },
        "id": "MVS7THB3UUsG",
        "outputId": "6f281661-8e51-4d6c-a2b0-bbeb72a9c264"
      },
      "source": [
        "l = [ 3, 5, 1, 2, 9, 6, 2 ]\n",
        "l.sort()\n",
        "s = 0\n",
        "for i in range(3):\n",
        "  s = s + l[i]\n",
        "print(s)"
      ],
      "execution_count": null,
      "outputs": [
        {
          "output_type": "stream",
          "text": [
            "5\n"
          ],
          "name": "stdout"
        }
      ]
    },
    {
      "cell_type": "code",
      "metadata": {
        "colab": {
          "base_uri": "https://localhost:8080/"
        },
        "id": "q7X0GXkBVuvO",
        "outputId": "e83cc1b1-1013-434e-d5ec-f4a5c2989639"
      },
      "source": [
        "l = [ 3, 5, 1, 2, 9, 6, 2 ]\n",
        "l.sort()\n",
        "s = 0\n",
        "for i in range(3):\n",
        "  s += l[i]\n",
        "print(s)"
      ],
      "execution_count": null,
      "outputs": [
        {
          "output_type": "stream",
          "text": [
            "5\n"
          ],
          "name": "stdout"
        }
      ]
    },
    {
      "cell_type": "markdown",
      "metadata": {
        "id": "3gUrIw2CUkC5"
      },
      "source": [
        "### Quiz. 작은 순 10개의 합은?\n",
        "```\n",
        "l = [ 3, 5, 1, 2, 9, 6, 2 ]\n",
        "```"
      ]
    },
    {
      "cell_type": "code",
      "metadata": {
        "colab": {
          "base_uri": "https://localhost:8080/",
          "height": 218
        },
        "id": "q0WxRm5aUpbZ",
        "outputId": "0f162500-640d-482b-d231-c330523a2725"
      },
      "source": [
        "l = [ 3, 5, 1, 2, 9, 6, 2 ]\n",
        "l.sort()\n",
        "s = 0\n",
        "for i in range(10):\n",
        "  s += l[i]\n",
        "print(s)"
      ],
      "execution_count": null,
      "outputs": [
        {
          "output_type": "error",
          "ename": "IndexError",
          "evalue": "ignored",
          "traceback": [
            "\u001b[0;31m---------------------------------------------------------------------------\u001b[0m",
            "\u001b[0;31mIndexError\u001b[0m                                Traceback (most recent call last)",
            "\u001b[0;32m<ipython-input-88-e5b09b513a24>\u001b[0m in \u001b[0;36m<module>\u001b[0;34m()\u001b[0m\n\u001b[1;32m      3\u001b[0m \u001b[0msum\u001b[0m \u001b[0;34m=\u001b[0m \u001b[0;36m0\u001b[0m\u001b[0;34m\u001b[0m\u001b[0;34m\u001b[0m\u001b[0m\n\u001b[1;32m      4\u001b[0m \u001b[0;32mfor\u001b[0m \u001b[0mi\u001b[0m \u001b[0;32min\u001b[0m \u001b[0mrange\u001b[0m\u001b[0;34m(\u001b[0m\u001b[0;36m10\u001b[0m\u001b[0;34m)\u001b[0m\u001b[0;34m:\u001b[0m\u001b[0;34m\u001b[0m\u001b[0;34m\u001b[0m\u001b[0m\n\u001b[0;32m----> 5\u001b[0;31m   \u001b[0msum\u001b[0m \u001b[0;34m+=\u001b[0m \u001b[0ml\u001b[0m\u001b[0;34m[\u001b[0m\u001b[0mi\u001b[0m\u001b[0;34m]\u001b[0m\u001b[0;34m\u001b[0m\u001b[0;34m\u001b[0m\u001b[0m\n\u001b[0m\u001b[1;32m      6\u001b[0m \u001b[0mprint\u001b[0m\u001b[0;34m(\u001b[0m\u001b[0msum\u001b[0m\u001b[0;34m)\u001b[0m\u001b[0;34m\u001b[0m\u001b[0;34m\u001b[0m\u001b[0m\n",
            "\u001b[0;31mIndexError\u001b[0m: list index out of range"
          ]
        }
      ]
    },
    {
      "cell_type": "code",
      "metadata": {
        "colab": {
          "base_uri": "https://localhost:8080/"
        },
        "id": "O7DFD9OKUuxT",
        "outputId": "bc9e03d5-b060-4dd5-aa0e-330368fb4f62"
      },
      "source": [
        "l = [ 3, 5, 1, 2, 9, 6, 2 ]\n",
        "l.sort()\n",
        "\n",
        "count = 10\n",
        "l_size = len(l)\n",
        "if count > l_size:\n",
        "  count = l_size\n",
        "\n",
        "s = 0\n",
        "for i in range(count):\n",
        "  s += l[i]\n",
        "print(s)"
      ],
      "execution_count": null,
      "outputs": [
        {
          "output_type": "stream",
          "text": [
            "28\n"
          ],
          "name": "stdout"
        }
      ]
    },
    {
      "cell_type": "code",
      "metadata": {
        "colab": {
          "base_uri": "https://localhost:8080/"
        },
        "id": "nLAmdvKsVG3-",
        "outputId": "65e53112-102a-48bf-dbac-01ed2f37f9d7"
      },
      "source": [
        "l = [ 3, 5, 1, 2, 9, 6, 2 ]\n",
        "\n",
        "s = 0\n",
        "for i in l[:10]:\n",
        "  s += i\n",
        "\n",
        "print(s)\n"
      ],
      "execution_count": null,
      "outputs": [
        {
          "output_type": "stream",
          "text": [
            "28\n"
          ],
          "name": "stdout"
        }
      ]
    },
    {
      "cell_type": "markdown",
      "metadata": {
        "id": "8BY5cb3QP3PS"
      },
      "source": [
        "### Quiz. 다음 코드를 for루프와 리스트로 개선\n",
        "```\n",
        "i = input()\n",
        "org = i\n",
        "i = float(i)\n",
        "\n",
        "base = None\n",
        "if i%8==0:\n",
        "  base = 8\n",
        "elif i%6==0:\n",
        "  base = 6\n",
        "elif i%3==0:\n",
        "  base = 3\n",
        "elif i%2==0:\n",
        "  base = 2\n",
        "\n",
        "if base!=None:\n",
        "  print(\"입력한 {}값은 {}의 배수입니다. 놀기좋은 5월입니다.\".format(org, base))\n",
        "```"
      ]
    },
    {
      "cell_type": "code",
      "metadata": {
        "colab": {
          "base_uri": "https://localhost:8080/"
        },
        "id": "oK7QDucBxRbR",
        "outputId": "77229e63-1595-4f66-88b6-2fb803302f74"
      },
      "source": [
        "i = input()\n",
        "org = i\n",
        "i = float(i)\n",
        "\n",
        "base = None\n",
        "for b in [8,6,3,2]:\n",
        "  if i%b==0:\n",
        "    base = b\n",
        "    # break\n",
        "\n",
        "if base!=None:\n",
        "  print(\"입력한 {}값은 {}의 배수입니다. 놀기좋은 5월입니다.\".format(org, base))\n"
      ],
      "execution_count": null,
      "outputs": [
        {
          "output_type": "stream",
          "text": [
            "8\n",
            "입력한 8값은 2의 배수입니다. 놀기좋은 5월입니다.\n"
          ],
          "name": "stdout"
        }
      ]
    },
    {
      "cell_type": "markdown",
      "metadata": {
        "id": "Q_L0M6eBcpJN"
      },
      "source": [
        "### 2차원 리스트"
      ]
    },
    {
      "cell_type": "code",
      "metadata": {
        "colab": {
          "base_uri": "https://localhost:8080/"
        },
        "id": "9xpR0-aacrPO",
        "outputId": "2bdfc753-94fd-475b-a91e-9f83f0c2e778"
      },
      "source": [
        "a = [ [0,1,2,3],\n",
        "      [4,5,6,7],\n",
        "      [8,9,10,11] ]\n",
        "print(a)\n",
        "print(a[1])\n",
        "print(a[1][2])"
      ],
      "execution_count": null,
      "outputs": [
        {
          "output_type": "stream",
          "text": [
            "[[0, 1, 2, 3], [4, 5, 6, 7], [8, 9, 10, 11]]\n",
            "[4, 5, 6, 7]\n",
            "6\n"
          ],
          "name": "stdout"
        }
      ]
    },
    {
      "cell_type": "markdown",
      "metadata": {
        "id": "CMeBQZGXlry6"
      },
      "source": [
        "## string, 알고보니 리스트"
      ]
    },
    {
      "cell_type": "code",
      "metadata": {
        "id": "wvAAzr-_lDxG",
        "colab": {
          "base_uri": "https://localhost:8080/",
          "height": 35
        },
        "outputId": "3856cca6-3057-46b8-9354-328c55a6f50a"
      },
      "source": [
        "s = \"abcdefghij\"\n",
        "print(s)"
      ],
      "execution_count": null,
      "outputs": [
        {
          "output_type": "stream",
          "text": [
            "abcdefghij\n"
          ],
          "name": "stdout"
        }
      ]
    },
    {
      "cell_type": "code",
      "metadata": {
        "id": "ScomGKMmlpib",
        "colab": {
          "base_uri": "https://localhost:8080/",
          "height": 35
        },
        "outputId": "a136b910-df14-480e-d41d-a562ab3e9337"
      },
      "source": [
        "print(len(s))"
      ],
      "execution_count": null,
      "outputs": [
        {
          "output_type": "stream",
          "text": [
            "10\n"
          ],
          "name": "stdout"
        }
      ]
    },
    {
      "cell_type": "code",
      "metadata": {
        "id": "M9815OKZl0ti",
        "colab": {
          "base_uri": "https://localhost:8080/",
          "height": 35
        },
        "outputId": "6886c821-52cd-4aa4-f74a-88965f16b4f0"
      },
      "source": [
        "print(s[0])"
      ],
      "execution_count": null,
      "outputs": [
        {
          "output_type": "stream",
          "text": [
            "a\n"
          ],
          "name": "stdout"
        }
      ]
    },
    {
      "cell_type": "code",
      "metadata": {
        "id": "OXqJsutWl2Ac",
        "colab": {
          "base_uri": "https://localhost:8080/",
          "height": 35
        },
        "outputId": "3d48086f-7945-4312-c048-6af228dac51d"
      },
      "source": [
        "print(s[1])"
      ],
      "execution_count": null,
      "outputs": [
        {
          "output_type": "stream",
          "text": [
            "b\n"
          ],
          "name": "stdout"
        }
      ]
    },
    {
      "cell_type": "code",
      "metadata": {
        "id": "1LY7KRGSl3ZE",
        "colab": {
          "base_uri": "https://localhost:8080/",
          "height": 35
        },
        "outputId": "c6eb1a4a-127a-4714-8343-e00e547ca051"
      },
      "source": [
        "print(s[9])"
      ],
      "execution_count": null,
      "outputs": [
        {
          "output_type": "stream",
          "text": [
            "j\n"
          ],
          "name": "stdout"
        }
      ]
    },
    {
      "cell_type": "code",
      "metadata": {
        "id": "ABcxwAmbl7IJ",
        "colab": {
          "base_uri": "https://localhost:8080/",
          "height": 165
        },
        "outputId": "da0787c4-f16b-43e8-9610-d6fe352dc37c"
      },
      "source": [
        "print(s[10])"
      ],
      "execution_count": null,
      "outputs": [
        {
          "output_type": "error",
          "ename": "IndexError",
          "evalue": "ignored",
          "traceback": [
            "\u001b[0;31m---------------------------------------------------------------------------\u001b[0m",
            "\u001b[0;31mIndexError\u001b[0m                                Traceback (most recent call last)",
            "\u001b[0;32m<ipython-input-92-0cdd5c036754>\u001b[0m in \u001b[0;36m<module>\u001b[0;34m()\u001b[0m\n\u001b[0;32m----> 1\u001b[0;31m \u001b[0mprint\u001b[0m\u001b[0;34m(\u001b[0m\u001b[0ms\u001b[0m\u001b[0;34m[\u001b[0m\u001b[0;36m10\u001b[0m\u001b[0;34m]\u001b[0m\u001b[0;34m)\u001b[0m\u001b[0;34m\u001b[0m\u001b[0;34m\u001b[0m\u001b[0m\n\u001b[0m",
            "\u001b[0;31mIndexError\u001b[0m: string index out of range"
          ]
        }
      ]
    },
    {
      "cell_type": "markdown",
      "metadata": {
        "id": "Uo0hPjRTt5YV"
      },
      "source": [
        "### upper()\n",
        "\n",
        "전부 대문자로."
      ]
    },
    {
      "cell_type": "code",
      "metadata": {
        "id": "jeRoWIgCmCjY",
        "colab": {
          "base_uri": "https://localhost:8080/",
          "height": 52
        },
        "outputId": "346c7ec2-40f4-4f5f-eb61-523b564be8cc"
      },
      "source": [
        "s = \"hello Tom. hello Jerry\"\n",
        "print(s.upper())\n",
        "print(s)"
      ],
      "execution_count": null,
      "outputs": [
        {
          "output_type": "stream",
          "text": [
            "HELLO TOM. HELLO JERRY\n",
            "hello Tom. hello Jerry\n"
          ],
          "name": "stdout"
        }
      ]
    },
    {
      "cell_type": "markdown",
      "metadata": {
        "id": "dKfXuVmxuLRn"
      },
      "source": [
        "### lower()\n",
        "\n",
        "전부 소문자로."
      ]
    },
    {
      "cell_type": "code",
      "metadata": {
        "id": "P-GFwi8sMqVW",
        "colab": {
          "base_uri": "https://localhost:8080/",
          "height": 35
        },
        "outputId": "b5de5c2e-ca20-4914-97b3-3c6edf6f5070"
      },
      "source": [
        "s = \"hello Tom. hello Jerry\"\n",
        "print(s.lower())"
      ],
      "execution_count": null,
      "outputs": [
        {
          "output_type": "stream",
          "text": [
            "hello tom. hello jerry\n"
          ],
          "name": "stdout"
        }
      ]
    },
    {
      "cell_type": "markdown",
      "metadata": {
        "id": "sCd4wxe1uMZI"
      },
      "source": [
        "### swapcase()\n",
        "\n",
        "소대문자를 서로 바꿈."
      ]
    },
    {
      "cell_type": "code",
      "metadata": {
        "id": "HlFGlZUFuNCF",
        "colab": {
          "base_uri": "https://localhost:8080/",
          "height": 35
        },
        "outputId": "0d7a81f6-9545-4331-fd06-85e7004f4556"
      },
      "source": [
        "s = \"hello Tom. hello Jerry\"\n",
        "print(s.swapcase())"
      ],
      "execution_count": null,
      "outputs": [
        {
          "output_type": "stream",
          "text": [
            "HELLO tOM. HELLO jERRY\n"
          ],
          "name": "stdout"
        }
      ]
    },
    {
      "cell_type": "markdown",
      "metadata": {
        "id": "03VTGMEVuNo_"
      },
      "source": [
        "### capitalize()\n",
        "\n",
        "맨 첫자만 대문자로. 나머지는 전부 소문자로."
      ]
    },
    {
      "cell_type": "code",
      "metadata": {
        "id": "PlADxcJduNex",
        "colab": {
          "base_uri": "https://localhost:8080/",
          "height": 35
        },
        "outputId": "e000be71-fe3a-4d7c-f0ae-a6462f4e2fcd"
      },
      "source": [
        "s = \"hello Tom. hello Jerry\"\n",
        "print(s.capitalize())"
      ],
      "execution_count": null,
      "outputs": [
        {
          "output_type": "stream",
          "text": [
            "Hello tom. hello jerry\n"
          ],
          "name": "stdout"
        }
      ]
    },
    {
      "cell_type": "markdown",
      "metadata": {
        "id": "kitAtCTnuNTe"
      },
      "source": [
        "### title()\n",
        "\n",
        "각 단어 첫 자만 대문자로. 나머지는 소문자로."
      ]
    },
    {
      "cell_type": "code",
      "metadata": {
        "id": "rP5t3jSJt-dv",
        "colab": {
          "base_uri": "https://localhost:8080/",
          "height": 35
        },
        "outputId": "cbd66618-c61f-4144-fa57-7858936010d5"
      },
      "source": [
        "s = \"hello Tom. hello Jerry\"\n",
        "print(s.title())"
      ],
      "execution_count": null,
      "outputs": [
        {
          "output_type": "stream",
          "text": [
            "Hello Tom. Hello Jerry\n"
          ],
          "name": "stdout"
        }
      ]
    },
    {
      "cell_type": "markdown",
      "metadata": {
        "id": "Rg5KIC6uucX_"
      },
      "source": [
        "### strip()\n",
        "\n",
        "앞 뒤의 빈칸(white 문자)를 제거"
      ]
    },
    {
      "cell_type": "code",
      "metadata": {
        "id": "wIxgRgz4NQZX",
        "colab": {
          "base_uri": "https://localhost:8080/",
          "height": 52
        },
        "outputId": "3990fe06-dec8-42c8-9888-5e7def89800c"
      },
      "source": [
        "s = \"  hello Tom. hello Jerry  \"\n",
        "print(\"'\"+s+\"'\")\n",
        "print(\"'\"+s.strip()+\"'\")"
      ],
      "execution_count": null,
      "outputs": [
        {
          "output_type": "stream",
          "text": [
            "'  hello Tom. hello Jerry  '\n",
            "'hello Tom. hello Jerry'\n"
          ],
          "name": "stdout"
        }
      ]
    },
    {
      "cell_type": "markdown",
      "metadata": {
        "id": "syTCdEHBudyv"
      },
      "source": [
        "### replace()\n",
        "\n",
        "문자열 바꾸기."
      ]
    },
    {
      "cell_type": "code",
      "metadata": {
        "id": "VSNRPql9Nk3B",
        "colab": {
          "base_uri": "https://localhost:8080/",
          "height": 35
        },
        "outputId": "65039e59-9275-4e27-85a7-297ae8018347"
      },
      "source": [
        "s = \"hello Tom. hello Jerry\"\n",
        "print(s.replace(\"hello\", \"hi\"))"
      ],
      "execution_count": null,
      "outputs": [
        {
          "output_type": "stream",
          "text": [
            "hi Tom. hi Jerry\n"
          ],
          "name": "stdout"
        }
      ]
    },
    {
      "cell_type": "markdown",
      "metadata": {
        "id": "00ZGwrNmudfX"
      },
      "source": [
        "### format()"
      ]
    },
    {
      "cell_type": "code",
      "metadata": {
        "id": "Uk0vZVqjOH1f",
        "colab": {
          "base_uri": "https://localhost:8080/",
          "height": 35
        },
        "outputId": "9a386e6c-c4b6-4742-b359-9425597541d4"
      },
      "source": [
        "print(\"name={}, age={}\".format(\"Tom\", 22))"
      ],
      "execution_count": null,
      "outputs": [
        {
          "output_type": "stream",
          "text": [
            "name=Tom, age=22\n"
          ],
          "name": "stdout"
        }
      ]
    },
    {
      "cell_type": "markdown",
      "metadata": {
        "id": "uu44pAEUudWm"
      },
      "source": [
        "### join()\n",
        "\n",
        "리스트의 값들을 하나의 문자열로 묶음."
      ]
    },
    {
      "cell_type": "code",
      "metadata": {
        "id": "HfkE6zgcOa6-",
        "colab": {
          "base_uri": "https://localhost:8080/",
          "height": 35
        },
        "outputId": "66347181-6265-48ab-fc7c-ac920bb7d6de"
      },
      "source": [
        "l = [ \"tom\", \"jerry\", \"철수\", \"영희\" ]\n",
        "print(\", \".join(l))"
      ],
      "execution_count": null,
      "outputs": [
        {
          "output_type": "stream",
          "text": [
            "tom, jerry, 철수, 영희\n"
          ],
          "name": "stdout"
        }
      ]
    },
    {
      "cell_type": "code",
      "metadata": {
        "id": "lpXAb0D-PIIs",
        "colab": {
          "base_uri": "https://localhost:8080/",
          "height": 35
        },
        "outputId": "87c0c928-7f46-4e4a-91c6-970b6e95942c"
      },
      "source": [
        "l = [ \"tom\", \"jerry\", \"철수\", \"영희\" ]\n",
        "print(\" \".join(l))"
      ],
      "execution_count": null,
      "outputs": [
        {
          "output_type": "stream",
          "text": [
            "tom jerry 철수 영희\n"
          ],
          "name": "stdout"
        }
      ]
    },
    {
      "cell_type": "code",
      "metadata": {
        "id": "43SrETQQPKQV",
        "colab": {
          "base_uri": "https://localhost:8080/",
          "height": 35
        },
        "outputId": "1541b5ba-4e09-4439-ab4d-8c5fd217e5ee"
      },
      "source": [
        "l = [ \"tom\", \"jerry\", \"철수\", \"영희\" ]\n",
        "print(\"\".join(l))"
      ],
      "execution_count": null,
      "outputs": [
        {
          "output_type": "stream",
          "text": [
            "tomjerry철수영희\n"
          ],
          "name": "stdout"
        }
      ]
    },
    {
      "cell_type": "markdown",
      "metadata": {
        "id": "aGOioh16udN2"
      },
      "source": [
        "### split()\n",
        "\n",
        "하나의 문자열을 특정 기호를 기준으로 분리."
      ]
    },
    {
      "cell_type": "code",
      "metadata": {
        "id": "lTR1abxiO5Qe",
        "colab": {
          "base_uri": "https://localhost:8080/",
          "height": 35
        },
        "outputId": "46006a6a-1c6d-4b98-e5a6-044993cd741c"
      },
      "source": [
        "s = \"tom, jerry, 철수, 영희\"\n",
        "l = s.split(\",\")\n",
        "print(l)"
      ],
      "execution_count": null,
      "outputs": [
        {
          "output_type": "stream",
          "text": [
            "['tom', ' jerry', ' 철수', ' 영희']\n"
          ],
          "name": "stdout"
        }
      ]
    },
    {
      "cell_type": "code",
      "metadata": {
        "id": "hPiDcEq0PDcS",
        "colab": {
          "base_uri": "https://localhost:8080/",
          "height": 35
        },
        "outputId": "37e13a42-0c45-4004-b8c9-d3bdd7d45968"
      },
      "source": [
        "s = \"tom jerry 철수 영희\"\n",
        "l = s.split(\" \")\n",
        "print(l)"
      ],
      "execution_count": null,
      "outputs": [
        {
          "output_type": "stream",
          "text": [
            "['tom', 'jerry', '철수', '영희']\n"
          ],
          "name": "stdout"
        }
      ]
    },
    {
      "cell_type": "code",
      "metadata": {
        "id": "6XZSwi3DPNTL",
        "colab": {
          "base_uri": "https://localhost:8080/",
          "height": 35
        },
        "outputId": "1ce69516-51d7-430c-b363-d3eb4bc0d707"
      },
      "source": [
        "s = \"tom, jerry, 철수, 영희\"\n",
        "l = s.split(\", \")\n",
        "print(l)"
      ],
      "execution_count": null,
      "outputs": [
        {
          "output_type": "stream",
          "text": [
            "['tom', 'jerry', '철수', '영희']\n"
          ],
          "name": "stdout"
        }
      ]
    },
    {
      "cell_type": "markdown",
      "metadata": {
        "id": "M_IBE6bHudFd"
      },
      "source": [
        "### 문자열 체크 함수들\n",
        "\n",
        "- isalnum() - 알파벳 또는 숫자인가? \n",
        "- isalpha() - 알파벳인가?\n",
        "- isdecimal() - 숫자(decimal, 10진수)인가?\n",
        "- isdigit() - 숫자(digit, 10진수)인가?\n",
        "- isidentifier() - 식별자로 사용 가능한가?\n",
        "- islower() - 소문자인가? \n",
        "- isnumeric() - 숫자인가? \n",
        "- isspace() - 공백인가? \n",
        "- istitle() - title 형식인가? (단어마다 첫 글자가 대문자인가?)\n",
        "- isupper() - 대문자인가?"
      ]
    },
    {
      "cell_type": "markdown",
      "metadata": {
        "id": "RRpF2aM4uc81"
      },
      "source": [
        "### Quiz. 입력을 받아 2배 출력. 정수가 아니면 오류 메시지 출력"
      ]
    },
    {
      "cell_type": "code",
      "metadata": {
        "id": "n9oUOw0APzbS",
        "colab": {
          "base_uri": "https://localhost:8080/",
          "height": 52
        },
        "outputId": "32427337-9000-40ff-aa6a-3f130ae03b37"
      },
      "source": [
        "i = input()\n",
        "if i.isdecimal():\n",
        "  n = float(i)\n",
        "  n = n*2\n",
        "  print(n)\n",
        "else:\n",
        "  print(\"입력값 '{}'는 숫자가 아닙니다.\".format(i))"
      ],
      "execution_count": null,
      "outputs": [
        {
          "output_type": "stream",
          "text": [
            "3\n",
            "6.0\n"
          ],
          "name": "stdout"
        }
      ]
    },
    {
      "cell_type": "markdown",
      "metadata": {
        "id": "nTBVu_KCQ_rd"
      },
      "source": [
        "### Quiz. 바로 앞 퀴즈. 소수점 처리\n",
        "\n",
        "isdecimal(), isdigit()는 소수점 '.'을 처리하지 못한다.\n",
        "예를 들어 3.5를 입력하면 숫자가 아니라고 한다.\n",
        "숫자가 되도록 처리."
      ]
    },
    {
      "cell_type": "code",
      "metadata": {
        "id": "kGniZED8PzOM",
        "colab": {
          "base_uri": "https://localhost:8080/",
          "height": 52
        },
        "outputId": "d6ed9683-e278-4cfb-da48-aa7fa9ccb44a"
      },
      "source": [
        "def is_float(s):\n",
        "  r = s.replace(\".\",\"\")\n",
        "  return r.isdecimal()\n",
        "\n",
        "i = input()\n",
        "if is_float(i):\n",
        "  n = float(i)\n",
        "  n = n*2\n",
        "  print(n)\n",
        "else:\n",
        "  print(\"입력값 '{}'는 숫자가 아닙니다.\".format(i))\n"
      ],
      "execution_count": null,
      "outputs": [
        {
          "output_type": "stream",
          "text": [
            "3.5\n",
            "7.0\n"
          ],
          "name": "stdout"
        }
      ]
    },
    {
      "cell_type": "markdown",
      "metadata": {
        "id": "iF1Jv1LHRK1U"
      },
      "source": [
        "### Quiz. 바로앞 퀴즈. 마이너스 처리\n",
        "\n",
        "앞의 코드는 '-3.5'를 처리하지 못한다. 픽스."
      ]
    },
    {
      "cell_type": "code",
      "metadata": {
        "id": "85o1VgTqSLzJ",
        "colab": {
          "base_uri": "https://localhost:8080/",
          "height": 52
        },
        "outputId": "bf29da7a-826b-4649-ea69-d184bdd3c337"
      },
      "source": [
        "def is_minus(v):\n",
        "  return v[0]==\"-\"\n",
        "\n",
        "def is_float(s):\n",
        "  r = s.replace(\".\",\"\")\n",
        "  return r.isdecimal()\n",
        "\n",
        "i = input()\n",
        "\n",
        "sign = 1\n",
        "if is_minus(i):\n",
        "  i = i.replace(\"-\",\"\")\n",
        "  sign = -1\n",
        "\n",
        "if is_float(i):\n",
        "  n = float(i)\n",
        "  n = n*2\n",
        "  n = n*sign\n",
        "  print(n)\n",
        "else:\n",
        "  print(\"입력값 '{}'는 숫자가 아닙니다.\".format(i))\n"
      ],
      "execution_count": null,
      "outputs": [
        {
          "output_type": "stream",
          "text": [
            "-3.5\n",
            "-7.0\n"
          ],
          "name": "stdout"
        }
      ]
    },
    {
      "cell_type": "markdown",
      "metadata": {
        "id": "aCxFF0f_uc06"
      },
      "source": [
        "## dict\n",
        "\n",
        "키와 값들이 담겨있다."
      ]
    },
    {
      "cell_type": "code",
      "metadata": {
        "id": "46JLPRjawO29",
        "colab": {
          "base_uri": "https://localhost:8080/",
          "height": 35
        },
        "outputId": "6716813b-2a47-4e19-cd0d-47840c2044ad"
      },
      "source": [
        "d = { \"tom\":30, \"jerry\":32, \"철수\":20, \"영희\":22 }\n",
        "print(d)"
      ],
      "execution_count": null,
      "outputs": [
        {
          "output_type": "stream",
          "text": [
            "{'tom': 30, 'jerry': 32, '철수': 20, '영희': 22}\n"
          ],
          "name": "stdout"
        }
      ]
    },
    {
      "cell_type": "code",
      "metadata": {
        "id": "BrkD41T5wOxh",
        "colab": {
          "base_uri": "https://localhost:8080/",
          "height": 35
        },
        "outputId": "140795e8-e62a-4009-f2ac-eea6bab96f2c"
      },
      "source": [
        "print(d[\"tom\"])"
      ],
      "execution_count": null,
      "outputs": [
        {
          "output_type": "stream",
          "text": [
            "30\n"
          ],
          "name": "stdout"
        }
      ]
    },
    {
      "cell_type": "code",
      "metadata": {
        "id": "EKNpdguSwOrj",
        "colab": {
          "base_uri": "https://localhost:8080/",
          "height": 35
        },
        "outputId": "27285ccf-f55d-47e7-9c54-600c91dcdbab"
      },
      "source": [
        "print(d[\"철수\"])"
      ],
      "execution_count": null,
      "outputs": [
        {
          "output_type": "stream",
          "text": [
            "20\n"
          ],
          "name": "stdout"
        }
      ]
    },
    {
      "cell_type": "code",
      "metadata": {
        "id": "uDPG-J-cxtXB",
        "colab": {
          "base_uri": "https://localhost:8080/",
          "height": 35
        },
        "outputId": "e3cbc952-e37a-44c9-9c9a-69a174009242"
      },
      "source": [
        "print(len(d))"
      ],
      "execution_count": null,
      "outputs": [
        {
          "output_type": "stream",
          "text": [
            "4\n"
          ],
          "name": "stdout"
        }
      ]
    },
    {
      "cell_type": "code",
      "metadata": {
        "id": "UxSGfhDSx7qU",
        "colab": {
          "base_uri": "https://localhost:8080/",
          "height": 35
        },
        "outputId": "c6ac3c08-6433-4aa2-a906-d7b90d0ad78e"
      },
      "source": [
        "d['tom'] = 99\n",
        "print(d)"
      ],
      "execution_count": null,
      "outputs": [
        {
          "output_type": "stream",
          "text": [
            "{'tom': 99, 'jerry': 32, '철수': 20, '영희': 22}\n"
          ],
          "name": "stdout"
        }
      ]
    },
    {
      "cell_type": "code",
      "metadata": {
        "id": "J0xaHb_qQn8o",
        "colab": {
          "base_uri": "https://localhost:8080/"
        },
        "outputId": "efa32cda-4da4-4a31-d1a8-05fa273623cf"
      },
      "source": [
        "d = { \n",
        "      \"tom\":30, \n",
        "      \"jerry\":32, \n",
        "      \"철수\":25, \n",
        "      \"영희\":27 \n",
        "     }\n",
        "print(d)"
      ],
      "execution_count": null,
      "outputs": [
        {
          "output_type": "stream",
          "text": [
            "{'tom': 30, 'jerry': 32, '철수': 25, '영희': 27}\n"
          ],
          "name": "stdout"
        }
      ]
    },
    {
      "cell_type": "markdown",
      "metadata": {
        "id": "w4JTeKOwyNH2"
      },
      "source": [
        "### Quiz. 4명의 이름과 나이를 입력받아 출력한다."
      ]
    },
    {
      "cell_type": "code",
      "metadata": {
        "id": "9UB87gVdyRlY",
        "colab": {
          "base_uri": "https://localhost:8080/",
          "height": 173
        },
        "outputId": "f680a86c-c4be-4c49-d070-e11ee7027431"
      },
      "source": [
        "d = {}\n",
        "for i in range(4):\n",
        "  name = input(\"name:\")\n",
        "  age = int(input(\"age:\"))\n",
        "  d[name] = age\n",
        "print(d)  "
      ],
      "execution_count": null,
      "outputs": [
        {
          "output_type": "stream",
          "text": [
            "name:tom\n",
            "age:30\n",
            "name:jerry\n",
            "age:32\n",
            "name:철수\n",
            "age:20\n",
            "name:영희\n",
            "age:22\n",
            "{'tom': 30, 'jerry': 32, '철수': 20, '영희': 22}\n"
          ],
          "name": "stdout"
        }
      ]
    },
    {
      "cell_type": "markdown",
      "metadata": {
        "id": "Y5mD0REKgTVD"
      },
      "source": [
        "### Quiz. 이름을 입력받아 dict에 담긴 나이를 출력\n",
        "\n",
        "```\n",
        "name2age = {'tom': 30, 'jerry': 32, '철수': 20, '영희': 22}\n",
        "```"
      ]
    },
    {
      "cell_type": "code",
      "metadata": {
        "id": "WmZzPWSqgG8c",
        "colab": {
          "base_uri": "https://localhost:8080/",
          "height": 104
        },
        "outputId": "03a56d2b-aa54-4b67-acdb-0f79e48ea827"
      },
      "source": [
        "name2age = {'tom': 30, 'jerry': 32, '철수': 20, '영희': 22}\n",
        "\n",
        "while True:\n",
        "  name = input()\n",
        "  if name==\"\":\n",
        "    break\n",
        "  print(name2age[name])"
      ],
      "execution_count": null,
      "outputs": [
        {
          "output_type": "stream",
          "text": [
            "tom\n",
            "30\n",
            "철수\n",
            "20\n",
            "\n"
          ],
          "name": "stdout"
        }
      ]
    },
    {
      "cell_type": "markdown",
      "metadata": {
        "id": "56gXTBWDxveo"
      },
      "source": [
        "### keys()"
      ]
    },
    {
      "cell_type": "code",
      "metadata": {
        "id": "1VZ93WnXwizR",
        "colab": {
          "base_uri": "https://localhost:8080/",
          "height": 35
        },
        "outputId": "e95651b1-fc49-4ca2-ffec-63ca12edc12a"
      },
      "source": [
        "print(d.keys())"
      ],
      "execution_count": null,
      "outputs": [
        {
          "output_type": "stream",
          "text": [
            "dict_keys(['tom', 'jerry', '철수', '영희'])\n"
          ],
          "name": "stdout"
        }
      ]
    },
    {
      "cell_type": "code",
      "metadata": {
        "id": "-Xi_eG5lw5T-",
        "colab": {
          "base_uri": "https://localhost:8080/",
          "height": 86
        },
        "outputId": "b9c47987-a653-4b0c-864d-9687cc6d1384"
      },
      "source": [
        "for k in d.keys():\n",
        "  print(k, d[k])"
      ],
      "execution_count": null,
      "outputs": [
        {
          "output_type": "stream",
          "text": [
            "tom 30\n",
            "jerry 32\n",
            "철수 20\n",
            "영희 22\n"
          ],
          "name": "stdout"
        }
      ]
    },
    {
      "cell_type": "markdown",
      "metadata": {
        "id": "-wN4Hxpgxx__"
      },
      "source": [
        "### values()"
      ]
    },
    {
      "cell_type": "code",
      "metadata": {
        "id": "kFegiAK6wisG",
        "colab": {
          "base_uri": "https://localhost:8080/",
          "height": 35
        },
        "outputId": "098c48ea-767f-4b72-fe46-5a70d33dec29"
      },
      "source": [
        "print(d.values())"
      ],
      "execution_count": null,
      "outputs": [
        {
          "output_type": "stream",
          "text": [
            "dict_values([30, 32, 20, 22])\n"
          ],
          "name": "stdout"
        }
      ]
    },
    {
      "cell_type": "code",
      "metadata": {
        "id": "ZFkkwBd8w9fj",
        "colab": {
          "base_uri": "https://localhost:8080/",
          "height": 86
        },
        "outputId": "7e7494bc-0ec8-46ba-cece-450662213de8"
      },
      "source": [
        "for v in d.values():\n",
        "  print(v)"
      ],
      "execution_count": null,
      "outputs": [
        {
          "output_type": "stream",
          "text": [
            "30\n",
            "32\n",
            "20\n",
            "22\n"
          ],
          "name": "stdout"
        }
      ]
    },
    {
      "cell_type": "markdown",
      "metadata": {
        "id": "XIEapwXux0AZ"
      },
      "source": [
        "### items()"
      ]
    },
    {
      "cell_type": "code",
      "metadata": {
        "id": "w1ODh-4dxHPc",
        "colab": {
          "base_uri": "https://localhost:8080/",
          "height": 35
        },
        "outputId": "c212bf0d-f272-49a5-b6fe-121fb0568cd4"
      },
      "source": [
        "print(d.items())"
      ],
      "execution_count": null,
      "outputs": [
        {
          "output_type": "stream",
          "text": [
            "dict_items([('tom', 30), ('jerry', 32), ('철수', 20), ('영희', 22)])\n"
          ],
          "name": "stdout"
        }
      ]
    },
    {
      "cell_type": "code",
      "metadata": {
        "id": "i3ZjoULwxJyL",
        "colab": {
          "base_uri": "https://localhost:8080/",
          "height": 86
        },
        "outputId": "444b78b3-79e2-4e7a-9147-d3b863418e72"
      },
      "source": [
        "for i in d.items():\n",
        "  print(i)"
      ],
      "execution_count": null,
      "outputs": [
        {
          "output_type": "stream",
          "text": [
            "('tom', 30)\n",
            "('jerry', 32)\n",
            "('철수', 20)\n",
            "('영희', 22)\n"
          ],
          "name": "stdout"
        }
      ]
    },
    {
      "cell_type": "code",
      "metadata": {
        "id": "0sJCie13xMBc",
        "colab": {
          "base_uri": "https://localhost:8080/",
          "height": 86
        },
        "outputId": "65528c96-ae2f-4113-88c5-ffa602ca7a58"
      },
      "source": [
        "for k,v in d.items():\n",
        "  print(k,v)"
      ],
      "execution_count": null,
      "outputs": [
        {
          "output_type": "stream",
          "text": [
            "tom 30\n",
            "jerry 32\n",
            "철수 20\n",
            "영희 22\n"
          ],
          "name": "stdout"
        }
      ]
    },
    {
      "cell_type": "markdown",
      "metadata": {
        "id": "GwXV_X1xQXKc"
      },
      "source": [
        "### Quiz. dict의 이름만 한줄에 1명씩 출력\n",
        "```\n",
        "{'tom': 30, 'jerry': 32, '철수': 20, '영희': 22}\n",
        "```\n",
        "\n",
        "출력\n",
        "```\n",
        "tom\n",
        "jerry\n",
        "철수\n",
        "영희\n",
        "```"
      ]
    },
    {
      "cell_type": "code",
      "metadata": {
        "colab": {
          "base_uri": "https://localhost:8080/"
        },
        "id": "FtugtKTWQeF5",
        "outputId": "6fb6c258-eaa9-4a8a-aef5-2f5192daff2a"
      },
      "source": [
        "d = {'tom': 30, 'jerry': 32, '철수': 20, '영희': 22}\n",
        "for k in d.keys():\n",
        "  print(k)"
      ],
      "execution_count": null,
      "outputs": [
        {
          "output_type": "stream",
          "text": [
            "tom\n",
            "jerry\n",
            "철수\n",
            "영희\n"
          ],
          "name": "stdout"
        }
      ]
    },
    {
      "cell_type": "markdown",
      "metadata": {
        "id": "O_y8YpDzRXAW"
      },
      "source": [
        "### Quiz. dict의 이름과 나이를 다음 포멧으로 출력\n",
        "```\n",
        "{'tom': 30, 'jerry': 32, '철수': 20, '영희': 22}\n",
        "```\n",
        "\n",
        "출력\n",
        "```\n",
        "이름 : tom, 나이 : 30\n",
        "이름 : jerry, 나이 : 32\n",
        "이름 : 철수, 나이 : 20\n",
        "이름 : 영희, 나이 : 22\n",
        "```"
      ]
    },
    {
      "cell_type": "code",
      "metadata": {
        "colab": {
          "base_uri": "https://localhost:8080/"
        },
        "id": "to5uShK9RfIn",
        "outputId": "c621dbfb-c2da-439d-b504-bd3f3ccbb652"
      },
      "source": [
        "d = {'tom': 30, 'jerry': 32, '철수': 20, '영희': 22}\n",
        "for k, v in d.items():\n",
        "  print(\"이름 : {}, 나이 : {}\".format(k, v))"
      ],
      "execution_count": null,
      "outputs": [
        {
          "output_type": "stream",
          "text": [
            "이름 : tom, 나이 : 30\n",
            "이름 : jerry, 나이 : 32\n",
            "이름 : 철수, 나이 : 20\n",
            "이름 : 영희, 나이 : 22\n"
          ],
          "name": "stdout"
        }
      ]
    },
    {
      "cell_type": "markdown",
      "metadata": {
        "id": "_vdeRyOZRyAW"
      },
      "source": [
        "### Quiz. 다음 dict에서 list ['tom', 'jerry']의 이름과 나이를 다음 포멧으로 출력\n",
        "```\n",
        "{'tom': 30, 'jerry': 32, '철수': 20, '영희': 22}\n",
        "```\n",
        "\n",
        "출력\n",
        "```\n",
        "이름 : tom, 나이 : 30\n",
        "이름 : jerry, 나이 : 32\n",
        "```"
      ]
    },
    {
      "cell_type": "code",
      "metadata": {
        "colab": {
          "base_uri": "https://localhost:8080/"
        },
        "id": "uOIH0FreTsLB",
        "outputId": "07368195-066f-4fac-b1f0-97cb1d854963"
      },
      "source": [
        "l = ['tom', 'jerry']\n",
        "d = {'tom': 30, 'jerry': 32, '철수': 20, '영희': 22}\n",
        "for name in l:\n",
        "  print(\"이름 : {}, 나이 : {}\".format(name, d[name]))"
      ],
      "execution_count": null,
      "outputs": [
        {
          "output_type": "stream",
          "text": [
            "이름 : tom, 나이 : 30\n",
            "이름 : jerry, 나이 : 32\n"
          ],
          "name": "stdout"
        }
      ]
    },
    {
      "cell_type": "markdown",
      "metadata": {
        "id": "nxDtYWdySXxb"
      },
      "source": [
        "### Quiz. 다음 dict에서 ['Tom', 'Jerry']의 이름과 나이를 소대문자 관계없이 다음 포멧으로 출력\n",
        "```\n",
        "{'tom': 30, 'jerry': 32, '철수': 20, '영희': 22}\n",
        "```\n",
        "\n",
        "출력\n",
        "```\n",
        "이름 : Tom, 나이 : 30\n",
        "이름 : Jerry, 나이 : 32\n",
        "```"
      ]
    },
    {
      "cell_type": "code",
      "metadata": {
        "colab": {
          "base_uri": "https://localhost:8080/"
        },
        "id": "nrdKYljDSM0N",
        "outputId": "590aca51-e020-43a1-815d-3735370bd242"
      },
      "source": [
        "l = ['Tom', 'Jerry']\n",
        "d = {'tom': 30, 'jerry': 32, '철수': 20, '영희': 22}\n",
        "for name in l:\n",
        "  print(\"이름 : {}, 나이 : {}\".format(name, d[name.lower()]))"
      ],
      "execution_count": null,
      "outputs": [
        {
          "output_type": "stream",
          "text": [
            "이름 : Tom, 나이 : 30\n",
            "이름 : Jerry, 나이 : 32\n"
          ],
          "name": "stdout"
        }
      ]
    },
    {
      "cell_type": "markdown",
      "metadata": {
        "id": "3H3W0X_USzLp"
      },
      "source": [
        "### Quiz. 다음 dict에서 ['Tom', 'Jerry']의 이름과 나이를 소대문자 관계없이 다음 포멧으로 출력\n",
        "```\n",
        "{'Tom': 30, 'jerry': 32, '철수': 20, '영희': 22}\n",
        "```\n",
        "\n",
        "출력\n",
        "```\n",
        "이름 : Tom, 나이 : 30\n",
        "이름 : Jerry, 나이 : 32\n",
        "```"
      ]
    },
    {
      "cell_type": "code",
      "metadata": {
        "colab": {
          "base_uri": "https://localhost:8080/"
        },
        "id": "_lffakbaTX_9",
        "outputId": "de9a4592-4237-4d6a-d95a-0000aac54950"
      },
      "source": [
        "l = ['Tom', 'Jerry']\n",
        "d = {'tom': 30, 'jerry': 32, '철수': 20, '영희': 22}\n",
        "\n",
        "lowered_d = {}\n",
        "for k, v in d.items():\n",
        "  lowered_d[k.lower()] = v\n",
        "\n",
        "for name in l:\n",
        "  print(\"이름 : {}, 나이 : {}\".format(name, lowered_d[name.lower()]))"
      ],
      "execution_count": null,
      "outputs": [
        {
          "output_type": "stream",
          "text": [
            "이름 : Tom, 나이 : 30\n",
            "이름 : Jerry, 나이 : 32\n"
          ],
          "name": "stdout"
        }
      ]
    },
    {
      "cell_type": "markdown",
      "metadata": {
        "id": "ucP9heZnyuFX"
      },
      "source": [
        "### Quiz. 나이가 30 미만인 사람들의 이름만 리스트에 담기\n",
        "\n",
        "```\n",
        "d = { \"tom\":30, \"jerry\":32, \"철수\":20, \"영희\":22 }\n",
        "```\n"
      ]
    },
    {
      "cell_type": "code",
      "metadata": {
        "id": "K-vcBNV3xWje",
        "colab": {
          "base_uri": "https://localhost:8080/",
          "height": 35
        },
        "outputId": "a0d1d2ff-45b9-41e5-c512-7ec715ed5f53"
      },
      "source": [
        "d = { \"tom\":30, \"jerry\":32, \"철수\":20, \"영희\":22 }\n",
        "l = []\n",
        "for k, v in d.items():\n",
        "  if v<30:\n",
        "    l.append(k)\n",
        "\n",
        "print(l)"
      ],
      "execution_count": null,
      "outputs": [
        {
          "output_type": "stream",
          "text": [
            "['철수', '영희']\n"
          ],
          "name": "stdout"
        }
      ]
    },
    {
      "cell_type": "markdown",
      "metadata": {
        "id": "kphsqgNYWyZD"
      },
      "source": [
        "## tuple\n",
        "\n",
        "거의 리스트와 비슷하다. \n",
        "\n",
        "단순하게 여러개를 주고 받을때 편리하다."
      ]
    },
    {
      "cell_type": "code",
      "metadata": {
        "colab": {
          "base_uri": "https://localhost:8080/"
        },
        "id": "6NIrruHxXe8-",
        "outputId": "2df1ca8f-f6ee-4620-dccc-b419014a1670"
      },
      "source": [
        "# numbers = [0,1,2,3,4,5,6,7,8,9] # 리스트 선언\n",
        "numbers = (0,1,2,3,4,5,6,7,8,9)  # 튜플 선언\n",
        "print(numbers)"
      ],
      "execution_count": null,
      "outputs": [
        {
          "output_type": "stream",
          "text": [
            "(0, 1, 2, 3, 4, 5, 6, 7, 8, 9)\n"
          ],
          "name": "stdout"
        }
      ]
    },
    {
      "cell_type": "code",
      "metadata": {
        "colab": {
          "base_uri": "https://localhost:8080/"
        },
        "id": "IGmOViQfXe9K",
        "outputId": "8e98d3cb-89f8-441e-f8d5-e1633f24f243"
      },
      "source": [
        "print(len(numbers))"
      ],
      "execution_count": null,
      "outputs": [
        {
          "output_type": "stream",
          "text": [
            "10\n"
          ],
          "name": "stdout"
        }
      ]
    },
    {
      "cell_type": "code",
      "metadata": {
        "colab": {
          "base_uri": "https://localhost:8080/"
        },
        "id": "6iqVGZPZXe9L",
        "outputId": "41acf482-1c36-4ea1-cdd8-3dc36d8c5067"
      },
      "source": [
        "print(numbers[3])"
      ],
      "execution_count": null,
      "outputs": [
        {
          "output_type": "stream",
          "text": [
            "3\n"
          ],
          "name": "stdout"
        }
      ]
    },
    {
      "cell_type": "code",
      "metadata": {
        "colab": {
          "base_uri": "https://localhost:8080/"
        },
        "id": "WyTmkazDXe9L",
        "outputId": "bf558737-4918-4e64-a280-bb990f259390"
      },
      "source": [
        "print(numbers[9])"
      ],
      "execution_count": null,
      "outputs": [
        {
          "output_type": "stream",
          "text": [
            "9\n"
          ],
          "name": "stdout"
        }
      ]
    },
    {
      "cell_type": "code",
      "metadata": {
        "colab": {
          "base_uri": "https://localhost:8080/",
          "height": 166
        },
        "id": "djhBg06pXe9L",
        "outputId": "2afe0f2c-171f-41c6-91a0-2bff0acf92e6"
      },
      "source": [
        "print(numbers[10])"
      ],
      "execution_count": null,
      "outputs": [
        {
          "output_type": "error",
          "ename": "IndexError",
          "evalue": "ignored",
          "traceback": [
            "\u001b[0;31m---------------------------------------------------------------------------\u001b[0m",
            "\u001b[0;31mIndexError\u001b[0m                                Traceback (most recent call last)",
            "\u001b[0;32m<ipython-input-138-ace1d46a592c>\u001b[0m in \u001b[0;36m<module>\u001b[0;34m()\u001b[0m\n\u001b[0;32m----> 1\u001b[0;31m \u001b[0mprint\u001b[0m\u001b[0;34m(\u001b[0m\u001b[0mnumbers\u001b[0m\u001b[0;34m[\u001b[0m\u001b[0;36m10\u001b[0m\u001b[0;34m]\u001b[0m\u001b[0;34m)\u001b[0m\u001b[0;34m\u001b[0m\u001b[0;34m\u001b[0m\u001b[0m\n\u001b[0m",
            "\u001b[0;31mIndexError\u001b[0m: tuple index out of range"
          ]
        }
      ]
    },
    {
      "cell_type": "code",
      "metadata": {
        "colab": {
          "base_uri": "https://localhost:8080/"
        },
        "id": "fUCLRQpiXe9M",
        "outputId": "9a3c4ac2-eccc-427a-8e97-1ba3ccc69048"
      },
      "source": [
        "names = (\"tom\", \"jerry\", \"철수\", \"영희\")\n",
        "print(names[0])\n",
        "print(names[1])\n",
        "print(names[2])\n",
        "print(names[3])"
      ],
      "execution_count": null,
      "outputs": [
        {
          "output_type": "stream",
          "text": [
            "tom\n",
            "jerry\n",
            "철수\n",
            "영희\n"
          ],
          "name": "stdout"
        }
      ]
    },
    {
      "cell_type": "code",
      "metadata": {
        "colab": {
          "base_uri": "https://localhost:8080/"
        },
        "id": "Ddf6IGNIXe9M",
        "outputId": "50e6ecfa-da8e-4cf7-8ad5-b283aad75434"
      },
      "source": [
        "names = (\"tom\", \"jerry\", \"철수\", \"영희\")\n",
        "for name in names:\n",
        "  print(name)"
      ],
      "execution_count": null,
      "outputs": [
        {
          "output_type": "stream",
          "text": [
            "tom\n",
            "jerry\n",
            "철수\n",
            "영희\n"
          ],
          "name": "stdout"
        }
      ]
    },
    {
      "cell_type": "code",
      "metadata": {
        "colab": {
          "base_uri": "https://localhost:8080/"
        },
        "id": "0cQuba2mXe9M",
        "outputId": "598ffbb9-8fdc-4e6e-e6f5-e537a64c1546"
      },
      "source": [
        "ages = (30, 33, 20, 22)\n",
        "for age in ages:\n",
        "  print(age)"
      ],
      "execution_count": null,
      "outputs": [
        {
          "output_type": "stream",
          "text": [
            "30\n",
            "33\n",
            "20\n",
            "22\n"
          ],
          "name": "stdout"
        }
      ]
    },
    {
      "cell_type": "markdown",
      "metadata": {
        "id": "r-OuAqTiah-5"
      },
      "source": [
        "### 값 변경 불가\n",
        "튜플인 경우 값을 변경하지 못한다."
      ]
    },
    {
      "cell_type": "code",
      "metadata": {
        "colab": {
          "base_uri": "https://localhost:8080/",
          "height": 201
        },
        "id": "Mrsuqqc7aU8A",
        "outputId": "aa03665f-8eb4-4e00-a1b4-564c9a59ef0e"
      },
      "source": [
        "ages = [30, 33, 20, 22]\n",
        "ages[0] = 15   \n",
        "\n",
        "ages = (30, 33, 20, 22)\n",
        "ages[0] = 15 # 튜플인 경우 값을 변경하지 못한다."
      ],
      "execution_count": null,
      "outputs": [
        {
          "output_type": "error",
          "ename": "TypeError",
          "evalue": "ignored",
          "traceback": [
            "\u001b[0;31m---------------------------------------------------------------------------\u001b[0m",
            "\u001b[0;31mTypeError\u001b[0m                                 Traceback (most recent call last)",
            "\u001b[0;32m<ipython-input-143-69c57064bb42>\u001b[0m in \u001b[0;36m<module>\u001b[0;34m()\u001b[0m\n\u001b[1;32m      3\u001b[0m \u001b[0;34m\u001b[0m\u001b[0m\n\u001b[1;32m      4\u001b[0m \u001b[0mages\u001b[0m \u001b[0;34m=\u001b[0m \u001b[0;34m(\u001b[0m\u001b[0;36m30\u001b[0m\u001b[0;34m,\u001b[0m \u001b[0;36m33\u001b[0m\u001b[0;34m,\u001b[0m \u001b[0;36m20\u001b[0m\u001b[0;34m,\u001b[0m \u001b[0;36m22\u001b[0m\u001b[0;34m)\u001b[0m\u001b[0;34m\u001b[0m\u001b[0;34m\u001b[0m\u001b[0m\n\u001b[0;32m----> 5\u001b[0;31m \u001b[0mages\u001b[0m\u001b[0;34m[\u001b[0m\u001b[0;36m0\u001b[0m\u001b[0;34m]\u001b[0m \u001b[0;34m=\u001b[0m \u001b[0;36m15\u001b[0m\u001b[0;34m\u001b[0m\u001b[0;34m\u001b[0m\u001b[0m\n\u001b[0m",
            "\u001b[0;31mTypeError\u001b[0m: 'tuple' object does not support item assignment"
          ]
        }
      ]
    },
    {
      "cell_type": "markdown",
      "metadata": {
        "id": "VGr-tWxxakok"
      },
      "source": [
        "이런 이유로 리스트의 append(), insert() 등등의 메소드들이 튜플에는 없다."
      ]
    },
    {
      "cell_type": "markdown",
      "metadata": {
        "id": "tMSujsRbbAxc"
      },
      "source": [
        "### 함수의 반환값이 튜플"
      ]
    },
    {
      "cell_type": "code",
      "metadata": {
        "colab": {
          "base_uri": "https://localhost:8080/"
        },
        "id": "KgUMBPWzXGUR",
        "outputId": "a7d8c3b2-4c64-44cb-ef0a-68a1cf649c05"
      },
      "source": [
        "def div_n_mod(a,b): # a를 b로 나눈 몫과 나머지를 반환\n",
        "  div = int(a/b)\n",
        "  mod = a - div*b\n",
        "  return div, mod\n",
        "\n",
        "div, mod = div_n_mod(5,3)\n",
        "print(div, mod)\n",
        "\n",
        "result = div_n_mod(5,3)\n",
        "print(type(result))\n",
        "print(result)\n",
        "print(result[0], result[1])\n",
        "\n",
        "div, mod = result\n",
        "print(div, mod)"
      ],
      "execution_count": null,
      "outputs": [
        {
          "output_type": "stream",
          "text": [
            "1 2\n",
            "<class 'tuple'>\n",
            "(1, 2)\n",
            "1 2\n",
            "1 2\n"
          ],
          "name": "stdout"
        }
      ]
    },
    {
      "cell_type": "markdown",
      "metadata": {
        "id": "TBAG4ppeaOjo"
      },
      "source": [
        "함수에서 반환되는 값이 여러개일 때는 tuple로 전달된다."
      ]
    },
    {
      "cell_type": "markdown",
      "metadata": {
        "id": "OYOqsE06a4Vh"
      },
      "source": [
        "### 요소가 1개인 튜플 정의"
      ]
    },
    {
      "cell_type": "code",
      "metadata": {
        "colab": {
          "base_uri": "https://localhost:8080/"
        },
        "id": "gYPCHgFNavdN",
        "outputId": "5234c426-cc04-42ac-8673-cf13018be301"
      },
      "source": [
        "a = (1)\n",
        "print(a)\n",
        "print(type(a))"
      ],
      "execution_count": null,
      "outputs": [
        {
          "output_type": "stream",
          "text": [
            "1\n",
            "<class 'int'>\n"
          ],
          "name": "stdout"
        }
      ]
    },
    {
      "cell_type": "code",
      "metadata": {
        "colab": {
          "base_uri": "https://localhost:8080/"
        },
        "id": "1B2OiV3-azwZ",
        "outputId": "42ce2ea5-3364-434a-fce2-7fdb2d0c5eb1"
      },
      "source": [
        "a = (1,)\n",
        "print(a)\n",
        "print(type(a))"
      ],
      "execution_count": null,
      "outputs": [
        {
          "output_type": "stream",
          "text": [
            "(1,)\n",
            "<class 'tuple'>\n"
          ],
          "name": "stdout"
        }
      ]
    },
    {
      "cell_type": "markdown",
      "metadata": {
        "id": "7D2cWbOsix0_"
      },
      "source": [
        "## set\n",
        "\n",
        "중복되지 않는 집합을 유지. 순서는 없다."
      ]
    },
    {
      "cell_type": "code",
      "metadata": {
        "colab": {
          "base_uri": "https://localhost:8080/"
        },
        "id": "1i7T6WMoF_q3",
        "outputId": "2a7da6f7-d49d-4d01-fcf8-f5950d58d6d6"
      },
      "source": [
        "s = { 1, 2, 3 } # {과 }로 표현한다.\n",
        "print(s)"
      ],
      "execution_count": null,
      "outputs": [
        {
          "output_type": "stream",
          "text": [
            "{1, 2, 3}\n"
          ],
          "name": "stdout"
        }
      ]
    },
    {
      "cell_type": "code",
      "metadata": {
        "colab": {
          "base_uri": "https://localhost:8080/"
        },
        "id": "OdEzj96QHe4n",
        "outputId": "a93f6bd7-e702-4a8f-8a89-cf9c1e2b68f5"
      },
      "source": [
        "s = { 1, 2, 3 }\n",
        "print(len(s))"
      ],
      "execution_count": null,
      "outputs": [
        {
          "output_type": "stream",
          "text": [
            "3\n"
          ],
          "name": "stdout"
        }
      ]
    },
    {
      "cell_type": "code",
      "metadata": {
        "colab": {
          "base_uri": "https://localhost:8080/"
        },
        "id": "jTuS9sdtGY3W",
        "outputId": "eb77c9aa-3b56-4acf-940d-1224742b180e"
      },
      "source": [
        "s = { 1, 2, 3, 1 } # 1이 두개 있다.\n",
        "print(s)"
      ],
      "execution_count": null,
      "outputs": [
        {
          "output_type": "stream",
          "text": [
            "{1, 2, 3}\n"
          ],
          "name": "stdout"
        }
      ]
    },
    {
      "cell_type": "markdown",
      "metadata": {
        "id": "BV99i1ePGp6j"
      },
      "source": [
        "1이 두번 들어갔어도 1개만 있다."
      ]
    },
    {
      "cell_type": "markdown",
      "metadata": {
        "id": "jLGLuvwlIOBK"
      },
      "source": [
        "### 순서 없다"
      ]
    },
    {
      "cell_type": "code",
      "metadata": {
        "colab": {
          "base_uri": "https://localhost:8080/"
        },
        "id": "eiUXhyjRGkcw",
        "outputId": "60039be7-2efd-4f31-f7a3-e564a4363775"
      },
      "source": [
        "s = { 3, 2, 1 }\n",
        "print(s)"
      ],
      "execution_count": null,
      "outputs": [
        {
          "output_type": "stream",
          "text": [
            "{1, 2, 3}\n"
          ],
          "name": "stdout"
        }
      ]
    },
    {
      "cell_type": "markdown",
      "metadata": {
        "id": "71aeFlOzGtyC"
      },
      "source": [
        "순서가 보존되지 않는다."
      ]
    },
    {
      "cell_type": "code",
      "metadata": {
        "colab": {
          "base_uri": "https://localhost:8080/",
          "height": 184
        },
        "id": "IIQqW1OXHaz_",
        "outputId": "fb69e6a1-2455-4386-e09d-4a664a4ee4ba"
      },
      "source": [
        "s = { 1, 2, 3 }\n",
        "print(s[0])"
      ],
      "execution_count": null,
      "outputs": [
        {
          "output_type": "error",
          "ename": "TypeError",
          "evalue": "ignored",
          "traceback": [
            "\u001b[0;31m---------------------------------------------------------------------------\u001b[0m",
            "\u001b[0;31mTypeError\u001b[0m                                 Traceback (most recent call last)",
            "\u001b[0;32m<ipython-input-14-525e83061665>\u001b[0m in \u001b[0;36m<module>\u001b[0;34m()\u001b[0m\n\u001b[1;32m      1\u001b[0m \u001b[0ms\u001b[0m \u001b[0;34m=\u001b[0m \u001b[0;34m{\u001b[0m \u001b[0;36m1\u001b[0m\u001b[0;34m,\u001b[0m \u001b[0;36m2\u001b[0m\u001b[0;34m,\u001b[0m \u001b[0;36m3\u001b[0m \u001b[0;34m}\u001b[0m\u001b[0;34m\u001b[0m\u001b[0;34m\u001b[0m\u001b[0m\n\u001b[0;32m----> 2\u001b[0;31m \u001b[0mprint\u001b[0m\u001b[0;34m(\u001b[0m\u001b[0ms\u001b[0m\u001b[0;34m[\u001b[0m\u001b[0;36m0\u001b[0m\u001b[0;34m]\u001b[0m\u001b[0;34m)\u001b[0m\u001b[0;34m\u001b[0m\u001b[0;34m\u001b[0m\u001b[0m\n\u001b[0m",
            "\u001b[0;31mTypeError\u001b[0m: 'set' object is not subscriptable"
          ]
        }
      ]
    },
    {
      "cell_type": "markdown",
      "metadata": {
        "id": "9UGhzsBfIJTy"
      },
      "source": [
        "### 다른 생성 방법"
      ]
    },
    {
      "cell_type": "code",
      "metadata": {
        "colab": {
          "base_uri": "https://localhost:8080/"
        },
        "id": "Xxc2C4AnG2U5",
        "outputId": "79d3a4b3-84e0-4fd2-982d-e3165e1b2047"
      },
      "source": [
        "l = [ 1, 2, 3 ] # 리스트\n",
        "s = set(l)\n",
        "print(s)"
      ],
      "execution_count": null,
      "outputs": [
        {
          "output_type": "stream",
          "text": [
            "{1, 2, 3}\n"
          ],
          "name": "stdout"
        }
      ]
    },
    {
      "cell_type": "code",
      "metadata": {
        "colab": {
          "base_uri": "https://localhost:8080/"
        },
        "id": "uWpMioF8HMM5",
        "outputId": "bb31e08c-932b-4ab5-9df6-78d193b2a15a"
      },
      "source": [
        "s = set( [1, 2, 3] )\n",
        "print(s)"
      ],
      "execution_count": null,
      "outputs": [
        {
          "output_type": "stream",
          "text": [
            "{1, 2, 3}\n"
          ],
          "name": "stdout"
        }
      ]
    },
    {
      "cell_type": "code",
      "metadata": {
        "colab": {
          "base_uri": "https://localhost:8080/"
        },
        "id": "Ci6YpOlGG-a9",
        "outputId": "7c843620-39fb-4cb7-e713-3b3eab44a3d5"
      },
      "source": [
        "t = ( 1, 2, 3)  # 튜플\n",
        "s = set(t)\n",
        "print(s)"
      ],
      "execution_count": null,
      "outputs": [
        {
          "output_type": "stream",
          "text": [
            "{1, 2, 3}\n"
          ],
          "name": "stdout"
        }
      ]
    },
    {
      "cell_type": "code",
      "metadata": {
        "colab": {
          "base_uri": "https://localhost:8080/"
        },
        "id": "NkVXzWecHQNY",
        "outputId": "8bcd4ec7-0530-446a-9673-5d2e66b76dd3"
      },
      "source": [
        "s = set( (1, 2, 3) )\n",
        "print(s)"
      ],
      "execution_count": null,
      "outputs": [
        {
          "output_type": "stream",
          "text": [
            "{1, 2, 3}\n"
          ],
          "name": "stdout"
        }
      ]
    },
    {
      "cell_type": "code",
      "metadata": {
        "colab": {
          "base_uri": "https://localhost:8080/"
        },
        "id": "6at-KW6RH1Vi",
        "outputId": "8b1da2a8-4cfc-429b-b687-4ae867d53932"
      },
      "source": [
        "s = { \"a\", \"b\", \"c\" }\n",
        "print(s)"
      ],
      "execution_count": null,
      "outputs": [
        {
          "output_type": "stream",
          "text": [
            "{'a', 'b', 'c'}\n"
          ],
          "name": "stdout"
        }
      ]
    },
    {
      "cell_type": "code",
      "metadata": {
        "colab": {
          "base_uri": "https://localhost:8080/"
        },
        "id": "a7cf6SpPH8Ig",
        "outputId": "fdb78c15-9d1f-4117-80ae-42f0c4ae04c3"
      },
      "source": [
        "s = { 1, 2, 3, \"a\", \"b\", \"c\" }\n",
        "print(s)"
      ],
      "execution_count": null,
      "outputs": [
        {
          "output_type": "stream",
          "text": [
            "{1, 2, 3, 'b', 'c', 'a'}\n"
          ],
          "name": "stdout"
        }
      ]
    },
    {
      "cell_type": "markdown",
      "metadata": {
        "id": "o3lm63fOJDN5"
      },
      "source": [
        "### 요소 추가/삭제"
      ]
    },
    {
      "cell_type": "code",
      "metadata": {
        "colab": {
          "base_uri": "https://localhost:8080/"
        },
        "id": "Q8QDzjOlIteH",
        "outputId": "100c778d-4727-4def-811b-770f3d36e434"
      },
      "source": [
        "s = set()\n",
        "s.add(1)\n",
        "s.add(2)\n",
        "print(s)"
      ],
      "execution_count": null,
      "outputs": [
        {
          "output_type": "stream",
          "text": [
            "{1, 2}\n"
          ],
          "name": "stdout"
        }
      ]
    },
    {
      "cell_type": "code",
      "metadata": {
        "colab": {
          "base_uri": "https://localhost:8080/"
        },
        "id": "TmXdjzAiJG9R",
        "outputId": "c5fb58c9-cd6b-49a8-c06f-17c4683df9b9"
      },
      "source": [
        "s = { 1, 2, 3 }\n",
        "print(s)\n",
        "s.discard(2)\n",
        "print(s)"
      ],
      "execution_count": null,
      "outputs": [
        {
          "output_type": "stream",
          "text": [
            "{1, 2, 3}\n",
            "{1, 3}\n"
          ],
          "name": "stdout"
        }
      ]
    },
    {
      "cell_type": "code",
      "metadata": {
        "colab": {
          "base_uri": "https://localhost:8080/"
        },
        "id": "tzfX2WxFKOum",
        "outputId": "95bbd9cd-142d-47a5-8a50-a931f9208c77"
      },
      "source": [
        "s = { 1, 2, 3 }\n",
        "print(s)\n",
        "\n",
        "# s.add( [ 4, 5, 6] ) # ERROR\n",
        "s.update( [ 4, 5, 6] )\n",
        "print(s)\n"
      ],
      "execution_count": null,
      "outputs": [
        {
          "output_type": "stream",
          "text": [
            "{1, 2, 3}\n",
            "{1, 2, 3, 4, 5, 6}\n"
          ],
          "name": "stdout"
        }
      ]
    },
    {
      "cell_type": "markdown",
      "metadata": {
        "id": "icQqr-4eIjR8"
      },
      "source": [
        "### 합집합, 교집합, 차집합"
      ]
    },
    {
      "cell_type": "code",
      "metadata": {
        "colab": {
          "base_uri": "https://localhost:8080/"
        },
        "id": "GzP1BqksHuof",
        "outputId": "74e961a5-5306-4a5a-caa1-892fd2fd1fd9"
      },
      "source": [
        "s1 = { 1, 2, 3 }\n",
        "s2 = { 3, 4, 5 }\n",
        "print(s1|s2) # 합집합"
      ],
      "execution_count": null,
      "outputs": [
        {
          "output_type": "stream",
          "text": [
            "{1, 2, 3, 4, 5}\n"
          ],
          "name": "stdout"
        }
      ]
    },
    {
      "cell_type": "code",
      "metadata": {
        "colab": {
          "base_uri": "https://localhost:8080/"
        },
        "id": "KORUZFvtHnMZ",
        "outputId": "8194f4e9-7b3b-4466-f266-fb50987f85a5"
      },
      "source": [
        "s1 = { 1, 2, 3 }\n",
        "s2 = { 3, 4, 5 }\n",
        "print(s1&s2) # 교집합"
      ],
      "execution_count": null,
      "outputs": [
        {
          "output_type": "stream",
          "text": [
            "{3}\n"
          ],
          "name": "stdout"
        }
      ]
    },
    {
      "cell_type": "code",
      "metadata": {
        "colab": {
          "base_uri": "https://localhost:8080/"
        },
        "id": "5QJb3aSaKEDS",
        "outputId": "956bc1c0-494b-4add-bc89-be90b6f248a7"
      },
      "source": [
        "s1 = { 1, 2, 3 }\n",
        "s2 = { 3, 4, 5 }\n",
        "print(s1-s2) # 차집합"
      ],
      "execution_count": null,
      "outputs": [
        {
          "output_type": "stream",
          "text": [
            "{1, 2}\n"
          ],
          "name": "stdout"
        }
      ]
    },
    {
      "cell_type": "markdown",
      "metadata": {
        "id": "EgyMDtGlNerw"
      },
      "source": [
        "## 한눈에 보기"
      ]
    },
    {
      "cell_type": "code",
      "metadata": {
        "colab": {
          "base_uri": "https://localhost:8080/"
        },
        "id": "NZQ4vkWtNiD5",
        "outputId": "b8a04b29-5677-49c9-9380-5fbc27c8272a"
      },
      "source": [
        "l = [ 1, 2, 3 ]\n",
        "t = ( 1, 2, 3 )\n",
        "s = { 1, 2, 3 }\n",
        "d = { \"a\":1, \"b\":2, \"c\":3 }\n",
        "print(l)\n",
        "print(t)\n",
        "print(s)\n",
        "print(d)"
      ],
      "execution_count": null,
      "outputs": [
        {
          "output_type": "stream",
          "text": [
            "[1, 2, 3]\n",
            "(1, 2, 3)\n",
            "{1, 2, 3}\n",
            "{'a': 1, 'b': 2, 'c': 3}\n"
          ],
          "name": "stdout"
        }
      ]
    },
    {
      "cell_type": "code",
      "metadata": {
        "colab": {
          "base_uri": "https://localhost:8080/"
        },
        "id": "23047cMDNsPp",
        "outputId": "c86aac38-ec90-4616-e361-36101c889939"
      },
      "source": [
        "l = list()\n",
        "l.append(1)\n",
        "l.append(2)\n",
        "l.append(3)\n",
        "print(l)\n",
        "l.remove(1)\n",
        "print(l)\n",
        "\n",
        "l = list([1,2,3])\n",
        "print(l)"
      ],
      "execution_count": null,
      "outputs": [
        {
          "output_type": "stream",
          "text": [
            "[1, 2, 3]\n",
            "[2, 3]\n",
            "[1, 2, 3]\n"
          ],
          "name": "stdout"
        }
      ]
    },
    {
      "cell_type": "code",
      "metadata": {
        "colab": {
          "base_uri": "https://localhost:8080/"
        },
        "id": "7oUHsFd5N1Ml",
        "outputId": "ced21af7-374e-4a83-b40b-ecaaaa0b0be0"
      },
      "source": [
        "t = tuple()\n",
        "# 추가 불가능\n",
        "# 삭제 불가능\n",
        "print(t)\n",
        "\n",
        "t = tuple([1, 2, 3])\n",
        "print(t)"
      ],
      "execution_count": null,
      "outputs": [
        {
          "output_type": "stream",
          "text": [
            "()\n",
            "(1, 2, 3)\n"
          ],
          "name": "stdout"
        }
      ]
    },
    {
      "cell_type": "code",
      "metadata": {
        "colab": {
          "base_uri": "https://localhost:8080/"
        },
        "id": "i58c1u8ROMye",
        "outputId": "a83bd964-36ed-41ac-db49-957ad5f6270c"
      },
      "source": [
        "s = set()\n",
        "s.add(1)\n",
        "s.add(2)\n",
        "s.add(3)\n",
        "print(s)\n",
        "s.discard(1)\n",
        "print(s)\n",
        "\n",
        "s = set([1, 2, 3])\n",
        "print(s)"
      ],
      "execution_count": null,
      "outputs": [
        {
          "output_type": "stream",
          "text": [
            "{1, 2, 3}\n",
            "{2, 3}\n",
            "{1, 2, 3}\n"
          ],
          "name": "stdout"
        }
      ]
    },
    {
      "cell_type": "code",
      "metadata": {
        "colab": {
          "base_uri": "https://localhost:8080/"
        },
        "id": "45gS5-SnOVax",
        "outputId": "5a3a9728-7873-491d-d52b-17693609cb63"
      },
      "source": [
        "d = dict()\n",
        "d[\"a\"] = 1\n",
        "d[\"b\"] = 2\n",
        "d[\"c\"] = 3\n",
        "print(d) \n",
        "d.pop(\"a\")\n",
        "print(d)\n",
        "\n",
        "d = { \"a\":1, \"b\":2, \"c\":3 }\n",
        "print(d)"
      ],
      "execution_count": null,
      "outputs": [
        {
          "output_type": "stream",
          "text": [
            "{'a': 1, 'b': 2, 'c': 3}\n",
            "{'b': 2, 'c': 3}\n",
            "{'a': 1, 'b': 2, 'c': 3}\n"
          ],
          "name": "stdout"
        }
      ]
    },
    {
      "cell_type": "markdown",
      "metadata": {
        "id": "0hZbW-erLd5-"
      },
      "source": [
        "## 자료형 간 변환"
      ]
    },
    {
      "cell_type": "markdown",
      "metadata": {
        "id": "4dXotVT1MLQz"
      },
      "source": [
        "### list()"
      ]
    },
    {
      "cell_type": "code",
      "metadata": {
        "colab": {
          "base_uri": "https://localhost:8080/"
        },
        "id": "Ku3ylhUmMXv1",
        "outputId": "901da2ca-5793-4a7b-85ff-d8ddb6975e22"
      },
      "source": [
        "t = ( 1, 2, 3 )\n",
        "l = list(t)\n",
        "print(l)"
      ],
      "execution_count": null,
      "outputs": [
        {
          "output_type": "stream",
          "text": [
            "[1, 2, 3]\n"
          ],
          "name": "stdout"
        }
      ]
    },
    {
      "cell_type": "code",
      "metadata": {
        "colab": {
          "base_uri": "https://localhost:8080/"
        },
        "id": "8Bog4171L9ue",
        "outputId": "ad408161-7b05-4268-bcb9-4c69196591bd"
      },
      "source": [
        "d = { 'a':1, 'b':2, 'c':3 }\n",
        "l = list(d)\n",
        "print(l)\n",
        "\n",
        "l = list(d.keys())\n",
        "print(l)\n",
        "\n",
        "l = list(d.values())\n",
        "print(l)"
      ],
      "execution_count": null,
      "outputs": [
        {
          "output_type": "stream",
          "text": [
            "['a', 'b', 'c']\n",
            "['a', 'b', 'c']\n",
            "[1, 2, 3]\n"
          ],
          "name": "stdout"
        }
      ]
    },
    {
      "cell_type": "code",
      "metadata": {
        "colab": {
          "base_uri": "https://localhost:8080/"
        },
        "id": "xjILxfNHL54b",
        "outputId": "4da7b0fe-cec7-4688-e33b-509396255973"
      },
      "source": [
        "s = { 1, 2, 3 }\n",
        "l = list(s)\n",
        "print(l)"
      ],
      "execution_count": null,
      "outputs": [
        {
          "output_type": "stream",
          "text": [
            "[1, 2, 3]\n"
          ],
          "name": "stdout"
        }
      ]
    },
    {
      "cell_type": "markdown",
      "metadata": {
        "id": "bQMxXUJmMGxD"
      },
      "source": [
        "### tuple()"
      ]
    },
    {
      "cell_type": "code",
      "metadata": {
        "colab": {
          "base_uri": "https://localhost:8080/"
        },
        "id": "-F-msKMRLlPV",
        "outputId": "dcfdec6c-0c6f-4217-f465-88277dcf0ba2"
      },
      "source": [
        "l = [ 1, 2, 3 ]\n",
        "t = tuple(l)\n",
        "print(t)"
      ],
      "execution_count": null,
      "outputs": [
        {
          "output_type": "stream",
          "text": [
            "(1, 2, 3)\n"
          ],
          "name": "stdout"
        }
      ]
    },
    {
      "cell_type": "code",
      "metadata": {
        "colab": {
          "base_uri": "https://localhost:8080/"
        },
        "id": "-iDYFLYOLs-T",
        "outputId": "97a6d48e-a27d-4b2c-89fe-a35b3fc54ee6"
      },
      "source": [
        "d = { 'a':1, 'b':2, 'c':3 }\n",
        "t = tuple(d)\n",
        "print(t)\n",
        "\n",
        "t = tuple(d.keys())\n",
        "print(t)\n",
        "\n",
        "t = tuple(d.values())\n",
        "print(t)"
      ],
      "execution_count": null,
      "outputs": [
        {
          "output_type": "stream",
          "text": [
            "('a', 'b', 'c')\n",
            "('a', 'b', 'c')\n",
            "(1, 2, 3)\n"
          ],
          "name": "stdout"
        }
      ]
    },
    {
      "cell_type": "code",
      "metadata": {
        "colab": {
          "base_uri": "https://localhost:8080/"
        },
        "id": "RzO5T76TLo7I",
        "outputId": "45e0269b-2ad6-4af6-d019-47549095305b"
      },
      "source": [
        "s = { 1, 2, 3 }\n",
        "t = tuple(s)\n",
        "print(t)"
      ],
      "execution_count": null,
      "outputs": [
        {
          "output_type": "stream",
          "text": [
            "(1, 2, 3)\n"
          ],
          "name": "stdout"
        }
      ]
    },
    {
      "cell_type": "markdown",
      "metadata": {
        "id": "NawcJslvMiHI"
      },
      "source": [
        "### dict()"
      ]
    },
    {
      "cell_type": "code",
      "metadata": {
        "colab": {
          "base_uri": "https://localhost:8080/",
          "height": 201
        },
        "id": "qa6Svzm9MlHo",
        "outputId": "38168fa9-67bb-46bd-fe26-ac4ace1afa61"
      },
      "source": [
        "l = [ 1, 2, 3 ]\n",
        "d = dict(l)\n",
        "print(d)"
      ],
      "execution_count": null,
      "outputs": [
        {
          "output_type": "error",
          "ename": "TypeError",
          "evalue": "ignored",
          "traceback": [
            "\u001b[0;31m---------------------------------------------------------------------------\u001b[0m",
            "\u001b[0;31mTypeError\u001b[0m                                 Traceback (most recent call last)",
            "\u001b[0;32m<ipython-input-47-1cd48df5d580>\u001b[0m in \u001b[0;36m<module>\u001b[0;34m()\u001b[0m\n\u001b[1;32m      1\u001b[0m \u001b[0ml\u001b[0m \u001b[0;34m=\u001b[0m \u001b[0;34m[\u001b[0m \u001b[0;36m1\u001b[0m\u001b[0;34m,\u001b[0m \u001b[0;36m2\u001b[0m\u001b[0;34m,\u001b[0m \u001b[0;36m3\u001b[0m \u001b[0;34m]\u001b[0m\u001b[0;34m\u001b[0m\u001b[0;34m\u001b[0m\u001b[0m\n\u001b[0;32m----> 2\u001b[0;31m \u001b[0md\u001b[0m \u001b[0;34m=\u001b[0m \u001b[0mdict\u001b[0m\u001b[0;34m(\u001b[0m\u001b[0ml\u001b[0m\u001b[0;34m)\u001b[0m\u001b[0;34m\u001b[0m\u001b[0;34m\u001b[0m\u001b[0m\n\u001b[0m\u001b[1;32m      3\u001b[0m \u001b[0mprint\u001b[0m\u001b[0;34m(\u001b[0m\u001b[0md\u001b[0m\u001b[0;34m)\u001b[0m\u001b[0;34m\u001b[0m\u001b[0;34m\u001b[0m\u001b[0m\n",
            "\u001b[0;31mTypeError\u001b[0m: cannot convert dictionary update sequence element #0 to a sequence"
          ]
        }
      ]
    },
    {
      "cell_type": "code",
      "metadata": {
        "colab": {
          "base_uri": "https://localhost:8080/",
          "height": 201
        },
        "id": "rXN2c4ynMr9q",
        "outputId": "3c379da8-5f8a-42e8-f88f-3ef3fea6ecd0"
      },
      "source": [
        "t = ( 1, 2, 3 )\n",
        "d = dict(t)\n",
        "print(d)"
      ],
      "execution_count": null,
      "outputs": [
        {
          "output_type": "error",
          "ename": "TypeError",
          "evalue": "ignored",
          "traceback": [
            "\u001b[0;31m---------------------------------------------------------------------------\u001b[0m",
            "\u001b[0;31mTypeError\u001b[0m                                 Traceback (most recent call last)",
            "\u001b[0;32m<ipython-input-48-cb6d300975e0>\u001b[0m in \u001b[0;36m<module>\u001b[0;34m()\u001b[0m\n\u001b[1;32m      1\u001b[0m \u001b[0mt\u001b[0m \u001b[0;34m=\u001b[0m \u001b[0;34m(\u001b[0m \u001b[0;36m1\u001b[0m\u001b[0;34m,\u001b[0m \u001b[0;36m2\u001b[0m\u001b[0;34m,\u001b[0m \u001b[0;36m3\u001b[0m \u001b[0;34m)\u001b[0m\u001b[0;34m\u001b[0m\u001b[0;34m\u001b[0m\u001b[0m\n\u001b[0;32m----> 2\u001b[0;31m \u001b[0md\u001b[0m \u001b[0;34m=\u001b[0m \u001b[0mdict\u001b[0m\u001b[0;34m(\u001b[0m\u001b[0mt\u001b[0m\u001b[0;34m)\u001b[0m\u001b[0;34m\u001b[0m\u001b[0;34m\u001b[0m\u001b[0m\n\u001b[0m\u001b[1;32m      3\u001b[0m \u001b[0mprint\u001b[0m\u001b[0;34m(\u001b[0m\u001b[0md\u001b[0m\u001b[0;34m)\u001b[0m\u001b[0;34m\u001b[0m\u001b[0;34m\u001b[0m\u001b[0m\n",
            "\u001b[0;31mTypeError\u001b[0m: cannot convert dictionary update sequence element #0 to a sequence"
          ]
        }
      ]
    },
    {
      "cell_type": "code",
      "metadata": {
        "colab": {
          "base_uri": "https://localhost:8080/",
          "height": 201
        },
        "id": "uffy1yE1MxaW",
        "outputId": "7ee4ce18-e7f6-45b8-ccfc-6216e7760956"
      },
      "source": [
        "s = { 1, 2, 3 }\n",
        "d = dict(s)\n",
        "print(d)"
      ],
      "execution_count": null,
      "outputs": [
        {
          "output_type": "error",
          "ename": "TypeError",
          "evalue": "ignored",
          "traceback": [
            "\u001b[0;31m---------------------------------------------------------------------------\u001b[0m",
            "\u001b[0;31mTypeError\u001b[0m                                 Traceback (most recent call last)",
            "\u001b[0;32m<ipython-input-49-5cf32f210c7f>\u001b[0m in \u001b[0;36m<module>\u001b[0;34m()\u001b[0m\n\u001b[1;32m      1\u001b[0m \u001b[0ms\u001b[0m \u001b[0;34m=\u001b[0m \u001b[0;34m{\u001b[0m \u001b[0;36m1\u001b[0m\u001b[0;34m,\u001b[0m \u001b[0;36m2\u001b[0m\u001b[0;34m,\u001b[0m \u001b[0;36m3\u001b[0m \u001b[0;34m}\u001b[0m\u001b[0;34m\u001b[0m\u001b[0;34m\u001b[0m\u001b[0m\n\u001b[0;32m----> 2\u001b[0;31m \u001b[0md\u001b[0m \u001b[0;34m=\u001b[0m \u001b[0mdict\u001b[0m\u001b[0;34m(\u001b[0m\u001b[0ms\u001b[0m\u001b[0;34m)\u001b[0m\u001b[0;34m\u001b[0m\u001b[0;34m\u001b[0m\u001b[0m\n\u001b[0m\u001b[1;32m      3\u001b[0m \u001b[0mprint\u001b[0m\u001b[0;34m(\u001b[0m\u001b[0md\u001b[0m\u001b[0;34m)\u001b[0m\u001b[0;34m\u001b[0m\u001b[0;34m\u001b[0m\u001b[0m\n",
            "\u001b[0;31mTypeError\u001b[0m: cannot convert dictionary update sequence element #0 to a sequence"
          ]
        }
      ]
    },
    {
      "cell_type": "markdown",
      "metadata": {
        "id": "Dl9OdhtWMjjT"
      },
      "source": [
        "### set()"
      ]
    },
    {
      "cell_type": "code",
      "metadata": {
        "colab": {
          "base_uri": "https://localhost:8080/"
        },
        "id": "THYWP6xdM1aX",
        "outputId": "1304c767-003f-48d3-8f3f-680a3bbf7015"
      },
      "source": [
        "l = [ 1, 2, 3 ]\n",
        "s = set(l)\n",
        "print(l)"
      ],
      "execution_count": null,
      "outputs": [
        {
          "output_type": "stream",
          "text": [
            "[1, 2, 3]\n"
          ],
          "name": "stdout"
        }
      ]
    },
    {
      "cell_type": "code",
      "metadata": {
        "colab": {
          "base_uri": "https://localhost:8080/"
        },
        "id": "8YXOzLB9M5UL",
        "outputId": "2ad327e0-0387-49f0-b08b-277bb73b47a1"
      },
      "source": [
        "t = ( 1, 2, 3 )\n",
        "s = set(t)\n",
        "print(s)"
      ],
      "execution_count": null,
      "outputs": [
        {
          "output_type": "stream",
          "text": [
            "{1, 2, 3}\n"
          ],
          "name": "stdout"
        }
      ]
    },
    {
      "cell_type": "code",
      "metadata": {
        "colab": {
          "base_uri": "https://localhost:8080/"
        },
        "id": "HiNQMosqM5IK",
        "outputId": "3910c245-71b3-47b0-c2f2-56adcc805650"
      },
      "source": [
        "d = { \"a\":1, \"b\":2, \"c\":3 }\n",
        "s = set(d)\n",
        "print(s)\n",
        "\n",
        "s = set(d.keys())\n",
        "print(s)\n",
        "\n",
        "s = set(d.values())\n",
        "print(s)"
      ],
      "execution_count": null,
      "outputs": [
        {
          "output_type": "stream",
          "text": [
            "{'a', 'b', 'c'}\n",
            "{'a', 'b', 'c'}\n",
            "{1, 2, 3}\n"
          ],
          "name": "stdout"
        }
      ]
    },
    {
      "cell_type": "markdown",
      "metadata": {
        "id": "71d8N68QK8To"
      },
      "source": [
        "## Quiz. 리스트에서 중복되는 것 삭제\n",
        "```\n",
        "l = [ 1, 1, 1, 2, 2, 3, 4, 4, 4 ]\n",
        "```"
      ]
    },
    {
      "cell_type": "code",
      "metadata": {
        "colab": {
          "base_uri": "https://localhost:8080/"
        },
        "id": "tmbmEDdJLN8M",
        "outputId": "988662b4-bbfb-4bbb-e70b-8f324e159b5f"
      },
      "source": [
        "l = [ 1, 1, 1, 2, 2, 3, 4, 4, 4 ]\n",
        "s = set(l)\n",
        "l = list(s)\n",
        "print(l)"
      ],
      "execution_count": null,
      "outputs": [
        {
          "output_type": "stream",
          "text": [
            "[1, 2, 3, 4]\n"
          ],
          "name": "stdout"
        }
      ]
    },
    {
      "cell_type": "markdown",
      "metadata": {
        "id": "vp-vc5H9PnJH"
      },
      "source": [
        "## Quiz. 발생 횟수 카운트\n",
        "```\n",
        "l = [ 1, 1, 1, 2, 2, 3, 4, 4, 4 ]\n",
        "```\n",
        "\n",
        "출력\n",
        "```\n",
        "1 : 3\n",
        "2 : 2\n",
        "3 : 1\n",
        "4 : 3\n",
        "```"
      ]
    },
    {
      "cell_type": "code",
      "metadata": {
        "colab": {
          "base_uri": "https://localhost:8080/",
          "height": 218
        },
        "id": "HjHIN2qKP_ua",
        "outputId": "c949a6ac-1779-491a-cc6b-ce71a9c790ca"
      },
      "source": [
        "l = [ 1, 1, 1, 2, 2, 3, 4, 4, 4 ]\n",
        "count = {}\n",
        "for i in l:\n",
        "  c = count[i]\n"
      ],
      "execution_count": null,
      "outputs": [
        {
          "output_type": "error",
          "ename": "KeyError",
          "evalue": "ignored",
          "traceback": [
            "\u001b[0;31m---------------------------------------------------------------------------\u001b[0m",
            "\u001b[0;31mKeyError\u001b[0m                                  Traceback (most recent call last)",
            "\u001b[0;32m<ipython-input-9-cced960d2271>\u001b[0m in \u001b[0;36m<module>\u001b[0;34m()\u001b[0m\n\u001b[1;32m      2\u001b[0m \u001b[0mcount\u001b[0m \u001b[0;34m=\u001b[0m \u001b[0;34m{\u001b[0m\u001b[0;34m}\u001b[0m\u001b[0;34m\u001b[0m\u001b[0;34m\u001b[0m\u001b[0m\n\u001b[1;32m      3\u001b[0m \u001b[0;32mfor\u001b[0m \u001b[0mi\u001b[0m \u001b[0;32min\u001b[0m \u001b[0ml\u001b[0m\u001b[0;34m:\u001b[0m\u001b[0;34m\u001b[0m\u001b[0;34m\u001b[0m\u001b[0m\n\u001b[0;32m----> 4\u001b[0;31m   \u001b[0mc\u001b[0m \u001b[0;34m=\u001b[0m \u001b[0mcount\u001b[0m\u001b[0;34m[\u001b[0m\u001b[0mi\u001b[0m\u001b[0;34m]\u001b[0m\u001b[0;34m\u001b[0m\u001b[0;34m\u001b[0m\u001b[0m\n\u001b[0m\u001b[1;32m      5\u001b[0m   \u001b[0mprint\u001b[0m\u001b[0;34m(\u001b[0m\u001b[0mi\u001b[0m\u001b[0;34m)\u001b[0m\u001b[0;34m\u001b[0m\u001b[0;34m\u001b[0m\u001b[0m\n",
            "\u001b[0;31mKeyError\u001b[0m: 1"
          ]
        }
      ]
    },
    {
      "cell_type": "code",
      "metadata": {
        "id": "-q1sBkxE7b-p",
        "colab": {
          "base_uri": "https://localhost:8080/",
          "height": 132
        },
        "outputId": "08c743a5-dab7-4867-e766-55e12194e0df"
      },
      "source": [
        "l = [ 1, 1, 1, 2, 2, 3, 4, 4, 4 ]\n",
        "count = {}\n",
        "\n",
        "for i in l:\n",
        "  c = 0\n",
        "  try:\n",
        "    c = count[i]\n",
        "  except:\n",
        "    pass\n",
        "  c += 1\n",
        "  count[i] = c\n",
        "\n",
        "for k, v in count.items():\n",
        "  print(\"{} : {}\".format(k, v))\n"
      ],
      "execution_count": null,
      "outputs": [
        {
          "output_type": "error",
          "ename": "SyntaxError",
          "evalue": "ignored",
          "traceback": [
            "\u001b[0;36m  File \u001b[0;32m\"<ipython-input-13-f4eccdae0cf9>\"\u001b[0;36m, line \u001b[0;32m9\u001b[0m\n\u001b[0;31m    c += 1\u001b[0m\n\u001b[0m    ^\u001b[0m\n\u001b[0;31mSyntaxError\u001b[0m\u001b[0;31m:\u001b[0m invalid syntax\n"
          ]
        }
      ]
    },
    {
      "cell_type": "code",
      "metadata": {
        "id": "yjo-cxbl75Tf",
        "colab": {
          "base_uri": "https://localhost:8080/"
        },
        "outputId": "d59dfbeb-cdca-48b1-d57e-676eb24a395b"
      },
      "source": [
        "l = [ 1, 1, 1, 2, 2, 3, 4, 4, 4 ]\n",
        "count = {}\n",
        "\n",
        "for i in l:\n",
        "  c = 0\n",
        "  if i in count:\n",
        "    c = count[i]\n",
        "  c += 1\n",
        "  count[i] = c\n",
        "\n",
        "for k, v in count.items():\n",
        "  print(\"{} : {}\".format(k, v))\n"
      ],
      "execution_count": null,
      "outputs": [
        {
          "output_type": "stream",
          "text": [
            "1 : 3\n",
            "2 : 2\n",
            "3 : 1\n",
            "4 : 3\n"
          ],
          "name": "stdout"
        }
      ]
    },
    {
      "cell_type": "code",
      "metadata": {
        "id": "obbQ0qbd8c5z",
        "colab": {
          "base_uri": "https://localhost:8080/"
        },
        "outputId": "3bb1cadc-f1b5-4482-ecb4-4be103a37d3b"
      },
      "source": [
        "l = [ 1, 1, 1, 2, 2, 3, 4, 4, 4 ]\n",
        "count = {}\n",
        "\n",
        "for i in l:\n",
        "  c = count.get(i, 0)\n",
        "  count[i] = c+1\n",
        "\n",
        "for k, v in count.items():\n",
        "  print(\"{} : {}\".format(k, v))\n"
      ],
      "execution_count": null,
      "outputs": [
        {
          "output_type": "stream",
          "text": [
            "1 : 3\n",
            "2 : 2\n",
            "3 : 1\n",
            "4 : 3\n"
          ],
          "name": "stdout"
        }
      ]
    },
    {
      "cell_type": "code",
      "metadata": {
        "id": "i7TlB-VA9CYs",
        "colab": {
          "base_uri": "https://localhost:8080/"
        },
        "outputId": "20c921e0-95d2-4d3d-c2f2-0382f2384c15"
      },
      "source": [
        "l = [ 1, 1, 1, 2, 2, 3, 4, 4, 4 ]\n",
        "count = {}\n",
        "\n",
        "for i in l:\n",
        "  count[i] = count.get(i, 0) + 1\n",
        "\n",
        "for k, v in count.items():\n",
        "  print(\"{} : {}\".format(k, v))\n"
      ],
      "execution_count": null,
      "outputs": [
        {
          "output_type": "stream",
          "text": [
            "1 : 3\n",
            "2 : 2\n",
            "3 : 1\n",
            "4 : 3\n"
          ],
          "name": "stdout"
        }
      ]
    },
    {
      "cell_type": "code",
      "metadata": {
        "id": "Z6JyEg_u8AN7",
        "colab": {
          "base_uri": "https://localhost:8080/"
        },
        "outputId": "9eaada4f-e1e9-49ee-e2cf-141d955b57a0"
      },
      "source": [
        "l = [ 1, 1, 1, 2, 2, 3, 4, 4, 4 ]\n",
        "count = {}\n",
        "\n",
        "for i in l:\n",
        "  if not i in count:\n",
        "    count[i] = 0\n",
        "  count[i] += 1\n",
        "\n",
        "for k, v in count.items():\n",
        "  print(\"{} : {}\".format(k, v))"
      ],
      "execution_count": null,
      "outputs": [
        {
          "output_type": "stream",
          "text": [
            "1 : 3\n",
            "2 : 2\n",
            "3 : 1\n",
            "4 : 3\n"
          ],
          "name": "stdout"
        }
      ]
    },
    {
      "cell_type": "markdown",
      "metadata": {
        "id": "Uo1k-VLg1n9a"
      },
      "source": [
        "# File IO"
      ]
    },
    {
      "cell_type": "markdown",
      "metadata": {
        "id": "RqbnnUPRtvGZ"
      },
      "source": [
        "## 1줄 쓰고 읽기"
      ]
    },
    {
      "cell_type": "code",
      "metadata": {
        "id": "z35Fm959zA3e"
      },
      "source": [
        "f = open(\"greeting.txt\", \"w\")\n",
        "f.write(\"hello\")\n",
        "f.close()"
      ],
      "execution_count": null,
      "outputs": []
    },
    {
      "cell_type": "code",
      "metadata": {
        "id": "I5gmY3EmsCHC",
        "colab": {
          "base_uri": "https://localhost:8080/",
          "height": 35
        },
        "outputId": "a43095d3-6f10-4dc4-d047-e05853cb0dde"
      },
      "source": [
        "f = open(\"greeting.txt\", \"r\")\n",
        "line = f.readline()\n",
        "print(line)\n",
        "f.close()"
      ],
      "execution_count": null,
      "outputs": [
        {
          "output_type": "stream",
          "text": [
            "hello\n"
          ],
          "name": "stdout"
        }
      ]
    },
    {
      "cell_type": "markdown",
      "metadata": {
        "id": "LkpdG-wFtxsb"
      },
      "source": [
        "## 2줄 쓰고 읽기"
      ]
    },
    {
      "cell_type": "code",
      "metadata": {
        "id": "CDiFRKh3sRb5"
      },
      "source": [
        "f = open(\"greeting.txt\", \"w\")\n",
        "f.write(\"hello\")\n",
        "f.write(\"hi\") # ADD\n",
        "f.close()"
      ],
      "execution_count": null,
      "outputs": []
    },
    {
      "cell_type": "code",
      "metadata": {
        "id": "GK_AX5KFsiF2",
        "colab": {
          "base_uri": "https://localhost:8080/",
          "height": 35
        },
        "outputId": "1b285bc9-fdcb-4c4f-a074-47ef7955a2ec"
      },
      "source": [
        "f = open(\"greeting.txt\", \"r\")\n",
        "line = f.readline()\n",
        "print(line)\n",
        "f.close()"
      ],
      "execution_count": null,
      "outputs": [
        {
          "output_type": "stream",
          "text": [
            "hellohi\n"
          ],
          "name": "stdout"
        }
      ]
    },
    {
      "cell_type": "code",
      "metadata": {
        "id": "DRZaRso0skQ9"
      },
      "source": [
        "f = open(\"greeting.txt\", \"w\")\n",
        "# f.write(\"hello\")\n",
        "# f.write(\"hi\")\n",
        "f.write(\"hello\\n\")\n",
        "f.write(\"hi\\n\")\n",
        "f.close()"
      ],
      "execution_count": null,
      "outputs": []
    },
    {
      "cell_type": "code",
      "metadata": {
        "id": "nrhQ9po6swEN",
        "colab": {
          "base_uri": "https://localhost:8080/",
          "height": 86
        },
        "outputId": "791d4682-ad44-47df-d880-ff96b831de59"
      },
      "source": [
        "f = open(\"greeting.txt\", \"r\")\n",
        "line = f.readline()\n",
        "print(line)\n",
        "line = f.readline() # ADD\n",
        "print(line) # ADD\n",
        "f.close()"
      ],
      "execution_count": null,
      "outputs": [
        {
          "output_type": "stream",
          "text": [
            "hello\n",
            "\n",
            "hi\n",
            "\n"
          ],
          "name": "stdout"
        }
      ]
    },
    {
      "cell_type": "code",
      "metadata": {
        "id": "5TfHROyNuLvN",
        "colab": {
          "base_uri": "https://localhost:8080/",
          "height": 52
        },
        "outputId": "2f3f3510-e193-4843-e54e-0e674e3a9725"
      },
      "source": [
        "f = open(\"greeting.txt\", \"r\")\n",
        "line = f.readline()\n",
        "line = line.strip()\n",
        "print(line)\n",
        "line = f.readline()\n",
        "line = line.strip()\n",
        "print(line)\n",
        "f.close()"
      ],
      "execution_count": null,
      "outputs": [
        {
          "output_type": "stream",
          "text": [
            "hello\n",
            "hi\n"
          ],
          "name": "stdout"
        }
      ]
    },
    {
      "cell_type": "markdown",
      "metadata": {
        "id": "pHLwYPQtt4nz"
      },
      "source": [
        "## 여러줄 읽기"
      ]
    },
    {
      "cell_type": "code",
      "metadata": {
        "id": "t_Bh80Xesx0g",
        "colab": {
          "base_uri": "https://localhost:8080/",
          "height": 52
        },
        "outputId": "ddf3baed-9253-4e80-9080-24d0387f03c8"
      },
      "source": [
        "f = open(\"greeting.txt\", \"r\")\n",
        "lines = f.readlines()\n",
        "f.close()\n",
        "for line in lines:\n",
        "  line = line.strip()\n",
        "  print(line)\n"
      ],
      "execution_count": null,
      "outputs": [
        {
          "output_type": "stream",
          "text": [
            "hello\n",
            "hi\n"
          ],
          "name": "stdout"
        }
      ]
    },
    {
      "cell_type": "markdown",
      "metadata": {
        "id": "QGIPo-lqt8dn"
      },
      "source": [
        "## 파일에 추가하기"
      ]
    },
    {
      "cell_type": "code",
      "metadata": {
        "id": "-ofPAC3ttBHx"
      },
      "source": [
        "f = open(\"greeting.txt\", \"w\")\n",
        "f.write(\"hello\\n\")\n",
        "f.write(\"hi\\n\")\n",
        "f.close()\n",
        "\n",
        "f = open(\"greeting.txt\", \"w\")\n",
        "f.write(\"HELLO\\n\")\n",
        "f.write(\"HI\\n\")\n",
        "f.close()"
      ],
      "execution_count": null,
      "outputs": []
    },
    {
      "cell_type": "code",
      "metadata": {
        "id": "PVTYEg4QuGR2",
        "colab": {
          "base_uri": "https://localhost:8080/",
          "height": 52
        },
        "outputId": "758c3f7a-27d9-4a56-a90d-71fd1fc8d74b"
      },
      "source": [
        "f = open(\"greeting.txt\", \"r\")\n",
        "lines = f.readlines()\n",
        "f.close()\n",
        "for line in lines:\n",
        "  line = line.strip()\n",
        "  print(line)\n"
      ],
      "execution_count": null,
      "outputs": [
        {
          "output_type": "stream",
          "text": [
            "HELLO\n",
            "HI\n"
          ],
          "name": "stdout"
        }
      ]
    },
    {
      "cell_type": "code",
      "metadata": {
        "id": "Dlou7T_XuGvY"
      },
      "source": [
        "f = open(\"greeting.txt\", \"w\")\n",
        "f.write(\"hello\\n\")\n",
        "f.write(\"hi\\n\")\n",
        "f.close()\n",
        "\n",
        "f = open(\"greeting.txt\", \"a\")\n",
        "f.write(\"HELLO\\n\")\n",
        "f.write(\"HI\\n\")\n",
        "f.close()"
      ],
      "execution_count": null,
      "outputs": []
    },
    {
      "cell_type": "code",
      "metadata": {
        "id": "1bZNcgHfuvDE",
        "colab": {
          "base_uri": "https://localhost:8080/",
          "height": 86
        },
        "outputId": "f25d5de9-016a-4e01-d0ca-b13168d1fa60"
      },
      "source": [
        "f = open(\"greeting.txt\", \"r\")\n",
        "lines = f.readlines()\n",
        "f.close()\n",
        "for line in lines:\n",
        "  line = line.strip()\n",
        "  print(line)\n"
      ],
      "execution_count": null,
      "outputs": [
        {
          "output_type": "stream",
          "text": [
            "hello\n",
            "hi\n",
            "HELLO\n",
            "HI\n"
          ],
          "name": "stdout"
        }
      ]
    },
    {
      "cell_type": "markdown",
      "metadata": {
        "id": "jlZn8ORxZksx"
      },
      "source": [
        "## 특정 파일 내용 출력 함수 show_file()"
      ]
    },
    {
      "cell_type": "code",
      "metadata": {
        "id": "lBegxBxAZocL"
      },
      "source": [
        "def show_file(file_name):\n",
        "  f = open(file_name, \"r\")\n",
        "  lines = f.readlines()\n",
        "  f.close()\n",
        "  for line in lines:\n",
        "    print(line.strip())"
      ],
      "execution_count": null,
      "outputs": []
    },
    {
      "cell_type": "code",
      "metadata": {
        "id": "uBlZO0iNaVG9",
        "colab": {
          "base_uri": "https://localhost:8080/",
          "height": 86
        },
        "outputId": "1072e8bf-c736-4187-916e-c1b9ca987319"
      },
      "source": [
        "show_file(\"greeting.txt\")"
      ],
      "execution_count": null,
      "outputs": [
        {
          "output_type": "stream",
          "text": [
            "hello\n",
            "hi\n",
            "HELLO\n",
            "HI\n"
          ],
          "name": "stdout"
        }
      ]
    },
    {
      "cell_type": "markdown",
      "metadata": {
        "id": "iHjUhVtDu9z3"
      },
      "source": [
        "## Quiz. 파일 greeting.txt을 읽어 대문자로 변환 출력"
      ]
    },
    {
      "cell_type": "code",
      "metadata": {
        "id": "L_LSYgFBuv0b",
        "colab": {
          "base_uri": "https://localhost:8080/",
          "height": 86
        },
        "outputId": "45a89c98-a37e-437c-dc2e-aa94ea73d001"
      },
      "source": [
        "f = open(\"greeting.txt\", \"r\")\n",
        "lines = f.readlines()\n",
        "f.close()\n",
        "\n",
        "for line in lines:\n",
        "  line = line.strip()\n",
        "  print(line.upper())\n"
      ],
      "execution_count": null,
      "outputs": [
        {
          "output_type": "stream",
          "text": [
            "HELLO\n",
            "HI\n",
            "HELLO\n",
            "HI\n"
          ],
          "name": "stdout"
        }
      ]
    },
    {
      "cell_type": "markdown",
      "metadata": {
        "id": "imsASMdrvWSL"
      },
      "source": [
        "## Quiz. 사용자 입력을 받아 파일 name.txt로 저장"
      ]
    },
    {
      "cell_type": "code",
      "metadata": {
        "id": "v3ASTZdTveJy",
        "colab": {
          "base_uri": "https://localhost:8080/",
          "height": 52
        },
        "outputId": "4384c878-f109-48a6-f975-8ab63a4d5a26"
      },
      "source": [
        " name = input()\n",
        "\n",
        "f = open(\"name.txt\", \"w\")\n",
        "f.write(name)\n",
        "f.close()\n",
        "\n",
        "show_file(\"name.txt\")"
      ],
      "execution_count": null,
      "outputs": [
        {
          "output_type": "stream",
          "text": [
            "Tom\n",
            "Tom\n"
          ],
          "name": "stdout"
        }
      ]
    },
    {
      "cell_type": "markdown",
      "metadata": {
        "id": "wJjqKD4dZPRZ"
      },
      "source": [
        "## Quiz. 사용자 입력을 2개 받아 파일 name.txt에 저장\n",
        "\n",
        "\n",
        "\n"
      ]
    },
    {
      "cell_type": "code",
      "metadata": {
        "id": "V20Y0khUZN0i",
        "colab": {
          "base_uri": "https://localhost:8080/",
          "height": 86
        },
        "outputId": "c8a8b1c4-52b4-40c2-8914-507a7122e20e"
      },
      "source": [
        "f = open(\"name.txt\", \"w\")\n",
        "\n",
        "name = input()\n",
        "f.write(name+\"\\n\")\n",
        "\n",
        "name = input()\n",
        "f.write(name+\"\\n\")\n",
        "\n",
        "f.close()\n",
        "\n",
        "\n",
        "show_file(\"name.txt\")"
      ],
      "execution_count": null,
      "outputs": [
        {
          "output_type": "stream",
          "text": [
            "Tom\n",
            "Jerry\n",
            "Tom\n",
            "Jerry\n"
          ],
          "name": "stdout"
        }
      ]
    },
    {
      "cell_type": "markdown",
      "metadata": {
        "id": "eYSkaGNRau4Q"
      },
      "source": [
        "## Quiz. 사용자 입력을 계속 받아 파일 name.txt에 저장\n",
        "\n",
        "빈 줄을 입력하면 입력 받는 것을 중지한다."
      ]
    },
    {
      "cell_type": "code",
      "metadata": {
        "id": "Wqs-kdvUccgu",
        "colab": {
          "base_uri": "https://localhost:8080/",
          "height": 173
        },
        "outputId": "824562b6-47c7-4f4d-a91f-906d357cb799"
      },
      "source": [
        "names = []\n",
        "while True:\n",
        "  name = input()\n",
        "  if(name == \"\"):\n",
        "    break\n",
        "  names.append(name)\n",
        "\n",
        "f = open(\"name.txt\", \"w\")\n",
        "for name in names:\n",
        "  f.write(name+\"\\n\")\n",
        "f.close()\n",
        "\n",
        "show_file(\"name.txt\")\n"
      ],
      "execution_count": null,
      "outputs": [
        {
          "output_type": "stream",
          "text": [
            "Tom\n",
            "Jerry\n",
            "철수\n",
            "영희\n",
            "\n",
            "Tom\n",
            "Jerry\n",
            "철수\n",
            "영희\n"
          ],
          "name": "stdout"
        }
      ]
    },
    {
      "cell_type": "markdown",
      "metadata": {
        "id": "UJOMU7XovQZC"
      },
      "source": [
        "## Quiz. 이름과 나이를 입력받아 people.txt 파일로 저장\n",
        "\n",
        "한줄에 이름과 나이를 저장. 이름과 나이는 컴파(',')로 구분\n",
        "\n",
        "빈칸을 입력 받으면 입력 중지"
      ]
    },
    {
      "cell_type": "code",
      "metadata": {
        "id": "BGAXUzSavL4V",
        "colab": {
          "base_uri": "https://localhost:8080/",
          "height": 242
        },
        "outputId": "def0602c-bd7d-4b7b-d525-5feaa69f12c0"
      },
      "source": [
        "f = open(\"people.txt\", \"w\")\n",
        "while True:\n",
        "  name = input(\"name : \")\n",
        "  if(name == \"\"):\n",
        "    break\n",
        "  age = input(\"age : \")\n",
        "  if(name == \"\"):\n",
        "    break\n",
        "  f.write(name+\",\"+age+\"\\n\")\n",
        "\n",
        "f.close()\n",
        "\n",
        "show_file(\"people.txt\")"
      ],
      "execution_count": null,
      "outputs": [
        {
          "output_type": "stream",
          "text": [
            "name : Tom\n",
            "age : 30\n",
            "name : Jerry\n",
            "age : 32\n",
            "name : 철수\n",
            "age : 20\n",
            "name : 영희\n",
            "age : 22\n",
            "name : \n",
            "Tom,30\n",
            "Jerry,32\n",
            "철수,20\n",
            "영희,22\n"
          ],
          "name": "stdout"
        }
      ]
    },
    {
      "cell_type": "markdown",
      "metadata": {
        "id": "hwzHFJhheCe9"
      },
      "source": [
        "## Quiz. people.txt를 읽고 다음 포멧으로 출력\n",
        "\n",
        "```\n",
        "이름 : Tom, 나이: 30\n",
        "이름 : Jerry, 나이: 32\n",
        "이름 : 철수, 나이: 20\n",
        "이름 : 영희, 나이: 22\n",
        "```"
      ]
    },
    {
      "cell_type": "markdown",
      "metadata": {
        "id": "XVUUOsIteWm1"
      },
      "source": [
        "## Quiz. people.txt에 이름과 나이 데이터를 추가\n",
        "\n",
        "빈칸이 들어오면 추가 중지."
      ]
    },
    {
      "cell_type": "markdown",
      "metadata": {
        "id": "mNftioeGy6cX"
      },
      "source": [
        "# Quiz. 파일 source.txt를 읽어 합을 sum.txt로 저장\n",
        "\n",
        "```\n",
        "# source.txt\n",
        "2,3\n",
        "4,5\n",
        "7,1\n",
        "```\n",
        "\n",
        "```\n",
        "# sum.txt\n",
        "2,3,5\n",
        "4,5,9\n",
        "7,1,8\n",
        "```"
      ]
    },
    {
      "cell_type": "code",
      "metadata": {
        "colab": {
          "base_uri": "https://localhost:8080/"
        },
        "id": "jlDAcwJlz67p",
        "outputId": "6844e621-e540-434d-d7ba-7171d3e95a58"
      },
      "source": [
        "%%writefile source.txt\n",
        "2,3\n",
        "4,5\n",
        "7,1"
      ],
      "execution_count": null,
      "outputs": [
        {
          "output_type": "stream",
          "text": [
            "Overwriting source.txt\n"
          ],
          "name": "stdout"
        }
      ]
    },
    {
      "cell_type": "code",
      "metadata": {
        "colab": {
          "base_uri": "https://localhost:8080/"
        },
        "id": "RM8F1XhF0pox",
        "outputId": "fed65d70-e851-4f64-8f21-825e9b18d17d"
      },
      "source": [
        "!cat source.txt"
      ],
      "execution_count": null,
      "outputs": [
        {
          "output_type": "stream",
          "text": [
            "2,3\n",
            "4,5\n",
            "7,1"
          ],
          "name": "stdout"
        }
      ]
    },
    {
      "cell_type": "code",
      "metadata": {
        "colab": {
          "base_uri": "https://localhost:8080/"
        },
        "id": "hdBmPpUWy7q2",
        "outputId": "4474b5ca-3eca-4990-ebaf-052e66045548"
      },
      "source": [
        "def show_file(file_name):\n",
        "  f = open(file_name, \"r\")\n",
        "  lines = f.readlines()\n",
        "  f.close()\n",
        "  for line in lines:\n",
        "    print(line, end=\"\")\n",
        "\n",
        "\n",
        "f = open(\"source.txt\", \"r\")\n",
        "lines = f.readlines()\n",
        "f.close()\n",
        "\n",
        "new_lines = []\n",
        "for line in lines:\n",
        "  if line.endswith(\"\\n\"):\n",
        "    line = line[:-1]\n",
        "  print(line)\n",
        "  \n",
        "  values = line.split(\",\")\n",
        "  answer = int(values[0]) + int(values[1])\n",
        "  new_line = \",\".join([values[0], values[1], str(answer)])\n",
        "  new_lines.append(new_line)\n",
        "\n",
        "print(new_lines)\n",
        "\n",
        "f = open(\"sum.txt\", \"w\")\n",
        "for line in new_lines:\n",
        "  f.write(line+\"\\n\")\n",
        "f.close()\n",
        "\n",
        "show_file(\"sum.txt\")\n",
        "\n",
        "\n"
      ],
      "execution_count": null,
      "outputs": [
        {
          "output_type": "stream",
          "text": [
            "2,3\n",
            "4,5\n",
            "7,1\n",
            "['2,3,5', '4,5,9', '7,1,8']\n",
            "2,3,5\n",
            "4,5,9\n",
            "7,1,8\n"
          ],
          "name": "stdout"
        }
      ]
    },
    {
      "cell_type": "code",
      "metadata": {
        "colab": {
          "base_uri": "https://localhost:8080/"
        },
        "id": "NICzxlvlzTPV",
        "outputId": "8f2d0789-eba2-49ef-9f48-7895fc76807c"
      },
      "source": [
        "def show_file(file_name):\n",
        "  f = open(file_name, \"r\")\n",
        "  lines = f.readlines()\n",
        "  f.close()\n",
        "  for line in lines:\n",
        "    print(line, end=\"\")\n",
        "\n",
        "\n",
        "def clean_line(line):\n",
        "  if line.endswith(\"\\n\"):\n",
        "    line = line[:-1]\n",
        "  return line\n",
        "\n",
        "def calculate_line(line):\n",
        "  values = line.split(\",\")\n",
        "  v1, v2 = int(values[0]), int(values[1])\n",
        "  answer = v1+v2\n",
        "  new_values = [ str(v1), str(v2), str(answer) ]\n",
        "  new_line = \",\".join(new_values)\n",
        "  return new_line\n",
        "\n",
        "\n",
        "def read_source(file_name):\n",
        "  f = open(file_name, \"r\")\n",
        "  lines = f.readlines()\n",
        "  f.close()\n",
        "  return lines\n",
        "\n",
        "def calculate_lines(lines):\n",
        "  new_lines = []\n",
        "  for line in lines:\n",
        "    line = clean_line(line)\n",
        "    new_line = calculate_line(line)\n",
        "    new_lines.append(new_line)\n",
        "  return new_lines\n",
        "\n",
        "\n",
        "def write_to_file(file_name, new_lines):\n",
        "  f = open(file_name, \"w\")\n",
        "  for line in new_lines:\n",
        "    f.write(line+\"\\n\")\n",
        "  f.close()\n",
        "\n",
        "\n",
        "\n",
        "\n",
        "lines = read_source(\"source.txt\")\n",
        "# lines = ['2,3\\n', '4,5\\n', '7,1']\n",
        "\n",
        "new_lines = calculate_lines(lines)\n",
        "# new_lines = ['2,3,5', '4,5,9', '7,1,8']\n",
        "\n",
        "write_to_file(\"some.txt\", new_lines)\n",
        "\n",
        "show_file(\"sum.txt\")\n",
        "\n",
        "\n"
      ],
      "execution_count": null,
      "outputs": [
        {
          "output_type": "stream",
          "text": [
            "2,3,5\n",
            "4,5,9\n",
            "7,1,8\n"
          ],
          "name": "stdout"
        }
      ]
    },
    {
      "cell_type": "markdown",
      "metadata": {
        "id": "XrJEVORs1B1U"
      },
      "source": [
        "# Quiz. name.txt의 이름을 읽어\n",
        "\n",
        "```\n",
        "# name.txt\n",
        "Tom\n",
        "Jerry\n",
        "철수\n",
        "영희\n",
        "```\n",
        "\n",
        "다음과 같이 나이를 사용자 입력으로 받고\n",
        "```\n",
        "\"Tom의 나이는? \" 30\n",
        "\"Jerry의 나이는? \" 33\n",
        "\n",
        "```\n",
        "\n",
        "화면에 출력\n",
        "```\n",
        "Tom,30\n",
        "Jerry,33\n",
        "철수,25\n",
        "영희,23\n",
        "```"
      ]
    },
    {
      "cell_type": "code",
      "metadata": {
        "colab": {
          "base_uri": "https://localhost:8080/"
        },
        "id": "VzGVqHLe1Gdb",
        "outputId": "96136376-9e1f-4222-bd3a-3f3018fe1cfd"
      },
      "source": [
        "%%writefile name.txt \n",
        "Tom\n",
        "Jerry\n",
        "철수\n",
        "영희"
      ],
      "execution_count": null,
      "outputs": [
        {
          "output_type": "stream",
          "text": [
            "Writing name.txt\n"
          ],
          "name": "stdout"
        }
      ]
    },
    {
      "cell_type": "code",
      "metadata": {
        "colab": {
          "base_uri": "https://localhost:8080/"
        },
        "id": "7cXGwAZh1Khf",
        "outputId": "5a3c5ccd-e14e-4789-f99d-798924cca634"
      },
      "source": [
        "!cat name.txt"
      ],
      "execution_count": null,
      "outputs": [
        {
          "output_type": "stream",
          "text": [
            "Tom\n",
            "Jerry\n",
            "철수\n",
            "영희"
          ],
          "name": "stdout"
        }
      ]
    },
    {
      "cell_type": "markdown",
      "metadata": {
        "id": "jrJmTDjz1h4J"
      },
      "source": [
        "코드 설계\n",
        "```\n",
        "# task.0 source.txt 파일을 만들어 둔다.\n",
        "\n",
        "# task.1 source.txt에서 파일을 읽어서 다음 리스트를 구하기\n",
        "names = [ \"Tom\", \"Jerry\", \"철수\", \"영희\"]\n",
        "\n",
        "# task.2 for 루프를 돌면서 input으로 age를 받고 다음 dict를 만들기\n",
        "age_map = { \"Tom\":30, \"Jerry\":33, \"철수\":25, \"영희\":23 }\n",
        "\n",
        "# task.3 for 루프를 돌면서 다음 문자열을 만들기\n",
        "out_lines = [ \"Tom,30\", \"Jerry,33\", \"철수,25\", \"영희,23\" ]\n",
        "\n",
        "# task.4 for 루프를 돌면서 리스트 항목을 출력하기\n",
        "\n",
        "# task.4-2 for 루프를 돌면서 리스트를 name_and_age.txt에 출력하기\n",
        "```"
      ]
    },
    {
      "cell_type": "code",
      "metadata": {
        "colab": {
          "base_uri": "https://localhost:8080/"
        },
        "id": "acVQEkUDYnLi",
        "outputId": "cd0e4ca6-055b-4246-8955-0177dad82578"
      },
      "source": [
        "# task.1\n",
        "f = open(\"name.txt\", \"r\")\n",
        "lines = f.readlines()\n",
        "f.close()\n",
        "\n",
        "names = []\n",
        "for line in lines:\n",
        "  names.append(line[:-1])\n",
        "\n",
        "print(names)"
      ],
      "execution_count": null,
      "outputs": [
        {
          "output_type": "stream",
          "text": [
            "['Tom', 'Jerry', '철수', '영']\n"
          ],
          "name": "stdout"
        }
      ]
    },
    {
      "cell_type": "code",
      "metadata": {
        "colab": {
          "base_uri": "https://localhost:8080/"
        },
        "id": "noX1FkOVYG-U",
        "outputId": "136e92c8-3793-402d-f758-b7dfbfe6ff7f"
      },
      "source": [
        "# task.2\n",
        "names = [ \"Tom\", \"Jerry\", \"철수\", \"영희\"]\n",
        "# age_map = { \"Tom\":30, \"Jerry\":33, \"철수\":25, \"영희\":23 }\n",
        "\n",
        "age_map = {}\n",
        "for name in names:\n",
        "  age = input(\"{}의 나이는? \".format(name))\n",
        "  age = int(age)\n",
        "  age_map[name] = age\n",
        "\n",
        "print(age_map)"
      ],
      "execution_count": null,
      "outputs": [
        {
          "output_type": "stream",
          "text": [
            "Tom의 나이는? 30\n",
            "Jerry의 나이는? 33\n",
            "철수의 나이는? 25\n",
            "영희의 나이는? 23\n",
            "{'Tom': 30, 'Jerry': 33, '철수': 25, '영희': 23}\n"
          ],
          "name": "stdout"
        }
      ]
    },
    {
      "cell_type": "code",
      "metadata": {
        "colab": {
          "base_uri": "https://localhost:8080/"
        },
        "id": "j2VuMmMnXWOE",
        "outputId": "2e196fbd-abca-433d-a5d8-5e89722e2f4c"
      },
      "source": [
        "# task.3\n",
        "age_map = { \"Tom\":30, \"Jerry\":33, \"철수\":25, \"영희\":23 }\n",
        "# out_lines = [ \"Tom,30\", \"Jerry,33\", \"철수,25\", \"영희,23\" ]\n",
        "\n",
        "out_lines = []\n",
        "for key, value in age_map.items():\n",
        "  out_lines.append(\"{},{}\".format(key,value))\n",
        "\n",
        "print(out_lines)"
      ],
      "execution_count": null,
      "outputs": [
        {
          "output_type": "stream",
          "text": [
            "['Tom,30', 'Jerry,33', '철수,25', '영희,23']\n"
          ],
          "name": "stdout"
        }
      ]
    },
    {
      "cell_type": "code",
      "metadata": {
        "colab": {
          "base_uri": "https://localhost:8080/"
        },
        "id": "omhQSCmIXMOl",
        "outputId": "8231f6ee-ccbc-4216-bacb-4eaf3bd1c2d4"
      },
      "source": [
        "# task.4\n",
        "out_lines = [ \"Tom,30\", \"Jerry,33\", \"철수,25\", \"영희,23\" ]\n",
        "\n",
        "for a_line in out_lines:\n",
        "  print(a_line)"
      ],
      "execution_count": null,
      "outputs": [
        {
          "output_type": "stream",
          "text": [
            "Tom,30\n",
            "Jerry,33\n",
            "철수,25\n",
            "영희,23\n"
          ],
          "name": "stdout"
        }
      ]
    },
    {
      "cell_type": "code",
      "metadata": {
        "colab": {
          "base_uri": "https://localhost:8080/"
        },
        "id": "WRYhI7tbd-Iu",
        "outputId": "f8cce76d-4b29-463a-bd87-8001bb7a8a96"
      },
      "source": [
        "# task.4-2\n",
        "out_lines = [ \"Tom,30\", \"Jerry,33\", \"철수,25\", \"영희,23\" ]\n",
        "\n",
        "f = open(\"name_and_age.txt\", \"w\")\n",
        "for a_line in out_lines:\n",
        "  f.write(a_line+\"\\n\")\n",
        "f.close()\n",
        "\n",
        "show_file(\"name_and_age.txt\")"
      ],
      "execution_count": null,
      "outputs": [
        {
          "output_type": "stream",
          "text": [
            "Tom,30\n",
            "Jerry,33\n",
            "철수,25\n",
            "영희,23\n"
          ],
          "name": "stdout"
        }
      ]
    },
    {
      "cell_type": "code",
      "metadata": {
        "colab": {
          "base_uri": "https://localhost:8080/"
        },
        "id": "Ntu5k2ECZvD_",
        "outputId": "92a47458-f3a5-4cec-9edc-32c6f2fe468d"
      },
      "source": [
        "# task.1\n",
        "f = open(\"name.txt\", \"r\")\n",
        "lines = f.readlines()\n",
        "f.close()\n",
        "\n",
        "names = []\n",
        "for line in lines:\n",
        "  names.append(line[:-1])\n",
        "\n",
        "# print(names)\n",
        "\n",
        "# task.2\n",
        "# names = [ \"Tom\", \"Jerry\", \"철수\", \"영희\"]\n",
        "# age_map = { \"Tom\":30, \"Jerry\":33, \"철수\":25, \"영희\":23 }\n",
        "\n",
        "age_map = {}\n",
        "for name in names:\n",
        "  age = input(\"{}의 나이는? \".format(name))\n",
        "  age = int(age)\n",
        "  age_map[name] = age\n",
        "\n",
        "# print(age_map)\n",
        "\n",
        "# task.3\n",
        "# age_map = { \"Tom\":30, \"Jerry\":33, \"철수\":25, \"영희\":23 }\n",
        "# out_lines = [ \"Tom,30\", \"Jerry,33\", \"철수,25\", \"영희,23\" ]\n",
        "\n",
        "out_lines = []\n",
        "for key, value in age_map.items():\n",
        "  out_lines.append(\"{},{}\".format(key,value))\n",
        "\n",
        "# print(out_lines)\n",
        "\n",
        "# task.4\n",
        "# out_lines = [ \"Tom,30\", \"Jerry,33\", \"철수,25\", \"영희,23\" ]\n",
        "\n",
        "for a_line in out_lines:\n",
        "  print(a_line)\n",
        "\n",
        "# task.4-2\n",
        "# out_lines = [ \"Tom,30\", \"Jerry,33\", \"철수,25\", \"영희,23\" ]\n",
        "\n",
        "f = open(\"name_and_age.txt\", \"w\")\n",
        "for a_line in out_lines:\n",
        "  f.write(a_line+\"\\n\")\n",
        "f.close()\n",
        "\n",
        "show_file(\"name_and_age.txt\")  "
      ],
      "execution_count": null,
      "outputs": [
        {
          "output_type": "stream",
          "text": [
            "Tom의 나이는? 30\n",
            "Jerry의 나이는? 33\n",
            "철수의 나이는? 25\n",
            "영의 나이는? 23\n",
            "Tom,30\n",
            "Jerry,33\n",
            "철수,25\n",
            "영,23\n",
            "Tom,30\n",
            "Jerry,33\n",
            "철수,25\n",
            "영,23\n"
          ],
          "name": "stdout"
        }
      ]
    },
    {
      "cell_type": "markdown",
      "metadata": {
        "id": "t8tXBm_4X_5Y"
      },
      "source": [
        "# 범위"
      ]
    },
    {
      "cell_type": "markdown",
      "metadata": {
        "id": "8AnCSYZrYFG2"
      },
      "source": [
        "## range()\n",
        "\n",
        "```\n",
        "range(start,end,step)\n",
        "```"
      ]
    },
    {
      "cell_type": "code",
      "metadata": {
        "colab": {
          "base_uri": "https://localhost:8080/"
        },
        "id": "_bHYdYckYKaw",
        "outputId": "5cf209df-8c05-4097-fd11-3612da465456"
      },
      "source": [
        "for i in range(5):\n",
        "  print(i)"
      ],
      "execution_count": null,
      "outputs": [
        {
          "output_type": "stream",
          "text": [
            "0\n",
            "1\n",
            "2\n",
            "3\n",
            "4\n"
          ],
          "name": "stdout"
        }
      ]
    },
    {
      "cell_type": "code",
      "metadata": {
        "colab": {
          "base_uri": "https://localhost:8080/"
        },
        "id": "xAPAoo6UYRT9",
        "outputId": "56d4339a-dc93-46fc-dd7e-39d6959f552c"
      },
      "source": [
        "for i in range(2,5):\n",
        "  print(i)"
      ],
      "execution_count": null,
      "outputs": [
        {
          "output_type": "stream",
          "text": [
            "2\n",
            "3\n",
            "4\n"
          ],
          "name": "stdout"
        }
      ]
    },
    {
      "cell_type": "code",
      "metadata": {
        "colab": {
          "base_uri": "https://localhost:8080/"
        },
        "id": "0UajxDb8YQ8W",
        "outputId": "951de459-ce2b-4664-a9d5-1e1f72aa9a6d"
      },
      "source": [
        "for i in range(3,10,2):\n",
        "  print(i)"
      ],
      "execution_count": null,
      "outputs": [
        {
          "output_type": "stream",
          "text": [
            "3\n",
            "5\n",
            "7\n",
            "9\n"
          ],
          "name": "stdout"
        }
      ]
    },
    {
      "cell_type": "code",
      "metadata": {
        "colab": {
          "base_uri": "https://localhost:8080/"
        },
        "id": "ucw3hYdkYQ3o",
        "outputId": "a136f732-87cf-45ab-b932-4ccad368bfe1"
      },
      "source": [
        "for i in range(5,2,-1):\n",
        "  print(i)"
      ],
      "execution_count": null,
      "outputs": [
        {
          "output_type": "stream",
          "text": [
            "5\n",
            "4\n",
            "3\n"
          ],
          "name": "stdout"
        }
      ]
    },
    {
      "cell_type": "code",
      "metadata": {
        "colab": {
          "base_uri": "https://localhost:8080/"
        },
        "id": "w6MuhdblYQvD",
        "outputId": "5b42efe8-9367-44d9-b9b5-682e657e1e64"
      },
      "source": [
        "for i in range(10,0,-2):\n",
        "  print(i)"
      ],
      "execution_count": null,
      "outputs": [
        {
          "output_type": "stream",
          "text": [
            "10\n",
            "8\n",
            "6\n",
            "4\n",
            "2\n"
          ],
          "name": "stdout"
        }
      ]
    },
    {
      "cell_type": "markdown",
      "metadata": {
        "id": "aMljNvFlY0bI"
      },
      "source": [
        "## list\n",
        "\n",
        "```\n",
        "list[start:end:step]\n",
        "```"
      ]
    },
    {
      "cell_type": "code",
      "metadata": {
        "colab": {
          "base_uri": "https://localhost:8080/"
        },
        "id": "P_cWMOpjZK1g",
        "outputId": "62237d9b-8df2-4294-c45e-244bcd627f42"
      },
      "source": [
        "l = [0,1,2,3,4,5,6,7,8,9]\n",
        "\n",
        "print(l[0:5])"
      ],
      "execution_count": null,
      "outputs": [
        {
          "output_type": "stream",
          "text": [
            "[0, 1, 2, 3, 4]\n"
          ],
          "name": "stdout"
        }
      ]
    },
    {
      "cell_type": "code",
      "metadata": {
        "colab": {
          "base_uri": "https://localhost:8080/"
        },
        "id": "S6_k34uWZdKc",
        "outputId": "39bf186b-80a9-42f2-e60f-5c33128084e2"
      },
      "source": [
        "l = [0,1,2,3,4,5,6,7,8,9]\n",
        "\n",
        "print(l[2:5])"
      ],
      "execution_count": null,
      "outputs": [
        {
          "output_type": "stream",
          "text": [
            "[2, 3, 4]\n"
          ],
          "name": "stdout"
        }
      ]
    },
    {
      "cell_type": "code",
      "metadata": {
        "colab": {
          "base_uri": "https://localhost:8080/"
        },
        "id": "rGvmwnQrZNKX",
        "outputId": "45bffc2d-ef62-4bd6-c434-27e839e54a19"
      },
      "source": [
        "l = [0,1,2,3,4,5,6,7,8,9]\n",
        "\n",
        "print(l[0:5:2])"
      ],
      "execution_count": null,
      "outputs": [
        {
          "output_type": "stream",
          "text": [
            "[0, 2, 4]\n"
          ],
          "name": "stdout"
        }
      ]
    },
    {
      "cell_type": "code",
      "metadata": {
        "colab": {
          "base_uri": "https://localhost:8080/"
        },
        "id": "7xpbKA3GZPXo",
        "outputId": "feb52ee2-6ab4-4af0-ccd2-9ced69eed57b"
      },
      "source": [
        "l = [0,1,2,3,4,5,6,7,8,9]\n",
        "\n",
        "print(l[5:2])"
      ],
      "execution_count": null,
      "outputs": [
        {
          "output_type": "stream",
          "text": [
            "[]\n"
          ],
          "name": "stdout"
        }
      ]
    },
    {
      "cell_type": "code",
      "metadata": {
        "colab": {
          "base_uri": "https://localhost:8080/"
        },
        "id": "FZd-SV7uZng0",
        "outputId": "afcbb905-3905-4227-a1c1-5747c7afe385"
      },
      "source": [
        "l = [0,1,2,3,4,5,6,7,8,9]\n",
        "\n",
        "print(l[5:2:-1])"
      ],
      "execution_count": null,
      "outputs": [
        {
          "output_type": "stream",
          "text": [
            "[5, 4, 3]\n"
          ],
          "name": "stdout"
        }
      ]
    },
    {
      "cell_type": "code",
      "metadata": {
        "colab": {
          "base_uri": "https://localhost:8080/"
        },
        "id": "MBO-VYHCYQpJ",
        "outputId": "d498ff7c-503a-4b4f-e9c8-3d22cd039bb2"
      },
      "source": [
        "l = [0,1,2,3,4,5,6,7,8,9]\n",
        "\n",
        "print(l[:])"
      ],
      "execution_count": null,
      "outputs": [
        {
          "output_type": "stream",
          "text": [
            "[0, 1, 2, 3, 4, 5, 6, 7, 8, 9]\n"
          ],
          "name": "stdout"
        }
      ]
    },
    {
      "cell_type": "code",
      "metadata": {
        "colab": {
          "base_uri": "https://localhost:8080/"
        },
        "id": "iZn0Ws9IZsDN",
        "outputId": "cf8f6ccb-cfbd-48a1-d57a-a7b15cb44e99"
      },
      "source": [
        "l = [0,1,2,3,4,5,6,7,8,9]\n",
        "\n",
        "print(l[::-1])"
      ],
      "execution_count": null,
      "outputs": [
        {
          "output_type": "stream",
          "text": [
            "[9, 8, 7, 6, 5, 4, 3, 2, 1, 0]\n"
          ],
          "name": "stdout"
        }
      ]
    },
    {
      "cell_type": "code",
      "metadata": {
        "colab": {
          "base_uri": "https://localhost:8080/"
        },
        "id": "-tr3RFXPZuOV",
        "outputId": "36a61192-3f01-4feb-f946-5bbfd1c1887e"
      },
      "source": [
        "l = [0,1,2,3,4,5,6,7,8,9]\n",
        "\n",
        "print(l[::-2])"
      ],
      "execution_count": null,
      "outputs": [
        {
          "output_type": "stream",
          "text": [
            "[9, 7, 5, 3, 1]\n"
          ],
          "name": "stdout"
        }
      ]
    },
    {
      "cell_type": "code",
      "metadata": {
        "colab": {
          "base_uri": "https://localhost:8080/"
        },
        "id": "wStE5zd0ZIzl",
        "outputId": "aca474c9-5691-4508-b2fb-0f64d2ac9bf7"
      },
      "source": [
        "l = [0,1,2,3,4,5,6,7,8,9]\n",
        "\n",
        "print(l[::])"
      ],
      "execution_count": null,
      "outputs": [
        {
          "output_type": "stream",
          "text": [
            "[0, 1, 2, 3, 4, 5, 6, 7, 8, 9]\n"
          ],
          "name": "stdout"
        }
      ]
    },
    {
      "cell_type": "markdown",
      "metadata": {
        "id": "_G9bPPYtjsrL"
      },
      "source": [
        "# 내장 함수\n",
        "\n",
        "```\n",
        "- abs() : 절대값\n",
        "- sum() : 합\n",
        "- min() : 최소값\n",
        "- max() : 최대값\n",
        "- round() : 반올림\n",
        "\n",
        "- input() : 사용자 입력 받기\n",
        "- print() : 출력\n",
        "- len() : 자료형의 요소 갯수 반환\n",
        "- range() : 범위내의 순차적값의 리스트 iterator 반환\n",
        "\n",
        "- zip() : 복수개 자료형의 각 쌍의 iterator 반환\n",
        "- dir() : 특정 객\b체의 속성과 메소드 이름을 반환\n",
        "```\n",
        "\n",
        "내장함수 리스트 참조 : https://docs.python.org/ko/3/library/functions.html\n",
        "\n"
      ]
    },
    {
      "cell_type": "markdown",
      "metadata": {
        "id": "uGp9sGJjatLf"
      },
      "source": [
        "## abs()"
      ]
    },
    {
      "cell_type": "code",
      "metadata": {
        "colab": {
          "base_uri": "https://localhost:8080/"
        },
        "id": "gV-eXyBUavUh",
        "outputId": "46f4277b-2b77-4055-bb5f-526fae061fa8"
      },
      "source": [
        "print(abs(1))"
      ],
      "execution_count": null,
      "outputs": [
        {
          "output_type": "stream",
          "text": [
            "1\n"
          ],
          "name": "stdout"
        }
      ]
    },
    {
      "cell_type": "code",
      "metadata": {
        "colab": {
          "base_uri": "https://localhost:8080/"
        },
        "id": "LSkYCUtFayTe",
        "outputId": "b389e8a0-628b-4139-d7ac-bd5e818e4c10"
      },
      "source": [
        "print(abs(-1))"
      ],
      "execution_count": null,
      "outputs": [
        {
          "output_type": "stream",
          "text": [
            "1\n"
          ],
          "name": "stdout"
        }
      ]
    },
    {
      "cell_type": "code",
      "metadata": {
        "colab": {
          "base_uri": "https://localhost:8080/"
        },
        "id": "waUU-zKha2il",
        "outputId": "e624f074-2df7-4a2a-d90c-2013c98bbd25"
      },
      "source": [
        "print(abs(3.3))"
      ],
      "execution_count": null,
      "outputs": [
        {
          "output_type": "stream",
          "text": [
            "3.3\n"
          ],
          "name": "stdout"
        }
      ]
    },
    {
      "cell_type": "code",
      "metadata": {
        "colab": {
          "base_uri": "https://localhost:8080/"
        },
        "id": "Yz-6fASsa4da",
        "outputId": "b8398909-4115-4615-f2aa-3e2394ac6d8b"
      },
      "source": [
        "print(abs(-3.3))"
      ],
      "execution_count": null,
      "outputs": [
        {
          "output_type": "stream",
          "text": [
            "3.3\n"
          ],
          "name": "stdout"
        }
      ]
    },
    {
      "cell_type": "code",
      "metadata": {
        "colab": {
          "base_uri": "https://localhost:8080/"
        },
        "id": "1AIBVvL0a0Eg",
        "outputId": "ff92f94b-cf58-4f1b-b1ba-05ddeb80e26f"
      },
      "source": [
        "print(abs(True))"
      ],
      "execution_count": null,
      "outputs": [
        {
          "output_type": "stream",
          "text": [
            "1\n"
          ],
          "name": "stdout"
        }
      ]
    },
    {
      "cell_type": "markdown",
      "metadata": {
        "id": "sayB66DGbBLL"
      },
      "source": [
        "## sum()"
      ]
    },
    {
      "cell_type": "code",
      "metadata": {
        "colab": {
          "base_uri": "https://localhost:8080/"
        },
        "id": "-1JGsNOCbDcg",
        "outputId": "3b7ac386-9692-492b-9c67-1dc8bd4b178f"
      },
      "source": [
        "l = [1,2,3,4,5,6,7,8,9]\n",
        "print(sum(l))"
      ],
      "execution_count": null,
      "outputs": [
        {
          "output_type": "stream",
          "text": [
            "45\n"
          ],
          "name": "stdout"
        }
      ]
    },
    {
      "cell_type": "code",
      "metadata": {
        "colab": {
          "base_uri": "https://localhost:8080/"
        },
        "id": "TmqSvTj8bDXy",
        "outputId": "808c5731-0b29-4b98-882c-632ceaa64b97"
      },
      "source": [
        "l = [1,2,3,4,5,6,7,8,9]\n",
        "print(l[::2])\n",
        "print(sum(l[::2]))"
      ],
      "execution_count": null,
      "outputs": [
        {
          "output_type": "stream",
          "text": [
            "[1, 3, 5, 7, 9]\n",
            "25\n"
          ],
          "name": "stdout"
        }
      ]
    },
    {
      "cell_type": "code",
      "metadata": {
        "colab": {
          "base_uri": "https://localhost:8080/"
        },
        "id": "-PCU6yQ9bDR3",
        "outputId": "53e6dce7-4188-4094-d65e-2c97fc7e3598"
      },
      "source": [
        "t = (1,2,3,4,5,6,7,8,9)\n",
        "print(sum(t))"
      ],
      "execution_count": null,
      "outputs": [
        {
          "output_type": "stream",
          "text": [
            "45\n"
          ],
          "name": "stdout"
        }
      ]
    },
    {
      "cell_type": "code",
      "metadata": {
        "colab": {
          "base_uri": "https://localhost:8080/"
        },
        "id": "6YwZwsAXbDKt",
        "outputId": "8bf9b71a-1a93-48aa-f14e-acd5e80db68f"
      },
      "source": [
        "s = {1,2,3,4,5,6,7,8,9}\n",
        "print(sum(s))"
      ],
      "execution_count": null,
      "outputs": [
        {
          "output_type": "stream",
          "text": [
            "45\n"
          ],
          "name": "stdout"
        }
      ]
    },
    {
      "cell_type": "code",
      "metadata": {
        "colab": {
          "base_uri": "https://localhost:8080/"
        },
        "id": "VJB_cKLubDFH",
        "outputId": "81764a3e-f361-4caf-9897-12b2afa46767"
      },
      "source": [
        "d = { \"a\":1, \"b\":2, \"c\":3 }\n",
        "print(sum(d.values()))"
      ],
      "execution_count": null,
      "outputs": [
        {
          "output_type": "stream",
          "text": [
            "6\n"
          ],
          "name": "stdout"
        }
      ]
    },
    {
      "cell_type": "code",
      "metadata": {
        "colab": {
          "base_uri": "https://localhost:8080/",
          "height": 235
        },
        "id": "P26Ez3dodAQ0",
        "outputId": "5d4f1b37-db65-4dd5-cc32-814c67158a32"
      },
      "source": [
        "print(sum([1,2,3]))\n",
        "sum = 1 + 2 \n",
        "print(sum) \n",
        "# sum이란 내장함수이름이 변수이름으로 대체되었다. 내장함수 sum은 이제 사용 못한다.\n",
        "print(sum([1,2,3]))"
      ],
      "execution_count": null,
      "outputs": [
        {
          "output_type": "stream",
          "text": [
            "6\n",
            "3\n"
          ],
          "name": "stdout"
        },
        {
          "output_type": "error",
          "ename": "TypeError",
          "evalue": "ignored",
          "traceback": [
            "\u001b[0;31m---------------------------------------------------------------------------\u001b[0m",
            "\u001b[0;31mTypeError\u001b[0m                                 Traceback (most recent call last)",
            "\u001b[0;32m<ipython-input-9-5b5d444ce751>\u001b[0m in \u001b[0;36m<module>\u001b[0;34m()\u001b[0m\n\u001b[1;32m      2\u001b[0m \u001b[0msum\u001b[0m \u001b[0;34m=\u001b[0m \u001b[0;36m1\u001b[0m \u001b[0;34m+\u001b[0m \u001b[0;36m2\u001b[0m\u001b[0;34m\u001b[0m\u001b[0;34m\u001b[0m\u001b[0m\n\u001b[1;32m      3\u001b[0m \u001b[0mprint\u001b[0m\u001b[0;34m(\u001b[0m\u001b[0msum\u001b[0m\u001b[0;34m)\u001b[0m\u001b[0;34m\u001b[0m\u001b[0;34m\u001b[0m\u001b[0m\n\u001b[0;32m----> 4\u001b[0;31m \u001b[0mprint\u001b[0m\u001b[0;34m(\u001b[0m\u001b[0msum\u001b[0m\u001b[0;34m(\u001b[0m\u001b[0;34m[\u001b[0m\u001b[0;36m1\u001b[0m\u001b[0;34m,\u001b[0m\u001b[0;36m2\u001b[0m\u001b[0;34m,\u001b[0m\u001b[0;36m3\u001b[0m\u001b[0;34m]\u001b[0m\u001b[0;34m)\u001b[0m\u001b[0;34m)\u001b[0m\u001b[0;34m\u001b[0m\u001b[0;34m\u001b[0m\u001b[0m\n\u001b[0m",
            "\u001b[0;31mTypeError\u001b[0m: 'int' object is not callable"
          ]
        }
      ]
    },
    {
      "cell_type": "markdown",
      "metadata": {
        "id": "ZLgMjYJjc9h1"
      },
      "source": [
        "## min()"
      ]
    },
    {
      "cell_type": "code",
      "metadata": {
        "colab": {
          "base_uri": "https://localhost:8080/"
        },
        "id": "ERfpcIN-dWCl",
        "outputId": "3b897297-e671-410a-d0c5-2258a767796b"
      },
      "source": [
        "l = [ 1, 2, 3, 4, 5 ]\n",
        "print(min(l))"
      ],
      "execution_count": null,
      "outputs": [
        {
          "output_type": "stream",
          "text": [
            "1\n"
          ],
          "name": "stdout"
        }
      ]
    },
    {
      "cell_type": "code",
      "metadata": {
        "colab": {
          "base_uri": "https://localhost:8080/"
        },
        "id": "appzwh1Gde69",
        "outputId": "7178348d-5996-491a-aeee-69d98b7748cf"
      },
      "source": [
        "print(min(1,2,3))"
      ],
      "execution_count": null,
      "outputs": [
        {
          "output_type": "stream",
          "text": [
            "1\n"
          ],
          "name": "stdout"
        }
      ]
    },
    {
      "cell_type": "markdown",
      "metadata": {
        "id": "m6nXMw48diOz"
      },
      "source": [
        "## max()"
      ]
    },
    {
      "cell_type": "code",
      "metadata": {
        "colab": {
          "base_uri": "https://localhost:8080/"
        },
        "id": "tzRUiL6ndV25",
        "outputId": "1023ca7f-c75a-4c5e-c9c3-d170ef73cbc0"
      },
      "source": [
        "l = [ 1, 2, 3, 4, 5 ]\n",
        "print(max(l))"
      ],
      "execution_count": null,
      "outputs": [
        {
          "output_type": "stream",
          "text": [
            "5\n"
          ],
          "name": "stdout"
        }
      ]
    },
    {
      "cell_type": "code",
      "metadata": {
        "colab": {
          "base_uri": "https://localhost:8080/"
        },
        "id": "OrHWjTEVdVqy",
        "outputId": "86d0d244-cff5-45d6-b7f9-bbcbec74a124"
      },
      "source": [
        "print(max(1,2,3))"
      ],
      "execution_count": null,
      "outputs": [
        {
          "output_type": "stream",
          "text": [
            "3\n"
          ],
          "name": "stdout"
        }
      ]
    },
    {
      "cell_type": "markdown",
      "metadata": {
        "id": "3VGewqnEdxVy"
      },
      "source": [
        "## round()"
      ]
    },
    {
      "cell_type": "code",
      "metadata": {
        "colab": {
          "base_uri": "https://localhost:8080/"
        },
        "id": "6mFmFkkndVcR",
        "outputId": "dceb6bbf-441d-4306-c0d1-66888846864e"
      },
      "source": [
        "print(round(3.1))\n",
        "print(round(3.9))\n",
        "print(round(-3.1))\n",
        "print(round(-3.9))"
      ],
      "execution_count": null,
      "outputs": [
        {
          "output_type": "stream",
          "text": [
            "3\n",
            "4\n",
            "-3\n",
            "-4\n"
          ],
          "name": "stdout"
        }
      ]
    },
    {
      "cell_type": "markdown",
      "metadata": {
        "id": "jKKXC74td10t"
      },
      "source": [
        "## zip()"
      ]
    },
    {
      "cell_type": "code",
      "metadata": {
        "colab": {
          "base_uri": "https://localhost:8080/"
        },
        "id": "tn6J7sczdVPU",
        "outputId": "b53e85ed-f4ce-42fb-c08b-a41e2cd90eb0"
      },
      "source": [
        "names = [ \"tom\", \"jerry\", \"철수\", \"영희\" ]\n",
        "ages = [ 32, 30, 25, 22 ]\n",
        "for name, age in zip(names, ages):\n",
        "  print(name, age)"
      ],
      "execution_count": null,
      "outputs": [
        {
          "output_type": "stream",
          "text": [
            "tom 32\n",
            "jerry 30\n",
            "철수 25\n",
            "영희 22\n"
          ],
          "name": "stdout"
        }
      ]
    },
    {
      "cell_type": "markdown",
      "metadata": {
        "id": "tx8UsmSkeKru"
      },
      "source": [
        "## dir()"
      ]
    },
    {
      "cell_type": "code",
      "metadata": {
        "colab": {
          "base_uri": "https://localhost:8080/"
        },
        "id": "w8YNyNyzdVBY",
        "outputId": "1bde34e4-e520-45c4-99b2-7d38e25c1502"
      },
      "source": [
        "t = (1,2,3,2)\n",
        "print(dir(t))\n"
      ],
      "execution_count": null,
      "outputs": [
        {
          "output_type": "stream",
          "text": [
            "['__add__', '__class__', '__contains__', '__delattr__', '__dir__', '__doc__', '__eq__', '__format__', '__ge__', '__getattribute__', '__getitem__', '__getnewargs__', '__gt__', '__hash__', '__init__', '__init_subclass__', '__iter__', '__le__', '__len__', '__lt__', '__mul__', '__ne__', '__new__', '__reduce__', '__reduce_ex__', '__repr__', '__rmul__', '__setattr__', '__sizeof__', '__str__', '__subclasshook__', 'count', 'index']\n"
          ],
          "name": "stdout"
        }
      ]
    },
    {
      "cell_type": "markdown",
      "metadata": {
        "id": "AISMnb8-joDk"
      },
      "source": [
        "# 라이브러리 사용\n",
        "```\n",
        "improt os\n",
        "import numpy as np\n",
        "from matplotlib import pyplot\n",
        "from matplotlib import pyplot as plt\n",
        "```"
      ]
    },
    {
      "cell_type": "code",
      "metadata": {
        "id": "5RkmIS-oeVox",
        "colab": {
          "base_uri": "https://localhost:8080/"
        },
        "outputId": "30c74a34-0926-4672-8771-00ffa3f03439"
      },
      "source": [
        "import math\n",
        "\n",
        "print(math.sin(0))\n",
        "print(math.cos(0))"
      ],
      "execution_count": null,
      "outputs": [
        {
          "output_type": "stream",
          "text": [
            "0.0\n",
            "1.0\n"
          ],
          "name": "stdout"
        }
      ]
    },
    {
      "cell_type": "code",
      "metadata": {
        "id": "zlLKgbAidjFG",
        "colab": {
          "base_uri": "https://localhost:8080/"
        },
        "outputId": "2ad425ce-abc7-49e3-f4c3-2d5da7db7892"
      },
      "source": [
        "import numpy\n",
        "\n",
        "a = numpy.ones((3,4))\n",
        "print(a)"
      ],
      "execution_count": null,
      "outputs": [
        {
          "output_type": "stream",
          "text": [
            "[[1. 1. 1. 1.]\n",
            " [1. 1. 1. 1.]\n",
            " [1. 1. 1. 1.]]\n"
          ],
          "name": "stdout"
        }
      ]
    },
    {
      "cell_type": "code",
      "metadata": {
        "colab": {
          "base_uri": "https://localhost:8080/"
        },
        "id": "u-7YvRbDseNC",
        "outputId": "0a8eea19-e0e8-4edb-c8b1-15ad735b49f6"
      },
      "source": [
        "import numpy as np\n",
        "\n",
        "a = np.ones((3,4))\n",
        "print(a)"
      ],
      "execution_count": null,
      "outputs": [
        {
          "output_type": "stream",
          "text": [
            "[[1. 1. 1. 1.]\n",
            " [1. 1. 1. 1.]\n",
            " [1. 1. 1. 1.]]\n"
          ],
          "name": "stdout"
        }
      ]
    },
    {
      "cell_type": "code",
      "metadata": {
        "colab": {
          "base_uri": "https://localhost:8080/",
          "height": 265
        },
        "id": "wAHqxgWXsm1k",
        "outputId": "a1e799d8-3157-4e5a-83fe-e0ac9d8b6542"
      },
      "source": [
        "import matplotlib\n",
        "\n",
        "matplotlib.pyplot.plot([1,2,3], [10,20,15])\n",
        "matplotlib.pyplot.show()"
      ],
      "execution_count": null,
      "outputs": [
        {
          "output_type": "display_data",
          "data": {
            "image/png": "[encoded data removed]",
            "text/plain": [
              "<Figure size 432x288 with 1 Axes>"
            ]
          },
          "metadata": {
            "tags": [],
            "needs_background": "light"
          }
        }
      ]
    },
    {
      "cell_type": "code",
      "metadata": {
        "colab": {
          "base_uri": "https://localhost:8080/",
          "height": 265
        },
        "id": "u9l8nlbFtA-W",
        "outputId": "84c51c7e-5063-484d-cdb6-26e51b16949e"
      },
      "source": [
        "from matplotlib import pyplot\n",
        "\n",
        "pyplot.plot([1,2,3], [10,20,15])\n",
        "pyplot.show()"
      ],
      "execution_count": null,
      "outputs": [
        {
          "output_type": "display_data",
          "data": {
            "image/png": "[encoded data removed]",
            "text/plain": [
              "<Figure size 432x288 with 1 Axes>"
            ]
          },
          "metadata": {
            "tags": [],
            "needs_background": "light"
          }
        }
      ]
    },
    {
      "cell_type": "code",
      "metadata": {
        "colab": {
          "base_uri": "https://localhost:8080/",
          "height": 265
        },
        "id": "ow6VaXB9tG4z",
        "outputId": "1a6bff2b-0aa0-44e8-baa5-3e5b022a3d5e"
      },
      "source": [
        "from matplotlib import pyplot as plt\n",
        "\n",
        "plt.plot([1,2,3], [10,20,15])\n",
        "plt.show()"
      ],
      "execution_count": null,
      "outputs": [
        {
          "output_type": "display_data",
          "data": {
            "image/png": "[encoded data removed]",
            "text/plain": [
              "<Figure size 432x288 with 1 Axes>"
            ]
          },
          "metadata": {
            "tags": [],
            "needs_background": "light"
          }
        }
      ]
    },
    {
      "cell_type": "markdown",
      "metadata": {
        "id": "8Ml-cYG6Yv3b"
      },
      "source": [
        "# 리스트 표현식"
      ]
    },
    {
      "cell_type": "code",
      "metadata": {
        "colab": {
          "base_uri": "https://localhost:8080/"
        },
        "id": "3VAnnZqCdU2I",
        "outputId": "2805d63d-58d7-42f9-cdce-08721e65d062"
      },
      "source": [
        "l = [1,2,3,4,5]\n",
        "\n",
        "doubled = []\n",
        "for i in l:\n",
        "  doubled.append(i)\n",
        "  \n",
        "print(doubled)"
      ],
      "execution_count": null,
      "outputs": [
        {
          "output_type": "stream",
          "text": [
            "[1, 2, 3, 4, 5]\n"
          ],
          "name": "stdout"
        }
      ]
    },
    {
      "cell_type": "code",
      "metadata": {
        "colab": {
          "base_uri": "https://localhost:8080/"
        },
        "id": "HSA6yWxEdUo_",
        "outputId": "fef2fd6a-6e17-4afd-e898-361a5530630d"
      },
      "source": [
        "doubled = [i*2 for i in l]\n",
        "print(doubled)"
      ],
      "execution_count": null,
      "outputs": [
        {
          "output_type": "stream",
          "text": [
            "[2, 4, 6, 8, 10]\n"
          ],
          "name": "stdout"
        }
      ]
    },
    {
      "cell_type": "code",
      "metadata": {
        "colab": {
          "base_uri": "https://localhost:8080/"
        },
        "id": "hvjRRgirdUaj",
        "outputId": "c39235fc-fac3-43d5-d947-f2bbf57f13bc"
      },
      "source": [
        "doubled = [i*2 for i in l if i%2==0]\n",
        "print(doubled)"
      ],
      "execution_count": null,
      "outputs": [
        {
          "output_type": "stream",
          "text": [
            "[4, 8]\n"
          ],
          "name": "stdout"
        }
      ]
    },
    {
      "cell_type": "markdown",
      "metadata": {
        "id": "Qc6QEXF0uW_D"
      },
      "source": [
        "## Quiz. 0~20까지 홀수만 리스트에 담기"
      ]
    },
    {
      "cell_type": "code",
      "metadata": {
        "colab": {
          "base_uri": "https://localhost:8080/"
        },
        "id": "FBlB1mRAdUNh",
        "outputId": "a98dc8d2-e949-4956-85af-333fcfae9b4f"
      },
      "source": [
        "def is_even(n):\n",
        "  return n%2==0\n",
        "\n",
        "l = []\n",
        "for i in range(21):\n",
        "  if not is_even(i):\n",
        "    l.append(i)\n",
        "print(l)    "
      ],
      "execution_count": null,
      "outputs": [
        {
          "output_type": "stream",
          "text": [
            "[1, 3, 5, 7, 9, 11, 13, 15, 17, 19]\n"
          ],
          "name": "stdout"
        }
      ]
    },
    {
      "cell_type": "code",
      "metadata": {
        "colab": {
          "base_uri": "https://localhost:8080/"
        },
        "id": "0zU8W4N4dT-2",
        "outputId": "07dcf538-12b5-4b4a-eea2-db4fc14677d0"
      },
      "source": [
        "def is_even(n):\n",
        "  return n%2==0\n",
        "\n",
        "l = [ i for i in range(21) if not is_even(i)]\n",
        "print(l)"
      ],
      "execution_count": null,
      "outputs": [
        {
          "output_type": "stream",
          "text": [
            "[1, 3, 5, 7, 9, 11, 13, 15, 17, 19]\n"
          ],
          "name": "stdout"
        }
      ]
    },
    {
      "cell_type": "markdown",
      "metadata": {
        "id": "xYKlmKUZu979"
      },
      "source": [
        "## Quiz. 리스트의 값을 절대값으로 바꾸기\n",
        "```\n",
        "l = [ 1, -3, 5, -7, 9 ]\n",
        "```"
      ]
    },
    {
      "cell_type": "code",
      "metadata": {
        "colab": {
          "base_uri": "https://localhost:8080/"
        },
        "id": "4SaWLRAMvNey",
        "outputId": "127e33de-13f6-4931-ab46-d37da9004ca6"
      },
      "source": [
        "l = [ 1, -3, 5, -7, 9 ]\n",
        "\n",
        "abs_l = []\n",
        "for i in l:\n",
        "  abs_l.append(abs(i))\n",
        "\n",
        "print(abs_l)"
      ],
      "execution_count": null,
      "outputs": [
        {
          "output_type": "stream",
          "text": [
            "[1, 3, 5, 7, 9]\n"
          ],
          "name": "stdout"
        }
      ]
    },
    {
      "cell_type": "code",
      "metadata": {
        "colab": {
          "base_uri": "https://localhost:8080/"
        },
        "id": "tMLnPHi1bC8i",
        "outputId": "f8e2bf5b-c4e3-46dc-8cfa-335ca64b2091"
      },
      "source": [
        "l = [ 1, -3, 5, -7, 9 ]\n",
        "\n",
        "l = [abs(i) for i in l]\n",
        "print(l)"
      ],
      "execution_count": null,
      "outputs": [
        {
          "output_type": "stream",
          "text": [
            "[1, 3, 5, 7, 9]\n"
          ],
          "name": "stdout"
        }
      ]
    },
    {
      "cell_type": "code",
      "metadata": {
        "id": "SSwOchHxa_ob"
      },
      "source": [
        ""
      ],
      "execution_count": null,
      "outputs": []
    },
    {
      "cell_type": "markdown",
      "metadata": {
        "id": "eqFOvELg-1a3"
      },
      "source": [
        "# 클래스\n",
        "```\n",
        "class MyClass:\n",
        "  def __init__(self):\n",
        "    ...\n",
        "  def some_function(self):\n",
        "    ...\n",
        "```"
      ]
    },
    {
      "cell_type": "code",
      "metadata": {
        "id": "HEyn2dU8-5-k",
        "colab": {
          "base_uri": "https://localhost:8080/"
        },
        "outputId": "d13fff70-8b85-4179-cc77-828ae8350538"
      },
      "source": [
        "class MyCalculator:\n",
        "  def __init__(self):\n",
        "    self.last_value = 0\n",
        "    print(\"instance created from class MyCalculator.\")\n",
        "\n",
        "  def plus(self, value):\n",
        "    self.last_value += value\n",
        "\n",
        "  def minus(self, value):\n",
        "    self.last_value -= value\n",
        "\n",
        "  def show_result(self):\n",
        "    print(self.last_value)\n",
        "\n",
        "c = MyCalculator()\n",
        "c.plus(3)\n",
        "c.plus(5)\n",
        "c.plus(2)\n",
        "c.minus(4)\n",
        "c.show_result()"
      ],
      "execution_count": null,
      "outputs": [
        {
          "output_type": "stream",
          "text": [
            "instance created from class MyCalculator.\n",
            "6\n"
          ],
          "name": "stdout"
        }
      ]
    },
    {
      "cell_type": "markdown",
      "metadata": {
        "id": "jsc6XLjuAtT3"
      },
      "source": [
        "## Quiz. 새로 연산될 때마다 출력"
      ]
    },
    {
      "cell_type": "markdown",
      "metadata": {
        "id": "mBk2eEBQJ20F"
      },
      "source": [
        "## 생성자 파라매터\n",
        "```\n",
        "class MyClass:\n",
        "  def __init__(self, init_value):\n",
        "    self.init_value\n",
        "```"
      ]
    },
    {
      "cell_type": "code",
      "metadata": {
        "id": "rabFjzwXAyLV",
        "colab": {
          "base_uri": "https://localhost:8080/"
        },
        "outputId": "efe728b7-3abb-42d1-9784-793e233d535f"
      },
      "source": [
        "class MyCalculator:\n",
        "  def __init__(self):\n",
        "    self.last_value = 0\n",
        "    print(\"instance created from class MyCalculator.\")\n",
        "\n",
        "  def plus(self, value):\n",
        "    self.last_value += value\n",
        "    self.show()\n",
        "\n",
        "  def minus(self, value):\n",
        "    self.last_value -= value\n",
        "    self.show()\n",
        "\n",
        "  def show(self):\n",
        "    print(self.last_value)\n",
        "\n",
        "c = MyCalculator()\n",
        "c.plus(3)\n",
        "c.plus(5)\n",
        "c.plus(2)\n",
        "c.minus(4)\n",
        "c.show()"
      ],
      "execution_count": null,
      "outputs": [
        {
          "output_type": "stream",
          "text": [
            "instance created from class MyCalculator.\n",
            "3\n",
            "8\n",
            "10\n",
            "6\n",
            "6\n"
          ],
          "name": "stdout"
        }
      ]
    },
    {
      "cell_type": "code",
      "metadata": {
        "id": "taM0f4IVCOVH",
        "colab": {
          "base_uri": "https://localhost:8080/"
        },
        "outputId": "b35e12be-840c-45c2-a436-01c94aa2cb59"
      },
      "source": [
        "class MyCalculator:\n",
        "  def __init__(self):\n",
        "    self.last_value = 0\n",
        "    print(\"instance created from class MyCalculator.\")\n",
        "\n",
        "  def plus(self, value):\n",
        "    self.last_value += value\n",
        "    self._show()\n",
        "\n",
        "  def minus(self, value):\n",
        "    self.last_value -= value\n",
        "    self._show()\n",
        "\n",
        "  def _show(self):\n",
        "    print(self.last_value)\n",
        "\n",
        "c = MyCalculator()\n",
        "c.plus(3)\n",
        "c.plus(5)\n",
        "c.plus(2)\n",
        "c.minus(4)"
      ],
      "execution_count": null,
      "outputs": [
        {
          "output_type": "stream",
          "text": [
            "instance created from class MyCalculator.\n",
            "3\n",
            "8\n",
            "10\n",
            "6\n"
          ],
          "name": "stdout"
        }
      ]
    },
    {
      "cell_type": "markdown",
      "metadata": {
        "id": "apwBr1F3IkvQ"
      },
      "source": [
        "show()를 외부에서 부를 필요가 없어졌다. 내부에서만 전용으로 사용하라는 의미로 _show() 이름으로 바꾸었다."
      ]
    },
    {
      "cell_type": "code",
      "metadata": {
        "id": "Z0FsH0-mItoU",
        "colab": {
          "base_uri": "https://localhost:8080/"
        },
        "outputId": "b6a5442f-e6b3-4794-d502-f391d1f8f796"
      },
      "source": [
        "class MyCalculator:\n",
        "  def __init__(self):\n",
        "    self._last_value = 0\n",
        "    print(\"instance created from class MyCalculator.\")\n",
        "\n",
        "  def plus(self, value):\n",
        "    self._last_value += value\n",
        "    self._show()\n",
        "\n",
        "  def minus(self, value):\n",
        "    self._last_value -= value\n",
        "    self._show()\n",
        "\n",
        "  def _show(self):\n",
        "    print(self._last_value)\n",
        "\n",
        "c = MyCalculator()\n",
        "c.plus(3)\n",
        "c.plus(5)\n",
        "c.plus(2)\n",
        "c.minus(4)"
      ],
      "execution_count": null,
      "outputs": [
        {
          "output_type": "stream",
          "text": [
            "instance created from class MyCalculator.\n",
            "3\n",
            "8\n",
            "10\n",
            "6\n"
          ],
          "name": "stdout"
        }
      ]
    },
    {
      "cell_type": "markdown",
      "metadata": {
        "id": "lZO3spH-I0IS"
      },
      "source": [
        "역시 self.last_value로 내부에서만 사용한다는 명시적인 목적으로 self._last_value로 변경하였다."
      ]
    },
    {
      "cell_type": "markdown",
      "metadata": {
        "id": "4Gn8sozrJT76"
      },
      "source": [
        "## Quiz. 출력 상세 여부를 클래스 생성시에 파라매터로 주어 True일 경우 다음과 같이 출력.\n",
        "```\n",
        "c = MyCalculator(True)\n",
        "```\n",
        "\n",
        "```\n",
        "0 + 3 = 3\n",
        "3 + 5 = 8\n",
        "8 + 2 = 10\n",
        "10 - 4 = 6\n",
        "```"
      ]
    },
    {
      "cell_type": "code",
      "metadata": {
        "id": "ocRulnVOBVcV",
        "colab": {
          "base_uri": "https://localhost:8080/"
        },
        "outputId": "e51b5199-a58c-4472-be3b-56eff139ca79"
      },
      "source": [
        "class MyCalculator:\n",
        "  def __init__(self, show_detail=False):\n",
        "    self._last_value = 0\n",
        "    self._show_detail = show_detail\n",
        "    print(\"instance created from class MyCalculator.\")\n",
        "\n",
        "  def plus(self, value):\n",
        "    old_value = self._last_value\n",
        "    self._last_value += value\n",
        "    self._show(old_value, \"+\", value)\n",
        "\n",
        "  def minus(self, value):\n",
        "    old_value = self._last_value\n",
        "    self._last_value -= value\n",
        "    self._show(old_value, \"-\", value)\n",
        "\n",
        "  def _show(self, old_value, operator, new_value):\n",
        "    if self._show_detail:\n",
        "      print(\"{} {} {} = {}\".format(old_value, operator, new_value, self._last_value))\n",
        "    else:\n",
        "      print(self._last_value)\n",
        "\n",
        "c = MyCalculator()\n",
        "c.plus(3)\n",
        "c.plus(5)\n",
        "c.plus(2)\n",
        "c.minus(4)\n",
        "\n",
        "\n",
        "c = MyCalculator(True)\n",
        "c.plus(3)\n",
        "c.plus(5)\n",
        "c.plus(2)\n",
        "c.minus(4)\n"
      ],
      "execution_count": null,
      "outputs": [
        {
          "output_type": "stream",
          "text": [
            "instance created from class MyCalculator.\n",
            "3\n",
            "8\n",
            "10\n",
            "6\n",
            "instance created from class MyCalculator.\n",
            "0 + 3 = 3\n",
            "3 + 5 = 8\n",
            "8 + 2 = 10\n",
            "10 - 4 = 6\n"
          ],
          "name": "stdout"
        }
      ]
    },
    {
      "cell_type": "markdown",
      "metadata": {
        "id": "sKoqMStDM9ZT"
      },
      "source": [
        "매전 전달하는 old_value를 클래스 속성으로 바꾸자."
      ]
    },
    {
      "cell_type": "code",
      "metadata": {
        "id": "6rxNBzUKEBCh",
        "colab": {
          "base_uri": "https://localhost:8080/"
        },
        "outputId": "153a569d-ea35-427f-d8fe-a7d69ece5065"
      },
      "source": [
        "class MyCalculator:\n",
        "  def __init__(self, show_detail=False):\n",
        "    self._old_value = 0\n",
        "    self._last_value = 0\n",
        "    self._show_detail = show_detail\n",
        "    print(\"instance created from class MyCalculator.\")\n",
        "\n",
        "  def plus(self, value):\n",
        "    self._old_value = self._last_value\n",
        "    self._last_value += value\n",
        "    self._show(\"+\", value)\n",
        "\n",
        "  def minus(self, value):\n",
        "    self._old_value = self._last_value\n",
        "    self._last_value -= value\n",
        "    self._show(\"-\", value)\n",
        "\n",
        "  def _show(self, operator, new_value):\n",
        "    if self._show_detail:\n",
        "      print(\"{} {} {} = {}\".format(self._old_value, operator, new_value, self._last_value))\n",
        "    else:\n",
        "      print(self._last_value)\n",
        "\n",
        "c = MyCalculator()\n",
        "c.plus(3)\n",
        "c.plus(5)\n",
        "c.plus(2)\n",
        "c.minus(4)\n",
        "\n",
        "\n",
        "c = MyCalculator(True)\n",
        "c.plus(3)\n",
        "c.plus(5)\n",
        "c.plus(2)\n",
        "c.minus(4)\n"
      ],
      "execution_count": null,
      "outputs": [
        {
          "output_type": "stream",
          "text": [
            "instance created from class MyCalculator.\n",
            "3\n",
            "8\n",
            "10\n",
            "6\n",
            "instance created from class MyCalculator.\n",
            "0 + 3 = 3\n",
            "3 + 5 = 8\n",
            "8 + 2 = 10\n",
            "10 - 4 = 6\n"
          ],
          "name": "stdout"
        }
      ]
    },
    {
      "cell_type": "markdown",
      "metadata": {
        "id": "s44Cq511L-J_"
      },
      "source": [
        "# 실습 - 계산기"
      ]
    },
    {
      "cell_type": "markdown",
      "metadata": {
        "id": "iUDQQk3NBj0R"
      },
      "source": [
        "## Quiz. 현재 값을 초기화하는 clear() 추가"
      ]
    },
    {
      "cell_type": "code",
      "metadata": {
        "id": "iaO6ELQFBnns",
        "colab": {
          "base_uri": "https://localhost:8080/"
        },
        "outputId": "8f99c1e6-197c-4459-b817-fac12ae7f521"
      },
      "source": [
        "class MyCalculator:\n",
        "  def __init__(self, show_detail=False):\n",
        "    self._old_value = 0\n",
        "    self._last_value = 0\n",
        "    self._show_detail = show_detail\n",
        "    print(\"instance created from class MyCalculator.\")\n",
        "\n",
        "  def plus(self, value):\n",
        "    self._old_value = self._last_value\n",
        "    self._last_value += value\n",
        "    self._show(\"+\", value)\n",
        "\n",
        "  def minus(self, value):\n",
        "    self._old_value = self._last_value\n",
        "    self._last_value -= value\n",
        "    self._show(\"-\", value)\n",
        "\n",
        "  def clear(self):\n",
        "    self._old_value = 0\n",
        "    self._last_value = 0\n",
        "    print(\"cleared\")\n",
        "\n",
        "  def _show(self, operator, new_value):\n",
        "    if self._show_detail:\n",
        "      print(\"{} {} {} = {}\".format(self._old_value, operator, new_value, self._last_value))\n",
        "    else:\n",
        "      print(self._last_value)\n",
        "\n",
        "c = MyCalculator()\n",
        "c.plus(3)\n",
        "c.plus(5)\n",
        "c.plus(2)\n",
        "c.minus(4)\n",
        "\n",
        "c.clear()\n",
        "c.plus(3)\n",
        "c.plus(5)\n",
        "c.plus(2)\n",
        "c.minus(4)\n"
      ],
      "execution_count": null,
      "outputs": [
        {
          "output_type": "stream",
          "text": [
            "instance created from class MyCalculator.\n",
            "3\n",
            "8\n",
            "10\n",
            "6\n",
            "cleared\n",
            "3\n",
            "8\n",
            "10\n",
            "6\n"
          ],
          "name": "stdout"
        }
      ]
    },
    {
      "cell_type": "markdown",
      "metadata": {
        "id": "rxb7tocMBFEU"
      },
      "source": [
        "## Quiz. \"+ 3\", \"- 4\"를 해석해서 처리하는 cal() 추가"
      ]
    },
    {
      "cell_type": "code",
      "metadata": {
        "id": "H3mysEXNArRW",
        "colab": {
          "base_uri": "https://localhost:8080/"
        },
        "outputId": "45a11e9a-9e7a-4598-aba6-fb8396b3bc26"
      },
      "source": [
        "class MyCalculator:\n",
        "  def __init__(self, show_detail=False):\n",
        "    self._old_value = 0\n",
        "    self._last_value = 0\n",
        "    self._show_detail = show_detail\n",
        "    print(\"instance created from class MyCalculator.\")\n",
        "\n",
        "  def _plus(self, value):\n",
        "    self._old_value = self._last_value\n",
        "    self._last_value += value\n",
        "    self._show(\"+\", value)\n",
        "\n",
        "  def _minus(self, value):\n",
        "    self._old_value = self._last_value\n",
        "    self._last_value -= value\n",
        "    self._show(\"-\", value)\n",
        "\n",
        "  def clear(self):\n",
        "    self._old_value = 0\n",
        "    self._last_value = 0\n",
        "    print(\"cleared\")\n",
        "\n",
        "  def calc(self, input):\n",
        "    inputs = input.split(\" \")\n",
        "    operator = inputs[0]\n",
        "    value = int(inputs[1])\n",
        "    if operator == \"+\":\n",
        "      self._plus(value)\n",
        "    if operator == \"-\":\n",
        "      self._minus(value)\n",
        "\n",
        "  def _show(self, operator, new_value):\n",
        "    if self._show_detail:\n",
        "      print(\"{} {} {} = {}\".format(self._old_value, operator, new_value, self._last_value))\n",
        "    else:\n",
        "      print(self._last_value)\n",
        "\n",
        "c = MyCalculator()\n",
        "c.calc(\"+ 3\")\n",
        "c.calc(\"+ 5\")\n",
        "c.calc(\"+ 2\")\n",
        "c.calc(\"- 4\")"
      ],
      "execution_count": null,
      "outputs": [
        {
          "output_type": "stream",
          "text": [
            "instance created from class MyCalculator.\n",
            "3\n",
            "8\n",
            "10\n",
            "6\n"
          ],
          "name": "stdout"
        }
      ]
    },
    {
      "cell_type": "markdown",
      "metadata": {
        "id": "WeOthG8AK_iP"
      },
      "source": [
        "## Quiz. 다소 길이가 긴 calc()를 리팩터링"
      ]
    },
    {
      "cell_type": "code",
      "metadata": {
        "id": "AB245dsOGXiN",
        "colab": {
          "base_uri": "https://localhost:8080/"
        },
        "outputId": "ef0337aa-20b7-4960-9330-b49a70a7e1d6"
      },
      "source": [
        "class MyCalculator:\n",
        "  def __init__(self, show_detail=False):\n",
        "    self._old_value = 0\n",
        "    self._last_value = 0\n",
        "    self._show_detail = show_detail\n",
        "    print(\"instance created from class MyCalculator.\")\n",
        "\n",
        "  def _plus(self, value):\n",
        "    self._old_value = self._last_value\n",
        "    self._last_value += value\n",
        "    self._show(\"+\", value)\n",
        "\n",
        "  def _minus(self, value):\n",
        "    self._old_value = self._last_value\n",
        "    self._last_value -= value\n",
        "    self._show(\"-\", value)\n",
        "\n",
        "  def clear(self):\n",
        "    self._old_value = 0\n",
        "    self._last_value = 0\n",
        "    print(\"cleared\")\n",
        "\n",
        "  def _parse_input(self, input):\n",
        "    inputs = input.split(\" \")\n",
        "    operator = inputs[0]\n",
        "    value = int(inputs[1])\n",
        "    return operator, value\n",
        "\n",
        "  def calc(self, input):\n",
        "    operator, value = self._parse_input(input)\n",
        "    if operator == \"+\":\n",
        "      self._plus(value)\n",
        "    if operator == \"-\":\n",
        "      self._minus(value)\n",
        "\n",
        "  def _show(self, operator, new_value):\n",
        "    if self._show_detail:\n",
        "      print(\"{} {} {} = {}\".format(self._old_value, operator, new_value, self._last_value))\n",
        "    else:\n",
        "      print(self._last_value)\n",
        "\n",
        "c = MyCalculator()\n",
        "c.calc(\"+ 3\")\n",
        "c.calc(\"+ 5\")\n",
        "c.calc(\"+ 2\")\n",
        "c.calc(\"- 4\")"
      ],
      "execution_count": null,
      "outputs": [
        {
          "output_type": "stream",
          "text": [
            "instance created from class MyCalculator.\n",
            "3\n",
            "8\n",
            "10\n",
            "6\n"
          ],
          "name": "stdout"
        }
      ]
    },
    {
      "cell_type": "markdown",
      "metadata": {
        "id": "6AFF4D9XLHnr"
      },
      "source": [
        "## Quiz. 대신 길이가 길어진 _parse_input()을 리팩터링"
      ]
    },
    {
      "cell_type": "code",
      "metadata": {
        "id": "m6IQnSZqHfK9",
        "colab": {
          "base_uri": "https://localhost:8080/"
        },
        "outputId": "6c6eaa54-879d-45b8-833b-592bd9729d68"
      },
      "source": [
        "class MyCalculator:\n",
        "  def __init__(self, show_detail=False):\n",
        "    self._old_value = 0\n",
        "    self._last_value = 0\n",
        "    self._show_detail = show_detail\n",
        "    print(\"instance created from class MyCalculator.\")\n",
        "\n",
        "  def _plus(self, value):\n",
        "    self._old_value = self._last_value\n",
        "    self._last_value += value\n",
        "    self._show(\"+\", value)\n",
        "\n",
        "  def _minus(self, value):\n",
        "    self._old_value = self._last_value\n",
        "    self._last_value -= value\n",
        "    self._show(\"-\", value)\n",
        "\n",
        "  def clear(self):\n",
        "    self._old_value = 0\n",
        "    self._last_value = 0\n",
        "    print(\"cleared\")\n",
        "\n",
        "  def _parse_input(self, input):\n",
        "    inputs = input.split(\" \")\n",
        "    operator = inputs[0]\n",
        "    value = int(inputs[1])\n",
        "    if operator == \"+\":\n",
        "      target_function = self._plus\n",
        "    if operator == \"-\":\n",
        "      target_function = self._minus\n",
        "    return target_function, value\n",
        "    \n",
        "  def calc(self, input):\n",
        "    target_function, value = self._parse_input(input)\n",
        "    target_function(value)\n",
        "\n",
        "  def _show(self, operator, new_value):\n",
        "    if self._show_detail:\n",
        "      print(\"{} {} {} = {}\".format(self._old_value, operator, new_value, self._last_value))\n",
        "    else:\n",
        "      print(self._last_value)\n",
        "\n",
        "c = MyCalculator()\n",
        "c.calc(\"+ 3\")\n",
        "c.calc(\"+ 5\")\n",
        "c.calc(\"+ 2\")\n",
        "c.calc(\"- 4\")"
      ],
      "execution_count": null,
      "outputs": [
        {
          "output_type": "stream",
          "text": [
            "instance created from class MyCalculator.\n",
            "3\n",
            "8\n",
            "10\n",
            "6\n"
          ],
          "name": "stdout"
        }
      ]
    },
    {
      "cell_type": "code",
      "metadata": {
        "id": "MiDkg5Z0Gp7D",
        "colab": {
          "base_uri": "https://localhost:8080/"
        },
        "outputId": "d0647acc-5191-4b70-a5ef-56564555f2fb"
      },
      "source": [
        "class MyCalculator:\n",
        "  def __init__(self, show_detail=False):\n",
        "    self.old_value = 0\n",
        "    self.last_value = 0\n",
        "    self.show_detail = show_detail\n",
        "    print(\"instance created from class MyCalculator.\")\n",
        "\n",
        "  def _plus(self, value):\n",
        "    self.old_value = self.last_value\n",
        "    self.last_value += value\n",
        "    self._show(\"+\", value)\n",
        "\n",
        "  def _minus(self, value):\n",
        "    self.old_value = self.last_value\n",
        "    self.last_value -= value\n",
        "    self._show(\"-\", value)\n",
        "\n",
        "  def clear(self):\n",
        "    self.old_value = 0\n",
        "    self.last_value = 0\n",
        "    print(\"cleared\")\n",
        "\n",
        "  def _parse_into_operator_and_value(self, input):\n",
        "    inputs = input.split(\" \")\n",
        "    operator = inputs[0]\n",
        "    value = int(inputs[1])\n",
        "    return operator, value\n",
        "\n",
        "  def _parse_input(self, input):\n",
        "    operator, value = self._parse_into_operator_and_value(input)\n",
        "    if operator == \"+\":\n",
        "      target_function = self._plus\n",
        "    if operator == \"-\":\n",
        "      target_function = self._minus\n",
        "    return target_function, value\n",
        "    \n",
        "  def calc(self, input):\n",
        "    target_function, value = self._parse_input(input)\n",
        "    target_function(value)\n",
        "\n",
        "  def _show(self, operator, new_value):\n",
        "    if self.show_detail:\n",
        "      print(\"{} {} {} = {}\".format(self.old_value, operator, new_value, self.last_value))\n",
        "    else:\n",
        "      print(self.last_value)\n",
        "\n",
        "c = MyCalculator()\n",
        "c.calc(\"+ 3\")\n",
        "c.calc(\"+ 5\")\n",
        "c.calc(\"+ 2\")\n",
        "c.calc(\"- 4\")"
      ],
      "execution_count": null,
      "outputs": [
        {
          "output_type": "stream",
          "text": [
            "instance created from class MyCalculator.\n",
            "3\n",
            "8\n",
            "10\n",
            "6\n"
          ],
          "name": "stdout"
        }
      ]
    },
    {
      "cell_type": "code",
      "metadata": {
        "id": "JA8Q7s3AHnz2",
        "colab": {
          "base_uri": "https://localhost:8080/"
        },
        "outputId": "62544b6e-da64-4d17-a602-ce6bb02d232d"
      },
      "source": [
        "class MyCalculator:\n",
        "\n",
        "  def __init__(self, show_detail=False):\n",
        "    self.old_value = 0\n",
        "    self.last_value = 0\n",
        "    self.show_detail = show_detail\n",
        "    self._function_map = {\n",
        "      \"+\" : self._plus,\n",
        "      \"-\" : self._minus    \n",
        "    }\n",
        "    print(\"instance created from class MyCalculator.\")\n",
        "\n",
        "  def _plus(self, value):\n",
        "    self.old_value = self.last_value\n",
        "    self.last_value += value\n",
        "    self._show(\"+\", value)\n",
        "\n",
        "  def _minus(self, value):\n",
        "    self.old_value = self.last_value\n",
        "    self.last_value -= value\n",
        "    self._show(\"-\", value)\n",
        "\n",
        "  def clear(self):\n",
        "    self.old_value = 0\n",
        "    self.last_value = 0\n",
        "    print(\"cleared\")\n",
        "\n",
        "  def _parse_into_operator_and_value(self, input):\n",
        "    inputs = input.split(\" \")\n",
        "    operator = inputs[0]\n",
        "    value = int(inputs[1])\n",
        "    return operator, value\n",
        "\n",
        "  def _parse_input(self, input):\n",
        "    operator, value = self._parse_into_operator_and_value(input)\n",
        "    target_function = self._function_map[operator]\n",
        "    return target_function, value\n",
        "    \n",
        "  def calc(self, input):\n",
        "    target_function, value = self._parse_input(input)\n",
        "    target_function(value)\n",
        "\n",
        "  def _show(self, operator, new_value):\n",
        "    if self.show_detail:\n",
        "      print(\"{} {} {} = {}\".format(self.old_value, operator, new_value, self.last_value))\n",
        "    else:\n",
        "      print(self.last_value)\n",
        "\n",
        "c = MyCalculator()\n",
        "c.calc(\"+ 3\")\n",
        "c.calc(\"+ 5\")\n",
        "c.calc(\"+ 2\")\n",
        "c.calc(\"- 4\")"
      ],
      "execution_count": null,
      "outputs": [
        {
          "output_type": "stream",
          "text": [
            "instance created from class MyCalculator.\n",
            "3\n",
            "8\n",
            "10\n",
            "6\n"
          ],
          "name": "stdout"
        }
      ]
    },
    {
      "cell_type": "markdown",
      "metadata": {
        "id": "gYpWT3C9GCWB"
      },
      "source": [
        "## Quiz. 다음에도 동작하도록\n",
        "```\n",
        "c.calc(\"+ 3\")\n",
        "c.calc(\"+5\")\n",
        "c.calc(\"2\")\n",
        "c.calc(\"- 4\")\n",
        "c.calc(\"-3\")\n",
        "```"
      ]
    },
    {
      "cell_type": "code",
      "metadata": {
        "id": "1K4VbBalGQYP",
        "colab": {
          "base_uri": "https://localhost:8080/"
        },
        "outputId": "9745bd15-adb0-41bf-b845-4f3a82cdfb9d"
      },
      "source": [
        "class MyCalculator:\n",
        "\n",
        "  def __init__(self, show_detail=False):\n",
        "    self.old_value = 0\n",
        "    self.last_value = 0\n",
        "    self.show_detail = show_detail\n",
        "    self._function_map = {\n",
        "      \"+\" : self._plus,\n",
        "      \"-\" : self._minus    \n",
        "    }\n",
        "    print(\"instance created from class MyCalculator.\")\n",
        "\n",
        "  def _plus(self, value):\n",
        "    self.old_value = self.last_value\n",
        "    self.last_value += value\n",
        "    self._show(\"+\", value)\n",
        "\n",
        "  def _minus(self, value):\n",
        "    self.old_value = self.last_value\n",
        "    self.last_value -= value\n",
        "    self._show(\"-\", value)\n",
        "\n",
        "  def clear(self):\n",
        "    self.old_value = 0\n",
        "    self.last_value = 0\n",
        "    print(\"cleared\")\n",
        "\n",
        "  def _parse_into_operator_and_value(self, input):\n",
        "    input = input.replace(\" \", \"\")\n",
        "    operator = \"+\"\n",
        "    if input.startswith(\"+\"):\n",
        "      operator = \"+\"\n",
        "      input = input.replace(\"+\", \"\")\n",
        "    elif input.startswith(\"-\"):\n",
        "      operator = \"-\"\n",
        "      input = input.replace(\"-\", \"\")\n",
        "    value = int(input)\n",
        "    return operator, value\n",
        "\n",
        "  def _parse_input(self, input):\n",
        "    operator, value = self._parse_into_operator_and_value(input)\n",
        "    target_function = self._function_map[operator]\n",
        "    return target_function, value\n",
        "    \n",
        "  def calc(self, input):\n",
        "    target_function, value = self._parse_input(input)\n",
        "    target_function(value)\n",
        "\n",
        "  def _show(self, operator, new_value):\n",
        "    if self.show_detail:\n",
        "      print(\"{} {} {} = {}\".format(self.old_value, operator, new_value, self.last_value))\n",
        "    else:\n",
        "      print(self.last_value)\n",
        "\n",
        "c = MyCalculator()\n",
        "c.calc(\"+ 3\")\n",
        "c.calc(\"+5\")\n",
        "c.calc(\"2\")\n",
        "c.calc(\"- 4\")\n",
        "c.calc(\"-3\")"
      ],
      "execution_count": null,
      "outputs": [
        {
          "output_type": "stream",
          "text": [
            "instance created from class MyCalculator.\n",
            "3\n",
            "8\n",
            "10\n",
            "6\n",
            "3\n"
          ],
          "name": "stdout"
        }
      ]
    },
    {
      "cell_type": "markdown",
      "metadata": {
        "id": "tNlJnqIOjiXy"
      },
      "source": [
        "# 실습 - 디렉토리 탐색"
      ]
    },
    {
      "cell_type": "markdown",
      "metadata": {
        "id": "WCk9hVsQk5H8"
      },
      "source": [
        "## split(), join()"
      ]
    },
    {
      "cell_type": "code",
      "metadata": {
        "colab": {
          "base_uri": "https://localhost:8080/"
        },
        "id": "Z6KbpYCVk8A0",
        "outputId": "94a61e98-1de3-4608-c62f-fe2cbaef8989"
      },
      "source": [
        "path = \"/some/path/to/data\"\n",
        "\n",
        "pathes = path.split()\n",
        "print(pathes)\n"
      ],
      "execution_count": null,
      "outputs": [
        {
          "output_type": "stream",
          "text": [
            "['/some/path/to/data']\n"
          ],
          "name": "stdout"
        }
      ]
    },
    {
      "cell_type": "code",
      "metadata": {
        "colab": {
          "base_uri": "https://localhost:8080/"
        },
        "id": "H14NnbyrlYik",
        "outputId": "e9795a64-7c13-4017-a339-bd2fab643f8e"
      },
      "source": [
        "full_path = \"/\".join(pathes)\n",
        "print(full_path)"
      ],
      "execution_count": null,
      "outputs": [
        {
          "output_type": "stream",
          "text": [
            "/some/path/to/data\n"
          ],
          "name": "stdout"
        }
      ]
    },
    {
      "cell_type": "code",
      "metadata": {
        "colab": {
          "base_uri": "https://localhost:8080/"
        },
        "id": "TAj-oxcoleXo",
        "outputId": "1f910c9d-2b04-44f8-b9be-26db87ad4605"
      },
      "source": [
        "full_path = \"/\".join([\"/some/base/path\", \"my_path\", \"my_file.txt\"])\n",
        "print(full_path)"
      ],
      "execution_count": null,
      "outputs": [
        {
          "output_type": "stream",
          "text": [
            "/some/base/path/my_path/my_file.txt\n"
          ],
          "name": "stdout"
        }
      ]
    },
    {
      "cell_type": "markdown",
      "metadata": {
        "id": "ku2GqdChlsO_"
      },
      "source": [
        "## 연습 데이터 다운로드"
      ]
    },
    {
      "cell_type": "code",
      "metadata": {
        "colab": {
          "base_uri": "https://localhost:8080/"
        },
        "id": "m7zX11MGiWST",
        "outputId": "43624942-ac63-4a30-edab-89d70549aa02"
      },
      "source": [
        "!wget http://www.robots.ox.ac.uk/~vgg/data/pets/data/annotations.tar.gz"
      ],
      "execution_count": null,
      "outputs": [
        {
          "output_type": "stream",
          "text": [
            "--2021-05-05 12:38:32--  http://www.robots.ox.ac.uk/~vgg/data/pets/data/annotations.tar.gz\n",
            "Resolving www.robots.ox.ac.uk (www.robots.ox.ac.uk)... 129.67.94.2\n",
            "Connecting to www.robots.ox.ac.uk (www.robots.ox.ac.uk)|129.67.94.2|:80... connected.\n",
            "HTTP request sent, awaiting response... 301 Moved Permanently\n",
            "Location: https://www.robots.ox.ac.uk/~vgg/data/pets/data/annotations.tar.gz [following]\n",
            "--2021-05-05 12:38:33--  https://www.robots.ox.ac.uk/~vgg/data/pets/data/annotations.tar.gz\n",
            "Connecting to www.robots.ox.ac.uk (www.robots.ox.ac.uk)|129.67.94.2|:443... connected.\n",
            "HTTP request sent, awaiting response... 200 OK\n",
            "Length: 19173078 (18M) [application/x-gzip]\n",
            "Saving to: ‘annotations.tar.gz’\n",
            "\n",
            "annotations.tar.gz  100%[===================>]  18.28M  6.04MB/s    in 3.0s    \n",
            "\n",
            "2021-05-05 12:38:37 (6.04 MB/s) - ‘annotations.tar.gz’ saved [19173078/19173078]\n",
            "\n"
          ],
          "name": "stdout"
        }
      ]
    },
    {
      "cell_type": "code",
      "metadata": {
        "id": "p_lmjll4iwEw"
      },
      "source": [
        "!tar xvfz annotations.tar.gz"
      ],
      "execution_count": null,
      "outputs": []
    },
    {
      "cell_type": "markdown",
      "metadata": {
        "id": "rpxYu1Oyjj1k"
      },
      "source": [
        "```\n",
        "annotations/\n",
        "  trimaps/\n",
        "    Abyssinian_1.png\n",
        "    Abyssinian_10.png\n",
        "    Abyssinian_100.png\n",
        "    ...\n",
        "  xmls/\n",
        "    Abyssinian_1.xml\n",
        "    Abyssinian_10.xml\n",
        "    Abyssinian_100.xml\n",
        "    ...\n",
        "  README\n",
        "  list.txt\n",
        "  test.txt\n",
        "  trainval.txt\n",
        "  ```"
      ]
    },
    {
      "cell_type": "markdown",
      "metadata": {
        "id": "Ob2wI2tblzEL"
      },
      "source": [
        "## anotations 디렉토리 내의 내용 보기"
      ]
    },
    {
      "cell_type": "code",
      "metadata": {
        "colab": {
          "base_uri": "https://localhost:8080/"
        },
        "id": "lzYkofw8jInT",
        "outputId": "d08c5eb0-1904-43cc-d008-437fdeeccafb"
      },
      "source": [
        "import os\n",
        "\n",
        "path_names = os.listdir(\".\")\n",
        "print(path_names)"
      ],
      "execution_count": null,
      "outputs": [
        {
          "output_type": "stream",
          "text": [
            "['.config', 'annotations.tar.gz', 'annotations', 'sample_data']\n"
          ],
          "name": "stdout"
        }
      ]
    },
    {
      "cell_type": "code",
      "metadata": {
        "colab": {
          "base_uri": "https://localhost:8080/"
        },
        "id": "2o3fGo4Ll6I9",
        "outputId": "056baec1-6581-430f-fd9b-60dabea3729a"
      },
      "source": [
        "path_names = os.listdir(\"annotations\")\n",
        "print(path_names)"
      ],
      "execution_count": null,
      "outputs": [
        {
          "output_type": "stream",
          "text": [
            "['._trimaps', 'trainval.txt', 'README', 'trimaps', 'list.txt', 'xmls', 'test.txt']\n"
          ],
          "name": "stdout"
        }
      ]
    },
    {
      "cell_type": "markdown",
      "metadata": {
        "id": "n88CYWGul9_K"
      },
      "source": [
        "## annotations 디렉토리 내의 내용을 파일과 디렉토리로 분리"
      ]
    },
    {
      "cell_type": "code",
      "metadata": {
        "colab": {
          "base_uri": "https://localhost:8080/"
        },
        "id": "lN0O6LLBjIif",
        "outputId": "7f884841-cfa8-41bd-e1d1-3c3e7857e826"
      },
      "source": [
        "path_names = os.listdir(\"annotations\")\n",
        "print(path_names)\n",
        "\n",
        "file_list = []\n",
        "dir_list = []\n",
        "for path_name in path_names:\n",
        "  target_path = \"/\".join([\"annotations\", path_name])\n",
        "  if os.path.isfile(target_path):\n",
        "    file_list.append(target_path)\n",
        "  elif os.path.isdir(target_path):\n",
        "    dir_list.append(target_path)\n",
        "\n",
        "print(file_list)\n",
        "print(dir_list)"
      ],
      "execution_count": null,
      "outputs": [
        {
          "output_type": "stream",
          "text": [
            "['._trimaps', 'trainval.txt', 'README', 'trimaps', 'list.txt', 'xmls', 'test.txt']\n",
            "['annotations/._trimaps', 'annotations/trainval.txt', 'annotations/README', 'annotations/list.txt', 'annotations/test.txt']\n",
            "['annotations/trimaps', 'annotations/xmls']\n"
          ],
          "name": "stdout"
        }
      ]
    },
    {
      "cell_type": "markdown",
      "metadata": {
        "id": "nX5wIQXNpoD2"
      },
      "source": [
        "## annotations/README 내용 보기"
      ]
    },
    {
      "cell_type": "code",
      "metadata": {
        "colab": {
          "base_uri": "https://localhost:8080/"
        },
        "id": "FneEAvR-prAc",
        "outputId": "0506b05b-0929-4cdb-c2f9-f84aea101639"
      },
      "source": [
        "target_file = \"/\".join([\"annotations\", \"README\"])\n",
        "f = open(target_file, \"r\")\n",
        "lines = f.readlines()\n",
        "f.close()\n",
        "\n",
        "for line in lines:\n",
        "  line = line.strip()\n",
        "  print(line)"
      ],
      "execution_count": null,
      "outputs": [
        {
          "output_type": "stream",
          "text": [
            "OXFORD-IIIT PET Dataset\n",
            "-----------------------\n",
            "Omkar M Parkhi, Andrea Vedaldi, Andrew Zisserman and C. V. Jawahar\n",
            "\n",
            "We have created a 37 category pet dataset with roughly 200 images for each class.\n",
            "The images have a large variations in scale, pose and lighting. All images have an\n",
            "associated ground truth annotation of breed, head ROI, and pixel\n",
            "level trimap segmentation.\n",
            "\n",
            "Contents:\n",
            "--------\n",
            "trimaps/ \tTrimap annotations for every image in the dataset\n",
            "Pixel Annotations: 1: Foreground 2:Background 3: Not classified\n",
            "xmls/\t\tHead bounding box annotations in PASCAL VOC Format\n",
            "\n",
            "list.txt\tCombined list of all images in the dataset\n",
            "Each entry in the file is of following nature:\n",
            "Image CLASS-ID SPECIES BREED ID\n",
            "ID: 1:37 Class ids\n",
            "SPECIES: 1:Cat 2:Dog\n",
            "BREED ID: 1-25:Cat 1:12:Dog\n",
            "All images with 1st letter as captial are cat images while\n",
            "images with small first letter are dog images.\n",
            "trainval.txt\tFiles describing splits used in the paper.However,\n",
            "test.txt\tyou are encouraged to try random splits.\n",
            "\n",
            "\n",
            "\n",
            "Support:\n",
            "-------\n",
            "For any queries contact,\n",
            "\n",
            "Omkar Parkhi: omkar@robots.ox.ac.uk\n",
            "\n",
            "References:\n",
            "----------\n",
            "[1] O. M. Parkhi, A. Vedaldi, A. Zisserman, C. V. Jawahar\n",
            "Cats and Dogs\n",
            "IEEE Conference on Computer Vision and Pattern Recognition, 2012\n",
            "\n",
            "Note:\n",
            "----\n",
            "Dataset is made available for research purposes only. Use of these images must respect\n",
            "the corresponding terms of use of original websites from which they are taken.\n",
            "See [1] for list of websites.\n"
          ],
          "name": "stdout"
        }
      ]
    },
    {
      "cell_type": "markdown",
      "metadata": {
        "id": "Itkqdq1jmR2u"
      },
      "source": [
        "## annotations 디렉토리의 하부 디렉토리 내용 구하기"
      ]
    },
    {
      "cell_type": "code",
      "metadata": {
        "colab": {
          "base_uri": "https://localhost:8080/"
        },
        "id": "3bMau4Mojthw",
        "outputId": "add8db5d-e238-4562-9917-26fb0062d923"
      },
      "source": [
        "for dir_path in dir_list:\n",
        "  print(dir_path)"
      ],
      "execution_count": null,
      "outputs": [
        {
          "output_type": "stream",
          "text": [
            "annotations/trimaps\n",
            "annotations/xmls\n"
          ],
          "name": "stdout"
        }
      ]
    },
    {
      "cell_type": "code",
      "metadata": {
        "colab": {
          "base_uri": "https://localhost:8080/"
        },
        "id": "L6c3EVPWm6y-",
        "outputId": "f3b023df-8f86-48cb-f9f8-a452de66f431"
      },
      "source": [
        "for dir_path in dir_list:\n",
        "  print(dir_path)\n",
        "\n",
        "  path_names = os.listdir(dir_path)\n",
        "  print(path_names[:10])\n",
        "  print(len(path_names))"
      ],
      "execution_count": null,
      "outputs": [
        {
          "output_type": "stream",
          "text": [
            "annotations/trimaps\n",
            "['._chihuahua_113.png', '._beagle_201.png', 'saint_bernard_56.png', 'boxer_198.png', 'basset_hound_128.png', '._keeshond_9.png', 'Birman_164.png', '._american_pit_bull_terrier_22.png', '._great_pyrenees_107.png', '._Ragdoll_79.png']\n",
            "14780\n",
            "annotations/xmls\n",
            "['keeshond_148.xml', 'Siamese_139.xml', 'leonberger_160.xml', 'keeshond_133.xml', 'Egyptian_Mau_184.xml', 'Bombay_14.xml', 'staffordshire_bull_terrier_100.xml', 'english_setter_12.xml', 'Ragdoll_138.xml', 'pomeranian_145.xml']\n",
            "3686\n"
          ],
          "name": "stdout"
        }
      ]
    },
    {
      "cell_type": "markdown",
      "metadata": {
        "id": "3k43Zj0FoKsF"
      },
      "source": [
        "## png 파일 이름들 구하기"
      ]
    },
    {
      "cell_type": "code",
      "metadata": {
        "colab": {
          "base_uri": "https://localhost:8080/"
        },
        "id": "7FxRS77poO7H",
        "outputId": "27d1ac37-6cf6-4c71-93fe-d5b271a33b6a"
      },
      "source": [
        "target_dir_name = \"/\".join([\"annotations\", \"trimaps\"])\n",
        "path_names = os.listdir(target_dir_name)\n",
        "\n",
        "print(path_names[:10])\n",
        "print(len(path_names))\n",
        "\n",
        "png_file_names = []\n",
        "for path_name in path_names:\n",
        "  full_path_name = \"/\".join([target_dir_name, path_name])\n",
        "  png_file_names.append(full_path_name)\n",
        "\n",
        "print(png_file_names[:10])\n",
        "print(len(png_file_names))"
      ],
      "execution_count": null,
      "outputs": [
        {
          "output_type": "stream",
          "text": [
            "['._chihuahua_113.png', '._beagle_201.png', 'saint_bernard_56.png', 'boxer_198.png', 'basset_hound_128.png', '._keeshond_9.png', 'Birman_164.png', '._american_pit_bull_terrier_22.png', '._great_pyrenees_107.png', '._Ragdoll_79.png']\n",
            "14780\n",
            "['annotations/trimaps/._chihuahua_113.png', 'annotations/trimaps/._beagle_201.png', 'annotations/trimaps/saint_bernard_56.png', 'annotations/trimaps/boxer_198.png', 'annotations/trimaps/basset_hound_128.png', 'annotations/trimaps/._keeshond_9.png', 'annotations/trimaps/Birman_164.png', 'annotations/trimaps/._american_pit_bull_terrier_22.png', 'annotations/trimaps/._great_pyrenees_107.png', 'annotations/trimaps/._Ragdoll_79.png']\n",
            "14780\n"
          ],
          "name": "stdout"
        }
      ]
    },
    {
      "cell_type": "markdown",
      "metadata": {
        "id": "ouN5V9NbpErz"
      },
      "source": [
        "## xml 파일 이름들 구하기"
      ]
    },
    {
      "cell_type": "code",
      "metadata": {
        "colab": {
          "base_uri": "https://localhost:8080/"
        },
        "id": "f3iI5Bd9o8rA",
        "outputId": "f595b18a-3b16-455a-95dc-2a3b3d674ffa"
      },
      "source": [
        "target_dir_name = \"/\".join([\"annotations\", \"xmls\"])\n",
        "path_names = os.listdir(target_dir_name)\n",
        "\n",
        "print(path_names[:10])\n",
        "print(len(path_names))\n",
        "\n",
        "xml_file_names = []\n",
        "for path_name in path_names:\n",
        "  full_path_name = \"/\".join([target_dir_name, path_name])\n",
        "  xml_file_names.append(full_path_name)\n",
        "\n",
        "print(xml_file_names[:10])\n",
        "print(len(xml_file_names))"
      ],
      "execution_count": null,
      "outputs": [
        {
          "output_type": "stream",
          "text": [
            "['keeshond_148.xml', 'Siamese_139.xml', 'leonberger_160.xml', 'keeshond_133.xml', 'Egyptian_Mau_184.xml', 'Bombay_14.xml', 'staffordshire_bull_terrier_100.xml', 'english_setter_12.xml', 'Ragdoll_138.xml', 'pomeranian_145.xml']\n",
            "3686\n",
            "['annotations/xmls/keeshond_148.xml', 'annotations/xmls/Siamese_139.xml', 'annotations/xmls/leonberger_160.xml', 'annotations/xmls/keeshond_133.xml', 'annotations/xmls/Egyptian_Mau_184.xml', 'annotations/xmls/Bombay_14.xml', 'annotations/xmls/staffordshire_bull_terrier_100.xml', 'annotations/xmls/english_setter_12.xml', 'annotations/xmls/Ragdoll_138.xml', 'annotations/xmls/pomeranian_145.xml']\n",
            "3686\n"
          ],
          "name": "stdout"
        }
      ]
    },
    {
      "cell_type": "code",
      "metadata": {
        "id": "-uJJB8XmjIRn"
      },
      "source": [
        ""
      ],
      "execution_count": null,
      "outputs": []
    },
    {
      "cell_type": "code",
      "metadata": {
        "id": "SX_r3H4cjIL-"
      },
      "source": [
        ""
      ],
      "execution_count": null,
      "outputs": []
    },
    {
      "cell_type": "code",
      "metadata": {
        "id": "ifXDLWUfjIAz"
      },
      "source": [
        ""
      ],
      "execution_count": null,
      "outputs": []
    },
    {
      "cell_type": "code",
      "metadata": {
        "id": "FeCFV8D-YyBe"
      },
      "source": [
        ""
      ],
      "execution_count": null,
      "outputs": []
    }
  ]
}